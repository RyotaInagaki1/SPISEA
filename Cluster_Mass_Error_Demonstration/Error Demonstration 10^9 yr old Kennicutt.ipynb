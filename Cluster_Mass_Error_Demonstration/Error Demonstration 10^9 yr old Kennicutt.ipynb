{
 "cells": [
  {
   "cell_type": "markdown",
   "metadata": {},
   "source": [
    "## Testing the BPASS cluster at 10^9 years age.\n",
    "Here, I try to create a 10000 solar mass BPASS cluster and ResolvedCluster. **This is to demonstrate the issue I have with the mass-matching inside of the Binary_Cluster implementation. It does not consistently produce a cluster of initial mass equal to the intended quantity specified by users.**"
   ]
  },
  {
   "cell_type": "code",
   "execution_count": null,
   "metadata": {
    "scrolled": true
   },
   "outputs": [],
   "source": [
    "import spisea\n",
    "from spisea import evolution, synthetic\n",
    "import math\n",
    "# Check if the evolution class works fine\n",
    "import time\n",
    "import numpy as np\n",
    "t1=time.time()\n",
    "bps=evolution.BPASS()\n",
    "iso1=synthetic.Isochrone_Binary(9.0, 0.7, 100,math.log10(1), mass_sampling=1)"
   ]
  },
  {
   "cell_type": "code",
   "execution_count": null,
   "metadata": {},
   "outputs": [],
   "source": [
    "iso1.primaries[np.where(iso1.primaries['mass']< 0)]"
   ]
  },
  {
   "cell_type": "code",
   "execution_count": null,
   "metadata": {},
   "outputs": [],
   "source": [
    "iso1.secondaries[np.where(iso1.secondaries['mass'] < 0)]"
   ]
  },
  {
   "cell_type": "code",
   "execution_count": null,
   "metadata": {},
   "outputs": [],
   "source": [
    "iso1.secondaries[np.where(iso1.singles['mass'] < 0)]"
   ]
  },
  {
   "cell_type": "markdown",
   "metadata": {},
   "source": [
    "Now I create the non-BPASS isochrone to generate the non-BPASS resolved cluster, whose cluster mass I will compare."
   ]
  },
  {
   "cell_type": "code",
   "execution_count": null,
   "metadata": {},
   "outputs": [],
   "source": [
    "iso2=synthetic.IsochronePhot(9.0, 0.7, 100, math.log10(1), mass_sampling =1 , recomp=True) # New MIST v.1 isochrone for same metallicity"
   ]
  },
  {
   "cell_type": "code",
   "execution_count": null,
   "metadata": {},
   "outputs": [],
   "source": [
    "from spisea import imf\n",
    "from spisea.imf import imf, multiplicity\n",
    "from spisea import ifmr"
   ]
  },
  {
   "cell_type": "markdown",
   "metadata": {},
   "source": [
    "Make the clusters corresponding to the binary star isochrone and the MISTv.1 isochrone"
   ]
  },
  {
   "cell_type": "code",
   "execution_count": null,
   "metadata": {},
   "outputs": [],
   "source": [
    "clus_1=synthetic.Binary_Cluster(iso1, imf.IMFSalpeter1955(multiplicity=multiplicity.MultiplicityResolvedDK()), 10000, ifmr=ifmr.IFMR_Spera15())\n",
    "clus_2=synthetic.ResolvedCluster(iso2, imf.IMFSalpeter1955(multiplicity=multiplicity.MultiplicityUnresolved()), 10000, ifmr=ifmr.IFMR_Spera15())"
   ]
  },
  {
   "cell_type": "markdown",
   "metadata": {},
   "source": [
    "Let's make sure that I am getting just about enough star mass for my cluster. (It was a bug before I used an adjustment factor.)"
   ]
  },
  {
   "cell_type": "code",
   "execution_count": null,
   "metadata": {},
   "outputs": [],
   "source": [
    "clus_1.star_systems['systemMass'].sum()"
   ]
  },
  {
   "cell_type": "markdown",
   "metadata": {},
   "source": [
    "Now I try to create a distribution of the initial cluster masses for Binary_Cluster objects generated a 100 times."
   ]
  },
  {
   "cell_type": "code",
   "execution_count": null,
   "metadata": {},
   "outputs": [],
   "source": [
    "arr =[]\n",
    "for x in range(100):\n",
    "    clus_1=synthetic.Binary_Cluster(iso1, imf.IMFSalpeter1955(multiplicity=multiplicity.MultiplicityResolvedDK()), 10000, ifmr=ifmr.IFMR_Spera15())\n",
    "    arr.append(clus_1.star_systems['systemMass'].sum())"
   ]
  },
  {
   "cell_type": "code",
   "execution_count": null,
   "metadata": {},
   "outputs": [],
   "source": [
    "import matplotlib.pyplot as plt\n",
    "hist, bins, patch = plt.hist(np.array(arr), bins=30, histtype='step', label='BPASS clusters with x mass')\n",
    "plt.title(\"BPASS cluster mass distribution (# of models within mass bin over mass)\")\n",
    "plt.xlabel(\"initial mass of BPASS cluster in solar masses\")\n",
    "plt.legend()"
   ]
  },
  {
   "cell_type": "code",
   "execution_count": null,
   "metadata": {},
   "outputs": [],
   "source": [
    "hist, bins, patch = plt.hist(clus_1.star_systems['systemMass'], bins=30, histtype='step', label='BPASS')\n",
    "plt.hist(clus_2.star_systems['systemMass'], bins=bins, histtype='step', label='MISTv.1')\n",
    "plt.yscale('log')\n",
    "plt.title(\"mass distribution plots of the cluster system masses on logarithmic scale of the horizontal axis.\")\n",
    "plt.xlabel(\"initial mass in solar masses\")\n",
    "plt.legend()"
   ]
  },
  {
   "cell_type": "code",
   "execution_count": null,
   "metadata": {},
   "outputs": [],
   "source": [
    "hist, bins, patch = plt.hist(clus_1.star_systems['mass'], bins=30, histtype='step', label='BPASS')\n",
    "plt.hist(clus_2.star_systems['mass'], bins=bins, histtype='step', label='MISTv.1')\n",
    "plt.title(\"mass distribution plots of the cluster single stars on logarithmic scale of the horizontal axis.\")\n",
    "plt.xlabel(\"initial mass in solar masses\")\n",
    "plt.yscale('log')\n",
    "plt.legend()"
   ]
  },
  {
   "cell_type": "code",
   "execution_count": null,
   "metadata": {},
   "outputs": [],
   "source": [
    "import matplotlib.pyplot as plt\n",
    "plt.hist(clus_1.star_systems['systemMass'], bins=30)\n",
    "plt.xlabel(\"initial mass in solar masses\")\n",
    "plt.yscale('log')"
   ]
  },
  {
   "cell_type": "code",
   "execution_count": null,
   "metadata": {},
   "outputs": [],
   "source": [
    "hist, bins, patch = plt.hist(clus_1.companions['mass'], bins=30, histtype='step', label='BPASS')\n",
    "plt.hist(clus_2.companions['mass'], bins=30, histtype='step', label='MISTv.1')\n",
    "plt.yscale('log')\n",
    "plt.xlabel(\"initial mass in solar masses\")\n",
    "plt.title(\"mass distribution plots of the cluster companion stars on logarithmic scale of the horizontal axis.\")\n",
    "plt.legend()"
   ]
  },
  {
   "cell_type": "code",
   "execution_count": null,
   "metadata": {},
   "outputs": [],
   "source": [
    "# Please compare me with the MIST v1 cluster mass\n",
    "clus_2.star_systems['systemMass'].sum()"
   ]
  },
  {
   "cell_type": "code",
   "execution_count": null,
   "metadata": {},
   "outputs": [],
   "source": [
    "import matplotlib.pyplot as plt\n",
    "plt.hist(iso1.primaries['mass'], bins=30)\n",
    "plt.yscale('log')\n",
    "plt.xlabel(\"initial mass in solar masses\")\n",
    "plt.title(\"mass distribution plots of the isochrone_binary's primaries on logarithmic scale of the horizontal axis.\")"
   ]
  },
  {
   "cell_type": "code",
   "execution_count": null,
   "metadata": {},
   "outputs": [],
   "source": [
    "import matplotlib.pyplot as plt\n",
    "plt.hist(iso1.singles['mass'], bins=30)\n",
    "plt.yscale('log')\n",
    "plt.xlabel(\"initial mass in solar masses\")\n",
    "plt.title(\"mass distribution plots of the isochrone_binary's singles on logarithmic scale of the horizontal axis.\")"
   ]
  },
  {
   "cell_type": "code",
   "execution_count": null,
   "metadata": {},
   "outputs": [],
   "source": [
    "import matplotlib.pyplot as plt\n",
    "plt.hist(iso1.secondaries['mass'], bins=30)\n",
    "plt.yscale('log')\n",
    "plt.xlabel(\"initial mass in solar masses\")\n",
    "plt.title(\"mass distribution plots of the isochrone_binary's secondaries on logarithmic scale of the horizontal axis.\")"
   ]
  },
  {
   "cell_type": "code",
   "execution_count": null,
   "metadata": {},
   "outputs": [],
   "source": [
    "import numpy as np\n",
    "np.where(iso1.secondaries['mass']>iso1.primaries['mass'])"
   ]
  },
  {
   "cell_type": "code",
   "execution_count": null,
   "metadata": {},
   "outputs": [],
   "source": [
    "np.unique(iso1.primaries[np.where(iso1.secondaries['mass']>iso1.primaries['mass'])]['source'])"
   ]
  },
  {
   "cell_type": "markdown",
   "metadata": {},
   "source": [
    "Now, how much mass does the clus_2 (MIST v1) cluster have? Is this too far off from clus_1's mass?"
   ]
  },
  {
   "cell_type": "code",
   "execution_count": null,
   "metadata": {},
   "outputs": [],
   "source": [
    "clus_2.star_systems['systemMass'].sum()"
   ]
  }
 ],
 "metadata": {
  "kernelspec": {
   "display_name": "astroconda",
   "language": "python",
   "name": "astroconda"
  },
  "language_info": {
   "codemirror_mode": {
    "name": "ipython",
    "version": 3
   },
   "file_extension": ".py",
   "mimetype": "text/x-python",
   "name": "python",
   "nbconvert_exporter": "python",
   "pygments_lexer": "ipython3",
   "version": "3.7.3"
  }
 },
 "nbformat": 4,
 "nbformat_minor": 2
}
