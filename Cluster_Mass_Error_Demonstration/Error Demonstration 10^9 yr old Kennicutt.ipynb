{
 "cells": [
  {
   "cell_type": "markdown",
   "metadata": {},
   "source": [
    "## Testing the BPASS cluster at 10^9 years age.\n",
    "Here, I try to create a 10000 solar mass BPASS cluster and ResolvedCluster. **This is to demonstrate the issue I have with the mass-matching inside of the Binary_Cluster implementation.**"
   ]
  },
  {
   "cell_type": "code",
   "execution_count": 1,
   "metadata": {
    "scrolled": true
   },
   "outputs": [
    {
     "name": "stderr",
     "output_type": "stream",
     "text": [
      "/opt/anaconda3/envs/astroconda/lib/python3.7/site-packages/pysynphot/locations.py:346: UserWarning: Extinction files not found in /g/lu/models/cdbs/extinction\n",
      "  warnings.warn('Extinction files not found in %s' % (extdir, ))\n",
      "/opt/anaconda3/envs/astroconda/lib/python3.7/site-packages/pysynphot/refs.py:125: UserWarning: No thermal tables found, no thermal calculations can be performed. No files found for /g/lu/models/cdbs/mtab/*_tmt.fits\n",
      "  'no thermal calculations can be performed. ' + str(e))\n",
      "/opt/anaconda3/envs/astroconda/lib/python3.7/site-packages/astropy/units/quantity.py:477: RuntimeWarning: invalid value encountered in true_divide\n",
      "  result = super().__array_ufunc__(function, method, *arrays, **kwargs)\n",
      "/u/ryotainagaki/Desktop/PyPopStar/spisea/evolution.py:1794: RuntimeWarning: overflow encountered in power\n",
      "  (1 / cs.au) * un.m)\n",
      "/opt/anaconda3/envs/astroconda/lib/python3.7/site-packages/astropy/table/column.py:1020: RuntimeWarning: invalid value encountered in greater\n",
      "  result = getattr(super(), op)(other)\n",
      "/opt/anaconda3/envs/astroconda/lib/python3.7/site-packages/astropy/units/quantity.py:477: RuntimeWarning: divide by zero encountered in true_divide\n",
      "  result = super().__array_ufunc__(function, method, *arrays, **kwargs)\n"
     ]
    },
    {
     "name": "stdout",
     "output_type": "stream",
     "text": [
      "Changing to logg=5.00 for T= 23286 logg=5.78\n",
      "Changing to logg=5.00 for T= 17733 logg=5.24\n",
      "Changing to logg=5.00 for T= 24377 logg=5.87\n",
      "Changing to logg=5.00 for T= 24403 logg=5.91\n",
      "Changing to logg=5.00 for T= 26316 logg=5.57\n",
      "Changing to logg=5.00 for T= 26930 logg=5.65\n",
      "Changing to logg=5.00 for T= 24518 logg=6.01\n",
      "Changing to logg=5.00 for T= 25618 logg=5.53\n",
      "Changing to logg=5.00 for T= 26119 logg=5.75\n",
      "Changing to logg=5.00 for T= 24305 logg=6.01\n",
      "Changing to logg=5.00 for T= 26134 logg=5.73\n",
      "Changing to logg=5.00 for T= 16799 logg=5.12\n",
      "Changing to logg=5.00 for T= 20198 logg=5.51\n",
      "Changing to logg=5.00 for T= 27134 logg=5.64\n",
      "Changing to logg=5.00 for T= 26114 logg=5.72\n",
      "Changing to logg=5.00 for T= 24452 logg=5.99\n",
      "Changing to logg=5.00 for T= 22084 logg=5.78\n",
      "Changing to logg=5.00 for T= 22961 logg=5.92\n",
      "Changing to logg=5.00 for T= 21333 logg=5.59\n",
      "Changing to logg=5.00 for T= 23774 logg=6.99\n",
      "Changing to logg=5.00 for T= 23264 logg=5.77\n",
      "Changing to logg=5.00 for T= 23096 logg=5.56\n",
      "Changing to logg=5.00 for T= 27240 logg=5.65\n",
      "Changing to logg=5.00 for T= 22114 logg=5.26\n",
      "Changing to logg=5.00 for T= 26757 logg=5.79\n",
      "Changing to logg=5.00 for T= 20983 logg=5.17\n",
      "Changing to logg=5.00 for T= 26427 logg=5.72\n",
      "Changing to logg=5.00 for T= 22135 logg=6.94\n",
      "Changing to logg=5.00 for T= 24306 logg=5.43\n",
      "Changing to logg=5.00 for T= 24820 logg=6.17\n",
      "Changing to logg=5.00 for T= 24008 logg=6.91\n",
      "Changing to logg=5.00 for T= 27188 logg=5.67\n",
      "Changing to logg=5.00 for T= 21570 logg=5.64\n",
      "Changing to logg=5.00 for T= 25553 logg=5.87\n",
      "Changing to logg=5.00 for T= 18719 logg=5.30\n",
      "Changing to logg=5.00 for T= 25509 logg=5.94\n",
      "Changing to logg=5.00 for T= 25707 logg=5.88\n",
      "Changing to logg=5.00 for T= 22982 logg=5.76\n",
      "Changing to logg=5.00 for T= 24495 logg=5.62\n",
      "Changing to logg=5.00 for T= 23626 logg=5.99\n",
      "Changing to logg=5.00 for T= 17042 logg=5.14\n",
      "Changing to logg=5.00 for T= 24739 logg=6.19\n",
      "Changing to logg=5.00 for T= 25963 logg=5.80\n",
      "Changing to logg=5.00 for T= 23984 logg=6.88\n",
      "Changing to logg=5.00 for T= 19593 logg=6.97\n",
      "Changing to logg=5.00 for T= 24124 logg=5.48\n",
      "Changing to logg=5.00 for T= 25973 logg=5.55\n",
      "Changing to logg=5.00 for T= 21304 logg=5.48\n",
      "Changing to logg=5.00 for T= 26020 logg=5.81\n",
      "Changing to logg=5.00 for T= 25999 logg=5.76\n",
      "Changing to logg=5.00 for T= 22646 logg=5.73\n",
      "Changing to logg=5.00 for T= 25848 logg=5.79\n",
      "Changing to logg=5.00 for T= 26959 logg=5.63\n",
      "Changing to logg=5.00 for T= 27359 logg=5.67\n",
      "Changing to logg=5.00 for T= 26907 logg=5.63\n",
      "Changing to logg=5.00 for T= 21104 logg=5.60\n",
      "Changing to logg=5.00 for T= 26100 logg=5.77\n",
      "Changing to logg=5.00 for T= 22179 logg=5.92\n",
      "Changing to logg=5.00 for T= 22891 logg=5.32\n",
      "Changing to logg=5.00 for T= 21139 logg=5.58\n",
      "Changing to logg=5.00 for T= 24444 logg=5.91\n",
      "Changing to logg=5.00 for T= 20689 logg=5.14\n",
      "Changing to logg=5.00 for T= 26317 logg=5.76\n",
      "Changing to logg=5.00 for T= 26494 logg=5.69\n",
      "Changing to logg=5.00 for T= 17875 logg=5.24\n",
      "Changing to logg=5.00 for T= 18636 logg=5.32\n",
      "Changing to logg=5.00 for T= 25863 logg=5.74\n",
      "Changing to logg=5.00 for T= 24009 logg=5.86\n",
      "Changing to logg=5.00 for T= 21888 logg=5.45\n",
      "Changing to logg=5.00 for T= 23501 logg=5.37\n",
      "Changing to logg=5.00 for T= 26095 logg=5.78\n",
      "Changing to logg=5.00 for T= 27193 logg=5.64\n",
      "Changing to logg=5.00 for T= 26146 logg=5.79\n",
      "Changing to logg=5.00 for T= 22008 logg=7.09\n",
      "Changing to logg=5.00 for T= 24403 logg=5.88\n",
      "Changing to logg=5.00 for T= 19749 logg=5.03\n",
      "Changing to logg=5.00 for T= 26204 logg=5.71\n",
      "Changing to logg=5.00 for T= 26196 logg=5.70\n",
      "Changing to logg=5.00 for T= 22245 logg=6.65\n",
      "Changing to logg=5.00 for T= 25914 logg=5.89\n",
      "Changing to logg=5.00 for T= 21142 logg=5.20\n",
      "Changing to logg=5.00 for T= 24186 logg=5.42\n",
      "Making photometry for isochrone: log(t) = 9.00  AKs = 0.70  dist = 100\n",
      "     Starting at:  2021-01-08 01:19:55.007527   Usually takes ~5 minutes\n",
      "Starting filter: ubv,U   Elapsed time: 0.00 seconds\n",
      "Starting synthetic photometry\n",
      "Singles\n",
      "M =   1.440 Msun  T =  6673 K  m_ubv_U = 19.68\n",
      "M =   3.200 Msun  T = 10963 K  m_ubv_U = 27.99\n",
      "Primaries\n",
      "M =   0.398 Msun  T =   nan K  m_ubv_U =  nan\n",
      "M =   3.200 Msun  T = 11170 K  m_ubv_U = 28.18\n",
      "M =   1.000 Msun  T =   nan K  m_ubv_U =  nan\n",
      "M =   2.000 Msun  T =  7188 K  m_ubv_U = 17.80\n",
      "M =   1.000 Msun  T =   nan K  m_ubv_U =  nan\n",
      "M =   5.000 Msun  T = 11503 K  m_ubv_U = 28.39\n",
      "M =   0.631 Msun  T =   nan K  m_ubv_U =  nan\n",
      "M =   1.259 Msun  T =   nan K  m_ubv_U =  nan\n",
      "M =   0.794 Msun  T =   nan K  m_ubv_U =  nan\n",
      "M =   3.200 Msun  T = 10978 K  m_ubv_U = 27.99\n",
      "M =   1.400 Msun  T =   nan K  m_ubv_U =  nan\n",
      "M =   4.000 Msun  T = 11435 K  m_ubv_U = 28.17\n",
      "M =   2.000 Msun  T =  7250 K  m_ubv_U = 17.80\n",
      "M =   2.100 Msun  T =  6638 K  m_ubv_U = 17.64\n",
      "M =   3.500 Msun  T = 12654 K  m_ubv_U = 28.16\n",
      "M =   1.700 Msun  T =  7133 K  m_ubv_U = 17.86\n",
      "M =   1.800 Msun  T =  7355 K  m_ubv_U = 18.42\n",
      "M =   2.000 Msun  T =  7250 K  m_ubv_U = 17.80\n",
      "M =   1.400 Msun  T =   nan K  m_ubv_U =  nan\n",
      "M =   2.700 Msun  T = 12885 K  m_ubv_U = 28.17\n",
      "M =   4.500 Msun  T = 10856 K  m_ubv_U = 28.39\n",
      "M =   1.400 Msun  T =   nan K  m_ubv_U =  nan\n",
      "M =   1.600 Msun  T =  7037 K  m_ubv_U = 19.08\n",
      "M =   1.700 Msun  T =  7242 K  m_ubv_U = 18.75\n",
      "M =   0.631 Msun  T =   nan K  m_ubv_U =  nan\n",
      "M =   7.943 Msun  T =  2739 K  m_ubv_U = 33.22\n",
      "M =   0.631 Msun  T =   nan K  m_ubv_U =  nan\n",
      "M =   4.000 Msun  T = 10127 K  m_ubv_U = 28.26\n",
      "M =   1.200 Msun  T =  6151 K  m_ubv_U = 20.85\n",
      "M =   2.000 Msun  T =  7250 K  m_ubv_U = 17.80\n",
      "M =   1.900 Msun  T =  7312 K  m_ubv_U = 18.07\n",
      "M =   0.794 Msun  T =   nan K  m_ubv_U =  nan\n",
      "M =   2.000 Msun  T =  7188 K  m_ubv_U = 17.80\n",
      "M =   1.700 Msun  T =  7246 K  m_ubv_U = 18.74\n",
      "M =   1.800 Msun  T =  7355 K  m_ubv_U = 18.42\n",
      "M =   4.000 Msun  T = 11144 K  m_ubv_U = 28.23\n",
      "M =   3.000 Msun  T = 11468 K  m_ubv_U = 27.77\n",
      "M =   0.501 Msun  T =   nan K  m_ubv_U =  nan\n",
      "M =   5.012 Msun  T =  2739 K  m_ubv_U = 33.22\n",
      "M =   3.700 Msun  T = 12543 K  m_ubv_U = 28.16\n",
      "M =   3.200 Msun  T = 10973 K  m_ubv_U = 27.99\n",
      "M =   2.000 Msun  T =  7250 K  m_ubv_U = 17.80\n",
      "M =   1.800 Msun  T =  7355 K  m_ubv_U = 18.42\n",
      "M =   5.000 Msun  T = 10786 K  m_ubv_U = 28.41\n",
      "Secondaries\n",
      "M =   1.900 Msun  T =  7266 K  m_ubv_U = 17.88\n",
      "M =   0.320 Msun  T =   nan K  m_ubv_U =  nan\n",
      "M =   2.300 Msun  T =  4923 K  m_ubv_U = 17.30\n",
      "M =   0.200 Msun  T =  3299 K  m_ubv_U = 29.80\n",
      "M =   3.500 Msun  T = 11388 K  m_ubv_U = 27.96\n",
      "M =   3.000 Msun  T = 12026 K  m_ubv_U = 15.93\n",
      "M =   1.900 Msun  T =  7266 K  m_ubv_U = 17.88\n",
      "M =   4.500 Msun  T = 11882 K  m_ubv_U = 28.16\n",
      "M =   2.500 Msun  T = 17317 K  m_ubv_U = 26.55\n",
      "M =   2.880 Msun  T =  8175 K  m_ubv_U = 15.62\n",
      "M =   3.700 Msun  T = 11133 K  m_ubv_U = 28.18\n",
      "M =   3.600 Msun  T =  9273 K  m_ubv_U = 14.60\n",
      "M =   1.000 Msun  T =  5608 K  m_ubv_U = 21.96\n",
      "M =   0.420 Msun  T =  2424 K  m_ubv_U = 30.76\n",
      "M =   1.750 Msun  T =   nan K  m_ubv_U =  nan\n",
      "M =   0.170 Msun  T =   nan K  m_ubv_U =  nan\n",
      "M =   1.620 Msun  T =  7460 K  m_ubv_U = 18.71\n",
      "M =   1.200 Msun  T =  6207 K  m_ubv_U = 20.65\n",
      "M =   7.000 Msun  T = 17765 K  m_ubv_U = 28.78\n",
      "M =   1.350 Msun  T =   nan K  m_ubv_U =  nan\n",
      "M =   4.050 Msun  T = 10873 K  m_ubv_U = 13.74\n",
      "M =   2.500 Msun  T = 15710 K  m_ubv_U = 18.08\n",
      "M =   0.960 Msun  T =  5540 K  m_ubv_U = 21.88\n",
      "M =   0.680 Msun  T =  3924 K  m_ubv_U = 25.25\n",
      "M =   2.000 Msun  T =  7152 K  m_ubv_U = 17.60\n",
      "M =  40.000 Msun  T = 10250 K  m_ubv_U = 26.90\n",
      "M =   3.500 Msun  T = 11388 K  m_ubv_U = 27.96\n",
      "M =   1.200 Msun  T =  5961 K  m_ubv_U = 20.86\n",
      "M =   0.600 Msun  T =  3462 K  m_ubv_U = 26.66\n",
      "M =   0.600 Msun  T =  3950 K  m_ubv_U = 26.04\n",
      "M =   0.570 Msun  T =  3878 K  m_ubv_U = 26.34\n",
      "M =   3.000 Msun  T = 11498 K  m_ubv_U = 27.77\n",
      "M =   1.400 Msun  T =  6747 K  m_ubv_U = 19.64\n",
      "M =   0.340 Msun  T =  1962 K  m_ubv_U = 33.22\n",
      "M =   0.720 Msun  T =  4155 K  m_ubv_U = 24.64\n",
      "M =   2.000 Msun  T =  7108 K  m_ubv_U = 17.60\n",
      "M =   1.500 Msun  T =  7084 K  m_ubv_U = 19.30\n",
      "M =   1.200 Msun  T =  6155 K  m_ubv_U = 20.66\n",
      "M =   7.000 Msun  T = 17707 K  m_ubv_U = 28.78\n",
      "M =   0.740 Msun  T =   nan K  m_ubv_U =  nan\n",
      "M =   1.920 Msun  T =  8764 K  m_ubv_U = 17.86\n",
      "M =   1.800 Msun  T =  7808 K  m_ubv_U = 18.08\n",
      "M =   0.900 Msun  T =  5193 K  m_ubv_U = 22.45\n",
      "M =   4.000 Msun  T = 11312 K  m_ubv_U = 13.81\n",
      "Starting filter: ubv,V   Elapsed time: 26.91 seconds\n"
     ]
    },
    {
     "name": "stdout",
     "output_type": "stream",
     "text": [
      "Starting synthetic photometry\n",
      "Singles\n",
      "M =   1.440 Msun  T =  6673 K  m_ubv_V = 18.36\n",
      "M =   3.200 Msun  T = 10963 K  m_ubv_V = 27.51\n",
      "Primaries\n",
      "M =   0.398 Msun  T =   nan K  m_ubv_V =  nan\n",
      "M =   3.200 Msun  T = 11170 K  m_ubv_V = 27.73\n",
      "M =   1.000 Msun  T =   nan K  m_ubv_V =  nan\n",
      "M =   2.000 Msun  T =  7188 K  m_ubv_V = 16.54\n",
      "M =   1.000 Msun  T =   nan K  m_ubv_V =  nan\n",
      "M =   5.000 Msun  T = 11503 K  m_ubv_V = 27.98\n",
      "M =   0.631 Msun  T =   nan K  m_ubv_V =  nan\n",
      "M =   1.259 Msun  T =   nan K  m_ubv_V =  nan\n",
      "M =   0.794 Msun  T =   nan K  m_ubv_V =  nan\n",
      "M =   3.200 Msun  T = 10978 K  m_ubv_V = 27.51\n",
      "M =   1.400 Msun  T =   nan K  m_ubv_V =  nan\n",
      "M =   4.000 Msun  T = 11435 K  m_ubv_V = 27.74\n",
      "M =   2.000 Msun  T =  7250 K  m_ubv_V = 16.55\n",
      "M =   2.100 Msun  T =  6638 K  m_ubv_V = 16.26\n",
      "M =   3.500 Msun  T = 12654 K  m_ubv_V = 27.82\n",
      "M =   1.700 Msun  T =  7133 K  m_ubv_V = 16.59\n",
      "M =   1.800 Msun  T =  7355 K  m_ubv_V = 17.20\n",
      "M =   2.000 Msun  T =  7250 K  m_ubv_V = 16.55\n",
      "M =   1.400 Msun  T =   nan K  m_ubv_V =  nan\n",
      "M =   2.700 Msun  T = 12885 K  m_ubv_V = 27.84\n",
      "M =   4.500 Msun  T = 10856 K  m_ubv_V = 27.93\n",
      "M =   1.400 Msun  T =   nan K  m_ubv_V =  nan\n",
      "M =   1.600 Msun  T =  7037 K  m_ubv_V = 17.83\n",
      "M =   1.700 Msun  T =  7242 K  m_ubv_V = 17.52\n",
      "M =   0.631 Msun  T =   nan K  m_ubv_V =  nan\n",
      "M =   7.943 Msun  T =  2739 K  m_ubv_V = 29.80\n",
      "M =   0.631 Msun  T =   nan K  m_ubv_V =  nan\n",
      "M =   4.000 Msun  T = 10127 K  m_ubv_V = 27.75\n",
      "M =   1.200 Msun  T =  6151 K  m_ubv_V = 19.34\n",
      "M =   2.000 Msun  T =  7250 K  m_ubv_V = 16.55\n",
      "M =   1.900 Msun  T =  7312 K  m_ubv_V = 16.84\n",
      "M =   0.794 Msun  T =   nan K  m_ubv_V =  nan\n",
      "M =   2.000 Msun  T =  7188 K  m_ubv_V = 16.54\n",
      "M =   1.700 Msun  T =  7246 K  m_ubv_V = 17.52\n",
      "M =   1.800 Msun  T =  7355 K  m_ubv_V = 17.20\n",
      "M =   4.000 Msun  T = 11144 K  m_ubv_V = 27.78\n",
      "M =   3.000 Msun  T = 11468 K  m_ubv_V = 27.31\n",
      "M =   0.501 Msun  T =   nan K  m_ubv_V =  nan\n",
      "M =   5.012 Msun  T =  2739 K  m_ubv_V = 29.80\n",
      "M =   3.700 Msun  T = 12543 K  m_ubv_V = 27.81\n",
      "M =   3.200 Msun  T = 10973 K  m_ubv_V = 27.51\n",
      "M =   2.000 Msun  T =  7250 K  m_ubv_V = 16.55\n",
      "M =   1.800 Msun  T =  7355 K  m_ubv_V = 17.20\n",
      "M =   5.000 Msun  T = 10786 K  m_ubv_V = 27.95\n",
      "Secondaries\n",
      "M =   1.900 Msun  T =  7266 K  m_ubv_V = 16.98\n",
      "M =   0.320 Msun  T =   nan K  m_ubv_V =  nan\n",
      "M =   2.300 Msun  T =  4923 K  m_ubv_V = 15.43\n",
      "M =   0.200 Msun  T =  3299 K  m_ubv_V = 26.72\n",
      "M =   3.500 Msun  T = 11388 K  m_ubv_V = 27.51\n",
      "M =   3.000 Msun  T = 12026 K  m_ubv_V = 15.82\n",
      "M =   1.900 Msun  T =  7266 K  m_ubv_V = 16.98\n",
      "M =   4.500 Msun  T = 11882 K  m_ubv_V = 27.76\n",
      "M =   2.500 Msun  T = 17317 K  m_ubv_V = 26.44\n",
      "M =   2.880 Msun  T =  8175 K  m_ubv_V = 14.95\n",
      "M =   3.700 Msun  T = 11133 K  m_ubv_V = 27.73\n",
      "M =   3.600 Msun  T =  9273 K  m_ubv_V = 14.14\n",
      "M =   1.000 Msun  T =  5608 K  m_ubv_V = 20.45\n",
      "M =   0.420 Msun  T =  2424 K  m_ubv_V = 27.31\n",
      "M =   1.750 Msun  T =   nan K  m_ubv_V =  nan\n",
      "M =   0.170 Msun  T =   nan K  m_ubv_V =  nan\n",
      "M =   1.620 Msun  T =  7460 K  m_ubv_V = 17.86\n",
      "M =   1.200 Msun  T =  6207 K  m_ubv_V = 19.40\n",
      "M =   7.000 Msun  T = 17765 K  m_ubv_V = 28.75\n",
      "M =   1.350 Msun  T =   nan K  m_ubv_V =  nan\n",
      "M =   4.050 Msun  T = 10873 K  m_ubv_V = 13.51\n",
      "M =   2.500 Msun  T = 15710 K  m_ubv_V = 18.23\n",
      "M =   0.960 Msun  T =  5540 K  m_ubv_V = 20.34\n",
      "M =   0.680 Msun  T =  3924 K  m_ubv_V = 22.69\n",
      "M =   2.000 Msun  T =  7152 K  m_ubv_V = 16.67\n",
      "M =  40.000 Msun  T = 10250 K  m_ubv_V = 26.24\n",
      "M =   3.500 Msun  T = 11388 K  m_ubv_V = 27.51\n",
      "M =   1.200 Msun  T =  5961 K  m_ubv_V = 19.51\n",
      "M =   0.600 Msun  T =  3462 K  m_ubv_V = 23.72\n",
      "M =   0.600 Msun  T =  3950 K  m_ubv_V = 23.49\n",
      "M =   0.570 Msun  T =  3878 K  m_ubv_V = 23.74\n",
      "M =   3.000 Msun  T = 11498 K  m_ubv_V = 27.31\n",
      "M =   1.400 Msun  T =  6747 K  m_ubv_V = 18.58\n",
      "M =   0.340 Msun  T =  1962 K  m_ubv_V = 30.01\n",
      "M =   0.720 Msun  T =  4155 K  m_ubv_V = 22.26\n",
      "M =   2.000 Msun  T =  7108 K  m_ubv_V = 16.66\n",
      "M =   1.500 Msun  T =  7084 K  m_ubv_V = 18.34\n",
      "M =   1.200 Msun  T =  6155 K  m_ubv_V = 19.39\n",
      "M =   7.000 Msun  T = 17707 K  m_ubv_V = 28.74\n",
      "M =   0.740 Msun  T =   nan K  m_ubv_V =  nan\n",
      "M =   1.920 Msun  T =  8764 K  m_ubv_V = 17.30\n",
      "M =   1.800 Msun  T =  7808 K  m_ubv_V = 17.32\n",
      "M =   0.900 Msun  T =  5193 K  m_ubv_V = 20.74\n",
      "M =   4.000 Msun  T = 11312 K  m_ubv_V = 13.62\n",
      "Starting filter: ubv,B   Elapsed time: 53.08 seconds\n",
      "Starting synthetic photometry\n",
      "Singles\n",
      "M =   1.440 Msun  T =  6673 K  m_ubv_B = 19.76\n",
      "M =   3.200 Msun  T = 10963 K  m_ubv_B = 28.56\n",
      "Primaries\n",
      "M =   0.398 Msun  T =   nan K  m_ubv_B =  nan\n",
      "M =   3.200 Msun  T = 11170 K  m_ubv_B = 28.78\n",
      "M =   1.000 Msun  T =   nan K  m_ubv_B =  nan\n",
      "M =   2.000 Msun  T =  7188 K  m_ubv_B = 17.78\n",
      "M =   1.000 Msun  T =   nan K  m_ubv_B =  nan\n",
      "M =   5.000 Msun  T = 11503 K  m_ubv_B = 29.02\n",
      "M =   0.631 Msun  T =   nan K  m_ubv_B =  nan\n",
      "M =   1.259 Msun  T =   nan K  m_ubv_B =  nan\n",
      "M =   0.794 Msun  T =   nan K  m_ubv_B =  nan\n",
      "M =   3.200 Msun  T = 10978 K  m_ubv_B = 28.56\n",
      "M =   1.400 Msun  T =   nan K  m_ubv_B =  nan\n",
      "M =   4.000 Msun  T = 11435 K  m_ubv_B = 28.78\n",
      "M =   2.000 Msun  T =  7250 K  m_ubv_B = 17.78\n",
      "M =   2.100 Msun  T =  6638 K  m_ubv_B = 17.63\n",
      "M =   3.500 Msun  T = 12654 K  m_ubv_B = 28.82\n",
      "M =   1.700 Msun  T =  7133 K  m_ubv_B = 17.84\n",
      "M =   1.800 Msun  T =  7355 K  m_ubv_B = 18.42\n",
      "M =   2.000 Msun  T =  7250 K  m_ubv_B = 17.78\n",
      "M =   1.400 Msun  T =   nan K  m_ubv_B =  nan\n",
      "M =   2.700 Msun  T = 12885 K  m_ubv_B = 28.84\n",
      "M =   4.500 Msun  T = 10856 K  m_ubv_B = 28.99\n",
      "M =   1.400 Msun  T =   nan K  m_ubv_B =  nan\n",
      "M =   1.600 Msun  T =  7037 K  m_ubv_B = 19.12\n",
      "M =   1.700 Msun  T =  7242 K  m_ubv_B = 18.77\n",
      "M =   0.631 Msun  T =   nan K  m_ubv_B =  nan\n",
      "M =   7.943 Msun  T =  2739 K  m_ubv_B = 33.10\n",
      "M =   0.631 Msun  T =   nan K  m_ubv_B =  nan\n",
      "M =   4.000 Msun  T = 10127 K  m_ubv_B = 28.83\n",
      "M =   1.200 Msun  T =  6151 K  m_ubv_B = 20.90\n",
      "M =   2.000 Msun  T =  7250 K  m_ubv_B = 17.78\n",
      "M =   1.900 Msun  T =  7312 K  m_ubv_B = 18.06\n",
      "M =   0.794 Msun  T =   nan K  m_ubv_B =  nan\n",
      "M =   2.000 Msun  T =  7188 K  m_ubv_B = 17.78\n",
      "M =   1.700 Msun  T =  7246 K  m_ubv_B = 18.76\n",
      "M =   1.800 Msun  T =  7355 K  m_ubv_B = 18.42\n",
      "M =   4.000 Msun  T = 11144 K  m_ubv_B = 28.83\n",
      "M =   3.000 Msun  T = 11468 K  m_ubv_B = 28.34\n",
      "M =   0.501 Msun  T =   nan K  m_ubv_B =  nan\n",
      "M =   5.012 Msun  T =  2739 K  m_ubv_B = 33.10\n",
      "M =   3.700 Msun  T = 12543 K  m_ubv_B = 28.81\n",
      "M =   3.200 Msun  T = 10973 K  m_ubv_B = 28.56\n",
      "M =   2.000 Msun  T =  7250 K  m_ubv_B = 17.78\n",
      "M =   1.800 Msun  T =  7355 K  m_ubv_B = 18.42\n",
      "M =   5.000 Msun  T = 10786 K  m_ubv_B = 29.02\n",
      "Secondaries\n",
      "M =   1.900 Msun  T =  7266 K  m_ubv_B = 18.36\n",
      "M =   0.320 Msun  T =   nan K  m_ubv_B =  nan\n",
      "M =   2.300 Msun  T =  4923 K  m_ubv_B = 17.38\n",
      "M =   0.200 Msun  T =  3299 K  m_ubv_B = 29.53\n",
      "M =   3.500 Msun  T = 11388 K  m_ubv_B = 28.55\n",
      "M =   3.000 Msun  T = 12026 K  m_ubv_B = 16.74\n",
      "M =   1.900 Msun  T =  7266 K  m_ubv_B = 18.36\n",
      "M =   4.500 Msun  T = 11882 K  m_ubv_B = 28.78\n",
      "M =   2.500 Msun  T = 17317 K  m_ubv_B = 27.25\n",
      "M =   2.880 Msun  T =  8175 K  m_ubv_B = 16.20\n",
      "M =   3.700 Msun  T = 11133 K  m_ubv_B = 28.78\n",
      "M =   3.600 Msun  T =  9273 K  m_ubv_B = 15.26\n",
      "M =   1.000 Msun  T =  5608 K  m_ubv_B = 22.18\n",
      "M =   0.420 Msun  T =  2424 K  m_ubv_B = 30.95\n",
      "M =   1.750 Msun  T =   nan K  m_ubv_B =  nan\n",
      "M =   0.170 Msun  T =   nan K  m_ubv_B =  nan\n",
      "M =   1.620 Msun  T =  7460 K  m_ubv_B = 19.21\n",
      "M =   1.200 Msun  T =  6207 K  m_ubv_B = 20.98\n",
      "M =   7.000 Msun  T = 17765 K  m_ubv_B = 29.63\n",
      "M =   1.350 Msun  T =   nan K  m_ubv_B =  nan\n",
      "M =   4.050 Msun  T = 10873 K  m_ubv_B = 14.51\n",
      "M =   2.500 Msun  T = 15710 K  m_ubv_B = 19.01\n",
      "M =   0.960 Msun  T =  5540 K  m_ubv_B = 22.10\n",
      "M =   0.680 Msun  T =  3924 K  m_ubv_B = 25.09\n",
      "M =   2.000 Msun  T =  7152 K  m_ubv_B = 18.07\n",
      "M =  40.000 Msun  T = 10250 K  m_ubv_B = 27.29\n",
      "M =   3.500 Msun  T = 11388 K  m_ubv_B = 28.55\n",
      "M =   1.200 Msun  T =  5961 K  m_ubv_B = 21.15\n",
      "M =   0.600 Msun  T =  3462 K  m_ubv_B = 26.41\n",
      "M =   0.600 Msun  T =  3950 K  m_ubv_B = 25.88\n",
      "M =   0.570 Msun  T =  3878 K  m_ubv_B = 26.17\n",
      "M =   3.000 Msun  T = 11498 K  m_ubv_B = 28.34\n",
      "M =   1.400 Msun  T =  6747 K  m_ubv_B = 20.05\n",
      "M =   0.340 Msun  T =  1962 K  m_ubv_B = 34.21\n",
      "M =   0.720 Msun  T =  4155 K  m_ubv_B = 24.54\n",
      "M =   2.000 Msun  T =  7108 K  m_ubv_B = 18.06\n"
     ]
    },
    {
     "name": "stdout",
     "output_type": "stream",
     "text": [
      "M =   1.500 Msun  T =  7084 K  m_ubv_B = 19.75\n",
      "M =   1.200 Msun  T =  6155 K  m_ubv_B = 20.99\n",
      "M =   7.000 Msun  T = 17707 K  m_ubv_B = 29.62\n",
      "M =   0.740 Msun  T =   nan K  m_ubv_B =  nan\n",
      "M =   1.920 Msun  T =  8764 K  m_ubv_B = 18.48\n",
      "M =   1.800 Msun  T =  7808 K  m_ubv_B = 18.62\n",
      "M =   0.900 Msun  T =  5193 K  m_ubv_B = 22.60\n",
      "M =   4.000 Msun  T = 11312 K  m_ubv_B = 14.59\n",
      "Starting filter: ubv,R   Elapsed time: 80.18 seconds\n",
      "Starting synthetic photometry\n",
      "Singles\n",
      "M =   1.440 Msun  T =  6673 K  m_ubv_R = 15.49\n",
      "M =   3.200 Msun  T = 10963 K  m_ubv_R = 24.87\n",
      "Primaries\n",
      "M =   0.398 Msun  T =   nan K  m_ubv_R =  nan\n",
      "M =   3.200 Msun  T = 11170 K  m_ubv_R = 25.09\n",
      "M =   1.000 Msun  T =   nan K  m_ubv_R =  nan\n",
      "M =   2.000 Msun  T =  7188 K  m_ubv_R = 13.74\n",
      "M =   1.000 Msun  T =   nan K  m_ubv_R =  nan\n",
      "M =   5.000 Msun  T = 11503 K  m_ubv_R = 25.35\n",
      "M =   0.631 Msun  T =   nan K  m_ubv_R =  nan\n",
      "M =   1.259 Msun  T =   nan K  m_ubv_R =  nan\n",
      "M =   0.794 Msun  T =   nan K  m_ubv_R =  nan\n",
      "M =   3.200 Msun  T = 10978 K  m_ubv_R = 24.87\n",
      "M =   1.400 Msun  T =   nan K  m_ubv_R =  nan\n",
      "M =   4.000 Msun  T = 11435 K  m_ubv_R = 25.11\n",
      "M =   2.000 Msun  T =  7250 K  m_ubv_R = 13.75\n",
      "M =   2.100 Msun  T =  6638 K  m_ubv_R = 13.39\n",
      "M =   3.500 Msun  T = 12654 K  m_ubv_R = 25.23\n",
      "M =   1.700 Msun  T =  7133 K  m_ubv_R = 13.78\n",
      "M =   1.800 Msun  T =  7355 K  m_ubv_R = 14.41\n",
      "M =   2.000 Msun  T =  7250 K  m_ubv_R = 13.75\n",
      "M =   1.400 Msun  T =   nan K  m_ubv_R =  nan\n",
      "M =   2.700 Msun  T = 12885 K  m_ubv_R = 25.26\n",
      "M =   4.500 Msun  T = 10856 K  m_ubv_R = 25.28\n",
      "M =   1.400 Msun  T =   nan K  m_ubv_R =  nan\n",
      "M =   1.600 Msun  T =  7037 K  m_ubv_R = 15.00\n",
      "M =   1.700 Msun  T =  7242 K  m_ubv_R = 14.72\n",
      "M =   0.631 Msun  T =   nan K  m_ubv_R =  nan\n",
      "M =   7.943 Msun  T =  2739 K  m_ubv_R = 25.90\n",
      "M =   0.631 Msun  T =   nan K  m_ubv_R =  nan\n",
      "M =   4.000 Msun  T = 10127 K  m_ubv_R = 25.06\n",
      "M =   1.200 Msun  T =  6151 K  m_ubv_R = 16.40\n",
      "M =   2.000 Msun  T =  7250 K  m_ubv_R = 13.75\n",
      "M =   1.900 Msun  T =  7312 K  m_ubv_R = 14.05\n",
      "M =   0.794 Msun  T =   nan K  m_ubv_R =  nan\n",
      "M =   2.000 Msun  T =  7188 K  m_ubv_R = 13.74\n",
      "M =   1.700 Msun  T =  7246 K  m_ubv_R = 14.71\n",
      "M =   1.800 Msun  T =  7355 K  m_ubv_R = 14.41\n",
      "M =   4.000 Msun  T = 11144 K  m_ubv_R = 25.14\n",
      "M =   3.000 Msun  T = 11468 K  m_ubv_R = 24.69\n",
      "M =   0.501 Msun  T =   nan K  m_ubv_R =  nan\n",
      "M =   5.012 Msun  T =  2739 K  m_ubv_R = 25.90\n",
      "M =   3.700 Msun  T = 12543 K  m_ubv_R = 25.21\n",
      "M =   3.200 Msun  T = 10973 K  m_ubv_R = 24.87\n",
      "M =   2.000 Msun  T =  7250 K  m_ubv_R = 13.75\n",
      "M =   1.800 Msun  T =  7355 K  m_ubv_R = 14.41\n",
      "M =   5.000 Msun  T = 10786 K  m_ubv_R = 25.30\n",
      "Secondaries\n",
      "M =   1.900 Msun  T =  7266 K  m_ubv_R = 14.09\n",
      "M =   0.320 Msun  T =   nan K  m_ubv_R =  nan\n",
      "M =   2.300 Msun  T =  4923 K  m_ubv_R = 12.26\n",
      "M =   0.200 Msun  T =  3299 K  m_ubv_R = 23.10\n",
      "M =   3.500 Msun  T = 11388 K  m_ubv_R = 24.89\n",
      "M =   3.000 Msun  T = 12026 K  m_ubv_R = 13.13\n",
      "M =   1.900 Msun  T =  7266 K  m_ubv_R = 14.09\n",
      "M =   4.500 Msun  T = 11882 K  m_ubv_R = 25.15\n",
      "M =   2.500 Msun  T = 17317 K  m_ubv_R = 23.91\n",
      "M =   2.880 Msun  T =  8175 K  m_ubv_R = 12.12\n",
      "M =   3.700 Msun  T = 11133 K  m_ubv_R = 25.09\n",
      "M =   3.600 Msun  T =  9273 K  m_ubv_R = 11.36\n",
      "M =   1.000 Msun  T =  5608 K  m_ubv_R = 17.38\n",
      "M =   0.420 Msun  T =  2424 K  m_ubv_R = 23.19\n",
      "M =   1.750 Msun  T =   nan K  m_ubv_R =  nan\n",
      "M =   0.170 Msun  T =   nan K  m_ubv_R =  nan\n",
      "M =   1.620 Msun  T =  7460 K  m_ubv_R = 14.98\n",
      "M =   1.200 Msun  T =  6207 K  m_ubv_R = 16.41\n",
      "M =   7.000 Msun  T = 17765 K  m_ubv_R = 26.22\n",
      "M =   1.350 Msun  T =   nan K  m_ubv_R =  nan\n",
      "M =   4.050 Msun  T = 10873 K  m_ubv_R = 10.79\n",
      "M =   2.500 Msun  T = 15710 K  m_ubv_R = 15.61\n",
      "M =   0.960 Msun  T =  5540 K  m_ubv_R = 17.27\n",
      "M =   0.680 Msun  T =  3924 K  m_ubv_R = 19.29\n",
      "M =   2.000 Msun  T =  7152 K  m_ubv_R = 13.76\n",
      "M =  40.000 Msun  T = 10250 K  m_ubv_R = 23.59\n",
      "M =   3.500 Msun  T = 11388 K  m_ubv_R = 24.89\n",
      "M =   1.200 Msun  T =  5961 K  m_ubv_R = 16.49\n",
      "M =   0.600 Msun  T =  3462 K  m_ubv_R = 20.16\n",
      "M =   0.600 Msun  T =  3950 K  m_ubv_R = 20.10\n",
      "M =   0.570 Msun  T =  3878 K  m_ubv_R = 20.32\n",
      "M =   3.000 Msun  T = 11498 K  m_ubv_R = 24.69\n",
      "M =   1.400 Msun  T =  6747 K  m_ubv_R = 15.64\n",
      "M =   0.340 Msun  T =  1962 K  m_ubv_R = 25.45\n",
      "M =   0.720 Msun  T =  4155 K  m_ubv_R = 18.91\n",
      "M =   2.000 Msun  T =  7108 K  m_ubv_R = 13.75\n",
      "M =   1.500 Msun  T =  7084 K  m_ubv_R = 15.43\n",
      "M =   1.200 Msun  T =  6155 K  m_ubv_R = 16.39\n",
      "M =   7.000 Msun  T = 17707 K  m_ubv_R = 26.22\n",
      "M =   0.740 Msun  T =   nan K  m_ubv_R =  nan\n",
      "M =   1.920 Msun  T =  8764 K  m_ubv_R = 14.51\n",
      "M =   1.800 Msun  T =  7808 K  m_ubv_R = 14.47\n",
      "M =   0.900 Msun  T =  5193 K  m_ubv_R = 17.61\n",
      "M =   4.000 Msun  T = 11312 K  m_ubv_R = 10.92\n",
      "Starting filter: ubv,I   Elapsed time: 107.47 seconds\n",
      "Starting synthetic photometry\n",
      "Singles\n",
      "M =   1.440 Msun  T =  6673 K  m_ubv_I = 11.75\n",
      "M =   3.200 Msun  T = 10963 K  m_ubv_I = 21.39\n",
      "Primaries\n",
      "M =   0.398 Msun  T =   nan K  m_ubv_I =  nan\n",
      "M =   3.200 Msun  T = 11170 K  m_ubv_I = 21.62\n",
      "M =   1.000 Msun  T =   nan K  m_ubv_I =  nan\n",
      "M =   2.000 Msun  T =  7188 K  m_ubv_I = 10.05\n",
      "M =   1.000 Msun  T =   nan K  m_ubv_I =  nan\n",
      "M =   5.000 Msun  T = 11503 K  m_ubv_I = 21.89\n",
      "M =   0.631 Msun  T =   nan K  m_ubv_I =  nan\n",
      "M =   1.259 Msun  T =   nan K  m_ubv_I =  nan\n",
      "M =   0.794 Msun  T =   nan K  m_ubv_I =  nan\n",
      "M =   3.200 Msun  T = 10978 K  m_ubv_I = 21.39\n",
      "M =   1.400 Msun  T =   nan K  m_ubv_I =  nan\n",
      "M =   4.000 Msun  T = 11435 K  m_ubv_I = 21.65\n",
      "M =   2.000 Msun  T =  7250 K  m_ubv_I = 10.07\n",
      "M =   2.100 Msun  T =  6638 K  m_ubv_I = 9.65\n",
      "M =   3.500 Msun  T = 12654 K  m_ubv_I = 21.80\n",
      "M =   1.700 Msun  T =  7133 K  m_ubv_I = 10.09\n",
      "M =   1.800 Msun  T =  7355 K  m_ubv_I = 10.74\n",
      "M =   2.000 Msun  T =  7250 K  m_ubv_I = 10.07\n",
      "M =   1.400 Msun  T =   nan K  m_ubv_I =  nan\n",
      "M =   2.700 Msun  T = 12885 K  m_ubv_I = 21.84\n",
      "M =   4.500 Msun  T = 10856 K  m_ubv_I = 21.80\n",
      "M =   1.400 Msun  T =   nan K  m_ubv_I =  nan\n",
      "M =   1.600 Msun  T =  7037 K  m_ubv_I = 11.30\n",
      "M =   1.700 Msun  T =  7242 K  m_ubv_I = 11.04\n",
      "M =   0.631 Msun  T =   nan K  m_ubv_I =  nan\n",
      "M =   7.943 Msun  T =  2739 K  m_ubv_I = 21.09\n",
      "M =   0.631 Msun  T =   nan K  m_ubv_I =  nan\n",
      "M =   4.000 Msun  T = 10127 K  m_ubv_I = 21.54\n",
      "M =   1.200 Msun  T =  6151 K  m_ubv_I = 12.60\n",
      "M =   2.000 Msun  T =  7250 K  m_ubv_I = 10.07\n",
      "M =   1.900 Msun  T =  7312 K  m_ubv_I = 10.38\n",
      "M =   0.794 Msun  T =   nan K  m_ubv_I =  nan\n",
      "M =   2.000 Msun  T =  7188 K  m_ubv_I = 10.05\n",
      "M =   1.700 Msun  T =  7246 K  m_ubv_I = 11.03\n",
      "M =   1.800 Msun  T =  7355 K  m_ubv_I = 10.74\n",
      "M =   4.000 Msun  T = 11144 K  m_ubv_I = 21.67\n",
      "M =   3.000 Msun  T = 11468 K  m_ubv_I = 21.23\n",
      "M =   0.501 Msun  T =   nan K  m_ubv_I =  nan\n",
      "M =   5.012 Msun  T =  2739 K  m_ubv_I = 21.09\n",
      "M =   3.700 Msun  T = 12543 K  m_ubv_I = 21.79\n",
      "M =   3.200 Msun  T = 10973 K  m_ubv_I = 21.39\n",
      "M =   2.000 Msun  T =  7250 K  m_ubv_I = 10.07\n",
      "M =   1.800 Msun  T =  7355 K  m_ubv_I = 10.74\n",
      "M =   5.000 Msun  T = 10786 K  m_ubv_I = 21.81\n",
      "Secondaries\n",
      "M =   1.900 Msun  T =  7266 K  m_ubv_I = 10.39\n",
      "M =   0.320 Msun  T =   nan K  m_ubv_I =  nan\n",
      "M =   2.300 Msun  T =  4923 K  m_ubv_I = 8.25\n",
      "M =   0.200 Msun  T =  3299 K  m_ubv_I = 18.60\n",
      "M =   3.500 Msun  T = 11388 K  m_ubv_I = 21.43\n",
      "M =   3.000 Msun  T = 12026 K  m_ubv_I = 9.66\n",
      "M =   1.900 Msun  T =  7266 K  m_ubv_I = 10.39\n",
      "M =   4.500 Msun  T = 11882 K  m_ubv_I = 21.70\n",
      "M =   2.500 Msun  T = 17317 K  m_ubv_I = 20.56\n",
      "M =   2.880 Msun  T =  8175 K  m_ubv_I = 8.48\n",
      "M =   3.700 Msun  T = 11133 K  m_ubv_I = 21.62\n",
      "M =   3.600 Msun  T =  9273 K  m_ubv_I = 7.79\n",
      "M =   1.000 Msun  T =  5608 K  m_ubv_I = 13.49\n",
      "M =   0.420 Msun  T =  2424 K  m_ubv_I = 18.15\n",
      "M =   1.750 Msun  T =   nan K  m_ubv_I =  nan\n",
      "M =   0.170 Msun  T =   nan K  m_ubv_I =  nan\n",
      "M =   1.620 Msun  T =  7460 K  m_ubv_I = 11.29\n",
      "M =   1.200 Msun  T =  6207 K  m_ubv_I = 12.60\n",
      "M =   7.000 Msun  T = 17765 K  m_ubv_I = 22.87\n",
      "M =   1.350 Msun  T =   nan K  m_ubv_I =  nan\n",
      "M =   4.050 Msun  T = 10873 K  m_ubv_I = 7.28\n",
      "M =   2.500 Msun  T = 15710 K  m_ubv_I = 12.21\n",
      "M =   0.960 Msun  T =  5540 K  m_ubv_I = 13.37\n",
      "M =   0.680 Msun  T =  3924 K  m_ubv_I = 15.03\n",
      "M =   2.000 Msun  T =  7152 K  m_ubv_I = 10.05\n",
      "M =  40.000 Msun  T = 10250 K  m_ubv_I = 20.09\n",
      "M =   3.500 Msun  T = 11388 K  m_ubv_I = 21.43\n"
     ]
    },
    {
     "name": "stdout",
     "output_type": "stream",
     "text": [
      "M =   1.200 Msun  T =  5961 K  m_ubv_I = 12.65\n",
      "M =   0.600 Msun  T =  3462 K  m_ubv_I = 15.73\n",
      "M =   0.600 Msun  T =  3950 K  m_ubv_I = 15.85\n",
      "M =   0.570 Msun  T =  3878 K  m_ubv_I = 16.05\n",
      "M =   3.000 Msun  T = 11498 K  m_ubv_I = 21.24\n",
      "M =   1.400 Msun  T =  6747 K  m_ubv_I = 11.89\n",
      "M =   0.340 Msun  T =  1962 K  m_ubv_I = 19.95\n",
      "M =   0.720 Msun  T =  4155 K  m_ubv_I = 14.72\n",
      "M =   2.000 Msun  T =  7108 K  m_ubv_I = 10.03\n",
      "M =   1.500 Msun  T =  7084 K  m_ubv_I = 11.71\n",
      "M =   1.200 Msun  T =  6155 K  m_ubv_I = 12.58\n",
      "M =   7.000 Msun  T = 17707 K  m_ubv_I = 22.87\n",
      "M =   0.740 Msun  T =   nan K  m_ubv_I =  nan\n",
      "M =   1.920 Msun  T =  8764 K  m_ubv_I = 10.90\n",
      "M =   1.800 Msun  T =  7808 K  m_ubv_I = 10.80\n",
      "M =   0.900 Msun  T =  5193 K  m_ubv_I = 13.65\n",
      "M =   4.000 Msun  T = 11312 K  m_ubv_I = 7.43\n",
      "      Time taken: 134.25 seconds\n",
      "Isochrone generation took 370.792576 s.\n"
     ]
    }
   ],
   "source": [
    "import spisea\n",
    "from spisea import evolution, synthetic\n",
    "import math\n",
    "# Check if the evolution class works fine\n",
    "import time\n",
    "import numpy as np\n",
    "t1=time.time()\n",
    "bps=evolution.BPASS()\n",
    "iso1=synthetic.Isochrone_Binary(9.0, 0.7, 100,math.log10(1), mass_sampling=1, filepath='/g/lu/scratch/ryotainagaki/BPASS_iso_filesTimedIsolated/')"
   ]
  },
  {
   "cell_type": "code",
   "execution_count": 2,
   "metadata": {},
   "outputs": [
    {
     "data": {
      "text/html": [
       "<i>Table length=0</i>\n",
       "<table id=\"table140476448820808\" class=\"table-striped table-bordered table-condensed\">\n",
       "<thead><tr><th>mass</th><th>L</th><th>Teff</th><th>R</th><th>logg</th><th>isWR</th><th>mass_current</th><th>phase</th><th>source</th><th>m_ubv_U</th><th>m_ubv_V</th><th>m_ubv_B</th><th>m_ubv_R</th><th>m_ubv_I</th></tr></thead>\n",
       "<thead><tr><th>solMass</th><th>W</th><th>K</th><th>m</th><th></th><th></th><th>solMass</th><th></th><th></th><th></th><th></th><th></th><th></th><th></th></tr></thead>\n",
       "<thead><tr><th>float64</th><th>float64</th><th>float64</th><th>float64</th><th>float64</th><th>bool</th><th>float64</th><th>float64</th><th>int64</th><th>float64</th><th>float64</th><th>float64</th><th>float64</th><th>float64</th></tr></thead>\n",
       "</table>"
      ],
      "text/plain": [
       "<Table length=0>\n",
       "  mass     L      Teff     R      logg  ... m_ubv_V m_ubv_B m_ubv_R m_ubv_I\n",
       "solMass    W       K       m            ...                                \n",
       "float64 float64 float64 float64 float64 ... float64 float64 float64 float64\n",
       "------- ------- ------- ------- ------- ... ------- ------- ------- -------"
      ]
     },
     "execution_count": 2,
     "metadata": {},
     "output_type": "execute_result"
    }
   ],
   "source": [
    "iso1.primaries[np.where(iso1.primaries['mass']< 0)]"
   ]
  },
  {
   "cell_type": "code",
   "execution_count": 3,
   "metadata": {},
   "outputs": [
    {
     "data": {
      "text/html": [
       "<i>Table length=0</i>\n",
       "<table id=\"table140473252704720\" class=\"table-striped table-bordered table-condensed\">\n",
       "<thead><tr><th>mass</th><th>log_a</th><th>L</th><th>Teff</th><th>R</th><th>logg</th><th>isWR</th><th>mass_current</th><th>phase</th><th>merged</th><th>source</th><th>m_ubv_U</th><th>m_ubv_V</th><th>m_ubv_B</th><th>m_ubv_R</th><th>m_ubv_I</th></tr></thead>\n",
       "<thead><tr><th>solMass</th><th></th><th>W</th><th>K</th><th>m</th><th></th><th></th><th>solMass</th><th></th><th></th><th></th><th></th><th></th><th></th><th></th><th></th></tr></thead>\n",
       "<thead><tr><th>float64</th><th>float64</th><th>float64</th><th>float64</th><th>float64</th><th>float64</th><th>bool</th><th>float64</th><th>float64</th><th>bool</th><th>int64</th><th>float64</th><th>float64</th><th>float64</th><th>float64</th><th>float64</th></tr></thead>\n",
       "</table>"
      ],
      "text/plain": [
       "<Table length=0>\n",
       "  mass   log_a     L      Teff     R    ... m_ubv_V m_ubv_B m_ubv_R m_ubv_I\n",
       "solMass            W       K       m    ...                                \n",
       "float64 float64 float64 float64 float64 ... float64 float64 float64 float64\n",
       "------- ------- ------- ------- ------- ... ------- ------- ------- -------"
      ]
     },
     "execution_count": 3,
     "metadata": {},
     "output_type": "execute_result"
    }
   ],
   "source": [
    "iso1.secondaries[np.where(iso1.secondaries['mass'] < 0)]"
   ]
  },
  {
   "cell_type": "code",
   "execution_count": 4,
   "metadata": {},
   "outputs": [
    {
     "data": {
      "text/html": [
       "<i>Table length=0</i>\n",
       "<table id=\"table140473252153776\" class=\"table-striped table-bordered table-condensed\">\n",
       "<thead><tr><th>mass</th><th>log_a</th><th>L</th><th>Teff</th><th>R</th><th>logg</th><th>isWR</th><th>mass_current</th><th>phase</th><th>merged</th><th>source</th><th>m_ubv_U</th><th>m_ubv_V</th><th>m_ubv_B</th><th>m_ubv_R</th><th>m_ubv_I</th></tr></thead>\n",
       "<thead><tr><th>solMass</th><th></th><th>W</th><th>K</th><th>m</th><th></th><th></th><th>solMass</th><th></th><th></th><th></th><th></th><th></th><th></th><th></th><th></th></tr></thead>\n",
       "<thead><tr><th>float64</th><th>float64</th><th>float64</th><th>float64</th><th>float64</th><th>float64</th><th>bool</th><th>float64</th><th>float64</th><th>bool</th><th>int64</th><th>float64</th><th>float64</th><th>float64</th><th>float64</th><th>float64</th></tr></thead>\n",
       "</table>"
      ],
      "text/plain": [
       "<Table length=0>\n",
       "  mass   log_a     L      Teff     R    ... m_ubv_V m_ubv_B m_ubv_R m_ubv_I\n",
       "solMass            W       K       m    ...                                \n",
       "float64 float64 float64 float64 float64 ... float64 float64 float64 float64\n",
       "------- ------- ------- ------- ------- ... ------- ------- ------- -------"
      ]
     },
     "execution_count": 4,
     "metadata": {},
     "output_type": "execute_result"
    }
   ],
   "source": [
    "iso1.secondaries[np.where(iso1.singles['mass'] < 0)]"
   ]
  },
  {
   "cell_type": "markdown",
   "metadata": {},
   "source": [
    "For a sanity check, we can see that the primaries, secondaries, and single stars have phasees of 5 or of 101. Note that we will have a phase of 110 in order to indicate a mystery compact remnant that BPASS provides for NEWSECMODS (secondary star models with compact primaries). This is since we haven't added neutron stars or black holes yet. Stars with phase of -99 exist, and those are the secondary stars that have already merged."
   ]
  },
  {
   "cell_type": "code",
   "execution_count": 5,
   "metadata": {},
   "outputs": [
    {
     "name": "stdout",
     "output_type": "stream",
     "text": [
      "Isochrone generation took 82.923034 s.\n",
      "Making photometry for isochrone: log(t) = 9.00  AKs = 0.70  dist = 100\n",
      "     Starting at:  2021-01-08 01:23:32.274266   Usually takes ~5 minutes\n",
      "Starting filter: ubv,U   Elapsed time: 0.00 seconds\n",
      "Starting synthetic photometry\n",
      "M =   0.106 Msun  T =  2909 K  m_ubv_U = 33.40\n",
      "M =   1.215 Msun  T =  6415 K  m_ubv_U = 20.55\n",
      "M =   2.038 Msun  T =  7816 K  m_ubv_U = 17.29\n",
      "M =   2.055 Msun  T =  4955 K  m_ubv_U = 19.05\n",
      "M =   2.071 Msun  T =  4749 K  m_ubv_U = 18.64\n",
      "M =   2.275 Msun  T =  4576 K  m_ubv_U = 18.06\n",
      "M =   2.287 Msun  T =  3677 K  m_ubv_U = 17.25\n",
      "M =   2.287 Msun  T =  3493 K  m_ubv_U = 17.19\n",
      "M =   2.287 Msun  T =  3478 K  m_ubv_U = 17.19\n",
      "M =   2.288 Msun  T =  3244 K  m_ubv_U = 17.39\n",
      "M =   2.288 Msun  T =  3188 K  m_ubv_U = 17.69\n",
      "M =   2.288 Msun  T = 29326 K  m_ubv_U = 12.80\n",
      "M =   2.288 Msun  T = 134813 K  m_ubv_U = 17.53\n",
      "Starting filter: ubv,B   Elapsed time: 3.20 seconds\n",
      "Starting synthetic photometry\n",
      "M =   0.106 Msun  T =  2909 K  m_ubv_B = 33.52\n",
      "M =   1.215 Msun  T =  6415 K  m_ubv_B = 20.63\n",
      "M =   2.038 Msun  T =  7816 K  m_ubv_B = 17.21\n",
      "M =   2.055 Msun  T =  4955 K  m_ubv_B = 18.57\n",
      "M =   2.071 Msun  T =  4749 K  m_ubv_B = 17.98\n",
      "M =   2.275 Msun  T =  4576 K  m_ubv_B = 17.26\n",
      "M =   2.287 Msun  T =  3677 K  m_ubv_B = 16.33\n",
      "M =   2.287 Msun  T =  3493 K  m_ubv_B = 16.54\n",
      "M =   2.287 Msun  T =  3478 K  m_ubv_B = 16.56\n",
      "M =   2.288 Msun  T =  3244 K  m_ubv_B = 17.33\n",
      "M =   2.288 Msun  T =  3188 K  m_ubv_B = 17.85\n",
      "M =   2.288 Msun  T = 29326 K  m_ubv_B = 13.88\n",
      "M =   2.288 Msun  T = 134813 K  m_ubv_B = 18.72\n",
      "Starting filter: ubv,V   Elapsed time: 6.33 seconds\n",
      "Starting synthetic photometry\n",
      "M =   0.106 Msun  T =  2909 K  m_ubv_V = 30.94\n",
      "M =   1.215 Msun  T =  6415 K  m_ubv_V = 19.16\n",
      "M =   2.038 Msun  T =  7816 K  m_ubv_V = 16.12\n",
      "M =   2.055 Msun  T =  4955 K  m_ubv_V = 16.52\n",
      "M =   2.071 Msun  T =  4749 K  m_ubv_V = 15.80\n",
      "M =   2.275 Msun  T =  4576 K  m_ubv_V = 14.98\n",
      "M =   2.287 Msun  T =  3677 K  m_ubv_V = 13.46\n",
      "M =   2.287 Msun  T =  3493 K  m_ubv_V = 13.68\n",
      "M =   2.287 Msun  T =  3478 K  m_ubv_V = 13.71\n",
      "M =   2.288 Msun  T =  3244 K  m_ubv_V = 14.82\n",
      "M =   2.288 Msun  T =  3188 K  m_ubv_V = 15.44\n",
      "M =   2.288 Msun  T = 29326 K  m_ubv_V = 13.30\n",
      "M =   2.288 Msun  T = 134813 K  m_ubv_V = 18.29\n",
      "Starting filter: ubv,R   Elapsed time: 9.49 seconds\n",
      "Starting synthetic photometry\n",
      "M =   0.106 Msun  T =  2909 K  m_ubv_R = 25.82\n",
      "M =   1.215 Msun  T =  6415 K  m_ubv_R = 16.25\n",
      "M =   2.038 Msun  T =  7816 K  m_ubv_R = 13.39\n",
      "M =   2.055 Msun  T =  4955 K  m_ubv_R = 13.40\n",
      "M =   2.071 Msun  T =  4749 K  m_ubv_R = 12.64\n",
      "M =   2.275 Msun  T =  4576 K  m_ubv_R = 11.77\n",
      "M =   2.287 Msun  T =  3677 K  m_ubv_R = 9.85\n",
      "M =   2.287 Msun  T =  3493 K  m_ubv_R = 9.72\n",
      "M =   2.287 Msun  T =  3478 K  m_ubv_R = 9.72\n",
      "M =   2.288 Msun  T =  3244 K  m_ubv_R = 9.98\n",
      "M =   2.288 Msun  T =  3188 K  m_ubv_R = 10.31\n",
      "M =   2.288 Msun  T = 29326 K  m_ubv_R = 10.78\n",
      "M =   2.288 Msun  T = 134813 K  m_ubv_R = 15.84\n",
      "Starting filter: ubv,I   Elapsed time: 12.72 seconds\n",
      "Starting synthetic photometry\n",
      "M =   0.106 Msun  T =  2909 K  m_ubv_I = 20.31\n",
      "M =   1.215 Msun  T =  6415 K  m_ubv_I = 12.48\n",
      "M =   2.038 Msun  T =  7816 K  m_ubv_I = 9.75\n",
      "M =   2.055 Msun  T =  4955 K  m_ubv_I = 9.42\n",
      "M =   2.071 Msun  T =  4749 K  m_ubv_I = 8.61\n",
      "M =   2.275 Msun  T =  4576 K  m_ubv_I = 7.70\n",
      "M =   2.287 Msun  T =  3677 K  m_ubv_I = 5.31\n",
      "M =   2.287 Msun  T =  3493 K  m_ubv_I = 4.87\n",
      "M =   2.287 Msun  T =  3478 K  m_ubv_I = 4.84\n",
      "M =   2.288 Msun  T =  3244 K  m_ubv_I = 4.46\n",
      "M =   2.288 Msun  T =  3188 K  m_ubv_I = 4.56\n",
      "M =   2.288 Msun  T = 29326 K  m_ubv_I = 7.48\n",
      "M =   2.288 Msun  T = 134813 K  m_ubv_I = 12.62\n",
      "      Time taken: 15.99 seconds\n"
     ]
    }
   ],
   "source": [
    "iso2=synthetic.IsochronePhot(9.0, 0.7, 100, math.log10(1), mass_sampling =1 , recomp=True) # New MIST v.1 isochrone for same metallicity"
   ]
  },
  {
   "cell_type": "code",
   "execution_count": 6,
   "metadata": {},
   "outputs": [],
   "source": [
    "from spisea import imf\n",
    "from spisea.imf import imf, multiplicity\n",
    "from spisea import ifmr"
   ]
  },
  {
   "cell_type": "markdown",
   "metadata": {},
   "source": [
    "Make the clusters corresponding to the binary star isochrone and the MISTv.1 isochrone"
   ]
  },
  {
   "cell_type": "code",
   "execution_count": 7,
   "metadata": {},
   "outputs": [
    {
     "name": "stderr",
     "output_type": "stream",
     "text": [
      "/u/ryotainagaki/Desktop/PyPopStar/spisea/synthetic.py:2977: RuntimeWarning: overflow encountered in power\n",
      "  10 ** iso.secondaries['log_a']])))\n",
      "/opt/anaconda3/envs/astroconda/lib/python3.7/site-packages/astropy/table/column.py:1020: RuntimeWarning: invalid value encountered in greater_equal\n",
      "  result = getattr(super(), op)(other)\n"
     ]
    },
    {
     "name": "stdout",
     "output_type": "stream",
     "text": [
      "736 star systems had to be deleted\n",
      "762 companions had to be deleted\n",
      "Found 167 companions out of stellar mass range\n"
     ]
    }
   ],
   "source": [
    "clus_1=synthetic.Cluster_w_Binaries(iso1, imf.IMFSalpeter1955(multiplicity=multiplicity.MultiplicityResolvedDK()), 10000, ifmr=ifmr.IFMR_Spera15())\n",
    "clus_2=synthetic.ResolvedCluster(iso2, imf.IMFSalpeter1955(multiplicity=multiplicity.MultiplicityUnresolved()), 10000, ifmr=ifmr.IFMR_Spera15())"
   ]
  },
  {
   "cell_type": "markdown",
   "metadata": {},
   "source": [
    "Let's make sure that I am getting just about enough star mass for my cluster. (It was a bug before I used an adjustment factor.)"
   ]
  },
  {
   "cell_type": "code",
   "execution_count": 8,
   "metadata": {},
   "outputs": [
    {
     "data": {
      "text/plain": [
       "6743.40950221685"
      ]
     },
     "execution_count": 8,
     "metadata": {},
     "output_type": "execute_result"
    }
   ],
   "source": [
    "clus_1.star_systems['systemMass'].sum()"
   ]
  },
  {
   "cell_type": "code",
   "execution_count": 9,
   "metadata": {},
   "outputs": [
    {
     "name": "stdout",
     "output_type": "stream",
     "text": [
      "690 star systems had to be deleted\n",
      "722 companions had to be deleted\n",
      "738 star systems had to be deleted\n",
      "772 companions had to be deleted\n",
      "736 star systems had to be deleted\n",
      "775 companions had to be deleted\n",
      "768 star systems had to be deleted\n",
      "802 companions had to be deleted\n",
      "704 star systems had to be deleted\n",
      "736 companions had to be deleted\n",
      "712 star systems had to be deleted\n",
      "750 companions had to be deleted\n",
      "746 star systems had to be deleted\n",
      "781 companions had to be deleted\n",
      "729 star systems had to be deleted\n",
      "759 companions had to be deleted\n",
      "699 star systems had to be deleted\n",
      "729 companions had to be deleted\n",
      "764 star systems had to be deleted\n",
      "811 companions had to be deleted\n",
      "728 star systems had to be deleted\n",
      "755 companions had to be deleted\n",
      "715 star systems had to be deleted\n",
      "749 companions had to be deleted\n",
      "758 star systems had to be deleted\n",
      "794 companions had to be deleted\n",
      "715 star systems had to be deleted\n",
      "755 companions had to be deleted\n",
      "711 star systems had to be deleted\n",
      "738 companions had to be deleted\n",
      "730 star systems had to be deleted\n",
      "752 companions had to be deleted\n",
      "743 star systems had to be deleted\n",
      "771 companions had to be deleted\n",
      "722 star systems had to be deleted\n",
      "752 companions had to be deleted\n",
      "697 star systems had to be deleted\n",
      "736 companions had to be deleted\n",
      "758 star systems had to be deleted\n",
      "799 companions had to be deleted\n",
      "697 star systems had to be deleted\n",
      "735 companions had to be deleted\n",
      "712 star systems had to be deleted\n",
      "740 companions had to be deleted\n",
      "708 star systems had to be deleted\n",
      "735 companions had to be deleted\n",
      "730 star systems had to be deleted\n",
      "767 companions had to be deleted\n",
      "723 star systems had to be deleted\n",
      "752 companions had to be deleted\n",
      "726 star systems had to be deleted\n",
      "765 companions had to be deleted\n",
      "746 star systems had to be deleted\n",
      "773 companions had to be deleted\n",
      "700 star systems had to be deleted\n",
      "743 companions had to be deleted\n",
      "724 star systems had to be deleted\n",
      "752 companions had to be deleted\n",
      "778 star systems had to be deleted\n",
      "808 companions had to be deleted\n",
      "708 star systems had to be deleted\n",
      "742 companions had to be deleted\n",
      "699 star systems had to be deleted\n",
      "726 companions had to be deleted\n",
      "703 star systems had to be deleted\n",
      "747 companions had to be deleted\n",
      "749 star systems had to be deleted\n",
      "778 companions had to be deleted\n",
      "685 star systems had to be deleted\n",
      "728 companions had to be deleted\n",
      "727 star systems had to be deleted\n",
      "772 companions had to be deleted\n",
      "728 star systems had to be deleted\n",
      "768 companions had to be deleted\n",
      "721 star systems had to be deleted\n",
      "758 companions had to be deleted\n",
      "718 star systems had to be deleted\n",
      "760 companions had to be deleted\n",
      "738 star systems had to be deleted\n",
      "774 companions had to be deleted\n",
      "751 star systems had to be deleted\n",
      "776 companions had to be deleted\n",
      "739 star systems had to be deleted\n",
      "781 companions had to be deleted\n",
      "695 star systems had to be deleted\n",
      "731 companions had to be deleted\n",
      "756 star systems had to be deleted\n",
      "794 companions had to be deleted\n",
      "740 star systems had to be deleted\n",
      "776 companions had to be deleted\n",
      "705 star systems had to be deleted\n",
      "735 companions had to be deleted\n",
      "744 star systems had to be deleted\n",
      "785 companions had to be deleted\n",
      "706 star systems had to be deleted\n",
      "742 companions had to be deleted\n",
      "700 star systems had to be deleted\n",
      "734 companions had to be deleted\n",
      "768 star systems had to be deleted\n",
      "802 companions had to be deleted\n",
      "699 star systems had to be deleted\n",
      "735 companions had to be deleted\n",
      "693 star systems had to be deleted\n",
      "713 companions had to be deleted\n",
      "701 star systems had to be deleted\n",
      "721 companions had to be deleted\n",
      "740 star systems had to be deleted\n",
      "771 companions had to be deleted\n",
      "719 star systems had to be deleted\n",
      "757 companions had to be deleted\n",
      "704 star systems had to be deleted\n",
      "745 companions had to be deleted\n",
      "734 star systems had to be deleted\n",
      "766 companions had to be deleted\n",
      "707 star systems had to be deleted\n",
      "731 companions had to be deleted\n",
      "752 star systems had to be deleted\n",
      "784 companions had to be deleted\n",
      "724 star systems had to be deleted\n",
      "744 companions had to be deleted\n",
      "729 star systems had to be deleted\n",
      "761 companions had to be deleted\n",
      "711 star systems had to be deleted\n",
      "749 companions had to be deleted\n",
      "773 star systems had to be deleted\n",
      "799 companions had to be deleted\n",
      "755 star systems had to be deleted\n",
      "783 companions had to be deleted\n",
      "711 star systems had to be deleted\n",
      "742 companions had to be deleted\n",
      "724 star systems had to be deleted\n",
      "755 companions had to be deleted\n",
      "687 star systems had to be deleted\n",
      "711 companions had to be deleted\n",
      "745 star systems had to be deleted\n",
      "781 companions had to be deleted\n",
      "752 star systems had to be deleted\n",
      "787 companions had to be deleted\n",
      "764 star systems had to be deleted\n",
      "798 companions had to be deleted\n",
      "702 star systems had to be deleted\n",
      "739 companions had to be deleted\n",
      "761 star systems had to be deleted\n",
      "793 companions had to be deleted\n",
      "757 star systems had to be deleted\n",
      "800 companions had to be deleted\n",
      "742 star systems had to be deleted\n",
      "769 companions had to be deleted\n",
      "741 star systems had to be deleted\n",
      "769 companions had to be deleted\n",
      "754 star systems had to be deleted\n",
      "787 companions had to be deleted\n",
      "738 star systems had to be deleted\n",
      "778 companions had to be deleted\n",
      "697 star systems had to be deleted\n",
      "731 companions had to be deleted\n",
      "718 star systems had to be deleted\n",
      "754 companions had to be deleted\n",
      "720 star systems had to be deleted\n",
      "746 companions had to be deleted\n",
      "711 star systems had to be deleted\n",
      "735 companions had to be deleted\n",
      "708 star systems had to be deleted\n",
      "746 companions had to be deleted\n",
      "753 star systems had to be deleted\n",
      "788 companions had to be deleted\n",
      "763 star systems had to be deleted\n",
      "797 companions had to be deleted\n",
      "696 star systems had to be deleted\n",
      "737 companions had to be deleted\n",
      "781 star systems had to be deleted\n",
      "824 companions had to be deleted\n",
      "761 star systems had to be deleted\n",
      "803 companions had to be deleted\n",
      "743 star systems had to be deleted\n",
      "776 companions had to be deleted\n",
      "735 star systems had to be deleted\n",
      "765 companions had to be deleted\n",
      "708 star systems had to be deleted\n",
      "745 companions had to be deleted\n",
      "753 star systems had to be deleted\n",
      "803 companions had to be deleted\n",
      "747 star systems had to be deleted\n",
      "788 companions had to be deleted\n",
      "722 star systems had to be deleted\n",
      "753 companions had to be deleted\n",
      "745 star systems had to be deleted\n",
      "777 companions had to be deleted\n",
      "765 star systems had to be deleted\n",
      "803 companions had to be deleted\n",
      "743 star systems had to be deleted\n",
      "772 companions had to be deleted\n",
      "688 star systems had to be deleted\n",
      "712 companions had to be deleted\n",
      "744 star systems had to be deleted\n",
      "777 companions had to be deleted\n",
      "699 star systems had to be deleted\n",
      "726 companions had to be deleted\n",
      "696 star systems had to be deleted\n",
      "729 companions had to be deleted\n"
     ]
    }
   ],
   "source": [
    "arr =[]\n",
    "for x in range(100):\n",
    "    clus_1=synthetic.Cluster_w_Binaries(iso1, imf.IMFSalpeter1955(multiplicity=multiplicity.MultiplicityResolvedDK()), 10000, ifmr=ifmr.IFMR_Spera15())\n",
    "    arr.append(clus_1.star_systems['systemMass'].sum())"
   ]
  },
  {
   "cell_type": "code",
   "execution_count": 10,
   "metadata": {},
   "outputs": [
    {
     "data": {
      "text/plain": [
       "<matplotlib.legend.Legend at 0x7fc2be7a4ba8>"
      ]
     },
     "execution_count": 10,
     "metadata": {},
     "output_type": "execute_result"
    },
    {
     "data": {
      "image/png": "[encoded data removed]",
      "text/plain": [
       "<Figure size 432x288 with 1 Axes>"
      ]
     },
     "metadata": {
      "needs_background": "light"
     },
     "output_type": "display_data"
    }
   ],
   "source": [
    "import matplotlib.pyplot as plt\n",
    "hist, bins, patch = plt.hist(np.array(arr), bins=30, histtype='step', label='BPASS clusters with x mass')\n",
    "plt.title(\"BPASS cluster mass distribution (# of models within mass bin over mass)\")\n",
    "plt.xlabel(\"initial mass of BPASS cluster in solar masses\")\n",
    "plt.legend()"
   ]
  },
  {
   "cell_type": "code",
   "execution_count": 11,
   "metadata": {},
   "outputs": [
    {
     "data": {
      "text/plain": [
       "<matplotlib.legend.Legend at 0x7fc28bfc3438>"
      ]
     },
     "execution_count": 11,
     "metadata": {},
     "output_type": "execute_result"
    },
    {
     "data": {
      "image/png": "[encoded data removed]",
      "text/plain": [
       "<Figure size 432x288 with 1 Axes>"
      ]
     },
     "metadata": {
      "needs_background": "light"
     },
     "output_type": "display_data"
    }
   ],
   "source": [
    "hist, bins, patch = plt.hist(clus_1.star_systems['systemMass'], bins=30, histtype='step', label='BPASS')\n",
    "plt.hist(clus_2.star_systems['systemMass'], bins=bins, histtype='step', label='MISTv.1')\n",
    "plt.yscale('log')\n",
    "plt.title(\"mass distribution plots of the cluster system masses on logarithmic scale of the horizontal axis.\")\n",
    "plt.xlabel(\"initial mass in solar masses\")\n",
    "plt.legend()"
   ]
  },
  {
   "cell_type": "code",
   "execution_count": 12,
   "metadata": {},
   "outputs": [
    {
     "data": {
      "text/plain": [
       "<matplotlib.legend.Legend at 0x7fc2d63b9d68>"
      ]
     },
     "execution_count": 12,
     "metadata": {},
     "output_type": "execute_result"
    },
    {
     "data": {
      "image/png": "[encoded data removed]",
      "text/plain": [
       "<Figure size 432x288 with 1 Axes>"
      ]
     },
     "metadata": {
      "needs_background": "light"
     },
     "output_type": "display_data"
    }
   ],
   "source": [
    "hist, bins, patch = plt.hist(clus_1.star_systems['mass'], bins=30, histtype='step', label='BPASS')\n",
    "plt.hist(clus_2.star_systems['mass'], bins=bins, histtype='step', label='MISTv.1')\n",
    "plt.title(\"mass distribution plots of the cluster single stars on logarithmic scale of the horizontal axis.\")\n",
    "plt.xlabel(\"initial mass in solar masses\")\n",
    "plt.yscale('log')\n",
    "plt.legend()"
   ]
  },
  {
   "cell_type": "code",
   "execution_count": 13,
   "metadata": {},
   "outputs": [
    {
     "data": {
      "image/png": "[encoded data removed]",
      "text/plain": [
       "<Figure size 432x288 with 1 Axes>"
      ]
     },
     "metadata": {
      "needs_background": "light"
     },
     "output_type": "display_data"
    }
   ],
   "source": [
    "import matplotlib.pyplot as plt\n",
    "plt.hist(clus_1.star_systems['systemMass'], bins=30)\n",
    "plt.xlabel(\"initial mass in solar masses\")\n",
    "plt.yscale('log')"
   ]
  },
  {
   "cell_type": "code",
   "execution_count": 14,
   "metadata": {},
   "outputs": [
    {
     "data": {
      "text/plain": [
       "<matplotlib.legend.Legend at 0x7fc27ba8ce80>"
      ]
     },
     "execution_count": 14,
     "metadata": {},
     "output_type": "execute_result"
    },
    {
     "data": {
      "image/png": "[encoded data removed]",
      "text/plain": [
       "<Figure size 432x288 with 1 Axes>"
      ]
     },
     "metadata": {
      "needs_background": "light"
     },
     "output_type": "display_data"
    }
   ],
   "source": [
    "hist, bins, patch = plt.hist(clus_1.companions['mass'], bins=30, histtype='step', label='BPASS')\n",
    "plt.hist(clus_2.companions['mass'], bins=30, histtype='step', label='MISTv.1')\n",
    "plt.yscale('log')\n",
    "plt.xlabel(\"initial mass in solar masses\")\n",
    "plt.title(\"mass distribution plots of the cluster companion stars on logarithmic scale of the horizontal axis.\")\n",
    "plt.legend()"
   ]
  },
  {
   "cell_type": "code",
   "execution_count": 15,
   "metadata": {},
   "outputs": [
    {
     "data": {
      "text/plain": [
       "9998.603789889334"
      ]
     },
     "execution_count": 15,
     "metadata": {},
     "output_type": "execute_result"
    }
   ],
   "source": [
    "# Please compare me with the MIST v1 cluster mass\n",
    "clus_2.star_systems['systemMass'].sum()"
   ]
  },
  {
   "cell_type": "code",
   "execution_count": 16,
   "metadata": {},
   "outputs": [
    {
     "data": {
      "text/plain": [
       "Text(0.5, 1.0, \"mass distribution plots of the isochrone_binary's primaries on logarithmic scale of the horizontal axis.\")"
      ]
     },
     "execution_count": 16,
     "metadata": {},
     "output_type": "execute_result"
    },
    {
     "data": {
      "image/png": "[encoded data removed]",
      "text/plain": [
       "<Figure size 432x288 with 1 Axes>"
      ]
     },
     "metadata": {
      "needs_background": "light"
     },
     "output_type": "display_data"
    }
   ],
   "source": [
    "import matplotlib.pyplot as plt\n",
    "plt.hist(iso1.primaries['mass'], bins=30)\n",
    "plt.yscale('log')\n",
    "plt.xlabel(\"initial mass in solar masses\")\n",
    "plt.title(\"mass distribution plots of the isochrone_binary's primaries on logarithmic scale of the horizontal axis.\")"
   ]
  },
  {
   "cell_type": "code",
   "execution_count": 17,
   "metadata": {},
   "outputs": [
    {
     "data": {
      "text/plain": [
       "Text(0.5, 1.0, \"mass distribution plots of the isochrone_binary's singles on logarithmic scale of the horizontal axis.\")"
      ]
     },
     "execution_count": 17,
     "metadata": {},
     "output_type": "execute_result"
    },
    {
     "data": {
      "image/png": "[encoded data removed]",
      "text/plain": [
       "<Figure size 432x288 with 1 Axes>"
      ]
     },
     "metadata": {
      "needs_background": "light"
     },
     "output_type": "display_data"
    }
   ],
   "source": [
    "import matplotlib.pyplot as plt\n",
    "plt.hist(iso1.singles['mass'], bins=30)\n",
    "plt.yscale('log')\n",
    "plt.xlabel(\"initial mass in solar masses\")\n",
    "plt.title(\"mass distribution plots of the isochrone_binary's singles on logarithmic scale of the horizontal axis.\")"
   ]
  },
  {
   "cell_type": "code",
   "execution_count": 18,
   "metadata": {},
   "outputs": [
    {
     "data": {
      "text/plain": [
       "Text(0.5, 1.0, \"mass distribution plots of the isochrone_binary's secondaries on logarithmic scale of the horizontal axis.\")"
      ]
     },
     "execution_count": 18,
     "metadata": {},
     "output_type": "execute_result"
    },
    {
     "data": {
      "image/png": "[encoded data removed]",
      "text/plain": [
       "<Figure size 432x288 with 1 Axes>"
      ]
     },
     "metadata": {
      "needs_background": "light"
     },
     "output_type": "display_data"
    }
   ],
   "source": [
    "import matplotlib.pyplot as plt\n",
    "plt.hist(iso1.secondaries['mass'], bins=30)\n",
    "plt.yscale('log')\n",
    "plt.xlabel(\"initial mass in solar masses\")\n",
    "plt.title(\"mass distribution plots of the isochrone_binary's secondaries on logarithmic scale of the horizontal axis.\")"
   ]
  },
  {
   "cell_type": "code",
   "execution_count": 19,
   "metadata": {},
   "outputs": [
    {
     "data": {
      "text/plain": [
       "(array([   0,    5,    6, ..., 4335, 4338, 4350]),)"
      ]
     },
     "execution_count": 19,
     "metadata": {},
     "output_type": "execute_result"
    }
   ],
   "source": [
    "import numpy as np\n",
    "np.where(iso1.secondaries['mass']>iso1.primaries['mass'])"
   ]
  },
  {
   "cell_type": "code",
   "execution_count": 20,
   "metadata": {},
   "outputs": [
    {
     "data": {
      "text/html": [
       "&lt;Column name=&apos;source&apos; dtype=&apos;int64&apos; length=3&gt;\n",
       "<table>\n",
       "<tr><td>2</td></tr>\n",
       "<tr><td>3</td></tr>\n",
       "<tr><td>4</td></tr>\n",
       "</table>"
      ],
      "text/plain": [
       "<Column name='source' dtype='int64' length=3>\n",
       "2\n",
       "3\n",
       "4"
      ]
     },
     "execution_count": 20,
     "metadata": {},
     "output_type": "execute_result"
    }
   ],
   "source": [
    "np.unique(iso1.primaries[np.where(iso1.secondaries['mass']>iso1.primaries['mass'])]['source'])"
   ]
  },
  {
   "cell_type": "code",
   "execution_count": 21,
   "metadata": {},
   "outputs": [
    {
     "data": {
      "text/plain": [
       "9998.603789889334"
      ]
     },
     "execution_count": 21,
     "metadata": {},
     "output_type": "execute_result"
    }
   ],
   "source": [
    "clus_2.star_systems['systemMass'].sum()"
   ]
  }
 ],
 "metadata": {
  "kernelspec": {
   "display_name": "astroconda",
   "language": "python",
   "name": "astroconda"
  },
  "language_info": {
   "codemirror_mode": {
    "name": "ipython",
    "version": 3
   },
   "file_extension": ".py",
   "mimetype": "text/x-python",
   "name": "python",
   "nbconvert_exporter": "python",
   "pygments_lexer": "ipython3",
   "version": "3.7.3"
  }
 },
 "nbformat": 4,
 "nbformat_minor": 2
}
