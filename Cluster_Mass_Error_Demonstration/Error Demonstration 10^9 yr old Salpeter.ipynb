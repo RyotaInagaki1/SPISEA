{
 "cells": [
  {
   "cell_type": "markdown",
   "metadata": {},
   "source": [
    "## Testing the BPASS cluster at 10^9 years age.\n",
    "Here, I try to create a 10000 solar mass BPASS cluster and ResolvedCluster. **This is to demonstrate the issue I have with the mass-matching inside of the Binary_Cluster implementation.**"
   ]
  },
  {
   "cell_type": "code",
   "execution_count": null,
   "metadata": {
    "scrolled": true
   },
   "outputs": [
    {
     "name": "stderr",
     "output_type": "stream",
     "text": [
      "/opt/anaconda3/envs/astroconda/lib/python3.7/site-packages/pysynphot/locations.py:346: UserWarning: Extinction files not found in /g/lu/models/cdbs/extinction\n",
      "  warnings.warn('Extinction files not found in %s' % (extdir, ))\n",
      "/opt/anaconda3/envs/astroconda/lib/python3.7/site-packages/pysynphot/refs.py:125: UserWarning: No thermal tables found, no thermal calculations can be performed. No files found for /g/lu/models/cdbs/mtab/*_tmt.fits\n",
      "  'no thermal calculations can be performed. ' + str(e))\n",
      "/opt/anaconda3/envs/astroconda/lib/python3.7/site-packages/astropy/units/quantity.py:477: RuntimeWarning: invalid value encountered in true_divide\n",
      "  result = super().__array_ufunc__(function, method, *arrays, **kwargs)\n",
      "/u/ryotainagaki/Desktop/PyPopStar/spisea/evolution.py:1771: RuntimeWarning: overflow encountered in power\n",
      "  (1 / cs.au) * un.m)\n",
      "/opt/anaconda3/envs/astroconda/lib/python3.7/site-packages/astropy/table/column.py:1020: RuntimeWarning: invalid value encountered in greater\n",
      "  result = getattr(super(), op)(other)\n",
      "/opt/anaconda3/envs/astroconda/lib/python3.7/site-packages/astropy/table/column.py:1020: RuntimeWarning: invalid value encountered in less_equal\n",
      "  result = getattr(super(), op)(other)\n",
      "/opt/anaconda3/envs/astroconda/lib/python3.7/site-packages/astropy/units/quantity.py:477: RuntimeWarning: divide by zero encountered in true_divide\n",
      "  result = super().__array_ufunc__(function, method, *arrays, **kwargs)\n"
     ]
    },
    {
     "name": "stdout",
     "output_type": "stream",
     "text": [
      "Changing to logg=5.00 for T= 25973 logg=5.55\n",
      "Changing to logg=5.00 for T= 24444 logg=5.91\n",
      "Changing to logg=5.00 for T= 22646 logg=5.73\n",
      "Changing to logg=5.00 for T= 23286 logg=5.78\n",
      "Changing to logg=5.00 for T= 21304 logg=5.48\n",
      "Changing to logg=5.00 for T= 21139 logg=5.58\n",
      "Changing to logg=5.00 for T= 19593 logg=6.97\n",
      "Changing to logg=5.00 for T= 24403 logg=5.91\n",
      "Changing to logg=5.00 for T= 22891 logg=5.32\n",
      "Changing to logg=5.00 for T= 27359 logg=5.67\n",
      "Changing to logg=5.00 for T= 24009 logg=5.86\n",
      "Changing to logg=5.00 for T= 25914 logg=5.89\n",
      "Changing to logg=5.00 for T= 22008 logg=7.09\n",
      "Changing to logg=5.00 for T= 21142 logg=5.20\n",
      "Changing to logg=5.00 for T= 27134 logg=5.64\n",
      "Changing to logg=5.00 for T= 24403 logg=5.88\n",
      "Changing to logg=5.00 for T= 27193 logg=5.64\n",
      "Changing to logg=5.00 for T= 22961 logg=5.92\n",
      "Changing to logg=5.00 for T= 26959 logg=5.63\n",
      "Changing to logg=5.00 for T= 16799 logg=5.12\n",
      "Changing to logg=5.00 for T= 24306 logg=5.43\n",
      "Changing to logg=5.00 for T= 26427 logg=5.72\n",
      "Changing to logg=5.00 for T= 26196 logg=5.70\n",
      "Changing to logg=5.00 for T= 25707 logg=5.88\n",
      "Changing to logg=5.00 for T= 24008 logg=6.91\n",
      "Changing to logg=5.00 for T= 24452 logg=5.99\n",
      "Changing to logg=5.00 for T= 25618 logg=5.53\n",
      "Changing to logg=5.00 for T= 26907 logg=5.63\n",
      "Changing to logg=5.00 for T= 18636 logg=5.32\n",
      "Changing to logg=5.00 for T= 26930 logg=5.65\n",
      "Changing to logg=5.00 for T= 27188 logg=5.67\n",
      "Changing to logg=5.00 for T= 26100 logg=5.77\n",
      "Changing to logg=5.00 for T= 20983 logg=5.17\n",
      "Changing to logg=5.00 for T= 21888 logg=5.45\n",
      "Changing to logg=5.00 for T= 24186 logg=5.42\n",
      "Changing to logg=5.00 for T= 26757 logg=5.79\n",
      "Changing to logg=5.00 for T= 21570 logg=5.64\n",
      "Changing to logg=5.00 for T= 23096 logg=5.56\n",
      "Changing to logg=5.00 for T= 25848 logg=5.79\n",
      "Changing to logg=5.00 for T= 26095 logg=5.78\n",
      "Changing to logg=5.00 for T= 25999 logg=5.76\n",
      "Changing to logg=5.00 for T= 23984 logg=6.88\n",
      "Changing to logg=5.00 for T= 17042 logg=5.14\n",
      "Changing to logg=5.00 for T= 17875 logg=5.24\n",
      "Changing to logg=5.00 for T= 26020 logg=5.81\n",
      "Changing to logg=5.00 for T= 22135 logg=6.94\n",
      "Changing to logg=5.00 for T= 26119 logg=5.75\n",
      "Changing to logg=5.00 for T= 22179 logg=5.92\n",
      "Changing to logg=5.00 for T= 23501 logg=5.37\n",
      "Changing to logg=5.00 for T= 24739 logg=6.19\n",
      "Changing to logg=5.00 for T= 24377 logg=5.87\n",
      "Changing to logg=5.00 for T= 22245 logg=6.65\n",
      "Changing to logg=5.00 for T= 19749 logg=5.03\n",
      "Changing to logg=5.00 for T= 17733 logg=5.24\n",
      "Changing to logg=5.00 for T= 25863 logg=5.74\n",
      "Changing to logg=5.00 for T= 22114 logg=5.26\n",
      "Changing to logg=5.00 for T= 24124 logg=5.48\n",
      "Changing to logg=5.00 for T= 24820 logg=6.17\n",
      "Changing to logg=5.00 for T= 26204 logg=5.71\n",
      "Changing to logg=5.00 for T= 23626 logg=5.99\n",
      "Changing to logg=5.00 for T= 22982 logg=5.76\n",
      "Changing to logg=5.00 for T= 21104 logg=5.60\n",
      "Changing to logg=5.00 for T= 25509 logg=5.94\n",
      "Changing to logg=5.00 for T= 23774 logg=6.99\n",
      "Changing to logg=5.00 for T= 22084 logg=5.78\n",
      "Changing to logg=5.00 for T= 26146 logg=5.79\n",
      "Changing to logg=5.00 for T= 26316 logg=5.57\n",
      "Changing to logg=5.00 for T= 21333 logg=5.59\n",
      "Changing to logg=5.00 for T= 20198 logg=5.51\n",
      "Changing to logg=5.00 for T= 27240 logg=5.65\n",
      "Changing to logg=5.00 for T= 20689 logg=5.14\n",
      "Changing to logg=5.00 for T= 23264 logg=5.77\n",
      "Changing to logg=5.00 for T= 26317 logg=5.76\n",
      "Changing to logg=5.00 for T= 24518 logg=6.01\n",
      "Changing to logg=5.00 for T= 26494 logg=5.69\n",
      "Changing to logg=5.00 for T= 26134 logg=5.73\n",
      "Changing to logg=5.00 for T= 26114 logg=5.72\n",
      "Changing to logg=5.00 for T= 25553 logg=5.87\n",
      "Changing to logg=5.00 for T= 25963 logg=5.80\n",
      "Changing to logg=5.00 for T= 24305 logg=6.01\n",
      "Changing to logg=5.00 for T= 18719 logg=5.30\n",
      "Changing to logg=5.00 for T= 24495 logg=5.62\n",
      "Changing to logg=5.00 for T= 22026 logg=5.69\n",
      "Changing to logg=5.00 for T= 26320 logg=5.77\n",
      "Changing to logg=5.00 for T= 29244 logg=6.00\n",
      "Changing to logg=5.00 for T= 26135 logg=5.76\n",
      "Changing to T=  1200 for T=   923 logg=4.44\n",
      "Changing to logg=5.00 for T= 24506 logg=6.13\n",
      "Changing to T=  1200 for T=   692 logg=4.44\n",
      "Changing to T=  1200 for T=   692 logg=4.44\n",
      "Changing to logg=5.00 for T= 25992 logg=5.85\n",
      "Changing to logg=5.00 for T=  1962 logg=4.44\n",
      "Changing to logg=5.00 for T= 30361 logg=6.02\n",
      "Changing to T=  1200 for T=   692 logg=4.44\n",
      "Changing to logg=5.00 for T= 24627 logg=5.97\n",
      "Changing to T=  1200 for T=   692 logg=4.44\n",
      "Changing to logg=5.00 for T=  1847 logg=4.44\n",
      "Changing to T=  1200 for T=   923 logg=4.44\n",
      "Changing to logg=5.00 for T=  1962 logg=4.44\n",
      "Changing to T=  1200 for T=   923 logg=4.44\n",
      "Changing to logg=5.00 for T= 24594 logg=5.95\n",
      "Changing to logg=5.00 for T=  1962 logg=4.44\n",
      "Changing to logg=5.00 for T= 28839 logg=6.72\n",
      "Changing to logg=5.00 for T= 26038 logg=5.84\n",
      "Changing to logg=5.00 for T= 24654 logg=6.03\n",
      "Changing to logg=5.00 for T=  1962 logg=4.44\n",
      "Changing to T=  1200 for T=   923 logg=4.44\n"
     ]
    }
   ],
   "source": [
    "import spisea\n",
    "from spisea import evolution, synthetic\n",
    "import math\n",
    "# Check if the evolution class works fine\n",
    "import time\n",
    "import numpy as np\n",
    "t1=time.time()\n",
    "bps=evolution.BPASS()\n",
    "iso1=synthetic.Isochrone_Binary(9.0, 0.7, 100,math.log10(1), mass_sampling=1, filepath='/g/lu/scratch/ryotainagaki/BPASS_iso_filesTimedIsolated/')"
   ]
  },
  {
   "cell_type": "code",
   "execution_count": null,
   "metadata": {},
   "outputs": [],
   "source": [
    "iso1.primaries[np.where(iso1.primaries['mass']< 0)]"
   ]
  },
  {
   "cell_type": "code",
   "execution_count": null,
   "metadata": {},
   "outputs": [],
   "source": [
    "iso1.secondaries[np.where(iso1.secondaries['mass'] < 0)]"
   ]
  },
  {
   "cell_type": "code",
   "execution_count": null,
   "metadata": {},
   "outputs": [],
   "source": [
    "iso1.secondaries[np.where(iso1.singles['mass'] < 0)]"
   ]
  },
  {
   "cell_type": "markdown",
   "metadata": {},
   "source": [
    "For a sanity check, we can see that the primaries, secondaries, and single stars have phasees of 5 or of 101. Note that we will have a phase of 110 in order to indicate a mystery compact remnant that BPASS provides for NEWSECMODS (secondary star models with compact primaries). This is since we haven't added neutron stars or black holes yet. Stars with phase of -99 exist, and those are the secondary stars that have already merged."
   ]
  },
  {
   "cell_type": "code",
   "execution_count": null,
   "metadata": {},
   "outputs": [],
   "source": [
    "iso2=synthetic.IsochronePhot(9.0, 0.7, 100, math.log10(1), mass_sampling =1 , recomp=True) # New MIST v.1 isochrone for same metallicity"
   ]
  },
  {
   "cell_type": "code",
   "execution_count": null,
   "metadata": {},
   "outputs": [],
   "source": [
    "from spisea import imf\n",
    "from spisea.imf import imf, multiplicity\n",
    "from spisea import ifmr"
   ]
  },
  {
   "cell_type": "markdown",
   "metadata": {},
   "source": [
    "Make the clusters corresponding to the binary star isochrone and the MISTv.1 isochrone"
   ]
  },
  {
   "cell_type": "code",
   "execution_count": null,
   "metadata": {},
   "outputs": [],
   "source": [
    "clus_1=synthetic.Binary_Cluster(iso1, imf.IMFSalpeter1955(multiplicity=multiplicity.MultiplicityResolvedDK()), 10000, ifmr=ifmr.IFMR_Spera15())\n",
    "clus_2=synthetic.ResolvedCluster(iso2, imf.IMFSalpeter1955(multiplicity=multiplicity.MultiplicityUnresolved()), 10000, ifmr=ifmr.IFMR_Spera15())"
   ]
  },
  {
   "cell_type": "code",
   "execution_count": null,
   "metadata": {},
   "outputs": [],
   "source": []
  },
  {
   "cell_type": "code",
   "execution_count": null,
   "metadata": {},
   "outputs": [],
   "source": [
    "from scipy.spatial import cKDTree as KDTree\n",
    "primary_mass = 3.907104476879689\n",
    "secondary_mass = 2.0712811580188424\n",
    "loga=0.028763045199171167\n",
    "iso = iso1"
   ]
  },
  {
   "cell_type": "code",
   "execution_count": null,
   "metadata": {},
   "outputs": [],
   "source": [
    "kd = KDTree(np.transpose(np.array([iso.primaries['mass']/primary_mass, iso.secondaries['mass']/secondary_mass, iso.secondaries['log_a']/loga])))"
   ]
  },
  {
   "cell_type": "code",
   "execution_count": null,
   "metadata": {},
   "outputs": [],
   "source": [
    "q_results = kd.query(np.array([[1, 1, 1]]))"
   ]
  },
  {
   "cell_type": "code",
   "execution_count": null,
   "metadata": {},
   "outputs": [],
   "source": [
    "q_results"
   ]
  },
  {
   "cell_type": "code",
   "execution_count": null,
   "metadata": {},
   "outputs": [],
   "source": [
    "iso1.primaries[3870]"
   ]
  },
  {
   "cell_type": "markdown",
   "metadata": {},
   "source": [
    "Let's make sure that I am getting just about enough star mass for my cluster. (It was a bug before I used an adjustment factor.)"
   ]
  },
  {
   "cell_type": "code",
   "execution_count": null,
   "metadata": {},
   "outputs": [],
   "source": [
    "clus_1.star_systems['systemMass'].sum()"
   ]
  },
  {
   "cell_type": "code",
   "execution_count": null,
   "metadata": {},
   "outputs": [],
   "source": [
    "arr =[]\n",
    "for x in range(100):\n",
    "    clus_1=synthetic.Binary_Cluster(iso1, imf.IMFSalpeter1955(multiplicity=multiplicity.MultiplicityResolvedDK()), 10000, ifmr=ifmr.IFMR_Spera15())\n",
    "    arr.append(clus_1.star_systems['systemMass'].sum())"
   ]
  },
  {
   "cell_type": "code",
   "execution_count": null,
   "metadata": {},
   "outputs": [],
   "source": [
    "import matplotlib.pyplot as plt\n",
    "hist, bins, patch = plt.hist(np.array(arr), bins=30, histtype='step', label='BPASS clusters with x mass')\n",
    "plt.title(\"BPASS cluster mass distribution (# of models within mass bin over mass)\")\n",
    "print(np.median(np.array(arr)))\n",
    "plt.legend()"
   ]
  },
  {
   "cell_type": "code",
   "execution_count": null,
   "metadata": {},
   "outputs": [],
   "source": [
    "clus_1.companions['mass']"
   ]
  },
  {
   "cell_type": "code",
   "execution_count": null,
   "metadata": {},
   "outputs": [],
   "source": [
    "iso1.secondaries[3870]"
   ]
  },
  {
   "cell_type": "code",
   "execution_count": null,
   "metadata": {},
   "outputs": [],
   "source": [
    "import matplotlib.pyplot as plt\n",
    "plt.hist(iso1.primaries['mass'], bins=30)\n",
    "plt.yscale('log')"
   ]
  },
  {
   "cell_type": "code",
   "execution_count": null,
   "metadata": {},
   "outputs": [],
   "source": [
    "import matplotlib.pyplot as plt\n",
    "plt.hist(iso1.secondaries['mass'], bins=30)\n",
    "plt.yscale('log')"
   ]
  },
  {
   "cell_type": "code",
   "execution_count": null,
   "metadata": {},
   "outputs": [],
   "source": [
    "import matplotlib.pyplot as plt\n",
    "plt.hist(iso1.singles['mass'], bins=30)\n",
    "plt.yscale('log')"
   ]
  },
  {
   "cell_type": "code",
   "execution_count": null,
   "metadata": {},
   "outputs": [],
   "source": [
    "import matplotlib.pyplot as plt\n",
    "plt.hist(clus_1.star_systems['systemMass'], bins=30)\n",
    "plt.yscale('log')"
   ]
  },
  {
   "cell_type": "code",
   "execution_count": null,
   "metadata": {},
   "outputs": [],
   "source": [
    "import matplotlib.pyplot as plt\n",
    "plt.hist(clus_2.star_systems['systemMass'], bins=30)\n",
    "plt.yscale('log')"
   ]
  },
  {
   "cell_type": "code",
   "execution_count": null,
   "metadata": {},
   "outputs": [],
   "source": [
    "hist, bins, patch = plt.hist(clus_1.star_systems['systemMass'], bins=30, histtype='step', label='BPASS')\n",
    "plt.hist(clus_2.star_systems['systemMass'], bins=bins, histtype='step', label='MISTv.1')\n",
    "plt.yscale('log')\n",
    "plt.legend()"
   ]
  },
  {
   "cell_type": "code",
   "execution_count": null,
   "metadata": {},
   "outputs": [],
   "source": [
    "hist, bins, patch = plt.hist(clus_1.star_systems['systemMass'], bins=30, histtype='step', label='BPASS')\n",
    "plt.hist(clus_2.star_systems['systemMass'], bins=bins, histtype='step', label='MISTv.1')\n",
    "plt.yscale('log')\n",
    "plt.legend()"
   ]
  },
  {
   "cell_type": "code",
   "execution_count": null,
   "metadata": {},
   "outputs": [],
   "source": [
    "hist, bins, patch = plt.hist(clus_1.star_systems['mass'], bins=30, histtype='step', label='BPASS')\n",
    "plt.hist(clus_2.star_systems['mass'], bins=bins, histtype='step', label='MISTv.1')\n",
    "plt.yscale('log')\n",
    "plt.legend()"
   ]
  },
  {
   "cell_type": "code",
   "execution_count": null,
   "metadata": {},
   "outputs": [],
   "source": [
    "hist, bins, patch = plt.hist(clus_1.companions['mass'], bins=30, histtype='step', label='BPASS')\n",
    "plt.hist(clus_2.companions['mass'], bins=30, histtype='step', label='MISTv.1')\n",
    "\n",
    "plt.yscale('log')\n",
    "plt.legend()"
   ]
  },
  {
   "cell_type": "code",
   "execution_count": null,
   "metadata": {},
   "outputs": [],
   "source": []
  },
  {
   "cell_type": "code",
   "execution_count": null,
   "metadata": {},
   "outputs": [],
   "source": [
    "# Comparison with the MIST v1 cluster\n",
    "clus_2.star_systems['systemMass'].sum()"
   ]
  },
  {
   "cell_type": "code",
   "execution_count": null,
   "metadata": {},
   "outputs": [],
   "source": [
    "import matplotlib.pyplot as plt\n",
    "plt.hist(iso1.primaries['mass'], bins=30)\n",
    "plt.yscale('log')"
   ]
  },
  {
   "cell_type": "code",
   "execution_count": null,
   "metadata": {},
   "outputs": [],
   "source": [
    "import matplotlib.pyplot as plt\n",
    "plt.hist(iso1.singles['mass'], bins=30)\n",
    "plt.yscale('log')"
   ]
  },
  {
   "cell_type": "code",
   "execution_count": null,
   "metadata": {},
   "outputs": [],
   "source": [
    "import matplotlib.pyplot as plt\n",
    "plt.hist(iso1.secondaries['mass'], bins=30)\n",
    "plt.yscale('log')"
   ]
  },
  {
   "cell_type": "code",
   "execution_count": null,
   "metadata": {},
   "outputs": [],
   "source": [
    "import numpy as np\n",
    "np.where(iso1.secondaries['mass']>iso1.primaries['mass'])"
   ]
  },
  {
   "cell_type": "code",
   "execution_count": null,
   "metadata": {},
   "outputs": [],
   "source": [
    "np.unique(iso1.primaries[np.where(iso1.secondaries['mass']>iso1.primaries['mass'])]['source'])"
   ]
  },
  {
   "cell_type": "code",
   "execution_count": null,
   "metadata": {},
   "outputs": [],
   "source": [
    "clus_2.star_systems['systemMass'].sum()"
   ]
  },
  {
   "cell_type": "code",
   "execution_count": null,
   "metadata": {},
   "outputs": [],
   "source": [
    "hist, bins, patch = plt.hist(clus_1.companions['log_a'], bins=30, histtype='step', label='BPASS')\n",
    "plt.hist(clus_2.companions['log_a'], bins=30, histtype='step', label='MISTv.1')\n",
    "plt.legend()"
   ]
  },
  {
   "cell_type": "code",
   "execution_count": null,
   "metadata": {},
   "outputs": [],
   "source": []
  },
  {
   "cell_type": "code",
   "execution_count": null,
   "metadata": {},
   "outputs": [],
   "source": []
  },
  {
   "cell_type": "code",
   "execution_count": null,
   "metadata": {},
   "outputs": [],
   "source": []
  },
  {
   "cell_type": "code",
   "execution_count": null,
   "metadata": {},
   "outputs": [],
   "source": []
  },
  {
   "cell_type": "code",
   "execution_count": null,
   "metadata": {},
   "outputs": [],
   "source": []
  }
 ],
 "metadata": {
  "kernelspec": {
   "display_name": "astroconda",
   "language": "python",
   "name": "astroconda"
  },
  "language_info": {
   "codemirror_mode": {
    "name": "ipython",
    "version": 3
   },
   "file_extension": ".py",
   "mimetype": "text/x-python",
   "name": "python",
   "nbconvert_exporter": "python",
   "pygments_lexer": "ipython3",
   "version": "3.7.3"
  }
 },
 "nbformat": 4,
 "nbformat_minor": 2
}
