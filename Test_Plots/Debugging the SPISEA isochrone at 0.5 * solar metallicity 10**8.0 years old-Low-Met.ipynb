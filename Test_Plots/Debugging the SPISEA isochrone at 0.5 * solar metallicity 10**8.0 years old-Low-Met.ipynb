{
 "cells": [
  {
   "cell_type": "markdown",
   "metadata": {},
   "source": [
    "## Testing and Debugging the BPASS isochrone at 10^8.0 years age. (Non Solar Metallicity)\n",
    "In this BPASS isochrone and cluster plot, I go over the BPASS isochrone for 10^8.0 years age, a tenth of solar metallicity, AKs=0.0, and distance of 1000 parsecs from Earth. From the isochrone and cluster, we discuss several plots such as the log_g frequency distribution of the isochrone, the color magnitude diagram (B-V vs M_V), and the current-mass luminosity relationship of the cluster."
   ]
  },
  {
   "cell_type": "markdown",
   "metadata": {},
   "source": [
    "For a sanity check, we can see that the primaries, secondaries, and single stars have phasees of 5 or of 101 or of 110 (state of NEWSECMODS remnant primaries). This is since we haven't added neutron stars or black holes yet. Stars with phase of -99 exist, and those are the secondary stars that have already merged."
   ]
  },
  {
   "cell_type": "markdown",
   "metadata": {},
   "source": [
    "**I will be using the Kennicutt IMF and a slightly different age. I also use the Parsec evolution model for the sake of comparison with the BPASS isochrone and to distinguish this notebook from the others.**"
   ]
  },
  {
   "cell_type": "markdown",
   "metadata": {},
   "source": [
    "## Note: This notebook can also be used for demonstration of how to use the new Isochrone_Binary and Binary_Cluster"
   ]
  },
  {
   "cell_type": "code",
   "execution_count": 1,
   "metadata": {},
   "outputs": [
    {
     "name": "stderr",
     "output_type": "stream",
     "text": [
      "/opt/anaconda3/envs/astroconda/lib/python3.7/site-packages/pysynphot/locations.py:346: UserWarning: Extinction files not found in /g/lu/models/cdbs/extinction\n",
      "  warnings.warn('Extinction files not found in %s' % (extdir, ))\n",
      "/opt/anaconda3/envs/astroconda/lib/python3.7/site-packages/pysynphot/refs.py:125: UserWarning: No thermal tables found, no thermal calculations can be performed. No files found for /g/lu/models/cdbs/mtab/*_tmt.fits\n",
      "  'no thermal calculations can be performed. ' + str(e))\n",
      "/opt/anaconda3/envs/astroconda/lib/python3.7/site-packages/astropy/units/quantity.py:477: RuntimeWarning: invalid value encountered in true_divide\n",
      "  result = super().__array_ufunc__(function, method, *arrays, **kwargs)\n",
      "/u/ryotainagaki/Desktop/PyPopStar/spisea/evolution.py:1771: RuntimeWarning: overflow encountered in power\n",
      "  (1 / cs.au) * un.m)\n",
      "/opt/anaconda3/envs/astroconda/lib/python3.7/site-packages/astropy/table/column.py:1020: RuntimeWarning: invalid value encountered in greater\n",
      "  result = getattr(super(), op)(other)\n",
      "/opt/anaconda3/envs/astroconda/lib/python3.7/site-packages/astropy/table/column.py:1020: RuntimeWarning: invalid value encountered in less_equal\n",
      "  result = getattr(super(), op)(other)\n",
      "/opt/anaconda3/envs/astroconda/lib/python3.7/site-packages/astropy/units/quantity.py:477: RuntimeWarning: divide by zero encountered in true_divide\n",
      "  result = super().__array_ufunc__(function, method, *arrays, **kwargs)\n"
     ]
    },
    {
     "name": "stdout",
     "output_type": "stream",
     "text": [
      "Changing to T= 50000 for T= 60160 logg=8.71\n",
      "Changing to logg=5.00 for T= 60160 logg=8.71\n",
      "Changing to T= 50000 for T= 50085 logg=8.82\n",
      "Changing to logg=5.00 for T= 50085 logg=8.82\n",
      "Changing to logg=5.00 for T= 49702 logg=9.10\n",
      "Changing to T= 50000 for T= 64620 logg=8.69\n",
      "Changing to logg=5.00 for T= 64620 logg=8.69\n",
      "Changing to T= 50000 for T= 53296 logg=8.79\n",
      "Changing to logg=5.00 for T= 53296 logg=8.79\n",
      "Changing to T= 50000 for T= 75621 logg=8.66\n",
      "Changing to logg=5.00 for T= 75621 logg=8.66\n",
      "Changing to T= 50000 for T= 53966 logg=9.24\n",
      "Changing to logg=5.00 for T= 53966 logg=9.24\n",
      "Changing to T= 50000 for T= 50718 logg=8.85\n",
      "Changing to logg=5.00 for T= 50718 logg=8.85\n",
      "Changing to T= 50000 for T=100000 logg=8.64\n",
      "Changing to logg=5.00 for T=100000 logg=8.64\n",
      "Changing to logg=5.00 for T= 47667 logg=8.88\n",
      "Changing to logg=5.00 for T= 47530 logg=9.02\n",
      "Changing to T= 50000 for T= 56329 logg=8.74\n",
      "Changing to logg=5.00 for T= 56329 logg=8.74\n",
      "Changing to T= 50000 for T= 51229 logg=9.29\n",
      "Changing to logg=5.00 for T= 51229 logg=9.29\n",
      "Changing to T= 50000 for T= 51372 logg=9.29\n",
      "Changing to logg=5.00 for T= 51372 logg=9.29\n",
      "Changing to logg=5.00 for T= 46425 logg=8.98\n",
      "Changing to logg=5.00 for T= 49887 logg=8.96\n",
      "Changing to logg=5.00 for T= 48720 logg=8.92\n",
      "Changing to logg=5.00 for T= 46489 logg=5.36\n",
      "Changing to T= 50000 for T= 50035 logg=8.97\n",
      "Changing to logg=5.00 for T= 50035 logg=8.97\n",
      "Changing to logg=5.00 for T= 33948 logg=8.42\n",
      "Changing to T= 50000 for T= 62444 logg=8.63\n",
      "Changing to logg=5.00 for T= 62444 logg=8.63\n",
      "Changing to T= 50000 for T= 60141 logg=5.53\n",
      "Changing to logg=5.00 for T= 60141 logg=5.53\n",
      "Changing to T= 50000 for T=100000 logg=8.63\n",
      "Changing to logg=5.00 for T=100000 logg=8.63\n",
      "Changing to T= 50000 for T=100000 logg=8.63\n",
      "Changing to logg=5.00 for T=100000 logg=8.63\n",
      "Changing to T= 50000 for T=100000 logg=8.63\n",
      "Changing to logg=5.00 for T=100000 logg=8.63\n",
      "Changing to T= 50000 for T= 54038 logg=8.81\n",
      "Changing to logg=5.00 for T= 54038 logg=8.81\n",
      "Changing to logg=5.00 for T= 37872 logg=8.29\n",
      "Changing to T= 50000 for T=100000 logg=8.63\n",
      "Changing to logg=5.00 for T=100000 logg=8.63\n",
      "Changing to T= 50000 for T= 50272 logg=8.97\n",
      "Changing to logg=5.00 for T= 50272 logg=8.97\n",
      "Changing to T= 50000 for T= 50817 logg=9.28\n",
      "Changing to logg=5.00 for T= 50817 logg=9.28\n",
      "Changing to T= 50000 for T= 50272 logg=8.97\n",
      "Changing to logg=5.00 for T= 50272 logg=8.97\n",
      "Changing to logg=5.00 for T= 34344 logg=8.42\n",
      "Changing to T= 50000 for T= 50272 logg=8.97\n",
      "Changing to logg=5.00 for T= 50272 logg=8.97\n",
      "Changing to T= 50000 for T=100000 logg=8.63\n",
      "Changing to logg=5.00 for T=100000 logg=8.63\n",
      "Changing to logg=5.00 for T= 43707 logg=5.10\n",
      "Changing to logg=5.00 for T= 40542 logg=5.46\n",
      "Changing to T= 50000 for T=100000 logg=8.63\n",
      "Changing to logg=5.00 for T=100000 logg=8.63\n",
      "Changing to T= 50000 for T=100000 logg=8.71\n",
      "Changing to logg=5.00 for T=100000 logg=8.71\n",
      "Changing to T= 50000 for T= 50831 logg=9.28\n",
      "Changing to logg=5.00 for T= 50831 logg=9.28\n",
      "Changing to T= 50000 for T=100000 logg=9.07\n",
      "Changing to logg=5.00 for T=100000 logg=9.07\n",
      "Changing to logg=5.00 for T= 33736 logg=8.42\n",
      "Changing to T= 50000 for T= 50336 logg=8.69\n",
      "Changing to logg=5.00 for T= 50336 logg=8.69\n",
      "Changing to T= 50000 for T=100000 logg=8.63\n",
      "Changing to logg=5.00 for T=100000 logg=8.63\n",
      "Changing to T= 50000 for T= 50962 logg=9.28\n",
      "Changing to logg=5.00 for T= 50962 logg=9.28\n",
      "Changing to T= 50000 for T=100000 logg=8.63\n",
      "Changing to logg=5.00 for T=100000 logg=8.63\n",
      "Changing to logg=5.00 for T= 46289 logg=5.27\n",
      "Changing to logg=4.50 for T= 39443 logg=4.38\n",
      "Changing to logg=5.00 for T= 46438 logg=5.35\n",
      "Changing to logg=5.00 for T= 46419 logg=5.34\n",
      "Changing to logg=5.00 for T= 46450 logg=5.35\n",
      "Changing to T= 50000 for T= 51079 logg=9.28\n",
      "Changing to logg=5.00 for T= 51079 logg=9.28\n",
      "Changing to T= 50000 for T= 50275 logg=8.97\n",
      "Changing to logg=5.00 for T= 50275 logg=8.97\n",
      "Changing to T= 50000 for T= 54051 logg=8.81\n",
      "Changing to logg=5.00 for T= 54051 logg=8.81\n",
      "Changing to T= 50000 for T=100000 logg=8.63\n",
      "Changing to logg=5.00 for T=100000 logg=8.63\n",
      "Changing to T= 50000 for T=100000 logg=8.63\n",
      "Changing to logg=5.00 for T=100000 logg=8.63\n",
      "Changing to T= 50000 for T= 51131 logg=9.29\n",
      "Changing to logg=5.00 for T= 51131 logg=9.29\n",
      "Changing to logg=5.00 for T= 38340 logg=5.50\n",
      "Changing to T= 50000 for T= 50817 logg=9.28\n",
      "Changing to logg=5.00 for T= 50817 logg=9.28\n",
      "Changing to T= 50000 for T= 54044 logg=8.81\n",
      "Changing to logg=5.00 for T= 54044 logg=8.81\n",
      "Changing to T= 50000 for T= 50272 logg=8.97\n",
      "Changing to logg=5.00 for T= 50272 logg=8.97\n",
      "Changing to T= 50000 for T= 94737 logg=4.90\n",
      "Changing to logg=5.00 for T= 94737 logg=4.90\n",
      "Changing to T= 50000 for T= 50817 logg=9.28\n",
      "Changing to logg=5.00 for T= 50817 logg=9.28\n",
      "Changing to T= 50000 for T= 50009 logg=8.96\n",
      "Changing to logg=5.00 for T= 50009 logg=8.96\n",
      "Changing to T= 50000 for T= 50817 logg=9.28\n",
      "Changing to logg=5.00 for T= 50817 logg=9.28\n",
      "Changing to T= 50000 for T= 50274 logg=8.97\n",
      "Changing to logg=5.00 for T= 50274 logg=8.97\n",
      "Changing to logg=5.00 for T= 46241 logg=5.32\n",
      "Changing to T= 50000 for T= 50085 logg=5.51\n",
      "Changing to logg=5.00 for T= 50085 logg=5.51\n",
      "Changing to logg=5.00 for T= 44905 logg=5.44\n",
      "Changing to T= 50000 for T= 50261 logg=8.97\n",
      "Changing to logg=5.00 for T= 50261 logg=8.97\n",
      "Changing to logg=5.00 for T= 33577 logg=8.41\n",
      "Changing to T= 50000 for T= 50272 logg=8.97\n",
      "Changing to logg=5.00 for T= 50272 logg=8.97\n",
      "Changing to T= 50000 for T=100000 logg=8.63\n",
      "Changing to logg=5.00 for T=100000 logg=8.63\n",
      "Changing to T= 50000 for T= 50288 logg=8.97\n",
      "Changing to logg=5.00 for T= 50288 logg=8.97\n",
      "Changing to logg=5.00 for T= 48805 logg=9.21\n",
      "Changing to logg=5.00 for T= 41801 logg=5.63\n",
      "Changing to T= 50000 for T= 50820 logg=9.28\n",
      "Changing to logg=5.00 for T= 50820 logg=9.28\n",
      "Changing to T= 50000 for T= 57436 logg=9.21\n",
      "Changing to logg=5.00 for T= 57436 logg=9.21\n",
      "Changing to T= 50000 for T=100000 logg=8.63\n",
      "Changing to logg=5.00 for T=100000 logg=8.63\n",
      "Changing to T= 50000 for T= 50272 logg=8.97\n",
      "Changing to logg=5.00 for T= 50272 logg=8.97\n",
      "Changing to T= 50000 for T= 50067 logg=8.97\n",
      "Changing to logg=5.00 for T= 50067 logg=8.97\n",
      "Changing to logg=5.00 for T= 36878 logg=5.65\n",
      "Changing to T= 50000 for T= 50817 logg=9.28\n",
      "Changing to logg=5.00 for T= 50817 logg=9.28\n",
      "Changing to T= 50000 for T= 50817 logg=9.28\n",
      "Changing to logg=5.00 for T= 50817 logg=9.28\n",
      "Changing to T= 50000 for T= 54015 logg=8.81\n",
      "Changing to logg=5.00 for T= 54015 logg=8.81\n",
      "Changing to logg=5.00 for T= 34200 logg=8.43\n",
      "Changing to logg=5.00 for T= 48904 logg=9.21\n",
      "Changing to T= 50000 for T= 50109 logg=8.97\n",
      "Changing to logg=5.00 for T= 50109 logg=8.97\n",
      "Changing to T= 50000 for T= 50272 logg=8.97\n",
      "Changing to logg=5.00 for T= 50272 logg=8.97\n",
      "Changing to T= 50000 for T= 50267 logg=8.97\n",
      "Changing to logg=5.00 for T= 50267 logg=8.97\n",
      "Changing to T= 50000 for T= 67478 logg=8.91\n",
      "Changing to logg=5.00 for T= 67478 logg=8.91\n",
      "Changing to logg=5.00 for T= 35069 logg=8.36\n",
      "Changing to T= 50000 for T=100000 logg=8.63\n",
      "Changing to logg=5.00 for T=100000 logg=8.63\n",
      "Changing to T= 50000 for T= 90784 logg=4.79\n",
      "Changing to logg=5.00 for T= 90784 logg=4.79\n",
      "Changing to logg=5.00 for T= 34323 logg=8.40\n",
      "Changing to T= 50000 for T= 50817 logg=9.28\n",
      "Changing to logg=5.00 for T= 50817 logg=9.28\n",
      "Changing to T= 50000 for T= 50817 logg=9.28\n",
      "Changing to logg=5.00 for T= 50817 logg=9.28\n",
      "Changing to T= 50000 for T= 53964 logg=8.81\n",
      "Changing to logg=5.00 for T= 53964 logg=8.81\n",
      "Changing to T= 50000 for T= 50100 logg=8.97\n",
      "Changing to logg=5.00 for T= 50100 logg=8.97\n",
      "Changing to logg=5.00 for T= 44669 logg=5.49\n",
      "Changing to T= 50000 for T= 50817 logg=9.28\n",
      "Changing to logg=5.00 for T= 50817 logg=9.28\n",
      "Changing to logg=5.00 for T= 46289 logg=5.33\n",
      "Changing to T= 50000 for T=100000 logg=8.63\n",
      "Changing to logg=5.00 for T=100000 logg=8.63\n",
      "Changing to T= 50000 for T= 50817 logg=9.28\n",
      "Changing to logg=5.00 for T= 50817 logg=9.28\n",
      "Changing to logg=5.00 for T= 35226 logg=8.32\n",
      "Changing to logg=5.00 for T= 44680 logg=5.49\n",
      "Changing to logg=5.00 for T= 46182 logg=5.30\n",
      "Changing to T= 50000 for T= 50817 logg=9.28\n",
      "Changing to logg=5.00 for T= 50817 logg=9.28\n",
      "Changing to T= 50000 for T= 57436 logg=9.21\n",
      "Changing to logg=5.00 for T= 57436 logg=9.21\n",
      "Changing to logg=5.00 for T= 34626 logg=8.40\n",
      "Changing to T= 50000 for T= 50817 logg=9.28\n",
      "Changing to logg=5.00 for T= 50817 logg=9.28\n"
     ]
    },
    {
     "name": "stdout",
     "output_type": "stream",
     "text": [
      "Changing to T= 50000 for T= 50817 logg=9.28\n",
      "Changing to logg=5.00 for T= 50817 logg=9.28\n",
      "Changing to T= 50000 for T= 50272 logg=8.97\n",
      "Changing to logg=5.00 for T= 50272 logg=8.97\n",
      "Changing to T= 50000 for T=100000 logg=8.63\n",
      "Changing to logg=5.00 for T=100000 logg=8.63\n",
      "Changing to T= 50000 for T= 50272 logg=8.97\n",
      "Changing to logg=5.00 for T= 50272 logg=8.97\n",
      "Changing to logg=5.00 for T= 46215 logg=5.34\n",
      "Changing to logg=5.00 for T= 41610 logg=5.64\n",
      "Changing to logg=5.00 for T= 46121 logg=5.35\n",
      "Changing to logg=5.00 for T= 46390 logg=5.34\n",
      "Changing to logg=5.00 for T= 33349 logg=8.41\n",
      "Changing to logg=5.00 for T= 34029 logg=8.40\n",
      "Changing to T= 50000 for T= 50272 logg=8.97\n",
      "Changing to logg=5.00 for T= 50272 logg=8.97\n",
      "Changing to T= 50000 for T=100000 logg=8.63\n",
      "Changing to logg=5.00 for T=100000 logg=8.63\n",
      "Changing to T= 50000 for T=100000 logg=8.63\n",
      "Changing to logg=5.00 for T=100000 logg=8.63\n",
      "Changing to T= 50000 for T= 99435 logg=9.29\n",
      "Changing to logg=5.00 for T= 99435 logg=9.29\n",
      "Changing to logg=5.00 for T= 49999 logg=8.96\n",
      "Changing to T= 50000 for T= 50817 logg=9.28\n",
      "Changing to logg=5.00 for T= 50817 logg=9.28\n",
      "Changing to T= 50000 for T= 54035 logg=8.81\n",
      "Changing to logg=5.00 for T= 54035 logg=8.81\n",
      "Changing to T= 50000 for T= 50817 logg=9.28\n",
      "Changing to logg=5.00 for T= 50817 logg=9.28\n",
      "Changing to logg=5.00 for T= 49509 logg=9.23\n",
      "Changing to logg=5.00 for T= 45794 logg=5.39\n",
      "Changing to logg=5.00 for T= 41311 logg=5.64\n",
      "Changing to T= 50000 for T= 97867 logg=8.64\n",
      "Changing to logg=5.00 for T= 97867 logg=8.64\n",
      "Changing to logg=5.00 for T= 45316 logg=5.33\n",
      "Changing to T= 50000 for T= 50272 logg=8.97\n",
      "Changing to logg=5.00 for T= 50272 logg=8.97\n",
      "Changing to T= 50000 for T= 54012 logg=8.81\n",
      "Changing to logg=5.00 for T= 54012 logg=8.81\n",
      "Changing to T= 50000 for T= 50817 logg=9.28\n",
      "Changing to logg=5.00 for T= 50817 logg=9.28\n",
      "Changing to logg=1.50 for T=  8915 logg=0.70\n",
      "Changing to T= 50000 for T=100000 logg=8.63\n",
      "Changing to logg=5.00 for T=100000 logg=8.63\n",
      "Changing to T= 50000 for T= 50272 logg=8.97\n",
      "Changing to logg=5.00 for T= 50272 logg=8.97\n",
      "Changing to logg=5.00 for T= 46247 logg=5.32\n",
      "Changing to T= 50000 for T=100000 logg=8.63\n",
      "Changing to logg=5.00 for T=100000 logg=8.63\n",
      "Changing to T= 50000 for T=100000 logg=8.63\n",
      "Changing to logg=5.00 for T=100000 logg=8.63\n",
      "Changing to T= 50000 for T= 50272 logg=8.97\n",
      "Changing to logg=5.00 for T= 50272 logg=8.97\n",
      "Changing to T= 50000 for T= 50817 logg=9.28\n",
      "Changing to logg=5.00 for T= 50817 logg=9.28\n",
      "Changing to T= 50000 for T=100000 logg=8.63\n",
      "Changing to logg=5.00 for T=100000 logg=8.63\n",
      "Changing to logg=5.00 for T= 45932 logg=5.41\n",
      "Changing to logg=5.00 for T= 45957 logg=5.33\n",
      "Changing to T= 50000 for T= 53918 logg=8.81\n",
      "Changing to logg=5.00 for T= 53918 logg=8.81\n",
      "Changing to T= 50000 for T= 54031 logg=8.81\n",
      "Changing to logg=5.00 for T= 54031 logg=8.81\n",
      "Changing to T= 50000 for T=100000 logg=8.63\n",
      "Changing to logg=5.00 for T=100000 logg=8.63\n",
      "Changing to logg=5.00 for T= 45803 logg=5.40\n",
      "Changing to T= 50000 for T= 50817 logg=9.28\n",
      "Changing to logg=5.00 for T= 50817 logg=9.28\n",
      "Changing to T= 50000 for T= 50817 logg=9.28\n",
      "Changing to logg=5.00 for T= 50817 logg=9.28\n",
      "Changing to T= 50000 for T= 67478 logg=8.91\n",
      "Changing to logg=5.00 for T= 67478 logg=8.91\n",
      "Changing to logg=5.00 for T= 46364 logg=5.34\n",
      "Changing to T= 50000 for T= 97847 logg=8.64\n",
      "Changing to logg=5.00 for T= 97847 logg=8.64\n",
      "Changing to T= 50000 for T=100000 logg=8.63\n",
      "Changing to logg=5.00 for T=100000 logg=8.63\n",
      "Changing to T= 50000 for T= 50272 logg=8.97\n",
      "Changing to logg=5.00 for T= 50272 logg=8.97\n",
      "Changing to T= 50000 for T=100000 logg=8.63\n",
      "Changing to logg=5.00 for T=100000 logg=8.63\n",
      "Changing to T= 50000 for T= 50272 logg=8.97\n",
      "Changing to logg=5.00 for T= 50272 logg=8.97\n",
      "Changing to T= 50000 for T=100000 logg=8.64\n",
      "Changing to logg=5.00 for T=100000 logg=8.64\n",
      "Changing to logg=5.00 for T= 44930 logg=5.43\n",
      "Changing to logg=5.00 for T= 44583 logg=5.49\n",
      "Changing to logg=5.00 for T= 46296 logg=5.32\n",
      "Changing to T= 50000 for T= 57436 logg=9.21\n",
      "Changing to logg=5.00 for T= 57436 logg=9.21\n",
      "Changing to T= 50000 for T= 50618 logg=9.27\n",
      "Changing to logg=5.00 for T= 50618 logg=9.27\n",
      "Changing to logg=5.00 for T= 43431 logg=5.62\n",
      "Changing to logg=5.00 for T= 44986 logg=5.45\n",
      "Changing to logg=5.00 for T= 45837 logg=5.33\n",
      "Changing to T= 50000 for T=100000 logg=8.63\n",
      "Changing to logg=5.00 for T=100000 logg=8.63\n",
      "Changing to T= 50000 for T=100000 logg=8.63\n",
      "Changing to logg=5.00 for T=100000 logg=8.63\n",
      "Changing to T= 50000 for T= 50937 logg=9.28\n",
      "Changing to logg=5.00 for T= 50937 logg=9.28\n",
      "Changing to T= 50000 for T= 50272 logg=8.97\n",
      "Changing to logg=5.00 for T= 50272 logg=8.97\n",
      "Changing to logg=5.00 for T= 42381 logg=5.58\n",
      "Changing to T= 50000 for T= 50857 logg=9.28\n",
      "Changing to logg=5.00 for T= 50857 logg=9.28\n",
      "Changing to logg=5.00 for T= 46128 logg=5.37\n",
      "Changing to logg=5.00 for T= 44287 logg=5.53\n",
      "Changing to T= 50000 for T= 50294 logg=8.97\n",
      "Changing to logg=5.00 for T= 50294 logg=8.97\n",
      "Changing to T= 50000 for T= 50069 logg=8.97\n",
      "Changing to logg=5.00 for T= 50069 logg=8.97\n",
      "Changing to logg=5.00 for T= 45220 logg=5.39\n",
      "Changing to T= 50000 for T=100000 logg=8.63\n",
      "Changing to logg=5.00 for T=100000 logg=8.63\n",
      "Changing to logg=5.00 for T= 46177 logg=5.28\n",
      "Changing to T= 50000 for T= 54028 logg=8.81\n",
      "Changing to logg=5.00 for T= 54028 logg=8.81\n",
      "Changing to logg=3.00 for T= 20102 logg=2.11\n",
      "Changing to logg=5.00 for T= 37296 logg=5.59\n",
      "Changing to T= 50000 for T= 50817 logg=9.28\n",
      "Changing to logg=5.00 for T= 50817 logg=9.28\n",
      "Changing to T= 50000 for T= 50272 logg=8.97\n",
      "Changing to logg=5.00 for T= 50272 logg=8.97\n",
      "Changing to T= 50000 for T= 50817 logg=9.28\n",
      "Changing to logg=5.00 for T= 50817 logg=9.28\n",
      "Changing to logg=5.00 for T= 45545 logg=5.34\n",
      "Changing to T= 50000 for T= 67478 logg=8.91\n",
      "Changing to logg=5.00 for T= 67478 logg=8.91\n",
      "Changing to logg=5.00 for T= 44791 logg=5.47\n",
      "Changing to logg=5.00 for T= 35070 logg=8.43\n",
      "Changing to logg=5.00 for T= 41195 logg=5.40\n",
      "Changing to logg=5.00 for T= 41813 logg=5.61\n",
      "Changing to T= 50000 for T= 50272 logg=8.97\n",
      "Changing to logg=5.00 for T= 50272 logg=8.97\n",
      "Changing to T= 50000 for T= 50272 logg=8.97\n",
      "Changing to logg=5.00 for T= 50272 logg=8.97\n",
      "Changing to T= 50000 for T= 50272 logg=8.97\n",
      "Changing to logg=5.00 for T= 50272 logg=8.97\n",
      "Changing to T= 50000 for T= 50272 logg=8.97\n",
      "Changing to logg=5.00 for T= 50272 logg=8.97\n",
      "Changing to T= 50000 for T= 50272 logg=8.97\n",
      "Changing to logg=5.00 for T= 50272 logg=8.97\n",
      "Changing to T= 50000 for T=100000 logg=8.63\n",
      "Changing to logg=5.00 for T=100000 logg=8.63\n",
      "Changing to T= 50000 for T=100000 logg=8.63\n",
      "Changing to logg=5.00 for T=100000 logg=8.63\n",
      "Changing to logg=5.00 for T= 37594 logg=5.60\n",
      "Changing to logg=5.00 for T= 33511 logg=8.41\n",
      "Changing to T= 50000 for T= 50817 logg=9.28\n",
      "Changing to logg=5.00 for T= 50817 logg=9.28\n",
      "Changing to logg=5.00 for T= 44527 logg=5.51\n",
      "Changing to logg=5.00 for T= 39220 logg=5.45\n",
      "Changing to T= 50000 for T= 90828 logg=4.79\n",
      "Changing to logg=5.00 for T= 90828 logg=4.79\n",
      "Changing to T= 50000 for T=146764 logg=5.69\n",
      "Changing to logg=5.00 for T=146764 logg=5.69\n",
      "Changing to T= 50000 for T= 97980 logg=8.64\n",
      "Changing to logg=5.00 for T= 97980 logg=8.64\n",
      "Changing to logg=5.00 for T= 48889 logg=9.21\n",
      "Changing to logg=5.00 for T= 35532 logg=8.39\n",
      "Changing to logg=5.00 for T= 33243 logg=8.37\n",
      "Changing to logg=5.00 for T= 48716 logg=9.20\n",
      "Changing to T= 50000 for T= 50272 logg=8.97\n",
      "Changing to logg=5.00 for T= 50272 logg=8.97\n",
      "Changing to T= 50000 for T= 50817 logg=9.28\n",
      "Changing to logg=5.00 for T= 50817 logg=9.28\n",
      "Changing to T= 50000 for T= 52512 logg=9.05\n",
      "Changing to logg=5.00 for T= 52512 logg=9.05\n",
      "Changing to T= 50000 for T= 50215 logg=8.97\n",
      "Changing to logg=5.00 for T= 50215 logg=8.97\n",
      "Changing to T= 50000 for T= 50817 logg=9.28\n",
      "Changing to logg=5.00 for T= 50817 logg=9.28\n",
      "Changing to logg=5.00 for T= 34746 logg=8.43\n",
      "Changing to T= 50000 for T= 50016 logg=8.96\n",
      "Changing to logg=5.00 for T= 50016 logg=8.96\n",
      "Changing to T= 50000 for T= 50272 logg=8.97\n",
      "Changing to logg=5.00 for T= 50272 logg=8.97\n",
      "Changing to logg=5.00 for T= 34881 logg=8.38\n",
      "Changing to T= 50000 for T= 50821 logg=9.28\n",
      "Changing to logg=5.00 for T= 50821 logg=9.28\n",
      "Changing to logg=5.00 for T= 46460 logg=5.35\n",
      "Changing to logg=5.00 for T= 34095 logg=8.38\n",
      "Changing to T= 50000 for T= 50693 logg=9.27\n",
      "Changing to logg=5.00 for T= 50693 logg=9.27\n"
     ]
    },
    {
     "name": "stdout",
     "output_type": "stream",
     "text": [
      "Changing to T= 50000 for T=100000 logg=8.64\n",
      "Changing to logg=5.00 for T=100000 logg=8.64\n",
      "Changing to logg=5.00 for T= 41182 logg=5.64\n",
      "Changing to T= 50000 for T= 50272 logg=8.97\n",
      "Changing to logg=5.00 for T= 50272 logg=8.97\n",
      "Changing to T= 50000 for T= 50818 logg=9.28\n",
      "Changing to logg=5.00 for T= 50818 logg=9.28\n",
      "Changing to T= 50000 for T=100000 logg=8.63\n",
      "Changing to logg=5.00 for T=100000 logg=8.63\n",
      "Changing to T= 50000 for T= 50272 logg=8.97\n",
      "Changing to logg=5.00 for T= 50272 logg=8.97\n",
      "Changing to T= 50000 for T= 50272 logg=8.97\n",
      "Changing to logg=5.00 for T= 50272 logg=8.97\n",
      "Changing to T= 50000 for T= 51161 logg=9.29\n",
      "Changing to logg=5.00 for T= 51161 logg=9.29\n",
      "Changing to logg=5.00 for T= 33413 logg=8.36\n",
      "Changing to T= 50000 for T= 50074 logg=8.97\n",
      "Changing to logg=5.00 for T= 50074 logg=8.97\n",
      "Changing to logg=5.00 for T= 45719 logg=5.35\n",
      "Changing to logg=5.00 for T= 44947 logg=5.36\n",
      "Changing to logg=5.00 for T= 35634 logg=8.44\n",
      "Changing to logg=5.00 for T= 37396 logg=5.62\n",
      "Changing to logg=5.00 for T= 46386 logg=5.34\n",
      "Changing to logg=5.00 for T= 37862 logg=5.54\n",
      "Changing to T= 50000 for T= 50817 logg=9.28\n",
      "Changing to logg=5.00 for T= 50817 logg=9.28\n",
      "Changing to T= 50000 for T= 57436 logg=9.21\n",
      "Changing to logg=5.00 for T= 57436 logg=9.21\n",
      "Changing to T= 50000 for T= 97609 logg=8.63\n",
      "Changing to logg=5.00 for T= 97609 logg=8.63\n",
      "Changing to T= 50000 for T=100000 logg=8.63\n",
      "Changing to logg=5.00 for T=100000 logg=8.63\n",
      "Changing to T= 50000 for T= 67478 logg=8.91\n",
      "Changing to logg=5.00 for T= 67478 logg=8.91\n",
      "Changing to T= 50000 for T= 50156 logg=8.97\n",
      "Changing to logg=5.00 for T= 50156 logg=8.97\n",
      "Changing to T= 50000 for T=100000 logg=8.63\n",
      "Changing to logg=5.00 for T=100000 logg=8.63\n",
      "Changing to logg=5.00 for T= 46106 logg=5.26\n",
      "Changing to logg=5.00 for T= 45236 logg=5.43\n",
      "Changing to T= 50000 for T= 50272 logg=8.97\n",
      "Changing to logg=5.00 for T= 50272 logg=8.97\n",
      "Changing to T= 50000 for T=100000 logg=8.63\n",
      "Changing to logg=5.00 for T=100000 logg=8.63\n",
      "Changing to logg=5.00 for T= 45395 logg=5.33\n",
      "Changing to logg=5.00 for T= 45422 logg=5.35\n",
      "Changing to logg=5.00 for T= 48813 logg=9.21\n",
      "Changing to T= 50000 for T= 50817 logg=9.28\n",
      "Changing to logg=5.00 for T= 50817 logg=9.28\n",
      "Changing to T= 50000 for T=101473 logg=5.03\n",
      "Changing to logg=5.00 for T=101473 logg=5.03\n",
      "Changing to logg=5.00 for T= 44746 logg=5.20\n",
      "Changing to logg=5.00 for T= 38714 logg=5.54\n",
      "Changing to logg=5.00 for T= 44789 logg=5.46\n",
      "Changing to logg=5.00 for T= 33930 logg=8.42\n",
      "Changing to logg=5.00 for T= 42311 logg=5.03\n",
      "Changing to logg=5.00 for T= 45555 logg=5.22\n",
      "Changing to logg=5.00 for T= 46200 logg=5.34\n",
      "Changing to T= 50000 for T=100000 logg=8.64\n",
      "Changing to logg=5.00 for T=100000 logg=8.64\n",
      "Changing to T= 50000 for T= 67478 logg=8.91\n",
      "Changing to logg=5.00 for T= 67478 logg=8.91\n",
      "Changing to logg=5.00 for T= 44163 logg=5.46\n",
      "Changing to T= 50000 for T= 50879 logg=9.28\n",
      "Changing to logg=5.00 for T= 50879 logg=9.28\n",
      "Changing to T= 50000 for T= 50272 logg=8.97\n",
      "Changing to logg=5.00 for T= 50272 logg=8.97\n",
      "Changing to T= 50000 for T= 50781 logg=9.27\n",
      "Changing to logg=5.00 for T= 50781 logg=9.27\n",
      "Changing to T= 50000 for T= 50817 logg=9.28\n",
      "Changing to logg=5.00 for T= 50817 logg=9.28\n",
      "Changing to logg=5.00 for T= 35388 logg=8.39\n",
      "Changing to T= 50000 for T= 50039 logg=8.97\n",
      "Changing to logg=5.00 for T= 50039 logg=8.97\n",
      "Changing to T= 50000 for T= 50817 logg=9.28\n",
      "Changing to logg=5.00 for T= 50817 logg=9.28\n",
      "Changing to T= 50000 for T=100000 logg=8.63\n",
      "Changing to logg=5.00 for T=100000 logg=8.63\n",
      "Changing to T= 50000 for T=100000 logg=8.63\n",
      "Changing to logg=5.00 for T=100000 logg=8.63\n",
      "Changing to T= 50000 for T= 50817 logg=9.28\n",
      "Changing to logg=5.00 for T= 50817 logg=9.28\n",
      "Changing to logg=5.00 for T= 44955 logg=5.44\n",
      "Changing to logg=5.00 for T= 46169 logg=5.32\n",
      "Changing to T= 50000 for T= 50981 logg=9.28\n",
      "Changing to logg=5.00 for T= 50981 logg=9.28\n",
      "Changing to T= 50000 for T= 50818 logg=9.28\n",
      "Changing to logg=5.00 for T= 50818 logg=9.28\n",
      "Changing to T= 50000 for T= 50272 logg=8.97\n",
      "Changing to logg=5.00 for T= 50272 logg=8.97\n",
      "Changing to logg=5.00 for T= 46279 logg=5.32\n",
      "Changing to T= 50000 for T= 50817 logg=9.28\n",
      "Changing to logg=5.00 for T= 50817 logg=9.28\n",
      "Changing to logg=5.00 for T= 34250 logg=8.42\n",
      "Changing to T= 50000 for T=100000 logg=8.63\n",
      "Changing to logg=5.00 for T=100000 logg=8.63\n",
      "Changing to logg=5.00 for T= 45266 logg=9.08\n",
      "Changing to T= 50000 for T=100000 logg=8.63\n",
      "Changing to logg=5.00 for T=100000 logg=8.63\n",
      "Changing to T= 50000 for T=100000 logg=8.71\n",
      "Changing to logg=5.00 for T=100000 logg=8.71\n",
      "Changing to T= 50000 for T= 50651 logg=9.27\n",
      "Changing to logg=5.00 for T= 50651 logg=9.27\n",
      "Changing to logg=5.00 for T= 44956 logg=5.41\n",
      "Changing to logg=5.00 for T= 49198 logg=5.50\n",
      "Changing to logg=5.00 for T= 45960 logg=5.38\n",
      "Changing to T= 50000 for T=100000 logg=8.63\n",
      "Changing to logg=5.00 for T=100000 logg=8.63\n",
      "Changing to T= 50000 for T=100000 logg=8.63\n",
      "Changing to logg=5.00 for T=100000 logg=8.63\n",
      "Changing to logg=5.00 for T= 38652 logg=5.47\n",
      "Changing to T= 50000 for T= 50272 logg=8.97\n",
      "Changing to logg=5.00 for T= 50272 logg=8.97\n",
      "Changing to T= 50000 for T= 50272 logg=8.97\n",
      "Changing to logg=5.00 for T= 50272 logg=8.97\n",
      "Changing to logg=5.00 for T= 46383 logg=5.34\n",
      "Changing to logg=5.00 for T= 41082 logg=5.65\n",
      "Changing to T= 50000 for T=100000 logg=8.63\n",
      "Changing to logg=5.00 for T=100000 logg=8.63\n",
      "Changing to T= 50000 for T= 50273 logg=8.97\n",
      "Changing to logg=5.00 for T= 50273 logg=8.97\n",
      "Changing to T= 50000 for T=100000 logg=8.71\n",
      "Changing to logg=5.00 for T=100000 logg=8.71\n",
      "Changing to logg=5.00 for T= 34455 logg=8.44\n",
      "Changing to T= 50000 for T= 51345 logg=8.33\n",
      "Changing to logg=5.00 for T= 51345 logg=8.33\n",
      "Changing to T= 50000 for T=100000 logg=8.63\n",
      "Changing to logg=5.00 for T=100000 logg=8.63\n",
      "Changing to T= 50000 for T= 50817 logg=9.28\n",
      "Changing to logg=5.00 for T= 50817 logg=9.28\n",
      "Changing to T= 50000 for T= 50878 logg=9.28\n",
      "Changing to logg=5.00 for T= 50878 logg=9.28\n",
      "Changing to T= 50000 for T=100000 logg=8.63\n",
      "Changing to logg=5.00 for T=100000 logg=8.63\n",
      "Changing to T= 50000 for T= 50888 logg=9.28\n",
      "Changing to logg=5.00 for T= 50888 logg=9.28\n",
      "Changing to T= 50000 for T=100000 logg=8.63\n",
      "Changing to logg=5.00 for T=100000 logg=8.63\n",
      "Changing to T= 50000 for T= 50272 logg=8.97\n",
      "Changing to logg=5.00 for T= 50272 logg=8.97\n",
      "Changing to T= 50000 for T= 50272 logg=8.97\n",
      "Changing to logg=5.00 for T= 50272 logg=8.97\n",
      "Changing to T= 50000 for T= 78127 logg=4.50\n",
      "Changing to logg=5.00 for T= 78127 logg=4.50\n",
      "Changing to T= 50000 for T=100000 logg=8.52\n",
      "Changing to logg=5.00 for T=100000 logg=8.52\n",
      "Changing to T= 50000 for T= 50294 logg=8.97\n",
      "Changing to logg=5.00 for T= 50294 logg=8.97\n",
      "Changing to T= 50000 for T=100000 logg=8.63\n",
      "Changing to logg=5.00 for T=100000 logg=8.63\n",
      "Changing to T= 50000 for T= 50817 logg=9.28\n",
      "Changing to logg=5.00 for T= 50817 logg=9.28\n",
      "Changing to logg=5.00 for T= 46299 logg=5.31\n",
      "Changing to T= 50000 for T=100000 logg=8.71\n",
      "Changing to logg=5.00 for T=100000 logg=8.71\n",
      "Changing to T= 50000 for T=100000 logg=8.63\n",
      "Changing to logg=5.00 for T=100000 logg=8.63\n",
      "Changing to T= 50000 for T= 50035 logg=8.97\n",
      "Changing to logg=5.00 for T= 50035 logg=8.97\n",
      "Changing to logg=5.00 for T= 34308 logg=8.41\n",
      "Changing to T= 50000 for T= 50818 logg=9.28\n",
      "Changing to logg=5.00 for T= 50818 logg=9.28\n",
      "Changing to T= 50000 for T= 50621 logg=8.70\n",
      "Changing to logg=5.00 for T= 50621 logg=8.70\n",
      "Changing to T= 50000 for T=100000 logg=8.63\n",
      "Changing to logg=5.00 for T=100000 logg=8.63\n",
      "Changing to logg=5.00 for T= 33589 logg=8.43\n",
      "Changing to T= 50000 for T=100000 logg=8.63\n",
      "Changing to logg=5.00 for T=100000 logg=8.63\n",
      "Changing to T= 50000 for T=100000 logg=8.71\n",
      "Changing to logg=5.00 for T=100000 logg=8.71\n",
      "Changing to logg=5.00 for T= 45731 logg=5.33\n",
      "Changing to logg=5.00 for T= 45989 logg=5.30\n",
      "Changing to T= 50000 for T= 50272 logg=8.97\n",
      "Changing to logg=5.00 for T= 50272 logg=8.97\n",
      "Changing to logg=5.00 for T= 46181 logg=5.31\n",
      "Changing to logg=5.00 for T= 44468 logg=5.46\n",
      "Changing to T= 50000 for T= 57436 logg=9.21\n",
      "Changing to logg=5.00 for T= 57436 logg=9.21\n",
      "Changing to T= 50000 for T= 50817 logg=9.28\n",
      "Changing to logg=5.00 for T= 50817 logg=9.28\n",
      "Changing to T= 50000 for T=100000 logg=8.63\n",
      "Changing to logg=5.00 for T=100000 logg=8.63\n",
      "Changing to T= 50000 for T= 50272 logg=8.97\n",
      "Changing to logg=5.00 for T= 50272 logg=8.97\n"
     ]
    },
    {
     "name": "stdout",
     "output_type": "stream",
     "text": [
      "Changing to logg=5.00 for T= 44452 logg=5.51\n",
      "Changing to logg=5.00 for T= 46197 logg=5.31\n",
      "Changing to T= 50000 for T= 69751 logg=9.26\n",
      "Changing to logg=5.00 for T= 69751 logg=9.26\n",
      "Changing to T= 50000 for T=100000 logg=8.63\n",
      "Changing to logg=5.00 for T=100000 logg=8.63\n",
      "Changing to logg=5.00 for T= 44364 logg=5.47\n",
      "Changing to T= 50000 for T=100000 logg=8.63\n",
      "Changing to logg=5.00 for T=100000 logg=8.63\n",
      "Changing to T= 50000 for T=100000 logg=8.63\n",
      "Changing to logg=5.00 for T=100000 logg=8.63\n",
      "Changing to T= 50000 for T= 50272 logg=8.97\n",
      "Changing to logg=5.00 for T= 50272 logg=8.97\n",
      "Changing to logg=5.00 for T= 46039 logg=5.29\n",
      "Changing to logg=5.00 for T= 41944 logg=5.61\n",
      "Changing to T= 50000 for T= 50074 logg=8.97\n",
      "Changing to logg=5.00 for T= 50074 logg=8.97\n",
      "Changing to logg=5.00 for T= 45242 logg=5.35\n",
      "Changing to T= 50000 for T=100000 logg=8.63\n",
      "Changing to logg=5.00 for T=100000 logg=8.63\n",
      "Changing to logg=5.00 for T= 45970 logg=5.45\n",
      "Changing to logg=5.00 for T= 34092 logg=8.39\n",
      "Changing to T= 50000 for T= 50817 logg=9.28\n",
      "Changing to logg=5.00 for T= 50817 logg=9.28\n",
      "Changing to logg=5.00 for T= 46111 logg=5.26\n",
      "Changing to T= 50000 for T= 50272 logg=8.97\n",
      "Changing to logg=5.00 for T= 50272 logg=8.97\n",
      "Changing to T= 50000 for T= 50122 logg=8.97\n",
      "Changing to logg=5.00 for T= 50122 logg=8.97\n",
      "Changing to T= 50000 for T= 95142 logg=4.91\n",
      "Changing to logg=5.00 for T= 95142 logg=4.91\n",
      "Changing to logg=5.00 for T= 46003 logg=5.29\n",
      "Changing to T= 50000 for T=100000 logg=8.63\n",
      "Changing to logg=5.00 for T=100000 logg=8.63\n",
      "Changing to logg=5.00 for T= 46108 logg=8.97\n",
      "Changing to logg=5.00 for T= 45116 logg=5.46\n",
      "Changing to logg=5.00 for T= 45221 logg=5.40\n",
      "Changing to T= 50000 for T=102785 logg=5.05\n",
      "Changing to logg=5.00 for T=102785 logg=5.05\n",
      "Changing to T= 50000 for T= 50879 logg=9.28\n",
      "Changing to logg=5.00 for T= 50879 logg=9.28\n",
      "Changing to logg=5.00 for T= 39361 logg=5.50\n",
      "Changing to T= 50000 for T= 50818 logg=9.28\n",
      "Changing to logg=5.00 for T= 50818 logg=9.28\n",
      "Changing to T= 50000 for T= 51156 logg=9.29\n",
      "Changing to logg=5.00 for T= 51156 logg=9.29\n",
      "Changing to T= 50000 for T=100000 logg=8.63\n",
      "Changing to logg=5.00 for T=100000 logg=8.63\n",
      "Changing to T= 50000 for T=100000 logg=8.63\n",
      "Changing to logg=5.00 for T=100000 logg=8.63\n",
      "Changing to logg=5.00 for T= 46354 logg=5.33\n",
      "Changing to logg=5.00 for T= 46123 logg=5.28\n",
      "Changing to logg=5.00 for T= 34433 logg=8.43\n",
      "Changing to T= 50000 for T= 50619 logg=9.27\n",
      "Changing to logg=5.00 for T= 50619 logg=9.27\n",
      "Changing to T= 50000 for T=100000 logg=8.64\n",
      "Changing to logg=5.00 for T=100000 logg=8.64\n",
      "Changing to T= 50000 for T= 50817 logg=9.28\n",
      "Changing to logg=5.00 for T= 50817 logg=9.28\n",
      "Changing to T= 50000 for T=100000 logg=8.63\n",
      "Changing to logg=5.00 for T=100000 logg=8.63\n",
      "Changing to T= 50000 for T=100000 logg=8.63\n",
      "Changing to logg=5.00 for T=100000 logg=8.63\n",
      "Changing to T= 50000 for T= 50040 logg=8.97\n",
      "Changing to logg=5.00 for T= 50040 logg=8.97\n",
      "Changing to logg=5.00 for T= 44728 logg=5.47\n",
      "Changing to T= 50000 for T= 50817 logg=9.28\n",
      "Changing to logg=5.00 for T= 50817 logg=9.28\n",
      "Changing to logg=5.00 for T= 34708 logg=8.37\n",
      "Changing to logg=3.00 for T= 21333 logg=2.21\n",
      "Changing to T= 50000 for T=100000 logg=8.63\n",
      "Changing to logg=5.00 for T=100000 logg=8.63\n",
      "Changing to T= 50000 for T= 65146 logg=9.14\n",
      "Changing to logg=5.00 for T= 65146 logg=9.14\n",
      "Changing to T= 50000 for T= 50819 logg=9.28\n",
      "Changing to logg=5.00 for T= 50819 logg=9.28\n",
      "Changing to logg=5.00 for T= 35423 logg=8.41\n",
      "Changing to logg=5.00 for T= 44968 logg=5.34\n",
      "Changing to T= 50000 for T= 50817 logg=9.28\n",
      "Changing to logg=5.00 for T= 50817 logg=9.28\n",
      "Changing to logg=5.00 for T= 33735 logg=8.33\n",
      "Changing to T= 50000 for T= 50817 logg=9.28\n",
      "Changing to logg=5.00 for T= 50817 logg=9.28\n",
      "Changing to T= 50000 for T= 95508 logg=8.59\n",
      "Changing to logg=5.00 for T= 95508 logg=8.59\n",
      "Changing to logg=5.00 for T= 34396 logg=8.44\n",
      "Changing to logg=5.00 for T= 45196 logg=5.37\n",
      "Changing to T= 50000 for T= 50817 logg=9.28\n",
      "Changing to logg=5.00 for T= 50817 logg=9.28\n",
      "Changing to T= 50000 for T= 50817 logg=9.28\n",
      "Changing to logg=5.00 for T= 50817 logg=9.28\n",
      "Changing to T= 50000 for T= 50170 logg=9.25\n",
      "Changing to logg=5.00 for T= 50170 logg=9.25\n",
      "Changing to logg=5.00 for T= 45442 logg=5.39\n",
      "Changing to logg=5.00 for T= 45171 logg=5.44\n",
      "Changing to logg=5.00 for T= 35825 logg=8.35\n",
      "Changing to logg=5.00 for T= 40498 logg=5.45\n",
      "Changing to logg=5.00 for T= 34820 logg=8.42\n",
      "Changing to T= 50000 for T= 50914 logg=9.28\n",
      "Changing to logg=5.00 for T= 50914 logg=9.28\n",
      "Changing to logg=5.00 for T= 45587 logg=5.36\n",
      "Changing to T=  1200 for T=   923 logg=4.44\n",
      "Changing to T= 50000 for T=100000 logg=8.64\n",
      "Changing to logg=5.00 for T=100000 logg=8.64\n",
      "Changing to T= 50000 for T= 50651 logg=9.27\n",
      "Changing to logg=5.00 for T= 50651 logg=9.27\n",
      "Changing to T=  1200 for T=   923 logg=4.44\n",
      "Changing to T= 50000 for T= 51026 logg=9.28\n",
      "Changing to logg=5.00 for T= 51026 logg=9.28\n",
      "Changing to T= 50000 for T= 50817 logg=9.28\n",
      "Changing to logg=5.00 for T= 50817 logg=9.28\n",
      "Changing to T= 50000 for T= 98035 logg=8.64\n",
      "Changing to logg=5.00 for T= 98035 logg=8.64\n",
      "Changing to T= 50000 for T= 50272 logg=8.69\n",
      "Changing to logg=5.00 for T= 50272 logg=8.69\n",
      "Changing to T= 50000 for T= 50170 logg=9.25\n",
      "Changing to logg=5.00 for T= 50170 logg=9.25\n",
      "Changing to logg=5.00 for T=  1847 logg=4.44\n",
      "Changing to logg=5.00 for T= 46844 logg=5.30\n",
      "Changing to T= 50000 for T= 50817 logg=9.28\n",
      "Changing to logg=5.00 for T= 50817 logg=9.28\n",
      "Changing to T= 50000 for T= 50832 logg=9.28\n",
      "Changing to logg=5.00 for T= 50832 logg=9.28\n",
      "Changing to T= 50000 for T= 50938 logg=9.28\n",
      "Changing to logg=5.00 for T= 50938 logg=9.28\n",
      "Changing to logg=5.00 for T=  1847 logg=4.44\n",
      "Changing to T= 50000 for T= 98296 logg=8.64\n",
      "Changing to logg=5.00 for T= 98296 logg=8.64\n",
      "Changing to logg=5.00 for T= 44821 logg=5.49\n",
      "Changing to T= 50000 for T= 50817 logg=9.28\n",
      "Changing to logg=5.00 for T= 50817 logg=9.28\n",
      "Changing to logg=5.00 for T= 45870 logg=5.36\n",
      "Changing to logg=5.00 for T= 33523 logg=8.36\n",
      "Changing to logg=5.00 for T= 45011 logg=5.30\n",
      "Changing to T=  1200 for T=   923 logg=4.44\n",
      "Changing to logg=2.00 for T= 11585 logg=1.28\n",
      "Changing to logg=5.00 for T= 45652 logg=5.39\n",
      "Changing to logg=5.00 for T= 34212 logg=8.39\n",
      "Changing to logg=5.00 for T= 46336 logg=5.34\n",
      "Changing to logg=5.00 for T= 45996 logg=5.34\n",
      "Changing to T= 50000 for T=100000 logg=8.64\n",
      "Changing to logg=5.00 for T=100000 logg=8.64\n",
      "Changing to logg=5.00 for T= 45754 logg=5.34\n",
      "Changing to T= 50000 for T= 50170 logg=9.25\n",
      "Changing to logg=5.00 for T= 50170 logg=9.25\n",
      "Changing to logg=5.00 for T= 37348 logg=5.53\n",
      "Changing to T= 50000 for T= 95509 logg=8.59\n",
      "Changing to logg=5.00 for T= 95509 logg=8.59\n",
      "Changing to logg=5.00 for T= 43513 logg=5.62\n",
      "Changing to T= 50000 for T= 50817 logg=9.28\n",
      "Changing to logg=5.00 for T= 50817 logg=9.28\n",
      "Changing to T= 50000 for T= 50938 logg=9.28\n",
      "Changing to logg=5.00 for T= 50938 logg=9.28\n",
      "Changing to T= 50000 for T=100000 logg=8.64\n",
      "Changing to logg=5.00 for T=100000 logg=8.64\n",
      "Changing to logg=5.00 for T= 46597 logg=5.32\n",
      "Changing to T= 50000 for T= 50938 logg=9.28\n",
      "Changing to logg=5.00 for T= 50938 logg=9.28\n",
      "Changing to logg=5.00 for T=  1847 logg=4.44\n",
      "Changing to T= 50000 for T=100000 logg=8.64\n",
      "Changing to logg=5.00 for T=100000 logg=8.64\n",
      "Changing to T= 50000 for T=100000 logg=8.64\n",
      "Changing to logg=5.00 for T=100000 logg=8.64\n",
      "Changing to logg=5.00 for T= 39031 logg=5.54\n",
      "Changing to T= 50000 for T=100000 logg=8.64\n",
      "Changing to logg=5.00 for T=100000 logg=8.64\n",
      "Changing to logg=5.00 for T= 27894 logg=6.22\n",
      "Changing to logg=5.00 for T= 44889 logg=5.49\n",
      "Changing to T= 50000 for T= 50170 logg=9.25\n",
      "Changing to logg=5.00 for T= 50170 logg=9.25\n",
      "Changing to T= 50000 for T= 50817 logg=9.28\n",
      "Changing to logg=5.00 for T= 50817 logg=9.28\n",
      "Changing to T= 50000 for T= 50817 logg=9.28\n",
      "Changing to logg=5.00 for T= 50817 logg=9.28\n",
      "Changing to T= 50000 for T= 50940 logg=9.28\n",
      "Changing to logg=5.00 for T= 50940 logg=9.28\n",
      "Changing to logg=5.00 for T= 34463 logg=8.34\n",
      "Changing to T=  1200 for T=   923 logg=4.44\n",
      "Changing to T= 50000 for T= 50817 logg=9.28\n",
      "Changing to logg=5.00 for T= 50817 logg=9.28\n",
      "Changing to T= 50000 for T=103122 logg=5.06\n",
      "Changing to logg=5.00 for T=103122 logg=5.06\n",
      "Changing to T= 50000 for T= 54404 logg=8.83\n",
      "Changing to logg=5.00 for T= 54404 logg=8.83\n"
     ]
    },
    {
     "name": "stdout",
     "output_type": "stream",
     "text": [
      "Changing to T= 50000 for T= 50170 logg=9.25\n",
      "Changing to logg=5.00 for T= 50170 logg=9.25\n",
      "Changing to T= 50000 for T= 50817 logg=9.28\n",
      "Changing to logg=5.00 for T= 50817 logg=9.28\n",
      "Changing to logg=5.00 for T= 47826 logg=5.33\n",
      "Changing to T= 50000 for T=100000 logg=8.64\n",
      "Changing to logg=5.00 for T=100000 logg=8.64\n",
      "Changing to T= 50000 for T= 50938 logg=9.28\n",
      "Changing to logg=5.00 for T= 50938 logg=9.28\n",
      "Changing to T= 50000 for T= 50817 logg=9.28\n",
      "Changing to logg=5.00 for T= 50817 logg=9.28\n",
      "Changing to logg=5.00 for T= 39616 logg=5.54\n",
      "Changing to logg=5.00 for T= 44852 logg=5.49\n",
      "Changing to T= 50000 for T=100000 logg=8.64\n",
      "Changing to logg=5.00 for T=100000 logg=8.64\n",
      "Changing to logg=5.00 for T=  1847 logg=4.44\n",
      "Changing to T= 50000 for T= 98284 logg=8.64\n",
      "Changing to logg=5.00 for T= 98284 logg=8.64\n",
      "Changing to T= 50000 for T= 50879 logg=9.28\n",
      "Changing to logg=5.00 for T= 50879 logg=9.28\n",
      "Changing to logg=5.00 for T= 44808 logg=5.51\n",
      "Changing to T=  1200 for T=   923 logg=4.44\n",
      "Changing to T= 50000 for T= 50834 logg=9.28\n",
      "Changing to logg=5.00 for T= 50834 logg=9.28\n",
      "Changing to T= 50000 for T= 50817 logg=9.28\n",
      "Changing to logg=5.00 for T= 50817 logg=9.28\n",
      "Changing to T= 50000 for T= 50817 logg=9.28\n",
      "Changing to logg=5.00 for T= 50817 logg=9.28\n",
      "Changing to logg=5.00 for T= 35994 logg=8.32\n",
      "Changing to logg=4.00 for T= 32584 logg=3.70\n",
      "Changing to T= 50000 for T=100000 logg=8.64\n",
      "Changing to logg=5.00 for T=100000 logg=8.64\n",
      "Changing to logg=5.00 for T= 43124 logg=5.50\n",
      "Changing to T= 50000 for T=100000 logg=8.64\n",
      "Changing to logg=5.00 for T=100000 logg=8.64\n",
      "Changing to T= 50000 for T= 50817 logg=9.28\n",
      "Changing to logg=5.00 for T= 50817 logg=9.28\n",
      "Changing to T= 50000 for T= 50170 logg=9.25\n",
      "Changing to logg=5.00 for T= 50170 logg=9.25\n",
      "Changing to T= 50000 for T=104150 logg=5.08\n",
      "Changing to logg=5.00 for T=104150 logg=5.08\n",
      "Changing to logg=5.00 for T=  1847 logg=4.44\n",
      "Changing to logg=5.00 for T= 38199 logg=5.48\n",
      "Changing to T= 50000 for T= 50938 logg=9.28\n",
      "Changing to logg=5.00 for T= 50938 logg=9.28\n",
      "Changing to T= 50000 for T= 86734 logg=8.59\n",
      "Changing to logg=5.00 for T= 86734 logg=8.59\n",
      "Changing to T= 50000 for T=100000 logg=8.64\n",
      "Changing to logg=5.00 for T=100000 logg=8.64\n",
      "Changing to logg=5.00 for T= 45540 logg=5.31\n",
      "Changing to T= 50000 for T= 50817 logg=9.28\n",
      "Changing to logg=5.00 for T= 50817 logg=9.28\n",
      "Changing to T= 50000 for T=100000 logg=8.64\n",
      "Changing to logg=5.00 for T=100000 logg=8.64\n",
      "Changing to logg=5.00 for T= 45373 logg=5.34\n",
      "Changing to T= 50000 for T= 86734 logg=8.59\n",
      "Changing to logg=5.00 for T= 86734 logg=8.59\n",
      "Changing to T= 50000 for T=100000 logg=8.64\n",
      "Changing to logg=5.00 for T=100000 logg=8.64\n",
      "Changing to logg=5.00 for T= 45500 logg=5.31\n",
      "Changing to logg=5.00 for T= 33945 logg=8.40\n",
      "Changing to T= 50000 for T= 54275 logg=8.82\n",
      "Changing to logg=5.00 for T= 54275 logg=8.82\n",
      "Changing to T= 50000 for T= 50170 logg=9.25\n",
      "Changing to logg=5.00 for T= 50170 logg=9.25\n",
      "Changing to logg=5.00 for T= 45101 logg=5.44\n",
      "Changing to logg=0.00 for T=  3333 logg=-0.85\n",
      "Changing to T= 50000 for T= 50817 logg=9.28\n",
      "Changing to logg=5.00 for T= 50817 logg=9.28\n",
      "Changing to logg=5.00 for T= 40105 logg=5.37\n",
      "Changing to T= 50000 for T= 50531 logg=9.27\n",
      "Changing to logg=5.00 for T= 50531 logg=9.27\n",
      "Changing to logg=5.00 for T= 33409 logg=8.42\n",
      "Changing to logg=5.00 for T= 46190 logg=5.32\n",
      "Changing to logg=5.00 for T=  1847 logg=4.44\n",
      "Changing to T= 50000 for T= 50818 logg=9.28\n",
      "Changing to logg=5.00 for T= 50818 logg=9.28\n",
      "Changing to logg=5.00 for T= 47284 logg=5.46\n",
      "Changing to logg=2.50 for T= 12658 logg=1.42\n",
      "Changing to logg=5.00 for T= 48790 logg=8.29\n",
      "Changing to logg=5.00 for T= 34647 logg=8.44\n",
      "Changing to T= 50000 for T= 50817 logg=9.28\n",
      "Changing to logg=5.00 for T= 50817 logg=9.28\n",
      "Changing to T= 50000 for T= 50632 logg=9.27\n",
      "Changing to logg=5.00 for T= 50632 logg=9.27\n",
      "Changing to T= 50000 for T= 50704 logg=9.27\n",
      "Changing to logg=5.00 for T= 50704 logg=9.27\n",
      "Changing to logg=5.00 for T= 28083 logg=6.22\n",
      "Changing to logg=5.00 for T= 46317 logg=5.45\n",
      "Changing to T= 50000 for T= 50817 logg=9.28\n",
      "Changing to logg=5.00 for T= 50817 logg=9.28\n",
      "Changing to T= 50000 for T= 50817 logg=9.28\n",
      "Changing to logg=5.00 for T= 50817 logg=9.28\n",
      "Changing to T= 50000 for T= 50817 logg=9.28\n",
      "Changing to logg=5.00 for T= 50817 logg=9.28\n",
      "Changing to T= 50000 for T= 50170 logg=9.25\n",
      "Changing to logg=5.00 for T= 50170 logg=9.25\n",
      "Changing to logg=5.00 for T= 40733 logg=5.47\n",
      "Changing to T=  1200 for T=   923 logg=4.44\n",
      "Changing to logg=5.00 for T= 49968 logg=9.25\n",
      "Changing to logg=5.00 for T= 44376 logg=5.41\n",
      "Changing to logg=5.00 for T= 34978 logg=8.34\n",
      "Changing to logg=5.00 for T= 39545 logg=5.55\n",
      "Changing to logg=5.00 for T= 47060 logg=5.31\n",
      "Changing to T= 50000 for T= 50817 logg=9.28\n",
      "Changing to logg=5.00 for T= 50817 logg=9.28\n",
      "Changing to T= 50000 for T=146825 logg=5.70\n",
      "Changing to logg=5.00 for T=146825 logg=5.70\n",
      "Changing to T= 50000 for T=102941 logg=5.05\n",
      "Changing to logg=5.00 for T=102941 logg=5.05\n",
      "Changing to logg=5.00 for T= 45604 logg=5.45\n",
      "Changing to T= 50000 for T=100000 logg=8.64\n",
      "Changing to logg=5.00 for T=100000 logg=8.64\n",
      "Changing to logg=5.00 for T= 45039 logg=5.45\n",
      "Changing to T= 50000 for T= 50170 logg=9.25\n",
      "Changing to logg=5.00 for T= 50170 logg=9.25\n",
      "Changing to T= 50000 for T= 50817 logg=9.28\n",
      "Changing to logg=5.00 for T= 50817 logg=9.28\n",
      "Changing to logg=5.00 for T= 33868 logg=8.46\n",
      "Changing to logg=5.00 for T= 34368 logg=8.37\n",
      "Changing to logg=5.00 for T= 34948 logg=8.46\n",
      "Changing to logg=5.00 for T=  1847 logg=4.44\n",
      "Changing to T= 50000 for T= 50170 logg=9.25\n",
      "Changing to logg=5.00 for T= 50170 logg=9.25\n",
      "Changing to logg=5.00 for T= 45721 logg=5.32\n",
      "Changing to T= 50000 for T=100000 logg=8.64\n",
      "Changing to logg=5.00 for T=100000 logg=8.64\n",
      "Changing to logg=2.00 for T= 11197 logg=1.24\n",
      "Changing to T= 50000 for T= 50817 logg=9.28\n",
      "Changing to logg=5.00 for T= 50817 logg=9.28\n",
      "Changing to T= 50000 for T= 50170 logg=9.25\n",
      "Changing to logg=5.00 for T= 50170 logg=9.25\n",
      "Changing to T= 50000 for T=100000 logg=8.64\n",
      "Changing to logg=5.00 for T=100000 logg=8.64\n",
      "Changing to T= 50000 for T= 50938 logg=9.28\n",
      "Changing to logg=5.00 for T= 50938 logg=9.28\n",
      "Changing to T= 50000 for T= 51043 logg=9.28\n",
      "Changing to logg=5.00 for T= 51043 logg=9.28\n",
      "Changing to logg=5.00 for T= 44261 logg=5.56\n",
      "Changing to logg=5.00 for T=  1847 logg=4.44\n",
      "Changing to T=  1200 for T=   923 logg=4.44\n",
      "Changing to T= 50000 for T=137243 logg=5.54\n",
      "Changing to logg=5.00 for T=137243 logg=5.54\n",
      "Changing to T= 50000 for T= 50817 logg=9.28\n",
      "Changing to logg=5.00 for T= 50817 logg=9.28\n",
      "Changing to T= 50000 for T=100000 logg=8.64\n",
      "Changing to logg=5.00 for T=100000 logg=8.64\n",
      "Changing to T= 50000 for T=112166 logg=5.20\n",
      "Changing to logg=5.00 for T=112166 logg=5.20\n",
      "Changing to T= 50000 for T=100000 logg=8.64\n",
      "Changing to logg=5.00 for T=100000 logg=8.64\n",
      "Changing to T= 50000 for T= 50170 logg=9.25\n",
      "Changing to logg=5.00 for T= 50170 logg=9.25\n",
      "Changing to logg=5.00 for T= 45359 logg=5.37\n",
      "Changing to T= 50000 for T= 99373 logg=4.98\n",
      "Changing to logg=5.00 for T= 99373 logg=4.98\n",
      "Changing to T= 50000 for T= 95508 logg=8.59\n",
      "Changing to logg=5.00 for T= 95508 logg=8.59\n",
      "Changing to T= 50000 for T= 50170 logg=9.25\n",
      "Changing to logg=5.00 for T= 50170 logg=9.25\n",
      "Changing to logg=5.00 for T= 39711 logg=5.48\n",
      "Changing to logg=5.00 for T= 38970 logg=5.58\n",
      "Changing to T= 50000 for T= 50170 logg=9.25\n",
      "Changing to logg=5.00 for T= 50170 logg=9.25\n",
      "Changing to T= 50000 for T=100000 logg=8.64\n",
      "Changing to logg=5.00 for T=100000 logg=8.64\n",
      "Changing to logg=5.00 for T= 47267 logg=5.31\n",
      "Changing to T= 50000 for T= 50817 logg=9.28\n",
      "Changing to logg=5.00 for T= 50817 logg=9.28\n",
      "Changing to logg=5.00 for T= 39208 logg=5.55\n",
      "Changing to T= 50000 for T= 50817 logg=9.28\n",
      "Changing to logg=5.00 for T= 50817 logg=9.28\n",
      "Changing to T=  1200 for T=   923 logg=4.44\n",
      "Making photometry for isochrone: log(t) = 8.00  AKs = -0.30  dist = 1000\n",
      "     Starting at:  2020-12-21 22:11:51.056840   Usually takes ~5 minutes\n",
      "Starting filter: ubv,U   Elapsed time: 0.00 seconds\n",
      "Starting synthetic photometry\n",
      "Singles\n",
      "M =   1.800 Msun  T =  8104 K  m_ubv_U = 7.58\n",
      "Primaries\n",
      "M =   5.500 Msun  T = 46489 K  m_ubv_U = 5.81\n",
      "M =   4.500 Msun  T = 13927 K  m_ubv_U = 3.39\n",
      "M =   5.012 Msun  T =   nan K  m_ubv_U =  nan\n",
      "M =   0.501 Msun  T =   nan K  m_ubv_U =  nan\n"
     ]
    },
    {
     "name": "stdout",
     "output_type": "stream",
     "text": [
      "M =   0.501 Msun  T =   nan K  m_ubv_U =  nan\n",
      "M =   1.600 Msun  T =  7355 K  m_ubv_U = 8.16\n",
      "M =   4.000 Msun  T = 13395 K  m_ubv_U = 4.00\n",
      "M =   1.000 Msun  T =   nan K  m_ubv_U =  nan\n",
      "M =   5.000 Msun  T = 12883 K  m_ubv_U = 2.53\n",
      "M =   3.200 Msun  T = 57436 K  m_ubv_U = 15.09\n",
      "M =   4.000 Msun  T = 13395 K  m_ubv_U = 4.00\n",
      "M =   3.981 Msun  T =   nan K  m_ubv_U =  nan\n",
      "M =   3.200 Msun  T = 14192 K  m_ubv_U = 3.65\n",
      "M =   6.500 Msun  T = 50272 K  m_ubv_U = 14.59\n",
      "M =   3.500 Msun  T = 12520 K  m_ubv_U = 4.60\n",
      "M =   3.700 Msun  T = 13962 K  m_ubv_U = 3.63\n",
      "M =   1.600 Msun  T = 10745 K  m_ubv_U = 5.74\n",
      "M =   1.000 Msun  T =   nan K  m_ubv_U =  nan\n",
      "M =   1.000 Msun  T =   nan K  m_ubv_U =  nan\n",
      "M =   9.000 Msun  T = 29469 K  m_ubv_U = 14.65\n",
      "M =   5.000 Msun  T = 12883 K  m_ubv_U = 2.53\n",
      "M =   6.500 Msun  T = 50074 K  m_ubv_U = 14.58\n",
      "M =   3.500 Msun  T = 12520 K  m_ubv_U = 4.60\n",
      "M =   4.500 Msun  T = 13927 K  m_ubv_U = 3.39\n",
      "Secondaries\n",
      "M =   0.550 Msun  T =  3837 K  m_ubv_U = 16.70\n",
      "M =   2.250 Msun  T =  9993 K  m_ubv_U = 6.51\n",
      "M =  12.000 Msun  T = 40498 K  m_ubv_U = 6.47\n",
      "M =   2.000 Msun  T =  8931 K  m_ubv_U = 7.03\n",
      "M =   2.000 Msun  T =  8931 K  m_ubv_U = 7.03\n",
      "M =   0.160 Msun  T =   923 K  m_ubv_U = 31.69\n",
      "M =   1.600 Msun  T =  7485 K  m_ubv_U = 8.16\n",
      "M =   3.700 Msun  T = 12759 K  m_ubv_U = 4.31\n",
      "M =   2.000 Msun  T =  9096 K  m_ubv_U = 7.04\n",
      "M =   1.920 Msun  T =   nan K  m_ubv_U =  nan\n",
      "M =   2.000 Msun  T =  9095 K  m_ubv_U = 7.05\n",
      "M =  12.000 Msun  T =  9156 K  m_ubv_U = 3.89\n",
      "M =   0.640 Msun  T =   nan K  m_ubv_U =  nan\n",
      "M =   1.950 Msun  T =  8903 K  m_ubv_U = 7.18\n",
      "M =   1.400 Msun  T =  6698 K  m_ubv_U = 8.93\n",
      "M =   0.370 Msun  T =   nan K  m_ubv_U =  nan\n",
      "M =   1.120 Msun  T =   nan K  m_ubv_U =  nan\n",
      "M =   4.000 Msun  T = 13456 K  m_ubv_U = 4.02\n",
      "M =   5.500 Msun  T = 100000 K  m_ubv_U = 13.93\n",
      "M =   2.700 Msun  T =  8978 K  m_ubv_U = 5.68\n",
      "M =   3.500 Msun  T = 13640 K  m_ubv_U = 4.68\n",
      "M =   5.850 Msun  T = 15697 K  m_ubv_U = 2.23\n",
      "M =   0.350 Msun  T =  3614 K  m_ubv_U = 18.11\n",
      "M =   0.450 Msun  T =  3703 K  m_ubv_U = 17.43\n",
      "Starting filter: ubv,V   Elapsed time: 7.25 seconds\n",
      "Starting synthetic photometry\n",
      "Singles\n",
      "M =   1.800 Msun  T =  8104 K  m_ubv_V = 7.50\n",
      "Primaries\n",
      "M =   5.500 Msun  T = 46489 K  m_ubv_V = 7.38\n",
      "M =   4.500 Msun  T = 13927 K  m_ubv_V = 4.17\n",
      "M =   5.012 Msun  T =   nan K  m_ubv_V =  nan\n",
      "M =   0.501 Msun  T =   nan K  m_ubv_V =  nan\n",
      "M =   0.501 Msun  T =   nan K  m_ubv_V =  nan\n",
      "M =   1.600 Msun  T =  7355 K  m_ubv_V = 8.04\n",
      "M =   4.000 Msun  T = 13395 K  m_ubv_V = 4.71\n",
      "M =   1.000 Msun  T =   nan K  m_ubv_V =  nan\n",
      "M =   5.000 Msun  T = 12883 K  m_ubv_V = 3.23\n",
      "M =   3.200 Msun  T = 57436 K  m_ubv_V = 16.67\n",
      "M =   4.000 Msun  T = 13395 K  m_ubv_V = 4.71\n",
      "M =   3.981 Msun  T =   nan K  m_ubv_V =  nan\n",
      "M =   3.200 Msun  T = 14192 K  m_ubv_V = 4.44\n",
      "M =   6.500 Msun  T = 50272 K  m_ubv_V = 16.17\n",
      "M =   3.500 Msun  T = 12520 K  m_ubv_V = 5.22\n",
      "M =   3.700 Msun  T = 13962 K  m_ubv_V = 4.40\n",
      "M =   1.600 Msun  T = 10745 K  m_ubv_V = 6.09\n",
      "M =   1.000 Msun  T =   nan K  m_ubv_V =  nan\n",
      "M =   1.000 Msun  T =   nan K  m_ubv_V =  nan\n",
      "M =   9.000 Msun  T = 29469 K  m_ubv_V = 15.99\n",
      "M =   5.000 Msun  T = 12883 K  m_ubv_V = 3.23\n",
      "M =   6.500 Msun  T = 50074 K  m_ubv_V = 16.16\n",
      "M =   3.500 Msun  T = 12520 K  m_ubv_V = 5.22\n",
      "M =   4.500 Msun  T = 13927 K  m_ubv_V = 4.17\n",
      "Secondaries\n",
      "M =   0.550 Msun  T =  3837 K  m_ubv_V = 14.56\n",
      "M =   2.250 Msun  T =  9993 K  m_ubv_V = 6.73\n",
      "M =  12.000 Msun  T = 40498 K  m_ubv_V = 8.00\n",
      "M =   2.000 Msun  T =  8931 K  m_ubv_V = 7.06\n",
      "M =   2.000 Msun  T =  8931 K  m_ubv_V = 7.06\n",
      "M =   0.160 Msun  T =   923 K  m_ubv_V = 30.47\n",
      "M =   1.600 Msun  T =  7485 K  m_ubv_V = 8.05\n",
      "M =   3.700 Msun  T = 12759 K  m_ubv_V = 4.96\n",
      "M =   2.000 Msun  T =  9096 K  m_ubv_V = 7.10\n",
      "M =   1.920 Msun  T =   nan K  m_ubv_V =  nan\n",
      "M =   2.000 Msun  T =  9095 K  m_ubv_V = 7.10\n",
      "M =  12.000 Msun  T =  9156 K  m_ubv_V = 4.04\n",
      "M =   0.640 Msun  T =   nan K  m_ubv_V =  nan\n",
      "M =   1.950 Msun  T =  8903 K  m_ubv_V = 7.20\n",
      "M =   1.400 Msun  T =  6698 K  m_ubv_V = 8.74\n",
      "M =   0.370 Msun  T =   nan K  m_ubv_V =  nan\n",
      "M =   1.120 Msun  T =   nan K  m_ubv_V =  nan\n",
      "M =   4.000 Msun  T = 13456 K  m_ubv_V = 4.74\n",
      "M =   5.500 Msun  T = 100000 K  m_ubv_V = 15.51\n",
      "M =   2.700 Msun  T =  8978 K  m_ubv_V = 5.71\n",
      "M =   3.500 Msun  T = 13640 K  m_ubv_V = 5.40\n",
      "M =   5.850 Msun  T = 15697 K  m_ubv_V = 3.15\n",
      "M =   0.350 Msun  T =  3614 K  m_ubv_V = 15.96\n",
      "M =   0.450 Msun  T =  3703 K  m_ubv_V = 15.28\n",
      "Starting filter: ubv,B   Elapsed time: 14.48 seconds\n",
      "Starting synthetic photometry\n",
      "Singles\n",
      "M =   1.800 Msun  T =  8104 K  m_ubv_B = 7.53\n",
      "Primaries\n",
      "M =   5.500 Msun  T = 46489 K  m_ubv_B = 6.92\n",
      "M =   4.500 Msun  T = 13927 K  m_ubv_B = 3.89\n",
      "M =   5.012 Msun  T =   nan K  m_ubv_B =  nan\n",
      "M =   0.501 Msun  T =   nan K  m_ubv_B =  nan\n",
      "M =   0.501 Msun  T =   nan K  m_ubv_B =  nan\n",
      "M =   1.600 Msun  T =  7355 K  m_ubv_B = 8.18\n",
      "M =   4.000 Msun  T = 13395 K  m_ubv_B = 4.44\n",
      "M =   1.000 Msun  T =   nan K  m_ubv_B =  nan\n",
      "M =   5.000 Msun  T = 12883 K  m_ubv_B = 2.96\n",
      "M =   3.200 Msun  T = 57436 K  m_ubv_B = 16.21\n",
      "M =   4.000 Msun  T = 13395 K  m_ubv_B = 4.44\n",
      "M =   3.981 Msun  T =   nan K  m_ubv_B =  nan\n",
      "M =   3.200 Msun  T = 14192 K  m_ubv_B = 4.16\n",
      "M =   6.500 Msun  T = 50272 K  m_ubv_B = 15.71\n",
      "M =   3.500 Msun  T = 12520 K  m_ubv_B = 4.97\n",
      "M =   3.700 Msun  T = 13962 K  m_ubv_B = 4.12\n",
      "M =   1.600 Msun  T = 10745 K  m_ubv_B = 5.89\n",
      "M =   1.000 Msun  T =   nan K  m_ubv_B =  nan\n",
      "M =   1.000 Msun  T =   nan K  m_ubv_B =  nan\n",
      "M =   9.000 Msun  T = 29469 K  m_ubv_B = 15.67\n",
      "M =   5.000 Msun  T = 12883 K  m_ubv_B = 2.96\n",
      "M =   6.500 Msun  T = 50074 K  m_ubv_B = 15.69\n",
      "M =   3.500 Msun  T = 12520 K  m_ubv_B = 4.97\n",
      "M =   4.500 Msun  T = 13927 K  m_ubv_B = 3.89\n",
      "Secondaries\n",
      "M =   0.550 Msun  T =  3837 K  m_ubv_B = 15.68\n",
      "M =   2.250 Msun  T =  9993 K  m_ubv_B = 6.57\n",
      "M =  12.000 Msun  T = 40498 K  m_ubv_B = 7.56\n",
      "M =   2.000 Msun  T =  8931 K  m_ubv_B = 6.98\n",
      "M =   2.000 Msun  T =  8931 K  m_ubv_B = 6.98\n",
      "M =   0.160 Msun  T =   923 K  m_ubv_B = 28.26\n",
      "M =   1.600 Msun  T =  7485 K  m_ubv_B = 8.17\n",
      "M =   3.700 Msun  T = 12759 K  m_ubv_B = 4.70\n",
      "M =   2.000 Msun  T =  9096 K  m_ubv_B = 7.01\n",
      "M =   1.920 Msun  T =   nan K  m_ubv_B =  nan\n",
      "M =   2.000 Msun  T =  9095 K  m_ubv_B = 7.01\n",
      "M =  12.000 Msun  T =  9156 K  m_ubv_B = 3.88\n",
      "M =   0.640 Msun  T =   nan K  m_ubv_B =  nan\n",
      "M =   1.950 Msun  T =  8903 K  m_ubv_B = 7.13\n",
      "M =   1.400 Msun  T =  6698 K  m_ubv_B = 8.99\n",
      "M =   0.370 Msun  T =   nan K  m_ubv_B =  nan\n",
      "M =   1.120 Msun  T =   nan K  m_ubv_B =  nan\n",
      "M =   4.000 Msun  T = 13456 K  m_ubv_B = 4.47\n",
      "M =   5.500 Msun  T = 100000 K  m_ubv_B = 15.05\n",
      "M =   2.700 Msun  T =  8978 K  m_ubv_B = 5.63\n",
      "M =   3.500 Msun  T = 13640 K  m_ubv_B = 5.13\n",
      "M =   5.850 Msun  T = 15697 K  m_ubv_B = 2.85\n",
      "M =   0.350 Msun  T =  3614 K  m_ubv_B = 17.08\n",
      "M =   0.450 Msun  T =  3703 K  m_ubv_B = 16.41\n",
      "Starting filter: ubv,R   Elapsed time: 21.59 seconds\n",
      "Starting synthetic photometry\n",
      "Singles\n",
      "M =   1.800 Msun  T =  8104 K  m_ubv_R = 8.24\n",
      "Primaries\n",
      "M =   5.500 Msun  T = 46489 K  m_ubv_R = 8.33\n",
      "M =   4.500 Msun  T = 13927 K  m_ubv_R = 5.03\n",
      "M =   5.012 Msun  T =   nan K  m_ubv_R =  nan\n",
      "M =   0.501 Msun  T =   nan K  m_ubv_R =  nan\n",
      "M =   0.501 Msun  T =   nan K  m_ubv_R =  nan\n",
      "M =   1.600 Msun  T =  7355 K  m_ubv_R = 8.72\n",
      "M =   4.000 Msun  T = 13395 K  m_ubv_R = 5.57\n",
      "M =   1.000 Msun  T =   nan K  m_ubv_R =  nan\n",
      "M =   5.000 Msun  T = 12883 K  m_ubv_R = 4.08\n",
      "M =   3.200 Msun  T = 57436 K  m_ubv_R = 17.62\n",
      "M =   4.000 Msun  T = 13395 K  m_ubv_R = 5.57\n",
      "M =   3.981 Msun  T =   nan K  m_ubv_R =  nan\n",
      "M =   3.200 Msun  T = 14192 K  m_ubv_R = 5.30\n",
      "M =   6.500 Msun  T = 50272 K  m_ubv_R = 17.12\n",
      "M =   3.500 Msun  T = 12520 K  m_ubv_R = 6.07\n",
      "M =   3.700 Msun  T = 13962 K  m_ubv_R = 5.26\n",
      "M =   1.600 Msun  T = 10745 K  m_ubv_R = 6.93\n",
      "M =   1.000 Msun  T =   nan K  m_ubv_R =  nan\n",
      "M =   1.000 Msun  T =   nan K  m_ubv_R =  nan\n",
      "M =   9.000 Msun  T = 29469 K  m_ubv_R = 16.91\n",
      "M =   5.000 Msun  T = 12883 K  m_ubv_R = 4.08\n",
      "M =   6.500 Msun  T = 50074 K  m_ubv_R = 17.11\n",
      "M =   3.500 Msun  T = 12520 K  m_ubv_R = 6.07\n",
      "M =   4.500 Msun  T = 13927 K  m_ubv_R = 5.03\n",
      "Secondaries\n",
      "M =   0.550 Msun  T =  3837 K  m_ubv_R = 14.65\n",
      "M =   2.250 Msun  T =  9993 K  m_ubv_R = 7.56\n",
      "M =  12.000 Msun  T = 40498 K  m_ubv_R = 8.95\n",
      "M =   2.000 Msun  T =  8931 K  m_ubv_R = 7.86\n"
     ]
    },
    {
     "name": "stdout",
     "output_type": "stream",
     "text": [
      "M =   2.000 Msun  T =  8931 K  m_ubv_R = 7.86\n",
      "M =   0.160 Msun  T =   923 K  m_ubv_R = 27.50\n",
      "M =   1.600 Msun  T =  7485 K  m_ubv_R = 8.74\n",
      "M =   3.700 Msun  T = 12759 K  m_ubv_R = 5.81\n",
      "M =   2.000 Msun  T =  9096 K  m_ubv_R = 7.90\n",
      "M =   1.920 Msun  T =   nan K  m_ubv_R =  nan\n",
      "M =   2.000 Msun  T =  9095 K  m_ubv_R = 7.90\n",
      "M =  12.000 Msun  T =  9156 K  m_ubv_R = 4.86\n",
      "M =   0.640 Msun  T =   nan K  m_ubv_R =  nan\n",
      "M =   1.950 Msun  T =  8903 K  m_ubv_R = 8.00\n",
      "M =   1.400 Msun  T =  6698 K  m_ubv_R = 9.34\n",
      "M =   0.370 Msun  T =   nan K  m_ubv_R =  nan\n",
      "M =   1.120 Msun  T =   nan K  m_ubv_R =  nan\n",
      "M =   4.000 Msun  T = 13456 K  m_ubv_R = 5.60\n",
      "M =   5.500 Msun  T = 100000 K  m_ubv_R = 16.46\n",
      "M =   2.700 Msun  T =  8978 K  m_ubv_R = 6.51\n",
      "M =   3.500 Msun  T = 13640 K  m_ubv_R = 6.26\n",
      "M =   5.850 Msun  T = 15697 K  m_ubv_R = 4.02\n",
      "M =   0.350 Msun  T =  3614 K  m_ubv_R = 16.08\n",
      "M =   0.450 Msun  T =  3703 K  m_ubv_R = 15.39\n",
      "Starting filter: ubv,I   Elapsed time: 28.69 seconds\n",
      "Starting synthetic photometry\n",
      "Singles\n",
      "M =   1.800 Msun  T =  8104 K  m_ubv_I = 9.91\n",
      "Primaries\n",
      "M =   5.500 Msun  T = 46489 K  m_ubv_I = 10.35\n",
      "M =   4.500 Msun  T = 13927 K  m_ubv_I = 6.91\n",
      "M =   5.012 Msun  T =   nan K  m_ubv_I =  nan\n",
      "M =   0.501 Msun  T =   nan K  m_ubv_I =  nan\n",
      "M =   0.501 Msun  T =   nan K  m_ubv_I =  nan\n",
      "M =   1.600 Msun  T =  7355 K  m_ubv_I = 10.29\n",
      "M =   4.000 Msun  T = 13395 K  m_ubv_I = 7.44\n",
      "M =   1.000 Msun  T =   nan K  m_ubv_I =  nan\n",
      "M =   5.000 Msun  T = 12883 K  m_ubv_I = 5.95\n",
      "M =   3.200 Msun  T = 57436 K  m_ubv_I = 19.65\n",
      "M =   4.000 Msun  T = 13395 K  m_ubv_I = 7.44\n",
      "M =   3.981 Msun  T =   nan K  m_ubv_I =  nan\n",
      "M =   3.200 Msun  T = 14192 K  m_ubv_I = 7.19\n",
      "M =   6.500 Msun  T = 50272 K  m_ubv_I = 19.15\n",
      "M =   3.500 Msun  T = 12520 K  m_ubv_I = 7.93\n",
      "M =   3.700 Msun  T = 13962 K  m_ubv_I = 7.14\n",
      "M =   1.600 Msun  T = 10745 K  m_ubv_I = 8.76\n",
      "M =   1.000 Msun  T =   nan K  m_ubv_I =  nan\n",
      "M =   1.000 Msun  T =   nan K  m_ubv_I =  nan\n",
      "M =   9.000 Msun  T = 29469 K  m_ubv_I = 18.93\n",
      "M =   5.000 Msun  T = 12883 K  m_ubv_I = 5.95\n",
      "M =   6.500 Msun  T = 50074 K  m_ubv_I = 19.14\n",
      "M =   3.500 Msun  T = 12520 K  m_ubv_I = 7.93\n",
      "M =   4.500 Msun  T = 13927 K  m_ubv_I = 6.91\n",
      "Secondaries\n",
      "M =   0.550 Msun  T =  3837 K  m_ubv_I = 15.21\n",
      "M =   2.250 Msun  T =  9993 K  m_ubv_I = 9.36\n",
      "M =  12.000 Msun  T = 40498 K  m_ubv_I = 10.97\n",
      "M =   2.000 Msun  T =  8931 K  m_ubv_I = 9.60\n",
      "M =   2.000 Msun  T =  8931 K  m_ubv_I = 9.60\n",
      "M =   0.160 Msun  T =   923 K  m_ubv_I = 22.81\n",
      "M =   1.600 Msun  T =  7485 K  m_ubv_I = 10.33\n",
      "M =   3.700 Msun  T = 12759 K  m_ubv_I = 7.68\n",
      "M =   2.000 Msun  T =  9096 K  m_ubv_I = 9.66\n",
      "M =   1.920 Msun  T =   nan K  m_ubv_I =  nan\n",
      "M =   2.000 Msun  T =  9095 K  m_ubv_I = 9.66\n",
      "M =  12.000 Msun  T =  9156 K  m_ubv_I = 6.62\n",
      "M =   0.640 Msun  T =   nan K  m_ubv_I =  nan\n",
      "M =   1.950 Msun  T =  8903 K  m_ubv_I = 9.74\n",
      "M =   1.400 Msun  T =  6698 K  m_ubv_I = 10.82\n",
      "M =   0.370 Msun  T =   nan K  m_ubv_I =  nan\n",
      "M =   1.120 Msun  T =   nan K  m_ubv_I =  nan\n",
      "M =   4.000 Msun  T = 13456 K  m_ubv_I = 7.47\n",
      "M =   5.500 Msun  T = 100000 K  m_ubv_I = 18.49\n",
      "M =   2.700 Msun  T =  8978 K  m_ubv_I = 8.26\n",
      "M =   3.500 Msun  T = 13640 K  m_ubv_I = 8.14\n",
      "M =   5.850 Msun  T = 15697 K  m_ubv_I = 5.92\n",
      "M =   0.350 Msun  T =  3614 K  m_ubv_I = 16.36\n",
      "M =   0.450 Msun  T =  3703 K  m_ubv_I = 15.80\n",
      "      Time taken: 35.63 seconds\n",
      "Isochrone generation took 360.080952 s.\n"
     ]
    }
   ],
   "source": [
    "import spisea\n",
    "from spisea import evolution, synthetic\n",
    "import math\n",
    "# Check if the evolution class works fine\n",
    "import time\n",
    "import numpy as np\n",
    "t1=time.time()\n",
    "bps=evolution.BPASS()\n",
    "iso1=synthetic.Isochrone_Binary(8.0, np.log10(1/2), 1000,math.log10(1), mass_sampling=1, filepath='/g/lu/scratch/ryotainagaki/BPASS_iso_filesTimedIsolated/')"
   ]
  },
  {
   "cell_type": "markdown",
   "metadata": {},
   "source": [
    "As a sanity check, I would like to make sure that, for primary stars, we only have (from the isochrone) designated phase 5 stars ( anything that is not a compact remnant), white dwarves (models with phase 101), and non-white dwarf compact remnants that are  NEWSECMODS primaries (models with phase 110). Also make sure that our secondary stars are non-compact-remnant, white dwarves, or are merged."
   ]
  },
  {
   "cell_type": "code",
   "execution_count": 2,
   "metadata": {},
   "outputs": [
    {
     "data": {
      "text/plain": [
       "True"
      ]
     },
     "execution_count": 2,
     "metadata": {},
     "output_type": "execute_result"
    }
   ],
   "source": [
    "import numpy as np\n",
    "np.all([(x==5 or x==101 or x==110) for x in iso1.primaries['phase']])"
   ]
  },
  {
   "cell_type": "code",
   "execution_count": 3,
   "metadata": {},
   "outputs": [
    {
     "data": {
      "text/plain": [
       "True"
      ]
     },
     "execution_count": 3,
     "metadata": {},
     "output_type": "execute_result"
    }
   ],
   "source": [
    "np.all([(x==5 or x==101) for x in iso1.singles['phase']])"
   ]
  },
  {
   "cell_type": "code",
   "execution_count": 4,
   "metadata": {},
   "outputs": [
    {
     "data": {
      "text/plain": [
       "True"
      ]
     },
     "execution_count": 4,
     "metadata": {},
     "output_type": "execute_result"
    }
   ],
   "source": [
    "np.all([(x==5 or x==101 or x==-99) for x in iso1.secondaries['phase']])"
   ]
  },
  {
   "cell_type": "markdown",
   "metadata": {},
   "source": [
    "Find the maximum, mean, and median  values of logg (cgs) for primaries, single stars, and secondaries. "
   ]
  },
  {
   "cell_type": "code",
   "execution_count": 5,
   "metadata": {},
   "outputs": [
    {
     "data": {
      "text/plain": [
       "9.294869501162154"
      ]
     },
     "execution_count": 5,
     "metadata": {},
     "output_type": "execute_result"
    }
   ],
   "source": [
    "import numpy as np\n",
    "np.max(iso1.singles['logg'])"
   ]
  },
  {
   "cell_type": "code",
   "execution_count": 6,
   "metadata": {},
   "outputs": [
    {
     "data": {
      "text/plain": [
       "9.288600394549206"
      ]
     },
     "execution_count": 6,
     "metadata": {},
     "output_type": "execute_result"
    }
   ],
   "source": [
    "import numpy as np\n",
    "np.max(np.nan_to_num(iso1.primaries['logg'], -np.inf))"
   ]
  },
  {
   "cell_type": "code",
   "execution_count": 7,
   "metadata": {},
   "outputs": [
    {
     "data": {
      "text/plain": [
       "9.283702439639246"
      ]
     },
     "execution_count": 7,
     "metadata": {},
     "output_type": "execute_result"
    }
   ],
   "source": [
    "np.max(np.nan_to_num(iso1.secondaries['logg']))"
   ]
  },
  {
   "cell_type": "code",
   "execution_count": 8,
   "metadata": {},
   "outputs": [
    {
     "data": {
      "text/plain": [
       "5.020545625034615"
      ]
     },
     "execution_count": 8,
     "metadata": {},
     "output_type": "execute_result"
    }
   ],
   "source": [
    "np.mean(iso1.singles['logg'])"
   ]
  },
  {
   "cell_type": "code",
   "execution_count": 9,
   "metadata": {},
   "outputs": [
    {
     "data": {
      "text/plain": [
       "3.9890469527568237"
      ]
     },
     "execution_count": 9,
     "metadata": {},
     "output_type": "execute_result"
    }
   ],
   "source": [
    "np.mean((np.nan_to_num(iso1.secondaries['logg'])))"
   ]
  },
  {
   "cell_type": "code",
   "execution_count": 10,
   "metadata": {},
   "outputs": [
    {
     "data": {
      "text/plain": [
       "3.2990361075927788"
      ]
     },
     "execution_count": 10,
     "metadata": {},
     "output_type": "execute_result"
    }
   ],
   "source": [
    "np.mean((np.nan_to_num(iso1.primaries['logg'])))"
   ]
  },
  {
   "cell_type": "code",
   "execution_count": 11,
   "metadata": {},
   "outputs": [
    {
     "data": {
      "text/plain": [
       "4.2567528175646645"
      ]
     },
     "execution_count": 11,
     "metadata": {},
     "output_type": "execute_result"
    }
   ],
   "source": [
    "np.median(iso1.singles['logg'])"
   ]
  },
  {
   "cell_type": "code",
   "execution_count": 12,
   "metadata": {},
   "outputs": [
    {
     "data": {
      "text/plain": [
       "nan"
      ]
     },
     "execution_count": 12,
     "metadata": {},
     "output_type": "execute_result"
    }
   ],
   "source": [
    "np.median(iso1.primaries['logg'])"
   ]
  },
  {
   "cell_type": "code",
   "execution_count": 13,
   "metadata": {},
   "outputs": [
    {
     "data": {
      "text/html": [
       "&lt;Column name=&apos;logg&apos; dtype=&apos;float64&apos; unit=&apos;&apos; length=2315&gt;\n",
       "<table>\n",
       "<tr><td>5.362614668103323</td></tr>\n",
       "<tr><td>0.8078790835724099</td></tr>\n",
       "<tr><td>3.473090063164065</td></tr>\n",
       "<tr><td>3.993735321246747</td></tr>\n",
       "<tr><td>4.257707609959058</td></tr>\n",
       "<tr><td>3.473087440629998</td></tr>\n",
       "<tr><td>3.4730421300111782</td></tr>\n",
       "<tr><td>nan</td></tr>\n",
       "<tr><td>3.99791093570227</td></tr>\n",
       "<tr><td>8.965437524916648</td></tr>\n",
       "<tr><td>3.473090063164065</td></tr>\n",
       "<tr><td>3.9714899803123087</td></tr>\n",
       "<tr><td>...</td></tr>\n",
       "<tr><td>4.271966922037053</td></tr>\n",
       "<tr><td>nan</td></tr>\n",
       "<tr><td>nan</td></tr>\n",
       "<tr><td>3.859456180408539</td></tr>\n",
       "<tr><td>4.0894821676439195</td></tr>\n",
       "<tr><td>3.9554022894475547</td></tr>\n",
       "<tr><td>nan</td></tr>\n",
       "<tr><td>nan</td></tr>\n",
       "<tr><td>4.271966922037053</td></tr>\n",
       "<tr><td>4.0894821676439195</td></tr>\n",
       "<tr><td>4.257707609959058</td></tr>\n",
       "<tr><td>4.257707609959058</td></tr>\n",
       "</table>"
      ],
      "text/plain": [
       "<Column name='logg' dtype='float64' unit='' length=2315>\n",
       " 5.362614668103323\n",
       "0.8078790835724099\n",
       " 3.473090063164065\n",
       " 3.993735321246747\n",
       " 4.257707609959058\n",
       " 3.473087440629998\n",
       "3.4730421300111782\n",
       "               nan\n",
       "  3.99791093570227\n",
       " 8.965437524916648\n",
       " 3.473090063164065\n",
       "3.9714899803123087\n",
       "               ...\n",
       " 4.271966922037053\n",
       "               nan\n",
       "               nan\n",
       " 3.859456180408539\n",
       "4.0894821676439195\n",
       "3.9554022894475547\n",
       "               nan\n",
       "               nan\n",
       " 4.271966922037053\n",
       "4.0894821676439195\n",
       " 4.257707609959058\n",
       " 4.257707609959058"
      ]
     },
     "execution_count": 13,
     "metadata": {},
     "output_type": "execute_result"
    }
   ],
   "source": [
    "iso1.primaries['logg']"
   ]
  },
  {
   "cell_type": "code",
   "execution_count": 14,
   "metadata": {},
   "outputs": [
    {
     "data": {
      "text/plain": [
       "Text(0.5, 0, 'logg in cgs')"
      ]
     },
     "execution_count": 14,
     "metadata": {},
     "output_type": "execute_result"
    },
    {
     "data": {
      "image/png": "[encoded data removed]",
      "text/plain": [
       "<Figure size 432x288 with 1 Axes>"
      ]
     },
     "metadata": {
      "needs_background": "light"
     },
     "output_type": "display_data"
    }
   ],
   "source": [
    "import matplotlib.pyplot as plt\n",
    "plt.title(\"Histogram of logg values (secondaries) of BPASS isochrone\")\n",
    "plt.hist(np.array([x for x in iso1.secondaries['logg'] if np.isfinite(x)]), np.arange(-10, 30, 1))\n",
    "plt.xlabel(\"logg in cgs\")"
   ]
  },
  {
   "cell_type": "code",
   "execution_count": 15,
   "metadata": {},
   "outputs": [
    {
     "data": {
      "text/plain": [
       "Text(0.5, 0, 'logg in cgs')"
      ]
     },
     "execution_count": 15,
     "metadata": {},
     "output_type": "execute_result"
    },
    {
     "data": {
      "image/png": "[encoded data removed]",
      "text/plain": [
       "<Figure size 432x288 with 1 Axes>"
      ]
     },
     "metadata": {
      "needs_background": "light"
     },
     "output_type": "display_data"
    }
   ],
   "source": [
    "import matplotlib.pyplot as plt\n",
    "plt.title(\"Histogram of logg values (primaries) of BPASS isochrone\")\n",
    "plt.hist(np.array([x for x in iso1.primaries['logg'] if np.isfinite(x)]), np.arange(-10, 30, 1))\n",
    "plt.xlabel(\"logg in cgs\")"
   ]
  },
  {
   "cell_type": "code",
   "execution_count": 16,
   "metadata": {},
   "outputs": [
    {
     "data": {
      "text/plain": [
       "Text(0.5, 0, 'logg in cgs')"
      ]
     },
     "execution_count": 16,
     "metadata": {},
     "output_type": "execute_result"
    },
    {
     "data": {
      "image/png": "[encoded data removed]",
      "text/plain": [
       "<Figure size 432x288 with 1 Axes>"
      ]
     },
     "metadata": {
      "needs_background": "light"
     },
     "output_type": "display_data"
    }
   ],
   "source": [
    "import matplotlib.pyplot as plt\n",
    "plt.title(\"Histogram of logg values single stars of BPASS isochrone\")\n",
    "plt.hist(np.array([x for x in iso1.singles['logg'] if np.isfinite(x)]), np.arange(0, 30, 1))\n",
    "plt.xlabel(\"logg in cgs\")"
   ]
  },
  {
   "cell_type": "code",
   "execution_count": 17,
   "metadata": {},
   "outputs": [
    {
     "data": {
      "text/plain": [
       "<matplotlib.legend.Legend at 0x7fbe78fd9588>"
      ]
     },
     "execution_count": 17,
     "metadata": {},
     "output_type": "execute_result"
    },
    {
     "data": {
      "image/png": "[encoded data removed]",
      "text/plain": [
       "<Figure size 432x288 with 1 Axes>"
      ]
     },
     "metadata": {
      "needs_background": "light"
     },
     "output_type": "display_data"
    }
   ],
   "source": [
    "import matplotlib.pyplot as plt\n",
    "indices1= np.where(iso1.singles['logg']>5)[0]\n",
    "indices2= np.where(iso1.primaries['logg']>5)[0]\n",
    "indices3= np.where(iso1.secondaries['logg']>5)[0]\n",
    "plt.plot(iso1.primaries['m_ubv_B'][indices2]-iso1.primaries[\"m_ubv_V\"][indices2], iso1.primaries[\"m_ubv_V\"][indices2]-5*np.log10(100), \"r.\")\n",
    "plt.plot(iso1.secondaries['m_ubv_B'][indices3]-iso1.secondaries[\"m_ubv_V\"][indices3], iso1.secondaries[\"m_ubv_V\"][indices3]-5*np.log10(100), \"r.\")\n",
    "plt.plot(iso1.singles['m_ubv_B'][indices1]-iso1.singles[\"m_ubv_V\"][indices1], iso1.singles[\"m_ubv_V\"][indices1]-5*np.log10(100), \"r.\", label=\"BPASS isochrone\")\n",
    "plt.xlabel(\"B-V\")\n",
    "plt.ylabel(\"M_V\")\n",
    "plt.title(\"Color magnitude Diagram of Isochrones at 0.5Z_solar and 10**8.0 years age\")\n",
    "plt.gca().invert_yaxis()\n",
    "plt.legend()"
   ]
  },
  {
   "cell_type": "code",
   "execution_count": 18,
   "metadata": {},
   "outputs": [
    {
     "name": "stderr",
     "output_type": "stream",
     "text": [
      "/opt/anaconda3/envs/astroconda/lib/python3.7/site-packages/astropy/table/column.py:1020: RuntimeWarning: invalid value encountered in less\n",
      "  result = getattr(super(), op)(other)\n"
     ]
    }
   ],
   "source": [
    "indices2= np.where((iso1.primaries['logg']>5) & (iso1.primaries['m_ubv_B']-iso1.primaries['m_ubv_V']>-0.4) & (iso1.primaries['m_ubv_B']-iso1.primaries['m_ubv_V']<-0.2))[0]"
   ]
  },
  {
   "cell_type": "code",
   "execution_count": 19,
   "metadata": {},
   "outputs": [
    {
     "data": {
      "text/html": [
       "&lt;Column name=&apos;phase&apos; dtype=&apos;float64&apos; length=1&gt;\n",
       "<table>\n",
       "<tr><td>101.0</td></tr>\n",
       "</table>"
      ],
      "text/plain": [
       "<Column name='phase' dtype='float64' length=1>\n",
       "101.0"
      ]
     },
     "execution_count": 19,
     "metadata": {},
     "output_type": "execute_result"
    }
   ],
   "source": [
    "np.unique(iso1.primaries[indices2]['phase'])"
   ]
  },
  {
   "cell_type": "code",
   "execution_count": 20,
   "metadata": {},
   "outputs": [],
   "source": [
    "indices2= np.where((iso1.primaries['m_ubv_B']-iso1.primaries['m_ubv_V']>1.2) & (iso1.primaries['m_ubv_B']-iso1.primaries['m_ubv_V']<1.5))[0]"
   ]
  },
  {
   "cell_type": "code",
   "execution_count": 21,
   "metadata": {},
   "outputs": [
    {
     "data": {
      "text/plain": [
       "array([   1,  624, 1034, 1364, 1531, 1721])"
      ]
     },
     "execution_count": 21,
     "metadata": {},
     "output_type": "execute_result"
    }
   ],
   "source": [
    "indices2"
   ]
  },
  {
   "cell_type": "code",
   "execution_count": 22,
   "metadata": {},
   "outputs": [
    {
     "data": {
      "text/html": [
       "&lt;Column name=&apos;phase&apos; dtype=&apos;float64&apos; length=1&gt;\n",
       "<table>\n",
       "<tr><td>5.0</td></tr>\n",
       "</table>"
      ],
      "text/plain": [
       "<Column name='phase' dtype='float64' length=1>\n",
       "5.0"
      ]
     },
     "execution_count": 22,
     "metadata": {},
     "output_type": "execute_result"
    }
   ],
   "source": [
    "np.unique(iso1.primaries['phase'][indices2])"
   ]
  },
  {
   "cell_type": "code",
   "execution_count": 23,
   "metadata": {},
   "outputs": [
    {
     "data": {
      "text/html": [
       "<i>Table length=6</i>\n",
       "<table id=\"table140455799831744\" class=\"table-striped table-bordered table-condensed\">\n",
       "<thead><tr><th>mass</th><th>L</th><th>Teff</th><th>R</th><th>logg</th><th>isWR</th><th>mass_current</th><th>phase</th><th>source</th><th>m_ubv_U</th><th>m_ubv_V</th><th>m_ubv_B</th><th>m_ubv_R</th><th>m_ubv_I</th></tr></thead>\n",
       "<thead><tr><th>solMass</th><th>W</th><th>K</th><th>m</th><th></th><th></th><th>solMass</th><th></th><th></th><th></th><th></th><th></th><th></th><th></th></tr></thead>\n",
       "<thead><tr><th>float64</th><th>float64</th><th>float64</th><th>float64</th><th>float64</th><th>bool</th><th>float64</th><th>float64</th><th>int64</th><th>float64</th><th>float64</th><th>float64</th><th>float64</th><th>float64</th></tr></thead>\n",
       "<tr><td>3.2</td><td>1.8164436476940944e+30</td><td>3905.08058158582</td><td>104698428779.0333</td><td>0.8078790835724099</td><td>False</td><td>5.3249</td><td>5.0</td><td>1</td><td>5.778040235140336</td><td>2.274794625677202</td><td>3.6338329568885412</td><td>2.360814918906401</td><td>3.0728568109728407</td></tr>\n",
       "<tr><td>3.2</td><td>1.8164436476940944e+30</td><td>3905.08058158582</td><td>104698428779.0333</td><td>0.8078790835724099</td><td>False</td><td>5.3249</td><td>5.0</td><td>1</td><td>5.778040235140336</td><td>2.274794625677202</td><td>3.6338329568885412</td><td>2.360814918906401</td><td>3.0728568109728407</td></tr>\n",
       "<tr><td>5.0</td><td>6.513912629321448e+30</td><td>3773.63594464452</td><td>212319637590.8313</td><td>0.4284071707729464</td><td>False</td><td>9.13986</td><td>5.0</td><td>1</td><td>4.987371210748767</td><td>1.1979118028937168</td><td>2.6393216367483268</td><td>1.2370343106176696</td><td>1.813627487322744</td></tr>\n",
       "<tr><td>3.2</td><td>1.8164436476940944e+30</td><td>3905.08058158582</td><td>104698428779.0333</td><td>0.8078790835724099</td><td>False</td><td>5.3249</td><td>5.0</td><td>1</td><td>5.778040235140336</td><td>2.274794625677202</td><td>3.6338329568885412</td><td>2.360814918906401</td><td>3.0728568109728407</td></tr>\n",
       "<tr><td>3.2</td><td>1.8164436476940944e+30</td><td>3905.08058158582</td><td>104698428779.0333</td><td>0.8078790835724099</td><td>False</td><td>5.3249</td><td>5.0</td><td>1</td><td>5.778040235140336</td><td>2.274794625677202</td><td>3.6338329568885412</td><td>2.360814918906401</td><td>3.0728568109728407</td></tr>\n",
       "<tr><td>3.2</td><td>1.8164436476940944e+30</td><td>3905.08058158582</td><td>104698428779.0333</td><td>0.8078790835724099</td><td>False</td><td>5.3249</td><td>5.0</td><td>1</td><td>5.778040235140336</td><td>2.274794625677202</td><td>3.6338329568885412</td><td>2.360814918906401</td><td>3.0728568109728407</td></tr>\n",
       "</table>"
      ],
      "text/plain": [
       "<Table length=6>\n",
       "  mass            L            ...      m_ubv_R            m_ubv_I      \n",
       "solMass           W            ...                                      \n",
       "float64        float64         ...      float64            float64      \n",
       "------- ---------------------- ... ------------------ ------------------\n",
       "    3.2 1.8164436476940944e+30 ...  2.360814918906401 3.0728568109728407\n",
       "    3.2 1.8164436476940944e+30 ...  2.360814918906401 3.0728568109728407\n",
       "    5.0  6.513912629321448e+30 ... 1.2370343106176696  1.813627487322744\n",
       "    3.2 1.8164436476940944e+30 ...  2.360814918906401 3.0728568109728407\n",
       "    3.2 1.8164436476940944e+30 ...  2.360814918906401 3.0728568109728407\n",
       "    3.2 1.8164436476940944e+30 ...  2.360814918906401 3.0728568109728407"
      ]
     },
     "execution_count": 23,
     "metadata": {},
     "output_type": "execute_result"
    }
   ],
   "source": [
    "iso1.primaries[indices2]"
   ]
  },
  {
   "cell_type": "code",
   "execution_count": 24,
   "metadata": {},
   "outputs": [
    {
     "data": {
      "text/plain": [
       "<matplotlib.legend.Legend at 0x7fbe6a2dae80>"
      ]
     },
     "execution_count": 24,
     "metadata": {},
     "output_type": "execute_result"
    },
    {
     "data": {
      "image/png": "[encoded data removed]",
      "text/plain": [
       "<Figure size 432x288 with 1 Axes>"
      ]
     },
     "metadata": {
      "needs_background": "light"
     },
     "output_type": "display_data"
    }
   ],
   "source": [
    "import matplotlib.pyplot as plt\n",
    "plt.plot(iso1.secondaries['m_ubv_B']-iso1.secondaries[\"m_ubv_V\"], iso1.secondaries[\"m_ubv_V\"]-5*np.log10(100), \"r.\", label=\"Secondary stars BPASS isochrone\")\n",
    "plt.xlabel(\"B-V\")\n",
    "plt.ylabel(\"M_V\")\n",
    "plt.title(\"Color magnitude Diagram of Isochrones at 0.5 x solar metallicity and 10**7.0 years age\")\n",
    "plt.gca().invert_yaxis()\n",
    "plt.legend()"
   ]
  },
  {
   "cell_type": "code",
   "execution_count": 25,
   "metadata": {},
   "outputs": [
    {
     "data": {
      "text/html": [
       "<i>Table length=8</i>\n",
       "<table id=\"table140455518879472\" class=\"table-striped table-bordered table-condensed\">\n",
       "<thead><tr><th>mass</th><th>log_a</th><th>L</th><th>Teff</th><th>R</th><th>logg</th><th>isWR</th><th>mass_current</th><th>phase</th><th>merged</th><th>source</th><th>m_ubv_U</th><th>m_ubv_V</th><th>m_ubv_B</th><th>m_ubv_R</th><th>m_ubv_I</th></tr></thead>\n",
       "<thead><tr><th>solMass</th><th></th><th>W</th><th>K</th><th>m</th><th></th><th></th><th>solMass</th><th></th><th></th><th></th><th></th><th></th><th></th><th></th><th></th></tr></thead>\n",
       "<thead><tr><th>float64</th><th>float64</th><th>float64</th><th>float64</th><th>float64</th><th>float64</th><th>bool</th><th>float64</th><th>float64</th><th>bool</th><th>int64</th><th>float64</th><th>float64</th><th>float64</th><th>float64</th><th>float64</th></tr></thead>\n",
       "<tr><td>0.16000000000000003</td><td>0.106910591311971</td><td>4.013949729509597e+22</td><td>923.2727122989376</td><td>278280005.5567242</td><td>4.438067609959059</td><td>False</td><td>0.16</td><td>5.0</td><td>False</td><td>1</td><td>31.69069986128937</td><td>30.469122393468794</td><td>28.260084996591388</td><td>27.497536475703516</td><td>22.810578292504218</td></tr>\n",
       "<tr><td>0.16000000000000003</td><td>0.9069105913119708</td><td>4.013949729509597e+22</td><td>923.2727122989376</td><td>278280005.5567242</td><td>4.438067609959059</td><td>False</td><td>0.16</td><td>5.0</td><td>False</td><td>1</td><td>31.69069986128937</td><td>30.469122393468794</td><td>28.260084996591388</td><td>27.497536475703516</td><td>22.810578292504218</td></tr>\n",
       "<tr><td>0.16000000000000003</td><td>0.6402435913119708</td><td>4.013949729509597e+22</td><td>923.2727122989376</td><td>278280005.5567242</td><td>4.438067609959059</td><td>False</td><td>0.16</td><td>5.0</td><td>False</td><td>1</td><td>31.69069986128937</td><td>30.469122393468794</td><td>28.260084996591388</td><td>27.497536475703516</td><td>22.810578292504218</td></tr>\n",
       "<tr><td>0.16000000000000003</td><td>0.5069105913119709</td><td>4.013949729509597e+22</td><td>923.2727122989376</td><td>278280005.5567242</td><td>4.438067609959059</td><td>False</td><td>0.16</td><td>5.0</td><td>False</td><td>1</td><td>31.69069986128937</td><td>30.469122393468794</td><td>28.260084996591388</td><td>27.497536475703516</td><td>22.810578292504218</td></tr>\n",
       "<tr><td>0.16000000000000003</td><td>0.24024359131197093</td><td>4.013949729509597e+22</td><td>923.2727122989376</td><td>278280005.5567242</td><td>4.438067609959059</td><td>False</td><td>0.16</td><td>5.0</td><td>False</td><td>1</td><td>31.69069986128937</td><td>30.469122393468794</td><td>28.260084996591388</td><td>27.497536475703516</td><td>22.810578292504218</td></tr>\n",
       "<tr><td>0.16000000000000003</td><td>0.373577591311971</td><td>4.013949729509597e+22</td><td>923.2727122989376</td><td>278280005.5567242</td><td>4.438067609959059</td><td>False</td><td>0.16</td><td>5.0</td><td>False</td><td>1</td><td>31.69069986128937</td><td>30.469122393468794</td><td>28.260084996591388</td><td>27.497536475703516</td><td>22.810578292504218</td></tr>\n",
       "<tr><td>0.16000000000000003</td><td>0.7735775913119709</td><td>4.013949729509597e+22</td><td>923.2727122989376</td><td>278280005.5567242</td><td>4.438067609959059</td><td>False</td><td>0.16</td><td>5.0</td><td>False</td><td>1</td><td>31.69069986128937</td><td>30.469122393468794</td><td>28.260084996591388</td><td>27.497536475703516</td><td>22.810578292504218</td></tr>\n",
       "<tr><td>0.16000000000000003</td><td>1.0402435913119708</td><td>4.013949729509597e+22</td><td>923.2727122989376</td><td>278280005.5567242</td><td>4.438067609959059</td><td>False</td><td>0.16</td><td>5.0</td><td>False</td><td>1</td><td>31.69069986128937</td><td>30.469122393468794</td><td>28.260084996591388</td><td>27.497536475703516</td><td>22.810578292504218</td></tr>\n",
       "</table>"
      ],
      "text/plain": [
       "<Table length=8>\n",
       "        mass               log_a        ...      m_ubv_I      \n",
       "      solMass                           ...                   \n",
       "      float64             float64       ...      float64      \n",
       "------------------- ------------------- ... ------------------\n",
       "0.16000000000000003   0.106910591311971 ... 22.810578292504218\n",
       "0.16000000000000003  0.9069105913119708 ... 22.810578292504218\n",
       "0.16000000000000003  0.6402435913119708 ... 22.810578292504218\n",
       "0.16000000000000003  0.5069105913119709 ... 22.810578292504218\n",
       "0.16000000000000003 0.24024359131197093 ... 22.810578292504218\n",
       "0.16000000000000003   0.373577591311971 ... 22.810578292504218\n",
       "0.16000000000000003  0.7735775913119709 ... 22.810578292504218\n",
       "0.16000000000000003  1.0402435913119708 ... 22.810578292504218"
      ]
     },
     "execution_count": 25,
     "metadata": {},
     "output_type": "execute_result"
    }
   ],
   "source": [
    "iso1.secondaries[np.where((iso1.secondaries['m_ubv_V']>30) & ((iso1.secondaries['m_ubv_B']-iso1.secondaries['m_ubv_V'])<-1))[0]]"
   ]
  },
  {
   "cell_type": "markdown",
   "metadata": {},
   "source": [
    "Hmm, I think those are stars that are going to be white dwarves very soon or may unintentionally be brown dwarves. At least according to HOKI's criterion for what is a white dwarf or not. At the very least, at least the stars we just saw were low mass stars so they should be **LOW** on the CMD"
   ]
  },
  {
   "cell_type": "code",
   "execution_count": 26,
   "metadata": {},
   "outputs": [
    {
     "name": "stdout",
     "output_type": "stream",
     "text": [
      "Isochrone generation took 17.006171 s.\n",
      "Making photometry for isochrone: log(t) = 8.00  AKs = -0.30  dist = 1000\n",
      "     Starting at:  2020-12-21 22:12:44.968641   Usually takes ~5 minutes\n",
      "Starting filter: ubv,U   Elapsed time: 0.00 seconds\n",
      "Starting synthetic photometry\n",
      "M =   0.090 Msun  T =  2522 K  m_ubv_U = 25.49\n",
      "M =   4.991 Msun  T = 13047 K  m_ubv_U = 2.41\n",
      "M =   5.203 Msun  T =  5180 K  m_ubv_U = 3.33\n",
      "Starting filter: ubv,B   Elapsed time: 0.49 seconds\n",
      "Starting synthetic photometry\n",
      "M =   0.090 Msun  T =  2522 K  m_ubv_B = 23.88\n",
      "M =   4.991 Msun  T = 13047 K  m_ubv_B = 2.86\n",
      "M =   5.203 Msun  T =  5180 K  m_ubv_B = 2.75\n",
      "Starting filter: ubv,V   Elapsed time: 0.97 seconds\n",
      "Starting synthetic photometry\n",
      "M =   0.090 Msun  T =  2522 K  m_ubv_V = 22.52\n",
      "M =   4.991 Msun  T = 13047 K  m_ubv_V = 3.14\n",
      "M =   5.203 Msun  T =  5180 K  m_ubv_V = 2.00\n",
      "Starting filter: ubv,R   Elapsed time: 1.45 seconds\n",
      "Starting synthetic photometry\n",
      "M =   0.090 Msun  T =  2522 K  m_ubv_R = 22.22\n",
      "M =   4.991 Msun  T = 13047 K  m_ubv_R = 3.99\n",
      "M =   5.203 Msun  T =  5180 K  m_ubv_R = 2.42\n",
      "Starting filter: ubv,I   Elapsed time: 1.91 seconds\n",
      "Starting synthetic photometry\n",
      "M =   0.090 Msun  T =  2522 K  m_ubv_I = 19.62\n",
      "M =   4.991 Msun  T = 13047 K  m_ubv_I = 5.85\n",
      "M =   5.203 Msun  T =  5180 K  m_ubv_I = 3.63\n",
      "      Time taken: 2.37 seconds\n"
     ]
    }
   ],
   "source": [
    "iso2=synthetic.IsochronePhot(8.0, np.log10(1/2), 1000, math.log(1),evo_model=evolution.Parsec(), recomp=True) # New Parsec isochrone for same metallicity"
   ]
  },
  {
   "cell_type": "markdown",
   "metadata": {},
   "source": [
    "Looking at the distribution of logg values. for the stars in the Parsec isochrone."
   ]
  },
  {
   "cell_type": "code",
   "execution_count": 27,
   "metadata": {},
   "outputs": [
    {
     "data": {
      "text/plain": [
       "4.7792"
      ]
     },
     "execution_count": 27,
     "metadata": {},
     "output_type": "execute_result"
    }
   ],
   "source": [
    "np.max(iso2.points['logg'])"
   ]
  },
  {
   "cell_type": "code",
   "execution_count": 28,
   "metadata": {},
   "outputs": [
    {
     "data": {
      "text/plain": [
       "(array([ 0.,  0.,  0.,  0.,  0.,  0.,  0.,  0.,  0.,  0., 16., 71., 24.,\n",
       "        36., 86.,  0.,  0.,  0.,  0.,  0.,  0.,  0.,  0.,  0.,  0.,  0.,\n",
       "         0.,  0.,  0.,  0.,  0.,  0.,  0.,  0.,  0.,  0.,  0.,  0.,  0.]),\n",
       " array([-10,  -9,  -8,  -7,  -6,  -5,  -4,  -3,  -2,  -1,   0,   1,   2,\n",
       "          3,   4,   5,   6,   7,   8,   9,  10,  11,  12,  13,  14,  15,\n",
       "         16,  17,  18,  19,  20,  21,  22,  23,  24,  25,  26,  27,  28,\n",
       "         29]),\n",
       " <a list of 39 Patch objects>)"
      ]
     },
     "execution_count": 28,
     "metadata": {},
     "output_type": "execute_result"
    },
    {
     "data": {
      "image/png": "[encoded data removed]",
      "text/plain": [
       "<Figure size 432x288 with 1 Axes>"
      ]
     },
     "metadata": {
      "needs_background": "light"
     },
     "output_type": "display_data"
    }
   ],
   "source": [
    "import matplotlib.pyplot as plt\n",
    "plt.xlabel(\"logg in cgs\")\n",
    "plt.title(\"Histogram of logg values of stars in the Parsec isochrone\")\n",
    "plt.hist(np.array([x for x in iso2.points['logg'] if np.isfinite(x)]), np.arange(-10, 30, 1))"
   ]
  },
  {
   "cell_type": "code",
   "execution_count": 29,
   "metadata": {},
   "outputs": [
    {
     "data": {
      "text/plain": [
       "3.2533"
      ]
     },
     "execution_count": 29,
     "metadata": {},
     "output_type": "execute_result"
    }
   ],
   "source": [
    "np.median(iso2.points['logg'])"
   ]
  },
  {
   "cell_type": "code",
   "execution_count": 30,
   "metadata": {},
   "outputs": [
    {
     "data": {
      "text/plain": [
       "2.947539484978541"
      ]
     },
     "execution_count": 30,
     "metadata": {},
     "output_type": "execute_result"
    }
   ],
   "source": [
    "np.mean(iso2.points['logg'])"
   ]
  },
  {
   "cell_type": "code",
   "execution_count": 31,
   "metadata": {},
   "outputs": [],
   "source": [
    "from spisea import imf\n",
    "from spisea.imf import imf, multiplicity\n",
    "from spisea import ifmr\n"
   ]
  },
  {
   "cell_type": "markdown",
   "metadata": {},
   "source": [
    "Make the clusters corresponding to the binary star isochrone and the Parsec isochrone"
   ]
  },
  {
   "cell_type": "code",
   "execution_count": 32,
   "metadata": {},
   "outputs": [
    {
     "name": "stdout",
     "output_type": "stream",
     "text": [
      "5081.748770000027\n"
     ]
    },
    {
     "name": "stderr",
     "output_type": "stream",
     "text": [
      "/opt/anaconda3/envs/astroconda/lib/python3.7/site-packages/astropy/table/column.py:1020: RuntimeWarning: invalid value encountered in greater_equal\n",
      "  result = getattr(super(), op)(other)\n"
     ]
    },
    {
     "name": "stdout",
     "output_type": "stream",
     "text": [
      "Found 64 companions out of stellar mass range\n"
     ]
    }
   ],
   "source": [
    "clus_1=synthetic.Binary_Cluster(iso1, imf.IMFSalpeter1955(multiplicity=multiplicity.MultiplicityResolvedDK()), 20000, ifmr=ifmr.IFMR_Spera15())\n",
    "clus_2=synthetic.ResolvedCluster(iso2, imf.IMFSalpeter1955(multiplicity=multiplicity.MultiplicityResolvedDK()), 20000, ifmr=ifmr.IFMR_Spera15())"
   ]
  },
  {
   "cell_type": "markdown",
   "metadata": {},
   "source": [
    "Now let's visualize the isochrone we have created so far with a color magnitude diagram. There we can see the end of main sequence and perhaps the M type"
   ]
  },
  {
   "cell_type": "code",
   "execution_count": 33,
   "metadata": {},
   "outputs": [
    {
     "data": {
      "text/plain": [
       "<matplotlib.legend.Legend at 0x7fbe6a3ff2b0>"
      ]
     },
     "execution_count": 33,
     "metadata": {},
     "output_type": "execute_result"
    },
    {
     "data": {
      "image/png": "[encoded data removed]",
      "text/plain": [
       "<Figure size 432x288 with 1 Axes>"
      ]
     },
     "metadata": {
      "needs_background": "light"
     },
     "output_type": "display_data"
    }
   ],
   "source": [
    "# Taking a look at the Binary Cluster vs Default Settings cluster Observer's HR Diagram\n",
    "# Remember to use a distance modulus!\n",
    "import matplotlib.pyplot as plt\n",
    "plt.plot(iso1.primaries['m_ubv_B']-iso1.primaries[\"m_ubv_V\"], iso1.primaries[\"m_ubv_V\"]-5*np.log10(100), \"r.\")\n",
    "plt.plot(iso1.secondaries['m_ubv_B']-iso1.secondaries[\"m_ubv_V\"], iso1.secondaries[\"m_ubv_V\"]-5*np.log10(100), \"r.\")\n",
    "plt.plot(iso1.singles['m_ubv_B']-iso1.singles[\"m_ubv_V\"], iso1.singles[\"m_ubv_V\"]-5*np.log10(100), \"r.\", label=\"BPASS isochrone\")\n",
    "plt.plot(iso2.points['m_ubv_B']-iso2.points[\"m_ubv_V\"], iso2.points[\"m_ubv_V\"]-5*np.log10(100), \"b+\", label=\"Parsec isochrone\", alpha = 0.2)\n",
    "plt.xlabel(\"B-V\")\n",
    "plt.ylabel(\"M_V\")\n",
    "plt.title(\"Color magnitude Diagram of Isochrones at 0.5Z_solar and 10**8.0 years age\")\n",
    "plt.gca().invert_yaxis()\n",
    "plt.legend()"
   ]
  },
  {
   "cell_type": "markdown",
   "metadata": {},
   "source": [
    "We do have several outliers but otherwise the pattern does not seem too terribly off from the Parsec isochrone's shape. Now I look at the primary stars and see if there are any problems caused."
   ]
  },
  {
   "cell_type": "code",
   "execution_count": 34,
   "metadata": {},
   "outputs": [
    {
     "data": {
      "text/plain": [
       "<matplotlib.legend.Legend at 0x7fbe6a439470>"
      ]
     },
     "execution_count": 34,
     "metadata": {},
     "output_type": "execute_result"
    },
    {
     "data": {
      "image/png": "[encoded data removed]",
      "text/plain": [
       "<Figure size 432x288 with 1 Axes>"
      ]
     },
     "metadata": {
      "needs_background": "light"
     },
     "output_type": "display_data"
    }
   ],
   "source": [
    "# Taking a look at the Binary Cluster vs Default Settings cluster Observer's HR Diagram\n",
    "# Remember to use a distance modulus!\n",
    "import matplotlib.pyplot as plt\n",
    "plt.plot(iso1.primaries['m_ubv_B']-iso1.primaries[\"m_ubv_V\"], iso1.primaries[\"m_ubv_V\"]-5*np.log10(100), \"r+\",  label=\"BPASS isochrone\", alpha =0.7)\n",
    "plt.xlabel(\"B-V\")\n",
    "plt.ylabel(\"M_V\")\n",
    "plt.title(\"Color magnitude Diagram of Isochrones at 0.5Z_solar and 10**8.0 years age (Primary stars only)\")\n",
    "plt.gca().invert_yaxis()\n",
    "plt.legend()"
   ]
  },
  {
   "cell_type": "code",
   "execution_count": 35,
   "metadata": {},
   "outputs": [
    {
     "data": {
      "text/plain": [
       "<matplotlib.legend.Legend at 0x7fbe28316940>"
      ]
     },
     "execution_count": 35,
     "metadata": {},
     "output_type": "execute_result"
    },
    {
     "data": {
      "image/png": "[encoded data removed]",
      "text/plain": [
       "<Figure size 432x288 with 1 Axes>"
      ]
     },
     "metadata": {
      "needs_background": "light"
     },
     "output_type": "display_data"
    }
   ],
   "source": [
    "import matplotlib.pyplot as plt\n",
    "plt.plot(iso1.secondaries['m_ubv_B']-iso1.secondaries[\"m_ubv_V\"], iso1.secondaries[\"m_ubv_V\"]-5*np.log10(100), \"r+\",  label=\"BPASS isochrone\", alpha =0.7)\n",
    "plt.xlabel(\"B-V\")\n",
    "plt.ylabel(\"M_V\")\n",
    "plt.title(\"Color magnitude Diagram of Isochrones at 0.1Z_solar and 10**7.0 years age (Primary stars only)\")\n",
    "plt.gca().invert_yaxis()\n",
    "plt.legend()"
   ]
  },
  {
   "cell_type": "markdown",
   "metadata": {},
   "source": [
    "Where are some of the goofy outliers coming from?"
   ]
  },
  {
   "cell_type": "code",
   "execution_count": 36,
   "metadata": {},
   "outputs": [
    {
     "name": "stderr",
     "output_type": "stream",
     "text": [
      "/opt/anaconda3/envs/astroconda/lib/python3.7/site-packages/astropy/table/column.py:1020: RuntimeWarning: invalid value encountered in greater\n",
      "  result = getattr(super(), op)(other)\n"
     ]
    },
    {
     "data": {
      "text/html": [
       "<i>Table length=8</i>\n",
       "<table id=\"table140455521414728\" class=\"table-striped table-bordered table-condensed\">\n",
       "<thead><tr><th>mass</th><th>log_a</th><th>L</th><th>Teff</th><th>R</th><th>logg</th><th>isWR</th><th>mass_current</th><th>phase</th><th>merged</th><th>source</th><th>m_ubv_U</th><th>m_ubv_V</th><th>m_ubv_B</th><th>m_ubv_R</th><th>m_ubv_I</th></tr></thead>\n",
       "<thead><tr><th>solMass</th><th></th><th>W</th><th>K</th><th>m</th><th></th><th></th><th>solMass</th><th></th><th></th><th></th><th></th><th></th><th></th><th></th><th></th></tr></thead>\n",
       "<thead><tr><th>float64</th><th>float64</th><th>float64</th><th>float64</th><th>float64</th><th>float64</th><th>bool</th><th>float64</th><th>float64</th><th>bool</th><th>int64</th><th>float64</th><th>float64</th><th>float64</th><th>float64</th><th>float64</th></tr></thead>\n",
       "<tr><td>0.16000000000000003</td><td>0.106910591311971</td><td>4.013949729509597e+22</td><td>923.2727122989376</td><td>278280005.5567242</td><td>4.438067609959059</td><td>False</td><td>0.16</td><td>5.0</td><td>False</td><td>1</td><td>31.69069986128937</td><td>30.469122393468794</td><td>28.260084996591388</td><td>27.497536475703516</td><td>22.810578292504218</td></tr>\n",
       "<tr><td>0.16000000000000003</td><td>0.9069105913119708</td><td>4.013949729509597e+22</td><td>923.2727122989376</td><td>278280005.5567242</td><td>4.438067609959059</td><td>False</td><td>0.16</td><td>5.0</td><td>False</td><td>1</td><td>31.69069986128937</td><td>30.469122393468794</td><td>28.260084996591388</td><td>27.497536475703516</td><td>22.810578292504218</td></tr>\n",
       "<tr><td>0.16000000000000003</td><td>0.6402435913119708</td><td>4.013949729509597e+22</td><td>923.2727122989376</td><td>278280005.5567242</td><td>4.438067609959059</td><td>False</td><td>0.16</td><td>5.0</td><td>False</td><td>1</td><td>31.69069986128937</td><td>30.469122393468794</td><td>28.260084996591388</td><td>27.497536475703516</td><td>22.810578292504218</td></tr>\n",
       "<tr><td>0.16000000000000003</td><td>0.5069105913119709</td><td>4.013949729509597e+22</td><td>923.2727122989376</td><td>278280005.5567242</td><td>4.438067609959059</td><td>False</td><td>0.16</td><td>5.0</td><td>False</td><td>1</td><td>31.69069986128937</td><td>30.469122393468794</td><td>28.260084996591388</td><td>27.497536475703516</td><td>22.810578292504218</td></tr>\n",
       "<tr><td>0.16000000000000003</td><td>0.24024359131197093</td><td>4.013949729509597e+22</td><td>923.2727122989376</td><td>278280005.5567242</td><td>4.438067609959059</td><td>False</td><td>0.16</td><td>5.0</td><td>False</td><td>1</td><td>31.69069986128937</td><td>30.469122393468794</td><td>28.260084996591388</td><td>27.497536475703516</td><td>22.810578292504218</td></tr>\n",
       "<tr><td>0.16000000000000003</td><td>0.373577591311971</td><td>4.013949729509597e+22</td><td>923.2727122989376</td><td>278280005.5567242</td><td>4.438067609959059</td><td>False</td><td>0.16</td><td>5.0</td><td>False</td><td>1</td><td>31.69069986128937</td><td>30.469122393468794</td><td>28.260084996591388</td><td>27.497536475703516</td><td>22.810578292504218</td></tr>\n",
       "<tr><td>0.16000000000000003</td><td>0.7735775913119709</td><td>4.013949729509597e+22</td><td>923.2727122989376</td><td>278280005.5567242</td><td>4.438067609959059</td><td>False</td><td>0.16</td><td>5.0</td><td>False</td><td>1</td><td>31.69069986128937</td><td>30.469122393468794</td><td>28.260084996591388</td><td>27.497536475703516</td><td>22.810578292504218</td></tr>\n",
       "<tr><td>0.16000000000000003</td><td>1.0402435913119708</td><td>4.013949729509597e+22</td><td>923.2727122989376</td><td>278280005.5567242</td><td>4.438067609959059</td><td>False</td><td>0.16</td><td>5.0</td><td>False</td><td>1</td><td>31.69069986128937</td><td>30.469122393468794</td><td>28.260084996591388</td><td>27.497536475703516</td><td>22.810578292504218</td></tr>\n",
       "</table>"
      ],
      "text/plain": [
       "<Table length=8>\n",
       "        mass               log_a        ...      m_ubv_I      \n",
       "      solMass                           ...                   \n",
       "      float64             float64       ...      float64      \n",
       "------------------- ------------------- ... ------------------\n",
       "0.16000000000000003   0.106910591311971 ... 22.810578292504218\n",
       "0.16000000000000003  0.9069105913119708 ... 22.810578292504218\n",
       "0.16000000000000003  0.6402435913119708 ... 22.810578292504218\n",
       "0.16000000000000003  0.5069105913119709 ... 22.810578292504218\n",
       "0.16000000000000003 0.24024359131197093 ... 22.810578292504218\n",
       "0.16000000000000003   0.373577591311971 ... 22.810578292504218\n",
       "0.16000000000000003  0.7735775913119709 ... 22.810578292504218\n",
       "0.16000000000000003  1.0402435913119708 ... 22.810578292504218"
      ]
     },
     "execution_count": 36,
     "metadata": {},
     "output_type": "execute_result"
    }
   ],
   "source": [
    "iso1.secondaries[np.where(iso1.secondaries[\"m_ubv_V\"]-5*np.log10(100)>20.0)[0]]"
   ]
  },
  {
   "cell_type": "code",
   "execution_count": 37,
   "metadata": {},
   "outputs": [],
   "source": [
    "issue = iso1.secondaries[np.where(iso1.secondaries[\"m_ubv_V\"]-5*np.log10(100)>20.0)[0]]"
   ]
  },
  {
   "cell_type": "code",
   "execution_count": 38,
   "metadata": {},
   "outputs": [
    {
     "data": {
      "text/html": [
       "&lt;Column name=&apos;mass&apos; dtype=&apos;float64&apos; unit=&apos;solMass&apos; length=1&gt;\n",
       "<table>\n",
       "<tr><td>0.16000000000000003</td></tr>\n",
       "</table>"
      ],
      "text/plain": [
       "<Column name='mass' dtype='float64' unit='solMass' length=1>\n",
       "0.16000000000000003"
      ]
     },
     "execution_count": 38,
     "metadata": {},
     "output_type": "execute_result"
    }
   ],
   "source": [
    "np.unique(issue['mass'])"
   ]
  },
  {
   "cell_type": "code",
   "execution_count": 39,
   "metadata": {},
   "outputs": [
    {
     "data": {
      "text/html": [
       "&lt;Column name=&apos;phase&apos; dtype=&apos;float64&apos; length=1&gt;\n",
       "<table>\n",
       "<tr><td>5.0</td></tr>\n",
       "</table>"
      ],
      "text/plain": [
       "<Column name='phase' dtype='float64' length=1>\n",
       "5.0"
      ]
     },
     "execution_count": 39,
     "metadata": {},
     "output_type": "execute_result"
    }
   ],
   "source": [
    "np.unique(issue['phase'])"
   ]
  },
  {
   "cell_type": "code",
   "execution_count": 40,
   "metadata": {},
   "outputs": [
    {
     "data": {
      "text/plain": [
       "<matplotlib.legend.Legend at 0x7fbe8a33cac8>"
      ]
     },
     "execution_count": 40,
     "metadata": {},
     "output_type": "execute_result"
    },
    {
     "data": {
      "image/png": "[encoded data removed]",
      "text/plain": [
       "<Figure size 432x288 with 1 Axes>"
      ]
     },
     "metadata": {
      "needs_background": "light"
     },
     "output_type": "display_data"
    }
   ],
   "source": [
    "import matplotlib.pyplot as plt\n",
    "plt.plot(np.log10(iso1.primaries['Teff']), np.log10(iso1.primaries[\"L\"]), \"r.\", alpha =0.3)\n",
    "plt.plot(np.log10(iso1.secondaries['Teff']), np.log10(iso1.secondaries[\"L\"]), \"r.\", alpha =0.3)\n",
    "plt.plot(np.log10(iso1.singles['Teff']), np.log10(iso1.singles[\"L\"]), \"r.\", label=\"BPASS isochrone\", alpha =0.3)\n",
    "plt.plot(np.log10(iso2.points['Teff']), np.log10(iso2.points[\"L\"]), \"b+\", label=\"Paresc\", alpha =0.1)\n",
    "plt.xlabel(\"log(T in Kelvin)\")\n",
    "plt.ylabel(\"log(L in Watts)\")\n",
    "plt.title(\"HR Diagram of Isochrones at 0.5Z_solar and 10**7.0 years age\")\n",
    "plt.gca().invert_xaxis()\n",
    "plt.legend()\n",
    "# Rough pattern seems to fit. What's that line?"
   ]
  },
  {
   "cell_type": "markdown",
   "metadata": {},
   "source": [
    "A good sign here is that there are plenty of compact remnant (that means good number of stars have gone through their main-sequence and post-main sequence). I also notice stars turning to the red giant branch. This is going to be really important when we decide to use the clusters as reference for finding ages of actual star clusters."
   ]
  },
  {
   "cell_type": "code",
   "execution_count": 41,
   "metadata": {},
   "outputs": [
    {
     "data": {
      "text/plain": [
       "<matplotlib.legend.Legend at 0x7fbe6a3deb38>"
      ]
     },
     "execution_count": 41,
     "metadata": {},
     "output_type": "execute_result"
    },
    {
     "data": {
      "image/png": "[encoded data removed]",
      "text/plain": [
       "<Figure size 432x288 with 1 Axes>"
      ]
     },
     "metadata": {
      "needs_background": "light"
     },
     "output_type": "display_data"
    }
   ],
   "source": [
    "# Plot the mass-luminosity relationship\n",
    "from astropy import constants as cs\n",
    "import matplotlib.pyplot as plt\n",
    "plt.plot(np.log10(iso1.primaries['mass_current']), np.log10(iso1.primaries[\"L\"]/cs.L_sun), \"r.\")\n",
    "plt.plot(np.log10(iso1.secondaries['mass_current']), np.log10(iso1.secondaries[\"L\"]/cs.L_sun), \"r.\")\n",
    "plt.plot(np.log10(iso1.singles['mass_current']), np.log10(iso1.singles[\"L\"]/cs.L_sun), \"r.\", label=\"BPASS isochrone\")\n",
    "plt.plot(np.log10(iso2.points['mass_current']), np.log10(iso2.points[\"L\"]/cs.L_sun), \"b+\", label=\"Parsec\", alpha =0.2)\n",
    "plt.xlabel(\"log(Current Mass in solar masses)\")\n",
    "plt.ylabel(\"log(L/L_solar)\")\n",
    "plt.title(\"log Mass-logL of Isochrones at 0.5Z_solar and 10**8.0 years age\")\n",
    "plt.legend()\n",
    "# Rough pattern seems to fit. What's that line?"
   ]
  },
  {
   "cell_type": "markdown",
   "metadata": {},
   "source": [
    "Which table is causing that line segment at around log10(L/L_sun)=-3?\n",
    "Let's find out.\n",
    "First I take a look at the shape of the primary stars' plot for log current mass log L."
   ]
  },
  {
   "cell_type": "code",
   "execution_count": 42,
   "metadata": {},
   "outputs": [
    {
     "data": {
      "text/plain": [
       "<matplotlib.legend.Legend at 0x7fbe4874b940>"
      ]
     },
     "execution_count": 42,
     "metadata": {},
     "output_type": "execute_result"
    },
    {
     "data": {
      "image/png": "[encoded data removed]",
      "text/plain": [
       "<Figure size 432x288 with 1 Axes>"
      ]
     },
     "metadata": {
      "needs_background": "light"
     },
     "output_type": "display_data"
    }
   ],
   "source": [
    "from astropy import constants as cs\n",
    "import matplotlib.pyplot as plt\n",
    "plt.plot(np.log10(iso1.primaries['mass_current']), np.log10(iso1.primaries[\"L\"]/cs.L_sun), \"r.\", label=\"BPASS isochrone (primaries)\")\n",
    "plt.xlabel(\"log(Current Mass in solar masses)\")\n",
    "plt.ylabel(\"log(L/L_solar)\")\n",
    "plt.title(\"log Mass-logL of Isochrones at 0.5Z_solar and 10**8.0 years age\")\n",
    "plt.legend()"
   ]
  },
  {
   "cell_type": "markdown",
   "metadata": {},
   "source": [
    "Which type of secondary star is it that is causing this strange pattern?"
   ]
  },
  {
   "cell_type": "code",
   "execution_count": 43,
   "metadata": {},
   "outputs": [
    {
     "name": "stderr",
     "output_type": "stream",
     "text": [
      "/opt/anaconda3/envs/astroconda/lib/python3.7/site-packages/astropy/units/quantity.py:477: RuntimeWarning: invalid value encountered in greater\n",
      "  result = super().__array_ufunc__(function, method, *arrays, **kwargs)\n",
      "/opt/anaconda3/envs/astroconda/lib/python3.7/site-packages/astropy/units/quantity.py:477: RuntimeWarning: invalid value encountered in less\n",
      "  result = super().__array_ufunc__(function, method, *arrays, **kwargs)\n"
     ]
    }
   ],
   "source": [
    "bad_line = iso1.primaries[np.where((np.log10(iso1.primaries[\"L\"]/cs.L_sun)>-3.30) & (np.log10(iso1.primaries[\"L\"]/cs.L_sun)<-3.10))[0]]"
   ]
  },
  {
   "cell_type": "code",
   "execution_count": 44,
   "metadata": {},
   "outputs": [
    {
     "data": {
      "text/html": [
       "<i>Table length=0</i>\n",
       "<table id=\"table140455518025376\" class=\"table-striped table-bordered table-condensed\">\n",
       "<thead><tr><th>mass</th><th>L</th><th>Teff</th><th>R</th><th>logg</th><th>isWR</th><th>mass_current</th><th>phase</th><th>source</th><th>m_ubv_U</th><th>m_ubv_V</th><th>m_ubv_B</th><th>m_ubv_R</th><th>m_ubv_I</th></tr></thead>\n",
       "<thead><tr><th>solMass</th><th>W</th><th>K</th><th>m</th><th></th><th></th><th>solMass</th><th></th><th></th><th></th><th></th><th></th><th></th><th></th></tr></thead>\n",
       "<thead><tr><th>float64</th><th>float64</th><th>float64</th><th>float64</th><th>float64</th><th>bool</th><th>float64</th><th>float64</th><th>int64</th><th>float64</th><th>float64</th><th>float64</th><th>float64</th><th>float64</th></tr></thead>\n",
       "</table>"
      ],
      "text/plain": [
       "<Table length=0>\n",
       "  mass     L      Teff     R      logg  ... m_ubv_V m_ubv_B m_ubv_R m_ubv_I\n",
       "solMass    W       K       m            ...                                \n",
       "float64 float64 float64 float64 float64 ... float64 float64 float64 float64\n",
       "------- ------- ------- ------- ------- ... ------- ------- ------- -------"
      ]
     },
     "execution_count": 44,
     "metadata": {},
     "output_type": "execute_result"
    }
   ],
   "source": [
    "bad_line"
   ]
  },
  {
   "cell_type": "markdown",
   "metadata": {},
   "source": [
    "What sorts of characteristics (logg, Teff, L) can be causing it? Let's find out"
   ]
  },
  {
   "cell_type": "code",
   "execution_count": 45,
   "metadata": {},
   "outputs": [
    {
     "data": {
      "text/html": [
       "&lt;Column name=&apos;L&apos; dtype=&apos;float64&apos; unit=&apos;W&apos; length=0&gt;\n",
       "<table>\n",
       "</table>"
      ],
      "text/plain": [
       "<Column name='L' dtype='float64' unit='W' length=0>"
      ]
     },
     "execution_count": 45,
     "metadata": {},
     "output_type": "execute_result"
    }
   ],
   "source": [
    "np.unique(bad_line['L'])"
   ]
  },
  {
   "cell_type": "code",
   "execution_count": 46,
   "metadata": {},
   "outputs": [
    {
     "data": {
      "text/html": [
       "&lt;Column name=&apos;Teff&apos; dtype=&apos;float64&apos; unit=&apos;K&apos; length=0&gt;\n",
       "<table>\n",
       "</table>"
      ],
      "text/plain": [
       "<Column name='Teff' dtype='float64' unit='K' length=0>"
      ]
     },
     "execution_count": 46,
     "metadata": {},
     "output_type": "execute_result"
    }
   ],
   "source": [
    "np.unique(bad_line['Teff'])"
   ]
  },
  {
   "cell_type": "code",
   "execution_count": 47,
   "metadata": {},
   "outputs": [
    {
     "data": {
      "text/html": [
       "&lt;Column name=&apos;logg&apos; dtype=&apos;float64&apos; unit=&apos;&apos; length=0&gt;\n",
       "<table>\n",
       "</table>"
      ],
      "text/plain": [
       "<Column name='logg' dtype='float64' unit='' length=0>"
      ]
     },
     "execution_count": 47,
     "metadata": {},
     "output_type": "execute_result"
    }
   ],
   "source": [
    "np.unique(bad_line['logg'])"
   ]
  },
  {
   "cell_type": "code",
   "execution_count": 48,
   "metadata": {},
   "outputs": [
    {
     "data": {
      "text/html": [
       "&lt;Column name=&apos;mass&apos; dtype=&apos;float64&apos; unit=&apos;solMass&apos; length=0&gt;\n",
       "<table>\n",
       "</table>"
      ],
      "text/plain": [
       "<Column name='mass' dtype='float64' unit='solMass' length=0>"
      ]
     },
     "execution_count": 48,
     "metadata": {},
     "output_type": "execute_result"
    }
   ],
   "source": [
    "np.unique(bad_line['mass'])"
   ]
  },
  {
   "cell_type": "code",
   "execution_count": 49,
   "metadata": {},
   "outputs": [
    {
     "data": {
      "text/html": [
       "&lt;Column name=&apos;phase&apos; dtype=&apos;float64&apos; length=0&gt;\n",
       "<table>\n",
       "</table>"
      ],
      "text/plain": [
       "<Column name='phase' dtype='float64' length=0>"
      ]
     },
     "execution_count": 49,
     "metadata": {},
     "output_type": "execute_result"
    }
   ],
   "source": [
    "np.unique(bad_line['phase'])"
   ]
  },
  {
   "cell_type": "markdown",
   "metadata": {},
   "source": [
    "**It turns out that the line was caused by some compact remnants that were lingering around from the NEWSECMODS. In future versions of the stellar evolution model, I may obtain an additional program from the BPASS creators to match the types of compact remnants from the NEWSECMODS.**"
   ]
  },
  {
   "cell_type": "code",
   "execution_count": 50,
   "metadata": {},
   "outputs": [
    {
     "data": {
      "text/plain": [
       "<matplotlib.legend.Legend at 0x7fbe8a2696a0>"
      ]
     },
     "execution_count": 50,
     "metadata": {},
     "output_type": "execute_result"
    },
    {
     "data": {
      "image/png": "[encoded data removed]",
      "text/plain": [
       "<Figure size 432x288 with 1 Axes>"
      ]
     },
     "metadata": {
      "needs_background": "light"
     },
     "output_type": "display_data"
    }
   ],
   "source": [
    "# Plot the mass-luminosity relationship\n",
    "from astropy import constants as cs\n",
    "from astropy import units as u\n",
    "import numpy as np\n",
    "import matplotlib.pyplot as plt\n",
    "plt.plot((clus_1.star_systems['mass_current']), np.log10(clus_1.star_systems[\"L\"]), \"r.\", label=\"Binary_Cluster made from BPASS\", alpha =0.3)\n",
    "plt.plot((clus_1.companions['mass_current']), np.log10(clus_1.companions[\"L\"]), \"r.\", label=\"Binary_Cluster made from BPASS\", alpha = 0.3)\n",
    "plt.plot((clus_2.star_systems['mass_current']), np.log10(clus_2.star_systems[\"L\"]), \"b.\", label=\"Binary_Cluster made from Parsec\", alpha =0.1)\n",
    "plt.plot((clus_2.companions['mass_current']), np.log10(clus_2.companions[\"L\"]), \"b.\", label=\"Binary_Cluster made from Parsec\", alpha = 0.1)\n",
    "plt.xlabel(\"Current Mass in solar masses\")\n",
    "plt.ylabel(\"log(L in Watts)\")\n",
    "plt.title(\"Mass-logL of Cluster at 0.5Z_solar and 10**8.0 years age\")\n",
    "plt.legend()\n",
    "# Rough pattern seems to fit. What's that line?"
   ]
  },
  {
   "cell_type": "markdown",
   "metadata": {},
   "source": [
    "Where is that hook coming from?"
   ]
  },
  {
   "cell_type": "code",
   "execution_count": 51,
   "metadata": {},
   "outputs": [
    {
     "name": "stderr",
     "output_type": "stream",
     "text": [
      "/opt/anaconda3/envs/astroconda/lib/python3.7/site-packages/astropy/table/column.py:1020: RuntimeWarning: invalid value encountered in less_equal\n",
      "  result = getattr(super(), op)(other)\n"
     ]
    },
    {
     "data": {
      "text/html": [
       "&lt;Column name=&apos;phase&apos; dtype=&apos;float64&apos; length=0&gt;\n",
       "<table>\n",
       "</table>"
      ],
      "text/plain": [
       "<Column name='phase' dtype='float64' length=0>"
      ]
     },
     "execution_count": 51,
     "metadata": {},
     "output_type": "execute_result"
    }
   ],
   "source": [
    "np.unique(iso1.primaries[np.where(np.log10(iso1.primaries[\"L\"])<=25)]['phase'])"
   ]
  },
  {
   "cell_type": "code",
   "execution_count": 52,
   "metadata": {},
   "outputs": [
    {
     "data": {
      "text/plain": [
       "0"
      ]
     },
     "execution_count": 52,
     "metadata": {},
     "output_type": "execute_result"
    }
   ],
   "source": [
    "len(iso1.primaries[np.where((np.log10(iso1.primaries[\"L\"])<=25) & (iso1.primaries[\"phase\"]==110))])"
   ]
  },
  {
   "cell_type": "code",
   "execution_count": 53,
   "metadata": {},
   "outputs": [
    {
     "data": {
      "text/plain": [
       "0"
      ]
     },
     "execution_count": 53,
     "metadata": {},
     "output_type": "execute_result"
    }
   ],
   "source": [
    "len(iso1.primaries[np.where((np.log10(iso1.primaries[\"L\"])<=25) & (iso1.primaries[\"phase\"]==101))])"
   ]
  },
  {
   "cell_type": "markdown",
   "metadata": {},
   "source": [
    "OK. It makes sense that our compact remnants are causing this. (Remember, there really is no significant fusion in the insides of neutron stars or white dwarves."
   ]
  },
  {
   "cell_type": "code",
   "execution_count": 54,
   "metadata": {},
   "outputs": [
    {
     "data": {
      "text/plain": [
       "<matplotlib.legend.Legend at 0x7fbe8a4588d0>"
      ]
     },
     "execution_count": 54,
     "metadata": {},
     "output_type": "execute_result"
    },
    {
     "data": {
      "image/png": "[encoded data removed]",
      "text/plain": [
       "<Figure size 432x288 with 1 Axes>"
      ]
     },
     "metadata": {
      "needs_background": "light"
     },
     "output_type": "display_data"
    }
   ],
   "source": [
    "# Plot the mass-luminosity relationship\n",
    "from astropy import constants as cs\n",
    "from astropy import units as u\n",
    "import matplotlib.pyplot as plt\n",
    "plt.plot(clus_1.star_systems['mass_current'], np.log10(clus_1.star_systems[\"L\"]), \"r.\", label=\"Binary_Cluster made from BPASS (Star Systems)\", alpha =1)\n",
    "plt.xlabel(\"log Current Mass in solar masses\")\n",
    "plt.ylabel(\"log(L/L_solar)\")\n",
    "plt.title(\"log-Mass-logL of Cluster at 0.5Z_solar and 10**8.0 years age\")\n",
    "plt.legend()\n",
    "# Rough pattern seems to fit. What's that line?"
   ]
  },
  {
   "cell_type": "code",
   "execution_count": 55,
   "metadata": {},
   "outputs": [
    {
     "data": {
      "text/plain": [
       "<matplotlib.legend.Legend at 0x7fbe8a407f28>"
      ]
     },
     "execution_count": 55,
     "metadata": {},
     "output_type": "execute_result"
    },
    {
     "data": {
      "image/png": "[encoded data removed]",
      "text/plain": [
       "<Figure size 432x288 with 1 Axes>"
      ]
     },
     "metadata": {
      "needs_background": "light"
     },
     "output_type": "display_data"
    }
   ],
   "source": [
    "# Plot the mass-luminosity relationship\n",
    "from astropy import constants as cs\n",
    "from astropy import units as u\n",
    "import matplotlib.pyplot as plt\n",
    "plt.plot(clus_1.companions['mass_current'], np.log10(clus_1.companions[\"L\"]), \"r.\", label=\"Binary_Cluster made from BPASS (Companions)\", alpha =1)\n",
    "plt.xlabel(\"log Current Mass in solar masses\")\n",
    "plt.ylabel(\"log(L/L_solar)\")\n",
    "plt.title(\"log-Mass-logL of Cluster at 0.5Z_solar and 10**8.0 years age\")\n",
    "plt.legend()\n",
    "# Rough pattern seems to fit. What's that line?"
   ]
  },
  {
   "cell_type": "markdown",
   "metadata": {},
   "source": [
    "Now go back to the shape of the clusters' Color magnitude diagrams."
   ]
  },
  {
   "cell_type": "code",
   "execution_count": 56,
   "metadata": {},
   "outputs": [
    {
     "data": {
      "text/html": [
       "&lt;Column name=&apos;log_a&apos; dtype=&apos;float64&apos; length=1836&gt;\n",
       "<table>\n",
       "<tr><td>-3.011563900875405</td></tr>\n",
       "<tr><td>-2.4057862326801946</td></tr>\n",
       "<tr><td>-1.7291409014564287</td></tr>\n",
       "<tr><td>-1.7234355447952723</td></tr>\n",
       "<tr><td>-1.6081340405001758</td></tr>\n",
       "<tr><td>-1.577025490988325</td></tr>\n",
       "<tr><td>-1.536420798385604</td></tr>\n",
       "<tr><td>-1.4420785823747044</td></tr>\n",
       "<tr><td>-1.4285693086607063</td></tr>\n",
       "<tr><td>-1.4071753568586205</td></tr>\n",
       "<tr><td>-1.3795842900753015</td></tr>\n",
       "<tr><td>-1.3372895197516024</td></tr>\n",
       "<tr><td>...</td></tr>\n",
       "<tr><td>nan</td></tr>\n",
       "<tr><td>nan</td></tr>\n",
       "<tr><td>nan</td></tr>\n",
       "<tr><td>nan</td></tr>\n",
       "<tr><td>nan</td></tr>\n",
       "<tr><td>nan</td></tr>\n",
       "<tr><td>nan</td></tr>\n",
       "<tr><td>nan</td></tr>\n",
       "<tr><td>nan</td></tr>\n",
       "<tr><td>nan</td></tr>\n",
       "<tr><td>nan</td></tr>\n",
       "<tr><td>nan</td></tr>\n",
       "</table>"
      ],
      "text/plain": [
       "<Column name='log_a' dtype='float64' length=1836>\n",
       " -3.011563900875405\n",
       "-2.4057862326801946\n",
       "-1.7291409014564287\n",
       "-1.7234355447952723\n",
       "-1.6081340405001758\n",
       " -1.577025490988325\n",
       " -1.536420798385604\n",
       "-1.4420785823747044\n",
       "-1.4285693086607063\n",
       "-1.4071753568586205\n",
       "-1.3795842900753015\n",
       "-1.3372895197516024\n",
       "                ...\n",
       "                nan\n",
       "                nan\n",
       "                nan\n",
       "                nan\n",
       "                nan\n",
       "                nan\n",
       "                nan\n",
       "                nan\n",
       "                nan\n",
       "                nan\n",
       "                nan\n",
       "                nan"
      ]
     },
     "execution_count": 56,
     "metadata": {},
     "output_type": "execute_result"
    }
   ],
   "source": [
    "np.unique(clus_1.companions['log_a'])"
   ]
  },
  {
   "cell_type": "code",
   "execution_count": 57,
   "metadata": {},
   "outputs": [
    {
     "data": {
      "text/plain": [
       "<matplotlib.legend.Legend at 0x7fbe6abfa0f0>"
      ]
     },
     "execution_count": 57,
     "metadata": {},
     "output_type": "execute_result"
    },
    {
     "data": {
      "image/png": "[encoded data removed]",
      "text/plain": [
       "<Figure size 432x288 with 1 Axes>"
      ]
     },
     "metadata": {
      "needs_background": "light"
     },
     "output_type": "display_data"
    }
   ],
   "source": [
    "# Taking a look at the Binary Cluster vs Default Settings cluster Observer's HR Diagram\n",
    "# Remember to use a distance modulus!\n",
    "import matplotlib.pyplot as plt\n",
    "plt.plot(clus_1.star_systems['m_ubv_B']-clus_1.star_systems[\"m_ubv_V\"], clus_1.star_systems[\"m_ubv_V\"]-5*np.log10(100), \"r.\",label=\"BPASS\", alpha =0.3)\n",
    "plt.plot(clus_2.star_systems['m_ubv_B']-clus_2.star_systems[\"m_ubv_V\"], clus_2.star_systems[\"m_ubv_V\"]-5*np.log10(100), \"b+\", label=\"Parsec\", alpha=0.1)\n",
    "plt.xlabel(\"B-V\")\n",
    "plt.ylabel(\"M_V\")\n",
    "plt.title(\"Color magnitude Diagram of clusters at 0.5Z_solar and 10**8.0 years age\")\n",
    "plt.gca().invert_yaxis()\n",
    "plt.legend()"
   ]
  },
  {
   "cell_type": "code",
   "execution_count": 58,
   "metadata": {},
   "outputs": [
    {
     "data": {
      "text/html": [
       "<i>Table length=0</i>\n",
       "<table id=\"table140455522806920\" class=\"table-striped table-bordered table-condensed\">\n",
       "<thead><tr><th>mass</th><th>systemMass</th><th>Teff</th><th>L</th><th>logg</th><th>isWR</th><th>mass_current</th><th>phase</th><th>metallicity</th><th>isMultiple</th><th>merged</th><th>m_ubv_U</th><th>m_ubv_V</th><th>m_ubv_B</th><th>m_ubv_R</th><th>m_ubv_I</th></tr></thead>\n",
       "<thead><tr><th>solMass</th><th></th><th>K</th><th>W</th><th></th><th></th><th>solMass</th><th></th><th></th><th></th><th></th><th></th><th></th><th></th><th></th><th></th></tr></thead>\n",
       "<thead><tr><th>float64</th><th>float64</th><th>float64</th><th>float64</th><th>float64</th><th>bool</th><th>float64</th><th>float64</th><th>float64</th><th>bool</th><th>bool</th><th>float64</th><th>float64</th><th>float64</th><th>float64</th><th>float64</th></tr></thead>\n",
       "</table>"
      ],
      "text/plain": [
       "<Table length=0>\n",
       "  mass  systemMass   Teff     L      logg  ... m_ubv_V m_ubv_B m_ubv_R m_ubv_I\n",
       "solMass               K       W            ...                                \n",
       "float64  float64   float64 float64 float64 ... float64 float64 float64 float64\n",
       "------- ---------- ------- ------- ------- ... ------- ------- ------- -------"
      ]
     },
     "execution_count": 58,
     "metadata": {},
     "output_type": "execute_result"
    }
   ],
   "source": [
    "clus_1.star_systems[np.where(clus_1.star_systems[\"m_ubv_V\"]==0)]"
   ]
  },
  {
   "cell_type": "code",
   "execution_count": 59,
   "metadata": {},
   "outputs": [
    {
     "data": {
      "text/plain": [
       "<matplotlib.legend.Legend at 0x7fbe598b29b0>"
      ]
     },
     "execution_count": 59,
     "metadata": {},
     "output_type": "execute_result"
    },
    {
     "data": {
      "image/png": "[encoded data removed]",
      "text/plain": [
       "<Figure size 432x288 with 1 Axes>"
      ]
     },
     "metadata": {
      "needs_background": "light"
     },
     "output_type": "display_data"
    }
   ],
   "source": [
    "import matplotlib.pyplot as plt\n",
    "plt.plot(np.log10(clus_1.companions['Teff']), np.log10(clus_1.companions[\"L\"]), \"r.\",label=\"BPASS isochrone\", alpha=0.5)\n",
    "plt.plot(np.log10(clus_2.companions['Teff']), np.log10(clus_2.companions[\"L\"]), \"b+\", alpha=0.15)\n",
    "plt.plot(np.log10(clus_1.star_systems['Teff']), np.log10(clus_1.star_systems[\"L\"]), \"r.\",label=\"BPASS isochrone\", alpha=0.5)\n",
    "plt.plot(np.log10(clus_2.star_systems['Teff']), np.log10(clus_2.star_systems[\"L\"]), \"b+\", label=\"Parsec\", alpha=0.15)\n",
    "plt.xlabel(\"log(T in kelvin)\")\n",
    "plt.ylabel(\"log(L in watts)\")\n",
    "plt.title(\"HR Diagram of clusters at 0.5Z_solar and 10**8.0 years age\")\n",
    "plt.gca().invert_xaxis()\n",
    "plt.legend()"
   ]
  },
  {
   "cell_type": "markdown",
   "metadata": {},
   "source": [
    "If I look at the HR Diagram, I do see deviation with respects to the Parsec line for some of the brighter stars, but I see an overall good trend with the main-sequence turnoff. Also, I see the compact remnants where they should be given my setup."
   ]
  },
  {
   "cell_type": "markdown",
   "metadata": {},
   "source": [
    "Looking at which stars are the white dwarves?"
   ]
  },
  {
   "cell_type": "code",
   "execution_count": 60,
   "metadata": {},
   "outputs": [
    {
     "data": {
      "text/plain": [
       "array([  69,  649,  856,  978, 1395, 1495])"
      ]
     },
     "execution_count": 60,
     "metadata": {},
     "output_type": "execute_result"
    }
   ],
   "source": [
    "import numpy as np\n",
    "np.where(clus_1.star_systems['phase']==101.0)[0]"
   ]
  },
  {
   "cell_type": "markdown",
   "metadata": {},
   "source": [
    "Black Holes?"
   ]
  },
  {
   "cell_type": "code",
   "execution_count": 61,
   "metadata": {},
   "outputs": [
    {
     "data": {
      "text/plain": [
       "array([], dtype=int64)"
      ]
     },
     "execution_count": 61,
     "metadata": {},
     "output_type": "execute_result"
    }
   ],
   "source": [
    "np.where(clus_1.star_systems['phase']==103.0)[0]"
   ]
  },
  {
   "cell_type": "code",
   "execution_count": 62,
   "metadata": {},
   "outputs": [
    {
     "data": {
      "text/plain": [
       "array([], dtype=int64)"
      ]
     },
     "execution_count": 62,
     "metadata": {},
     "output_type": "execute_result"
    }
   ],
   "source": [
    "np.where(clus_1.star_systems['phase']==102.0)[0]"
   ]
  },
  {
   "cell_type": "markdown",
   "metadata": {},
   "source": [
    "Total mass of the cluster?"
   ]
  },
  {
   "cell_type": "code",
   "execution_count": 63,
   "metadata": {},
   "outputs": [
    {
     "data": {
      "text/plain": [
       "20885.84679301631"
      ]
     },
     "execution_count": 63,
     "metadata": {},
     "output_type": "execute_result"
    }
   ],
   "source": [
    "clus_1.star_systems['systemMass'].sum()"
   ]
  }
 ],
 "metadata": {
  "kernelspec": {
   "display_name": "astroconda",
   "language": "python",
   "name": "astroconda"
  },
  "language_info": {
   "codemirror_mode": {
    "name": "ipython",
    "version": 3
   },
   "file_extension": ".py",
   "mimetype": "text/x-python",
   "name": "python",
   "nbconvert_exporter": "python",
   "pygments_lexer": "ipython3",
   "version": "3.7.3"
  }
 },
 "nbformat": 4,
 "nbformat_minor": 2
}
