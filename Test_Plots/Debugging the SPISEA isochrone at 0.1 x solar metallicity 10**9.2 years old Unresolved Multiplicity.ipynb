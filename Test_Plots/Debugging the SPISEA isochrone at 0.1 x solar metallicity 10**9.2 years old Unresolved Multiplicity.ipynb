{
 "cells": [
  {
   "cell_type": "markdown",
   "metadata": {},
   "source": [
    "## Testing the BPASS isochrone at 10^9.2 years age. Using Duchene & Krauss (2013) multiplicity)\n",
    "In this BPASS isochrone and cluster plot, I go over the BPASS isochrone for 9.2 billion years age, 0.1 times solar metallicity, AKs=0.5, and distance of 2000 parsecs from Earth. From the isochrone and cluster, we discuss several plots such as the log_g frequency distribution of the isochrone, the color magnitude diagram (B-V vs pseudo-M_V), and the mass luminosity relationship of the cluster. **Note that I say pseudo-M_V as it is the absoulte magnitude but NOT accounting for extinction**\n",
    "\n",
    "Formula for pseudo M_V\n",
    "pseudo-M_V = V - 5$log_{10}$(distance to cluster/(10 pc))\n",
    "\n",
    "Other notes:\n",
    "\n",
    "I have chosen dist to cluster = 2000 pc to further distinguish this notebook from the other 10^9.2 year old isochrone Notebook.\n",
    "**As the title indicates, I have decided to use unresolved multiplicity in my BPASS and MISTv.1 clusters.**"
   ]
  },
  {
   "cell_type": "code",
   "execution_count": 1,
   "metadata": {},
   "outputs": [
    {
     "name": "stderr",
     "output_type": "stream",
     "text": [
      "/opt/anaconda3/envs/astroconda/lib/python3.7/site-packages/pysynphot/locations.py:346: UserWarning: Extinction files not found in /g/lu/models/cdbs/extinction\n",
      "  warnings.warn('Extinction files not found in %s' % (extdir, ))\n",
      "/opt/anaconda3/envs/astroconda/lib/python3.7/site-packages/pysynphot/refs.py:125: UserWarning: No thermal tables found, no thermal calculations can be performed. No files found for /g/lu/models/cdbs/mtab/*_tmt.fits\n",
      "  'no thermal calculations can be performed. ' + str(e))\n"
     ]
    },
    {
     "name": "stdout",
     "output_type": "stream",
     "text": [
      "-1.0\n",
      "0.02\n"
     ]
    },
    {
     "name": "stderr",
     "output_type": "stream",
     "text": [
      "/opt/anaconda3/envs/astroconda/lib/python3.7/site-packages/astropy/units/quantity.py:477: RuntimeWarning: invalid value encountered in true_divide\n",
      "  result = super().__array_ufunc__(function, method, *arrays, **kwargs)\n",
      "/u/ryotainagaki/Desktop/PyPopStar/spisea/evolution.py:1794: RuntimeWarning: overflow encountered in power\n",
      "  (1 / cs.au) * un.m)\n",
      "/opt/anaconda3/envs/astroconda/lib/python3.7/site-packages/astropy/table/column.py:1020: RuntimeWarning: invalid value encountered in greater\n",
      "  result = getattr(super(), op)(other)\n",
      "/opt/anaconda3/envs/astroconda/lib/python3.7/site-packages/astropy/units/quantity.py:477: RuntimeWarning: divide by zero encountered in true_divide\n",
      "  result = super().__array_ufunc__(function, method, *arrays, **kwargs)\n"
     ]
    },
    {
     "name": "stdout",
     "output_type": "stream",
     "text": [
      "Changing to logg=5.00 for T= 20715 logg=7.07\n",
      "Changing to logg=5.00 for T= 24351 logg=5.62\n",
      "Changing to logg=5.00 for T= 32004 logg=6.49\n",
      "Changing to logg=5.00 for T= 39903 logg=7.00\n",
      "Changing to logg=5.00 for T= 24344 logg=7.21\n",
      "Changing to logg=5.00 for T= 21592 logg=5.57\n",
      "Changing to logg=5.00 for T= 23312 logg=7.37\n",
      "Changing to logg=5.00 for T= 18255 logg=5.15\n",
      "Changing to logg=5.00 for T= 24030 logg=7.31\n",
      "Changing to logg=5.00 for T= 31527 logg=6.41\n",
      "Changing to logg=5.00 for T= 17441 logg=5.06\n",
      "Changing to T= 50000 for T= 67073 logg=5.76\n",
      "Changing to logg=5.00 for T= 67073 logg=5.76\n",
      "Changing to logg=5.00 for T= 33534 logg=6.57\n",
      "Changing to logg=5.00 for T= 39646 logg=6.99\n",
      "Changing to logg=5.00 for T= 45852 logg=7.73\n",
      "Changing to logg=5.00 for T= 23534 logg=7.23\n",
      "Changing to logg=5.00 for T= 30895 logg=6.47\n",
      "Changing to logg=5.00 for T= 29347 logg=7.82\n",
      "Changing to logg=5.00 for T= 24339 logg=5.63\n",
      "Changing to logg=5.00 for T= 22601 logg=7.33\n",
      "Changing to logg=5.00 for T= 22989 logg=5.52\n",
      "Changing to logg=5.00 for T= 23791 logg=5.80\n",
      "Changing to logg=5.00 for T= 23944 logg=7.35\n",
      "Changing to logg=5.00 for T= 25609 logg=5.75\n",
      "Changing to T= 50000 for T=114496 logg=6.70\n",
      "Changing to logg=5.00 for T=114496 logg=6.70\n",
      "Changing to logg=5.00 for T= 31711 logg=6.59\n",
      "Changing to logg=5.00 for T= 37476 logg=6.98\n",
      "Changing to logg=5.00 for T= 27434 logg=5.90\n",
      "Changing to logg=2.00 for T=  9391 logg=1.87\n",
      "Changing to logg=5.00 for T= 29151 logg=5.95\n",
      "Changing to logg=5.00 for T= 32667 logg=6.05\n",
      "Changing to logg=5.00 for T= 35935 logg=6.68\n",
      "Changing to logg=5.00 for T= 24550 logg=7.29\n",
      "Changing to logg=5.00 for T= 35551 logg=6.91\n",
      "Changing to logg=5.00 for T= 34912 logg=6.10\n",
      "Changing to logg=5.00 for T= 40447 logg=7.77\n",
      "Changing to logg=5.00 for T= 30551 logg=6.30\n",
      "Changing to logg=5.00 for T= 23742 logg=7.18\n",
      "Changing to logg=5.00 for T= 24442 logg=7.18\n",
      "Changing to logg=5.00 for T= 33051 logg=6.90\n",
      "Changing to logg=5.00 for T= 21594 logg=5.57\n",
      "Changing to logg=5.00 for T= 23945 logg=5.82\n",
      "Changing to logg=5.00 for T= 26201 logg=5.82\n",
      "Changing to logg=5.00 for T= 27463 logg=5.91\n",
      "Changing to logg=5.00 for T= 35681 logg=6.08\n",
      "Changing to logg=5.00 for T= 24138 logg=7.28\n",
      "Changing to logg=5.00 for T= 24030 logg=7.35\n",
      "Changing to logg=5.00 for T= 25848 logg=5.76\n",
      "Changing to logg=5.00 for T= 33652 logg=6.22\n",
      "Changing to logg=5.00 for T= 24882 logg=5.96\n",
      "Changing to logg=5.00 for T= 27221 logg=6.02\n",
      "Changing to logg=5.00 for T= 24678 logg=7.23\n",
      "Changing to logg=5.00 for T= 18958 logg=5.15\n",
      "Changing to logg=5.00 for T= 20285 logg=5.44\n",
      "Changing to logg=5.00 for T= 33745 logg=6.64\n",
      "Changing to logg=5.00 for T= 17862 logg=5.03\n",
      "Changing to logg=5.00 for T= 24415 logg=7.27\n",
      "Changing to logg=5.00 for T= 34515 logg=6.76\n",
      "Making photometry for isochrone: log(t) = 9.20  AKs = 0.50  dist = 2000\n",
      "     Starting at:  2021-03-14 14:49:49.575382   Usually takes ~5 minutes\n",
      "Starting filter: ubv,U   Elapsed time: 0.00 seconds\n",
      "Starting synthetic photometry\n",
      "Singles\n",
      "M =   5.500 Msun  T = 11984 K  m_ubv_U = 32.79\n",
      "M =   1.920 Msun  T =  8499 K  m_ubv_U = 31.91\n",
      "Primaries\n",
      "M =   1.300 Msun  T =  8186 K  m_ubv_U = 22.31\n",
      "M =   1.500 Msun  T =  8186 K  m_ubv_U = 21.41\n",
      "M =   1.100 Msun  T =  7122 K  m_ubv_U = 23.33\n",
      "M =   1.900 Msun  T =  8464 K  m_ubv_U = 31.92\n",
      "M =   3.000 Msun  T =  7806 K  m_ubv_U = 32.99\n",
      "M =   5.000 Msun  T =  9346 K  m_ubv_U = 32.30\n",
      "M =   3.000 Msun  T =  9927 K  m_ubv_U = 31.92\n",
      "M =   2.700 Msun  T =  8415 K  m_ubv_U = 32.81\n",
      "M =   6.310 Msun  T =  3090 K  m_ubv_U = 36.07\n",
      "M =   1.600 Msun  T =  4351 K  m_ubv_U = 19.55\n",
      "M =   1.259 Msun  T =   nan K  m_ubv_U =  nan\n",
      "M =   1.900 Msun  T =  8095 K  m_ubv_U = 32.90\n",
      "M =   1.259 Msun  T =   nan K  m_ubv_U =  nan\n",
      "M =   5.000 Msun  T =  8932 K  m_ubv_U = 32.40\n",
      "M =   0.631 Msun  T =   nan K  m_ubv_U =  nan\n",
      "M =   2.500 Msun  T =  7648 K  m_ubv_U = 32.82\n",
      "M =   1.700 Msun  T = 15821 K  m_ubv_U = 29.43\n",
      "M =   2.300 Msun  T =  7267 K  m_ubv_U = 32.98\n",
      "M =   3.000 Msun  T =  7806 K  m_ubv_U = 32.99\n",
      "M =   0.398 Msun  T =   nan K  m_ubv_U =  nan\n",
      "M =   1.100 Msun  T =  7122 K  m_ubv_U = 23.33\n",
      "M =   0.794 Msun  T =   nan K  m_ubv_U =  nan\n",
      "M =   3.500 Msun  T =  6584 K  m_ubv_U = 33.55\n",
      "M =   1.400 Msun  T =  8361 K  m_ubv_U = 21.85\n",
      "M =   1.700 Msun  T = 15821 K  m_ubv_U = 29.43\n",
      "M =   1.400 Msun  T =  8353 K  m_ubv_U = 21.85\n",
      "M =   1.800 Msun  T =  8257 K  m_ubv_U = 32.85\n",
      "M =   1.700 Msun  T =  7881 K  m_ubv_U = 32.96\n",
      "M =   6.310 Msun  T =   nan K  m_ubv_U =  nan\n",
      "M =   0.501 Msun  T =   nan K  m_ubv_U =  nan\n",
      "M =   1.100 Msun  T =  7518 K  m_ubv_U = 32.67\n",
      "M =   1.100 Msun  T =  7122 K  m_ubv_U = 23.33\n",
      "M =   1.600 Msun  T =  7439 K  m_ubv_U = 33.12\n",
      "M =   7.000 Msun  T = 10341 K  m_ubv_U = 32.14\n",
      "M =   6.000 Msun  T = 10253 K  m_ubv_U = 32.16\n",
      "M =   1.800 Msun  T =  8257 K  m_ubv_U = 32.85\n",
      "M =   0.501 Msun  T =   nan K  m_ubv_U =  nan\n",
      "M =   1.800 Msun  T =  7580 K  m_ubv_U = 32.64\n",
      "M =   1.400 Msun  T =  7518 K  m_ubv_U = 32.67\n",
      "M =   1.400 Msun  T =   nan K  m_ubv_U =  nan\n",
      "M =   1.300 Msun  T =  8203 K  m_ubv_U = 22.32\n",
      "M =   0.794 Msun  T =   nan K  m_ubv_U =  nan\n",
      "M =   0.316 Msun  T =   nan K  m_ubv_U =  nan\n",
      "M =   2.700 Msun  T =  8415 K  m_ubv_U = 32.81\n",
      "M =   1.259 Msun  T =   nan K  m_ubv_U =  nan\n",
      "M =   1.900 Msun  T =  8464 K  m_ubv_U = 31.92\n",
      "M =  10.000 Msun  T =  3090 K  m_ubv_U = 36.07\n",
      "M =   2.100 Msun  T =  8064 K  m_ubv_U = 33.15\n",
      "M =   1.000 Msun  T =   nan K  m_ubv_U =  nan\n",
      "M =   1.600 Msun  T =  4329 K  m_ubv_U = 19.53\n",
      "Secondaries\n",
      "M =   0.780 Msun  T =  4501 K  m_ubv_U = 27.20\n",
      "M =   0.300 Msun  T =  3772 K  m_ubv_U = 31.35\n",
      "M =   0.330 Msun  T =  1904 K  m_ubv_U = 38.26\n",
      "M =   1.710 Msun  T =  9717 K  m_ubv_U = 20.56\n",
      "M =   2.100 Msun  T = 12328 K  m_ubv_U = 20.22\n",
      "M =   4.500 Msun  T = 14701 K  m_ubv_U = 16.53\n",
      "M =   0.300 Msun  T =   nan K  m_ubv_U =  nan\n",
      "M =   0.540 Msun  T =   nan K  m_ubv_U =  nan\n",
      "M =   3.000 Msun  T =  7711 K  m_ubv_U = 33.02\n",
      "M =   0.320 Msun  T =  3787 K  m_ubv_U = 31.21\n",
      "M =   1.500 Msun  T =  7959 K  m_ubv_U = 21.07\n",
      "M =   0.760 Msun  T =   nan K  m_ubv_U =  nan\n",
      "M =   5.500 Msun  T = 11981 K  m_ubv_U = 32.79\n",
      "M =   1.500 Msun  T =  8624 K  m_ubv_U = 21.08\n",
      "M =   1.300 Msun  T =  8181 K  m_ubv_U = 21.99\n",
      "M =   0.250 Msun  T =   nan K  m_ubv_U =  nan\n",
      "M =   1.360 Msun  T =  8930 K  m_ubv_U = 21.84\n",
      "M =   1.840 Msun  T = 11066 K  m_ubv_U = 20.54\n",
      "M =   1.200 Msun  T =  7409 K  m_ubv_U = 23.07\n",
      "M =   1.500 Msun  T =  7959 K  m_ubv_U = 21.07\n",
      "M =   0.880 Msun  T =  5078 K  m_ubv_U = 26.00\n",
      "M =   3.000 Msun  T =  7711 K  m_ubv_U = 33.02\n",
      "M =   3.150 Msun  T = 11726 K  m_ubv_U = 17.72\n",
      "M =   0.280 Msun  T =  3757 K  m_ubv_U = 31.51\n",
      "M =   1.360 Msun  T =  8930 K  m_ubv_U = 21.84\n",
      "M =   1.120 Msun  T =  7201 K  m_ubv_U = 23.20\n",
      "M =   0.900 Msun  T =   nan K  m_ubv_U =  nan\n",
      "M =   1.360 Msun  T =   nan K  m_ubv_U =  nan\n",
      "M =   3.200 Msun  T =  7985 K  m_ubv_U = 32.93\n",
      "M =   1.400 Msun  T =  8322 K  m_ubv_U = 21.50\n",
      "M =   0.990 Msun  T =   nan K  m_ubv_U =  nan\n",
      "M =   0.550 Msun  T =  3174 K  m_ubv_U = 31.35\n",
      "M =   1.120 Msun  T =   nan K  m_ubv_U =  nan\n",
      "M =   2.800 Msun  T = 10483 K  m_ubv_U = 18.15\n",
      "M =   4.200 Msun  T = 15764 K  m_ubv_U = 16.88\n",
      "M =   0.900 Msun  T =   nan K  m_ubv_U =  nan\n",
      "M =   5.000 Msun  T =  8500 K  m_ubv_U = 32.54\n",
      "M =   0.360 Msun  T =   nan K  m_ubv_U =  nan\n",
      "M =   0.700 Msun  T =   nan K  m_ubv_U =  nan\n",
      "M =   5.500 Msun  T = 10235 K  m_ubv_U = 31.99\n",
      "M =   0.260 Msun  T =  3742 K  m_ubv_U = 31.66\n",
      "M =   1.200 Msun  T =  7750 K  m_ubv_U = 22.59\n",
      "M =   5.500 Msun  T = 10126 K  m_ubv_U = 32.11\n",
      "M =   0.540 Msun  T =   nan K  m_ubv_U =  nan\n",
      "M =   1.800 Msun  T =  9839 K  m_ubv_U = 31.18\n",
      "M =   1.520 Msun  T =  9679 K  m_ubv_U = 21.32\n",
      "M =   7.000 Msun  T = 10516 K  m_ubv_U = 32.00\n",
      "M =   1.890 Msun  T =   nan K  m_ubv_U =  nan\n",
      "M =   1.100 Msun  T =  7127 K  m_ubv_U = 23.17\n",
      "M =   1.440 Msun  T =  9264 K  m_ubv_U = 21.46\n",
      "Starting filter: ubv,V   Elapsed time: 31.35 seconds\n",
      "Starting synthetic photometry\n",
      "Singles\n",
      "M =   5.500 Msun  T = 11984 K  m_ubv_V = 33.02\n",
      "M =   1.920 Msun  T =  8499 K  m_ubv_V = 31.67\n",
      "Primaries\n",
      "M =   1.300 Msun  T =  8186 K  m_ubv_V = 21.60\n",
      "M =   1.500 Msun  T =  8186 K  m_ubv_V = 20.68\n",
      "M =   1.100 Msun  T =  7122 K  m_ubv_V = 22.60\n",
      "M =   1.900 Msun  T =  8464 K  m_ubv_V = 31.68\n",
      "M =   3.000 Msun  T =  7806 K  m_ubv_V = 32.60\n",
      "M =   5.000 Msun  T =  9346 K  m_ubv_V = 32.22\n"
     ]
    },
    {
     "name": "stdout",
     "output_type": "stream",
     "text": [
      "M =   3.000 Msun  T =  9927 K  m_ubv_V = 31.92\n",
      "M =   2.700 Msun  T =  8415 K  m_ubv_V = 32.55\n",
      "M =   6.310 Msun  T =  3090 K  m_ubv_V = 32.90\n",
      "M =   1.600 Msun  T =  4351 K  m_ubv_V = 16.88\n",
      "M =   1.259 Msun  T =   nan K  m_ubv_V =  nan\n",
      "M =   1.900 Msun  T =  8095 K  m_ubv_V = 32.57\n",
      "M =   1.259 Msun  T =   nan K  m_ubv_V =  nan\n",
      "M =   5.000 Msun  T =  8932 K  m_ubv_V = 32.25\n",
      "M =   0.631 Msun  T =   nan K  m_ubv_V =  nan\n",
      "M =   2.500 Msun  T =  7648 K  m_ubv_V = 32.39\n",
      "M =   1.700 Msun  T = 15821 K  m_ubv_V = 29.92\n",
      "M =   2.300 Msun  T =  7267 K  m_ubv_V = 32.45\n",
      "M =   3.000 Msun  T =  7806 K  m_ubv_V = 32.60\n",
      "M =   0.398 Msun  T =   nan K  m_ubv_V =  nan\n",
      "M =   1.100 Msun  T =  7122 K  m_ubv_V = 22.60\n",
      "M =   0.794 Msun  T =   nan K  m_ubv_V =  nan\n",
      "M =   3.500 Msun  T =  6584 K  m_ubv_V = 32.81\n",
      "M =   1.400 Msun  T =  8361 K  m_ubv_V = 21.15\n",
      "M =   1.700 Msun  T = 15821 K  m_ubv_V = 29.92\n",
      "M =   1.400 Msun  T =  8353 K  m_ubv_V = 21.15\n",
      "M =   1.800 Msun  T =  8257 K  m_ubv_V = 32.56\n",
      "M =   1.700 Msun  T =  7881 K  m_ubv_V = 32.59\n",
      "M =   6.310 Msun  T =   nan K  m_ubv_V =  nan\n",
      "M =   0.501 Msun  T =   nan K  m_ubv_V =  nan\n",
      "M =   1.100 Msun  T =  7518 K  m_ubv_V = 32.20\n",
      "M =   1.100 Msun  T =  7122 K  m_ubv_V = 22.60\n",
      "M =   1.600 Msun  T =  7439 K  m_ubv_V = 32.64\n",
      "M =   7.000 Msun  T = 10341 K  m_ubv_V = 32.20\n",
      "M =   6.000 Msun  T = 10253 K  m_ubv_V = 32.20\n",
      "M =   1.800 Msun  T =  8257 K  m_ubv_V = 32.56\n",
      "M =   0.501 Msun  T =   nan K  m_ubv_V =  nan\n",
      "M =   1.800 Msun  T =  7580 K  m_ubv_V = 32.19\n",
      "M =   1.400 Msun  T =  7518 K  m_ubv_V = 32.20\n",
      "M =   1.400 Msun  T =   nan K  m_ubv_V =  nan\n",
      "M =   1.300 Msun  T =  8203 K  m_ubv_V = 21.61\n",
      "M =   0.794 Msun  T =   nan K  m_ubv_V =  nan\n",
      "M =   0.316 Msun  T =   nan K  m_ubv_V =  nan\n",
      "M =   2.700 Msun  T =  8415 K  m_ubv_V = 32.55\n",
      "M =   1.259 Msun  T =   nan K  m_ubv_V =  nan\n",
      "M =   1.900 Msun  T =  8464 K  m_ubv_V = 31.68\n",
      "M =  10.000 Msun  T =  3090 K  m_ubv_V = 32.90\n",
      "M =   2.100 Msun  T =  8064 K  m_ubv_V = 32.82\n",
      "M =   1.000 Msun  T =   nan K  m_ubv_V =  nan\n",
      "M =   1.600 Msun  T =  4329 K  m_ubv_V = 16.82\n",
      "Secondaries\n",
      "M =   0.780 Msun  T =  4501 K  m_ubv_V = 25.41\n",
      "M =   0.300 Msun  T =  3772 K  m_ubv_V = 28.95\n",
      "M =   0.330 Msun  T =  1904 K  m_ubv_V = 34.35\n",
      "M =   1.710 Msun  T =  9717 K  m_ubv_V = 20.53\n",
      "M =   2.100 Msun  T = 12328 K  m_ubv_V = 20.49\n",
      "M =   4.500 Msun  T = 14701 K  m_ubv_V = 16.96\n",
      "M =   0.300 Msun  T =   nan K  m_ubv_V =  nan\n",
      "M =   0.540 Msun  T =   nan K  m_ubv_V =  nan\n",
      "M =   3.000 Msun  T =  7711 K  m_ubv_V = 32.61\n",
      "M =   0.320 Msun  T =  3787 K  m_ubv_V = 28.82\n",
      "M =   1.500 Msun  T =  7959 K  m_ubv_V = 20.72\n",
      "M =   0.760 Msun  T =   nan K  m_ubv_V =  nan\n",
      "M =   5.500 Msun  T = 11981 K  m_ubv_V = 33.02\n",
      "M =   1.500 Msun  T =  8624 K  m_ubv_V = 20.86\n",
      "M =   1.300 Msun  T =  8181 K  m_ubv_V = 21.68\n",
      "M =   0.250 Msun  T =   nan K  m_ubv_V =  nan\n",
      "M =   1.360 Msun  T =  8930 K  m_ubv_V = 21.68\n",
      "M =   1.840 Msun  T = 11066 K  m_ubv_V = 20.68\n",
      "M =   1.200 Msun  T =  7409 K  m_ubv_V = 22.57\n",
      "M =   1.500 Msun  T =  7959 K  m_ubv_V = 20.72\n",
      "M =   0.880 Msun  T =  5078 K  m_ubv_V = 24.59\n",
      "M =   3.000 Msun  T =  7711 K  m_ubv_V = 32.61\n",
      "M =   3.150 Msun  T = 11726 K  m_ubv_V = 17.93\n",
      "M =   0.280 Msun  T =  3757 K  m_ubv_V = 29.09\n",
      "M =   1.360 Msun  T =  8930 K  m_ubv_V = 21.68\n",
      "M =   1.120 Msun  T =  7201 K  m_ubv_V = 22.66\n",
      "M =   0.900 Msun  T =   nan K  m_ubv_V =  nan\n",
      "M =   1.360 Msun  T =   nan K  m_ubv_V =  nan\n",
      "M =   3.200 Msun  T =  7985 K  m_ubv_V = 32.58\n",
      "M =   1.400 Msun  T =  8322 K  m_ubv_V = 21.23\n",
      "M =   0.990 Msun  T =   nan K  m_ubv_V =  nan\n",
      "M =   0.550 Msun  T =  3174 K  m_ubv_V = 28.29\n",
      "M =   1.120 Msun  T =   nan K  m_ubv_V =  nan\n",
      "M =   2.800 Msun  T = 10483 K  m_ubv_V = 18.22\n",
      "M =   4.200 Msun  T = 15764 K  m_ubv_V = 17.38\n",
      "M =   0.900 Msun  T =   nan K  m_ubv_V =  nan\n",
      "M =   5.000 Msun  T =  8500 K  m_ubv_V = 32.30\n",
      "M =   0.360 Msun  T =   nan K  m_ubv_V =  nan\n",
      "M =   0.700 Msun  T =   nan K  m_ubv_V =  nan\n",
      "M =   5.500 Msun  T = 10235 K  m_ubv_V = 32.03\n",
      "M =   0.260 Msun  T =  3742 K  m_ubv_V = 29.23\n",
      "M =   1.200 Msun  T =  7750 K  m_ubv_V = 22.19\n",
      "M =   5.500 Msun  T = 10126 K  m_ubv_V = 32.14\n",
      "M =   0.540 Msun  T =   nan K  m_ubv_V =  nan\n",
      "M =   1.800 Msun  T =  9839 K  m_ubv_V = 31.17\n",
      "M =   1.520 Msun  T =  9679 K  m_ubv_V = 21.28\n",
      "M =   7.000 Msun  T = 10516 K  m_ubv_V = 32.07\n",
      "M =   1.890 Msun  T =   nan K  m_ubv_V =  nan\n",
      "M =   1.100 Msun  T =  7127 K  m_ubv_V = 22.60\n",
      "M =   1.440 Msun  T =  9264 K  m_ubv_V = 21.36\n",
      "Starting filter: ubv,B   Elapsed time: 62.43 seconds\n",
      "Starting synthetic photometry\n",
      "Singles\n",
      "M =   5.500 Msun  T = 11984 K  m_ubv_B = 33.60\n",
      "M =   1.920 Msun  T =  8499 K  m_ubv_B = 32.51\n",
      "Primaries\n",
      "M =   1.300 Msun  T =  8186 K  m_ubv_B = 22.29\n",
      "M =   1.500 Msun  T =  8186 K  m_ubv_B = 21.35\n",
      "M =   1.100 Msun  T =  7122 K  m_ubv_B = 23.47\n",
      "M =   1.900 Msun  T =  8464 K  m_ubv_B = 32.52\n",
      "M =   3.000 Msun  T =  7806 K  m_ubv_B = 33.51\n",
      "M =   5.000 Msun  T =  9346 K  m_ubv_B = 32.97\n",
      "M =   3.000 Msun  T =  9927 K  m_ubv_B = 32.62\n",
      "M =   2.700 Msun  T =  8415 K  m_ubv_B = 33.40\n",
      "M =   6.310 Msun  T =  3090 K  m_ubv_B = 35.41\n",
      "M =   1.600 Msun  T =  4351 K  m_ubv_B = 18.78\n",
      "M =   1.259 Msun  T =   nan K  m_ubv_B =  nan\n",
      "M =   1.900 Msun  T =  8095 K  m_ubv_B = 33.45\n",
      "M =   1.259 Msun  T =   nan K  m_ubv_B =  nan\n",
      "M =   5.000 Msun  T =  8932 K  m_ubv_B = 33.04\n",
      "M =   0.631 Msun  T =   nan K  m_ubv_B =  nan\n",
      "M =   2.500 Msun  T =  7648 K  m_ubv_B = 33.33\n",
      "M =   1.700 Msun  T = 15821 K  m_ubv_B = 30.36\n",
      "M =   2.300 Msun  T =  7267 K  m_ubv_B = 33.45\n",
      "M =   3.000 Msun  T =  7806 K  m_ubv_B = 33.51\n",
      "M =   0.398 Msun  T =   nan K  m_ubv_B =  nan\n",
      "M =   1.100 Msun  T =  7122 K  m_ubv_B = 23.47\n",
      "M =   0.794 Msun  T =   nan K  m_ubv_B =  nan\n",
      "M =   3.500 Msun  T =  6584 K  m_ubv_B = 33.92\n",
      "M =   1.400 Msun  T =  8361 K  m_ubv_B = 21.80\n",
      "M =   1.700 Msun  T = 15821 K  m_ubv_B = 30.36\n",
      "M =   1.400 Msun  T =  8353 K  m_ubv_B = 21.80\n",
      "M =   1.800 Msun  T =  8257 K  m_ubv_B = 33.42\n",
      "M =   1.700 Msun  T =  7881 K  m_ubv_B = 33.50\n",
      "M =   6.310 Msun  T =   nan K  m_ubv_B =  nan\n",
      "M =   0.501 Msun  T =   nan K  m_ubv_B =  nan\n",
      "M =   1.100 Msun  T =  7518 K  m_ubv_B = 33.16\n",
      "M =   1.100 Msun  T =  7122 K  m_ubv_B = 23.47\n",
      "M =   1.600 Msun  T =  7439 K  m_ubv_B = 33.61\n",
      "M =   7.000 Msun  T = 10341 K  m_ubv_B = 32.87\n",
      "M =   6.000 Msun  T = 10253 K  m_ubv_B = 32.88\n",
      "M =   1.800 Msun  T =  8257 K  m_ubv_B = 33.42\n",
      "M =   0.501 Msun  T =   nan K  m_ubv_B =  nan\n",
      "M =   1.800 Msun  T =  7580 K  m_ubv_B = 33.14\n",
      "M =   1.400 Msun  T =  7518 K  m_ubv_B = 33.16\n",
      "M =   1.400 Msun  T =   nan K  m_ubv_B =  nan\n",
      "M =   1.300 Msun  T =  8203 K  m_ubv_B = 22.30\n",
      "M =   0.794 Msun  T =   nan K  m_ubv_B =  nan\n",
      "M =   0.316 Msun  T =   nan K  m_ubv_B =  nan\n",
      "M =   2.700 Msun  T =  8415 K  m_ubv_B = 33.40\n",
      "M =   1.259 Msun  T =   nan K  m_ubv_B =  nan\n",
      "M =   1.900 Msun  T =  8464 K  m_ubv_B = 32.52\n",
      "M =  10.000 Msun  T =  3090 K  m_ubv_B = 35.41\n",
      "M =   2.100 Msun  T =  8064 K  m_ubv_B = 33.71\n",
      "M =   1.000 Msun  T =   nan K  m_ubv_B =  nan\n",
      "M =   1.600 Msun  T =  4329 K  m_ubv_B = 18.73\n",
      "Secondaries\n",
      "M =   0.780 Msun  T =  4501 K  m_ubv_B = 27.10\n",
      "M =   0.300 Msun  T =  3772 K  m_ubv_B = 30.99\n",
      "M =   0.330 Msun  T =  1904 K  m_ubv_B = 38.30\n",
      "M =   1.710 Msun  T =  9717 K  m_ubv_B = 21.25\n",
      "M =   2.100 Msun  T = 12328 K  m_ubv_B = 21.04\n",
      "M =   4.500 Msun  T = 14701 K  m_ubv_B = 17.43\n",
      "M =   0.300 Msun  T =   nan K  m_ubv_B =  nan\n",
      "M =   0.540 Msun  T =   nan K  m_ubv_B =  nan\n",
      "M =   3.000 Msun  T =  7711 K  m_ubv_B = 33.54\n",
      "M =   0.320 Msun  T =  3787 K  m_ubv_B = 30.86\n",
      "M =   1.500 Msun  T =  7959 K  m_ubv_B = 21.61\n",
      "M =   0.760 Msun  T =   nan K  m_ubv_B =  nan\n",
      "M =   5.500 Msun  T = 11981 K  m_ubv_B = 33.60\n",
      "M =   1.500 Msun  T =  8624 K  m_ubv_B = 21.69\n",
      "M =   1.300 Msun  T =  8181 K  m_ubv_B = 22.55\n",
      "M =   0.250 Msun  T =   nan K  m_ubv_B =  nan\n",
      "M =   1.360 Msun  T =  8930 K  m_ubv_B = 22.47\n",
      "M =   1.840 Msun  T = 11066 K  m_ubv_B = 21.31\n",
      "M =   1.200 Msun  T =  7409 K  m_ubv_B = 23.55\n",
      "M =   1.500 Msun  T =  7959 K  m_ubv_B = 21.61\n",
      "M =   0.880 Msun  T =  5078 K  m_ubv_B = 26.08\n",
      "M =   3.000 Msun  T =  7711 K  m_ubv_B = 33.54\n",
      "M =   3.150 Msun  T = 11726 K  m_ubv_B = 18.51\n",
      "M =   0.280 Msun  T =  3757 K  m_ubv_B = 31.14\n",
      "M =   1.360 Msun  T =  8930 K  m_ubv_B = 22.47\n",
      "M =   1.120 Msun  T =  7201 K  m_ubv_B = 23.66\n",
      "M =   0.900 Msun  T =   nan K  m_ubv_B =  nan\n"
     ]
    },
    {
     "name": "stdout",
     "output_type": "stream",
     "text": [
      "M =   1.360 Msun  T =   nan K  m_ubv_B =  nan\n",
      "M =   3.200 Msun  T =  7985 K  m_ubv_B = 33.48\n",
      "M =   1.400 Msun  T =  8322 K  m_ubv_B = 22.08\n",
      "M =   0.990 Msun  T =   nan K  m_ubv_B =  nan\n",
      "M =   0.550 Msun  T =  3174 K  m_ubv_B = 30.73\n",
      "M =   1.120 Msun  T =   nan K  m_ubv_B =  nan\n",
      "M =   2.800 Msun  T = 10483 K  m_ubv_B = 18.88\n",
      "M =   4.200 Msun  T = 15764 K  m_ubv_B = 17.81\n",
      "M =   0.900 Msun  T =   nan K  m_ubv_B =  nan\n",
      "M =   5.000 Msun  T =  8500 K  m_ubv_B = 33.13\n",
      "M =   0.360 Msun  T =   nan K  m_ubv_B =  nan\n",
      "M =   0.700 Msun  T =   nan K  m_ubv_B =  nan\n",
      "M =   5.500 Msun  T = 10235 K  m_ubv_B = 32.71\n",
      "M =   0.260 Msun  T =  3742 K  m_ubv_B = 31.29\n",
      "M =   1.200 Msun  T =  7750 K  m_ubv_B = 23.12\n",
      "M =   5.500 Msun  T = 10126 K  m_ubv_B = 32.83\n",
      "M =   0.540 Msun  T =   nan K  m_ubv_B =  nan\n",
      "M =   1.800 Msun  T =  9839 K  m_ubv_B = 31.88\n",
      "M =   1.520 Msun  T =  9679 K  m_ubv_B = 22.01\n",
      "M =   7.000 Msun  T = 10516 K  m_ubv_B = 32.74\n",
      "M =   1.890 Msun  T =   nan K  m_ubv_B =  nan\n",
      "M =   1.100 Msun  T =  7127 K  m_ubv_B = 23.62\n",
      "M =   1.440 Msun  T =  9264 K  m_ubv_B = 22.12\n",
      "Starting filter: ubv,R   Elapsed time: 93.38 seconds\n",
      "Starting synthetic photometry\n",
      "Singles\n",
      "M =   5.500 Msun  T = 11984 K  m_ubv_R = 31.17\n",
      "M =   1.920 Msun  T =  8499 K  m_ubv_R = 29.69\n",
      "Primaries\n",
      "M =   1.300 Msun  T =  8186 K  m_ubv_R = 19.72\n",
      "M =   1.500 Msun  T =  8186 K  m_ubv_R = 18.81\n",
      "M =   1.100 Msun  T =  7122 K  m_ubv_R = 20.60\n",
      "M =   1.900 Msun  T =  8464 K  m_ubv_R = 29.69\n",
      "M =   3.000 Msun  T =  7806 K  m_ubv_R = 30.57\n",
      "M =   5.000 Msun  T =  9346 K  m_ubv_R = 30.27\n",
      "M =   3.000 Msun  T =  9927 K  m_ubv_R = 30.00\n",
      "M =   2.700 Msun  T =  8415 K  m_ubv_R = 30.56\n",
      "M =   6.310 Msun  T =  3090 K  m_ubv_R = 30.02\n",
      "M =   1.600 Msun  T =  4351 K  m_ubv_R = 14.46\n",
      "M =   1.259 Msun  T =   nan K  m_ubv_R =  nan\n",
      "M =   1.900 Msun  T =  8095 K  m_ubv_R = 30.56\n",
      "M =   1.259 Msun  T =   nan K  m_ubv_R =  nan\n",
      "M =   5.000 Msun  T =  8932 K  m_ubv_R = 30.28\n",
      "M =   0.631 Msun  T =   nan K  m_ubv_R =  nan\n",
      "M =   2.500 Msun  T =  7648 K  m_ubv_R = 30.35\n",
      "M =   1.700 Msun  T = 15821 K  m_ubv_R = 28.14\n",
      "M =   2.300 Msun  T =  7267 K  m_ubv_R = 30.39\n",
      "M =   3.000 Msun  T =  7806 K  m_ubv_R = 30.57\n",
      "M =   0.398 Msun  T =   nan K  m_ubv_R =  nan\n",
      "M =   1.100 Msun  T =  7122 K  m_ubv_R = 20.60\n",
      "M =   0.794 Msun  T =   nan K  m_ubv_R =  nan\n",
      "M =   3.500 Msun  T =  6584 K  m_ubv_R = 30.68\n",
      "M =   1.400 Msun  T =  8361 K  m_ubv_R = 19.29\n",
      "M =   1.700 Msun  T = 15821 K  m_ubv_R = 28.14\n",
      "M =   1.400 Msun  T =  8353 K  m_ubv_R = 19.29\n",
      "M =   1.800 Msun  T =  8257 K  m_ubv_R = 30.56\n",
      "M =   1.700 Msun  T =  7881 K  m_ubv_R = 30.57\n",
      "M =   6.310 Msun  T =   nan K  m_ubv_R =  nan\n",
      "M =   0.501 Msun  T =   nan K  m_ubv_R =  nan\n",
      "M =   1.100 Msun  T =  7518 K  m_ubv_R = 30.16\n",
      "M =   1.100 Msun  T =  7122 K  m_ubv_R = 20.60\n",
      "M =   1.600 Msun  T =  7439 K  m_ubv_R = 30.59\n",
      "M =   7.000 Msun  T = 10341 K  m_ubv_R = 30.29\n",
      "M =   6.000 Msun  T = 10253 K  m_ubv_R = 30.29\n",
      "M =   1.800 Msun  T =  8257 K  m_ubv_R = 30.56\n",
      "M =   0.501 Msun  T =   nan K  m_ubv_R =  nan\n",
      "M =   1.800 Msun  T =  7580 K  m_ubv_R = 30.15\n",
      "M =   1.400 Msun  T =  7518 K  m_ubv_R = 30.16\n",
      "M =   1.400 Msun  T =   nan K  m_ubv_R =  nan\n",
      "M =   1.300 Msun  T =  8203 K  m_ubv_R = 19.73\n",
      "M =   0.794 Msun  T =   nan K  m_ubv_R =  nan\n",
      "M =   0.316 Msun  T =   nan K  m_ubv_R =  nan\n",
      "M =   2.700 Msun  T =  8415 K  m_ubv_R = 30.56\n",
      "M =   1.259 Msun  T =   nan K  m_ubv_R =  nan\n",
      "M =   1.900 Msun  T =  8464 K  m_ubv_R = 29.69\n",
      "M =  10.000 Msun  T =  3090 K  m_ubv_R = 30.02\n",
      "M =   2.100 Msun  T =  8064 K  m_ubv_R = 30.81\n",
      "M =   1.000 Msun  T =   nan K  m_ubv_R =  nan\n",
      "M =   1.600 Msun  T =  4329 K  m_ubv_R = 14.39\n",
      "Secondaries\n",
      "M =   0.780 Msun  T =  4501 K  m_ubv_R = 22.98\n",
      "M =   0.300 Msun  T =  3772 K  m_ubv_R = 26.33\n",
      "M =   0.330 Msun  T =  1904 K  m_ubv_R = 30.56\n",
      "M =   1.710 Msun  T =  9717 K  m_ubv_R = 18.60\n",
      "M =   2.100 Msun  T = 12328 K  m_ubv_R = 18.64\n",
      "M =   4.500 Msun  T = 14701 K  m_ubv_R = 15.16\n",
      "M =   0.300 Msun  T =   nan K  m_ubv_R =  nan\n",
      "M =   0.540 Msun  T =   nan K  m_ubv_R =  nan\n",
      "M =   3.000 Msun  T =  7711 K  m_ubv_R = 30.57\n",
      "M =   0.320 Msun  T =  3787 K  m_ubv_R = 26.21\n",
      "M =   1.500 Msun  T =  7959 K  m_ubv_R = 18.70\n",
      "M =   0.760 Msun  T =   nan K  m_ubv_R =  nan\n",
      "M =   5.500 Msun  T = 11981 K  m_ubv_R = 31.17\n",
      "M =   1.500 Msun  T =  8624 K  m_ubv_R = 18.88\n",
      "M =   1.300 Msun  T =  8181 K  m_ubv_R = 19.68\n",
      "M =   0.250 Msun  T =   nan K  m_ubv_R =  nan\n",
      "M =   1.360 Msun  T =  8930 K  m_ubv_R = 19.72\n",
      "M =   1.840 Msun  T = 11066 K  m_ubv_R = 18.80\n",
      "M =   1.200 Msun  T =  7409 K  m_ubv_R = 20.52\n",
      "M =   1.500 Msun  T =  7959 K  m_ubv_R = 18.70\n",
      "M =   0.880 Msun  T =  5078 K  m_ubv_R = 22.28\n",
      "M =   3.000 Msun  T =  7711 K  m_ubv_R = 30.57\n",
      "M =   3.150 Msun  T = 11726 K  m_ubv_R = 16.06\n",
      "M =   0.280 Msun  T =  3757 K  m_ubv_R = 26.46\n",
      "M =   1.360 Msun  T =  8930 K  m_ubv_R = 19.72\n",
      "M =   1.120 Msun  T =  7201 K  m_ubv_R = 20.59\n",
      "M =   0.900 Msun  T =   nan K  m_ubv_R =  nan\n",
      "M =   1.360 Msun  T =   nan K  m_ubv_R =  nan\n",
      "M =   3.200 Msun  T =  7985 K  m_ubv_R = 30.56\n",
      "M =   1.400 Msun  T =  8322 K  m_ubv_R = 19.23\n",
      "M =   0.990 Msun  T =   nan K  m_ubv_R =  nan\n",
      "M =   0.550 Msun  T =  3174 K  m_ubv_R = 25.45\n",
      "M =   1.120 Msun  T =   nan K  m_ubv_R =  nan\n",
      "M =   2.800 Msun  T = 10483 K  m_ubv_R = 16.32\n",
      "M =   4.200 Msun  T = 15764 K  m_ubv_R = 15.59\n",
      "M =   0.900 Msun  T =   nan K  m_ubv_R =  nan\n",
      "M =   5.000 Msun  T =  8500 K  m_ubv_R = 30.31\n",
      "M =   0.360 Msun  T =   nan K  m_ubv_R =  nan\n",
      "M =   0.700 Msun  T =   nan K  m_ubv_R =  nan\n",
      "M =   5.500 Msun  T = 10235 K  m_ubv_R = 30.12\n",
      "M =   0.260 Msun  T =  3742 K  m_ubv_R = 26.60\n",
      "M =   1.200 Msun  T =  7750 K  m_ubv_R = 20.16\n",
      "M =   5.500 Msun  T = 10126 K  m_ubv_R = 30.23\n",
      "M =   0.540 Msun  T =   nan K  m_ubv_R =  nan\n",
      "M =   1.800 Msun  T =  9839 K  m_ubv_R = 29.24\n",
      "M =   1.520 Msun  T =  9679 K  m_ubv_R = 19.35\n",
      "M =   7.000 Msun  T = 10516 K  m_ubv_R = 30.17\n",
      "M =   1.890 Msun  T =   nan K  m_ubv_R =  nan\n",
      "M =   1.100 Msun  T =  7127 K  m_ubv_R = 20.52\n",
      "M =   1.440 Msun  T =  9264 K  m_ubv_R = 19.41\n",
      "Starting filter: ubv,I   Elapsed time: 124.10 seconds\n",
      "Starting synthetic photometry\n",
      "Singles\n",
      "M =   5.500 Msun  T = 11984 K  m_ubv_I = 28.58\n",
      "M =   1.920 Msun  T =  8499 K  m_ubv_I = 26.95\n",
      "Primaries\n",
      "M =   1.300 Msun  T =  8186 K  m_ubv_I = 17.00\n",
      "M =   1.500 Msun  T =  8186 K  m_ubv_I = 16.09\n",
      "M =   1.100 Msun  T =  7122 K  m_ubv_I = 17.78\n",
      "M =   1.900 Msun  T =  8464 K  m_ubv_I = 26.95\n",
      "M =   3.000 Msun  T =  7806 K  m_ubv_I = 27.79\n",
      "M =   5.000 Msun  T =  9346 K  m_ubv_I = 27.59\n",
      "M =   3.000 Msun  T =  9927 K  m_ubv_I = 27.34\n",
      "M =   2.700 Msun  T =  8415 K  m_ubv_I = 27.82\n",
      "M =   6.310 Msun  T =  3090 K  m_ubv_I = 26.24\n",
      "M =   1.600 Msun  T =  4351 K  m_ubv_I = 11.17\n",
      "M =   1.259 Msun  T =   nan K  m_ubv_I =  nan\n",
      "M =   1.900 Msun  T =  8095 K  m_ubv_I = 27.80\n",
      "M =   1.259 Msun  T =   nan K  m_ubv_I =  nan\n",
      "M =   5.000 Msun  T =  8932 K  m_ubv_I = 27.57\n",
      "M =   0.631 Msun  T =   nan K  m_ubv_I =  nan\n",
      "M =   2.500 Msun  T =  7648 K  m_ubv_I = 27.56\n",
      "M =   1.700 Msun  T = 15821 K  m_ubv_I = 25.64\n",
      "M =   2.300 Msun  T =  7267 K  m_ubv_I = 27.56\n",
      "M =   3.000 Msun  T =  7806 K  m_ubv_I = 27.79\n",
      "M =   0.398 Msun  T =   nan K  m_ubv_I =  nan\n",
      "M =   1.100 Msun  T =  7122 K  m_ubv_I = 17.78\n",
      "M =   0.794 Msun  T =   nan K  m_ubv_I =  nan\n",
      "M =   3.500 Msun  T =  6584 K  m_ubv_I = 27.79\n",
      "M =   1.400 Msun  T =  8361 K  m_ubv_I = 16.59\n",
      "M =   1.700 Msun  T = 15821 K  m_ubv_I = 25.64\n",
      "M =   1.400 Msun  T =  8353 K  m_ubv_I = 16.58\n",
      "M =   1.800 Msun  T =  8257 K  m_ubv_I = 27.81\n",
      "M =   1.700 Msun  T =  7881 K  m_ubv_I = 27.79\n",
      "M =   6.310 Msun  T =   nan K  m_ubv_I =  nan\n",
      "M =   0.501 Msun  T =   nan K  m_ubv_I =  nan\n",
      "M =   1.100 Msun  T =  7518 K  m_ubv_I = 27.35\n",
      "M =   1.100 Msun  T =  7122 K  m_ubv_I = 17.78\n",
      "M =   1.600 Msun  T =  7439 K  m_ubv_I = 27.77\n",
      "M =   7.000 Msun  T = 10341 K  m_ubv_I = 27.65\n",
      "M =   6.000 Msun  T = 10253 K  m_ubv_I = 27.65\n",
      "M =   1.800 Msun  T =  8257 K  m_ubv_I = 27.81\n",
      "M =   0.501 Msun  T =   nan K  m_ubv_I =  nan\n",
      "M =   1.800 Msun  T =  7580 K  m_ubv_I = 27.35\n",
      "M =   1.400 Msun  T =  7518 K  m_ubv_I = 27.35\n",
      "M =   1.400 Msun  T =   nan K  m_ubv_I =  nan\n",
      "M =   1.300 Msun  T =  8203 K  m_ubv_I = 17.02\n",
      "M =   0.794 Msun  T =   nan K  m_ubv_I =  nan\n",
      "M =   0.316 Msun  T =   nan K  m_ubv_I =  nan\n",
      "M =   2.700 Msun  T =  8415 K  m_ubv_I = 27.82\n"
     ]
    },
    {
     "name": "stdout",
     "output_type": "stream",
     "text": [
      "M =   1.259 Msun  T =   nan K  m_ubv_I =  nan\n",
      "M =   1.900 Msun  T =  8464 K  m_ubv_I = 26.95\n",
      "M =  10.000 Msun  T =  3090 K  m_ubv_I = 26.24\n",
      "M =   2.100 Msun  T =  8064 K  m_ubv_I = 28.04\n",
      "M =   1.000 Msun  T =   nan K  m_ubv_I =  nan\n",
      "M =   1.600 Msun  T =  4329 K  m_ubv_I = 11.09\n",
      "Secondaries\n",
      "M =   0.780 Msun  T =  4501 K  m_ubv_I = 19.73\n",
      "M =   0.300 Msun  T =  3772 K  m_ubv_I = 22.86\n",
      "M =   0.330 Msun  T =  1904 K  m_ubv_I = 25.73\n",
      "M =   1.710 Msun  T =  9717 K  m_ubv_I = 15.94\n",
      "M =   2.100 Msun  T = 12328 K  m_ubv_I = 16.06\n",
      "M =   4.500 Msun  T = 14701 K  m_ubv_I = 12.64\n",
      "M =   0.300 Msun  T =   nan K  m_ubv_I =  nan\n",
      "M =   0.540 Msun  T =   nan K  m_ubv_I =  nan\n",
      "M =   3.000 Msun  T =  7711 K  m_ubv_I = 27.78\n",
      "M =   0.320 Msun  T =  3787 K  m_ubv_I = 22.74\n",
      "M =   1.500 Msun  T =  7959 K  m_ubv_I = 15.93\n",
      "M =   0.760 Msun  T =   nan K  m_ubv_I =  nan\n",
      "M =   5.500 Msun  T = 11981 K  m_ubv_I = 28.58\n",
      "M =   1.500 Msun  T =  8624 K  m_ubv_I = 16.16\n",
      "M =   1.300 Msun  T =  8181 K  m_ubv_I = 16.92\n",
      "M =   0.250 Msun  T =   nan K  m_ubv_I =  nan\n",
      "M =   1.360 Msun  T =  8930 K  m_ubv_I = 17.01\n",
      "M =   1.840 Msun  T = 11066 K  m_ubv_I = 16.18\n",
      "M =   1.200 Msun  T =  7409 K  m_ubv_I = 17.70\n",
      "M =   1.500 Msun  T =  7959 K  m_ubv_I = 15.93\n",
      "M =   0.880 Msun  T =  5078 K  m_ubv_I = 19.16\n",
      "M =   3.000 Msun  T =  7711 K  m_ubv_I = 27.78\n",
      "M =   3.150 Msun  T = 11726 K  m_ubv_I = 13.47\n",
      "M =   0.280 Msun  T =  3757 K  m_ubv_I = 22.98\n",
      "M =   1.360 Msun  T =  8930 K  m_ubv_I = 17.01\n",
      "M =   1.120 Msun  T =  7201 K  m_ubv_I = 17.75\n",
      "M =   0.900 Msun  T =   nan K  m_ubv_I =  nan\n",
      "M =   1.360 Msun  T =   nan K  m_ubv_I =  nan\n",
      "M =   3.200 Msun  T =  7985 K  m_ubv_I = 27.79\n",
      "M =   1.400 Msun  T =  8322 K  m_ubv_I = 16.48\n",
      "M =   0.990 Msun  T =   nan K  m_ubv_I =  nan\n",
      "M =   0.550 Msun  T =  3174 K  m_ubv_I = 21.71\n",
      "M =   1.120 Msun  T =   nan K  m_ubv_I =  nan\n",
      "M =   2.800 Msun  T = 10483 K  m_ubv_I = 13.68\n",
      "M =   4.200 Msun  T = 15764 K  m_ubv_I = 13.09\n",
      "M =   0.900 Msun  T =   nan K  m_ubv_I =  nan\n",
      "M =   5.000 Msun  T =  8500 K  m_ubv_I = 27.58\n",
      "M =   0.360 Msun  T =   nan K  m_ubv_I =  nan\n",
      "M =   0.700 Msun  T =   nan K  m_ubv_I =  nan\n",
      "M =   5.500 Msun  T = 10235 K  m_ubv_I = 27.47\n",
      "M =   0.260 Msun  T =  3742 K  m_ubv_I = 23.11\n",
      "M =   1.200 Msun  T =  7750 K  m_ubv_I = 17.37\n",
      "M =   5.500 Msun  T = 10126 K  m_ubv_I = 27.58\n",
      "M =   0.540 Msun  T =   nan K  m_ubv_I =  nan\n",
      "M =   1.800 Msun  T =  9839 K  m_ubv_I = 26.58\n",
      "M =   1.520 Msun  T =  9679 K  m_ubv_I = 16.68\n",
      "M =   7.000 Msun  T = 10516 K  m_ubv_I = 27.54\n",
      "M =   1.890 Msun  T =   nan K  m_ubv_I =  nan\n",
      "M =   1.100 Msun  T =  7127 K  m_ubv_I = 17.68\n",
      "M =   1.440 Msun  T =  9264 K  m_ubv_I = 16.72\n",
      "      Time taken: 154.57 seconds\n",
      "Isochrone generation took 249.168256 s.\n"
     ]
    }
   ],
   "source": [
    "import spisea\n",
    "from spisea import evolution, synthetic\n",
    "import math\n",
    "# Check if the evolution class works fine\n",
    "import time\n",
    "t1=time.time()\n",
    "bps=evolution.BPASS()\n",
    "iso1=synthetic.Isochrone_Binary(9.2, 0.5, 2000,math.log10(0.1), mass_sampling=1)"
   ]
  },
  {
   "cell_type": "markdown",
   "metadata": {},
   "source": [
    "For a sanity check, we can see that the primaries, secondaries, and single stars have phasees of 5 or of 101 or of 110. Note that we will have a phase of 110 in order to indicate a mystery compact remnant that BPASS provides for NEWSECMODS (secondary star models with compact primaries). This is since we haven't added neutron stars or black holes yet. Stars with phase of -99 exist, and those are the secondary stars that have already merged. Secondary stars that have merged with their primaries have designation of phase -99."
   ]
  },
  {
   "cell_type": "code",
   "execution_count": 2,
   "metadata": {},
   "outputs": [
    {
     "data": {
      "text/plain": [
       "True"
      ]
     },
     "execution_count": 2,
     "metadata": {},
     "output_type": "execute_result"
    }
   ],
   "source": [
    "import numpy as np\n",
    "np.all([(x==5 or x==101 or x==110) for x in iso1.primaries['phase']])"
   ]
  },
  {
   "cell_type": "code",
   "execution_count": 3,
   "metadata": {},
   "outputs": [
    {
     "data": {
      "text/plain": [
       "True"
      ]
     },
     "execution_count": 3,
     "metadata": {},
     "output_type": "execute_result"
    }
   ],
   "source": [
    "np.all([(x==5 or x==101 or x==110) for x in iso1.singles['phase']])"
   ]
  },
  {
   "cell_type": "code",
   "execution_count": 4,
   "metadata": {},
   "outputs": [
    {
     "data": {
      "text/plain": [
       "True"
      ]
     },
     "execution_count": 4,
     "metadata": {},
     "output_type": "execute_result"
    }
   ],
   "source": [
    "np.all([(x==5 or x==101 or x==-99 or x==110) for x in iso1.secondaries['phase']])"
   ]
  },
  {
   "cell_type": "markdown",
   "metadata": {},
   "source": [
    "Find the maximum, mean, and median  values of logg (cgs) for primaries and secondaries accounting for NaNs in the columns. (For max we make NaNs the same as - infinity and for median and mean, we do not include them)"
   ]
  },
  {
   "cell_type": "code",
   "execution_count": 5,
   "metadata": {},
   "outputs": [
    {
     "data": {
      "text/plain": [
       "9.294221355125417"
      ]
     },
     "execution_count": 5,
     "metadata": {},
     "output_type": "execute_result"
    }
   ],
   "source": [
    "np.max(iso1.singles['logg'])"
   ]
  },
  {
   "cell_type": "code",
   "execution_count": 6,
   "metadata": {},
   "outputs": [
    {
     "data": {
      "text/plain": [
       "9.294221355125417"
      ]
     },
     "execution_count": 6,
     "metadata": {},
     "output_type": "execute_result"
    }
   ],
   "source": [
    "np.max(np.nan_to_num(iso1.primaries['logg'], -np.inf))"
   ]
  },
  {
   "cell_type": "code",
   "execution_count": 7,
   "metadata": {},
   "outputs": [
    {
     "data": {
      "text/plain": [
       "9.294186013434684"
      ]
     },
     "execution_count": 7,
     "metadata": {},
     "output_type": "execute_result"
    }
   ],
   "source": [
    "np.max(np.nan_to_num(iso1.secondaries['logg'], -np.inf))"
   ]
  },
  {
   "cell_type": "markdown",
   "metadata": {},
   "source": [
    "Now let's find the mean and median logg values for the single stars, secondary stars, and the primary stars"
   ]
  },
  {
   "cell_type": "code",
   "execution_count": 8,
   "metadata": {},
   "outputs": [
    {
     "data": {
      "text/plain": [
       "6.478614555246956"
      ]
     },
     "execution_count": 8,
     "metadata": {},
     "output_type": "execute_result"
    }
   ],
   "source": [
    "np.mean(iso1.singles['logg'][np.where(~np.isnan(iso1.singles['logg']))])"
   ]
  },
  {
   "cell_type": "code",
   "execution_count": 9,
   "metadata": {},
   "outputs": [
    {
     "data": {
      "text/plain": [
       "6.885278016871581"
      ]
     },
     "execution_count": 9,
     "metadata": {},
     "output_type": "execute_result"
    }
   ],
   "source": [
    "np.mean(iso1.primaries['logg'][np.where(~np.isnan(iso1.primaries['logg']))])"
   ]
  },
  {
   "cell_type": "code",
   "execution_count": 10,
   "metadata": {},
   "outputs": [
    {
     "data": {
      "text/plain": [
       "5.360931066484793"
      ]
     },
     "execution_count": 10,
     "metadata": {},
     "output_type": "execute_result"
    }
   ],
   "source": [
    "np.mean(iso1.secondaries['logg'][np.where(~np.isnan(iso1.secondaries['logg']))])"
   ]
  },
  {
   "cell_type": "code",
   "execution_count": 11,
   "metadata": {},
   "outputs": [
    {
     "data": {
      "text/plain": [
       "7.939597169306249"
      ]
     },
     "execution_count": 11,
     "metadata": {},
     "output_type": "execute_result"
    }
   ],
   "source": [
    "np.median(iso1.singles['logg'][np.where(~np.isnan(iso1.singles['logg']))])"
   ]
  },
  {
   "cell_type": "code",
   "execution_count": 12,
   "metadata": {},
   "outputs": [
    {
     "data": {
      "text/plain": [
       "8.095412521384915"
      ]
     },
     "execution_count": 12,
     "metadata": {},
     "output_type": "execute_result"
    }
   ],
   "source": [
    "np.median(iso1.primaries['logg'][np.where(~np.isnan(iso1.primaries['logg']))])"
   ]
  },
  {
   "cell_type": "code",
   "execution_count": 13,
   "metadata": {},
   "outputs": [
    {
     "data": {
      "text/plain": [
       "4.499390136742458"
      ]
     },
     "execution_count": 13,
     "metadata": {},
     "output_type": "execute_result"
    }
   ],
   "source": [
    "np.median([x for x in iso1.secondaries['logg'] if np.isfinite(x)])"
   ]
  },
  {
   "cell_type": "markdown",
   "metadata": {},
   "source": [
    "Let's make a histogram of log_g values for each table of the isochrone"
   ]
  },
  {
   "cell_type": "code",
   "execution_count": 14,
   "metadata": {},
   "outputs": [
    {
     "data": {
      "text/plain": [
       "Text(0.5, 0, 'logg in cgs')"
      ]
     },
     "execution_count": 14,
     "metadata": {},
     "output_type": "execute_result"
    },
    {
     "data": {
      "image/png": "[encoded data removed]",
      "text/plain": [
       "<Figure size 432x288 with 1 Axes>"
      ]
     },
     "metadata": {
      "needs_background": "light"
     },
     "output_type": "display_data"
    }
   ],
   "source": [
    "import matplotlib.pyplot as plt\n",
    "plt.title(\"Histogram of logg values (secondaries) of isochrone\")\n",
    "plt.hist(np.array([x for x in iso1.secondaries['logg'] if np.isfinite(x)]), np.arange(0, 30, 1))\n",
    "plt.xlabel(\"logg in cgs\")"
   ]
  },
  {
   "cell_type": "code",
   "execution_count": 15,
   "metadata": {},
   "outputs": [
    {
     "data": {
      "text/plain": [
       "Text(0.5, 0, 'logg in cgs')"
      ]
     },
     "execution_count": 15,
     "metadata": {},
     "output_type": "execute_result"
    },
    {
     "data": {
      "image/png": "[encoded data removed]",
      "text/plain": [
       "<Figure size 432x288 with 1 Axes>"
      ]
     },
     "metadata": {
      "needs_background": "light"
     },
     "output_type": "display_data"
    }
   ],
   "source": [
    "import matplotlib.pyplot as plt\n",
    "plt.title(\"Histogram of logg values (primaries) of isochrone\")\n",
    "plt.hist(np.array([x for x in iso1.primaries['logg'] if np.isfinite(x)]), np.arange(0, 30, 1))\n",
    "plt.xlabel(\"logg in cgs\")"
   ]
  },
  {
   "cell_type": "code",
   "execution_count": 16,
   "metadata": {},
   "outputs": [
    {
     "data": {
      "text/plain": [
       "Text(0.5, 0, 'logg in cgs')"
      ]
     },
     "execution_count": 16,
     "metadata": {},
     "output_type": "execute_result"
    },
    {
     "data": {
      "image/png": "[encoded data removed]",
      "text/plain": [
       "<Figure size 432x288 with 1 Axes>"
      ]
     },
     "metadata": {
      "needs_background": "light"
     },
     "output_type": "display_data"
    }
   ],
   "source": [
    "import matplotlib.pyplot as plt\n",
    "plt.title(\"Histogram of logg values single stars of isochrone\")\n",
    "plt.hist(np.array([x for x in iso1.singles['logg'] if np.isfinite(x)]), np.arange(0, 30, 1))\n",
    "plt.xlabel(\"logg in cgs\")"
   ]
  },
  {
   "cell_type": "markdown",
   "metadata": {},
   "source": [
    "For comparison, let's create a MIST v.1. isochrone  phot using otherwise same parameters."
   ]
  },
  {
   "cell_type": "code",
   "execution_count": 17,
   "metadata": {},
   "outputs": [
    {
     "name": "stdout",
     "output_type": "stream",
     "text": [
      "Isochrone generation took 77.866109 s.\n",
      "Making photometry for isochrone: log(t) = 9.20  AKs = 0.50  dist = 2000\n",
      "     Starting at:  2021-03-14 14:53:42.763116   Usually takes ~5 minutes\n",
      "Starting filter: ubv,U   Elapsed time: 0.00 seconds\n",
      "Starting synthetic photometry\n",
      "M =   0.105 Msun  T =  3386 K  m_ubv_U = 35.69\n",
      "M =   0.743 Msun  T =  5692 K  m_ubv_U = 25.88\n",
      "M =   1.429 Msun  T =  9088 K  m_ubv_U = 21.54\n",
      "M =   1.488 Msun  T =  5358 K  m_ubv_U = 21.81\n",
      "M =   1.523 Msun  T =  4066 K  m_ubv_U = 19.78\n",
      "M =   1.556 Msun  T =  4981 K  m_ubv_U = 20.19\n",
      "M =   1.559 Msun  T =  4269 K  m_ubv_U = 19.61\n",
      "M =   1.559 Msun  T =  3883 K  m_ubv_U = 19.88\n",
      "M =   1.559 Msun  T =  3952 K  m_ubv_U = 19.81\n",
      "M =   1.559 Msun  T =  3806 K  m_ubv_U = 19.99\n",
      "M =   1.559 Msun  T =  3654 K  m_ubv_U = 20.24\n",
      "M =   1.559 Msun  T =  6746 K  m_ubv_U = 14.94\n",
      "M =   1.559 Msun  T = 75219 K  m_ubv_U = 18.68\n",
      "M =   1.559 Msun  T = 76344 K  m_ubv_U = 25.65\n",
      "Starting filter: ubv,B   Elapsed time: 3.32 seconds\n",
      "Starting synthetic photometry\n",
      "M =   0.105 Msun  T =  3386 K  m_ubv_B = 34.52\n",
      "M =   0.743 Msun  T =  5692 K  m_ubv_B = 26.01\n",
      "M =   1.429 Msun  T =  9088 K  m_ubv_B = 21.50\n",
      "M =   1.488 Msun  T =  5358 K  m_ubv_B = 21.82\n",
      "M =   1.523 Msun  T =  4066 K  m_ubv_B = 18.63\n",
      "M =   1.556 Msun  T =  4981 K  m_ubv_B = 20.03\n",
      "M =   1.559 Msun  T =  4269 K  m_ubv_B = 18.74\n",
      "M =   1.559 Msun  T =  3883 K  m_ubv_B = 18.48\n",
      "M =   1.559 Msun  T =  3952 K  m_ubv_B = 18.49\n",
      "M =   1.559 Msun  T =  3806 K  m_ubv_B = 18.52\n",
      "M =   1.559 Msun  T =  3654 K  m_ubv_B = 18.67\n",
      "M =   1.559 Msun  T =  6746 K  m_ubv_B = 15.33\n",
      "M =   1.559 Msun  T = 75219 K  m_ubv_B = 19.85\n",
      "M =   1.559 Msun  T = 76344 K  m_ubv_B = 26.82\n",
      "Starting filter: ubv,V   Elapsed time: 6.59 seconds\n",
      "Starting synthetic photometry\n",
      "M =   0.105 Msun  T =  3386 K  m_ubv_V = 31.96\n",
      "M =   0.743 Msun  T =  5692 K  m_ubv_V = 24.77\n",
      "M =   1.429 Msun  T =  9088 K  m_ubv_V = 20.94\n",
      "M =   1.488 Msun  T =  5358 K  m_ubv_V = 20.49\n",
      "M =   1.523 Msun  T =  4066 K  m_ubv_V = 16.50\n",
      "M =   1.556 Msun  T =  4981 K  m_ubv_V = 18.54\n",
      "M =   1.559 Msun  T =  4269 K  m_ubv_V = 16.78\n",
      "M =   1.559 Msun  T =  3883 K  m_ubv_V = 16.17\n",
      "M =   1.559 Msun  T =  3952 K  m_ubv_V = 16.25\n",
      "M =   1.559 Msun  T =  3806 K  m_ubv_V = 16.12\n",
      "M =   1.559 Msun  T =  3654 K  m_ubv_V = 16.11\n",
      "M =   1.559 Msun  T =  6746 K  m_ubv_V = 14.25\n",
      "M =   1.559 Msun  T = 75219 K  m_ubv_V = 19.71\n",
      "M =   1.559 Msun  T = 76344 K  m_ubv_V = 26.68\n",
      "Starting filter: ubv,R   Elapsed time: 9.85 seconds\n",
      "Starting synthetic photometry\n",
      "M =   0.105 Msun  T =  3386 K  m_ubv_R = 29.12\n",
      "M =   0.743 Msun  T =  5692 K  m_ubv_R = 22.60\n",
      "M =   1.429 Msun  T =  9088 K  m_ubv_R = 19.12\n",
      "M =   1.488 Msun  T =  5358 K  m_ubv_R = 18.28\n",
      "M =   1.523 Msun  T =  4066 K  m_ubv_R = 13.98\n",
      "M =   1.556 Msun  T =  4981 K  m_ubv_R = 16.26\n",
      "M =   1.559 Msun  T =  4269 K  m_ubv_R = 14.33\n",
      "M =   1.559 Msun  T =  3883 K  m_ubv_R = 13.56\n",
      "M =   1.559 Msun  T =  3952 K  m_ubv_R = 13.68\n",
      "M =   1.559 Msun  T =  3806 K  m_ubv_R = 13.48\n",
      "M =   1.559 Msun  T =  3654 K  m_ubv_R = 13.38\n",
      "M =   1.559 Msun  T =  6746 K  m_ubv_R = 12.14\n",
      "M =   1.559 Msun  T = 75219 K  m_ubv_R = 18.07\n",
      "M =   1.559 Msun  T = 76344 K  m_ubv_R = 25.04\n",
      "Starting filter: ubv,I   Elapsed time: 13.00 seconds\n",
      "Starting synthetic photometry\n",
      "M =   0.105 Msun  T =  3386 K  m_ubv_I = 25.38\n",
      "M =   0.743 Msun  T =  5692 K  m_ubv_I = 19.60\n",
      "M =   1.429 Msun  T =  9088 K  m_ubv_I = 16.46\n",
      "M =   1.488 Msun  T =  5358 K  m_ubv_I = 15.22\n",
      "M =   1.523 Msun  T =  4066 K  m_ubv_I = 10.59\n",
      "M =   1.556 Msun  T =  4981 K  m_ubv_I = 13.13\n",
      "M =   1.559 Msun  T =  4269 K  m_ubv_I = 11.02\n",
      "M =   1.559 Msun  T =  3883 K  m_ubv_I = 10.09\n",
      "M =   1.559 Msun  T =  3952 K  m_ubv_I = 10.24\n",
      "M =   1.559 Msun  T =  3806 K  m_ubv_I = 9.96\n",
      "M =   1.559 Msun  T =  3654 K  m_ubv_I = 9.76\n",
      "M =   1.559 Msun  T =  6746 K  m_ubv_I = 9.26\n",
      "M =   1.559 Msun  T = 75219 K  m_ubv_I = 15.75\n",
      "M =   1.559 Msun  T = 76344 K  m_ubv_I = 22.72\n",
      "      Time taken: 16.16 seconds\n"
     ]
    }
   ],
   "source": [
    "iso2=synthetic.IsochronePhot(9.2, 0.5, 2000, math.log10(0.1), recomp=True) # New MIST v.1 isochrone for same metallicity"
   ]
  },
  {
   "cell_type": "markdown",
   "metadata": {},
   "source": [
    "Note: dist/10 pc = 200 for both of our isochrones and clusters"
   ]
  },
  {
   "cell_type": "markdown",
   "metadata": {},
   "source": [
    "Find the maximum logg of the isochrone and the distribution of logg values"
   ]
  },
  {
   "cell_type": "code",
   "execution_count": 18,
   "metadata": {},
   "outputs": [
    {
     "data": {
      "text/plain": [
       "7.938784080569296"
      ]
     },
     "execution_count": 18,
     "metadata": {},
     "output_type": "execute_result"
    }
   ],
   "source": [
    "np.max(iso2.points['logg'])"
   ]
  },
  {
   "cell_type": "code",
   "execution_count": 19,
   "metadata": {
    "scrolled": true
   },
   "outputs": [
    {
     "data": {
      "text/plain": [
       "(array([519., 146., 185.,  81., 227.,  67.,  21., 128.,   0.,   0.,   0.,\n",
       "          0.,   0.,   0.,   0.,   0.,   0.,   0.,   0.,   0.,   0.,   0.,\n",
       "          0.,   0.,   0.,   0.,   0.,   0.,   0.]),\n",
       " array([ 0,  1,  2,  3,  4,  5,  6,  7,  8,  9, 10, 11, 12, 13, 14, 15, 16,\n",
       "        17, 18, 19, 20, 21, 22, 23, 24, 25, 26, 27, 28, 29]),\n",
       " <a list of 29 Patch objects>)"
      ]
     },
     "execution_count": 19,
     "metadata": {},
     "output_type": "execute_result"
    },
    {
     "data": {
      "image/png": "[encoded data removed]",
      "text/plain": [
       "<Figure size 432x288 with 1 Axes>"
      ]
     },
     "metadata": {
      "needs_background": "light"
     },
     "output_type": "display_data"
    }
   ],
   "source": [
    "import matplotlib.pyplot as plt\n",
    "plt.xlabel(\"logg in cgs\")\n",
    "plt.title(\"Histogram of logg values of stars in the MIST v1 isochrone\")\n",
    "plt.hist(np.array([x for x in iso2.points['logg'] if np.isfinite(x)]), np.arange(0, 30, 1))"
   ]
  },
  {
   "cell_type": "markdown",
   "metadata": {},
   "source": [
    "Finding the log_g median and mean for the new isochrone"
   ]
  },
  {
   "cell_type": "code",
   "execution_count": 20,
   "metadata": {},
   "outputs": [
    {
     "data": {
      "text/plain": [
       "2.0655075179623505"
      ]
     },
     "execution_count": 20,
     "metadata": {},
     "output_type": "execute_result"
    }
   ],
   "source": [
    "np.median(iso2.points['logg'])"
   ]
  },
  {
   "cell_type": "code",
   "execution_count": 21,
   "metadata": {},
   "outputs": [
    {
     "data": {
      "text/plain": [
       "2.62397473907989"
      ]
     },
     "execution_count": 21,
     "metadata": {},
     "output_type": "execute_result"
    }
   ],
   "source": [
    "np.mean(iso2.points['logg'])"
   ]
  },
  {
   "cell_type": "markdown",
   "metadata": {},
   "source": [
    "Now we want to make clusters for both of these models. We want to compare stellar mass distributions of these clusters."
   ]
  },
  {
   "cell_type": "code",
   "execution_count": 22,
   "metadata": {},
   "outputs": [],
   "source": [
    "from spisea import imf\n",
    "from spisea.imf import imf, multiplicity\n",
    "from spisea import ifmr\n"
   ]
  },
  {
   "cell_type": "code",
   "execution_count": 24,
   "metadata": {
    "scrolled": true
   },
   "outputs": [
    {
     "name": "stderr",
     "output_type": "stream",
     "text": [
      "/opt/anaconda3/envs/astroconda/lib/python3.7/site-packages/astropy/table/column.py:1020: RuntimeWarning: invalid value encountered in greater_equal\n",
      "  result = getattr(super(), op)(other)\n"
     ]
    },
    {
     "name": "stdout",
     "output_type": "stream",
     "text": [
      "26705 star systems had to be deleted\n",
      "29774 companions had to be deleted\n",
      "Found 5345 stars out of mass range\n",
      "Found 6041 companions out of stellar mass range\n"
     ]
    }
   ],
   "source": [
    "clus_1=synthetic.Cluster_w_Binaries(iso1, imf.Kennicutt_1983(multiplicity=multiplicity.MultiplicityResolvedDK()), 200000, ifmr=ifmr.IFMR_Spera15())\n",
    "clus_2=synthetic.ResolvedCluster(iso2, imf.Kennicutt_1983(multiplicity=multiplicity.MultiplicityResolvedDK()), 200000, ifmr=ifmr.IFMR_Spera15())"
   ]
  },
  {
   "cell_type": "markdown",
   "metadata": {},
   "source": [
    "Now, I plot the mass distribution of all non-compact remnant stars in both the MIST v.1 and the "
   ]
  },
  {
   "cell_type": "code",
   "execution_count": 25,
   "metadata": {},
   "outputs": [],
   "source": [
    "star_systems = clus_1.star_systems\n",
    "companions = clus_1.companions\n",
    "prims = [star_systems['mass_current'][x] for x in range(len(star_systems)) if star_systems['phase'][x] == 5]\n",
    "companions = [companions['mass_current'][x] for x in range(len(companions)) if companions['phase'][x] == 5]"
   ]
  },
  {
   "cell_type": "code",
   "execution_count": 26,
   "metadata": {},
   "outputs": [
    {
     "data": {
      "text/plain": [
       "<matplotlib.legend.Legend at 0x7fc2dc1914a8>"
      ]
     },
     "execution_count": 26,
     "metadata": {},
     "output_type": "execute_result"
    },
    {
     "data": {
      "image/png": "[encoded data removed]",
      "text/plain": [
       "<Figure size 432x288 with 1 Axes>"
      ]
     },
     "metadata": {
      "needs_background": "light"
     },
     "output_type": "display_data"
    }
   ],
   "source": [
    "plt.hist(np.array(prims+companions), 40, (0, 10), density=True, histtype='step', label=\"BPASS\")\n",
    "star_systems2 = clus_2.star_systems\n",
    "companions2 = clus_2.companions\n",
    "prims = [star_systems2['mass_current'][x] for x in range(len(star_systems2)) if star_systems2['phase'][x] < 101]\n",
    "companions = [companions2['mass_current'][x] for x in range(len(companions2)) if companions2['phase'][x] < 101]\n",
    "plt.hist(np.array(prims+companions), 40, (0, 10), density=True, histtype='step', label=\"MISTv1\")\n",
    "plt.xlabel(\"Current mass of the star in solar masses\")\n",
    "plt.title(\"Distribution of star masses in BPASS and MISTv1 clusters (PDF) (binsize = 0.25 solar mass)\")\n",
    "plt.xscale('log')\n",
    "plt.yscale('log')\n",
    "plt.legend()"
   ]
  },
  {
   "cell_type": "code",
   "execution_count": null,
   "metadata": {},
   "outputs": [],
   "source": []
  },
  {
   "cell_type": "code",
   "execution_count": 27,
   "metadata": {},
   "outputs": [
    {
     "data": {
      "text/plain": [
       "<matplotlib.legend.Legend at 0x7fc2cba13390>"
      ]
     },
     "execution_count": 27,
     "metadata": {},
     "output_type": "execute_result"
    },
    {
     "data": {
      "image/png": "[encoded data removed]",
      "text/plain": [
       "<Figure size 432x288 with 1 Axes>"
      ]
     },
     "metadata": {
      "needs_background": "light"
     },
     "output_type": "display_data"
    }
   ],
   "source": [
    "import matplotlib.pyplot as plt\n",
    "plt.title(\"Distribution of logg values of all stars in the BPASS isochrone (PDF) (binsize = 0.25 cgs)\")\n",
    "plt.hist(np.array([x for x in iso1.secondaries['logg'] if np.isfinite(x)] +\n",
    "                  [x for x in iso1.primaries['logg'] if np.isfinite(x)] +\n",
    "                  [x for x in iso1.singles['logg'] if np.isfinite(x)]), np.arange(-10, 20, 1), density=True,histtype = 'step', label=\"BPASS isochrone\")\n",
    "plt.hist(np.array([x for x in iso2.points['logg'] if np.isfinite(x)]), np.arange(-10, 20, 1), density=True,histtype = 'step', label=\"MISTv1 Isochrone\")\n",
    "plt.xlabel(\"logg in cgs\")\n",
    "plt.legend()\n",
    "         "
   ]
  }
 ],
 "metadata": {
  "kernelspec": {
   "display_name": "astroconda",
   "language": "python",
   "name": "astroconda"
  },
  "language_info": {
   "codemirror_mode": {
    "name": "ipython",
    "version": 3
   },
   "file_extension": ".py",
   "mimetype": "text/x-python",
   "name": "python",
   "nbconvert_exporter": "python",
   "pygments_lexer": "ipython3",
   "version": "3.7.3"
  }
 },
 "nbformat": 4,
 "nbformat_minor": 2
}
