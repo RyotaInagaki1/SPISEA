{
 "cells": [
  {
   "cell_type": "markdown",
   "metadata": {},
   "source": [
    "## Testing the BPASS isochrone at 10^9.2 years age. Using Duchene & Krauss (2013) multiplicity)\n",
    "In this BPASS isochrone and cluster plot, I go over the BPASS isochrone for 9.2 billion years age, 0.1 times solar metallicity, AKs=0.0, and distance of 2000 parsecs from Earth. From the isochrone and cluster, we discuss several plots such as the log_g frequency distribution of the isochrone, the color magnitude diagram (B-V vs M_V), and the mass luminosity relationship of the cluster. \n",
    "Other notes:\n",
    "\n",
    "I have chosen dist to cluster = 2000 pc to further distinguish this notebook from the other 10^9.2 year old isochrone Notebook."
   ]
  },
  {
   "cell_type": "code",
   "execution_count": 1,
   "metadata": {},
   "outputs": [
    {
     "name": "stderr",
     "output_type": "stream",
     "text": [
      "/opt/anaconda3/envs/astroconda/lib/python3.7/site-packages/pysynphot/locations.py:345: UserWarning: Extinction files not found in /g/lu/models/cdbs/extinction\n",
      "  warnings.warn('Extinction files not found in %s' % (extdir, ))\n",
      "/opt/anaconda3/envs/astroconda/lib/python3.7/site-packages/pysynphot/refs.py:125: UserWarning: No thermal tables found, no thermal calculations can be performed. No files found for /g/lu/models/cdbs/mtab/*_tmt.fits\n",
      "  'no thermal calculations can be performed. ' + str(e))\n",
      "/opt/anaconda3/envs/astroconda/lib/python3.7/site-packages/astropy/units/quantity.py:479: RuntimeWarning: invalid value encountered in true_divide\n",
      "  result = super().__array_ufunc__(function, method, *arrays, **kwargs)\n",
      "/u/ryotainagaki/Desktop/PyPopStar/spisea/evolution.py:1792: RuntimeWarning: overflow encountered in power\n",
      "  (1 / cs.au) * un.m)\n",
      "/opt/anaconda3/envs/astroconda/lib/python3.7/site-packages/astropy/units/quantity.py:479: RuntimeWarning: divide by zero encountered in true_divide\n",
      "  result = super().__array_ufunc__(function, method, *arrays, **kwargs)\n",
      "/opt/anaconda3/envs/astroconda/lib/python3.7/site-packages/astropy/units/quantity.py:479: RuntimeWarning: invalid value encountered in true_divide\n",
      "  result = super().__array_ufunc__(function, method, *arrays, **kwargs)\n"
     ]
    },
    {
     "name": "stdout",
     "output_type": "stream",
     "text": [
      "Changing to logg=5.00 for T= 20715 logg=7.07\n",
      "Changing to logg=5.00 for T= 24351 logg=5.62\n",
      "Changing to logg=5.00 for T= 32004 logg=6.49\n",
      "Changing to logg=5.00 for T= 39903 logg=7.00\n",
      "Changing to logg=5.00 for T= 24344 logg=7.21\n",
      "Changing to logg=5.00 for T= 21592 logg=5.57\n",
      "Changing to logg=5.00 for T= 23312 logg=7.37\n",
      "Changing to logg=5.00 for T= 18255 logg=5.15\n",
      "Changing to logg=5.00 for T= 24030 logg=7.31\n",
      "Changing to logg=5.00 for T= 31527 logg=6.41\n",
      "Changing to logg=5.00 for T= 17441 logg=5.06\n",
      "Changing to T= 50000 for T= 67073 logg=5.76\n",
      "Changing to logg=5.00 for T= 67073 logg=5.76\n",
      "Changing to logg=5.00 for T= 33534 logg=6.57\n",
      "Changing to logg=5.00 for T= 39646 logg=6.99\n",
      "Changing to logg=5.00 for T= 45852 logg=7.73\n",
      "Changing to logg=5.00 for T= 23534 logg=7.23\n",
      "Changing to logg=5.00 for T= 30895 logg=6.47\n",
      "Changing to logg=5.00 for T= 29347 logg=7.82\n",
      "Changing to logg=5.00 for T= 24339 logg=5.63\n",
      "Changing to logg=5.00 for T= 22601 logg=7.33\n",
      "Changing to logg=5.00 for T= 22989 logg=5.52\n",
      "Changing to logg=5.00 for T= 23791 logg=5.80\n",
      "Changing to logg=5.00 for T= 23944 logg=7.35\n",
      "Changing to logg=5.00 for T= 25609 logg=5.75\n",
      "Changing to T= 50000 for T=114496 logg=6.70\n",
      "Changing to logg=5.00 for T=114496 logg=6.70\n",
      "Changing to logg=5.00 for T= 31711 logg=6.59\n",
      "Changing to logg=5.00 for T= 37476 logg=6.98\n",
      "Changing to logg=5.00 for T= 27434 logg=5.90\n",
      "Changing to logg=2.00 for T=  9391 logg=1.87\n",
      "Changing to logg=5.00 for T= 29151 logg=5.95\n",
      "Changing to logg=5.00 for T= 32667 logg=6.05\n",
      "Changing to logg=5.00 for T= 35935 logg=6.68\n",
      "Changing to logg=5.00 for T= 24550 logg=7.29\n",
      "Changing to logg=5.00 for T= 35551 logg=6.91\n",
      "Changing to logg=5.00 for T= 34912 logg=6.10\n",
      "Changing to logg=5.00 for T= 40447 logg=7.77\n",
      "Changing to logg=5.00 for T= 30551 logg=6.30\n",
      "Changing to logg=5.00 for T= 23742 logg=7.18\n",
      "Changing to logg=5.00 for T= 24442 logg=7.18\n",
      "Changing to logg=5.00 for T= 33051 logg=6.90\n",
      "Changing to logg=5.00 for T= 21594 logg=5.57\n",
      "Changing to logg=5.00 for T= 23945 logg=5.82\n",
      "Changing to logg=5.00 for T= 26201 logg=5.82\n",
      "Changing to logg=5.00 for T= 27463 logg=5.91\n",
      "Changing to logg=5.00 for T= 35681 logg=6.08\n",
      "Changing to logg=5.00 for T= 24138 logg=7.28\n",
      "Changing to logg=5.00 for T= 24030 logg=7.35\n",
      "Changing to logg=5.00 for T= 25848 logg=5.76\n",
      "Changing to logg=5.00 for T= 33652 logg=6.22\n",
      "Changing to logg=5.00 for T= 24882 logg=5.96\n",
      "Changing to logg=5.00 for T= 27221 logg=6.02\n",
      "Changing to logg=5.00 for T= 24678 logg=7.23\n",
      "Changing to logg=5.00 for T= 18958 logg=5.15\n",
      "Changing to logg=5.00 for T= 20285 logg=5.44\n",
      "Changing to logg=5.00 for T= 33745 logg=6.64\n",
      "Changing to logg=5.00 for T= 17862 logg=5.03\n",
      "Changing to logg=5.00 for T= 24415 logg=7.27\n",
      "Changing to logg=5.00 for T= 34515 logg=6.76\n",
      "Changing to T=  2300 for T=  1904 logg=4.44\n",
      "Changing to T=  2300 for T=  1904 logg=4.44\n",
      "Changing to T= 50000 for T= 73748 logg=5.80\n",
      "Changing to logg=5.00 for T= 73748 logg=5.80\n",
      "Changing to T= 50000 for T= 89129 logg=7.12\n",
      "Changing to logg=5.00 for T= 89129 logg=7.12\n",
      "Changing to T=  2300 for T=  1904 logg=4.44\n",
      "Changing to logg=2.00 for T= 10637 logg=1.83\n",
      "Changing to logg=5.00 for T= 23744 logg=6.75\n",
      "Changing to logg=5.00 for T= 35305 logg=7.05\n",
      "Changing to logg=5.00 for T= 25841 logg=5.89\n",
      "Changing to logg=5.00 for T= 22478 logg=6.94\n",
      "Changing to T=  2300 for T=  1904 logg=4.44\n",
      "Changing to logg=5.00 for T= 23856 logg=7.16\n",
      "Changing to logg=5.00 for T= 23334 logg=7.02\n",
      "Changing to logg=5.00 for T= 24240 logg=7.08\n",
      "Changing to T=  2300 for T=  1904 logg=4.44\n",
      "Changing to logg=5.00 for T= 23957 logg=6.93\n",
      "Changing to logg=5.00 for T= 24652 logg=5.81\n",
      "Changing to T=  2300 for T=  1904 logg=4.44\n",
      "Changing to logg=2.50 for T= 11928 logg=1.96\n",
      "Changing to logg=5.00 for T= 27101 logg=5.95\n",
      "Changing to T=  2300 for T=  1904 logg=4.44\n",
      "Changing to logg=5.00 for T= 24630 logg=6.01\n",
      "Changing to logg=5.00 for T= 43656 logg=7.76\n",
      "Changing to T=  2300 for T=  1904 logg=4.44\n",
      "Changing to logg=5.00 for T= 24462 logg=5.95\n",
      "Changing to logg=2.00 for T= 11707 logg=1.80\n",
      "Changing to logg=5.00 for T= 22296 logg=7.06\n",
      "Changing to logg=5.00 for T= 41944 logg=7.78\n",
      "Changing to logg=5.00 for T= 26403 logg=5.88\n",
      "Changing to T=  2300 for T=  1904 logg=4.44\n",
      "Changing to T=  2300 for T=  1904 logg=4.44\n",
      "Changing to logg=5.00 for T= 22956 logg=6.98\n",
      "Changing to logg=2.00 for T=  9032 logg=1.82\n",
      "Changing to logg=5.00 for T= 26437 logg=5.95\n",
      "Changing to logg=5.00 for T= 26374 logg=5.88\n",
      "Changing to T=  2300 for T=  1904 logg=4.44\n",
      "Changing to logg=5.00 for T= 26658 logg=5.86\n",
      "Changing to logg=5.00 for T= 24848 logg=7.13\n",
      "Changing to logg=5.00 for T= 27859 logg=6.06\n",
      "Changing to logg=5.00 for T= 19124 logg=5.25\n",
      "Changing to T=  2300 for T=  1904 logg=4.44\n",
      "Changing to logg=5.00 for T= 24180 logg=5.59\n",
      "Changing to logg=5.00 for T= 34641 logg=7.04\n",
      "Changing to logg=5.00 for T= 21701 logg=7.25\n",
      "Changing to T=  2300 for T=  1904 logg=4.44\n",
      "Changing to T=  2300 for T=  1904 logg=4.44\n",
      "Changing to logg=5.00 for T= 26553 logg=5.90\n",
      "Changing to T=  2300 for T=  1904 logg=4.44\n",
      "Changing to logg=2.50 for T= 14682 logg=2.04\n",
      "Changing to logg=5.00 for T= 25507 logg=5.95\n",
      "Changing to logg=5.00 for T= 25489 logg=5.85\n",
      "Changing to logg=5.00 for T= 29026 logg=6.07\n",
      "Changing to logg=5.00 for T= 23857 logg=6.80\n",
      "Changing to logg=5.00 for T= 24647 logg=6.02\n",
      "Changing to logg=5.00 for T= 43707 logg=7.73\n",
      "Changing to T=  2300 for T=  1731 logg=4.44\n",
      "Changing to logg=5.00 for T= 22451 logg=6.92\n",
      "Changing to logg=5.00 for T= 22602 logg=6.94\n",
      "Changing to T=  2300 for T=  1904 logg=4.44\n",
      "Changing to logg=5.00 for T= 35859 logg=7.05\n",
      "Changing to T=  2300 for T=  1731 logg=4.44\n",
      "Changing to logg=5.00 for T= 25003 logg=5.75\n",
      "Changing to logg=5.00 for T= 25536 logg=6.06\n",
      "Changing to logg=5.00 for T= 42044 logg=7.78\n",
      "Changing to T=  2300 for T=  1731 logg=4.44\n",
      "Changing to logg=5.00 for T= 26630 logg=5.89\n",
      "Changing to T=  2300 for T=  1904 logg=4.44\n",
      "Changing to T=  2300 for T=  1904 logg=4.44\n",
      "Changing to logg=5.00 for T= 26735 logg=5.87\n",
      "Changing to logg=5.00 for T= 22121 logg=5.48\n",
      "Making photometry for isochrone: log(t) = 9.20  AKs = 0.00  dist = 2000\n",
      "     Starting at:  2021-06-02 18:03:57.335304   Usually takes ~5 minutes\n",
      "Starting filter: ubv,U   Elapsed time: 0.01 seconds\n",
      "Starting synthetic photometry\n",
      "M =   5.500 Msun  T = 11984 K  m_ubv_U = 24.76\n",
      "M =   1.920 Msun  T =  8499 K  m_ubv_U = 23.88\n",
      "M =   1.300 Msun  T =  8186 K  m_ubv_U = 14.28\n",
      "M =   1.500 Msun  T =  8186 K  m_ubv_U = 13.38\n",
      "M =   1.100 Msun  T =  7122 K  m_ubv_U = 15.30\n",
      "M =   1.900 Msun  T =  8464 K  m_ubv_U = 23.89\n",
      "M =   3.000 Msun  T =  7806 K  m_ubv_U = 24.96\n",
      "M =   5.000 Msun  T =  9346 K  m_ubv_U = 24.27\n",
      "M =   3.000 Msun  T =  9927 K  m_ubv_U = 23.89\n",
      "M =   2.700 Msun  T =  8415 K  m_ubv_U = 24.78\n",
      "M =   6.310 Msun  T =   nan K  m_ubv_U =  nan\n",
      "M =   1.600 Msun  T =  4351 K  m_ubv_U = 11.59\n",
      "M =   1.259 Msun  T =   nan K  m_ubv_U =  nan\n",
      "M =   1.900 Msun  T =  8095 K  m_ubv_U = 24.87\n",
      "M =   1.259 Msun  T =   nan K  m_ubv_U =  nan\n",
      "M =   5.000 Msun  T =  8932 K  m_ubv_U = 24.37\n",
      "M =   0.631 Msun  T =   nan K  m_ubv_U =  nan\n",
      "M =   2.500 Msun  T =  7648 K  m_ubv_U = 24.79\n",
      "M =   1.700 Msun  T = 15821 K  m_ubv_U = 21.40\n",
      "M =   2.300 Msun  T =  7267 K  m_ubv_U = 24.95\n",
      "M =   3.000 Msun  T =  7806 K  m_ubv_U = 24.96\n",
      "M =   0.398 Msun  T =   nan K  m_ubv_U =  nan\n",
      "M =   1.100 Msun  T =  7122 K  m_ubv_U = 15.30\n",
      "M =   0.794 Msun  T =  3090 K  m_ubv_U = 29.39\n",
      "M =   3.500 Msun  T =  6584 K  m_ubv_U = 25.52\n",
      "M =   1.400 Msun  T =  8361 K  m_ubv_U = 13.82\n",
      "M =   1.700 Msun  T = 15821 K  m_ubv_U = 21.40\n",
      "M =   1.400 Msun  T =  8353 K  m_ubv_U = 13.82\n",
      "M =   1.800 Msun  T =  8257 K  m_ubv_U = 24.82\n",
      "M =   1.700 Msun  T =  7881 K  m_ubv_U = 24.93\n",
      "M =   6.310 Msun  T =   nan K  m_ubv_U =  nan\n",
      "M =   0.501 Msun  T =   nan K  m_ubv_U =  nan\n",
      "M =   1.100 Msun  T =  7518 K  m_ubv_U = 24.64\n",
      "M =   1.100 Msun  T =  7122 K  m_ubv_U = 15.30\n",
      "M =   1.600 Msun  T =  7439 K  m_ubv_U = 25.09\n",
      "M =   7.000 Msun  T = 10341 K  m_ubv_U = 24.11\n",
      "M =   6.000 Msun  T = 10253 K  m_ubv_U = 24.13\n",
      "M =   1.800 Msun  T =  8257 K  m_ubv_U = 24.82\n",
      "M =   0.501 Msun  T =  3090 K  m_ubv_U = 29.34\n",
      "M =   1.800 Msun  T =  7580 K  m_ubv_U = 24.61\n",
      "M =   1.400 Msun  T =  7518 K  m_ubv_U = 24.64\n",
      "M =   1.400 Msun  T =   nan K  m_ubv_U =  nan\n",
      "M =   1.300 Msun  T =  8203 K  m_ubv_U = 14.29\n",
      "M =   0.794 Msun  T =   nan K  m_ubv_U =  nan\n",
      "M =   0.316 Msun  T =   nan K  m_ubv_U =  nan\n",
      "M =   2.700 Msun  T =  8415 K  m_ubv_U = 24.78\n",
      "M =   1.259 Msun  T =   nan K  m_ubv_U =  nan\n",
      "M =   1.900 Msun  T =  8464 K  m_ubv_U = 23.89\n",
      "M =  10.000 Msun  T =   nan K  m_ubv_U =  nan\n",
      "M =   2.100 Msun  T =  8064 K  m_ubv_U = 25.12\n",
      "M =   1.000 Msun  T =   nan K  m_ubv_U =  nan\n",
      "M =   1.600 Msun  T =  4329 K  m_ubv_U = 11.58\n",
      "M =   0.780 Msun  T =  4501 K  m_ubv_U = 19.73\n",
      "M =   0.300 Msun  T =  3772 K  m_ubv_U = 24.28\n",
      "M =   0.330 Msun  T =  1904 K  m_ubv_U = 31.21\n",
      "M =   1.710 Msun  T =  9717 K  m_ubv_U = 12.94\n",
      "M =   2.100 Msun  T = 12328 K  m_ubv_U = 12.70\n",
      "M =   4.500 Msun  T = 14701 K  m_ubv_U = 9.01\n",
      "M =   0.300 Msun  T =   nan K  m_ubv_U =  nan\n",
      "M =   0.540 Msun  T =   nan K  m_ubv_U =  nan\n",
      "M =   3.000 Msun  T =  7711 K  m_ubv_U = 24.99\n",
      "M =   0.320 Msun  T =  3787 K  m_ubv_U = 24.13\n",
      "M =   1.500 Msun  T =  7959 K  m_ubv_U = 13.33\n",
      "M =   0.760 Msun  T =   nan K  m_ubv_U =  nan\n",
      "M =   5.500 Msun  T = 11981 K  m_ubv_U = 24.76\n",
      "M =   1.500 Msun  T =  8624 K  m_ubv_U = 13.40\n",
      "M =   1.300 Msun  T =  8181 K  m_ubv_U = 14.27\n",
      "M =   0.250 Msun  T =   nan K  m_ubv_U =  nan\n",
      "M =   1.360 Msun  T =  8930 K  m_ubv_U = 14.19\n",
      "M =   1.840 Msun  T = 11066 K  m_ubv_U = 12.97\n",
      "M =   1.200 Msun  T =  7409 K  m_ubv_U = 15.23\n",
      "M =   1.500 Msun  T =  7959 K  m_ubv_U = 13.33\n",
      "M =   0.880 Msun  T =  5078 K  m_ubv_U = 18.17\n",
      "M =   3.000 Msun  T =  7711 K  m_ubv_U = 24.99\n",
      "M =   3.150 Msun  T = 11726 K  m_ubv_U = 10.13\n",
      "M =   0.280 Msun  T =  3757 K  m_ubv_U = 24.44\n",
      "M =   1.360 Msun  T =  8930 K  m_ubv_U = 14.19\n",
      "M =   1.120 Msun  T =  7201 K  m_ubv_U = 15.33\n",
      "M =   0.900 Msun  T =   nan K  m_ubv_U =  nan\n",
      "M =   1.360 Msun  T =   nan K  m_ubv_U =  nan\n",
      "M =   3.200 Msun  T =  7985 K  m_ubv_U = 24.90\n",
      "M =   1.400 Msun  T =  8322 K  m_ubv_U = 13.80\n",
      "M =   0.990 Msun  T =   nan K  m_ubv_U =  nan\n",
      "M =   0.550 Msun  T =  3174 K  m_ubv_U = 24.61\n",
      "M =   1.120 Msun  T =   nan K  m_ubv_U =  nan\n",
      "M =   2.800 Msun  T = 10483 K  m_ubv_U = 10.52\n",
      "M =   4.200 Msun  T = 15764 K  m_ubv_U = 9.38\n",
      "M =   0.900 Msun  T =   nan K  m_ubv_U =  nan\n",
      "M =   5.000 Msun  T =  8500 K  m_ubv_U = 24.51\n",
      "M =   0.360 Msun  T =   nan K  m_ubv_U =  nan\n",
      "M =   0.700 Msun  T =   nan K  m_ubv_U =  nan\n",
      "M =   5.500 Msun  T = 10235 K  m_ubv_U = 23.95\n",
      "M =   0.260 Msun  T =  3742 K  m_ubv_U = 24.61\n",
      "M =   1.200 Msun  T =  7750 K  m_ubv_U = 14.82\n",
      "M =   5.500 Msun  T = 10126 K  m_ubv_U = 24.08\n",
      "M =   0.540 Msun  T =   nan K  m_ubv_U =  nan\n",
      "M =   1.800 Msun  T =  9839 K  m_ubv_U = 23.15\n",
      "M =   1.520 Msun  T =  9679 K  m_ubv_U = 13.72\n",
      "M =   7.000 Msun  T = 10516 K  m_ubv_U = 23.97\n",
      "M =   1.890 Msun  T =   nan K  m_ubv_U =  nan\n",
      "M =   1.100 Msun  T =  7127 K  m_ubv_U = 15.29\n",
      "M =   1.440 Msun  T =  9264 K  m_ubv_U = 13.83\n",
      "Starting filter: ubv,V   Elapsed time: 48.77 seconds\n",
      "Starting synthetic photometry\n",
      "M =   5.500 Msun  T = 11984 K  m_ubv_V = 25.51\n",
      "M =   1.920 Msun  T =  8499 K  m_ubv_V = 24.20\n",
      "M =   1.300 Msun  T =  8186 K  m_ubv_V = 14.10\n",
      "M =   1.500 Msun  T =  8186 K  m_ubv_V = 13.18\n",
      "M =   1.100 Msun  T =  7122 K  m_ubv_V = 15.13\n",
      "M =   1.900 Msun  T =  8464 K  m_ubv_V = 24.20\n",
      "M =   3.000 Msun  T =  7806 K  m_ubv_V = 25.13\n",
      "M =   5.000 Msun  T =  9346 K  m_ubv_V = 24.73\n",
      "M =   3.000 Msun  T =  9927 K  m_ubv_V = 24.42\n",
      "M =   2.700 Msun  T =  8415 K  m_ubv_V = 25.08\n",
      "M =   6.310 Msun  T =   nan K  m_ubv_V =  nan\n",
      "M =   1.600 Msun  T =  4351 K  m_ubv_V = 9.54\n",
      "M =   1.259 Msun  T =   nan K  m_ubv_V =  nan\n",
      "M =   1.900 Msun  T =  8095 K  m_ubv_V = 25.10\n",
      "M =   1.259 Msun  T =   nan K  m_ubv_V =  nan\n",
      "M =   5.000 Msun  T =  8932 K  m_ubv_V = 24.76\n",
      "M =   0.631 Msun  T =   nan K  m_ubv_V =  nan\n",
      "M =   2.500 Msun  T =  7648 K  m_ubv_V = 24.93\n",
      "M =   1.700 Msun  T = 15821 K  m_ubv_V = 22.40\n",
      "M =   2.300 Msun  T =  7267 K  m_ubv_V = 25.00\n",
      "M =   3.000 Msun  T =  7806 K  m_ubv_V = 25.13\n",
      "M =   0.398 Msun  T =   nan K  m_ubv_V =  nan\n",
      "M =   1.100 Msun  T =  7122 K  m_ubv_V = 15.13\n",
      "M =   0.794 Msun  T =  3090 K  m_ubv_V = 26.02\n",
      "M =   3.500 Msun  T =  6584 K  m_ubv_V = 25.37\n",
      "M =   1.400 Msun  T =  8361 K  m_ubv_V = 13.64\n",
      "M =   1.700 Msun  T = 15821 K  m_ubv_V = 22.40\n",
      "M =   1.400 Msun  T =  8353 K  m_ubv_V = 13.64\n",
      "M =   1.800 Msun  T =  8257 K  m_ubv_V = 25.09\n",
      "M =   1.700 Msun  T =  7881 K  m_ubv_V = 25.12\n",
      "M =   6.310 Msun  T =   nan K  m_ubv_V =  nan\n",
      "M =   0.501 Msun  T =   nan K  m_ubv_V =  nan\n",
      "M =   1.100 Msun  T =  7518 K  m_ubv_V = 24.75\n",
      "M =   1.100 Msun  T =  7122 K  m_ubv_V = 15.13\n",
      "M =   1.600 Msun  T =  7439 K  m_ubv_V = 25.18\n",
      "M =   7.000 Msun  T = 10341 K  m_ubv_V = 24.70\n",
      "M =   6.000 Msun  T = 10253 K  m_ubv_V = 24.71\n",
      "M =   1.800 Msun  T =  8257 K  m_ubv_V = 25.09\n",
      "M =   0.501 Msun  T =  3090 K  m_ubv_V = 26.01\n",
      "M =   1.800 Msun  T =  7580 K  m_ubv_V = 24.74\n",
      "M =   1.400 Msun  T =  7518 K  m_ubv_V = 24.75\n",
      "M =   1.400 Msun  T =   nan K  m_ubv_V =  nan\n",
      "M =   1.300 Msun  T =  8203 K  m_ubv_V = 14.11\n",
      "M =   0.794 Msun  T =   nan K  m_ubv_V =  nan\n",
      "M =   0.316 Msun  T =   nan K  m_ubv_V =  nan\n",
      "M =   2.700 Msun  T =  8415 K  m_ubv_V = 25.08\n",
      "M =   1.259 Msun  T =   nan K  m_ubv_V =  nan\n",
      "M =   1.900 Msun  T =  8464 K  m_ubv_V = 24.20\n",
      "M =  10.000 Msun  T =   nan K  m_ubv_V =  nan\n",
      "M =   2.100 Msun  T =  8064 K  m_ubv_V = 25.35\n",
      "M =   1.000 Msun  T =   nan K  m_ubv_V =  nan\n",
      "M =   1.600 Msun  T =  4329 K  m_ubv_V = 9.48\n",
      "M =   0.780 Msun  T =  4501 K  m_ubv_V = 18.14\n",
      "M =   0.300 Msun  T =  3772 K  m_ubv_V = 21.82\n",
      "M =   0.330 Msun  T =  1904 K  m_ubv_V = 26.21\n",
      "M =   1.710 Msun  T =  9717 K  m_ubv_V = 12.95\n",
      "M =   2.100 Msun  T = 12328 K  m_ubv_V = 13.08\n",
      "M =   4.500 Msun  T = 14701 K  m_ubv_V = 9.66\n",
      "M =   0.300 Msun  T =   nan K  m_ubv_V =  nan\n",
      "M =   0.540 Msun  T =   nan K  m_ubv_V =  nan\n",
      "M =   3.000 Msun  T =  7711 K  m_ubv_V = 25.14\n",
      "M =   0.320 Msun  T =  3787 K  m_ubv_V = 21.69\n",
      "M =   1.500 Msun  T =  7959 K  m_ubv_V = 13.12\n",
      "M =   0.760 Msun  T =   nan K  m_ubv_V =  nan\n",
      "M =   5.500 Msun  T = 11981 K  m_ubv_V = 25.51\n",
      "M =   1.500 Msun  T =  8624 K  m_ubv_V = 13.24\n",
      "M =   1.300 Msun  T =  8181 K  m_ubv_V = 14.08\n",
      "M =   0.250 Msun  T =   nan K  m_ubv_V =  nan\n",
      "M =   1.360 Msun  T =  8930 K  m_ubv_V = 14.07\n",
      "M =   1.840 Msun  T = 11066 K  m_ubv_V = 13.19\n",
      "M =   1.200 Msun  T =  7409 K  m_ubv_V = 15.06\n",
      "M =   1.500 Msun  T =  7959 K  m_ubv_V = 13.12\n",
      "M =   0.880 Msun  T =  5078 K  m_ubv_V = 17.21\n",
      "M =   3.000 Msun  T =  7711 K  m_ubv_V = 25.14\n",
      "M =   3.150 Msun  T = 11726 K  m_ubv_V = 10.48\n",
      "M =   0.280 Msun  T =  3757 K  m_ubv_V = 21.96\n",
      "M =   1.360 Msun  T =  8930 K  m_ubv_V = 14.07\n",
      "M =   1.120 Msun  T =  7201 K  m_ubv_V = 15.17\n",
      "M =   0.900 Msun  T =   nan K  m_ubv_V =  nan\n",
      "M =   1.360 Msun  T =   nan K  m_ubv_V =  nan\n",
      "M =   3.200 Msun  T =  7985 K  m_ubv_V = 25.11\n",
      "M =   1.400 Msun  T =  8322 K  m_ubv_V = 13.62\n",
      "M =   0.990 Msun  T =   nan K  m_ubv_V =  nan\n",
      "M =   0.550 Msun  T =  3174 K  m_ubv_V = 21.34\n",
      "M =   1.120 Msun  T =   nan K  m_ubv_V =  nan\n",
      "M =   2.800 Msun  T = 10483 K  m_ubv_V = 10.70\n",
      "M =   4.200 Msun  T = 15764 K  m_ubv_V = 10.10\n",
      "M =   0.900 Msun  T =   nan K  m_ubv_V =  nan\n",
      "M =   5.000 Msun  T =  8500 K  m_ubv_V = 24.82\n",
      "M =   0.360 Msun  T =   nan K  m_ubv_V =  nan\n",
      "M =   0.700 Msun  T =   nan K  m_ubv_V =  nan\n",
      "M =   5.500 Msun  T = 10235 K  m_ubv_V = 24.53\n",
      "M =   0.260 Msun  T =  3742 K  m_ubv_V = 22.11\n",
      "M =   1.200 Msun  T =  7750 K  m_ubv_V = 14.64\n",
      "M =   5.500 Msun  T = 10126 K  m_ubv_V = 24.64\n",
      "M =   0.540 Msun  T =   nan K  m_ubv_V =  nan\n",
      "M =   1.800 Msun  T =  9839 K  m_ubv_V = 23.67\n",
      "M =   1.520 Msun  T =  9679 K  m_ubv_V = 13.70\n",
      "M =   7.000 Msun  T = 10516 K  m_ubv_V = 24.58\n",
      "M =   1.890 Msun  T =   nan K  m_ubv_V =  nan\n",
      "M =   1.100 Msun  T =  7127 K  m_ubv_V = 15.11\n",
      "M =   1.440 Msun  T =  9264 K  m_ubv_V = 13.76\n",
      "Starting filter: ubv,B   Elapsed time: 87.03 seconds\n",
      "Starting synthetic photometry\n",
      "M =   5.500 Msun  T = 11984 K  m_ubv_B = 25.57\n",
      "M =   1.920 Msun  T =  8499 K  m_ubv_B = 24.48\n",
      "M =   1.300 Msun  T =  8186 K  m_ubv_B = 14.26\n",
      "M =   1.500 Msun  T =  8186 K  m_ubv_B = 13.32\n",
      "M =   1.100 Msun  T =  7122 K  m_ubv_B = 15.44\n",
      "M =   1.900 Msun  T =  8464 K  m_ubv_B = 24.48\n",
      "M =   3.000 Msun  T =  7806 K  m_ubv_B = 25.48\n",
      "M =   5.000 Msun  T =  9346 K  m_ubv_B = 24.94\n",
      "M =   3.000 Msun  T =  9927 K  m_ubv_B = 24.59\n",
      "M =   2.700 Msun  T =  8415 K  m_ubv_B = 25.37\n",
      "M =   6.310 Msun  T =   nan K  m_ubv_B =  nan\n",
      "M =   1.600 Msun  T =  4351 K  m_ubv_B = 10.75\n",
      "M =   1.259 Msun  T =   nan K  m_ubv_B =  nan\n",
      "M =   1.900 Msun  T =  8095 K  m_ubv_B = 25.42\n",
      "M =   1.259 Msun  T =   nan K  m_ubv_B =  nan\n",
      "M =   5.000 Msun  T =  8932 K  m_ubv_B = 25.01\n",
      "M =   0.631 Msun  T =   nan K  m_ubv_B =  nan\n",
      "M =   2.500 Msun  T =  7648 K  m_ubv_B = 25.30\n",
      "M =   1.700 Msun  T = 15821 K  m_ubv_B = 22.32\n",
      "M =   2.300 Msun  T =  7267 K  m_ubv_B = 25.42\n",
      "M =   3.000 Msun  T =  7806 K  m_ubv_B = 25.48\n",
      "M =   0.398 Msun  T =   nan K  m_ubv_B =  nan\n",
      "M =   1.100 Msun  T =  7122 K  m_ubv_B = 15.44\n",
      "M =   0.794 Msun  T =  3090 K  m_ubv_B = 27.86\n",
      "M =   3.500 Msun  T =  6584 K  m_ubv_B = 25.89\n",
      "M =   1.400 Msun  T =  8361 K  m_ubv_B = 13.77\n",
      "M =   1.700 Msun  T = 15821 K  m_ubv_B = 22.32\n",
      "M =   1.400 Msun  T =  8353 K  m_ubv_B = 13.77\n",
      "M =   1.800 Msun  T =  8257 K  m_ubv_B = 25.39\n",
      "M =   1.700 Msun  T =  7881 K  m_ubv_B = 25.47\n",
      "M =   6.310 Msun  T =   nan K  m_ubv_B =  nan\n",
      "M =   0.501 Msun  T =   nan K  m_ubv_B =  nan\n",
      "M =   1.100 Msun  T =  7518 K  m_ubv_B = 25.13\n",
      "M =   1.100 Msun  T =  7122 K  m_ubv_B = 15.44\n",
      "M =   1.600 Msun  T =  7439 K  m_ubv_B = 25.58\n",
      "M =   7.000 Msun  T = 10341 K  m_ubv_B = 24.84\n",
      "M =   6.000 Msun  T = 10253 K  m_ubv_B = 24.85\n",
      "M =   1.800 Msun  T =  8257 K  m_ubv_B = 25.39\n",
      "M =   0.501 Msun  T =  3090 K  m_ubv_B = 27.85\n",
      "M =   1.800 Msun  T =  7580 K  m_ubv_B = 25.11\n",
      "M =   1.400 Msun  T =  7518 K  m_ubv_B = 25.13\n",
      "M =   1.400 Msun  T =   nan K  m_ubv_B =  nan\n",
      "M =   1.300 Msun  T =  8203 K  m_ubv_B = 14.27\n",
      "M =   0.794 Msun  T =   nan K  m_ubv_B =  nan\n",
      "M =   0.316 Msun  T =   nan K  m_ubv_B =  nan\n",
      "M =   2.700 Msun  T =  8415 K  m_ubv_B = 25.37\n",
      "M =   1.259 Msun  T =   nan K  m_ubv_B =  nan\n",
      "M =   1.900 Msun  T =  8464 K  m_ubv_B = 24.48\n",
      "M =  10.000 Msun  T =   nan K  m_ubv_B =  nan\n",
      "M =   2.100 Msun  T =  8064 K  m_ubv_B = 25.67\n",
      "M =   1.000 Msun  T =   nan K  m_ubv_B =  nan\n",
      "M =   1.600 Msun  T =  4329 K  m_ubv_B = 10.71\n",
      "M =   0.780 Msun  T =  4501 K  m_ubv_B = 19.16\n",
      "M =   0.300 Msun  T =  3772 K  m_ubv_B = 23.29\n",
      "M =   0.330 Msun  T =  1904 K  m_ubv_B = 28.48\n",
      "M =   1.710 Msun  T =  9717 K  m_ubv_B = 12.96\n",
      "M =   2.100 Msun  T = 12328 K  m_ubv_B = 13.00\n",
      "M =   4.500 Msun  T = 14701 K  m_ubv_B = 9.52\n",
      "M =   0.300 Msun  T =   nan K  m_ubv_B =  nan\n",
      "M =   0.540 Msun  T =   nan K  m_ubv_B =  nan\n",
      "M =   3.000 Msun  T =  7711 K  m_ubv_B = 25.51\n",
      "M =   0.320 Msun  T =  3787 K  m_ubv_B = 23.15\n",
      "M =   1.500 Msun  T =  7959 K  m_ubv_B = 13.28\n",
      "M =   0.760 Msun  T =   nan K  m_ubv_B =  nan\n",
      "M =   5.500 Msun  T = 11981 K  m_ubv_B = 25.57\n",
      "M =   1.500 Msun  T =  8624 K  m_ubv_B = 13.33\n",
      "M =   1.300 Msun  T =  8181 K  m_ubv_B = 14.25\n",
      "M =   0.250 Msun  T =   nan K  m_ubv_B =  nan\n",
      "M =   1.360 Msun  T =  8930 K  m_ubv_B = 14.15\n",
      "M =   1.840 Msun  T = 11066 K  m_ubv_B = 13.14\n",
      "M =   1.200 Msun  T =  7409 K  m_ubv_B = 15.34\n",
      "M =   1.500 Msun  T =  7959 K  m_ubv_B = 13.28\n",
      "M =   0.880 Msun  T =  5078 K  m_ubv_B = 18.03\n",
      "M =   3.000 Msun  T =  7711 K  m_ubv_B = 25.51\n",
      "M =   3.150 Msun  T = 11726 K  m_ubv_B = 10.40\n",
      "M =   0.280 Msun  T =  3757 K  m_ubv_B = 23.43\n",
      "M =   1.360 Msun  T =  8930 K  m_ubv_B = 14.15\n",
      "M =   1.120 Msun  T =  7201 K  m_ubv_B = 15.47\n",
      "M =   0.900 Msun  T =   nan K  m_ubv_B =  nan\n",
      "M =   1.360 Msun  T =   nan K  m_ubv_B =  nan\n",
      "M =   3.200 Msun  T =  7985 K  m_ubv_B = 25.44\n",
      "M =   1.400 Msun  T =  8322 K  m_ubv_B = 13.75\n",
      "M =   0.990 Msun  T =   nan K  m_ubv_B =  nan\n",
      "M =   0.550 Msun  T =  3174 K  m_ubv_B = 23.15\n",
      "M =   1.120 Msun  T =   nan K  m_ubv_B =  nan\n",
      "M =   2.800 Msun  T = 10483 K  m_ubv_B = 10.64\n",
      "M =   4.200 Msun  T = 15764 K  m_ubv_B = 9.95\n",
      "M =   0.900 Msun  T =   nan K  m_ubv_B =  nan\n",
      "M =   5.000 Msun  T =  8500 K  m_ubv_B = 25.10\n",
      "M =   0.360 Msun  T =   nan K  m_ubv_B =  nan\n",
      "M =   0.700 Msun  T =   nan K  m_ubv_B =  nan\n",
      "M =   5.500 Msun  T = 10235 K  m_ubv_B = 24.68\n",
      "M =   0.260 Msun  T =  3742 K  m_ubv_B = 23.59\n",
      "M =   1.200 Msun  T =  7750 K  m_ubv_B = 14.87\n",
      "M =   5.500 Msun  T = 10126 K  m_ubv_B = 24.80\n",
      "M =   0.540 Msun  T =   nan K  m_ubv_B =  nan\n",
      "M =   1.800 Msun  T =  9839 K  m_ubv_B = 23.85\n",
      "M =   1.520 Msun  T =  9679 K  m_ubv_B = 13.73\n",
      "M =   7.000 Msun  T = 10516 K  m_ubv_B = 24.70\n",
      "M =   1.890 Msun  T =   nan K  m_ubv_B =  nan\n",
      "M =   1.100 Msun  T =  7127 K  m_ubv_B = 15.42\n",
      "M =   1.440 Msun  T =  9264 K  m_ubv_B = 13.81\n",
      "Starting filter: ubv,R   Elapsed time: 121.06 seconds\n",
      "Starting synthetic photometry\n",
      "M =   5.500 Msun  T = 11984 K  m_ubv_R = 25.45\n",
      "M =   1.920 Msun  T =  8499 K  m_ubv_R = 24.02\n",
      "M =   1.300 Msun  T =  8186 K  m_ubv_R = 14.02\n",
      "M =   1.500 Msun  T =  8186 K  m_ubv_R = 13.11\n",
      "M =   1.100 Msun  T =  7122 K  m_ubv_R = 14.95\n",
      "M =   1.900 Msun  T =  8464 K  m_ubv_R = 24.02\n",
      "M =   3.000 Msun  T =  7806 K  m_ubv_R = 24.92\n",
      "M =   5.000 Msun  T =  9346 K  m_ubv_R = 24.59\n",
      "M =   3.000 Msun  T =  9927 K  m_ubv_R = 24.31\n",
      "M =   2.700 Msun  T =  8415 K  m_ubv_R = 24.90\n",
      "M =   6.310 Msun  T =   nan K  m_ubv_R =  nan\n",
      "M =   1.600 Msun  T =  4351 K  m_ubv_R = 8.97\n",
      "M =   1.259 Msun  T =   nan K  m_ubv_R =  nan\n",
      "M =   1.900 Msun  T =  8095 K  m_ubv_R = 24.91\n",
      "M =   1.259 Msun  T =   nan K  m_ubv_R =  nan\n",
      "M =   5.000 Msun  T =  8932 K  m_ubv_R = 24.61\n",
      "M =   0.631 Msun  T =   nan K  m_ubv_R =  nan\n",
      "M =   2.500 Msun  T =  7648 K  m_ubv_R = 24.71\n",
      "M =   1.700 Msun  T = 15821 K  m_ubv_R = 22.39\n",
      "M =   2.300 Msun  T =  7267 K  m_ubv_R = 24.76\n",
      "M =   3.000 Msun  T =  7806 K  m_ubv_R = 24.92\n",
      "M =   0.398 Msun  T =   nan K  m_ubv_R =  nan\n",
      "M =   1.100 Msun  T =  7122 K  m_ubv_R = 14.95\n",
      "M =   0.794 Msun  T =  3090 K  m_ubv_R = 25.02\n",
      "M =   3.500 Msun  T =  6584 K  m_ubv_R = 25.08\n",
      "M =   1.400 Msun  T =  8361 K  m_ubv_R = 13.58\n",
      "M =   1.700 Msun  T = 15821 K  m_ubv_R = 22.39\n",
      "M =   1.400 Msun  T =  8353 K  m_ubv_R = 13.58\n",
      "M =   1.800 Msun  T =  8257 K  m_ubv_R = 24.90\n",
      "M =   1.700 Msun  T =  7881 K  m_ubv_R = 24.92\n",
      "M =   6.310 Msun  T =   nan K  m_ubv_R =  nan\n",
      "M =   0.501 Msun  T =   nan K  m_ubv_R =  nan\n",
      "M =   1.100 Msun  T =  7518 K  m_ubv_R = 24.52\n",
      "M =   1.100 Msun  T =  7122 K  m_ubv_R = 14.95\n",
      "M =   1.600 Msun  T =  7439 K  m_ubv_R = 24.95\n",
      "M =   7.000 Msun  T = 10341 K  m_ubv_R = 24.59\n",
      "M =   6.000 Msun  T = 10253 K  m_ubv_R = 24.60\n",
      "M =   1.800 Msun  T =  8257 K  m_ubv_R = 24.90\n",
      "M =   0.501 Msun  T =  3090 K  m_ubv_R = 25.02\n",
      "M =   1.800 Msun  T =  7580 K  m_ubv_R = 24.51\n",
      "M =   1.400 Msun  T =  7518 K  m_ubv_R = 24.52\n",
      "M =   1.400 Msun  T =   nan K  m_ubv_R =  nan\n",
      "M =   1.300 Msun  T =  8203 K  m_ubv_R = 14.03\n",
      "M =   0.794 Msun  T =   nan K  m_ubv_R =  nan\n",
      "M =   0.316 Msun  T =   nan K  m_ubv_R =  nan\n",
      "M =   2.700 Msun  T =  8415 K  m_ubv_R = 24.90\n",
      "M =   1.259 Msun  T =   nan K  m_ubv_R =  nan\n",
      "M =   1.900 Msun  T =  8464 K  m_ubv_R = 24.02\n",
      "M =  10.000 Msun  T =   nan K  m_ubv_R =  nan\n",
      "M =   2.100 Msun  T =  8064 K  m_ubv_R = 25.15\n",
      "M =   1.000 Msun  T =   nan K  m_ubv_R =  nan\n",
      "M =   1.600 Msun  T =  4329 K  m_ubv_R = 8.91\n",
      "M =   0.780 Msun  T =  4501 K  m_ubv_R = 17.57\n",
      "M =   0.300 Msun  T =  3772 K  m_ubv_R = 21.02\n",
      "M =   0.330 Msun  T =  1904 K  m_ubv_R = 24.32\n",
      "M =   1.710 Msun  T =  9717 K  m_ubv_R = 12.96\n",
      "M =   2.100 Msun  T = 12328 K  m_ubv_R = 13.11\n",
      "M =   4.500 Msun  T = 14701 K  m_ubv_R = 9.70\n",
      "M =   0.300 Msun  T =   nan K  m_ubv_R =  nan\n",
      "M =   0.540 Msun  T =   nan K  m_ubv_R =  nan\n",
      "M =   3.000 Msun  T =  7711 K  m_ubv_R = 24.93\n",
      "M =   0.320 Msun  T =  3787 K  m_ubv_R = 20.89\n",
      "M =   1.500 Msun  T =  7959 K  m_ubv_R = 13.03\n",
      "M =   0.760 Msun  T =   nan K  m_ubv_R =  nan\n",
      "M =   5.500 Msun  T = 11981 K  m_ubv_R = 25.45\n",
      "M =   1.500 Msun  T =  8624 K  m_ubv_R = 13.20\n",
      "M =   1.300 Msun  T =  8181 K  m_ubv_R = 14.01\n",
      "M =   0.250 Msun  T =   nan K  m_ubv_R =  nan\n",
      "M =   1.360 Msun  T =  8930 K  m_ubv_R = 14.04\n",
      "M =   1.840 Msun  T = 11066 K  m_ubv_R = 13.21\n",
      "M =   1.200 Msun  T =  7409 K  m_ubv_R = 14.91\n",
      "M =   1.500 Msun  T =  7959 K  m_ubv_R = 13.03\n",
      "M =   0.880 Msun  T =  5078 K  m_ubv_R = 16.79\n",
      "M =   3.000 Msun  T =  7711 K  m_ubv_R = 24.93\n",
      "M =   3.150 Msun  T = 11726 K  m_ubv_R = 10.51\n",
      "M =   0.280 Msun  T =  3757 K  m_ubv_R = 21.15\n",
      "M =   1.360 Msun  T =  8930 K  m_ubv_R = 14.04\n",
      "M =   1.120 Msun  T =  7201 K  m_ubv_R = 14.99\n",
      "M =   0.900 Msun  T =   nan K  m_ubv_R =  nan\n",
      "M =   1.360 Msun  T =   nan K  m_ubv_R =  nan\n",
      "M =   3.200 Msun  T =  7985 K  m_ubv_R = 24.91\n",
      "M =   1.400 Msun  T =  8322 K  m_ubv_R = 13.55\n",
      "M =   0.990 Msun  T =   nan K  m_ubv_R =  nan\n",
      "M =   0.550 Msun  T =  3174 K  m_ubv_R = 20.37\n",
      "M =   1.120 Msun  T =   nan K  m_ubv_R =  nan\n",
      "M =   2.800 Msun  T = 10483 K  m_ubv_R = 10.71\n",
      "M =   4.200 Msun  T = 15764 K  m_ubv_R = 10.15\n",
      "M =   0.900 Msun  T =   nan K  m_ubv_R =  nan\n",
      "M =   5.000 Msun  T =  8500 K  m_ubv_R = 24.65\n",
      "M =   0.360 Msun  T =   nan K  m_ubv_R =  nan\n",
      "M =   0.700 Msun  T =   nan K  m_ubv_R =  nan\n",
      "M =   5.500 Msun  T = 10235 K  m_ubv_R = 24.42\n",
      "M =   0.260 Msun  T =  3742 K  m_ubv_R = 21.29\n",
      "M =   1.200 Msun  T =  7750 K  m_ubv_R = 14.52\n",
      "M =   5.500 Msun  T = 10126 K  m_ubv_R = 24.53\n",
      "M =   0.540 Msun  T =   nan K  m_ubv_R =  nan\n",
      "M =   1.800 Msun  T =  9839 K  m_ubv_R = 23.55\n",
      "M =   1.520 Msun  T =  9679 K  m_ubv_R = 13.70\n",
      "M =   7.000 Msun  T = 10516 K  m_ubv_R = 24.48\n",
      "M =   1.890 Msun  T =   nan K  m_ubv_R =  nan\n",
      "M =   1.100 Msun  T =  7127 K  m_ubv_R = 14.93\n",
      "M =   1.440 Msun  T =  9264 K  m_ubv_R = 13.74\n",
      "Starting filter: ubv,I   Elapsed time: 156.48 seconds\n",
      "Starting synthetic photometry\n",
      "M =   5.500 Msun  T = 11984 K  m_ubv_I = 25.45\n",
      "M =   1.920 Msun  T =  8499 K  m_ubv_I = 23.85\n",
      "M =   1.300 Msun  T =  8186 K  m_ubv_I = 13.91\n",
      "M =   1.500 Msun  T =  8186 K  m_ubv_I = 13.01\n",
      "M =   1.100 Msun  T =  7122 K  m_ubv_I = 14.71\n",
      "M =   1.900 Msun  T =  8464 K  m_ubv_I = 23.85\n",
      "M =   3.000 Msun  T =  7806 K  m_ubv_I = 24.69\n",
      "M =   5.000 Msun  T =  9346 K  m_ubv_I = 24.47\n",
      "M =   3.000 Msun  T =  9927 K  m_ubv_I = 24.22\n",
      "M =   2.700 Msun  T =  8415 K  m_ubv_I = 24.72\n",
      "M =   6.310 Msun  T =   nan K  m_ubv_I =  nan\n",
      "M =   1.600 Msun  T =  4351 K  m_ubv_I = 8.19\n",
      "M =   1.259 Msun  T =   nan K  m_ubv_I =  nan\n",
      "M =   1.900 Msun  T =  8095 K  m_ubv_I = 24.70\n",
      "M =   1.259 Msun  T =   nan K  m_ubv_I =  nan\n",
      "M =   5.000 Msun  T =  8932 K  m_ubv_I = 24.47\n",
      "M =   0.631 Msun  T =   nan K  m_ubv_I =  nan\n",
      "M =   2.500 Msun  T =  7648 K  m_ubv_I = 24.47\n",
      "M =   1.700 Msun  T = 15821 K  m_ubv_I = 22.48\n",
      "M =   2.300 Msun  T =  7267 K  m_ubv_I = 24.48\n",
      "M =   3.000 Msun  T =  7806 K  m_ubv_I = 24.69\n",
      "M =   0.398 Msun  T =   nan K  m_ubv_I =  nan\n",
      "M =   1.100 Msun  T =  7122 K  m_ubv_I = 14.71\n",
      "M =   0.794 Msun  T =  3090 K  m_ubv_I = 23.32\n",
      "M =   3.500 Msun  T =  6584 K  m_ubv_I = 24.72\n",
      "M =   1.400 Msun  T =  8361 K  m_ubv_I = 13.49\n",
      "M =   1.700 Msun  T = 15821 K  m_ubv_I = 22.48\n",
      "M =   1.400 Msun  T =  8353 K  m_ubv_I = 13.49\n",
      "M =   1.800 Msun  T =  8257 K  m_ubv_I = 24.71\n",
      "M =   1.700 Msun  T =  7881 K  m_ubv_I = 24.69\n",
      "M =   6.310 Msun  T =   nan K  m_ubv_I =  nan\n",
      "M =   0.501 Msun  T =   nan K  m_ubv_I =  nan\n",
      "M =   1.100 Msun  T =  7518 K  m_ubv_I = 24.26\n",
      "M =   1.100 Msun  T =  7122 K  m_ubv_I = 14.71\n",
      "M =   1.600 Msun  T =  7439 K  m_ubv_I = 24.69\n",
      "M =   7.000 Msun  T = 10341 K  m_ubv_I = 24.53\n",
      "M =   6.000 Msun  T = 10253 K  m_ubv_I = 24.53\n",
      "M =   1.800 Msun  T =  8257 K  m_ubv_I = 24.71\n",
      "M =   0.501 Msun  T =  3090 K  m_ubv_I = 23.32\n",
      "M =   1.800 Msun  T =  7580 K  m_ubv_I = 24.26\n",
      "M =   1.400 Msun  T =  7518 K  m_ubv_I = 24.26\n",
      "M =   1.400 Msun  T =   nan K  m_ubv_I =  nan\n",
      "M =   1.300 Msun  T =  8203 K  m_ubv_I = 13.93\n",
      "M =   0.794 Msun  T =   nan K  m_ubv_I =  nan\n",
      "M =   0.316 Msun  T =   nan K  m_ubv_I =  nan\n",
      "M =   2.700 Msun  T =  8415 K  m_ubv_I = 24.72\n",
      "M =   1.259 Msun  T =   nan K  m_ubv_I =  nan\n",
      "M =   1.900 Msun  T =  8464 K  m_ubv_I = 23.85\n",
      "M =  10.000 Msun  T =   nan K  m_ubv_I =  nan\n",
      "M =   2.100 Msun  T =  8064 K  m_ubv_I = 24.95\n",
      "M =   1.000 Msun  T =   nan K  m_ubv_I =  nan\n",
      "M =   1.600 Msun  T =  4329 K  m_ubv_I = 8.12\n",
      "M =   0.780 Msun  T =  4501 K  m_ubv_I = 16.84\n",
      "M =   0.300 Msun  T =  3772 K  m_ubv_I = 19.95\n",
      "M =   0.330 Msun  T =  1904 K  m_ubv_I = 21.01\n",
      "M =   1.710 Msun  T =  9717 K  m_ubv_I = 12.96\n",
      "M =   2.100 Msun  T = 12328 K  m_ubv_I = 13.19\n",
      "M =   4.500 Msun  T = 14701 K  m_ubv_I = 9.82\n",
      "M =   0.300 Msun  T =   nan K  m_ubv_I =  nan\n",
      "M =   0.540 Msun  T =   nan K  m_ubv_I =  nan\n",
      "M =   3.000 Msun  T =  7711 K  m_ubv_I = 24.69\n",
      "M =   0.320 Msun  T =  3787 K  m_ubv_I = 19.84\n",
      "M =   1.500 Msun  T =  7959 K  m_ubv_I = 12.90\n",
      "M =   0.760 Msun  T =   nan K  m_ubv_I =  nan\n",
      "M =   5.500 Msun  T = 11981 K  m_ubv_I = 25.45\n",
      "M =   1.500 Msun  T =  8624 K  m_ubv_I = 13.14\n",
      "M =   1.300 Msun  T =  8181 K  m_ubv_I = 13.90\n",
      "M =   0.250 Msun  T =   nan K  m_ubv_I =  nan\n",
      "M =   1.360 Msun  T =  8930 K  m_ubv_I = 14.00\n",
      "M =   1.840 Msun  T = 11066 K  m_ubv_I = 13.26\n",
      "M =   1.200 Msun  T =  7409 K  m_ubv_I = 14.70\n",
      "M =   1.500 Msun  T =  7959 K  m_ubv_I = 12.90\n",
      "M =   0.880 Msun  T =  5078 K  m_ubv_I = 16.22\n",
      "M =   3.000 Msun  T =  7711 K  m_ubv_I = 24.69\n",
      "M =   3.150 Msun  T = 11726 K  m_ubv_I = 10.57\n",
      "M =   0.280 Msun  T =  3757 K  m_ubv_I = 20.08\n",
      "M =   1.360 Msun  T =  8930 K  m_ubv_I = 14.00\n",
      "M =   1.120 Msun  T =  7201 K  m_ubv_I = 14.76\n",
      "M =   0.900 Msun  T =   nan K  m_ubv_I =  nan\n",
      "M =   1.360 Msun  T =   nan K  m_ubv_I =  nan\n",
      "M =   3.200 Msun  T =  7985 K  m_ubv_I = 24.70\n",
      "M =   1.400 Msun  T =  8322 K  m_ubv_I = 13.46\n",
      "M =   0.990 Msun  T =   nan K  m_ubv_I =  nan\n",
      "M =   0.550 Msun  T =  3174 K  m_ubv_I = 18.79\n",
      "M =   1.120 Msun  T =   nan K  m_ubv_I =  nan\n",
      "M =   2.800 Msun  T = 10483 K  m_ubv_I = 10.74\n",
      "M =   4.200 Msun  T = 15764 K  m_ubv_I = 10.28\n",
      "M =   0.900 Msun  T =   nan K  m_ubv_I =  nan\n",
      "M =   5.000 Msun  T =  8500 K  m_ubv_I = 24.47\n",
      "M =   0.360 Msun  T =   nan K  m_ubv_I =  nan\n",
      "M =   0.700 Msun  T =   nan K  m_ubv_I =  nan\n",
      "M =   5.500 Msun  T = 10235 K  m_ubv_I = 24.35\n",
      "M =   0.260 Msun  T =  3742 K  m_ubv_I = 20.21\n",
      "M =   1.200 Msun  T =  7750 K  m_ubv_I = 14.36\n",
      "M =   5.500 Msun  T = 10126 K  m_ubv_I = 24.46\n",
      "M =   0.540 Msun  T =   nan K  m_ubv_I =  nan\n",
      "M =   1.800 Msun  T =  9839 K  m_ubv_I = 23.46\n",
      "M =   1.520 Msun  T =  9679 K  m_ubv_I = 13.71\n",
      "M =   7.000 Msun  T = 10516 K  m_ubv_I = 24.42\n",
      "M =   1.890 Msun  T =   nan K  m_ubv_I =  nan\n",
      "M =   1.100 Msun  T =  7127 K  m_ubv_I = 14.69\n",
      "M =   1.440 Msun  T =  9264 K  m_ubv_I = 13.73\n",
      "      Time taken: 188.88 seconds\n",
      "Isochrone generation took 760.302889 s.\n"
     ]
    }
   ],
   "source": [
    "import spisea\n",
    "from spisea import evolution, synthetic\n",
    "import math\n",
    "# Check if the evolution class works fine\n",
    "import time\n",
    "t1=time.time()\n",
    "bps=evolution.BPASS()\n",
    "iso1=synthetic.Isochrone_Binary(9.2, 0.0, 2000,math.log10(0.1), mass_sampling=1)"
   ]
  },
  {
   "cell_type": "markdown",
   "metadata": {},
   "source": [
    "For a sanity check, we can see that the primaries, secondaries, and single stars have phasees of 5 or of 101 or 102 or 103 or -99. "
   ]
  },
  {
   "cell_type": "code",
   "execution_count": 2,
   "metadata": {},
   "outputs": [
    {
     "data": {
      "text/plain": [
       "True"
      ]
     },
     "execution_count": 2,
     "metadata": {},
     "output_type": "execute_result"
    }
   ],
   "source": [
    "import numpy as np\n",
    "np.all([(x == 5 or x == 101 or x == 102 or\n",
    "         x == 103) for x in iso1.primaries['phase']])"
   ]
  },
  {
   "cell_type": "code",
   "execution_count": 3,
   "metadata": {},
   "outputs": [
    {
     "data": {
      "text/plain": [
       "True"
      ]
     },
     "execution_count": 3,
     "metadata": {},
     "output_type": "execute_result"
    }
   ],
   "source": [
    "np.all([(x == 5 or x == 101 or x == 102 or\n",
    "         x == 103) for x in iso1.singles['phase']])"
   ]
  },
  {
   "cell_type": "code",
   "execution_count": 4,
   "metadata": {},
   "outputs": [
    {
     "data": {
      "text/plain": [
       "True"
      ]
     },
     "execution_count": 4,
     "metadata": {},
     "output_type": "execute_result"
    }
   ],
   "source": [
    "np.all([(x == 5 or x == 101 or x == -99 or x==102 or x==103) for x in iso1.secondaries['phase']])"
   ]
  },
  {
   "cell_type": "markdown",
   "metadata": {},
   "source": [
    "Find the maximum, mean, and median  values of logg (cgs) for primaries and secondaries accounting for NaNs in the columns. (For max we make NaNs the same as - infinity and for median and mean, we do not include them)"
   ]
  },
  {
   "cell_type": "code",
   "execution_count": 5,
   "metadata": {},
   "outputs": [
    {
     "data": {
      "text/plain": [
       "9.294221355125417"
      ]
     },
     "execution_count": 5,
     "metadata": {},
     "output_type": "execute_result"
    }
   ],
   "source": [
    "np.max(iso1.singles['logg'])"
   ]
  },
  {
   "cell_type": "code",
   "execution_count": 6,
   "metadata": {},
   "outputs": [
    {
     "data": {
      "text/plain": [
       "9.294221355125417"
      ]
     },
     "execution_count": 6,
     "metadata": {},
     "output_type": "execute_result"
    }
   ],
   "source": [
    "np.max(np.nan_to_num(iso1.primaries['logg'], -np.inf))"
   ]
  },
  {
   "cell_type": "code",
   "execution_count": 7,
   "metadata": {},
   "outputs": [
    {
     "data": {
      "text/plain": [
       "9.294186013434684"
      ]
     },
     "execution_count": 7,
     "metadata": {},
     "output_type": "execute_result"
    }
   ],
   "source": [
    "np.max(np.nan_to_num(iso1.secondaries['logg'], -np.inf))"
   ]
  },
  {
   "cell_type": "markdown",
   "metadata": {},
   "source": [
    "Now let's find the mean and median logg values for the single stars, secondary stars, and the primary stars"
   ]
  },
  {
   "cell_type": "code",
   "execution_count": 8,
   "metadata": {},
   "outputs": [
    {
     "data": {
      "text/plain": [
       "6.478614555246956"
      ]
     },
     "execution_count": 8,
     "metadata": {},
     "output_type": "execute_result"
    }
   ],
   "source": [
    "np.mean(iso1.singles['logg'][np.where(~np.isnan(iso1.singles['logg']))])"
   ]
  },
  {
   "cell_type": "code",
   "execution_count": 9,
   "metadata": {},
   "outputs": [
    {
     "data": {
      "text/plain": [
       "6.829825080157124"
      ]
     },
     "execution_count": 9,
     "metadata": {},
     "output_type": "execute_result"
    }
   ],
   "source": [
    "np.mean(iso1.primaries['logg'][np.where(~np.isnan(iso1.primaries['logg']))])"
   ]
  },
  {
   "cell_type": "code",
   "execution_count": 10,
   "metadata": {},
   "outputs": [
    {
     "data": {
      "text/plain": [
       "5.360931066484793"
      ]
     },
     "execution_count": 10,
     "metadata": {},
     "output_type": "execute_result"
    }
   ],
   "source": [
    "np.mean(iso1.secondaries['logg'][np.where(~np.isnan(iso1.secondaries['logg']))])"
   ]
  },
  {
   "cell_type": "code",
   "execution_count": 11,
   "metadata": {},
   "outputs": [
    {
     "data": {
      "text/plain": [
       "7.939597169306249"
      ]
     },
     "execution_count": 11,
     "metadata": {},
     "output_type": "execute_result"
    }
   ],
   "source": [
    "np.median(iso1.singles['logg'][np.where(~np.isnan(iso1.singles['logg']))])"
   ]
  },
  {
   "cell_type": "code",
   "execution_count": 12,
   "metadata": {},
   "outputs": [
    {
     "data": {
      "text/plain": [
       "8.079390004361564"
      ]
     },
     "execution_count": 12,
     "metadata": {},
     "output_type": "execute_result"
    }
   ],
   "source": [
    "np.median(iso1.primaries['logg'][np.where(~np.isnan(iso1.primaries['logg']))])"
   ]
  },
  {
   "cell_type": "code",
   "execution_count": 13,
   "metadata": {},
   "outputs": [
    {
     "data": {
      "text/plain": [
       "4.499390136742458"
      ]
     },
     "execution_count": 13,
     "metadata": {},
     "output_type": "execute_result"
    }
   ],
   "source": [
    "np.median([x for x in iso1.secondaries['logg'] if np.isfinite(x)])"
   ]
  },
  {
   "cell_type": "markdown",
   "metadata": {},
   "source": [
    "Let's make a histogram of log_g values for each table of the isochrone"
   ]
  },
  {
   "cell_type": "code",
   "execution_count": 14,
   "metadata": {},
   "outputs": [
    {
     "data": {
      "text/plain": [
       "Text(0.5, 0, 'logg in cgs')"
      ]
     },
     "execution_count": 14,
     "metadata": {},
     "output_type": "execute_result"
    },
    {
     "data": {
      "image/png": "[encoded data removed]",
      "text/plain": [
       "<Figure size 432x288 with 1 Axes>"
      ]
     },
     "metadata": {
      "needs_background": "light"
     },
     "output_type": "display_data"
    }
   ],
   "source": [
    "import matplotlib.pyplot as plt\n",
    "plt.title(\"Histogram of logg values (secondaries) of isochrone\")\n",
    "plt.hist(np.array([x for x in iso1.secondaries['logg'] if np.isfinite(x)]), np.arange(0, 30, 1))\n",
    "plt.xlabel(\"logg in cgs\")"
   ]
  },
  {
   "cell_type": "code",
   "execution_count": 15,
   "metadata": {},
   "outputs": [
    {
     "data": {
      "text/plain": [
       "Text(0.5, 0, 'logg in cgs')"
      ]
     },
     "execution_count": 15,
     "metadata": {},
     "output_type": "execute_result"
    },
    {
     "data": {
      "image/png": "[encoded data removed]",
      "text/plain": [
       "<Figure size 432x288 with 1 Axes>"
      ]
     },
     "metadata": {
      "needs_background": "light"
     },
     "output_type": "display_data"
    }
   ],
   "source": [
    "import matplotlib.pyplot as plt\n",
    "plt.title(\"Histogram of logg values (primaries) of isochrone\")\n",
    "plt.hist(np.array([x for x in iso1.primaries['logg'] if np.isfinite(x)]), np.arange(0, 30, 1))\n",
    "plt.xlabel(\"logg in cgs\")"
   ]
  },
  {
   "cell_type": "code",
   "execution_count": 16,
   "metadata": {},
   "outputs": [
    {
     "data": {
      "text/plain": [
       "Text(0.5, 0, 'logg in cgs')"
      ]
     },
     "execution_count": 16,
     "metadata": {},
     "output_type": "execute_result"
    },
    {
     "data": {
      "image/png": "[encoded data removed]",
      "text/plain": [
       "<Figure size 432x288 with 1 Axes>"
      ]
     },
     "metadata": {
      "needs_background": "light"
     },
     "output_type": "display_data"
    }
   ],
   "source": [
    "import matplotlib.pyplot as plt\n",
    "plt.title(\"Histogram of logg values single stars of isochrone\")\n",
    "plt.hist(np.array([x for x in iso1.singles['logg'] if np.isfinite(x)]), np.arange(0, 30, 1))\n",
    "plt.xlabel(\"logg in cgs\")"
   ]
  },
  {
   "cell_type": "markdown",
   "metadata": {},
   "source": [
    "For comparison, let's create a MIST v.1. isochrone  phot using otherwise same parameters."
   ]
  },
  {
   "cell_type": "code",
   "execution_count": 17,
   "metadata": {},
   "outputs": [],
   "source": [
    "iso2=synthetic.IsochronePhot(9.2, 0.0, 2000, math.log10(0.1), recomp=False) # New MIST v.1 isochrone for same metallicity"
   ]
  },
  {
   "cell_type": "markdown",
   "metadata": {},
   "source": [
    "Note: dist/10 pc = 200 for both of our isochrones and clusters"
   ]
  },
  {
   "cell_type": "markdown",
   "metadata": {},
   "source": [
    "Find the maximum logg of the isochrone and the distribution of logg values"
   ]
  },
  {
   "cell_type": "code",
   "execution_count": 18,
   "metadata": {},
   "outputs": [
    {
     "data": {
      "text/plain": [
       "7.938784080569296"
      ]
     },
     "execution_count": 18,
     "metadata": {},
     "output_type": "execute_result"
    }
   ],
   "source": [
    "np.max(iso2.points['logg'])"
   ]
  },
  {
   "cell_type": "code",
   "execution_count": 19,
   "metadata": {
    "scrolled": true
   },
   "outputs": [
    {
     "data": {
      "text/plain": [
       "(array([519., 146., 185.,  81., 227.,  67.,  21., 128.,   0.,   0.,   0.,\n",
       "          0.,   0.,   0.,   0.,   0.,   0.,   0.,   0.,   0.,   0.,   0.,\n",
       "          0.,   0.,   0.,   0.,   0.,   0.,   0.]),\n",
       " array([ 0,  1,  2,  3,  4,  5,  6,  7,  8,  9, 10, 11, 12, 13, 14, 15, 16,\n",
       "        17, 18, 19, 20, 21, 22, 23, 24, 25, 26, 27, 28, 29]),\n",
       " <BarContainer object of 29 artists>)"
      ]
     },
     "execution_count": 19,
     "metadata": {},
     "output_type": "execute_result"
    },
    {
     "data": {
      "image/png": "[encoded data removed]",
      "text/plain": [
       "<Figure size 432x288 with 1 Axes>"
      ]
     },
     "metadata": {
      "needs_background": "light"
     },
     "output_type": "display_data"
    }
   ],
   "source": [
    "import matplotlib.pyplot as plt\n",
    "plt.xlabel(\"logg in cgs\")\n",
    "plt.title(\"Histogram of logg values of stars in the MIST v1 isochrone\")\n",
    "plt.hist(np.array([x for x in iso2.points['logg'] if np.isfinite(x)]), np.arange(0, 30, 1))"
   ]
  },
  {
   "cell_type": "markdown",
   "metadata": {},
   "source": [
    "Finding the log_g median and mean for the new isochrone"
   ]
  },
  {
   "cell_type": "code",
   "execution_count": 20,
   "metadata": {},
   "outputs": [
    {
     "data": {
      "text/plain": [
       "2.0655075179623505"
      ]
     },
     "execution_count": 20,
     "metadata": {},
     "output_type": "execute_result"
    }
   ],
   "source": [
    "np.median(iso2.points['logg'])"
   ]
  },
  {
   "cell_type": "code",
   "execution_count": 21,
   "metadata": {},
   "outputs": [
    {
     "data": {
      "text/plain": [
       "2.62397473907989"
      ]
     },
     "execution_count": 21,
     "metadata": {},
     "output_type": "execute_result"
    }
   ],
   "source": [
    "np.mean(iso2.points['logg'])"
   ]
  },
  {
   "cell_type": "markdown",
   "metadata": {},
   "source": [
    "Now we want to make clusters for both of these models. We want to compare stellar mass distributions of these clusters."
   ]
  },
  {
   "cell_type": "code",
   "execution_count": 22,
   "metadata": {},
   "outputs": [],
   "source": [
    "from spisea import imf\n",
    "from spisea.imf import imf, multiplicity\n",
    "from spisea import ifmr\n"
   ]
  },
  {
   "cell_type": "code",
   "execution_count": 23,
   "metadata": {
    "scrolled": true
   },
   "outputs": [
    {
     "name": "stdout",
     "output_type": "stream",
     "text": [
      "24990 single stars had to be deleted\n",
      "4461.863301953617 solar masses had to be deleted from single stars before application of the IFMR\n"
     ]
    },
    {
     "name": "stderr",
     "output_type": "stream",
     "text": [
      "/u/ryotainagaki/Desktop/PyPopStar/spisea/synthetic.py:728: VisibleDeprecationWarning: Creating an ndarray from ragged nested sequences (which is a list-or-tuple of lists-or-tuples-or ndarrays with different lengths or shapes) is deprecated. If you meant to do this, you must specify 'dtype=object' when creating the ndarray.\n",
      "  compMass = np.array([compMass[x] for x in indices])\n"
     ]
    },
    {
     "name": "stdout",
     "output_type": "stream",
     "text": [
      "Running the changing phase on companions\n",
      "10 non-single star systems had to be deleted before IFMR application\n",
      "5561 companions had to be deleted before IFMR was applied\n",
      "Found 4874 stars out of mass range\n",
      "Found 5722 companions out of stellar mass range\n"
     ]
    }
   ],
   "source": [
    "clus_1=synthetic.Cluster_w_Binaries(iso1, imf.Kennicutt_1983(multiplicity=multiplicity.MultiplicityResolvedDK()),\n",
    "                                    200000, ifmr=ifmr.IFMR_Spera15())\n",
    "clus_2=synthetic.ResolvedCluster(iso2, imf.Kennicutt_1983(multiplicity=multiplicity.MultiplicityResolvedDK()),\n",
    "                                 200000, ifmr=ifmr.IFMR_Spera15())"
   ]
  },
  {
   "cell_type": "markdown",
   "metadata": {},
   "source": [
    "Now, I plot the mass distribution of all non-compact remnant stars in both the MIST v.1 and the "
   ]
  },
  {
   "cell_type": "code",
   "execution_count": 24,
   "metadata": {},
   "outputs": [],
   "source": [
    "star_systems = clus_1.star_systems\n",
    "companions = clus_1.companions\n",
    "prims = [star_systems['mass_current'][x] for x in range(len(star_systems)) if star_systems['phase'][x] == 5]\n",
    "companions = [companions['mass_current'][x] for x in range(len(companions)) if companions['phase'][x] == 5]"
   ]
  },
  {
   "cell_type": "code",
   "execution_count": 25,
   "metadata": {},
   "outputs": [
    {
     "data": {
      "text/plain": [
       "<matplotlib.legend.Legend at 0x7fce9eb4eb50>"
      ]
     },
     "execution_count": 25,
     "metadata": {},
     "output_type": "execute_result"
    },
    {
     "data": {
      "image/png": "[encoded data removed]",
      "text/plain": [
       "<Figure size 432x288 with 1 Axes>"
      ]
     },
     "metadata": {
      "needs_background": "light"
     },
     "output_type": "display_data"
    }
   ],
   "source": [
    "plt.hist(np.array(prims+companions), 40, (0, 10), density=True, histtype='step', label=\"BPASS\")\n",
    "star_systems2 = clus_2.star_systems\n",
    "companions2 = clus_2.companions\n",
    "prims = [star_systems2['mass_current'][x] for x in range(len(star_systems2)) if star_systems2['phase'][x] < 101]\n",
    "companions = [companions2['mass_current'][x] for x in range(len(companions2)) if companions2['phase'][x] < 101]\n",
    "plt.hist(np.array(prims+companions), 40, (0, 10), density=True, histtype='step', label=\"MISTv1\")\n",
    "plt.xlabel(\"Current mass of the star in solar masses\")\n",
    "plt.title(\"Distribution of star masses in BPASS and MISTv1 clusters (PDF) (binsize = 0.25 solar mass)\")\n",
    "plt.xscale('log')\n",
    "plt.yscale('log')\n",
    "plt.legend()"
   ]
  }
 ],
 "metadata": {
  "kernelspec": {
   "display_name": "astroconda",
   "language": "python",
   "name": "astroconda"
  },
  "language_info": {
   "codemirror_mode": {
    "name": "ipython",
    "version": 3
   },
   "file_extension": ".py",
   "mimetype": "text/x-python",
   "name": "python",
   "nbconvert_exporter": "python",
   "pygments_lexer": "ipython3",
   "version": "3.7.10"
  }
 },
 "nbformat": 4,
 "nbformat_minor": 4
}
