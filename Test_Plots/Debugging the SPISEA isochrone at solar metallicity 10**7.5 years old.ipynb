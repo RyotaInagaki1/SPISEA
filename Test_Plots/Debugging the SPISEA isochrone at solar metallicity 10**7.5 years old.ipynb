{
 "cells": [
  {
   "cell_type": "markdown",
   "metadata": {},
   "source": [
    "## Trying Out the BPASS isochrone at 10^7.5 years age.\n",
    "In this BPASS isochrone and cluster plot, I go over the BPASS isochrone for 10^7.5 years age, solar metallicity, AKs=0.0, and distance of 1000 parsecs from Earth. From the isochrone and cluster, we discuss several plots such as the log_g frequency distribution of the isochrone, the color magnitude diagram (B-V vs M_V), and the mass luminosity relationshi of the cluster.\n",
    "These were made using the reformatted synthetic.py and evolution.py\n",
    "**Note: I chose to use the distance to cluster = 1000 as it makes tracing back values easier (recall what log_10 from the distance modulus is)**"
   ]
  },
  {
   "cell_type": "code",
   "execution_count": null,
   "metadata": {},
   "outputs": [
    {
     "name": "stderr",
     "output_type": "stream",
     "text": [
      "/opt/anaconda3/envs/astroconda/lib/python3.7/site-packages/pysynphot/locations.py:346: UserWarning: Extinction files not found in /g/lu/models/cdbs/extinction\n",
      "  warnings.warn('Extinction files not found in %s' % (extdir, ))\n",
      "/opt/anaconda3/envs/astroconda/lib/python3.7/site-packages/pysynphot/refs.py:125: UserWarning: No thermal tables found, no thermal calculations can be performed. No files found for /g/lu/models/cdbs/mtab/*_tmt.fits\n",
      "  'no thermal calculations can be performed. ' + str(e))\n",
      "/opt/anaconda3/envs/astroconda/lib/python3.7/site-packages/astropy/units/quantity.py:477: RuntimeWarning: invalid value encountered in true_divide\n",
      "  result = super().__array_ufunc__(function, method, *arrays, **kwargs)\n",
      "/u/ryotainagaki/Desktop/PyPopStar/spisea/evolution.py:1771: RuntimeWarning: overflow encountered in power\n",
      "  (1 / cs.au) * un.m)\n",
      "/opt/anaconda3/envs/astroconda/lib/python3.7/site-packages/astropy/table/column.py:1020: RuntimeWarning: invalid value encountered in greater\n",
      "  result = getattr(super(), op)(other)\n",
      "/opt/anaconda3/envs/astroconda/lib/python3.7/site-packages/astropy/table/column.py:1020: RuntimeWarning: invalid value encountered in less_equal\n",
      "  result = getattr(super(), op)(other)\n",
      "/opt/anaconda3/envs/astroconda/lib/python3.7/site-packages/astropy/units/quantity.py:477: RuntimeWarning: divide by zero encountered in true_divide\n",
      "  result = super().__array_ufunc__(function, method, *arrays, **kwargs)\n"
     ]
    },
    {
     "name": "stdout",
     "output_type": "stream",
     "text": [
      "Changing to T= 50000 for T= 61049 logg=5.32\n",
      "Changing to logg=5.00 for T= 61049 logg=5.32\n",
      "Changing to logg=2.00 for T=  9114 logg=1.51\n",
      "Changing to logg=2.50 for T= 13826 logg=2.26\n",
      "Changing to T= 50000 for T= 61234 logg=5.33\n",
      "Changing to logg=5.00 for T= 61234 logg=5.33\n",
      "Changing to T= 50000 for T= 60260 logg=5.27\n",
      "Changing to logg=5.00 for T= 60260 logg=5.27\n",
      "Changing to logg=2.50 for T= 13175 logg=1.66\n",
      "Changing to logg=2.50 for T= 11984 logg=1.86\n",
      "Changing to T= 50000 for T= 59992 logg=5.31\n",
      "Changing to logg=5.00 for T= 59992 logg=5.31\n",
      "Changing to T= 50000 for T= 59676 logg=5.31\n",
      "Changing to logg=5.00 for T= 59676 logg=5.31\n",
      "Changing to logg=2.50 for T= 12516 logg=1.58\n",
      "Changing to logg=2.00 for T= 11368 logg=1.41\n",
      "Changing to T= 50000 for T= 58591 logg=5.42\n",
      "Changing to logg=5.00 for T= 58591 logg=5.42\n",
      "Changing to logg=2.00 for T=  9842 logg=1.16\n",
      "Changing to T= 50000 for T= 60278 logg=5.22\n",
      "Changing to logg=5.00 for T= 60278 logg=5.22\n",
      "Changing to T= 50000 for T= 50619 logg=5.46\n",
      "Changing to logg=5.00 for T= 50619 logg=5.46\n",
      "Changing to logg=2.50 for T= 12505 logg=2.32\n",
      "Changing to T= 50000 for T= 60600 logg=5.31\n",
      "Changing to logg=5.00 for T= 60600 logg=5.31\n",
      "Changing to T= 50000 for T= 60517 logg=5.30\n",
      "Changing to logg=5.00 for T= 60517 logg=5.30\n",
      "Changing to logg=2.00 for T= 11554 logg=1.44\n",
      "Changing to logg=3.00 for T= 22105 logg=2.47\n",
      "Changing to T= 50000 for T= 60405 logg=5.31\n",
      "Changing to logg=5.00 for T= 60405 logg=5.31\n",
      "Changing to logg=2.50 for T= 14006 logg=1.78\n",
      "Changing to T= 50000 for T= 61431 logg=5.43\n",
      "Changing to logg=5.00 for T= 61431 logg=5.43\n",
      "Changing to T= 50000 for T= 61523 logg=5.34\n",
      "Changing to logg=5.00 for T= 61523 logg=5.34\n",
      "Changing to logg=3.00 for T= 22837 logg=2.72\n",
      "Changing to logg=2.50 for T= 12088 logg=1.52\n",
      "Changing to logg=2.00 for T= 11034 logg=1.76\n",
      "Changing to logg=2.00 for T= 10271 logg=1.97\n",
      "Changing to T= 50000 for T= 61419 logg=5.46\n",
      "Changing to logg=5.00 for T= 61419 logg=5.46\n",
      "Changing to logg=2.50 for T= 13036 logg=1.66\n",
      "Changing to T= 50000 for T= 61662 logg=5.43\n",
      "Changing to logg=5.00 for T= 61662 logg=5.43\n",
      "Changing to T= 50000 for T= 58346 logg=5.42\n",
      "Changing to logg=5.00 for T= 58346 logg=5.42\n",
      "Changing to logg=3.50 for T= 30143 logg=3.09\n",
      "Changing to logg=2.50 for T= 13647 logg=1.83\n",
      "Changing to logg=2.50 for T= 14493 logg=1.90\n",
      "Changing to logg=2.00 for T= 10518 logg=1.30\n",
      "Changing to T= 50000 for T= 60737 logg=5.31\n",
      "Changing to logg=5.00 for T= 60737 logg=5.31\n",
      "Changing to T= 50000 for T= 60187 logg=5.34\n",
      "Changing to logg=5.00 for T= 60187 logg=5.34\n",
      "Changing to logg=2.50 for T= 15326 logg=2.36\n",
      "Changing to logg=2.50 for T= 13554 logg=1.71\n",
      "Changing to T= 50000 for T= 61224 logg=5.29\n",
      "Changing to logg=5.00 for T= 61224 logg=5.29\n",
      "Changing to T= 50000 for T= 60537 logg=5.33\n",
      "Changing to logg=5.00 for T= 60537 logg=5.33\n",
      "Changing to logg=2.50 for T= 17684 logg=2.10\n",
      "Changing to T= 50000 for T= 60903 logg=5.32\n",
      "Changing to logg=5.00 for T= 60903 logg=5.32\n",
      "Changing to T= 50000 for T= 60745 logg=5.29\n",
      "Changing to logg=5.00 for T= 60745 logg=5.29\n",
      "Changing to T= 50000 for T= 60088 logg=5.24\n",
      "Changing to logg=5.00 for T= 60088 logg=5.24\n",
      "Changing to T= 50000 for T= 60806 logg=5.32\n",
      "Changing to logg=5.00 for T= 60806 logg=5.32\n",
      "Changing to T= 50000 for T= 59643 logg=5.37\n",
      "Changing to logg=5.00 for T= 59643 logg=5.37\n",
      "Changing to logg=2.00 for T= 10693 logg=1.29\n",
      "Changing to logg=3.00 for T= 19896 logg=2.47\n",
      "Changing to logg=2.50 for T= 17310 logg=2.14\n",
      "Changing to T= 50000 for T= 61245 logg=5.34\n",
      "Changing to logg=5.00 for T= 61245 logg=5.34\n",
      "Changing to logg=2.00 for T= 10981 logg=1.29\n",
      "Changing to T= 50000 for T= 60629 logg=5.28\n",
      "Changing to logg=5.00 for T= 60629 logg=5.28\n",
      "Changing to logg=2.00 for T= 10579 logg=1.27\n",
      "Changing to T= 50000 for T= 60214 logg=5.35\n",
      "Changing to logg=5.00 for T= 60214 logg=5.35\n",
      "Changing to logg=4.00 for T= 38114 logg=3.11\n",
      "Changing to logg=2.50 for T= 18491 logg=2.25\n",
      "Changing to T= 50000 for T= 61076 logg=5.34\n",
      "Changing to logg=5.00 for T= 61076 logg=5.34\n",
      "Changing to T= 50000 for T= 60758 logg=5.27\n",
      "Changing to logg=5.00 for T= 60758 logg=5.27\n",
      "Changing to T= 50000 for T= 61021 logg=5.31\n",
      "Changing to logg=5.00 for T= 61021 logg=5.31\n",
      "Changing to T= 50000 for T= 59854 logg=5.31\n",
      "Changing to logg=5.00 for T= 59854 logg=5.31\n",
      "Changing to T= 50000 for T= 61169 logg=5.28\n",
      "Changing to logg=5.00 for T= 61169 logg=5.28\n",
      "Changing to T= 50000 for T= 59822 logg=5.26\n",
      "Changing to logg=5.00 for T= 59822 logg=5.26\n",
      "Changing to logg=1.00 for T=  7665 logg=0.67\n",
      "Changing to T= 50000 for T= 60225 logg=5.33\n",
      "Changing to logg=5.00 for T= 60225 logg=5.33\n",
      "Changing to logg=2.00 for T=  9431 logg=1.11\n",
      "Changing to logg=2.00 for T=  9585 logg=1.09\n",
      "Changing to logg=4.00 for T= 36268 logg=3.43\n",
      "Changing to T= 50000 for T= 60420 logg=5.28\n",
      "Changing to logg=5.00 for T= 60420 logg=5.28\n",
      "Changing to logg=2.00 for T= 10677 logg=1.29\n",
      "Changing to T= 50000 for T=110388 logg=5.15\n",
      "Changing to logg=5.00 for T=110388 logg=5.15\n",
      "Changing to T= 50000 for T= 61296 logg=5.38\n",
      "Changing to logg=5.00 for T= 61296 logg=5.38\n",
      "Changing to logg=4.50 for T= 46362 logg=3.51\n",
      "Changing to logg=2.50 for T= 13406 logg=1.43\n",
      "Changing to T= 50000 for T= 60842 logg=5.33\n",
      "Changing to logg=5.00 for T= 60842 logg=5.33\n",
      "Changing to T= 50000 for T= 61015 logg=5.34\n",
      "Changing to logg=5.00 for T= 61015 logg=5.34\n",
      "Changing to T= 50000 for T= 61253 logg=5.37\n",
      "Changing to logg=5.00 for T= 61253 logg=5.37\n",
      "Changing to T= 50000 for T= 59902 logg=5.28\n",
      "Changing to logg=5.00 for T= 59902 logg=5.28\n",
      "Changing to logg=3.00 for T= 19510 logg=1.99\n",
      "Changing to T= 50000 for T= 59939 logg=5.31\n",
      "Changing to logg=5.00 for T= 59939 logg=5.31\n",
      "Changing to logg=4.00 for T= 31955 logg=3.22\n",
      "Changing to T= 50000 for T= 60069 logg=5.26\n",
      "Changing to logg=5.00 for T= 60069 logg=5.26\n",
      "Changing to logg=3.00 for T= 22149 logg=2.67\n",
      "Changing to T= 50000 for T= 60568 logg=5.29\n",
      "Changing to logg=5.00 for T= 60568 logg=5.29\n",
      "Changing to T= 50000 for T= 59989 logg=5.34\n",
      "Changing to logg=5.00 for T= 59989 logg=5.34\n",
      "Changing to logg=3.00 for T= 20882 logg=2.37\n",
      "Changing to T= 50000 for T= 61110 logg=5.29\n",
      "Changing to logg=5.00 for T= 61110 logg=5.29\n",
      "Changing to logg=2.00 for T=  9007 logg=0.97\n",
      "Changing to logg=1.50 for T=  8454 logg=1.40\n",
      "Changing to T= 50000 for T= 65634 logg=5.40\n",
      "Changing to logg=5.00 for T= 65634 logg=5.40\n",
      "Changing to logg=2.50 for T= 18076 logg=2.21\n",
      "Changing to T= 50000 for T= 61590 logg=5.33\n",
      "Changing to logg=5.00 for T= 61590 logg=5.33\n",
      "Changing to logg=2.00 for T=  9664 logg=1.12\n",
      "Changing to logg=2.50 for T= 18362 logg=2.15\n",
      "Changing to T= 50000 for T= 61156 logg=5.34\n",
      "Changing to logg=5.00 for T= 61156 logg=5.34\n",
      "Changing to logg=3.00 for T= 21191 logg=2.59\n",
      "Changing to T= 50000 for T= 61792 logg=5.36\n",
      "Changing to logg=5.00 for T= 61792 logg=5.36\n",
      "Changing to T= 50000 for T= 60108 logg=5.26\n",
      "Changing to logg=5.00 for T= 60108 logg=5.26\n",
      "Changing to logg=1.00 for T=  7501 logg=0.64\n",
      "Changing to T= 50000 for T= 61512 logg=5.43\n",
      "Changing to logg=5.00 for T= 61512 logg=5.43\n",
      "Changing to T= 50000 for T= 61616 logg=5.42\n",
      "Changing to logg=5.00 for T= 61616 logg=5.42\n",
      "Changing to logg=2.00 for T=  9495 logg=1.07\n",
      "Changing to T= 50000 for T= 60160 logg=5.30\n",
      "Changing to logg=5.00 for T= 60160 logg=5.30\n",
      "Changing to logg=2.50 for T= 15289 logg=1.92\n",
      "Changing to T= 50000 for T= 56034 logg=5.46\n",
      "Changing to logg=5.00 for T= 56034 logg=5.46\n",
      "Changing to logg=2.00 for T=  9456 logg=1.08\n",
      "Changing to logg=2.50 for T= 12241 logg=1.47\n",
      "Changing to logg=3.00 for T= 24352 logg=2.72\n",
      "Changing to T= 50000 for T= 61506 logg=5.43\n",
      "Changing to logg=5.00 for T= 61506 logg=5.43\n",
      "Changing to logg=1.50 for T=  8326 logg=0.80\n",
      "Changing to T= 50000 for T= 60902 logg=5.32\n",
      "Changing to logg=5.00 for T= 60902 logg=5.32\n",
      "Changing to T= 50000 for T= 60905 logg=5.33\n",
      "Changing to logg=5.00 for T= 60905 logg=5.33\n",
      "Changing to T= 50000 for T= 61138 logg=5.29\n",
      "Changing to logg=5.00 for T= 61138 logg=5.29\n",
      "Changing to logg=2.00 for T= 11458 logg=1.35\n",
      "Changing to T= 50000 for T= 61284 logg=5.50\n",
      "Changing to logg=5.00 for T= 61284 logg=5.50\n",
      "Changing to T= 50000 for T= 60619 logg=5.26\n",
      "Changing to logg=5.00 for T= 60619 logg=5.26\n",
      "Changing to T= 50000 for T= 60756 logg=5.30\n",
      "Changing to logg=5.00 for T= 60756 logg=5.30\n",
      "Changing to logg=3.00 for T= 24603 logg=2.42\n",
      "Changing to T= 50000 for T= 56491 logg=5.45\n",
      "Changing to logg=5.00 for T= 56491 logg=5.45\n"
     ]
    },
    {
     "name": "stdout",
     "output_type": "stream",
     "text": [
      "Changing to logg=4.00 for T= 36549 logg=3.05\n",
      "Changing to logg=2.50 for T= 12585 logg=1.52\n",
      "Changing to logg=2.50 for T= 12412 logg=2.06\n",
      "Changing to logg=2.50 for T= 14541 logg=2.00\n",
      "Changing to T= 50000 for T= 60086 logg=5.33\n",
      "Changing to logg=5.00 for T= 60086 logg=5.33\n",
      "Changing to logg=2.50 for T= 15907 logg=1.69\n",
      "Changing to T= 50000 for T= 63957 logg=5.35\n",
      "Changing to logg=5.00 for T= 63957 logg=5.35\n",
      "Changing to T= 50000 for T= 54468 logg=3.96\n",
      "Changing to logg=5.00 for T= 54468 logg=3.96\n",
      "Changing to T= 50000 for T= 61417 logg=5.35\n",
      "Changing to logg=5.00 for T= 61417 logg=5.35\n",
      "Changing to T= 50000 for T= 61598 logg=5.42\n",
      "Changing to logg=5.00 for T= 61598 logg=5.42\n",
      "Changing to T= 50000 for T= 62349 logg=5.34\n",
      "Changing to logg=5.00 for T= 62349 logg=5.34\n",
      "Changing to T= 50000 for T= 60657 logg=5.29\n",
      "Changing to logg=5.00 for T= 60657 logg=5.29\n",
      "Changing to T= 50000 for T= 60760 logg=5.31\n",
      "Changing to logg=5.00 for T= 60760 logg=5.31\n",
      "Changing to T= 50000 for T= 60791 logg=5.29\n",
      "Changing to logg=5.00 for T= 60791 logg=5.29\n",
      "Changing to T= 50000 for T= 60930 logg=5.29\n",
      "Changing to logg=5.00 for T= 60930 logg=5.29\n",
      "Changing to T= 50000 for T= 60759 logg=5.32\n",
      "Changing to logg=5.00 for T= 60759 logg=5.32\n",
      "Changing to logg=3.00 for T= 21857 logg=2.65\n",
      "Changing to T= 50000 for T= 60898 logg=5.27\n",
      "Changing to logg=5.00 for T= 60898 logg=5.27\n",
      "Changing to logg=2.00 for T= 10991 logg=1.27\n",
      "Changing to T= 50000 for T= 61429 logg=5.46\n",
      "Changing to logg=5.00 for T= 61429 logg=5.46\n",
      "Changing to T= 50000 for T= 61197 logg=5.37\n",
      "Changing to logg=5.00 for T= 61197 logg=5.37\n",
      "Changing to T= 50000 for T= 55161 logg=5.34\n",
      "Changing to logg=5.00 for T= 55161 logg=5.34\n",
      "Changing to T= 50000 for T= 61549 logg=5.34\n",
      "Changing to logg=5.00 for T= 61549 logg=5.34\n",
      "Changing to logg=3.00 for T= 25975 logg=2.82\n",
      "Changing to logg=2.50 for T= 11982 logg=1.53\n",
      "Changing to logg=2.00 for T= 11105 logg=1.78\n",
      "Changing to logg=2.50 for T= 15613 logg=1.97\n",
      "Changing to logg=3.00 for T= 24435 logg=2.39\n",
      "Changing to T= 50000 for T= 61046 logg=5.35\n",
      "Changing to logg=5.00 for T= 61046 logg=5.35\n",
      "Changing to logg=1.50 for T=  8979 logg=0.94\n",
      "Changing to T= 50000 for T= 61232 logg=5.34\n",
      "Changing to logg=5.00 for T= 61232 logg=5.34\n",
      "Changing to logg=3.00 for T= 19263 logg=1.93\n",
      "Changing to logg=2.00 for T= 11349 logg=1.31\n",
      "Changing to logg=2.50 for T= 12895 logg=1.99\n",
      "Changing to T= 50000 for T= 61359 logg=5.38\n",
      "Changing to logg=5.00 for T= 61359 logg=5.38\n",
      "Changing to T= 50000 for T= 61777 logg=5.40\n",
      "Changing to logg=5.00 for T= 61777 logg=5.40\n",
      "Changing to T= 50000 for T= 54069 logg=4.01\n",
      "Changing to logg=5.00 for T= 54069 logg=4.01\n",
      "Changing to logg=2.50 for T= 13513 logg=1.71\n",
      "Changing to logg=2.50 for T= 12017 logg=1.87\n",
      "Changing to T= 50000 for T= 61378 logg=5.34\n",
      "Changing to logg=5.00 for T= 61378 logg=5.34\n",
      "Changing to T= 50000 for T= 56377 logg=5.48\n",
      "Changing to logg=5.00 for T= 56377 logg=5.48\n",
      "Changing to T= 50000 for T= 58549 logg=5.38\n",
      "Changing to logg=5.00 for T= 58549 logg=5.38\n",
      "Changing to T= 50000 for T= 61451 logg=5.36\n",
      "Changing to logg=5.00 for T= 61451 logg=5.36\n",
      "Changing to T= 50000 for T= 60863 logg=5.27\n",
      "Changing to logg=5.00 for T= 60863 logg=5.27\n",
      "Changing to T= 50000 for T= 52034 logg=5.36\n",
      "Changing to logg=5.00 for T= 52034 logg=5.36\n",
      "Changing to T= 50000 for T= 82507 logg=4.66\n",
      "Changing to logg=5.00 for T= 82507 logg=4.66\n",
      "Changing to T= 50000 for T= 60973 logg=5.34\n",
      "Changing to logg=5.00 for T= 60973 logg=5.34\n",
      "Changing to logg=4.00 for T= 36512 logg=3.01\n",
      "Changing to logg=2.00 for T= 10033 logg=1.18\n",
      "Changing to logg=3.00 for T= 22002 logg=2.55\n",
      "Changing to logg=2.50 for T= 13070 logg=1.66\n",
      "Changing to T= 50000 for T= 52085 logg=3.70\n",
      "Changing to logg=5.00 for T= 52085 logg=3.70\n",
      "Changing to logg=2.00 for T=  9682 logg=1.10\n",
      "Changing to T= 50000 for T= 60772 logg=5.29\n",
      "Changing to logg=5.00 for T= 60772 logg=5.29\n",
      "Changing to T= 50000 for T= 60934 logg=5.34\n",
      "Changing to logg=5.00 for T= 60934 logg=5.34\n",
      "Changing to T= 50000 for T= 61494 logg=5.45\n",
      "Changing to logg=5.00 for T= 61494 logg=5.45\n",
      "Changing to logg=2.00 for T=  9023 logg=0.92\n",
      "Changing to logg=2.50 for T= 12097 logg=1.53\n",
      "Changing to logg=2.50 for T= 13104 logg=1.66\n",
      "Changing to T= 50000 for T= 57778 logg=5.43\n",
      "Changing to logg=5.00 for T= 57778 logg=5.43\n",
      "Changing to logg=4.00 for T= 33289 logg=2.88\n",
      "Changing to logg=1.00 for T=  8066 logg=0.77\n",
      "Changing to T= 50000 for T= 61694 logg=5.34\n",
      "Changing to logg=5.00 for T= 61694 logg=5.34\n",
      "Changing to T= 50000 for T= 60728 logg=5.30\n",
      "Changing to logg=5.00 for T= 60728 logg=5.30\n",
      "Changing to T= 50000 for T= 60849 logg=5.30\n",
      "Changing to logg=5.00 for T= 60849 logg=5.30\n",
      "Changing to logg=2.50 for T= 12028 logg=2.04\n",
      "Changing to T= 50000 for T= 61650 logg=5.37\n",
      "Changing to logg=5.00 for T= 61650 logg=5.37\n",
      "Changing to T= 50000 for T= 61438 logg=5.38\n",
      "Changing to logg=5.00 for T= 61438 logg=5.38\n",
      "Changing to T= 50000 for T= 57241 logg=5.42\n",
      "Changing to logg=5.00 for T= 57241 logg=5.42\n",
      "Changing to logg=2.00 for T= 11675 logg=1.91\n",
      "Changing to T= 50000 for T= 61498 logg=5.44\n",
      "Changing to logg=5.00 for T= 61498 logg=5.44\n",
      "Changing to logg=2.50 for T= 16759 logg=2.08\n",
      "Changing to T= 50000 for T= 59088 logg=5.36\n",
      "Changing to logg=5.00 for T= 59088 logg=5.36\n",
      "Changing to T= 50000 for T= 61128 logg=5.31\n",
      "Changing to logg=5.00 for T= 61128 logg=5.31\n",
      "Changing to T= 50000 for T= 60474 logg=5.26\n",
      "Changing to logg=5.00 for T= 60474 logg=5.26\n",
      "Changing to T= 50000 for T= 61723 logg=5.37\n",
      "Changing to logg=5.00 for T= 61723 logg=5.37\n",
      "Changing to logg=0.00 for T=  3424 logg=-0.18\n",
      "Changing to T= 50000 for T= 50451 logg=5.37\n",
      "Changing to logg=5.00 for T= 50451 logg=5.37\n",
      "Changing to logg=2.50 for T= 12795 logg=1.64\n",
      "Changing to logg=2.50 for T= 17656 logg=2.33\n",
      "Changing to logg=2.50 for T= 13079 logg=1.58\n",
      "Changing to logg=2.50 for T= 15424 logg=1.93\n",
      "Changing to T= 50000 for T= 61080 logg=5.33\n",
      "Changing to logg=5.00 for T= 61080 logg=5.33\n",
      "Changing to logg=0.00 for T=  3401 logg=-0.22\n",
      "Changing to T= 50000 for T= 61310 logg=5.28\n",
      "Changing to logg=5.00 for T= 61310 logg=5.28\n",
      "Changing to T= 50000 for T= 61107 logg=5.26\n",
      "Changing to logg=5.00 for T= 61107 logg=5.26\n",
      "Changing to T= 50000 for T= 61352 logg=5.29\n",
      "Changing to logg=5.00 for T= 61352 logg=5.29\n",
      "Changing to logg=3.50 for T= 28241 logg=2.98\n",
      "Changing to logg=0.00 for T=  3324 logg=-0.35\n",
      "Changing to T= 50000 for T= 60526 logg=5.29\n",
      "Changing to logg=5.00 for T= 60526 logg=5.29\n",
      "Changing to T= 50000 for T= 60819 logg=5.24\n",
      "Changing to logg=5.00 for T= 60819 logg=5.24\n",
      "Changing to T= 50000 for T= 61731 logg=5.45\n",
      "Changing to logg=5.00 for T= 61731 logg=5.45\n",
      "Changing to T= 50000 for T= 61638 logg=5.41\n",
      "Changing to logg=5.00 for T= 61638 logg=5.41\n",
      "Changing to logg=3.00 for T= 25488 logg=2.80\n",
      "Changing to T= 50000 for T= 61160 logg=5.27\n",
      "Changing to logg=5.00 for T= 61160 logg=5.27\n"
     ]
    }
   ],
   "source": [
    "import spisea\n",
    "from spisea import evolution, synthetic\n",
    "import math\n",
    "# Check if the evolution class works fine\n",
    "import time\n",
    "t1=time.time()\n",
    "bps=evolution.BPASS()\n",
    "iso1=synthetic.Isochrone_Binary(7.5, 0.0, 1000,math.log10(1), mass_sampling=1, filepath='/g/lu/scratch/ryotainagaki/BPASS_iso_filesTimedIsolated/')"
   ]
  },
  {
   "cell_type": "markdown",
   "metadata": {},
   "source": [
    "For a sanity check, we can see that the primaries, secondaries, and single stars have phases of 5 or of 101 or of 110. Note that we will have a phase of 110 in order to indicate a mystery compact remnant that BPASS provides for NEWSECMODS (secondary star models with compact primaries). This is since we haven't added neutron stars or black holes yet. Stars with phase of -99 exist, and those are the secondary stars that have already merged."
   ]
  },
  {
   "cell_type": "code",
   "execution_count": null,
   "metadata": {},
   "outputs": [],
   "source": [
    "import numpy as np\n",
    "np.all([(x==5 or x==101 or x==110) for x in iso1.primaries['phase']])"
   ]
  },
  {
   "cell_type": "code",
   "execution_count": null,
   "metadata": {},
   "outputs": [],
   "source": [
    "np.all([(x==5 or x==101) for x in iso1.singles['phase']])"
   ]
  },
  {
   "cell_type": "code",
   "execution_count": null,
   "metadata": {},
   "outputs": [],
   "source": [
    "np.all([(x==5 or x==101 or x==-99) for x in iso1.secondaries['phase']])"
   ]
  },
  {
   "cell_type": "markdown",
   "metadata": {},
   "source": [
    "Find the maximum, mean, and median  values of logg (cgs) for primaries, single stars, and secondaries. "
   ]
  },
  {
   "cell_type": "code",
   "execution_count": null,
   "metadata": {},
   "outputs": [],
   "source": [
    "import numpy as np\n",
    "np.max(iso1.singles['logg'])"
   ]
  },
  {
   "cell_type": "code",
   "execution_count": null,
   "metadata": {},
   "outputs": [],
   "source": [
    "import numpy as np\n",
    "np.max(iso1.primaries['logg'])"
   ]
  },
  {
   "cell_type": "code",
   "execution_count": null,
   "metadata": {},
   "outputs": [],
   "source": [
    "np.max(np.nan_to_num(iso1.secondaries['logg']))"
   ]
  },
  {
   "cell_type": "code",
   "execution_count": null,
   "metadata": {},
   "outputs": [],
   "source": [
    "np.mean(iso1.singles['logg'])"
   ]
  },
  {
   "cell_type": "code",
   "execution_count": null,
   "metadata": {},
   "outputs": [],
   "source": [
    "np.mean((np.nan_to_num(iso1.secondaries['logg'])))"
   ]
  },
  {
   "cell_type": "code",
   "execution_count": null,
   "metadata": {},
   "outputs": [],
   "source": [
    "np.mean((np.nan_to_num(iso1.primaries['logg'])))"
   ]
  },
  {
   "cell_type": "code",
   "execution_count": null,
   "metadata": {},
   "outputs": [],
   "source": [
    "np.median(iso1.singles['logg'])"
   ]
  },
  {
   "cell_type": "code",
   "execution_count": null,
   "metadata": {},
   "outputs": [],
   "source": [
    "np.median(iso1.primaries['logg'])"
   ]
  },
  {
   "cell_type": "markdown",
   "metadata": {},
   "source": [
    "Looking at the distribution of surface gravity (in cgs) for primaries and secondaries"
   ]
  },
  {
   "cell_type": "code",
   "execution_count": null,
   "metadata": {},
   "outputs": [],
   "source": [
    "import matplotlib.pyplot as plt\n",
    "plt.title(\"Histogram of logg values (secondaries) of BPASS isochrone\")\n",
    "plt.hist(np.array([x for x in iso1.secondaries['logg'] if np.isfinite(x)]), np.arange(0, 30, 1))\n",
    "plt.xlabel(\"logg in cgs\")"
   ]
  },
  {
   "cell_type": "code",
   "execution_count": null,
   "metadata": {},
   "outputs": [],
   "source": [
    "import matplotlib.pyplot as plt\n",
    "plt.title(\"Histogram of logg values (primaries) of BPASS isochrone\")\n",
    "plt.hist(np.array([x for x in iso1.primaries['logg'] if np.isfinite(x)]), np.arange(0, 30, 1))\n",
    "plt.xlabel(\"logg in cgs\")"
   ]
  },
  {
   "cell_type": "code",
   "execution_count": null,
   "metadata": {},
   "outputs": [],
   "source": [
    "import matplotlib.pyplot as plt\n",
    "plt.title(\"Histogram of logg values single stars of BPASS isochrone\")\n",
    "plt.hist(np.array([x for x in iso1.singles['logg'] if np.isfinite(x)]), np.arange(0, 30, 1))\n",
    "plt.xlabel(\"logg in cgs\")"
   ]
  },
  {
   "cell_type": "markdown",
   "metadata": {},
   "source": [
    "I want to compare plots with the MISTv.1 equivalent (10^7.5 years old, 0 extinction, 1000 pc from Earth, solar metallicity). Hence, I will create iso2."
   ]
  },
  {
   "cell_type": "code",
   "execution_count": null,
   "metadata": {},
   "outputs": [],
   "source": [
    "iso2=synthetic.IsochronePhot(7.5, 0.0, 1000, math.log(1), recomp=True) # New MIST v.1 isochrone for same metallicity"
   ]
  },
  {
   "cell_type": "code",
   "execution_count": null,
   "metadata": {},
   "outputs": [],
   "source": [
    "import numpy as np\n",
    "np.max(iso2.points['logg'])"
   ]
  },
  {
   "cell_type": "markdown",
   "metadata": {},
   "source": [
    "Kind of like how we did in the "
   ]
  },
  {
   "cell_type": "code",
   "execution_count": null,
   "metadata": {},
   "outputs": [],
   "source": [
    "import matplotlib.pyplot as plt\n",
    "plt.xlabel(\"logg in cgs\")\n",
    "plt.title(\"Histogram of logg values of stars in the MIST v1 isochrone\")\n",
    "plt.hist(np.array([x for x in iso2.points['logg'] if np.isfinite(x)]), np.arange(0, 30, 1))"
   ]
  },
  {
   "cell_type": "code",
   "execution_count": null,
   "metadata": {},
   "outputs": [],
   "source": [
    "np.median(iso2.points['logg'])"
   ]
  },
  {
   "cell_type": "code",
   "execution_count": null,
   "metadata": {},
   "outputs": [],
   "source": [
    "np.mean(iso2.points['logg'])"
   ]
  },
  {
   "cell_type": "code",
   "execution_count": null,
   "metadata": {},
   "outputs": [],
   "source": [
    "from spisea import imf\n",
    "from spisea.imf import imf, multiplicity\n",
    "from spisea import ifmr\n"
   ]
  },
  {
   "cell_type": "markdown",
   "metadata": {},
   "source": [
    "Make the clusters corresponding to the binary star isochrone and the MISTv.1 isochrone"
   ]
  },
  {
   "cell_type": "code",
   "execution_count": null,
   "metadata": {},
   "outputs": [],
   "source": [
    "clus_1=synthetic.Binary_Cluster(iso1, imf.IMFSalpeter1955(multiplicity=multiplicity.MultiplicityResolvedDK()), 20000)\n",
    "clus_2=synthetic.ResolvedCluster(iso2, imf.IMFSalpeter1955(multiplicity=multiplicity.MultiplicityResolvedDK()), 20000)"
   ]
  },
  {
   "cell_type": "markdown",
   "metadata": {},
   "source": [
    "Now let's visualize the isochrone we have created so far with a color magnitude diagram. There we can see the end of main sequence and perhaps the beginnings of the subgiant branch. That turnoff will turn out to be quite important when using the clusters to find age of real stellar populations.\\n But first, let's look at the isochrones and plot the observers' and theorist's HR diagrams and juxtapose the evolution models."
   ]
  },
  {
   "cell_type": "code",
   "execution_count": null,
   "metadata": {},
   "outputs": [],
   "source": [
    "# Taking a look at the Binary Cluster vs Default Settings cluster Observer's HR Diagram\n",
    "# Remember to use a distance modulus!\n",
    "import matplotlib.pyplot as plt\n",
    "plt.plot(iso1.primaries['m_ubv_B']-iso1.primaries[\"m_ubv_V\"], iso1.primaries[\"m_ubv_V\"]-5*np.log10(100), \"r.\", alpha= 0.3)\n",
    "plt.plot(iso1.secondaries['m_ubv_B']-iso1.secondaries[\"m_ubv_V\"], iso1.secondaries[\"m_ubv_V\"]-5*np.log10(100), \"r.\", alpha= 0.3)\n",
    "plt.plot(iso1.singles['m_ubv_B']-iso1.singles[\"m_ubv_V\"], iso1.singles[\"m_ubv_V\"]-5*np.log10(100), \"r.\", label=\"BPASS isochrone\", alpha= 0.3)\n",
    "plt.plot(iso2.points['m_ubv_B']-iso2.points[\"m_ubv_V\"], iso2.points[\"m_ubv_V\"]-5*np.log10(100), \"b+\", label=\"MISTv1\", alpha= 0.2)\n",
    "plt.xlabel(\"B-V\")\n",
    "plt.ylabel(\"'M_V'\")\n",
    "plt.title(\"Color magnitude Diagram of Isochrones at solar metallicity and 10**7.5 years age\")\n",
    "plt.gca().invert_yaxis()\n",
    "plt.legend()"
   ]
  },
  {
   "cell_type": "code",
   "execution_count": null,
   "metadata": {},
   "outputs": [],
   "source": [
    "import matplotlib.pyplot as plt\n",
    "plt.plot(np.log10(iso1.primaries['Teff']), np.log10(iso1.primaries[\"L\"]), \"r.\", alpha= 0.3)\n",
    "plt.plot(np.log10(iso1.secondaries['Teff']), np.log10(iso1.secondaries[\"L\"]), \"r.\", alpha= 0.3)\n",
    "plt.plot(np.log10(iso1.singles['Teff']), np.log10(iso1.singles[\"L\"]), \"r.\", label=\"BPASS isochrone\", alpha= 0.3)\n",
    "plt.plot(np.log10(iso2.points['Teff']), np.log10(iso2.points[\"L\"]), \"b+\", label=\"MISTv1\", alpha=0.2)\n",
    "plt.xlabel(\"log(T in Kelvin)\")\n",
    "plt.ylabel(\"log(L in Watts)\")\n",
    "plt.title(\"HR Diagram of Isochrones at solar metallicity and 10**7.5 years age\")\n",
    "plt.gca().invert_xaxis()\n",
    "plt.legend()\n",
    "# Rough pattern seems to fit. What's that line?"
   ]
  },
  {
   "cell_type": "code",
   "execution_count": null,
   "metadata": {},
   "outputs": [],
   "source": [
    "# Plot the mass-luminosity relationship\n",
    "from astropy import constants as cs\n",
    "import matplotlib.pyplot as plt\n",
    "plt.plot(np.log10(iso1.primaries['mass_current']), np.log10(iso1.primaries[\"L\"]/cs.L_sun), \"r.\", alpha= 0.3)\n",
    "plt.plot(np.log10(iso1.secondaries['mass_current']), np.log10(iso1.secondaries[\"L\"]/cs.L_sun), \"r.\", alpha= 0.3)\n",
    "plt.plot(np.log10(iso1.singles['mass_current']), np.log10(iso1.singles[\"L\"]/cs.L_sun), \"r.\", label=\"BPASS isochrone\", alpha= 0.3)\n",
    "plt.plot(np.log10(iso2.points['mass_current']), np.log10(iso2.points[\"L\"]/cs.L_sun), \"b+\", label=\"MISTv1\", alpha=0.2)\n",
    "plt.xlabel(\"log(Current Mass in solar masses)\")\n",
    "plt.ylabel(\"log(L/L_solar)\")\n",
    "plt.title(\"Mass-logL of Isochrones at solar metallicity and 10**7.5 years age\")\n",
    "plt.legend()\n",
    "# Rough pattern seems to fit. What's that line?"
   ]
  },
  {
   "cell_type": "markdown",
   "metadata": {},
   "source": [
    "Which table is causing that line?\n",
    "Let's find out."
   ]
  },
  {
   "cell_type": "code",
   "execution_count": null,
   "metadata": {},
   "outputs": [],
   "source": [
    "from astropy import constants as cs\n",
    "import matplotlib.pyplot as plt\n",
    "plt.xlabel(\"log(Current Mass in solar masses)\")\n",
    "plt.ylabel(\"log(L/L_solar)\")\n",
    "plt.title(\"Mass-logL of Isochrones at solar metallicity and 10**7.5 years age\")\n",
    "plt.plot(np.log10(iso1.primaries['mass_current']), np.log10(iso1.primaries[\"L\"]/cs.L_sun), \"r.\", label=\"BPASS isochrone\")\n",
    "plt.legend()"
   ]
  },
  {
   "cell_type": "markdown",
   "metadata": {},
   "source": [
    "Which type of secondary star is it that is causing this strange pattern?"
   ]
  },
  {
   "cell_type": "code",
   "execution_count": null,
   "metadata": {},
   "outputs": [],
   "source": [
    "bad_line = iso1.secondaries[np.where((np.log10(iso1.secondaries[\"L\"]/cs.L_sun)>-4) & (np.log10(iso1.secondaries[\"L\"]/cs.L_sun)<-2))[0]]"
   ]
  },
  {
   "cell_type": "code",
   "execution_count": null,
   "metadata": {},
   "outputs": [],
   "source": [
    "bad_line"
   ]
  },
  {
   "cell_type": "markdown",
   "metadata": {},
   "source": [
    "What sorts of characteristics (logg, Teff, L) can be causing it? Let's find out"
   ]
  },
  {
   "cell_type": "markdown",
   "metadata": {},
   "source": [
    "Is this the mystery compact remnant?"
   ]
  },
  {
   "cell_type": "code",
   "execution_count": null,
   "metadata": {},
   "outputs": [],
   "source": [
    "np.unique(bad_line['phase'])"
   ]
  },
  {
   "cell_type": "markdown",
   "metadata": {},
   "source": [
    "Now, we actually do plots for the clusters that I have created."
   ]
  },
  {
   "cell_type": "code",
   "execution_count": null,
   "metadata": {},
   "outputs": [],
   "source": [
    "# Plot the mass-luminosity relationship\n",
    "from astropy import constants as cs\n",
    "from astropy import units as u\n",
    "import numpy as np\n",
    "import matplotlib.pyplot as plt\n",
    "plt.plot((clus_1.star_systems['mass_current']), np.log10(clus_1.star_systems[\"L\"]), \"r.\", label=\"Binary_Cluster made from BPASS\", alpha =0.2)\n",
    "plt.plot((clus_1.companions['mass_current']), np.log10(clus_1.companions[\"L\"]), \"r.\", label=\"Binary_Cluster made from BPASS\", alpha = 0.2)\n",
    "plt.plot((clus_2.star_systems['mass_current']), np.log10(clus_2.star_systems[\"L\"]), \"b.\", label=\"Cluster made from MISTv.1\", alpha =0.2)\n",
    "plt.plot((clus_2.companions['mass_current']), np.log10(clus_2.companions[\"L\"]), \"b.\", label=\"Cluster made from MISTv.1\", alpha = 0.1)\n",
    "plt.xlabel(\"Current Mass in solar masses\")\n",
    "plt.ylabel(\"log(L in Watts)\")\n",
    "plt.title(\"Mass-logL of Cluster at solar metallicity and 10**7.5 years age\")\n",
    "plt.legend()\n",
    "# Rough pattern seems to fit. What's that line?"
   ]
  },
  {
   "cell_type": "code",
   "execution_count": null,
   "metadata": {},
   "outputs": [],
   "source": [
    "clus_1.companions['mass_current']"
   ]
  },
  {
   "cell_type": "markdown",
   "metadata": {},
   "source": [
    "If you look at the star systems that each companion corresponds to, you will find them here. The numbers are indices from the star_systems table."
   ]
  },
  {
   "cell_type": "code",
   "execution_count": null,
   "metadata": {},
   "outputs": [],
   "source": [
    "clus_1.companions['system_idx']"
   ]
  },
  {
   "cell_type": "code",
   "execution_count": null,
   "metadata": {},
   "outputs": [],
   "source": [
    "clus_1.companions['log_a']"
   ]
  },
  {
   "cell_type": "markdown",
   "metadata": {},
   "source": [
    "Where is that vertical line coming from?"
   ]
  },
  {
   "cell_type": "code",
   "execution_count": null,
   "metadata": {},
   "outputs": [],
   "source": [
    "# Plot the mass-luminosity relationship\n",
    "from astropy import constants as cs\n",
    "from astropy import units as u\n",
    "import matplotlib.pyplot as plt\n",
    "plt.plot(clus_1.star_systems['mass_current'], np.log10(clus_1.star_systems[\"L\"]), \"r.\", label=\"Binary_Cluster made from BPASS\", alpha =1)\n",
    "plt.xlabel(\"Current Mass in solar masses\")\n",
    "plt.ylabel(\"log(L/L_solar)\")\n",
    "plt.title(\"log-Mass-logL of Cluster at solar metallicity and 10**7.5 years age\")\n",
    "plt.legend()\n",
    "# Rough pattern seems to fit. What's that line?"
   ]
  },
  {
   "cell_type": "markdown",
   "metadata": {},
   "source": [
    "Now go back to the shape of the clusters' Color magnitude diagrams."
   ]
  },
  {
   "cell_type": "markdown",
   "metadata": {},
   "source": [
    "So if was the companions..."
   ]
  },
  {
   "cell_type": "code",
   "execution_count": null,
   "metadata": {},
   "outputs": [],
   "source": [
    "# Taking a look at the Binary Cluster vs Default Settings cluster Observer's HR Diagram\n",
    "# Remember to use a distance modulus!\n",
    "import matplotlib.pyplot as plt\n",
    "plt.plot(clus_1.star_systems['m_ubv_B']-clus_1.star_systems[\"m_ubv_V\"], clus_1.star_systems[\"m_ubv_V\"]-5*np.log10(100), \"r.\",label=\"BPASS isochrone\")\n",
    "plt.plot(clus_2.star_systems['m_ubv_B']-clus_2.star_systems[\"m_ubv_V\"], clus_2.star_systems[\"m_ubv_V\"]-5*np.log10(100), \"b+\", label=\"MISTv1\", alpha=0.1)\n",
    "plt.xlabel(\"B-V\")\n",
    "plt.ylabel(\"M_V\")\n",
    "plt.title(\"Color magnitude Diagram of clusters at solar metallicity and 10**7.5 years of age\")\n",
    "plt.gca().invert_yaxis()\n",
    "plt.legend()"
   ]
  },
  {
   "cell_type": "code",
   "execution_count": null,
   "metadata": {},
   "outputs": [],
   "source": [
    "import matplotlib.pyplot as plt\n",
    "plt.plot(np.log10(clus_1.companions['Teff']), np.log10(clus_1.companions[\"L\"]), \"r.\",label=\"BPASS isochrone\", alpha=0.5)\n",
    "plt.plot(np.log10(clus_2.companions['Teff']), np.log10(clus_2.companions[\"L\"]), \"b+\", alpha=0.15)\n",
    "plt.plot(np.log10(clus_1.star_systems['Teff']), np.log10(clus_1.star_systems[\"L\"]), \"r.\",label=\"BPASS isochrone\", alpha=0.5)\n",
    "plt.plot(np.log10(clus_2.star_systems['Teff']), np.log10(clus_2.star_systems[\"L\"]), \"b+\", label=\"MISTv1\", alpha=0.15)\n",
    "plt.xlabel(\"log(T in kelvin)\")\n",
    "plt.ylabel(\"log(L in watts)\")\n",
    "plt.title(\"Color magnitude Diagram of clusters at solar metallicity and 10**7.5 years age\")\n",
    "plt.gca().invert_xaxis()\n",
    "plt.legend()"
   ]
  },
  {
   "cell_type": "markdown",
   "metadata": {},
   "source": [
    "Looking at which stars are the white dwarves?"
   ]
  },
  {
   "cell_type": "code",
   "execution_count": null,
   "metadata": {},
   "outputs": [],
   "source": [
    "import numpy as np\n",
    "np.where(clus_1.star_systems['phase']==101.0)[0]"
   ]
  },
  {
   "cell_type": "markdown",
   "metadata": {},
   "source": [
    "Black Holes?"
   ]
  },
  {
   "cell_type": "code",
   "execution_count": null,
   "metadata": {},
   "outputs": [],
   "source": [
    "np.where(clus_1.star_systems['phase']==103.0)[0]"
   ]
  },
  {
   "cell_type": "markdown",
   "metadata": {},
   "source": [
    "Do I see any neutron stars?"
   ]
  },
  {
   "cell_type": "code",
   "execution_count": null,
   "metadata": {},
   "outputs": [],
   "source": [
    "np.where(clus_1.star_systems['phase']==102.0)[0]"
   ]
  },
  {
   "cell_type": "markdown",
   "metadata": {},
   "source": [
    "Making sure that I am getting enough star mass for each cluster. (2000 solar masses was the goal)"
   ]
  },
  {
   "cell_type": "code",
   "execution_count": null,
   "metadata": {},
   "outputs": [],
   "source": [
    "clus_1.star_systems['systemMass'].sum()"
   ]
  },
  {
   "cell_type": "code",
   "execution_count": null,
   "metadata": {},
   "outputs": [],
   "source": [
    "clus_2.star_systems['systemMass'].sum()"
   ]
  },
  {
   "cell_type": "markdown",
   "metadata": {},
   "source": [
    "I want to see what the raw BPASS models say with regards to the color magnitude diagram for my secondaries. BPASS gives me the secondary star magnitudes. For some reason, I see some sort of shift of the overall trend. Also no vertical lines."
   ]
  },
  {
   "cell_type": "markdown",
   "metadata": {},
   "source": []
  }
 ],
 "metadata": {
  "kernelspec": {
   "display_name": "astroconda",
   "language": "python",
   "name": "astroconda"
  },
  "language_info": {
   "codemirror_mode": {
    "name": "ipython",
    "version": 3
   },
   "file_extension": ".py",
   "mimetype": "text/x-python",
   "name": "python",
   "nbconvert_exporter": "python",
   "pygments_lexer": "ipython3",
   "version": "3.7.3"
  }
 },
 "nbformat": 4,
 "nbformat_minor": 2
}
