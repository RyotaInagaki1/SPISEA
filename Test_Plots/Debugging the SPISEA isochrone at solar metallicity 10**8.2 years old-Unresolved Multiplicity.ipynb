{
 "cells": [
  {
   "cell_type": "markdown",
   "metadata": {},
   "source": [
    "## Testing the BPASS isochrone at 10^8.2 years age. (Unresolved Multiplicity (Lu et al. 2013))\n",
    "In this BPASS isochrone and cluster plot, I go over the BPASS isochrone for 1 billion years age, solar metallicity, AKs=0.5, and distance of 2000 parsecs from Earth. From the isochrone and cluster, we discuss several plots such as the log_g frequency distribution of the isochrone, the color magnitude diagram (B-V vs pseudo-M_V), and the mass luminosity relationshi of the cluster. **Note that I say pseudo-M_V as it is the absoulte magnitude but NOT accounting for extinction**\n",
    "\n",
    "Formula for pseudo M_V\n",
    "pseudo-M_V = V - 5$log_{10}$(distance to cluster/(10 pc))\n",
    "\n",
    "Other notes:\n",
    "\n",
    "I have chosen dist to cluster = 2000 pc to further distinguish this notebook from the other 10^8.2 year old isochrone Notebook.\n",
    "**As the title indicates, I have decided to use unresolved multiplicity in my BPASS and MISTv.1 clusters.**"
   ]
  },
  {
   "cell_type": "code",
   "execution_count": 1,
   "metadata": {},
   "outputs": [
    {
     "name": "stderr",
     "output_type": "stream",
     "text": [
      "/opt/anaconda3/envs/astroconda/lib/python3.7/site-packages/pysynphot/locations.py:346: UserWarning: Extinction files not found in /g/lu/models/cdbs/extinction\n",
      "  warnings.warn('Extinction files not found in %s' % (extdir, ))\n",
      "/opt/anaconda3/envs/astroconda/lib/python3.7/site-packages/pysynphot/refs.py:125: UserWarning: No thermal tables found, no thermal calculations can be performed. No files found for /g/lu/models/cdbs/mtab/*_tmt.fits\n",
      "  'no thermal calculations can be performed. ' + str(e))\n",
      "/opt/anaconda3/envs/astroconda/lib/python3.7/site-packages/astropy/units/quantity.py:477: RuntimeWarning: invalid value encountered in true_divide\n",
      "  result = super().__array_ufunc__(function, method, *arrays, **kwargs)\n",
      "/u/ryotainagaki/Desktop/PyPopStar/spisea/evolution.py:1792: RuntimeWarning: overflow encountered in power\n",
      "  (1 / cs.au) * un.m)\n",
      "/opt/anaconda3/envs/astroconda/lib/python3.7/site-packages/astropy/table/column.py:1020: RuntimeWarning: invalid value encountered in greater\n",
      "  result = getattr(super(), op)(other)\n",
      "/opt/anaconda3/envs/astroconda/lib/python3.7/site-packages/astropy/table/column.py:1020: RuntimeWarning: invalid value encountered in less_equal\n",
      "  result = getattr(super(), op)(other)\n",
      "/opt/anaconda3/envs/astroconda/lib/python3.7/site-packages/astropy/units/quantity.py:477: RuntimeWarning: divide by zero encountered in true_divide\n",
      "  result = super().__array_ufunc__(function, method, *arrays, **kwargs)\n"
     ]
    },
    {
     "name": "stdout",
     "output_type": "stream",
     "text": [
      "Changing to T= 50000 for T= 52330 logg=8.47\n",
      "Changing to logg=5.00 for T= 52330 logg=8.47\n",
      "Changing to logg=5.00 for T= 44758 logg=8.49\n",
      "Changing to logg=5.00 for T= 36146 logg=8.54\n",
      "Changing to logg=5.00 for T= 38774 logg=8.52\n",
      "Changing to logg=5.00 for T= 38361 logg=8.50\n",
      "Changing to T= 50000 for T= 73161 logg=8.45\n",
      "Changing to logg=5.00 for T= 73161 logg=8.45\n",
      "Changing to logg=5.00 for T= 37966 logg=5.70\n",
      "Changing to logg=5.00 for T= 39842 logg=5.51\n",
      "Changing to logg=5.00 for T= 32888 logg=5.68\n",
      "Changing to logg=5.00 for T= 45669 logg=8.52\n",
      "Changing to logg=5.00 for T= 35701 logg=8.52\n",
      "Changing to logg=5.00 for T= 37547 logg=5.70\n",
      "Changing to logg=5.00 for T= 45668 logg=8.52\n",
      "Changing to logg=5.00 for T= 38750 logg=8.52\n",
      "Changing to logg=5.00 for T= 38750 logg=8.52\n",
      "Changing to logg=5.00 for T= 42302 logg=8.53\n",
      "Changing to logg=5.00 for T= 38974 logg=5.38\n",
      "Changing to logg=5.00 for T= 38750 logg=8.52\n",
      "Changing to logg=5.00 for T= 38750 logg=8.52\n",
      "Changing to logg=5.00 for T= 38750 logg=8.52\n",
      "Changing to logg=5.00 for T= 35701 logg=8.52\n",
      "Changing to logg=5.00 for T= 39110 logg=5.45\n",
      "Changing to logg=5.00 for T= 38030 logg=5.34\n",
      "Changing to logg=5.00 for T= 35710 logg=8.52\n",
      "Changing to logg=5.00 for T= 39081 logg=5.47\n",
      "Changing to logg=5.00 for T= 38750 logg=8.52\n",
      "Changing to logg=5.00 for T= 38681 logg=5.49\n",
      "Changing to logg=5.00 for T= 39333 logg=5.52\n",
      "Changing to logg=5.00 for T= 37796 logg=5.52\n",
      "Changing to logg=5.00 for T= 39001 logg=5.46\n",
      "Changing to logg=5.00 for T= 38750 logg=8.52\n",
      "Changing to logg=5.00 for T= 39098 logg=5.41\n",
      "Changing to logg=5.00 for T= 39018 logg=5.53\n",
      "Changing to logg=5.00 for T= 45668 logg=8.52\n",
      "Changing to logg=5.00 for T= 34722 logg=5.55\n",
      "Changing to logg=5.00 for T= 38750 logg=8.52\n",
      "Changing to logg=5.00 for T= 38750 logg=8.52\n",
      "Changing to logg=5.00 for T= 37968 logg=5.42\n",
      "Changing to logg=5.00 for T= 39042 logg=5.41\n",
      "Changing to logg=5.00 for T= 39090 logg=5.47\n",
      "Changing to logg=5.00 for T= 47516 logg=9.02\n",
      "Changing to logg=5.00 for T= 38778 logg=5.38\n",
      "Changing to logg=5.00 for T= 43455 logg=8.58\n",
      "Changing to logg=5.00 for T= 38810 logg=5.36\n",
      "Changing to logg=5.00 for T= 38750 logg=8.52\n",
      "Changing to logg=5.00 for T= 32931 logg=5.73\n",
      "Changing to logg=5.00 for T= 38750 logg=8.52\n",
      "Changing to logg=5.00 for T= 38750 logg=8.52\n",
      "Changing to logg=5.00 for T= 38008 logg=5.41\n",
      "Changing to logg=5.00 for T= 42300 logg=8.53\n",
      "Changing to logg=5.00 for T= 38543 logg=5.67\n",
      "Changing to logg=5.00 for T= 35665 logg=8.52\n",
      "Changing to logg=5.00 for T= 38216 logg=5.28\n",
      "Changing to logg=5.00 for T= 35040 logg=8.49\n",
      "Changing to logg=5.00 for T= 38912 logg=5.40\n",
      "Changing to logg=5.00 for T= 42300 logg=8.53\n",
      "Changing to logg=5.00 for T= 42302 logg=8.53\n",
      "Changing to logg=5.00 for T= 38750 logg=8.52\n",
      "Changing to logg=5.00 for T= 35759 logg=5.48\n",
      "Changing to logg=5.00 for T= 35776 logg=8.52\n",
      "Changing to logg=5.00 for T= 38750 logg=8.52\n",
      "Changing to logg=5.00 for T= 43455 logg=8.58\n",
      "Changing to logg=5.00 for T= 37645 logg=8.47\n",
      "Changing to logg=5.00 for T= 37474 logg=5.67\n",
      "Changing to logg=5.00 for T= 38750 logg=8.52\n",
      "Changing to logg=5.00 for T= 42302 logg=8.53\n",
      "Changing to logg=5.00 for T= 38938 logg=5.41\n",
      "Changing to logg=5.00 for T= 42302 logg=8.53\n",
      "Changing to logg=5.00 for T= 38864 logg=5.34\n",
      "Changing to logg=5.00 for T= 38164 logg=5.31\n",
      "Changing to logg=5.00 for T= 38750 logg=8.52\n",
      "Changing to logg=5.00 for T= 39126 logg=5.42\n",
      "Changing to logg=5.00 for T= 38750 logg=8.52\n",
      "Changing to logg=5.00 for T= 45739 logg=8.21\n",
      "Changing to logg=5.00 for T= 42302 logg=8.53\n",
      "Changing to logg=5.00 for T= 35706 logg=8.52\n",
      "Changing to logg=5.00 for T= 38268 logg=5.57\n",
      "Changing to logg=5.00 for T= 38750 logg=8.52\n",
      "Changing to logg=5.00 for T= 42300 logg=8.53\n",
      "Changing to logg=5.00 for T= 35714 logg=8.52\n",
      "Changing to logg=5.00 for T= 38750 logg=8.52\n",
      "Changing to logg=5.00 for T= 35715 logg=8.52\n",
      "Changing to logg=4.50 for T= 39634 logg=4.15\n",
      "Changing to logg=5.00 for T= 40536 logg=5.52\n",
      "Changing to logg=5.00 for T= 34113 logg=5.11\n",
      "Changing to logg=5.00 for T= 38750 logg=8.52\n",
      "Changing to logg=5.00 for T= 40751 logg=8.18\n",
      "Changing to logg=5.00 for T= 42300 logg=8.53\n",
      "Changing to logg=5.00 for T= 43455 logg=8.58\n",
      "Changing to logg=5.00 for T= 38868 logg=5.45\n",
      "Changing to logg=5.00 for T= 35519 logg=8.51\n",
      "Changing to logg=5.00 for T= 39136 logg=5.47\n",
      "Changing to logg=5.00 for T= 39036 logg=5.38\n",
      "Changing to logg=5.00 for T= 38750 logg=8.52\n",
      "Changing to logg=5.00 for T= 38750 logg=8.52\n",
      "Changing to logg=5.00 for T= 33207 logg=5.01\n",
      "Changing to logg=5.00 for T= 42302 logg=8.53\n",
      "Changing to logg=5.00 for T= 38863 logg=5.61\n",
      "Changing to logg=5.00 for T= 38750 logg=8.52\n",
      "Changing to logg=5.00 for T= 45954 logg=8.68\n",
      "Changing to logg=5.00 for T= 45668 logg=8.52\n",
      "Changing to logg=5.00 for T= 38886 logg=5.50\n",
      "Changing to logg=5.00 for T= 39074 logg=5.38\n",
      "Changing to logg=5.00 for T= 42300 logg=8.53\n",
      "Changing to logg=5.00 for T= 38499 logg=5.32\n",
      "Changing to logg=5.00 for T= 42302 logg=8.53\n",
      "Changing to logg=5.00 for T= 39105 logg=5.40\n",
      "Changing to logg=5.00 for T= 38901 logg=5.40\n",
      "Changing to logg=5.00 for T= 38260 logg=5.41\n",
      "Changing to logg=5.00 for T= 42302 logg=8.53\n",
      "Changing to logg=5.00 for T= 38820 logg=5.38\n",
      "Changing to logg=5.00 for T= 39086 logg=5.37\n",
      "Changing to logg=5.00 for T= 45668 logg=8.52\n",
      "Changing to logg=5.00 for T= 38750 logg=8.52\n",
      "Changing to logg=5.00 for T= 38750 logg=8.52\n",
      "Changing to logg=5.00 for T= 42302 logg=8.53\n",
      "Changing to logg=5.00 for T= 38750 logg=8.52\n",
      "Changing to logg=5.00 for T= 38750 logg=8.52\n",
      "Changing to logg=5.00 for T= 37638 logg=5.66\n",
      "Changing to logg=5.00 for T= 42302 logg=8.53\n",
      "Changing to logg=5.00 for T= 45669 logg=8.52\n",
      "Changing to logg=5.00 for T= 35706 logg=5.17\n",
      "Changing to logg=5.00 for T= 41390 logg=5.50\n",
      "Changing to logg=5.00 for T= 39027 logg=5.57\n",
      "Changing to logg=5.00 for T= 40930 logg=5.50\n",
      "Changing to logg=5.00 for T= 31378 logg=8.25\n",
      "Changing to logg=5.00 for T= 35709 logg=8.52\n",
      "Changing to logg=5.00 for T= 39059 logg=5.38\n",
      "Changing to T= 50000 for T= 52469 logg=8.18\n",
      "Changing to logg=5.00 for T= 52469 logg=8.18\n",
      "Changing to logg=5.00 for T= 39097 logg=5.40\n",
      "Changing to logg=5.00 for T= 40327 logg=8.45\n",
      "Changing to logg=5.00 for T= 45668 logg=8.52\n",
      "Changing to logg=5.00 for T= 43455 logg=8.58\n",
      "Changing to logg=5.00 for T= 38866 logg=5.46\n",
      "Changing to logg=5.00 for T= 45668 logg=8.52\n",
      "Changing to logg=5.00 for T= 38750 logg=8.52\n",
      "Changing to logg=5.00 for T= 33157 logg=5.77\n",
      "Changing to logg=5.00 for T= 38750 logg=8.52\n",
      "Changing to logg=5.00 for T= 37690 logg=5.71\n",
      "Changing to logg=5.00 for T= 38205 logg=5.40\n",
      "Changing to logg=5.00 for T= 39156 logg=5.49\n",
      "Changing to logg=5.00 for T= 45669 logg=8.52\n",
      "Changing to logg=5.00 for T= 35714 logg=8.52\n",
      "Changing to logg=5.00 for T= 35722 logg=8.52\n",
      "Changing to logg=5.00 for T= 37950 logg=5.39\n",
      "Changing to logg=5.00 for T= 37640 logg=8.47\n",
      "Changing to logg=5.00 for T= 35929 logg=8.18\n",
      "Changing to logg=5.00 for T= 39474 logg=5.51\n",
      "Changing to logg=5.00 for T= 38750 logg=8.52\n",
      "Changing to logg=5.00 for T= 38750 logg=8.52\n",
      "Changing to logg=5.00 for T= 38750 logg=8.52\n",
      "Changing to logg=5.00 for T= 45669 logg=8.52\n",
      "Changing to logg=5.00 for T= 38945 logg=5.49\n",
      "Changing to logg=5.00 for T= 42302 logg=8.53\n",
      "Changing to logg=5.00 for T= 43455 logg=8.58\n",
      "Changing to logg=5.00 for T= 45668 logg=8.52\n",
      "Changing to logg=5.00 for T= 38750 logg=8.52\n",
      "Changing to logg=5.00 for T= 45668 logg=8.52\n",
      "Changing to logg=5.00 for T= 38750 logg=8.52\n",
      "Changing to logg=5.00 for T= 45668 logg=8.52\n",
      "Changing to logg=5.00 for T= 34757 logg=5.54\n",
      "Changing to logg=5.00 for T= 35710 logg=8.52\n",
      "Changing to logg=5.00 for T= 33652 logg=5.61\n",
      "Changing to logg=5.00 for T= 38750 logg=8.52\n",
      "Changing to logg=5.00 for T= 38750 logg=8.52\n",
      "Changing to logg=5.00 for T= 35715 logg=8.52\n",
      "Changing to logg=5.00 for T= 47227 logg=8.14\n",
      "Changing to logg=5.00 for T= 38030 logg=5.41\n",
      "Changing to logg=5.00 for T= 38796 logg=5.38\n",
      "Changing to logg=5.00 for T= 38530 logg=5.55\n",
      "Changing to logg=5.00 for T= 38750 logg=8.52\n",
      "Changing to logg=5.00 for T= 38942 logg=5.43\n",
      "Changing to logg=5.00 for T= 45668 logg=8.52\n",
      "Changing to logg=5.00 for T= 45668 logg=8.52\n",
      "Changing to logg=5.00 for T= 45668 logg=8.52\n",
      "Changing to logg=5.00 for T= 38750 logg=8.52\n",
      "Changing to logg=5.00 for T= 34986 logg=5.58\n",
      "Changing to logg=5.00 for T= 33657 logg=5.67\n",
      "Changing to logg=5.00 for T= 38750 logg=8.52\n",
      "Changing to logg=5.00 for T= 42302 logg=8.53\n"
     ]
    },
    {
     "name": "stdout",
     "output_type": "stream",
     "text": [
      "Changing to logg=5.00 for T= 45669 logg=8.52\n",
      "Changing to logg=5.00 for T= 39010 logg=5.57\n",
      "Changing to logg=5.00 for T= 38750 logg=8.52\n",
      "Changing to logg=5.00 for T= 42302 logg=8.53\n",
      "Changing to logg=5.00 for T= 38062 logg=5.44\n",
      "Changing to logg=5.00 for T= 35708 logg=8.52\n",
      "Changing to logg=5.00 for T= 38750 logg=8.52\n",
      "Changing to logg=5.00 for T= 38751 logg=8.52\n",
      "Changing to logg=5.00 for T= 38750 logg=8.52\n",
      "Changing to logg=5.00 for T= 45668 logg=8.52\n",
      "Changing to logg=5.00 for T= 38924 logg=5.38\n",
      "Changing to logg=5.00 for T= 38750 logg=8.52\n",
      "Changing to logg=5.00 for T= 42302 logg=8.53\n",
      "Changing to T= 50000 for T= 55186 logg=8.12\n",
      "Changing to logg=5.00 for T= 55186 logg=8.12\n",
      "Changing to logg=5.00 for T= 38750 logg=8.52\n",
      "Changing to logg=5.00 for T= 45668 logg=8.52\n",
      "Changing to logg=5.00 for T= 41051 logg=8.91\n",
      "Changing to logg=5.00 for T= 38968 logg=5.47\n",
      "Changing to logg=5.00 for T= 38751 logg=8.52\n",
      "Changing to logg=5.00 for T= 35722 logg=8.52\n",
      "Changing to logg=5.00 for T= 34428 logg=5.62\n",
      "Changing to logg=5.00 for T= 42302 logg=8.53\n",
      "Changing to logg=5.00 for T= 37422 logg=5.67\n",
      "Changing to logg=5.00 for T= 34980 logg=5.56\n",
      "Changing to logg=5.00 for T= 34191 logg=8.16\n",
      "Changing to logg=5.00 for T= 45668 logg=8.52\n",
      "Changing to logg=5.00 for T= 37820 logg=5.74\n",
      "Changing to logg=5.00 for T= 38913 logg=5.59\n",
      "Changing to logg=5.00 for T= 38797 logg=5.34\n",
      "Changing to logg=5.00 for T= 35649 logg=8.52\n",
      "Changing to logg=5.00 for T= 38750 logg=8.52\n",
      "Changing to logg=5.00 for T= 35392 logg=8.22\n",
      "Changing to logg=5.00 for T= 35709 logg=8.52\n",
      "Changing to logg=5.00 for T= 37225 logg=5.46\n",
      "Changing to logg=5.00 for T= 38747 logg=5.38\n",
      "Changing to logg=5.00 for T= 42302 logg=8.53\n",
      "Changing to logg=5.00 for T= 39121 logg=5.40\n",
      "Changing to logg=5.00 for T= 45668 logg=8.52\n",
      "Changing to logg=5.00 for T= 37138 logg=5.69\n",
      "Changing to logg=5.00 for T= 35041 logg=8.49\n",
      "Changing to logg=5.00 for T= 35098 logg=8.49\n",
      "Changing to logg=5.00 for T= 38377 logg=5.39\n",
      "Changing to logg=5.00 for T= 39010 logg=5.64\n",
      "Changing to logg=5.00 for T= 39290 logg=5.53\n",
      "Changing to logg=5.00 for T= 37889 logg=5.54\n",
      "Changing to logg=5.00 for T= 35040 logg=8.49\n",
      "Changing to logg=5.00 for T= 35040 logg=8.49\n",
      "Changing to logg=5.00 for T= 35040 logg=8.49\n",
      "Changing to logg=0.00 for T=  3317 logg=-0.19\n",
      "Changing to logg=5.00 for T= 34340 logg=5.63\n",
      "Changing to logg=5.00 for T= 35040 logg=8.49\n",
      "Changing to logg=5.00 for T= 35040 logg=8.49\n",
      "Changing to logg=5.00 for T= 39098 logg=5.57\n",
      "Changing to logg=0.00 for T=  3317 logg=-0.19\n",
      "Changing to logg=5.00 for T= 44961 logg=8.20\n",
      "Changing to logg=5.00 for T= 37700 logg=5.76\n",
      "Changing to logg=5.00 for T= 35041 logg=8.49\n",
      "Changing to T= 50000 for T= 80369 logg=8.32\n",
      "Changing to logg=5.00 for T= 80369 logg=8.32\n",
      "Changing to T= 50000 for T=196662 logg=7.28\n",
      "Changing to logg=5.00 for T=196662 logg=7.28\n",
      "Changing to logg=5.00 for T= 39296 logg=5.53\n",
      "Changing to logg=5.00 for T= 33848 logg=5.68\n",
      "Changing to logg=5.00 for T= 42994 logg=5.57\n",
      "Changing to logg=5.00 for T= 37933 logg=5.39\n",
      "Changing to logg=5.00 for T= 34437 logg=5.46\n",
      "Changing to logg=5.00 for T= 35040 logg=8.49\n",
      "Changing to logg=5.00 for T= 42289 logg=5.55\n",
      "Changing to logg=5.00 for T= 37723 logg=5.77\n",
      "Changing to logg=5.00 for T= 35040 logg=8.49\n",
      "Changing to logg=5.00 for T= 31631 logg=5.78\n",
      "Changing to logg=5.00 for T= 35046 logg=8.49\n",
      "Changing to logg=5.00 for T= 35040 logg=8.49\n",
      "Changing to logg=5.00 for T= 35040 logg=8.49\n",
      "Changing to logg=5.00 for T= 35040 logg=8.49\n",
      "Changing to logg=5.00 for T= 35040 logg=8.49\n",
      "Changing to logg=5.00 for T= 39033 logg=5.45\n",
      "Changing to logg=5.00 for T= 35123 logg=8.49\n",
      "Changing to logg=5.00 for T= 35233 logg=8.21\n",
      "Changing to logg=5.00 for T= 39162 logg=5.48\n",
      "Changing to T= 50000 for T= 91531 logg=8.30\n",
      "Changing to logg=5.00 for T= 91531 logg=8.30\n",
      "Changing to logg=5.00 for T= 35040 logg=8.49\n",
      "Changing to logg=5.00 for T= 35040 logg=8.49\n",
      "Changing to logg=5.00 for T= 35040 logg=8.49\n",
      "Changing to logg=5.00 for T= 44686 logg=8.19\n",
      "Changing to T= 50000 for T=172024 logg=7.24\n",
      "Changing to logg=5.00 for T=172024 logg=7.24\n",
      "Changing to logg=5.00 for T= 35040 logg=8.49\n",
      "Changing to logg=5.00 for T= 38002 logg=5.45\n",
      "Changing to logg=5.00 for T= 38718 logg=5.32\n",
      "Changing to logg=5.00 for T= 35041 logg=8.49\n",
      "Changing to logg=5.00 for T= 35040 logg=8.49\n",
      "Changing to logg=5.00 for T= 37054 logg=5.15\n",
      "Changing to logg=5.00 for T= 34271 logg=5.61\n",
      "Changing to logg=5.00 for T= 35040 logg=8.49\n",
      "Changing to logg=5.00 for T= 35040 logg=8.49\n",
      "Changing to logg=5.00 for T= 35040 logg=8.49\n",
      "Changing to logg=5.00 for T= 31499 logg=8.21\n",
      "Changing to logg=5.00 for T= 39297 logg=5.50\n",
      "Changing to logg=5.00 for T= 35040 logg=8.49\n",
      "Changing to logg=5.00 for T= 35040 logg=8.49\n",
      "Changing to logg=5.00 for T= 39015 logg=5.63\n",
      "Changing to logg=5.00 for T= 35041 logg=8.49\n",
      "Changing to logg=5.00 for T= 39282 logg=5.39\n",
      "Changing to T= 50000 for T=122659 logg=7.98\n",
      "Changing to logg=5.00 for T=122659 logg=7.98\n",
      "Changing to logg=5.00 for T= 39152 logg=5.49\n",
      "Changing to logg=5.00 for T= 35040 logg=8.49\n",
      "Changing to logg=5.00 for T= 38506 logg=5.66\n",
      "Changing to logg=5.00 for T= 39300 logg=5.53\n",
      "Changing to logg=5.00 for T= 35040 logg=8.49\n",
      "Changing to T= 50000 for T= 53154 logg=8.20\n",
      "Changing to logg=5.00 for T= 53154 logg=8.20\n",
      "Changing to T= 50000 for T= 90298 logg=8.31\n",
      "Changing to logg=5.00 for T= 90298 logg=8.31\n",
      "Changing to logg=5.00 for T= 35044 logg=8.49\n",
      "Changing to logg=5.00 for T= 34450 logg=5.60\n",
      "Changing to logg=5.00 for T= 35040 logg=8.49\n",
      "Changing to logg=5.00 for T= 35040 logg=8.49\n",
      "Changing to logg=5.00 for T= 35047 logg=8.49\n",
      "Changing to logg=5.00 for T= 36175 logg=5.49\n",
      "Changing to logg=5.00 for T= 39339 logg=5.50\n",
      "Changing to logg=5.00 for T= 35040 logg=8.49\n",
      "Changing to logg=5.00 for T= 35065 logg=8.49\n",
      "Changing to logg=5.00 for T= 35040 logg=8.49\n",
      "Changing to logg=5.00 for T= 35040 logg=8.49\n",
      "Changing to logg=5.00 for T= 37969 logg=5.40\n",
      "Changing to logg=5.00 for T= 38323 logg=5.43\n",
      "Changing to logg=5.00 for T= 38497 logg=5.67\n",
      "Changing to logg=5.00 for T= 35161 logg=8.49\n",
      "Changing to logg=5.00 for T= 37720 logg=5.76\n",
      "Changing to logg=5.00 for T= 35042 logg=8.49\n",
      "Changing to logg=5.00 for T= 39061 logg=5.47\n",
      "Changing to logg=5.00 for T= 39115 logg=5.45\n",
      "Changing to logg=5.00 for T= 27868 logg=6.18\n",
      "Changing to T= 50000 for T=197624 logg=7.27\n",
      "Changing to logg=5.00 for T=197624 logg=7.27\n",
      "Changing to logg=5.00 for T= 39260 logg=5.51\n",
      "Changing to logg=5.00 for T= 35040 logg=8.49\n",
      "Changing to T= 50000 for T=170279 logg=7.23\n",
      "Changing to logg=5.00 for T=170279 logg=7.23\n",
      "Changing to logg=5.00 for T= 39090 logg=5.45\n",
      "Changing to logg=5.00 for T= 35040 logg=8.49\n",
      "Changing to logg=5.00 for T= 35040 logg=8.49\n",
      "Changing to logg=5.00 for T= 35040 logg=8.49\n",
      "Changing to logg=5.00 for T= 35040 logg=8.49\n",
      "Changing to logg=5.00 for T= 35040 logg=8.49\n",
      "Changing to logg=0.00 for T=  3294 logg=-0.23\n",
      "Changing to logg=5.00 for T= 38348 logg=5.37\n",
      "Changing to logg=5.00 for T= 35040 logg=8.49\n",
      "Changing to logg=0.00 for T=  3317 logg=-0.19\n",
      "Changing to logg=5.00 for T= 37267 logg=5.48\n",
      "Changing to T= 50000 for T= 81089 logg=8.14\n",
      "Changing to logg=5.00 for T= 81089 logg=8.14\n",
      "Changing to logg=5.00 for T= 36208 logg=8.26\n",
      "Changing to logg=5.00 for T= 35040 logg=8.49\n",
      "Changing to logg=5.00 for T= 39215 logg=5.43\n",
      "Changing to logg=5.00 for T= 35040 logg=8.49\n",
      "Changing to logg=5.00 for T= 38042 logg=5.48\n",
      "Changing to logg=5.00 for T= 39003 logg=5.46\n",
      "Changing to logg=0.00 for T=  3317 logg=-0.19\n",
      "Changing to logg=5.00 for T= 35040 logg=8.49\n",
      "Changing to logg=5.00 for T= 39019 logg=5.46\n",
      "Changing to T= 50000 for T= 85704 logg=8.31\n",
      "Changing to logg=5.00 for T= 85704 logg=8.31\n",
      "Changing to logg=5.00 for T= 35040 logg=8.49\n",
      "Changing to logg=5.00 for T= 38521 logg=5.66\n",
      "Changing to logg=5.00 for T= 35040 logg=8.49\n",
      "Changing to logg=5.00 for T= 27144 logg=6.25\n",
      "Changing to T= 50000 for T= 52576 logg=8.18\n",
      "Changing to logg=5.00 for T= 52576 logg=8.18\n",
      "Changing to logg=5.00 for T= 35040 logg=8.49\n",
      "Changing to logg=5.00 for T= 39184 logg=5.47\n",
      "Changing to logg=0.00 for T=  3295 logg=-0.23\n",
      "Making photometry for isochrone: log(t) = 8.20  AKs = 0.50  dist = 2000\n",
      "     Starting at:  2021-02-12 12:22:12.078861   Usually takes ~5 minutes\n",
      "Starting filter: ubv,U   Elapsed time: 0.00 seconds\n",
      "Starting synthetic photometry\n",
      "Singles\n",
      "M =   1.240 Msun  T =  6225 K  m_ubv_U = 24.07\n"
     ]
    },
    {
     "name": "stdout",
     "output_type": "stream",
     "text": [
      "Primaries\n",
      "M =   5.500 Msun  T = 27287 K  m_ubv_U = 29.31\n",
      "M =   3.500 Msun  T = 11697 K  m_ubv_U = 18.66\n",
      "M =   0.251 Msun  T =   nan K  m_ubv_U =  nan\n",
      "M =   0.631 Msun  T =   nan K  m_ubv_U =  nan\n",
      "M =   3.200 Msun  T = 12177 K  m_ubv_U = 18.37\n",
      "M =   0.501 Msun  T =   nan K  m_ubv_U =  nan\n",
      "M =   2.500 Msun  T = 10121 K  m_ubv_U = 20.40\n",
      "M =   6.500 Msun  T = 33471 K  m_ubv_U = 29.75\n",
      "M =   0.794 Msun  T =   nan K  m_ubv_U =  nan\n",
      "M =   2.700 Msun  T = 10526 K  m_ubv_U = 20.02\n",
      "M =   4.500 Msun  T =  4524 K  m_ubv_U = 19.73\n",
      "M =   2.500 Msun  T = 10121 K  m_ubv_U = 20.40\n",
      "M =   1.900 Msun  T = 11910 K  m_ubv_U = 18.55\n",
      "M =   5.000 Msun  T = 38750 K  m_ubv_U = 28.46\n",
      "M =   5.500 Msun  T = 27180 K  m_ubv_U = 29.25\n",
      "M =   3.500 Msun  T = 12112 K  m_ubv_U = 18.81\n",
      "M =   5.000 Msun  T = 38750 K  m_ubv_U = 28.46\n",
      "M =   2.500 Msun  T = 10121 K  m_ubv_U = 20.40\n",
      "M =   2.500 Msun  T = 10121 K  m_ubv_U = 20.40\n",
      "M =   3.500 Msun  T = 12112 K  m_ubv_U = 18.81\n",
      "M =   4.000 Msun  T = 11805 K  m_ubv_U = 17.90\n",
      "M =   3.000 Msun  T = 11287 K  m_ubv_U = 19.55\n",
      "M =   1.259 Msun  T =   nan K  m_ubv_U =  nan\n",
      "M =   1.400 Msun  T =   nan K  m_ubv_U =  nan\n",
      "M =   2.500 Msun  T = 10121 K  m_ubv_U = 20.40\n",
      "M =   3.200 Msun  T = 11657 K  m_ubv_U = 19.26\n",
      "M =   2.500 Msun  T = 10121 K  m_ubv_U = 20.40\n",
      "M =   7.000 Msun  T = 39833 K  m_ubv_U = 30.10\n",
      "Secondaries\n",
      "M =   1.650 Msun  T =  7676 K  m_ubv_U = 22.35\n",
      "M =   2.800 Msun  T = 11666 K  m_ubv_U = 19.85\n",
      "M =   2.700 Msun  T = 10543 K  m_ubv_U = 20.02\n",
      "M =   3.700 Msun  T = 12011 K  m_ubv_U = 18.44\n",
      "M =   0.320 Msun  T =   nan K  m_ubv_U =  nan\n",
      "M =   3.500 Msun  T = 11878 K  m_ubv_U = 18.75\n",
      "M =   1.000 Msun  T =  5597 K  m_ubv_U = 25.67\n",
      "M =   1.300 Msun  T =  6389 K  m_ubv_U = 23.78\n",
      "M =   3.700 Msun  T = 12011 K  m_ubv_U = 18.44\n",
      "M =   2.430 Msun  T = 10595 K  m_ubv_U = 20.50\n",
      "M =   2.250 Msun  T =  9999 K  m_ubv_U = 20.85\n",
      "M =   1.000 Msun  T =  5597 K  m_ubv_U = 25.67\n",
      "M =   1.710 Msun  T =   nan K  m_ubv_U =  nan\n",
      "M =   3.000 Msun  T = 12309 K  m_ubv_U = 19.64\n",
      "M =   2.200 Msun  T =  9713 K  m_ubv_U = 20.95\n",
      "M =   1.750 Msun  T =  8122 K  m_ubv_U = 22.06\n",
      "M =   1.500 Msun  T =  7076 K  m_ubv_U = 22.88\n",
      "M =   1.750 Msun  T =  8121 K  m_ubv_U = 22.06\n",
      "M =   1.500 Msun  T =  7078 K  m_ubv_U = 22.88\n",
      "M =   2.100 Msun  T =  9470 K  m_ubv_U = 21.17\n",
      "M =   2.400 Msun  T = 10500 K  m_ubv_U = 20.56\n",
      "M =   0.900 Msun  T =  5185 K  m_ubv_U = 26.70\n",
      "M =   5.500 Msun  T = 32499 K  m_ubv_U = 29.17\n",
      "M =   5.500 Msun  T = 26451 K  m_ubv_U = 29.27\n",
      "M =   2.250 Msun  T =  9999 K  m_ubv_U = 20.86\n",
      "M =   2.240 Msun  T =  9965 K  m_ubv_U = 20.88\n",
      "M =   1.750 Msun  T =  8121 K  m_ubv_U = 22.06\n",
      "M =   5.600 Msun  T = 17569 K  m_ubv_U = 17.24\n",
      "Starting filter: ubv,V   Elapsed time: 9.26 seconds\n",
      "Starting synthetic photometry\n",
      "Singles\n",
      "M =   1.240 Msun  T =  6225 K  m_ubv_V = 22.95\n",
      "Primaries\n",
      "M =   5.500 Msun  T = 27287 K  m_ubv_V = 29.98\n",
      "M =   3.500 Msun  T = 11697 K  m_ubv_V = 18.55\n",
      "M =   0.251 Msun  T =   nan K  m_ubv_V =  nan\n",
      "M =   0.631 Msun  T =   nan K  m_ubv_V =  nan\n",
      "M =   3.200 Msun  T = 12177 K  m_ubv_V = 18.32\n",
      "M =   0.501 Msun  T =   nan K  m_ubv_V =  nan\n",
      "M =   2.500 Msun  T = 10121 K  m_ubv_V = 20.00\n",
      "M =   6.500 Msun  T = 33471 K  m_ubv_V = 30.58\n",
      "M =   0.794 Msun  T =   nan K  m_ubv_V =  nan\n",
      "M =   2.700 Msun  T = 10526 K  m_ubv_V = 19.70\n",
      "M =   4.500 Msun  T =  4524 K  m_ubv_V = 16.64\n",
      "M =   2.500 Msun  T = 10121 K  m_ubv_V = 20.00\n",
      "M =   1.900 Msun  T = 11910 K  m_ubv_V = 18.47\n",
      "M =   5.000 Msun  T = 38750 K  m_ubv_V = 29.38\n",
      "M =   5.500 Msun  T = 27180 K  m_ubv_V = 29.91\n",
      "M =   3.500 Msun  T = 12112 K  m_ubv_V = 18.74\n",
      "M =   5.000 Msun  T = 38750 K  m_ubv_V = 29.38\n",
      "M =   2.500 Msun  T = 10121 K  m_ubv_V = 20.00\n",
      "M =   2.500 Msun  T = 10121 K  m_ubv_V = 20.00\n",
      "M =   3.500 Msun  T = 12112 K  m_ubv_V = 18.74\n",
      "M =   4.000 Msun  T = 11805 K  m_ubv_V = 17.82\n",
      "M =   3.000 Msun  T = 11287 K  m_ubv_V = 19.35\n",
      "M =   1.259 Msun  T =   nan K  m_ubv_V =  nan\n",
      "M =   1.400 Msun  T =   nan K  m_ubv_V =  nan\n",
      "M =   2.500 Msun  T = 10121 K  m_ubv_V = 20.00\n",
      "M =   3.200 Msun  T = 11657 K  m_ubv_V = 19.13\n",
      "M =   2.500 Msun  T = 10121 K  m_ubv_V = 20.00\n",
      "M =   7.000 Msun  T = 39833 K  m_ubv_V = 31.00\n",
      "Secondaries\n",
      "M =   1.650 Msun  T =  7676 K  m_ubv_V = 21.55\n",
      "M =   2.800 Msun  T = 11666 K  m_ubv_V = 19.70\n",
      "M =   2.700 Msun  T = 10543 K  m_ubv_V = 19.70\n",
      "M =   3.700 Msun  T = 12011 K  m_ubv_V = 18.37\n",
      "M =   0.320 Msun  T =   nan K  m_ubv_V =  nan\n",
      "M =   3.500 Msun  T = 11878 K  m_ubv_V = 18.65\n",
      "M =   1.000 Msun  T =  5597 K  m_ubv_V = 24.14\n",
      "M =   1.300 Msun  T =  6389 K  m_ubv_V = 22.74\n",
      "M =   3.700 Msun  T = 12011 K  m_ubv_V = 18.37\n",
      "M =   2.430 Msun  T = 10595 K  m_ubv_V = 20.18\n",
      "M =   2.250 Msun  T =  9999 K  m_ubv_V = 20.42\n",
      "M =   1.000 Msun  T =  5597 K  m_ubv_V = 24.14\n",
      "M =   1.710 Msun  T =   nan K  m_ubv_V =  nan\n",
      "M =   3.000 Msun  T = 12309 K  m_ubv_V = 19.57\n",
      "M =   2.200 Msun  T =  9713 K  m_ubv_V = 20.46\n",
      "M =   1.750 Msun  T =  8122 K  m_ubv_V = 21.30\n",
      "M =   1.500 Msun  T =  7076 K  m_ubv_V = 22.01\n",
      "M =   1.750 Msun  T =  8121 K  m_ubv_V = 21.30\n",
      "M =   1.500 Msun  T =  7078 K  m_ubv_V = 22.01\n",
      "M =   2.100 Msun  T =  9470 K  m_ubv_V = 20.64\n",
      "M =   2.400 Msun  T = 10500 K  m_ubv_V = 20.22\n",
      "M =   0.900 Msun  T =  5185 K  m_ubv_V = 24.79\n",
      "M =   5.500 Msun  T = 32499 K  m_ubv_V = 29.98\n",
      "M =   5.500 Msun  T = 26451 K  m_ubv_V = 29.90\n",
      "M =   2.250 Msun  T =  9999 K  m_ubv_V = 20.43\n",
      "M =   2.240 Msun  T =  9965 K  m_ubv_V = 20.44\n",
      "M =   1.750 Msun  T =  8121 K  m_ubv_V = 21.30\n",
      "M =   5.600 Msun  T = 17569 K  m_ubv_V = 17.62\n",
      "Starting filter: ubv,B   Elapsed time: 18.66 seconds\n",
      "Starting synthetic photometry\n",
      "Singles\n",
      "M =   1.240 Msun  T =  6225 K  m_ubv_B = 24.10\n",
      "Primaries\n",
      "M =   5.500 Msun  T = 27287 K  m_ubv_B = 30.30\n",
      "M =   3.500 Msun  T = 11697 K  m_ubv_B = 18.95\n",
      "M =   0.251 Msun  T =   nan K  m_ubv_B =  nan\n",
      "M =   0.631 Msun  T =   nan K  m_ubv_B =  nan\n",
      "M =   3.200 Msun  T = 12177 K  m_ubv_B = 18.71\n",
      "M =   0.501 Msun  T =   nan K  m_ubv_B =  nan\n",
      "M =   2.500 Msun  T = 10121 K  m_ubv_B = 20.48\n",
      "M =   6.500 Msun  T = 33471 K  m_ubv_B = 30.84\n",
      "M =   0.794 Msun  T =   nan K  m_ubv_B =  nan\n",
      "M =   2.700 Msun  T = 10526 K  m_ubv_B = 20.15\n",
      "M =   4.500 Msun  T =  4524 K  m_ubv_B = 18.58\n",
      "M =   2.500 Msun  T = 10121 K  m_ubv_B = 20.48\n",
      "M =   1.900 Msun  T = 11910 K  m_ubv_B = 18.86\n",
      "M =   5.000 Msun  T = 38750 K  m_ubv_B = 29.54\n",
      "M =   5.500 Msun  T = 27180 K  m_ubv_B = 30.23\n",
      "M =   3.500 Msun  T = 12112 K  m_ubv_B = 19.13\n",
      "M =   5.000 Msun  T = 38750 K  m_ubv_B = 29.54\n",
      "M =   2.500 Msun  T = 10121 K  m_ubv_B = 20.48\n",
      "M =   2.500 Msun  T = 10121 K  m_ubv_B = 20.48\n",
      "M =   3.500 Msun  T = 12112 K  m_ubv_B = 19.13\n",
      "M =   4.000 Msun  T = 11805 K  m_ubv_B = 18.21\n",
      "M =   3.000 Msun  T = 11287 K  m_ubv_B = 19.77\n",
      "M =   1.259 Msun  T =   nan K  m_ubv_B =  nan\n",
      "M =   1.400 Msun  T =   nan K  m_ubv_B =  nan\n",
      "M =   2.500 Msun  T = 10121 K  m_ubv_B = 20.48\n",
      "M =   3.200 Msun  T = 11657 K  m_ubv_B = 19.53\n",
      "M =   2.500 Msun  T = 10121 K  m_ubv_B = 20.48\n",
      "M =   7.000 Msun  T = 39833 K  m_ubv_B = 31.22\n",
      "Secondaries\n",
      "M =   1.650 Msun  T =  7676 K  m_ubv_B = 22.35\n",
      "M =   2.800 Msun  T = 11666 K  m_ubv_B = 20.11\n",
      "M =   2.700 Msun  T = 10543 K  m_ubv_B = 20.15\n",
      "M =   3.700 Msun  T = 12011 K  m_ubv_B = 18.76\n",
      "M =   0.320 Msun  T =   nan K  m_ubv_B =  nan\n",
      "M =   3.500 Msun  T = 11878 K  m_ubv_B = 19.05\n",
      "M =   1.000 Msun  T =  5597 K  m_ubv_B = 25.52\n",
      "M =   1.300 Msun  T =  6389 K  m_ubv_B = 23.83\n",
      "M =   3.700 Msun  T = 12011 K  m_ubv_B = 18.76\n",
      "M =   2.430 Msun  T = 10595 K  m_ubv_B = 20.63\n",
      "M =   2.250 Msun  T =  9999 K  m_ubv_B = 20.91\n",
      "M =   1.000 Msun  T =  5597 K  m_ubv_B = 25.52\n",
      "M =   1.710 Msun  T =   nan K  m_ubv_B =  nan\n",
      "M =   3.000 Msun  T = 12309 K  m_ubv_B = 19.97\n",
      "M =   2.200 Msun  T =  9713 K  m_ubv_B = 20.97\n",
      "M =   1.750 Msun  T =  8122 K  m_ubv_B = 22.02\n",
      "M =   1.500 Msun  T =  7076 K  m_ubv_B = 22.93\n",
      "M =   1.750 Msun  T =  8121 K  m_ubv_B = 22.02\n",
      "M =   1.500 Msun  T =  7078 K  m_ubv_B = 22.92\n",
      "M =   2.100 Msun  T =  9470 K  m_ubv_B = 21.17\n",
      "M =   2.400 Msun  T = 10500 K  m_ubv_B = 20.68\n",
      "M =   0.900 Msun  T =  5185 K  m_ubv_B = 26.31\n",
      "M =   5.500 Msun  T = 32499 K  m_ubv_B = 30.24\n",
      "M =   5.500 Msun  T = 26451 K  m_ubv_B = 30.23\n",
      "M =   2.250 Msun  T =  9999 K  m_ubv_B = 20.92\n",
      "M =   2.240 Msun  T =  9965 K  m_ubv_B = 20.93\n",
      "M =   1.750 Msun  T =  8121 K  m_ubv_B = 22.02\n",
      "M =   5.600 Msun  T = 17569 K  m_ubv_B = 17.93\n"
     ]
    },
    {
     "name": "stdout",
     "output_type": "stream",
     "text": [
      "Starting filter: ubv,R   Elapsed time: 28.12 seconds\n",
      "Starting synthetic photometry\n",
      "Singles\n",
      "M =   1.240 Msun  T =  6225 K  m_ubv_R = 20.85\n",
      "Primaries\n",
      "M =   5.500 Msun  T = 27287 K  m_ubv_R = 28.33\n",
      "M =   3.500 Msun  T = 11697 K  m_ubv_R = 16.80\n",
      "M =   0.251 Msun  T =   nan K  m_ubv_R =  nan\n",
      "M =   0.631 Msun  T =   nan K  m_ubv_R =  nan\n",
      "M =   3.200 Msun  T = 12177 K  m_ubv_R = 16.57\n",
      "M =   0.501 Msun  T =   nan K  m_ubv_R =  nan\n",
      "M =   2.500 Msun  T = 10121 K  m_ubv_R = 18.23\n",
      "M =   6.500 Msun  T = 33471 K  m_ubv_R = 28.94\n",
      "M =   0.794 Msun  T =   nan K  m_ubv_R =  nan\n",
      "M =   2.700 Msun  T = 10526 K  m_ubv_R = 17.94\n",
      "M =   4.500 Msun  T =  4524 K  m_ubv_R = 14.24\n",
      "M =   2.500 Msun  T = 10121 K  m_ubv_R = 18.23\n",
      "M =   1.900 Msun  T = 11910 K  m_ubv_R = 16.72\n",
      "M =   5.000 Msun  T = 38750 K  m_ubv_R = 27.74\n",
      "M =   5.500 Msun  T = 27180 K  m_ubv_R = 28.26\n",
      "M =   3.500 Msun  T = 12112 K  m_ubv_R = 16.99\n",
      "M =   5.000 Msun  T = 38750 K  m_ubv_R = 27.74\n",
      "M =   2.500 Msun  T = 10121 K  m_ubv_R = 18.23\n",
      "M =   2.500 Msun  T = 10121 K  m_ubv_R = 18.23\n",
      "M =   3.500 Msun  T = 12112 K  m_ubv_R = 16.99\n",
      "M =   4.000 Msun  T = 11805 K  m_ubv_R = 16.06\n",
      "M =   3.000 Msun  T = 11287 K  m_ubv_R = 17.60\n",
      "M =   1.259 Msun  T =   nan K  m_ubv_R =  nan\n",
      "M =   1.400 Msun  T =   nan K  m_ubv_R =  nan\n",
      "M =   2.500 Msun  T = 10121 K  m_ubv_R = 18.23\n",
      "M =   3.200 Msun  T = 11657 K  m_ubv_R = 17.37\n",
      "M =   2.500 Msun  T = 10121 K  m_ubv_R = 18.23\n",
      "M =   7.000 Msun  T = 39833 K  m_ubv_R = 29.36\n",
      "Secondaries\n",
      "M =   1.650 Msun  T =  7676 K  m_ubv_R = 19.62\n",
      "M =   2.800 Msun  T = 11666 K  m_ubv_R = 17.95\n",
      "M =   2.700 Msun  T = 10543 K  m_ubv_R = 17.94\n",
      "M =   3.700 Msun  T = 12011 K  m_ubv_R = 16.62\n",
      "M =   0.320 Msun  T =   nan K  m_ubv_R =  nan\n",
      "M =   3.500 Msun  T = 11878 K  m_ubv_R = 16.90\n",
      "M =   1.000 Msun  T =  5597 K  m_ubv_R = 21.95\n",
      "M =   1.300 Msun  T =  6389 K  m_ubv_R = 20.65\n",
      "M =   3.700 Msun  T = 12011 K  m_ubv_R = 16.62\n",
      "M =   2.430 Msun  T = 10595 K  m_ubv_R = 18.41\n",
      "M =   2.250 Msun  T =  9999 K  m_ubv_R = 18.64\n",
      "M =   1.000 Msun  T =  5597 K  m_ubv_R = 21.95\n",
      "M =   1.710 Msun  T =   nan K  m_ubv_R =  nan\n",
      "M =   3.000 Msun  T = 12309 K  m_ubv_R = 17.83\n",
      "M =   2.200 Msun  T =  9713 K  m_ubv_R = 18.68\n",
      "M =   1.750 Msun  T =  8122 K  m_ubv_R = 19.41\n",
      "M =   1.500 Msun  T =  7076 K  m_ubv_R = 20.01\n",
      "M =   1.750 Msun  T =  8121 K  m_ubv_R = 19.41\n",
      "M =   1.500 Msun  T =  7078 K  m_ubv_R = 20.01\n",
      "M =   2.100 Msun  T =  9470 K  m_ubv_R = 18.84\n",
      "M =   2.400 Msun  T = 10500 K  m_ubv_R = 18.45\n",
      "M =   0.900 Msun  T =  5185 K  m_ubv_R = 22.53\n",
      "M =   5.500 Msun  T = 32499 K  m_ubv_R = 28.34\n",
      "M =   5.500 Msun  T = 26451 K  m_ubv_R = 28.25\n",
      "M =   2.250 Msun  T =  9999 K  m_ubv_R = 18.65\n",
      "M =   2.240 Msun  T =  9965 K  m_ubv_R = 18.66\n",
      "M =   1.750 Msun  T =  8121 K  m_ubv_R = 19.41\n",
      "M =   5.600 Msun  T = 17569 K  m_ubv_R = 15.91\n",
      "Starting filter: ubv,I   Elapsed time: 37.30 seconds\n",
      "Starting synthetic photometry\n",
      "Singles\n",
      "M =   1.240 Msun  T =  6225 K  m_ubv_I = 17.94\n",
      "Primaries\n",
      "M =   5.500 Msun  T = 27287 K  m_ubv_I = 25.95\n",
      "M =   3.500 Msun  T = 11697 K  m_ubv_I = 14.23\n",
      "M =   0.251 Msun  T =   nan K  m_ubv_I =  nan\n",
      "M =   0.631 Msun  T =   nan K  m_ubv_I =  nan\n",
      "M =   3.200 Msun  T = 12177 K  m_ubv_I = 14.02\n",
      "M =   0.501 Msun  T =   nan K  m_ubv_I =  nan\n",
      "M =   2.500 Msun  T = 10121 K  m_ubv_I = 15.62\n",
      "M =   6.500 Msun  T = 33471 K  m_ubv_I = 26.59\n",
      "M =   0.794 Msun  T =   nan K  m_ubv_I =  nan\n",
      "M =   2.700 Msun  T = 10526 K  m_ubv_I = 15.34\n",
      "M =   4.500 Msun  T =  4524 K  m_ubv_I = 11.01\n",
      "M =   2.500 Msun  T = 10121 K  m_ubv_I = 15.62\n",
      "M =   1.900 Msun  T = 11910 K  m_ubv_I = 14.16\n",
      "M =   5.000 Msun  T = 38750 K  m_ubv_I = 25.40\n",
      "M =   5.500 Msun  T = 27180 K  m_ubv_I = 25.89\n",
      "M =   3.500 Msun  T = 12112 K  m_ubv_I = 14.44\n",
      "M =   5.000 Msun  T = 38750 K  m_ubv_I = 25.40\n",
      "M =   2.500 Msun  T = 10121 K  m_ubv_I = 15.62\n",
      "M =   2.500 Msun  T = 10121 K  m_ubv_I = 15.62\n",
      "M =   3.500 Msun  T = 12112 K  m_ubv_I = 14.44\n",
      "M =   4.000 Msun  T = 11805 K  m_ubv_I = 13.50\n",
      "M =   3.000 Msun  T = 11287 K  m_ubv_I = 15.02\n",
      "M =   1.259 Msun  T =   nan K  m_ubv_I =  nan\n",
      "M =   1.400 Msun  T =   nan K  m_ubv_I =  nan\n",
      "M =   2.500 Msun  T = 10121 K  m_ubv_I = 15.62\n",
      "M =   3.200 Msun  T = 11657 K  m_ubv_I = 14.81\n",
      "M =   2.500 Msun  T = 10121 K  m_ubv_I = 15.62\n",
      "M =   7.000 Msun  T = 39833 K  m_ubv_I = 27.02\n",
      "Secondaries\n",
      "M =   1.650 Msun  T =  7676 K  m_ubv_I = 16.87\n",
      "M =   2.800 Msun  T = 11666 K  m_ubv_I = 15.38\n",
      "M =   2.700 Msun  T = 10543 K  m_ubv_I = 15.34\n",
      "M =   3.700 Msun  T = 12011 K  m_ubv_I = 14.06\n",
      "M =   0.320 Msun  T =   nan K  m_ubv_I =  nan\n",
      "M =   3.500 Msun  T = 11878 K  m_ubv_I = 14.34\n",
      "M =   1.000 Msun  T =  5597 K  m_ubv_I = 18.96\n",
      "M =   1.300 Msun  T =  6389 K  m_ubv_I = 17.77\n",
      "M =   3.700 Msun  T = 12011 K  m_ubv_I = 14.06\n",
      "M =   2.430 Msun  T = 10595 K  m_ubv_I = 15.82\n",
      "M =   2.250 Msun  T =  9999 K  m_ubv_I = 16.03\n",
      "M =   1.000 Msun  T =  5597 K  m_ubv_I = 18.96\n",
      "M =   1.710 Msun  T =   nan K  m_ubv_I =  nan\n",
      "M =   3.000 Msun  T = 12309 K  m_ubv_I = 15.28\n",
      "M =   2.200 Msun  T =  9713 K  m_ubv_I = 16.05\n",
      "M =   1.750 Msun  T =  8122 K  m_ubv_I = 16.71\n",
      "M =   1.500 Msun  T =  7076 K  m_ubv_I = 17.20\n",
      "M =   1.750 Msun  T =  8121 K  m_ubv_I = 16.71\n",
      "M =   1.500 Msun  T =  7078 K  m_ubv_I = 17.20\n",
      "M =   2.100 Msun  T =  9470 K  m_ubv_I = 16.21\n",
      "M =   2.400 Msun  T = 10500 K  m_ubv_I = 15.86\n",
      "M =   0.900 Msun  T =  5185 K  m_ubv_I = 19.46\n",
      "M =   5.500 Msun  T = 32499 K  m_ubv_I = 25.99\n",
      "M =   5.500 Msun  T = 26451 K  m_ubv_I = 25.87\n",
      "M =   2.250 Msun  T =  9999 K  m_ubv_I = 16.04\n",
      "M =   2.240 Msun  T =  9965 K  m_ubv_I = 16.05\n",
      "M =   1.750 Msun  T =  8121 K  m_ubv_I = 16.71\n",
      "M =   5.600 Msun  T = 17569 K  m_ubv_I = 13.45\n",
      "      Time taken: 46.67 seconds\n",
      "Isochrone generation took 373.897732 s.\n"
     ]
    }
   ],
   "source": [
    "import spisea\n",
    "from spisea import evolution, synthetic\n",
    "import math\n",
    "# Check if the evolution class works fine\n",
    "import time\n",
    "t1=time.time()\n",
    "bps=evolution.BPASS()\n",
    "iso1=synthetic.Isochrone_Binary(8.2, 0.5, 2000,math.log10(1), mass_sampling=1)"
   ]
  },
  {
   "cell_type": "markdown",
   "metadata": {},
   "source": [
    "For a sanity check, we can see that the primaries, secondaries, and single stars have phasees of 5 or of 101 or of 110. Note that we will have a phase of 110 in order to indicate a mystery compact remnant that BPASS provides for NEWSECMODS (secondary star models with compact primaries). This is since we haven't added neutron stars or black holes yet. Stars with phase of -99 exist, and those are the secondary stars that have already merged. Secondary stars that have merged with their primaries have designation of phase -99."
   ]
  },
  {
   "cell_type": "code",
   "execution_count": 2,
   "metadata": {},
   "outputs": [
    {
     "data": {
      "text/plain": [
       "True"
      ]
     },
     "execution_count": 2,
     "metadata": {},
     "output_type": "execute_result"
    }
   ],
   "source": [
    "import numpy as np\n",
    "np.all([(x==5 or x==101 or x==110) for x in iso1.primaries['phase']])"
   ]
  },
  {
   "cell_type": "code",
   "execution_count": 3,
   "metadata": {},
   "outputs": [
    {
     "data": {
      "text/plain": [
       "True"
      ]
     },
     "execution_count": 3,
     "metadata": {},
     "output_type": "execute_result"
    }
   ],
   "source": [
    "np.all([(x==5 or x==101 or x==110) for x in iso1.singles['phase']])"
   ]
  },
  {
   "cell_type": "code",
   "execution_count": 4,
   "metadata": {},
   "outputs": [
    {
     "data": {
      "text/plain": [
       "True"
      ]
     },
     "execution_count": 4,
     "metadata": {},
     "output_type": "execute_result"
    }
   ],
   "source": [
    "np.all([(x==5 or x==101 or x==-99 or x==110) for x in iso1.secondaries['phase']])"
   ]
  },
  {
   "cell_type": "markdown",
   "metadata": {},
   "source": [
    "Find the maximum, mean, and median  values of logg (cgs) for primaries and secondaries accounting for NaNs in the columns. (For max we make NaNs the same as - infinity and for median and mean, we do not include them)"
   ]
  },
  {
   "cell_type": "code",
   "execution_count": 5,
   "metadata": {},
   "outputs": [
    {
     "data": {
      "text/plain": [
       "9.294869501162154"
      ]
     },
     "execution_count": 5,
     "metadata": {},
     "output_type": "execute_result"
    }
   ],
   "source": [
    "np.max(iso1.singles['logg'])"
   ]
  },
  {
   "cell_type": "code",
   "execution_count": 6,
   "metadata": {},
   "outputs": [
    {
     "data": {
      "text/plain": [
       "9.288600394549206"
      ]
     },
     "execution_count": 6,
     "metadata": {},
     "output_type": "execute_result"
    }
   ],
   "source": [
    "np.max(np.nan_to_num(iso1.primaries['logg'], -np.inf))"
   ]
  },
  {
   "cell_type": "code",
   "execution_count": 7,
   "metadata": {},
   "outputs": [
    {
     "data": {
      "text/plain": [
       "9.283702439639246"
      ]
     },
     "execution_count": 7,
     "metadata": {},
     "output_type": "execute_result"
    }
   ],
   "source": [
    "np.max(np.nan_to_num(iso1.secondaries['logg'], -np.inf))"
   ]
  },
  {
   "cell_type": "markdown",
   "metadata": {},
   "source": [
    "Now let's find the mean and median logg values for the single stars, secondary stars, and the primary stars"
   ]
  },
  {
   "cell_type": "code",
   "execution_count": 8,
   "metadata": {},
   "outputs": [
    {
     "data": {
      "text/plain": [
       "5.354531279865074"
      ]
     },
     "execution_count": 8,
     "metadata": {},
     "output_type": "execute_result"
    }
   ],
   "source": [
    "np.mean(iso1.singles['logg'][np.where(~np.isnan(iso1.singles['logg']))])"
   ]
  },
  {
   "cell_type": "code",
   "execution_count": 9,
   "metadata": {},
   "outputs": [
    {
     "data": {
      "text/plain": [
       "5.166598048581407"
      ]
     },
     "execution_count": 9,
     "metadata": {},
     "output_type": "execute_result"
    }
   ],
   "source": [
    "np.mean(iso1.primaries['logg'][np.where(~np.isnan(iso1.primaries['logg']))])"
   ]
  },
  {
   "cell_type": "code",
   "execution_count": 10,
   "metadata": {},
   "outputs": [
    {
     "data": {
      "text/plain": [
       "4.7087761944824305"
      ]
     },
     "execution_count": 10,
     "metadata": {},
     "output_type": "execute_result"
    }
   ],
   "source": [
    "np.mean(iso1.secondaries['logg'][np.where(~np.isnan(iso1.secondaries['logg']))])"
   ]
  },
  {
   "cell_type": "code",
   "execution_count": 11,
   "metadata": {},
   "outputs": [
    {
     "data": {
      "text/plain": [
       "4.2498758947769355"
      ]
     },
     "execution_count": 11,
     "metadata": {},
     "output_type": "execute_result"
    }
   ],
   "source": [
    "np.median(iso1.singles['logg'][np.where(~np.isnan(iso1.singles['logg']))])"
   ]
  },
  {
   "cell_type": "code",
   "execution_count": 12,
   "metadata": {},
   "outputs": [
    {
     "data": {
      "text/plain": [
       "4.101838137301644"
      ]
     },
     "execution_count": 12,
     "metadata": {},
     "output_type": "execute_result"
    }
   ],
   "source": [
    "np.median(iso1.primaries['logg'][np.where(~np.isnan(iso1.primaries['logg']))])"
   ]
  },
  {
   "cell_type": "code",
   "execution_count": 13,
   "metadata": {},
   "outputs": [
    {
     "data": {
      "text/plain": [
       "4.298445675989428"
      ]
     },
     "execution_count": 13,
     "metadata": {},
     "output_type": "execute_result"
    }
   ],
   "source": [
    "np.median([x for x in iso1.secondaries['logg'] if np.isfinite(x)])"
   ]
  },
  {
   "cell_type": "markdown",
   "metadata": {},
   "source": [
    "Let's make a histogram of log_g values for each table of the isochrone"
   ]
  },
  {
   "cell_type": "code",
   "execution_count": 14,
   "metadata": {},
   "outputs": [
    {
     "data": {
      "text/plain": [
       "Text(0.5, 0, 'logg in cgs')"
      ]
     },
     "execution_count": 14,
     "metadata": {},
     "output_type": "execute_result"
    },
    {
     "data": {
      "image/png": "[encoded data removed]",
      "text/plain": [
       "<Figure size 432x288 with 1 Axes>"
      ]
     },
     "metadata": {
      "needs_background": "light"
     },
     "output_type": "display_data"
    }
   ],
   "source": [
    "import matplotlib.pyplot as plt\n",
    "plt.title(\"Histogram of logg values (secondaries) of isochrone\")\n",
    "plt.hist(np.array([x for x in iso1.secondaries['logg'] if np.isfinite(x)]), np.arange(0, 30, 1))\n",
    "plt.xlabel(\"logg in cgs\")"
   ]
  },
  {
   "cell_type": "code",
   "execution_count": 15,
   "metadata": {},
   "outputs": [
    {
     "data": {
      "text/plain": [
       "Text(0.5, 0, 'logg in cgs')"
      ]
     },
     "execution_count": 15,
     "metadata": {},
     "output_type": "execute_result"
    },
    {
     "data": {
      "image/png": "[encoded data removed]",
      "text/plain": [
       "<Figure size 432x288 with 1 Axes>"
      ]
     },
     "metadata": {
      "needs_background": "light"
     },
     "output_type": "display_data"
    }
   ],
   "source": [
    "import matplotlib.pyplot as plt\n",
    "plt.title(\"Histogram of logg values (primaries) of isochrone\")\n",
    "plt.hist(np.array([x for x in iso1.primaries['logg'] if np.isfinite(x)]), np.arange(0, 30, 1))\n",
    "plt.xlabel(\"logg in cgs\")"
   ]
  },
  {
   "cell_type": "code",
   "execution_count": 16,
   "metadata": {},
   "outputs": [
    {
     "data": {
      "text/plain": [
       "Text(0.5, 0, 'logg in cgs')"
      ]
     },
     "execution_count": 16,
     "metadata": {},
     "output_type": "execute_result"
    },
    {
     "data": {
      "image/png": "[encoded data removed]",
      "text/plain": [
       "<Figure size 432x288 with 1 Axes>"
      ]
     },
     "metadata": {
      "needs_background": "light"
     },
     "output_type": "display_data"
    }
   ],
   "source": [
    "import matplotlib.pyplot as plt\n",
    "plt.title(\"Histogram of logg values single stars of isochrone\")\n",
    "plt.hist(np.array([x for x in iso1.singles['logg'] if np.isfinite(x)]), np.arange(0, 30, 1))\n",
    "plt.xlabel(\"logg in cgs\")"
   ]
  },
  {
   "cell_type": "markdown",
   "metadata": {},
   "source": [
    "For comparison, let's create a MIST v.1. isochrone  phot using otherwise same parameters."
   ]
  },
  {
   "cell_type": "code",
   "execution_count": 17,
   "metadata": {},
   "outputs": [
    {
     "name": "stdout",
     "output_type": "stream",
     "text": [
      "Isochrone generation took 24.329293 s.\n",
      "Making photometry for isochrone: log(t) = 8.20  AKs = 0.50  dist = 2000\n",
      "     Starting at:  2021-02-12 12:23:23.903256   Usually takes ~5 minutes\n",
      "Starting filter: ubv,U   Elapsed time: 0.00 seconds\n",
      "Starting synthetic photometry\n",
      "M =   0.111 Msun  T =  2982 K  m_ubv_U = 36.50\n",
      "M =   1.468 Msun  T =  7177 K  m_ubv_U = 22.86\n",
      "M =   4.392 Msun  T =  4603 K  m_ubv_U = 19.88\n",
      "M =   4.423 Msun  T =  3455 K  m_ubv_U = 20.25\n",
      "M =   4.425 Msun  T = 23358 K  m_ubv_U = 14.37\n",
      "M =   4.425 Msun  T = 170211 K  m_ubv_U = 19.99\n",
      "M =   4.426 Msun  T = 157705 K  m_ubv_U = 25.22\n",
      "Starting filter: ubv,B   Elapsed time: 1.85 seconds\n",
      "Starting synthetic photometry\n",
      "M =   0.111 Msun  T =  2982 K  m_ubv_B = 35.72\n",
      "M =   1.468 Msun  T =  7177 K  m_ubv_B = 22.90\n",
      "M =   4.392 Msun  T =  4603 K  m_ubv_B = 18.83\n",
      "M =   4.423 Msun  T =  3455 K  m_ubv_B = 18.85\n",
      "M =   4.425 Msun  T = 23358 K  m_ubv_B = 15.41\n",
      "M =   4.425 Msun  T = 170211 K  m_ubv_B = 21.19\n",
      "M =   4.426 Msun  T = 157705 K  m_ubv_B = 26.41\n",
      "Starting filter: ubv,V   Elapsed time: 3.69 seconds\n",
      "Starting synthetic photometry\n",
      "M =   0.111 Msun  T =  2982 K  m_ubv_V = 33.72\n",
      "M =   1.468 Msun  T =  7177 K  m_ubv_V = 22.00\n",
      "M =   4.392 Msun  T =  4603 K  m_ubv_V = 16.94\n",
      "M =   4.423 Msun  T =  3455 K  m_ubv_V = 16.43\n",
      "M =   4.425 Msun  T = 23358 K  m_ubv_V = 15.11\n",
      "M =   4.425 Msun  T = 170211 K  m_ubv_V = 21.09\n",
      "M =   4.426 Msun  T = 157705 K  m_ubv_V = 26.31\n",
      "Starting filter: ubv,R   Elapsed time: 5.52 seconds\n",
      "Starting synthetic photometry\n",
      "M =   0.111 Msun  T =  2982 K  m_ubv_R = 29.82\n",
      "M =   1.468 Msun  T =  7177 K  m_ubv_R = 20.01\n",
      "M =   4.392 Msun  T =  4603 K  m_ubv_R = 14.56\n",
      "M =   4.423 Msun  T =  3455 K  m_ubv_R = 13.30\n",
      "M =   4.425 Msun  T = 23358 K  m_ubv_R = 13.39\n",
      "M =   4.425 Msun  T = 170211 K  m_ubv_R = 19.47\n",
      "M =   4.426 Msun  T = 157705 K  m_ubv_R = 24.69\n",
      "Starting filter: ubv,I   Elapsed time: 7.30 seconds\n",
      "Starting synthetic photometry\n",
      "M =   0.111 Msun  T =  2982 K  m_ubv_I = 25.07\n",
      "M =   1.468 Msun  T =  7177 K  m_ubv_I = 17.22\n",
      "M =   4.392 Msun  T =  4603 K  m_ubv_I = 11.35\n",
      "M =   4.423 Msun  T =  3455 K  m_ubv_I = 9.11\n",
      "M =   4.425 Msun  T = 23358 K  m_ubv_I = 10.96\n",
      "M =   4.425 Msun  T = 170211 K  m_ubv_I = 17.16\n",
      "M =   4.426 Msun  T = 157705 K  m_ubv_I = 22.38\n",
      "      Time taken: 9.09 seconds\n"
     ]
    }
   ],
   "source": [
    "iso2=synthetic.IsochronePhot(8.2, 0.5, 2000, math.log(1), recomp=True) # New MIST v.1 isochrone for same metallicity"
   ]
  },
  {
   "cell_type": "markdown",
   "metadata": {},
   "source": [
    "Note: dist/10 pc = 200 for both of our isochrones and clusters"
   ]
  },
  {
   "cell_type": "markdown",
   "metadata": {},
   "source": [
    "Find the maximum logg of the isochrone and the distribution of logg values"
   ]
  },
  {
   "cell_type": "code",
   "execution_count": 18,
   "metadata": {},
   "outputs": [
    {
     "data": {
      "text/plain": [
       "8.038804565028379"
      ]
     },
     "execution_count": 18,
     "metadata": {},
     "output_type": "execute_result"
    }
   ],
   "source": [
    "np.max(iso2.points['logg'])"
   ]
  },
  {
   "cell_type": "code",
   "execution_count": 19,
   "metadata": {
    "scrolled": true
   },
   "outputs": [
    {
     "data": {
      "text/plain": [
       "(array([ 96., 103.,  29.,  55., 179.,  39.,  26.,  71.,   5.,   0.,   0.,\n",
       "          0.,   0.,   0.,   0.,   0.,   0.,   0.,   0.,   0.,   0.,   0.,\n",
       "          0.,   0.,   0.,   0.,   0.,   0.,   0.]),\n",
       " array([ 0,  1,  2,  3,  4,  5,  6,  7,  8,  9, 10, 11, 12, 13, 14, 15, 16,\n",
       "        17, 18, 19, 20, 21, 22, 23, 24, 25, 26, 27, 28, 29]),\n",
       " <a list of 29 Patch objects>)"
      ]
     },
     "execution_count": 19,
     "metadata": {},
     "output_type": "execute_result"
    },
    {
     "data": {
      "image/png": "[encoded data removed]",
      "text/plain": [
       "<Figure size 432x288 with 1 Axes>"
      ]
     },
     "metadata": {
      "needs_background": "light"
     },
     "output_type": "display_data"
    }
   ],
   "source": [
    "import matplotlib.pyplot as plt\n",
    "plt.xlabel(\"logg in cgs\")\n",
    "plt.title(\"Histogram of logg values of stars in the MIST v1 isochrone\")\n",
    "plt.hist(np.array([x for x in iso2.points['logg'] if np.isfinite(x)]), np.arange(0, 30, 1))"
   ]
  },
  {
   "cell_type": "markdown",
   "metadata": {},
   "source": [
    "Finding the log_g median and mean for the new isochrone"
   ]
  },
  {
   "cell_type": "code",
   "execution_count": 20,
   "metadata": {},
   "outputs": [
    {
     "data": {
      "text/plain": [
       "4.190403645585174"
      ]
     },
     "execution_count": 20,
     "metadata": {},
     "output_type": "execute_result"
    }
   ],
   "source": [
    "np.median(iso2.points['logg'])"
   ]
  },
  {
   "cell_type": "code",
   "execution_count": 21,
   "metadata": {},
   "outputs": [
    {
     "data": {
      "text/plain": [
       "3.7100077975325854"
      ]
     },
     "execution_count": 21,
     "metadata": {},
     "output_type": "execute_result"
    }
   ],
   "source": [
    "np.mean(iso2.points['logg'])"
   ]
  },
  {
   "cell_type": "markdown",
   "metadata": {},
   "source": [
    "Now we want to make clusters for both of these models and plot CMD, HR Diagram, and Mass Luminosity relationship for the isochrones. Then, we want to find the Mass luminosity relationship and CMD for the cluster."
   ]
  },
  {
   "cell_type": "code",
   "execution_count": 22,
   "metadata": {},
   "outputs": [],
   "source": [
    "from spisea import imf\n",
    "from spisea.imf import imf, multiplicity\n",
    "from spisea import ifmr\n"
   ]
  },
  {
   "cell_type": "code",
   "execution_count": 23,
   "metadata": {
    "scrolled": true
   },
   "outputs": [
    {
     "name": "stderr",
     "output_type": "stream",
     "text": [
      "/opt/anaconda3/envs/astroconda/lib/python3.7/site-packages/astropy/table/column.py:1020: RuntimeWarning: invalid value encountered in greater_equal\n",
      "  result = getattr(super(), op)(other)\n"
     ]
    },
    {
     "name": "stdout",
     "output_type": "stream",
     "text": [
      "Found 7 companions out of stellar mass range\n"
     ]
    }
   ],
   "source": [
    "clus_1=synthetic.Binary_Cluster(iso1, imf.IMFSalpeter1955(multiplicity=multiplicity.MultiplicityUnresolved()), 2000, ifmr=ifmr.IFMR_Spera15())\n",
    "clus_2=synthetic.ResolvedCluster(iso2, imf.IMFSalpeter1955(multiplicity=multiplicity.MultiplicityUnresolved()), 2000, ifmr=ifmr.IFMR_Spera15())"
   ]
  },
  {
   "cell_type": "markdown",
   "metadata": {},
   "source": [
    "Taking a look at the Binary Cluster vs Default Settings cluster Observer's HR Diagram\n",
    "Remember to use a distance modulus!"
   ]
  },
  {
   "cell_type": "code",
   "execution_count": 24,
   "metadata": {},
   "outputs": [
    {
     "data": {
      "text/plain": [
       "<matplotlib.legend.Legend at 0x7f856a11ab38>"
      ]
     },
     "execution_count": 24,
     "metadata": {},
     "output_type": "execute_result"
    },
    {
     "data": {
      "image/png": "[encoded data removed]",
      "text/plain": [
       "<Figure size 432x288 with 1 Axes>"
      ]
     },
     "metadata": {
      "needs_background": "light"
     },
     "output_type": "display_data"
    }
   ],
   "source": [
    "\n",
    "import matplotlib.pyplot as plt\n",
    "plt.plot(iso1.primaries['m_ubv_B']-iso1.primaries[\"m_ubv_V\"], iso1.primaries[\"m_ubv_V\"]-5*np.log10(200), \"r.\")\n",
    "plt.plot(iso1.secondaries['m_ubv_B']-iso1.secondaries[\"m_ubv_V\"], iso1.secondaries[\"m_ubv_V\"]-5*np.log10(200), \"r.\")\n",
    "plt.plot(iso1.singles['m_ubv_B']-iso1.singles[\"m_ubv_V\"], iso1.singles[\"m_ubv_V\"]-5*np.log10(200), \"r.\", label=\"BPASS isochrone\")\n",
    "plt.plot(iso2.points['m_ubv_B']-iso2.points[\"m_ubv_V\"], iso2.points[\"m_ubv_V\"]-5*np.log10(200), \"b+\", label=\"MISTv1\", alpha=0.25)\n",
    "plt.xlabel(\"B-V\")\n",
    "plt.ylabel(\"pseudo M_V\")\n",
    "plt.title(\"Color magnitude Diagram of Isochrones at solar metallicity and 10**8.2 years age\")\n",
    "plt.gca().invert_yaxis()\n",
    "plt.legend()"
   ]
  },
  {
   "cell_type": "code",
   "execution_count": 25,
   "metadata": {},
   "outputs": [
    {
     "name": "stderr",
     "output_type": "stream",
     "text": [
      "No handles with labels found to put in legend.\n"
     ]
    },
    {
     "data": {
      "text/plain": [
       "<matplotlib.legend.Legend at 0x7f856a0d6c88>"
      ]
     },
     "execution_count": 25,
     "metadata": {},
     "output_type": "execute_result"
    },
    {
     "data": {
      "image/png": "[encoded data removed]",
      "text/plain": [
       "<Figure size 432x288 with 1 Axes>"
      ]
     },
     "metadata": {
      "needs_background": "light"
     },
     "output_type": "display_data"
    }
   ],
   "source": [
    "import matplotlib.pyplot as plt\n",
    "plt.plot(iso1.primaries['m_ubv_B']-iso1.primaries[\"m_ubv_V\"], iso1.primaries[\"m_ubv_V\"]-5*np.log10(200), \"r.\")\n",
    "plt.xlabel(\"B-V\")\n",
    "plt.ylabel(\"pseudo M_V\")\n",
    "plt.title(\"Color magnitude Diagram of Isochrones at solar metallicity and 10**8.2 years age\")\n",
    "plt.gca().invert_yaxis()\n",
    "plt.legend()"
   ]
  },
  {
   "cell_type": "markdown",
   "metadata": {},
   "source": [
    "**Finding where there are extremely low V magnitudes.** This includes looking at the insides of a primary star table"
   ]
  },
  {
   "cell_type": "code",
   "execution_count": 26,
   "metadata": {},
   "outputs": [
    {
     "name": "stderr",
     "output_type": "stream",
     "text": [
      "/opt/anaconda3/envs/astroconda/lib/python3.7/site-packages/astropy/table/column.py:1020: RuntimeWarning: invalid value encountered in greater\n",
      "  result = getattr(super(), op)(other)\n"
     ]
    },
    {
     "data": {
      "text/html": [
       "&lt;Column name=&apos;phase&apos; dtype=&apos;float64&apos; length=2&gt;\n",
       "<table>\n",
       "<tr><td>5.0</td></tr>\n",
       "<tr><td>101.0</td></tr>\n",
       "</table>"
      ],
      "text/plain": [
       "<Column name='phase' dtype='float64' length=2>\n",
       "  5.0\n",
       "101.0"
      ]
     },
     "execution_count": 26,
     "metadata": {},
     "output_type": "execute_result"
    }
   ],
   "source": [
    "np.unique(iso1.primaries[np.where(iso1.primaries['m_ubv_V']-np.log10(2000/10)>25.0)]['phase'])"
   ]
  },
  {
   "cell_type": "code",
   "execution_count": 27,
   "metadata": {},
   "outputs": [
    {
     "name": "stderr",
     "output_type": "stream",
     "text": [
      "/opt/anaconda3/envs/astroconda/lib/python3.7/site-packages/astropy/table/column.py:1020: RuntimeWarning: invalid value encountered in less\n",
      "  result = getattr(super(), op)(other)\n"
     ]
    },
    {
     "data": {
      "text/html": [
       "<i>Table length=1638</i>\n",
       "<table id=\"table140210997932608\" class=\"table-striped table-bordered table-condensed\">\n",
       "<thead><tr><th>mass</th><th>L</th><th>Teff</th><th>R</th><th>logg</th><th>isWR</th><th>mass_current</th><th>phase</th><th>source</th><th>m_ubv_U</th><th>m_ubv_V</th><th>m_ubv_B</th><th>m_ubv_R</th><th>m_ubv_I</th></tr></thead>\n",
       "<thead><tr><th>solMass</th><th>W</th><th>K</th><th>m</th><th></th><th></th><th>solMass</th><th></th><th></th><th></th><th></th><th></th><th></th><th></th></tr></thead>\n",
       "<thead><tr><th>float64</th><th>float64</th><th>float64</th><th>float64</th><th>float64</th><th>bool</th><th>float64</th><th>float64</th><th>int64</th><th>float64</th><th>float64</th><th>float64</th><th>float64</th><th>float64</th></tr></thead>\n",
       "<tr><td>4.0</td><td>1.6512085513837888e+29</td><td>11804.837142385752</td><td>3454380426.983821</td><td>3.6465954007915196</td><td>False</td><td>3.99823</td><td>5.0</td><td>1</td><td>17.89642176718931</td><td>17.817363154256427</td><td>18.21085641153647</td><td>16.063322980911884</td><td>13.498484569756611</td></tr>\n",
       "<tr><td>2.5</td><td>1.6113575900964336e+28</td><td>10121.153231315011</td><td>1467996987.039636</td><td>4.185947635975171</td><td>False</td><td>2.5</td><td>5.0</td><td>1</td><td>20.400205810572945</td><td>20.00383618018458</td><td>20.477949398003386</td><td>18.229735595124726</td><td>15.618339533279434</td></tr>\n",
       "<tr><td>3.2</td><td>2.6684675695850012e+29</td><td>11539.048533285553</td><td>4596001526.085306</td><td>3.439199846537764</td><td>False</td><td>4.39028</td><td>5.0</td><td>1</td><td>17.341168047463352</td><td>17.243159558687566</td><td>17.639045433793633</td><td>15.485295888694454</td><td>12.911438320405358</td></tr>\n",
       "<tr><td>2.5</td><td>1.6113575900964336e+28</td><td>10121.153231315011</td><td>1467996987.039636</td><td>4.185947635975171</td><td>False</td><td>2.5</td><td>5.0</td><td>1</td><td>20.400205810572945</td><td>20.00383618018458</td><td>20.477949398003386</td><td>18.229735595124726</td><td>15.618339533279434</td></tr>\n",
       "<tr><td>4.0</td><td>1.6512085513837888e+29</td><td>11804.837142385752</td><td>3454380426.983821</td><td>3.6465954007915196</td><td>False</td><td>3.99823</td><td>5.0</td><td>1</td><td>17.89642176718931</td><td>17.817363154256427</td><td>18.21085641153647</td><td>16.063322980911884</td><td>13.498484569756611</td></tr>\n",
       "<tr><td>2.7</td><td>2.2973223043718043e+28</td><td>10526.403173882261</td><td>1620466899.0834517</td><td>4.133548174454043</td><td>False</td><td>2.69998</td><td>5.0</td><td>1</td><td>20.023161899597792</td><td>19.703670938445015</td><td>20.15264780713855</td><td>17.937331739715496</td><td>15.338453125110826</td></tr>\n",
       "<tr><td>4.5</td><td>2.57846908725305e+28</td><td>37966.45079222193</td><td>131968464.70265502</td><td>5.699129353679022</td><td>True</td><td>0.6586</td><td>5.0</td><td>1</td><td>21.82352961653099</td><td>22.739363665713054</td><td>22.902120509432798</td><td>21.095153554072972</td><td>18.761656671519383</td></tr>\n",
       "<tr><td>3.0</td><td>3.659922836535846e+28</td><td>11286.51855773359</td><td>1779119682.059914</td><td>4.098157300682193</td><td>False</td><td>2.99992</td><td>5.0</td><td>1</td><td>19.545957345137907</td><td>19.353238557051963</td><td>19.77158266863353</td><td>17.596968892577358</td><td>15.02098070887026</td></tr>\n",
       "<tr><td>3.7</td><td>1.0247122525035504e+29</td><td>12181.197929396629</td><td>2555701713.9723654</td><td>3.8745554397075495</td><td>False</td><td>3.6992</td><td>5.0</td><td>1</td><td>18.458616476225686</td><td>18.4098987866752</td><td>18.799693368951797</td><td>16.660514184198778</td><td>14.107230839544567</td></tr>\n",
       "<tr><td>...</td><td>...</td><td>...</td><td>...</td><td>...</td><td>...</td><td>...</td><td>...</td><td>...</td><td>...</td><td>...</td><td>...</td><td>...</td><td>...</td></tr>\n",
       "<tr><td>4.5</td><td>3.8848291972676705e+29</td><td>4524.493826799286</td><td>36069088234.0388</td><td>1.657984548899564</td><td>False</td><td>4.47504</td><td>5.0</td><td>1</td><td>19.729621336207536</td><td>16.6392756231814</td><td>18.584950527366352</td><td>14.24229880840067</td><td>11.011947527643558</td></tr>\n",
       "<tr><td>2.7</td><td>2.2973223043718043e+28</td><td>10526.403173882261</td><td>1620466899.0834517</td><td>4.133548174454043</td><td>False</td><td>2.69998</td><td>5.0</td><td>1</td><td>20.023161899597792</td><td>19.703670938445015</td><td>20.15264780713855</td><td>17.937331739715496</td><td>15.338453125110826</td></tr>\n",
       "<tr><td>4.5</td><td>3.8848291972676705e+29</td><td>4524.493826799286</td><td>36069088234.0388</td><td>1.657984548899564</td><td>False</td><td>4.47504</td><td>5.0</td><td>1</td><td>19.729621336207536</td><td>16.6392756231814</td><td>18.584950527366352</td><td>14.24229880840067</td><td>11.011947527643558</td></tr>\n",
       "<tr><td>2.3</td><td>1.7020093012081e+28</td><td>10193.89134020261</td><td>1487271186.3704646</td><td>4.175445883427656</td><td>False</td><td>2.50483</td><td>5.0</td><td>1</td><td>20.341950461228247</td><td>19.959740907058872</td><td>20.42876948676347</td><td>18.187201809795745</td><td>15.578065184234537</td></tr>\n",
       "<tr><td>2.7</td><td>2.2973223043718043e+28</td><td>10526.403173882261</td><td>1620466899.0834517</td><td>4.133548174454043</td><td>False</td><td>2.69998</td><td>5.0</td><td>1</td><td>20.023161899597792</td><td>19.703670938445015</td><td>20.15264780713855</td><td>17.937331739715496</td><td>15.338453125110826</td></tr>\n",
       "<tr><td>4.5</td><td>2.4009987231794116e+28</td><td>37138.12725377961</td><td>133089920.06548351</td><td>5.693382227118933</td><td>True</td><td>0.66102</td><td>5.0</td><td>1</td><td>21.848179841322576</td><td>22.756405927157736</td><td>22.92246983263569</td><td>21.11317644975839</td><td>18.77917737909432</td></tr>\n",
       "<tr><td>4.5</td><td>2.5182678969823557e+28</td><td>6147.096062173961</td><td>4975081094.768671</td><td>2.9465685215337882</td><td>False</td><td>1.65463</td><td>5.0</td><td>1</td><td>20.38946881256667</td><td>19.146620382756737</td><td>20.288130674805537</td><td>17.045850993074424</td><td>14.130398695727589</td></tr>\n",
       "<tr><td>2.7</td><td>2.0471135319851425e+29</td><td>12430.540131386893</td><td>3468807218.0456147</td><td>3.6682450094935217</td><td>False</td><td>4.23777</td><td>5.0</td><td>1</td><td>17.706633828899847</td><td>17.705179176538635</td><td>18.0860526070012</td><td>15.956396802905141</td><td>13.407972771241587</td></tr>\n",
       "<tr><td>3.5</td><td>7.471743064187931e+28</td><td>12112.394295485958</td><td>2207192258.4573445</td><td>3.9777810712007264</td><td>False</td><td>3.49956</td><td>5.0</td><td>1</td><td>18.806343248248368</td><td>18.740224298315084</td><td>19.133513926343877</td><td>16.9909897353106</td><td>14.436635191770959</td></tr>\n",
       "<tr><td>3.5</td><td>5.7430411633372584e+29</td><td>16801.18833021952</td><td>3180388425.3303137</td><td>3.8865654942707426</td><td>False</td><td>5.88895</td><td>5.0</td><td>1</td><td>17.00921379173654</td><td>17.35103432066093</td><td>17.66238564879345</td><td>15.636683369532989</td><td>13.165959148981289</td></tr>\n",
       "</table>"
      ],
      "text/plain": [
       "<Table length=1638>\n",
       "  mass            L            ...      m_ubv_R            m_ubv_I      \n",
       "solMass           W            ...                                      \n",
       "float64        float64         ...      float64            float64      \n",
       "------- ---------------------- ... ------------------ ------------------\n",
       "    4.0 1.6512085513837888e+29 ... 16.063322980911884 13.498484569756611\n",
       "    2.5 1.6113575900964336e+28 ... 18.229735595124726 15.618339533279434\n",
       "    3.2 2.6684675695850012e+29 ... 15.485295888694454 12.911438320405358\n",
       "    2.5 1.6113575900964336e+28 ... 18.229735595124726 15.618339533279434\n",
       "    4.0 1.6512085513837888e+29 ... 16.063322980911884 13.498484569756611\n",
       "    2.7 2.2973223043718043e+28 ... 17.937331739715496 15.338453125110826\n",
       "    4.5   2.57846908725305e+28 ... 21.095153554072972 18.761656671519383\n",
       "    3.0  3.659922836535846e+28 ... 17.596968892577358  15.02098070887026\n",
       "    3.7 1.0247122525035504e+29 ... 16.660514184198778 14.107230839544567\n",
       "    ...                    ... ...                ...                ...\n",
       "    4.5 3.8848291972676705e+29 ...  14.24229880840067 11.011947527643558\n",
       "    2.7 2.2973223043718043e+28 ... 17.937331739715496 15.338453125110826\n",
       "    4.5 3.8848291972676705e+29 ...  14.24229880840067 11.011947527643558\n",
       "    2.3    1.7020093012081e+28 ... 18.187201809795745 15.578065184234537\n",
       "    2.7 2.2973223043718043e+28 ... 17.937331739715496 15.338453125110826\n",
       "    4.5 2.4009987231794116e+28 ...  21.11317644975839  18.77917737909432\n",
       "    4.5 2.5182678969823557e+28 ... 17.045850993074424 14.130398695727589\n",
       "    2.7 2.0471135319851425e+29 ... 15.956396802905141 13.407972771241587\n",
       "    3.5  7.471743064187931e+28 ...   16.9909897353106 14.436635191770959\n",
       "    3.5 5.7430411633372584e+29 ... 15.636683369532989 13.165959148981289"
      ]
     },
     "execution_count": 27,
     "metadata": {},
     "output_type": "execute_result"
    }
   ],
   "source": [
    "iso1.primaries[np.where((iso1.primaries['m_ubv_V']-10< 25.0) & (iso1.primaries['phase']== 5))]"
   ]
  },
  {
   "cell_type": "code",
   "execution_count": 28,
   "metadata": {},
   "outputs": [
    {
     "data": {
      "text/plain": [
       "6.044909972873647"
      ]
     },
     "execution_count": 28,
     "metadata": {},
     "output_type": "execute_result"
    }
   ],
   "source": [
    "np.min(([x-10 for x in iso1.secondaries[\"m_ubv_V\"] if np.isfinite(x)]))"
   ]
  },
  {
   "cell_type": "markdown",
   "metadata": {},
   "source": [
    "Plotting the HR Diagram of the Isochrones"
   ]
  },
  {
   "cell_type": "code",
   "execution_count": 29,
   "metadata": {},
   "outputs": [
    {
     "data": {
      "text/plain": [
       "<matplotlib.legend.Legend at 0x7f856acab8d0>"
      ]
     },
     "execution_count": 29,
     "metadata": {},
     "output_type": "execute_result"
    },
    {
     "data": {
      "image/png": "[encoded data removed]",
      "text/plain": [
       "<Figure size 432x288 with 1 Axes>"
      ]
     },
     "metadata": {
      "needs_background": "light"
     },
     "output_type": "display_data"
    }
   ],
   "source": [
    "import matplotlib.pyplot as plt\n",
    "plt.plot(np.log10(iso1.primaries['Teff']), np.log10(iso1.primaries[\"L\"]), \"r.\")\n",
    "plt.plot(np.log10(iso1.secondaries['Teff']), np.log10(iso1.secondaries[\"L\"]), \"r.\")\n",
    "plt.plot(np.log10(iso1.singles['Teff']), np.log10(iso1.singles[\"L\"]), \"r.\", label=\"BPASS isochrone\")\n",
    "plt.plot(np.log10(iso2.points['Teff']), np.log10(iso2.points[\"L\"]), \"b+\", label=\"MISTv1\", alpha=0.25)\n",
    "plt.xlabel(\"log10(T in kelvin)\")\n",
    "plt.ylabel(\"log10(L in watts)\")\n",
    "plt.title(\"HR Diagram of Isochrones at solar metallicity and 10**8.2 years age\")\n",
    "plt.gca().invert_xaxis()\n",
    "plt.legend()\n",
    "# Rough pattern seems to fit. What's that line?"
   ]
  },
  {
   "cell_type": "markdown",
   "metadata": {},
   "source": [
    "As in my write up, I do suspect that there is a population of helium stars that exists in the middle of the HR Diagram."
   ]
  },
  {
   "cell_type": "code",
   "execution_count": 30,
   "metadata": {},
   "outputs": [
    {
     "name": "stderr",
     "output_type": "stream",
     "text": [
      "No handles with labels found to put in legend.\n"
     ]
    },
    {
     "data": {
      "text/plain": [
       "<matplotlib.legend.Legend at 0x7f854a1dccf8>"
      ]
     },
     "execution_count": 30,
     "metadata": {},
     "output_type": "execute_result"
    },
    {
     "data": {
      "image/png": "[encoded data removed]",
      "text/plain": [
       "<Figure size 432x288 with 1 Axes>"
      ]
     },
     "metadata": {
      "needs_background": "light"
     },
     "output_type": "display_data"
    }
   ],
   "source": [
    "import matplotlib.pyplot as plt\n",
    "plt.plot(np.log10(iso1.primaries['Teff']), np.log10(iso1.primaries[\"L\"]), \"r.\")\n",
    "plt.xlabel(\"log10(T in kelvin)\")\n",
    "plt.ylabel(\"log10(L in watts)\")\n",
    "plt.title(\"HR Diagram of Isochrones at solar metallicity and 10**8.2 years age\")\n",
    "plt.gca().invert_xaxis()\n",
    "plt.legend()\n",
    "# Rough pattern seems to fit. What's that line?"
   ]
  },
  {
   "cell_type": "markdown",
   "metadata": {},
   "source": [
    "Now I try to find out about the region that could be causing the potential blue stragglers/helium stars."
   ]
  },
  {
   "cell_type": "code",
   "execution_count": 31,
   "metadata": {},
   "outputs": [],
   "source": [
    "whr = np.where((np.log10(iso1.primaries['L']) < 29.5) &\n",
    "               (np.log10(iso1.primaries['L']) > 27.5) &\n",
    "               (np.log10(iso1.primaries['Teff']) > 4.4) &\n",
    "               (np.log10(iso1.primaries['Teff']) < 4.65))[0]"
   ]
  },
  {
   "cell_type": "markdown",
   "metadata": {},
   "source": [
    "Are these stars of the type that are less massive than the sun"
   ]
  },
  {
   "cell_type": "code",
   "execution_count": 32,
   "metadata": {},
   "outputs": [
    {
     "data": {
      "text/html": [
       "<i>Table length=88</i>\n",
       "<table id=\"table140210196084272\" class=\"table-striped table-bordered table-condensed\">\n",
       "<thead><tr><th>mass</th><th>L</th><th>Teff</th><th>R</th><th>logg</th><th>isWR</th><th>mass_current</th><th>phase</th><th>source</th><th>m_ubv_U</th><th>m_ubv_V</th><th>m_ubv_B</th><th>m_ubv_R</th><th>m_ubv_I</th></tr></thead>\n",
       "<thead><tr><th>solMass</th><th>W</th><th>K</th><th>m</th><th></th><th></th><th>solMass</th><th></th><th></th><th></th><th></th><th></th><th></th><th></th></tr></thead>\n",
       "<thead><tr><th>float64</th><th>float64</th><th>float64</th><th>float64</th><th>float64</th><th>bool</th><th>float64</th><th>float64</th><th>int64</th><th>float64</th><th>float64</th><th>float64</th><th>float64</th><th>float64</th></tr></thead>\n",
       "<tr><td>4.5</td><td>2.57846908725305e+28</td><td>37966.45079222193</td><td>131968464.70265502</td><td>5.699129353679022</td><td>True</td><td>0.6586</td><td>5.0</td><td>1</td><td>21.82352961653099</td><td>22.739363665713054</td><td>22.902120509432798</td><td>21.095153554072972</td><td>18.761656671519383</td></tr>\n",
       "<tr><td>5.0</td><td>5.202977275826353e+28</td><td>39841.89623015202</td><td>170229633.53894693</td><td>5.513991195552432</td><td>True</td><td>0.71549</td><td>5.0</td><td>1</td><td>21.188449967745893</td><td>22.118502977333026</td><td>22.27432432926729</td><td>20.4725446565075</td><td>18.140037629004173</td></tr>\n",
       "<tr><td>5.5</td><td>1.2869211225108668e+28</td><td>32888.19206253784</td><td>124246786.27055345</td><td>5.681396751702966</td><td>True</td><td>0.56044</td><td>5.0</td><td>1</td><td>22.295402819140836</td><td>23.143956100067918</td><td>23.33184559317411</td><td>21.500465926568285</td><td>19.157344516693634</td></tr>\n",
       "<tr><td>4.5</td><td>2.4905882169409896e+28</td><td>37547.41129897837</td><td>132611187.54553933</td><td>5.702615154737391</td><td>True</td><td>0.67039</td><td>5.0</td><td>1</td><td>21.834532476812747</td><td>22.74658644883168</td><td>22.91098806997606</td><td>21.1028643213192</td><td>18.769117567110086</td></tr>\n",
       "<tr><td>4.5</td><td>7.551651318142304e+28</td><td>38973.55301911854</td><td>214323683.25474504</td><td>5.38059343089037</td><td>True</td><td>0.83423</td><td>5.0</td><td>1</td><td>20.724106443981153</td><td>21.64797340700593</td><td>21.80692526189098</td><td>20.002699666751212</td><td>17.669697799231194</td></tr>\n",
       "<tr><td>4.5</td><td>6.225180223694493e+28</td><td>39110.19668296632</td><td>193234720.90344003</td><td>5.451377586513397</td><td>True</td><td>0.79816</td><td>5.0</td><td>1</td><td>20.94324434000949</td><td>21.86811678762642</td><td>22.02656554064664</td><td>20.222728061835895</td><td>17.889803278044848</td></tr>\n",
       "<tr><td>4.5</td><td>7.7039229237214175e+28</td><td>38030.32177518831</td><td>227344872.80312386</td><td>5.338990833657615</td><td>True</td><td>0.85291</td><td>5.0</td><td>1</td><td>20.63932655828737</td><td>21.555707276013912</td><td>21.71821633246808</td><td>19.91142577103946</td><td>17.577963849038206</td></tr>\n",
       "<tr><td>4.5</td><td>6.066133015599609e+28</td><td>39081.389839225834</td><td>191031578.47100034</td><td>5.471486892295103</td><td>True</td><td>0.81707</td><td>5.0</td><td>1</td><td>20.969344360710235</td><td>21.894007416396427</td><td>22.052562235819547</td><td>20.248641662107204</td><td>17.915700029174964</td></tr>\n",
       "<tr><td>5.5</td><td>4.715219657984042e+28</td><td>38681.20546330525</td><td>171925447.8141256</td><td>5.489183304585002</td><td>True</td><td>0.68928</td><td>5.0</td><td>1</td><td>21.215991759677507</td><td>22.137596335286634</td><td>22.297624554749724</td><td>20.49262308033935</td><td>18.15948191521974</td></tr>\n",
       "<tr><td>...</td><td>...</td><td>...</td><td>...</td><td>...</td><td>...</td><td>...</td><td>...</td><td>...</td><td>...</td><td>...</td><td>...</td><td>...</td><td>...</td></tr>\n",
       "<tr><td>5.5</td><td>1.9843666938322916e+28</td><td>34427.857760538456</td><td>140792708.65194613</td><td>5.617924375841231</td><td>True</td><td>0.62178</td><td>5.0</td><td>1</td><td>21.9006656486502</td><td>22.775612097982624</td><td>22.954290811151083</td><td>21.13370132562811</td><td>18.795317077808527</td></tr>\n",
       "<tr><td>4.5</td><td>2.7249712783751842e+28</td><td>37422.258982454805</td><td>139640104.20245</td><td>5.665619359927716</td><td>True</td><td>0.68264</td><td>5.0</td><td>1</td><td>21.728903415067915</td><td>22.63980146883524</td><td>22.8047054044052</td><td>20.99622826787646</td><td>18.662405245099862</td></tr>\n",
       "<tr><td>5.5</td><td>2.4837731564493625e+28</td><td>34980.01569467643</td><td>152582653.83959582</td><td>5.563003173476535</td><td>True</td><td>0.64354</td><td>5.0</td><td>1</td><td>21.68581718922523</td><td>22.56888006346952</td><td>22.744674283156098</td><td>20.927146381336748</td><td>18.590133017565698</td></tr>\n",
       "<tr><td>4.5</td><td>2.2811399429162652e+28</td><td>37819.86724024281</td><td>125090740.73054083</td><td>5.740535226578646</td><td>True</td><td>0.65089</td><td>5.0</td><td>1</td><td>21.94724543131874</td><td>22.861772704993918</td><td>23.025098515347544</td><td>21.217731457194663</td><td>18.88414811432536</td></tr>\n",
       "<tr><td>4.5</td><td>4.044472893797094e+28</td><td>38912.57762083253</td><td>157340368.9513117</td><td>5.590554725538477</td><td>True</td><td>0.7291</td><td>5.0</td><td>1</td><td>21.398003670301016</td><td>22.32140291333995</td><td>22.48057738940237</td><td>20.676191339151746</td><td>18.343160654668583</td></tr>\n",
       "<tr><td>4.5</td><td>8.34184141111908e+28</td><td>38797.165729369066</td><td>227310849.0898376</td><td>5.338509175370168</td><td>True</td><td>0.85169</td><td>5.0</td><td>1</td><td>20.60432262208827</td><td>21.52683062135032</td><td>21.686429164541295</td><td>19.881737440781958</td><td>17.54865187271106</td></tr>\n",
       "<tr><td>6.0</td><td>4.219703432312871e+28</td><td>37225.45373489136</td><td>175610372.5442773</td><td>5.4589406812371815</td><td>True</td><td>0.6708</td><td>5.0</td><td>1</td><td>21.24153764013108</td><td>22.15059209248498</td><td>22.316296555548213</td><td>20.507256132343528</td><td>18.173311602779066</td></tr>\n",
       "<tr><td>4.5</td><td>7.542614802860318e+28</td><td>38747.17105479704</td><td>216705614.9355531</td><td>5.376846921179003</td><td>True</td><td>0.84555</td><td>5.0</td><td>1</td><td>20.71034120323069</td><td>21.63246068661809</td><td>21.792244034368835</td><td>19.987419090474425</td><td>17.65430960846978</td></tr>\n",
       "<tr><td>4.5</td><td>7.254407193666622e+28</td><td>39121.00472278739</td><td>208482767.8757067</td><td>5.3979680578923555</td><td>True</td><td>0.8216</td><td>5.0</td><td>1</td><td>20.777869446183562</td><td>21.70282034666483</td><td>21.861229357191693</td><td>20.057423013127273</td><td>17.7245045429237</td></tr>\n",
       "<tr><td>4.5</td><td>2.4009987231794116e+28</td><td>37138.12725377961</td><td>133089920.06548351</td><td>5.693382227118933</td><td>True</td><td>0.66102</td><td>5.0</td><td>1</td><td>21.848179841322576</td><td>22.756405927157736</td><td>22.92246983263569</td><td>21.11317644975839</td><td>18.77917737909432</td></tr>\n",
       "</table>"
      ],
      "text/plain": [
       "<Table length=88>\n",
       "  mass            L            ...      m_ubv_R            m_ubv_I      \n",
       "solMass           W            ...                                      \n",
       "float64        float64         ...      float64            float64      \n",
       "------- ---------------------- ... ------------------ ------------------\n",
       "    4.5   2.57846908725305e+28 ... 21.095153554072972 18.761656671519383\n",
       "    5.0  5.202977275826353e+28 ...   20.4725446565075 18.140037629004173\n",
       "    5.5 1.2869211225108668e+28 ... 21.500465926568285 19.157344516693634\n",
       "    4.5 2.4905882169409896e+28 ...   21.1028643213192 18.769117567110086\n",
       "    4.5  7.551651318142304e+28 ... 20.002699666751212 17.669697799231194\n",
       "    4.5  6.225180223694493e+28 ... 20.222728061835895 17.889803278044848\n",
       "    4.5 7.7039229237214175e+28 ...  19.91142577103946 17.577963849038206\n",
       "    4.5  6.066133015599609e+28 ... 20.248641662107204 17.915700029174964\n",
       "    5.5  4.715219657984042e+28 ...  20.49262308033935  18.15948191521974\n",
       "    ...                    ... ...                ...                ...\n",
       "    5.5 1.9843666938322916e+28 ...  21.13370132562811 18.795317077808527\n",
       "    4.5 2.7249712783751842e+28 ...  20.99622826787646 18.662405245099862\n",
       "    5.5 2.4837731564493625e+28 ... 20.927146381336748 18.590133017565698\n",
       "    4.5 2.2811399429162652e+28 ... 21.217731457194663  18.88414811432536\n",
       "    4.5  4.044472893797094e+28 ... 20.676191339151746 18.343160654668583\n",
       "    4.5   8.34184141111908e+28 ... 19.881737440781958  17.54865187271106\n",
       "    6.0  4.219703432312871e+28 ... 20.507256132343528 18.173311602779066\n",
       "    4.5  7.542614802860318e+28 ... 19.987419090474425  17.65430960846978\n",
       "    4.5  7.254407193666622e+28 ... 20.057423013127273   17.7245045429237\n",
       "    4.5 2.4009987231794116e+28 ...  21.11317644975839  18.77917737909432"
      ]
     },
     "execution_count": 32,
     "metadata": {},
     "output_type": "execute_result"
    }
   ],
   "source": [
    "iso1.primaries[whr]"
   ]
  },
  {
   "cell_type": "code",
   "execution_count": 33,
   "metadata": {},
   "outputs": [
    {
     "data": {
      "text/html": [
       "<i>Table length=88</i>\n",
       "<table id=\"table140210196086400\" class=\"table-striped table-bordered table-condensed\">\n",
       "<thead><tr><th>mass</th><th>log_a</th><th>L</th><th>Teff</th><th>R</th><th>logg</th><th>isWR</th><th>mass_current</th><th>phase</th><th>merged</th><th>source</th><th>m_ubv_U</th><th>m_ubv_V</th><th>m_ubv_B</th><th>m_ubv_R</th><th>m_ubv_I</th></tr></thead>\n",
       "<thead><tr><th>solMass</th><th></th><th>W</th><th>K</th><th>m</th><th></th><th></th><th>solMass</th><th></th><th></th><th></th><th></th><th></th><th></th><th></th><th></th></tr></thead>\n",
       "<thead><tr><th>float64</th><th>float64</th><th>float64</th><th>float64</th><th>float64</th><th>float64</th><th>bool</th><th>float64</th><th>float64</th><th>bool</th><th>int64</th><th>float64</th><th>float64</th><th>float64</th><th>float64</th><th>float64</th></tr></thead>\n",
       "<tr><td>0.9</td><td>-1.872759908688029</td><td>1.6082069295629e+26</td><td>5184.298508819247</td><td>558652830.2821318</td><td>4.583089882402073</td><td>False</td><td>0.9004555</td><td>5.0</td><td>False</td><td>1</td><td>26.69654690379887</td><td>24.788455832164054</td><td>26.311892613661676</td><td>22.526940027050777</td><td>19.458367594802557</td></tr>\n",
       "<tr><td>3.0</td><td>-0.3105034086880294</td><td>3.8396525698831823e+28</td><td>10265.024730257981</td><td>2201820968.774356</td><td>4.193710371061363</td><td>False</td><td>5.706407</td><td>5.0</td><td>False</td><td>1</td><td>19.4633737379463</td><td>19.092397261645864</td><td>19.55836054690232</td><td>17.321272791217513</td><td>14.714764138370386</td></tr>\n",
       "<tr><td>2.2</td><td>-0.4055244086880292</td><td>9.808484928795838e+27</td><td>7822.219525876044</td><td>1916469903.2018116</td><td>4.27046414761849</td><td>False</td><td>5.158893</td><td>5.0</td><td>False</td><td>1</td><td>20.989092075680055</td><td>20.199427379763254</td><td>20.969921819766938</td><td>18.284149735185665</td><td>15.551136028568049</td></tr>\n",
       "<tr><td>3.15</td><td>-0.2468354086880291</td><td>4.740584902879499e+28</td><td>10503.402297674778</td><td>2336802471.843884</td><td>4.173034644063109</td><td>False</td><td>6.128681</td><td>5.0</td><td>False</td><td>1</td><td>19.240321543947594</td><td>18.913336981235503</td><td>19.365541662821</td><td>17.146614133556472</td><td>14.547558444700107</td></tr>\n",
       "<tr><td>1.8</td><td>-0.20760940868802935</td><td>4.1198549808047713e+27</td><td>8179.372744536982</td><td>1135931134.927091</td><td>4.307907084450735</td><td>False</td><td>1.975602</td><td>5.0</td><td>False</td><td>1</td><td>21.914283278413404</td><td>21.163429516332638</td><td>21.871925226384764</td><td>19.284901163213863</td><td>16.581116004830555</td></tr>\n",
       "<tr><td>0.9</td><td>-1.1706984086880292</td><td>1.6081328706021344e+26</td><td>5185.253579858964</td><td>558459911.7480252</td><td>4.583224227164365</td><td>False</td><td>0.9001121</td><td>5.0</td><td>False</td><td>1</td><td>26.695407789619633</td><td>24.788183106819407</td><td>26.31135792907688</td><td>22.526842597574934</td><td>19.458447805480446</td></tr>\n",
       "<tr><td>1.3499999999999999</td><td>-0.054052408688029185</td><td>1.1334749565829416e+27</td><td>6431.466324634434</td><td>963700320.3656113</td><td>4.30139848978244</td><td>False</td><td>1.400783</td><td>5.0</td><td>False</td><td>1</td><td>23.556167375068604</td><td>22.529764737870984</td><td>23.61185212396324</td><td>20.451140891978334</td><td>17.570603835238405</td></tr>\n",
       "<tr><td>1.3499999999999999</td><td>-0.4253614086880293</td><td>1.1331357174287506e+27</td><td>6373.96977877173</td><td>981051945.5169907</td><td>4.296096766623902</td><td>False</td><td>1.434066</td><td>5.0</td><td>False</td><td>1</td><td>23.579619365690178</td><td>22.53056932925108</td><td>23.629462030165538</td><td>20.445218400929434</td><td>17.55769911869801</td></tr>\n",
       "<tr><td>0.55</td><td>-0.6608554086880292</td><td>1.924695048778777e+25</td><td>3565.5784807582595</td><td>408594017.32356364</td><td>4.699933153410224</td><td>False</td><td>0.6303845</td><td>5.0</td><td>False</td><td>1</td><td>31.25843678788123</td><td>28.317570327437952</td><td>30.387517621029208</td><td>25.468288432479874</td><td>21.607264791313984</td></tr>\n",
       "<tr><td>...</td><td>...</td><td>...</td><td>...</td><td>...</td><td>...</td><td>...</td><td>...</td><td>...</td><td>...</td><td>...</td><td>...</td><td>...</td><td>...</td><td>...</td><td>...</td></tr>\n",
       "<tr><td>3.8499999999999996</td><td>-0.029315408688029176</td><td>1.2942015901874597e+29</td><td>10540.470569928573</td><td>3833999071.4205813</td><td>3.895913537939858</td><td>False</td><td>8.715773</td><td>5.0</td><td>False</td><td>1</td><td>18.127247054128404</td><td>17.831279682276556</td><td>18.268714324772272</td><td>16.064875855780933</td><td>13.46327122007767</td></tr>\n",
       "<tr><td>3.6</td><td>-0.09428340868802909</td><td>9.278375168315139e+28</td><td>10772.834798803598</td><td>3107720863.13359</td><td>4.007906198606344</td><td>False</td><td>7.41103</td><td>5.0</td><td>False</td><td>1</td><td>18.507435174596424</td><td>18.240359103840383</td><td>18.67237276891483</td><td>16.477654737126247</td><td>13.884897554231353</td></tr>\n",
       "<tr><td>4.4</td><td>0.007588591311970649</td><td>3.551582677602359e+29</td><td>10658.841397540064</td><td>6210720759.603041</td><td>3.502472435890946</td><td>False</td><td>9.243678</td><td>5.0</td><td>False</td><td>1</td><td>16.99903319370953</td><td>16.759366979129037</td><td>17.178920951627987</td><td>14.993292818347312</td><td>12.391227055083545</td></tr>\n",
       "<tr><td>0.45</td><td>-1.9788199086880291</td><td>1.1145304263915622e+25</td><td>3703.39469397536</td><td>288198690.630417</td><td>4.856745642107075</td><td>False</td><td>0.4500057</td><td>5.0</td><td>False</td><td>1</td><td>31.64387909260252</td><td>28.643579974779726</td><td>30.77356197981384</td><td>25.905440009043144</td><td>22.210448352654602</td></tr>\n",
       "<tr><td>0.45</td><td>-1.7129562086880292</td><td>1.1145304263915622e+25</td><td>3703.39469397536</td><td>288198690.630417</td><td>4.85674168523389</td><td>False</td><td>0.4500016</td><td>5.0</td><td>False</td><td>1</td><td>31.643879406389246</td><td>28.643580411055538</td><td>30.773562214026175</td><td>25.905440364427527</td><td>22.21044851372379</td></tr>\n",
       "<tr><td>2.6999999999999997</td><td>0.0017325913119710101</td><td>2.3798080492231257e+28</td><td>10982.975125450306</td><td>1514230547.9621387</td><td>4.258974996141783</td><td>False</td><td>3.136515</td><td>5.0</td><td>False</td><td>1</td><td>20.014492562225517</td><td>19.760407205615497</td><td>20.196081334565015</td><td>18.00093677501707</td><td>15.41795252227965</td></tr>\n",
       "<tr><td>3.5999999999999996</td><td>-0.10126840868802933</td><td>9.307261777192704e+28</td><td>10222.803194414304</td><td>3456463724.698676</td><td>3.9893621530929857</td><td>False</td><td>8.784449</td><td>5.0</td><td>False</td><td>1</td><td>18.484963951020838</td><td>18.12331447025421</td><td>18.57962131945126</td><td>16.35169179988197</td><td>13.74060091843433</td></tr>\n",
       "<tr><td>1.8</td><td>-0.09456140868802931</td><td>4.1164413218444043e+27</td><td>8200.304892004537</td><td>1129697072.5847075</td><td>4.307239554241641</td><td>False</td><td>1.950976</td><td>5.0</td><td>False</td><td>1</td><td>21.914667099230428</td><td>21.16590584964189</td><td>21.870765647873753</td><td>19.289446347432584</td><td>16.587209565294067</td></tr>\n",
       "<tr><td>2.25</td><td>-0.2926144086880291</td><td>1.0786037580245037e+28</td><td>9567.974297536637</td><td>1343204083.2489445</td><td>4.294991175929638</td><td>False</td><td>2.681412</td><td>5.0</td><td>False</td><td>1</td><td>20.83411020931854</td><td>20.325091417317754</td><td>20.84757584832341</td><td>18.535389016748884</td><td>15.90586436277294</td></tr>\n",
       "<tr><td>2.6999999999999997</td><td>-0.37998340868802916</td><td>2.3845801756744342e+28</td><td>9750.345386833746</td><td>1923233447.634821</td><td>4.242507035624491</td><td>False</td><td>4.871463</td><td>5.0</td><td>False</td><td>1</td><td>19.972599354044956</td><td>19.501407159983216</td><td>20.005169749017153</td><td>17.717783175921273</td><td>15.094255039550758</td></tr>\n",
       "</table>"
      ],
      "text/plain": [
       "<Table length=88>\n",
       "       mass                log_a         ...      m_ubv_I      \n",
       "     solMass                             ...                   \n",
       "     float64              float64        ...      float64      \n",
       "------------------ --------------------- ... ------------------\n",
       "               0.9    -1.872759908688029 ... 19.458367594802557\n",
       "               3.0   -0.3105034086880294 ... 14.714764138370386\n",
       "               2.2   -0.4055244086880292 ... 15.551136028568049\n",
       "              3.15   -0.2468354086880291 ... 14.547558444700107\n",
       "               1.8  -0.20760940868802935 ... 16.581116004830555\n",
       "               0.9   -1.1706984086880292 ... 19.458447805480446\n",
       "1.3499999999999999 -0.054052408688029185 ... 17.570603835238405\n",
       "1.3499999999999999   -0.4253614086880293 ...  17.55769911869801\n",
       "              0.55   -0.6608554086880292 ... 21.607264791313984\n",
       "               ...                   ... ...                ...\n",
       "3.8499999999999996 -0.029315408688029176 ...  13.46327122007767\n",
       "               3.6  -0.09428340868802909 ... 13.884897554231353\n",
       "               4.4  0.007588591311970649 ... 12.391227055083545\n",
       "              0.45   -1.9788199086880291 ... 22.210448352654602\n",
       "              0.45   -1.7129562086880292 ...  22.21044851372379\n",
       "2.6999999999999997 0.0017325913119710101 ...  15.41795252227965\n",
       "3.5999999999999996  -0.10126840868802933 ...  13.74060091843433\n",
       "               1.8  -0.09456140868802931 ... 16.587209565294067\n",
       "              2.25   -0.2926144086880291 ...  15.90586436277294\n",
       "2.6999999999999997  -0.37998340868802916 ... 15.094255039550758"
      ]
     },
     "execution_count": 33,
     "metadata": {},
     "output_type": "execute_result"
    }
   ],
   "source": [
    "iso1.secondaries[whr]"
   ]
  },
  {
   "cell_type": "code",
   "execution_count": 34,
   "metadata": {},
   "outputs": [
    {
     "data": {
      "text/plain": [
       "1"
      ]
     },
     "execution_count": 34,
     "metadata": {},
     "output_type": "execute_result"
    }
   ],
   "source": [
    "# How many merged secondaries are there?\n",
    "len([x for x in iso1.secondaries[whr]['merged'] if x])"
   ]
  },
  {
   "cell_type": "markdown",
   "metadata": {},
   "source": [
    "Plot the mass-luminosity relationship of the clusters (primary stars)"
   ]
  },
  {
   "cell_type": "code",
   "execution_count": 35,
   "metadata": {},
   "outputs": [
    {
     "data": {
      "text/plain": [
       "<matplotlib.legend.Legend at 0x7f854a2cfa20>"
      ]
     },
     "execution_count": 35,
     "metadata": {},
     "output_type": "execute_result"
    },
    {
     "data": {
      "image/png": "[encoded data removed]",
      "text/plain": [
       "<Figure size 432x288 with 1 Axes>"
      ]
     },
     "metadata": {
      "needs_background": "light"
     },
     "output_type": "display_data"
    }
   ],
   "source": [
    "from astropy import constants as cs\n",
    "from astropy import units as u\n",
    "import matplotlib.pyplot as plt\n",
    "plt.plot(np.log10(clus_1.star_systems['mass_current']), np.log10(clus_1.star_systems[\"L\"]/cs.L_sun), \"r.\", label=\"Binary_Cluster made from BPASS \", alpha =1)\n",
    "plt.plot(np.log10(clus_2.star_systems['mass_current']), np.log10(clus_2.star_systems[\"L\"]/(cs.L_sun*1/u.W)), \"b+\", label=\"Cluster made from MISTv.1\", alpha=0.1)\n",
    "plt.xlabel(\"log10(Current Mass in solar masses)\")\n",
    "plt.ylabel(\"log10(L/L_solar)\")\n",
    "plt.title(\"log-Mass-logL of Cluster at solar metallicity and 10**8.2 years age (primaries and singles)\")\n",
    "plt.legend()\n",
    "# Rough pattern seems to fit. What's that line?"
   ]
  },
  {
   "cell_type": "markdown",
   "metadata": {},
   "source": [
    "Plot the mass-luminosity relationship of the isochrone"
   ]
  },
  {
   "cell_type": "code",
   "execution_count": 36,
   "metadata": {},
   "outputs": [
    {
     "data": {
      "text/plain": [
       "<matplotlib.legend.Legend at 0x7f856ae85198>"
      ]
     },
     "execution_count": 36,
     "metadata": {},
     "output_type": "execute_result"
    },
    {
     "data": {
      "image/png": "[encoded data removed]",
      "text/plain": [
       "<Figure size 432x288 with 1 Axes>"
      ]
     },
     "metadata": {
      "needs_background": "light"
     },
     "output_type": "display_data"
    }
   ],
   "source": [
    "# Plot the mass-luminosity relationship\n",
    "from astropy import constants as cs\n",
    "import matplotlib.pyplot as plt\n",
    "plt.plot(np.log10(iso1.primaries['mass_current']), np.log10(iso1.primaries[\"L\"]/cs.L_sun), \"r.\")\n",
    "plt.plot(np.log10(iso1.secondaries['mass_current']), np.log10(iso1.secondaries[\"L\"]/cs.L_sun), \"r.\")\n",
    "plt.plot(np.log10(iso1.singles['mass_current']), np.log10(iso1.singles[\"L\"]/cs.L_sun), \"r.\", label=\"BPASS isochrone\")\n",
    "plt.plot(np.log10(iso2.points['mass_current']), np.log10(iso2.points[\"L\"]/cs.L_sun), \"b+\", label=\"MISTv1\", alpha=0.25)\n",
    "plt.xlabel(\"log10(Current Mass in solar masses)\")\n",
    "plt.ylabel(\"log10(L/L_solar)\")\n",
    "plt.title(\"log Mass-logL of Isochrones at solar metallicity and 10**8.2 years age\")\n",
    "plt.legend()\n",
    "# Rough pattern seems to fit. What's that line?"
   ]
  },
  {
   "cell_type": "markdown",
   "metadata": {},
   "source": [
    "Examining the phases of primary stars that have luminosities of less than L_sun * 1/sqrt(2)"
   ]
  },
  {
   "cell_type": "code",
   "execution_count": 37,
   "metadata": {},
   "outputs": [
    {
     "name": "stderr",
     "output_type": "stream",
     "text": [
      "/opt/anaconda3/envs/astroconda/lib/python3.7/site-packages/astropy/units/quantity.py:477: RuntimeWarning: invalid value encountered in less\n",
      "  result = super().__array_ufunc__(function, method, *arrays, **kwargs)\n"
     ]
    },
    {
     "data": {
      "text/html": [
       "&lt;Column name=&apos;phase&apos; dtype=&apos;float64&apos; length=2&gt;\n",
       "<table>\n",
       "<tr><td>5.0</td></tr>\n",
       "<tr><td>101.0</td></tr>\n",
       "</table>"
      ],
      "text/plain": [
       "<Column name='phase' dtype='float64' length=2>\n",
       "  5.0\n",
       "101.0"
      ]
     },
     "execution_count": 37,
     "metadata": {},
     "output_type": "execute_result"
    }
   ],
   "source": [
    "np.unique(clus_1.star_systems[np.where(np.log10(clus_1.star_systems['L']/cs.L_sun)<-0.5)]['phase'])"
   ]
  },
  {
   "cell_type": "markdown",
   "metadata": {},
   "source": [
    "Sanity check: check that there are no phase 0 star systems"
   ]
  },
  {
   "cell_type": "code",
   "execution_count": 38,
   "metadata": {},
   "outputs": [
    {
     "data": {
      "text/html": [
       "<i>Table length=0</i>\n",
       "<table id=\"table140210183708568\" class=\"table-striped table-bordered table-condensed\">\n",
       "<thead><tr><th>mass</th><th>systemMass</th><th>Teff</th><th>L</th><th>logg</th><th>isWR</th><th>mass_current</th><th>phase</th><th>metallicity</th><th>isMultiple</th><th>merged</th><th>m_ubv_U</th><th>m_ubv_V</th><th>m_ubv_B</th><th>m_ubv_R</th><th>m_ubv_I</th></tr></thead>\n",
       "<thead><tr><th>solMass</th><th></th><th>K</th><th>W</th><th></th><th></th><th>solMass</th><th></th><th></th><th></th><th></th><th></th><th></th><th></th><th></th><th></th></tr></thead>\n",
       "<thead><tr><th>float64</th><th>float64</th><th>float64</th><th>float64</th><th>float64</th><th>bool</th><th>float64</th><th>float64</th><th>float64</th><th>bool</th><th>bool</th><th>float64</th><th>float64</th><th>float64</th><th>float64</th><th>float64</th></tr></thead>\n",
       "</table>"
      ],
      "text/plain": [
       "<Table length=0>\n",
       "  mass  systemMass   Teff     L      logg  ... m_ubv_V m_ubv_B m_ubv_R m_ubv_I\n",
       "solMass               K       W            ...                                \n",
       "float64  float64   float64 float64 float64 ... float64 float64 float64 float64\n",
       "------- ---------- ------- ------- ------- ... ------- ------- ------- -------"
      ]
     },
     "execution_count": 38,
     "metadata": {},
     "output_type": "execute_result"
    }
   ],
   "source": [
    "clus_1.star_systems[np.where(clus_1.star_systems['phase']==0)]"
   ]
  },
  {
   "cell_type": "markdown",
   "metadata": {},
   "source": [
    "Taking a look at the Binary Cluster vs Default Settings cluster Observer's HR Diagram\n",
    "Remember to use a distance modulus!"
   ]
  },
  {
   "cell_type": "code",
   "execution_count": 39,
   "metadata": {},
   "outputs": [
    {
     "data": {
      "text/plain": [
       "<matplotlib.legend.Legend at 0x7f853a3356d8>"
      ]
     },
     "execution_count": 39,
     "metadata": {},
     "output_type": "execute_result"
    },
    {
     "data": {
      "image/png": "[encoded data removed]",
      "text/plain": [
       "<Figure size 432x288 with 1 Axes>"
      ]
     },
     "metadata": {
      "needs_background": "light"
     },
     "output_type": "display_data"
    }
   ],
   "source": [
    "# Taking a look at the Binary Cluster vs Default Settings cluster Observer's HR Diagram\n",
    "# Remember to use a distance modulus!\n",
    "import matplotlib.pyplot as plt\n",
    "plt.plot(clus_1.star_systems['m_ubv_B']-clus_1.star_systems[\"m_ubv_V\"], clus_1.star_systems[\"m_ubv_V\"]-5*np.log10(200), \"r.\",label=\"BPASS\")\n",
    "plt.plot(clus_2.star_systems['m_ubv_B']-clus_2.star_systems[\"m_ubv_V\"], clus_2.star_systems[\"m_ubv_V\"]-5*np.log10(200), \"b+\", label=\"MISTv1\", alpha=0.2)\n",
    "plt.xlabel(\"B-V\")\n",
    "plt.ylabel(\"pseudo M_V\")\n",
    "plt.title(\"Color magnitude Diagram of clusters at solar metallicity and 10**8.2 years age\")\n",
    "plt.gca().invert_yaxis()\n",
    "plt.legend()"
   ]
  },
  {
   "cell_type": "markdown",
   "metadata": {},
   "source": [
    "One thing to note about the Binary_Cluster is that it does include the units as information for columns.\n",
    "The usual ResolvedCluster does not. Thus the latter has a disadvantage when we do comparisons with solar luminosity.\n",
    "\n",
    "In any case let's compare the actual masses of the cluster"
   ]
  },
  {
   "cell_type": "code",
   "execution_count": 40,
   "metadata": {},
   "outputs": [
    {
     "data": {
      "text/plain": [
       "1592.0969630062432"
      ]
     },
     "execution_count": 40,
     "metadata": {},
     "output_type": "execute_result"
    }
   ],
   "source": [
    "np.sum(clus_1.star_systems['systemMass'])"
   ]
  },
  {
   "cell_type": "code",
   "execution_count": 41,
   "metadata": {},
   "outputs": [
    {
     "data": {
      "text/plain": [
       "1999.463078678761"
      ]
     },
     "execution_count": 41,
     "metadata": {},
     "output_type": "execute_result"
    }
   ],
   "source": [
    "np.sum(clus_2.star_systems['systemMass'])"
   ]
  }
 ],
 "metadata": {
  "kernelspec": {
   "display_name": "astroconda",
   "language": "python",
   "name": "astroconda"
  },
  "language_info": {
   "codemirror_mode": {
    "name": "ipython",
    "version": 3
   },
   "file_extension": ".py",
   "mimetype": "text/x-python",
   "name": "python",
   "nbconvert_exporter": "python",
   "pygments_lexer": "ipython3",
   "version": "3.7.3"
  }
 },
 "nbformat": 4,
 "nbformat_minor": 2
}
