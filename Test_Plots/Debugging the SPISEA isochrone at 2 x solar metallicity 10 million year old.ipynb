{
 "cells": [
  {
   "cell_type": "markdown",
   "metadata": {},
   "source": [
    "## Testing the BPASS isochrone at 10^7 years age.\n",
    "In this BPASS isochrone and cluster plot, I go over the BPASS isochrone for $10^{7.0}$ years age, 2*solar metallicity, AKs=0.7, and distance of 1000 parsecs from Earth. From the isochrone and cluster, we discuss several plots such as the log_g frequency distribution of the isochrone, the color magnitude diagram (B-V vs M_V), and the mass luminosity relationship of the cluster.\n",
    "Important note when I use M_V, it is a pseudo-absolute magnitude. I.e. it is basically absolute magnitude without taking into account extinction.\n",
    "\n",
    "Formula for pseudo-absolute magnitude:\n",
    "pseudo-M_V = m_V - 5$log_{10}$(distance to cluster/ 10 pc)"
   ]
  },
  {
   "cell_type": "markdown",
   "metadata": {},
   "source": [
    "## This is for demonstration and practice as well as debugging purposes."
   ]
  },
  {
   "cell_type": "code",
   "execution_count": 1,
   "metadata": {},
   "outputs": [
    {
     "name": "stderr",
     "output_type": "stream",
     "text": [
      "/opt/anaconda3/envs/astroconda/lib/python3.7/site-packages/pysynphot/locations.py:346: UserWarning: Extinction files not found in /g/lu/models/cdbs/extinction\n",
      "  warnings.warn('Extinction files not found in %s' % (extdir, ))\n",
      "/opt/anaconda3/envs/astroconda/lib/python3.7/site-packages/pysynphot/refs.py:125: UserWarning: No thermal tables found, no thermal calculations can be performed. No files found for /g/lu/models/cdbs/mtab/*_tmt.fits\n",
      "  'no thermal calculations can be performed. ' + str(e))\n",
      "/opt/anaconda3/envs/astroconda/lib/python3.7/site-packages/astropy/units/quantity.py:477: RuntimeWarning: invalid value encountered in true_divide\n",
      "  result = super().__array_ufunc__(function, method, *arrays, **kwargs)\n",
      "/u/ryotainagaki/Desktop/PyPopStar/spisea/evolution.py:1792: RuntimeWarning: overflow encountered in power\n",
      "  (1 / cs.au) * un.m)\n",
      "/opt/anaconda3/envs/astroconda/lib/python3.7/site-packages/astropy/table/column.py:1020: RuntimeWarning: invalid value encountered in greater\n",
      "  result = getattr(super(), op)(other)\n",
      "/opt/anaconda3/envs/astroconda/lib/python3.7/site-packages/astropy/table/column.py:1020: RuntimeWarning: invalid value encountered in less_equal\n",
      "  result = getattr(super(), op)(other)\n",
      "/opt/anaconda3/envs/astroconda/lib/python3.7/site-packages/astropy/units/quantity.py:477: RuntimeWarning: divide by zero encountered in true_divide\n",
      "  result = super().__array_ufunc__(function, method, *arrays, **kwargs)\n"
     ]
    },
    {
     "name": "stdout",
     "output_type": "stream",
     "text": [
      "Changing to logg=4.50 for T= 39120 logg=3.47\n",
      "Changing to logg=4.50 for T= 43557 logg=3.64\n",
      "Changing to logg=4.50 for T= 40457 logg=3.44\n",
      "Changing to logg=4.50 for T= 44230 logg=3.65\n",
      "Changing to logg=4.00 for T= 37847 logg=3.33\n",
      "Changing to logg=4.00 for T= 33440 logg=3.12\n",
      "Changing to logg=4.50 for T= 42430 logg=3.60\n",
      "Changing to logg=4.50 for T= 46410 logg=3.73\n",
      "Changing to logg=4.00 for T= 37061 logg=3.29\n",
      "Changing to T= 50000 for T= 83751 logg=5.26\n",
      "Changing to logg=5.00 for T= 83751 logg=5.26\n",
      "Changing to logg=4.50 for T= 43687 logg=3.65\n",
      "Changing to T= 50000 for T= 79807 logg=5.27\n",
      "Changing to logg=5.00 for T= 79807 logg=5.27\n",
      "Changing to logg=4.50 for T= 41344 logg=3.57\n",
      "Changing to T= 50000 for T= 93590 logg=5.40\n",
      "Changing to logg=5.00 for T= 93590 logg=5.40\n",
      "Changing to logg=4.50 for T= 45555 logg=3.71\n",
      "Changing to T= 50000 for T= 91612 logg=5.35\n",
      "Changing to logg=5.00 for T= 91612 logg=5.35\n",
      "Changing to T= 50000 for T= 92338 logg=5.41\n",
      "Changing to logg=5.00 for T= 92338 logg=5.41\n",
      "Changing to logg=4.50 for T= 41003 logg=3.55\n",
      "Changing to T= 50000 for T= 91920 logg=5.37\n",
      "Changing to logg=5.00 for T= 91920 logg=5.37\n",
      "Changing to logg=4.50 for T= 39001 logg=3.37\n",
      "Changing to T= 50000 for T= 89673 logg=5.34\n",
      "Changing to logg=5.00 for T= 89673 logg=5.34\n",
      "Changing to logg=4.00 for T= 31543 logg=3.64\n",
      "Changing to T= 50000 for T= 83435 logg=5.37\n",
      "Changing to logg=5.00 for T= 83435 logg=5.37\n",
      "Changing to logg=4.50 for T= 44074 logg=3.65\n",
      "Changing to T= 50000 for T= 92948 logg=5.38\n",
      "Changing to logg=5.00 for T= 92948 logg=5.38\n",
      "Changing to T= 50000 for T= 91275 logg=5.36\n",
      "Changing to logg=5.00 for T= 91275 logg=5.36\n",
      "Changing to logg=4.00 for T= 31026 logg=3.92\n",
      "Changing to logg=4.00 for T= 32316 logg=3.07\n",
      "Changing to logg=2.50 for T= 18284 logg=2.45\n",
      "Changing to logg=4.50 for T= 46780 logg=3.74\n",
      "Changing to logg=4.50 for T= 41895 logg=3.58\n",
      "Changing to logg=4.00 for T= 36561 logg=3.27\n",
      "Changing to logg=4.50 for T= 42662 logg=3.59\n",
      "Changing to logg=4.50 for T= 42790 logg=3.61\n",
      "Changing to logg=4.50 for T= 42161 logg=3.59\n",
      "Changing to T= 50000 for T= 90676 logg=5.34\n",
      "Changing to logg=5.00 for T= 90676 logg=5.34\n",
      "Changing to logg=4.50 for T= 39518 logg=3.39\n",
      "Changing to T= 50000 for T= 89569 logg=5.37\n",
      "Changing to logg=5.00 for T= 89569 logg=5.37\n",
      "Changing to logg=4.50 for T= 42881 logg=3.62\n",
      "Changing to logg=4.50 for T= 42323 logg=3.60\n",
      "Changing to logg=4.50 for T= 43786 logg=3.65\n",
      "Changing to logg=4.50 for T= 40557 logg=3.44\n",
      "Changing to logg=4.50 for T= 42153 logg=3.50\n",
      "Changing to T= 50000 for T= 91519 logg=5.39\n",
      "Changing to logg=5.00 for T= 91519 logg=5.39\n",
      "Changing to T= 50000 for T= 93648 logg=5.40\n",
      "Changing to logg=5.00 for T= 93648 logg=5.40\n",
      "Changing to logg=4.50 for T= 39939 logg=3.50\n",
      "Changing to logg=4.00 for T= 36014 logg=3.25\n",
      "Changing to logg=4.50 for T= 44543 logg=3.68\n",
      "Changing to logg=4.50 for T= 44133 logg=3.66\n",
      "Changing to logg=4.50 for T= 39376 logg=3.39\n",
      "Changing to logg=3.50 for T= 29614 logg=2.96\n",
      "Changing to logg=4.50 for T= 42337 logg=3.60\n",
      "Changing to logg=4.50 for T= 41575 logg=3.57\n",
      "Changing to logg=4.50 for T= 40452 logg=3.44\n",
      "Changing to logg=4.50 for T= 44152 logg=3.65\n",
      "Changing to T= 50000 for T= 89174 logg=5.31\n",
      "Changing to logg=5.00 for T= 89174 logg=5.31\n",
      "Changing to T= 50000 for T= 90078 logg=5.35\n",
      "Changing to logg=5.00 for T= 90078 logg=5.35\n",
      "Changing to logg=4.50 for T= 41451 logg=3.47\n",
      "Changing to logg=4.50 for T= 41652 logg=3.57\n",
      "Changing to logg=4.50 for T= 40493 logg=3.53\n",
      "Changing to logg=4.50 for T= 41742 logg=3.49\n",
      "Changing to logg=4.00 for T= 35274 logg=3.22\n",
      "Changing to T= 50000 for T= 90024 logg=5.34\n",
      "Changing to logg=5.00 for T= 90024 logg=5.34\n",
      "Changing to logg=4.50 for T= 42008 logg=3.59\n",
      "Changing to logg=4.50 for T= 40957 logg=3.55\n",
      "Changing to logg=4.50 for T= 40077 logg=3.41\n",
      "Changing to logg=4.00 for T= 38618 logg=3.36\n",
      "Changing to logg=4.50 for T= 44417 logg=3.66\n",
      "Changing to logg=3.50 for T= 29216 logg=3.47\n",
      "Changing to logg=4.50 for T= 43736 logg=3.65\n",
      "Changing to logg=4.50 for T= 43832 logg=3.63\n",
      "Changing to logg=4.00 for T= 36035 logg=3.28\n",
      "Changing to logg=4.00 for T= 33477 logg=3.86\n",
      "Changing to T= 50000 for T= 93235 logg=5.41\n",
      "Changing to logg=5.00 for T= 93235 logg=5.41\n",
      "Changing to logg=2.50 for T= 18043 logg=2.34\n",
      "Changing to logg=4.50 for T= 42282 logg=3.58\n",
      "Changing to logg=4.50 for T= 39750 logg=3.50\n",
      "Changing to T= 50000 for T= 84138 logg=5.32\n",
      "Changing to logg=5.00 for T= 84138 logg=5.32\n",
      "Changing to logg=4.50 for T= 42209 logg=3.60\n",
      "Changing to logg=4.50 for T= 39750 logg=3.41\n",
      "Changing to logg=4.50 for T= 46507 logg=3.92\n",
      "Changing to logg=4.50 for T= 41143 logg=3.55\n",
      "Changing to T= 50000 for T= 90795 logg=5.34\n",
      "Changing to logg=5.00 for T= 90795 logg=5.34\n",
      "Changing to logg=4.00 for T= 32432 logg=3.73\n",
      "Changing to logg=4.50 for T= 39265 logg=3.48\n",
      "Changing to logg=4.50 for T= 47204 logg=3.76\n",
      "Changing to logg=4.00 for T= 37926 logg=3.46\n",
      "Changing to logg=4.50 for T= 43652 logg=3.63\n",
      "Changing to logg=4.50 for T= 43514 logg=3.64\n",
      "Changing to logg=4.50 for T= 40935 logg=3.55\n",
      "Changing to logg=4.50 for T= 47399 logg=3.77\n",
      "Changing to T= 50000 for T= 89809 logg=5.33\n",
      "Changing to logg=5.00 for T= 89809 logg=5.33\n",
      "Changing to T= 50000 for T= 90174 logg=5.38\n",
      "Changing to logg=5.00 for T= 90174 logg=5.38\n",
      "Changing to T= 50000 for T= 93087 logg=5.37\n",
      "Changing to logg=5.00 for T= 93087 logg=5.37\n",
      "Changing to logg=4.00 for T= 37400 logg=3.30\n",
      "Changing to T= 50000 for T= 92974 logg=5.39\n",
      "Changing to logg=5.00 for T= 92974 logg=5.39\n",
      "Changing to T= 50000 for T= 91422 logg=5.36\n",
      "Changing to logg=5.00 for T= 91422 logg=5.36\n",
      "Changing to logg=4.50 for T= 44356 logg=3.66\n",
      "Changing to T= 50000 for T= 91233 logg=5.35\n",
      "Changing to logg=5.00 for T= 91233 logg=5.35\n",
      "Changing to T= 50000 for T= 93579 logg=5.38\n",
      "Changing to logg=5.00 for T= 93579 logg=5.38\n",
      "Changing to logg=4.50 for T= 39626 logg=3.49\n",
      "Changing to logg=4.50 for T= 44742 logg=3.67\n",
      "Changing to logg=4.50 for T= 44713 logg=3.67\n",
      "Changing to T= 50000 for T= 90993 logg=5.36\n",
      "Changing to logg=5.00 for T= 90993 logg=5.36\n",
      "Changing to logg=4.50 for T= 41573 logg=3.57\n",
      "Changing to logg=4.00 for T= 38403 logg=3.45\n",
      "Changing to logg=4.50 for T= 39700 logg=3.50\n",
      "Changing to T= 50000 for T= 80098 logg=4.57\n",
      "Changing to logg=5.00 for T= 80098 logg=4.57\n",
      "Changing to T= 50000 for T= 93405 logg=5.40\n",
      "Changing to logg=5.00 for T= 93405 logg=5.40\n",
      "Changing to logg=4.50 for T= 41460 logg=3.48\n",
      "Changing to T= 50000 for T= 87000 logg=5.25\n",
      "Changing to logg=5.00 for T= 87000 logg=5.25\n",
      "Changing to T= 50000 for T= 89559 logg=5.33\n",
      "Changing to logg=5.00 for T= 89559 logg=5.33\n",
      "Changing to logg=4.50 for T= 39965 logg=3.51\n",
      "Changing to T= 50000 for T= 89726 logg=5.35\n",
      "Changing to logg=5.00 for T= 89726 logg=5.35\n",
      "Changing to logg=4.50 for T= 42675 logg=3.61\n",
      "Changing to T= 50000 for T= 91071 logg=5.36\n",
      "Changing to logg=5.00 for T= 91071 logg=5.36\n",
      "Changing to T= 50000 for T= 90450 logg=5.36\n",
      "Changing to logg=5.00 for T= 90450 logg=5.36\n",
      "Changing to T= 50000 for T= 73242 logg=4.80\n",
      "Changing to logg=5.00 for T= 73242 logg=4.80\n",
      "Changing to T= 50000 for T= 90498 logg=5.37\n",
      "Changing to logg=5.00 for T= 90498 logg=5.37\n",
      "Changing to T= 50000 for T= 93607 logg=5.39\n",
      "Changing to logg=5.00 for T= 93607 logg=5.39\n",
      "Changing to logg=3.00 for T= 20425 logg=2.85\n",
      "Changing to T= 50000 for T= 89702 logg=5.33\n",
      "Changing to logg=5.00 for T= 89702 logg=5.33\n",
      "Changing to logg=4.50 for T= 44758 logg=3.67\n",
      "Changing to logg=4.50 for T= 39036 logg=3.37\n",
      "Changing to T= 50000 for T= 90398 logg=5.37\n",
      "Changing to logg=5.00 for T= 90398 logg=5.37\n",
      "Changing to logg=4.50 for T= 39065 logg=3.47\n",
      "Changing to T= 50000 for T= 91912 logg=5.35\n",
      "Changing to logg=5.00 for T= 91912 logg=5.35\n",
      "Changing to logg=4.00 for T= 35306 logg=3.22\n",
      "Changing to logg=4.50 for T= 44766 logg=3.68\n",
      "Changing to logg=4.50 for T= 44922 logg=3.68\n",
      "Changing to logg=2.50 for T= 14339 logg=1.95\n",
      "Changing to T= 50000 for T= 91025 logg=5.38\n",
      "Changing to logg=5.00 for T= 91025 logg=5.38\n",
      "Changing to logg=2.50 for T= 15007 logg=1.96\n",
      "Changing to T= 50000 for T= 92102 logg=5.37\n",
      "Changing to logg=5.00 for T= 92102 logg=5.37\n",
      "Changing to logg=4.50 for T= 43649 logg=3.65\n",
      "Changing to logg=4.50 for T= 44342 logg=3.67\n",
      "Changing to T= 50000 for T= 93235 logg=5.38\n",
      "Changing to logg=5.00 for T= 93235 logg=5.38\n",
      "Changing to logg=4.00 for T= 31451 logg=3.61\n",
      "Changing to T= 50000 for T= 93433 logg=5.39\n",
      "Changing to logg=5.00 for T= 93433 logg=5.39\n"
     ]
    },
    {
     "name": "stdout",
     "output_type": "stream",
     "text": [
      "Changing to T= 50000 for T= 91344 logg=5.33\n",
      "Changing to logg=5.00 for T= 91344 logg=5.33\n",
      "Changing to logg=4.00 for T= 36114 logg=3.25\n",
      "Changing to logg=4.50 for T= 41828 logg=3.58\n",
      "Changing to logg=4.50 for T= 44118 logg=3.65\n",
      "Changing to logg=4.50 for T= 42528 logg=3.52\n",
      "Changing to logg=4.50 for T= 44679 logg=3.67\n",
      "Changing to T= 50000 for T= 81756 logg=4.58\n",
      "Changing to logg=5.00 for T= 81756 logg=4.58\n",
      "Changing to logg=4.00 for T= 37877 logg=3.32\n",
      "Changing to logg=4.50 for T= 41923 logg=3.57\n",
      "Changing to T= 50000 for T= 93897 logg=5.40\n",
      "Changing to logg=5.00 for T= 93897 logg=5.40\n",
      "Changing to logg=4.50 for T= 42580 logg=3.59\n",
      "Changing to logg=4.50 for T= 44456 logg=3.66\n",
      "Changing to logg=4.00 for T= 37988 logg=3.34\n",
      "Changing to logg=2.50 for T= 14803 logg=1.67\n",
      "Changing to logg=4.00 for T= 36581 logg=3.27\n",
      "Changing to logg=4.00 for T= 38756 logg=3.36\n",
      "Changing to logg=4.00 for T= 38803 logg=3.52\n",
      "Changing to logg=4.00 for T= 36906 logg=3.42\n",
      "Changing to logg=4.50 for T= 44405 logg=3.66\n",
      "Changing to T= 50000 for T= 88056 logg=5.26\n",
      "Changing to logg=5.00 for T= 88056 logg=5.26\n",
      "Changing to logg=4.50 for T= 43261 logg=3.61\n",
      "Changing to T= 50000 for T= 93126 logg=5.39\n",
      "Changing to logg=5.00 for T= 93126 logg=5.39\n",
      "Changing to logg=4.50 for T= 41748 logg=3.58\n",
      "Changing to T= 50000 for T= 93866 logg=5.39\n",
      "Changing to logg=5.00 for T= 93866 logg=5.39\n",
      "Changing to T= 50000 for T= 92162 logg=5.39\n",
      "Changing to logg=5.00 for T= 92162 logg=5.39\n",
      "Changing to T= 50000 for T= 92253 logg=5.38\n",
      "Changing to logg=5.00 for T= 92253 logg=5.38\n",
      "Changing to logg=4.00 for T= 37955 logg=3.34\n",
      "Changing to logg=4.50 for T= 40915 logg=3.54\n",
      "Changing to T= 50000 for T= 90811 logg=5.39\n",
      "Changing to logg=5.00 for T= 90811 logg=5.39\n",
      "Changing to logg=4.50 for T= 44213 logg=3.65\n",
      "Changing to logg=4.50 for T= 45108 logg=3.69\n",
      "Changing to T= 50000 for T= 90357 logg=5.33\n",
      "Changing to logg=5.00 for T= 90357 logg=5.33\n",
      "Changing to logg=4.00 for T= 35763 logg=3.24\n",
      "Changing to logg=4.50 for T= 39252 logg=3.47\n",
      "Changing to T= 50000 for T= 90031 logg=5.36\n",
      "Changing to logg=5.00 for T= 90031 logg=5.36\n",
      "Changing to logg=4.50 for T= 45045 logg=3.68\n",
      "Changing to logg=4.50 for T= 39714 logg=3.50\n",
      "Changing to T= 50000 for T= 91485 logg=5.36\n",
      "Changing to logg=5.00 for T= 91485 logg=5.36\n",
      "Changing to logg=4.00 for T= 36886 logg=3.28\n",
      "Changing to logg=4.50 for T= 43883 logg=3.65\n",
      "Changing to logg=4.00 for T= 38337 logg=3.35\n",
      "Changing to T= 50000 for T= 89811 logg=5.32\n",
      "Changing to logg=5.00 for T= 89811 logg=5.32\n",
      "Changing to logg=4.00 for T= 35487 logg=3.22\n",
      "Changing to T= 50000 for T= 92813 logg=5.38\n",
      "Changing to logg=5.00 for T= 92813 logg=5.38\n",
      "Changing to logg=3.00 for T= 21029 logg=2.83\n",
      "Changing to logg=4.50 for T= 41592 logg=3.57\n",
      "Changing to logg=4.50 for T= 39668 logg=3.49\n",
      "Changing to T= 50000 for T= 98401 logg=5.36\n",
      "Changing to logg=5.00 for T= 98401 logg=5.36\n",
      "Changing to logg=4.50 for T= 42432 logg=3.61\n",
      "Changing to T= 50000 for T=103145 logg=5.48\n",
      "Changing to logg=5.00 for T=103145 logg=5.48\n",
      "Changing to logg=4.50 for T= 47185 logg=3.76\n",
      "Changing to logg=4.50 for T= 41277 logg=3.56\n",
      "Changing to logg=4.00 for T= 37502 logg=3.31\n",
      "Changing to T= 50000 for T= 84553 logg=5.39\n",
      "Changing to logg=5.00 for T= 84553 logg=5.39\n",
      "Changing to logg=4.00 for T= 35865 logg=3.24\n",
      "Changing to logg=4.00 for T= 32297 logg=3.07\n",
      "Changing to T= 50000 for T= 92317 logg=5.38\n",
      "Changing to logg=5.00 for T= 92317 logg=5.38\n",
      "Changing to T= 50000 for T= 93076 logg=5.40\n",
      "Changing to logg=5.00 for T= 93076 logg=5.40\n",
      "Changing to T= 50000 for T= 90282 logg=5.33\n",
      "Changing to logg=5.00 for T= 90282 logg=5.33\n",
      "Changing to T= 50000 for T= 92835 logg=5.40\n",
      "Changing to logg=5.00 for T= 92835 logg=5.40\n",
      "Changing to logg=4.50 for T= 39580 logg=3.40\n",
      "Changing to logg=4.50 for T= 39886 logg=3.49\n",
      "Changing to logg=4.50 for T= 42526 logg=3.59\n",
      "Changing to logg=4.00 for T= 36593 logg=3.27\n",
      "Changing to logg=4.50 for T= 40274 logg=3.42\n",
      "Changing to logg=4.50 for T= 41093 logg=3.55\n",
      "Changing to logg=3.50 for T= 27854 logg=3.41\n",
      "Changing to T= 50000 for T= 79910 logg=4.56\n",
      "Changing to logg=5.00 for T= 79910 logg=4.56\n",
      "Changing to T= 50000 for T= 91880 logg=5.40\n",
      "Changing to logg=5.00 for T= 91880 logg=5.40\n",
      "Changing to logg=4.50 for T= 40234 logg=3.52\n",
      "Changing to T= 50000 for T=100902 logg=5.45\n",
      "Changing to logg=5.00 for T=100902 logg=5.45\n",
      "Changing to logg=4.00 for T= 35639 logg=3.22\n",
      "Changing to logg=4.50 for T= 42552 logg=3.59\n",
      "Changing to T= 50000 for T= 91571 logg=5.37\n",
      "Changing to logg=5.00 for T= 91571 logg=5.37\n",
      "Changing to T= 50000 for T= 93739 logg=5.39\n",
      "Changing to logg=5.00 for T= 93739 logg=5.39\n",
      "Changing to logg=4.00 for T= 37896 logg=3.32\n",
      "Changing to logg=4.00 for T= 35706 logg=3.23\n",
      "Changing to logg=4.50 for T= 39239 logg=3.47\n",
      "Changing to logg=4.50 for T= 40436 logg=3.44\n",
      "Changing to logg=4.00 for T= 37598 logg=3.31\n",
      "Changing to logg=4.00 for T= 35845 logg=3.24\n",
      "Changing to T= 50000 for T= 90826 logg=5.36\n",
      "Changing to logg=5.00 for T= 90826 logg=5.36\n",
      "Changing to T= 50000 for T= 93259 logg=5.38\n",
      "Changing to logg=5.00 for T= 93259 logg=5.38\n",
      "Changing to logg=4.00 for T= 35662 logg=3.23\n",
      "Changing to logg=4.50 for T= 39181 logg=3.38\n",
      "Changing to T= 50000 for T= 87289 logg=5.25\n",
      "Changing to logg=5.00 for T= 87289 logg=5.25\n",
      "Changing to logg=4.50 for T= 44207 logg=3.66\n",
      "Changing to logg=4.50 for T= 41506 logg=3.57\n",
      "Changing to T= 50000 for T= 89209 logg=5.41\n",
      "Changing to logg=5.00 for T= 89209 logg=5.41\n",
      "Changing to T= 50000 for T= 88241 logg=5.28\n",
      "Changing to logg=5.00 for T= 88241 logg=5.28\n",
      "Changing to logg=4.00 for T= 38528 logg=3.49\n",
      "Changing to logg=4.50 for T= 41616 logg=3.57\n",
      "Changing to T= 50000 for T= 87918 logg=4.74\n",
      "Changing to logg=5.00 for T= 87918 logg=4.74\n",
      "Changing to logg=4.50 for T= 46337 logg=3.73\n",
      "Changing to logg=4.50 for T= 44772 logg=3.68\n",
      "Changing to logg=4.50 for T= 44460 logg=3.66\n",
      "Changing to logg=4.50 for T= 41992 logg=3.50\n",
      "Changing to logg=4.00 for T= 36162 logg=3.25\n",
      "Changing to logg=4.00 for T= 36067 logg=3.24\n",
      "Changing to logg=4.50 for T= 39383 logg=3.48\n",
      "Changing to logg=4.50 for T= 43393 logg=3.62\n",
      "Changing to logg=4.00 for T= 37984 logg=3.32\n",
      "Changing to T= 50000 for T= 90155 logg=5.34\n",
      "Changing to logg=5.00 for T= 90155 logg=5.34\n",
      "Changing to logg=4.00 for T= 36698 logg=3.27\n",
      "Changing to logg=4.50 for T= 42463 logg=3.60\n",
      "Changing to logg=4.50 for T= 42554 logg=3.59\n",
      "Changing to logg=4.50 for T= 45322 logg=3.68\n",
      "Changing to logg=3.00 for T= 21791 logg=2.99\n",
      "Changing to T= 50000 for T= 91926 logg=5.37\n",
      "Changing to logg=5.00 for T= 91926 logg=5.37\n",
      "Changing to logg=4.50 for T= 41290 logg=3.56\n",
      "Changing to T= 50000 for T= 92495 logg=5.39\n",
      "Changing to logg=5.00 for T= 92495 logg=5.39\n",
      "Changing to logg=4.50 for T= 42495 logg=3.60\n",
      "Changing to T= 50000 for T= 90763 logg=5.40\n",
      "Changing to logg=5.00 for T= 90763 logg=5.40\n",
      "Changing to logg=4.50 for T= 43274 logg=3.63\n",
      "Changing to logg=4.50 for T= 43395 logg=3.63\n",
      "Changing to T= 50000 for T= 89792 logg=5.37\n",
      "Changing to logg=5.00 for T= 89792 logg=5.37\n",
      "Changing to logg=4.50 for T= 44917 logg=3.68\n",
      "Changing to T= 50000 for T= 92444 logg=5.39\n",
      "Changing to logg=5.00 for T= 92444 logg=5.39\n",
      "Changing to logg=4.00 for T= 36441 logg=3.26\n",
      "Changing to T= 50000 for T= 93661 logg=5.38\n",
      "Changing to logg=5.00 for T= 93661 logg=5.38\n",
      "Changing to T= 50000 for T= 89148 logg=5.32\n",
      "Changing to logg=5.00 for T= 89148 logg=5.32\n",
      "Changing to T= 50000 for T=106743 logg=5.52\n",
      "Changing to logg=5.00 for T=106743 logg=5.52\n",
      "Changing to logg=2.50 for T= 14086 logg=2.10\n",
      "Changing to T= 50000 for T= 90774 logg=5.37\n",
      "Changing to logg=5.00 for T= 90774 logg=5.37\n",
      "Changing to logg=3.50 for T= 28003 logg=3.31\n",
      "Changing to logg=4.50 for T= 42004 logg=3.58\n",
      "Changing to logg=4.50 for T= 43603 logg=3.64\n",
      "Changing to logg=3.50 for T= 30953 logg=3.01\n",
      "Changing to logg=4.50 for T= 41734 logg=3.48\n",
      "Changing to T= 50000 for T= 91761 logg=5.38\n",
      "Changing to logg=5.00 for T= 91761 logg=5.38\n",
      "Changing to logg=4.50 for T= 45091 logg=3.69\n",
      "Changing to logg=4.00 for T= 38095 logg=3.33\n",
      "Changing to logg=4.50 for T= 44468 logg=3.59\n",
      "Changing to logg=4.00 for T= 36332 logg=3.26\n",
      "Changing to T= 50000 for T= 92153 logg=5.37\n",
      "Changing to logg=5.00 for T= 92153 logg=5.37\n",
      "Changing to logg=4.00 for T= 32363 logg=3.61\n",
      "Changing to logg=4.50 for T= 43834 logg=3.65\n",
      "Changing to logg=4.50 for T= 43220 logg=3.63\n",
      "Changing to T= 50000 for T= 90471 logg=5.35\n",
      "Changing to logg=5.00 for T= 90471 logg=5.35\n"
     ]
    },
    {
     "name": "stdout",
     "output_type": "stream",
     "text": [
      "Changing to T= 50000 for T= 90801 logg=5.32\n",
      "Changing to logg=5.00 for T= 90801 logg=5.32\n",
      "Changing to T= 50000 for T= 93672 logg=5.40\n",
      "Changing to logg=5.00 for T= 93672 logg=5.40\n",
      "Changing to T= 50000 for T= 90035 logg=5.31\n",
      "Changing to logg=5.00 for T= 90035 logg=5.31\n",
      "Changing to T= 50000 for T= 92542 logg=5.38\n",
      "Changing to logg=5.00 for T= 92542 logg=5.38\n",
      "Changing to logg=4.50 for T= 41629 logg=3.57\n",
      "Changing to T= 50000 for T= 89656 logg=5.41\n",
      "Changing to logg=5.00 for T= 89656 logg=5.41\n",
      "Changing to T= 50000 for T= 92423 logg=5.36\n",
      "Changing to logg=5.00 for T= 92423 logg=5.36\n",
      "Changing to logg=4.50 for T= 43284 logg=3.63\n",
      "Changing to logg=4.50 for T= 40866 logg=3.54\n",
      "Changing to logg=4.50 for T= 39826 logg=3.50\n",
      "Changing to logg=4.50 for T= 42287 logg=3.60\n",
      "Changing to logg=4.50 for T= 44827 logg=3.68\n",
      "Changing to T= 50000 for T= 92963 logg=5.40\n",
      "Changing to logg=5.00 for T= 92963 logg=5.40\n",
      "Changing to logg=4.50 for T= 43636 logg=3.64\n",
      "Changing to logg=4.50 for T= 41761 logg=3.58\n",
      "Changing to logg=4.50 for T= 42468 logg=3.61\n",
      "Changing to logg=4.50 for T= 39961 logg=3.50\n",
      "Changing to logg=4.50 for T= 42209 logg=3.59\n",
      "Changing to logg=4.00 for T= 36818 logg=3.28\n",
      "Changing to T= 50000 for T= 90024 logg=5.34\n",
      "Changing to logg=5.00 for T= 90024 logg=5.34\n",
      "Changing to logg=4.50 for T= 43488 logg=3.64\n",
      "Changing to logg=4.00 for T= 36432 logg=3.26\n",
      "Changing to logg=4.00 for T= 36446 logg=3.26\n",
      "Changing to logg=4.00 for T= 36845 logg=3.40\n",
      "Changing to T= 50000 for T= 92485 logg=5.40\n",
      "Changing to logg=5.00 for T= 92485 logg=5.40\n",
      "Changing to logg=4.50 for T= 39113 logg=3.47\n",
      "Changing to logg=4.50 for T= 45085 logg=3.68\n",
      "Changing to logg=4.50 for T= 44715 logg=3.67\n",
      "Changing to logg=4.00 for T= 38701 logg=3.36\n",
      "Changing to logg=3.00 for T= 20213 logg=2.79\n",
      "Changing to T= 50000 for T= 87943 logg=5.27\n",
      "Changing to logg=5.00 for T= 87943 logg=5.27\n",
      "Changing to logg=4.00 for T= 38925 logg=3.47\n",
      "Changing to T= 50000 for T= 90924 logg=5.35\n",
      "Changing to logg=5.00 for T= 90924 logg=5.35\n",
      "Changing to logg=4.00 for T= 35296 logg=3.21\n",
      "Changing to T= 50000 for T= 92266 logg=5.37\n",
      "Changing to logg=5.00 for T= 92266 logg=5.37\n",
      "Changing to logg=4.50 for T= 42181 logg=3.59\n",
      "Changing to logg=4.50 for T= 43254 logg=3.63\n",
      "Changing to logg=4.50 for T= 39769 logg=3.50\n",
      "Changing to logg=4.50 for T= 41407 logg=3.48\n",
      "Changing to T= 50000 for T= 79400 logg=5.38\n",
      "Changing to logg=5.00 for T= 79400 logg=5.38\n",
      "Changing to T= 50000 for T= 50419 logg=3.70\n",
      "Changing to logg=5.00 for T= 50419 logg=3.70\n",
      "Changing to logg=3.00 for T= 19929 logg=2.67\n",
      "Changing to T= 50000 for T= 89209 logg=5.40\n",
      "Changing to logg=5.00 for T= 89209 logg=5.40\n",
      "Changing to logg=4.00 for T= 35958 logg=3.24\n",
      "Changing to logg=4.50 for T= 41724 logg=3.58\n",
      "Changing to logg=4.50 for T= 44658 logg=3.68\n",
      "Changing to T= 50000 for T= 93220 logg=5.39\n",
      "Changing to logg=5.00 for T= 93220 logg=5.39\n",
      "Changing to logg=2.50 for T= 18652 logg=2.44\n",
      "Changing to T= 50000 for T= 92897 logg=5.41\n",
      "Changing to logg=5.00 for T= 92897 logg=5.41\n",
      "Changing to T= 50000 for T=101468 logg=5.46\n",
      "Changing to logg=5.00 for T=101468 logg=5.46\n",
      "Changing to T= 50000 for T= 90016 logg=5.35\n",
      "Changing to logg=5.00 for T= 90016 logg=5.35\n",
      "Changing to T= 50000 for T= 87603 logg=5.38\n",
      "Changing to logg=5.00 for T= 87603 logg=5.38\n",
      "Changing to logg=4.50 for T= 41224 logg=3.55\n",
      "Changing to logg=3.50 for T= 26683 logg=3.21\n",
      "Changing to logg=4.50 for T= 42076 logg=3.50\n",
      "Changing to T= 50000 for T=121169 logg=5.69\n",
      "Changing to logg=5.00 for T=121169 logg=5.69\n",
      "Changing to T= 50000 for T= 92685 logg=5.39\n",
      "Changing to logg=5.00 for T= 92685 logg=5.39\n",
      "Changing to logg=4.00 for T= 35645 logg=3.23\n",
      "Changing to T= 50000 for T= 90070 logg=5.36\n",
      "Changing to logg=5.00 for T= 90070 logg=5.36\n",
      "Changing to T= 50000 for T= 91576 logg=5.37\n",
      "Changing to logg=5.00 for T= 91576 logg=5.37\n",
      "Changing to logg=4.50 for T= 39456 logg=3.60\n",
      "Changing to T= 50000 for T=105969 logg=5.52\n",
      "Changing to logg=5.00 for T=105969 logg=5.52\n",
      "Changing to logg=4.50 for T= 44558 logg=3.67\n",
      "Changing to T= 50000 for T= 90392 logg=5.35\n",
      "Changing to logg=5.00 for T= 90392 logg=5.35\n",
      "Changing to logg=4.50 for T= 39791 logg=3.49\n",
      "Changing to logg=4.50 for T= 43262 logg=3.64\n",
      "Changing to T= 50000 for T= 90567 logg=5.40\n",
      "Changing to logg=5.00 for T= 90567 logg=5.40\n",
      "Changing to logg=4.00 for T= 37034 logg=3.29\n",
      "Changing to logg=4.50 for T= 39645 logg=3.40\n",
      "Changing to T= 50000 for T= 93633 logg=5.40\n",
      "Changing to logg=5.00 for T= 93633 logg=5.40\n",
      "Changing to logg=4.50 for T= 44697 logg=3.68\n",
      "Changing to T= 50000 for T= 91728 logg=5.38\n",
      "Changing to logg=5.00 for T= 91728 logg=5.38\n",
      "Changing to logg=4.50 for T= 44092 logg=3.64\n",
      "Changing to logg=4.50 for T= 40885 logg=3.54\n",
      "Changing to T= 50000 for T= 91825 logg=5.37\n",
      "Changing to logg=5.00 for T= 91825 logg=5.37\n",
      "Changing to T= 50000 for T= 89933 logg=5.30\n",
      "Changing to logg=5.00 for T= 89933 logg=5.30\n",
      "Changing to T= 50000 for T= 93177 logg=5.39\n",
      "Changing to logg=5.00 for T= 93177 logg=5.39\n",
      "Changing to logg=4.50 for T= 41666 logg=3.58\n",
      "Changing to logg=4.50 for T= 41448 logg=3.55\n",
      "Changing to logg=4.00 for T= 35453 logg=3.22\n",
      "Changing to logg=4.50 for T= 42047 logg=3.57\n",
      "Changing to logg=4.50 for T= 42928 logg=3.61\n",
      "Changing to logg=4.50 for T= 41147 logg=3.47\n",
      "Changing to T= 50000 for T= 82813 logg=4.60\n",
      "Changing to logg=5.00 for T= 82813 logg=4.60\n",
      "Changing to T= 50000 for T= 90956 logg=5.38\n",
      "Changing to logg=5.00 for T= 90956 logg=5.38\n",
      "Changing to logg=4.50 for T= 44471 logg=3.66\n",
      "Changing to logg=4.00 for T= 34806 logg=3.18\n",
      "Changing to logg=4.50 for T= 45519 logg=3.70\n",
      "Changing to logg=4.50 for T= 45746 logg=3.71\n",
      "Changing to logg=4.00 for T= 37886 logg=3.33\n",
      "Changing to T= 50000 for T= 90975 logg=5.34\n",
      "Changing to logg=5.00 for T= 90975 logg=5.34\n",
      "Changing to logg=4.50 for T= 39235 logg=3.38\n",
      "Changing to logg=4.50 for T= 43088 logg=3.61\n",
      "Changing to T= 50000 for T= 91321 logg=5.38\n",
      "Changing to logg=5.00 for T= 91321 logg=5.38\n",
      "Changing to T= 50000 for T=107199 logg=5.53\n",
      "Changing to logg=5.00 for T=107199 logg=5.53\n",
      "Changing to logg=4.50 for T= 44320 logg=3.66\n",
      "Changing to logg=4.50 for T= 45741 logg=3.71\n",
      "Changing to logg=4.50 for T= 45720 logg=3.70\n",
      "Changing to logg=4.50 for T= 43011 logg=3.61\n",
      "Changing to logg=4.00 for T= 36383 logg=3.41\n",
      "Changing to T= 50000 for T= 89741 logg=5.34\n",
      "Changing to logg=5.00 for T= 89741 logg=5.34\n",
      "Changing to T= 50000 for T= 92285 logg=5.40\n",
      "Changing to logg=5.00 for T= 92285 logg=5.40\n",
      "Changing to logg=4.00 for T= 36634 logg=3.42\n",
      "Changing to T= 50000 for T= 90705 logg=5.39\n",
      "Changing to logg=5.00 for T= 90705 logg=5.39\n",
      "Changing to T= 50000 for T= 97987 logg=5.43\n",
      "Changing to logg=5.00 for T= 97987 logg=5.43\n",
      "Changing to logg=4.50 for T= 42671 logg=3.60\n",
      "Changing to logg=4.00 for T= 35680 logg=3.22\n",
      "Changing to T= 50000 for T= 89471 logg=5.31\n",
      "Changing to logg=5.00 for T= 89471 logg=5.31\n",
      "Changing to T= 50000 for T= 93351 logg=5.38\n",
      "Changing to logg=5.00 for T= 93351 logg=5.38\n",
      "Changing to logg=4.50 for T= 45325 logg=3.69\n",
      "Changing to logg=4.50 for T= 44850 logg=3.68\n",
      "Changing to T= 50000 for T= 90707 logg=5.35\n",
      "Changing to logg=5.00 for T= 90707 logg=5.35\n",
      "Changing to logg=4.50 for T= 44487 logg=3.66\n",
      "Changing to T= 50000 for T= 92564 logg=5.40\n",
      "Changing to logg=5.00 for T= 92564 logg=5.40\n",
      "Changing to logg=4.50 for T= 41561 logg=3.57\n",
      "Changing to T= 50000 for T= 87581 logg=5.39\n",
      "Changing to logg=5.00 for T= 87581 logg=5.39\n",
      "Changing to logg=4.50 for T= 39559 logg=3.49\n",
      "Changing to T= 50000 for T= 88316 logg=5.29\n",
      "Changing to logg=5.00 for T= 88316 logg=5.29\n",
      "Changing to logg=4.00 for T= 34953 logg=3.18\n",
      "Changing to T= 50000 for T= 92764 logg=5.39\n",
      "Changing to logg=5.00 for T= 92764 logg=5.39\n",
      "Changing to T= 50000 for T= 91542 logg=5.35\n",
      "Changing to logg=5.00 for T= 91542 logg=5.35\n",
      "Changing to T=  2300 for T=   923 logg=4.44\n",
      "Changing to logg=0.00 for T=  3160 logg=-0.73\n",
      "Changing to logg=4.50 for T= 47712 logg=3.78\n",
      "Changing to logg=4.50 for T= 39432 logg=3.39\n",
      "Changing to T=  2300 for T=   923 logg=4.44\n",
      "Changing to T= 50000 for T= 93426 logg=5.40\n",
      "Changing to logg=5.00 for T= 93426 logg=5.40\n",
      "Changing to T=  2300 for T=   923 logg=4.44\n",
      "Changing to T=  2300 for T=  1847 logg=4.44\n",
      "Changing to logg=0.00 for T=  3463 logg=-0.17\n",
      "Changing to logg=4.50 for T= 44433 logg=3.60\n",
      "Changing to T=  2300 for T=  1616 logg=4.44\n",
      "Changing to T=  2300 for T=   923 logg=4.44\n",
      "Changing to logg=0.00 for T=  3160 logg=-0.73\n"
     ]
    },
    {
     "name": "stdout",
     "output_type": "stream",
     "text": [
      "Changing to logg=0.00 for T=  3162 logg=-0.73\n",
      "Changing to T= 50000 for T= 88383 logg=5.27\n",
      "Changing to logg=5.00 for T= 88383 logg=5.27\n",
      "Changing to T=  2300 for T=  1616 logg=4.44\n",
      "Changing to logg=4.00 for T= 35299 logg=3.22\n",
      "Changing to logg=4.50 for T= 43050 logg=3.61\n",
      "Changing to T= 50000 for T= 92419 logg=5.38\n",
      "Changing to logg=5.00 for T= 92419 logg=5.38\n",
      "Changing to logg=0.00 for T=  3180 logg=-0.67\n",
      "Changing to logg=0.00 for T=  3180 logg=-0.67\n",
      "Changing to T=  2300 for T=   923 logg=4.44\n",
      "Changing to T=  2300 for T=  1847 logg=4.44\n",
      "Changing to logg=4.00 for T= 38612 logg=3.36\n",
      "Changing to T=  2300 for T=  1616 logg=4.44\n",
      "Changing to T=  2300 for T=  1616 logg=4.44\n",
      "Changing to T= 50000 for T= 91766 logg=5.38\n",
      "Changing to logg=5.00 for T= 91766 logg=5.38\n",
      "Changing to logg=0.00 for T=  3463 logg=-0.16\n",
      "Changing to T=  2300 for T=   923 logg=4.44\n",
      "Changing to logg=0.00 for T=  3178 logg=-0.67\n",
      "Changing to logg=4.00 for T= 37897 logg=3.32\n",
      "Changing to T=  2300 for T=  1616 logg=4.44\n",
      "Changing to logg=4.00 for T= 36075 logg=3.24\n",
      "Changing to logg=0.00 for T=  3458 logg=-0.17\n",
      "Changing to logg=4.00 for T= 38369 logg=3.34\n",
      "Changing to logg=0.00 for T=  3167 logg=-0.72\n",
      "Changing to logg=0.00 for T=  3178 logg=-0.67\n",
      "Changing to logg=4.50 for T= 47086 logg=3.75\n",
      "Changing to T=  2300 for T=  1847 logg=4.44\n",
      "Changing to T=  2300 for T=   923 logg=4.44\n",
      "Changing to T=  2300 for T=  1847 logg=4.44\n",
      "Changing to logg=4.00 for T= 38511 logg=3.35\n",
      "Changing to T=  2300 for T=   923 logg=4.44\n",
      "Changing to logg=4.50 for T= 42107 logg=3.50\n",
      "Changing to logg=0.00 for T=  3458 logg=-0.17\n",
      "Changing to logg=0.00 for T=  3180 logg=-0.67\n",
      "Changing to logg=4.50 for T= 39320 logg=3.41\n",
      "Changing to T= 50000 for T= 91237 logg=5.35\n",
      "Changing to logg=5.00 for T= 91237 logg=5.35\n",
      "Changing to T=  2300 for T=   923 logg=4.44\n",
      "Changing to logg=4.50 for T= 46799 logg=3.74\n",
      "Changing to T=  2300 for T=  1616 logg=4.44\n",
      "Changing to logg=4.50 for T= 40069 logg=3.51\n",
      "Changing to logg=0.00 for T=  3162 logg=-0.73\n",
      "Changing to logg=4.50 for T= 43416 logg=3.63\n",
      "Changing to T=  2300 for T=  1847 logg=4.44\n",
      "Changing to logg=0.00 for T=  3162 logg=-0.73\n",
      "Changing to T=  2300 for T=   923 logg=4.44\n",
      "Changing to T= 50000 for T= 83366 logg=5.41\n",
      "Changing to logg=5.00 for T= 83366 logg=5.41\n",
      "Changing to logg=0.00 for T=  3136 logg=-0.72\n",
      "Changing to T= 50000 for T= 90093 logg=5.37\n",
      "Changing to logg=5.00 for T= 90093 logg=5.37\n",
      "Changing to logg=4.50 for T= 42234 logg=3.51\n",
      "Changing to logg=4.00 for T= 36759 logg=3.27\n",
      "Changing to T=  2300 for T=   923 logg=4.44\n",
      "Changing to logg=0.00 for T=  3131 logg=-0.75\n",
      "Changing to T=  2300 for T=  1616 logg=4.44\n",
      "Changing to logg=4.50 for T= 40721 logg=3.44\n",
      "Changing to T=  2300 for T=   923 logg=4.44\n",
      "Changing to logg=0.00 for T=  3180 logg=-0.67\n",
      "Changing to T= 50000 for T= 91338 logg=5.36\n",
      "Changing to logg=5.00 for T= 91338 logg=5.36\n",
      "Changing to logg=0.00 for T=  3162 logg=-0.73\n",
      "Changing to logg=4.50 for T= 41552 logg=3.57\n",
      "Changing to T=  2300 for T=  1847 logg=4.44\n",
      "Changing to logg=4.00 for T= 36344 logg=3.25\n",
      "Changing to logg=4.50 for T= 39033 logg=3.37\n",
      "Changing to T=  2300 for T=  1847 logg=4.44\n",
      "Changing to logg=4.00 for T= 34476 logg=3.25\n",
      "Changing to T=  2300 for T=  1847 logg=4.44\n",
      "Changing to logg=4.50 for T= 44919 logg=3.68\n",
      "Changing to T=  2300 for T=  1616 logg=4.44\n",
      "Changing to T=  2300 for T=  1616 logg=4.44\n",
      "Changing to T=  2300 for T=  1847 logg=4.44\n",
      "Changing to logg=0.00 for T=  3180 logg=-0.67\n",
      "Changing to logg=0.00 for T=  3463 logg=-0.17\n",
      "Changing to logg=4.00 for T= 35855 logg=3.24\n",
      "Changing to T= 50000 for T= 88389 logg=5.42\n",
      "Changing to logg=5.00 for T= 88389 logg=5.42\n",
      "Changing to logg=4.50 for T= 46139 logg=3.72\n",
      "Changing to logg=4.00 for T= 36397 logg=3.26\n",
      "Changing to logg=4.50 for T= 43854 logg=3.65\n",
      "Changing to logg=4.50 for T= 41785 logg=3.48\n",
      "Changing to T= 50000 for T= 91863 logg=5.37\n",
      "Changing to logg=5.00 for T= 91863 logg=5.37\n",
      "Changing to T=  2300 for T=   923 logg=4.44\n",
      "Changing to logg=4.50 for T= 45118 logg=3.66\n",
      "Changing to logg=0.00 for T=  3180 logg=-0.67\n",
      "Changing to T=  2300 for T=  1616 logg=4.44\n",
      "Changing to logg=4.50 for T= 39138 logg=3.38\n",
      "Changing to logg=4.50 for T= 45563 logg=3.70\n",
      "Changing to logg=0.00 for T=  3180 logg=-0.67\n",
      "Changing to logg=0.00 for T=  3180 logg=-0.67\n",
      "Changing to logg=4.00 for T= 36681 logg=3.27\n",
      "Changing to logg=0.00 for T=  3162 logg=-0.73\n",
      "Changing to logg=0.00 for T=  3463 logg=-0.17\n",
      "Changing to T= 50000 for T= 90933 logg=5.35\n",
      "Changing to logg=5.00 for T= 90933 logg=5.35\n",
      "Changing to logg=0.00 for T=  3180 logg=-0.67\n",
      "Changing to T=  2300 for T=  1847 logg=4.44\n",
      "Changing to logg=0.00 for T=  3167 logg=-0.69\n",
      "Changing to logg=0.00 for T=  3180 logg=-0.67\n",
      "Changing to logg=0.00 for T=  3178 logg=-0.67\n",
      "Changing to logg=0.00 for T=  3160 logg=-0.73\n",
      "Changing to logg=0.00 for T=  3180 logg=-0.67\n",
      "Changing to logg=4.00 for T= 34482 logg=3.17\n",
      "Changing to T= 50000 for T= 91058 logg=5.43\n",
      "Changing to logg=5.00 for T= 91058 logg=5.43\n",
      "Changing to logg=0.00 for T=  3178 logg=-0.67\n",
      "Changing to T=  2300 for T=  1616 logg=4.44\n",
      "Changing to T=  2300 for T=  1616 logg=4.44\n",
      "Changing to logg=4.00 for T= 36456 logg=3.25\n",
      "Changing to logg=0.00 for T=  3162 logg=-0.73\n",
      "Changing to logg=0.00 for T=  3466 logg=-0.17\n",
      "Changing to T=  2300 for T=  1847 logg=4.44\n",
      "Changing to logg=0.00 for T=  3178 logg=-0.67\n",
      "Changing to T=  2300 for T=  1847 logg=4.44\n",
      "Changing to logg=4.50 for T= 39799 logg=3.40\n",
      "Changing to T=  2300 for T=  1616 logg=4.44\n",
      "Changing to T= 50000 for T= 91134 logg=5.33\n",
      "Changing to logg=5.00 for T= 91134 logg=5.33\n",
      "Changing to T= 50000 for T= 86511 logg=5.24\n",
      "Changing to logg=5.00 for T= 86511 logg=5.24\n",
      "Changing to logg=0.00 for T=  3180 logg=-0.67\n",
      "Changing to logg=0.00 for T=  3463 logg=-0.17\n",
      "Changing to T=  2300 for T=  1616 logg=4.44\n",
      "Changing to logg=4.00 for T= 36124 logg=3.24\n",
      "Changing to logg=4.00 for T= 35904 logg=3.24\n",
      "Changing to logg=0.00 for T=  3138 logg=-0.76\n",
      "Changing to logg=4.50 for T= 40667 logg=3.44\n",
      "Changing to logg=4.50 for T= 41497 logg=3.57\n",
      "Changing to T=  2300 for T=  1847 logg=4.44\n",
      "Changing to T=  2300 for T=  1616 logg=4.44\n",
      "Changing to logg=4.50 for T= 45945 logg=3.65\n",
      "Changing to T= 50000 for T= 91300 logg=5.36\n",
      "Changing to logg=5.00 for T= 91300 logg=5.36\n",
      "Changing to logg=0.00 for T=  3180 logg=-0.67\n",
      "Changing to T=  2300 for T=  1616 logg=4.44\n",
      "Changing to logg=0.00 for T=  3429 logg=-0.21\n",
      "Changing to logg=4.00 for T= 36441 logg=3.26\n",
      "Changing to T= 50000 for T= 91470 logg=5.37\n",
      "Changing to logg=5.00 for T= 91470 logg=5.37\n",
      "Changing to logg=0.00 for T=  3193 logg=-0.64\n",
      "Changing to T= 50000 for T= 90853 logg=5.35\n",
      "Changing to logg=5.00 for T= 90853 logg=5.35\n",
      "Changing to T=  2300 for T=   923 logg=4.44\n",
      "Changing to logg=0.00 for T=  3460 logg=-0.17\n",
      "Changing to T=  2300 for T=   923 logg=4.44\n",
      "Changing to logg=0.00 for T=  3180 logg=-0.67\n",
      "Changing to logg=0.00 for T=  3162 logg=-0.73\n",
      "Changing to T=  2300 for T=  1847 logg=4.44\n",
      "Changing to T=  2300 for T=   923 logg=4.44\n",
      "Changing to logg=4.50 for T= 40420 logg=3.44\n",
      "Changing to T= 50000 for T= 77657 logg=5.43\n",
      "Changing to logg=5.00 for T= 77657 logg=5.43\n",
      "Changing to T= 50000 for T= 88540 logg=5.27\n",
      "Changing to logg=5.00 for T= 88540 logg=5.27\n",
      "Changing to logg=0.00 for T=  3458 logg=-0.17\n",
      "Changing to logg=0.00 for T=  3463 logg=-0.16\n",
      "Changing to logg=0.00 for T=  3463 logg=-0.17\n",
      "Changing to T= 50000 for T= 93102 logg=5.39\n",
      "Changing to logg=5.00 for T= 93102 logg=5.39\n",
      "Changing to logg=0.00 for T=  3178 logg=-0.67\n",
      "Changing to logg=4.00 for T= 38997 logg=3.37\n",
      "Changing to logg=0.00 for T=  3178 logg=-0.67\n",
      "Changing to logg=4.00 for T= 35778 logg=3.23\n",
      "Changing to logg=0.00 for T=  3463 logg=-0.17\n",
      "Changing to logg=4.00 for T= 36730 logg=3.27\n",
      "Changing to logg=4.00 for T= 38494 logg=3.35\n",
      "Changing to T=  2300 for T=  1847 logg=4.44\n",
      "Changing to T= 50000 for T= 81020 logg=5.43\n",
      "Changing to logg=5.00 for T= 81020 logg=5.43\n",
      "Changing to logg=0.00 for T=  3180 logg=-0.67\n",
      "Changing to logg=4.50 for T= 41678 logg=3.56\n",
      "Changing to T=  2300 for T=  1616 logg=4.44\n",
      "Changing to T=  2300 for T=   923 logg=4.44\n",
      "Changing to T=  2300 for T=  1847 logg=4.44\n",
      "Changing to logg=0.00 for T=  3463 logg=-0.17\n",
      "Changing to logg=4.50 for T= 39279 logg=3.46\n",
      "Changing to logg=0.00 for T=  3167 logg=-0.72\n",
      "Changing to logg=4.50 for T= 42192 logg=3.50\n",
      "Changing to logg=0.00 for T=  3178 logg=-0.67\n"
     ]
    },
    {
     "name": "stdout",
     "output_type": "stream",
     "text": [
      "Changing to T=  2300 for T=  1847 logg=4.44\n",
      "Changing to logg=4.00 for T= 35187 logg=3.27\n",
      "Changing to T= 50000 for T= 89111 logg=5.28\n",
      "Changing to logg=5.00 for T= 89111 logg=5.28\n",
      "Changing to logg=0.00 for T=  3178 logg=-0.67\n",
      "Changing to logg=0.00 for T=  3160 logg=-0.73\n",
      "Making photometry for isochrone: log(t) = 7.00  AKs = 0.70  dist = 1000\n",
      "     Starting at:  2021-01-25 01:27:20.712586   Usually takes ~5 minutes\n",
      "Starting filter: ubv,U   Elapsed time: 0.00 seconds\n",
      "Starting synthetic photometry\n",
      "Singles\n",
      "M =   6.600 Msun  T = 18306 K  m_ubv_U = 18.76\n",
      "M =   8.200 Msun  T = 20631 K  m_ubv_U = 18.03\n",
      "Primaries\n",
      "M =   1.400 Msun  T =  6046 K  m_ubv_U = 25.76\n",
      "M =   0.631 Msun  T =   nan K  m_ubv_U =  nan\n",
      "M =  19.000 Msun  T = 46780 K  m_ubv_U = 16.10\n",
      "M =   3.200 Msun  T = 15501 K  m_ubv_U = 19.65\n",
      "M =  13.000 Msun  T = 24539 K  m_ubv_U = 16.32\n",
      "M =  10.000 Msun  T = 22672 K  m_ubv_U = 17.35\n",
      "M =  16.000 Msun  T = 20405 K  m_ubv_U = 14.91\n",
      "M =  13.000 Msun  T = 24539 K  m_ubv_U = 16.32\n",
      "M =  16.000 Msun  T = 20405 K  m_ubv_U = 14.91\n",
      "M =   1.600 Msun  T =  6575 K  m_ubv_U = 24.64\n",
      "M =   7.500 Msun  T = 24638 K  m_ubv_U = 16.49\n",
      "M =  10.000 Msun  T = 22672 K  m_ubv_U = 17.35\n",
      "M =   1.500 Msun  T =  6226 K  m_ubv_U = 25.28\n",
      "M =   1.400 Msun  T =   nan K  m_ubv_U =  nan\n",
      "M =  15.000 Msun  T = 21987 K  m_ubv_U = 15.36\n",
      "M =  18.000 Msun  T = 35865 K  m_ubv_U = 15.34\n",
      "M =  10.000 Msun  T = 22672 K  m_ubv_U = 17.35\n",
      "M =   1.600 Msun  T =  6578 K  m_ubv_U = 24.64\n",
      "M =   8.000 Msun  T = 20314 K  m_ubv_U = 18.09\n",
      "M =  15.000 Msun  T = 22032 K  m_ubv_U = 15.34\n",
      "M =  10.000 Msun  T = 22672 K  m_ubv_U = 17.35\n",
      "M =  13.000 Msun  T = 24539 K  m_ubv_U = 16.32\n",
      "M =   9.500 Msun  T = 22041 K  m_ubv_U = 17.49\n",
      "M =   1.400 Msun  T =   nan K  m_ubv_U =  nan\n",
      "M =  15.000 Msun  T = 22032 K  m_ubv_U = 15.34\n",
      "M =   1.500 Msun  T =  6226 K  m_ubv_U = 25.28\n",
      "M =   7.000 Msun  T = 23975 K  m_ubv_U = 16.71\n",
      "M =   0.398 Msun  T =   nan K  m_ubv_U =  nan\n",
      "M =   0.398 Msun  T =   nan K  m_ubv_U =  nan\n",
      "M =   1.500 Msun  T =  6235 K  m_ubv_U = 25.27\n",
      "M =   1.500 Msun  T =  6226 K  m_ubv_U = 25.28\n",
      "M =   2.512 Msun  T =   nan K  m_ubv_U =  nan\n",
      "M =  17.000 Msun  T = 92764 K  m_ubv_U = 20.14\n",
      "Secondaries\n",
      "M =   0.560 Msun  T =  3231 K  m_ubv_U = 32.96\n",
      "M =   1.400 Msun  T =  6061 K  m_ubv_U = 25.73\n",
      "M =   7.600 Msun  T = 21243 K  m_ubv_U = 18.44\n",
      "M =   0.960 Msun  T =  5463 K  m_ubv_U = 27.81\n",
      "M =   5.200 Msun  T = 16946 K  m_ubv_U = 19.62\n",
      "M =   9.000 Msun  T = 23335 K  m_ubv_U = 17.88\n",
      "M =   4.800 Msun  T = 16119 K  m_ubv_U = 19.87\n",
      "M =  10.400 Msun  T = 25025 K  m_ubv_U = 17.37\n",
      "M =   8.000 Msun  T = 21897 K  m_ubv_U = 18.26\n",
      "M =   0.960 Msun  T =  5540 K  m_ubv_U = 27.35\n",
      "M =   5.250 Msun  T =   nan K  m_ubv_U =  nan\n",
      "M =   5.000 Msun  T = 16537 K  m_ubv_U = 19.74\n",
      "M =   1.200 Msun  T =  6022 K  m_ubv_U = 26.26\n",
      "M =  19.000 Msun  T = 44919 K  m_ubv_U = 16.01\n",
      "M =  10.500 Msun  T = 24945 K  m_ubv_U = 17.28\n",
      "M =  14.400 Msun  T = 24974 K  m_ubv_U = 15.72\n",
      "M =   7.000 Msun  T = 20284 K  m_ubv_U = 18.69\n",
      "M =   1.120 Msun  T =  6050 K  m_ubv_U = 26.47\n",
      "M =   6.400 Msun  T = 19244 K  m_ubv_U = 18.96\n",
      "M =   7.500 Msun  T = 21114 K  m_ubv_U = 18.47\n",
      "M =   3.000 Msun  T = 11794 K  m_ubv_U = 21.48\n",
      "M =   7.800 Msun  T = 21585 K  m_ubv_U = 18.36\n",
      "M =   6.650 Msun  T = 19689 K  m_ubv_U = 18.84\n",
      "M =  13.000 Msun  T = 24103 K  m_ubv_U = 16.23\n",
      "M =   4.500 Msun  T = 15471 K  m_ubv_U = 20.07\n",
      "M =   0.300 Msun  T =  3479 K  m_ubv_U = 34.23\n",
      "M =   4.900 Msun  T =   nan K  m_ubv_U =  nan\n",
      "M =   2.100 Msun  T =  8333 K  m_ubv_U = 23.15\n",
      "M =   1.500 Msun  T =  6226 K  m_ubv_U = 25.28\n",
      "M =   0.450 Msun  T =  3657 K  m_ubv_U = 33.16\n",
      "M =   0.450 Msun  T =  3657 K  m_ubv_U = 33.16\n",
      "M =  19.000 Msun  T =  3167 K  m_ubv_U = 18.96\n",
      "M =   5.100 Msun  T = 16736 K  m_ubv_U = 19.68\n",
      "Starting filter: ubv,V   Elapsed time: 12.03 seconds\n",
      "Starting synthetic photometry\n",
      "Singles\n",
      "M =   6.600 Msun  T = 18306 K  m_ubv_V = 18.87\n",
      "M =   8.200 Msun  T = 20631 K  m_ubv_V = 18.26\n",
      "Primaries\n",
      "M =   1.400 Msun  T =  6046 K  m_ubv_V = 24.06\n",
      "M =   0.631 Msun  T =   nan K  m_ubv_V =  nan\n",
      "M =  19.000 Msun  T = 46780 K  m_ubv_V = 16.75\n",
      "M =   3.200 Msun  T = 15501 K  m_ubv_V = 19.59\n",
      "M =  13.000 Msun  T = 24539 K  m_ubv_V = 16.70\n",
      "M =  10.000 Msun  T = 22672 K  m_ubv_V = 17.66\n",
      "M =  16.000 Msun  T = 20405 K  m_ubv_V = 15.18\n",
      "M =  13.000 Msun  T = 24539 K  m_ubv_V = 16.70\n",
      "M =  16.000 Msun  T = 20405 K  m_ubv_V = 15.18\n",
      "M =   1.600 Msun  T =  6575 K  m_ubv_V = 23.20\n",
      "M =   7.500 Msun  T = 24638 K  m_ubv_V = 16.87\n",
      "M =  10.000 Msun  T = 22672 K  m_ubv_V = 17.66\n",
      "M =   1.500 Msun  T =  6226 K  m_ubv_V = 23.69\n",
      "M =   1.400 Msun  T =   nan K  m_ubv_V =  nan\n",
      "M =  15.000 Msun  T = 21987 K  m_ubv_V = 15.68\n",
      "M =  18.000 Msun  T = 35865 K  m_ubv_V = 15.92\n",
      "M =  10.000 Msun  T = 22672 K  m_ubv_V = 17.66\n",
      "M =   1.600 Msun  T =  6578 K  m_ubv_V = 23.20\n",
      "M =   8.000 Msun  T = 20314 K  m_ubv_V = 18.30\n",
      "M =  15.000 Msun  T = 22032 K  m_ubv_V = 15.67\n",
      "M =  10.000 Msun  T = 22672 K  m_ubv_V = 17.66\n",
      "M =  13.000 Msun  T = 24539 K  m_ubv_V = 16.70\n",
      "M =   9.500 Msun  T = 22041 K  m_ubv_V = 17.77\n",
      "M =   1.400 Msun  T =   nan K  m_ubv_V =  nan\n",
      "M =  15.000 Msun  T = 22032 K  m_ubv_V = 15.67\n",
      "M =   1.500 Msun  T =  6226 K  m_ubv_V = 23.69\n",
      "M =   7.000 Msun  T = 23975 K  m_ubv_V = 17.07\n",
      "M =   0.398 Msun  T =   nan K  m_ubv_V =  nan\n",
      "M =   0.398 Msun  T =   nan K  m_ubv_V =  nan\n",
      "M =   1.500 Msun  T =  6235 K  m_ubv_V = 23.68\n",
      "M =   1.500 Msun  T =  6226 K  m_ubv_V = 23.69\n",
      "M =   2.512 Msun  T =   nan K  m_ubv_V =  nan\n",
      "M =  17.000 Msun  T = 92764 K  m_ubv_V = 20.80\n",
      "Secondaries\n",
      "M =   0.560 Msun  T =  3231 K  m_ubv_V = 30.31\n",
      "M =   1.400 Msun  T =  6061 K  m_ubv_V = 24.04\n",
      "M =   7.600 Msun  T = 21243 K  m_ubv_V = 18.68\n",
      "M =   0.960 Msun  T =  5463 K  m_ubv_V = 25.65\n",
      "M =   5.200 Msun  T = 16946 K  m_ubv_V = 19.64\n",
      "M =   9.000 Msun  T = 23335 K  m_ubv_V = 18.20\n",
      "M =   4.800 Msun  T = 16119 K  m_ubv_V = 19.84\n",
      "M =  10.400 Msun  T = 25025 K  m_ubv_V = 17.75\n",
      "M =   8.000 Msun  T = 21897 K  m_ubv_V = 18.53\n",
      "M =   0.960 Msun  T =  5540 K  m_ubv_V = 25.27\n",
      "M =   5.250 Msun  T =   nan K  m_ubv_V =  nan\n",
      "M =   5.000 Msun  T = 16537 K  m_ubv_V = 19.74\n",
      "M =   1.200 Msun  T =  6022 K  m_ubv_V = 24.55\n",
      "M =  19.000 Msun  T = 44919 K  m_ubv_V = 16.65\n",
      "M =  10.500 Msun  T = 24945 K  m_ubv_V = 17.66\n",
      "M =  14.400 Msun  T = 24974 K  m_ubv_V = 16.13\n",
      "M =   7.000 Msun  T = 20284 K  m_ubv_V = 18.89\n",
      "M =   1.120 Msun  T =  6050 K  m_ubv_V = 24.78\n",
      "M =   6.400 Msun  T = 19244 K  m_ubv_V = 19.11\n",
      "M =   7.500 Msun  T = 21114 K  m_ubv_V = 18.70\n",
      "M =   3.000 Msun  T = 11794 K  m_ubv_V = 21.02\n",
      "M =   7.800 Msun  T = 21585 K  m_ubv_V = 18.61\n",
      "M =   6.650 Msun  T = 19689 K  m_ubv_V = 19.01\n",
      "M =  13.000 Msun  T = 24103 K  m_ubv_V = 16.60\n",
      "M =   4.500 Msun  T = 15471 K  m_ubv_V = 20.00\n",
      "M =   0.300 Msun  T =  3479 K  m_ubv_V = 31.35\n",
      "M =   4.900 Msun  T =   nan K  m_ubv_V =  nan\n",
      "M =   2.100 Msun  T =  8333 K  m_ubv_V = 22.06\n",
      "M =   1.500 Msun  T =  6226 K  m_ubv_V = 23.68\n",
      "M =   0.450 Msun  T =  3657 K  m_ubv_V = 30.19\n",
      "M =   0.450 Msun  T =  3657 K  m_ubv_V = 30.19\n",
      "M =  19.000 Msun  T =  3167 K  m_ubv_V = 16.82\n",
      "M =   5.100 Msun  T = 16736 K  m_ubv_V = 19.69\n",
      "Starting filter: ubv,B   Elapsed time: 23.60 seconds\n",
      "Starting synthetic photometry\n",
      "Singles\n",
      "M =   6.600 Msun  T = 18306 K  m_ubv_B = 19.48\n",
      "M =   8.200 Msun  T = 20631 K  m_ubv_B = 18.85\n",
      "Primaries\n",
      "M =   1.400 Msun  T =  6046 K  m_ubv_B = 25.70\n",
      "M =   0.631 Msun  T =   nan K  m_ubv_B =  nan\n",
      "M =  19.000 Msun  T = 46780 K  m_ubv_B = 17.21\n",
      "M =   3.200 Msun  T = 15501 K  m_ubv_B = 20.25\n",
      "M =  13.000 Msun  T = 24539 K  m_ubv_B = 17.26\n",
      "M =  10.000 Msun  T = 22672 K  m_ubv_B = 18.24\n",
      "M =  16.000 Msun  T = 20405 K  m_ubv_B = 15.78\n",
      "M =  13.000 Msun  T = 24539 K  m_ubv_B = 17.26\n",
      "M =  16.000 Msun  T = 20405 K  m_ubv_B = 15.78\n",
      "M =   1.600 Msun  T =  6575 K  m_ubv_B = 24.65\n",
      "M =   7.500 Msun  T = 24638 K  m_ubv_B = 17.43\n",
      "M =  10.000 Msun  T = 22672 K  m_ubv_B = 18.24\n",
      "M =   1.500 Msun  T =  6226 K  m_ubv_B = 25.27\n",
      "M =   1.400 Msun  T =   nan K  m_ubv_B =  nan\n",
      "M =  15.000 Msun  T = 21987 K  m_ubv_B = 16.27\n",
      "M =  18.000 Msun  T = 35865 K  m_ubv_B = 16.42\n",
      "M =  10.000 Msun  T = 22672 K  m_ubv_B = 18.24\n",
      "M =   1.600 Msun  T =  6578 K  m_ubv_B = 24.65\n",
      "M =   8.000 Msun  T = 20314 K  m_ubv_B = 18.90\n",
      "M =  15.000 Msun  T = 22032 K  m_ubv_B = 16.26\n",
      "M =  10.000 Msun  T = 22672 K  m_ubv_B = 18.24\n",
      "M =  13.000 Msun  T = 24539 K  m_ubv_B = 17.26\n"
     ]
    },
    {
     "name": "stdout",
     "output_type": "stream",
     "text": [
      "M =   9.500 Msun  T = 22041 K  m_ubv_B = 18.35\n",
      "M =   1.400 Msun  T =   nan K  m_ubv_B =  nan\n",
      "M =  15.000 Msun  T = 22032 K  m_ubv_B = 16.26\n",
      "M =   1.500 Msun  T =  6226 K  m_ubv_B = 25.27\n",
      "M =   7.000 Msun  T = 23975 K  m_ubv_B = 17.64\n",
      "M =   0.398 Msun  T =   nan K  m_ubv_B =  nan\n",
      "M =   0.398 Msun  T =   nan K  m_ubv_B =  nan\n",
      "M =   1.500 Msun  T =  6235 K  m_ubv_B = 25.25\n",
      "M =   1.500 Msun  T =  6226 K  m_ubv_B = 25.27\n",
      "M =   2.512 Msun  T =   nan K  m_ubv_B =  nan\n",
      "M =  17.000 Msun  T = 92764 K  m_ubv_B = 21.26\n",
      "Secondaries\n",
      "M =   0.560 Msun  T =  3231 K  m_ubv_B = 32.78\n",
      "M =   1.400 Msun  T =  6061 K  m_ubv_B = 25.68\n",
      "M =   7.600 Msun  T = 21243 K  m_ubv_B = 19.27\n",
      "M =   0.960 Msun  T =  5463 K  m_ubv_B = 27.54\n",
      "M =   5.200 Msun  T = 16946 K  m_ubv_B = 20.28\n",
      "M =   9.000 Msun  T = 23335 K  m_ubv_B = 18.77\n",
      "M =   4.800 Msun  T = 16119 K  m_ubv_B = 20.49\n",
      "M =  10.400 Msun  T = 25025 K  m_ubv_B = 18.31\n",
      "M =   8.000 Msun  T = 21897 K  m_ubv_B = 19.11\n",
      "M =   0.960 Msun  T =  5540 K  m_ubv_B = 27.12\n",
      "M =   5.250 Msun  T =   nan K  m_ubv_B =  nan\n",
      "M =   5.000 Msun  T = 16537 K  m_ubv_B = 20.38\n",
      "M =   1.200 Msun  T =  6022 K  m_ubv_B = 26.21\n",
      "M =  19.000 Msun  T = 44919 K  m_ubv_B = 17.12\n",
      "M =  10.500 Msun  T = 24945 K  m_ubv_B = 18.22\n",
      "M =  14.400 Msun  T = 24974 K  m_ubv_B = 16.69\n",
      "M =   7.000 Msun  T = 20284 K  m_ubv_B = 19.49\n",
      "M =   1.120 Msun  T =  6050 K  m_ubv_B = 26.43\n",
      "M =   6.400 Msun  T = 19244 K  m_ubv_B = 19.72\n",
      "M =   7.500 Msun  T = 21114 K  m_ubv_B = 19.29\n",
      "M =   3.000 Msun  T = 11794 K  m_ubv_B = 21.77\n",
      "M =   7.800 Msun  T = 21585 K  m_ubv_B = 19.20\n",
      "M =   6.650 Msun  T = 19689 K  m_ubv_B = 19.62\n",
      "M =  13.000 Msun  T = 24103 K  m_ubv_B = 17.17\n",
      "M =   4.500 Msun  T = 15471 K  m_ubv_B = 20.66\n",
      "M =   0.300 Msun  T =  3479 K  m_ubv_B = 33.87\n",
      "M =   4.900 Msun  T =   nan K  m_ubv_B =  nan\n",
      "M =   2.100 Msun  T =  8333 K  m_ubv_B = 23.09\n",
      "M =   1.500 Msun  T =  6226 K  m_ubv_B = 25.26\n",
      "M =   0.450 Msun  T =  3657 K  m_ubv_B = 32.71\n",
      "M =   0.450 Msun  T =  3657 K  m_ubv_B = 32.71\n",
      "M =  19.000 Msun  T =  3167 K  m_ubv_B = 19.23\n",
      "M =   5.100 Msun  T = 16736 K  m_ubv_B = 20.33\n",
      "Starting filter: ubv,R   Elapsed time: 35.35 seconds\n",
      "Starting synthetic photometry\n",
      "Singles\n",
      "M =   6.600 Msun  T = 18306 K  m_ubv_R = 16.34\n",
      "M =   8.200 Msun  T = 20631 K  m_ubv_R = 15.75\n",
      "Primaries\n",
      "M =   1.400 Msun  T =  6046 K  m_ubv_R = 21.10\n",
      "M =   0.631 Msun  T =   nan K  m_ubv_R =  nan\n",
      "M =  19.000 Msun  T = 46780 K  m_ubv_R = 14.28\n",
      "M =   3.200 Msun  T = 15501 K  m_ubv_R = 17.05\n",
      "M =  13.000 Msun  T = 24539 K  m_ubv_R = 14.20\n",
      "M =  10.000 Msun  T = 22672 K  m_ubv_R = 15.16\n",
      "M =  16.000 Msun  T = 20405 K  m_ubv_R = 12.66\n",
      "M =  13.000 Msun  T = 24539 K  m_ubv_R = 14.20\n",
      "M =  16.000 Msun  T = 20405 K  m_ubv_R = 12.66\n",
      "M =   1.600 Msun  T =  6575 K  m_ubv_R = 20.31\n",
      "M =   7.500 Msun  T = 24638 K  m_ubv_R = 14.38\n",
      "M =  10.000 Msun  T = 22672 K  m_ubv_R = 15.16\n",
      "M =   1.500 Msun  T =  6226 K  m_ubv_R = 20.75\n",
      "M =   1.400 Msun  T =   nan K  m_ubv_R =  nan\n",
      "M =  15.000 Msun  T = 21987 K  m_ubv_R = 13.17\n",
      "M =  18.000 Msun  T = 35865 K  m_ubv_R = 13.45\n",
      "M =  10.000 Msun  T = 22672 K  m_ubv_R = 15.16\n",
      "M =   1.600 Msun  T =  6578 K  m_ubv_R = 20.31\n",
      "M =   8.000 Msun  T = 20314 K  m_ubv_R = 15.79\n",
      "M =  15.000 Msun  T = 22032 K  m_ubv_R = 13.16\n",
      "M =  10.000 Msun  T = 22672 K  m_ubv_R = 15.16\n",
      "M =  13.000 Msun  T = 24539 K  m_ubv_R = 14.20\n",
      "M =   9.500 Msun  T = 22041 K  m_ubv_R = 15.27\n",
      "M =   1.400 Msun  T =   nan K  m_ubv_R =  nan\n",
      "M =  15.000 Msun  T = 22032 K  m_ubv_R = 13.16\n",
      "M =   1.500 Msun  T =  6226 K  m_ubv_R = 20.75\n",
      "M =   7.000 Msun  T = 23975 K  m_ubv_R = 14.57\n",
      "M =   0.398 Msun  T =   nan K  m_ubv_R =  nan\n",
      "M =   0.398 Msun  T =   nan K  m_ubv_R =  nan\n",
      "M =   1.500 Msun  T =  6235 K  m_ubv_R = 20.75\n",
      "M =   1.500 Msun  T =  6226 K  m_ubv_R = 20.75\n",
      "M =   2.512 Msun  T =   nan K  m_ubv_R =  nan\n",
      "M =  17.000 Msun  T = 92764 K  m_ubv_R = 18.34\n",
      "Secondaries\n",
      "M =   0.560 Msun  T =  3231 K  m_ubv_R = 26.14\n",
      "M =   1.400 Msun  T =  6061 K  m_ubv_R = 21.09\n",
      "M =   7.600 Msun  T = 21243 K  m_ubv_R = 16.18\n",
      "M =   0.960 Msun  T =  5463 K  m_ubv_R = 22.61\n",
      "M =   5.200 Msun  T = 16946 K  m_ubv_R = 17.11\n",
      "M =   9.000 Msun  T = 23335 K  m_ubv_R = 15.70\n",
      "M =   4.800 Msun  T = 16119 K  m_ubv_R = 17.30\n",
      "M =  10.400 Msun  T = 25025 K  m_ubv_R = 15.26\n",
      "M =   8.000 Msun  T = 21897 K  m_ubv_R = 16.03\n",
      "M =   0.960 Msun  T =  5540 K  m_ubv_R = 22.24\n",
      "M =   5.250 Msun  T =   nan K  m_ubv_R =  nan\n",
      "M =   5.000 Msun  T = 16537 K  m_ubv_R = 17.20\n",
      "M =   1.200 Msun  T =  6022 K  m_ubv_R = 21.59\n",
      "M =  19.000 Msun  T = 44919 K  m_ubv_R = 14.18\n",
      "M =  10.500 Msun  T = 24945 K  m_ubv_R = 15.16\n",
      "M =  14.400 Msun  T = 24974 K  m_ubv_R = 13.63\n",
      "M =   7.000 Msun  T = 20284 K  m_ubv_R = 16.38\n",
      "M =   1.120 Msun  T =  6050 K  m_ubv_R = 21.83\n",
      "M =   6.400 Msun  T = 19244 K  m_ubv_R = 16.60\n",
      "M =   7.500 Msun  T = 21114 K  m_ubv_R = 16.20\n",
      "M =   3.000 Msun  T = 11794 K  m_ubv_R = 18.45\n",
      "M =   7.800 Msun  T = 21585 K  m_ubv_R = 16.11\n",
      "M =   6.650 Msun  T = 19689 K  m_ubv_R = 16.50\n",
      "M =  13.000 Msun  T = 24103 K  m_ubv_R = 14.11\n",
      "M =   4.500 Msun  T = 15471 K  m_ubv_R = 17.45\n",
      "M =   0.300 Msun  T =  3479 K  m_ubv_R = 27.47\n",
      "M =   4.900 Msun  T =   nan K  m_ubv_R =  nan\n",
      "M =   2.100 Msun  T =  8333 K  m_ubv_R = 19.37\n",
      "M =   1.500 Msun  T =  6226 K  m_ubv_R = 20.75\n",
      "M =   0.450 Msun  T =  3657 K  m_ubv_R = 26.46\n",
      "M =   0.450 Msun  T =  3657 K  m_ubv_R = 26.46\n",
      "M =  19.000 Msun  T =  3167 K  m_ubv_R = 11.63\n",
      "M =   5.100 Msun  T = 16736 K  m_ubv_R = 17.15\n",
      "Starting filter: ubv,I   Elapsed time: 46.75 seconds\n",
      "Starting synthetic photometry\n",
      "Singles\n",
      "M =   6.600 Msun  T = 18306 K  m_ubv_I = 12.99\n",
      "M =   8.200 Msun  T = 20631 K  m_ubv_I = 12.42\n",
      "Primaries\n",
      "M =   1.400 Msun  T =  6046 K  m_ubv_I = 17.30\n",
      "M =   0.631 Msun  T =   nan K  m_ubv_I =  nan\n",
      "M =  19.000 Msun  T = 46780 K  m_ubv_I = 11.05\n",
      "M =   3.200 Msun  T = 15501 K  m_ubv_I = 13.66\n",
      "M =  13.000 Msun  T = 24539 K  m_ubv_I = 10.91\n",
      "M =  10.000 Msun  T = 22672 K  m_ubv_I = 11.85\n",
      "M =  16.000 Msun  T = 20405 K  m_ubv_I = 9.33\n",
      "M =  13.000 Msun  T = 24539 K  m_ubv_I = 10.91\n",
      "M =  16.000 Msun  T = 20405 K  m_ubv_I = 9.33\n",
      "M =   1.600 Msun  T =  6575 K  m_ubv_I = 16.57\n",
      "M =   7.500 Msun  T = 24638 K  m_ubv_I = 11.08\n",
      "M =  10.000 Msun  T = 22672 K  m_ubv_I = 11.85\n",
      "M =   1.500 Msun  T =  6226 K  m_ubv_I = 16.98\n",
      "M =   1.400 Msun  T =   nan K  m_ubv_I =  nan\n",
      "M =  15.000 Msun  T = 21987 K  m_ubv_I = 9.85\n",
      "M =  18.000 Msun  T = 35865 K  m_ubv_I = 10.20\n",
      "M =  10.000 Msun  T = 22672 K  m_ubv_I = 11.85\n",
      "M =   1.600 Msun  T =  6578 K  m_ubv_I = 16.57\n",
      "M =   8.000 Msun  T = 20314 K  m_ubv_I = 12.46\n",
      "M =  15.000 Msun  T = 22032 K  m_ubv_I = 9.85\n",
      "M =  10.000 Msun  T = 22672 K  m_ubv_I = 11.85\n",
      "M =  13.000 Msun  T = 24539 K  m_ubv_I = 10.91\n",
      "M =   9.500 Msun  T = 22041 K  m_ubv_I = 11.95\n",
      "M =   1.400 Msun  T =   nan K  m_ubv_I =  nan\n",
      "M =  15.000 Msun  T = 22032 K  m_ubv_I = 9.85\n",
      "M =   1.500 Msun  T =  6226 K  m_ubv_I = 16.98\n",
      "M =   7.000 Msun  T = 23975 K  m_ubv_I = 11.27\n",
      "M =   0.398 Msun  T =   nan K  m_ubv_I =  nan\n",
      "M =   0.398 Msun  T =   nan K  m_ubv_I =  nan\n",
      "M =   1.500 Msun  T =  6235 K  m_ubv_I = 16.97\n",
      "M =   1.500 Msun  T =  6226 K  m_ubv_I = 16.98\n",
      "M =   2.512 Msun  T =   nan K  m_ubv_I =  nan\n",
      "M =  17.000 Msun  T = 92764 K  m_ubv_I = 15.11\n",
      "Secondaries\n",
      "M =   0.560 Msun  T =  3231 K  m_ubv_I = 21.10\n",
      "M =   1.400 Msun  T =  6061 K  m_ubv_I = 17.29\n",
      "M =   7.600 Msun  T = 21243 K  m_ubv_I = 12.85\n",
      "M =   0.960 Msun  T =  5463 K  m_ubv_I = 18.73\n",
      "M =   5.200 Msun  T = 16946 K  m_ubv_I = 13.74\n",
      "M =   9.000 Msun  T = 23335 K  m_ubv_I = 12.40\n",
      "M =   4.800 Msun  T = 16119 K  m_ubv_I = 13.92\n",
      "M =  10.400 Msun  T = 25025 K  m_ubv_I = 11.96\n",
      "M =   8.000 Msun  T = 21897 K  m_ubv_I = 12.71\n",
      "M =   0.960 Msun  T =  5540 K  m_ubv_I = 18.37\n",
      "M =   5.250 Msun  T =   nan K  m_ubv_I =  nan\n",
      "M =   5.000 Msun  T = 16537 K  m_ubv_I = 13.83\n",
      "M =   1.200 Msun  T =  6022 K  m_ubv_I = 17.79\n",
      "M =  19.000 Msun  T = 44919 K  m_ubv_I = 10.95\n",
      "M =  10.500 Msun  T = 24945 K  m_ubv_I = 11.87\n",
      "M =  14.400 Msun  T = 24974 K  m_ubv_I = 10.34\n",
      "M =   7.000 Msun  T = 20284 K  m_ubv_I = 13.05\n",
      "M =   1.120 Msun  T =  6050 K  m_ubv_I = 18.03\n",
      "M =   6.400 Msun  T = 19244 K  m_ubv_I = 13.26\n",
      "M =   7.500 Msun  T = 21114 K  m_ubv_I = 12.87\n",
      "M =   3.000 Msun  T = 11794 K  m_ubv_I = 14.98\n",
      "M =   7.800 Msun  T = 21585 K  m_ubv_I = 12.79\n",
      "M =   6.650 Msun  T = 19689 K  m_ubv_I = 13.16\n",
      "M =  13.000 Msun  T = 24103 K  m_ubv_I = 10.81\n"
     ]
    },
    {
     "name": "stdout",
     "output_type": "stream",
     "text": [
      "M =   4.500 Msun  T = 15471 K  m_ubv_I = 14.06\n",
      "M =   0.300 Msun  T =  3479 K  m_ubv_I = 22.69\n",
      "M =   4.900 Msun  T =   nan K  m_ubv_I =  nan\n",
      "M =   2.100 Msun  T =  8333 K  m_ubv_I = 15.78\n",
      "M =   1.500 Msun  T =  6226 K  m_ubv_I = 16.97\n",
      "M =   0.450 Msun  T =  3657 K  m_ubv_I = 21.82\n",
      "M =   0.450 Msun  T =  3657 K  m_ubv_I = 21.82\n",
      "M =  19.000 Msun  T =  3167 K  m_ubv_I = 5.66\n",
      "M =   5.100 Msun  T = 16736 K  m_ubv_I = 13.78\n",
      "      Time taken: 58.70 seconds\n",
      "Isochrone generation took 607.110392 s.\n"
     ]
    }
   ],
   "source": [
    "import spisea\n",
    "from spisea import evolution, synthetic\n",
    "import math\n",
    "# Check if the evolution class works fine\n",
    "import time\n",
    "t1=time.time()\n",
    "bps=evolution.BPASS()\n",
    "iso1=synthetic.Isochrone_Binary(7.0, 0.7, 1000,math.log10(2), mass_sampling=1)"
   ]
  },
  {
   "cell_type": "markdown",
   "metadata": {},
   "source": [
    "For a sanity check, we can see that the primaries, secondaries, and single stars have phasees of 5 or of 101 or of 110. Note that we will have a phase of 110 in order to indicate a mystery compact remnant that BPASS provides for NEWSECMODS (secondary star models with compact primaries). This is since we haven't added neutron stars or black holes yet. Secondary stars that have merged with their primaries have designation of phase -99."
   ]
  },
  {
   "cell_type": "code",
   "execution_count": 2,
   "metadata": {},
   "outputs": [
    {
     "data": {
      "text/plain": [
       "True"
      ]
     },
     "execution_count": 2,
     "metadata": {},
     "output_type": "execute_result"
    }
   ],
   "source": [
    "import numpy as np\n",
    "np.all([(x==5 or x==101 or x==110) for x in iso1.primaries['phase']])"
   ]
  },
  {
   "cell_type": "code",
   "execution_count": 3,
   "metadata": {},
   "outputs": [
    {
     "data": {
      "text/plain": [
       "True"
      ]
     },
     "execution_count": 3,
     "metadata": {},
     "output_type": "execute_result"
    }
   ],
   "source": [
    "np.all([(x==5 or x==101 or x==110) for x in iso1.singles['phase']])"
   ]
  },
  {
   "cell_type": "code",
   "execution_count": 4,
   "metadata": {},
   "outputs": [
    {
     "data": {
      "text/plain": [
       "True"
      ]
     },
     "execution_count": 4,
     "metadata": {},
     "output_type": "execute_result"
    }
   ],
   "source": [
    "np.all([(x==5 or x==101 or x==-99) for x in iso1.secondaries['phase']])"
   ]
  },
  {
   "cell_type": "markdown",
   "metadata": {},
   "source": [
    "Find the maximum, mean, and median  values of logg (cgs) for primaries and secondaries accounting for NaNs in the columns. (For max we make NaNs the same as - infinity and for median and mean, we do not include them)"
   ]
  },
  {
   "cell_type": "code",
   "execution_count": 5,
   "metadata": {},
   "outputs": [
    {
     "data": {
      "text/plain": [
       "4.580086913365015"
      ]
     },
     "execution_count": 5,
     "metadata": {},
     "output_type": "execute_result"
    }
   ],
   "source": [
    "np.max(iso1.singles['logg'])"
   ]
  },
  {
   "cell_type": "code",
   "execution_count": 6,
   "metadata": {},
   "outputs": [
    {
     "data": {
      "text/plain": [
       "5.693688371360781"
      ]
     },
     "execution_count": 6,
     "metadata": {},
     "output_type": "execute_result"
    }
   ],
   "source": [
    "np.max(np.nan_to_num(iso1.primaries['logg'], -np.inf))"
   ]
  },
  {
   "cell_type": "code",
   "execution_count": 7,
   "metadata": {},
   "outputs": [
    {
     "data": {
      "text/plain": [
       "5.431360283436838"
      ]
     },
     "execution_count": 7,
     "metadata": {},
     "output_type": "execute_result"
    }
   ],
   "source": [
    "np.max(np.nan_to_num(iso1.secondaries['logg'], -np.inf))"
   ]
  },
  {
   "cell_type": "code",
   "execution_count": 8,
   "metadata": {},
   "outputs": [
    {
     "data": {
      "text/plain": [
       "4.110356731037113"
      ]
     },
     "execution_count": 8,
     "metadata": {},
     "output_type": "execute_result"
    }
   ],
   "source": [
    "np.mean(iso1.singles['logg'][np.where(~np.isnan(iso1.singles['logg']))])"
   ]
  },
  {
   "cell_type": "code",
   "execution_count": 9,
   "metadata": {},
   "outputs": [
    {
     "data": {
      "text/plain": [
       "3.8623344073055073"
      ]
     },
     "execution_count": 9,
     "metadata": {},
     "output_type": "execute_result"
    }
   ],
   "source": [
    "np.mean(iso1.primaries['logg'][np.where(~np.isnan(iso1.primaries['logg']))])"
   ]
  },
  {
   "cell_type": "code",
   "execution_count": 10,
   "metadata": {},
   "outputs": [
    {
     "data": {
      "text/plain": [
       "4.081941987606026"
      ]
     },
     "execution_count": 10,
     "metadata": {},
     "output_type": "execute_result"
    }
   ],
   "source": [
    "np.mean(iso1.secondaries['logg'][np.where(~np.isnan(iso1.secondaries['logg']))])"
   ]
  },
  {
   "cell_type": "code",
   "execution_count": 11,
   "metadata": {},
   "outputs": [
    {
     "data": {
      "text/plain": [
       "4.122105594102732"
      ]
     },
     "execution_count": 11,
     "metadata": {},
     "output_type": "execute_result"
    }
   ],
   "source": [
    "np.median(iso1.singles['logg'][np.where(~np.isnan(iso1.singles['logg']))])"
   ]
  },
  {
   "cell_type": "code",
   "execution_count": 12,
   "metadata": {},
   "outputs": [
    {
     "data": {
      "text/plain": [
       "3.922429758881585"
      ]
     },
     "execution_count": 12,
     "metadata": {},
     "output_type": "execute_result"
    }
   ],
   "source": [
    "np.median(iso1.primaries['logg'][np.where(~np.isnan(iso1.primaries['logg']))])"
   ]
  },
  {
   "cell_type": "code",
   "execution_count": 13,
   "metadata": {},
   "outputs": [
    {
     "name": "stderr",
     "output_type": "stream",
     "text": [
      "/opt/anaconda3/envs/astroconda/lib/python3.7/site-packages/ipykernel_launcher.py:1: FutureWarning: Using a non-tuple sequence for multidimensional indexing is deprecated; use `arr[tuple(seq)]` instead of `arr[seq]`. In the future this will be interpreted as an array index, `arr[np.array(seq)]`, which will result either in an error or a different result.\n",
      "  \"\"\"Entry point for launching an IPython kernel.\n"
     ]
    },
    {
     "data": {
      "text/plain": [
       "4.213698886358815"
      ]
     },
     "execution_count": 13,
     "metadata": {},
     "output_type": "execute_result"
    }
   ],
   "source": [
    "np.median(iso1.secondaries['logg'][[np.where(~np.isnan(iso1.secondaries['logg']))]])"
   ]
  },
  {
   "cell_type": "code",
   "execution_count": 14,
   "metadata": {},
   "outputs": [
    {
     "data": {
      "text/plain": [
       "Text(0.5, 0, 'logg in cgs')"
      ]
     },
     "execution_count": 14,
     "metadata": {},
     "output_type": "execute_result"
    },
    {
     "data": {
      "image/png": "[encoded data removed]",
      "text/plain": [
       "<Figure size 432x288 with 1 Axes>"
      ]
     },
     "metadata": {
      "needs_background": "light"
     },
     "output_type": "display_data"
    }
   ],
   "source": [
    "import matplotlib.pyplot as plt\n",
    "plt.title(\"Distribution of logg values (secondaries) of isochrone\")\n",
    "plt.hist(np.array([x for x in iso1.secondaries['logg'] if np.isfinite(x)]), np.arange(0, 30, 1))\n",
    "plt.xlabel(\"logg in cgs\")"
   ]
  },
  {
   "cell_type": "code",
   "execution_count": 15,
   "metadata": {},
   "outputs": [
    {
     "data": {
      "text/plain": [
       "Text(0.5, 0, 'logg in cgs')"
      ]
     },
     "execution_count": 15,
     "metadata": {},
     "output_type": "execute_result"
    },
    {
     "data": {
      "image/png": "[encoded data removed]",
      "text/plain": [
       "<Figure size 432x288 with 1 Axes>"
      ]
     },
     "metadata": {
      "needs_background": "light"
     },
     "output_type": "display_data"
    }
   ],
   "source": [
    "import matplotlib.pyplot as plt\n",
    "plt.title(\"Distribution of logg values (primaries) of isochrone\")\n",
    "plt.hist(np.array([x for x in iso1.primaries['logg'] if np.isfinite(x)]), np.arange(0, 30, 1))\n",
    "plt.xlabel(\"logg in cgs\")"
   ]
  },
  {
   "cell_type": "code",
   "execution_count": 16,
   "metadata": {},
   "outputs": [
    {
     "data": {
      "text/plain": [
       "Text(0.5, 0, 'logg in cgs')"
      ]
     },
     "execution_count": 16,
     "metadata": {},
     "output_type": "execute_result"
    },
    {
     "data": {
      "image/png": "[encoded data removed]",
      "text/plain": [
       "<Figure size 432x288 with 1 Axes>"
      ]
     },
     "metadata": {
      "needs_background": "light"
     },
     "output_type": "display_data"
    }
   ],
   "source": [
    "import matplotlib.pyplot as plt\n",
    "plt.title(\"Distribution of logg values single stars of isochrone\")\n",
    "plt.hist(np.array([x for x in iso1.singles['logg'] if np.isfinite(x)]), np.arange(0, 30, 1))\n",
    "plt.xlabel(\"logg in cgs\")"
   ]
  },
  {
   "cell_type": "markdown",
   "metadata": {},
   "source": [
    "Now, for comparison, I will create a MISTv.1 isochrone of the same metallicity, age, distance from earth, and AKs."
   ]
  },
  {
   "cell_type": "code",
   "execution_count": 17,
   "metadata": {},
   "outputs": [
    {
     "name": "stdout",
     "output_type": "stream",
     "text": [
      "Changing to logg=3.00 for T= 19350 logg=2.98\n",
      "Changing to logg=3.00 for T= 19070 logg=2.95\n",
      "Changing to logg=2.50 for T= 14616 logg=2.48\n",
      "Changing to logg=2.50 for T= 14400 logg=2.45\n",
      "Changing to logg=2.50 for T= 14186 logg=2.43\n",
      "Changing to logg=2.50 for T= 13976 logg=2.40\n",
      "Changing to logg=2.50 for T= 13768 logg=2.38\n",
      "Changing to logg=2.50 for T= 13564 logg=2.35\n",
      "Changing to logg=2.50 for T= 13362 logg=2.33\n",
      "Changing to logg=2.50 for T= 13164 logg=2.30\n",
      "Changing to logg=2.50 for T= 12968 logg=2.28\n",
      "Changing to logg=2.50 for T= 12775 logg=2.26\n",
      "Changing to logg=2.50 for T= 12585 logg=2.23\n",
      "Changing to logg=2.50 for T= 12398 logg=2.21\n",
      "Changing to logg=2.50 for T= 12213 logg=2.18\n",
      "Changing to logg=2.50 for T= 12031 logg=2.16\n",
      "Changing to logg=2.50 for T= 11852 logg=2.13\n",
      "Changing to logg=2.00 for T= 10829 logg=1.99\n",
      "Changing to logg=2.00 for T= 10667 logg=1.96\n",
      "Changing to logg=2.00 for T= 10508 logg=1.94\n",
      "Changing to logg=2.00 for T= 10351 logg=1.91\n",
      "Changing to logg=2.00 for T= 10197 logg=1.89\n",
      "Changing to logg=2.00 for T= 10044 logg=1.86\n",
      "Changing to logg=2.00 for T=  9894 logg=1.84\n",
      "Changing to logg=2.00 for T=  9746 logg=1.82\n",
      "Changing to logg=2.00 for T=  9601 logg=1.79\n",
      "Changing to logg=2.00 for T=  9457 logg=1.77\n",
      "Changing to logg=2.00 for T=  9316 logg=1.74\n",
      "Changing to logg=2.00 for T=  9177 logg=1.72\n",
      "Changing to logg=2.00 for T=  9040 logg=1.70\n",
      "Isochrone generation took 43.852106 s.\n",
      "Making photometry for isochrone: log(t) = 7.00  AKs = 0.70  dist = 1000\n",
      "     Starting at:  2021-01-25 01:29:04.130937   Usually takes ~5 minutes\n",
      "Starting filter: ubv,U   Elapsed time: 0.00 seconds\n",
      "Starting synthetic photometry\n",
      "M =   0.131 Msun  T =  2484 K  m_ubv_U = 36.44\n",
      "M =   1.879 Msun  T =  6621 K  m_ubv_U = 24.09\n",
      "M =   5.632 Msun  T = 16338 K  m_ubv_U = 19.34\n",
      "M =  14.673 Msun  T = 22324 K  m_ubv_U = 15.64\n",
      "M =  15.747 Msun  T = 12585 K  m_ubv_U = 14.30\n",
      "Starting filter: ubv,B   Elapsed time: 1.06 seconds\n",
      "Starting synthetic photometry\n",
      "M =   0.131 Msun  T =  2484 K  m_ubv_B = 36.74\n",
      "M =   1.879 Msun  T =  6621 K  m_ubv_B = 24.09\n",
      "M =   5.632 Msun  T = 16338 K  m_ubv_B = 19.97\n",
      "M =  14.673 Msun  T = 22324 K  m_ubv_B = 16.55\n",
      "M =  15.747 Msun  T = 12585 K  m_ubv_B = 14.81\n",
      "Starting filter: ubv,V   Elapsed time: 2.10 seconds\n",
      "Starting synthetic photometry\n",
      "M =   0.131 Msun  T =  2484 K  m_ubv_V = 34.26\n",
      "M =   1.879 Msun  T =  6621 K  m_ubv_V = 22.65\n",
      "M =   5.632 Msun  T = 16338 K  m_ubv_V = 19.33\n",
      "M =  14.673 Msun  T = 22324 K  m_ubv_V = 15.97\n",
      "M =  15.747 Msun  T = 12585 K  m_ubv_V = 14.10\n",
      "Starting filter: ubv,R   Elapsed time: 3.17 seconds\n",
      "Starting synthetic photometry\n",
      "M =   0.131 Msun  T =  2484 K  m_ubv_R = 29.08\n",
      "M =   1.879 Msun  T =  6621 K  m_ubv_R = 19.77\n",
      "M =   5.632 Msun  T = 16338 K  m_ubv_R = 16.79\n",
      "M =  14.673 Msun  T = 22324 K  m_ubv_R = 13.46\n",
      "M =  15.747 Msun  T = 12585 K  m_ubv_R = 11.51\n",
      "Starting filter: ubv,I   Elapsed time: 4.21 seconds\n",
      "Starting synthetic photometry\n",
      "M =   0.131 Msun  T =  2484 K  m_ubv_I = 23.02\n",
      "M =   1.879 Msun  T =  6621 K  m_ubv_I = 16.04\n",
      "M =   5.632 Msun  T = 16338 K  m_ubv_I = 13.42\n",
      "M =  14.673 Msun  T = 22324 K  m_ubv_I = 10.15\n",
      "M =  15.747 Msun  T = 12585 K  m_ubv_I = 8.06\n",
      "      Time taken: 5.22 seconds\n"
     ]
    }
   ],
   "source": [
    "iso2=synthetic.IsochronePhot(7.0, 0.7, 1000, math.log10(2), recomp=True) # New MIST v.1 isochrone for same metallicity"
   ]
  },
  {
   "cell_type": "markdown",
   "metadata": {},
   "source": [
    "Finding the max, median, and mean of the MISTv.1 isochrone's logg values"
   ]
  },
  {
   "cell_type": "code",
   "execution_count": 18,
   "metadata": {},
   "outputs": [
    {
     "data": {
      "text/plain": [
       "4.274253353128656"
      ]
     },
     "execution_count": 18,
     "metadata": {},
     "output_type": "execute_result"
    }
   ],
   "source": [
    "np.max(iso2.points['logg'])"
   ]
  },
  {
   "cell_type": "code",
   "execution_count": 19,
   "metadata": {},
   "outputs": [
    {
     "data": {
      "text/plain": [
       "(array([ 45.,  43.,  39., 155., 216.,   0.,   0.,   0.,   0.,   0.,   0.,\n",
       "          0.,   0.,   0.,   0.,   0.,   0.,   0.,   0.,   0.,   0.,   0.,\n",
       "          0.,   0.,   0.,   0.,   0.,   0.,   0.]),\n",
       " array([ 0,  1,  2,  3,  4,  5,  6,  7,  8,  9, 10, 11, 12, 13, 14, 15, 16,\n",
       "        17, 18, 19, 20, 21, 22, 23, 24, 25, 26, 27, 28, 29]),\n",
       " <a list of 29 Patch objects>)"
      ]
     },
     "execution_count": 19,
     "metadata": {},
     "output_type": "execute_result"
    },
    {
     "data": {
      "image/png": "[encoded data removed]",
      "text/plain": [
       "<Figure size 432x288 with 1 Axes>"
      ]
     },
     "metadata": {
      "needs_background": "light"
     },
     "output_type": "display_data"
    }
   ],
   "source": [
    "import matplotlib.pyplot as plt\n",
    "plt.xlabel(\"logg in cgs\")\n",
    "plt.title(\"Histogram of logg values of stars in the MIST v1 isochrone\")\n",
    "plt.hist(np.array([x for x in iso2.points['logg'] if np.isfinite(x)]), np.arange(0, 30, 1))"
   ]
  },
  {
   "cell_type": "code",
   "execution_count": 20,
   "metadata": {},
   "outputs": [
    {
     "data": {
      "text/plain": [
       "3.881417063052294"
      ]
     },
     "execution_count": 20,
     "metadata": {},
     "output_type": "execute_result"
    }
   ],
   "source": [
    "np.median(iso2.points['logg'])"
   ]
  },
  {
   "cell_type": "code",
   "execution_count": 21,
   "metadata": {},
   "outputs": [
    {
     "data": {
      "text/plain": [
       "3.261057124356823"
      ]
     },
     "execution_count": 21,
     "metadata": {},
     "output_type": "execute_result"
    }
   ],
   "source": [
    "np.mean(iso2.points['logg'])"
   ]
  },
  {
   "cell_type": "code",
   "execution_count": 22,
   "metadata": {},
   "outputs": [],
   "source": [
    "from spisea import imf\n",
    "from spisea.imf import imf, multiplicity\n",
    "from spisea import ifmr\n"
   ]
  },
  {
   "cell_type": "markdown",
   "metadata": {},
   "source": [
    "Make the clusters corresponding to the binary star isochrone and the MISTv.1 isochrone"
   ]
  },
  {
   "cell_type": "code",
   "execution_count": 23,
   "metadata": {},
   "outputs": [
    {
     "name": "stderr",
     "output_type": "stream",
     "text": [
      "/opt/anaconda3/envs/astroconda/lib/python3.7/site-packages/astropy/table/column.py:1020: RuntimeWarning: invalid value encountered in greater_equal\n",
      "  result = getattr(super(), op)(other)\n"
     ]
    }
   ],
   "source": [
    "clus_1=synthetic.Binary_Cluster(iso1, imf.IMFSalpeter1955(multiplicity=multiplicity.MultiplicityResolvedDK()), 2000, ifmr=ifmr.IFMR_Spera15())\n",
    "clus_2=synthetic.ResolvedCluster(iso2, imf.IMFSalpeter1955(multiplicity=multiplicity.MultiplicityResolvedDK()), 2000, ifmr=ifmr.IFMR_Spera15())"
   ]
  },
  {
   "cell_type": "markdown",
   "metadata": {},
   "source": [
    "Now let's visualize the isochrone we have created so far with a color magnitude diagram. There we can see the end of main sequence and perhaps the beginnings of the subgiant branch. That turnoff will turn out to be quite important when using the clusters to find age of real stellar populations.\\n But first, let's look at the isochrones and plot the observers' and theorist's HR diagrams and juxtapose the evolution models.\n",
    "\n",
    "Now we try Taking a look at the Binary Cluster vs Default Settings cluster Observer's HR Diagram.\n",
    "\n",
    "Remember to account for distance modulus! (dist to cluster = 1000)"
   ]
  },
  {
   "cell_type": "code",
   "execution_count": 24,
   "metadata": {},
   "outputs": [
    {
     "data": {
      "text/plain": [
       "<matplotlib.legend.Legend at 0x7fde41b3e748>"
      ]
     },
     "execution_count": 24,
     "metadata": {},
     "output_type": "execute_result"
    },
    {
     "data": {
      "image/png": "[encoded data removed]",
      "text/plain": [
       "<Figure size 432x288 with 1 Axes>"
      ]
     },
     "metadata": {
      "needs_background": "light"
     },
     "output_type": "display_data"
    }
   ],
   "source": [
    "import matplotlib.pyplot as plt\n",
    "plt.plot(iso1.primaries['m_ubv_B']-iso1.primaries[\"m_ubv_V\"], iso1.primaries[\"m_ubv_V\"]-5*np.log10(1000/10), \"r.\")\n",
    "plt.plot(iso1.secondaries['m_ubv_B']-iso1.secondaries[\"m_ubv_V\"], iso1.secondaries[\"m_ubv_V\"]-5*np.log10(1000/10), \"r.\")\n",
    "plt.plot(iso1.singles['m_ubv_B']-iso1.singles[\"m_ubv_V\"], iso1.singles[\"m_ubv_V\"]-5*np.log10(1000/10), \"r.\", label=\"BPASS isochrone\")\n",
    "plt.plot(iso2.points['m_ubv_B']-iso2.points[\"m_ubv_V\"], iso2.points[\"m_ubv_V\"]-5*np.log10(1000/10), \"b.\", label=\"MISTv1\", alpha =0.2)\n",
    "plt.xlabel(\"B-V\")\n",
    "plt.ylabel(\"pseudo-M_V\")\n",
    "plt.title(\"Color magnitude Diagram of Isochrones at solar metallicity and 10 million years age\")\n",
    "plt.gca().invert_yaxis()\n",
    "plt.legend()"
   ]
  },
  {
   "cell_type": "markdown",
   "metadata": {},
   "source": [
    "**Hmm, where is the \"vertical line\" coming from...?**"
   ]
  },
  {
   "cell_type": "code",
   "execution_count": 25,
   "metadata": {},
   "outputs": [
    {
     "data": {
      "text/plain": [
       "<matplotlib.legend.Legend at 0x7fde3a142588>"
      ]
     },
     "execution_count": 25,
     "metadata": {},
     "output_type": "execute_result"
    },
    {
     "data": {
      "image/png": "[encoded data removed]",
      "text/plain": [
       "<Figure size 432x288 with 1 Axes>"
      ]
     },
     "metadata": {
      "needs_background": "light"
     },
     "output_type": "display_data"
    }
   ],
   "source": [
    "# Taking a look at the Binary Cluster vs Default Settings cluster Observer's HR Diagram\n",
    "# Remember to use a distance modulus!\n",
    "import matplotlib.pyplot as plt\n",
    "plt.plot(iso1.primaries['m_ubv_B']-iso1.primaries[\"m_ubv_V\"], iso1.primaries[\"m_ubv_V\"]-5*np.log10(1000/10), \"r.\",  label=\"BPASS isochrone (primaries)\")\n",
    "plt.xlabel(\"B-V\")\n",
    "plt.ylabel(\"pseudo-M_V\")\n",
    "plt.title(\"Color magnitude Diagram of Isochrones at solar metallicity and 10 million years age (primary stars)\")\n",
    "plt.gca().invert_yaxis()\n",
    "plt.legend()"
   ]
  },
  {
   "cell_type": "markdown",
   "metadata": {},
   "source": [
    "I try to obtain the piece of the isochrone that is at the lefthand corner of the plot above."
   ]
  },
  {
   "cell_type": "code",
   "execution_count": 26,
   "metadata": {},
   "outputs": [
    {
     "name": "stderr",
     "output_type": "stream",
     "text": [
      "/opt/anaconda3/envs/astroconda/lib/python3.7/site-packages/astropy/table/column.py:1020: RuntimeWarning: invalid value encountered in greater\n",
      "  result = getattr(super(), op)(other)\n",
      "/opt/anaconda3/envs/astroconda/lib/python3.7/site-packages/astropy/table/column.py:1020: RuntimeWarning: invalid value encountered in less_equal\n",
      "  result = getattr(super(), op)(other)\n"
     ]
    }
   ],
   "source": [
    "line = iso1.primaries[np.where(((iso1.primaries['m_ubv_B']-iso1.primaries[\"m_ubv_V\"])>0.45) & ((iso1.primaries['m_ubv_B']-iso1.primaries[\"m_ubv_V\"])<=0.4583))[0]]"
   ]
  },
  {
   "cell_type": "markdown",
   "metadata": {},
   "source": [
    "Now I try to pinpoint, visually, where there is the vertical line in the lefthand corner of the graph. I try to see what kinds of star properties create the stars plotted above."
   ]
  },
  {
   "cell_type": "code",
   "execution_count": 27,
   "metadata": {},
   "outputs": [
    {
     "data": {
      "text/html": [
       "<i>Table length=138</i>\n",
       "<table id=\"table140592842012544\" class=\"table-striped table-bordered table-condensed\">\n",
       "<thead><tr><th>mass</th><th>log_a</th><th>L</th><th>Teff</th><th>R</th><th>logg</th><th>isWR</th><th>mass_current</th><th>phase</th><th>merged</th><th>source</th><th>m_ubv_U</th><th>m_ubv_V</th><th>m_ubv_B</th><th>m_ubv_R</th><th>m_ubv_I</th></tr></thead>\n",
       "<thead><tr><th>solMass</th><th></th><th>W</th><th>K</th><th>m</th><th></th><th></th><th>solMass</th><th></th><th></th><th></th><th></th><th></th><th></th><th></th><th></th></tr></thead>\n",
       "<thead><tr><th>float64</th><th>float64</th><th>float64</th><th>float64</th><th>float64</th><th>float64</th><th>bool</th><th>float64</th><th>float64</th><th>bool</th><th>int64</th><th>float64</th><th>float64</th><th>float64</th><th>float64</th><th>float64</th></tr></thead>\n",
       "<tr><td>13.600000000000001</td><td>-0.3339394086880292</td><td>1.1429360443223188e+31</td><td>20636.21291138488</td><td>9399656938.868324</td><td>3.5703702064786813</td><td>False</td><td>24.75612</td><td>5.0</td><td>False</td><td>1</td><td>15.698960969667986</td><td>15.945967717450062</td><td>16.537698278857505</td><td>13.434069116304073</td><td>10.105926108172678</td></tr>\n",
       "<tr><td>5.7</td><td>-1.0647994086880292</td><td>3.4125728330486375e+29</td><td>14265.927086477452</td><td>3398615262.0978193</td><td>4.150772018108425</td><td>False</td><td>12.31585</td><td>5.0</td><td>False</td><td>1</td><td>18.993641627826324</td><td>18.829044706706544</td><td>19.51068535116591</td><td>16.27477173777796</td><td>12.863964200364038</td></tr>\n",
       "<tr><td>10.2</td><td>-0.5100584086880291</td><td>3.244381595531225e+30</td><td>24651.87744495162</td><td>3509312176.9909453</td><td>4.046621338957311</td><td>False</td><td>10.33127</td><td>5.0</td><td>False</td><td>1</td><td>17.403680254991073</td><td>17.77167655444324</td><td>18.335191982677532</td><td>15.27795184074801</td><td>11.982645366149162</td></tr>\n",
       "<tr><td>10.2</td><td>0.13751959131197067</td><td>3.236621607331019e+30</td><td>24686.52723116649</td><td>3495280252.7642183</td><td>4.048460063843165</td><td>False</td><td>10.2923</td><td>5.0</td><td>False</td><td>1</td><td>17.408843404823035</td><td>17.77781566151309</td><td>18.34110907168582</td><td>15.284216183061961</td><td>11.989142087923833</td></tr>\n",
       "<tr><td>1.7000000000000002</td><td>-1.374413808688029</td><td>2.853198119454223e+27</td><td>7600.112133649572</td><td>1094919028.3955743</td><td>4.274607533638199</td><td>False</td><td>1.700043</td><td>5.0</td><td>False</td><td>1</td><td>24.0410950419251</td><td>22.841208201335846</td><td>24.03618868176767</td><td>20.07257605853713</td><td>16.43226629546983</td></tr>\n",
       "<tr><td>11.899999999999999</td><td>-0.34972140868802915</td><td>6.251466800224923e+30</td><td>25910.75095189316</td><td>4409425439.419787</td><td>3.914701244752043</td><td>False</td><td>12.03798</td><td>5.0</td><td>False</td><td>1</td><td>16.761465626949764</td><td>17.17308924016877</td><td>17.72675203050184</td><td>14.683688718740502</td><td>11.396605266267793</td></tr>\n",
       "<tr><td>8.5</td><td>-0.5577784086880291</td><td>1.5515719838414837e+30</td><td>22579.79527634102</td><td>2892624120.8879633</td><td>4.133396819415392</td><td>False</td><td>8.571744</td><td>5.0</td><td>False</td><td>1</td><td>18.060858770486163</td><td>18.35616431321793</td><td>18.935100129971694</td><td>15.854956605239737</td><td>12.544791707081513</td></tr>\n",
       "<tr><td>6.0</td><td>-1.0594524086880293</td><td>4.132110521820486e+29</td><td>14625.812447623493</td><td>3557885793.8229575</td><td>4.140673962826437</td><td>False</td><td>13.18701</td><td>5.0</td><td>False</td><td>1</td><td>18.816948766873708</td><td>18.683824197501014</td><td>19.358039857965473</td><td>16.13265092058397</td><td>12.72818834631232</td></tr>\n",
       "<tr><td>8.5</td><td>-0.1671224086880292</td><td>1.5550771110627515e+30</td><td>22606.847256378685</td><td>2889096202.023548</td><td>4.132713358797583</td><td>False</td><td>8.537402</td><td>5.0</td><td>False</td><td>1</td><td>18.06033925572602</td><td>18.356638100052336</td><td>18.93537163766</td><td>15.855535728715212</td><td>12.545581543769272</td></tr>\n",
       "<tr><td>...</td><td>...</td><td>...</td><td>...</td><td>...</td><td>...</td><td>...</td><td>...</td><td>...</td><td>...</td><td>...</td><td>...</td><td>...</td><td>...</td><td>...</td><td>...</td></tr>\n",
       "<tr><td>6.800000000000001</td><td>-1.0074864086880293</td><td>6.612138305681461e+29</td><td>19895.735561551108</td><td>2432271233.0871744</td><td>4.186934237689388</td><td>False</td><td>6.855618</td><td>5.0</td><td>False</td><td>1</td><td>18.77671540273935</td><td>18.960166599797198</td><td>19.56163991040289</td><td>16.446996080382704</td><td>13.112981348577383</td></tr>\n",
       "<tr><td>3.4000000000000004</td><td>-1.3061644086880293</td><td>4.833168419666348e+28</td><td>12855.530409153878</td><td>1575077774.587971</td><td>4.26009733686879</td><td>False</td><td>3.402434</td><td>5.0</td><td>False</td><td>1</td><td>21.012433285749502</td><td>20.69712790799624</td><td>21.41313417897434</td><td>18.130690851873005</td><td>14.691685154623412</td></tr>\n",
       "<tr><td>3.6</td><td>-1.2485914086880292</td><td>6.02506767126942e+28</td><td>13202.312246797914</td><td>1667446864.2801878</td><td>4.254137056871258</td><td>False</td><td>3.761226</td><td>5.0</td><td>False</td><td>1</td><td>20.796593343039966</td><td>20.521842211208032</td><td>21.22936272181168</td><td>17.958552247780215</td><td>14.527306664621063</td></tr>\n",
       "<tr><td>3.4000000000000004</td><td>0.18295359131197086</td><td>4.833502294644502e+28</td><td>12857.602642839482</td><td>1574570111.333446</td><td>4.260111759711157</td><td>False</td><td>3.400354</td><td>5.0</td><td>False</td><td>1</td><td>21.012579129420985</td><td>20.69751513766935</td><td>21.413473887799235</td><td>18.13109573694578</td><td>14.692137559685639</td></tr>\n",
       "<tr><td>1.7000000000000002</td><td>-0.11255740868802899</td><td>2.853198119454223e+27</td><td>7600.112133649572</td><td>1094893817.2435012</td><td>4.274620636139649</td><td>False</td><td>1.700016</td><td>5.0</td><td>False</td><td>1</td><td>24.041144381721928</td><td>22.841258589750915</td><td>24.036239847500283</td><td>20.07262610756577</td><td>16.432316443005014</td></tr>\n",
       "<tr><td>13.600000000000001</td><td>-0.05215640868802929</td><td>1.1389166161403826e+31</td><td>25872.595579026227</td><td>5969280723.12515</td><td>3.705257170446935</td><td>False</td><td>13.62039</td><td>5.0</td><td>False</td><td>1</td><td>16.080552684440292</td><td>16.503212664953995</td><td>17.056856768988002</td><td>14.012856163276801</td><td>10.725719126061547</td></tr>\n",
       "<tr><td>5.1</td><td>-0.9463764086880291</td><td>2.2517072652925016e+29</td><td>16731.312082162505</td><td>2007021400.700121</td><td>4.2265584149286</td><td>False</td><td>5.113883</td><td>5.0</td><td>False</td><td>1</td><td>19.674650645276557</td><td>19.68649766902922</td><td>20.326530174390463</td><td>17.15286943157308</td><td>13.781277609691498</td></tr>\n",
       "<tr><td>7.2</td><td>-0.9789614086880292</td><td>8.197698265567137e+29</td><td>17456.61364162639</td><td>3517887957.6596656</td><td>4.127603895521727</td><td>False</td><td>12.50997</td><td>5.0</td><td>False</td><td>1</td><td>18.3305590734771</td><td>18.39107894070414</td><td>19.018809216740255</td><td>15.862647052477868</td><td>12.500318545615636</td></tr>\n",
       "<tr><td>13.600000000000001</td><td>0.494342591311971</td><td>1.1376061444420383e+31</td><td>25472.407862054304</td><td>6154772481.595003</td><td>3.697980842265627</td><td>False</td><td>14.23945</td><td>5.0</td><td>False</td><td>1</td><td>16.054948606325567</td><td>16.466873354678565</td><td>17.02366451511435</td><td>13.974800798922962</td><td>10.684964942738317</td></tr>\n",
       "<tr><td>5.1</td><td>-0.6820364086880293</td><td>2.2517591133652513e+29</td><td>16736.32111688971</td><td>2005866398.7786484</td><td>4.226623468160178</td><td>False</td><td>5.108764</td><td>5.0</td><td>False</td><td>1</td><td>19.675073543089503</td><td>19.687218755283048</td><td>20.327177938617105</td><td>17.153628910220018</td><td>13.782105678597468</td></tr>\n",
       "</table>"
      ],
      "text/plain": [
       "<Table length=138>\n",
       "       mass               log_a         ...      m_ubv_I      \n",
       "     solMass                            ...                   \n",
       "     float64             float64        ...      float64      \n",
       "------------------ -------------------- ... ------------------\n",
       "13.600000000000001  -0.3339394086880292 ... 10.105926108172678\n",
       "               5.7  -1.0647994086880292 ... 12.863964200364038\n",
       "              10.2  -0.5100584086880291 ... 11.982645366149162\n",
       "              10.2  0.13751959131197067 ... 11.989142087923833\n",
       "1.7000000000000002   -1.374413808688029 ...  16.43226629546983\n",
       "11.899999999999999 -0.34972140868802915 ... 11.396605266267793\n",
       "               8.5  -0.5577784086880291 ... 12.544791707081513\n",
       "               6.0  -1.0594524086880293 ...  12.72818834631232\n",
       "               8.5  -0.1671224086880292 ... 12.545581543769272\n",
       "               ...                  ... ...                ...\n",
       " 6.800000000000001  -1.0074864086880293 ... 13.112981348577383\n",
       "3.4000000000000004  -1.3061644086880293 ... 14.691685154623412\n",
       "               3.6  -1.2485914086880292 ... 14.527306664621063\n",
       "3.4000000000000004  0.18295359131197086 ... 14.692137559685639\n",
       "1.7000000000000002 -0.11255740868802899 ... 16.432316443005014\n",
       "13.600000000000001 -0.05215640868802929 ... 10.725719126061547\n",
       "               5.1  -0.9463764086880291 ... 13.781277609691498\n",
       "               7.2  -0.9789614086880292 ... 12.500318545615636\n",
       "13.600000000000001    0.494342591311971 ... 10.684964942738317\n",
       "               5.1  -0.6820364086880293 ... 13.782105678597468"
      ]
     },
     "execution_count": 27,
     "metadata": {},
     "output_type": "execute_result"
    }
   ],
   "source": [
    "iso1.secondaries[np.where(((iso1.primaries['m_ubv_B']-iso1.primaries[\"m_ubv_V\"])>0.45) & ((iso1.primaries['m_ubv_B']-iso1.primaries[\"m_ubv_V\"])<=0.4583))[0]]"
   ]
  },
  {
   "cell_type": "code",
   "execution_count": 28,
   "metadata": {},
   "outputs": [
    {
     "data": {
      "text/plain": [
       "<matplotlib.legend.Legend at 0x7fde31d82ef0>"
      ]
     },
     "execution_count": 28,
     "metadata": {},
     "output_type": "execute_result"
    },
    {
     "data": {
      "image/png": "[encoded data removed]",
      "text/plain": [
       "<Figure size 432x288 with 1 Axes>"
      ]
     },
     "metadata": {
      "needs_background": "light"
     },
     "output_type": "display_data"
    }
   ],
   "source": [
    "# Taking a look at the Binary Cluster vs Default Settings cluster Observer's HR Diagram\n",
    "# Remember to use a distance modulus!\n",
    "import matplotlib.pyplot as plt\n",
    "plt.plot(line['m_ubv_B']-line[\"m_ubv_V\"], line[\"m_ubv_V\"]-5*np.log10(100), \"r.\",  label=\"BPASS isochrone\")\n",
    "plt.xlabel(\"B-V\")\n",
    "plt.ylabel(\"pseudo-M_V\")\n",
    "plt.title(\"Color magnitude Diagram of Isochrones at solar metallicity and 10 million years age (Vertical line segment)\")\n",
    "plt.gca().invert_yaxis()\n",
    "plt.legend()"
   ]
  },
  {
   "cell_type": "markdown",
   "metadata": {},
   "source": [
    "What exactly is causing this line. We need to look specifically at the properties of the stars there. Specifically current mass, source code of the star, logg, initial mass, Teff."
   ]
  },
  {
   "cell_type": "code",
   "execution_count": 29,
   "metadata": {},
   "outputs": [
    {
     "data": {
      "text/html": [
       "<i>Table length=138</i>\n",
       "<table id=\"table140592295036856\" class=\"table-striped table-bordered table-condensed\">\n",
       "<thead><tr><th>mass</th><th>L</th><th>Teff</th><th>R</th><th>logg</th><th>isWR</th><th>mass_current</th><th>phase</th><th>source</th><th>m_ubv_U</th><th>m_ubv_V</th><th>m_ubv_B</th><th>m_ubv_R</th><th>m_ubv_I</th></tr></thead>\n",
       "<thead><tr><th>solMass</th><th>W</th><th>K</th><th>m</th><th></th><th></th><th>solMass</th><th></th><th></th><th></th><th></th><th></th><th></th><th></th></tr></thead>\n",
       "<thead><tr><th>float64</th><th>float64</th><th>float64</th><th>float64</th><th>float64</th><th>bool</th><th>float64</th><th>float64</th><th>int64</th><th>float64</th><th>float64</th><th>float64</th><th>float64</th><th>float64</th></tr></thead>\n",
       "<tr><td>17.0</td><td>1.1415420900914628e+31</td><td>83750.99975245068</td><td>570630740.9647976</td><td>5.256462060601317</td><td>True</td><td>4.44339</td><td>5.0</td><td>1</td><td>19.928031909804513</td><td>20.586887728428366</td><td>21.041353196157566</td><td>18.12146046679552</td><td>14.89366708925036</td></tr>\n",
       "<tr><td>19.0</td><td>7.877563798457731e+30</td><td>79806.81886796381</td><td>522041662.6956228</td><td>5.266783341577615</td><td>True</td><td>3.80834</td><td>5.0</td><td>1</td><td>20.121281909804512</td><td>20.780137728428368</td><td>21.23460319615756</td><td>18.314710466795518</td><td>15.086917089250358</td></tr>\n",
       "<tr><td>17.0</td><td>1.4337450420541949e+31</td><td>93590.11911145935</td><td>512112249.65367043</td><td>5.398533028581863</td><td>True</td><td>4.96347</td><td>5.0</td><td>1</td><td>20.162981909804508</td><td>20.821837728428363</td><td>21.27630319615756</td><td>18.356410466795516</td><td>15.128617089250357</td></tr>\n",
       "<tr><td>17.0</td><td>1.5011079641057593e+31</td><td>91611.50124117784</td><td>546883932.8421482</td><td>5.3547183211233715</td><td>True</td><td>5.11718</td><td>5.0</td><td>1</td><td>20.020331909804504</td><td>20.67918772842836</td><td>21.133653196157557</td><td>18.213760466795513</td><td>14.985967089250352</td></tr>\n",
       "<tr><td>17.0</td><td>1.2785035230411526e+31</td><td>92337.90141172498</td><td>496798372.2597669</td><td>5.4090412651989945</td><td>True</td><td>4.78579</td><td>5.0</td><td>1</td><td>20.228906909804504</td><td>20.88776272842836</td><td>21.342228196157556</td><td>18.422335466795513</td><td>15.194542089250351</td></tr>\n",
       "<tr><td>17.0</td><td>1.4374803910445335e+31</td><td>91919.99668122278</td><td>531581874.4544721</td><td>5.372556480201899</td><td>True</td><td>5.03766</td><td>5.0</td><td>1</td><td>20.081956909804504</td><td>20.74081272842836</td><td>21.195278196157552</td><td>18.275385466795512</td><td>15.047592089250351</td></tr>\n",
       "<tr><td>17.0</td><td>1.3975003621587294e+31</td><td>89672.64913499464</td><td>550738153.5883051</td><td>5.343128958073561</td><td>True</td><td>5.05314</td><td>5.0</td><td>1</td><td>20.005081909804506</td><td>20.663937728428362</td><td>21.118403196157555</td><td>18.19851046679551</td><td>14.970717089250352</td></tr>\n",
       "<tr><td>20.0</td><td>7.780758379212653e+30</td><td>83435.33230768603</td><td>474679158.9759139</td><td>5.365377954576327</td><td>True</td><td>3.95103</td><td>5.0</td><td>1</td><td>20.327806909804515</td><td>20.986662728428364</td><td>21.441128196157564</td><td>18.521235466795517</td><td>15.29344208925036</td></tr>\n",
       "<tr><td>17.0</td><td>1.469947855901838e+31</td><td>92947.98944512627</td><td>525726857.6079786</td><td>5.382865812478479</td><td>True</td><td>5.04543</td><td>5.0</td><td>1</td><td>20.106006909804506</td><td>20.76486272842836</td><td>21.21932819615756</td><td>18.29943546679551</td><td>15.071642089250352</td></tr>\n",
       "<tr><td>...</td><td>...</td><td>...</td><td>...</td><td>...</td><td>...</td><td>...</td><td>...</td><td>...</td><td>...</td><td>...</td><td>...</td><td>...</td><td>...</td></tr>\n",
       "<tr><td>17.0</td><td>1.3390041687268625e+31</td><td>92284.76273890471</td><td>509002791.6149937</td><td>5.397728382326262</td><td>True</td><td>4.89464</td><td>5.0</td><td>1</td><td>20.17620690980451</td><td>20.835062728428365</td><td>21.289528196157562</td><td>18.36963546679552</td><td>15.141842089250357</td></tr>\n",
       "<tr><td>17.0</td><td>1.2595689004859534e+31</td><td>90704.74359588997</td><td>511022667.03220445</td><td>5.389965659921329</td><td>True</td><td>4.84594</td><td>5.0</td><td>1</td><td>20.16760690980451</td><td>20.826462728428364</td><td>21.280928196157557</td><td>18.361035466795514</td><td>15.133242089250354</td></tr>\n",
       "<tr><td>18.0</td><td>1.394799969170986e+31</td><td>97987.34714962513</td><td>460792247.96639234</td><td>5.42817777792514</td><td>True</td><td>4.30279</td><td>5.0</td><td>1</td><td>20.39228190980451</td><td>21.051137728428365</td><td>21.505603196157566</td><td>18.58571046679552</td><td>15.357917089250357</td></tr>\n",
       "<tr><td>17.0</td><td>1.5600981760393276e+31</td><td>89470.52794032823</td><td>584527790.9731114</td><td>5.305558895498655</td><td>True</td><td>5.22049</td><td>5.0</td><td>1</td><td>19.875781909804505</td><td>20.534637728428358</td><td>20.989103196157558</td><td>18.06921046679551</td><td>14.841417089250351</td></tr>\n",
       "<tr><td>17.0</td><td>1.504914854903303e+31</td><td>93351.22041189286</td><td>527357545.36586386</td><td>5.382627190539031</td><td>True</td><td>5.07434</td><td>5.0</td><td>1</td><td>20.099281909804503</td><td>20.758137728428355</td><td>21.212603196157556</td><td>18.29271046679551</td><td>15.064917089250349</td></tr>\n",
       "<tr><td>17.0</td><td>1.4616114249692072e+31</td><td>90706.83217384011</td><td>550459237.5175775</td><td>5.347208069972277</td><td>True</td><td>5.09566</td><td>5.0</td><td>1</td><td>20.006181909804504</td><td>20.66503772842836</td><td>21.119503196157552</td><td>18.199610466795512</td><td>14.97181708925035</td></tr>\n",
       "<tr><td>17.0</td><td>1.3587887080871477e+31</td><td>92563.54950171518</td><td>509665415.11080885</td><td>5.398042186792549</td><td>True</td><td>4.9106</td><td>5.0</td><td>1</td><td>20.17338190980451</td><td>20.832237728428368</td><td>21.28670319615756</td><td>18.366810466795517</td><td>15.139017089250357</td></tr>\n",
       "<tr><td>18.0</td><td>9.689512539808547e+30</td><td>87581.02023493589</td><td>480750964.51487255</td><td>5.389052116460427</td><td>True</td><td>4.27981</td><td>5.0</td><td>1</td><td>20.300206909804505</td><td>20.959062728428357</td><td>21.413528196157557</td><td>18.49363546679551</td><td>15.26584208925035</td></tr>\n",
       "<tr><td>17.0</td><td>1.5798357204706762e+31</td><td>88316.12388288626</td><td>603691643.4657497</td><td>5.293867746656474</td><td>True</td><td>5.42026</td><td>5.0</td><td>1</td><td>19.805731909804507</td><td>20.464587728428363</td><td>20.919053196157556</td><td>17.999160466795516</td><td>14.771367089250354</td></tr>\n",
       "<tr><td>17.0</td><td>1.4102364289800778e+31</td><td>92764.11379938877</td><td>516981692.75393486</td><td>5.391268490860661</td><td>True</td><td>4.97486</td><td>5.0</td><td>1</td><td>20.14243190980451</td><td>20.801287728428367</td><td>21.25575319615756</td><td>18.335860466795516</td><td>15.108067089250357</td></tr>\n",
       "</table>"
      ],
      "text/plain": [
       "<Table length=138>\n",
       "  mass            L            ...      m_ubv_R            m_ubv_I      \n",
       "solMass           W            ...                                      \n",
       "float64        float64         ...      float64            float64      \n",
       "------- ---------------------- ... ------------------ ------------------\n",
       "   17.0 1.1415420900914628e+31 ...  18.12146046679552  14.89366708925036\n",
       "   19.0  7.877563798457731e+30 ... 18.314710466795518 15.086917089250358\n",
       "   17.0 1.4337450420541949e+31 ... 18.356410466795516 15.128617089250357\n",
       "   17.0 1.5011079641057593e+31 ... 18.213760466795513 14.985967089250352\n",
       "   17.0 1.2785035230411526e+31 ... 18.422335466795513 15.194542089250351\n",
       "   17.0 1.4374803910445335e+31 ... 18.275385466795512 15.047592089250351\n",
       "   17.0 1.3975003621587294e+31 ...  18.19851046679551 14.970717089250352\n",
       "   20.0  7.780758379212653e+30 ... 18.521235466795517  15.29344208925036\n",
       "   17.0  1.469947855901838e+31 ...  18.29943546679551 15.071642089250352\n",
       "    ...                    ... ...                ...                ...\n",
       "   17.0 1.3390041687268625e+31 ...  18.36963546679552 15.141842089250357\n",
       "   17.0 1.2595689004859534e+31 ... 18.361035466795514 15.133242089250354\n",
       "   18.0  1.394799969170986e+31 ...  18.58571046679552 15.357917089250357\n",
       "   17.0 1.5600981760393276e+31 ...  18.06921046679551 14.841417089250351\n",
       "   17.0  1.504914854903303e+31 ...  18.29271046679551 15.064917089250349\n",
       "   17.0 1.4616114249692072e+31 ... 18.199610466795512  14.97181708925035\n",
       "   17.0 1.3587887080871477e+31 ... 18.366810466795517 15.139017089250357\n",
       "   18.0  9.689512539808547e+30 ...  18.49363546679551  15.26584208925035\n",
       "   17.0 1.5798357204706762e+31 ... 17.999160466795516 14.771367089250354\n",
       "   17.0 1.4102364289800778e+31 ... 18.335860466795516 15.108067089250357"
      ]
     },
     "execution_count": 29,
     "metadata": {},
     "output_type": "execute_result"
    }
   ],
   "source": [
    "line"
   ]
  },
  {
   "cell_type": "code",
   "execution_count": 30,
   "metadata": {},
   "outputs": [
    {
     "data": {
      "text/html": [
       "&lt;Column name=&apos;mass_current&apos; dtype=&apos;float64&apos; unit=&apos;solMass&apos; length=138&gt;\n",
       "<table>\n",
       "<tr><td>3.72663</td></tr>\n",
       "<tr><td>3.80195</td></tr>\n",
       "<tr><td>3.80834</td></tr>\n",
       "<tr><td>3.82967</td></tr>\n",
       "<tr><td>3.95103</td></tr>\n",
       "<tr><td>4.10753</td></tr>\n",
       "<tr><td>4.19745</td></tr>\n",
       "<tr><td>4.20263</td></tr>\n",
       "<tr><td>4.27981</td></tr>\n",
       "<tr><td>4.30279</td></tr>\n",
       "<tr><td>4.33513</td></tr>\n",
       "<tr><td>4.35809</td></tr>\n",
       "<tr><td>...</td></tr>\n",
       "<tr><td>5.29173</td></tr>\n",
       "<tr><td>5.33257</td></tr>\n",
       "<tr><td>5.33296</td></tr>\n",
       "<tr><td>5.33394</td></tr>\n",
       "<tr><td>5.33618</td></tr>\n",
       "<tr><td>5.42026</td></tr>\n",
       "<tr><td>7.01151</td></tr>\n",
       "<tr><td>7.03191</td></tr>\n",
       "<tr><td>8.939</td></tr>\n",
       "<tr><td>9.16687</td></tr>\n",
       "<tr><td>9.99269</td></tr>\n",
       "<tr><td>10.77765</td></tr>\n",
       "</table>"
      ],
      "text/plain": [
       "<Column name='mass_current' dtype='float64' unit='solMass' length=138>\n",
       " 3.72663\n",
       " 3.80195\n",
       " 3.80834\n",
       " 3.82967\n",
       " 3.95103\n",
       " 4.10753\n",
       " 4.19745\n",
       " 4.20263\n",
       " 4.27981\n",
       " 4.30279\n",
       " 4.33513\n",
       " 4.35809\n",
       "     ...\n",
       " 5.29173\n",
       " 5.33257\n",
       " 5.33296\n",
       " 5.33394\n",
       " 5.33618\n",
       " 5.42026\n",
       " 7.01151\n",
       " 7.03191\n",
       "   8.939\n",
       " 9.16687\n",
       " 9.99269\n",
       "10.77765"
      ]
     },
     "execution_count": 30,
     "metadata": {},
     "output_type": "execute_result"
    }
   ],
   "source": [
    "np.unique(line['mass_current'])"
   ]
  },
  {
   "cell_type": "code",
   "execution_count": 31,
   "metadata": {},
   "outputs": [
    {
     "data": {
      "text/html": [
       "&lt;Column name=&apos;source&apos; dtype=&apos;int64&apos; length=1&gt;\n",
       "<table>\n",
       "<tr><td>1</td></tr>\n",
       "</table>"
      ],
      "text/plain": [
       "<Column name='source' dtype='int64' length=1>\n",
       "1"
      ]
     },
     "execution_count": 31,
     "metadata": {},
     "output_type": "execute_result"
    }
   ],
   "source": [
    "np.unique(line['source'])"
   ]
  },
  {
   "cell_type": "code",
   "execution_count": 32,
   "metadata": {},
   "outputs": [
    {
     "data": {
      "text/plain": [
       "array([3.7, 4.6, 4.7, 4.8, 5.2, 5.3, 5.4, 5.5, 5.7])"
      ]
     },
     "execution_count": 32,
     "metadata": {},
     "output_type": "execute_result"
    }
   ],
   "source": [
    "np.unique(np.round(line['logg'], 1))"
   ]
  },
  {
   "cell_type": "code",
   "execution_count": 33,
   "metadata": {},
   "outputs": [
    {
     "data": {
      "text/html": [
       "&lt;Column name=&apos;mass&apos; dtype=&apos;float64&apos; unit=&apos;solMass&apos; length=5&gt;\n",
       "<table>\n",
       "<tr><td>17.0</td></tr>\n",
       "<tr><td>18.0</td></tr>\n",
       "<tr><td>19.0</td></tr>\n",
       "<tr><td>20.0</td></tr>\n",
       "<tr><td>21.0</td></tr>\n",
       "</table>"
      ],
      "text/plain": [
       "<Column name='mass' dtype='float64' unit='solMass' length=5>\n",
       "17.0\n",
       "18.0\n",
       "19.0\n",
       "20.0\n",
       "21.0"
      ]
     },
     "execution_count": 33,
     "metadata": {},
     "output_type": "execute_result"
    }
   ],
   "source": [
    "np.unique(line['mass'])"
   ]
  },
  {
   "cell_type": "markdown",
   "metadata": {},
   "source": [
    "**Ah, that may be it: the initial mass of the stars int the line seem to be around the same, so it may be no surprise that there is a lack of variation in photometric properties. Something to look into. Here I look into what kinds of Teff, logg,  values are in the \"line\"**"
   ]
  },
  {
   "cell_type": "code",
   "execution_count": 34,
   "metadata": {},
   "outputs": [
    {
     "data": {
      "text/html": [
       "&lt;Column name=&apos;Teff&apos; dtype=&apos;float64&apos; unit=&apos;K&apos; length=135&gt;\n",
       "<table>\n",
       "<tr><td>50418.50918941117</td></tr>\n",
       "<tr><td>73241.96712137036</td></tr>\n",
       "<tr><td>79399.90814369045</td></tr>\n",
       "<tr><td>79806.81886796381</td></tr>\n",
       "<tr><td>79909.79195810977</td></tr>\n",
       "<tr><td>80097.69160340946</td></tr>\n",
       "<tr><td>81756.06871377546</td></tr>\n",
       "<tr><td>82813.28263907462</td></tr>\n",
       "<tr><td>83435.33230768603</td></tr>\n",
       "<tr><td>83750.99975245068</td></tr>\n",
       "<tr><td>84137.57680291387</td></tr>\n",
       "<tr><td>84553.19054743169</td></tr>\n",
       "<tr><td>...</td></tr>\n",
       "<tr><td>93738.93175275774</td></tr>\n",
       "<tr><td>93866.36499525789</td></tr>\n",
       "<tr><td>93896.62881393508</td></tr>\n",
       "<tr><td>97987.34714962513</td></tr>\n",
       "<tr><td>98401.11057611345</td></tr>\n",
       "<tr><td>100902.05237643562</td></tr>\n",
       "<tr><td>101468.21022052351</td></tr>\n",
       "<tr><td>103145.43220361149</td></tr>\n",
       "<tr><td>105969.28401006677</td></tr>\n",
       "<tr><td>106743.14638055008</td></tr>\n",
       "<tr><td>107198.81880281962</td></tr>\n",
       "<tr><td>121168.57488553242</td></tr>\n",
       "</table>"
      ],
      "text/plain": [
       "<Column name='Teff' dtype='float64' unit='K' length=135>\n",
       " 50418.50918941117\n",
       " 73241.96712137036\n",
       " 79399.90814369045\n",
       " 79806.81886796381\n",
       " 79909.79195810977\n",
       " 80097.69160340946\n",
       " 81756.06871377546\n",
       " 82813.28263907462\n",
       " 83435.33230768603\n",
       " 83750.99975245068\n",
       " 84137.57680291387\n",
       " 84553.19054743169\n",
       "               ...\n",
       " 93738.93175275774\n",
       " 93866.36499525789\n",
       " 93896.62881393508\n",
       " 97987.34714962513\n",
       " 98401.11057611345\n",
       "100902.05237643562\n",
       "101468.21022052351\n",
       "103145.43220361149\n",
       "105969.28401006677\n",
       "106743.14638055008\n",
       "107198.81880281962\n",
       "121168.57488553242"
      ]
     },
     "execution_count": 34,
     "metadata": {},
     "output_type": "execute_result"
    }
   ],
   "source": [
    "np.unique(line['Teff'])"
   ]
  },
  {
   "cell_type": "code",
   "execution_count": 35,
   "metadata": {},
   "outputs": [
    {
     "data": {
      "text/plain": [
       "array([30.8, 30.9, 31. , 31.1, 31.2, 31.3, 31.9, 32. , 32.1])"
      ]
     },
     "execution_count": 35,
     "metadata": {},
     "output_type": "execute_result"
    }
   ],
   "source": [
    "np.unique(np.round(np.log10(line['L']), 1))"
   ]
  },
  {
   "cell_type": "markdown",
   "metadata": {},
   "source": [
    "Generating the Theorist's HR Diagram for the isochrone. Notice the alignment of features."
   ]
  },
  {
   "cell_type": "code",
   "execution_count": 36,
   "metadata": {},
   "outputs": [
    {
     "data": {
      "text/plain": [
       "<matplotlib.legend.Legend at 0x7fde52894c88>"
      ]
     },
     "execution_count": 36,
     "metadata": {},
     "output_type": "execute_result"
    },
    {
     "data": {
      "image/png": "[encoded data removed]",
      "text/plain": [
       "<Figure size 432x288 with 1 Axes>"
      ]
     },
     "metadata": {
      "needs_background": "light"
     },
     "output_type": "display_data"
    }
   ],
   "source": [
    "import matplotlib.pyplot as plt\n",
    "plt.plot(np.log10(iso1.primaries['Teff']), np.log10(iso1.primaries[\"L\"]), \"r.\")\n",
    "plt.plot(np.log10(iso1.secondaries['Teff']), np.log10(iso1.secondaries[\"L\"]), \"r.\")\n",
    "plt.plot(np.log10(iso1.singles['Teff']), np.log10(iso1.singles[\"L\"]), \"r.\", label=\"BPASS isochrone\")\n",
    "plt.plot(np.log10(iso2.points['Teff']), np.log10(iso2.points[\"L\"]), \"b.\", label=\"MISTv1\")\n",
    "plt.xlabel(\"log(T in Kelvin)\")\n",
    "plt.ylabel(\"log(L in Watts)\")\n",
    "plt.title(\"HR Diagram of Isochrones at solar metallicity and 10 million years age\")\n",
    "plt.gca().invert_xaxis()\n",
    "plt.legend()\n",
    "# Rough pattern seems to fit"
   ]
  },
  {
   "cell_type": "markdown",
   "metadata": {},
   "source": [
    "Plot the mass-luminosity relationship of the ISOCHRONE"
   ]
  },
  {
   "cell_type": "code",
   "execution_count": 37,
   "metadata": {},
   "outputs": [
    {
     "data": {
      "text/plain": [
       "<matplotlib.legend.Legend at 0x7fde528c5208>"
      ]
     },
     "execution_count": 37,
     "metadata": {},
     "output_type": "execute_result"
    },
    {
     "data": {
      "image/png": "[encoded data removed]",
      "text/plain": [
       "<Figure size 432x288 with 1 Axes>"
      ]
     },
     "metadata": {
      "needs_background": "light"
     },
     "output_type": "display_data"
    }
   ],
   "source": [
    "from astropy import constants as cs\n",
    "import matplotlib.pyplot as plt\n",
    "plt.plot(np.log10(iso1.primaries['mass_current']), np.log10(iso1.primaries[\"L\"]/cs.L_sun), \"r.\")\n",
    "plt.plot(np.log10(iso1.secondaries['mass_current']), np.log10(iso1.secondaries[\"L\"]/cs.L_sun), \"r.\")\n",
    "plt.plot(np.log10(iso1.singles['mass_current']), np.log10(iso1.singles[\"L\"]/cs.L_sun), \"r.\", label=\"BPASS isochrone\")\n",
    "plt.plot(np.log10(iso2.points['mass_current']), np.log10(iso2.points[\"L\"]/cs.L_sun), \"b.\", label=\"MISTv1\")\n",
    "plt.xlabel(\"log(Current Mass in solar masses)\")\n",
    "plt.ylabel(\"log(L/L_solar)\")\n",
    "plt.title(\"Mass-logL of Isochrones at solar metallicity and 10 million years age\")\n",
    "plt.legend()\n",
    "# Rough pattern seems to fit. What's that line?"
   ]
  },
  {
   "cell_type": "markdown",
   "metadata": {},
   "source": [
    "Inspecting what masses are represented by the cluster"
   ]
  },
  {
   "cell_type": "code",
   "execution_count": 38,
   "metadata": {},
   "outputs": [
    {
     "data": {
      "text/html": [
       "&lt;Column name=&apos;mass_current&apos; dtype=&apos;float64&apos; length=97&gt;\n",
       "<table>\n",
       "<tr><td>0.37</td></tr>\n",
       "<tr><td>0.42</td></tr>\n",
       "<tr><td>0.45</td></tr>\n",
       "<tr><td>0.46267</td></tr>\n",
       "<tr><td>0.47248</td></tr>\n",
       "<tr><td>0.48</td></tr>\n",
       "<tr><td>0.5</td></tr>\n",
       "<tr><td>0.56</td></tr>\n",
       "<tr><td>0.6</td></tr>\n",
       "<tr><td>0.64</td></tr>\n",
       "<tr><td>0.7</td></tr>\n",
       "<tr><td>0.75</td></tr>\n",
       "<tr><td>...</td></tr>\n",
       "<tr><td>nan</td></tr>\n",
       "<tr><td>nan</td></tr>\n",
       "<tr><td>nan</td></tr>\n",
       "<tr><td>nan</td></tr>\n",
       "<tr><td>nan</td></tr>\n",
       "<tr><td>nan</td></tr>\n",
       "<tr><td>nan</td></tr>\n",
       "<tr><td>nan</td></tr>\n",
       "<tr><td>nan</td></tr>\n",
       "<tr><td>nan</td></tr>\n",
       "<tr><td>nan</td></tr>\n",
       "<tr><td>nan</td></tr>\n",
       "</table>"
      ],
      "text/plain": [
       "<Column name='mass_current' dtype='float64' length=97>\n",
       "   0.37\n",
       "   0.42\n",
       "   0.45\n",
       "0.46267\n",
       "0.47248\n",
       "   0.48\n",
       "    0.5\n",
       "   0.56\n",
       "    0.6\n",
       "   0.64\n",
       "    0.7\n",
       "   0.75\n",
       "    ...\n",
       "    nan\n",
       "    nan\n",
       "    nan\n",
       "    nan\n",
       "    nan\n",
       "    nan\n",
       "    nan\n",
       "    nan\n",
       "    nan\n",
       "    nan\n",
       "    nan\n",
       "    nan"
      ]
     },
     "execution_count": 38,
     "metadata": {},
     "output_type": "execute_result"
    }
   ],
   "source": [
    "np.unique((clus_1.companions['mass_current']))"
   ]
  },
  {
   "cell_type": "markdown",
   "metadata": {},
   "source": [
    "Taking a look at the Binary Cluster vs Default Settings cluster Observer's HR Diagram\n",
    "\n",
    "**Remember to use a distance modulus!** (dist to cluster  = 1000 pc)"
   ]
  },
  {
   "cell_type": "code",
   "execution_count": 39,
   "metadata": {},
   "outputs": [
    {
     "data": {
      "text/plain": [
       "<matplotlib.legend.Legend at 0x7fde3a20aac8>"
      ]
     },
     "execution_count": 39,
     "metadata": {},
     "output_type": "execute_result"
    },
    {
     "data": {
      "image/png": "[encoded data removed]",
      "text/plain": [
       "<Figure size 432x288 with 1 Axes>"
      ]
     },
     "metadata": {
      "needs_background": "light"
     },
     "output_type": "display_data"
    }
   ],
   "source": [
    "import matplotlib.pyplot as plt\n",
    "plt.plot(clus_1.star_systems['m_ubv_B']-clus_1.star_systems[\"m_ubv_V\"], clus_1.star_systems[\"m_ubv_V\"]-5*np.log10(1000/10), \"r.\",label=\"BPASS\")\n",
    "plt.plot(clus_2.star_systems['m_ubv_B']-clus_2.star_systems[\"m_ubv_V\"], clus_2.star_systems[\"m_ubv_V\"]-5*np.log10(1000/10), \"b+\", label=\"MISTv1\", alpha=0.1)\n",
    "plt.xlabel(\"B-V\")\n",
    "plt.ylabel(\"pseudo-M_V\")\n",
    "plt.title(\"Color magnitude Diagram of clusters at solar metallicity and 10 million years age\")\n",
    "plt.gca().invert_yaxis()\n",
    "plt.legend()"
   ]
  },
  {
   "cell_type": "markdown",
   "metadata": {},
   "source": [
    "Plotting the theorist HR Diagram of the clusters."
   ]
  },
  {
   "cell_type": "code",
   "execution_count": 40,
   "metadata": {},
   "outputs": [
    {
     "data": {
      "text/plain": [
       "<matplotlib.legend.Legend at 0x7fde41c9ab38>"
      ]
     },
     "execution_count": 40,
     "metadata": {},
     "output_type": "execute_result"
    },
    {
     "data": {
      "image/png": "[encoded data removed]",
      "text/plain": [
       "<Figure size 432x288 with 1 Axes>"
      ]
     },
     "metadata": {
      "needs_background": "light"
     },
     "output_type": "display_data"
    }
   ],
   "source": [
    "import matplotlib.pyplot as plt\n",
    "plt.plot(np.log10(clus_1.companions['Teff']), np.log10(clus_1.companions[\"L\"]), \"r.\",label=\"BPASS\", alpha=0.5)\n",
    "plt.plot(np.log10(clus_2.companions['Teff']), np.log10(clus_2.companions[\"L\"]), \"b+\", alpha=0.15)\n",
    "plt.plot(np.log10(clus_1.star_systems['Teff']), np.log10(clus_1.star_systems[\"L\"]), \"r.\", alpha=0.5)\n",
    "plt.plot(np.log10(clus_2.star_systems['Teff']), np.log10(clus_2.star_systems[\"L\"]), \"b+\", label=\"MISTv1\", alpha=0.15)\n",
    "plt.xlabel(\"log(T in kelvin)\")\n",
    "plt.ylabel(\"log(L in watts)\")\n",
    "plt.title(\"HR Diagram of clusters at solar metallicity and 10 million years age\")\n",
    "plt.gca().invert_xaxis()\n",
    "plt.legend()"
   ]
  },
  {
   "cell_type": "markdown",
   "metadata": {},
   "source": [
    "Looking at which stars are the white dwarves?"
   ]
  },
  {
   "cell_type": "code",
   "execution_count": 41,
   "metadata": {},
   "outputs": [
    {
     "data": {
      "text/plain": [
       "array([169])"
      ]
     },
     "execution_count": 41,
     "metadata": {},
     "output_type": "execute_result"
    }
   ],
   "source": [
    "import numpy as np\n",
    "np.where(clus_1.star_systems['phase']==101.0)[0]"
   ]
  },
  {
   "cell_type": "markdown",
   "metadata": {},
   "source": [
    "Black Holes?"
   ]
  },
  {
   "cell_type": "code",
   "execution_count": 42,
   "metadata": {},
   "outputs": [
    {
     "data": {
      "text/plain": [
       "array([], dtype=int64)"
      ]
     },
     "execution_count": 42,
     "metadata": {},
     "output_type": "execute_result"
    }
   ],
   "source": [
    "np.where(clus_1.star_systems['phase']==103.0)[0]"
   ]
  },
  {
   "cell_type": "markdown",
   "metadata": {},
   "source": [
    "Do we have any neutron stars?"
   ]
  },
  {
   "cell_type": "code",
   "execution_count": 43,
   "metadata": {},
   "outputs": [
    {
     "data": {
      "text/plain": [
       "array([], dtype=int64)"
      ]
     },
     "execution_count": 43,
     "metadata": {},
     "output_type": "execute_result"
    }
   ],
   "source": [
    "np.where(clus_1.star_systems['phase']==102.0)[0]"
   ]
  },
  {
   "cell_type": "markdown",
   "metadata": {},
   "source": [
    "Let's make sure that I am getting just about enough star mass for my cluster. (It was a bug before I used an adjustment factor.)"
   ]
  },
  {
   "cell_type": "code",
   "execution_count": 44,
   "metadata": {},
   "outputs": [
    {
     "data": {
      "text/plain": [
       "2542.7998683853075"
      ]
     },
     "execution_count": 44,
     "metadata": {},
     "output_type": "execute_result"
    }
   ],
   "source": [
    "clus_1.star_systems['systemMass'].sum()"
   ]
  },
  {
   "cell_type": "code",
   "execution_count": 45,
   "metadata": {},
   "outputs": [
    {
     "data": {
      "text/plain": [
       "1999.9840060887004"
      ]
     },
     "execution_count": 45,
     "metadata": {},
     "output_type": "execute_result"
    }
   ],
   "source": [
    "clus_2.star_systems['systemMass'].sum()"
   ]
  },
  {
   "cell_type": "code",
   "execution_count": 46,
   "metadata": {},
   "outputs": [
    {
     "data": {
      "text/plain": [
       "69"
      ]
     },
     "execution_count": 46,
     "metadata": {},
     "output_type": "execute_result"
    }
   ],
   "source": [
    "len(np.where(clus_1.star_systems['merged'])[0])"
   ]
  },
  {
   "cell_type": "markdown",
   "metadata": {},
   "source": [
    "What systems do all of these companions correspond to?"
   ]
  },
  {
   "cell_type": "code",
   "execution_count": 47,
   "metadata": {},
   "outputs": [
    {
     "data": {
      "text/html": [
       "<i>Table length=277</i>\n",
       "<table id=\"table140592563124600\" class=\"table-striped table-bordered table-condensed\">\n",
       "<thead><tr><th>system_idx</th></tr></thead>\n",
       "<thead><tr><th>int64</th></tr></thead>\n",
       "<tr><td>0</td></tr>\n",
       "<tr><td>1</td></tr>\n",
       "<tr><td>2</td></tr>\n",
       "<tr><td>3</td></tr>\n",
       "<tr><td>3</td></tr>\n",
       "<tr><td>4</td></tr>\n",
       "<tr><td>5</td></tr>\n",
       "<tr><td>6</td></tr>\n",
       "<tr><td>7</td></tr>\n",
       "<tr><td>8</td></tr>\n",
       "<tr><td>...</td></tr>\n",
       "<tr><td>254</td></tr>\n",
       "<tr><td>255</td></tr>\n",
       "<tr><td>256</td></tr>\n",
       "<tr><td>257</td></tr>\n",
       "<tr><td>258</td></tr>\n",
       "<tr><td>259</td></tr>\n",
       "<tr><td>260</td></tr>\n",
       "<tr><td>261</td></tr>\n",
       "<tr><td>262</td></tr>\n",
       "<tr><td>262</td></tr>\n",
       "</table>"
      ],
      "text/plain": [
       "<Table length=277>\n",
       "system_idx\n",
       "  int64   \n",
       "----------\n",
       "         0\n",
       "         1\n",
       "         2\n",
       "         3\n",
       "         3\n",
       "         4\n",
       "         5\n",
       "         6\n",
       "         7\n",
       "         8\n",
       "       ...\n",
       "       254\n",
       "       255\n",
       "       256\n",
       "       257\n",
       "       258\n",
       "       259\n",
       "       260\n",
       "       261\n",
       "       262\n",
       "       262"
      ]
     },
     "execution_count": 47,
     "metadata": {},
     "output_type": "execute_result"
    }
   ],
   "source": [
    "clus_1.companions[['system_idx']]"
   ]
  },
  {
   "cell_type": "markdown",
   "metadata": {},
   "source": [
    "Showing the current-mass and current-luminosity relationship of the clusters."
   ]
  },
  {
   "cell_type": "code",
   "execution_count": 48,
   "metadata": {},
   "outputs": [
    {
     "data": {
      "text/plain": [
       "<matplotlib.legend.Legend at 0x7fde186cacf8>"
      ]
     },
     "execution_count": 48,
     "metadata": {},
     "output_type": "execute_result"
    },
    {
     "data": {
      "image/png": "[encoded data removed]",
      "text/plain": [
       "<Figure size 432x288 with 1 Axes>"
      ]
     },
     "metadata": {
      "needs_background": "light"
     },
     "output_type": "display_data"
    }
   ],
   "source": [
    "# Plot the mass-luminosity relationship\n",
    "from astropy import constants as cs\n",
    "from astropy import units as u\n",
    "import matplotlib.pyplot as plt\n",
    "plt.plot(clus_1.star_systems['mass_current'], np.log10(clus_1.star_systems[\"L\"]), \"r.\", label=\"Binary_Cluster made from BPASS\", alpha =0.2)\n",
    "plt.plot(clus_2.star_systems['mass_current'], np.log10(clus_2.star_systems[\"L\"]), \"r.\", alpha =0.2)\n",
    "plt.plot(clus_1.companions['mass_current'], np.log10(clus_1.companions[\"L\"]), \"b+\", label=\"Cluster made from MISTv.1\", alpha =0.2)\n",
    "plt.plot(clus_2.companions['mass_current'], np.log10(clus_2.companions[\"L\"]), \"b+\", alpha =0.2)\n",
    "plt.xlabel(\"Current Mass in solar masses\")\n",
    "plt.ylabel(\"log(L/L_solar)\")\n",
    "plt.title(\"log-Mass-logL of Cluster at Z_solar and 10**7.0 years age\")\n",
    "plt.legend()"
   ]
  },
  {
   "cell_type": "markdown",
   "metadata": {},
   "source": [
    "What phases exist in the cluster?"
   ]
  },
  {
   "cell_type": "code",
   "execution_count": 49,
   "metadata": {},
   "outputs": [
    {
     "data": {
      "text/html": [
       "&lt;Column name=&apos;phase&apos; dtype=&apos;float64&apos; length=2&gt;\n",
       "<table>\n",
       "<tr><td>5.0</td></tr>\n",
       "<tr><td>101.0</td></tr>\n",
       "</table>"
      ],
      "text/plain": [
       "<Column name='phase' dtype='float64' length=2>\n",
       "  5.0\n",
       "101.0"
      ]
     },
     "execution_count": 49,
     "metadata": {},
     "output_type": "execute_result"
    }
   ],
   "source": [
    "np.unique(clus_1.star_systems['phase'])"
   ]
  },
  {
   "cell_type": "code",
   "execution_count": 50,
   "metadata": {},
   "outputs": [
    {
     "data": {
      "text/html": [
       "&lt;Column name=&apos;phase&apos; dtype=&apos;int64&apos; length=3&gt;\n",
       "<table>\n",
       "<tr><td>-99</td></tr>\n",
       "<tr><td>5</td></tr>\n",
       "<tr><td>101</td></tr>\n",
       "</table>"
      ],
      "text/plain": [
       "<Column name='phase' dtype='int64' length=3>\n",
       "-99\n",
       "  5\n",
       "101"
      ]
     },
     "execution_count": 50,
     "metadata": {},
     "output_type": "execute_result"
    }
   ],
   "source": [
    "np.unique(clus_1.companions['phase'])"
   ]
  }
 ],
 "metadata": {
  "kernelspec": {
   "display_name": "astroconda",
   "language": "python",
   "name": "astroconda"
  },
  "language_info": {
   "codemirror_mode": {
    "name": "ipython",
    "version": 3
   },
   "file_extension": ".py",
   "mimetype": "text/x-python",
   "name": "python",
   "nbconvert_exporter": "python",
   "pygments_lexer": "ipython3",
   "version": "3.7.3"
  }
 },
 "nbformat": 4,
 "nbformat_minor": 2
}
