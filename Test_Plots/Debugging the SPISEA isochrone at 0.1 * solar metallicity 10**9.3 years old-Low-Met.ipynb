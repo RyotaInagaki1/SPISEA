{
 "cells": [
  {
   "cell_type": "markdown",
   "metadata": {},
   "source": [
    "## Testing and Debugging the BPASS isochrone at 10^9.3 years age. (Non Solar Metallicity)\n",
    "In this BPASS isochrone and cluster plot, I go over the BPASS isochrone for 10^9.3 years age, a tenth of solar metallicity, AKs=0.0, and distance of 1000 parsecs from Earth. From the isochrone and cluster, we discuss several plots such as the log_g frequency distribution of the isochrone, the color magnitude diagram (B-V vs M_V), and the current-mass luminosity relationship of the cluster."
   ]
  },
  {
   "cell_type": "markdown",
   "metadata": {},
   "source": [
    "For a sanity check, we can see that the primaries, secondaries, and single stars have phasees of 5 or of 101. This is since we haven't added neutron stars or black holes yet. Stars with phase of -99 exist, and those are the secondary stars that have already merged."
   ]
  },
  {
   "cell_type": "markdown",
   "metadata": {},
   "source": [
    "**I will be using the Kennicutt IMF and a slightly different age. I also use the Parsec evolution model for the sake of comparison with the BPASS isochrone and to distinguish this notebook from the others.**"
   ]
  },
  {
   "cell_type": "code",
   "execution_count": null,
   "metadata": {},
   "outputs": [
    {
     "name": "stderr",
     "output_type": "stream",
     "text": [
      "/opt/anaconda3/envs/astroconda/lib/python3.7/site-packages/pysynphot/locations.py:346: UserWarning: Extinction files not found in /g/lu/models/cdbs/extinction\n",
      "  warnings.warn('Extinction files not found in %s' % (extdir, ))\n",
      "/opt/anaconda3/envs/astroconda/lib/python3.7/site-packages/pysynphot/refs.py:125: UserWarning: No thermal tables found, no thermal calculations can be performed. No files found for /g/lu/models/cdbs/mtab/*_tmt.fits\n",
      "  'no thermal calculations can be performed. ' + str(e))\n",
      "/opt/anaconda3/envs/astroconda/lib/python3.7/site-packages/astropy/units/quantity.py:477: RuntimeWarning: invalid value encountered in true_divide\n",
      "  result = super().__array_ufunc__(function, method, *arrays, **kwargs)\n",
      "/u/ryotainagaki/Desktop/PyPopStar/spisea/evolution.py:1771: RuntimeWarning: overflow encountered in power\n",
      "  (1 / cs.au) * un.m)\n",
      "/opt/anaconda3/envs/astroconda/lib/python3.7/site-packages/astropy/table/column.py:1020: RuntimeWarning: invalid value encountered in greater\n",
      "  result = getattr(super(), op)(other)\n",
      "/opt/anaconda3/envs/astroconda/lib/python3.7/site-packages/astropy/table/column.py:1020: RuntimeWarning: invalid value encountered in less_equal\n",
      "  result = getattr(super(), op)(other)\n",
      "/opt/anaconda3/envs/astroconda/lib/python3.7/site-packages/astropy/units/quantity.py:477: RuntimeWarning: divide by zero encountered in true_divide\n",
      "  result = super().__array_ufunc__(function, method, *arrays, **kwargs)\n"
     ]
    },
    {
     "name": "stdout",
     "output_type": "stream",
     "text": [
      "Changing to logg=5.00 for T= 30069 logg=7.94\n",
      "Changing to logg=5.00 for T= 24315 logg=5.89\n",
      "Changing to logg=5.00 for T= 22265 logg=5.67\n",
      "Changing to logg=5.00 for T= 20350 logg=5.50\n",
      "Changing to logg=5.00 for T= 18839 logg=5.32\n",
      "Changing to logg=5.00 for T= 18814 logg=5.31\n",
      "Changing to logg=5.00 for T= 16727 logg=5.17\n",
      "Changing to logg=5.00 for T= 21102 logg=5.55\n",
      "Changing to logg=5.00 for T= 18856 logg=5.34\n",
      "Changing to logg=5.00 for T= 23483 logg=5.75\n",
      "Changing to logg=5.00 for T= 22703 logg=5.55\n",
      "Changing to logg=5.00 for T= 20581 logg=5.50\n",
      "Changing to logg=5.00 for T= 17282 logg=5.28\n",
      "Changing to logg=5.00 for T= 20029 logg=5.46\n",
      "Changing to logg=5.00 for T= 24947 logg=5.84\n",
      "Changing to logg=5.00 for T= 23502 logg=5.75\n",
      "Changing to logg=5.00 for T= 16162 logg=5.12\n",
      "Changing to logg=5.00 for T= 24334 logg=5.91\n",
      "Changing to logg=5.00 for T= 20568 logg=5.50\n",
      "Changing to T=  1200 for T=   808 logg=4.44\n",
      "Changing to T=  1200 for T=   808 logg=4.44\n",
      "Changing to logg=5.00 for T=  1616 logg=4.44\n",
      "Changing to logg=5.00 for T=  1616 logg=4.44\n",
      "Changing to logg=5.00 for T=  1616 logg=4.44\n",
      "Changing to logg=5.00 for T= 18520 logg=5.61\n",
      "Changing to T=  1200 for T=   808 logg=4.44\n",
      "Changing to T=  1200 for T=   923 logg=4.44\n",
      "Changing to T=  1200 for T=   808 logg=4.44\n",
      "Changing to logg=5.00 for T=  1500 logg=4.44\n",
      "Changing to T=  1200 for T=   750 logg=4.44\n",
      "Changing to logg=5.00 for T=  1962 logg=4.44\n",
      "Changing to T=  1200 for T=   750 logg=4.44\n",
      "Changing to logg=5.00 for T=  1904 logg=4.44\n",
      "Changing to logg=5.00 for T=  1500 logg=4.44\n",
      "Changing to T=  1200 for T=   750 logg=4.44\n",
      "Changing to logg=5.00 for T= 20816 logg=5.59\n",
      "Changing to T=  1200 for T=   923 logg=4.44\n",
      "Changing to T=  1200 for T=   750 logg=4.44\n",
      "Changing to logg=5.00 for T=  1847 logg=4.44\n",
      "Changing to T=  1200 for T=   923 logg=4.44\n",
      "Changing to logg=5.00 for T=  1616 logg=4.44\n",
      "Changing to logg=5.00 for T=  1616 logg=4.44\n",
      "Changing to logg=5.00 for T=  1616 logg=4.44\n",
      "Changing to logg=5.00 for T=  1500 logg=4.44\n",
      "Changing to T=  1200 for T=   923 logg=4.44\n",
      "Changing to logg=5.00 for T=  1847 logg=4.44\n",
      "Changing to logg=5.00 for T=  1962 logg=4.44\n",
      "Changing to T=  1200 for T=   923 logg=4.44\n",
      "Changing to logg=5.00 for T=  1962 logg=4.44\n",
      "Changing to T=  1200 for T=   750 logg=4.44\n",
      "Changing to T=  1200 for T=   808 logg=4.44\n",
      "Changing to T=  1200 for T=   808 logg=4.44\n",
      "Changing to logg=5.00 for T= 25184 logg=5.84\n",
      "Changing to T=  1200 for T=   808 logg=4.44\n",
      "Changing to logg=5.00 for T=  1616 logg=4.44\n",
      "Changing to T=  1200 for T=   808 logg=4.44\n",
      "Changing to logg=5.00 for T=  1847 logg=4.44\n",
      "Changing to logg=5.00 for T=  1616 logg=4.44\n",
      "Changing to logg=5.00 for T=  1962 logg=4.44\n",
      "Changing to logg=5.00 for T=  1616 logg=4.44\n",
      "Changing to T=  1200 for T=   808 logg=4.44\n",
      "Changing to T=  1200 for T=   923 logg=4.44\n",
      "Changing to T=  1200 for T=   923 logg=4.44\n",
      "Changing to T=  1200 for T=   808 logg=4.44\n",
      "Changing to logg=5.00 for T=  1616 logg=4.44\n",
      "Changing to logg=5.00 for T=  1500 logg=4.44\n",
      "Changing to T=  1200 for T=   750 logg=4.44\n",
      "Changing to logg=5.00 for T= 25199 logg=5.81\n",
      "Changing to logg=5.00 for T=  1500 logg=4.44\n",
      "Changing to logg=5.00 for T=  1962 logg=4.44\n",
      "Changing to logg=5.00 for T=  1500 logg=4.44\n",
      "Changing to logg=5.00 for T=  1847 logg=4.44\n",
      "Changing to T=  1200 for T=   750 logg=4.44\n",
      "Changing to T=  1200 for T=   750 logg=4.44\n",
      "Changing to logg=5.00 for T=  1616 logg=4.44\n",
      "Changing to logg=5.00 for T= 12593 logg=6.38\n",
      "Changing to logg=5.00 for T=  1847 logg=4.44\n",
      "Changing to T=  1200 for T=   923 logg=4.44\n",
      "Changing to logg=5.00 for T=  1500 logg=4.44\n",
      "Changing to logg=5.00 for T= 26135 logg=5.99\n",
      "Changing to T=  1200 for T=   750 logg=4.44\n",
      "Changing to T=  1200 for T=   750 logg=4.44\n",
      "Changing to logg=5.00 for T=  1616 logg=4.44\n",
      "Changing to T=  1200 for T=   750 logg=4.44\n",
      "Changing to T=  1200 for T=   808 logg=4.44\n",
      "Changing to logg=5.00 for T=  1500 logg=4.44\n",
      "Changing to logg=5.00 for T= 24441 logg=5.90\n",
      "Changing to logg=5.00 for T=  1962 logg=4.44\n",
      "Changing to logg=5.00 for T=  9329 logg=6.72\n",
      "Changing to logg=5.00 for T=  1500 logg=4.44\n",
      "Changing to logg=5.00 for T=  1500 logg=4.44\n",
      "Changing to logg=5.00 for T=  1962 logg=4.44\n",
      "Changing to logg=5.00 for T=  1962 logg=4.44\n",
      "Changing to logg=5.00 for T=  1904 logg=4.44\n",
      "Changing to logg=5.00 for T=  1500 logg=4.44\n",
      "Changing to T=  1200 for T=   923 logg=4.44\n",
      "Changing to logg=5.00 for T=  1847 logg=4.44\n",
      "Changing to logg=5.00 for T=  1904 logg=4.44\n",
      "Changing to logg=5.00 for T=  6641 logg=6.86\n",
      "Changing to logg=5.00 for T=  1904 logg=4.44\n",
      "Changing to T=  1200 for T=   750 logg=4.44\n",
      "Changing to logg=5.00 for T=  1500 logg=4.44\n",
      "Changing to logg=5.00 for T=  1616 logg=4.44\n",
      "Changing to logg=5.00 for T=  1904 logg=4.44\n",
      "Changing to T=  1200 for T=   923 logg=4.44\n",
      "Changing to logg=5.00 for T= 24313 logg=5.89\n",
      "Changing to logg=5.00 for T=  1962 logg=4.44\n",
      "Changing to logg=5.00 for T=  1500 logg=4.44\n",
      "Changing to T=  1200 for T=   923 logg=4.44\n",
      "Changing to logg=5.00 for T=  1962 logg=4.44\n",
      "Changing to logg=5.00 for T=  1847 logg=4.44\n",
      "Changing to logg=5.00 for T=  1904 logg=4.44\n",
      "Changing to T=  1200 for T=   923 logg=4.44\n",
      "Changing to logg=5.00 for T=  1847 logg=4.44\n",
      "Changing to T=  1200 for T=   923 logg=4.44\n",
      "Changing to T=  1200 for T=   750 logg=4.44\n",
      "Changing to logg=5.00 for T=  1962 logg=4.44\n",
      "Changing to logg=5.00 for T=  1847 logg=4.44\n",
      "Changing to logg=5.00 for T=  1904 logg=4.44\n",
      "Changing to T=  1200 for T=   750 logg=4.44\n",
      "Changing to logg=5.00 for T=  1500 logg=4.44\n",
      "Changing to T=  1200 for T=   750 logg=4.44\n",
      "Changing to logg=5.00 for T=  1616 logg=4.44\n",
      "Changing to logg=5.00 for T=  1904 logg=4.44\n",
      "Changing to T=  1200 for T=   750 logg=4.44\n",
      "Changing to T=  1200 for T=   750 logg=4.44\n",
      "Changing to T=  1200 for T=   808 logg=4.44\n",
      "Changing to logg=5.00 for T=  1616 logg=4.44\n",
      "Changing to logg=5.00 for T=  1904 logg=4.44\n",
      "Changing to logg=5.00 for T=  1847 logg=4.44\n",
      "Changing to logg=5.00 for T=  1847 logg=4.44\n",
      "Changing to logg=5.00 for T= 18476 logg=6.78\n",
      "Changing to logg=5.00 for T=  1847 logg=4.44\n",
      "Changing to logg=5.00 for T=  1500 logg=4.44\n",
      "Changing to T=  1200 for T=   808 logg=4.44\n",
      "Changing to logg=5.00 for T=  1904 logg=4.44\n",
      "Changing to logg=5.00 for T=  1616 logg=4.44\n",
      "Changing to logg=5.00 for T=  1904 logg=4.44\n",
      "Changing to logg=5.00 for T=  1847 logg=4.44\n",
      "Changing to T=  1200 for T=   808 logg=4.44\n",
      "Changing to T=  1200 for T=   923 logg=4.44\n",
      "Changing to logg=5.00 for T=  1847 logg=4.44\n",
      "Changing to logg=5.00 for T=  1847 logg=4.44\n",
      "Changing to T=  1200 for T=   808 logg=4.44\n",
      "Changing to logg=5.00 for T=  1962 logg=4.44\n",
      "Changing to logg=5.00 for T=  1500 logg=4.44\n",
      "Changing to logg=5.00 for T=  1500 logg=4.44\n",
      "Changing to logg=5.00 for T=  1500 logg=4.44\n",
      "Changing to T=  1200 for T=   808 logg=4.44\n",
      "Changing to logg=5.00 for T=  1904 logg=4.44\n",
      "Changing to logg=5.00 for T=  1962 logg=4.44\n",
      "Changing to T=  1200 for T=   808 logg=4.44\n",
      "Changing to logg=5.00 for T=  1847 logg=4.44\n",
      "Changing to T=  1200 for T=   750 logg=4.44\n",
      "Changing to T=  1200 for T=   923 logg=4.44\n",
      "Changing to logg=5.00 for T=  1904 logg=4.44\n",
      "Changing to T=  1200 for T=   808 logg=4.44\n",
      "Changing to logg=5.00 for T=  1616 logg=4.44\n",
      "Changing to logg=5.00 for T= 11329 logg=6.45\n",
      "Changing to logg=5.00 for T=  1500 logg=4.44\n",
      "Changing to logg=5.00 for T=  1904 logg=4.44\n",
      "Changing to T=  1200 for T=   750 logg=4.44\n",
      "Changing to logg=5.00 for T=  9498 logg=6.69\n",
      "Changing to logg=5.00 for T=  1962 logg=4.44\n",
      "Changing to T=  1200 for T=   750 logg=4.44\n",
      "Changing to logg=5.00 for T=  1904 logg=4.44\n",
      "Changing to logg=5.00 for T=  1616 logg=4.44\n",
      "Changing to logg=5.00 for T=  1847 logg=4.44\n",
      "Changing to T=  1200 for T=   923 logg=4.44\n",
      "Changing to logg=5.00 for T=  1500 logg=4.44\n",
      "Changing to logg=5.00 for T=  1616 logg=4.44\n",
      "Changing to T=  1200 for T=   808 logg=4.44\n",
      "Changing to logg=5.00 for T=  1847 logg=4.44\n",
      "Changing to logg=5.00 for T=  1962 logg=4.44\n",
      "Changing to logg=5.00 for T=  1616 logg=4.44\n",
      "Changing to logg=5.00 for T=  1904 logg=4.44\n",
      "Changing to T=  1200 for T=   808 logg=4.44\n",
      "Changing to logg=5.00 for T=  1904 logg=4.44\n",
      "Changing to logg=5.00 for T=  1500 logg=4.44\n",
      "Changing to T=  1200 for T=   808 logg=4.44\n",
      "Changing to logg=5.00 for T=  1616 logg=4.44\n",
      "Changing to logg=5.00 for T=  1962 logg=4.44\n",
      "Changing to logg=5.00 for T=  1904 logg=4.44\n",
      "Changing to T=  1200 for T=   923 logg=4.44\n",
      "Making photometry for isochrone: log(t) = 9.30  AKs = 0.00  dist = 1000\n",
      "     Starting at:  2020-12-21 00:29:19.576721   Usually takes ~5 minutes\n",
      "Starting filter: ubv,U   Elapsed time: 0.00 seconds\n",
      "Starting synthetic photometry\n",
      "Singles\n",
      "M =   1.660 Msun  T =  6033 K  m_ubv_U = 12.85\n"
     ]
    },
    {
     "name": "stdout",
     "output_type": "stream",
     "text": [
      "M =   3.300 Msun  T =  8113 K  m_ubv_U = 22.94\n",
      "Primaries\n",
      "M =   2.300 Msun  T =  8212 K  m_ubv_U = 22.53\n",
      "M =   0.251 Msun  T =   nan K  m_ubv_U =  nan\n",
      "M =   1.259 Msun  T =   nan K  m_ubv_U =  nan\n",
      "M =   0.794 Msun  T =   nan K  m_ubv_U =  nan\n",
      "M =   1.400 Msun  T =   nan K  m_ubv_U =  nan\n",
      "M =   3.000 Msun  T =  7674 K  m_ubv_U = 23.06\n",
      "M =   1.500 Msun  T =  6363 K  m_ubv_U = 13.19\n",
      "M =   3.000 Msun  T =  7674 K  m_ubv_U = 23.06\n",
      "M =   3.700 Msun  T =  8766 K  m_ubv_U = 22.82\n",
      "M =   3.700 Msun  T =  8727 K  m_ubv_U = 22.82\n",
      "M =   0.631 Msun  T =   nan K  m_ubv_U =  nan\n",
      "M =   1.700 Msun  T =  4918 K  m_ubv_U = 13.33\n",
      "M =   3.000 Msun  T =  7674 K  m_ubv_U = 23.06\n",
      "M =   1.400 Msun  T =  6410 K  m_ubv_U = 13.56\n",
      "M =   4.500 Msun  T =  8592 K  m_ubv_U = 23.07\n",
      "M =   3.000 Msun  T =  7660 K  m_ubv_U = 23.06\n",
      "M =   3.200 Msun  T = 11299 K  m_ubv_U = 22.91\n",
      "M =   1.700 Msun  T =  4918 K  m_ubv_U = 13.33\n",
      "M =   0.794 Msun  T =   nan K  m_ubv_U =  nan\n",
      "M =   2.700 Msun  T =  7896 K  m_ubv_U = 22.80\n",
      "M =   7.000 Msun  T = 13948 K  m_ubv_U = 23.05\n",
      "M =   1.100 Msun  T =  5926 K  m_ubv_U = 15.19\n",
      "M =   3.700 Msun  T =  8464 K  m_ubv_U = 23.09\n",
      "M =   0.501 Msun  T =   nan K  m_ubv_U =  nan\n",
      "M =   1.200 Msun  T =  6376 K  m_ubv_U = 13.05\n",
      "M =   1.700 Msun  T =  4918 K  m_ubv_U = 13.33\n",
      "M =   2.700 Msun  T =  7896 K  m_ubv_U = 22.80\n",
      "M =   1.900 Msun  T =  7820 K  m_ubv_U = 22.82\n",
      "M =   3.700 Msun  T =  8721 K  m_ubv_U = 22.82\n",
      "M =   0.631 Msun  T =   nan K  m_ubv_U =  nan\n",
      "M =   4.500 Msun  T =  8275 K  m_ubv_U = 23.16\n",
      "M =   1.100 Msun  T =  5931 K  m_ubv_U = 15.16\n",
      "M =   3.162 Msun  T =  2739 K  m_ubv_U =  nan\n",
      "M =   1.600 Msun  T =  6178 K  m_ubv_U = 12.96\n",
      "M =   3.700 Msun  T =  8726 K  m_ubv_U = 22.82\n",
      "M =   0.631 Msun  T =   nan K  m_ubv_U =  nan\n",
      "M =   1.400 Msun  T =   nan K  m_ubv_U =  nan\n",
      "M =   5.000 Msun  T =  7979 K  m_ubv_U = 23.38\n",
      "M =   3.700 Msun  T =  8727 K  m_ubv_U = 22.82\n",
      "M =   5.500 Msun  T =  8569 K  m_ubv_U = 23.11\n",
      "M =   4.500 Msun  T =  7949 K  m_ubv_U = 23.30\n",
      "M =   2.100 Msun  T =  7499 K  m_ubv_U = 23.11\n",
      "M =   1.400 Msun  T =   nan K  m_ubv_U =  nan\n",
      "Secondaries\n",
      "M =   2.070 Msun  T =  6650 K  m_ubv_U = 11.43\n",
      "M =   1.700 Msun  T =  5223 K  m_ubv_U = 13.57\n",
      "M =   2.700 Msun  T =  7942 K  m_ubv_U = 22.79\n",
      "M =   2.100 Msun  T =  9610 K  m_ubv_U = 21.90\n",
      "M =   3.200 Msun  T =  7774 K  m_ubv_U = 23.03\n",
      "M =   0.300 Msun  T =  3548 K  m_ubv_U = 23.40\n",
      "M =   1.050 Msun  T =  5826 K  m_ubv_U = 15.53\n",
      "M =   2.700 Msun  T =  8181 K  m_ubv_U = 9.98\n",
      "M =   1.110 Msun  T =  5875 K  m_ubv_U = 15.34\n",
      "M =   2.960 Msun  T = 11247 K  m_ubv_U = 9.81\n",
      "M =   3.500 Msun  T =  8248 K  m_ubv_U = 22.91\n",
      "M =   0.340 Msun  T =  1962 K  m_ubv_U = 32.83\n",
      "M =   2.100 Msun  T =  9213 K  m_ubv_U = 11.44\n",
      "M =   0.840 Msun  T =  4847 K  m_ubv_U = 17.71\n",
      "M =   0.450 Msun  T =  3703 K  m_ubv_U = 22.26\n",
      "M =   0.900 Msun  T =  5179 K  m_ubv_U = 17.18\n",
      "M =   1.600 Msun  T =   nan K  m_ubv_U =  nan\n",
      "M =   0.850 Msun  T =  4905 K  m_ubv_U = 17.56\n",
      "M =   3.200 Msun  T =  7985 K  m_ubv_U = 22.97\n",
      "M =   2.160 Msun  T =  8666 K  m_ubv_U = 11.18\n",
      "M =   1.400 Msun  T =  6694 K  m_ubv_U = 13.78\n",
      "M =   0.770 Msun  T =  4443 K  m_ubv_U = 18.87\n",
      "M =   0.370 Msun  T =   nan K  m_ubv_U =  nan\n",
      "M =   6.500 Msun  T =  8644 K  m_ubv_U = 23.19\n",
      "M =   0.360 Msun  T =   nan K  m_ubv_U =  nan\n",
      "M =   1.530 Msun  T =  6523 K  m_ubv_U = 13.02\n",
      "M =   2.430 Msun  T =  8734 K  m_ubv_U = 10.06\n",
      "M =   0.380 Msun  T =   nan K  m_ubv_U =  nan\n",
      "M =   1.110 Msun  T =  5918 K  m_ubv_U = 15.31\n",
      "M =   4.500 Msun  T =  7808 K  m_ubv_U = 23.33\n",
      "M =   2.700 Msun  T =  9001 K  m_ubv_U = 9.56\n",
      "M =   0.110 Msun  T =  2876 K  m_ubv_U = 28.72\n",
      "M =   5.000 Msun  T =  8865 K  m_ubv_U = 23.03\n",
      "M =   1.120 Msun  T =  6061 K  m_ubv_U = 14.97\n",
      "M =   2.960 Msun  T = 11011 K  m_ubv_U = 9.80\n",
      "M =   1.700 Msun  T =  5540 K  m_ubv_U = 12.99\n",
      "M =   1.700 Msun  T =  4111 K  m_ubv_U = 14.17\n",
      "M =   3.500 Msun  T = 10599 K  m_ubv_U = 8.43\n",
      "M =   1.480 Msun  T =  7013 K  m_ubv_U = 13.39\n",
      "M =   1.650 Msun  T =  6302 K  m_ubv_U = 12.71\n",
      "M =   1.800 Msun  T =  6739 K  m_ubv_U = 11.72\n",
      "M =   0.840 Msun  T =   nan K  m_ubv_U =  nan\n",
      "M =   1.500 Msun  T =  6379 K  m_ubv_U = 13.21\n",
      "Starting filter: ubv,V   Elapsed time: 17.58 seconds\n",
      "Starting synthetic photometry\n",
      "Singles\n",
      "M =   1.660 Msun  T =  6033 K  m_ubv_V = 12.20\n",
      "M =   3.300 Msun  T =  8113 K  m_ubv_V = 23.24\n",
      "Primaries\n",
      "M =   2.300 Msun  T =  8212 K  m_ubv_V = 22.82\n",
      "M =   0.251 Msun  T =   nan K  m_ubv_V =  nan\n",
      "M =   1.259 Msun  T =   nan K  m_ubv_V =  nan\n",
      "M =   0.794 Msun  T =   nan K  m_ubv_V =  nan\n",
      "M =   1.400 Msun  T =   nan K  m_ubv_V =  nan\n",
      "M =   3.000 Msun  T =  7674 K  m_ubv_V = 23.30\n",
      "M =   1.500 Msun  T =  6363 K  m_ubv_V = 12.70\n",
      "M =   3.000 Msun  T =  7674 K  m_ubv_V = 23.30\n",
      "M =   3.700 Msun  T =  8766 K  m_ubv_V = 23.17\n",
      "M =   3.700 Msun  T =  8727 K  m_ubv_V = 23.17\n",
      "M =   0.631 Msun  T =   nan K  m_ubv_V =  nan\n",
      "M =   1.700 Msun  T =  4918 K  m_ubv_V = 11.68\n",
      "M =   3.000 Msun  T =  7674 K  m_ubv_V = 23.30\n",
      "M =   1.400 Msun  T =  6410 K  m_ubv_V = 13.09\n",
      "M =   4.500 Msun  T =  8592 K  m_ubv_V = 23.42\n",
      "M =   3.000 Msun  T =  7660 K  m_ubv_V = 23.31\n",
      "M =   3.200 Msun  T = 11299 K  m_ubv_V = 23.38\n",
      "M =   1.700 Msun  T =  4918 K  m_ubv_V = 11.68\n",
      "M =   0.794 Msun  T =   nan K  m_ubv_V =  nan\n",
      "M =   2.700 Msun  T =  7896 K  m_ubv_V = 23.07\n",
      "M =   7.000 Msun  T = 13948 K  m_ubv_V = 23.69\n",
      "M =   1.100 Msun  T =  5926 K  m_ubv_V = 14.50\n",
      "M =   3.700 Msun  T =  8464 K  m_ubv_V = 23.43\n",
      "M =   0.501 Msun  T =   nan K  m_ubv_V =  nan\n",
      "M =   1.200 Msun  T =  6376 K  m_ubv_V = 12.55\n",
      "M =   1.700 Msun  T =  4918 K  m_ubv_V = 11.68\n",
      "M =   2.700 Msun  T =  7896 K  m_ubv_V = 23.07\n",
      "M =   1.900 Msun  T =  7820 K  m_ubv_V = 23.08\n",
      "M =   3.700 Msun  T =  8721 K  m_ubv_V = 23.17\n",
      "M =   0.631 Msun  T =   nan K  m_ubv_V =  nan\n",
      "M =   4.500 Msun  T =  8275 K  m_ubv_V = 23.49\n",
      "M =   1.100 Msun  T =  5931 K  m_ubv_V = 14.47\n",
      "M =   3.162 Msun  T =  2739 K  m_ubv_V =  nan\n",
      "M =   1.600 Msun  T =  6178 K  m_ubv_V = 12.38\n",
      "M =   3.700 Msun  T =  8726 K  m_ubv_V = 23.17\n",
      "M =   0.631 Msun  T =   nan K  m_ubv_V =  nan\n",
      "M =   1.400 Msun  T =   nan K  m_ubv_V =  nan\n",
      "M =   5.000 Msun  T =  7979 K  m_ubv_V = 23.68\n",
      "M =   3.700 Msun  T =  8727 K  m_ubv_V = 23.17\n",
      "M =   5.500 Msun  T =  8569 K  m_ubv_V = 23.46\n",
      "M =   4.500 Msun  T =  7949 K  m_ubv_V = 23.59\n",
      "M =   2.100 Msun  T =  7499 K  m_ubv_V = 23.33\n",
      "M =   1.400 Msun  T =   nan K  m_ubv_V =  nan\n",
      "Secondaries\n",
      "M =   2.070 Msun  T =  6650 K  m_ubv_V = 10.97\n",
      "M =   1.700 Msun  T =  5223 K  m_ubv_V = 12.31\n",
      "M =   2.700 Msun  T =  7942 K  m_ubv_V = 23.06\n",
      "M =   2.100 Msun  T =  9610 K  m_ubv_V = 22.22\n",
      "M =   3.200 Msun  T =  7774 K  m_ubv_V = 23.29\n",
      "M =   0.300 Msun  T =  3548 K  m_ubv_V = 21.00\n",
      "M =   1.050 Msun  T =  5826 K  m_ubv_V = 14.78\n",
      "M =   2.700 Msun  T =  8181 K  m_ubv_V = 9.73\n",
      "M =   1.110 Msun  T =  5875 K  m_ubv_V = 14.62\n",
      "M =   2.960 Msun  T = 11247 K  m_ubv_V = 10.11\n",
      "M =   3.500 Msun  T =  8248 K  m_ubv_V = 23.22\n",
      "M =   0.340 Msun  T =  1962 K  m_ubv_V = 27.93\n",
      "M =   2.100 Msun  T =  9213 K  m_ubv_V = 11.37\n",
      "M =   0.840 Msun  T =  4847 K  m_ubv_V = 16.05\n",
      "M =   0.450 Msun  T =  3703 K  m_ubv_V = 19.87\n",
      "M =   0.900 Msun  T =  5179 K  m_ubv_V = 15.89\n",
      "M =   1.600 Msun  T =   nan K  m_ubv_V =  nan\n",
      "M =   0.850 Msun  T =  4905 K  m_ubv_V = 15.96\n",
      "M =   3.200 Msun  T =  7985 K  m_ubv_V = 23.26\n",
      "M =   2.160 Msun  T =  8666 K  m_ubv_V = 11.01\n",
      "M =   1.400 Msun  T =  6694 K  m_ubv_V = 13.41\n",
      "M =   0.770 Msun  T =  4443 K  m_ubv_V = 16.77\n",
      "M =   0.370 Msun  T =   nan K  m_ubv_V =  nan\n",
      "M =   6.500 Msun  T =  8644 K  m_ubv_V = 23.55\n",
      "M =   0.360 Msun  T =   nan K  m_ubv_V =  nan\n",
      "M =   1.530 Msun  T =  6523 K  m_ubv_V = 12.58\n",
      "M =   2.430 Msun  T =  8734 K  m_ubv_V = 9.92\n",
      "M =   0.380 Msun  T =   nan K  m_ubv_V =  nan\n",
      "M =   1.110 Msun  T =  5918 K  m_ubv_V = 14.61\n",
      "M =   4.500 Msun  T =  7808 K  m_ubv_V = 23.60\n",
      "M =   2.700 Msun  T =  9001 K  m_ubv_V = 9.49\n",
      "M =   0.110 Msun  T =  2876 K  m_ubv_V = 25.86\n",
      "M =   5.000 Msun  T =  8865 K  m_ubv_V = 23.40\n",
      "M =   1.120 Msun  T =  6061 K  m_ubv_V = 14.36\n",
      "M =   2.960 Msun  T = 11011 K  m_ubv_V = 10.07\n",
      "M =   1.700 Msun  T =  5540 K  m_ubv_V = 12.00\n",
      "M =   1.700 Msun  T =  4111 K  m_ubv_V = 11.18\n",
      "M =   3.500 Msun  T = 10599 K  m_ubv_V = 8.67\n",
      "M =   1.480 Msun  T =  7013 K  m_ubv_V = 13.07\n",
      "M =   1.650 Msun  T =  6302 K  m_ubv_V = 12.17\n",
      "M =   1.800 Msun  T =  6739 K  m_ubv_V = 11.29\n"
     ]
    },
    {
     "name": "stdout",
     "output_type": "stream",
     "text": [
      "M =   0.840 Msun  T =   nan K  m_ubv_V =  nan\n",
      "M =   1.500 Msun  T =  6379 K  m_ubv_V = 12.72\n",
      "Starting filter: ubv,B   Elapsed time: 35.05 seconds\n",
      "Starting synthetic photometry\n",
      "Singles\n",
      "M =   1.660 Msun  T =  6033 K  m_ubv_B = 12.80\n",
      "M =   3.300 Msun  T =  8113 K  m_ubv_B = 23.53\n",
      "Primaries\n",
      "M =   2.300 Msun  T =  8212 K  m_ubv_B = 23.10\n",
      "M =   0.251 Msun  T =   nan K  m_ubv_B =  nan\n",
      "M =   1.259 Msun  T =   nan K  m_ubv_B =  nan\n",
      "M =   0.794 Msun  T =   nan K  m_ubv_B =  nan\n",
      "M =   1.400 Msun  T =   nan K  m_ubv_B =  nan\n",
      "M =   3.000 Msun  T =  7674 K  m_ubv_B = 23.62\n",
      "M =   1.500 Msun  T =  6363 K  m_ubv_B = 13.21\n",
      "M =   3.000 Msun  T =  7674 K  m_ubv_B = 23.62\n",
      "M =   3.700 Msun  T =  8766 K  m_ubv_B = 23.42\n",
      "M =   3.700 Msun  T =  8727 K  m_ubv_B = 23.43\n",
      "M =   0.631 Msun  T =   nan K  m_ubv_B =  nan\n",
      "M =   1.700 Msun  T =  4918 K  m_ubv_B = 12.68\n",
      "M =   3.000 Msun  T =  7674 K  m_ubv_B = 23.62\n",
      "M =   1.400 Msun  T =  6410 K  m_ubv_B = 13.59\n",
      "M =   4.500 Msun  T =  8592 K  m_ubv_B = 23.68\n",
      "M =   3.000 Msun  T =  7660 K  m_ubv_B = 23.62\n",
      "M =   3.200 Msun  T = 11299 K  m_ubv_B = 23.58\n",
      "M =   1.700 Msun  T =  4918 K  m_ubv_B = 12.68\n",
      "M =   0.794 Msun  T =   nan K  m_ubv_B =  nan\n",
      "M =   2.700 Msun  T =  7896 K  m_ubv_B = 23.37\n",
      "M =   7.000 Msun  T = 13948 K  m_ubv_B = 23.83\n",
      "M =   1.100 Msun  T =  5926 K  m_ubv_B = 15.15\n",
      "M =   3.700 Msun  T =  8464 K  m_ubv_B = 23.69\n",
      "M =   0.501 Msun  T =   nan K  m_ubv_B =  nan\n",
      "M =   1.200 Msun  T =  6376 K  m_ubv_B = 13.06\n",
      "M =   1.700 Msun  T =  4918 K  m_ubv_B = 12.68\n",
      "M =   2.700 Msun  T =  7896 K  m_ubv_B = 23.37\n",
      "M =   1.900 Msun  T =  7820 K  m_ubv_B = 23.39\n",
      "M =   3.700 Msun  T =  8721 K  m_ubv_B = 23.43\n",
      "M =   0.631 Msun  T =   nan K  m_ubv_B =  nan\n",
      "M =   4.500 Msun  T =  8275 K  m_ubv_B = 23.76\n",
      "M =   1.100 Msun  T =  5931 K  m_ubv_B = 15.12\n",
      "M =   3.162 Msun  T =  2739 K  m_ubv_B =  nan\n",
      "M =   1.600 Msun  T =  6178 K  m_ubv_B = 12.94\n",
      "M =   3.700 Msun  T =  8726 K  m_ubv_B = 23.43\n",
      "M =   0.631 Msun  T =   nan K  m_ubv_B =  nan\n",
      "M =   1.400 Msun  T =   nan K  m_ubv_B =  nan\n",
      "M =   5.000 Msun  T =  7979 K  m_ubv_B = 23.97\n",
      "M =   3.700 Msun  T =  8727 K  m_ubv_B = 23.43\n",
      "M =   5.500 Msun  T =  8569 K  m_ubv_B = 23.72\n",
      "M =   4.500 Msun  T =  7949 K  m_ubv_B = 23.88\n",
      "M =   2.100 Msun  T =  7499 K  m_ubv_B = 23.67\n",
      "M =   1.400 Msun  T =   nan K  m_ubv_B =  nan\n",
      "Secondaries\n",
      "M =   2.070 Msun  T =  6650 K  m_ubv_B = 11.39\n",
      "M =   1.700 Msun  T =  5223 K  m_ubv_B = 13.19\n",
      "M =   2.700 Msun  T =  7942 K  m_ubv_B = 23.36\n",
      "M =   2.100 Msun  T =  9610 K  m_ubv_B = 22.45\n",
      "M =   3.200 Msun  T =  7774 K  m_ubv_B = 23.60\n",
      "M =   0.300 Msun  T =  3548 K  m_ubv_B = 22.36\n",
      "M =   1.050 Msun  T =  5826 K  m_ubv_B = 15.46\n",
      "M =   2.700 Msun  T =  8181 K  m_ubv_B = 9.84\n",
      "M =   1.110 Msun  T =  5875 K  m_ubv_B = 15.28\n",
      "M =   2.960 Msun  T = 11247 K  m_ubv_B = 10.03\n",
      "M =   3.500 Msun  T =  8248 K  m_ubv_B = 23.50\n",
      "M =   0.340 Msun  T =  1962 K  m_ubv_B = 30.46\n",
      "M =   2.100 Msun  T =  9213 K  m_ubv_B = 11.41\n",
      "M =   0.840 Msun  T =  4847 K  m_ubv_B = 17.03\n",
      "M =   0.450 Msun  T =  3703 K  m_ubv_B = 21.25\n",
      "M =   0.900 Msun  T =  5179 K  m_ubv_B = 16.77\n",
      "M =   1.600 Msun  T =   nan K  m_ubv_B =  nan\n",
      "M =   0.850 Msun  T =  4905 K  m_ubv_B = 16.92\n",
      "M =   3.200 Msun  T =  7985 K  m_ubv_B = 23.55\n",
      "M =   2.160 Msun  T =  8666 K  m_ubv_B = 11.09\n",
      "M =   1.400 Msun  T =  6694 K  m_ubv_B = 13.84\n",
      "M =   0.770 Msun  T =  4443 K  m_ubv_B = 17.91\n",
      "M =   0.370 Msun  T =   nan K  m_ubv_B =  nan\n",
      "M =   6.500 Msun  T =  8644 K  m_ubv_B = 23.80\n",
      "M =   0.360 Msun  T =   nan K  m_ubv_B =  nan\n",
      "M =   1.530 Msun  T =  6523 K  m_ubv_B = 13.04\n",
      "M =   2.430 Msun  T =  8734 K  m_ubv_B = 9.97\n",
      "M =   0.380 Msun  T =   nan K  m_ubv_B =  nan\n",
      "M =   1.110 Msun  T =  5918 K  m_ubv_B = 15.27\n",
      "M =   4.500 Msun  T =  7808 K  m_ubv_B = 23.90\n",
      "M =   2.700 Msun  T =  9001 K  m_ubv_B = 9.51\n",
      "M =   0.110 Msun  T =  2876 K  m_ubv_B = 27.29\n",
      "M =   5.000 Msun  T =  8865 K  m_ubv_B = 23.64\n",
      "M =   1.120 Msun  T =  6061 K  m_ubv_B = 14.96\n",
      "M =   2.960 Msun  T = 11011 K  m_ubv_B = 9.99\n",
      "M =   1.700 Msun  T =  5540 K  m_ubv_B = 12.77\n",
      "M =   1.700 Msun  T =  4111 K  m_ubv_B = 12.59\n",
      "M =   3.500 Msun  T = 10599 K  m_ubv_B = 8.60\n",
      "M =   1.480 Msun  T =  7013 K  m_ubv_B = 13.44\n",
      "M =   1.650 Msun  T =  6302 K  m_ubv_B = 12.70\n",
      "M =   1.800 Msun  T =  6739 K  m_ubv_B = 11.70\n",
      "M =   0.840 Msun  T =   nan K  m_ubv_B =  nan\n",
      "M =   1.500 Msun  T =  6379 K  m_ubv_B = 13.23\n",
      "Starting filter: ubv,R   Elapsed time: 52.27 seconds\n",
      "Starting synthetic photometry\n",
      "Singles\n",
      "M =   1.660 Msun  T =  6033 K  m_ubv_R = 11.90\n",
      "M =   3.300 Msun  T =  8113 K  m_ubv_R = 23.09\n",
      "Primaries\n",
      "M =   2.300 Msun  T =  8212 K  m_ubv_R = 22.67\n",
      "M =   0.251 Msun  T =   nan K  m_ubv_R =  nan\n",
      "M =   1.259 Msun  T =   nan K  m_ubv_R =  nan\n",
      "M =   0.794 Msun  T =   nan K  m_ubv_R =  nan\n",
      "M =   1.400 Msun  T =   nan K  m_ubv_R =  nan\n",
      "M =   3.000 Msun  T =  7674 K  m_ubv_R = 23.12\n",
      "M =   1.500 Msun  T =  6363 K  m_ubv_R = 12.43\n",
      "M =   3.000 Msun  T =  7674 K  m_ubv_R = 23.12\n",
      "M =   3.700 Msun  T =  8766 K  m_ubv_R = 23.05\n",
      "M =   3.700 Msun  T =  8727 K  m_ubv_R = 23.05\n",
      "M =   0.631 Msun  T =   nan K  m_ubv_R =  nan\n",
      "M =   1.700 Msun  T =  4918 K  m_ubv_R = 11.21\n",
      "M =   3.000 Msun  T =  7674 K  m_ubv_R = 23.12\n",
      "M =   1.400 Msun  T =  6410 K  m_ubv_R = 12.83\n",
      "M =   4.500 Msun  T =  8592 K  m_ubv_R = 23.29\n",
      "M =   3.000 Msun  T =  7660 K  m_ubv_R = 23.13\n"
     ]
    }
   ],
   "source": [
    "import spisea\n",
    "from spisea import evolution, synthetic\n",
    "import math\n",
    "# Check if the evolution class works fine\n",
    "import time\n",
    "t1=time.time()\n",
    "bps=evolution.BPASS()\n",
    "iso1=synthetic.Isochrone_Binary(9.3, 0.0, 1000,math.log10(1), mass_sampling=1, filepath='/g/lu/scratch/ryotainagaki/BPASS_iso_filesTimedIsolated/')"
   ]
  },
  {
   "cell_type": "markdown",
   "metadata": {},
   "source": [
    "As a sanity check, I would like to make sure that, for primary stars, we only have (from the isochrone) designated phase 5 stars ( anything that is not a compact remnant), white dwarves (models with phase 101), and non-white dwarf compact remnants that are  NEWSECMODS primaries (models with phase 110). Also make sure that our secondary stars are non-compact-remnant, white dwarves, or are merged."
   ]
  },
  {
   "cell_type": "code",
   "execution_count": null,
   "metadata": {},
   "outputs": [],
   "source": [
    "import numpy as np\n",
    "np.all([(x==5 or x==101 or x==110) for x in iso1.primaries['phase']])"
   ]
  },
  {
   "cell_type": "code",
   "execution_count": null,
   "metadata": {},
   "outputs": [],
   "source": [
    "np.all([(x==5 or x==101) for x in iso1.singles['phase']])"
   ]
  },
  {
   "cell_type": "code",
   "execution_count": null,
   "metadata": {},
   "outputs": [],
   "source": [
    "np.all([(x==5 or x==101 or x==-99) for x in iso1.secondaries['phase']])"
   ]
  },
  {
   "cell_type": "markdown",
   "metadata": {},
   "source": [
    "Find the maximum, mean, and median  values of logg (cgs) for primaries, single stars, and secondaries. "
   ]
  },
  {
   "cell_type": "code",
   "execution_count": null,
   "metadata": {},
   "outputs": [],
   "source": [
    "import numpy as np\n",
    "np.max(iso1.singles['logg'])"
   ]
  },
  {
   "cell_type": "code",
   "execution_count": null,
   "metadata": {},
   "outputs": [],
   "source": [
    "import numpy as np\n",
    "np.max(np.nan_to_num(iso1.primaries['logg'], -np.inf))"
   ]
  },
  {
   "cell_type": "code",
   "execution_count": null,
   "metadata": {},
   "outputs": [],
   "source": [
    "np.max(np.nan_to_num(iso1.secondaries['logg']))"
   ]
  },
  {
   "cell_type": "code",
   "execution_count": null,
   "metadata": {},
   "outputs": [],
   "source": [
    "np.mean(iso1.singles['logg'])"
   ]
  },
  {
   "cell_type": "code",
   "execution_count": null,
   "metadata": {},
   "outputs": [],
   "source": [
    "np.mean((np.nan_to_num(iso1.secondaries['logg'])))"
   ]
  },
  {
   "cell_type": "code",
   "execution_count": null,
   "metadata": {},
   "outputs": [],
   "source": [
    "np.mean((np.nan_to_num(iso1.primaries['logg'])))"
   ]
  },
  {
   "cell_type": "code",
   "execution_count": null,
   "metadata": {},
   "outputs": [],
   "source": [
    "np.median(iso1.singles['logg'])"
   ]
  },
  {
   "cell_type": "code",
   "execution_count": null,
   "metadata": {},
   "outputs": [],
   "source": [
    "np.median(iso1.primaries['logg'])"
   ]
  },
  {
   "cell_type": "code",
   "execution_count": null,
   "metadata": {},
   "outputs": [],
   "source": [
    "iso1.primaries['logg']"
   ]
  },
  {
   "cell_type": "code",
   "execution_count": null,
   "metadata": {},
   "outputs": [],
   "source": [
    "import matplotlib.pyplot as plt\n",
    "plt.title(\"Histogram of logg values (secondaries) of BPASS isochrone\")\n",
    "plt.hist(np.array([x for x in iso1.secondaries['logg'] if np.isfinite(x)]), np.arange(-10, 30, 1))\n",
    "plt.xlabel(\"logg in cgs\")"
   ]
  },
  {
   "cell_type": "code",
   "execution_count": null,
   "metadata": {},
   "outputs": [],
   "source": [
    "import matplotlib.pyplot as plt\n",
    "plt.title(\"Histogram of logg values (primaries) of BPASS isochrone\")\n",
    "plt.hist(np.array([x for x in iso1.primaries['logg'] if np.isfinite(x)]), np.arange(-10, 30, 1))\n",
    "plt.xlabel(\"logg in cgs\")"
   ]
  },
  {
   "cell_type": "code",
   "execution_count": null,
   "metadata": {},
   "outputs": [],
   "source": [
    "import matplotlib.pyplot as plt\n",
    "plt.title(\"Histogram of logg values single stars of BPASS isochrone\")\n",
    "plt.hist(np.array([x for x in iso1.singles['logg'] if np.isfinite(x)]), np.arange(0, 30, 1))\n",
    "plt.xlabel(\"logg in cgs\")"
   ]
  },
  {
   "cell_type": "code",
   "execution_count": null,
   "metadata": {},
   "outputs": [],
   "source": [
    "import matplotlib.pyplot as plt\n",
    "indices1= np.where(iso1.singles['logg']>5)[0]\n",
    "indices2= np.where(iso1.primaries['logg']>5)[0]\n",
    "indices3= np.where(iso1.secondaries['logg']>5)[0]\n",
    "plt.plot(iso1.primaries['m_ubv_B'][indices2]-iso1.primaries[\"m_ubv_V\"][indices2], iso1.primaries[\"m_ubv_V\"][indices2]-5*np.log10(100), \"r.\")\n",
    "plt.plot(iso1.secondaries['m_ubv_B'][indices3]-iso1.secondaries[\"m_ubv_V\"][indices3], iso1.secondaries[\"m_ubv_V\"][indices3]-5*np.log10(100), \"r.\")\n",
    "plt.plot(iso1.singles['m_ubv_B'][indices1]-iso1.singles[\"m_ubv_V\"][indices1], iso1.singles[\"m_ubv_V\"][indices1]-5*np.log10(100), \"r.\", label=\"BPASS isochrone\")\n",
    "plt.xlabel(\"B-V\")\n",
    "plt.ylabel(\"M_V\")\n",
    "plt.title(\"Color magnitude Diagram of Isochrones at 0.1Z_solar and 10**9.3 years age\")\n",
    "plt.gca().invert_yaxis()\n",
    "plt.legend()"
   ]
  },
  {
   "cell_type": "code",
   "execution_count": null,
   "metadata": {},
   "outputs": [],
   "source": [
    "indices2= np.where((iso1.primaries['logg']>5) & (iso1.primaries['m_ubv_B']-iso1.primaries['m_ubv_V']>-0.4) & (iso1.primaries['m_ubv_B']-iso1.primaries['m_ubv_V']<-0.2))[0]"
   ]
  },
  {
   "cell_type": "code",
   "execution_count": null,
   "metadata": {},
   "outputs": [],
   "source": [
    "np.unique(iso1.primaries[indices2]['phase'])"
   ]
  },
  {
   "cell_type": "code",
   "execution_count": null,
   "metadata": {},
   "outputs": [],
   "source": [
    "indices2= np.where((iso1.primaries['m_ubv_B']-iso1.primaries['m_ubv_V']>1.2) & (iso1.primaries['m_ubv_B']-iso1.primaries['m_ubv_V']<1.5))[0]"
   ]
  },
  {
   "cell_type": "code",
   "execution_count": null,
   "metadata": {},
   "outputs": [],
   "source": [
    "indices2"
   ]
  },
  {
   "cell_type": "code",
   "execution_count": null,
   "metadata": {},
   "outputs": [],
   "source": [
    "np.unique(iso1.primaries['phase'][indices2])"
   ]
  },
  {
   "cell_type": "code",
   "execution_count": null,
   "metadata": {},
   "outputs": [],
   "source": [
    "iso1.primaries[indices2]"
   ]
  },
  {
   "cell_type": "code",
   "execution_count": null,
   "metadata": {},
   "outputs": [],
   "source": [
    "import matplotlib.pyplot as plt\n",
    "plt.plot(iso1.secondaries['m_ubv_B']-iso1.secondaries[\"m_ubv_V\"], iso1.secondaries[\"m_ubv_V\"]-5*np.log10(100), \"r.\", label=\"Secondary stars BPASS isochrone\")\n",
    "plt.xlabel(\"B-V\")\n",
    "plt.ylabel(\"M_V\")\n",
    "plt.title(\"Color magnitude Diagram of Isochrones at 0.1 x solar metallicity and 10**9.3 years age\")\n",
    "plt.gca().invert_yaxis()\n",
    "plt.legend()"
   ]
  },
  {
   "cell_type": "code",
   "execution_count": null,
   "metadata": {},
   "outputs": [],
   "source": [
    "iso1.secondaries[np.where((iso1.secondaries['m_ubv_V']>30) & ((iso1.secondaries['m_ubv_B']-iso1.secondaries['m_ubv_V'])<-1))[0]]"
   ]
  },
  {
   "cell_type": "markdown",
   "metadata": {},
   "source": [
    "Hmm, I think those are stars that are going to be white dwarves very soon or may unintentionally be brown dwarves. At least according to HOKI's criterion for what is a white dwarf or not. At the very least, at least the stars we just saw were low mass stars so they should be **LOW** on the CMD"
   ]
  },
  {
   "cell_type": "code",
   "execution_count": null,
   "metadata": {},
   "outputs": [],
   "source": [
    "iso2=synthetic.IsochronePhot(9.3, 0.0, 1000, math.log(1),evo_model=evolution.Parsec(), recomp=True) # New Parsec isochrone for same metallicity"
   ]
  },
  {
   "cell_type": "markdown",
   "metadata": {},
   "source": [
    "Looking at the distribution of logg values. for the stars in the Parsec isochrone."
   ]
  },
  {
   "cell_type": "code",
   "execution_count": null,
   "metadata": {},
   "outputs": [],
   "source": [
    "np.max(iso2.points['logg'])"
   ]
  },
  {
   "cell_type": "code",
   "execution_count": null,
   "metadata": {},
   "outputs": [],
   "source": [
    "import matplotlib.pyplot as plt\n",
    "plt.xlabel(\"logg in cgs\")\n",
    "plt.title(\"Histogram of logg values of stars in the Parsec isochrone\")\n",
    "plt.hist(np.array([x for x in iso2.points['logg'] if np.isfinite(x)]), np.arange(-10, 30, 1))"
   ]
  },
  {
   "cell_type": "code",
   "execution_count": null,
   "metadata": {},
   "outputs": [],
   "source": [
    "np.median(iso2.points['logg'])"
   ]
  },
  {
   "cell_type": "code",
   "execution_count": null,
   "metadata": {},
   "outputs": [],
   "source": [
    "np.mean(iso2.points['logg'])"
   ]
  },
  {
   "cell_type": "code",
   "execution_count": null,
   "metadata": {},
   "outputs": [],
   "source": [
    "from spisea import imf\n",
    "from spisea.imf import imf, multiplicity\n",
    "from spisea import ifmr\n"
   ]
  },
  {
   "cell_type": "markdown",
   "metadata": {},
   "source": [
    "Make the clusters corresponding to the binary star isochrone and the Parsec isochrone"
   ]
  },
  {
   "cell_type": "code",
   "execution_count": null,
   "metadata": {},
   "outputs": [],
   "source": [
    "clus_1=synthetic.Binary_Cluster(iso1, imf.IMFSalpeter1955(multiplicity=multiplicity.MultiplicityResolvedDK()), 20000, ifmr=ifmr.IFMR_Spera15())\n",
    "clus_2=synthetic.ResolvedCluster(iso2, imf.IMFSalpeter1955(multiplicity=multiplicity.MultiplicityResolvedDK()), 20000, ifmr=ifmr.IFMR_Spera15())"
   ]
  },
  {
   "cell_type": "markdown",
   "metadata": {},
   "source": [
    "Now let's visualize the isochrone we have created so far with a color magnitude diagram. There we can see the end of main sequence and perhaps the M type"
   ]
  },
  {
   "cell_type": "code",
   "execution_count": null,
   "metadata": {},
   "outputs": [],
   "source": [
    "# Taking a look at the Binary Cluster vs Default Settings cluster Observer's HR Diagram\n",
    "# Remember to use a distance modulus!\n",
    "import matplotlib.pyplot as plt\n",
    "plt.plot(iso1.primaries['m_ubv_B']-iso1.primaries[\"m_ubv_V\"], iso1.primaries[\"m_ubv_V\"]-5*np.log10(100), \"r.\")\n",
    "plt.plot(iso1.secondaries['m_ubv_B']-iso1.secondaries[\"m_ubv_V\"], iso1.secondaries[\"m_ubv_V\"]-5*np.log10(100), \"r.\")\n",
    "plt.plot(iso1.singles['m_ubv_B']-iso1.singles[\"m_ubv_V\"], iso1.singles[\"m_ubv_V\"]-5*np.log10(100), \"r.\", label=\"BPASS isochrone\")\n",
    "plt.plot(iso2.points['m_ubv_B']-iso2.points[\"m_ubv_V\"], iso2.points[\"m_ubv_V\"]-5*np.log10(100), \"b+\", label=\"Parsec isochrone\", alpha = 0.2)\n",
    "plt.xlabel(\"B-V\")\n",
    "plt.ylabel(\"M_V\")\n",
    "plt.title(\"Color magnitude Diagram of Isochrones at 0.1Z_solar and 10**9.3 years age\")\n",
    "plt.gca().invert_yaxis()\n",
    "plt.legend()"
   ]
  },
  {
   "cell_type": "markdown",
   "metadata": {},
   "source": [
    "We do have several outliers but otherwise the pattern does not seem too terribly off from the Parsec isochrone's shape. Now I look at the primary stars and see if there are any problems caused."
   ]
  },
  {
   "cell_type": "code",
   "execution_count": null,
   "metadata": {},
   "outputs": [],
   "source": [
    "# Taking a look at the Binary Cluster vs Default Settings cluster Observer's HR Diagram\n",
    "# Remember to use a distance modulus!\n",
    "import matplotlib.pyplot as plt\n",
    "plt.plot(iso1.primaries['m_ubv_B']-iso1.primaries[\"m_ubv_V\"], iso1.primaries[\"m_ubv_V\"]-5*np.log10(100), \"r+\",  label=\"BPASS isochrone\", alpha =0.7)\n",
    "plt.xlabel(\"B-V\")\n",
    "plt.ylabel(\"M_V\")\n",
    "plt.title(\"Color magnitude Diagram of Isochrones at 0.1Z_solar and 10**9.3 years age (Primary stars only)\")\n",
    "plt.gca().invert_yaxis()\n",
    "plt.legend()"
   ]
  },
  {
   "cell_type": "code",
   "execution_count": null,
   "metadata": {},
   "outputs": [],
   "source": [
    "import matplotlib.pyplot as plt\n",
    "plt.plot(iso1.secondaries['m_ubv_B']-iso1.secondaries[\"m_ubv_V\"], iso1.secondaries[\"m_ubv_V\"]-5*np.log10(100), \"r+\",  label=\"BPASS isochrone\", alpha =0.7)\n",
    "plt.xlabel(\"B-V\")\n",
    "plt.ylabel(\"M_V\")\n",
    "plt.title(\"Color magnitude Diagram of Isochrones at 0.1Z_solar and 10**9.3 years age (Primary stars only)\")\n",
    "plt.gca().invert_yaxis()\n",
    "plt.legend()"
   ]
  },
  {
   "cell_type": "markdown",
   "metadata": {},
   "source": [
    "Where are some of the goofy outliers coming from?"
   ]
  },
  {
   "cell_type": "code",
   "execution_count": null,
   "metadata": {},
   "outputs": [],
   "source": [
    "iso1.secondaries[np.where(iso1.secondaries[\"m_ubv_V\"]-5*np.log10(100)>20.0)[0]]"
   ]
  },
  {
   "cell_type": "code",
   "execution_count": null,
   "metadata": {},
   "outputs": [],
   "source": [
    "issue = iso1.secondaries[np.where(iso1.secondaries[\"m_ubv_V\"]-5*np.log10(100)>20.0)[0]]"
   ]
  },
  {
   "cell_type": "code",
   "execution_count": null,
   "metadata": {},
   "outputs": [],
   "source": [
    "np.unique(issue['mass'])"
   ]
  },
  {
   "cell_type": "code",
   "execution_count": null,
   "metadata": {},
   "outputs": [],
   "source": [
    "np.unique(issue['phase'])"
   ]
  },
  {
   "cell_type": "code",
   "execution_count": null,
   "metadata": {},
   "outputs": [],
   "source": [
    "import matplotlib.pyplot as plt\n",
    "plt.plot(np.log10(iso1.primaries['Teff']), np.log10(iso1.primaries[\"L\"]), \"r.\", alpha =0.3)\n",
    "plt.plot(np.log10(iso1.secondaries['Teff']), np.log10(iso1.secondaries[\"L\"]), \"r.\", alpha =0.3)\n",
    "plt.plot(np.log10(iso1.singles['Teff']), np.log10(iso1.singles[\"L\"]), \"r.\", label=\"BPASS isochrone\", alpha =0.3)\n",
    "plt.plot(np.log10(iso2.points['Teff']), np.log10(iso2.points[\"L\"]), \"b+\", label=\"Paresc\", alpha =0.1)\n",
    "plt.xlabel(\"log(T in Kelvin)\")\n",
    "plt.ylabel(\"log(L in Watts)\")\n",
    "plt.title(\"HR Diagram of Isochrones at 0.1Z_solar and 10**9.3 years age\")\n",
    "plt.gca().invert_xaxis()\n",
    "plt.legend()\n",
    "# Rough pattern seems to fit. What's that line?"
   ]
  },
  {
   "cell_type": "markdown",
   "metadata": {},
   "source": [
    "A good sign here is that there are plenty of compact remnant (that means good number of stars have gone through their main-sequence and post-main sequence). I also notice stars turning to the red giant branch. This is going to be really important when we decide to use the clusters as reference for finding ages of actual star clusters."
   ]
  },
  {
   "cell_type": "code",
   "execution_count": null,
   "metadata": {},
   "outputs": [],
   "source": [
    "# Plot the mass-luminosity relationship\n",
    "from astropy import constants as cs\n",
    "import matplotlib.pyplot as plt\n",
    "plt.plot(np.log10(iso1.primaries['mass_current']), np.log10(iso1.primaries[\"L\"]/cs.L_sun), \"r.\")\n",
    "plt.plot(np.log10(iso1.secondaries['mass_current']), np.log10(iso1.secondaries[\"L\"]/cs.L_sun), \"r.\")\n",
    "plt.plot(np.log10(iso1.singles['mass_current']), np.log10(iso1.singles[\"L\"]/cs.L_sun), \"r.\", label=\"BPASS isochrone\")\n",
    "plt.plot(np.log10(iso2.points['mass_current']), np.log10(iso2.points[\"L\"]/cs.L_sun), \"b+\", label=\"Parsec\", alpha =0.2)\n",
    "plt.xlabel(\"log(Current Mass in solar masses)\")\n",
    "plt.ylabel(\"log(L/L_solar)\")\n",
    "plt.title(\"log Mass-logL of Isochrones at 0.1Z_solar and 10**9.3 years age\")\n",
    "plt.legend()\n",
    "# Rough pattern seems to fit. What's that line?"
   ]
  },
  {
   "cell_type": "markdown",
   "metadata": {},
   "source": [
    "Which table is causing that line segment at around log10(L/L_sun)=-3?\n",
    "Let's find out.\n",
    "First I take a look at the shape of the primary stars' plot for log current mass log L."
   ]
  },
  {
   "cell_type": "code",
   "execution_count": null,
   "metadata": {},
   "outputs": [],
   "source": [
    "from astropy import constants as cs\n",
    "import matplotlib.pyplot as plt\n",
    "plt.plot(np.log10(iso1.primaries['mass_current']), np.log10(iso1.primaries[\"L\"]/cs.L_sun), \"r.\", label=\"BPASS isochrone (primaries)\")\n",
    "plt.xlabel(\"log(Current Mass in solar masses)\")\n",
    "plt.ylabel(\"log(L/L_solar)\")\n",
    "plt.title(\"log Mass-logL of Isochrones at 0.1Z_solar and 10**9.3 years age\")\n",
    "plt.legend()"
   ]
  },
  {
   "cell_type": "markdown",
   "metadata": {},
   "source": [
    "Which type of secondary star is it that is causing this strange pattern?"
   ]
  },
  {
   "cell_type": "code",
   "execution_count": null,
   "metadata": {},
   "outputs": [],
   "source": [
    "bad_line = iso1.primaries[np.where((np.log10(iso1.primaries[\"L\"]/cs.L_sun)>-3.30) & (np.log10(iso1.primaries[\"L\"]/cs.L_sun)<-3.10))[0]]"
   ]
  },
  {
   "cell_type": "code",
   "execution_count": null,
   "metadata": {},
   "outputs": [],
   "source": [
    "bad_line"
   ]
  },
  {
   "cell_type": "markdown",
   "metadata": {},
   "source": [
    "What sorts of characteristics (logg, Teff, L) can be causing it? Let's find out"
   ]
  },
  {
   "cell_type": "code",
   "execution_count": null,
   "metadata": {},
   "outputs": [],
   "source": [
    "np.unique(bad_line['L'])"
   ]
  },
  {
   "cell_type": "code",
   "execution_count": null,
   "metadata": {},
   "outputs": [],
   "source": [
    "np.unique(bad_line['Teff'])"
   ]
  },
  {
   "cell_type": "code",
   "execution_count": null,
   "metadata": {},
   "outputs": [],
   "source": [
    "np.unique(bad_line['logg'])"
   ]
  },
  {
   "cell_type": "code",
   "execution_count": null,
   "metadata": {},
   "outputs": [],
   "source": [
    "np.unique(bad_line['mass'])"
   ]
  },
  {
   "cell_type": "code",
   "execution_count": null,
   "metadata": {},
   "outputs": [],
   "source": [
    "np.unique(bad_line['phase'])"
   ]
  },
  {
   "cell_type": "markdown",
   "metadata": {},
   "source": [
    "**It turns out that the line was caused by some compact remnants that were lingering around from the NEWSECMODS. In future versions of the stellar evolution model, I may obtain an additional program from the BPASS creators to match the types of compact remnants from the NEWSECMODS.**"
   ]
  },
  {
   "cell_type": "code",
   "execution_count": null,
   "metadata": {},
   "outputs": [],
   "source": [
    "# Plot the mass-luminosity relationship\n",
    "from astropy import constants as cs\n",
    "from astropy import units as u\n",
    "import numpy as np\n",
    "import matplotlib.pyplot as plt\n",
    "plt.plot((clus_1.star_systems['mass_current']), np.log10(clus_1.star_systems[\"L\"]), \"r.\", label=\"Binary_Cluster made from BPASS\", alpha =0.3)\n",
    "plt.plot((clus_1.companions['mass_current']), np.log10(clus_1.companions[\"L\"]), \"r.\", label=\"Binary_Cluster made from BPASS\", alpha = 0.3)\n",
    "plt.plot((clus_2.star_systems['mass_current']), np.log10(clus_2.star_systems[\"L\"]), \"b.\", label=\"Binary_Cluster made from Parsec\", alpha =0.1)\n",
    "plt.plot((clus_2.companions['mass_current']), np.log10(clus_2.companions[\"L\"]), \"b.\", label=\"Binary_Cluster made from Parsec\", alpha = 0.1)\n",
    "plt.xlabel(\"Current Mass in solar masses\")\n",
    "plt.ylabel(\"log(L in Watts)\")\n",
    "plt.title(\"Mass-logL of Cluster at 0.1Z_solar and 10**9.3 years age\")\n",
    "plt.legend()\n",
    "# Rough pattern seems to fit. What's that line?"
   ]
  },
  {
   "cell_type": "markdown",
   "metadata": {},
   "source": [
    "Where is that hook coming from?"
   ]
  },
  {
   "cell_type": "code",
   "execution_count": null,
   "metadata": {},
   "outputs": [],
   "source": [
    "np.unique(iso1.primaries[np.where(np.log10(iso1.primaries[\"L\"])<=25)]['phase'])"
   ]
  },
  {
   "cell_type": "code",
   "execution_count": null,
   "metadata": {},
   "outputs": [],
   "source": [
    "len(iso1.primaries[np.where((np.log10(iso1.primaries[\"L\"])<=25) & (iso1.primaries[\"phase\"]==110))])"
   ]
  },
  {
   "cell_type": "code",
   "execution_count": null,
   "metadata": {},
   "outputs": [],
   "source": [
    "len(iso1.primaries[np.where((np.log10(iso1.primaries[\"L\"])<=25) & (iso1.primaries[\"phase\"]==101))])"
   ]
  },
  {
   "cell_type": "markdown",
   "metadata": {},
   "source": [
    "OK. It makes sense that our compact remnants are causing this. (Remember, there really is no significant fusion in the insides of neutron stars or white dwarves."
   ]
  },
  {
   "cell_type": "code",
   "execution_count": null,
   "metadata": {},
   "outputs": [],
   "source": [
    "# Plot the mass-luminosity relationship\n",
    "from astropy import constants as cs\n",
    "from astropy import units as u\n",
    "import matplotlib.pyplot as plt\n",
    "plt.plot(clus_1.star_systems['mass_current'], np.log10(clus_1.star_systems[\"L\"]), \"r.\", label=\"Binary_Cluster made from BPASS (Star Systems)\", alpha =1)\n",
    "plt.xlabel(\"log Current Mass in solar masses\")\n",
    "plt.ylabel(\"log(L/L_solar)\")\n",
    "plt.title(\"log-Mass-logL of Cluster at 0.1Z_solar and 10**9.3 years age\")\n",
    "plt.legend()\n",
    "# Rough pattern seems to fit. What's that line?"
   ]
  },
  {
   "cell_type": "code",
   "execution_count": null,
   "metadata": {},
   "outputs": [],
   "source": [
    "# Plot the mass-luminosity relationship\n",
    "from astropy import constants as cs\n",
    "from astropy import units as u\n",
    "import matplotlib.pyplot as plt\n",
    "plt.plot(clus_1.companions['mass_current'], np.log10(clus_1.companions[\"L\"]), \"r.\", label=\"Binary_Cluster made from BPASS (Companions)\", alpha =1)\n",
    "plt.xlabel(\"log Current Mass in solar masses\")\n",
    "plt.ylabel(\"log(L/L_solar)\")\n",
    "plt.title(\"log-Mass-logL of Cluster at 0.1Z_solar and 10**9.3 years age\")\n",
    "plt.legend()\n",
    "# Rough pattern seems to fit. What's that line?"
   ]
  },
  {
   "cell_type": "markdown",
   "metadata": {},
   "source": [
    "Now go back to the shape of the clusters' Color magnitude diagrams."
   ]
  },
  {
   "cell_type": "code",
   "execution_count": null,
   "metadata": {},
   "outputs": [],
   "source": [
    "np.unique(clus_1.companions['log_a'])"
   ]
  },
  {
   "cell_type": "code",
   "execution_count": null,
   "metadata": {},
   "outputs": [],
   "source": [
    "# Taking a look at the Binary Cluster vs Default Settings cluster Observer's HR Diagram\n",
    "# Remember to use a distance modulus!\n",
    "import matplotlib.pyplot as plt\n",
    "plt.plot(clus_1.star_systems['m_ubv_B']-clus_1.star_systems[\"m_ubv_V\"], clus_1.star_systems[\"m_ubv_V\"]-5*np.log10(100), \"r.\",label=\"BPASS\", alpha =0.3)\n",
    "plt.plot(clus_2.star_systems['m_ubv_B']-clus_2.star_systems[\"m_ubv_V\"], clus_2.star_systems[\"m_ubv_V\"]-5*np.log10(100), \"b+\", label=\"Parsec\", alpha=0.1)\n",
    "plt.xlabel(\"B-V\")\n",
    "plt.ylabel(\"M_V\")\n",
    "plt.title(\"Color magnitude Diagram of clusters at 0.1Z_solar and 10**9.3 years age\")\n",
    "plt.gca().invert_yaxis()\n",
    "plt.legend()"
   ]
  },
  {
   "cell_type": "code",
   "execution_count": null,
   "metadata": {},
   "outputs": [],
   "source": [
    "clus_1.star_systems[np.where(clus_1.star_systems[\"m_ubv_V\"]==0)]"
   ]
  },
  {
   "cell_type": "code",
   "execution_count": null,
   "metadata": {},
   "outputs": [],
   "source": [
    "import matplotlib.pyplot as plt\n",
    "plt.plot(np.log10(clus_1.companions['Teff']), np.log10(clus_1.companions[\"L\"]), \"r.\",label=\"BPASS isochrone\", alpha=0.5)\n",
    "plt.plot(np.log10(clus_2.companions['Teff']), np.log10(clus_2.companions[\"L\"]), \"b+\", alpha=0.15)\n",
    "plt.plot(np.log10(clus_1.star_systems['Teff']), np.log10(clus_1.star_systems[\"L\"]), \"r.\",label=\"BPASS isochrone\", alpha=0.5)\n",
    "plt.plot(np.log10(clus_2.star_systems['Teff']), np.log10(clus_2.star_systems[\"L\"]), \"b+\", label=\"Parsec\", alpha=0.15)\n",
    "plt.xlabel(\"log(T in kelvin)\")\n",
    "plt.ylabel(\"log(L in watts)\")\n",
    "plt.title(\"HR Diagram of clusters at 0.1Z_solar and 10**9.3 years age\")\n",
    "plt.gca().invert_xaxis()\n",
    "plt.legend()"
   ]
  },
  {
   "cell_type": "markdown",
   "metadata": {},
   "source": [
    "If I look at the HR Diagram, I do see deviation with respects to the Parsec line for some of the brighter stars, but I see an overall good trend with the main-sequence turnoff. Also, I see the compact remnants where they should be given my setup."
   ]
  },
  {
   "cell_type": "markdown",
   "metadata": {},
   "source": [
    "Looking at which stars are the white dwarves?"
   ]
  },
  {
   "cell_type": "code",
   "execution_count": null,
   "metadata": {},
   "outputs": [],
   "source": [
    "import numpy as np\n",
    "np.where(clus_1.star_systems['phase']==101.0)[0]"
   ]
  },
  {
   "cell_type": "markdown",
   "metadata": {},
   "source": [
    "Black Holes?"
   ]
  },
  {
   "cell_type": "code",
   "execution_count": null,
   "metadata": {},
   "outputs": [],
   "source": [
    "np.where(clus_1.star_systems['phase']==103.0)[0]"
   ]
  },
  {
   "cell_type": "code",
   "execution_count": null,
   "metadata": {},
   "outputs": [],
   "source": [
    "np.where(clus_1.star_systems['phase']==102.0)[0]"
   ]
  },
  {
   "cell_type": "code",
   "execution_count": null,
   "metadata": {},
   "outputs": [],
   "source": [
    "clus_1.star_systems['systemMass'].sum()"
   ]
  },
  {
   "cell_type": "code",
   "execution_count": null,
   "metadata": {},
   "outputs": [],
   "source": []
  }
 ],
 "metadata": {
  "kernelspec": {
   "display_name": "astroconda",
   "language": "python",
   "name": "astroconda"
  },
  "language_info": {
   "codemirror_mode": {
    "name": "ipython",
    "version": 3
   },
   "file_extension": ".py",
   "mimetype": "text/x-python",
   "name": "python",
   "nbconvert_exporter": "python",
   "pygments_lexer": "ipython3",
   "version": "3.7.3"
  }
 },
 "nbformat": 4,
 "nbformat_minor": 2
}
