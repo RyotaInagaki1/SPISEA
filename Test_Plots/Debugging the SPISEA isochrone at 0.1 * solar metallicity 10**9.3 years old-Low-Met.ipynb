{
 "cells": [
  {
   "cell_type": "markdown",
   "metadata": {},
   "source": [
    "## Testing and Debugging the BPASS isochrone at 10^9.3 years age. (Non Solar Metallicity)\n",
    "In this BPASS isochrone and cluster plot, I go over the BPASS isochrone for 10^9.3 years age, a tenth of solar metallicity, AKs=0.0, and distance of 1000 parsecs from Earth. From the isochrone and cluster, we discuss several plots such as the log_g frequency distribution of the isochrone, the color magnitude diagram (B-V vs M_V), and the current-mass luminosity relationship of the cluster."
   ]
  },
  {
   "cell_type": "markdown",
   "metadata": {},
   "source": [
    "For a sanity check, we can see that the primaries, secondaries, and single stars have phasees of 5 or of 101. This is since we haven't added neutron stars or black holes yet. Stars with phase of -99 exist, and those are the secondary stars that have already merged."
   ]
  },
  {
   "cell_type": "markdown",
   "metadata": {},
   "source": [
    "**I will be using the Kennicutt IMF and a slightly different age. I also use the Parsec evolution model for the sake of comparison with the BPASS isochrone and to distinguish this notebook from the others.**"
   ]
  },
  {
   "cell_type": "code",
   "execution_count": 1,
   "metadata": {},
   "outputs": [
    {
     "name": "stderr",
     "output_type": "stream",
     "text": [
      "/opt/anaconda3/envs/astroconda/lib/python3.7/site-packages/pysynphot/locations.py:346: UserWarning: Extinction files not found in /g/lu/models/cdbs/extinction\n",
      "  warnings.warn('Extinction files not found in %s' % (extdir, ))\n",
      "/opt/anaconda3/envs/astroconda/lib/python3.7/site-packages/pysynphot/refs.py:125: UserWarning: No thermal tables found, no thermal calculations can be performed. No files found for /g/lu/models/cdbs/mtab/*_tmt.fits\n",
      "  'no thermal calculations can be performed. ' + str(e))\n",
      "/opt/anaconda3/envs/astroconda/lib/python3.7/site-packages/astropy/units/quantity.py:477: RuntimeWarning: invalid value encountered in true_divide\n",
      "  result = super().__array_ufunc__(function, method, *arrays, **kwargs)\n",
      "/u/ryotainagaki/Desktop/PyPopStar/spisea/evolution.py:1771: RuntimeWarning: overflow encountered in power\n",
      "  (1 / cs.au) * un.m)\n",
      "/opt/anaconda3/envs/astroconda/lib/python3.7/site-packages/astropy/table/column.py:1020: RuntimeWarning: invalid value encountered in greater\n",
      "  result = getattr(super(), op)(other)\n",
      "/opt/anaconda3/envs/astroconda/lib/python3.7/site-packages/astropy/table/column.py:1020: RuntimeWarning: invalid value encountered in less_equal\n",
      "  result = getattr(super(), op)(other)\n",
      "/opt/anaconda3/envs/astroconda/lib/python3.7/site-packages/astropy/units/quantity.py:477: RuntimeWarning: divide by zero encountered in true_divide\n",
      "  result = super().__array_ufunc__(function, method, *arrays, **kwargs)\n"
     ]
    },
    {
     "name": "stdout",
     "output_type": "stream",
     "text": [
      "Changing to logg=5.00 for T= 30069 logg=7.94\n",
      "Changing to logg=5.00 for T= 24315 logg=5.89\n",
      "Changing to logg=5.00 for T= 22265 logg=5.67\n",
      "Changing to logg=5.00 for T= 20350 logg=5.50\n",
      "Changing to logg=5.00 for T= 18839 logg=5.32\n",
      "Changing to logg=5.00 for T= 18814 logg=5.31\n",
      "Changing to logg=5.00 for T= 16727 logg=5.17\n",
      "Changing to logg=5.00 for T= 21102 logg=5.55\n",
      "Changing to logg=5.00 for T= 18856 logg=5.34\n",
      "Changing to logg=5.00 for T= 23483 logg=5.75\n",
      "Changing to logg=5.00 for T= 22703 logg=5.55\n",
      "Changing to logg=5.00 for T= 20581 logg=5.50\n",
      "Changing to logg=5.00 for T= 17282 logg=5.28\n",
      "Changing to logg=5.00 for T= 20029 logg=5.46\n",
      "Changing to logg=5.00 for T= 24947 logg=5.84\n",
      "Changing to logg=5.00 for T= 23502 logg=5.75\n",
      "Changing to logg=5.00 for T= 16162 logg=5.12\n",
      "Changing to logg=5.00 for T= 24334 logg=5.91\n",
      "Changing to logg=5.00 for T= 20568 logg=5.50\n",
      "Changing to T=  1200 for T=   808 logg=4.44\n",
      "Changing to T=  1200 for T=   808 logg=4.44\n",
      "Changing to logg=5.00 for T=  1616 logg=4.44\n",
      "Changing to logg=5.00 for T=  1616 logg=4.44\n",
      "Changing to logg=5.00 for T=  1616 logg=4.44\n",
      "Changing to logg=5.00 for T= 18520 logg=5.61\n",
      "Changing to T=  1200 for T=   808 logg=4.44\n",
      "Changing to T=  1200 for T=   923 logg=4.44\n",
      "Changing to T=  1200 for T=   808 logg=4.44\n",
      "Changing to logg=5.00 for T=  1500 logg=4.44\n",
      "Changing to T=  1200 for T=   750 logg=4.44\n",
      "Changing to logg=5.00 for T=  1962 logg=4.44\n",
      "Changing to T=  1200 for T=   750 logg=4.44\n",
      "Changing to logg=5.00 for T=  1904 logg=4.44\n",
      "Changing to logg=5.00 for T=  1500 logg=4.44\n",
      "Changing to T=  1200 for T=   750 logg=4.44\n",
      "Changing to logg=5.00 for T= 20816 logg=5.59\n",
      "Changing to T=  1200 for T=   923 logg=4.44\n",
      "Changing to T=  1200 for T=   750 logg=4.44\n",
      "Changing to logg=5.00 for T=  1847 logg=4.44\n",
      "Changing to T=  1200 for T=   923 logg=4.44\n",
      "Changing to logg=5.00 for T=  1616 logg=4.44\n",
      "Changing to logg=5.00 for T=  1616 logg=4.44\n",
      "Changing to logg=5.00 for T=  1616 logg=4.44\n",
      "Changing to logg=5.00 for T=  1500 logg=4.44\n",
      "Changing to T=  1200 for T=   923 logg=4.44\n",
      "Changing to logg=5.00 for T=  1847 logg=4.44\n",
      "Changing to logg=5.00 for T=  1962 logg=4.44\n",
      "Changing to T=  1200 for T=   923 logg=4.44\n",
      "Changing to logg=5.00 for T=  1962 logg=4.44\n",
      "Changing to T=  1200 for T=   750 logg=4.44\n",
      "Changing to T=  1200 for T=   808 logg=4.44\n",
      "Changing to T=  1200 for T=   808 logg=4.44\n",
      "Changing to logg=5.00 for T= 25184 logg=5.84\n",
      "Changing to T=  1200 for T=   808 logg=4.44\n",
      "Changing to logg=5.00 for T=  1616 logg=4.44\n",
      "Changing to T=  1200 for T=   808 logg=4.44\n",
      "Changing to logg=5.00 for T=  1847 logg=4.44\n",
      "Changing to logg=5.00 for T=  1616 logg=4.44\n",
      "Changing to logg=5.00 for T=  1962 logg=4.44\n",
      "Changing to logg=5.00 for T=  1616 logg=4.44\n",
      "Changing to T=  1200 for T=   808 logg=4.44\n",
      "Changing to T=  1200 for T=   923 logg=4.44\n",
      "Changing to T=  1200 for T=   923 logg=4.44\n",
      "Changing to T=  1200 for T=   808 logg=4.44\n",
      "Changing to logg=5.00 for T=  1616 logg=4.44\n",
      "Changing to logg=5.00 for T=  1500 logg=4.44\n",
      "Changing to T=  1200 for T=   750 logg=4.44\n",
      "Changing to logg=5.00 for T= 25199 logg=5.81\n",
      "Changing to logg=5.00 for T=  1500 logg=4.44\n",
      "Changing to logg=5.00 for T=  1962 logg=4.44\n",
      "Changing to logg=5.00 for T=  1500 logg=4.44\n",
      "Changing to logg=5.00 for T=  1847 logg=4.44\n",
      "Changing to T=  1200 for T=   750 logg=4.44\n",
      "Changing to T=  1200 for T=   750 logg=4.44\n",
      "Changing to logg=5.00 for T=  1616 logg=4.44\n",
      "Changing to logg=5.00 for T= 12593 logg=6.38\n",
      "Changing to logg=5.00 for T=  1847 logg=4.44\n",
      "Changing to T=  1200 for T=   923 logg=4.44\n",
      "Changing to logg=5.00 for T=  1500 logg=4.44\n",
      "Changing to logg=5.00 for T= 26135 logg=5.99\n",
      "Changing to T=  1200 for T=   750 logg=4.44\n",
      "Changing to T=  1200 for T=   750 logg=4.44\n",
      "Changing to logg=5.00 for T=  1616 logg=4.44\n",
      "Changing to T=  1200 for T=   750 logg=4.44\n",
      "Changing to T=  1200 for T=   808 logg=4.44\n",
      "Changing to logg=5.00 for T=  1500 logg=4.44\n",
      "Changing to logg=5.00 for T= 24441 logg=5.90\n",
      "Changing to logg=5.00 for T=  1962 logg=4.44\n",
      "Changing to logg=5.00 for T=  9329 logg=6.72\n",
      "Changing to logg=5.00 for T=  1500 logg=4.44\n",
      "Changing to logg=5.00 for T=  1500 logg=4.44\n",
      "Changing to logg=5.00 for T=  1962 logg=4.44\n",
      "Changing to logg=5.00 for T=  1962 logg=4.44\n",
      "Changing to logg=5.00 for T=  1904 logg=4.44\n",
      "Changing to logg=5.00 for T=  1500 logg=4.44\n",
      "Changing to T=  1200 for T=   923 logg=4.44\n",
      "Changing to logg=5.00 for T=  1847 logg=4.44\n",
      "Changing to logg=5.00 for T=  1904 logg=4.44\n",
      "Changing to logg=5.00 for T=  6641 logg=6.86\n",
      "Changing to logg=5.00 for T=  1904 logg=4.44\n",
      "Changing to T=  1200 for T=   750 logg=4.44\n",
      "Changing to logg=5.00 for T=  1500 logg=4.44\n",
      "Changing to logg=5.00 for T=  1616 logg=4.44\n",
      "Changing to logg=5.00 for T=  1904 logg=4.44\n",
      "Changing to T=  1200 for T=   923 logg=4.44\n",
      "Changing to logg=5.00 for T= 24313 logg=5.89\n",
      "Changing to logg=5.00 for T=  1962 logg=4.44\n",
      "Changing to logg=5.00 for T=  1500 logg=4.44\n",
      "Changing to T=  1200 for T=   923 logg=4.44\n",
      "Changing to logg=5.00 for T=  1962 logg=4.44\n",
      "Changing to logg=5.00 for T=  1847 logg=4.44\n",
      "Changing to logg=5.00 for T=  1904 logg=4.44\n",
      "Changing to T=  1200 for T=   923 logg=4.44\n",
      "Changing to logg=5.00 for T=  1847 logg=4.44\n",
      "Changing to T=  1200 for T=   923 logg=4.44\n",
      "Changing to T=  1200 for T=   750 logg=4.44\n",
      "Changing to logg=5.00 for T=  1962 logg=4.44\n",
      "Changing to logg=5.00 for T=  1847 logg=4.44\n",
      "Changing to logg=5.00 for T=  1904 logg=4.44\n",
      "Changing to T=  1200 for T=   750 logg=4.44\n",
      "Changing to logg=5.00 for T=  1500 logg=4.44\n",
      "Changing to T=  1200 for T=   750 logg=4.44\n",
      "Changing to logg=5.00 for T=  1616 logg=4.44\n",
      "Changing to logg=5.00 for T=  1904 logg=4.44\n",
      "Changing to T=  1200 for T=   750 logg=4.44\n",
      "Changing to T=  1200 for T=   750 logg=4.44\n",
      "Changing to T=  1200 for T=   808 logg=4.44\n",
      "Changing to logg=5.00 for T=  1616 logg=4.44\n",
      "Changing to logg=5.00 for T=  1904 logg=4.44\n",
      "Changing to logg=5.00 for T=  1847 logg=4.44\n",
      "Changing to logg=5.00 for T=  1847 logg=4.44\n",
      "Changing to logg=5.00 for T= 18476 logg=6.78\n",
      "Changing to logg=5.00 for T=  1847 logg=4.44\n",
      "Changing to logg=5.00 for T=  1500 logg=4.44\n",
      "Changing to T=  1200 for T=   808 logg=4.44\n",
      "Changing to logg=5.00 for T=  1904 logg=4.44\n",
      "Changing to logg=5.00 for T=  1616 logg=4.44\n",
      "Changing to logg=5.00 for T=  1904 logg=4.44\n",
      "Changing to logg=5.00 for T=  1847 logg=4.44\n",
      "Changing to T=  1200 for T=   808 logg=4.44\n",
      "Changing to T=  1200 for T=   923 logg=4.44\n",
      "Changing to logg=5.00 for T=  1847 logg=4.44\n",
      "Changing to logg=5.00 for T=  1847 logg=4.44\n",
      "Changing to T=  1200 for T=   808 logg=4.44\n",
      "Changing to logg=5.00 for T=  1962 logg=4.44\n",
      "Changing to logg=5.00 for T=  1500 logg=4.44\n",
      "Changing to logg=5.00 for T=  1500 logg=4.44\n",
      "Changing to logg=5.00 for T=  1500 logg=4.44\n",
      "Changing to T=  1200 for T=   808 logg=4.44\n",
      "Changing to logg=5.00 for T=  1904 logg=4.44\n",
      "Changing to logg=5.00 for T=  1962 logg=4.44\n",
      "Changing to T=  1200 for T=   808 logg=4.44\n",
      "Changing to logg=5.00 for T=  1847 logg=4.44\n",
      "Changing to T=  1200 for T=   750 logg=4.44\n",
      "Changing to T=  1200 for T=   923 logg=4.44\n",
      "Changing to logg=5.00 for T=  1904 logg=4.44\n",
      "Changing to T=  1200 for T=   808 logg=4.44\n",
      "Changing to logg=5.00 for T=  1616 logg=4.44\n",
      "Changing to logg=5.00 for T= 11329 logg=6.45\n",
      "Changing to logg=5.00 for T=  1500 logg=4.44\n",
      "Changing to logg=5.00 for T=  1904 logg=4.44\n",
      "Changing to T=  1200 for T=   750 logg=4.44\n",
      "Changing to logg=5.00 for T=  9498 logg=6.69\n",
      "Changing to logg=5.00 for T=  1962 logg=4.44\n",
      "Changing to T=  1200 for T=   750 logg=4.44\n",
      "Changing to logg=5.00 for T=  1904 logg=4.44\n",
      "Changing to logg=5.00 for T=  1616 logg=4.44\n",
      "Changing to logg=5.00 for T=  1847 logg=4.44\n",
      "Changing to T=  1200 for T=   923 logg=4.44\n",
      "Changing to logg=5.00 for T=  1500 logg=4.44\n",
      "Changing to logg=5.00 for T=  1616 logg=4.44\n",
      "Changing to T=  1200 for T=   808 logg=4.44\n",
      "Changing to logg=5.00 for T=  1847 logg=4.44\n",
      "Changing to logg=5.00 for T=  1962 logg=4.44\n",
      "Changing to logg=5.00 for T=  1616 logg=4.44\n",
      "Changing to logg=5.00 for T=  1904 logg=4.44\n",
      "Changing to T=  1200 for T=   808 logg=4.44\n",
      "Changing to logg=5.00 for T=  1904 logg=4.44\n",
      "Changing to logg=5.00 for T=  1500 logg=4.44\n",
      "Changing to T=  1200 for T=   808 logg=4.44\n",
      "Changing to logg=5.00 for T=  1616 logg=4.44\n",
      "Changing to logg=5.00 for T=  1962 logg=4.44\n",
      "Changing to logg=5.00 for T=  1904 logg=4.44\n",
      "Changing to T=  1200 for T=   923 logg=4.44\n"
     ]
    },
    {
     "name": "stdout",
     "output_type": "stream",
     "text": [
      "Making photometry for isochrone: log(t) = 9.30  AKs = 0.00  dist = 1000\n",
      "     Starting at:  2020-12-21 14:40:07.637716   Usually takes ~5 minutes\n",
      "Starting filter: ubv,U   Elapsed time: 0.00 seconds\n",
      "Starting synthetic photometry\n",
      "Singles\n",
      "M =   1.660 Msun  T =  6033 K  m_ubv_U = 12.85\n",
      "M =   3.300 Msun  T =  8113 K  m_ubv_U = 22.94\n",
      "Primaries\n",
      "M =   2.300 Msun  T =  8212 K  m_ubv_U = 22.53\n",
      "M =   0.251 Msun  T =   nan K  m_ubv_U =  nan\n",
      "M =   1.259 Msun  T =   nan K  m_ubv_U =  nan\n",
      "M =   0.794 Msun  T =   nan K  m_ubv_U =  nan\n",
      "M =   1.400 Msun  T =   nan K  m_ubv_U =  nan\n",
      "M =   3.000 Msun  T =  7674 K  m_ubv_U = 23.06\n",
      "M =   1.500 Msun  T =  6363 K  m_ubv_U = 13.19\n",
      "M =   3.000 Msun  T =  7674 K  m_ubv_U = 23.06\n",
      "M =   3.700 Msun  T =  8766 K  m_ubv_U = 22.82\n",
      "M =   3.700 Msun  T =  8727 K  m_ubv_U = 22.82\n",
      "M =   0.631 Msun  T =   nan K  m_ubv_U =  nan\n",
      "M =   1.700 Msun  T =  4918 K  m_ubv_U = 13.33\n",
      "M =   3.000 Msun  T =  7674 K  m_ubv_U = 23.06\n",
      "M =   1.400 Msun  T =  6410 K  m_ubv_U = 13.56\n",
      "M =   4.500 Msun  T =  8592 K  m_ubv_U = 23.07\n",
      "M =   3.000 Msun  T =  7660 K  m_ubv_U = 23.06\n",
      "M =   3.200 Msun  T = 11299 K  m_ubv_U = 22.91\n",
      "M =   1.700 Msun  T =  4918 K  m_ubv_U = 13.33\n",
      "M =   0.794 Msun  T =   nan K  m_ubv_U =  nan\n",
      "M =   2.700 Msun  T =  7896 K  m_ubv_U = 22.80\n",
      "M =   7.000 Msun  T = 13948 K  m_ubv_U = 23.05\n",
      "M =   1.100 Msun  T =  5926 K  m_ubv_U = 15.19\n",
      "M =   3.700 Msun  T =  8464 K  m_ubv_U = 23.09\n",
      "M =   0.501 Msun  T =   nan K  m_ubv_U =  nan\n",
      "M =   1.200 Msun  T =  6376 K  m_ubv_U = 13.05\n",
      "M =   1.700 Msun  T =  4918 K  m_ubv_U = 13.33\n",
      "M =   2.700 Msun  T =  7896 K  m_ubv_U = 22.80\n",
      "M =   1.900 Msun  T =  7820 K  m_ubv_U = 22.82\n",
      "M =   3.700 Msun  T =  8721 K  m_ubv_U = 22.82\n",
      "M =   0.631 Msun  T =   nan K  m_ubv_U =  nan\n",
      "M =   4.500 Msun  T =  8275 K  m_ubv_U = 23.16\n",
      "M =   1.100 Msun  T =  5931 K  m_ubv_U = 15.16\n",
      "M =   3.162 Msun  T =   nan K  m_ubv_U =  nan\n",
      "M =   1.600 Msun  T =  6178 K  m_ubv_U = 12.96\n",
      "M =   3.700 Msun  T =  8726 K  m_ubv_U = 22.82\n",
      "M =   0.631 Msun  T =   nan K  m_ubv_U =  nan\n",
      "M =   1.400 Msun  T =   nan K  m_ubv_U =  nan\n",
      "M =   5.000 Msun  T =  7979 K  m_ubv_U = 23.38\n",
      "M =   3.700 Msun  T =  8727 K  m_ubv_U = 22.82\n",
      "M =   5.500 Msun  T =  8569 K  m_ubv_U = 23.11\n",
      "M =   4.500 Msun  T =  7949 K  m_ubv_U = 23.30\n",
      "M =   2.100 Msun  T =  7499 K  m_ubv_U = 23.11\n",
      "M =   1.400 Msun  T =   nan K  m_ubv_U =  nan\n",
      "Secondaries\n",
      "M =   2.070 Msun  T =  6650 K  m_ubv_U = 11.43\n",
      "M =   1.700 Msun  T =  5223 K  m_ubv_U = 13.57\n",
      "M =   2.700 Msun  T =  7942 K  m_ubv_U = 22.79\n",
      "M =   2.100 Msun  T =  9610 K  m_ubv_U = 21.90\n",
      "M =   3.200 Msun  T =  7774 K  m_ubv_U = 23.03\n",
      "M =   0.300 Msun  T =  3548 K  m_ubv_U = 23.40\n",
      "M =   1.050 Msun  T =  5826 K  m_ubv_U = 15.53\n",
      "M =   2.700 Msun  T =  8181 K  m_ubv_U = 9.98\n",
      "M =   1.110 Msun  T =  5875 K  m_ubv_U = 15.34\n",
      "M =   2.960 Msun  T = 11247 K  m_ubv_U = 9.81\n",
      "M =   3.500 Msun  T =  8248 K  m_ubv_U = 22.91\n",
      "M =   0.340 Msun  T =  1962 K  m_ubv_U = 32.83\n",
      "M =   2.100 Msun  T =  9213 K  m_ubv_U = 11.44\n",
      "M =   0.840 Msun  T =  4847 K  m_ubv_U = 17.71\n",
      "M =   0.450 Msun  T =  3703 K  m_ubv_U = 22.26\n",
      "M =   0.900 Msun  T =  5179 K  m_ubv_U = 17.18\n",
      "M =   1.600 Msun  T =   nan K  m_ubv_U =  nan\n",
      "M =   0.850 Msun  T =  4905 K  m_ubv_U = 17.56\n",
      "M =   3.200 Msun  T =  7985 K  m_ubv_U = 22.97\n",
      "M =   2.160 Msun  T =  8666 K  m_ubv_U = 11.18\n",
      "M =   1.400 Msun  T =  6694 K  m_ubv_U = 13.78\n",
      "M =   0.770 Msun  T =  4443 K  m_ubv_U = 18.87\n",
      "M =   0.370 Msun  T =   nan K  m_ubv_U =  nan\n",
      "M =   6.500 Msun  T =  8644 K  m_ubv_U = 23.19\n",
      "M =   0.360 Msun  T =   nan K  m_ubv_U =  nan\n",
      "M =   1.530 Msun  T =  6523 K  m_ubv_U = 13.02\n",
      "M =   2.430 Msun  T =  8734 K  m_ubv_U = 10.06\n",
      "M =   0.380 Msun  T =   nan K  m_ubv_U =  nan\n",
      "M =   1.110 Msun  T =  5918 K  m_ubv_U = 15.31\n",
      "M =   4.500 Msun  T =  7808 K  m_ubv_U = 23.33\n",
      "M =   2.700 Msun  T =  9001 K  m_ubv_U = 9.56\n",
      "M =   0.110 Msun  T =  2876 K  m_ubv_U = 28.72\n",
      "M =   5.000 Msun  T =  8865 K  m_ubv_U = 23.03\n",
      "M =   1.120 Msun  T =  6061 K  m_ubv_U = 14.97\n",
      "M =   2.960 Msun  T = 11011 K  m_ubv_U = 9.80\n",
      "M =   1.700 Msun  T =  5540 K  m_ubv_U = 12.99\n",
      "M =   1.700 Msun  T =  4111 K  m_ubv_U = 14.17\n",
      "M =   3.500 Msun  T = 10599 K  m_ubv_U = 8.43\n",
      "M =   1.480 Msun  T =  7013 K  m_ubv_U = 13.39\n",
      "M =   1.650 Msun  T =  6302 K  m_ubv_U = 12.71\n",
      "M =   1.800 Msun  T =  6739 K  m_ubv_U = 11.72\n",
      "M =   0.840 Msun  T =   nan K  m_ubv_U =  nan\n",
      "M =   1.500 Msun  T =  6379 K  m_ubv_U = 13.21\n",
      "Starting filter: ubv,V   Elapsed time: 24.18 seconds\n",
      "Starting synthetic photometry\n",
      "Singles\n",
      "M =   1.660 Msun  T =  6033 K  m_ubv_V = 12.20\n",
      "M =   3.300 Msun  T =  8113 K  m_ubv_V = 23.24\n",
      "Primaries\n",
      "M =   2.300 Msun  T =  8212 K  m_ubv_V = 22.82\n",
      "M =   0.251 Msun  T =   nan K  m_ubv_V =  nan\n",
      "M =   1.259 Msun  T =   nan K  m_ubv_V =  nan\n",
      "M =   0.794 Msun  T =   nan K  m_ubv_V =  nan\n",
      "M =   1.400 Msun  T =   nan K  m_ubv_V =  nan\n",
      "M =   3.000 Msun  T =  7674 K  m_ubv_V = 23.30\n",
      "M =   1.500 Msun  T =  6363 K  m_ubv_V = 12.70\n",
      "M =   3.000 Msun  T =  7674 K  m_ubv_V = 23.30\n",
      "M =   3.700 Msun  T =  8766 K  m_ubv_V = 23.17\n",
      "M =   3.700 Msun  T =  8727 K  m_ubv_V = 23.17\n",
      "M =   0.631 Msun  T =   nan K  m_ubv_V =  nan\n",
      "M =   1.700 Msun  T =  4918 K  m_ubv_V = 11.68\n",
      "M =   3.000 Msun  T =  7674 K  m_ubv_V = 23.30\n",
      "M =   1.400 Msun  T =  6410 K  m_ubv_V = 13.09\n",
      "M =   4.500 Msun  T =  8592 K  m_ubv_V = 23.42\n",
      "M =   3.000 Msun  T =  7660 K  m_ubv_V = 23.31\n",
      "M =   3.200 Msun  T = 11299 K  m_ubv_V = 23.38\n",
      "M =   1.700 Msun  T =  4918 K  m_ubv_V = 11.68\n",
      "M =   0.794 Msun  T =   nan K  m_ubv_V =  nan\n",
      "M =   2.700 Msun  T =  7896 K  m_ubv_V = 23.07\n",
      "M =   7.000 Msun  T = 13948 K  m_ubv_V = 23.69\n",
      "M =   1.100 Msun  T =  5926 K  m_ubv_V = 14.50\n",
      "M =   3.700 Msun  T =  8464 K  m_ubv_V = 23.43\n",
      "M =   0.501 Msun  T =   nan K  m_ubv_V =  nan\n",
      "M =   1.200 Msun  T =  6376 K  m_ubv_V = 12.55\n",
      "M =   1.700 Msun  T =  4918 K  m_ubv_V = 11.68\n",
      "M =   2.700 Msun  T =  7896 K  m_ubv_V = 23.07\n",
      "M =   1.900 Msun  T =  7820 K  m_ubv_V = 23.08\n",
      "M =   3.700 Msun  T =  8721 K  m_ubv_V = 23.17\n",
      "M =   0.631 Msun  T =   nan K  m_ubv_V =  nan\n",
      "M =   4.500 Msun  T =  8275 K  m_ubv_V = 23.49\n",
      "M =   1.100 Msun  T =  5931 K  m_ubv_V = 14.47\n",
      "M =   3.162 Msun  T =   nan K  m_ubv_V =  nan\n",
      "M =   1.600 Msun  T =  6178 K  m_ubv_V = 12.38\n",
      "M =   3.700 Msun  T =  8726 K  m_ubv_V = 23.17\n",
      "M =   0.631 Msun  T =   nan K  m_ubv_V =  nan\n",
      "M =   1.400 Msun  T =   nan K  m_ubv_V =  nan\n",
      "M =   5.000 Msun  T =  7979 K  m_ubv_V = 23.68\n",
      "M =   3.700 Msun  T =  8727 K  m_ubv_V = 23.17\n",
      "M =   5.500 Msun  T =  8569 K  m_ubv_V = 23.46\n",
      "M =   4.500 Msun  T =  7949 K  m_ubv_V = 23.59\n",
      "M =   2.100 Msun  T =  7499 K  m_ubv_V = 23.33\n",
      "M =   1.400 Msun  T =   nan K  m_ubv_V =  nan\n",
      "Secondaries\n",
      "M =   2.070 Msun  T =  6650 K  m_ubv_V = 10.97\n",
      "M =   1.700 Msun  T =  5223 K  m_ubv_V = 12.31\n",
      "M =   2.700 Msun  T =  7942 K  m_ubv_V = 23.06\n",
      "M =   2.100 Msun  T =  9610 K  m_ubv_V = 22.22\n",
      "M =   3.200 Msun  T =  7774 K  m_ubv_V = 23.29\n",
      "M =   0.300 Msun  T =  3548 K  m_ubv_V = 21.00\n",
      "M =   1.050 Msun  T =  5826 K  m_ubv_V = 14.78\n",
      "M =   2.700 Msun  T =  8181 K  m_ubv_V = 9.73\n",
      "M =   1.110 Msun  T =  5875 K  m_ubv_V = 14.62\n",
      "M =   2.960 Msun  T = 11247 K  m_ubv_V = 10.11\n",
      "M =   3.500 Msun  T =  8248 K  m_ubv_V = 23.22\n",
      "M =   0.340 Msun  T =  1962 K  m_ubv_V = 27.93\n",
      "M =   2.100 Msun  T =  9213 K  m_ubv_V = 11.37\n",
      "M =   0.840 Msun  T =  4847 K  m_ubv_V = 16.05\n",
      "M =   0.450 Msun  T =  3703 K  m_ubv_V = 19.87\n",
      "M =   0.900 Msun  T =  5179 K  m_ubv_V = 15.89\n",
      "M =   1.600 Msun  T =   nan K  m_ubv_V =  nan\n",
      "M =   0.850 Msun  T =  4905 K  m_ubv_V = 15.96\n",
      "M =   3.200 Msun  T =  7985 K  m_ubv_V = 23.26\n",
      "M =   2.160 Msun  T =  8666 K  m_ubv_V = 11.01\n",
      "M =   1.400 Msun  T =  6694 K  m_ubv_V = 13.41\n",
      "M =   0.770 Msun  T =  4443 K  m_ubv_V = 16.77\n",
      "M =   0.370 Msun  T =   nan K  m_ubv_V =  nan\n",
      "M =   6.500 Msun  T =  8644 K  m_ubv_V = 23.55\n",
      "M =   0.360 Msun  T =   nan K  m_ubv_V =  nan\n",
      "M =   1.530 Msun  T =  6523 K  m_ubv_V = 12.58\n",
      "M =   2.430 Msun  T =  8734 K  m_ubv_V = 9.92\n",
      "M =   0.380 Msun  T =   nan K  m_ubv_V =  nan\n",
      "M =   1.110 Msun  T =  5918 K  m_ubv_V = 14.61\n",
      "M =   4.500 Msun  T =  7808 K  m_ubv_V = 23.60\n",
      "M =   2.700 Msun  T =  9001 K  m_ubv_V = 9.49\n",
      "M =   0.110 Msun  T =  2876 K  m_ubv_V = 25.86\n",
      "M =   5.000 Msun  T =  8865 K  m_ubv_V = 23.40\n",
      "M =   1.120 Msun  T =  6061 K  m_ubv_V = 14.36\n",
      "M =   2.960 Msun  T = 11011 K  m_ubv_V = 10.07\n"
     ]
    },
    {
     "name": "stdout",
     "output_type": "stream",
     "text": [
      "M =   1.700 Msun  T =  5540 K  m_ubv_V = 12.00\n",
      "M =   1.700 Msun  T =  4111 K  m_ubv_V = 11.18\n",
      "M =   3.500 Msun  T = 10599 K  m_ubv_V = 8.67\n",
      "M =   1.480 Msun  T =  7013 K  m_ubv_V = 13.07\n",
      "M =   1.650 Msun  T =  6302 K  m_ubv_V = 12.17\n",
      "M =   1.800 Msun  T =  6739 K  m_ubv_V = 11.29\n",
      "M =   0.840 Msun  T =   nan K  m_ubv_V =  nan\n",
      "M =   1.500 Msun  T =  6379 K  m_ubv_V = 12.72\n",
      "Starting filter: ubv,B   Elapsed time: 48.03 seconds\n",
      "Starting synthetic photometry\n",
      "Singles\n",
      "M =   1.660 Msun  T =  6033 K  m_ubv_B = 12.80\n",
      "M =   3.300 Msun  T =  8113 K  m_ubv_B = 23.53\n",
      "Primaries\n",
      "M =   2.300 Msun  T =  8212 K  m_ubv_B = 23.10\n",
      "M =   0.251 Msun  T =   nan K  m_ubv_B =  nan\n",
      "M =   1.259 Msun  T =   nan K  m_ubv_B =  nan\n",
      "M =   0.794 Msun  T =   nan K  m_ubv_B =  nan\n",
      "M =   1.400 Msun  T =   nan K  m_ubv_B =  nan\n",
      "M =   3.000 Msun  T =  7674 K  m_ubv_B = 23.62\n",
      "M =   1.500 Msun  T =  6363 K  m_ubv_B = 13.21\n",
      "M =   3.000 Msun  T =  7674 K  m_ubv_B = 23.62\n",
      "M =   3.700 Msun  T =  8766 K  m_ubv_B = 23.42\n",
      "M =   3.700 Msun  T =  8727 K  m_ubv_B = 23.43\n",
      "M =   0.631 Msun  T =   nan K  m_ubv_B =  nan\n",
      "M =   1.700 Msun  T =  4918 K  m_ubv_B = 12.68\n",
      "M =   3.000 Msun  T =  7674 K  m_ubv_B = 23.62\n",
      "M =   1.400 Msun  T =  6410 K  m_ubv_B = 13.59\n",
      "M =   4.500 Msun  T =  8592 K  m_ubv_B = 23.68\n",
      "M =   3.000 Msun  T =  7660 K  m_ubv_B = 23.62\n",
      "M =   3.200 Msun  T = 11299 K  m_ubv_B = 23.58\n",
      "M =   1.700 Msun  T =  4918 K  m_ubv_B = 12.68\n",
      "M =   0.794 Msun  T =   nan K  m_ubv_B =  nan\n",
      "M =   2.700 Msun  T =  7896 K  m_ubv_B = 23.37\n",
      "M =   7.000 Msun  T = 13948 K  m_ubv_B = 23.83\n",
      "M =   1.100 Msun  T =  5926 K  m_ubv_B = 15.15\n",
      "M =   3.700 Msun  T =  8464 K  m_ubv_B = 23.69\n",
      "M =   0.501 Msun  T =   nan K  m_ubv_B =  nan\n",
      "M =   1.200 Msun  T =  6376 K  m_ubv_B = 13.06\n",
      "M =   1.700 Msun  T =  4918 K  m_ubv_B = 12.68\n",
      "M =   2.700 Msun  T =  7896 K  m_ubv_B = 23.37\n",
      "M =   1.900 Msun  T =  7820 K  m_ubv_B = 23.39\n",
      "M =   3.700 Msun  T =  8721 K  m_ubv_B = 23.43\n",
      "M =   0.631 Msun  T =   nan K  m_ubv_B =  nan\n",
      "M =   4.500 Msun  T =  8275 K  m_ubv_B = 23.76\n",
      "M =   1.100 Msun  T =  5931 K  m_ubv_B = 15.12\n",
      "M =   3.162 Msun  T =   nan K  m_ubv_B =  nan\n",
      "M =   1.600 Msun  T =  6178 K  m_ubv_B = 12.94\n",
      "M =   3.700 Msun  T =  8726 K  m_ubv_B = 23.43\n",
      "M =   0.631 Msun  T =   nan K  m_ubv_B =  nan\n",
      "M =   1.400 Msun  T =   nan K  m_ubv_B =  nan\n",
      "M =   5.000 Msun  T =  7979 K  m_ubv_B = 23.97\n",
      "M =   3.700 Msun  T =  8727 K  m_ubv_B = 23.43\n",
      "M =   5.500 Msun  T =  8569 K  m_ubv_B = 23.72\n",
      "M =   4.500 Msun  T =  7949 K  m_ubv_B = 23.88\n",
      "M =   2.100 Msun  T =  7499 K  m_ubv_B = 23.67\n",
      "M =   1.400 Msun  T =   nan K  m_ubv_B =  nan\n",
      "Secondaries\n",
      "M =   2.070 Msun  T =  6650 K  m_ubv_B = 11.39\n",
      "M =   1.700 Msun  T =  5223 K  m_ubv_B = 13.19\n",
      "M =   2.700 Msun  T =  7942 K  m_ubv_B = 23.36\n",
      "M =   2.100 Msun  T =  9610 K  m_ubv_B = 22.45\n",
      "M =   3.200 Msun  T =  7774 K  m_ubv_B = 23.60\n",
      "M =   0.300 Msun  T =  3548 K  m_ubv_B = 22.36\n",
      "M =   1.050 Msun  T =  5826 K  m_ubv_B = 15.46\n",
      "M =   2.700 Msun  T =  8181 K  m_ubv_B = 9.84\n",
      "M =   1.110 Msun  T =  5875 K  m_ubv_B = 15.28\n",
      "M =   2.960 Msun  T = 11247 K  m_ubv_B = 10.03\n",
      "M =   3.500 Msun  T =  8248 K  m_ubv_B = 23.50\n",
      "M =   0.340 Msun  T =  1962 K  m_ubv_B = 30.46\n",
      "M =   2.100 Msun  T =  9213 K  m_ubv_B = 11.41\n",
      "M =   0.840 Msun  T =  4847 K  m_ubv_B = 17.03\n",
      "M =   0.450 Msun  T =  3703 K  m_ubv_B = 21.25\n",
      "M =   0.900 Msun  T =  5179 K  m_ubv_B = 16.77\n",
      "M =   1.600 Msun  T =   nan K  m_ubv_B =  nan\n",
      "M =   0.850 Msun  T =  4905 K  m_ubv_B = 16.92\n",
      "M =   3.200 Msun  T =  7985 K  m_ubv_B = 23.55\n",
      "M =   2.160 Msun  T =  8666 K  m_ubv_B = 11.09\n",
      "M =   1.400 Msun  T =  6694 K  m_ubv_B = 13.84\n",
      "M =   0.770 Msun  T =  4443 K  m_ubv_B = 17.91\n",
      "M =   0.370 Msun  T =   nan K  m_ubv_B =  nan\n",
      "M =   6.500 Msun  T =  8644 K  m_ubv_B = 23.80\n",
      "M =   0.360 Msun  T =   nan K  m_ubv_B =  nan\n",
      "M =   1.530 Msun  T =  6523 K  m_ubv_B = 13.04\n",
      "M =   2.430 Msun  T =  8734 K  m_ubv_B = 9.97\n",
      "M =   0.380 Msun  T =   nan K  m_ubv_B =  nan\n",
      "M =   1.110 Msun  T =  5918 K  m_ubv_B = 15.27\n",
      "M =   4.500 Msun  T =  7808 K  m_ubv_B = 23.90\n",
      "M =   2.700 Msun  T =  9001 K  m_ubv_B = 9.51\n",
      "M =   0.110 Msun  T =  2876 K  m_ubv_B = 27.29\n",
      "M =   5.000 Msun  T =  8865 K  m_ubv_B = 23.64\n",
      "M =   1.120 Msun  T =  6061 K  m_ubv_B = 14.96\n",
      "M =   2.960 Msun  T = 11011 K  m_ubv_B = 9.99\n",
      "M =   1.700 Msun  T =  5540 K  m_ubv_B = 12.77\n",
      "M =   1.700 Msun  T =  4111 K  m_ubv_B = 12.59\n",
      "M =   3.500 Msun  T = 10599 K  m_ubv_B = 8.60\n",
      "M =   1.480 Msun  T =  7013 K  m_ubv_B = 13.44\n",
      "M =   1.650 Msun  T =  6302 K  m_ubv_B = 12.70\n",
      "M =   1.800 Msun  T =  6739 K  m_ubv_B = 11.70\n",
      "M =   0.840 Msun  T =   nan K  m_ubv_B =  nan\n",
      "M =   1.500 Msun  T =  6379 K  m_ubv_B = 13.23\n",
      "Starting filter: ubv,R   Elapsed time: 71.69 seconds\n",
      "Starting synthetic photometry\n",
      "Singles\n",
      "M =   1.660 Msun  T =  6033 K  m_ubv_R = 11.90\n",
      "M =   3.300 Msun  T =  8113 K  m_ubv_R = 23.09\n",
      "Primaries\n",
      "M =   2.300 Msun  T =  8212 K  m_ubv_R = 22.67\n",
      "M =   0.251 Msun  T =   nan K  m_ubv_R =  nan\n",
      "M =   1.259 Msun  T =   nan K  m_ubv_R =  nan\n",
      "M =   0.794 Msun  T =   nan K  m_ubv_R =  nan\n",
      "M =   1.400 Msun  T =   nan K  m_ubv_R =  nan\n",
      "M =   3.000 Msun  T =  7674 K  m_ubv_R = 23.12\n",
      "M =   1.500 Msun  T =  6363 K  m_ubv_R = 12.43\n",
      "M =   3.000 Msun  T =  7674 K  m_ubv_R = 23.12\n",
      "M =   3.700 Msun  T =  8766 K  m_ubv_R = 23.05\n",
      "M =   3.700 Msun  T =  8727 K  m_ubv_R = 23.05\n",
      "M =   0.631 Msun  T =   nan K  m_ubv_R =  nan\n",
      "M =   1.700 Msun  T =  4918 K  m_ubv_R = 11.21\n",
      "M =   3.000 Msun  T =  7674 K  m_ubv_R = 23.12\n",
      "M =   1.400 Msun  T =  6410 K  m_ubv_R = 12.83\n",
      "M =   4.500 Msun  T =  8592 K  m_ubv_R = 23.29\n",
      "M =   3.000 Msun  T =  7660 K  m_ubv_R = 23.13\n",
      "M =   3.200 Msun  T = 11299 K  m_ubv_R = 23.37\n",
      "M =   1.700 Msun  T =  4918 K  m_ubv_R = 11.21\n",
      "M =   0.794 Msun  T =   nan K  m_ubv_R =  nan\n",
      "M =   2.700 Msun  T =  7896 K  m_ubv_R = 22.90\n",
      "M =   7.000 Msun  T = 13948 K  m_ubv_R = 23.72\n",
      "M =   1.100 Msun  T =  5926 K  m_ubv_R = 14.18\n",
      "M =   3.700 Msun  T =  8464 K  m_ubv_R = 23.29\n",
      "M =   0.501 Msun  T =   nan K  m_ubv_R =  nan\n",
      "M =   1.200 Msun  T =  6376 K  m_ubv_R = 12.29\n",
      "M =   1.700 Msun  T =  4918 K  m_ubv_R = 11.21\n",
      "M =   2.700 Msun  T =  7896 K  m_ubv_R = 22.90\n",
      "M =   1.900 Msun  T =  7820 K  m_ubv_R = 22.91\n",
      "M =   3.700 Msun  T =  8721 K  m_ubv_R = 23.05\n",
      "M =   0.631 Msun  T =   nan K  m_ubv_R =  nan\n",
      "M =   4.500 Msun  T =  8275 K  m_ubv_R = 23.34\n",
      "M =   1.100 Msun  T =  5931 K  m_ubv_R = 14.15\n",
      "M =   3.162 Msun  T =   nan K  m_ubv_R =  nan\n",
      "M =   1.600 Msun  T =  6178 K  m_ubv_R = 12.09\n",
      "M =   3.700 Msun  T =  8726 K  m_ubv_R = 23.05\n",
      "M =   0.631 Msun  T =   nan K  m_ubv_R =  nan\n",
      "M =   1.400 Msun  T =   nan K  m_ubv_R =  nan\n",
      "M =   5.000 Msun  T =  7979 K  m_ubv_R = 23.52\n",
      "M =   3.700 Msun  T =  8727 K  m_ubv_R = 23.05\n",
      "M =   5.500 Msun  T =  8569 K  m_ubv_R = 23.33\n",
      "M =   4.500 Msun  T =  7949 K  m_ubv_R = 23.43\n",
      "M =   2.100 Msun  T =  7499 K  m_ubv_R = 23.14\n",
      "M =   1.400 Msun  T =   nan K  m_ubv_R =  nan\n",
      "Secondaries\n",
      "M =   2.070 Msun  T =  6650 K  m_ubv_R = 10.75\n",
      "M =   1.700 Msun  T =  5223 K  m_ubv_R = 11.89\n",
      "M =   2.700 Msun  T =  7942 K  m_ubv_R = 22.90\n",
      "M =   2.100 Msun  T =  9610 K  m_ubv_R = 22.15\n",
      "M =   3.200 Msun  T =  7774 K  m_ubv_R = 23.12\n",
      "M =   0.300 Msun  T =  3548 K  m_ubv_R = 20.19\n",
      "M =   1.050 Msun  T =  5826 K  m_ubv_R = 14.44\n",
      "M =   2.700 Msun  T =  8181 K  m_ubv_R = 9.67\n",
      "M =   1.110 Msun  T =  5875 K  m_ubv_R = 14.29\n",
      "M =   2.960 Msun  T = 11247 K  m_ubv_R = 10.14\n",
      "M =   3.500 Msun  T =  8248 K  m_ubv_R = 23.08\n",
      "M =   0.340 Msun  T =  1962 K  m_ubv_R = 25.40\n",
      "M =   2.100 Msun  T =  9213 K  m_ubv_R = 11.36\n",
      "M =   0.840 Msun  T =  4847 K  m_ubv_R = 15.53\n",
      "M =   0.450 Msun  T =  3703 K  m_ubv_R = 19.07\n",
      "M =   0.900 Msun  T =  5179 K  m_ubv_R = 15.45\n",
      "M =   1.600 Msun  T =   nan K  m_ubv_R =  nan\n",
      "M =   0.850 Msun  T =  4905 K  m_ubv_R = 15.45\n",
      "M =   3.200 Msun  T =  7985 K  m_ubv_R = 23.10\n",
      "M =   2.160 Msun  T =  8666 K  m_ubv_R = 10.97\n",
      "M =   1.400 Msun  T =  6694 K  m_ubv_R = 13.17\n",
      "M =   0.770 Msun  T =  4443 K  m_ubv_R = 16.13\n",
      "M =   0.370 Msun  T =   nan K  m_ubv_R =  nan\n",
      "M =   6.500 Msun  T =  8644 K  m_ubv_R = 23.42\n",
      "M =   0.360 Msun  T =   nan K  m_ubv_R =  nan\n",
      "M =   1.530 Msun  T =  6523 K  m_ubv_R = 12.33\n",
      "M =   2.430 Msun  T =  8734 K  m_ubv_R = 9.90\n",
      "M =   0.380 Msun  T =   nan K  m_ubv_R =  nan\n",
      "M =   1.110 Msun  T =  5918 K  m_ubv_R = 14.29\n",
      "M =   4.500 Msun  T =  7808 K  m_ubv_R = 23.43\n"
     ]
    },
    {
     "name": "stdout",
     "output_type": "stream",
     "text": [
      "M =   2.700 Msun  T =  9001 K  m_ubv_R = 9.48\n",
      "M =   0.110 Msun  T =  2876 K  m_ubv_R = 24.45\n",
      "M =   5.000 Msun  T =  8865 K  m_ubv_R = 23.28\n",
      "M =   1.120 Msun  T =  6061 K  m_ubv_R = 14.05\n",
      "M =   2.960 Msun  T = 11011 K  m_ubv_R = 10.09\n",
      "M =   1.700 Msun  T =  5540 K  m_ubv_R = 11.63\n",
      "M =   1.700 Msun  T =  4111 K  m_ubv_R = 10.48\n",
      "M =   3.500 Msun  T = 10599 K  m_ubv_R = 8.69\n",
      "M =   1.480 Msun  T =  7013 K  m_ubv_R = 12.87\n",
      "M =   1.650 Msun  T =  6302 K  m_ubv_R = 11.90\n",
      "M =   1.800 Msun  T =  6739 K  m_ubv_R = 11.08\n",
      "M =   0.840 Msun  T =   nan K  m_ubv_R =  nan\n",
      "M =   1.500 Msun  T =  6379 K  m_ubv_R = 12.46\n",
      "Starting filter: ubv,I   Elapsed time: 94.59 seconds\n",
      "Starting synthetic photometry\n",
      "Singles\n",
      "M =   1.660 Msun  T =  6033 K  m_ubv_I = 11.52\n",
      "M =   3.300 Msun  T =  8113 K  m_ubv_I = 22.89\n",
      "Primaries\n",
      "M =   2.300 Msun  T =  8212 K  m_ubv_I = 22.49\n",
      "M =   0.251 Msun  T =   nan K  m_ubv_I =  nan\n",
      "M =   1.259 Msun  T =   nan K  m_ubv_I =  nan\n",
      "M =   0.794 Msun  T =   nan K  m_ubv_I =  nan\n",
      "M =   1.400 Msun  T =   nan K  m_ubv_I =  nan\n",
      "M =   3.000 Msun  T =  7674 K  m_ubv_I = 22.89\n",
      "M =   1.500 Msun  T =  6363 K  m_ubv_I = 12.11\n",
      "M =   3.000 Msun  T =  7674 K  m_ubv_I = 22.89\n",
      "M =   3.700 Msun  T =  8766 K  m_ubv_I = 22.90\n",
      "M =   3.700 Msun  T =  8727 K  m_ubv_I = 22.90\n",
      "M =   0.631 Msun  T =   nan K  m_ubv_I =  nan\n",
      "M =   1.700 Msun  T =  4918 K  m_ubv_I = 10.61\n",
      "M =   3.000 Msun  T =  7674 K  m_ubv_I = 22.89\n",
      "M =   1.400 Msun  T =  6410 K  m_ubv_I = 12.51\n",
      "M =   4.500 Msun  T =  8592 K  m_ubv_I = 23.12\n",
      "M =   3.000 Msun  T =  7660 K  m_ubv_I = 22.89\n",
      "M =   3.200 Msun  T = 11299 K  m_ubv_I = 23.37\n",
      "M =   1.700 Msun  T =  4918 K  m_ubv_I = 10.61\n",
      "M =   0.794 Msun  T =   nan K  m_ubv_I =  nan\n",
      "M =   2.700 Msun  T =  7896 K  m_ubv_I = 22.69\n",
      "M =   7.000 Msun  T = 13948 K  m_ubv_I = 23.82\n",
      "M =   1.100 Msun  T =  5926 K  m_ubv_I = 13.78\n",
      "M =   3.700 Msun  T =  8464 K  m_ubv_I = 23.12\n",
      "M =   0.501 Msun  T =   nan K  m_ubv_I =  nan\n",
      "M =   1.200 Msun  T =  6376 K  m_ubv_I = 11.97\n",
      "M =   1.700 Msun  T =  4918 K  m_ubv_I = 10.61\n",
      "M =   2.700 Msun  T =  7896 K  m_ubv_I = 22.69\n",
      "M =   1.900 Msun  T =  7820 K  m_ubv_I = 22.69\n",
      "M =   3.700 Msun  T =  8721 K  m_ubv_I = 22.90\n",
      "M =   0.631 Msun  T =   nan K  m_ubv_I =  nan\n",
      "M =   4.500 Msun  T =  8275 K  m_ubv_I = 23.15\n",
      "M =   1.100 Msun  T =  5931 K  m_ubv_I = 13.76\n",
      "M =   3.162 Msun  T =   nan K  m_ubv_I =  nan\n",
      "M =   1.600 Msun  T =  6178 K  m_ubv_I = 11.74\n",
      "M =   3.700 Msun  T =  8726 K  m_ubv_I = 22.90\n",
      "M =   0.631 Msun  T =   nan K  m_ubv_I =  nan\n",
      "M =   1.400 Msun  T =   nan K  m_ubv_I =  nan\n",
      "M =   5.000 Msun  T =  7979 K  m_ubv_I = 23.30\n",
      "M =   3.700 Msun  T =  8727 K  m_ubv_I = 22.90\n",
      "M =   5.500 Msun  T =  8569 K  m_ubv_I = 23.16\n",
      "M =   4.500 Msun  T =  7949 K  m_ubv_I = 23.21\n",
      "M =   2.100 Msun  T =  7499 K  m_ubv_I = 22.89\n",
      "M =   1.400 Msun  T =   nan K  m_ubv_I =  nan\n",
      "Secondaries\n",
      "M =   2.070 Msun  T =  6650 K  m_ubv_I = 10.47\n",
      "M =   1.700 Msun  T =  5223 K  m_ubv_I = 11.37\n",
      "M =   2.700 Msun  T =  7942 K  m_ubv_I = 22.68\n",
      "M =   2.100 Msun  T =  9610 K  m_ubv_I = 22.08\n",
      "M =   3.200 Msun  T =  7774 K  m_ubv_I = 22.89\n",
      "M =   0.300 Msun  T =  3548 K  m_ubv_I = 18.65\n",
      "M =   1.050 Msun  T =  5826 K  m_ubv_I = 14.03\n",
      "M =   2.700 Msun  T =  8181 K  m_ubv_I = 9.59\n",
      "M =   1.110 Msun  T =  5875 K  m_ubv_I = 13.89\n",
      "M =   2.960 Msun  T = 11247 K  m_ubv_I = 10.20\n",
      "M =   3.500 Msun  T =  8248 K  m_ubv_I = 22.89\n",
      "M =   0.340 Msun  T =  1962 K  m_ubv_I = 21.41\n",
      "M =   2.100 Msun  T =  9213 K  m_ubv_I = 11.35\n",
      "M =   0.840 Msun  T =  4847 K  m_ubv_I = 14.92\n",
      "M =   0.450 Msun  T =  3703 K  m_ubv_I = 17.78\n",
      "M =   0.900 Msun  T =  5179 K  m_ubv_I = 14.92\n",
      "M =   1.600 Msun  T =   nan K  m_ubv_I =  nan\n",
      "M =   0.850 Msun  T =  4905 K  m_ubv_I = 14.85\n",
      "M =   3.200 Msun  T =  7985 K  m_ubv_I = 22.89\n",
      "M =   2.160 Msun  T =  8666 K  m_ubv_I = 10.93\n",
      "M =   1.400 Msun  T =  6694 K  m_ubv_I = 12.89\n",
      "M =   0.770 Msun  T =  4443 K  m_ubv_I = 15.39\n",
      "M =   0.370 Msun  T =   nan K  m_ubv_I =  nan\n",
      "M =   6.500 Msun  T =  8644 K  m_ubv_I = 23.26\n",
      "M =   0.360 Msun  T =   nan K  m_ubv_I =  nan\n",
      "M =   1.530 Msun  T =  6523 K  m_ubv_I = 12.03\n",
      "M =   2.430 Msun  T =  8734 K  m_ubv_I = 9.86\n",
      "M =   0.380 Msun  T =   nan K  m_ubv_I =  nan\n",
      "M =   1.110 Msun  T =  5918 K  m_ubv_I = 13.90\n",
      "M =   4.500 Msun  T =  7808 K  m_ubv_I = 23.20\n",
      "M =   2.700 Msun  T =  9001 K  m_ubv_I = 9.45\n",
      "M =   0.110 Msun  T =  2876 K  m_ubv_I = 21.37\n",
      "M =   5.000 Msun  T =  8865 K  m_ubv_I = 23.14\n",
      "M =   1.120 Msun  T =  6061 K  m_ubv_I = 13.68\n",
      "M =   2.960 Msun  T = 11011 K  m_ubv_I = 10.14\n",
      "M =   1.700 Msun  T =  5540 K  m_ubv_I = 11.17\n",
      "M =   1.700 Msun  T =  4111 K  m_ubv_I = 9.61\n",
      "M =   3.500 Msun  T = 10599 K  m_ubv_I = 8.73\n",
      "M =   1.480 Msun  T =  7013 K  m_ubv_I = 12.64\n",
      "M =   1.650 Msun  T =  6302 K  m_ubv_I = 11.57\n",
      "M =   1.800 Msun  T =  6739 K  m_ubv_I = 10.81\n",
      "M =   0.840 Msun  T =   nan K  m_ubv_I =  nan\n",
      "M =   1.500 Msun  T =  6379 K  m_ubv_I = 12.14\n",
      "      Time taken: 117.44 seconds\n",
      "Isochrone generation took 680.144154 s.\n"
     ]
    }
   ],
   "source": [
    "import spisea\n",
    "from spisea import evolution, synthetic\n",
    "import math\n",
    "# Check if the evolution class works fine\n",
    "import time\n",
    "t1=time.time()\n",
    "bps=evolution.BPASS()\n",
    "iso1=synthetic.Isochrone_Binary(9.3, 0.0, 1000,math.log10(1), mass_sampling=1, filepath='/g/lu/scratch/ryotainagaki/BPASS_iso_filesTimedIsolated/')"
   ]
  },
  {
   "cell_type": "markdown",
   "metadata": {},
   "source": [
    "As a sanity check, I would like to make sure that, for primary stars, we only have (from the isochrone) designated phase 5 stars ( anything that is not a compact remnant), white dwarves (models with phase 101), and non-white dwarf compact remnants that are  NEWSECMODS primaries (models with phase 110). Also make sure that our secondary stars are non-compact-remnant, white dwarves, or are merged."
   ]
  },
  {
   "cell_type": "code",
   "execution_count": 2,
   "metadata": {},
   "outputs": [
    {
     "data": {
      "text/plain": [
       "True"
      ]
     },
     "execution_count": 2,
     "metadata": {},
     "output_type": "execute_result"
    }
   ],
   "source": [
    "import numpy as np\n",
    "np.all([(x==5 or x==101 or x==110) for x in iso1.primaries['phase']])"
   ]
  },
  {
   "cell_type": "code",
   "execution_count": 3,
   "metadata": {},
   "outputs": [
    {
     "data": {
      "text/plain": [
       "True"
      ]
     },
     "execution_count": 3,
     "metadata": {},
     "output_type": "execute_result"
    }
   ],
   "source": [
    "np.all([(x==5 or x==101) for x in iso1.singles['phase']])"
   ]
  },
  {
   "cell_type": "code",
   "execution_count": 4,
   "metadata": {},
   "outputs": [
    {
     "data": {
      "text/plain": [
       "True"
      ]
     },
     "execution_count": 4,
     "metadata": {},
     "output_type": "execute_result"
    }
   ],
   "source": [
    "np.all([(x==5 or x==101 or x==-99) for x in iso1.secondaries['phase']])"
   ]
  },
  {
   "cell_type": "markdown",
   "metadata": {},
   "source": [
    "Find the maximum, mean, and median  values of logg (cgs) for primaries, single stars, and secondaries. "
   ]
  },
  {
   "cell_type": "code",
   "execution_count": 5,
   "metadata": {},
   "outputs": [
    {
     "data": {
      "text/plain": [
       "9.294869501162154"
      ]
     },
     "execution_count": 5,
     "metadata": {},
     "output_type": "execute_result"
    }
   ],
   "source": [
    "import numpy as np\n",
    "np.max(iso1.singles['logg'])"
   ]
  },
  {
   "cell_type": "code",
   "execution_count": 6,
   "metadata": {},
   "outputs": [
    {
     "data": {
      "text/plain": [
       "9.288600394549206"
      ]
     },
     "execution_count": 6,
     "metadata": {},
     "output_type": "execute_result"
    }
   ],
   "source": [
    "import numpy as np\n",
    "np.max(np.nan_to_num(iso1.primaries['logg'], -np.inf))"
   ]
  },
  {
   "cell_type": "code",
   "execution_count": 7,
   "metadata": {},
   "outputs": [
    {
     "data": {
      "text/plain": [
       "9.283702439639246"
      ]
     },
     "execution_count": 7,
     "metadata": {},
     "output_type": "execute_result"
    }
   ],
   "source": [
    "np.max(np.nan_to_num(iso1.secondaries['logg']))"
   ]
  },
  {
   "cell_type": "code",
   "execution_count": 8,
   "metadata": {},
   "outputs": [
    {
     "data": {
      "text/plain": [
       "6.451972664367584"
      ]
     },
     "execution_count": 8,
     "metadata": {},
     "output_type": "execute_result"
    }
   ],
   "source": [
    "np.mean(iso1.singles['logg'])"
   ]
  },
  {
   "cell_type": "code",
   "execution_count": 9,
   "metadata": {},
   "outputs": [
    {
     "data": {
      "text/plain": [
       "4.464233064697966"
      ]
     },
     "execution_count": 9,
     "metadata": {},
     "output_type": "execute_result"
    }
   ],
   "source": [
    "np.mean((np.nan_to_num(iso1.secondaries['logg'])))"
   ]
  },
  {
   "cell_type": "code",
   "execution_count": 10,
   "metadata": {},
   "outputs": [
    {
     "data": {
      "text/plain": [
       "4.5369118123477215"
      ]
     },
     "execution_count": 10,
     "metadata": {},
     "output_type": "execute_result"
    }
   ],
   "source": [
    "np.mean((np.nan_to_num(iso1.primaries['logg'])))"
   ]
  },
  {
   "cell_type": "code",
   "execution_count": 11,
   "metadata": {},
   "outputs": [
    {
     "data": {
      "text/plain": [
       "7.9322176580477315"
      ]
     },
     "execution_count": 11,
     "metadata": {},
     "output_type": "execute_result"
    }
   ],
   "source": [
    "np.median(iso1.singles['logg'])"
   ]
  },
  {
   "cell_type": "code",
   "execution_count": 12,
   "metadata": {},
   "outputs": [
    {
     "data": {
      "text/plain": [
       "nan"
      ]
     },
     "execution_count": 12,
     "metadata": {},
     "output_type": "execute_result"
    }
   ],
   "source": [
    "np.median(iso1.primaries['logg'])"
   ]
  },
  {
   "cell_type": "code",
   "execution_count": 13,
   "metadata": {},
   "outputs": [
    {
     "data": {
      "text/html": [
       "&lt;Column name=&apos;logg&apos; dtype=&apos;float64&apos; unit=&apos;&apos; length=4261&gt;\n",
       "<table>\n",
       "<tr><td>7.935611004110614</td></tr>\n",
       "<tr><td>8.427172319392993</td></tr>\n",
       "<tr><td>3.8041676099590584</td></tr>\n",
       "<tr><td>8.554753450326157</td></tr>\n",
       "<tr><td>3.9606588863588144</td></tr>\n",
       "<tr><td>8.411199811721845</td></tr>\n",
       "<tr><td>8.359929254625847</td></tr>\n",
       "<tr><td>4.0995356629813715</td></tr>\n",
       "<tr><td>4.0995356629813715</td></tr>\n",
       "<tr><td>3.7969076099590584</td></tr>\n",
       "<tr><td>nan</td></tr>\n",
       "<tr><td>4.4039403124613585</td></tr>\n",
       "<tr><td>...</td></tr>\n",
       "<tr><td>8.033070825556624</td></tr>\n",
       "<tr><td>4.4039403124613585</td></tr>\n",
       "<tr><td>nan</td></tr>\n",
       "<tr><td>nan</td></tr>\n",
       "<tr><td>8.39351128933436</td></tr>\n",
       "<tr><td>3.4624365486814073</td></tr>\n",
       "<tr><td>3.4624365486814073</td></tr>\n",
       "<tr><td>8.265879327723244</td></tr>\n",
       "<tr><td>4.4039403124613585</td></tr>\n",
       "<tr><td>3.7969076099590584</td></tr>\n",
       "<tr><td>3.7969076099590584</td></tr>\n",
       "<tr><td>3.9606588863588144</td></tr>\n",
       "</table>"
      ],
      "text/plain": [
       "<Column name='logg' dtype='float64' unit='' length=4261>\n",
       " 7.935611004110614\n",
       " 8.427172319392993\n",
       "3.8041676099590584\n",
       " 8.554753450326157\n",
       "3.9606588863588144\n",
       " 8.411199811721845\n",
       " 8.359929254625847\n",
       "4.0995356629813715\n",
       "4.0995356629813715\n",
       "3.7969076099590584\n",
       "               nan\n",
       "4.4039403124613585\n",
       "               ...\n",
       " 8.033070825556624\n",
       "4.4039403124613585\n",
       "               nan\n",
       "               nan\n",
       "  8.39351128933436\n",
       "3.4624365486814073\n",
       "3.4624365486814073\n",
       " 8.265879327723244\n",
       "4.4039403124613585\n",
       "3.7969076099590584\n",
       "3.7969076099590584\n",
       "3.9606588863588144"
      ]
     },
     "execution_count": 13,
     "metadata": {},
     "output_type": "execute_result"
    }
   ],
   "source": [
    "iso1.primaries['logg']"
   ]
  },
  {
   "cell_type": "code",
   "execution_count": 14,
   "metadata": {},
   "outputs": [
    {
     "data": {
      "text/plain": [
       "Text(0.5, 0, 'logg in cgs')"
      ]
     },
     "execution_count": 14,
     "metadata": {},
     "output_type": "execute_result"
    },
    {
     "data": {
      "image/png": "[encoded data removed]",
      "text/plain": [
       "<Figure size 432x288 with 1 Axes>"
      ]
     },
     "metadata": {
      "needs_background": "light"
     },
     "output_type": "display_data"
    }
   ],
   "source": [
    "import matplotlib.pyplot as plt\n",
    "plt.title(\"Histogram of logg values (secondaries) of BPASS isochrone\")\n",
    "plt.hist(np.array([x for x in iso1.secondaries['logg'] if np.isfinite(x)]), np.arange(-10, 30, 1))\n",
    "plt.xlabel(\"logg in cgs\")"
   ]
  },
  {
   "cell_type": "code",
   "execution_count": 15,
   "metadata": {},
   "outputs": [
    {
     "data": {
      "text/plain": [
       "Text(0.5, 0, 'logg in cgs')"
      ]
     },
     "execution_count": 15,
     "metadata": {},
     "output_type": "execute_result"
    },
    {
     "data": {
      "image/png": "[encoded data removed]",
      "text/plain": [
       "<Figure size 432x288 with 1 Axes>"
      ]
     },
     "metadata": {
      "needs_background": "light"
     },
     "output_type": "display_data"
    }
   ],
   "source": [
    "import matplotlib.pyplot as plt\n",
    "plt.title(\"Histogram of logg values (primaries) of BPASS isochrone\")\n",
    "plt.hist(np.array([x for x in iso1.primaries['logg'] if np.isfinite(x)]), np.arange(-10, 30, 1))\n",
    "plt.xlabel(\"logg in cgs\")"
   ]
  },
  {
   "cell_type": "code",
   "execution_count": 16,
   "metadata": {},
   "outputs": [
    {
     "data": {
      "text/plain": [
       "Text(0.5, 0, 'logg in cgs')"
      ]
     },
     "execution_count": 16,
     "metadata": {},
     "output_type": "execute_result"
    },
    {
     "data": {
      "image/png": "[encoded data removed]",
      "text/plain": [
       "<Figure size 432x288 with 1 Axes>"
      ]
     },
     "metadata": {
      "needs_background": "light"
     },
     "output_type": "display_data"
    }
   ],
   "source": [
    "import matplotlib.pyplot as plt\n",
    "plt.title(\"Histogram of logg values single stars of BPASS isochrone\")\n",
    "plt.hist(np.array([x for x in iso1.singles['logg'] if np.isfinite(x)]), np.arange(0, 30, 1))\n",
    "plt.xlabel(\"logg in cgs\")"
   ]
  },
  {
   "cell_type": "code",
   "execution_count": 17,
   "metadata": {},
   "outputs": [
    {
     "data": {
      "text/plain": [
       "<matplotlib.legend.Legend at 0x7ff824f5aef0>"
      ]
     },
     "execution_count": 17,
     "metadata": {},
     "output_type": "execute_result"
    },
    {
     "data": {
      "image/png": "[encoded data removed]",
      "text/plain": [
       "<Figure size 432x288 with 1 Axes>"
      ]
     },
     "metadata": {
      "needs_background": "light"
     },
     "output_type": "display_data"
    }
   ],
   "source": [
    "import matplotlib.pyplot as plt\n",
    "indices1= np.where(iso1.singles['logg']>5)[0]\n",
    "indices2= np.where(iso1.primaries['logg']>5)[0]\n",
    "indices3= np.where(iso1.secondaries['logg']>5)[0]\n",
    "plt.plot(iso1.primaries['m_ubv_B'][indices2]-iso1.primaries[\"m_ubv_V\"][indices2], iso1.primaries[\"m_ubv_V\"][indices2]-5*np.log10(100), \"r.\")\n",
    "plt.plot(iso1.secondaries['m_ubv_B'][indices3]-iso1.secondaries[\"m_ubv_V\"][indices3], iso1.secondaries[\"m_ubv_V\"][indices3]-5*np.log10(100), \"r.\")\n",
    "plt.plot(iso1.singles['m_ubv_B'][indices1]-iso1.singles[\"m_ubv_V\"][indices1], iso1.singles[\"m_ubv_V\"][indices1]-5*np.log10(100), \"r.\", label=\"BPASS isochrone\")\n",
    "plt.xlabel(\"B-V\")\n",
    "plt.ylabel(\"M_V\")\n",
    "plt.title(\"Color magnitude Diagram of Isochrones at 0.1Z_solar and 10**9.3 years age\")\n",
    "plt.gca().invert_yaxis()\n",
    "plt.legend()"
   ]
  },
  {
   "cell_type": "code",
   "execution_count": 18,
   "metadata": {},
   "outputs": [
    {
     "name": "stderr",
     "output_type": "stream",
     "text": [
      "/opt/anaconda3/envs/astroconda/lib/python3.7/site-packages/astropy/table/column.py:1020: RuntimeWarning: invalid value encountered in less\n",
      "  result = getattr(super(), op)(other)\n"
     ]
    }
   ],
   "source": [
    "indices2= np.where((iso1.primaries['logg']>5) & (iso1.primaries['m_ubv_B']-iso1.primaries['m_ubv_V']>-0.4) & (iso1.primaries['m_ubv_B']-iso1.primaries['m_ubv_V']<-0.2))[0]"
   ]
  },
  {
   "cell_type": "code",
   "execution_count": 19,
   "metadata": {},
   "outputs": [
    {
     "data": {
      "text/html": [
       "&lt;Column name=&apos;phase&apos; dtype=&apos;float64&apos; length=1&gt;\n",
       "<table>\n",
       "<tr><td>5.0</td></tr>\n",
       "</table>"
      ],
      "text/plain": [
       "<Column name='phase' dtype='float64' length=1>\n",
       "5.0"
      ]
     },
     "execution_count": 19,
     "metadata": {},
     "output_type": "execute_result"
    }
   ],
   "source": [
    "np.unique(iso1.primaries[indices2]['phase'])"
   ]
  },
  {
   "cell_type": "code",
   "execution_count": 20,
   "metadata": {},
   "outputs": [],
   "source": [
    "indices2= np.where((iso1.primaries['m_ubv_B']-iso1.primaries['m_ubv_V']>1.2) & (iso1.primaries['m_ubv_B']-iso1.primaries['m_ubv_V']<1.5))[0]"
   ]
  },
  {
   "cell_type": "code",
   "execution_count": 21,
   "metadata": {},
   "outputs": [
    {
     "data": {
      "text/plain": [
       "array([ 366,  822,  938, 1859, 1862, 2552, 2609, 2799, 3062, 3478, 3998])"
      ]
     },
     "execution_count": 21,
     "metadata": {},
     "output_type": "execute_result"
    }
   ],
   "source": [
    "indices2"
   ]
  },
  {
   "cell_type": "code",
   "execution_count": 22,
   "metadata": {},
   "outputs": [
    {
     "data": {
      "text/html": [
       "&lt;Column name=&apos;phase&apos; dtype=&apos;float64&apos; length=1&gt;\n",
       "<table>\n",
       "<tr><td>5.0</td></tr>\n",
       "</table>"
      ],
      "text/plain": [
       "<Column name='phase' dtype='float64' length=1>\n",
       "5.0"
      ]
     },
     "execution_count": 22,
     "metadata": {},
     "output_type": "execute_result"
    }
   ],
   "source": [
    "np.unique(iso1.primaries['phase'][indices2])"
   ]
  },
  {
   "cell_type": "code",
   "execution_count": 23,
   "metadata": {},
   "outputs": [
    {
     "data": {
      "text/html": [
       "<i>Table length=11</i>\n",
       "<table id=\"table140704166021328\" class=\"table-striped table-bordered table-condensed\">\n",
       "<thead><tr><th>mass</th><th>L</th><th>Teff</th><th>R</th><th>logg</th><th>isWR</th><th>mass_current</th><th>phase</th><th>source</th><th>m_ubv_U</th><th>m_ubv_V</th><th>m_ubv_B</th><th>m_ubv_R</th><th>m_ubv_I</th></tr></thead>\n",
       "<thead><tr><th>solMass</th><th>W</th><th>K</th><th>m</th><th></th><th></th><th>solMass</th><th></th><th></th><th></th><th></th><th></th><th></th><th></th></tr></thead>\n",
       "<thead><tr><th>float64</th><th>float64</th><th>float64</th><th>float64</th><th>float64</th><th>bool</th><th>float64</th><th>float64</th><th>int64</th><th>float64</th><th>float64</th><th>float64</th><th>float64</th><th>float64</th></tr></thead>\n",
       "<tr><td>1.3</td><td>4.426820669893006e+28</td><td>4453.074900454848</td><td>12569417859.54888</td><td>2.1532565486814073</td><td>False</td><td>1.7</td><td>5.0</td><td>1</td><td>12.603484684052491</td><td>10.178792330817375</td><td>11.415650713000225</td><td>9.594408386337824</td><td>8.861021886360154</td></tr>\n",
       "<tr><td>0.9</td><td>4.426820669893006e+28</td><td>4453.074900454848</td><td>12569417859.54888</td><td>2.1532565486814073</td><td>False</td><td>1.7</td><td>5.0</td><td>1</td><td>12.603484684052491</td><td>10.178792330817375</td><td>11.415650713000225</td><td>9.594408386337824</td><td>8.861021886360154</td></tr>\n",
       "<tr><td>1.1</td><td>4.426820669893006e+28</td><td>4453.074900454848</td><td>12569417859.54888</td><td>2.1532565486814073</td><td>False</td><td>1.7</td><td>5.0</td><td>1</td><td>12.603484684052491</td><td>10.178792330817375</td><td>11.415650713000225</td><td>9.594408386337824</td><td>8.861021886360154</td></tr>\n",
       "<tr><td>1.1</td><td>4.426820669893006e+28</td><td>4453.074900454848</td><td>12569417859.54888</td><td>2.1532565486814073</td><td>False</td><td>1.7</td><td>5.0</td><td>1</td><td>12.603484684052491</td><td>10.178792330817375</td><td>11.415650713000225</td><td>9.594408386337824</td><td>8.861021886360154</td></tr>\n",
       "<tr><td>1.1</td><td>4.426820669893006e+28</td><td>4453.074900454848</td><td>12569417859.54888</td><td>2.1532565486814073</td><td>False</td><td>1.7</td><td>5.0</td><td>1</td><td>12.603484684052491</td><td>10.178792330817375</td><td>11.415650713000225</td><td>9.594408386337824</td><td>8.861021886360154</td></tr>\n",
       "<tr><td>1.3</td><td>4.426820669893006e+28</td><td>4453.074900454848</td><td>12569417859.54888</td><td>2.1532565486814073</td><td>False</td><td>1.7</td><td>5.0</td><td>1</td><td>12.603484684052491</td><td>10.178792330817375</td><td>11.415650713000225</td><td>9.594408386337824</td><td>8.861021886360154</td></tr>\n",
       "<tr><td>1.7</td><td>5.137974317717312e+28</td><td>4404.940028070771</td><td>13839014495.427975</td><td>2.0696965486814074</td><td>False</td><td>1.7</td><td>5.0</td><td>1</td><td>12.566845904795212</td><td>10.054372135766837</td><td>11.315487387589657</td><td>9.456787190032548</td><td>8.706427674755046</td></tr>\n",
       "<tr><td>1.3</td><td>4.426820669893006e+28</td><td>4453.074900454848</td><td>12569417859.54888</td><td>2.1532565486814073</td><td>False</td><td>1.7</td><td>5.0</td><td>1</td><td>12.603484684052491</td><td>10.178792330817375</td><td>11.415650713000225</td><td>9.594408386337824</td><td>8.861021886360154</td></tr>\n",
       "<tr><td>1.3</td><td>4.426820669893006e+28</td><td>4453.074900454848</td><td>12569417859.54888</td><td>2.1532565486814073</td><td>False</td><td>1.7</td><td>5.0</td><td>1</td><td>12.603484684052491</td><td>10.178792330817375</td><td>11.415650713000225</td><td>9.594408386337824</td><td>8.861021886360154</td></tr>\n",
       "<tr><td>0.9</td><td>4.426820669893006e+28</td><td>4453.074900454848</td><td>12569417859.54888</td><td>2.1532565486814073</td><td>False</td><td>1.7</td><td>5.0</td><td>1</td><td>12.603484684052491</td><td>10.178792330817375</td><td>11.415650713000225</td><td>9.594408386337824</td><td>8.861021886360154</td></tr>\n",
       "<tr><td>1.7</td><td>5.137974317717312e+28</td><td>4404.940028070771</td><td>13839014495.427975</td><td>2.0696965486814074</td><td>False</td><td>1.7</td><td>5.0</td><td>1</td><td>12.566845904795212</td><td>10.054372135766837</td><td>11.315487387589657</td><td>9.456787190032548</td><td>8.706427674755046</td></tr>\n",
       "</table>"
      ],
      "text/plain": [
       "<Table length=11>\n",
       "  mass            L           ...      m_ubv_R           m_ubv_I     \n",
       "solMass           W           ...                                    \n",
       "float64        float64        ...      float64           float64     \n",
       "------- --------------------- ... ----------------- -----------------\n",
       "    1.3 4.426820669893006e+28 ... 9.594408386337824 8.861021886360154\n",
       "    0.9 4.426820669893006e+28 ... 9.594408386337824 8.861021886360154\n",
       "    1.1 4.426820669893006e+28 ... 9.594408386337824 8.861021886360154\n",
       "    1.1 4.426820669893006e+28 ... 9.594408386337824 8.861021886360154\n",
       "    1.1 4.426820669893006e+28 ... 9.594408386337824 8.861021886360154\n",
       "    1.3 4.426820669893006e+28 ... 9.594408386337824 8.861021886360154\n",
       "    1.7 5.137974317717312e+28 ... 9.456787190032548 8.706427674755046\n",
       "    1.3 4.426820669893006e+28 ... 9.594408386337824 8.861021886360154\n",
       "    1.3 4.426820669893006e+28 ... 9.594408386337824 8.861021886360154\n",
       "    0.9 4.426820669893006e+28 ... 9.594408386337824 8.861021886360154\n",
       "    1.7 5.137974317717312e+28 ... 9.456787190032548 8.706427674755046"
      ]
     },
     "execution_count": 23,
     "metadata": {},
     "output_type": "execute_result"
    }
   ],
   "source": [
    "iso1.primaries[indices2]"
   ]
  },
  {
   "cell_type": "code",
   "execution_count": 24,
   "metadata": {},
   "outputs": [
    {
     "data": {
      "text/plain": [
       "<matplotlib.legend.Legend at 0x7ff848f3bba8>"
      ]
     },
     "execution_count": 24,
     "metadata": {},
     "output_type": "execute_result"
    },
    {
     "data": {
      "image/png": "[encoded data removed]",
      "text/plain": [
       "<Figure size 432x288 with 1 Axes>"
      ]
     },
     "metadata": {
      "needs_background": "light"
     },
     "output_type": "display_data"
    }
   ],
   "source": [
    "import matplotlib.pyplot as plt\n",
    "plt.plot(iso1.secondaries['m_ubv_B']-iso1.secondaries[\"m_ubv_V\"], iso1.secondaries[\"m_ubv_V\"]-5*np.log10(100), \"r.\", label=\"Secondary stars BPASS isochrone\")\n",
    "plt.xlabel(\"B-V\")\n",
    "plt.ylabel(\"M_V\")\n",
    "plt.title(\"Color magnitude Diagram of Isochrones at 0.1 x solar metallicity and 10**9.3 years age\")\n",
    "plt.gca().invert_yaxis()\n",
    "plt.legend()"
   ]
  },
  {
   "cell_type": "code",
   "execution_count": 25,
   "metadata": {},
   "outputs": [
    {
     "data": {
      "text/html": [
       "<i>Table length=58</i>\n",
       "<table id=\"table140704702970512\" class=\"table-striped table-bordered table-condensed\">\n",
       "<thead><tr><th>mass</th><th>log_a</th><th>L</th><th>Teff</th><th>R</th><th>logg</th><th>isWR</th><th>mass_current</th><th>phase</th><th>merged</th><th>source</th><th>m_ubv_U</th><th>m_ubv_V</th><th>m_ubv_B</th><th>m_ubv_R</th><th>m_ubv_I</th></tr></thead>\n",
       "<thead><tr><th>solMass</th><th></th><th>W</th><th>K</th><th>m</th><th></th><th></th><th>solMass</th><th></th><th></th><th></th><th></th><th></th><th></th><th></th><th></th></tr></thead>\n",
       "<thead><tr><th>float64</th><th>float64</th><th>float64</th><th>float64</th><th>float64</th><th>float64</th><th>bool</th><th>float64</th><th>float64</th><th>bool</th><th>int64</th><th>float64</th><th>float64</th><th>float64</th><th>float64</th><th>float64</th></tr></thead>\n",
       "<tr><td>0.13999999999999999</td><td>-0.44575340868802926</td><td>2.0587894263296398e+22</td><td>807.8672449883936</td><td>260304696.1995721</td><td>4.438075662981372</td><td>False</td><td>0.14</td><td>5.0</td><td>False</td><td>1</td><td>36.47495735298941</td><td>34.902989624084036</td><td>33.24034014893007</td><td>30.399518015663926</td><td>24.492568168372504</td></tr>\n",
       "<tr><td>0.13999999999999999</td><td>0.0875795913119708</td><td>2.0587894263296398e+22</td><td>807.8672449883936</td><td>260304696.1995721</td><td>4.438075662981372</td><td>False</td><td>0.14</td><td>5.0</td><td>False</td><td>1</td><td>36.47495735298941</td><td>34.902989624084036</td><td>33.24034014893007</td><td>30.399518015663926</td><td>24.492568168372504</td></tr>\n",
       "<tr><td>0.13999999999999999</td><td>-0.3124204086880291</td><td>2.0587894263296398e+22</td><td>807.8672449883936</td><td>260304696.1995721</td><td>4.438075662981372</td><td>False</td><td>0.14</td><td>5.0</td><td>False</td><td>1</td><td>36.47495735298941</td><td>34.902989624084036</td><td>33.24034014893007</td><td>30.399518015663926</td><td>24.492568168372504</td></tr>\n",
       "<tr><td>0.16000000000000003</td><td>-1.0930894086880292</td><td>4.013949729509597e+22</td><td>923.2727122989376</td><td>278280005.5567242</td><td>4.438067609959059</td><td>False</td><td>0.16</td><td>5.0</td><td>False</td><td>1</td><td>36.32996977715265</td><td>34.75799601291953</td><td>33.095349974125234</td><td>30.25452124804787</td><td>24.347567583369095</td></tr>\n",
       "<tr><td>0.13999999999999999</td><td>-0.5790864086880292</td><td>2.0587894263296398e+22</td><td>807.8672449883936</td><td>260304696.1995721</td><td>4.438075662981372</td><td>False</td><td>0.14</td><td>5.0</td><td>False</td><td>1</td><td>36.47495735298941</td><td>34.902989624084036</td><td>33.24034014893007</td><td>30.399518015663926</td><td>24.492568168372504</td></tr>\n",
       "<tr><td>0.13</td><td>0.8768515913119708</td><td>1.4213202025222475e+22</td><td>750.153258350221</td><td>250837234.12939957</td><td>4.43807097960997</td><td>False</td><td>0.13</td><td>5.0</td><td>False</td><td>1</td><td>36.55541457845449</td><td>34.98344333961485</td><td>33.32079586292777</td><td>30.479969895510337</td><td>24.573017828153834</td></tr>\n",
       "<tr><td>0.13</td><td>-1.6564815086880293</td><td>1.4213202025222475e+22</td><td>750.153258350221</td><td>250837234.12939957</td><td>4.43807097960997</td><td>False</td><td>0.13</td><td>5.0</td><td>False</td><td>1</td><td>36.55541457845449</td><td>34.98344333961485</td><td>33.32079586292777</td><td>30.479969895510337</td><td>24.573017828153834</td></tr>\n",
       "<tr><td>0.13</td><td>-0.4564814086880291</td><td>1.4213202025222475e+22</td><td>750.153258350221</td><td>250837234.12939957</td><td>4.43807097960997</td><td>False</td><td>0.13</td><td>5.0</td><td>False</td><td>1</td><td>36.55541457845449</td><td>34.98344333961485</td><td>33.32079586292777</td><td>30.479969895510337</td><td>24.573017828153834</td></tr>\n",
       "<tr><td>0.16000000000000003</td><td>0.106910591311971</td><td>4.013949729509597e+22</td><td>923.2727122989376</td><td>278280005.5567242</td><td>4.438067609959059</td><td>False</td><td>0.16</td><td>5.0</td><td>False</td><td>1</td><td>36.32996977715265</td><td>34.75799601291953</td><td>33.095349974125234</td><td>30.25452124804787</td><td>24.347567583369095</td></tr>\n",
       "<tr><td>...</td><td>...</td><td>...</td><td>...</td><td>...</td><td>...</td><td>...</td><td>...</td><td>...</td><td>...</td><td>...</td><td>...</td><td>...</td><td>...</td><td>...</td><td>...</td></tr>\n",
       "<tr><td>0.13</td><td>0.210185591311971</td><td>1.4213202025222475e+22</td><td>750.153258350221</td><td>250837234.12939957</td><td>4.43807097960997</td><td>False</td><td>0.13</td><td>5.0</td><td>False</td><td>1</td><td>36.55541457845449</td><td>34.98344333961485</td><td>33.32079586292777</td><td>30.479969895510337</td><td>24.573017828153834</td></tr>\n",
       "<tr><td>0.16000000000000003</td><td>-0.5597564086880291</td><td>4.013949729509597e+22</td><td>923.2727122989376</td><td>278280005.5567242</td><td>4.438067609959059</td><td>False</td><td>0.16</td><td>5.0</td><td>False</td><td>1</td><td>36.32996977715265</td><td>34.75799601291953</td><td>33.095349974125234</td><td>30.25452124804787</td><td>24.347567583369095</td></tr>\n",
       "<tr><td>0.13999999999999999</td><td>-1.5124199086880292</td><td>2.0587894263296398e+22</td><td>807.8672449883936</td><td>260304696.1995721</td><td>4.438075662981372</td><td>False</td><td>0.14</td><td>5.0</td><td>False</td><td>1</td><td>36.47495735298941</td><td>34.902989624084036</td><td>33.24034014893007</td><td>30.399518015663926</td><td>24.492568168372504</td></tr>\n",
       "<tr><td>0.13</td><td>1.0101855913119708</td><td>1.4213202025222475e+22</td><td>750.153258350221</td><td>250837234.12939957</td><td>4.43807097960997</td><td>False</td><td>0.13</td><td>5.0</td><td>False</td><td>1</td><td>36.55541457845449</td><td>34.98344333961485</td><td>33.32079586292777</td><td>30.479969895510337</td><td>24.573017828153834</td></tr>\n",
       "<tr><td>0.13</td><td>0.07685159131197095</td><td>1.4213202025222475e+22</td><td>750.153258350221</td><td>250837234.12939957</td><td>4.43807097960997</td><td>False</td><td>0.13</td><td>5.0</td><td>False</td><td>1</td><td>36.55541457845449</td><td>34.98344333961485</td><td>33.32079586292777</td><td>30.479969895510337</td><td>24.573017828153834</td></tr>\n",
       "<tr><td>0.16000000000000003</td><td>0.7735775913119709</td><td>4.013949729509597e+22</td><td>923.2727122989376</td><td>278280005.5567242</td><td>4.438067609959059</td><td>False</td><td>0.16</td><td>5.0</td><td>False</td><td>1</td><td>36.32996977715265</td><td>34.75799601291953</td><td>33.095349974125234</td><td>30.25452124804787</td><td>24.347567583369095</td></tr>\n",
       "<tr><td>0.13999999999999999</td><td>0.8875795913119706</td><td>2.0587894263296398e+22</td><td>807.8672449883936</td><td>260304696.1995721</td><td>4.438075662981372</td><td>False</td><td>0.14</td><td>5.0</td><td>False</td><td>1</td><td>36.47495735298941</td><td>34.902989624084036</td><td>33.24034014893007</td><td>30.399518015663926</td><td>24.492568168372504</td></tr>\n",
       "<tr><td>0.13999999999999999</td><td>1.0209135913119707</td><td>2.0587894263296398e+22</td><td>807.8672449883936</td><td>260304696.1995721</td><td>4.438075662981372</td><td>False</td><td>0.14</td><td>5.0</td><td>False</td><td>1</td><td>36.47495735298941</td><td>34.902989624084036</td><td>33.24034014893007</td><td>30.399518015663926</td><td>24.492568168372504</td></tr>\n",
       "<tr><td>0.13999999999999999</td><td>-1.3790866086880293</td><td>2.0587894263296398e+22</td><td>807.8672449883936</td><td>260304696.1995721</td><td>4.438075662981372</td><td>False</td><td>0.14</td><td>5.0</td><td>False</td><td>1</td><td>36.47495735298941</td><td>34.902989624084036</td><td>33.24034014893007</td><td>30.399518015663926</td><td>24.492568168372504</td></tr>\n",
       "<tr><td>0.16000000000000003</td><td>1.0402435913119708</td><td>4.013949729509597e+22</td><td>923.2727122989376</td><td>278280005.5567242</td><td>4.438067609959059</td><td>False</td><td>0.16</td><td>5.0</td><td>False</td><td>1</td><td>36.32996977715265</td><td>34.75799601291953</td><td>33.095349974125234</td><td>30.25452124804787</td><td>24.347567583369095</td></tr>\n",
       "</table>"
      ],
      "text/plain": [
       "<Table length=58>\n",
       "        mass               log_a         ...      m_ubv_I      \n",
       "      solMass                            ...                   \n",
       "      float64             float64        ...      float64      \n",
       "------------------- -------------------- ... ------------------\n",
       "0.13999999999999999 -0.44575340868802926 ... 24.492568168372504\n",
       "0.13999999999999999   0.0875795913119708 ... 24.492568168372504\n",
       "0.13999999999999999  -0.3124204086880291 ... 24.492568168372504\n",
       "0.16000000000000003  -1.0930894086880292 ... 24.347567583369095\n",
       "0.13999999999999999  -0.5790864086880292 ... 24.492568168372504\n",
       "               0.13   0.8768515913119708 ... 24.573017828153834\n",
       "               0.13  -1.6564815086880293 ... 24.573017828153834\n",
       "               0.13  -0.4564814086880291 ... 24.573017828153834\n",
       "0.16000000000000003    0.106910591311971 ... 24.347567583369095\n",
       "                ...                  ... ...                ...\n",
       "               0.13    0.210185591311971 ... 24.573017828153834\n",
       "0.16000000000000003  -0.5597564086880291 ... 24.347567583369095\n",
       "0.13999999999999999  -1.5124199086880292 ... 24.492568168372504\n",
       "               0.13   1.0101855913119708 ... 24.573017828153834\n",
       "               0.13  0.07685159131197095 ... 24.573017828153834\n",
       "0.16000000000000003   0.7735775913119709 ... 24.347567583369095\n",
       "0.13999999999999999   0.8875795913119706 ... 24.492568168372504\n",
       "0.13999999999999999   1.0209135913119707 ... 24.492568168372504\n",
       "0.13999999999999999  -1.3790866086880293 ... 24.492568168372504\n",
       "0.16000000000000003   1.0402435913119708 ... 24.347567583369095"
      ]
     },
     "execution_count": 25,
     "metadata": {},
     "output_type": "execute_result"
    }
   ],
   "source": [
    "iso1.secondaries[np.where((iso1.secondaries['m_ubv_V']>30) & ((iso1.secondaries['m_ubv_B']-iso1.secondaries['m_ubv_V'])<-1))[0]]"
   ]
  },
  {
   "cell_type": "markdown",
   "metadata": {},
   "source": [
    "Hmm, I think those are stars that are going to be white dwarves very soon or may unintentionally be brown dwarves. At least according to HOKI's criterion for what is a white dwarf or not. At the very least, at least the stars we just saw were low mass stars so they should be **LOW** on the CMD"
   ]
  },
  {
   "cell_type": "code",
   "execution_count": 26,
   "metadata": {},
   "outputs": [
    {
     "name": "stdout",
     "output_type": "stream",
     "text": [
      "Changing to logg=5.00 for T=  2305 logg=5.22\n",
      "Isochrone generation took 23.132319 s.\n",
      "Making photometry for isochrone: log(t) = 9.30  AKs = 0.00  dist = 1000\n",
      "     Starting at:  2020-12-21 14:42:29.786820   Usually takes ~5 minutes\n",
      "Starting filter: ubv,U   Elapsed time: 0.00 seconds\n",
      "Starting synthetic photometry\n",
      "M =   0.090 Msun  T =  2305 K  m_ubv_U = 32.04\n",
      "M =   1.659 Msun  T =  4758 K  m_ubv_U = 13.02\n",
      "M =   1.710 Msun  T =  4556 K  m_ubv_U = 12.36\n",
      "Starting filter: ubv,B   Elapsed time: 0.65 seconds\n",
      "Starting synthetic photometry\n",
      "M =   0.090 Msun  T =  2305 K  m_ubv_B = 32.12\n",
      "M =   1.659 Msun  T =  4758 K  m_ubv_B = 12.19\n",
      "M =   1.710 Msun  T =  4556 K  m_ubv_B = 11.28\n",
      "Starting filter: ubv,V   Elapsed time: 1.29 seconds\n",
      "Starting synthetic photometry\n",
      "M =   0.090 Msun  T =  2305 K  m_ubv_V = 29.85\n",
      "M =   1.659 Msun  T =  4758 K  m_ubv_V = 11.11\n",
      "M =   1.710 Msun  T =  4556 K  m_ubv_V = 10.08\n",
      "Starting filter: ubv,R   Elapsed time: 1.95 seconds\n",
      "Starting synthetic photometry\n",
      "M =   0.090 Msun  T =  2305 K  m_ubv_R = 27.56\n",
      "M =   1.659 Msun  T =  4758 K  m_ubv_R = 10.60\n",
      "M =   1.710 Msun  T =  4556 K  m_ubv_R = 9.53\n",
      "Starting filter: ubv,I   Elapsed time: 2.58 seconds\n",
      "Starting synthetic photometry\n",
      "M =   0.090 Msun  T =  2305 K  m_ubv_I = 23.30\n",
      "M =   1.659 Msun  T =  4758 K  m_ubv_I = 9.96\n",
      "M =   1.710 Msun  T =  4556 K  m_ubv_I = 8.83\n",
      "      Time taken: 3.22 seconds\n"
     ]
    }
   ],
   "source": [
    "iso2=synthetic.IsochronePhot(9.3, 0.0, 1000, math.log(1),evo_model=evolution.Parsec(), recomp=True) # New Parsec isochrone for same metallicity"
   ]
  },
  {
   "cell_type": "markdown",
   "metadata": {},
   "source": [
    "Looking at the distribution of logg values. for the stars in the Parsec isochrone."
   ]
  },
  {
   "cell_type": "code",
   "execution_count": 27,
   "metadata": {},
   "outputs": [
    {
     "data": {
      "text/plain": [
       "5.2171"
      ]
     },
     "execution_count": 27,
     "metadata": {},
     "output_type": "execute_result"
    }
   ],
   "source": [
    "np.max(iso2.points['logg'])"
   ]
  },
  {
   "cell_type": "code",
   "execution_count": 28,
   "metadata": {},
   "outputs": [
    {
     "data": {
      "text/plain": [
       "(array([ 0.,  0.,  0.,  0.,  0.,  0.,  0.,  0.,  0.,  0., 19., 37., 89.,\n",
       "        38., 49.,  8.,  0.,  0.,  0.,  0.,  0.,  0.,  0.,  0.,  0.,  0.,\n",
       "         0.,  0.,  0.,  0.,  0.,  0.,  0.,  0.,  0.,  0.,  0.,  0.,  0.]),\n",
       " array([-10,  -9,  -8,  -7,  -6,  -5,  -4,  -3,  -2,  -1,   0,   1,   2,\n",
       "          3,   4,   5,   6,   7,   8,   9,  10,  11,  12,  13,  14,  15,\n",
       "         16,  17,  18,  19,  20,  21,  22,  23,  24,  25,  26,  27,  28,\n",
       "         29]),\n",
       " <a list of 39 Patch objects>)"
      ]
     },
     "execution_count": 28,
     "metadata": {},
     "output_type": "execute_result"
    },
    {
     "data": {
      "image/png": "[encoded data removed]",
      "text/plain": [
       "<Figure size 432x288 with 1 Axes>"
      ]
     },
     "metadata": {
      "needs_background": "light"
     },
     "output_type": "display_data"
    }
   ],
   "source": [
    "import matplotlib.pyplot as plt\n",
    "plt.xlabel(\"logg in cgs\")\n",
    "plt.title(\"Histogram of logg values of stars in the Parsec isochrone\")\n",
    "plt.hist(np.array([x for x in iso2.points['logg'] if np.isfinite(x)]), np.arange(-10, 30, 1))"
   ]
  },
  {
   "cell_type": "code",
   "execution_count": 29,
   "metadata": {},
   "outputs": [
    {
     "data": {
      "text/plain": [
       "2.6134"
      ]
     },
     "execution_count": 29,
     "metadata": {},
     "output_type": "execute_result"
    }
   ],
   "source": [
    "np.median(iso2.points['logg'])"
   ]
  },
  {
   "cell_type": "code",
   "execution_count": 30,
   "metadata": {},
   "outputs": [
    {
     "data": {
      "text/plain": [
       "2.8664904166666663"
      ]
     },
     "execution_count": 30,
     "metadata": {},
     "output_type": "execute_result"
    }
   ],
   "source": [
    "np.mean(iso2.points['logg'])"
   ]
  },
  {
   "cell_type": "code",
   "execution_count": 31,
   "metadata": {},
   "outputs": [],
   "source": [
    "from spisea import imf\n",
    "from spisea.imf import imf, multiplicity\n",
    "from spisea import ifmr\n"
   ]
  },
  {
   "cell_type": "markdown",
   "metadata": {},
   "source": [
    "Make the clusters corresponding to the binary star isochrone and the Parsec isochrone"
   ]
  },
  {
   "cell_type": "code",
   "execution_count": 32,
   "metadata": {},
   "outputs": [
    {
     "name": "stdout",
     "output_type": "stream",
     "text": [
      "7792.890340000038\n"
     ]
    },
    {
     "name": "stderr",
     "output_type": "stream",
     "text": [
      "/opt/anaconda3/envs/astroconda/lib/python3.7/site-packages/astropy/table/column.py:1020: RuntimeWarning: invalid value encountered in greater_equal\n",
      "  result = getattr(super(), op)(other)\n"
     ]
    },
    {
     "name": "stdout",
     "output_type": "stream",
     "text": [
      "Found 546 companions out of stellar mass range\n"
     ]
    }
   ],
   "source": [
    "clus_1=synthetic.Binary_Cluster(iso1, imf.IMFSalpeter1955(multiplicity=multiplicity.MultiplicityResolvedDK()), 20000, ifmr=ifmr.IFMR_Spera15())\n",
    "clus_2=synthetic.ResolvedCluster(iso2, imf.IMFSalpeter1955(multiplicity=multiplicity.MultiplicityResolvedDK()), 20000, ifmr=ifmr.IFMR_Spera15())"
   ]
  },
  {
   "cell_type": "markdown",
   "metadata": {},
   "source": [
    "Now let's visualize the isochrone we have created so far with a color magnitude diagram. There we can see the end of main sequence and perhaps the M type"
   ]
  },
  {
   "cell_type": "code",
   "execution_count": 33,
   "metadata": {},
   "outputs": [
    {
     "data": {
      "text/plain": [
       "<matplotlib.legend.Legend at 0x7ff81b62d320>"
      ]
     },
     "execution_count": 33,
     "metadata": {},
     "output_type": "execute_result"
    },
    {
     "data": {
      "image/png": "[encoded data removed]",
      "text/plain": [
       "<Figure size 432x288 with 1 Axes>"
      ]
     },
     "metadata": {
      "needs_background": "light"
     },
     "output_type": "display_data"
    }
   ],
   "source": [
    "# Taking a look at the Binary Cluster vs Default Settings cluster Observer's HR Diagram\n",
    "# Remember to use a distance modulus!\n",
    "import matplotlib.pyplot as plt\n",
    "plt.plot(iso1.primaries['m_ubv_B']-iso1.primaries[\"m_ubv_V\"], iso1.primaries[\"m_ubv_V\"]-5*np.log10(100), \"r.\")\n",
    "plt.plot(iso1.secondaries['m_ubv_B']-iso1.secondaries[\"m_ubv_V\"], iso1.secondaries[\"m_ubv_V\"]-5*np.log10(100), \"r.\")\n",
    "plt.plot(iso1.singles['m_ubv_B']-iso1.singles[\"m_ubv_V\"], iso1.singles[\"m_ubv_V\"]-5*np.log10(100), \"r.\", label=\"BPASS isochrone\")\n",
    "plt.plot(iso2.points['m_ubv_B']-iso2.points[\"m_ubv_V\"], iso2.points[\"m_ubv_V\"]-5*np.log10(100), \"b+\", label=\"Parsec isochrone\", alpha = 0.2)\n",
    "plt.xlabel(\"B-V\")\n",
    "plt.ylabel(\"M_V\")\n",
    "plt.title(\"Color magnitude Diagram of Isochrones at 0.1Z_solar and 10**9.3 years age\")\n",
    "plt.gca().invert_yaxis()\n",
    "plt.legend()"
   ]
  },
  {
   "cell_type": "markdown",
   "metadata": {},
   "source": [
    "We do have several outliers but otherwise the pattern does not seem too terribly off from the Parsec isochrone's shape. Now I look at the primary stars and see if there are any problems caused."
   ]
  },
  {
   "cell_type": "code",
   "execution_count": 34,
   "metadata": {},
   "outputs": [
    {
     "data": {
      "text/plain": [
       "<matplotlib.legend.Legend at 0x7ff84e556e10>"
      ]
     },
     "execution_count": 34,
     "metadata": {},
     "output_type": "execute_result"
    },
    {
     "data": {
      "image/png": "[encoded data removed]",
      "text/plain": [
       "<Figure size 432x288 with 1 Axes>"
      ]
     },
     "metadata": {
      "needs_background": "light"
     },
     "output_type": "display_data"
    }
   ],
   "source": [
    "# Taking a look at the Binary Cluster vs Default Settings cluster Observer's HR Diagram\n",
    "# Remember to use a distance modulus!\n",
    "import matplotlib.pyplot as plt\n",
    "plt.plot(iso1.primaries['m_ubv_B']-iso1.primaries[\"m_ubv_V\"], iso1.primaries[\"m_ubv_V\"]-5*np.log10(100), \"r+\",  label=\"BPASS isochrone\", alpha =0.7)\n",
    "plt.xlabel(\"B-V\")\n",
    "plt.ylabel(\"M_V\")\n",
    "plt.title(\"Color magnitude Diagram of Isochrones at 0.1Z_solar and 10**9.3 years age (Primary stars only)\")\n",
    "plt.gca().invert_yaxis()\n",
    "plt.legend()"
   ]
  },
  {
   "cell_type": "code",
   "execution_count": 35,
   "metadata": {},
   "outputs": [
    {
     "data": {
      "text/plain": [
       "<matplotlib.legend.Legend at 0x7ff80cf90278>"
      ]
     },
     "execution_count": 35,
     "metadata": {},
     "output_type": "execute_result"
    },
    {
     "data": {
      "image/png": "[encoded data removed]",
      "text/plain": [
       "<Figure size 432x288 with 1 Axes>"
      ]
     },
     "metadata": {
      "needs_background": "light"
     },
     "output_type": "display_data"
    }
   ],
   "source": [
    "import matplotlib.pyplot as plt\n",
    "plt.plot(iso1.secondaries['m_ubv_B']-iso1.secondaries[\"m_ubv_V\"], iso1.secondaries[\"m_ubv_V\"]-5*np.log10(100), \"r+\",  label=\"BPASS isochrone\", alpha =0.7)\n",
    "plt.xlabel(\"B-V\")\n",
    "plt.ylabel(\"M_V\")\n",
    "plt.title(\"Color magnitude Diagram of Isochrones at 0.1Z_solar and 10**9.3 years age (Primary stars only)\")\n",
    "plt.gca().invert_yaxis()\n",
    "plt.legend()"
   ]
  },
  {
   "cell_type": "markdown",
   "metadata": {},
   "source": [
    "Where are some of the goofy outliers coming from?"
   ]
  },
  {
   "cell_type": "code",
   "execution_count": 36,
   "metadata": {},
   "outputs": [
    {
     "name": "stderr",
     "output_type": "stream",
     "text": [
      "/opt/anaconda3/envs/astroconda/lib/python3.7/site-packages/astropy/table/column.py:1020: RuntimeWarning: invalid value encountered in greater\n",
      "  result = getattr(super(), op)(other)\n"
     ]
    },
    {
     "data": {
      "text/html": [
       "<i>Table length=87</i>\n",
       "<table id=\"table140704705080624\" class=\"table-striped table-bordered table-condensed\">\n",
       "<thead><tr><th>mass</th><th>log_a</th><th>L</th><th>Teff</th><th>R</th><th>logg</th><th>isWR</th><th>mass_current</th><th>phase</th><th>merged</th><th>source</th><th>m_ubv_U</th><th>m_ubv_V</th><th>m_ubv_B</th><th>m_ubv_R</th><th>m_ubv_I</th></tr></thead>\n",
       "<thead><tr><th>solMass</th><th></th><th>W</th><th>K</th><th>m</th><th></th><th></th><th>solMass</th><th></th><th></th><th></th><th></th><th></th><th></th><th></th><th></th></tr></thead>\n",
       "<thead><tr><th>float64</th><th>float64</th><th>float64</th><th>float64</th><th>float64</th><th>float64</th><th>bool</th><th>float64</th><th>float64</th><th>bool</th><th>int64</th><th>float64</th><th>float64</th><th>float64</th><th>float64</th><th>float64</th></tr></thead>\n",
       "<tr><td>0.13999999999999999</td><td>-0.44575340868802926</td><td>2.0587894263296398e+22</td><td>807.8672449883936</td><td>260304696.1995721</td><td>4.438075662981372</td><td>False</td><td>0.14</td><td>5.0</td><td>False</td><td>1</td><td>36.47495735298941</td><td>34.902989624084036</td><td>33.24034014893007</td><td>30.399518015663926</td><td>24.492568168372504</td></tr>\n",
       "<tr><td>0.13999999999999999</td><td>0.0875795913119708</td><td>2.0587894263296398e+22</td><td>807.8672449883936</td><td>260304696.1995721</td><td>4.438075662981372</td><td>False</td><td>0.14</td><td>5.0</td><td>False</td><td>1</td><td>36.47495735298941</td><td>34.902989624084036</td><td>33.24034014893007</td><td>30.399518015663926</td><td>24.492568168372504</td></tr>\n",
       "<tr><td>0.22999999999999998</td><td>0.6976315913119708</td><td>2.463836751915467e+23</td><td>1327.2110840755804</td><td>333642989.08683115</td><td>4.438075463320726</td><td>False</td><td>0.23</td><td>5.0</td><td>False</td><td>1</td><td>35.30175910789871</td><td>32.53375408345714</td><td>32.44397896932759</td><td>28.323385276329212</td><td>23.538861868398694</td></tr>\n",
       "<tr><td>0.13999999999999999</td><td>-0.3124204086880291</td><td>2.0587894263296398e+22</td><td>807.8672449883936</td><td>260304696.1995721</td><td>4.438075662981372</td><td>False</td><td>0.14</td><td>5.0</td><td>False</td><td>1</td><td>36.47495735298941</td><td>34.902989624084036</td><td>33.24034014893007</td><td>30.399518015663926</td><td>24.492568168372504</td></tr>\n",
       "<tr><td>0.16000000000000003</td><td>-1.0930894086880292</td><td>4.013949729509597e+22</td><td>923.2727122989376</td><td>278280005.5567242</td><td>4.438067609959059</td><td>False</td><td>0.16</td><td>5.0</td><td>False</td><td>1</td><td>36.32996977715265</td><td>34.75799601291953</td><td>33.095349974125234</td><td>30.25452124804787</td><td>24.347567583369095</td></tr>\n",
       "<tr><td>0.13999999999999999</td><td>-0.5790864086880292</td><td>2.0587894263296398e+22</td><td>807.8672449883936</td><td>260304696.1995721</td><td>4.438075662981372</td><td>False</td><td>0.14</td><td>5.0</td><td>False</td><td>1</td><td>36.47495735298941</td><td>34.902989624084036</td><td>33.24034014893007</td><td>30.399518015663926</td><td>24.492568168372504</td></tr>\n",
       "<tr><td>0.26</td><td>-1.243885408688029</td><td>4.548224875119761e+23</td><td>1500.3065316795803</td><td>354741504.31379926</td><td>4.4380609752739515</td><td>False</td><td>0.26</td><td>5.0</td><td>False</td><td>1</td><td>34.026159664130724</td><td>30.633704940867208</td><td>31.44845488302193</td><td>26.952418336027847</td><td>22.967821403177684</td></tr>\n",
       "<tr><td>0.13</td><td>0.8768515913119708</td><td>1.4213202025222475e+22</td><td>750.153258350221</td><td>250837234.12939957</td><td>4.43807097960997</td><td>False</td><td>0.13</td><td>5.0</td><td>False</td><td>1</td><td>36.55541457845449</td><td>34.98344333961485</td><td>33.32079586292777</td><td>30.479969895510337</td><td>24.573017828153834</td></tr>\n",
       "<tr><td>0.22999999999999998</td><td>0.8309645913119708</td><td>2.463836751915467e+23</td><td>1327.2110840755804</td><td>333642989.08683115</td><td>4.438075463320726</td><td>False</td><td>0.23</td><td>5.0</td><td>False</td><td>1</td><td>35.30175910789871</td><td>32.53375408345714</td><td>32.44397896932759</td><td>28.323385276329212</td><td>23.538861868398694</td></tr>\n",
       "<tr><td>...</td><td>...</td><td>...</td><td>...</td><td>...</td><td>...</td><td>...</td><td>...</td><td>...</td><td>...</td><td>...</td><td>...</td><td>...</td><td>...</td><td>...</td><td>...</td></tr>\n",
       "<tr><td>0.13</td><td>0.07685159131197095</td><td>1.4213202025222475e+22</td><td>750.153258350221</td><td>250837234.12939957</td><td>4.43807097960997</td><td>False</td><td>0.13</td><td>5.0</td><td>False</td><td>1</td><td>36.55541457845449</td><td>34.98344333961485</td><td>33.32079586292777</td><td>30.479969895510337</td><td>24.573017828153834</td></tr>\n",
       "<tr><td>0.16000000000000003</td><td>0.7735775913119709</td><td>4.013949729509597e+22</td><td>923.2727122989376</td><td>278280005.5567242</td><td>4.438067609959059</td><td>False</td><td>0.16</td><td>5.0</td><td>False</td><td>1</td><td>36.32996977715265</td><td>34.75799601291953</td><td>33.095349974125234</td><td>30.25452124804787</td><td>24.347567583369095</td></tr>\n",
       "<tr><td>0.22999999999999998</td><td>0.43096459131197085</td><td>2.463836751915467e+23</td><td>1327.2110840755804</td><td>333642989.08683115</td><td>4.438075463320726</td><td>False</td><td>0.23</td><td>5.0</td><td>False</td><td>1</td><td>35.30175910789871</td><td>32.53375408345714</td><td>32.44397896932759</td><td>28.323385276329212</td><td>23.538861868398694</td></tr>\n",
       "<tr><td>0.26</td><td>0.08944759131197078</td><td>4.548224875119761e+23</td><td>1500.3065316795803</td><td>354741504.31379926</td><td>4.4380609752739515</td><td>False</td><td>0.26</td><td>5.0</td><td>False</td><td>1</td><td>34.026159664130724</td><td>30.633704940867208</td><td>31.44845488302193</td><td>26.952418336027847</td><td>22.967821403177684</td></tr>\n",
       "<tr><td>0.13999999999999999</td><td>0.8875795913119706</td><td>2.0587894263296398e+22</td><td>807.8672449883936</td><td>260304696.1995721</td><td>4.438075662981372</td><td>False</td><td>0.14</td><td>5.0</td><td>False</td><td>1</td><td>36.47495735298941</td><td>34.902989624084036</td><td>33.24034014893007</td><td>30.399518015663926</td><td>24.492568168372504</td></tr>\n",
       "<tr><td>0.13999999999999999</td><td>1.0209135913119707</td><td>2.0587894263296398e+22</td><td>807.8672449883936</td><td>260304696.1995721</td><td>4.438075662981372</td><td>False</td><td>0.14</td><td>5.0</td><td>False</td><td>1</td><td>36.47495735298941</td><td>34.902989624084036</td><td>33.24034014893007</td><td>30.399518015663926</td><td>24.492568168372504</td></tr>\n",
       "<tr><td>0.26</td><td>-1.3772187086880292</td><td>4.548224875119761e+23</td><td>1500.3065316795803</td><td>354741504.31379926</td><td>4.4380609752739515</td><td>False</td><td>0.26</td><td>5.0</td><td>False</td><td>1</td><td>34.026159664130724</td><td>30.633704940867208</td><td>31.44845488302193</td><td>26.952418336027847</td><td>22.967821403177684</td></tr>\n",
       "<tr><td>0.22999999999999998</td><td>0.9642985913119708</td><td>2.463836751915467e+23</td><td>1327.2110840755804</td><td>333642989.08683115</td><td>4.438075463320726</td><td>False</td><td>0.23</td><td>5.0</td><td>False</td><td>1</td><td>35.30175910789871</td><td>32.53375408345714</td><td>32.44397896932759</td><td>28.323385276329212</td><td>23.538861868398694</td></tr>\n",
       "<tr><td>0.13999999999999999</td><td>-1.3790866086880293</td><td>2.0587894263296398e+22</td><td>807.8672449883936</td><td>260304696.1995721</td><td>4.438075662981372</td><td>False</td><td>0.14</td><td>5.0</td><td>False</td><td>1</td><td>36.47495735298941</td><td>34.902989624084036</td><td>33.24034014893007</td><td>30.399518015663926</td><td>24.492568168372504</td></tr>\n",
       "<tr><td>0.16000000000000003</td><td>1.0402435913119708</td><td>4.013949729509597e+22</td><td>923.2727122989376</td><td>278280005.5567242</td><td>4.438067609959059</td><td>False</td><td>0.16</td><td>5.0</td><td>False</td><td>1</td><td>36.32996977715265</td><td>34.75799601291953</td><td>33.095349974125234</td><td>30.25452124804787</td><td>24.347567583369095</td></tr>\n",
       "</table>"
      ],
      "text/plain": [
       "<Table length=87>\n",
       "        mass               log_a         ...      m_ubv_I      \n",
       "      solMass                            ...                   \n",
       "      float64             float64        ...      float64      \n",
       "------------------- -------------------- ... ------------------\n",
       "0.13999999999999999 -0.44575340868802926 ... 24.492568168372504\n",
       "0.13999999999999999   0.0875795913119708 ... 24.492568168372504\n",
       "0.22999999999999998   0.6976315913119708 ... 23.538861868398694\n",
       "0.13999999999999999  -0.3124204086880291 ... 24.492568168372504\n",
       "0.16000000000000003  -1.0930894086880292 ... 24.347567583369095\n",
       "0.13999999999999999  -0.5790864086880292 ... 24.492568168372504\n",
       "               0.26   -1.243885408688029 ... 22.967821403177684\n",
       "               0.13   0.8768515913119708 ... 24.573017828153834\n",
       "0.22999999999999998   0.8309645913119708 ... 23.538861868398694\n",
       "                ...                  ... ...                ...\n",
       "               0.13  0.07685159131197095 ... 24.573017828153834\n",
       "0.16000000000000003   0.7735775913119709 ... 24.347567583369095\n",
       "0.22999999999999998  0.43096459131197085 ... 23.538861868398694\n",
       "               0.26  0.08944759131197078 ... 22.967821403177684\n",
       "0.13999999999999999   0.8875795913119706 ... 24.492568168372504\n",
       "0.13999999999999999   1.0209135913119707 ... 24.492568168372504\n",
       "               0.26  -1.3772187086880292 ... 22.967821403177684\n",
       "0.22999999999999998   0.9642985913119708 ... 23.538861868398694\n",
       "0.13999999999999999  -1.3790866086880293 ... 24.492568168372504\n",
       "0.16000000000000003   1.0402435913119708 ... 24.347567583369095"
      ]
     },
     "execution_count": 36,
     "metadata": {},
     "output_type": "execute_result"
    }
   ],
   "source": [
    "iso1.secondaries[np.where(iso1.secondaries[\"m_ubv_V\"]-5*np.log10(100)>20.0)[0]]"
   ]
  },
  {
   "cell_type": "code",
   "execution_count": 37,
   "metadata": {},
   "outputs": [],
   "source": [
    "issue = iso1.secondaries[np.where(iso1.secondaries[\"m_ubv_V\"]-5*np.log10(100)>20.0)[0]]"
   ]
  },
  {
   "cell_type": "code",
   "execution_count": 38,
   "metadata": {},
   "outputs": [
    {
     "data": {
      "text/html": [
       "&lt;Column name=&apos;mass&apos; dtype=&apos;float64&apos; unit=&apos;solMass&apos; length=5&gt;\n",
       "<table>\n",
       "<tr><td>0.13</td></tr>\n",
       "<tr><td>0.13999999999999999</td></tr>\n",
       "<tr><td>0.16000000000000003</td></tr>\n",
       "<tr><td>0.22999999999999998</td></tr>\n",
       "<tr><td>0.26</td></tr>\n",
       "</table>"
      ],
      "text/plain": [
       "<Column name='mass' dtype='float64' unit='solMass' length=5>\n",
       "               0.13\n",
       "0.13999999999999999\n",
       "0.16000000000000003\n",
       "0.22999999999999998\n",
       "               0.26"
      ]
     },
     "execution_count": 38,
     "metadata": {},
     "output_type": "execute_result"
    }
   ],
   "source": [
    "np.unique(issue['mass'])"
   ]
  },
  {
   "cell_type": "code",
   "execution_count": 39,
   "metadata": {},
   "outputs": [
    {
     "data": {
      "text/html": [
       "&lt;Column name=&apos;phase&apos; dtype=&apos;float64&apos; length=1&gt;\n",
       "<table>\n",
       "<tr><td>5.0</td></tr>\n",
       "</table>"
      ],
      "text/plain": [
       "<Column name='phase' dtype='float64' length=1>\n",
       "5.0"
      ]
     },
     "execution_count": 39,
     "metadata": {},
     "output_type": "execute_result"
    }
   ],
   "source": [
    "np.unique(issue['phase'])"
   ]
  },
  {
   "cell_type": "code",
   "execution_count": 40,
   "metadata": {},
   "outputs": [
    {
     "data": {
      "text/plain": [
       "<matplotlib.legend.Legend at 0x7ff83dea99b0>"
      ]
     },
     "execution_count": 40,
     "metadata": {},
     "output_type": "execute_result"
    },
    {
     "data": {
      "image/png": "[encoded data removed]",
      "text/plain": [
       "<Figure size 432x288 with 1 Axes>"
      ]
     },
     "metadata": {
      "needs_background": "light"
     },
     "output_type": "display_data"
    }
   ],
   "source": [
    "import matplotlib.pyplot as plt\n",
    "plt.plot(np.log10(iso1.primaries['Teff']), np.log10(iso1.primaries[\"L\"]), \"r.\", alpha =0.3)\n",
    "plt.plot(np.log10(iso1.secondaries['Teff']), np.log10(iso1.secondaries[\"L\"]), \"r.\", alpha =0.3)\n",
    "plt.plot(np.log10(iso1.singles['Teff']), np.log10(iso1.singles[\"L\"]), \"r.\", label=\"BPASS isochrone\", alpha =0.3)\n",
    "plt.plot(np.log10(iso2.points['Teff']), np.log10(iso2.points[\"L\"]), \"b+\", label=\"Paresc\", alpha =0.1)\n",
    "plt.xlabel(\"log(T in Kelvin)\")\n",
    "plt.ylabel(\"log(L in Watts)\")\n",
    "plt.title(\"HR Diagram of Isochrones at 0.1Z_solar and 10**9.3 years age\")\n",
    "plt.gca().invert_xaxis()\n",
    "plt.legend()\n",
    "# Rough pattern seems to fit. What's that line?"
   ]
  },
  {
   "cell_type": "markdown",
   "metadata": {},
   "source": [
    "A good sign here is that there are plenty of compact remnant (that means good number of stars have gone through their main-sequence and post-main sequence). I also notice stars turning to the red giant branch. This is going to be really important when we decide to use the clusters as reference for finding ages of actual star clusters."
   ]
  },
  {
   "cell_type": "code",
   "execution_count": 41,
   "metadata": {},
   "outputs": [
    {
     "data": {
      "text/plain": [
       "<matplotlib.legend.Legend at 0x7ff848e0f390>"
      ]
     },
     "execution_count": 41,
     "metadata": {},
     "output_type": "execute_result"
    },
    {
     "data": {
      "image/png": "[encoded data removed]",
      "text/plain": [
       "<Figure size 432x288 with 1 Axes>"
      ]
     },
     "metadata": {
      "needs_background": "light"
     },
     "output_type": "display_data"
    }
   ],
   "source": [
    "# Plot the mass-luminosity relationship\n",
    "from astropy import constants as cs\n",
    "import matplotlib.pyplot as plt\n",
    "plt.plot(np.log10(iso1.primaries['mass_current']), np.log10(iso1.primaries[\"L\"]/cs.L_sun), \"r.\")\n",
    "plt.plot(np.log10(iso1.secondaries['mass_current']), np.log10(iso1.secondaries[\"L\"]/cs.L_sun), \"r.\")\n",
    "plt.plot(np.log10(iso1.singles['mass_current']), np.log10(iso1.singles[\"L\"]/cs.L_sun), \"r.\", label=\"BPASS isochrone\")\n",
    "plt.plot(np.log10(iso2.points['mass_current']), np.log10(iso2.points[\"L\"]/cs.L_sun), \"b+\", label=\"Parsec\", alpha =0.2)\n",
    "plt.xlabel(\"log(Current Mass in solar masses)\")\n",
    "plt.ylabel(\"log(L/L_solar)\")\n",
    "plt.title(\"log Mass-logL of Isochrones at 0.1Z_solar and 10**9.3 years age\")\n",
    "plt.legend()\n",
    "# Rough pattern seems to fit. What's that line?"
   ]
  },
  {
   "cell_type": "markdown",
   "metadata": {},
   "source": [
    "Which table is causing that line segment at around log10(L/L_sun)=-3?\n",
    "Let's find out.\n",
    "First I take a look at the shape of the primary stars' plot for log current mass log L."
   ]
  },
  {
   "cell_type": "code",
   "execution_count": 42,
   "metadata": {},
   "outputs": [
    {
     "data": {
      "text/plain": [
       "<matplotlib.legend.Legend at 0x7ff82edd21d0>"
      ]
     },
     "execution_count": 42,
     "metadata": {},
     "output_type": "execute_result"
    },
    {
     "data": {
      "image/png": "[encoded data removed]",
      "text/plain": [
       "<Figure size 432x288 with 1 Axes>"
      ]
     },
     "metadata": {
      "needs_background": "light"
     },
     "output_type": "display_data"
    }
   ],
   "source": [
    "from astropy import constants as cs\n",
    "import matplotlib.pyplot as plt\n",
    "plt.plot(np.log10(iso1.primaries['mass_current']), np.log10(iso1.primaries[\"L\"]/cs.L_sun), \"r.\", label=\"BPASS isochrone (primaries)\")\n",
    "plt.xlabel(\"log(Current Mass in solar masses)\")\n",
    "plt.ylabel(\"log(L/L_solar)\")\n",
    "plt.title(\"log Mass-logL of Isochrones at 0.1Z_solar and 10**9.3 years age\")\n",
    "plt.legend()"
   ]
  },
  {
   "cell_type": "markdown",
   "metadata": {},
   "source": [
    "Which type of secondary star is it that is causing this strange pattern?"
   ]
  },
  {
   "cell_type": "code",
   "execution_count": 43,
   "metadata": {},
   "outputs": [
    {
     "name": "stderr",
     "output_type": "stream",
     "text": [
      "/opt/anaconda3/envs/astroconda/lib/python3.7/site-packages/astropy/units/quantity.py:477: RuntimeWarning: invalid value encountered in greater\n",
      "  result = super().__array_ufunc__(function, method, *arrays, **kwargs)\n",
      "/opt/anaconda3/envs/astroconda/lib/python3.7/site-packages/astropy/units/quantity.py:477: RuntimeWarning: invalid value encountered in less\n",
      "  result = super().__array_ufunc__(function, method, *arrays, **kwargs)\n"
     ]
    }
   ],
   "source": [
    "bad_line = iso1.primaries[np.where((np.log10(iso1.primaries[\"L\"]/cs.L_sun)>-3.30) & (np.log10(iso1.primaries[\"L\"]/cs.L_sun)<-3.10))[0]]"
   ]
  },
  {
   "cell_type": "code",
   "execution_count": 44,
   "metadata": {},
   "outputs": [
    {
     "data": {
      "text/html": [
       "<i>Table length=719</i>\n",
       "<table id=\"table140704998239032\" class=\"table-striped table-bordered table-condensed\">\n",
       "<thead><tr><th>mass</th><th>L</th><th>Teff</th><th>R</th><th>logg</th><th>isWR</th><th>mass_current</th><th>phase</th><th>source</th><th>m_ubv_U</th><th>m_ubv_V</th><th>m_ubv_B</th><th>m_ubv_R</th><th>m_ubv_I</th></tr></thead>\n",
       "<thead><tr><th>solMass</th><th>W</th><th>K</th><th>m</th><th></th><th></th><th>solMass</th><th></th><th></th><th></th><th></th><th></th><th></th><th></th></tr></thead>\n",
       "<thead><tr><th>float64</th><th>float64</th><th>float64</th><th>float64</th><th>float64</th><th>bool</th><th>float64</th><th>float64</th><th>int64</th><th>float64</th><th>float64</th><th>float64</th><th>float64</th><th>float64</th></tr></thead>\n",
       "<tr><td>2.3</td><td>2.7911998243170328e+23</td><td>8212.228030432203</td><td>9280313.858409746</td><td>7.935611004110614</td><td>False</td><td>0.55953</td><td>101.0</td><td>1</td><td>22.534250581653446</td><td>22.821818411469724</td><td>23.101826745353883</td><td>22.67412636705656</td><td>22.485062932815868</td></tr>\n",
       "<tr><td>3.7</td><td>2.1055711874413175e+23</td><td>8726.920104665855</td><td>7137599.3150678</td><td>8.321324878972979</td><td>False</td><td>0.80448</td><td>101.0</td><td>1</td><td>22.823277010210692</td><td>23.170791588677137</td><td>23.42542961156839</td><td>23.049465735069553</td><td>22.898891638826942</td></tr>\n",
       "<tr><td>6.5</td><td>2.2390558631202437e+23</td><td>11664.845742535048</td><td>4119681.717987475</td><td>8.965437524916648</td><td>False</td><td>1.181</td><td>101.0</td><td>1</td><td>22.911769013377672</td><td>23.408692377808848</td><td>23.60037551333249</td><td>23.402522839791526</td><td>23.427217362415792</td></tr>\n",
       "<tr><td>3.7</td><td>2.1054693765094385e+23</td><td>8726.618692728975</td><td>7137919.803393535</td><td>8.3212632846373</td><td>False</td><td>0.80444</td><td>101.0</td><td>1</td><td>22.82332170918241</td><td>23.17081669281306</td><td>23.42546684478983</td><td>23.04947665090986</td><td>22.89888067696534</td></tr>\n",
       "<tr><td>1.5</td><td>2.1843887395946697e+23</td><td>7910.774410013775</td><td>8847410.21873498</td><td>8.010704668983882</td><td>False</td><td>0.60454</td><td>101.0</td><td>1</td><td>22.79783429182948</td><td>23.065953623612835</td><td>23.365101783694907</td><td>22.90100757168283</td><td>22.68507673747466</td></tr>\n",
       "<tr><td>2.3</td><td>2.7911998243170328e+23</td><td>8212.228030432203</td><td>9280313.858409746</td><td>7.935611004110614</td><td>False</td><td>0.55953</td><td>101.0</td><td>1</td><td>22.534250581653446</td><td>22.821818411469724</td><td>23.101826745353883</td><td>22.67412636705656</td><td>22.485062932815868</td></tr>\n",
       "<tr><td>3.5</td><td>2.0099623809136136e+23</td><td>8453.372369710967</td><td>7432298.851099842</td><td>8.266000572033883</td><td>False</td><td>0.76795</td><td>101.0</td><td>1</td><td>22.87082801064818</td><td>23.199413954884967</td><td>23.466288038662345</td><td>23.06410435879708</td><td>22.892180323350928</td></tr>\n",
       "<tr><td>2.7</td><td>2.1771228156133764e+23</td><td>7895.797470049839</td><td>8866223.28388201</td><td>8.00741230263319</td><td>False</td><td>0.60253</td><td>101.0</td><td>1</td><td>22.80194902968233</td><td>23.06839524707168</td><td>23.368590383723937</td><td>22.902595658564913</td><td>22.685377235945204</td></tr>\n",
       "<tr><td>2.7</td><td>2.1085015718261015e+23</td><td>8735.44432295291</td><td>7128631.481819042</td><td>8.323019084848696</td><td>False</td><td>0.8056</td><td>101.0</td><td>1</td><td>22.821995942908732</td><td>23.17005964466606</td><td>23.424356079036475</td><td>23.04913382127435</td><td>22.89917723002371</td></tr>\n",
       "<tr><td>...</td><td>...</td><td>...</td><td>...</td><td>...</td><td>...</td><td>...</td><td>...</td><td>...</td><td>...</td><td>...</td><td>...</td><td>...</td><td>...</td></tr>\n",
       "<tr><td>6.0</td><td>2.370483458472509e+23</td><td>12884.1567543927</td><td>3474526.7868679687</td><td>9.138144805470024</td><td>False</td><td>1.25032</td><td>101.0</td><td>1</td><td>22.965126086119735</td><td>23.54049667581969</td><td>23.7048037644225</td><td>23.560929704361566</td><td>23.626233570527482</td></tr>\n",
       "<tr><td>3.5</td><td>2.010119742793434e+23</td><td>8453.820067577475</td><td>7431802.576153697</td><td>8.266090502173897</td><td>False</td><td>0.76801</td><td>101.0</td><td>1</td><td>22.87074769758361</td><td>23.199368742754714</td><td>23.466221052326365</td><td>23.064081512914303</td><td>22.89219173102763</td></tr>\n",
       "<tr><td>2.7</td><td>2.1771228156133764e+23</td><td>7895.797470049839</td><td>8866223.28388201</td><td>8.00741230263319</td><td>False</td><td>0.60253</td><td>101.0</td><td>1</td><td>22.80194902968233</td><td>23.06839524707168</td><td>23.368590383723937</td><td>22.902595658564913</td><td>22.685377235945204</td></tr>\n",
       "<tr><td>2.7</td><td>2.1771228156133764e+23</td><td>7895.797470049839</td><td>8866223.28388201</td><td>8.00741230263319</td><td>False</td><td>0.60253</td><td>101.0</td><td>1</td><td>22.80194902968233</td><td>23.06839524707168</td><td>23.368590383723937</td><td>22.902595658564913</td><td>22.685377235945204</td></tr>\n",
       "<tr><td>3.5</td><td>2.0099623809136136e+23</td><td>8453.372369710967</td><td>7432298.851099842</td><td>8.266000572033883</td><td>False</td><td>0.76795</td><td>101.0</td><td>1</td><td>22.87082801064818</td><td>23.199413954884967</td><td>23.466288038662345</td><td>23.06410435879708</td><td>22.892180323350928</td></tr>\n",
       "<tr><td>7.0</td><td>2.4542620337390756e+23</td><td>13948.901258521295</td><td>3016266.177470037</td><td>9.276079036981745</td><td>False</td><td>1.29451</td><td>101.0</td><td>1</td><td>23.047039164876143</td><td>23.68539346097907</td><td>23.827100032644083</td><td>23.724446009055896</td><td>23.816769501900414</td></tr>\n",
       "<tr><td>2.5</td><td>2.1024754293611656e+23</td><td>7742.068330016376</td><td>9062346.515762381</td><td>7.973257593758752</td><td>False</td><td>0.58187</td><td>101.0</td><td>1</td><td>22.84773470881811</td><td>23.09581249838914</td><td>23.407534707688257</td><td>22.920701198372075</td><td>22.689519360052806</td></tr>\n",
       "<tr><td>2.5</td><td>2.1024754293611656e+23</td><td>7742.068330016376</td><td>9062346.515762381</td><td>7.973257593758752</td><td>False</td><td>0.58187</td><td>101.0</td><td>1</td><td>22.84773470881811</td><td>23.09581249838914</td><td>23.407534707688257</td><td>22.920701198372075</td><td>22.689519360052806</td></tr>\n",
       "<tr><td>2.3</td><td>2.7911998243170328e+23</td><td>8212.228030432203</td><td>9280313.858409746</td><td>7.935611004110614</td><td>False</td><td>0.55953</td><td>101.0</td><td>1</td><td>22.534250581653446</td><td>22.821818411469724</td><td>23.101826745353883</td><td>22.67412636705656</td><td>22.485062932815868</td></tr>\n",
       "<tr><td>3.5</td><td>2.009754126779354e+23</td><td>8452.788451602899</td><td>7432940.635077773</td><td>8.265879327723244</td><td>False</td><td>0.76787</td><td>101.0</td><td>1</td><td>22.870934713187285</td><td>23.19947456177347</td><td>23.466377079356768</td><td>23.064135786385272</td><td>22.892167099009733</td></tr>\n",
       "</table>"
      ],
      "text/plain": [
       "<Table length=719>\n",
       "  mass            L            ...      m_ubv_R            m_ubv_I      \n",
       "solMass           W            ...                                      \n",
       "float64        float64         ...      float64            float64      \n",
       "------- ---------------------- ... ------------------ ------------------\n",
       "    2.3 2.7911998243170328e+23 ...  22.67412636705656 22.485062932815868\n",
       "    3.7 2.1055711874413175e+23 ... 23.049465735069553 22.898891638826942\n",
       "    6.5 2.2390558631202437e+23 ... 23.402522839791526 23.427217362415792\n",
       "    3.7 2.1054693765094385e+23 ...  23.04947665090986  22.89888067696534\n",
       "    1.5 2.1843887395946697e+23 ...  22.90100757168283  22.68507673747466\n",
       "    2.3 2.7911998243170328e+23 ...  22.67412636705656 22.485062932815868\n",
       "    3.5 2.0099623809136136e+23 ...  23.06410435879708 22.892180323350928\n",
       "    2.7 2.1771228156133764e+23 ... 22.902595658564913 22.685377235945204\n",
       "    2.7 2.1085015718261015e+23 ...  23.04913382127435  22.89917723002371\n",
       "    ...                    ... ...                ...                ...\n",
       "    6.0  2.370483458472509e+23 ... 23.560929704361566 23.626233570527482\n",
       "    3.5  2.010119742793434e+23 ... 23.064081512914303  22.89219173102763\n",
       "    2.7 2.1771228156133764e+23 ... 22.902595658564913 22.685377235945204\n",
       "    2.7 2.1771228156133764e+23 ... 22.902595658564913 22.685377235945204\n",
       "    3.5 2.0099623809136136e+23 ...  23.06410435879708 22.892180323350928\n",
       "    7.0 2.4542620337390756e+23 ... 23.724446009055896 23.816769501900414\n",
       "    2.5 2.1024754293611656e+23 ... 22.920701198372075 22.689519360052806\n",
       "    2.5 2.1024754293611656e+23 ... 22.920701198372075 22.689519360052806\n",
       "    2.3 2.7911998243170328e+23 ...  22.67412636705656 22.485062932815868\n",
       "    3.5  2.009754126779354e+23 ... 23.064135786385272 22.892167099009733"
      ]
     },
     "execution_count": 44,
     "metadata": {},
     "output_type": "execute_result"
    }
   ],
   "source": [
    "bad_line"
   ]
  },
  {
   "cell_type": "markdown",
   "metadata": {},
   "source": [
    "What sorts of characteristics (logg, Teff, L) can be causing it? Let's find out"
   ]
  },
  {
   "cell_type": "code",
   "execution_count": 45,
   "metadata": {},
   "outputs": [
    {
     "data": {
      "text/html": [
       "&lt;Column name=&apos;L&apos; dtype=&apos;float64&apos; unit=&apos;W&apos; length=210&gt;\n",
       "<table>\n",
       "<tr><td>1.9357618614772872e+23</td></tr>\n",
       "<tr><td>1.938955889258828e+23</td></tr>\n",
       "<tr><td>1.9433361482084998e+23</td></tr>\n",
       "<tr><td>1.9504459917225145e+23</td></tr>\n",
       "<tr><td>1.951978047256692e+23</td></tr>\n",
       "<tr><td>1.9523286571939784e+23</td></tr>\n",
       "<tr><td>1.9636628735238214e+23</td></tr>\n",
       "<tr><td>1.968665493499975e+23</td></tr>\n",
       "<tr><td>1.9794335597028633e+23</td></tr>\n",
       "<tr><td>1.9838915567153325e+23</td></tr>\n",
       "<tr><td>1.9882863413159866e+23</td></tr>\n",
       "<tr><td>1.9921357495554373e+23</td></tr>\n",
       "<tr><td>...</td></tr>\n",
       "<tr><td>2.669696727316678e+23</td></tr>\n",
       "<tr><td>2.761168620064271e+23</td></tr>\n",
       "<tr><td>2.7643620938765575e+23</td></tr>\n",
       "<tr><td>2.7662531985834886e+23</td></tr>\n",
       "<tr><td>2.7718959830695045e+23</td></tr>\n",
       "<tr><td>2.775587539301794e+23</td></tr>\n",
       "<tr><td>2.78970274074741e+23</td></tr>\n",
       "<tr><td>2.7897990953305587e+23</td></tr>\n",
       "<tr><td>2.7901010279091012e+23</td></tr>\n",
       "<tr><td>2.7906021796243023e+23</td></tr>\n",
       "<tr><td>2.7911998243170328e+23</td></tr>\n",
       "<tr><td>2.8142451681141875e+23</td></tr>\n",
       "</table>"
      ],
      "text/plain": [
       "<Column name='L' dtype='float64' unit='W' length=210>\n",
       "1.9357618614772872e+23\n",
       " 1.938955889258828e+23\n",
       "1.9433361482084998e+23\n",
       "1.9504459917225145e+23\n",
       " 1.951978047256692e+23\n",
       "1.9523286571939784e+23\n",
       "1.9636628735238214e+23\n",
       " 1.968665493499975e+23\n",
       "1.9794335597028633e+23\n",
       "1.9838915567153325e+23\n",
       "1.9882863413159866e+23\n",
       "1.9921357495554373e+23\n",
       "                   ...\n",
       " 2.669696727316678e+23\n",
       " 2.761168620064271e+23\n",
       "2.7643620938765575e+23\n",
       "2.7662531985834886e+23\n",
       "2.7718959830695045e+23\n",
       " 2.775587539301794e+23\n",
       "  2.78970274074741e+23\n",
       "2.7897990953305587e+23\n",
       "2.7901010279091012e+23\n",
       "2.7906021796243023e+23\n",
       "2.7911998243170328e+23\n",
       "2.8142451681141875e+23"
      ]
     },
     "execution_count": 45,
     "metadata": {},
     "output_type": "execute_result"
    }
   ],
   "source": [
    "np.unique(bad_line['L'])"
   ]
  },
  {
   "cell_type": "code",
   "execution_count": 46,
   "metadata": {},
   "outputs": [
    {
     "data": {
      "text/html": [
       "&lt;Column name=&apos;Teff&apos; dtype=&apos;float64&apos; unit=&apos;K&apos; length=210&gt;\n",
       "<table>\n",
       "<tr><td>7705.432138873776</td></tr>\n",
       "<tr><td>7705.7160227139275</td></tr>\n",
       "<tr><td>7705.875711970164</td></tr>\n",
       "<tr><td>7708.182703726422</td></tr>\n",
       "<tr><td>7708.768434617007</td></tr>\n",
       "<tr><td>7709.584982243172</td></tr>\n",
       "<tr><td>7710.4016163617625</td></tr>\n",
       "<tr><td>7710.934250432761</td></tr>\n",
       "<tr><td>7711.449165009757</td></tr>\n",
       "<tr><td>7711.964113971307</td></tr>\n",
       "<tr><td>7712.03514411284</td></tr>\n",
       "<tr><td>7713.384841109619</td></tr>\n",
       "<tr><td>...</td></tr>\n",
       "<tr><td>13959.279403206338</td></tr>\n",
       "<tr><td>13964.905461663036</td></tr>\n",
       "<tr><td>13965.19486310998</td></tr>\n",
       "<tr><td>13967.73542208368</td></tr>\n",
       "<tr><td>13981.282146674139</td></tr>\n",
       "<tr><td>13988.076539433661</td></tr>\n",
       "<tr><td>13993.166445623003</td></tr>\n",
       "<tr><td>14020.225537487464</td></tr>\n",
       "<tr><td>14034.566413391132</td></tr>\n",
       "<tr><td>14041.16038176923</td></tr>\n",
       "<tr><td>14042.615350643451</td></tr>\n",
       "<tr><td>14049.79540393861</td></tr>\n",
       "</table>"
      ],
      "text/plain": [
       "<Column name='Teff' dtype='float64' unit='K' length=210>\n",
       " 7705.432138873776\n",
       "7705.7160227139275\n",
       " 7705.875711970164\n",
       " 7708.182703726422\n",
       " 7708.768434617007\n",
       " 7709.584982243172\n",
       "7710.4016163617625\n",
       " 7710.934250432761\n",
       " 7711.449165009757\n",
       " 7711.964113971307\n",
       "  7712.03514411284\n",
       " 7713.384841109619\n",
       "               ...\n",
       "13959.279403206338\n",
       "13964.905461663036\n",
       " 13965.19486310998\n",
       " 13967.73542208368\n",
       "13981.282146674139\n",
       "13988.076539433661\n",
       "13993.166445623003\n",
       "14020.225537487464\n",
       "14034.566413391132\n",
       " 14041.16038176923\n",
       "14042.615350643451\n",
       " 14049.79540393861"
      ]
     },
     "execution_count": 46,
     "metadata": {},
     "output_type": "execute_result"
    }
   ],
   "source": [
    "np.unique(bad_line['Teff'])"
   ]
  },
  {
   "cell_type": "code",
   "execution_count": 47,
   "metadata": {},
   "outputs": [
    {
     "data": {
      "text/html": [
       "&lt;Column name=&apos;logg&apos; dtype=&apos;float64&apos; unit=&apos;&apos; length=210&gt;\n",
       "<table>\n",
       "<tr><td>7.904228425190416</td></tr>\n",
       "<tr><td>7.9053161035634645</td></tr>\n",
       "<tr><td>7.9054379752826405</td></tr>\n",
       "<tr><td>7.906341941433868</td></tr>\n",
       "<tr><td>7.916872618316148</td></tr>\n",
       "<tr><td>7.9253270987791</td></tr>\n",
       "<tr><td>7.9264229648740185</td></tr>\n",
       "<tr><td>7.92707267369818</td></tr>\n",
       "<tr><td>7.929006761888535</td></tr>\n",
       "<tr><td>7.930270748623142</td></tr>\n",
       "<tr><td>7.935100088475994</td></tr>\n",
       "<tr><td>7.935133620071801</td></tr>\n",
       "<tr><td>...</td></tr>\n",
       "<tr><td>9.277373150351611</td></tr>\n",
       "<tr><td>9.278072223894485</td></tr>\n",
       "<tr><td>9.278107577299721</td></tr>\n",
       "<tr><td>9.278423756781695</td></tr>\n",
       "<tr><td>9.280106678609133</td></tr>\n",
       "<tr><td>9.280951117168112</td></tr>\n",
       "<tr><td>9.281585436311676</td></tr>\n",
       "<tr><td>9.284939648632994</td></tr>\n",
       "<tr><td>9.286715035198455</td></tr>\n",
       "<tr><td>9.287532011359962</td></tr>\n",
       "<tr><td>9.287710743502881</td></tr>\n",
       "<tr><td>9.288600394549206</td></tr>\n",
       "</table>"
      ],
      "text/plain": [
       "<Column name='logg' dtype='float64' unit='' length=210>\n",
       " 7.904228425190416\n",
       "7.9053161035634645\n",
       "7.9054379752826405\n",
       " 7.906341941433868\n",
       " 7.916872618316148\n",
       "   7.9253270987791\n",
       "7.9264229648740185\n",
       "  7.92707267369818\n",
       " 7.929006761888535\n",
       " 7.930270748623142\n",
       " 7.935100088475994\n",
       " 7.935133620071801\n",
       "               ...\n",
       " 9.277373150351611\n",
       " 9.278072223894485\n",
       " 9.278107577299721\n",
       " 9.278423756781695\n",
       " 9.280106678609133\n",
       " 9.280951117168112\n",
       " 9.281585436311676\n",
       " 9.284939648632994\n",
       " 9.286715035198455\n",
       " 9.287532011359962\n",
       " 9.287710743502881\n",
       " 9.288600394549206"
      ]
     },
     "execution_count": 47,
     "metadata": {},
     "output_type": "execute_result"
    }
   ],
   "source": [
    "np.unique(bad_line['logg'])"
   ]
  },
  {
   "cell_type": "code",
   "execution_count": 48,
   "metadata": {},
   "outputs": [
    {
     "data": {
      "text/html": [
       "&lt;Column name=&apos;mass&apos; dtype=&apos;float64&apos; unit=&apos;solMass&apos; length=23&gt;\n",
       "<table>\n",
       "<tr><td>1.4</td></tr>\n",
       "<tr><td>1.5</td></tr>\n",
       "<tr><td>1.6</td></tr>\n",
       "<tr><td>1.7</td></tr>\n",
       "<tr><td>1.8</td></tr>\n",
       "<tr><td>1.9</td></tr>\n",
       "<tr><td>2.0</td></tr>\n",
       "<tr><td>2.1</td></tr>\n",
       "<tr><td>2.3</td></tr>\n",
       "<tr><td>2.5</td></tr>\n",
       "<tr><td>2.7</td></tr>\n",
       "<tr><td>3.0</td></tr>\n",
       "<tr><td>3.2</td></tr>\n",
       "<tr><td>3.5</td></tr>\n",
       "<tr><td>3.7</td></tr>\n",
       "<tr><td>4.0</td></tr>\n",
       "<tr><td>4.5</td></tr>\n",
       "<tr><td>5.0</td></tr>\n",
       "<tr><td>5.5</td></tr>\n",
       "<tr><td>6.0</td></tr>\n",
       "<tr><td>6.5</td></tr>\n",
       "<tr><td>7.0</td></tr>\n",
       "<tr><td>7.5</td></tr>\n",
       "</table>"
      ],
      "text/plain": [
       "<Column name='mass' dtype='float64' unit='solMass' length=23>\n",
       "1.4\n",
       "1.5\n",
       "1.6\n",
       "1.7\n",
       "1.8\n",
       "1.9\n",
       "2.0\n",
       "2.1\n",
       "2.3\n",
       "2.5\n",
       "2.7\n",
       "3.0\n",
       "3.2\n",
       "3.5\n",
       "3.7\n",
       "4.0\n",
       "4.5\n",
       "5.0\n",
       "5.5\n",
       "6.0\n",
       "6.5\n",
       "7.0\n",
       "7.5"
      ]
     },
     "execution_count": 48,
     "metadata": {},
     "output_type": "execute_result"
    }
   ],
   "source": [
    "np.unique(bad_line['mass'])"
   ]
  },
  {
   "cell_type": "code",
   "execution_count": 49,
   "metadata": {},
   "outputs": [
    {
     "data": {
      "text/html": [
       "&lt;Column name=&apos;phase&apos; dtype=&apos;float64&apos; length=1&gt;\n",
       "<table>\n",
       "<tr><td>101.0</td></tr>\n",
       "</table>"
      ],
      "text/plain": [
       "<Column name='phase' dtype='float64' length=1>\n",
       "101.0"
      ]
     },
     "execution_count": 49,
     "metadata": {},
     "output_type": "execute_result"
    }
   ],
   "source": [
    "np.unique(bad_line['phase'])"
   ]
  },
  {
   "cell_type": "markdown",
   "metadata": {},
   "source": [
    "**It turns out that the line was caused by some compact remnants that were lingering around from the NEWSECMODS. In future versions of the stellar evolution model, I may obtain an additional program from the BPASS creators to match the types of compact remnants from the NEWSECMODS.**"
   ]
  },
  {
   "cell_type": "code",
   "execution_count": 50,
   "metadata": {},
   "outputs": [
    {
     "data": {
      "text/plain": [
       "<matplotlib.legend.Legend at 0x7ff81b7c0128>"
      ]
     },
     "execution_count": 50,
     "metadata": {},
     "output_type": "execute_result"
    },
    {
     "data": {
      "image/png": "[encoded data removed]",
      "text/plain": [
       "<Figure size 432x288 with 1 Axes>"
      ]
     },
     "metadata": {
      "needs_background": "light"
     },
     "output_type": "display_data"
    }
   ],
   "source": [
    "# Plot the mass-luminosity relationship\n",
    "from astropy import constants as cs\n",
    "from astropy import units as u\n",
    "import numpy as np\n",
    "import matplotlib.pyplot as plt\n",
    "plt.plot((clus_1.star_systems['mass_current']), np.log10(clus_1.star_systems[\"L\"]), \"r.\", label=\"Binary_Cluster made from BPASS\", alpha =0.3)\n",
    "plt.plot((clus_1.companions['mass_current']), np.log10(clus_1.companions[\"L\"]), \"r.\", label=\"Binary_Cluster made from BPASS\", alpha = 0.3)\n",
    "plt.plot((clus_2.star_systems['mass_current']), np.log10(clus_2.star_systems[\"L\"]), \"b.\", label=\"Binary_Cluster made from Parsec\", alpha =0.1)\n",
    "plt.plot((clus_2.companions['mass_current']), np.log10(clus_2.companions[\"L\"]), \"b.\", label=\"Binary_Cluster made from Parsec\", alpha = 0.1)\n",
    "plt.xlabel(\"Current Mass in solar masses\")\n",
    "plt.ylabel(\"log(L in Watts)\")\n",
    "plt.title(\"Mass-logL of Cluster at 0.1Z_solar and 10**9.3 years age\")\n",
    "plt.legend()\n",
    "# Rough pattern seems to fit. What's that line?"
   ]
  },
  {
   "cell_type": "markdown",
   "metadata": {},
   "source": [
    "Where is that hook coming from?"
   ]
  },
  {
   "cell_type": "code",
   "execution_count": 51,
   "metadata": {},
   "outputs": [
    {
     "name": "stderr",
     "output_type": "stream",
     "text": [
      "/opt/anaconda3/envs/astroconda/lib/python3.7/site-packages/astropy/table/column.py:1020: RuntimeWarning: invalid value encountered in less_equal\n",
      "  result = getattr(super(), op)(other)\n"
     ]
    },
    {
     "data": {
      "text/html": [
       "&lt;Column name=&apos;phase&apos; dtype=&apos;float64&apos; length=1&gt;\n",
       "<table>\n",
       "<tr><td>101.0</td></tr>\n",
       "</table>"
      ],
      "text/plain": [
       "<Column name='phase' dtype='float64' length=1>\n",
       "101.0"
      ]
     },
     "execution_count": 51,
     "metadata": {},
     "output_type": "execute_result"
    }
   ],
   "source": [
    "np.unique(iso1.primaries[np.where(np.log10(iso1.primaries[\"L\"])<=25)]['phase'])"
   ]
  },
  {
   "cell_type": "code",
   "execution_count": 52,
   "metadata": {},
   "outputs": [
    {
     "data": {
      "text/plain": [
       "0"
      ]
     },
     "execution_count": 52,
     "metadata": {},
     "output_type": "execute_result"
    }
   ],
   "source": [
    "len(iso1.primaries[np.where((np.log10(iso1.primaries[\"L\"])<=25) & (iso1.primaries[\"phase\"]==110))])"
   ]
  },
  {
   "cell_type": "code",
   "execution_count": 53,
   "metadata": {},
   "outputs": [
    {
     "data": {
      "text/plain": [
       "1807"
      ]
     },
     "execution_count": 53,
     "metadata": {},
     "output_type": "execute_result"
    }
   ],
   "source": [
    "len(iso1.primaries[np.where((np.log10(iso1.primaries[\"L\"])<=25) & (iso1.primaries[\"phase\"]==101))])"
   ]
  },
  {
   "cell_type": "markdown",
   "metadata": {},
   "source": [
    "OK. It makes sense that our compact remnants are causing this. (Remember, there really is no significant fusion in the insides of neutron stars or white dwarves."
   ]
  },
  {
   "cell_type": "code",
   "execution_count": 54,
   "metadata": {},
   "outputs": [
    {
     "data": {
      "text/plain": [
       "<matplotlib.legend.Legend at 0x7ff86f8cf9e8>"
      ]
     },
     "execution_count": 54,
     "metadata": {},
     "output_type": "execute_result"
    },
    {
     "data": {
      "image/png": "[encoded data removed]",
      "text/plain": [
       "<Figure size 432x288 with 1 Axes>"
      ]
     },
     "metadata": {
      "needs_background": "light"
     },
     "output_type": "display_data"
    }
   ],
   "source": [
    "# Plot the mass-luminosity relationship\n",
    "from astropy import constants as cs\n",
    "from astropy import units as u\n",
    "import matplotlib.pyplot as plt\n",
    "plt.plot(clus_1.star_systems['mass_current'], np.log10(clus_1.star_systems[\"L\"]), \"r.\", label=\"Binary_Cluster made from BPASS (Star Systems)\", alpha =1)\n",
    "plt.xlabel(\"log Current Mass in solar masses\")\n",
    "plt.ylabel(\"log(L/L_solar)\")\n",
    "plt.title(\"log-Mass-logL of Cluster at 0.1Z_solar and 10**9.3 years age\")\n",
    "plt.legend()\n",
    "# Rough pattern seems to fit. What's that line?"
   ]
  },
  {
   "cell_type": "code",
   "execution_count": 55,
   "metadata": {},
   "outputs": [
    {
     "data": {
      "text/plain": [
       "<matplotlib.legend.Legend at 0x7ff86f807240>"
      ]
     },
     "execution_count": 55,
     "metadata": {},
     "output_type": "execute_result"
    },
    {
     "data": {
      "image/png": "[encoded data removed]",
      "text/plain": [
       "<Figure size 432x288 with 1 Axes>"
      ]
     },
     "metadata": {
      "needs_background": "light"
     },
     "output_type": "display_data"
    }
   ],
   "source": [
    "# Plot the mass-luminosity relationship\n",
    "from astropy import constants as cs\n",
    "from astropy import units as u\n",
    "import matplotlib.pyplot as plt\n",
    "plt.plot(clus_1.companions['mass_current'], np.log10(clus_1.companions[\"L\"]), \"r.\", label=\"Binary_Cluster made from BPASS (Companions)\", alpha =1)\n",
    "plt.xlabel(\"log Current Mass in solar masses\")\n",
    "plt.ylabel(\"log(L/L_solar)\")\n",
    "plt.title(\"log-Mass-logL of Cluster at 0.1Z_solar and 10**9.3 years age\")\n",
    "plt.legend()\n",
    "# Rough pattern seems to fit. What's that line?"
   ]
  },
  {
   "cell_type": "markdown",
   "metadata": {},
   "source": [
    "Now go back to the shape of the clusters' Color magnitude diagrams."
   ]
  },
  {
   "cell_type": "code",
   "execution_count": 56,
   "metadata": {},
   "outputs": [
    {
     "data": {
      "text/html": [
       "&lt;Column name=&apos;log_a&apos; dtype=&apos;float64&apos; length=2164&gt;\n",
       "<table>\n",
       "<tr><td>-3.3426463070982537</td></tr>\n",
       "<tr><td>-3.1705657441145467</td></tr>\n",
       "<tr><td>-2.4315139145164695</td></tr>\n",
       "<tr><td>-2.33126995631577</td></tr>\n",
       "<tr><td>-2.204834659733729</td></tr>\n",
       "<tr><td>-2.19437123094957</td></tr>\n",
       "<tr><td>-2.0405171559886908</td></tr>\n",
       "<tr><td>-2.030048194250728</td></tr>\n",
       "<tr><td>-1.7996505620243903</td></tr>\n",
       "<tr><td>-1.7989091955318952</td></tr>\n",
       "<tr><td>-1.7908824982806295</td></tr>\n",
       "<tr><td>-1.76776715979644</td></tr>\n",
       "<tr><td>...</td></tr>\n",
       "<tr><td>nan</td></tr>\n",
       "<tr><td>nan</td></tr>\n",
       "<tr><td>nan</td></tr>\n",
       "<tr><td>nan</td></tr>\n",
       "<tr><td>nan</td></tr>\n",
       "<tr><td>nan</td></tr>\n",
       "<tr><td>nan</td></tr>\n",
       "<tr><td>nan</td></tr>\n",
       "<tr><td>nan</td></tr>\n",
       "<tr><td>nan</td></tr>\n",
       "<tr><td>nan</td></tr>\n",
       "<tr><td>nan</td></tr>\n",
       "</table>"
      ],
      "text/plain": [
       "<Column name='log_a' dtype='float64' length=2164>\n",
       "-3.3426463070982537\n",
       "-3.1705657441145467\n",
       "-2.4315139145164695\n",
       "  -2.33126995631577\n",
       " -2.204834659733729\n",
       "  -2.19437123094957\n",
       "-2.0405171559886908\n",
       " -2.030048194250728\n",
       "-1.7996505620243903\n",
       "-1.7989091955318952\n",
       "-1.7908824982806295\n",
       "  -1.76776715979644\n",
       "                ...\n",
       "                nan\n",
       "                nan\n",
       "                nan\n",
       "                nan\n",
       "                nan\n",
       "                nan\n",
       "                nan\n",
       "                nan\n",
       "                nan\n",
       "                nan\n",
       "                nan\n",
       "                nan"
      ]
     },
     "execution_count": 56,
     "metadata": {},
     "output_type": "execute_result"
    }
   ],
   "source": [
    "np.unique(clus_1.companions['log_a'])"
   ]
  },
  {
   "cell_type": "code",
   "execution_count": 57,
   "metadata": {},
   "outputs": [
    {
     "data": {
      "text/plain": [
       "<matplotlib.legend.Legend at 0x7ff85e038b70>"
      ]
     },
     "execution_count": 57,
     "metadata": {},
     "output_type": "execute_result"
    },
    {
     "data": {
      "image/png": "[encoded data removed]",
      "text/plain": [
       "<Figure size 432x288 with 1 Axes>"
      ]
     },
     "metadata": {
      "needs_background": "light"
     },
     "output_type": "display_data"
    }
   ],
   "source": [
    "# Taking a look at the Binary Cluster vs Default Settings cluster Observer's HR Diagram\n",
    "# Remember to use a distance modulus!\n",
    "import matplotlib.pyplot as plt\n",
    "plt.plot(clus_1.star_systems['m_ubv_B']-clus_1.star_systems[\"m_ubv_V\"], clus_1.star_systems[\"m_ubv_V\"]-5*np.log10(100), \"r.\",label=\"BPASS\", alpha =0.3)\n",
    "plt.plot(clus_2.star_systems['m_ubv_B']-clus_2.star_systems[\"m_ubv_V\"], clus_2.star_systems[\"m_ubv_V\"]-5*np.log10(100), \"b+\", label=\"Parsec\", alpha=0.1)\n",
    "plt.xlabel(\"B-V\")\n",
    "plt.ylabel(\"M_V\")\n",
    "plt.title(\"Color magnitude Diagram of clusters at 0.1Z_solar and 10**9.3 years age\")\n",
    "plt.gca().invert_yaxis()\n",
    "plt.legend()"
   ]
  },
  {
   "cell_type": "code",
   "execution_count": 58,
   "metadata": {},
   "outputs": [
    {
     "data": {
      "text/html": [
       "<i>Table length=0</i>\n",
       "<table id=\"table140703918430192\" class=\"table-striped table-bordered table-condensed\">\n",
       "<thead><tr><th>mass</th><th>systemMass</th><th>Teff</th><th>L</th><th>logg</th><th>isWR</th><th>mass_current</th><th>phase</th><th>metallicity</th><th>isMultiple</th><th>merged</th><th>m_ubv_U</th><th>m_ubv_V</th><th>m_ubv_B</th><th>m_ubv_R</th><th>m_ubv_I</th></tr></thead>\n",
       "<thead><tr><th>solMass</th><th></th><th>K</th><th>W</th><th></th><th></th><th>solMass</th><th></th><th></th><th></th><th></th><th></th><th></th><th></th><th></th><th></th></tr></thead>\n",
       "<thead><tr><th>float64</th><th>float64</th><th>float64</th><th>float64</th><th>float64</th><th>bool</th><th>float64</th><th>float64</th><th>float64</th><th>bool</th><th>bool</th><th>float64</th><th>float64</th><th>float64</th><th>float64</th><th>float64</th></tr></thead>\n",
       "</table>"
      ],
      "text/plain": [
       "<Table length=0>\n",
       "  mass  systemMass   Teff     L      logg  ... m_ubv_V m_ubv_B m_ubv_R m_ubv_I\n",
       "solMass               K       W            ...                                \n",
       "float64  float64   float64 float64 float64 ... float64 float64 float64 float64\n",
       "------- ---------- ------- ------- ------- ... ------- ------- ------- -------"
      ]
     },
     "execution_count": 58,
     "metadata": {},
     "output_type": "execute_result"
    }
   ],
   "source": [
    "clus_1.star_systems[np.where(clus_1.star_systems[\"m_ubv_V\"]==0)]"
   ]
  },
  {
   "cell_type": "code",
   "execution_count": 59,
   "metadata": {},
   "outputs": [
    {
     "data": {
      "text/plain": [
       "<matplotlib.legend.Legend at 0x7ff85e2f0c18>"
      ]
     },
     "execution_count": 59,
     "metadata": {},
     "output_type": "execute_result"
    },
    {
     "data": {
      "image/png": "[encoded data removed]",
      "text/plain": [
       "<Figure size 432x288 with 1 Axes>"
      ]
     },
     "metadata": {
      "needs_background": "light"
     },
     "output_type": "display_data"
    }
   ],
   "source": [
    "import matplotlib.pyplot as plt\n",
    "plt.plot(np.log10(clus_1.companions['Teff']), np.log10(clus_1.companions[\"L\"]), \"r.\",label=\"BPASS isochrone\", alpha=0.5)\n",
    "plt.plot(np.log10(clus_2.companions['Teff']), np.log10(clus_2.companions[\"L\"]), \"b+\", alpha=0.15)\n",
    "plt.plot(np.log10(clus_1.star_systems['Teff']), np.log10(clus_1.star_systems[\"L\"]), \"r.\",label=\"BPASS isochrone\", alpha=0.5)\n",
    "plt.plot(np.log10(clus_2.star_systems['Teff']), np.log10(clus_2.star_systems[\"L\"]), \"b+\", label=\"Parsec\", alpha=0.15)\n",
    "plt.xlabel(\"log(T in kelvin)\")\n",
    "plt.ylabel(\"log(L in watts)\")\n",
    "plt.title(\"HR Diagram of clusters at 0.1Z_solar and 10**9.3 years age\")\n",
    "plt.gca().invert_xaxis()\n",
    "plt.legend()"
   ]
  },
  {
   "cell_type": "markdown",
   "metadata": {},
   "source": [
    "If I look at the HR Diagram, I do see deviation with respects to the Parsec line for some of the brighter stars, but I see an overall good trend with the main-sequence turnoff. Also, I see the compact remnants where they should be given my setup."
   ]
  },
  {
   "cell_type": "markdown",
   "metadata": {},
   "source": [
    "Looking at which stars are the white dwarves?"
   ]
  },
  {
   "cell_type": "code",
   "execution_count": 60,
   "metadata": {},
   "outputs": [
    {
     "data": {
      "text/plain": [
       "array([    0,     2,    11, ..., 24608, 24620, 24632])"
      ]
     },
     "execution_count": 60,
     "metadata": {},
     "output_type": "execute_result"
    }
   ],
   "source": [
    "import numpy as np\n",
    "np.where(clus_1.star_systems['phase']==101.0)[0]"
   ]
  },
  {
   "cell_type": "markdown",
   "metadata": {},
   "source": [
    "Black Holes?"
   ]
  },
  {
   "cell_type": "code",
   "execution_count": 61,
   "metadata": {},
   "outputs": [
    {
     "data": {
      "text/plain": [
       "array([], dtype=int64)"
      ]
     },
     "execution_count": 61,
     "metadata": {},
     "output_type": "execute_result"
    }
   ],
   "source": [
    "np.where(clus_1.star_systems['phase']==103.0)[0]"
   ]
  },
  {
   "cell_type": "code",
   "execution_count": 62,
   "metadata": {},
   "outputs": [
    {
     "data": {
      "text/plain": [
       "array([], dtype=int64)"
      ]
     },
     "execution_count": 62,
     "metadata": {},
     "output_type": "execute_result"
    }
   ],
   "source": [
    "np.where(clus_1.star_systems['phase']==102.0)[0]"
   ]
  },
  {
   "cell_type": "code",
   "execution_count": 63,
   "metadata": {},
   "outputs": [
    {
     "data": {
      "text/plain": [
       "20452.31230930685"
      ]
     },
     "execution_count": 63,
     "metadata": {},
     "output_type": "execute_result"
    }
   ],
   "source": [
    "clus_1.star_systems['systemMass'].sum()"
   ]
  },
  {
   "cell_type": "code",
   "execution_count": null,
   "metadata": {},
   "outputs": [],
   "source": []
  }
 ],
 "metadata": {
  "kernelspec": {
   "display_name": "astroconda",
   "language": "python",
   "name": "astroconda"
  },
  "language_info": {
   "codemirror_mode": {
    "name": "ipython",
    "version": 3
   },
   "file_extension": ".py",
   "mimetype": "text/x-python",
   "name": "python",
   "nbconvert_exporter": "python",
   "pygments_lexer": "ipython3",
   "version": "3.7.3"
  }
 },
 "nbformat": 4,
 "nbformat_minor": 2
}
