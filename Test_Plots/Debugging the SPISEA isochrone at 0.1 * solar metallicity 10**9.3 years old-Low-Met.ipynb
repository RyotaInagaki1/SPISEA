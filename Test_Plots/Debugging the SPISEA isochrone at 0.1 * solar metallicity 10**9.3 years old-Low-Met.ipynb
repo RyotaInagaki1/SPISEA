{
 "cells": [
  {
   "cell_type": "markdown",
   "metadata": {},
   "source": [
    "## Walking Through the BPASS isochrone at 10^9.3 years age. (Non Solar Metallicity)\n",
    "In this BPASS isochrone and cluster plot, I go over the BPASS isochrone for 10^9.3 years age, a tenth of solar metallicity, AKs=0.0, and distance of 1000 parsecs from Earth. From the isochrone and cluster, we discuss several plots such as the log_g frequency distribution of the isochrone, the color magnitude diagram (B-V vs M_V), and the current-mass luminosity relationship of the cluster."
   ]
  },
  {
   "cell_type": "markdown",
   "metadata": {},
   "source": [
    "For a sanity check, we can see that the primaries, secondaries, and single stars have phasees of 5 or of 101 or of 110. This is since we haven't added neutron stars or black holes yet. Stars with phase of -99 exist, and those are the secondary stars that have already merged."
   ]
  },
  {
   "cell_type": "markdown",
   "metadata": {},
   "source": [
    "**I will be using the Salpeter IMF (Salpeter 1955) and a non-clean-number age. I also use the MISTv.1 for comparison since only MISTv.1 and BPASS can account for non-solar metallicities.**"
   ]
  },
  {
   "cell_type": "markdown",
   "metadata": {},
   "source": [
    "## This is for tutorial as well as debugging and demonstration purposes."
   ]
  },
  {
   "cell_type": "code",
   "execution_count": 1,
   "metadata": {},
   "outputs": [
    {
     "name": "stderr",
     "output_type": "stream",
     "text": [
      "/opt/anaconda3/envs/astroconda/lib/python3.7/site-packages/pysynphot/locations.py:345: UserWarning: Extinction files not found in /g/lu/models/cdbs/extinction\n",
      "  warnings.warn('Extinction files not found in %s' % (extdir, ))\n",
      "/opt/anaconda3/envs/astroconda/lib/python3.7/site-packages/pysynphot/refs.py:125: UserWarning: No thermal tables found, no thermal calculations can be performed. No files found for /g/lu/models/cdbs/mtab/*_tmt.fits\n",
      "  'no thermal calculations can be performed. ' + str(e))\n",
      "/opt/anaconda3/envs/astroconda/lib/python3.7/site-packages/astropy/units/quantity.py:477: RuntimeWarning: invalid value encountered in true_divide\n",
      "  result = super().__array_ufunc__(function, method, *arrays, **kwargs)\n",
      "/u/ryotainagaki/Desktop/PyPopStar/spisea/evolution.py:1792: RuntimeWarning: overflow encountered in power\n",
      "  (1 / cs.au) * un.m)\n",
      "/opt/anaconda3/envs/astroconda/lib/python3.7/site-packages/astropy/units/quantity.py:477: RuntimeWarning: divide by zero encountered in true_divide\n",
      "  result = super().__array_ufunc__(function, method, *arrays, **kwargs)\n",
      "/opt/anaconda3/envs/astroconda/lib/python3.7/site-packages/astropy/units/quantity.py:477: RuntimeWarning: invalid value encountered in true_divide\n",
      "  result = super().__array_ufunc__(function, method, *arrays, **kwargs)\n"
     ]
    },
    {
     "name": "stdout",
     "output_type": "stream",
     "text": [
      "Changing to logg=5.00 for T= 21446 logg=6.93\n",
      "Changing to logg=5.00 for T= 20406 logg=6.94\n",
      "Changing to logg=5.00 for T= 20815 logg=7.18\n",
      "Changing to logg=5.00 for T= 37166 logg=7.13\n",
      "Changing to logg=4.00 for T= 35409 logg=3.94\n",
      "Changing to logg=5.00 for T= 20536 logg=7.03\n",
      "Changing to logg=5.00 for T= 19488 logg=6.97\n",
      "Changing to logg=2.00 for T=  9954 logg=1.62\n",
      "Changing to logg=5.00 for T= 20775 logg=7.05\n",
      "Changing to logg=5.00 for T= 20895 logg=7.17\n",
      "Changing to logg=5.00 for T= 22614 logg=7.26\n",
      "Changing to logg=5.00 for T= 19498 logg=6.97\n",
      "Changing to logg=5.00 for T= 21461 logg=7.15\n",
      "Changing to logg=5.00 for T= 23300 logg=6.77\n",
      "Changing to logg=5.00 for T= 18710 logg=6.87\n",
      "Changing to logg=5.00 for T= 21459 logg=7.14\n",
      "Changing to logg=5.00 for T= 19614 logg=6.94\n",
      "Changing to logg=5.00 for T= 19956 logg=6.89\n",
      "Changing to logg=5.00 for T= 20066 logg=7.06\n",
      "Changing to logg=5.00 for T= 21555 logg=7.08\n",
      "Changing to logg=5.00 for T= 19610 logg=6.86\n",
      "Changing to logg=5.00 for T= 21043 logg=7.20\n",
      "Changing to logg=5.00 for T= 44356 logg=7.09\n",
      "Changing to logg=2.50 for T= 12169 logg=1.95\n",
      "Changing to logg=5.00 for T= 20685 logg=7.13\n",
      "Changing to logg=5.00 for T= 19588 logg=6.92\n",
      "Changing to logg=5.00 for T= 20676 logg=6.93\n",
      "Changing to logg=5.00 for T= 20714 logg=6.86\n",
      "Changing to T= 50000 for T= 70513 logg=5.98\n",
      "Changing to logg=5.00 for T= 70513 logg=5.98\n",
      "Changing to logg=5.00 for T= 19952 logg=6.85\n",
      "Changing to logg=5.00 for T= 21822 logg=7.09\n",
      "Changing to logg=5.00 for T= 20912 logg=6.93\n",
      "Changing to logg=5.00 for T= 19602 logg=6.96\n",
      "Changing to logg=5.00 for T= 23700 logg=6.80\n",
      "Changing to logg=5.00 for T= 18919 logg=6.90\n",
      "Changing to logg=5.00 for T= 20435 logg=7.07\n",
      "Changing to logg=5.00 for T= 19714 logg=6.96\n",
      "Changing to logg=5.00 for T= 19976 logg=6.88\n",
      "Changing to logg=5.00 for T= 21261 logg=7.14\n",
      "Changing to logg=5.00 for T= 20153 logg=6.92\n",
      "Changing to logg=5.00 for T= 18462 logg=6.81\n",
      "Changing to logg=5.00 for T= 21284 logg=7.20\n",
      "Changing to logg=5.00 for T= 20510 logg=7.13\n",
      "Changing to logg=5.00 for T= 20567 logg=6.98\n",
      "Changing to logg=5.00 for T= 26501 logg=5.93\n",
      "Changing to T= 50000 for T= 73500 logg=5.90\n",
      "Changing to logg=5.00 for T= 73500 logg=5.90\n",
      "Changing to logg=5.00 for T= 21031 logg=7.10\n",
      "Changing to logg=5.00 for T= 20735 logg=7.02\n",
      "Changing to logg=5.00 for T= 20872 logg=7.00\n",
      "Changing to T=  2300 for T=  1847 logg=4.44\n",
      "Changing to logg=5.00 for T= 28452 logg=5.62\n",
      "Changing to logg=5.00 for T= 19555 logg=6.88\n",
      "Changing to logg=5.00 for T= 39033 logg=7.06\n",
      "Changing to logg=5.00 for T= 26657 logg=5.96\n",
      "Changing to logg=5.00 for T= 21537 logg=7.12\n",
      "Changing to T=  2300 for T=  1847 logg=4.44\n",
      "Changing to logg=5.00 for T= 25718 logg=5.85\n",
      "Changing to T=  2300 for T=  1847 logg=4.44\n",
      "Changing to logg=5.00 for T= 19829 logg=6.92\n",
      "Changing to logg=5.00 for T= 19139 logg=6.85\n",
      "Changing to T=  2300 for T=   462 logg=4.44\n",
      "Changing to logg=1.50 for T=  8257 logg=1.39\n",
      "Changing to logg=5.00 for T= 20381 logg=6.80\n",
      "Changing to T=  2300 for T=  1847 logg=4.44\n",
      "Changing to T=  2300 for T=  1385 logg=4.44\n",
      "Changing to logg=5.00 for T= 20672 logg=6.94\n",
      "Changing to T=  2300 for T=  1385 logg=4.44\n",
      "Changing to logg=5.00 for T= 26658 logg=5.98\n",
      "Changing to T=  2300 for T=  1731 logg=4.44\n",
      "Changing to logg=5.00 for T= 18965 logg=6.88\n",
      "Changing to T=  2300 for T=  1385 logg=4.44\n",
      "Changing to logg=5.00 for T= 21461 logg=7.01\n",
      "Changing to logg=5.00 for T= 21534 logg=7.02\n",
      "Changing to T=  2300 for T=   923 logg=4.44\n",
      "Changing to logg=5.00 for T= 19368 logg=6.97\n",
      "Making photometry for isochrone: log(t) = 9.30  AKs = 0.00  dist = 1000\n",
      "     Starting at:  2021-04-09 22:23:01.294813   Usually takes ~5 minutes\n",
      "Starting filter: ubv,U   Elapsed time: 0.00 seconds\n",
      "Starting synthetic photometry\n",
      "Singles\n",
      "M =   5.500 Msun  T = 11056 K  m_ubv_U = 23.56\n",
      "M =   1.380 Msun  T =  7714 K  m_ubv_U = 12.25\n",
      "Primaries\n",
      "M =   1.300 Msun  T =  7870 K  m_ubv_U = 12.64\n",
      "M =   1.500 Msun  T =  4190 K  m_ubv_U = 10.23\n",
      "M =   5.500 Msun  T = 10998 K  m_ubv_U = 23.56\n",
      "M =   0.398 Msun  T =     0 K  m_ubv_U =  nan\n",
      "M =   1.259 Msun  T =  3090 K  m_ubv_U = 28.01\n",
      "M =   3.700 Msun  T =  5939 K  m_ubv_U = 24.87\n",
      "M =   3.500 Msun  T =  5732 K  m_ubv_U = 25.04\n",
      "M =   1.000 Msun  T =     0 K  m_ubv_U =  nan\n",
      "M =   4.500 Msun  T =  8212 K  m_ubv_U = 23.27\n",
      "M =   5.000 Msun  T =  8296 K  m_ubv_U = 23.26\n",
      "M =   6.000 Msun  T =  9098 K  m_ubv_U = 23.04\n",
      "M =   1.500 Msun  T =  4190 K  m_ubv_U = 10.23\n",
      "M =   3.500 Msun  T =  7034 K  m_ubv_U = 24.23\n",
      "M =   1.000 Msun  T =  6624 K  m_ubv_U = 14.38\n",
      "M =   5.000 Msun  T =  9156 K  m_ubv_U = 23.68\n",
      "M =   0.631 Msun  T =     0 K  m_ubv_U =  nan\n",
      "M =   1.000 Msun  T =     0 K  m_ubv_U =  nan\n",
      "M =   3.500 Msun  T =  6133 K  m_ubv_U = 24.52\n",
      "M =   0.501 Msun  T =  3090 K  m_ubv_U = 27.89\n",
      "M =   1.000 Msun  T =     0 K  m_ubv_U =  nan\n",
      "M =   1.000 Msun  T =  6624 K  m_ubv_U = 14.38\n",
      "M =   0.800 Msun  T =  5799 K  m_ubv_U = 15.91\n",
      "M =   1.400 Msun  T =     0 K  m_ubv_U =  nan\n",
      "M =   1.400 Msun  T =  3090 K  m_ubv_U = 27.98\n",
      "M =   2.300 Msun  T =  6704 K  m_ubv_U = 23.95\n",
      "M =   1.400 Msun  T =  7845 K  m_ubv_U = 12.04\n",
      "M =   0.501 Msun  T =     0 K  m_ubv_U =  nan\n",
      "M =   3.700 Msun  T =  7169 K  m_ubv_U = 24.17\n",
      "M =   0.631 Msun  T =  3090 K  m_ubv_U = 27.95\n",
      "M =   2.100 Msun  T =  7439 K  m_ubv_U = 24.06\n",
      "M =   0.251 Msun  T =     0 K  m_ubv_U =  nan\n",
      "M =   1.000 Msun  T =  7207 K  m_ubv_U = 23.28\n",
      "M =   2.300 Msun  T =  7302 K  m_ubv_U = 23.87\n",
      "M =   1.000 Msun  T =     0 K  m_ubv_U =  nan\n",
      "M =   5.500 Msun  T =  9002 K  m_ubv_U = 23.06\n",
      "M =   3.200 Msun  T =  7347 K  m_ubv_U = 23.86\n",
      "M =   1.000 Msun  T =     0 K  m_ubv_U =  nan\n",
      "M =   1.800 Msun  T =  7716 K  m_ubv_U = 22.85\n",
      "M =   1.400 Msun  T =  3090 K  m_ubv_U =  nan\n",
      "M =   2.100 Msun  T =  6388 K  m_ubv_U = 24.14\n",
      "M =   1.200 Msun  T =  7711 K  m_ubv_U = 13.15\n",
      "M =   3.500 Msun  T =  8970 K  m_ubv_U = 23.00\n",
      "M =   3.200 Msun  T =  7347 K  m_ubv_U = 23.86\n",
      "M =   1.800 Msun  T =  6451 K  m_ubv_U = 24.10\n",
      "M =   1.800 Msun  T =  6451 K  m_ubv_U = 24.10\n",
      "M =   1.200 Msun  T =  7701 K  m_ubv_U = 13.14\n",
      "M =   2.100 Msun  T =  7113 K  m_ubv_U = 23.95\n",
      "M =   0.794 Msun  T =     0 K  m_ubv_U =  nan\n",
      "Secondaries\n",
      "M =   0.780 Msun  T =  4501 K  m_ubv_U = 18.22\n",
      "M =   0.300 Msun  T =  3772 K  m_ubv_U = 22.78\n",
      "M =   3.850 Msun  T = 18031 K  m_ubv_U = 9.29\n",
      "M =   3.200 Msun  T =  9063 K  m_ubv_U = 22.86\n",
      "M =   1.000 Msun  T =  6643 K  m_ubv_U = 14.33\n",
      "M =   2.590 Msun  T = 13415 K  m_ubv_U = 10.37\n",
      "M =   1.050 Msun  T =  6539 K  m_ubv_U = 14.47\n",
      "M =   1.900 Msun  T =  7235 K  m_ubv_U = 23.26\n",
      "M =   1.350 Msun  T =  8444 K  m_ubv_U = 12.46\n",
      "M =   2.000 Msun  T = 10338 K  m_ubv_U = 10.39\n",
      "M =   4.800 Msun  T = 16407 K  m_ubv_U = 7.42\n",
      "M =   0.450 Msun  T =  4028 K  m_ubv_U = 21.24\n",
      "M =   1.750 Msun  T = 10654 K  m_ubv_U = 12.03\n",
      "M =   0.300 Msun  T =  3772 K  m_ubv_U = 22.78\n",
      "M =   3.500 Msun  T = 17052 K  m_ubv_U = 9.57\n",
      "M =   1.700 Msun  T = 12866 K  m_ubv_U = 19.47\n",
      "M =   3.200 Msun  T =  7354 K  m_ubv_U = 23.85\n",
      "M =   1.050 Msun  T =  6463 K  m_ubv_U = 14.49\n",
      "M =   6.000 Msun  T =  8623 K  m_ubv_U = 23.18\n",
      "M =   1.400 Msun  T =  7556 K  m_ubv_U = 12.13\n",
      "M =   0.400 Msun  T =  3901 K  m_ubv_U = 21.86\n",
      "M =   0.720 Msun  T =  4155 K  m_ubv_U = 19.28\n",
      "M =   3.700 Msun  T =  5612 K  m_ubv_U = 25.15\n",
      "M =   0.800 Msun  T =  5792 K  m_ubv_U = 15.93\n",
      "M =   1.150 Msun  T =  7207 K  m_ubv_U = 13.88\n",
      "M =   0.140 Msun  T =  3478 K  m_ubv_U = 25.31\n",
      "M =   1.400 Msun  T =  7556 K  m_ubv_U = 12.13\n",
      "M =   1.480 Msun  T =  9124 K  m_ubv_U = 12.77\n",
      "M =   6.000 Msun  T =  9342 K  m_ubv_U = 23.01\n",
      "M =   1.890 Msun  T =   nan K  m_ubv_U =  nan\n",
      "M =   1.500 Msun  T = 17015 K  m_ubv_U = 18.75\n",
      "M =   0.900 Msun  T =   nan K  m_ubv_U =  nan\n",
      "M =   0.460 Msun  T =   nan K  m_ubv_U =  nan\n",
      "M =   2.300 Msun  T =  6736 K  m_ubv_U = 23.93\n",
      "M =   1.650 Msun  T =  9378 K  m_ubv_U = 11.17\n",
      "M =   1.600 Msun  T =  9905 K  m_ubv_U = 12.39\n",
      "M =   3.200 Msun  T =  7354 K  m_ubv_U = 23.85\n",
      "M =   1.080 Msun  T =  6928 K  m_ubv_U = 14.11\n",
      "M =   3.000 Msun  T =  7114 K  m_ubv_U = 23.95\n",
      "M =   1.260 Msun  T =  7916 K  m_ubv_U = 13.35\n",
      "M =   0.360 Msun  T =  3832 K  m_ubv_U = 22.27\n",
      "M =   0.350 Msun  T =  3818 K  m_ubv_U = 22.37\n",
      "M =   2.560 Msun  T = 13752 K  m_ubv_U = 10.32\n",
      "M =   0.360 Msun  T =   nan K  m_ubv_U =  nan\n",
      "M =   0.360 Msun  T =   nan K  m_ubv_U =  nan\n",
      "M =   0.720 Msun  T =  4155 K  m_ubv_U = 19.28\n",
      "M =   0.420 Msun  T =   nan K  m_ubv_U =  nan\n",
      "M =   3.700 Msun  T =  5811 K  m_ubv_U = 24.97\n",
      "Starting filter: ubv,V   Elapsed time: 29.31 seconds\n",
      "Starting synthetic photometry\n",
      "Singles\n",
      "M =   5.500 Msun  T = 11056 K  m_ubv_V = 24.23\n",
      "M =   1.380 Msun  T =  7714 K  m_ubv_V = 12.03\n",
      "Primaries\n",
      "M =   1.300 Msun  T =  7870 K  m_ubv_V = 12.44\n",
      "M =   1.500 Msun  T =  4190 K  m_ubv_V = 7.79\n",
      "M =   5.500 Msun  T = 10998 K  m_ubv_V = 24.23\n",
      "M =   0.398 Msun  T =     0 K  m_ubv_V =  nan\n",
      "M =   1.259 Msun  T =  3090 K  m_ubv_V = 24.51\n",
      "M =   3.700 Msun  T =  5939 K  m_ubv_V = 24.49\n",
      "M =   3.500 Msun  T =  5732 K  m_ubv_V = 24.58\n",
      "M =   1.000 Msun  T =     0 K  m_ubv_V =  nan\n",
      "M =   4.500 Msun  T =  8212 K  m_ubv_V = 23.53\n",
      "M =   5.000 Msun  T =  8296 K  m_ubv_V = 23.54\n",
      "M =   6.000 Msun  T =  9098 K  m_ubv_V = 23.45\n",
      "M =   1.500 Msun  T =  4190 K  m_ubv_V = 7.79\n",
      "M =   3.500 Msun  T =  7034 K  m_ubv_V = 24.21\n",
      "M =   1.000 Msun  T =  6624 K  m_ubv_V = 14.18\n",
      "M =   5.000 Msun  T =  9156 K  m_ubv_V = 24.10\n",
      "M =   0.631 Msun  T =     0 K  m_ubv_V =  nan\n",
      "M =   1.000 Msun  T =     0 K  m_ubv_V =  nan\n",
      "M =   3.500 Msun  T =  6133 K  m_ubv_V = 24.21\n",
      "M =   0.501 Msun  T =  3090 K  m_ubv_V = 24.51\n",
      "M =   1.000 Msun  T =     0 K  m_ubv_V =  nan\n",
      "M =   1.000 Msun  T =  6624 K  m_ubv_V = 14.18\n",
      "M =   0.800 Msun  T =  5799 K  m_ubv_V = 15.46\n",
      "M =   1.400 Msun  T =     0 K  m_ubv_V =  nan\n",
      "M =   1.400 Msun  T =  3090 K  m_ubv_V = 24.51\n",
      "M =   2.300 Msun  T =  6704 K  m_ubv_V = 23.83\n",
      "M =   1.400 Msun  T =  7845 K  m_ubv_V = 11.82\n",
      "M =   0.501 Msun  T =     0 K  m_ubv_V =  nan\n",
      "M =   3.700 Msun  T =  7169 K  m_ubv_V = 24.19\n",
      "M =   0.631 Msun  T =  3090 K  m_ubv_V = 24.51\n",
      "M =   2.100 Msun  T =  7439 K  m_ubv_V = 24.15\n",
      "M =   0.251 Msun  T =     0 K  m_ubv_V =  nan\n",
      "M =   1.000 Msun  T =  7207 K  m_ubv_V = 23.31\n",
      "M =   2.300 Msun  T =  7302 K  m_ubv_V = 23.93\n",
      "M =   1.000 Msun  T =     0 K  m_ubv_V =  nan\n",
      "M =   5.500 Msun  T =  9002 K  m_ubv_V = 23.46\n",
      "M =   3.200 Msun  T =  7347 K  m_ubv_V = 23.92\n",
      "M =   1.000 Msun  T =     0 K  m_ubv_V =  nan\n",
      "M =   1.800 Msun  T =  7716 K  m_ubv_V = 23.01\n",
      "M =   1.400 Msun  T =  3090 K  m_ubv_V =  nan\n",
      "M =   2.100 Msun  T =  6388 K  m_ubv_V = 23.93\n",
      "M =   1.200 Msun  T =  7711 K  m_ubv_V = 12.96\n",
      "M =   3.500 Msun  T =  8970 K  m_ubv_V = 23.40\n",
      "M =   3.200 Msun  T =  7347 K  m_ubv_V = 23.92\n",
      "M =   1.800 Msun  T =  6451 K  m_ubv_V = 23.91\n",
      "M =   1.800 Msun  T =  6451 K  m_ubv_V = 23.91\n",
      "M =   1.200 Msun  T =  7701 K  m_ubv_V = 12.95\n",
      "M =   2.100 Msun  T =  7113 K  m_ubv_V = 23.96\n",
      "M =   0.794 Msun  T =     0 K  m_ubv_V =  nan\n",
      "Secondaries\n",
      "M =   0.780 Msun  T =  4501 K  m_ubv_V = 16.63\n",
      "M =   0.300 Msun  T =  3772 K  m_ubv_V = 20.32\n",
      "M =   3.850 Msun  T = 18031 K  m_ubv_V = 10.11\n",
      "M =   3.200 Msun  T =  9063 K  m_ubv_V = 23.27\n",
      "M =   1.000 Msun  T =  6643 K  m_ubv_V = 14.13\n",
      "M =   2.590 Msun  T = 13415 K  m_ubv_V = 10.87\n",
      "M =   1.050 Msun  T =  6539 K  m_ubv_V = 14.27\n",
      "M =   1.900 Msun  T =  7235 K  m_ubv_V = 23.30\n",
      "M =   1.350 Msun  T =  8444 K  m_ubv_V = 12.29\n",
      "M =   2.000 Msun  T = 10338 K  m_ubv_V = 10.53\n",
      "M =   4.800 Msun  T = 16407 K  m_ubv_V = 8.19\n",
      "M =   0.450 Msun  T =  4028 K  m_ubv_V = 19.13\n",
      "M =   1.750 Msun  T = 10654 K  m_ubv_V = 12.18\n",
      "M =   0.300 Msun  T =  3772 K  m_ubv_V = 20.31\n",
      "M =   3.500 Msun  T = 17052 K  m_ubv_V = 10.33\n",
      "M =   1.700 Msun  T = 12866 K  m_ubv_V = 20.30\n",
      "M =   3.200 Msun  T =  7354 K  m_ubv_V = 23.92\n",
      "M =   1.050 Msun  T =  6463 K  m_ubv_V = 14.27\n",
      "M =   6.000 Msun  T =  8623 K  m_ubv_V = 23.52\n",
      "M =   1.400 Msun  T =  7556 K  m_ubv_V = 11.91\n",
      "M =   0.400 Msun  T =  3901 K  m_ubv_V = 19.59\n",
      "M =   0.720 Msun  T =  4155 K  m_ubv_V = 17.30\n",
      "M =   3.700 Msun  T =  5612 K  m_ubv_V = 24.63\n",
      "M =   0.800 Msun  T =  5792 K  m_ubv_V = 15.48\n",
      "M =   1.150 Msun  T =  7207 K  m_ubv_V = 13.72\n",
      "M =   0.140 Msun  T =  3478 K  m_ubv_V = 22.30\n",
      "M =   1.400 Msun  T =  7556 K  m_ubv_V = 11.91\n",
      "M =   1.480 Msun  T =  9124 K  m_ubv_V = 12.67\n",
      "M =   6.000 Msun  T =  9342 K  m_ubv_V = 23.47\n",
      "M =   1.890 Msun  T =   nan K  m_ubv_V =  nan\n",
      "M =   1.500 Msun  T = 17015 K  m_ubv_V = 19.80\n",
      "M =   0.900 Msun  T =   nan K  m_ubv_V =  nan\n",
      "M =   0.460 Msun  T =   nan K  m_ubv_V =  nan\n",
      "M =   2.300 Msun  T =  6736 K  m_ubv_V = 23.82\n",
      "M =   1.650 Msun  T =  9378 K  m_ubv_V = 11.13\n",
      "M =   1.600 Msun  T =  9905 K  m_ubv_V = 12.41\n",
      "M =   3.200 Msun  T =  7354 K  m_ubv_V = 23.92\n",
      "M =   1.080 Msun  T =  6928 K  m_ubv_V = 13.95\n",
      "M =   3.000 Msun  T =  7114 K  m_ubv_V = 23.96\n",
      "M =   1.260 Msun  T =  7916 K  m_ubv_V = 13.17\n",
      "M =   0.360 Msun  T =  3832 K  m_ubv_V = 19.90\n",
      "M =   0.350 Msun  T =  3818 K  m_ubv_V = 19.97\n",
      "M =   2.560 Msun  T = 13752 K  m_ubv_V = 10.86\n",
      "M =   0.360 Msun  T =   nan K  m_ubv_V =  nan\n",
      "M =   0.360 Msun  T =   nan K  m_ubv_V =  nan\n",
      "M =   0.720 Msun  T =  4155 K  m_ubv_V = 17.30\n",
      "M =   0.420 Msun  T =   nan K  m_ubv_V =  nan\n",
      "M =   3.700 Msun  T =  5811 K  m_ubv_V = 24.54\n",
      "Starting filter: ubv,B   Elapsed time: 58.33 seconds\n",
      "Starting synthetic photometry\n",
      "Singles\n",
      "M =   5.500 Msun  T = 11056 K  m_ubv_B = 24.33\n",
      "M =   1.380 Msun  T =  7714 K  m_ubv_B = 12.24\n",
      "Primaries\n",
      "M =   1.300 Msun  T =  7870 K  m_ubv_B = 12.64\n",
      "M =   1.500 Msun  T =  4190 K  m_ubv_B = 9.12\n",
      "M =   5.500 Msun  T = 10998 K  m_ubv_B = 24.33\n",
      "M =   0.398 Msun  T =     0 K  m_ubv_B =  nan\n",
      "M =   1.259 Msun  T =  3090 K  m_ubv_B = 26.38\n",
      "M =   3.700 Msun  T =  5939 K  m_ubv_B = 25.13\n",
      "M =   3.500 Msun  T =  5732 K  m_ubv_B = 25.25\n",
      "M =   1.000 Msun  T =     0 K  m_ubv_B =  nan\n",
      "M =   4.500 Msun  T =  8212 K  m_ubv_B = 23.84\n",
      "M =   5.000 Msun  T =  8296 K  m_ubv_B = 23.84\n",
      "M =   6.000 Msun  T =  9098 K  m_ubv_B = 23.68\n",
      "M =   1.500 Msun  T =  4190 K  m_ubv_B = 9.12\n",
      "M =   3.500 Msun  T =  7034 K  m_ubv_B = 24.66\n",
      "M =   1.000 Msun  T =  6624 K  m_ubv_B = 14.58\n",
      "M =   5.000 Msun  T =  9156 K  m_ubv_B = 24.33\n",
      "M =   0.631 Msun  T =     0 K  m_ubv_B =  nan\n",
      "M =   1.000 Msun  T =     0 K  m_ubv_B =  nan\n",
      "M =   3.500 Msun  T =  6133 K  m_ubv_B = 24.81\n",
      "M =   0.501 Msun  T =  3090 K  m_ubv_B = 26.35\n",
      "M =   1.000 Msun  T =     0 K  m_ubv_B =  nan\n",
      "M =   1.000 Msun  T =  6624 K  m_ubv_B = 14.58\n",
      "M =   0.800 Msun  T =  5799 K  m_ubv_B = 16.07\n",
      "M =   1.400 Msun  T =     0 K  m_ubv_B =  nan\n",
      "M =   1.400 Msun  T =  3090 K  m_ubv_B = 26.37\n",
      "M =   2.300 Msun  T =  6704 K  m_ubv_B = 24.33\n",
      "M =   1.400 Msun  T =  7845 K  m_ubv_B = 12.01\n",
      "M =   0.501 Msun  T =     0 K  m_ubv_B =  nan\n",
      "M =   3.700 Msun  T =  7169 K  m_ubv_B = 24.62\n",
      "M =   0.631 Msun  T =  3090 K  m_ubv_B = 26.37\n",
      "M =   2.100 Msun  T =  7439 K  m_ubv_B = 24.55\n",
      "M =   0.251 Msun  T =     0 K  m_ubv_B =  nan\n",
      "M =   1.000 Msun  T =  7207 K  m_ubv_B = 23.73\n",
      "M =   2.300 Msun  T =  7302 K  m_ubv_B = 24.34\n",
      "M =   1.000 Msun  T =     0 K  m_ubv_B =  nan\n",
      "M =   5.500 Msun  T =  9002 K  m_ubv_B = 23.69\n",
      "M =   3.200 Msun  T =  7347 K  m_ubv_B = 24.33\n",
      "M =   1.000 Msun  T =     0 K  m_ubv_B =  nan\n",
      "M =   1.800 Msun  T =  7716 K  m_ubv_B = 23.37\n",
      "M =   1.400 Msun  T =  3090 K  m_ubv_B =  nan\n",
      "M =   2.100 Msun  T =  6388 K  m_ubv_B = 24.48\n",
      "M =   1.200 Msun  T =  7711 K  m_ubv_B = 13.19\n",
      "M =   3.500 Msun  T =  8970 K  m_ubv_B = 23.63\n",
      "M =   3.200 Msun  T =  7347 K  m_ubv_B = 24.33\n",
      "M =   1.800 Msun  T =  6451 K  m_ubv_B = 24.45\n",
      "M =   1.800 Msun  T =  6451 K  m_ubv_B = 24.45\n",
      "M =   1.200 Msun  T =  7701 K  m_ubv_B = 13.18\n",
      "M =   2.100 Msun  T =  7113 K  m_ubv_B = 24.40\n",
      "M =   0.794 Msun  T =     0 K  m_ubv_B =  nan\n",
      "Secondaries\n",
      "M =   0.780 Msun  T =  4501 K  m_ubv_B = 17.66\n",
      "M =   0.300 Msun  T =  3772 K  m_ubv_B = 21.78\n",
      "M =   3.850 Msun  T = 18031 K  m_ubv_B = 9.94\n",
      "M =   3.200 Msun  T =  9063 K  m_ubv_B = 23.50\n",
      "M =   1.000 Msun  T =  6643 K  m_ubv_B = 14.52\n",
      "M =   2.590 Msun  T = 13415 K  m_ubv_B = 10.76\n",
      "M =   1.050 Msun  T =  6539 K  m_ubv_B = 14.68\n",
      "M =   1.900 Msun  T =  7235 K  m_ubv_B = 23.72\n",
      "M =   1.350 Msun  T =  8444 K  m_ubv_B = 12.42\n",
      "M =   2.000 Msun  T = 10338 K  m_ubv_B = 10.49\n",
      "M =   4.800 Msun  T = 16407 K  m_ubv_B = 8.03\n",
      "M =   0.450 Msun  T =  4028 K  m_ubv_B = 20.42\n",
      "M =   1.750 Msun  T = 10654 K  m_ubv_B = 12.15\n",
      "M =   0.300 Msun  T =  3772 K  m_ubv_B = 21.78\n",
      "M =   3.500 Msun  T = 17052 K  m_ubv_B = 10.18\n",
      "M =   1.700 Msun  T = 12866 K  m_ubv_B = 20.32\n",
      "M =   3.200 Msun  T =  7354 K  m_ubv_B = 24.33\n",
      "M =   1.050 Msun  T =  6463 K  m_ubv_B = 14.70\n",
      "M =   6.000 Msun  T =  8623 K  m_ubv_B = 23.79\n",
      "M =   1.400 Msun  T =  7556 K  m_ubv_B = 12.13\n",
      "M =   0.400 Msun  T =  3901 K  m_ubv_B = 20.97\n",
      "M =   0.720 Msun  T =  4155 K  m_ubv_B = 18.52\n",
      "M =   3.700 Msun  T =  5612 K  m_ubv_B = 25.33\n",
      "M =   0.800 Msun  T =  5792 K  m_ubv_B = 16.08\n",
      "M =   1.150 Msun  T =  7207 K  m_ubv_B = 14.02\n",
      "M =   0.140 Msun  T =  3478 K  m_ubv_B = 23.98\n",
      "M =   1.400 Msun  T =  7556 K  m_ubv_B = 12.13\n",
      "M =   1.480 Msun  T =  9124 K  m_ubv_B = 12.74\n",
      "M =   6.000 Msun  T =  9342 K  m_ubv_B = 23.67\n",
      "M =   1.890 Msun  T =   nan K  m_ubv_B =  nan\n",
      "M =   1.500 Msun  T = 17015 K  m_ubv_B = 19.70\n",
      "M =   0.900 Msun  T =   nan K  m_ubv_B =  nan\n",
      "M =   0.460 Msun  T =   nan K  m_ubv_B =  nan\n",
      "M =   2.300 Msun  T =  6736 K  m_ubv_B = 24.32\n",
      "M =   1.650 Msun  T =  9378 K  m_ubv_B = 11.15\n",
      "M =   1.600 Msun  T =  9905 K  m_ubv_B = 12.43\n",
      "M =   3.200 Msun  T =  7354 K  m_ubv_B = 24.33\n",
      "M =   1.080 Msun  T =  6928 K  m_ubv_B = 14.29\n",
      "M =   3.000 Msun  T =  7114 K  m_ubv_B = 24.40\n",
      "M =   1.260 Msun  T =  7916 K  m_ubv_B = 13.38\n",
      "M =   0.360 Msun  T =  3832 K  m_ubv_B = 21.33\n",
      "M =   0.350 Msun  T =  3818 K  m_ubv_B = 21.41\n",
      "M =   2.560 Msun  T = 13752 K  m_ubv_B = 10.75\n",
      "M =   0.360 Msun  T =   nan K  m_ubv_B =  nan\n",
      "M =   0.360 Msun  T =   nan K  m_ubv_B =  nan\n",
      "M =   0.720 Msun  T =  4155 K  m_ubv_B = 18.52\n",
      "M =   0.420 Msun  T =   nan K  m_ubv_B =  nan\n",
      "M =   3.700 Msun  T =  5811 K  m_ubv_B = 25.20\n",
      "Starting filter: ubv,R   Elapsed time: 87.34 seconds\n",
      "Starting synthetic photometry\n",
      "Singles\n",
      "M =   5.500 Msun  T = 11056 K  m_ubv_R = 24.15\n",
      "M =   1.380 Msun  T =  7714 K  m_ubv_R = 11.92\n",
      "Primaries\n",
      "M =   1.300 Msun  T =  7870 K  m_ubv_R = 12.34\n",
      "M =   1.500 Msun  T =  4190 K  m_ubv_R = 7.16\n",
      "M =   5.500 Msun  T = 10998 K  m_ubv_R = 24.14\n",
      "M =   0.398 Msun  T =     0 K  m_ubv_R =  nan\n",
      "M =   1.259 Msun  T =  3090 K  m_ubv_R = 23.51\n",
      "M =   3.700 Msun  T =  5939 K  m_ubv_R = 24.14\n",
      "M =   3.500 Msun  T =  5732 K  m_ubv_R = 24.20\n",
      "M =   1.000 Msun  T =     0 K  m_ubv_R =  nan\n",
      "M =   4.500 Msun  T =  8212 K  m_ubv_R = 23.34\n",
      "M =   5.000 Msun  T =  8296 K  m_ubv_R = 23.35\n",
      "M =   6.000 Msun  T =  9098 K  m_ubv_R = 23.31\n",
      "M =   1.500 Msun  T =  4190 K  m_ubv_R = 7.17\n",
      "M =   3.500 Msun  T =  7034 K  m_ubv_R = 23.95\n",
      "M =   1.000 Msun  T =  6624 K  m_ubv_R = 13.95\n",
      "M =   5.000 Msun  T =  9156 K  m_ubv_R = 23.96\n",
      "M =   0.631 Msun  T =     0 K  m_ubv_R =  nan\n",
      "M =   1.000 Msun  T =     0 K  m_ubv_R =  nan\n",
      "M =   3.500 Msun  T =  6133 K  m_ubv_R = 23.88\n",
      "M =   0.501 Msun  T =  3090 K  m_ubv_R = 23.51\n",
      "M =   1.000 Msun  T =     0 K  m_ubv_R =  nan\n",
      "M =   1.000 Msun  T =  6624 K  m_ubv_R = 13.95\n",
      "M =   0.800 Msun  T =  5799 K  m_ubv_R = 15.14\n",
      "M =   1.400 Msun  T =     0 K  m_ubv_R =  nan\n",
      "M =   1.400 Msun  T =  3090 K  m_ubv_R = 23.51\n",
      "M =   2.300 Msun  T =  6704 K  m_ubv_R = 23.55\n",
      "M =   1.400 Msun  T =  7845 K  m_ubv_R = 11.72\n",
      "M =   0.501 Msun  T =     0 K  m_ubv_R =  nan\n",
      "M =   3.700 Msun  T =  7169 K  m_ubv_R = 23.94\n",
      "M =   0.631 Msun  T =  3090 K  m_ubv_R = 23.51\n",
      "M =   2.100 Msun  T =  7439 K  m_ubv_R = 23.92\n",
      "M =   0.251 Msun  T =     0 K  m_ubv_R =  nan\n",
      "M =   1.000 Msun  T =  7207 K  m_ubv_R = 23.06\n",
      "M =   2.300 Msun  T =  7302 K  m_ubv_R = 23.69\n",
      "M =   1.000 Msun  T =     0 K  m_ubv_R =  nan\n",
      "M =   5.500 Msun  T =  9002 K  m_ubv_R = 23.31\n",
      "M =   3.200 Msun  T =  7347 K  m_ubv_R = 23.68\n",
      "M =   1.000 Msun  T =     0 K  m_ubv_R =  nan\n",
      "M =   1.800 Msun  T =  7716 K  m_ubv_R = 22.79\n",
      "M =   1.400 Msun  T =  3090 K  m_ubv_R =  nan\n",
      "M =   2.100 Msun  T =  6388 K  m_ubv_R = 23.61\n",
      "M =   1.200 Msun  T =  7711 K  m_ubv_R = 12.84\n",
      "M =   3.500 Msun  T =  8970 K  m_ubv_R = 23.24\n",
      "M =   3.200 Msun  T =  7347 K  m_ubv_R = 23.68\n",
      "M =   1.800 Msun  T =  6451 K  m_ubv_R = 23.60\n",
      "M =   1.800 Msun  T =  6451 K  m_ubv_R = 23.60\n",
      "M =   1.200 Msun  T =  7701 K  m_ubv_R = 12.83\n",
      "M =   2.100 Msun  T =  7113 K  m_ubv_R = 23.70\n",
      "M =   0.794 Msun  T =     0 K  m_ubv_R =  nan\n",
      "Secondaries\n",
      "M =   0.780 Msun  T =  4501 K  m_ubv_R = 16.06\n",
      "M =   0.300 Msun  T =  3772 K  m_ubv_R = 19.51\n",
      "M =   3.850 Msun  T = 18031 K  m_ubv_R = 10.18\n",
      "M =   3.200 Msun  T =  9063 K  m_ubv_R = 23.12\n",
      "M =   1.000 Msun  T =  6643 K  m_ubv_R = 13.90\n",
      "M =   2.590 Msun  T = 13415 K  m_ubv_R = 10.91\n",
      "M =   1.050 Msun  T =  6539 K  m_ubv_R = 14.03\n",
      "M =   1.900 Msun  T =  7235 K  m_ubv_R = 23.06\n",
      "M =   1.350 Msun  T =  8444 K  m_ubv_R = 12.23\n",
      "M =   2.000 Msun  T = 10338 K  m_ubv_R = 10.55\n",
      "M =   4.800 Msun  T = 16407 K  m_ubv_R = 8.25\n",
      "M =   0.450 Msun  T =  4028 K  m_ubv_R = 18.40\n",
      "M =   1.750 Msun  T = 10654 K  m_ubv_R = 12.19\n",
      "M =   0.300 Msun  T =  3772 K  m_ubv_R = 19.51\n",
      "M =   3.500 Msun  T = 17052 K  m_ubv_R = 10.40\n",
      "M =   1.700 Msun  T = 12866 K  m_ubv_R = 20.25\n",
      "M =   3.200 Msun  T =  7354 K  m_ubv_R = 23.68\n",
      "M =   1.050 Msun  T =  6463 K  m_ubv_R = 14.02\n",
      "M =   6.000 Msun  T =  8623 K  m_ubv_R = 23.35\n",
      "M =   1.400 Msun  T =  7556 K  m_ubv_R = 11.78\n",
      "M =   0.400 Msun  T =  3901 K  m_ubv_R = 18.82\n",
      "M =   0.720 Msun  T =  4155 K  m_ubv_R = 16.62\n",
      "M =   3.700 Msun  T =  5612 K  m_ubv_R = 24.24\n",
      "M =   0.800 Msun  T =  5792 K  m_ubv_R = 15.15\n",
      "M =   1.150 Msun  T =  7207 K  m_ubv_R = 13.54\n",
      "M =   0.140 Msun  T =  3478 K  m_ubv_R = 21.41\n",
      "M =   1.400 Msun  T =  7556 K  m_ubv_R = 11.78\n",
      "M =   1.480 Msun  T =  9124 K  m_ubv_R = 12.65\n",
      "M =   6.000 Msun  T =  9342 K  m_ubv_R = 23.33\n",
      "M =   1.890 Msun  T =   nan K  m_ubv_R =  nan\n",
      "M =   1.500 Msun  T = 17015 K  m_ubv_R = 19.81\n",
      "M =   0.900 Msun  T =   nan K  m_ubv_R =  nan\n",
      "M =   0.460 Msun  T =   nan K  m_ubv_R =  nan\n",
      "M =   2.300 Msun  T =  6736 K  m_ubv_R = 23.54\n",
      "M =   1.650 Msun  T =  9378 K  m_ubv_R = 11.13\n",
      "M =   1.600 Msun  T =  9905 K  m_ubv_R = 12.42\n",
      "M =   3.200 Msun  T =  7354 K  m_ubv_R = 23.68\n",
      "M =   1.080 Msun  T =  6928 K  m_ubv_R = 13.74\n",
      "M =   3.000 Msun  T =  7114 K  m_ubv_R = 23.70\n",
      "M =   1.260 Msun  T =  7916 K  m_ubv_R = 13.07\n",
      "M =   0.360 Msun  T =  3832 K  m_ubv_R = 19.12\n",
      "M =   0.350 Msun  T =  3818 K  m_ubv_R = 19.18\n",
      "M =   2.560 Msun  T = 13752 K  m_ubv_R = 10.90\n",
      "M =   0.360 Msun  T =   nan K  m_ubv_R =  nan\n",
      "M =   0.360 Msun  T =   nan K  m_ubv_R =  nan\n",
      "M =   0.720 Msun  T =  4155 K  m_ubv_R = 16.62\n",
      "M =   0.420 Msun  T =   nan K  m_ubv_R =  nan\n",
      "M =   3.700 Msun  T =  5811 K  m_ubv_R = 24.17\n",
      "Starting filter: ubv,I   Elapsed time: 114.67 seconds\n",
      "Starting synthetic photometry\n",
      "Singles\n",
      "M =   5.500 Msun  T = 11056 K  m_ubv_I = 24.11\n",
      "M =   1.380 Msun  T =  7714 K  m_ubv_I = 11.76\n",
      "Primaries\n",
      "M =   1.300 Msun  T =  7870 K  m_ubv_I = 12.20\n",
      "M =   1.500 Msun  T =  4190 K  m_ubv_I = 6.32\n",
      "M =   5.500 Msun  T = 10998 K  m_ubv_I = 24.10\n",
      "M =   0.398 Msun  T =     0 K  m_ubv_I =  nan\n",
      "M =   1.259 Msun  T =  3090 K  m_ubv_I = 21.81\n",
      "M =   3.700 Msun  T =  5939 K  m_ubv_I = 23.69\n",
      "M =   3.500 Msun  T =  5732 K  m_ubv_I = 23.71\n",
      "M =   1.000 Msun  T =     0 K  m_ubv_I =  nan\n",
      "M =   4.500 Msun  T =  8212 K  m_ubv_I = 23.15\n",
      "M =   5.000 Msun  T =  8296 K  m_ubv_I = 23.16\n",
      "M =   6.000 Msun  T =  9098 K  m_ubv_I = 23.17\n",
      "M =   1.500 Msun  T =  4190 K  m_ubv_I = 6.32\n",
      "M =   3.500 Msun  T =  7034 K  m_ubv_I = 23.64\n",
      "M =   1.000 Msun  T =  6624 K  m_ubv_I = 13.64\n",
      "M =   5.000 Msun  T =  9156 K  m_ubv_I = 23.83\n",
      "M =   0.631 Msun  T =     0 K  m_ubv_I =  nan\n",
      "M =   1.000 Msun  T =     0 K  m_ubv_I =  nan\n",
      "M =   3.500 Msun  T =  6133 K  m_ubv_I = 23.46\n",
      "M =   0.501 Msun  T =  3090 K  m_ubv_I = 21.81\n",
      "M =   1.000 Msun  T =     0 K  m_ubv_I =  nan\n",
      "M =   1.000 Msun  T =  6624 K  m_ubv_I = 13.64\n",
      "M =   0.800 Msun  T =  5799 K  m_ubv_I = 14.70\n",
      "M =   1.400 Msun  T =     0 K  m_ubv_I =  nan\n",
      "M =   1.400 Msun  T =  3090 K  m_ubv_I = 21.81\n",
      "M =   2.300 Msun  T =  6704 K  m_ubv_I = 23.20\n",
      "M =   1.400 Msun  T =  7845 K  m_ubv_I = 11.58\n",
      "M =   0.501 Msun  T =     0 K  m_ubv_I =  nan\n",
      "M =   3.700 Msun  T =  7169 K  m_ubv_I = 23.65\n",
      "M =   0.631 Msun  T =  3090 K  m_ubv_I = 21.81\n",
      "M =   2.100 Msun  T =  7439 K  m_ubv_I = 23.66\n",
      "M =   0.251 Msun  T =     0 K  m_ubv_I =  nan\n",
      "M =   1.000 Msun  T =  7207 K  m_ubv_I = 22.77\n",
      "M =   2.300 Msun  T =  7302 K  m_ubv_I = 23.41\n",
      "M =   1.000 Msun  T =     0 K  m_ubv_I =  nan\n",
      "M =   5.500 Msun  T =  9002 K  m_ubv_I = 23.17\n",
      "M =   3.200 Msun  T =  7347 K  m_ubv_I = 23.41\n",
      "M =   1.000 Msun  T =     0 K  m_ubv_I =  nan\n",
      "M =   1.800 Msun  T =  7716 K  m_ubv_I = 22.56\n",
      "M =   1.400 Msun  T =  3090 K  m_ubv_I =  nan\n",
      "M =   2.100 Msun  T =  6388 K  m_ubv_I = 23.23\n",
      "M =   1.200 Msun  T =  7711 K  m_ubv_I = 12.68\n",
      "M =   3.500 Msun  T =  8970 K  m_ubv_I = 23.10\n",
      "M =   3.200 Msun  T =  7347 K  m_ubv_I = 23.41\n",
      "M =   1.800 Msun  T =  6451 K  m_ubv_I = 23.22\n",
      "M =   1.800 Msun  T =  6451 K  m_ubv_I = 23.22\n",
      "M =   1.200 Msun  T =  7701 K  m_ubv_I = 12.66\n",
      "M =   2.100 Msun  T =  7113 K  m_ubv_I = 23.41\n",
      "M =   0.794 Msun  T =     0 K  m_ubv_I =  nan\n",
      "Secondaries\n",
      "M =   0.780 Msun  T =  4501 K  m_ubv_I = 15.34\n",
      "M =   0.300 Msun  T =  3772 K  m_ubv_I = 18.45\n",
      "M =   3.850 Msun  T = 18031 K  m_ubv_I = 10.34\n",
      "M =   3.200 Msun  T =  9063 K  m_ubv_I = 22.99\n",
      "M =   1.000 Msun  T =  6643 K  m_ubv_I = 13.59\n",
      "M =   2.590 Msun  T = 13415 K  m_ubv_I = 11.01\n",
      "M =   1.050 Msun  T =  6539 K  m_ubv_I = 13.70\n",
      "M =   1.900 Msun  T =  7235 K  m_ubv_I = 22.77\n",
      "M =   1.350 Msun  T =  8444 K  m_ubv_I = 12.16\n",
      "M =   2.000 Msun  T = 10338 K  m_ubv_I = 10.57\n",
      "M =   4.800 Msun  T = 16407 K  m_ubv_I = 8.38\n",
      "M =   0.450 Msun  T =  4028 K  m_ubv_I = 17.47\n",
      "M =   1.750 Msun  T = 10654 K  m_ubv_I = 12.23\n",
      "M =   0.300 Msun  T =  3772 K  m_ubv_I = 18.45\n",
      "M =   3.500 Msun  T = 17052 K  m_ubv_I = 10.55\n",
      "M =   1.700 Msun  T = 12866 K  m_ubv_I = 20.28\n",
      "M =   3.200 Msun  T =  7354 K  m_ubv_I = 23.41\n",
      "M =   1.050 Msun  T =  6463 K  m_ubv_I = 13.69\n",
      "M =   6.000 Msun  T =  8623 K  m_ubv_I = 23.18\n",
      "M =   1.400 Msun  T =  7556 K  m_ubv_I = 11.60\n",
      "M =   0.400 Msun  T =  3901 K  m_ubv_I = 17.83\n",
      "M =   0.720 Msun  T =  4155 K  m_ubv_I = 15.76\n",
      "M =   3.700 Msun  T =  5612 K  m_ubv_I = 23.73\n",
      "M =   0.800 Msun  T =  5792 K  m_ubv_I = 14.72\n",
      "M =   1.150 Msun  T =  7207 K  m_ubv_I = 13.31\n",
      "M =   0.140 Msun  T =  3478 K  m_ubv_I = 20.13\n",
      "M =   1.400 Msun  T =  7556 K  m_ubv_I = 11.60\n",
      "M =   1.480 Msun  T =  9124 K  m_ubv_I = 12.62\n",
      "M =   6.000 Msun  T =  9342 K  m_ubv_I = 23.21\n",
      "M =   1.890 Msun  T =   nan K  m_ubv_I =  nan\n",
      "M =   1.500 Msun  T = 17015 K  m_ubv_I = 19.92\n",
      "M =   0.900 Msun  T =   nan K  m_ubv_I =  nan\n",
      "M =   0.460 Msun  T =   nan K  m_ubv_I =  nan\n",
      "M =   2.300 Msun  T =  6736 K  m_ubv_I = 23.20\n",
      "M =   1.650 Msun  T =  9378 K  m_ubv_I = 11.11\n",
      "M =   1.600 Msun  T =  9905 K  m_ubv_I = 12.43\n",
      "M =   3.200 Msun  T =  7354 K  m_ubv_I = 23.41\n",
      "M =   1.080 Msun  T =  6928 K  m_ubv_I = 13.47\n",
      "M =   3.000 Msun  T =  7114 K  m_ubv_I = 23.41\n",
      "M =   1.260 Msun  T =  7916 K  m_ubv_I = 12.93\n",
      "M =   0.360 Msun  T =  3832 K  m_ubv_I = 18.09\n",
      "M =   0.350 Msun  T =  3818 K  m_ubv_I = 18.15\n",
      "M =   2.560 Msun  T = 13752 K  m_ubv_I = 11.00\n",
      "M =   0.360 Msun  T =   nan K  m_ubv_I =  nan\n",
      "M =   0.360 Msun  T =   nan K  m_ubv_I =  nan\n",
      "M =   0.720 Msun  T =  4155 K  m_ubv_I = 15.76\n",
      "M =   0.420 Msun  T =   nan K  m_ubv_I =  nan\n",
      "M =   3.700 Msun  T =  5811 K  m_ubv_I = 23.70\n",
      "      Time taken: 140.08 seconds\n",
      "Isochrone generation took 542.013818 s.\n"
     ]
    }
   ],
   "source": [
    "import spisea\n",
    "from spisea import evolution, synthetic\n",
    "import math\n",
    "# Check if the evolution class works fine\n",
    "import time\n",
    "import numpy as np\n",
    "t1=time.time()\n",
    "bps=evolution.BPASS()\n",
    "iso1=synthetic.Isochrone_Binary(9.3, 0.0, 1000,math.log10(1/10), mass_sampling=1)"
   ]
  },
  {
   "cell_type": "markdown",
   "metadata": {},
   "source": [
    "As a sanity check, I would like to make sure that, for primary stars, we only have (from the isochrone) designated phase 5 stars ( anything that is not a compact remnant), white dwarves (models with phase 101), and non-white dwarf compact remnants that are  NEWSECMODS primaries (models with phase 110). Also make sure that our secondary stars are non-compact-remnant, white dwarves, or are merged. Merged secondaries have phase of -99."
   ]
  },
  {
   "cell_type": "code",
   "execution_count": 2,
   "metadata": {},
   "outputs": [
    {
     "data": {
      "text/plain": [
       "False"
      ]
     },
     "execution_count": 2,
     "metadata": {},
     "output_type": "execute_result"
    }
   ],
   "source": [
    "import numpy as np\n",
    "np.all([(x==5 or x==101 or x==110 or x==-9) for x in iso1.primaries['phase']])"
   ]
  },
  {
   "cell_type": "code",
   "execution_count": 3,
   "metadata": {},
   "outputs": [
    {
     "data": {
      "text/plain": [
       "True"
      ]
     },
     "execution_count": 3,
     "metadata": {},
     "output_type": "execute_result"
    }
   ],
   "source": [
    "np.all([(x==5 or x==101 or x==110) for x in iso1.singles['phase']])"
   ]
  },
  {
   "cell_type": "code",
   "execution_count": 4,
   "metadata": {},
   "outputs": [
    {
     "data": {
      "text/plain": [
       "True"
      ]
     },
     "execution_count": 4,
     "metadata": {},
     "output_type": "execute_result"
    }
   ],
   "source": [
    "np.all([(x==5 or x==101 or x==-99) for x in iso1.secondaries['phase']])"
   ]
  },
  {
   "cell_type": "markdown",
   "metadata": {},
   "source": [
    "Find the maximum, mean, and median  values of logg (cgs) for primaries, single stars, and secondaries. "
   ]
  },
  {
   "cell_type": "code",
   "execution_count": 5,
   "metadata": {},
   "outputs": [
    {
     "data": {
      "text/plain": [
       "9.294221355125417"
      ]
     },
     "execution_count": 5,
     "metadata": {},
     "output_type": "execute_result"
    }
   ],
   "source": [
    "import numpy as np\n",
    "np.max(iso1.singles['logg'])"
   ]
  },
  {
   "cell_type": "code",
   "execution_count": 6,
   "metadata": {},
   "outputs": [
    {
     "data": {
      "text/plain": [
       "9.294221355125417"
      ]
     },
     "execution_count": 6,
     "metadata": {},
     "output_type": "execute_result"
    }
   ],
   "source": [
    "import numpy as np\n",
    "np.max(np.nan_to_num(iso1.primaries['logg'], -np.inf))"
   ]
  },
  {
   "cell_type": "code",
   "execution_count": 7,
   "metadata": {},
   "outputs": [
    {
     "data": {
      "text/plain": [
       "9.294186013434684"
      ]
     },
     "execution_count": 7,
     "metadata": {},
     "output_type": "execute_result"
    }
   ],
   "source": [
    "np.max(np.nan_to_num(iso1.secondaries['logg'], -np.inf))"
   ]
  },
  {
   "cell_type": "code",
   "execution_count": 8,
   "metadata": {},
   "outputs": [
    {
     "data": {
      "text/plain": [
       "6.775107941964203"
      ]
     },
     "execution_count": 8,
     "metadata": {},
     "output_type": "execute_result"
    }
   ],
   "source": [
    "np.mean(iso1.singles['logg'][np.where(~np.isnan(iso1.singles['logg']))])"
   ]
  },
  {
   "cell_type": "code",
   "execution_count": 9,
   "metadata": {},
   "outputs": [
    {
     "data": {
      "text/plain": [
       "6.2759007317323405"
      ]
     },
     "execution_count": 9,
     "metadata": {},
     "output_type": "execute_result"
    }
   ],
   "source": [
    "np.mean(iso1.primaries['logg'][np.where(~np.isnan(iso1.primaries['logg']))])"
   ]
  },
  {
   "cell_type": "code",
   "execution_count": 10,
   "metadata": {},
   "outputs": [
    {
     "data": {
      "text/plain": [
       "5.438029879311406"
      ]
     },
     "execution_count": 10,
     "metadata": {},
     "output_type": "execute_result"
    }
   ],
   "source": [
    "np.mean(iso1.secondaries['logg'][np.where(~np.isnan(iso1.secondaries['logg']))])"
   ]
  },
  {
   "cell_type": "code",
   "execution_count": 11,
   "metadata": {},
   "outputs": [
    {
     "data": {
      "text/plain": [
       "7.9748904281098465"
      ]
     },
     "execution_count": 11,
     "metadata": {},
     "output_type": "execute_result"
    }
   ],
   "source": [
    "np.median(iso1.singles['logg'][np.where(~np.isnan(iso1.singles['logg']))])"
   ]
  },
  {
   "cell_type": "code",
   "execution_count": 12,
   "metadata": {},
   "outputs": [
    {
     "data": {
      "text/plain": [
       "5.738571373641211"
      ]
     },
     "execution_count": 12,
     "metadata": {},
     "output_type": "execute_result"
    }
   ],
   "source": [
    "np.median(iso1.primaries['logg'][np.where(~np.isnan(iso1.primaries['logg']))])"
   ]
  },
  {
   "cell_type": "code",
   "execution_count": 13,
   "metadata": {},
   "outputs": [
    {
     "data": {
      "text/plain": [
       "4.54017073649751"
      ]
     },
     "execution_count": 13,
     "metadata": {},
     "output_type": "execute_result"
    }
   ],
   "source": [
    "np.median([x for x in iso1.secondaries['logg'] if np.isfinite(x)])"
   ]
  },
  {
   "cell_type": "code",
   "execution_count": 14,
   "metadata": {},
   "outputs": [
    {
     "data": {
      "text/plain": [
       "Text(0.5, 0, 'logg in cgs')"
      ]
     },
     "execution_count": 14,
     "metadata": {},
     "output_type": "execute_result"
    },
    {
     "data": {
      "image/png": "[encoded data removed]",
      "text/plain": [
       "<Figure size 432x288 with 1 Axes>"
      ]
     },
     "metadata": {
      "needs_background": "light"
     },
     "output_type": "display_data"
    }
   ],
   "source": [
    "import matplotlib.pyplot as plt\n",
    "plt.title(\"Histogram of logg values (secondaries) of BPASS isochrone\")\n",
    "plt.hist(np.array([x for x in iso1.secondaries['logg'] if np.isfinite(x)]), np.arange(-10, 30, 1))\n",
    "plt.xlabel(\"logg in cgs\")"
   ]
  },
  {
   "cell_type": "code",
   "execution_count": 15,
   "metadata": {},
   "outputs": [
    {
     "data": {
      "text/plain": [
       "Text(0.5, 0, 'logg in cgs')"
      ]
     },
     "execution_count": 15,
     "metadata": {},
     "output_type": "execute_result"
    },
    {
     "data": {
      "image/png": "[encoded data removed]",
      "text/plain": [
       "<Figure size 432x288 with 1 Axes>"
      ]
     },
     "metadata": {
      "needs_background": "light"
     },
     "output_type": "display_data"
    }
   ],
   "source": [
    "import matplotlib.pyplot as plt\n",
    "plt.title(\"Histogram of logg values (primaries) of BPASS isochrone\")\n",
    "plt.hist(np.array([x for x in iso1.primaries['logg'] if np.isfinite(x)]), np.arange(-10, 30, 1))\n",
    "plt.xlabel(\"logg in cgs\")"
   ]
  },
  {
   "cell_type": "code",
   "execution_count": 16,
   "metadata": {},
   "outputs": [
    {
     "data": {
      "text/plain": [
       "Text(0.5, 0, 'logg in cgs')"
      ]
     },
     "execution_count": 16,
     "metadata": {},
     "output_type": "execute_result"
    },
    {
     "data": {
      "image/png": "[encoded data removed]",
      "text/plain": [
       "<Figure size 432x288 with 1 Axes>"
      ]
     },
     "metadata": {
      "needs_background": "light"
     },
     "output_type": "display_data"
    }
   ],
   "source": [
    "import matplotlib.pyplot as plt\n",
    "plt.title(\"Histogram of logg values single stars of BPASS isochrone\")\n",
    "plt.hist(np.array([x for x in iso1.singles['logg'] if np.isfinite(x)]), np.arange(0, 30, 1))\n",
    "plt.xlabel(\"logg in cgs\")"
   ]
  },
  {
   "cell_type": "markdown",
   "metadata": {},
   "source": [
    "Plot the CMD of the isochrones at 0.1Z_solar and 10^9.3 years of age.\n",
    "\n",
    "Account for distance modulus for dist = 1000 pc"
   ]
  },
  {
   "cell_type": "code",
   "execution_count": 17,
   "metadata": {},
   "outputs": [
    {
     "data": {
      "text/plain": [
       "<matplotlib.legend.Legend at 0x7f9a629a7b10>"
      ]
     },
     "execution_count": 17,
     "metadata": {},
     "output_type": "execute_result"
    },
    {
     "data": {
      "image/png": "[encoded data removed]",
      "text/plain": [
       "<Figure size 432x288 with 1 Axes>"
      ]
     },
     "metadata": {
      "needs_background": "light"
     },
     "output_type": "display_data"
    }
   ],
   "source": [
    "import matplotlib.pyplot as plt\n",
    "indices1= np.where(iso1.singles['logg']>5)[0]\n",
    "indices2= np.where(iso1.primaries['logg']>5)[0]\n",
    "indices3= np.where(iso1.secondaries['logg']>5)[0]\n",
    "plt.plot(iso1.primaries['m_ubv_B'][indices2]-iso1.primaries[\"m_ubv_V\"][indices2], iso1.primaries[\"m_ubv_V\"][indices2]-5*np.log10(100), \"r.\")\n",
    "plt.plot(iso1.secondaries['m_ubv_B'][indices3]-iso1.secondaries[\"m_ubv_V\"][indices3], iso1.secondaries[\"m_ubv_V\"][indices3]-5*np.log10(100), \"r.\")\n",
    "plt.plot(iso1.singles['m_ubv_B'][indices1]-iso1.singles[\"m_ubv_V\"][indices1], iso1.singles[\"m_ubv_V\"][indices1]-5*np.log10(100), \"r.\", label=\"BPASS isochrone\")\n",
    "plt.xlabel(\"B-V\")\n",
    "plt.ylabel(\"M_V\")\n",
    "plt.title(\"Color magnitude Diagram of Isochrones at 0.1Z_solar and 10**9.3 years age\")\n",
    "plt.gca().invert_yaxis()\n",
    "plt.legend()"
   ]
  },
  {
   "cell_type": "markdown",
   "metadata": {},
   "source": [
    "Are we getting white dwarves for the bottom left corner of the plot"
   ]
  },
  {
   "cell_type": "code",
   "execution_count": 18,
   "metadata": {},
   "outputs": [],
   "source": [
    "indices2= np.where((iso1.primaries['logg']>5) & (iso1.primaries['m_ubv_B']-iso1.primaries['m_ubv_V']>-0.4) & (iso1.primaries['m_ubv_B']-iso1.primaries['m_ubv_V']<-0.2))[0]"
   ]
  },
  {
   "cell_type": "code",
   "execution_count": 19,
   "metadata": {},
   "outputs": [
    {
     "data": {
      "text/html": [
       "&lt;Column name=&apos;phase&apos; dtype=&apos;float64&apos; length=1&gt;\n",
       "<table>\n",
       "<tr><td>5.0</td></tr>\n",
       "</table>"
      ],
      "text/plain": [
       "<Column name='phase' dtype='float64' length=1>\n",
       "5.0"
      ]
     },
     "execution_count": 19,
     "metadata": {},
     "output_type": "execute_result"
    }
   ],
   "source": [
    "np.unique(iso1.primaries[indices2]['phase'])"
   ]
  },
  {
   "cell_type": "markdown",
   "metadata": {},
   "source": [
    "Hmm, I think those are stars that are going to be white dwarves very soon or may unintentionally be brown dwarves. At least according to HOKI's criterion for what is a white dwarf or not. At the very least, at least the stars we just saw were low mass stars so they should be **LOW** on the CMD"
   ]
  },
  {
   "cell_type": "code",
   "execution_count": 20,
   "metadata": {},
   "outputs": [
    {
     "name": "stdout",
     "output_type": "stream",
     "text": [
      "Isochrone generation took 93.266712 s.\n",
      "Making photometry for isochrone: log(t) = 9.30  AKs = 0.00  dist = 1000\n",
      "     Starting at:  2021-04-09 22:26:55.698204   Usually takes ~5 minutes\n",
      "Starting filter: ubv,U   Elapsed time: 0.00 seconds\n",
      "Starting synthetic photometry\n",
      "M =   0.105 Msun  T =  3387 K  m_ubv_U = 26.52\n",
      "M =   0.729 Msun  T =  5635 K  m_ubv_U = 16.47\n",
      "M =   1.309 Msun  T =  8707 K  m_ubv_U = 12.36\n",
      "M =   1.388 Msun  T =  5243 K  m_ubv_U = 12.16\n",
      "M =   1.409 Msun  T =  4411 K  m_ubv_U = 10.38\n",
      "M =   1.432 Msun  T =  4912 K  m_ubv_U = 10.71\n",
      "M =   1.435 Msun  T =  4172 K  m_ubv_U = 10.35\n",
      "M =   1.435 Msun  T =  4057 K  m_ubv_U = 10.45\n",
      "M =   1.435 Msun  T =  3763 K  m_ubv_U = 11.03\n",
      "M =   1.435 Msun  T =  3759 K  m_ubv_U = 11.06\n",
      "M =   1.435 Msun  T =  3688 K  m_ubv_U = 11.35\n",
      "M =   1.435 Msun  T =  6591 K  m_ubv_U = 5.83\n",
      "M =   1.435 Msun  T = 64842 K  m_ubv_U = 9.11\n",
      "M =   1.435 Msun  T = 74734 K  m_ubv_U = 15.94\n",
      "Starting filter: ubv,B   Elapsed time: 3.90 seconds\n",
      "Starting synthetic photometry\n",
      "M =   0.105 Msun  T =  3387 K  m_ubv_B = 25.00\n",
      "M =   0.729 Msun  T =  5635 K  m_ubv_B = 16.58\n",
      "M =   1.309 Msun  T =  8707 K  m_ubv_B = 12.31\n",
      "M =   1.388 Msun  T =  5243 K  m_ubv_B = 12.12\n",
      "M =   1.409 Msun  T =  4411 K  m_ubv_B = 9.63\n",
      "M =   1.432 Msun  T =  4912 K  m_ubv_B = 10.49\n",
      "M =   1.435 Msun  T =  4172 K  m_ubv_B = 9.23\n",
      "M =   1.435 Msun  T =  4057 K  m_ubv_B = 9.14\n",
      "M =   1.435 Msun  T =  3763 K  m_ubv_B = 9.23\n",
      "M =   1.435 Msun  T =  3759 K  m_ubv_B = 9.25\n",
      "M =   1.435 Msun  T =  3688 K  m_ubv_B = 9.42\n",
      "M =   1.435 Msun  T =  6591 K  m_ubv_B = 6.19\n",
      "M =   1.435 Msun  T = 64842 K  m_ubv_B = 10.27\n",
      "M =   1.435 Msun  T = 74734 K  m_ubv_B = 17.11\n",
      "Starting filter: ubv,V   Elapsed time: 7.73 seconds\n",
      "Starting synthetic photometry\n",
      "M =   0.105 Msun  T =  3387 K  m_ubv_V = 23.24\n",
      "M =   0.729 Msun  T =  5635 K  m_ubv_V = 15.92\n",
      "M =   1.309 Msun  T =  8707 K  m_ubv_V = 12.21\n",
      "M =   1.388 Msun  T =  5243 K  m_ubv_V = 11.36\n",
      "M =   1.409 Msun  T =  4411 K  m_ubv_V = 8.46\n",
      "M =   1.432 Msun  T =  4912 K  m_ubv_V = 9.60\n",
      "M =   1.435 Msun  T =  4172 K  m_ubv_V = 7.89\n",
      "M =   1.435 Msun  T =  4057 K  m_ubv_V = 7.71\n",
      "M =   1.435 Msun  T =  3763 K  m_ubv_V = 7.57\n",
      "M =   1.435 Msun  T =  3759 K  m_ubv_V = 7.59\n",
      "M =   1.435 Msun  T =  3688 K  m_ubv_V = 7.70\n",
      "M =   1.435 Msun  T =  6591 K  m_ubv_V = 5.68\n",
      "M =   1.435 Msun  T = 64842 K  m_ubv_V = 10.59\n",
      "M =   1.435 Msun  T = 74734 K  m_ubv_V = 17.44\n",
      "Starting filter: ubv,R   Elapsed time: 11.42 seconds\n",
      "Starting synthetic photometry\n",
      "M =   0.105 Msun  T =  3387 K  m_ubv_R = 22.31\n",
      "M =   0.729 Msun  T =  5635 K  m_ubv_R = 15.58\n",
      "M =   1.309 Msun  T =  8707 K  m_ubv_R = 12.18\n",
      "M =   1.388 Msun  T =  5243 K  m_ubv_R = 10.97\n",
      "M =   1.409 Msun  T =  4411 K  m_ubv_R = 7.91\n",
      "M =   1.432 Msun  T =  4912 K  m_ubv_R = 9.15\n",
      "M =   1.435 Msun  T =  4172 K  m_ubv_R = 7.26\n",
      "M =   1.435 Msun  T =  4057 K  m_ubv_R = 7.04\n",
      "M =   1.435 Msun  T =  3763 K  m_ubv_R = 6.77\n",
      "M =   1.435 Msun  T =  3759 K  m_ubv_R = 6.78\n",
      "M =   1.435 Msun  T =  3688 K  m_ubv_R = 6.85\n",
      "M =   1.435 Msun  T =  6591 K  m_ubv_R = 5.38\n",
      "M =   1.435 Msun  T = 64842 K  m_ubv_R = 10.71\n",
      "M =   1.435 Msun  T = 74734 K  m_ubv_R = 17.56\n",
      "Starting filter: ubv,I   Elapsed time: 14.63 seconds\n",
      "Starting synthetic photometry\n",
      "M =   0.105 Msun  T =  3387 K  m_ubv_I = 20.94\n",
      "M =   0.729 Msun  T =  5635 K  m_ubv_I = 15.11\n",
      "M =   1.309 Msun  T =  8707 K  m_ubv_I = 12.12\n",
      "M =   1.388 Msun  T =  5243 K  m_ubv_I = 10.43\n",
      "M =   1.409 Msun  T =  4411 K  m_ubv_I = 7.15\n",
      "M =   1.432 Msun  T =  4912 K  m_ubv_I = 8.54\n",
      "M =   1.435 Msun  T =  4172 K  m_ubv_I = 6.41\n",
      "M =   1.435 Msun  T =  4057 K  m_ubv_I = 6.14\n",
      "M =   1.435 Msun  T =  3763 K  m_ubv_I = 5.69\n",
      "M =   1.435 Msun  T =  3759 K  m_ubv_I = 5.70\n",
      "M =   1.435 Msun  T =  3688 K  m_ubv_I = 5.71\n",
      "M =   1.435 Msun  T =  6591 K  m_ubv_I = 5.02\n",
      "M =   1.435 Msun  T = 64842 K  m_ubv_I = 10.99\n",
      "M =   1.435 Msun  T = 74734 K  m_ubv_I = 17.85\n",
      "      Time taken: 17.85 seconds\n"
     ]
    }
   ],
   "source": [
    "iso2=synthetic.IsochronePhot(9.3, 0.0, 1000, math.log10(1/10), recomp=True) # New MISTv.1 isochrone for same metallicity"
   ]
  },
  {
   "cell_type": "markdown",
   "metadata": {},
   "source": [
    "Looking at the distribution of logg values. for the stars in the Parsec isochrone."
   ]
  },
  {
   "cell_type": "code",
   "execution_count": 21,
   "metadata": {},
   "outputs": [
    {
     "data": {
      "text/plain": [
       "7.902440169584496"
      ]
     },
     "execution_count": 21,
     "metadata": {},
     "output_type": "execute_result"
    }
   ],
   "source": [
    "np.max(iso2.points['logg'])"
   ]
  },
  {
   "cell_type": "code",
   "execution_count": 22,
   "metadata": {},
   "outputs": [
    {
     "data": {
      "text/plain": [
       "(array([  0.,   0.,   0.,   0.,   0.,   0.,   0.,   0.,   0.,   0., 526.,\n",
       "        150., 182.,  80., 225.,  65.,  27., 119.,   0.,   0.,   0.,   0.,\n",
       "          0.,   0.,   0.,   0.,   0.,   0.,   0.,   0.,   0.,   0.,   0.,\n",
       "          0.,   0.,   0.,   0.,   0.,   0.]),\n",
       " array([-10,  -9,  -8,  -7,  -6,  -5,  -4,  -3,  -2,  -1,   0,   1,   2,\n",
       "          3,   4,   5,   6,   7,   8,   9,  10,  11,  12,  13,  14,  15,\n",
       "         16,  17,  18,  19,  20,  21,  22,  23,  24,  25,  26,  27,  28,\n",
       "         29]),\n",
       " <BarContainer object of 39 artists>)"
      ]
     },
     "execution_count": 22,
     "metadata": {},
     "output_type": "execute_result"
    },
    {
     "data": {
      "image/png": "[encoded data removed]",
      "text/plain": [
       "<Figure size 432x288 with 1 Axes>"
      ]
     },
     "metadata": {
      "needs_background": "light"
     },
     "output_type": "display_data"
    }
   ],
   "source": [
    "import matplotlib.pyplot as plt\n",
    "plt.xlabel(\"logg in cgs\")\n",
    "plt.title(\"Histogram of logg values of stars in the Parsec isochrone\")\n",
    "plt.hist(np.array([x for x in iso2.points['logg'] if np.isfinite(x)]), np.arange(-10, 30, 1))"
   ]
  },
  {
   "cell_type": "code",
   "execution_count": 23,
   "metadata": {},
   "outputs": [
    {
     "data": {
      "text/plain": [
       "2.0208530165838594"
      ]
     },
     "execution_count": 23,
     "metadata": {},
     "output_type": "execute_result"
    }
   ],
   "source": [
    "np.median(iso2.points['logg'])"
   ]
  },
  {
   "cell_type": "code",
   "execution_count": 24,
   "metadata": {},
   "outputs": [
    {
     "data": {
      "text/plain": [
       "2.590379008647578"
      ]
     },
     "execution_count": 24,
     "metadata": {},
     "output_type": "execute_result"
    }
   ],
   "source": [
    "np.mean(iso2.points['logg'])"
   ]
  },
  {
   "cell_type": "code",
   "execution_count": 25,
   "metadata": {},
   "outputs": [],
   "source": [
    "from spisea import imf\n",
    "from spisea.imf import imf, multiplicity\n",
    "from spisea import ifmr\n"
   ]
  },
  {
   "cell_type": "markdown",
   "metadata": {},
   "source": [
    "Make the clusters corresponding to the binary star isochrone and the MISTv.1 isochrone"
   ]
  },
  {
   "cell_type": "code",
   "execution_count": 26,
   "metadata": {},
   "outputs": [
    {
     "ename": "AttributeError",
     "evalue": "'str' object has no attribute 'fmt'",
     "output_type": "error",
     "traceback": [
      "\u001b[0;31m---------------------------------------------------------------------------\u001b[0m",
      "\u001b[0;31mAttributeError\u001b[0m                            Traceback (most recent call last)",
      "\u001b[0;32m<ipython-input-26-ea78f24f4eea>\u001b[0m in \u001b[0;36m<module>\u001b[0;34m\u001b[0m\n\u001b[0;32m----> 1\u001b[0;31m \u001b[0mclus_1\u001b[0m\u001b[0;34m=\u001b[0m\u001b[0msynthetic\u001b[0m\u001b[0;34m.\u001b[0m\u001b[0mCluster_w_Binaries\u001b[0m\u001b[0;34m(\u001b[0m\u001b[0miso1\u001b[0m\u001b[0;34m,\u001b[0m \u001b[0mimf\u001b[0m\u001b[0;34m.\u001b[0m\u001b[0mIMFSalpeter1955\u001b[0m\u001b[0;34m(\u001b[0m\u001b[0mmultiplicity\u001b[0m\u001b[0;34m=\u001b[0m\u001b[0mmultiplicity\u001b[0m\u001b[0;34m.\u001b[0m\u001b[0mMultiplicityResolvedDK\u001b[0m\u001b[0;34m(\u001b[0m\u001b[0;34m)\u001b[0m\u001b[0;34m)\u001b[0m\u001b[0;34m,\u001b[0m \u001b[0;36m20000\u001b[0m\u001b[0;34m,\u001b[0m \u001b[0mifmr\u001b[0m\u001b[0;34m=\u001b[0m\u001b[0mifmr\u001b[0m\u001b[0;34m.\u001b[0m\u001b[0mIFMR_Spera15\u001b[0m\u001b[0;34m(\u001b[0m\u001b[0;34m)\u001b[0m\u001b[0;34m)\u001b[0m\u001b[0;34m\u001b[0m\u001b[0;34m\u001b[0m\u001b[0m\n\u001b[0m\u001b[1;32m      2\u001b[0m \u001b[0mclus_2\u001b[0m\u001b[0;34m=\u001b[0m\u001b[0msynthetic\u001b[0m\u001b[0;34m.\u001b[0m\u001b[0mResolvedCluster\u001b[0m\u001b[0;34m(\u001b[0m\u001b[0miso2\u001b[0m\u001b[0;34m,\u001b[0m \u001b[0mimf\u001b[0m\u001b[0;34m.\u001b[0m\u001b[0mIMFSalpeter1955\u001b[0m\u001b[0;34m(\u001b[0m\u001b[0mmultiplicity\u001b[0m\u001b[0;34m=\u001b[0m\u001b[0mmultiplicity\u001b[0m\u001b[0;34m.\u001b[0m\u001b[0mMultiplicityResolvedDK\u001b[0m\u001b[0;34m(\u001b[0m\u001b[0;34m)\u001b[0m\u001b[0;34m)\u001b[0m\u001b[0;34m,\u001b[0m \u001b[0;36m20000\u001b[0m\u001b[0;34m,\u001b[0m \u001b[0mifmr\u001b[0m\u001b[0;34m=\u001b[0m\u001b[0mifmr\u001b[0m\u001b[0;34m.\u001b[0m\u001b[0mIFMR_Spera15\u001b[0m\u001b[0;34m(\u001b[0m\u001b[0;34m)\u001b[0m\u001b[0;34m)\u001b[0m\u001b[0;34m\u001b[0m\u001b[0;34m\u001b[0m\u001b[0m\n",
      "\u001b[0;32m~/Desktop/PyPopStar/spisea/synthetic.py\u001b[0m in \u001b[0;36m__init__\u001b[0;34m(self, iso, imf, cluster_mass, ifmr, verbose, seed)\u001b[0m\n\u001b[1;32m    193\u001b[0m         \u001b[0;31m# about each stellar system.\u001b[0m\u001b[0;34m\u001b[0m\u001b[0;34m\u001b[0m\u001b[0;34m\u001b[0m\u001b[0m\n\u001b[1;32m    194\u001b[0m         \u001b[0;31m#####\u001b[0m\u001b[0;34m\u001b[0m\u001b[0;34m\u001b[0m\u001b[0;34m\u001b[0m\u001b[0m\n\u001b[0;32m--> 195\u001b[0;31m         \u001b[0msingle_star_systems\u001b[0m \u001b[0;34m=\u001b[0m \u001b[0mself\u001b[0m\u001b[0;34m.\u001b[0m\u001b[0mmake_singles_systems_table\u001b[0m\u001b[0;34m(\u001b[0m\u001b[0misMulti\u001b[0m\u001b[0;34m,\u001b[0m \u001b[0msysMass\u001b[0m\u001b[0;34m)\u001b[0m\u001b[0;34m\u001b[0m\u001b[0;34m\u001b[0m\u001b[0m\n\u001b[0m\u001b[1;32m    196\u001b[0m         \u001b[0;31m#####\u001b[0m\u001b[0;34m\u001b[0m\u001b[0;34m\u001b[0m\u001b[0;34m\u001b[0m\u001b[0m\n\u001b[1;32m    197\u001b[0m         \u001b[0;31m# Make a table to contain all the information\u001b[0m\u001b[0;34m\u001b[0m\u001b[0;34m\u001b[0m\u001b[0;34m\u001b[0m\u001b[0m\n",
      "\u001b[0;32m~/Desktop/PyPopStar/spisea/synthetic.py\u001b[0m in \u001b[0;36mmake_singles_systems_table\u001b[0;34m(self, isMulti, sysMass)\u001b[0m\n\u001b[1;32m    651\u001b[0m         \u001b[0;32mfor\u001b[0m \u001b[0mfilt\u001b[0m \u001b[0;32min\u001b[0m \u001b[0mself\u001b[0m\u001b[0;34m.\u001b[0m\u001b[0mfilt_names\u001b[0m\u001b[0;34m:\u001b[0m\u001b[0;34m\u001b[0m\u001b[0;34m\u001b[0m\u001b[0m\n\u001b[1;32m    652\u001b[0m             \u001b[0mstar_systems\u001b[0m\u001b[0;34m[\u001b[0m\u001b[0mfilt\u001b[0m\u001b[0;34m]\u001b[0m \u001b[0;34m=\u001b[0m \u001b[0mself\u001b[0m\u001b[0;34m.\u001b[0m\u001b[0miso\u001b[0m\u001b[0;34m.\u001b[0m\u001b[0msingles\u001b[0m\u001b[0;34m[\u001b[0m\u001b[0mfilt\u001b[0m\u001b[0;34m]\u001b[0m\u001b[0;34m[\u001b[0m\u001b[0mindices\u001b[0m\u001b[0;34m]\u001b[0m\u001b[0;34m\u001b[0m\u001b[0;34m\u001b[0m\u001b[0m\n\u001b[0;32m--> 653\u001b[0;31m         \u001b[0mprint\u001b[0m\u001b[0;34m(\u001b[0m\u001b[0;34m\"{} single stars had to be deleted\"\u001b[0m\u001b[0;34m.\u001b[0m\u001b[0mfmt\u001b[0m\u001b[0;34m(\u001b[0m\u001b[0mdeleted\u001b[0m\u001b[0;34m)\u001b[0m\u001b[0;34m)\u001b[0m\u001b[0;34m\u001b[0m\u001b[0;34m\u001b[0m\u001b[0m\n\u001b[0m\u001b[1;32m    654\u001b[0m         \u001b[0;32mreturn\u001b[0m \u001b[0mstar_systems\u001b[0m\u001b[0;34m\u001b[0m\u001b[0;34m\u001b[0m\u001b[0m\n\u001b[1;32m    655\u001b[0m \u001b[0;34m\u001b[0m\u001b[0m\n",
      "\u001b[0;31mAttributeError\u001b[0m: 'str' object has no attribute 'fmt'"
     ]
    }
   ],
   "source": [
    "clus_1=synthetic.Cluster_w_Binaries(iso1, imf.IMFSalpeter1955(multiplicity=multiplicity.MultiplicityResolvedDK()), 20000, ifmr=ifmr.IFMR_Spera15())\n",
    "clus_2=synthetic.ResolvedCluster(iso2, imf.IMFSalpeter1955(multiplicity=multiplicity.MultiplicityResolvedDK()), 20000, ifmr=ifmr.IFMR_Spera15())"
   ]
  },
  {
   "cell_type": "markdown",
   "metadata": {},
   "source": [
    "Now let's visualize the isochrone we have created so far with a color magnitude diagram. There we can see the end of main sequence and perhaps the M type"
   ]
  },
  {
   "cell_type": "code",
   "execution_count": null,
   "metadata": {},
   "outputs": [],
   "source": [
    "# Taking a look at the Binary Cluster vs Default Settings cluster Observer's HR Diagram\n",
    "# Remember to use a distance modulus!\n",
    "import matplotlib.pyplot as plt\n",
    "plt.plot(iso1.primaries['m_ubv_B']-iso1.primaries[\"m_ubv_V\"], iso1.primaries[\"m_ubv_V\"]-5*np.log10(100), \"r.\")\n",
    "plt.plot(iso1.secondaries['m_ubv_B']-iso1.secondaries[\"m_ubv_V\"], iso1.secondaries[\"m_ubv_V\"]-5*np.log10(100), \"r.\")\n",
    "plt.plot(iso1.singles['m_ubv_B']-iso1.singles[\"m_ubv_V\"], iso1.singles[\"m_ubv_V\"]-5*np.log10(100), \"r.\", label=\"BPASS isochrone\")\n",
    "plt.plot(iso2.points['m_ubv_B']-iso2.points[\"m_ubv_V\"], iso2.points[\"m_ubv_V\"]-5*np.log10(100), \"b+\", label=\"MISTv.1 isochrone\", alpha = 0.2)\n",
    "plt.xlabel(\"B-V\")\n",
    "plt.ylabel(\"M_V\")\n",
    "plt.title(\"Color magnitude Diagram of Isochrones at 0.1Z_solar and 10**9.3 years age\")\n",
    "plt.gca().invert_yaxis()\n",
    "plt.legend()"
   ]
  },
  {
   "cell_type": "markdown",
   "metadata": {},
   "source": [
    "We do have several outliers but otherwise the pattern does not seem too terribly off from the Parsec isochrone's shape. Now I look at the primary stars and see if there are any problems caused."
   ]
  },
  {
   "cell_type": "code",
   "execution_count": null,
   "metadata": {},
   "outputs": [],
   "source": [
    "# Taking a look at the Binary Cluster vs Default Settings cluster Observer's HR Diagram\n",
    "# Remember to use a distance modulus!\n",
    "import matplotlib.pyplot as plt\n",
    "plt.plot(iso1.primaries['m_ubv_B']-iso1.primaries[\"m_ubv_V\"], iso1.primaries[\"m_ubv_V\"]-5*np.log10(100), \"r+\",  label=\"BPASS isochrone\", alpha =0.7)\n",
    "plt.xlabel(\"B-V\")\n",
    "plt.ylabel(\"M_V\")\n",
    "plt.title(\"Color magnitude Diagram of Isochrones at 0.1Z_solar and 10**9.3 years age (Primary stars only)\")\n",
    "plt.gca().invert_yaxis()\n",
    "plt.legend()"
   ]
  },
  {
   "cell_type": "code",
   "execution_count": null,
   "metadata": {},
   "outputs": [],
   "source": [
    "import matplotlib.pyplot as plt\n",
    "plt.plot(iso1.secondaries['m_ubv_B']-iso1.secondaries[\"m_ubv_V\"], iso1.secondaries[\"m_ubv_V\"]-5*np.log10(100), \"r+\",  label=\"BPASS isochrone\", alpha =0.7)\n",
    "plt.xlabel(\"B-V\")\n",
    "plt.ylabel(\"M_V\")\n",
    "plt.title(\"Color magnitude Diagram of Isochrones at 0.1Z_solar and 10**9.3 years age (secondaries stars only)\")\n",
    "plt.gca().invert_yaxis()\n",
    "plt.legend()"
   ]
  },
  {
   "cell_type": "code",
   "execution_count": null,
   "metadata": {},
   "outputs": [],
   "source": [
    "# Plotting HR diagrams\n",
    "import matplotlib.pyplot as plt\n",
    "plt.plot(np.log10(iso1.primaries['Teff']), np.log10(iso1.primaries[\"L\"]), \"r.\", alpha =0.3)\n",
    "plt.plot(np.log10(iso1.secondaries['Teff']), np.log10(iso1.secondaries[\"L\"]), \"r.\", alpha =0.3)\n",
    "plt.plot(np.log10(iso1.singles['Teff']), np.log10(iso1.singles[\"L\"]), \"r.\", label=\"BPASS isochrone\", alpha =0.3)\n",
    "plt.plot(np.log10(iso2.points['Teff']), np.log10(iso2.points[\"L\"]), \"b+\", label=\"MISTv.1\", alpha =0.1)\n",
    "plt.xlabel(\"log(T in Kelvin)\")\n",
    "plt.ylabel(\"log(L in Watts)\")\n",
    "plt.title(\"HR Diagram of Isochrones at 0.1Z_solar and 10**9.3 years age\")\n",
    "plt.gca().invert_xaxis()\n",
    "plt.legend()\n",
    "# Rough pattern seems to fit. What's that line?"
   ]
  },
  {
   "cell_type": "markdown",
   "metadata": {},
   "source": [
    "A good sign here is that there are plenty of compact remnant (that means good number of stars have gone through their main-sequence and post-main sequence). I also notice stars turning to the red giant branch. This is going to be really important when we decide to use the clusters as reference for finding ages of actual star clusters."
   ]
  },
  {
   "cell_type": "code",
   "execution_count": null,
   "metadata": {},
   "outputs": [],
   "source": [
    "# Plot the mass-luminosity relationship\n",
    "from astropy import constants as cs\n",
    "import matplotlib.pyplot as plt\n",
    "plt.plot(np.log10(iso1.primaries['mass_current']), np.log10(iso1.primaries[\"L\"]/cs.L_sun), \"r.\")\n",
    "plt.plot(np.log10(iso1.secondaries['mass_current']), np.log10(iso1.secondaries[\"L\"]/cs.L_sun), \"r.\")\n",
    "plt.plot(np.log10(iso1.singles['mass_current']), np.log10(iso1.singles[\"L\"]/cs.L_sun), \"r.\", label=\"BPASS isochrone\")\n",
    "plt.plot(np.log10(iso2.points['mass_current']), np.log10(iso2.points[\"L\"]/cs.L_sun), \"b+\", label=\"MISTv.1\", alpha =0.2)\n",
    "plt.xlabel(\"log(Current Mass in solar masses)\")\n",
    "plt.ylabel(\"log(L/L_solar)\")\n",
    "plt.title(\"log Mass-logL of Isochrones at 0.1Z_solar and 10**9.3 years age\")\n",
    "plt.legend()\n",
    "# Rough pattern seems to fit. What's that line?"
   ]
  },
  {
   "cell_type": "markdown",
   "metadata": {},
   "source": [
    "Which table is causing that line segment at around log10(L/L_sun)=-3?\n",
    "Let's find out.\n",
    "First I take a look at the shape of the primary stars' plot for log current mass log L."
   ]
  },
  {
   "cell_type": "code",
   "execution_count": null,
   "metadata": {},
   "outputs": [],
   "source": [
    "from astropy import constants as cs\n",
    "import matplotlib.pyplot as plt\n",
    "plt.plot(np.log10(iso1.primaries['mass_current']), np.log10(iso1.primaries[\"L\"]/cs.L_sun), \"r.\", label=\"BPASS isochrone (primaries)\")\n",
    "plt.xlabel(\"log(Current Mass in solar masses)\")\n",
    "plt.ylabel(\"log(L/L_solar)\")\n",
    "plt.title(\"log Mass-logL of Isochrones at 0.1Z_solar and 10**9.3 years age\")\n",
    "plt.legend()"
   ]
  },
  {
   "cell_type": "markdown",
   "metadata": {},
   "source": [
    "Which type of secondary star is it that is causing this strange pattern that looks like a line lingering in the bottom of the mass luminosity plot. I will examine the region where luminosity of the star is about $10^{-3.2}$ solar luminosities"
   ]
  },
  {
   "cell_type": "code",
   "execution_count": null,
   "metadata": {},
   "outputs": [],
   "source": [
    "bad_line = iso1.primaries[np.where((np.log10(iso1.primaries[\"L\"]/cs.L_sun)<0.10) & (np.log10(iso1.primaries[\"L\"]/cs.L_sun)>-0.10))[0]]"
   ]
  },
  {
   "cell_type": "code",
   "execution_count": null,
   "metadata": {},
   "outputs": [],
   "source": [
    "bad_line"
   ]
  },
  {
   "cell_type": "markdown",
   "metadata": {},
   "source": [
    "What sorts of characteristics (logg, Teff, L) can be causing it? Let's find out"
   ]
  },
  {
   "cell_type": "code",
   "execution_count": null,
   "metadata": {},
   "outputs": [],
   "source": [
    "np.unique(bad_line['L'])"
   ]
  },
  {
   "cell_type": "code",
   "execution_count": null,
   "metadata": {},
   "outputs": [],
   "source": [
    "np.unique(bad_line['Teff'])"
   ]
  },
  {
   "cell_type": "code",
   "execution_count": null,
   "metadata": {},
   "outputs": [],
   "source": [
    "np.unique(bad_line['logg'])"
   ]
  },
  {
   "cell_type": "code",
   "execution_count": null,
   "metadata": {},
   "outputs": [],
   "source": [
    "np.unique(bad_line['mass'])"
   ]
  },
  {
   "cell_type": "code",
   "execution_count": null,
   "metadata": {},
   "outputs": [],
   "source": [
    "np.unique(bad_line['phase'])"
   ]
  },
  {
   "cell_type": "markdown",
   "metadata": {},
   "source": [
    "**It turns out that the line was caused by some compact remnants that were lingering around from the NEWSECMODS. In future versions of the stellar evolution model, I may obtain an additional program from the BPASS creators to match the types of compact remnants from the NEWSECMODS.**"
   ]
  },
  {
   "cell_type": "code",
   "execution_count": null,
   "metadata": {},
   "outputs": [],
   "source": [
    "# Plot the mass-luminosity relationship\n",
    "from astropy import constants as cs\n",
    "from astropy import units as u\n",
    "import numpy as np\n",
    "import matplotlib.pyplot as plt\n",
    "plt.plot((clus_1.star_systems['mass_current']), np.log10(clus_1.star_systems[\"L\"]), \"r.\", label=\"Binary_Cluster made from BPASS\", alpha =0.3)\n",
    "plt.plot((clus_1.companions['mass_current']), np.log10(clus_1.companions[\"L\"]), \"r.\", alpha = 0.3)\n",
    "plt.plot((clus_2.star_systems['mass_current']), np.log10(clus_2.star_systems[\"L\"]), \"b.\", label=\"Cluster made from MISTv.1\", alpha =0.1)\n",
    "plt.plot((clus_2.companions['mass_current']), np.log10(clus_2.companions[\"L\"]), \"b.\", alpha = 0.1)\n",
    "plt.xlabel(\"Current Mass in solar masses\")\n",
    "plt.ylabel(\"log(L in Watts)\")\n",
    "plt.title(\"Mass-logL of Cluster at 0.1Z_solar and 10**9.3 years age\")\n",
    "plt.legend()\n",
    "# Rough pattern seems to fit. What's that line?"
   ]
  },
  {
   "cell_type": "markdown",
   "metadata": {},
   "source": [
    "Where is that hook coming from?"
   ]
  },
  {
   "cell_type": "code",
   "execution_count": null,
   "metadata": {},
   "outputs": [],
   "source": [
    "np.unique(iso1.primaries[np.where(np.log10(iso1.primaries[\"L\"])<=25)]['phase'])"
   ]
  },
  {
   "cell_type": "code",
   "execution_count": null,
   "metadata": {},
   "outputs": [],
   "source": [
    "len(iso1.primaries[np.where((np.log10(iso1.primaries[\"L\"])<=25) & (iso1.primaries[\"phase\"]==110))])"
   ]
  },
  {
   "cell_type": "code",
   "execution_count": null,
   "metadata": {},
   "outputs": [],
   "source": [
    "len(iso1.primaries[np.where((np.log10(iso1.primaries[\"L\"])<=25) & (iso1.primaries[\"phase\"]==101))])"
   ]
  },
  {
   "cell_type": "markdown",
   "metadata": {},
   "source": [
    "OK. It makes sense that our compact remnants are causing this. (Remember, there really is no significant fusion in the insides of neutron stars or white dwarves."
   ]
  },
  {
   "cell_type": "code",
   "execution_count": null,
   "metadata": {},
   "outputs": [],
   "source": [
    "# Plot the mass-luminosity relationship\n",
    "from astropy import constants as cs\n",
    "from astropy import units as u\n",
    "import matplotlib.pyplot as plt\n",
    "plt.plot(clus_1.star_systems['mass_current'], np.log10(clus_1.star_systems[\"L\"]), \"r.\", label=\"Binary_Cluster made from BPASS (Star Systems)\", alpha =1)\n",
    "plt.xlabel(\"log Current Mass in solar masses\")\n",
    "plt.ylabel(\"log(L/L_solar)\")\n",
    "plt.title(\"log-Mass-logL of Cluster at 0.1Z_solar and 10**9.3 years age\")\n",
    "plt.legend()\n",
    "# Rough pattern seems to fit. What's that line?"
   ]
  },
  {
   "cell_type": "code",
   "execution_count": null,
   "metadata": {},
   "outputs": [],
   "source": [
    "# Plot the mass-luminosity relationship\n",
    "from astropy import constants as cs\n",
    "from astropy import units as u\n",
    "import matplotlib.pyplot as plt\n",
    "plt.plot(clus_1.companions['mass_current'], np.log10(clus_1.companions[\"L\"]), \"r.\", label=\"Binary_Cluster made from BPASS (Companions)\", alpha =1)\n",
    "plt.xlabel(\"log Current Mass in solar masses\")\n",
    "plt.ylabel(\"log(L/L_solar)\")\n",
    "plt.title(\"log-Mass-logL of Cluster at 0.1Z_solar and 10**9.3 years age\")\n",
    "plt.legend()\n",
    "# Rough pattern seems to fit. What's that line?"
   ]
  },
  {
   "cell_type": "markdown",
   "metadata": {},
   "source": [
    "Now go back to the shape of the clusters' Color magnitude diagrams."
   ]
  },
  {
   "cell_type": "code",
   "execution_count": null,
   "metadata": {},
   "outputs": [],
   "source": [
    "np.unique(clus_1.companions['log_a'])"
   ]
  },
  {
   "cell_type": "code",
   "execution_count": null,
   "metadata": {},
   "outputs": [],
   "source": [
    "# Taking a look at the Binary Cluster vs Default Settings cluster Observer's HR Diagram\n",
    "# Remember to use a distance modulus!\n",
    "import matplotlib.pyplot as plt\n",
    "plt.plot(clus_1.star_systems['m_ubv_B']-clus_1.star_systems[\"m_ubv_V\"], clus_1.star_systems[\"m_ubv_V\"]-5*np.log10(100), \"r.\",label=\"BPASS\", alpha =0.3)\n",
    "plt.plot(clus_2.star_systems['m_ubv_B']-clus_2.star_systems[\"m_ubv_V\"], clus_2.star_systems[\"m_ubv_V\"]-5*np.log10(100), \"b+\", label=\"MISTv.1\", alpha=0.1)\n",
    "plt.xlabel(\"B-V\")\n",
    "plt.ylabel(\"M_V\")\n",
    "plt.title(\"Color magnitude Diagram of clusters at 0.1Z_solar and 10**9.3 years age\")\n",
    "plt.gca().invert_yaxis()\n",
    "plt.legend()"
   ]
  },
  {
   "cell_type": "code",
   "execution_count": null,
   "metadata": {},
   "outputs": [],
   "source": [
    "clus_1.star_systems[np.where(clus_1.star_systems[\"m_ubv_V\"]==0)]"
   ]
  },
  {
   "cell_type": "code",
   "execution_count": null,
   "metadata": {},
   "outputs": [],
   "source": [
    "import matplotlib.pyplot as plt\n",
    "plt.plot(np.log10(clus_1.companions['Teff']), np.log10(clus_1.companions[\"L\"]), \"r.\",label=\"BPASS cluster\", alpha=0.5)\n",
    "plt.plot(np.log10(clus_2.companions['Teff']), np.log10(clus_2.companions[\"L\"]), \"b+\", alpha=0.15)\n",
    "plt.plot(np.log10(clus_1.star_systems['Teff']), np.log10(clus_1.star_systems[\"L\"]), \"r.\", alpha=0.5)\n",
    "plt.plot(np.log10(clus_2.star_systems['Teff']), np.log10(clus_2.star_systems[\"L\"]), \"b+\", label=\"MISTv.1 cluster\", alpha=0.15)\n",
    "plt.xlabel(\"log(T in kelvin)\")\n",
    "plt.ylabel(\"log(L in watts)\")\n",
    "plt.title(\"HR Diagram of clusters at 0.1Z_solar and 10**9.3 years age\")\n",
    "plt.gca().invert_xaxis()\n",
    "plt.legend()"
   ]
  },
  {
   "cell_type": "markdown",
   "metadata": {},
   "source": [
    "If I look at the HR Diagram, I do see deviation with respects to the Parsec line for some of the brighter stars, but I see an overall good trend with the main-sequence turnoff. Also, I see the compact remnants where they should be given my setup."
   ]
  },
  {
   "cell_type": "markdown",
   "metadata": {},
   "source": [
    "Looking at which stars are the white dwarves?"
   ]
  },
  {
   "cell_type": "code",
   "execution_count": null,
   "metadata": {},
   "outputs": [],
   "source": [
    "import numpy as np\n",
    "np.where(clus_1.star_systems['phase']==101.0)[0]"
   ]
  },
  {
   "cell_type": "markdown",
   "metadata": {},
   "source": [
    "Do I see any black holes?"
   ]
  },
  {
   "cell_type": "code",
   "execution_count": null,
   "metadata": {},
   "outputs": [],
   "source": [
    "np.where(clus_1.star_systems['phase']==103.0)[0]"
   ]
  },
  {
   "cell_type": "markdown",
   "metadata": {},
   "source": [
    "Neutron Stars?"
   ]
  },
  {
   "cell_type": "code",
   "execution_count": null,
   "metadata": {},
   "outputs": [],
   "source": [
    "np.where(clus_1.star_systems['phase']==102.0)[0]"
   ]
  },
  {
   "cell_type": "markdown",
   "metadata": {},
   "source": [
    "Find the total mass of the cluster (initial)"
   ]
  },
  {
   "cell_type": "code",
   "execution_count": null,
   "metadata": {},
   "outputs": [],
   "source": [
    "clus_1.star_systems['systemMass'].sum()"
   ]
  }
 ],
 "metadata": {
  "kernelspec": {
   "display_name": "astroconda",
   "language": "python",
   "name": "astroconda"
  },
  "language_info": {
   "codemirror_mode": {
    "name": "ipython",
    "version": 3
   },
   "file_extension": ".py",
   "mimetype": "text/x-python",
   "name": "python",
   "nbconvert_exporter": "python",
   "pygments_lexer": "ipython3",
   "version": "3.7.10"
  }
 },
 "nbformat": 4,
 "nbformat_minor": 4
}
