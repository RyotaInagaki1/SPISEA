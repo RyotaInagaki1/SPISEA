{
 "cells": [
  {
   "cell_type": "markdown",
   "metadata": {},
   "source": [
    "## Walking Through the BPASS isochrone at 10^9.3 years age. (Non Solar Metallicity)\n",
    "In this BPASS isochrone and cluster plot, I go over the BPASS isochrone for 10^9.3 years age, a tenth of solar metallicity, AKs=0.0, and distance of 1000 parsecs from Earth. From the isochrone and cluster, we discuss several plots such as the log_g frequency distribution of the isochrone, the color magnitude diagram (B-V vs M_V), and the current-mass luminosity relationship of the cluster."
   ]
  },
  {
   "cell_type": "markdown",
   "metadata": {},
   "source": [
    "For a sanity check, we can see that the primaries, secondaries, and single stars have phasees of 5 or of 101 or of 110. This is since we haven't added neutron stars or black holes yet. Stars with phase of -99 exist, and those are the secondary stars that have already merged."
   ]
  },
  {
   "cell_type": "markdown",
   "metadata": {},
   "source": [
    "**I will be using the Salpeter IMF (Salpeter 1955) and a non-clean-integer age. I also use the MISTv.1 for comparison since only MISTv.1 and BPASS can account for non-solar metallicities.**"
   ]
  },
  {
   "cell_type": "markdown",
   "metadata": {},
   "source": [
    "## This is for tutorial as well as debugging and demonstration purposes."
   ]
  },
  {
   "cell_type": "code",
   "execution_count": 1,
   "metadata": {},
   "outputs": [
    {
     "name": "stderr",
     "output_type": "stream",
     "text": [
      "/opt/anaconda3/envs/astroconda/lib/python3.7/site-packages/pysynphot/locations.py:346: UserWarning: Extinction files not found in /g/lu/models/cdbs/extinction\n",
      "  warnings.warn('Extinction files not found in %s' % (extdir, ))\n",
      "/opt/anaconda3/envs/astroconda/lib/python3.7/site-packages/pysynphot/refs.py:125: UserWarning: No thermal tables found, no thermal calculations can be performed. No files found for /g/lu/models/cdbs/mtab/*_tmt.fits\n",
      "  'no thermal calculations can be performed. ' + str(e))\n",
      "/opt/anaconda3/envs/astroconda/lib/python3.7/site-packages/astropy/units/quantity.py:477: RuntimeWarning: invalid value encountered in true_divide\n",
      "  result = super().__array_ufunc__(function, method, *arrays, **kwargs)\n",
      "/u/ryotainagaki/Desktop/PyPopStar/spisea/evolution.py:1771: RuntimeWarning: overflow encountered in power\n",
      "  (1 / cs.au) * un.m)\n",
      "/opt/anaconda3/envs/astroconda/lib/python3.7/site-packages/astropy/table/column.py:1020: RuntimeWarning: invalid value encountered in greater\n",
      "  result = getattr(super(), op)(other)\n",
      "/opt/anaconda3/envs/astroconda/lib/python3.7/site-packages/astropy/table/column.py:1020: RuntimeWarning: invalid value encountered in less_equal\n",
      "  result = getattr(super(), op)(other)\n",
      "/opt/anaconda3/envs/astroconda/lib/python3.7/site-packages/astropy/units/quantity.py:477: RuntimeWarning: divide by zero encountered in true_divide\n",
      "  result = super().__array_ufunc__(function, method, *arrays, **kwargs)\n"
     ]
    },
    {
     "name": "stdout",
     "output_type": "stream",
     "text": [
      "Changing to logg=5.00 for T= 23300 logg=6.77\n",
      "Changing to logg=5.00 for T= 21461 logg=7.15\n",
      "Changing to logg=5.00 for T= 19610 logg=6.86\n",
      "Changing to logg=5.00 for T= 20714 logg=6.86\n",
      "Changing to logg=5.00 for T= 37166 logg=7.13\n",
      "Changing to logg=2.00 for T=  9954 logg=1.62\n",
      "Changing to logg=5.00 for T= 19614 logg=6.94\n",
      "Changing to logg=5.00 for T= 44356 logg=7.09\n",
      "Changing to logg=5.00 for T= 20685 logg=7.13\n",
      "Changing to logg=5.00 for T= 20676 logg=6.93\n",
      "Changing to logg=4.00 for T= 35409 logg=3.94\n",
      "Changing to logg=5.00 for T= 26501 logg=5.93\n",
      "Changing to logg=5.00 for T= 21459 logg=7.14\n",
      "Changing to logg=5.00 for T= 20153 logg=6.92\n",
      "Changing to logg=5.00 for T= 23700 logg=6.80\n",
      "Changing to logg=5.00 for T= 21822 logg=7.09\n",
      "Changing to logg=5.00 for T= 19956 logg=6.89\n",
      "Changing to logg=5.00 for T= 21446 logg=6.93\n",
      "Changing to logg=5.00 for T= 20735 logg=7.02\n",
      "Changing to logg=5.00 for T= 21284 logg=7.20\n",
      "Changing to logg=5.00 for T= 22614 logg=7.26\n",
      "Changing to logg=5.00 for T= 19714 logg=6.96\n",
      "Changing to logg=5.00 for T= 20567 logg=6.98\n",
      "Changing to logg=5.00 for T= 19602 logg=6.96\n",
      "Changing to logg=5.00 for T= 20895 logg=7.17\n",
      "Changing to logg=5.00 for T= 18710 logg=6.87\n",
      "Changing to logg=5.00 for T= 18919 logg=6.90\n",
      "Changing to logg=5.00 for T= 20872 logg=7.00\n",
      "Changing to logg=5.00 for T= 20406 logg=6.94\n",
      "Changing to logg=5.00 for T= 21555 logg=7.08\n",
      "Changing to logg=5.00 for T= 20510 logg=7.13\n",
      "Changing to logg=2.50 for T= 12169 logg=1.95\n",
      "Changing to logg=5.00 for T= 19498 logg=6.97\n",
      "Changing to logg=5.00 for T= 19488 logg=6.97\n",
      "Changing to logg=5.00 for T= 20912 logg=6.93\n",
      "Changing to logg=5.00 for T= 21031 logg=7.10\n",
      "Changing to logg=5.00 for T= 21043 logg=7.20\n",
      "Changing to logg=5.00 for T= 20775 logg=7.05\n",
      "Changing to logg=5.00 for T= 20815 logg=7.18\n",
      "Changing to logg=5.00 for T= 21261 logg=7.14\n",
      "Changing to T= 50000 for T= 70513 logg=5.98\n",
      "Changing to logg=5.00 for T= 70513 logg=5.98\n",
      "Changing to logg=5.00 for T= 20536 logg=7.03\n",
      "Changing to logg=5.00 for T= 19952 logg=6.85\n",
      "Changing to logg=5.00 for T= 19976 logg=6.88\n",
      "Changing to logg=5.00 for T= 20066 logg=7.06\n",
      "Changing to logg=5.00 for T= 18462 logg=6.81\n",
      "Changing to logg=5.00 for T= 19588 logg=6.92\n",
      "Changing to T= 50000 for T= 73500 logg=5.90\n",
      "Changing to logg=5.00 for T= 73500 logg=5.90\n",
      "Changing to logg=5.00 for T= 20435 logg=7.07\n",
      "Changing to T=  2300 for T=   923 logg=4.44\n",
      "Changing to logg=5.00 for T= 19829 logg=6.92\n",
      "Changing to T=  2300 for T=  1847 logg=4.44\n",
      "Changing to logg=5.00 for T= 19368 logg=6.97\n",
      "Changing to logg=5.00 for T= 20672 logg=6.94\n",
      "Changing to logg=5.00 for T= 18965 logg=6.88\n",
      "Changing to logg=1.50 for T=  8257 logg=1.39\n",
      "Changing to logg=5.00 for T= 21534 logg=7.02\n",
      "Changing to T=  2300 for T=  1385 logg=4.44\n",
      "Changing to T=  2300 for T=  1847 logg=4.44\n",
      "Changing to T=  2300 for T=   462 logg=4.44\n",
      "Changing to T=  2300 for T=  1385 logg=4.44\n",
      "Changing to logg=5.00 for T= 19555 logg=6.88\n",
      "Changing to logg=5.00 for T= 20381 logg=6.80\n",
      "Changing to T=  2300 for T=  1385 logg=4.44\n",
      "Changing to logg=5.00 for T= 39033 logg=7.06\n",
      "Changing to logg=5.00 for T= 26658 logg=5.98\n",
      "Changing to logg=5.00 for T= 28452 logg=5.62\n",
      "Changing to logg=5.00 for T= 19139 logg=6.85\n",
      "Changing to logg=5.00 for T= 26657 logg=5.96\n",
      "Changing to T=  2300 for T=  1731 logg=4.44\n",
      "Changing to T=  2300 for T=  1847 logg=4.44\n",
      "Changing to logg=5.00 for T= 25718 logg=5.85\n",
      "Changing to logg=5.00 for T= 21461 logg=7.01\n",
      "Changing to T=  2300 for T=  1847 logg=4.44\n",
      "Changing to logg=5.00 for T= 21537 logg=7.12\n",
      "Making photometry for isochrone: log(t) = 9.30  AKs = 0.00  dist = 1000\n",
      "     Starting at:  2021-01-04 01:25:42.123074   Usually takes ~5 minutes\n",
      "Starting filter: ubv,U   Elapsed time: 0.00 seconds\n",
      "Starting synthetic photometry\n",
      "Singles\n",
      "M =   4.300 Msun  T =  7874 K  m_ubv_U = 23.93\n",
      "M =   3.700 Msun  T =  7200 K  m_ubv_U = 24.16\n",
      "Primaries\n",
      "M =   3.981 Msun  T =   nan K  m_ubv_U =  nan\n",
      "M =   1.400 Msun  T =   nan K  m_ubv_U =  nan\n",
      "M =   6.000 Msun  T =  9559 K  m_ubv_U = 22.89\n",
      "M =   1.000 Msun  T =   nan K  m_ubv_U =  nan\n",
      "M =   4.500 Msun  T =  8492 K  m_ubv_U = 23.09\n",
      "M =   3.200 Msun  T =  7202 K  m_ubv_U = 24.15\n",
      "M =   1.400 Msun  T =   nan K  m_ubv_U =  nan\n",
      "M =   5.500 Msun  T =  8787 K  m_ubv_U = 23.10\n",
      "M =   3.700 Msun  T =  7169 K  m_ubv_U = 24.17\n",
      "M =   0.398 Msun  T =   nan K  m_ubv_U =  nan\n",
      "M =   1.400 Msun  T =   nan K  m_ubv_U =  nan\n",
      "M =   0.631 Msun  T =   nan K  m_ubv_U =  nan\n",
      "M =   0.794 Msun  T =   nan K  m_ubv_U =  nan\n",
      "M =   2.100 Msun  T =  6388 K  m_ubv_U = 24.14\n",
      "M =   0.501 Msun  T =   nan K  m_ubv_U =  nan\n",
      "M =   0.501 Msun  T =   nan K  m_ubv_U =  nan\n",
      "M =   0.300 Msun  T =  4130 K  m_ubv_U = 20.54\n",
      "M =   1.400 Msun  T =   nan K  m_ubv_U =  nan\n",
      "M =   3.162 Msun  T =   nan K  m_ubv_U =  nan\n",
      "M =   1.600 Msun  T = 16865 K  m_ubv_U = 18.76\n",
      "M =   1.000 Msun  T =  6624 K  m_ubv_U = 14.38\n",
      "M =   1.800 Msun  T =  7617 K  m_ubv_U = 23.75\n",
      "M =   2.100 Msun  T =  7176 K  m_ubv_U = 24.17\n",
      "M =   3.500 Msun  T =  6179 K  m_ubv_U = 24.49\n",
      "M =   4.500 Msun  T =  8635 K  m_ubv_U = 23.05\n",
      "M =   3.700 Msun  T =  7169 K  m_ubv_U = 24.17\n",
      "M =   2.100 Msun  T =  7113 K  m_ubv_U = 23.95\n",
      "M =   3.500 Msun  T =  6165 K  m_ubv_U = 24.50\n",
      "M =   0.631 Msun  T =   nan K  m_ubv_U =  nan\n",
      "M =   2.300 Msun  T =  6704 K  m_ubv_U = 23.95\n",
      "M =   1.400 Msun  T =   nan K  m_ubv_U =  nan\n",
      "M =   1.500 Msun  T =  4190 K  m_ubv_U = 10.23\n",
      "M =   3.200 Msun  T =  5866 K  m_ubv_U = 24.73\n",
      "M =   0.631 Msun  T =   nan K  m_ubv_U =  nan\n",
      "M =   1.300 Msun  T =  7894 K  m_ubv_U = 12.64\n",
      "M =   1.300 Msun  T =  8028 K  m_ubv_U = 12.71\n",
      "M =   2.700 Msun  T =  6876 K  m_ubv_U = 24.07\n",
      "M =   2.500 Msun  T =  6504 K  m_ubv_U = 24.27\n",
      "M =   1.900 Msun  T =  7202 K  m_ubv_U = 24.15\n",
      "M =   3.200 Msun  T =  7202 K  m_ubv_U = 24.15\n",
      "M =   0.631 Msun  T =   nan K  m_ubv_U =  nan\n",
      "M =   6.000 Msun  T =  9075 K  m_ubv_U = 23.06\n",
      "M =   0.501 Msun  T =   nan K  m_ubv_U =  nan\n",
      "M =   1.700 Msun  T =  8296 K  m_ubv_U = 22.44\n",
      "M =   1.200 Msun  T =  7708 K  m_ubv_U = 13.14\n",
      "M =   1.400 Msun  T =  7952 K  m_ubv_U = 12.04\n",
      "M =   0.631 Msun  T =   nan K  m_ubv_U =  nan\n",
      "M =   1.300 Msun  T =  7886 K  m_ubv_U = 12.64\n",
      "Secondaries\n",
      "M =   2.700 Msun  T =  6685 K  m_ubv_U = 24.17\n",
      "M =   1.800 Msun  T =  6986 K  m_ubv_U = 23.39\n",
      "M =   1.200 Msun  T =  7751 K  m_ubv_U = 13.33\n",
      "M =   1.400 Msun  T =  7556 K  m_ubv_U = 12.13\n",
      "M =   1.350 Msun  T =  8823 K  m_ubv_U = 12.55\n",
      "M =   0.320 Msun  T =   nan K  m_ubv_U =  nan\n",
      "M =   1.900 Msun  T =  7095 K  m_ubv_U = 23.34\n",
      "M =   4.400 Msun  T = 15883 K  m_ubv_U = 7.71\n",
      "M =   2.220 Msun  T = 12802 K  m_ubv_U = 11.12\n",
      "M =   1.400 Msun  T =  7556 K  m_ubv_U = 12.13\n",
      "M =   5.500 Msun  T =  9607 K  m_ubv_U = 22.82\n",
      "M =   1.500 Msun  T =  8257 K  m_ubv_U = 6.76\n",
      "M =   1.700 Msun  T =  8292 K  m_ubv_U = 22.44\n",
      "M =   1.470 Msun  T =  9365 K  m_ubv_U = 12.54\n",
      "M =   1.300 Msun  T =  7811 K  m_ubv_U = 12.64\n",
      "M =   5.500 Msun  T =  8504 K  m_ubv_U = 23.13\n",
      "M =   0.210 Msun  T =   nan K  m_ubv_U =  nan\n",
      "M =   2.300 Msun  T =  6552 K  m_ubv_U = 24.04\n",
      "M =   5.000 Msun  T =  5586 K  m_ubv_U = 25.17\n",
      "M =   0.960 Msun  T =  5540 K  m_ubv_U = 15.74\n",
      "M =   0.800 Msun  T =  5565 K  m_ubv_U = 16.25\n",
      "M =   0.900 Msun  T =   nan K  m_ubv_U =  nan\n",
      "M =   0.840 Msun  T =   nan K  m_ubv_U =  nan\n",
      "M =   2.100 Msun  T = 11706 K  m_ubv_U = 11.23\n",
      "M =   3.150 Msun  T = 12760 K  m_ubv_U = 8.71\n",
      "M =   3.330 Msun  T = 14655 K  m_ubv_U = 9.08\n",
      "M =   0.420 Msun  T =   nan K  m_ubv_U =  nan\n",
      "M =   3.150 Msun  T = 10963 K  m_ubv_U = 8.80\n",
      "M =   1.500 Msun  T =  4193 K  m_ubv_U = 10.23\n",
      "M =   1.840 Msun  T = 11066 K  m_ubv_U = 11.47\n",
      "M =   3.700 Msun  T =  5802 K  m_ubv_U = 24.98\n",
      "M =   0.450 Msun  T =  4028 K  m_ubv_U = 21.24\n",
      "M =   1.600 Msun  T =  9727 K  m_ubv_U = 12.37\n",
      "M =   6.000 Msun  T =  9466 K  m_ubv_U = 22.98\n",
      "M =   0.130 Msun  T =  3424 K  m_ubv_U = 25.74\n",
      "M =   1.170 Msun  T =  7562 K  m_ubv_U = 13.50\n",
      "M =   1.620 Msun  T = 10074 K  m_ubv_U = 12.26\n",
      "M =   0.500 Msun  T =  4188 K  m_ubv_U = 20.58\n",
      "M =   0.950 Msun  T =   nan K  m_ubv_U =  nan\n",
      "M =   0.320 Msun  T =   nan K  m_ubv_U =  nan\n",
      "M =   5.500 Msun  T =  8458 K  m_ubv_U = 23.23\n",
      "M =   4.200 Msun  T = 15574 K  m_ubv_U = 7.86\n",
      "M =   5.500 Msun  T =  9009 K  m_ubv_U = 23.08\n",
      "M =   0.340 Msun  T =  3807 K  m_ubv_U = 22.46\n",
      "M =   1.080 Msun  T =  7016 K  m_ubv_U = 13.96\n",
      "M =   0.700 Msun  T =  4039 K  m_ubv_U = 19.63\n",
      "M =   1.900 Msun  T =  7235 K  m_ubv_U = 23.26\n"
     ]
    },
    {
     "name": "stdout",
     "output_type": "stream",
     "text": [
      "M =   1.040 Msun  T =  6791 K  m_ubv_U = 14.21\n",
      "Starting filter: ubv,V   Elapsed time: 22.44 seconds\n",
      "Starting synthetic photometry\n",
      "Singles\n",
      "M =   4.300 Msun  T =  7874 K  m_ubv_V = 24.12\n",
      "M =   3.700 Msun  T =  7200 K  m_ubv_V = 24.18\n",
      "Primaries\n",
      "M =   3.981 Msun  T =   nan K  m_ubv_V =  nan\n",
      "M =   1.400 Msun  T =   nan K  m_ubv_V =  nan\n",
      "M =   6.000 Msun  T =  9559 K  m_ubv_V = 23.38\n",
      "M =   1.000 Msun  T =   nan K  m_ubv_V =  nan\n",
      "M =   4.500 Msun  T =  8492 K  m_ubv_V = 23.40\n",
      "M =   3.200 Msun  T =  7202 K  m_ubv_V = 24.18\n",
      "M =   1.400 Msun  T =   nan K  m_ubv_V =  nan\n",
      "M =   5.500 Msun  T =  8787 K  m_ubv_V = 23.46\n",
      "M =   3.700 Msun  T =  7169 K  m_ubv_V = 24.19\n",
      "M =   0.398 Msun  T =   nan K  m_ubv_V =  nan\n",
      "M =   1.400 Msun  T =   nan K  m_ubv_V =  nan\n",
      "M =   0.631 Msun  T =   nan K  m_ubv_V =  nan\n",
      "M =   0.794 Msun  T =   nan K  m_ubv_V =  nan\n",
      "M =   2.100 Msun  T =  6388 K  m_ubv_V = 23.93\n",
      "M =   0.501 Msun  T =   nan K  m_ubv_V =  nan\n",
      "M =   0.501 Msun  T =   nan K  m_ubv_V =  nan\n",
      "M =   0.300 Msun  T =  4130 K  m_ubv_V = 18.54\n",
      "M =   1.400 Msun  T =   nan K  m_ubv_V =  nan\n",
      "M =   3.162 Msun  T =   nan K  m_ubv_V =  nan\n",
      "M =   1.600 Msun  T = 16865 K  m_ubv_V = 19.81\n",
      "M =   1.000 Msun  T =  6624 K  m_ubv_V = 14.18\n",
      "M =   1.800 Msun  T =  7617 K  m_ubv_V = 23.89\n",
      "M =   2.100 Msun  T =  7176 K  m_ubv_V = 24.19\n",
      "M =   3.500 Msun  T =  6179 K  m_ubv_V = 24.20\n",
      "M =   4.500 Msun  T =  8635 K  m_ubv_V = 23.39\n",
      "M =   3.700 Msun  T =  7169 K  m_ubv_V = 24.19\n",
      "M =   2.100 Msun  T =  7113 K  m_ubv_V = 23.96\n",
      "M =   3.500 Msun  T =  6165 K  m_ubv_V = 24.20\n",
      "M =   0.631 Msun  T =   nan K  m_ubv_V =  nan\n",
      "M =   2.300 Msun  T =  6704 K  m_ubv_V = 23.83\n",
      "M =   1.400 Msun  T =   nan K  m_ubv_V =  nan\n",
      "M =   1.500 Msun  T =  4190 K  m_ubv_V = 7.79\n",
      "M =   3.200 Msun  T =  5866 K  m_ubv_V = 24.32\n",
      "M =   0.631 Msun  T =   nan K  m_ubv_V =  nan\n",
      "M =   1.300 Msun  T =  7894 K  m_ubv_V = 12.44\n",
      "M =   1.300 Msun  T =  8028 K  m_ubv_V = 12.51\n",
      "M =   2.700 Msun  T =  6876 K  m_ubv_V = 24.01\n",
      "M =   2.500 Msun  T =  6504 K  m_ubv_V = 24.10\n",
      "M =   1.900 Msun  T =  7202 K  m_ubv_V = 24.18\n",
      "M =   3.200 Msun  T =  7202 K  m_ubv_V = 24.18\n",
      "M =   0.631 Msun  T =   nan K  m_ubv_V =  nan\n",
      "M =   6.000 Msun  T =  9075 K  m_ubv_V = 23.48\n",
      "M =   0.501 Msun  T =   nan K  m_ubv_V =  nan\n",
      "M =   1.700 Msun  T =  8296 K  m_ubv_V = 22.72\n",
      "M =   1.200 Msun  T =  7708 K  m_ubv_V = 12.96\n",
      "M =   1.400 Msun  T =  7952 K  m_ubv_V = 11.82\n",
      "M =   0.631 Msun  T =   nan K  m_ubv_V =  nan\n",
      "M =   1.300 Msun  T =  7886 K  m_ubv_V = 12.44\n",
      "Secondaries\n",
      "M =   2.700 Msun  T =  6685 K  m_ubv_V = 24.05\n",
      "M =   1.800 Msun  T =  6986 K  m_ubv_V = 23.36\n",
      "M =   1.200 Msun  T =  7751 K  m_ubv_V = 13.16\n",
      "M =   1.400 Msun  T =  7556 K  m_ubv_V = 11.91\n",
      "M =   1.350 Msun  T =  8823 K  m_ubv_V = 12.41\n",
      "M =   0.320 Msun  T =   nan K  m_ubv_V =  nan\n",
      "M =   1.900 Msun  T =  7095 K  m_ubv_V = 23.34\n",
      "M =   4.400 Msun  T = 15883 K  m_ubv_V = 8.44\n",
      "M =   2.220 Msun  T = 12802 K  m_ubv_V = 11.54\n",
      "M =   1.400 Msun  T =  7556 K  m_ubv_V = 11.91\n",
      "M =   5.500 Msun  T =  9607 K  m_ubv_V = 23.31\n",
      "M =   1.500 Msun  T =  8257 K  m_ubv_V = 6.71\n",
      "M =   1.700 Msun  T =  8292 K  m_ubv_V = 22.72\n",
      "M =   1.470 Msun  T =  9365 K  m_ubv_V = 12.47\n",
      "M =   1.300 Msun  T =  7811 K  m_ubv_V = 12.43\n",
      "M =   5.500 Msun  T =  8504 K  m_ubv_V = 23.44\n",
      "M =   0.210 Msun  T =   nan K  m_ubv_V =  nan\n",
      "M =   2.300 Msun  T =  6552 K  m_ubv_V = 23.87\n",
      "M =   5.000 Msun  T =  5586 K  m_ubv_V = 24.64\n",
      "M =   0.960 Msun  T =  5540 K  m_ubv_V = 15.12\n",
      "M =   0.800 Msun  T =  5565 K  m_ubv_V = 15.65\n",
      "M =   0.900 Msun  T =   nan K  m_ubv_V =  nan\n",
      "M =   0.840 Msun  T =   nan K  m_ubv_V =  nan\n",
      "M =   2.100 Msun  T = 11706 K  m_ubv_V = 11.53\n",
      "M =   3.150 Msun  T = 12760 K  m_ubv_V = 9.18\n",
      "M =   3.330 Msun  T = 14655 K  m_ubv_V = 9.71\n",
      "M =   0.420 Msun  T =   nan K  m_ubv_V =  nan\n",
      "M =   3.150 Msun  T = 10963 K  m_ubv_V = 9.06\n",
      "M =   1.500 Msun  T =  4193 K  m_ubv_V = 7.79\n",
      "M =   1.840 Msun  T = 11066 K  m_ubv_V = 11.69\n",
      "M =   3.700 Msun  T =  5802 K  m_ubv_V = 24.55\n",
      "M =   0.450 Msun  T =  4028 K  m_ubv_V = 19.13\n",
      "M =   1.600 Msun  T =  9727 K  m_ubv_V = 12.36\n",
      "M =   6.000 Msun  T =  9466 K  m_ubv_V = 23.46\n",
      "M =   0.130 Msun  T =  3424 K  m_ubv_V = 22.60\n",
      "M =   1.170 Msun  T =  7562 K  m_ubv_V = 13.33\n",
      "M =   1.620 Msun  T = 10074 K  m_ubv_V = 12.31\n",
      "M =   0.500 Msun  T =  4188 K  m_ubv_V = 18.63\n",
      "M =   0.950 Msun  T =   nan K  m_ubv_V =  nan\n",
      "M =   0.320 Msun  T =   nan K  m_ubv_V =  nan\n",
      "M =   5.500 Msun  T =  8458 K  m_ubv_V = 23.54\n",
      "M =   4.200 Msun  T = 15574 K  m_ubv_V = 8.56\n",
      "M =   5.500 Msun  T =  9009 K  m_ubv_V = 23.48\n",
      "M =   0.340 Msun  T =  3807 K  m_ubv_V = 20.05\n",
      "M =   1.080 Msun  T =  7016 K  m_ubv_V = 13.79\n",
      "M =   0.700 Msun  T =  4039 K  m_ubv_V = 17.54\n",
      "M =   1.900 Msun  T =  7235 K  m_ubv_V = 23.30\n",
      "M =   1.040 Msun  T =  6791 K  m_ubv_V = 14.04\n",
      "Starting filter: ubv,B   Elapsed time: 44.56 seconds\n",
      "Starting synthetic photometry\n",
      "Singles\n",
      "M =   4.300 Msun  T =  7874 K  m_ubv_B = 24.46\n",
      "M =   3.700 Msun  T =  7200 K  m_ubv_B = 24.61\n",
      "Primaries\n",
      "M =   3.981 Msun  T =   nan K  m_ubv_B =  nan\n",
      "M =   1.400 Msun  T =   nan K  m_ubv_B =  nan\n",
      "M =   6.000 Msun  T =  9559 K  m_ubv_B = 23.57\n",
      "M =   1.000 Msun  T =   nan K  m_ubv_B =  nan\n",
      "M =   4.500 Msun  T =  8492 K  m_ubv_B = 23.68\n",
      "M =   3.200 Msun  T =  7202 K  m_ubv_B = 24.61\n",
      "M =   1.400 Msun  T =   nan K  m_ubv_B =  nan\n",
      "M =   5.500 Msun  T =  8787 K  m_ubv_B = 23.72\n",
      "M =   3.700 Msun  T =  7169 K  m_ubv_B = 24.62\n",
      "M =   0.398 Msun  T =   nan K  m_ubv_B =  nan\n",
      "M =   1.400 Msun  T =   nan K  m_ubv_B =  nan\n",
      "M =   0.631 Msun  T =   nan K  m_ubv_B =  nan\n",
      "M =   0.794 Msun  T =   nan K  m_ubv_B =  nan\n",
      "M =   2.100 Msun  T =  6388 K  m_ubv_B = 24.48\n",
      "M =   0.501 Msun  T =   nan K  m_ubv_B =  nan\n",
      "M =   0.501 Msun  T =   nan K  m_ubv_B =  nan\n",
      "M =   0.300 Msun  T =  4130 K  m_ubv_B = 19.77\n",
      "M =   1.400 Msun  T =   nan K  m_ubv_B =  nan\n",
      "M =   3.162 Msun  T =   nan K  m_ubv_B =  nan\n",
      "M =   1.600 Msun  T = 16865 K  m_ubv_B = 19.71\n",
      "M =   1.000 Msun  T =  6624 K  m_ubv_B = 14.58\n",
      "M =   1.800 Msun  T =  7617 K  m_ubv_B = 24.26\n",
      "M =   2.100 Msun  T =  7176 K  m_ubv_B = 24.62\n",
      "M =   3.500 Msun  T =  6179 K  m_ubv_B = 24.79\n",
      "M =   4.500 Msun  T =  8635 K  m_ubv_B = 23.66\n",
      "M =   3.700 Msun  T =  7169 K  m_ubv_B = 24.62\n",
      "M =   2.100 Msun  T =  7113 K  m_ubv_B = 24.40\n",
      "M =   3.500 Msun  T =  6165 K  m_ubv_B = 24.79\n",
      "M =   0.631 Msun  T =   nan K  m_ubv_B =  nan\n",
      "M =   2.300 Msun  T =  6704 K  m_ubv_B = 24.33\n",
      "M =   1.400 Msun  T =   nan K  m_ubv_B =  nan\n",
      "M =   1.500 Msun  T =  4190 K  m_ubv_B = 9.12\n",
      "M =   3.200 Msun  T =  5866 K  m_ubv_B = 24.97\n",
      "M =   0.631 Msun  T =   nan K  m_ubv_B =  nan\n",
      "M =   1.300 Msun  T =  7894 K  m_ubv_B = 12.64\n",
      "M =   1.300 Msun  T =  8028 K  m_ubv_B = 12.69\n",
      "M =   2.700 Msun  T =  6876 K  m_ubv_B = 24.48\n",
      "M =   2.500 Msun  T =  6504 K  m_ubv_B = 24.63\n",
      "M =   1.900 Msun  T =  7202 K  m_ubv_B = 24.61\n",
      "M =   3.200 Msun  T =  7202 K  m_ubv_B = 24.61\n",
      "M =   0.631 Msun  T =   nan K  m_ubv_B =  nan\n",
      "M =   6.000 Msun  T =  9075 K  m_ubv_B = 23.71\n",
      "M =   0.501 Msun  T =   nan K  m_ubv_B =  nan\n",
      "M =   1.700 Msun  T =  8296 K  m_ubv_B = 23.02\n",
      "M =   1.200 Msun  T =  7708 K  m_ubv_B = 13.18\n",
      "M =   1.400 Msun  T =  7952 K  m_ubv_B = 12.00\n",
      "M =   0.631 Msun  T =   nan K  m_ubv_B =  nan\n",
      "M =   1.300 Msun  T =  7886 K  m_ubv_B = 12.64\n",
      "Secondaries\n",
      "M =   2.700 Msun  T =  6685 K  m_ubv_B = 24.55\n",
      "M =   1.800 Msun  T =  6986 K  m_ubv_B = 23.82\n",
      "M =   1.200 Msun  T =  7751 K  m_ubv_B = 13.38\n",
      "M =   1.400 Msun  T =  7556 K  m_ubv_B = 12.13\n",
      "M =   1.350 Msun  T =  8823 K  m_ubv_B = 12.50\n",
      "M =   0.320 Msun  T =   nan K  m_ubv_B =  nan\n",
      "M =   1.900 Msun  T =  7095 K  m_ubv_B = 23.78\n",
      "M =   4.400 Msun  T = 15883 K  m_ubv_B = 8.28\n",
      "M =   2.220 Msun  T = 12802 K  m_ubv_B = 11.46\n",
      "M =   1.400 Msun  T =  7556 K  m_ubv_B = 12.13\n",
      "M =   5.500 Msun  T =  9607 K  m_ubv_B = 23.50\n",
      "M =   1.500 Msun  T =  8257 K  m_ubv_B = 6.71\n",
      "M =   1.700 Msun  T =  8292 K  m_ubv_B = 23.02\n",
      "M =   1.470 Msun  T =  9365 K  m_ubv_B = 12.52\n",
      "M =   1.300 Msun  T =  7811 K  m_ubv_B = 12.64\n",
      "M =   5.500 Msun  T =  8504 K  m_ubv_B = 23.72\n",
      "M =   0.210 Msun  T =   nan K  m_ubv_B =  nan\n",
      "M =   2.300 Msun  T =  6552 K  m_ubv_B = 24.40\n",
      "M =   5.000 Msun  T =  5586 K  m_ubv_B = 25.35\n",
      "M =   0.960 Msun  T =  5540 K  m_ubv_B = 15.81\n",
      "M =   0.800 Msun  T =  5565 K  m_ubv_B = 16.33\n",
      "M =   0.900 Msun  T =   nan K  m_ubv_B =  nan\n"
     ]
    },
    {
     "name": "stdout",
     "output_type": "stream",
     "text": [
      "M =   0.840 Msun  T =   nan K  m_ubv_B =  nan\n",
      "M =   2.100 Msun  T = 11706 K  m_ubv_B = 11.46\n",
      "M =   3.150 Msun  T = 12760 K  m_ubv_B = 9.08\n",
      "M =   3.330 Msun  T = 14655 K  m_ubv_B = 9.58\n",
      "M =   0.420 Msun  T =   nan K  m_ubv_B =  nan\n",
      "M =   3.150 Msun  T = 10963 K  m_ubv_B = 8.99\n",
      "M =   1.500 Msun  T =  4193 K  m_ubv_B = 9.12\n",
      "M =   1.840 Msun  T = 11066 K  m_ubv_B = 11.64\n",
      "M =   3.700 Msun  T =  5802 K  m_ubv_B = 25.21\n",
      "M =   0.450 Msun  T =  4028 K  m_ubv_B = 20.42\n",
      "M =   1.600 Msun  T =  9727 K  m_ubv_B = 12.39\n",
      "M =   6.000 Msun  T =  9466 K  m_ubv_B = 23.66\n",
      "M =   0.130 Msun  T =  3424 K  m_ubv_B = 24.32\n",
      "M =   1.170 Msun  T =  7562 K  m_ubv_B = 13.58\n",
      "M =   1.620 Msun  T = 10074 K  m_ubv_B = 12.32\n",
      "M =   0.500 Msun  T =  4188 K  m_ubv_B = 19.84\n",
      "M =   0.950 Msun  T =   nan K  m_ubv_B =  nan\n",
      "M =   0.320 Msun  T =   nan K  m_ubv_B =  nan\n",
      "M =   5.500 Msun  T =  8458 K  m_ubv_B = 23.82\n",
      "M =   4.200 Msun  T = 15574 K  m_ubv_B = 8.41\n",
      "M =   5.500 Msun  T =  9009 K  m_ubv_B = 23.72\n",
      "M =   0.340 Msun  T =  3807 K  m_ubv_B = 21.49\n",
      "M =   1.080 Msun  T =  7016 K  m_ubv_B = 14.12\n",
      "M =   0.700 Msun  T =  4039 K  m_ubv_B = 18.82\n",
      "M =   1.900 Msun  T =  7235 K  m_ubv_B = 23.72\n",
      "M =   1.040 Msun  T =  6791 K  m_ubv_B = 14.40\n",
      "Starting filter: ubv,R   Elapsed time: 66.51 seconds\n",
      "Starting synthetic photometry\n",
      "Singles\n",
      "M =   4.300 Msun  T =  7874 K  m_ubv_R = 23.91\n",
      "M =   3.700 Msun  T =  7200 K  m_ubv_R = 23.93\n",
      "Primaries\n",
      "M =   3.981 Msun  T =   nan K  m_ubv_R =  nan\n",
      "M =   1.400 Msun  T =   nan K  m_ubv_R =  nan\n",
      "M =   6.000 Msun  T =  9559 K  m_ubv_R = 23.25\n",
      "M =   1.000 Msun  T =   nan K  m_ubv_R =  nan\n",
      "M =   4.500 Msun  T =  8492 K  m_ubv_R = 23.23\n",
      "M =   3.200 Msun  T =  7202 K  m_ubv_R = 23.93\n",
      "M =   1.400 Msun  T =   nan K  m_ubv_R =  nan\n",
      "M =   5.500 Msun  T =  8787 K  m_ubv_R = 23.30\n",
      "M =   3.700 Msun  T =  7169 K  m_ubv_R = 23.94\n",
      "M =   0.398 Msun  T =   nan K  m_ubv_R =  nan\n",
      "M =   1.400 Msun  T =   nan K  m_ubv_R =  nan\n",
      "M =   0.631 Msun  T =   nan K  m_ubv_R =  nan\n",
      "M =   0.794 Msun  T =   nan K  m_ubv_R =  nan\n",
      "M =   2.100 Msun  T =  6388 K  m_ubv_R = 23.61\n",
      "M =   0.501 Msun  T =   nan K  m_ubv_R =  nan\n",
      "M =   0.501 Msun  T =   nan K  m_ubv_R =  nan\n",
      "M =   0.300 Msun  T =  4130 K  m_ubv_R = 17.84\n",
      "M =   1.400 Msun  T =   nan K  m_ubv_R =  nan\n",
      "M =   3.162 Msun  T =   nan K  m_ubv_R =  nan\n",
      "M =   1.600 Msun  T = 16865 K  m_ubv_R = 19.82\n",
      "M =   1.000 Msun  T =  6624 K  m_ubv_R = 13.95\n",
      "M =   1.800 Msun  T =  7617 K  m_ubv_R = 23.66\n",
      "M =   2.100 Msun  T =  7176 K  m_ubv_R = 23.94\n",
      "M =   3.500 Msun  T =  6179 K  m_ubv_R = 23.87\n",
      "M =   4.500 Msun  T =  8635 K  m_ubv_R = 23.22\n",
      "M =   3.700 Msun  T =  7169 K  m_ubv_R = 23.94\n",
      "M =   2.100 Msun  T =  7113 K  m_ubv_R = 23.70\n",
      "M =   3.500 Msun  T =  6165 K  m_ubv_R = 23.87\n",
      "M =   0.631 Msun  T =   nan K  m_ubv_R =  nan\n",
      "M =   2.300 Msun  T =  6704 K  m_ubv_R = 23.55\n",
      "M =   1.400 Msun  T =   nan K  m_ubv_R =  nan\n",
      "M =   1.500 Msun  T =  4190 K  m_ubv_R = 7.17\n",
      "M =   3.200 Msun  T =  5866 K  m_ubv_R = 23.95\n",
      "M =   0.631 Msun  T =   nan K  m_ubv_R =  nan\n",
      "M =   1.300 Msun  T =  7894 K  m_ubv_R = 12.34\n",
      "M =   1.300 Msun  T =  8028 K  m_ubv_R = 12.42\n",
      "M =   2.700 Msun  T =  6876 K  m_ubv_R = 23.73\n",
      "M =   2.500 Msun  T =  6504 K  m_ubv_R = 23.79\n",
      "M =   1.900 Msun  T =  7202 K  m_ubv_R = 23.93\n",
      "M =   3.200 Msun  T =  7202 K  m_ubv_R = 23.93\n",
      "M =   0.631 Msun  T =   nan K  m_ubv_R =  nan\n",
      "M =   6.000 Msun  T =  9075 K  m_ubv_R = 23.33\n",
      "M =   0.501 Msun  T =   nan K  m_ubv_R =  nan\n",
      "M =   1.700 Msun  T =  8296 K  m_ubv_R = 22.54\n",
      "M =   1.200 Msun  T =  7708 K  m_ubv_R = 12.83\n",
      "M =   1.400 Msun  T =  7952 K  m_ubv_R = 11.73\n",
      "M =   0.631 Msun  T =   nan K  m_ubv_R =  nan\n",
      "M =   1.300 Msun  T =  7886 K  m_ubv_R = 12.34\n",
      "Secondaries\n",
      "M =   2.700 Msun  T =  6685 K  m_ubv_R = 23.76\n",
      "M =   1.800 Msun  T =  6986 K  m_ubv_R = 23.10\n",
      "M =   1.200 Msun  T =  7751 K  m_ubv_R = 13.03\n",
      "M =   1.400 Msun  T =  7556 K  m_ubv_R = 11.78\n",
      "M =   1.350 Msun  T =  8823 K  m_ubv_R = 12.38\n",
      "M =   0.320 Msun  T =   nan K  m_ubv_R =  nan\n",
      "M =   1.900 Msun  T =  7095 K  m_ubv_R = 23.08\n",
      "M =   4.400 Msun  T = 15883 K  m_ubv_R = 8.49\n",
      "M =   2.220 Msun  T = 12802 K  m_ubv_R = 11.58\n",
      "M =   1.400 Msun  T =  7556 K  m_ubv_R = 11.78\n",
      "M =   5.500 Msun  T =  9607 K  m_ubv_R = 23.18\n",
      "M =   1.500 Msun  T =  8257 K  m_ubv_R = 6.67\n",
      "M =   1.700 Msun  T =  8292 K  m_ubv_R = 22.54\n",
      "M =   1.470 Msun  T =  9365 K  m_ubv_R = 12.46\n",
      "M =   1.300 Msun  T =  7811 K  m_ubv_R = 12.33\n",
      "M =   5.500 Msun  T =  8504 K  m_ubv_R = 23.27\n",
      "M =   0.210 Msun  T =   nan K  m_ubv_R =  nan\n",
      "M =   2.300 Msun  T =  6552 K  m_ubv_R = 23.58\n",
      "M =   5.000 Msun  T =  5586 K  m_ubv_R = 24.25\n",
      "M =   0.960 Msun  T =  5540 K  m_ubv_R = 14.77\n",
      "M =   0.800 Msun  T =  5565 K  m_ubv_R = 15.30\n",
      "M =   0.900 Msun  T =   nan K  m_ubv_R =  nan\n",
      "M =   0.840 Msun  T =   nan K  m_ubv_R =  nan\n",
      "M =   2.100 Msun  T = 11706 K  m_ubv_R = 11.55\n",
      "M =   3.150 Msun  T = 12760 K  m_ubv_R = 9.22\n",
      "M =   3.330 Msun  T = 14655 K  m_ubv_R = 9.76\n",
      "M =   0.420 Msun  T =   nan K  m_ubv_R =  nan\n",
      "M =   3.150 Msun  T = 10963 K  m_ubv_R = 9.08\n",
      "M =   1.500 Msun  T =  4193 K  m_ubv_R = 7.17\n",
      "M =   1.840 Msun  T = 11066 K  m_ubv_R = 11.71\n",
      "M =   3.700 Msun  T =  5802 K  m_ubv_R = 24.18\n",
      "M =   0.450 Msun  T =  4028 K  m_ubv_R = 18.40\n",
      "M =   1.600 Msun  T =  9727 K  m_ubv_R = 12.36\n",
      "M =   6.000 Msun  T =  9466 K  m_ubv_R = 23.32\n",
      "M =   0.130 Msun  T =  3424 K  m_ubv_R = 21.69\n",
      "M =   1.170 Msun  T =  7562 K  m_ubv_R = 13.19\n",
      "M =   1.620 Msun  T = 10074 K  m_ubv_R = 12.32\n",
      "M =   0.500 Msun  T =  4188 K  m_ubv_R = 17.95\n",
      "M =   0.950 Msun  T =   nan K  m_ubv_R =  nan\n",
      "M =   0.320 Msun  T =   nan K  m_ubv_R =  nan\n",
      "M =   5.500 Msun  T =  8458 K  m_ubv_R = 23.36\n",
      "M =   4.200 Msun  T = 15574 K  m_ubv_R = 8.62\n",
      "M =   5.500 Msun  T =  9009 K  m_ubv_R = 23.33\n",
      "M =   0.340 Msun  T =  3807 K  m_ubv_R = 19.25\n",
      "M =   1.080 Msun  T =  7016 K  m_ubv_R = 13.59\n",
      "M =   0.700 Msun  T =  4039 K  m_ubv_R = 16.82\n",
      "M =   1.900 Msun  T =  7235 K  m_ubv_R = 23.06\n",
      "M =   1.040 Msun  T =  6791 K  m_ubv_R = 13.82\n",
      "Starting filter: ubv,I   Elapsed time: 88.03 seconds\n",
      "Starting synthetic photometry\n",
      "Singles\n",
      "M =   4.300 Msun  T =  7874 K  m_ubv_I = 23.69\n",
      "M =   3.700 Msun  T =  7200 K  m_ubv_I = 23.65\n",
      "Primaries\n",
      "M =   3.981 Msun  T =   nan K  m_ubv_I =  nan\n",
      "M =   1.400 Msun  T =   nan K  m_ubv_I =  nan\n",
      "M =   6.000 Msun  T =  9559 K  m_ubv_I = 23.14\n",
      "M =   1.000 Msun  T =   nan K  m_ubv_I =  nan\n",
      "M =   4.500 Msun  T =  8492 K  m_ubv_I = 23.05\n",
      "M =   3.200 Msun  T =  7202 K  m_ubv_I = 23.65\n",
      "M =   1.400 Msun  T =   nan K  m_ubv_I =  nan\n",
      "M =   5.500 Msun  T =  8787 K  m_ubv_I = 23.15\n",
      "M =   3.700 Msun  T =  7169 K  m_ubv_I = 23.65\n",
      "M =   0.398 Msun  T =   nan K  m_ubv_I =  nan\n",
      "M =   1.400 Msun  T =   nan K  m_ubv_I =  nan\n",
      "M =   0.631 Msun  T =   nan K  m_ubv_I =  nan\n",
      "M =   0.794 Msun  T =   nan K  m_ubv_I =  nan\n",
      "M =   2.100 Msun  T =  6388 K  m_ubv_I = 23.23\n",
      "M =   0.501 Msun  T =   nan K  m_ubv_I =  nan\n",
      "M =   0.501 Msun  T =   nan K  m_ubv_I =  nan\n",
      "M =   0.300 Msun  T =  4130 K  m_ubv_I = 16.96\n",
      "M =   1.400 Msun  T =   nan K  m_ubv_I =  nan\n",
      "M =   3.162 Msun  T =   nan K  m_ubv_I =  nan\n",
      "M =   1.600 Msun  T = 16865 K  m_ubv_I = 19.92\n",
      "M =   1.000 Msun  T =  6624 K  m_ubv_I = 13.64\n",
      "M =   1.800 Msun  T =  7617 K  m_ubv_I = 23.42\n",
      "M =   2.100 Msun  T =  7176 K  m_ubv_I = 23.65\n",
      "M =   3.500 Msun  T =  6179 K  m_ubv_I = 23.45\n",
      "M =   4.500 Msun  T =  8635 K  m_ubv_I = 23.06\n",
      "M =   3.700 Msun  T =  7169 K  m_ubv_I = 23.65\n",
      "M =   2.100 Msun  T =  7113 K  m_ubv_I = 23.41\n",
      "M =   3.500 Msun  T =  6165 K  m_ubv_I = 23.45\n",
      "M =   0.631 Msun  T =   nan K  m_ubv_I =  nan\n",
      "M =   2.300 Msun  T =  6704 K  m_ubv_I = 23.20\n",
      "M =   1.400 Msun  T =   nan K  m_ubv_I =  nan\n",
      "M =   1.500 Msun  T =  4190 K  m_ubv_I = 6.32\n",
      "M =   3.200 Msun  T =  5866 K  m_ubv_I = 23.49\n",
      "M =   0.631 Msun  T =   nan K  m_ubv_I =  nan\n",
      "M =   1.300 Msun  T =  7894 K  m_ubv_I = 12.21\n",
      "M =   1.300 Msun  T =  8028 K  m_ubv_I = 12.30\n",
      "M =   2.700 Msun  T =  6876 K  m_ubv_I = 23.41\n",
      "M =   2.500 Msun  T =  6504 K  m_ubv_I = 23.43\n",
      "M =   1.900 Msun  T =  7202 K  m_ubv_I = 23.65\n",
      "M =   3.200 Msun  T =  7202 K  m_ubv_I = 23.65\n",
      "M =   0.631 Msun  T =   nan K  m_ubv_I =  nan\n",
      "M =   6.000 Msun  T =  9075 K  m_ubv_I = 23.19\n",
      "M =   0.501 Msun  T =   nan K  m_ubv_I =  nan\n",
      "M =   1.700 Msun  T =  8296 K  m_ubv_I = 22.35\n",
      "M =   1.200 Msun  T =  7708 K  m_ubv_I = 12.67\n",
      "M =   1.400 Msun  T =  7952 K  m_ubv_I = 11.61\n"
     ]
    },
    {
     "name": "stdout",
     "output_type": "stream",
     "text": [
      "M =   0.631 Msun  T =   nan K  m_ubv_I =  nan\n",
      "M =   1.300 Msun  T =  7886 K  m_ubv_I = 12.20\n",
      "Secondaries\n",
      "M =   2.700 Msun  T =  6685 K  m_ubv_I = 23.42\n",
      "M =   1.800 Msun  T =  6986 K  m_ubv_I = 22.79\n",
      "M =   1.200 Msun  T =  7751 K  m_ubv_I = 12.88\n",
      "M =   1.400 Msun  T =  7556 K  m_ubv_I = 11.60\n",
      "M =   1.350 Msun  T =  8823 K  m_ubv_I = 12.33\n",
      "M =   0.320 Msun  T =   nan K  m_ubv_I =  nan\n",
      "M =   1.900 Msun  T =  7095 K  m_ubv_I = 22.78\n",
      "M =   4.400 Msun  T = 15883 K  m_ubv_I = 8.62\n",
      "M =   2.220 Msun  T = 12802 K  m_ubv_I = 11.67\n",
      "M =   1.400 Msun  T =  7556 K  m_ubv_I = 11.60\n",
      "M =   5.500 Msun  T =  9607 K  m_ubv_I = 23.08\n",
      "M =   1.500 Msun  T =  8257 K  m_ubv_I = 6.58\n",
      "M =   1.700 Msun  T =  8292 K  m_ubv_I = 22.35\n",
      "M =   1.470 Msun  T =  9365 K  m_ubv_I = 12.45\n",
      "M =   1.300 Msun  T =  7811 K  m_ubv_I = 12.18\n",
      "M =   5.500 Msun  T =  8504 K  m_ubv_I = 23.09\n",
      "M =   0.210 Msun  T =   nan K  m_ubv_I =  nan\n",
      "M =   2.300 Msun  T =  6552 K  m_ubv_I = 23.21\n",
      "M =   5.000 Msun  T =  5586 K  m_ubv_I = 23.73\n",
      "M =   0.960 Msun  T =  5540 K  m_ubv_I = 14.29\n",
      "M =   0.800 Msun  T =  5565 K  m_ubv_I = 14.82\n",
      "M =   0.900 Msun  T =   nan K  m_ubv_I =  nan\n",
      "M =   0.840 Msun  T =   nan K  m_ubv_I =  nan\n",
      "M =   2.100 Msun  T = 11706 K  m_ubv_I = 11.62\n",
      "M =   3.150 Msun  T = 12760 K  m_ubv_I = 9.30\n",
      "M =   3.330 Msun  T = 14655 K  m_ubv_I = 9.87\n",
      "M =   0.420 Msun  T =   nan K  m_ubv_I =  nan\n",
      "M =   3.150 Msun  T = 10963 K  m_ubv_I = 9.12\n",
      "M =   1.500 Msun  T =  4193 K  m_ubv_I = 6.32\n",
      "M =   1.840 Msun  T = 11066 K  m_ubv_I = 11.76\n",
      "M =   3.700 Msun  T =  5802 K  m_ubv_I = 23.70\n",
      "M =   0.450 Msun  T =  4028 K  m_ubv_I = 17.47\n",
      "M =   1.600 Msun  T =  9727 K  m_ubv_I = 12.36\n",
      "M =   6.000 Msun  T =  9466 K  m_ubv_I = 23.21\n",
      "M =   0.130 Msun  T =  3424 K  m_ubv_I = 20.36\n",
      "M =   1.170 Msun  T =  7562 K  m_ubv_I = 13.01\n",
      "M =   1.620 Msun  T = 10074 K  m_ubv_I = 12.34\n",
      "M =   0.500 Msun  T =  4188 K  m_ubv_I = 17.10\n",
      "M =   0.950 Msun  T =   nan K  m_ubv_I =  nan\n",
      "M =   0.320 Msun  T =   nan K  m_ubv_I =  nan\n",
      "M =   5.500 Msun  T =  8458 K  m_ubv_I = 23.18\n",
      "M =   4.200 Msun  T = 15574 K  m_ubv_I = 8.74\n",
      "M =   5.500 Msun  T =  9009 K  m_ubv_I = 23.19\n",
      "M =   0.340 Msun  T =  3807 K  m_ubv_I = 18.21\n",
      "M =   1.080 Msun  T =  7016 K  m_ubv_I = 13.34\n",
      "M =   0.700 Msun  T =  4039 K  m_ubv_I = 15.91\n",
      "M =   1.900 Msun  T =  7235 K  m_ubv_I = 22.77\n",
      "M =   1.040 Msun  T =  6791 K  m_ubv_I = 13.53\n",
      "      Time taken: 109.59 seconds\n",
      "Isochrone generation took 393.202005 s.\n"
     ]
    }
   ],
   "source": [
    "import spisea\n",
    "from spisea import evolution, synthetic\n",
    "import math\n",
    "# Check if the evolution class works fine\n",
    "import time\n",
    "t1=time.time()\n",
    "bps=evolution.BPASS()\n",
    "iso1=synthetic.Isochrone_Binary(9.3, 0.0, 1000,math.log10(1/10), mass_sampling=1, filepath='/g/lu/scratch/ryotainagaki/BPASS_iso_filesTimedIsolated/')"
   ]
  },
  {
   "cell_type": "markdown",
   "metadata": {},
   "source": [
    "As a sanity check, I would like to make sure that, for primary stars, we only have (from the isochrone) designated phase 5 stars ( anything that is not a compact remnant), white dwarves (models with phase 101), and non-white dwarf compact remnants that are  NEWSECMODS primaries (models with phase 110). Also make sure that our secondary stars are non-compact-remnant, white dwarves, or are merged. Merged secondaries have phase of -99."
   ]
  },
  {
   "cell_type": "code",
   "execution_count": 2,
   "metadata": {},
   "outputs": [
    {
     "data": {
      "text/plain": [
       "True"
      ]
     },
     "execution_count": 2,
     "metadata": {},
     "output_type": "execute_result"
    }
   ],
   "source": [
    "import numpy as np\n",
    "np.all([(x==5 or x==101 or x==110 or x==-9) for x in iso1.primaries['phase']])"
   ]
  },
  {
   "cell_type": "code",
   "execution_count": 3,
   "metadata": {},
   "outputs": [
    {
     "data": {
      "text/plain": [
       "True"
      ]
     },
     "execution_count": 3,
     "metadata": {},
     "output_type": "execute_result"
    }
   ],
   "source": [
    "np.all([(x==5 or x==101 or x==110) for x in iso1.singles['phase']])"
   ]
  },
  {
   "cell_type": "code",
   "execution_count": 4,
   "metadata": {},
   "outputs": [
    {
     "data": {
      "text/plain": [
       "True"
      ]
     },
     "execution_count": 4,
     "metadata": {},
     "output_type": "execute_result"
    }
   ],
   "source": [
    "np.all([(x==5 or x==101 or x==-99) for x in iso1.secondaries['phase']])"
   ]
  },
  {
   "cell_type": "markdown",
   "metadata": {},
   "source": [
    "Find the maximum, mean, and median  values of logg (cgs) for primaries, single stars, and secondaries. "
   ]
  },
  {
   "cell_type": "code",
   "execution_count": 5,
   "metadata": {},
   "outputs": [
    {
     "data": {
      "text/plain": [
       "9.294221355125417"
      ]
     },
     "execution_count": 5,
     "metadata": {},
     "output_type": "execute_result"
    }
   ],
   "source": [
    "import numpy as np\n",
    "np.max(iso1.singles['logg'])"
   ]
  },
  {
   "cell_type": "code",
   "execution_count": 6,
   "metadata": {},
   "outputs": [
    {
     "data": {
      "text/plain": [
       "9.294221355125417"
      ]
     },
     "execution_count": 6,
     "metadata": {},
     "output_type": "execute_result"
    }
   ],
   "source": [
    "import numpy as np\n",
    "np.max(np.nan_to_num(iso1.primaries['logg'], -np.inf))"
   ]
  },
  {
   "cell_type": "code",
   "execution_count": 7,
   "metadata": {},
   "outputs": [
    {
     "data": {
      "text/plain": [
       "9.294186013434684"
      ]
     },
     "execution_count": 7,
     "metadata": {},
     "output_type": "execute_result"
    }
   ],
   "source": [
    "np.max(np.nan_to_num(iso1.secondaries['logg'], -np.inf))"
   ]
  },
  {
   "cell_type": "code",
   "execution_count": 8,
   "metadata": {},
   "outputs": [
    {
     "data": {
      "text/plain": [
       "6.775107941964205"
      ]
     },
     "execution_count": 8,
     "metadata": {},
     "output_type": "execute_result"
    }
   ],
   "source": [
    "np.mean(iso1.singles['logg'][np.where(~np.isnan(iso1.singles['logg']))])"
   ]
  },
  {
   "cell_type": "code",
   "execution_count": 9,
   "metadata": {},
   "outputs": [
    {
     "data": {
      "text/plain": [
       "7.068493385475692"
      ]
     },
     "execution_count": 9,
     "metadata": {},
     "output_type": "execute_result"
    }
   ],
   "source": [
    "np.mean(iso1.primaries['logg'][np.where(~np.isnan(iso1.primaries['logg']))])"
   ]
  },
  {
   "cell_type": "code",
   "execution_count": 10,
   "metadata": {},
   "outputs": [
    {
     "data": {
      "text/plain": [
       "5.438029879311407"
      ]
     },
     "execution_count": 10,
     "metadata": {},
     "output_type": "execute_result"
    }
   ],
   "source": [
    "np.mean(iso1.secondaries['logg'][np.where(~np.isnan(iso1.secondaries['logg']))])"
   ]
  },
  {
   "cell_type": "code",
   "execution_count": 11,
   "metadata": {},
   "outputs": [
    {
     "data": {
      "text/plain": [
       "7.9748904281098465"
      ]
     },
     "execution_count": 11,
     "metadata": {},
     "output_type": "execute_result"
    }
   ],
   "source": [
    "np.median(iso1.singles['logg'][np.where(~np.isnan(iso1.singles['logg']))])"
   ]
  },
  {
   "cell_type": "code",
   "execution_count": 12,
   "metadata": {},
   "outputs": [
    {
     "data": {
      "text/plain": [
       "8.123140794464378"
      ]
     },
     "execution_count": 12,
     "metadata": {},
     "output_type": "execute_result"
    }
   ],
   "source": [
    "np.median(iso1.primaries['logg'][np.where(~np.isnan(iso1.primaries['logg']))])"
   ]
  },
  {
   "cell_type": "code",
   "execution_count": 13,
   "metadata": {},
   "outputs": [
    {
     "data": {
      "text/plain": [
       "4.54017073649751"
      ]
     },
     "execution_count": 13,
     "metadata": {},
     "output_type": "execute_result"
    }
   ],
   "source": [
    "np.median([x for x in iso1.secondaries['logg'] if np.isfinite(x)])"
   ]
  },
  {
   "cell_type": "code",
   "execution_count": 14,
   "metadata": {},
   "outputs": [
    {
     "data": {
      "text/plain": [
       "Text(0.5, 0, 'logg in cgs')"
      ]
     },
     "execution_count": 14,
     "metadata": {},
     "output_type": "execute_result"
    },
    {
     "data": {
      "image/png": "[encoded data removed]",
      "text/plain": [
       "<Figure size 432x288 with 1 Axes>"
      ]
     },
     "metadata": {
      "needs_background": "light"
     },
     "output_type": "display_data"
    }
   ],
   "source": [
    "import matplotlib.pyplot as plt\n",
    "plt.title(\"Histogram of logg values (secondaries) of BPASS isochrone\")\n",
    "plt.hist(np.array([x for x in iso1.secondaries['logg'] if np.isfinite(x)]), np.arange(-10, 30, 1))\n",
    "plt.xlabel(\"logg in cgs\")"
   ]
  },
  {
   "cell_type": "code",
   "execution_count": 15,
   "metadata": {},
   "outputs": [
    {
     "data": {
      "text/plain": [
       "Text(0.5, 0, 'logg in cgs')"
      ]
     },
     "execution_count": 15,
     "metadata": {},
     "output_type": "execute_result"
    },
    {
     "data": {
      "image/png": "[encoded data removed]",
      "text/plain": [
       "<Figure size 432x288 with 1 Axes>"
      ]
     },
     "metadata": {
      "needs_background": "light"
     },
     "output_type": "display_data"
    }
   ],
   "source": [
    "import matplotlib.pyplot as plt\n",
    "plt.title(\"Histogram of logg values (primaries) of BPASS isochrone\")\n",
    "plt.hist(np.array([x for x in iso1.primaries['logg'] if np.isfinite(x)]), np.arange(-10, 30, 1))\n",
    "plt.xlabel(\"logg in cgs\")"
   ]
  },
  {
   "cell_type": "code",
   "execution_count": 16,
   "metadata": {},
   "outputs": [
    {
     "data": {
      "text/plain": [
       "Text(0.5, 0, 'logg in cgs')"
      ]
     },
     "execution_count": 16,
     "metadata": {},
     "output_type": "execute_result"
    },
    {
     "data": {
      "image/png": "[encoded data removed]",
      "text/plain": [
       "<Figure size 432x288 with 1 Axes>"
      ]
     },
     "metadata": {
      "needs_background": "light"
     },
     "output_type": "display_data"
    }
   ],
   "source": [
    "import matplotlib.pyplot as plt\n",
    "plt.title(\"Histogram of logg values single stars of BPASS isochrone\")\n",
    "plt.hist(np.array([x for x in iso1.singles['logg'] if np.isfinite(x)]), np.arange(0, 30, 1))\n",
    "plt.xlabel(\"logg in cgs\")"
   ]
  },
  {
   "cell_type": "markdown",
   "metadata": {},
   "source": [
    "Plot the CMD of the isochrones at 0.1Z_solar and 10^9.3 years of age"
   ]
  },
  {
   "cell_type": "code",
   "execution_count": 17,
   "metadata": {},
   "outputs": [
    {
     "data": {
      "text/plain": [
       "<matplotlib.legend.Legend at 0x7fd37cee1080>"
      ]
     },
     "execution_count": 17,
     "metadata": {},
     "output_type": "execute_result"
    },
    {
     "data": {
      "image/png": "[encoded data removed]",
      "text/plain": [
       "<Figure size 432x288 with 1 Axes>"
      ]
     },
     "metadata": {
      "needs_background": "light"
     },
     "output_type": "display_data"
    }
   ],
   "source": [
    "import matplotlib.pyplot as plt\n",
    "indices1= np.where(iso1.singles['logg']>5)[0]\n",
    "indices2= np.where(iso1.primaries['logg']>5)[0]\n",
    "indices3= np.where(iso1.secondaries['logg']>5)[0]\n",
    "plt.plot(iso1.primaries['m_ubv_B'][indices2]-iso1.primaries[\"m_ubv_V\"][indices2], iso1.primaries[\"m_ubv_V\"][indices2]-5*np.log10(100), \"r.\")\n",
    "plt.plot(iso1.secondaries['m_ubv_B'][indices3]-iso1.secondaries[\"m_ubv_V\"][indices3], iso1.secondaries[\"m_ubv_V\"][indices3]-5*np.log10(100), \"r.\")\n",
    "plt.plot(iso1.singles['m_ubv_B'][indices1]-iso1.singles[\"m_ubv_V\"][indices1], iso1.singles[\"m_ubv_V\"][indices1]-5*np.log10(100), \"r.\", label=\"BPASS isochrone\")\n",
    "plt.xlabel(\"B-V\")\n",
    "plt.ylabel(\"M_V\")\n",
    "plt.title(\"Color magnitude Diagram of Isochrones at 0.1Z_solar and 10**9.3 years age\")\n",
    "plt.gca().invert_yaxis()\n",
    "plt.legend()"
   ]
  },
  {
   "cell_type": "markdown",
   "metadata": {},
   "source": [
    "Are we getting white dwarves for the bottom left corner of the plot"
   ]
  },
  {
   "cell_type": "code",
   "execution_count": 18,
   "metadata": {},
   "outputs": [
    {
     "name": "stderr",
     "output_type": "stream",
     "text": [
      "/opt/anaconda3/envs/astroconda/lib/python3.7/site-packages/astropy/table/column.py:1020: RuntimeWarning: invalid value encountered in less\n",
      "  result = getattr(super(), op)(other)\n"
     ]
    }
   ],
   "source": [
    "indices2= np.where((iso1.primaries['logg']>5) & (iso1.primaries['m_ubv_B']-iso1.primaries['m_ubv_V']>-0.4) & (iso1.primaries['m_ubv_B']-iso1.primaries['m_ubv_V']<-0.2))[0]"
   ]
  },
  {
   "cell_type": "code",
   "execution_count": 19,
   "metadata": {},
   "outputs": [
    {
     "data": {
      "text/html": [
       "&lt;Column name=&apos;phase&apos; dtype=&apos;float64&apos; length=1&gt;\n",
       "<table>\n",
       "<tr><td>5.0</td></tr>\n",
       "</table>"
      ],
      "text/plain": [
       "<Column name='phase' dtype='float64' length=1>\n",
       "5.0"
      ]
     },
     "execution_count": 19,
     "metadata": {},
     "output_type": "execute_result"
    }
   ],
   "source": [
    "np.unique(iso1.primaries[indices2]['phase'])"
   ]
  },
  {
   "cell_type": "markdown",
   "metadata": {},
   "source": [
    "Hmm, I think those are stars that are going to be white dwarves very soon or may unintentionally be brown dwarves. At least according to HOKI's criterion for what is a white dwarf or not. At the very least, at least the stars we just saw were low mass stars so they should be **LOW** on the CMD"
   ]
  },
  {
   "cell_type": "code",
   "execution_count": 20,
   "metadata": {},
   "outputs": [
    {
     "name": "stdout",
     "output_type": "stream",
     "text": [
      "Isochrone generation took 76.173806 s.\n",
      "Making photometry for isochrone: log(t) = 9.30  AKs = 0.00  dist = 1000\n",
      "     Starting at:  2021-01-04 01:28:50.446783   Usually takes ~5 minutes\n",
      "Starting filter: ubv,U   Elapsed time: 0.00 seconds\n",
      "Starting synthetic photometry\n",
      "M =   0.105 Msun  T =  3387 K  m_ubv_U = 26.52\n",
      "M =   0.729 Msun  T =  5635 K  m_ubv_U = 16.47\n",
      "M =   1.309 Msun  T =  8707 K  m_ubv_U = 12.36\n",
      "M =   1.388 Msun  T =  5243 K  m_ubv_U = 12.16\n",
      "M =   1.409 Msun  T =  4411 K  m_ubv_U = 10.38\n",
      "M =   1.432 Msun  T =  4912 K  m_ubv_U = 10.71\n",
      "M =   1.435 Msun  T =  4172 K  m_ubv_U = 10.35\n",
      "M =   1.435 Msun  T =  4057 K  m_ubv_U = 10.45\n",
      "M =   1.435 Msun  T =  3763 K  m_ubv_U = 11.03\n",
      "M =   1.435 Msun  T =  3759 K  m_ubv_U = 11.06\n",
      "M =   1.435 Msun  T =  3688 K  m_ubv_U = 11.35\n",
      "M =   1.435 Msun  T =  6591 K  m_ubv_U = 5.83\n",
      "M =   1.435 Msun  T = 64842 K  m_ubv_U = 9.11\n",
      "M =   1.435 Msun  T = 74734 K  m_ubv_U = 15.94\n",
      "Starting filter: ubv,B   Elapsed time: 3.26 seconds\n",
      "Starting synthetic photometry\n",
      "M =   0.105 Msun  T =  3387 K  m_ubv_B = 25.00\n",
      "M =   0.729 Msun  T =  5635 K  m_ubv_B = 16.58\n",
      "M =   1.309 Msun  T =  8707 K  m_ubv_B = 12.31\n",
      "M =   1.388 Msun  T =  5243 K  m_ubv_B = 12.12\n",
      "M =   1.409 Msun  T =  4411 K  m_ubv_B = 9.63\n",
      "M =   1.432 Msun  T =  4912 K  m_ubv_B = 10.49\n",
      "M =   1.435 Msun  T =  4172 K  m_ubv_B = 9.23\n",
      "M =   1.435 Msun  T =  4057 K  m_ubv_B = 9.14\n",
      "M =   1.435 Msun  T =  3763 K  m_ubv_B = 9.23\n",
      "M =   1.435 Msun  T =  3759 K  m_ubv_B = 9.25\n",
      "M =   1.435 Msun  T =  3688 K  m_ubv_B = 9.42\n",
      "M =   1.435 Msun  T =  6591 K  m_ubv_B = 6.19\n",
      "M =   1.435 Msun  T = 64842 K  m_ubv_B = 10.27\n",
      "M =   1.435 Msun  T = 74734 K  m_ubv_B = 17.11\n",
      "Starting filter: ubv,V   Elapsed time: 6.60 seconds\n",
      "Starting synthetic photometry\n",
      "M =   0.105 Msun  T =  3387 K  m_ubv_V = 23.24\n",
      "M =   0.729 Msun  T =  5635 K  m_ubv_V = 15.92\n",
      "M =   1.309 Msun  T =  8707 K  m_ubv_V = 12.21\n",
      "M =   1.388 Msun  T =  5243 K  m_ubv_V = 11.36\n",
      "M =   1.409 Msun  T =  4411 K  m_ubv_V = 8.46\n",
      "M =   1.432 Msun  T =  4912 K  m_ubv_V = 9.60\n",
      "M =   1.435 Msun  T =  4172 K  m_ubv_V = 7.89\n",
      "M =   1.435 Msun  T =  4057 K  m_ubv_V = 7.71\n",
      "M =   1.435 Msun  T =  3763 K  m_ubv_V = 7.57\n",
      "M =   1.435 Msun  T =  3759 K  m_ubv_V = 7.59\n",
      "M =   1.435 Msun  T =  3688 K  m_ubv_V = 7.70\n",
      "M =   1.435 Msun  T =  6591 K  m_ubv_V = 5.68\n",
      "M =   1.435 Msun  T = 64842 K  m_ubv_V = 10.59\n",
      "M =   1.435 Msun  T = 74734 K  m_ubv_V = 17.44\n",
      "Starting filter: ubv,R   Elapsed time: 9.83 seconds\n",
      "Starting synthetic photometry\n",
      "M =   0.105 Msun  T =  3387 K  m_ubv_R = 22.31\n",
      "M =   0.729 Msun  T =  5635 K  m_ubv_R = 15.58\n",
      "M =   1.309 Msun  T =  8707 K  m_ubv_R = 12.18\n",
      "M =   1.388 Msun  T =  5243 K  m_ubv_R = 10.97\n",
      "M =   1.409 Msun  T =  4411 K  m_ubv_R = 7.91\n",
      "M =   1.432 Msun  T =  4912 K  m_ubv_R = 9.15\n",
      "M =   1.435 Msun  T =  4172 K  m_ubv_R = 7.26\n",
      "M =   1.435 Msun  T =  4057 K  m_ubv_R = 7.04\n",
      "M =   1.435 Msun  T =  3763 K  m_ubv_R = 6.77\n",
      "M =   1.435 Msun  T =  3759 K  m_ubv_R = 6.78\n",
      "M =   1.435 Msun  T =  3688 K  m_ubv_R = 6.85\n",
      "M =   1.435 Msun  T =  6591 K  m_ubv_R = 5.38\n",
      "M =   1.435 Msun  T = 64842 K  m_ubv_R = 10.71\n",
      "M =   1.435 Msun  T = 74734 K  m_ubv_R = 17.56\n",
      "Starting filter: ubv,I   Elapsed time: 12.98 seconds\n",
      "Starting synthetic photometry\n",
      "M =   0.105 Msun  T =  3387 K  m_ubv_I = 20.94\n",
      "M =   0.729 Msun  T =  5635 K  m_ubv_I = 15.11\n",
      "M =   1.309 Msun  T =  8707 K  m_ubv_I = 12.12\n",
      "M =   1.388 Msun  T =  5243 K  m_ubv_I = 10.43\n",
      "M =   1.409 Msun  T =  4411 K  m_ubv_I = 7.15\n",
      "M =   1.432 Msun  T =  4912 K  m_ubv_I = 8.54\n",
      "M =   1.435 Msun  T =  4172 K  m_ubv_I = 6.41\n",
      "M =   1.435 Msun  T =  4057 K  m_ubv_I = 6.14\n",
      "M =   1.435 Msun  T =  3763 K  m_ubv_I = 5.69\n",
      "M =   1.435 Msun  T =  3759 K  m_ubv_I = 5.70\n",
      "M =   1.435 Msun  T =  3688 K  m_ubv_I = 5.71\n",
      "M =   1.435 Msun  T =  6591 K  m_ubv_I = 5.02\n",
      "M =   1.435 Msun  T = 64842 K  m_ubv_I = 10.99\n",
      "M =   1.435 Msun  T = 74734 K  m_ubv_I = 17.85\n",
      "      Time taken: 16.13 seconds\n"
     ]
    }
   ],
   "source": [
    "iso2=synthetic.IsochronePhot(9.3, 0.0, 1000, math.log10(1/10), recomp=True) # New MISTv.1 isochrone for same metallicity"
   ]
  },
  {
   "cell_type": "markdown",
   "metadata": {},
   "source": [
    "Looking at the distribution of logg values. for the stars in the Parsec isochrone."
   ]
  },
  {
   "cell_type": "code",
   "execution_count": 21,
   "metadata": {},
   "outputs": [
    {
     "data": {
      "text/plain": [
       "7.902440169584496"
      ]
     },
     "execution_count": 21,
     "metadata": {},
     "output_type": "execute_result"
    }
   ],
   "source": [
    "np.max(iso2.points['logg'])"
   ]
  },
  {
   "cell_type": "code",
   "execution_count": 22,
   "metadata": {},
   "outputs": [
    {
     "data": {
      "text/plain": [
       "(array([  0.,   0.,   0.,   0.,   0.,   0.,   0.,   0.,   0.,   0., 526.,\n",
       "        150., 182.,  80., 225.,  65.,  27., 119.,   0.,   0.,   0.,   0.,\n",
       "          0.,   0.,   0.,   0.,   0.,   0.,   0.,   0.,   0.,   0.,   0.,\n",
       "          0.,   0.,   0.,   0.,   0.,   0.]),\n",
       " array([-10,  -9,  -8,  -7,  -6,  -5,  -4,  -3,  -2,  -1,   0,   1,   2,\n",
       "          3,   4,   5,   6,   7,   8,   9,  10,  11,  12,  13,  14,  15,\n",
       "         16,  17,  18,  19,  20,  21,  22,  23,  24,  25,  26,  27,  28,\n",
       "         29]),\n",
       " <a list of 39 Patch objects>)"
      ]
     },
     "execution_count": 22,
     "metadata": {},
     "output_type": "execute_result"
    },
    {
     "data": {
      "image/png": "[encoded data removed]",
      "text/plain": [
       "<Figure size 432x288 with 1 Axes>"
      ]
     },
     "metadata": {
      "needs_background": "light"
     },
     "output_type": "display_data"
    }
   ],
   "source": [
    "import matplotlib.pyplot as plt\n",
    "plt.xlabel(\"logg in cgs\")\n",
    "plt.title(\"Histogram of logg values of stars in the Parsec isochrone\")\n",
    "plt.hist(np.array([x for x in iso2.points['logg'] if np.isfinite(x)]), np.arange(-10, 30, 1))"
   ]
  },
  {
   "cell_type": "code",
   "execution_count": 23,
   "metadata": {},
   "outputs": [
    {
     "data": {
      "text/plain": [
       "2.0208530165838594"
      ]
     },
     "execution_count": 23,
     "metadata": {},
     "output_type": "execute_result"
    }
   ],
   "source": [
    "np.median(iso2.points['logg'])"
   ]
  },
  {
   "cell_type": "code",
   "execution_count": 24,
   "metadata": {},
   "outputs": [
    {
     "data": {
      "text/plain": [
       "2.590379008647578"
      ]
     },
     "execution_count": 24,
     "metadata": {},
     "output_type": "execute_result"
    }
   ],
   "source": [
    "np.mean(iso2.points['logg'])"
   ]
  },
  {
   "cell_type": "code",
   "execution_count": 25,
   "metadata": {},
   "outputs": [],
   "source": [
    "from spisea import imf\n",
    "from spisea.imf import imf, multiplicity\n",
    "from spisea import ifmr\n"
   ]
  },
  {
   "cell_type": "markdown",
   "metadata": {},
   "source": [
    "Make the clusters corresponding to the binary star isochrone and the MISTv.1 isochrone"
   ]
  },
  {
   "cell_type": "code",
   "execution_count": 26,
   "metadata": {},
   "outputs": [
    {
     "name": "stderr",
     "output_type": "stream",
     "text": [
      "/opt/anaconda3/envs/astroconda/lib/python3.7/site-packages/astropy/table/column.py:1020: RuntimeWarning: invalid value encountered in greater_equal\n",
      "  result = getattr(super(), op)(other)\n"
     ]
    },
    {
     "name": "stdout",
     "output_type": "stream",
     "text": [
      "Found 720 companions out of stellar mass range\n"
     ]
    }
   ],
   "source": [
    "clus_1=synthetic.Binary_Cluster(iso1, imf.IMFSalpeter1955(multiplicity=multiplicity.MultiplicityResolvedDK()), 20000, ifmr=ifmr.IFMR_Spera15())\n",
    "clus_2=synthetic.ResolvedCluster(iso2, imf.IMFSalpeter1955(multiplicity=multiplicity.MultiplicityResolvedDK()), 20000, ifmr=ifmr.IFMR_Spera15())"
   ]
  },
  {
   "cell_type": "markdown",
   "metadata": {},
   "source": [
    "Now let's visualize the isochrone we have created so far with a color magnitude diagram. There we can see the end of main sequence and perhaps the M type"
   ]
  },
  {
   "cell_type": "code",
   "execution_count": 27,
   "metadata": {},
   "outputs": [
    {
     "data": {
      "text/plain": [
       "<matplotlib.legend.Legend at 0x7fd37cf83588>"
      ]
     },
     "execution_count": 27,
     "metadata": {},
     "output_type": "execute_result"
    },
    {
     "data": {
      "image/png": "[encoded data removed]",
      "text/plain": [
       "<Figure size 432x288 with 1 Axes>"
      ]
     },
     "metadata": {
      "needs_background": "light"
     },
     "output_type": "display_data"
    }
   ],
   "source": [
    "# Taking a look at the Binary Cluster vs Default Settings cluster Observer's HR Diagram\n",
    "# Remember to use a distance modulus!\n",
    "import matplotlib.pyplot as plt\n",
    "plt.plot(iso1.primaries['m_ubv_B']-iso1.primaries[\"m_ubv_V\"], iso1.primaries[\"m_ubv_V\"]-5*np.log10(100), \"r.\")\n",
    "plt.plot(iso1.secondaries['m_ubv_B']-iso1.secondaries[\"m_ubv_V\"], iso1.secondaries[\"m_ubv_V\"]-5*np.log10(100), \"r.\")\n",
    "plt.plot(iso1.singles['m_ubv_B']-iso1.singles[\"m_ubv_V\"], iso1.singles[\"m_ubv_V\"]-5*np.log10(100), \"r.\", label=\"BPASS isochrone\")\n",
    "plt.plot(iso2.points['m_ubv_B']-iso2.points[\"m_ubv_V\"], iso2.points[\"m_ubv_V\"]-5*np.log10(100), \"b+\", label=\"MISTv.1 isochrone\", alpha = 0.2)\n",
    "plt.xlabel(\"B-V\")\n",
    "plt.ylabel(\"M_V\")\n",
    "plt.title(\"Color magnitude Diagram of Isochrones at 0.1Z_solar and 10**9.3 years age\")\n",
    "plt.gca().invert_yaxis()\n",
    "plt.legend()"
   ]
  },
  {
   "cell_type": "markdown",
   "metadata": {},
   "source": [
    "We do have several outliers but otherwise the pattern does not seem too terribly off from the Parsec isochrone's shape. Now I look at the primary stars and see if there are any problems caused."
   ]
  },
  {
   "cell_type": "code",
   "execution_count": 28,
   "metadata": {},
   "outputs": [
    {
     "data": {
      "text/plain": [
       "<matplotlib.legend.Legend at 0x7fd3eba7b320>"
      ]
     },
     "execution_count": 28,
     "metadata": {},
     "output_type": "execute_result"
    },
    {
     "data": {
      "image/png": "[encoded data removed]",
      "text/plain": [
       "<Figure size 432x288 with 1 Axes>"
      ]
     },
     "metadata": {
      "needs_background": "light"
     },
     "output_type": "display_data"
    }
   ],
   "source": [
    "# Taking a look at the Binary Cluster vs Default Settings cluster Observer's HR Diagram\n",
    "# Remember to use a distance modulus!\n",
    "import matplotlib.pyplot as plt\n",
    "plt.plot(iso1.primaries['m_ubv_B']-iso1.primaries[\"m_ubv_V\"], iso1.primaries[\"m_ubv_V\"]-5*np.log10(100), \"r+\",  label=\"BPASS isochrone\", alpha =0.7)\n",
    "plt.xlabel(\"B-V\")\n",
    "plt.ylabel(\"M_V\")\n",
    "plt.title(\"Color magnitude Diagram of Isochrones at 0.1Z_solar and 10**9.3 years age (Primary stars only)\")\n",
    "plt.gca().invert_yaxis()\n",
    "plt.legend()"
   ]
  },
  {
   "cell_type": "code",
   "execution_count": 29,
   "metadata": {},
   "outputs": [
    {
     "data": {
      "text/plain": [
       "<matplotlib.legend.Legend at 0x7fd36c7174a8>"
      ]
     },
     "execution_count": 29,
     "metadata": {},
     "output_type": "execute_result"
    },
    {
     "data": {
      "image/png": "[encoded data removed]",
      "text/plain": [
       "<Figure size 432x288 with 1 Axes>"
      ]
     },
     "metadata": {
      "needs_background": "light"
     },
     "output_type": "display_data"
    }
   ],
   "source": [
    "import matplotlib.pyplot as plt\n",
    "plt.plot(iso1.secondaries['m_ubv_B']-iso1.secondaries[\"m_ubv_V\"], iso1.secondaries[\"m_ubv_V\"]-5*np.log10(100), \"r+\",  label=\"BPASS isochrone\", alpha =0.7)\n",
    "plt.xlabel(\"B-V\")\n",
    "plt.ylabel(\"M_V\")\n",
    "plt.title(\"Color magnitude Diagram of Isochrones at 0.1Z_solar and 10**9.3 years age (secondaries stars only)\")\n",
    "plt.gca().invert_yaxis()\n",
    "plt.legend()"
   ]
  },
  {
   "cell_type": "code",
   "execution_count": 30,
   "metadata": {},
   "outputs": [
    {
     "data": {
      "text/plain": [
       "<matplotlib.legend.Legend at 0x7fd36c3626a0>"
      ]
     },
     "execution_count": 30,
     "metadata": {},
     "output_type": "execute_result"
    },
    {
     "data": {
      "image/png": "[encoded data removed]",
      "text/plain": [
       "<Figure size 432x288 with 1 Axes>"
      ]
     },
     "metadata": {
      "needs_background": "light"
     },
     "output_type": "display_data"
    }
   ],
   "source": [
    "# Plotting HR diagrams\n",
    "import matplotlib.pyplot as plt\n",
    "plt.plot(np.log10(iso1.primaries['Teff']), np.log10(iso1.primaries[\"L\"]), \"r.\", alpha =0.3)\n",
    "plt.plot(np.log10(iso1.secondaries['Teff']), np.log10(iso1.secondaries[\"L\"]), \"r.\", alpha =0.3)\n",
    "plt.plot(np.log10(iso1.singles['Teff']), np.log10(iso1.singles[\"L\"]), \"r.\", label=\"BPASS isochrone\", alpha =0.3)\n",
    "plt.plot(np.log10(iso2.points['Teff']), np.log10(iso2.points[\"L\"]), \"b+\", label=\"MISTv.1\", alpha =0.1)\n",
    "plt.xlabel(\"log(T in Kelvin)\")\n",
    "plt.ylabel(\"log(L in Watts)\")\n",
    "plt.title(\"HR Diagram of Isochrones at 0.1Z_solar and 10**9.3 years age\")\n",
    "plt.gca().invert_xaxis()\n",
    "plt.legend()\n",
    "# Rough pattern seems to fit. What's that line?"
   ]
  },
  {
   "cell_type": "markdown",
   "metadata": {},
   "source": [
    "A good sign here is that there are plenty of compact remnant (that means good number of stars have gone through their main-sequence and post-main sequence). I also notice stars turning to the red giant branch. This is going to be really important when we decide to use the clusters as reference for finding ages of actual star clusters."
   ]
  },
  {
   "cell_type": "code",
   "execution_count": 31,
   "metadata": {},
   "outputs": [
    {
     "data": {
      "text/plain": [
       "<matplotlib.legend.Legend at 0x7fd3eb8e2ac8>"
      ]
     },
     "execution_count": 31,
     "metadata": {},
     "output_type": "execute_result"
    },
    {
     "data": {
      "image/png": "[encoded data removed]",
      "text/plain": [
       "<Figure size 432x288 with 1 Axes>"
      ]
     },
     "metadata": {
      "needs_background": "light"
     },
     "output_type": "display_data"
    }
   ],
   "source": [
    "# Plot the mass-luminosity relationship\n",
    "from astropy import constants as cs\n",
    "import matplotlib.pyplot as plt\n",
    "plt.plot(np.log10(iso1.primaries['mass_current']), np.log10(iso1.primaries[\"L\"]/cs.L_sun), \"r.\")\n",
    "plt.plot(np.log10(iso1.secondaries['mass_current']), np.log10(iso1.secondaries[\"L\"]/cs.L_sun), \"r.\")\n",
    "plt.plot(np.log10(iso1.singles['mass_current']), np.log10(iso1.singles[\"L\"]/cs.L_sun), \"r.\", label=\"BPASS isochrone\")\n",
    "plt.plot(np.log10(iso2.points['mass_current']), np.log10(iso2.points[\"L\"]/cs.L_sun), \"b+\", label=\"MISTv.1\", alpha =0.2)\n",
    "plt.xlabel(\"log(Current Mass in solar masses)\")\n",
    "plt.ylabel(\"log(L/L_solar)\")\n",
    "plt.title(\"log Mass-logL of Isochrones at 0.1Z_solar and 10**9.3 years age\")\n",
    "plt.legend()\n",
    "# Rough pattern seems to fit. What's that line?"
   ]
  },
  {
   "cell_type": "markdown",
   "metadata": {},
   "source": [
    "Which table is causing that line segment at around log10(L/L_sun)=-3?\n",
    "Let's find out.\n",
    "First I take a look at the shape of the primary stars' plot for log current mass log L."
   ]
  },
  {
   "cell_type": "code",
   "execution_count": 32,
   "metadata": {},
   "outputs": [
    {
     "data": {
      "text/plain": [
       "<matplotlib.legend.Legend at 0x7fd37cfafc88>"
      ]
     },
     "execution_count": 32,
     "metadata": {},
     "output_type": "execute_result"
    },
    {
     "data": {
      "image/png": "[encoded data removed]",
      "text/plain": [
       "<Figure size 432x288 with 1 Axes>"
      ]
     },
     "metadata": {
      "needs_background": "light"
     },
     "output_type": "display_data"
    }
   ],
   "source": [
    "from astropy import constants as cs\n",
    "import matplotlib.pyplot as plt\n",
    "plt.plot(np.log10(iso1.primaries['mass_current']), np.log10(iso1.primaries[\"L\"]/cs.L_sun), \"r.\", label=\"BPASS isochrone (primaries)\")\n",
    "plt.xlabel(\"log(Current Mass in solar masses)\")\n",
    "plt.ylabel(\"log(L/L_solar)\")\n",
    "plt.title(\"log Mass-logL of Isochrones at 0.1Z_solar and 10**9.3 years age\")\n",
    "plt.legend()"
   ]
  },
  {
   "cell_type": "markdown",
   "metadata": {},
   "source": [
    "Which type of secondary star is it that is causing this strange pattern that looks like a line lingering in the bottom of the mass luminosity plot."
   ]
  },
  {
   "cell_type": "code",
   "execution_count": 33,
   "metadata": {},
   "outputs": [
    {
     "name": "stderr",
     "output_type": "stream",
     "text": [
      "/opt/anaconda3/envs/astroconda/lib/python3.7/site-packages/astropy/units/quantity.py:477: RuntimeWarning: invalid value encountered in greater\n",
      "  result = super().__array_ufunc__(function, method, *arrays, **kwargs)\n",
      "/opt/anaconda3/envs/astroconda/lib/python3.7/site-packages/astropy/units/quantity.py:477: RuntimeWarning: invalid value encountered in less\n",
      "  result = super().__array_ufunc__(function, method, *arrays, **kwargs)\n"
     ]
    }
   ],
   "source": [
    "bad_line = iso1.primaries[np.where((np.log10(iso1.primaries[\"L\"]/cs.L_sun)>-3.30) & (np.log10(iso1.primaries[\"L\"]/cs.L_sun)<-3.10))[0]]"
   ]
  },
  {
   "cell_type": "code",
   "execution_count": 34,
   "metadata": {},
   "outputs": [
    {
     "data": {
      "text/html": [
       "<i>Table length=188</i>\n",
       "<table id=\"table140548176921992\" class=\"table-striped table-bordered table-condensed\">\n",
       "<thead><tr><th>mass</th><th>L</th><th>Teff</th><th>R</th><th>logg</th><th>isWR</th><th>mass_current</th><th>phase</th><th>source</th><th>m_ubv_U</th><th>m_ubv_V</th><th>m_ubv_B</th><th>m_ubv_R</th><th>m_ubv_I</th></tr></thead>\n",
       "<thead><tr><th>solMass</th><th>W</th><th>K</th><th>m</th><th></th><th></th><th>solMass</th><th></th><th></th><th></th><th></th><th></th><th></th><th></th></tr></thead>\n",
       "<thead><tr><th>float64</th><th>float64</th><th>float64</th><th>float64</th><th>float64</th><th>bool</th><th>float64</th><th>float64</th><th>int64</th><th>float64</th><th>float64</th><th>float64</th><th>float64</th><th>float64</th></tr></thead>\n",
       "<tr><td>1.1</td><td>2.1302468368450145e+23</td><td>7688.7723065107275</td><td>9248901.711898364</td><td>7.941018260435142</td><td>False</td><td>0.56271</td><td>101.0</td><td>1</td><td>22.865671968949066</td><td>23.01387362322981</td><td>23.37915520137843</td><td>22.79608898046724</td><td>22.55708402407595</td></tr>\n",
       "<tr><td>1.8</td><td>2.143724291205302e+23</td><td>7715.534188232673</td><td>9213861.169898476</td><td>7.947053181372584</td><td>False</td><td>0.56627</td><td>101.0</td><td>1</td><td>22.854458511043592</td><td>23.008767374455765</td><td>23.37092667467724</td><td>22.792559951153336</td><td>22.555983014565566</td></tr>\n",
       "<tr><td>1.7</td><td>2.911246162721614e+23</td><td>8287.68049710061</td><td>9305991.772240143</td><td>7.931194037786593</td><td>False</td><td>0.55694</td><td>101.0</td><td>1</td><td>22.44629537748812</td><td>22.721075142346464</td><td>23.021602585484587</td><td>22.535880831043272</td><td>22.34700158857555</td></tr>\n",
       "<tr><td>1.7</td><td>2.911246162721614e+23</td><td>8287.68049710061</td><td>9305991.772240143</td><td>7.931194037786593</td><td>False</td><td>0.55694</td><td>101.0</td><td>1</td><td>22.44629537748812</td><td>22.721075142346464</td><td>23.021602585484587</td><td>22.535880831043272</td><td>22.34700158857555</td></tr>\n",
       "<tr><td>1.8</td><td>2.143724291205302e+23</td><td>7715.534188232673</td><td>9213861.169898476</td><td>7.947053181372584</td><td>False</td><td>0.56627</td><td>101.0</td><td>1</td><td>22.854458511043592</td><td>23.008767374455765</td><td>23.37092667467724</td><td>22.792559951153336</td><td>22.555983014565566</td></tr>\n",
       "<tr><td>1.7</td><td>2.903039393288871e+23</td><td>8274.885630801211</td><td>9321625.783925481</td><td>7.928510043613398</td><td>False</td><td>0.55537</td><td>101.0</td><td>1</td><td>22.450724739672197</td><td>22.7230062573084</td><td>23.02481255733621</td><td>22.53717073336727</td><td>22.34730614029894</td></tr>\n",
       "<tr><td>1.7</td><td>2.91673470464279e+23</td><td>8296.234132254533</td><td>9295562.263872195</td><td>7.93298604311574</td><td>False</td><td>0.55799</td><td>101.0</td><td>1</td><td>22.44334602267267</td><td>22.719791273934682</td><td>23.01946613426759</td><td>22.53502438966755</td><td>22.346801955423935</td></tr>\n",
       "<tr><td>1.7</td><td>2.8766957326390265e+23</td><td>8233.813011134618</td><td>9372040.662897216</td><td>7.919868815344768</td><td>False</td><td>0.55033</td><td>101.0</td><td>1</td><td>22.46509675311688</td><td>22.72930198452301</td><td>23.035242331813656</td><td>22.54139300564319</td><td>22.348341909918965</td></tr>\n",
       "<tr><td>1.7</td><td>2.911246162721614e+23</td><td>8287.68049710061</td><td>9305991.772240143</td><td>7.931194037786593</td><td>False</td><td>0.55694</td><td>101.0</td><td>1</td><td>22.44629537748812</td><td>22.721075142346464</td><td>23.021602585484587</td><td>22.535880831043272</td><td>22.34700158857555</td></tr>\n",
       "<tr><td>...</td><td>...</td><td>...</td><td>...</td><td>...</td><td>...</td><td>...</td><td>...</td><td>...</td><td>...</td><td>...</td><td>...</td><td>...</td><td>...</td></tr>\n",
       "<tr><td>1.2</td><td>2.8952557253757827e+23</td><td>8262.73834061459</td><td>9336512.096492585</td><td>7.925961310834985</td><td>False</td><td>0.55388</td><td>101.0</td><td>1</td><td>22.454947972498832</td><td>22.724849947816633</td><td>23.027874310052244</td><td>22.538403603230243</td><td>22.347600332107827</td></tr>\n",
       "<tr><td>1.7</td><td>2.91673470464279e+23</td><td>8296.234132254533</td><td>9295562.263872195</td><td>7.93298604311574</td><td>False</td><td>0.55799</td><td>101.0</td><td>1</td><td>22.44334602267267</td><td>22.719791273934682</td><td>23.01946613426759</td><td>22.53502438966755</td><td>22.346801955423935</td></tr>\n",
       "<tr><td>1.7</td><td>2.91673470464279e+23</td><td>8296.234132254533</td><td>9295562.263872195</td><td>7.93298604311574</td><td>False</td><td>0.55799</td><td>101.0</td><td>1</td><td>22.44334602267267</td><td>22.719791273934682</td><td>23.01946613426759</td><td>22.53502438966755</td><td>22.346801955423935</td></tr>\n",
       "<tr><td>1.7</td><td>2.91673470464279e+23</td><td>8296.234132254533</td><td>9295562.263872195</td><td>7.93298604311574</td><td>False</td><td>0.55799</td><td>101.0</td><td>1</td><td>22.44334602267267</td><td>22.719791273934682</td><td>23.01946613426759</td><td>22.53502438966755</td><td>22.346801955423935</td></tr>\n",
       "<tr><td>1.7</td><td>2.91673470464279e+23</td><td>8296.234132254533</td><td>9295562.263872195</td><td>7.93298604311574</td><td>False</td><td>0.55799</td><td>101.0</td><td>1</td><td>22.44334602267267</td><td>22.719791273934682</td><td>23.01946613426759</td><td>22.53502438966755</td><td>22.346801955423935</td></tr>\n",
       "<tr><td>1.7</td><td>2.91673470464279e+23</td><td>8296.234132254533</td><td>9295562.263872195</td><td>7.93298604311574</td><td>False</td><td>0.55799</td><td>101.0</td><td>1</td><td>22.44334602267267</td><td>22.719791273934682</td><td>23.01946613426759</td><td>22.53502438966755</td><td>22.346801955423935</td></tr>\n",
       "<tr><td>4.0</td><td>2.096727199743436e+23</td><td>10094.388144528384</td><td>5323535.619099874</td><td>8.673694189949927</td><td>False</td><td>1.01071</td><td>101.0</td><td>1</td><td>22.718794404740454</td><td>23.277845275461097</td><td>23.43266126415343</td><td>23.165095219293512</td><td>23.087365796435787</td></tr>\n",
       "<tr><td>3.7</td><td>1.9574556412439005e+23</td><td>9598.425535829074</td><td>5688989.919417909</td><td>8.594242051808688</td><td>False</td><td>0.96129</td><td>101.0</td><td>1</td><td>22.798718722210637</td><td>23.291374023892736</td><td>23.480255746837628</td><td>23.16179313509002</td><td>23.058265441929397</td></tr>\n",
       "<tr><td>1.7</td><td>2.911246162721614e+23</td><td>8287.68049710061</td><td>9305991.772240143</td><td>7.931194037786593</td><td>False</td><td>0.55694</td><td>101.0</td><td>1</td><td>22.44629537748812</td><td>22.721075142346464</td><td>23.021602585484587</td><td>22.535880831043272</td><td>22.34700158857555</td></tr>\n",
       "<tr><td>1.8</td><td>2.143724291205302e+23</td><td>7715.534188232673</td><td>9213861.169898476</td><td>7.947053181372584</td><td>False</td><td>0.56627</td><td>101.0</td><td>1</td><td>22.854458511043592</td><td>23.008767374455765</td><td>23.37092667467724</td><td>22.792559951153336</td><td>22.555983014565566</td></tr>\n",
       "</table>"
      ],
      "text/plain": [
       "<Table length=188>\n",
       "  mass            L            ...      m_ubv_R            m_ubv_I      \n",
       "solMass           W            ...                                      \n",
       "float64        float64         ...      float64            float64      \n",
       "------- ---------------------- ... ------------------ ------------------\n",
       "    1.1 2.1302468368450145e+23 ...  22.79608898046724  22.55708402407595\n",
       "    1.8  2.143724291205302e+23 ... 22.792559951153336 22.555983014565566\n",
       "    1.7  2.911246162721614e+23 ... 22.535880831043272  22.34700158857555\n",
       "    1.7  2.911246162721614e+23 ... 22.535880831043272  22.34700158857555\n",
       "    1.8  2.143724291205302e+23 ... 22.792559951153336 22.555983014565566\n",
       "    1.7  2.903039393288871e+23 ...  22.53717073336727  22.34730614029894\n",
       "    1.7   2.91673470464279e+23 ...  22.53502438966755 22.346801955423935\n",
       "    1.7 2.8766957326390265e+23 ...  22.54139300564319 22.348341909918965\n",
       "    1.7  2.911246162721614e+23 ... 22.535880831043272  22.34700158857555\n",
       "    ...                    ... ...                ...                ...\n",
       "    1.2 2.8952557253757827e+23 ... 22.538403603230243 22.347600332107827\n",
       "    1.7   2.91673470464279e+23 ...  22.53502438966755 22.346801955423935\n",
       "    1.7   2.91673470464279e+23 ...  22.53502438966755 22.346801955423935\n",
       "    1.7   2.91673470464279e+23 ...  22.53502438966755 22.346801955423935\n",
       "    1.7   2.91673470464279e+23 ...  22.53502438966755 22.346801955423935\n",
       "    1.7   2.91673470464279e+23 ...  22.53502438966755 22.346801955423935\n",
       "    4.0  2.096727199743436e+23 ... 23.165095219293512 23.087365796435787\n",
       "    3.7 1.9574556412439005e+23 ...  23.16179313509002 23.058265441929397\n",
       "    1.7  2.911246162721614e+23 ... 22.535880831043272  22.34700158857555\n",
       "    1.8  2.143724291205302e+23 ... 22.792559951153336 22.555983014565566"
      ]
     },
     "execution_count": 34,
     "metadata": {},
     "output_type": "execute_result"
    }
   ],
   "source": [
    "bad_line"
   ]
  },
  {
   "cell_type": "markdown",
   "metadata": {},
   "source": [
    "What sorts of characteristics (logg, Teff, L) can be causing it? Let's find out"
   ]
  },
  {
   "cell_type": "code",
   "execution_count": 35,
   "metadata": {},
   "outputs": [
    {
     "data": {
      "text/html": [
       "&lt;Column name=&apos;L&apos; dtype=&apos;float64&apos; unit=&apos;W&apos; length=33&gt;\n",
       "<table>\n",
       "<tr><td>1.9351379461491437e+23</td></tr>\n",
       "<tr><td>1.9481030626200675e+23</td></tr>\n",
       "<tr><td>1.9509310873660553e+23</td></tr>\n",
       "<tr><td>1.9518297312384177e+23</td></tr>\n",
       "<tr><td>1.9574556412439005e+23</td></tr>\n",
       "<tr><td>1.9759771998738914e+23</td></tr>\n",
       "<tr><td>1.978116789566019e+23</td></tr>\n",
       "<tr><td>1.989215932849611e+23</td></tr>\n",
       "<tr><td>2.0125279895684763e+23</td></tr>\n",
       "<tr><td>2.0265248290685556e+23</td></tr>\n",
       "<tr><td>2.0543854431727328e+23</td></tr>\n",
       "<tr><td>2.096727199743436e+23</td></tr>\n",
       "<tr><td>...</td></tr>\n",
       "<tr><td>2.8777954997011738e+23</td></tr>\n",
       "<tr><td>2.884017750907803e+23</td></tr>\n",
       "<tr><td>2.8925370409653314e+23</td></tr>\n",
       "<tr><td>2.893629538507089e+23</td></tr>\n",
       "<tr><td>2.8937894508033503e+23</td></tr>\n",
       "<tr><td>2.8952557253757827e+23</td></tr>\n",
       "<tr><td>2.901736209308119e+23</td></tr>\n",
       "<tr><td>2.901996799295577e+23</td></tr>\n",
       "<tr><td>2.9025715163301165e+23</td></tr>\n",
       "<tr><td>2.903039393288871e+23</td></tr>\n",
       "<tr><td>2.911246162721614e+23</td></tr>\n",
       "<tr><td>2.91673470464279e+23</td></tr>\n",
       "</table>"
      ],
      "text/plain": [
       "<Column name='L' dtype='float64' unit='W' length=33>\n",
       "1.9351379461491437e+23\n",
       "1.9481030626200675e+23\n",
       "1.9509310873660553e+23\n",
       "1.9518297312384177e+23\n",
       "1.9574556412439005e+23\n",
       "1.9759771998738914e+23\n",
       " 1.978116789566019e+23\n",
       " 1.989215932849611e+23\n",
       "2.0125279895684763e+23\n",
       "2.0265248290685556e+23\n",
       "2.0543854431727328e+23\n",
       " 2.096727199743436e+23\n",
       "                   ...\n",
       "2.8777954997011738e+23\n",
       " 2.884017750907803e+23\n",
       "2.8925370409653314e+23\n",
       " 2.893629538507089e+23\n",
       "2.8937894508033503e+23\n",
       "2.8952557253757827e+23\n",
       " 2.901736209308119e+23\n",
       " 2.901996799295577e+23\n",
       "2.9025715163301165e+23\n",
       " 2.903039393288871e+23\n",
       " 2.911246162721614e+23\n",
       "  2.91673470464279e+23"
      ]
     },
     "execution_count": 35,
     "metadata": {},
     "output_type": "execute_result"
    }
   ],
   "source": [
    "np.unique(bad_line['L'])"
   ]
  },
  {
   "cell_type": "code",
   "execution_count": 36,
   "metadata": {},
   "outputs": [
    {
     "data": {
      "text/html": [
       "&lt;Column name=&apos;Teff&apos; dtype=&apos;float64&apos; unit=&apos;K&apos; length=33&gt;\n",
       "<table>\n",
       "<tr><td>7681.80007297507</td></tr>\n",
       "<tr><td>7688.7723065107275</td></tr>\n",
       "<tr><td>7710.117559901143</td></tr>\n",
       "<tr><td>7710.206326420913</td></tr>\n",
       "<tr><td>7710.41937023802</td></tr>\n",
       "<tr><td>7710.792211082934</td></tr>\n",
       "<tr><td>7715.534188232673</td></tr>\n",
       "<tr><td>8233.813011134618</td></tr>\n",
       "<tr><td>8235.538465914007</td></tr>\n",
       "<tr><td>8245.234276303721</td></tr>\n",
       "<tr><td>8258.515723847308</td></tr>\n",
       "<tr><td>8260.227335359725</td></tr>\n",
       "<tr><td>...</td></tr>\n",
       "<tr><td>9490.519809154484</td></tr>\n",
       "<tr><td>9598.425535829074</td></tr>\n",
       "<tr><td>9663.400961401096</td></tr>\n",
       "<tr><td>9679.211952194426</td></tr>\n",
       "<tr><td>9701.524840150685</td></tr>\n",
       "<tr><td>9756.85835108902</td></tr>\n",
       "<tr><td>9868.01952228198</td></tr>\n",
       "<tr><td>9873.928999233876</td></tr>\n",
       "<tr><td>9960.015172435422</td></tr>\n",
       "<tr><td>10068.157482323419</td></tr>\n",
       "<tr><td>10094.388144528384</td></tr>\n",
       "<tr><td>10122.085466907567</td></tr>\n",
       "</table>"
      ],
      "text/plain": [
       "<Column name='Teff' dtype='float64' unit='K' length=33>\n",
       "  7681.80007297507\n",
       "7688.7723065107275\n",
       " 7710.117559901143\n",
       " 7710.206326420913\n",
       "  7710.41937023802\n",
       " 7710.792211082934\n",
       " 7715.534188232673\n",
       " 8233.813011134618\n",
       " 8235.538465914007\n",
       " 8245.234276303721\n",
       " 8258.515723847308\n",
       " 8260.227335359725\n",
       "               ...\n",
       " 9490.519809154484\n",
       " 9598.425535829074\n",
       " 9663.400961401096\n",
       " 9679.211952194426\n",
       " 9701.524840150685\n",
       "  9756.85835108902\n",
       "  9868.01952228198\n",
       " 9873.928999233876\n",
       " 9960.015172435422\n",
       "10068.157482323419\n",
       "10094.388144528384\n",
       "10122.085466907567"
      ]
     },
     "execution_count": 36,
     "metadata": {},
     "output_type": "execute_result"
    }
   ],
   "source": [
    "np.unique(bad_line['Teff'])"
   ]
  },
  {
   "cell_type": "code",
   "execution_count": 37,
   "metadata": {},
   "outputs": [
    {
     "data": {
      "text/html": [
       "&lt;Column name=&apos;logg&apos; dtype=&apos;float64&apos; unit=&apos;&apos; length=33&gt;\n",
       "<table>\n",
       "<tr><td>7.919868815344768</td></tr>\n",
       "<tr><td>7.920230505830122</td></tr>\n",
       "<tr><td>7.9222742264144586</td></tr>\n",
       "<tr><td>7.925069389973758</td></tr>\n",
       "<tr><td>7.925430173369806</td></tr>\n",
       "<tr><td>7.9254817087518346</td></tr>\n",
       "<tr><td>7.925961310834985</td></tr>\n",
       "<tr><td>7.928082501785359</td></tr>\n",
       "<tr><td>7.928169617195044</td></tr>\n",
       "<tr><td>7.928357658697436</td></tr>\n",
       "<tr><td>7.928510043613398</td></tr>\n",
       "<tr><td>7.931194037786593</td></tr>\n",
       "<tr><td>...</td></tr>\n",
       "<tr><td>8.571408810813182</td></tr>\n",
       "<tr><td>8.594242051808688</td></tr>\n",
       "<tr><td>8.597775404536684</td></tr>\n",
       "<tr><td>8.600895888970314</td></tr>\n",
       "<tr><td>8.614486836526979</td></tr>\n",
       "<tr><td>8.614555752538884</td></tr>\n",
       "<tr><td>8.627766031761164</td></tr>\n",
       "<tr><td>8.654113116298696</td></tr>\n",
       "<tr><td>8.663809447158098</td></tr>\n",
       "<tr><td>8.673694189949927</td></tr>\n",
       "<tr><td>8.68743656359471</td></tr>\n",
       "<tr><td>8.722800966601913</td></tr>\n",
       "</table>"
      ],
      "text/plain": [
       "<Column name='logg' dtype='float64' unit='' length=33>\n",
       " 7.919868815344768\n",
       " 7.920230505830122\n",
       "7.9222742264144586\n",
       " 7.925069389973758\n",
       " 7.925430173369806\n",
       "7.9254817087518346\n",
       " 7.925961310834985\n",
       " 7.928082501785359\n",
       " 7.928169617195044\n",
       " 7.928357658697436\n",
       " 7.928510043613398\n",
       " 7.931194037786593\n",
       "               ...\n",
       " 8.571408810813182\n",
       " 8.594242051808688\n",
       " 8.597775404536684\n",
       " 8.600895888970314\n",
       " 8.614486836526979\n",
       " 8.614555752538884\n",
       " 8.627766031761164\n",
       " 8.654113116298696\n",
       " 8.663809447158098\n",
       " 8.673694189949927\n",
       "  8.68743656359471\n",
       " 8.722800966601913"
      ]
     },
     "execution_count": 37,
     "metadata": {},
     "output_type": "execute_result"
    }
   ],
   "source": [
    "np.unique(bad_line['logg'])"
   ]
  },
  {
   "cell_type": "code",
   "execution_count": 38,
   "metadata": {},
   "outputs": [
    {
     "data": {
      "text/html": [
       "&lt;Column name=&apos;mass&apos; dtype=&apos;float64&apos; unit=&apos;solMass&apos; length=11&gt;\n",
       "<table>\n",
       "<tr><td>0.9</td></tr>\n",
       "<tr><td>1.0</td></tr>\n",
       "<tr><td>1.1</td></tr>\n",
       "<tr><td>1.2</td></tr>\n",
       "<tr><td>1.3</td></tr>\n",
       "<tr><td>1.7</td></tr>\n",
       "<tr><td>1.8</td></tr>\n",
       "<tr><td>3.5</td></tr>\n",
       "<tr><td>3.7</td></tr>\n",
       "<tr><td>4.0</td></tr>\n",
       "<tr><td>4.5</td></tr>\n",
       "</table>"
      ],
      "text/plain": [
       "<Column name='mass' dtype='float64' unit='solMass' length=11>\n",
       "0.9\n",
       "1.0\n",
       "1.1\n",
       "1.2\n",
       "1.3\n",
       "1.7\n",
       "1.8\n",
       "3.5\n",
       "3.7\n",
       "4.0\n",
       "4.5"
      ]
     },
     "execution_count": 38,
     "metadata": {},
     "output_type": "execute_result"
    }
   ],
   "source": [
    "np.unique(bad_line['mass'])"
   ]
  },
  {
   "cell_type": "code",
   "execution_count": 39,
   "metadata": {},
   "outputs": [
    {
     "data": {
      "text/html": [
       "&lt;Column name=&apos;phase&apos; dtype=&apos;float64&apos; length=1&gt;\n",
       "<table>\n",
       "<tr><td>101.0</td></tr>\n",
       "</table>"
      ],
      "text/plain": [
       "<Column name='phase' dtype='float64' length=1>\n",
       "101.0"
      ]
     },
     "execution_count": 39,
     "metadata": {},
     "output_type": "execute_result"
    }
   ],
   "source": [
    "np.unique(bad_line['phase'])"
   ]
  },
  {
   "cell_type": "markdown",
   "metadata": {},
   "source": [
    "**It turns out that the line was caused by some compact remnants that were lingering around from the NEWSECMODS. In future versions of the stellar evolution model, I may obtain an additional program from the BPASS creators to match the types of compact remnants from the NEWSECMODS.**"
   ]
  },
  {
   "cell_type": "code",
   "execution_count": 40,
   "metadata": {},
   "outputs": [
    {
     "data": {
      "text/plain": [
       "<matplotlib.legend.Legend at 0x7fd37e0a9550>"
      ]
     },
     "execution_count": 40,
     "metadata": {},
     "output_type": "execute_result"
    },
    {
     "data": {
      "image/png": "[encoded data removed]",
      "text/plain": [
       "<Figure size 432x288 with 1 Axes>"
      ]
     },
     "metadata": {
      "needs_background": "light"
     },
     "output_type": "display_data"
    }
   ],
   "source": [
    "# Plot the mass-luminosity relationship\n",
    "from astropy import constants as cs\n",
    "from astropy import units as u\n",
    "import numpy as np\n",
    "import matplotlib.pyplot as plt\n",
    "plt.plot((clus_1.star_systems['mass_current']), np.log10(clus_1.star_systems[\"L\"]), \"r.\", label=\"Binary_Cluster made from BPASS\", alpha =0.3)\n",
    "plt.plot((clus_1.companions['mass_current']), np.log10(clus_1.companions[\"L\"]), \"r.\", alpha = 0.3)\n",
    "plt.plot((clus_2.star_systems['mass_current']), np.log10(clus_2.star_systems[\"L\"]), \"b.\", label=\"Cluster made from MISTv.1\", alpha =0.1)\n",
    "plt.plot((clus_2.companions['mass_current']), np.log10(clus_2.companions[\"L\"]), \"b.\", alpha = 0.1)\n",
    "plt.xlabel(\"Current Mass in solar masses\")\n",
    "plt.ylabel(\"log(L in Watts)\")\n",
    "plt.title(\"Mass-logL of Cluster at 0.1Z_solar and 10**9.3 years age\")\n",
    "plt.legend()\n",
    "# Rough pattern seems to fit. What's that line?"
   ]
  },
  {
   "cell_type": "markdown",
   "metadata": {},
   "source": [
    "Where is that hook coming from?"
   ]
  },
  {
   "cell_type": "code",
   "execution_count": 41,
   "metadata": {},
   "outputs": [
    {
     "name": "stderr",
     "output_type": "stream",
     "text": [
      "/opt/anaconda3/envs/astroconda/lib/python3.7/site-packages/astropy/table/column.py:1020: RuntimeWarning: invalid value encountered in less_equal\n",
      "  result = getattr(super(), op)(other)\n"
     ]
    },
    {
     "data": {
      "text/html": [
       "&lt;Column name=&apos;phase&apos; dtype=&apos;float64&apos; length=1&gt;\n",
       "<table>\n",
       "<tr><td>101.0</td></tr>\n",
       "</table>"
      ],
      "text/plain": [
       "<Column name='phase' dtype='float64' length=1>\n",
       "101.0"
      ]
     },
     "execution_count": 41,
     "metadata": {},
     "output_type": "execute_result"
    }
   ],
   "source": [
    "np.unique(iso1.primaries[np.where(np.log10(iso1.primaries[\"L\"])<=25)]['phase'])"
   ]
  },
  {
   "cell_type": "code",
   "execution_count": 42,
   "metadata": {},
   "outputs": [
    {
     "data": {
      "text/plain": [
       "0"
      ]
     },
     "execution_count": 42,
     "metadata": {},
     "output_type": "execute_result"
    }
   ],
   "source": [
    "len(iso1.primaries[np.where((np.log10(iso1.primaries[\"L\"])<=25) & (iso1.primaries[\"phase\"]==110))])"
   ]
  },
  {
   "cell_type": "code",
   "execution_count": 43,
   "metadata": {},
   "outputs": [
    {
     "data": {
      "text/plain": [
       "2281"
      ]
     },
     "execution_count": 43,
     "metadata": {},
     "output_type": "execute_result"
    }
   ],
   "source": [
    "len(iso1.primaries[np.where((np.log10(iso1.primaries[\"L\"])<=25) & (iso1.primaries[\"phase\"]==101))])"
   ]
  },
  {
   "cell_type": "markdown",
   "metadata": {},
   "source": [
    "OK. It makes sense that our compact remnants are causing this. (Remember, there really is no significant fusion in the insides of neutron stars or white dwarves."
   ]
  },
  {
   "cell_type": "code",
   "execution_count": 44,
   "metadata": {},
   "outputs": [
    {
     "data": {
      "text/plain": [
       "<matplotlib.legend.Legend at 0x7fd3ff6bb128>"
      ]
     },
     "execution_count": 44,
     "metadata": {},
     "output_type": "execute_result"
    },
    {
     "data": {
      "image/png": "[encoded data removed]",
      "text/plain": [
       "<Figure size 432x288 with 1 Axes>"
      ]
     },
     "metadata": {
      "needs_background": "light"
     },
     "output_type": "display_data"
    }
   ],
   "source": [
    "# Plot the mass-luminosity relationship\n",
    "from astropy import constants as cs\n",
    "from astropy import units as u\n",
    "import matplotlib.pyplot as plt\n",
    "plt.plot(clus_1.star_systems['mass_current'], np.log10(clus_1.star_systems[\"L\"]), \"r.\", label=\"Binary_Cluster made from BPASS (Star Systems)\", alpha =1)\n",
    "plt.xlabel(\"log Current Mass in solar masses\")\n",
    "plt.ylabel(\"log(L/L_solar)\")\n",
    "plt.title(\"log-Mass-logL of Cluster at 0.1Z_solar and 10**9.3 years age\")\n",
    "plt.legend()\n",
    "# Rough pattern seems to fit. What's that line?"
   ]
  },
  {
   "cell_type": "code",
   "execution_count": 45,
   "metadata": {},
   "outputs": [
    {
     "data": {
      "text/plain": [
       "<matplotlib.legend.Legend at 0x7fd37e0e99b0>"
      ]
     },
     "execution_count": 45,
     "metadata": {},
     "output_type": "execute_result"
    },
    {
     "data": {
      "image/png": "[encoded data removed]",
      "text/plain": [
       "<Figure size 432x288 with 1 Axes>"
      ]
     },
     "metadata": {
      "needs_background": "light"
     },
     "output_type": "display_data"
    }
   ],
   "source": [
    "# Plot the mass-luminosity relationship\n",
    "from astropy import constants as cs\n",
    "from astropy import units as u\n",
    "import matplotlib.pyplot as plt\n",
    "plt.plot(clus_1.companions['mass_current'], np.log10(clus_1.companions[\"L\"]), \"r.\", label=\"Binary_Cluster made from BPASS (Companions)\", alpha =1)\n",
    "plt.xlabel(\"log Current Mass in solar masses\")\n",
    "plt.ylabel(\"log(L/L_solar)\")\n",
    "plt.title(\"log-Mass-logL of Cluster at 0.1Z_solar and 10**9.3 years age\")\n",
    "plt.legend()\n",
    "# Rough pattern seems to fit. What's that line?"
   ]
  },
  {
   "cell_type": "markdown",
   "metadata": {},
   "source": [
    "Now go back to the shape of the clusters' Color magnitude diagrams."
   ]
  },
  {
   "cell_type": "code",
   "execution_count": 46,
   "metadata": {},
   "outputs": [
    {
     "data": {
      "text/html": [
       "&lt;Column name=&apos;log_a&apos; dtype=&apos;float64&apos; length=2494&gt;\n",
       "<table>\n",
       "<tr><td>-3.3950275737017357</td></tr>\n",
       "<tr><td>-3.2127291526571415</td></tr>\n",
       "<tr><td>-3.1334632750583578</td></tr>\n",
       "<tr><td>-2.7935878501552294</td></tr>\n",
       "<tr><td>-2.6078365365788096</td></tr>\n",
       "<tr><td>-2.5411139413924526</td></tr>\n",
       "<tr><td>-2.4799218451679548</td></tr>\n",
       "<tr><td>-2.4089040666538493</td></tr>\n",
       "<tr><td>-2.3104177986421126</td></tr>\n",
       "<tr><td>-2.0972940563512674</td></tr>\n",
       "<tr><td>-2.030917631795982</td></tr>\n",
       "<tr><td>-1.964121655595223</td></tr>\n",
       "<tr><td>...</td></tr>\n",
       "<tr><td>nan</td></tr>\n",
       "<tr><td>nan</td></tr>\n",
       "<tr><td>nan</td></tr>\n",
       "<tr><td>nan</td></tr>\n",
       "<tr><td>nan</td></tr>\n",
       "<tr><td>nan</td></tr>\n",
       "<tr><td>nan</td></tr>\n",
       "<tr><td>nan</td></tr>\n",
       "<tr><td>nan</td></tr>\n",
       "<tr><td>nan</td></tr>\n",
       "<tr><td>nan</td></tr>\n",
       "<tr><td>nan</td></tr>\n",
       "</table>"
      ],
      "text/plain": [
       "<Column name='log_a' dtype='float64' length=2494>\n",
       "-3.3950275737017357\n",
       "-3.2127291526571415\n",
       "-3.1334632750583578\n",
       "-2.7935878501552294\n",
       "-2.6078365365788096\n",
       "-2.5411139413924526\n",
       "-2.4799218451679548\n",
       "-2.4089040666538493\n",
       "-2.3104177986421126\n",
       "-2.0972940563512674\n",
       " -2.030917631795982\n",
       " -1.964121655595223\n",
       "                ...\n",
       "                nan\n",
       "                nan\n",
       "                nan\n",
       "                nan\n",
       "                nan\n",
       "                nan\n",
       "                nan\n",
       "                nan\n",
       "                nan\n",
       "                nan\n",
       "                nan\n",
       "                nan"
      ]
     },
     "execution_count": 46,
     "metadata": {},
     "output_type": "execute_result"
    }
   ],
   "source": [
    "np.unique(clus_1.companions['log_a'])"
   ]
  },
  {
   "cell_type": "code",
   "execution_count": 47,
   "metadata": {},
   "outputs": [
    {
     "data": {
      "text/plain": [
       "<matplotlib.legend.Legend at 0x7fd3ec549390>"
      ]
     },
     "execution_count": 47,
     "metadata": {},
     "output_type": "execute_result"
    },
    {
     "data": {
      "image/png": "[encoded data removed]",
      "text/plain": [
       "<Figure size 432x288 with 1 Axes>"
      ]
     },
     "metadata": {
      "needs_background": "light"
     },
     "output_type": "display_data"
    }
   ],
   "source": [
    "# Taking a look at the Binary Cluster vs Default Settings cluster Observer's HR Diagram\n",
    "# Remember to use a distance modulus!\n",
    "import matplotlib.pyplot as plt\n",
    "plt.plot(clus_1.star_systems['m_ubv_B']-clus_1.star_systems[\"m_ubv_V\"], clus_1.star_systems[\"m_ubv_V\"]-5*np.log10(100), \"r.\",label=\"BPASS\", alpha =0.3)\n",
    "plt.plot(clus_2.star_systems['m_ubv_B']-clus_2.star_systems[\"m_ubv_V\"], clus_2.star_systems[\"m_ubv_V\"]-5*np.log10(100), \"b+\", label=\"MISTv.1\", alpha=0.1)\n",
    "plt.xlabel(\"B-V\")\n",
    "plt.ylabel(\"M_V\")\n",
    "plt.title(\"Color magnitude Diagram of clusters at 0.1Z_solar and 10**9.3 years age\")\n",
    "plt.gca().invert_yaxis()\n",
    "plt.legend()"
   ]
  },
  {
   "cell_type": "code",
   "execution_count": 48,
   "metadata": {},
   "outputs": [
    {
     "data": {
      "text/html": [
       "<i>Table length=0</i>\n",
       "<table id=\"table140548500396968\" class=\"table-striped table-bordered table-condensed\">\n",
       "<thead><tr><th>mass</th><th>systemMass</th><th>Teff</th><th>L</th><th>logg</th><th>isWR</th><th>mass_current</th><th>phase</th><th>metallicity</th><th>isMultiple</th><th>merged</th><th>m_ubv_U</th><th>m_ubv_V</th><th>m_ubv_B</th><th>m_ubv_R</th><th>m_ubv_I</th></tr></thead>\n",
       "<thead><tr><th>solMass</th><th></th><th>K</th><th>W</th><th></th><th></th><th>solMass</th><th></th><th></th><th></th><th></th><th></th><th></th><th></th><th></th><th></th></tr></thead>\n",
       "<thead><tr><th>float64</th><th>float64</th><th>float64</th><th>float64</th><th>float64</th><th>bool</th><th>float64</th><th>float64</th><th>float64</th><th>bool</th><th>bool</th><th>float64</th><th>float64</th><th>float64</th><th>float64</th><th>float64</th></tr></thead>\n",
       "</table>"
      ],
      "text/plain": [
       "<Table length=0>\n",
       "  mass  systemMass   Teff     L      logg  ... m_ubv_V m_ubv_B m_ubv_R m_ubv_I\n",
       "solMass               K       W            ...                                \n",
       "float64  float64   float64 float64 float64 ... float64 float64 float64 float64\n",
       "------- ---------- ------- ------- ------- ... ------- ------- ------- -------"
      ]
     },
     "execution_count": 48,
     "metadata": {},
     "output_type": "execute_result"
    }
   ],
   "source": [
    "clus_1.star_systems[np.where(clus_1.star_systems[\"m_ubv_V\"]==0)]"
   ]
  },
  {
   "cell_type": "code",
   "execution_count": 49,
   "metadata": {},
   "outputs": [
    {
     "data": {
      "text/plain": [
       "<matplotlib.legend.Legend at 0x7fd3ff723128>"
      ]
     },
     "execution_count": 49,
     "metadata": {},
     "output_type": "execute_result"
    },
    {
     "data": {
      "image/png": "[encoded data removed]",
      "text/plain": [
       "<Figure size 432x288 with 1 Axes>"
      ]
     },
     "metadata": {
      "needs_background": "light"
     },
     "output_type": "display_data"
    }
   ],
   "source": [
    "import matplotlib.pyplot as plt\n",
    "plt.plot(np.log10(clus_1.companions['Teff']), np.log10(clus_1.companions[\"L\"]), \"r.\",label=\"BPASS cluster\", alpha=0.5)\n",
    "plt.plot(np.log10(clus_2.companions['Teff']), np.log10(clus_2.companions[\"L\"]), \"b+\", alpha=0.15)\n",
    "plt.plot(np.log10(clus_1.star_systems['Teff']), np.log10(clus_1.star_systems[\"L\"]), \"r.\", alpha=0.5)\n",
    "plt.plot(np.log10(clus_2.star_systems['Teff']), np.log10(clus_2.star_systems[\"L\"]), \"b+\", label=\"MISTv.1 cluster\", alpha=0.15)\n",
    "plt.xlabel(\"log(T in kelvin)\")\n",
    "plt.ylabel(\"log(L in watts)\")\n",
    "plt.title(\"HR Diagram of clusters at 0.1Z_solar and 10**9.3 years age\")\n",
    "plt.gca().invert_xaxis()\n",
    "plt.legend()"
   ]
  },
  {
   "cell_type": "markdown",
   "metadata": {},
   "source": [
    "If I look at the HR Diagram, I do see deviation with respects to the Parsec line for some of the brighter stars, but I see an overall good trend with the main-sequence turnoff. Also, I see the compact remnants where they should be given my setup."
   ]
  },
  {
   "cell_type": "markdown",
   "metadata": {},
   "source": [
    "Looking at which stars are the white dwarves?"
   ]
  },
  {
   "cell_type": "code",
   "execution_count": 50,
   "metadata": {},
   "outputs": [
    {
     "data": {
      "text/plain": [
       "array([    0,     4,     6, ..., 30655, 30660, 30662])"
      ]
     },
     "execution_count": 50,
     "metadata": {},
     "output_type": "execute_result"
    }
   ],
   "source": [
    "import numpy as np\n",
    "np.where(clus_1.star_systems['phase']==101.0)[0]"
   ]
  },
  {
   "cell_type": "markdown",
   "metadata": {},
   "source": [
    "Do I see any black holes?"
   ]
  },
  {
   "cell_type": "code",
   "execution_count": 51,
   "metadata": {},
   "outputs": [
    {
     "data": {
      "text/plain": [
       "array([], dtype=int64)"
      ]
     },
     "execution_count": 51,
     "metadata": {},
     "output_type": "execute_result"
    }
   ],
   "source": [
    "np.where(clus_1.star_systems['phase']==103.0)[0]"
   ]
  },
  {
   "cell_type": "markdown",
   "metadata": {},
   "source": [
    "Neutron Stars?"
   ]
  },
  {
   "cell_type": "code",
   "execution_count": 52,
   "metadata": {},
   "outputs": [
    {
     "data": {
      "text/plain": [
       "array([], dtype=int64)"
      ]
     },
     "execution_count": 52,
     "metadata": {},
     "output_type": "execute_result"
    }
   ],
   "source": [
    "np.where(clus_1.star_systems['phase']==102.0)[0]"
   ]
  },
  {
   "cell_type": "markdown",
   "metadata": {},
   "source": [
    "Find the total mass of the cluster (initial)"
   ]
  },
  {
   "cell_type": "code",
   "execution_count": 53,
   "metadata": {},
   "outputs": [
    {
     "data": {
      "text/plain": [
       "31368.810195135364"
      ]
     },
     "execution_count": 53,
     "metadata": {},
     "output_type": "execute_result"
    }
   ],
   "source": [
    "clus_1.star_systems['systemMass'].sum()"
   ]
  }
 ],
 "metadata": {
  "kernelspec": {
   "display_name": "astroconda",
   "language": "python",
   "name": "astroconda"
  },
  "language_info": {
   "codemirror_mode": {
    "name": "ipython",
    "version": 3
   },
   "file_extension": ".py",
   "mimetype": "text/x-python",
   "name": "python",
   "nbconvert_exporter": "python",
   "pygments_lexer": "ipython3",
   "version": "3.7.3"
  }
 },
 "nbformat": 4,
 "nbformat_minor": 2
}
