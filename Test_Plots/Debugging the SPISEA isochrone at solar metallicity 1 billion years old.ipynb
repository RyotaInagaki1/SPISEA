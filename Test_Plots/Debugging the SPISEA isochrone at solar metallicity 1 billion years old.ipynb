{
 "cells": [
  {
   "cell_type": "markdown",
   "metadata": {},
   "source": [
    "## Testing and Debugging the BPASS isochrone at 10^9 years age.\n",
    "In this BPASS isochrone and cluster plot, I go over the BPASS isochrone for 1 billion years age, solar metallicity, AKs=0.0, and distance of 1000 parsecs from Earth. From the isochrone and cluster, we discuss several plots such as the log_g frequency distribution of the isochrone, the color magnitude diagram (B-V vs M_V), and the current-mass luminosity relationship of the cluster."
   ]
  },
  {
   "cell_type": "markdown",
   "metadata": {},
   "source": [
    "For a sanity check, we can see that the primaries, secondaries, and single stars have phasees of 5 or of 101 or 110 (for the case of compact remnant primary from secondary star models). This is since we haven't identified neutron stars or black holes yet. Stars with phase of -99 exist, and those are the secondary stars that have already merged."
   ]
  },
  {
   "cell_type": "markdown",
   "metadata": {},
   "source": [
    "## This is for tutorial as well as debugging and demonstration purposes."
   ]
  },
  {
   "cell_type": "code",
   "execution_count": 1,
   "metadata": {},
   "outputs": [
    {
     "name": "stderr",
     "output_type": "stream",
     "text": [
      "/opt/anaconda3/envs/astroconda/lib/python3.7/site-packages/pysynphot/locations.py:346: UserWarning: Extinction files not found in /g/lu/models/cdbs/extinction\n",
      "  warnings.warn('Extinction files not found in %s' % (extdir, ))\n",
      "/opt/anaconda3/envs/astroconda/lib/python3.7/site-packages/pysynphot/refs.py:125: UserWarning: No thermal tables found, no thermal calculations can be performed. No files found for /g/lu/models/cdbs/mtab/*_tmt.fits\n",
      "  'no thermal calculations can be performed. ' + str(e))\n",
      "/opt/anaconda3/envs/astroconda/lib/python3.7/site-packages/astropy/units/quantity.py:477: RuntimeWarning: invalid value encountered in true_divide\n",
      "  result = super().__array_ufunc__(function, method, *arrays, **kwargs)\n",
      "/u/ryotainagaki/Desktop/PyPopStar/spisea/evolution.py:1771: RuntimeWarning: overflow encountered in power\n",
      "  (1 / cs.au) * un.m)\n",
      "/opt/anaconda3/envs/astroconda/lib/python3.7/site-packages/astropy/table/column.py:1020: RuntimeWarning: invalid value encountered in greater\n",
      "  result = getattr(super(), op)(other)\n",
      "/opt/anaconda3/envs/astroconda/lib/python3.7/site-packages/astropy/table/column.py:1020: RuntimeWarning: invalid value encountered in less_equal\n",
      "  result = getattr(super(), op)(other)\n",
      "/opt/anaconda3/envs/astroconda/lib/python3.7/site-packages/astropy/units/quantity.py:477: RuntimeWarning: divide by zero encountered in true_divide\n",
      "  result = super().__array_ufunc__(function, method, *arrays, **kwargs)\n"
     ]
    },
    {
     "name": "stdout",
     "output_type": "stream",
     "text": [
      "Changing to logg=5.00 for T= 25973 logg=5.55\n",
      "Changing to logg=5.00 for T= 24444 logg=5.91\n",
      "Changing to logg=5.00 for T= 22646 logg=5.73\n",
      "Changing to logg=5.00 for T= 23286 logg=5.78\n",
      "Changing to logg=5.00 for T= 21304 logg=5.48\n",
      "Changing to logg=5.00 for T= 21139 logg=5.58\n",
      "Changing to logg=5.00 for T= 19593 logg=6.97\n",
      "Changing to logg=5.00 for T= 24403 logg=5.91\n",
      "Changing to logg=5.00 for T= 22891 logg=5.32\n",
      "Changing to logg=5.00 for T= 27359 logg=5.67\n",
      "Changing to logg=5.00 for T= 24009 logg=5.86\n",
      "Changing to logg=5.00 for T= 25914 logg=5.89\n",
      "Changing to logg=5.00 for T= 22008 logg=7.09\n",
      "Changing to logg=5.00 for T= 21142 logg=5.20\n",
      "Changing to logg=5.00 for T= 27134 logg=5.64\n",
      "Changing to logg=5.00 for T= 24403 logg=5.88\n",
      "Changing to logg=5.00 for T= 27193 logg=5.64\n",
      "Changing to logg=5.00 for T= 22961 logg=5.92\n",
      "Changing to logg=5.00 for T= 26959 logg=5.63\n",
      "Changing to logg=5.00 for T= 16799 logg=5.12\n",
      "Changing to logg=5.00 for T= 24306 logg=5.43\n",
      "Changing to logg=5.00 for T= 26427 logg=5.72\n",
      "Changing to logg=5.00 for T= 26196 logg=5.70\n",
      "Changing to logg=5.00 for T= 25707 logg=5.88\n",
      "Changing to logg=5.00 for T= 24008 logg=6.91\n",
      "Changing to logg=5.00 for T= 24452 logg=5.99\n",
      "Changing to logg=5.00 for T= 25618 logg=5.53\n",
      "Changing to logg=5.00 for T= 26907 logg=5.63\n",
      "Changing to logg=5.00 for T= 18636 logg=5.32\n",
      "Changing to logg=5.00 for T= 26930 logg=5.65\n",
      "Changing to logg=5.00 for T= 27188 logg=5.67\n",
      "Changing to logg=5.00 for T= 26100 logg=5.77\n",
      "Changing to logg=5.00 for T= 20983 logg=5.17\n",
      "Changing to logg=5.00 for T= 21888 logg=5.45\n",
      "Changing to logg=5.00 for T= 24186 logg=5.42\n",
      "Changing to logg=5.00 for T= 26757 logg=5.79\n",
      "Changing to logg=5.00 for T= 21570 logg=5.64\n",
      "Changing to logg=5.00 for T= 23096 logg=5.56\n",
      "Changing to logg=5.00 for T= 25848 logg=5.79\n",
      "Changing to logg=5.00 for T= 26095 logg=5.78\n",
      "Changing to logg=5.00 for T= 25999 logg=5.76\n",
      "Changing to logg=5.00 for T= 23984 logg=6.88\n",
      "Changing to logg=5.00 for T= 17042 logg=5.14\n",
      "Changing to logg=5.00 for T= 17875 logg=5.24\n",
      "Changing to logg=5.00 for T= 26020 logg=5.81\n",
      "Changing to logg=5.00 for T= 22135 logg=6.94\n",
      "Changing to logg=5.00 for T= 26119 logg=5.75\n",
      "Changing to logg=5.00 for T= 22179 logg=5.92\n",
      "Changing to logg=5.00 for T= 23501 logg=5.37\n",
      "Changing to logg=5.00 for T= 24739 logg=6.19\n",
      "Changing to logg=5.00 for T= 24377 logg=5.87\n",
      "Changing to logg=5.00 for T= 22245 logg=6.65\n",
      "Changing to logg=5.00 for T= 19749 logg=5.03\n",
      "Changing to logg=5.00 for T= 17733 logg=5.24\n",
      "Changing to logg=5.00 for T= 25863 logg=5.74\n",
      "Changing to logg=5.00 for T= 22114 logg=5.26\n",
      "Changing to logg=5.00 for T= 24124 logg=5.48\n",
      "Changing to logg=5.00 for T= 24820 logg=6.17\n",
      "Changing to logg=5.00 for T= 26204 logg=5.71\n",
      "Changing to logg=5.00 for T= 23626 logg=5.99\n",
      "Changing to logg=5.00 for T= 22982 logg=5.76\n",
      "Changing to logg=5.00 for T= 21104 logg=5.60\n",
      "Changing to logg=5.00 for T= 25509 logg=5.94\n",
      "Changing to logg=5.00 for T= 23774 logg=6.99\n",
      "Changing to logg=5.00 for T= 22084 logg=5.78\n",
      "Changing to logg=5.00 for T= 26146 logg=5.79\n",
      "Changing to logg=5.00 for T= 26316 logg=5.57\n",
      "Changing to logg=5.00 for T= 21333 logg=5.59\n",
      "Changing to logg=5.00 for T= 20198 logg=5.51\n",
      "Changing to logg=5.00 for T= 27240 logg=5.65\n",
      "Changing to logg=5.00 for T= 20689 logg=5.14\n",
      "Changing to logg=5.00 for T= 23264 logg=5.77\n",
      "Changing to logg=5.00 for T= 26317 logg=5.76\n",
      "Changing to logg=5.00 for T= 24518 logg=6.01\n",
      "Changing to logg=5.00 for T= 26494 logg=5.69\n",
      "Changing to logg=5.00 for T= 26134 logg=5.73\n",
      "Changing to logg=5.00 for T= 26114 logg=5.72\n",
      "Changing to logg=5.00 for T= 25553 logg=5.87\n",
      "Changing to logg=5.00 for T= 25963 logg=5.80\n",
      "Changing to logg=5.00 for T= 24305 logg=6.01\n",
      "Changing to logg=5.00 for T= 18719 logg=5.30\n",
      "Changing to logg=5.00 for T= 24495 logg=5.62\n",
      "Changing to logg=5.00 for T= 22026 logg=5.69\n",
      "Changing to logg=5.00 for T= 26320 logg=5.77\n",
      "Changing to logg=5.00 for T= 29244 logg=6.00\n",
      "Changing to logg=5.00 for T= 26135 logg=5.76\n",
      "Changing to T=  1200 for T=   923 logg=4.44\n",
      "Changing to logg=5.00 for T= 24506 logg=6.13\n",
      "Changing to T=  1200 for T=   692 logg=4.44\n",
      "Changing to T=  1200 for T=   692 logg=4.44\n",
      "Changing to logg=5.00 for T= 25992 logg=5.85\n",
      "Changing to logg=5.00 for T=  1962 logg=4.44\n",
      "Changing to logg=5.00 for T= 30361 logg=6.02\n",
      "Changing to T=  1200 for T=   692 logg=4.44\n",
      "Changing to logg=5.00 for T= 24627 logg=5.97\n",
      "Changing to T=  1200 for T=   692 logg=4.44\n",
      "Changing to logg=5.00 for T=  1847 logg=4.44\n",
      "Changing to T=  1200 for T=   923 logg=4.44\n",
      "Changing to logg=5.00 for T=  1962 logg=4.44\n",
      "Changing to T=  1200 for T=   923 logg=4.44\n",
      "Changing to logg=5.00 for T= 24594 logg=5.95\n",
      "Changing to logg=5.00 for T=  1962 logg=4.44\n",
      "Changing to logg=5.00 for T= 28839 logg=6.72\n",
      "Changing to logg=5.00 for T= 26038 logg=5.84\n",
      "Changing to logg=5.00 for T= 24654 logg=6.03\n",
      "Changing to logg=5.00 for T=  1962 logg=4.44\n",
      "Changing to T=  1200 for T=   923 logg=4.44\n",
      "Changing to logg=5.00 for T= 29125 logg=6.06\n",
      "Changing to logg=5.00 for T=  1962 logg=4.44\n",
      "Changing to logg=5.00 for T= 24461 logg=6.17\n",
      "Changing to logg=5.00 for T= 25623 logg=5.76\n",
      "Changing to T=  1200 for T=   923 logg=4.44\n",
      "Changing to logg=5.00 for T= 24295 logg=6.20\n",
      "Changing to logg=5.00 for T= 26020 logg=5.84\n",
      "Changing to T=  1200 for T=   692 logg=4.44\n",
      "Changing to logg=5.00 for T=  1962 logg=4.44\n",
      "Changing to T=  1200 for T=   692 logg=4.44\n",
      "Changing to T=  1200 for T=   692 logg=4.44\n",
      "Changing to logg=5.00 for T= 26391 logg=5.76\n",
      "Changing to logg=5.00 for T= 22862 logg=5.98\n",
      "Changing to logg=5.00 for T=  1962 logg=4.44\n",
      "Changing to logg=5.00 for T=  1962 logg=4.44\n",
      "Changing to logg=5.00 for T= 26075 logg=5.81\n",
      "Changing to logg=5.00 for T=  1847 logg=4.44\n",
      "Changing to logg=5.00 for T= 11038 logg=6.59\n",
      "Changing to T=  1200 for T=   692 logg=4.44\n",
      "Changing to logg=5.00 for T= 24579 logg=6.15\n",
      "Changing to logg=5.00 for T= 22688 logg=6.77\n",
      "Changing to logg=5.00 for T= 26656 logg=5.74\n",
      "Changing to T=  1200 for T=   923 logg=4.44\n",
      "Changing to logg=5.00 for T=  1962 logg=4.44\n",
      "Changing to T=  1200 for T=   923 logg=4.44\n",
      "Changing to logg=5.00 for T=  1962 logg=4.44\n",
      "Changing to logg=5.00 for T=  1847 logg=4.44\n",
      "Changing to T=  1200 for T=   923 logg=4.44\n",
      "Changing to logg=5.00 for T= 29728 logg=5.89\n",
      "Changing to logg=5.00 for T= 24681 logg=6.05\n",
      "Changing to T=  1200 for T=   692 logg=4.44\n",
      "Changing to logg=5.00 for T=  1962 logg=4.44\n",
      "Changing to logg=5.00 for T= 24672 logg=5.99\n",
      "Changing to logg=5.00 for T= 26550 logg=5.70\n",
      "Changing to logg=5.00 for T= 24714 logg=6.06\n",
      "Changing to logg=5.00 for T= 17990 logg=5.24\n",
      "Changing to logg=5.00 for T= 26312 logg=5.74\n",
      "Changing to logg=5.00 for T= 25932 logg=5.62\n",
      "Changing to logg=5.00 for T= 24566 logg=5.87\n",
      "Changing to logg=5.00 for T= 25547 logg=5.96\n",
      "Changing to logg=5.00 for T=  1847 logg=4.44\n",
      "Changing to logg=5.00 for T= 24694 logg=6.05\n",
      "Changing to logg=5.00 for T=  1847 logg=4.44\n",
      "Changing to T=  1200 for T=   692 logg=4.44\n",
      "Changing to T=  1200 for T=   692 logg=4.44\n",
      "Changing to logg=5.00 for T= 25633 logg=5.92\n",
      "Changing to logg=5.00 for T=  1847 logg=4.44\n",
      "Changing to logg=5.00 for T=  1847 logg=4.44\n",
      "Changing to logg=5.00 for T=  1847 logg=4.44\n",
      "Changing to logg=5.00 for T=  1962 logg=4.44\n",
      "Changing to logg=5.00 for T= 26092 logg=5.77\n",
      "Changing to logg=5.00 for T=  1962 logg=4.44\n",
      "Changing to logg=5.00 for T= 26527 logg=5.71\n",
      "Changing to T=  1200 for T=   692 logg=4.44\n",
      "Changing to T=  1200 for T=   923 logg=4.44\n",
      "Changing to T=  1200 for T=   692 logg=4.44\n",
      "Changing to logg=5.00 for T= 25435 logg=5.98\n",
      "Changing to T=  1200 for T=   692 logg=4.44\n",
      "Changing to logg=5.00 for T=  1962 logg=4.44\n",
      "Changing to logg=5.00 for T= 23157 logg=5.88\n",
      "Changing to logg=5.00 for T=  1847 logg=4.44\n",
      "Changing to logg=5.00 for T=  1962 logg=4.44\n",
      "Changing to logg=5.00 for T= 25926 logg=5.86\n",
      "Changing to logg=5.00 for T= 26425 logg=5.75\n",
      "Changing to logg=5.00 for T= 23769 logg=5.39\n",
      "Changing to T=  1200 for T=   692 logg=4.44\n",
      "Changing to T=  1200 for T=   692 logg=4.44\n",
      "Changing to logg=5.00 for T= 29449 logg=5.81\n",
      "Changing to logg=5.00 for T=  1962 logg=4.44\n",
      "Making photometry for isochrone: log(t) = 9.00  AKs = 0.00  dist = 100\n",
      "     Starting at:  2020-12-21 22:32:05.621866   Usually takes ~5 minutes\n",
      "Starting filter: ubv,U   Elapsed time: 0.00 seconds\n",
      "Starting synthetic photometry\n",
      "Singles\n",
      "M =   1.660 Msun  T =  7141 K  m_ubv_U = 7.65\n",
      "M =   1.900 Msun  T =  7389 K  m_ubv_U = 6.85\n",
      "Primaries\n",
      "M =   2.300 Msun  T =  4908 K  m_ubv_U = 6.99\n"
     ]
    },
    {
     "name": "stdout",
     "output_type": "stream",
     "text": [
      "M =   3.500 Msun  T = 11671 K  m_ubv_U = 16.72\n",
      "M =   1.900 Msun  T =  7140 K  m_ubv_U = 6.89\n",
      "M =   3.700 Msun  T = 12543 K  m_ubv_U = 16.92\n",
      "M =   1.400 Msun  T =   nan K  m_ubv_U =  nan\n",
      "M =   1.800 Msun  T =  7355 K  m_ubv_U = 7.20\n",
      "M =   1.500 Msun  T =  6759 K  m_ubv_U = 8.22\n",
      "M =   3.000 Msun  T = 11485 K  m_ubv_U = 16.54\n",
      "M =   1.400 Msun  T =   nan K  m_ubv_U =  nan\n",
      "M =   4.500 Msun  T = 10530 K  m_ubv_U = 17.21\n",
      "M =   0.631 Msun  T =   nan K  m_ubv_U =  nan\n",
      "M =   1.700 Msun  T =  7242 K  m_ubv_U = 7.53\n",
      "M =   1.400 Msun  T =   nan K  m_ubv_U =  nan\n",
      "M =   1.259 Msun  T =   nan K  m_ubv_U =  nan\n",
      "M =   3.700 Msun  T = 11115 K  m_ubv_U = 16.95\n",
      "M =   3.000 Msun  T = 11453 K  m_ubv_U = 16.54\n",
      "M =   1.259 Msun  T =   nan K  m_ubv_U =  nan\n",
      "M =   2.300 Msun  T =  4908 K  m_ubv_U = 6.99\n",
      "M =   3.500 Msun  T = 11671 K  m_ubv_U = 16.72\n",
      "M =   1.259 Msun  T =   nan K  m_ubv_U =  nan\n",
      "M =   2.500 Msun  T = 16006 K  m_ubv_U = 15.53\n",
      "M =   0.794 Msun  T =   nan K  m_ubv_U =  nan\n",
      "M =   1.000 Msun  T =   nan K  m_ubv_U =  nan\n",
      "M =   7.000 Msun  T = 11183 K  m_ubv_U = 17.16\n",
      "M =   2.000 Msun  T =  7250 K  m_ubv_U = 6.58\n",
      "M =   1.700 Msun  T = 11223 K  m_ubv_U = 16.55\n",
      "M =   1.000 Msun  T =   nan K  m_ubv_U =  nan\n",
      "M =   2.700 Msun  T = 12837 K  m_ubv_U = 17.16\n",
      "M =   1.400 Msun  T =   nan K  m_ubv_U =  nan\n",
      "M =   1.400 Msun  T =   nan K  m_ubv_U =  nan\n",
      "M =   3.500 Msun  T = 11671 K  m_ubv_U = 16.72\n",
      "M =   2.000 Msun  T =  7210 K  m_ubv_U = 6.60\n",
      "M =   1.800 Msun  T =  7355 K  m_ubv_U = 7.20\n",
      "M =   0.631 Msun  T =   nan K  m_ubv_U =  nan\n",
      "M =   4.500 Msun  T = 11862 K  m_ubv_U = 16.92\n",
      "M =   1.900 Msun  T =  7140 K  m_ubv_U = 6.89\n",
      "M =   1.900 Msun  T = 12828 K  m_ubv_U = 16.17\n",
      "M =   3.000 Msun  T = 11485 K  m_ubv_U = 16.54\n",
      "M =   1.700 Msun  T =  7242 K  m_ubv_U = 7.53\n",
      "M =   1.600 Msun  T =  7037 K  m_ubv_U = 7.86\n",
      "M =   1.600 Msun  T =  7037 K  m_ubv_U = 7.86\n",
      "M =   2.300 Msun  T =  4908 K  m_ubv_U = 6.99\n",
      "M =   1.400 Msun  T =   nan K  m_ubv_U =  nan\n",
      "M =   1.400 Msun  T =   nan K  m_ubv_U =  nan\n",
      "Secondaries\n",
      "M =   2.070 Msun  T =  6895 K  m_ubv_U = 6.40\n",
      "M =   1.750 Msun  T =  8135 K  m_ubv_U = 7.46\n",
      "M =   1.710 Msun  T =  7580 K  m_ubv_U = 7.40\n",
      "M =   0.740 Msun  T =   nan K  m_ubv_U =  nan\n",
      "M =   3.000 Msun  T = 11498 K  m_ubv_U = 16.53\n",
      "M =   1.260 Msun  T =  6351 K  m_ubv_U = 9.28\n",
      "M =   1.050 Msun  T =  5796 K  m_ubv_U = 10.63\n",
      "M =   2.700 Msun  T =  8181 K  m_ubv_U = 4.98\n",
      "M =   7.000 Msun  T =  7921 K  m_ubv_U = 10.66\n",
      "M =   3.600 Msun  T = 10617 K  m_ubv_U = 3.31\n",
      "M =   3.500 Msun  T = 11388 K  m_ubv_U = 16.73\n",
      "M =   0.340 Msun  T =  1962 K  m_ubv_U = 27.83\n",
      "M =   5.500 Msun  T = 11992 K  m_ubv_U = 17.15\n",
      "M =   2.700 Msun  T = 12885 K  m_ubv_U = 16.17\n",
      "M =   2.220 Msun  T =  9856 K  m_ubv_U = 6.29\n",
      "M =   1.500 Msun  T =  7052 K  m_ubv_U = 8.27\n",
      "M =   4.500 Msun  T = 11685 K  m_ubv_U = 16.92\n",
      "M =   1.380 Msun  T =  6685 K  m_ubv_U = 8.68\n",
      "M =   2.450 Msun  T = 10412 K  m_ubv_U = 5.77\n",
      "M =   3.700 Msun  T = 10955 K  m_ubv_U = 16.95\n",
      "M =   1.750 Msun  T =  7918 K  m_ubv_U = 7.31\n",
      "M =   2.000 Msun  T =  7017 K  m_ubv_U = 6.62\n",
      "M =   5.000 Msun  T = 12009 K  m_ubv_U = 17.02\n",
      "M =   3.500 Msun  T =  9212 K  m_ubv_U = 3.42\n",
      "M =   1.600 Msun  T =  7397 K  m_ubv_U = 7.79\n",
      "M =   1.190 Msun  T =   nan K  m_ubv_U =  nan\n",
      "M =   3.000 Msun  T = 11498 K  m_ubv_U = 16.53\n",
      "M =   1.620 Msun  T =   nan K  m_ubv_U =  nan\n",
      "M =   3.500 Msun  T = 11705 K  m_ubv_U = 16.72\n",
      "M =   2.000 Msun  T =  7152 K  m_ubv_U = 6.61\n",
      "M =   2.450 Msun  T = 10416 K  m_ubv_U = 5.77\n",
      "M =   0.200 Msun  T =  3299 K  m_ubv_U = 19.84\n",
      "M =   0.900 Msun  T =  5193 K  m_ubv_U = 11.80\n",
      "M =   5.000 Msun  T = 10666 K  m_ubv_U = 17.19\n",
      "M =   2.250 Msun  T =  9999 K  m_ubv_U = 6.31\n",
      "M =   1.710 Msun  T =  7580 K  m_ubv_U = 7.40\n",
      "M =   0.760 Msun  T =   nan K  m_ubv_U =  nan\n",
      "M =   1.800 Msun  T =  8304 K  m_ubv_U = 7.26\n",
      "M =   0.850 Msun  T =  4905 K  m_ubv_U = 12.56\n",
      "M =   0.480 Msun  T =  2770 K  m_ubv_U = 19.97\n",
      "M =   0.320 Msun  T =  1847 K  m_ubv_U = 28.04\n",
      "M =   0.460 Msun  T =  2654 K  m_ubv_U = 20.73\n",
      "M =   2.500 Msun  T = 15710 K  m_ubv_U = 7.30\n",
      "M =   1.200 Msun  T =  6155 K  m_ubv_U = 9.63\n",
      "Starting filter: ubv,V   Elapsed time: 17.19 seconds\n",
      "Starting synthetic photometry\n",
      "Singles\n",
      "M =   1.660 Msun  T =  7141 K  m_ubv_V = 7.32\n",
      "M =   1.900 Msun  T =  7389 K  m_ubv_V = 6.52\n",
      "Primaries\n",
      "M =   2.300 Msun  T =  4908 K  m_ubv_V = 5.25\n",
      "M =   3.500 Msun  T = 11671 K  m_ubv_V = 17.12\n",
      "M =   1.900 Msun  T =  7140 K  m_ubv_V = 6.54\n",
      "M =   3.700 Msun  T = 12543 K  m_ubv_V = 17.40\n",
      "M =   1.400 Msun  T =   nan K  m_ubv_V =  nan\n",
      "M =   1.800 Msun  T =  7355 K  m_ubv_V = 6.88\n",
      "M =   1.500 Msun  T =  6759 K  m_ubv_V = 7.84\n",
      "M =   3.000 Msun  T = 11485 K  m_ubv_V = 16.91\n",
      "M =   1.400 Msun  T =   nan K  m_ubv_V =  nan\n",
      "M =   4.500 Msun  T = 10530 K  m_ubv_V = 17.60\n",
      "M =   0.631 Msun  T =   nan K  m_ubv_V =  nan\n",
      "M =   1.700 Msun  T =  7242 K  m_ubv_V = 7.21\n",
      "M =   1.400 Msun  T =   nan K  m_ubv_V =  nan\n",
      "M =   1.259 Msun  T =   nan K  m_ubv_V =  nan\n",
      "M =   3.700 Msun  T = 11115 K  m_ubv_V = 17.34\n",
      "M =   3.000 Msun  T = 11453 K  m_ubv_V = 16.91\n",
      "M =   1.259 Msun  T =   nan K  m_ubv_V =  nan\n",
      "M =   2.300 Msun  T =  4908 K  m_ubv_V = 5.25\n",
      "M =   3.500 Msun  T = 11671 K  m_ubv_V = 17.12\n",
      "M =   1.259 Msun  T =   nan K  m_ubv_V =  nan\n",
      "M =   2.500 Msun  T = 16006 K  m_ubv_V = 16.14\n",
      "M =   0.794 Msun  T =   nan K  m_ubv_V =  nan\n",
      "M =   1.000 Msun  T =   nan K  m_ubv_V =  nan\n",
      "M =   7.000 Msun  T = 11183 K  m_ubv_V = 17.58\n",
      "M =   2.000 Msun  T =  7250 K  m_ubv_V = 6.23\n",
      "M =   1.700 Msun  T = 11223 K  m_ubv_V = 16.91\n",
      "M =   1.000 Msun  T =   nan K  m_ubv_V =  nan\n",
      "M =   2.700 Msun  T = 12837 K  m_ubv_V = 17.68\n",
      "M =   1.400 Msun  T =   nan K  m_ubv_V =  nan\n",
      "M =   1.400 Msun  T =   nan K  m_ubv_V =  nan\n",
      "M =   3.500 Msun  T = 11671 K  m_ubv_V = 17.12\n",
      "M =   2.000 Msun  T =  7210 K  m_ubv_V = 6.25\n",
      "M =   1.800 Msun  T =  7355 K  m_ubv_V = 6.88\n",
      "M =   0.631 Msun  T =   nan K  m_ubv_V =  nan\n",
      "M =   4.500 Msun  T = 11862 K  m_ubv_V = 17.36\n",
      "M =   1.900 Msun  T =  7140 K  m_ubv_V = 6.54\n",
      "M =   1.900 Msun  T = 12828 K  m_ubv_V = 16.58\n",
      "M =   3.000 Msun  T = 11485 K  m_ubv_V = 16.91\n",
      "M =   1.700 Msun  T =  7242 K  m_ubv_V = 7.21\n",
      "M =   1.600 Msun  T =  7037 K  m_ubv_V = 7.53\n",
      "M =   1.600 Msun  T =  7037 K  m_ubv_V = 7.53\n",
      "M =   2.300 Msun  T =  4908 K  m_ubv_V = 5.25\n",
      "M =   1.400 Msun  T =   nan K  m_ubv_V =  nan\n",
      "M =   1.400 Msun  T =   nan K  m_ubv_V =  nan\n",
      "Secondaries\n",
      "M =   2.070 Msun  T =  6895 K  m_ubv_V = 6.00\n",
      "M =   1.750 Msun  T =  8135 K  m_ubv_V = 7.23\n",
      "M =   1.710 Msun  T =  7580 K  m_ubv_V = 7.11\n",
      "M =   0.740 Msun  T =   nan K  m_ubv_V =  nan\n",
      "M =   3.000 Msun  T = 11498 K  m_ubv_V = 16.91\n",
      "M =   1.260 Msun  T =  6351 K  m_ubv_V = 8.81\n",
      "M =   1.050 Msun  T =  5796 K  m_ubv_V = 9.86\n",
      "M =   2.700 Msun  T =  8181 K  m_ubv_V = 4.73\n",
      "M =   7.000 Msun  T =  7921 K  m_ubv_V = 10.44\n",
      "M =   3.600 Msun  T = 10617 K  m_ubv_V = 3.56\n",
      "M =   3.500 Msun  T = 11388 K  m_ubv_V = 17.12\n",
      "M =   0.340 Msun  T =  1962 K  m_ubv_V = 22.93\n",
      "M =   5.500 Msun  T = 11992 K  m_ubv_V = 17.61\n",
      "M =   2.700 Msun  T = 12885 K  m_ubv_V = 16.58\n",
      "M =   2.220 Msun  T =  9856 K  m_ubv_V = 6.34\n",
      "M =   1.500 Msun  T =  7052 K  m_ubv_V = 7.95\n",
      "M =   4.500 Msun  T = 11685 K  m_ubv_V = 17.35\n",
      "M =   1.380 Msun  T =  6685 K  m_ubv_V = 8.30\n",
      "M =   2.450 Msun  T = 10412 K  m_ubv_V = 5.92\n",
      "M =   3.700 Msun  T = 10955 K  m_ubv_V = 17.34\n",
      "M =   1.750 Msun  T =  7918 K  m_ubv_V = 7.06\n",
      "M =   2.000 Msun  T =  7017 K  m_ubv_V = 6.24\n",
      "M =   5.000 Msun  T = 12009 K  m_ubv_V = 17.48\n",
      "M =   3.500 Msun  T =  9212 K  m_ubv_V = 3.40\n",
      "M =   1.600 Msun  T =  7397 K  m_ubv_V = 7.49\n",
      "M =   1.190 Msun  T =   nan K  m_ubv_V =  nan\n",
      "M =   3.000 Msun  T = 11498 K  m_ubv_V = 16.91\n",
      "M =   1.620 Msun  T =   nan K  m_ubv_V =  nan\n",
      "M =   3.500 Msun  T = 11705 K  m_ubv_V = 17.12\n",
      "M =   2.000 Msun  T =  7152 K  m_ubv_V = 6.25\n",
      "M =   2.450 Msun  T = 10416 K  m_ubv_V = 5.92\n",
      "M =   0.200 Msun  T =  3299 K  m_ubv_V = 17.38\n",
      "M =   0.900 Msun  T =  5193 K  m_ubv_V = 10.53\n",
      "M =   5.000 Msun  T = 10666 K  m_ubv_V = 17.57\n",
      "M =   2.250 Msun  T =  9999 K  m_ubv_V = 6.38\n",
      "M =   1.710 Msun  T =  7580 K  m_ubv_V = 7.11\n",
      "M =   0.760 Msun  T =   nan K  m_ubv_V =  nan\n",
      "M =   1.800 Msun  T =  8304 K  m_ubv_V = 7.05\n",
      "M =   0.850 Msun  T =  4905 K  m_ubv_V = 10.96\n",
      "M =   0.480 Msun  T =  2770 K  m_ubv_V = 17.83\n",
      "M =   0.320 Msun  T =  1847 K  m_ubv_V = 23.30\n",
      "M =   0.460 Msun  T =  2654 K  m_ubv_V = 18.47\n"
     ]
    },
    {
     "name": "stdout",
     "output_type": "stream",
     "text": [
      "M =   2.500 Msun  T = 15710 K  m_ubv_V = 8.02\n",
      "M =   1.200 Msun  T =  6155 K  m_ubv_V = 9.07\n",
      "Starting filter: ubv,B   Elapsed time: 34.20 seconds\n",
      "Starting synthetic photometry\n",
      "Singles\n",
      "M =   1.660 Msun  T =  7141 K  m_ubv_B = 7.66\n",
      "M =   1.900 Msun  T =  7389 K  m_ubv_B = 6.81\n",
      "Primaries\n",
      "M =   2.300 Msun  T =  4908 K  m_ubv_B = 6.28\n",
      "M =   3.500 Msun  T = 11671 K  m_ubv_B = 17.31\n",
      "M =   1.900 Msun  T =  7140 K  m_ubv_B = 6.87\n",
      "M =   3.700 Msun  T = 12543 K  m_ubv_B = 17.57\n",
      "M =   1.400 Msun  T =   nan K  m_ubv_B =  nan\n",
      "M =   1.800 Msun  T =  7355 K  m_ubv_B = 7.18\n",
      "M =   1.500 Msun  T =  6759 K  m_ubv_B = 8.26\n",
      "M =   3.000 Msun  T = 11485 K  m_ubv_B = 17.09\n",
      "M =   1.400 Msun  T =   nan K  m_ubv_B =  nan\n",
      "M =   4.500 Msun  T = 10530 K  m_ubv_B = 17.81\n",
      "M =   0.631 Msun  T =   nan K  m_ubv_B =  nan\n",
      "M =   1.700 Msun  T =  7242 K  m_ubv_B = 7.53\n",
      "M =   1.400 Msun  T =   nan K  m_ubv_B =  nan\n",
      "M =   1.259 Msun  T =   nan K  m_ubv_B =  nan\n",
      "M =   3.700 Msun  T = 11115 K  m_ubv_B = 17.54\n",
      "M =   3.000 Msun  T = 11453 K  m_ubv_B = 17.09\n",
      "M =   1.259 Msun  T =   nan K  m_ubv_B =  nan\n",
      "M =   2.300 Msun  T =  4908 K  m_ubv_B = 6.28\n",
      "M =   3.500 Msun  T = 11671 K  m_ubv_B = 17.31\n",
      "M =   1.259 Msun  T =   nan K  m_ubv_B =  nan\n",
      "M =   2.500 Msun  T = 16006 K  m_ubv_B = 16.18\n",
      "M =   0.794 Msun  T =   nan K  m_ubv_B =  nan\n",
      "M =   1.000 Msun  T =   nan K  m_ubv_B =  nan\n",
      "M =   7.000 Msun  T = 11183 K  m_ubv_B = 17.77\n",
      "M =   2.000 Msun  T =  7250 K  m_ubv_B = 6.54\n",
      "M =   1.700 Msun  T = 11223 K  m_ubv_B = 17.10\n",
      "M =   1.000 Msun  T =   nan K  m_ubv_B =  nan\n",
      "M =   2.700 Msun  T = 12837 K  m_ubv_B = 17.84\n",
      "M =   1.400 Msun  T =   nan K  m_ubv_B =  nan\n",
      "M =   1.400 Msun  T =   nan K  m_ubv_B =  nan\n",
      "M =   3.500 Msun  T = 11671 K  m_ubv_B = 17.31\n",
      "M =   2.000 Msun  T =  7210 K  m_ubv_B = 6.56\n",
      "M =   1.800 Msun  T =  7355 K  m_ubv_B = 7.18\n",
      "M =   0.631 Msun  T =   nan K  m_ubv_B =  nan\n",
      "M =   4.500 Msun  T = 11862 K  m_ubv_B = 17.54\n",
      "M =   1.900 Msun  T =  7140 K  m_ubv_B = 6.87\n",
      "M =   1.900 Msun  T = 12828 K  m_ubv_B = 16.73\n",
      "M =   3.000 Msun  T = 11485 K  m_ubv_B = 17.09\n",
      "M =   1.700 Msun  T =  7242 K  m_ubv_B = 7.53\n",
      "M =   1.600 Msun  T =  7037 K  m_ubv_B = 7.88\n",
      "M =   1.600 Msun  T =  7037 K  m_ubv_B = 7.88\n",
      "M =   2.300 Msun  T =  4908 K  m_ubv_B = 6.28\n",
      "M =   1.400 Msun  T =   nan K  m_ubv_B =  nan\n",
      "M =   1.400 Msun  T =   nan K  m_ubv_B =  nan\n",
      "Secondaries\n",
      "M =   2.070 Msun  T =  6895 K  m_ubv_B = 6.36\n",
      "M =   1.750 Msun  T =  8135 K  m_ubv_B = 7.42\n",
      "M =   1.710 Msun  T =  7580 K  m_ubv_B = 7.37\n",
      "M =   0.740 Msun  T =   nan K  m_ubv_B =  nan\n",
      "M =   3.000 Msun  T = 11498 K  m_ubv_B = 17.09\n",
      "M =   1.260 Msun  T =  6351 K  m_ubv_B = 9.33\n",
      "M =   1.050 Msun  T =  5796 K  m_ubv_B = 10.55\n",
      "M =   2.700 Msun  T =  8181 K  m_ubv_B = 4.84\n",
      "M =   7.000 Msun  T =  7921 K  m_ubv_B = 10.67\n",
      "M =   3.600 Msun  T = 10617 K  m_ubv_B = 3.48\n",
      "M =   3.500 Msun  T = 11388 K  m_ubv_B = 17.31\n",
      "M =   0.340 Msun  T =  1962 K  m_ubv_B = 25.46\n",
      "M =   5.500 Msun  T = 11992 K  m_ubv_B = 17.79\n",
      "M =   2.700 Msun  T = 12885 K  m_ubv_B = 16.73\n",
      "M =   2.220 Msun  T =  9856 K  m_ubv_B = 6.34\n",
      "M =   1.500 Msun  T =  7052 K  m_ubv_B = 8.31\n",
      "M =   4.500 Msun  T = 11685 K  m_ubv_B = 17.54\n",
      "M =   1.380 Msun  T =  6685 K  m_ubv_B = 8.73\n",
      "M =   2.450 Msun  T = 10412 K  m_ubv_B = 5.88\n",
      "M =   3.700 Msun  T = 10955 K  m_ubv_B = 17.54\n",
      "M =   1.750 Msun  T =  7918 K  m_ubv_B = 7.27\n",
      "M =   2.000 Msun  T =  7017 K  m_ubv_B = 6.59\n",
      "M =   5.000 Msun  T = 12009 K  m_ubv_B = 17.66\n",
      "M =   3.500 Msun  T =  9212 K  m_ubv_B = 3.39\n",
      "M =   1.600 Msun  T =  7397 K  m_ubv_B = 7.79\n",
      "M =   1.190 Msun  T =   nan K  m_ubv_B =  nan\n",
      "M =   3.000 Msun  T = 11498 K  m_ubv_B = 17.09\n",
      "M =   1.620 Msun  T =   nan K  m_ubv_B =  nan\n",
      "M =   3.500 Msun  T = 11705 K  m_ubv_B = 17.31\n",
      "M =   2.000 Msun  T =  7152 K  m_ubv_B = 6.57\n",
      "M =   2.450 Msun  T = 10416 K  m_ubv_B = 5.88\n",
      "M =   0.200 Msun  T =  3299 K  m_ubv_B = 18.68\n",
      "M =   0.900 Msun  T =  5193 K  m_ubv_B = 11.40\n",
      "M =   5.000 Msun  T = 10666 K  m_ubv_B = 17.78\n",
      "M =   2.250 Msun  T =  9999 K  m_ubv_B = 6.37\n",
      "M =   1.710 Msun  T =  7580 K  m_ubv_B = 7.37\n",
      "M =   0.760 Msun  T =   nan K  m_ubv_B =  nan\n",
      "M =   1.800 Msun  T =  8304 K  m_ubv_B = 7.20\n",
      "M =   0.850 Msun  T =  4905 K  m_ubv_B = 11.92\n",
      "M =   0.480 Msun  T =  2770 K  m_ubv_B = 19.01\n",
      "M =   0.320 Msun  T =  1847 K  m_ubv_B = 25.70\n",
      "M =   0.460 Msun  T =  2654 K  m_ubv_B = 19.69\n",
      "M =   2.500 Msun  T = 15710 K  m_ubv_B = 7.88\n",
      "M =   1.200 Msun  T =  6155 K  m_ubv_B = 9.65\n",
      "Starting filter: ubv,R   Elapsed time: 51.04 seconds\n",
      "Starting synthetic photometry\n",
      "Singles\n",
      "M =   1.660 Msun  T =  7141 K  m_ubv_R = 7.14\n",
      "M =   1.900 Msun  T =  7389 K  m_ubv_R = 6.38\n",
      "Primaries\n",
      "M =   2.300 Msun  T =  4908 K  m_ubv_R = 4.77\n",
      "M =   3.500 Msun  T = 11671 K  m_ubv_R = 17.13\n",
      "M =   1.900 Msun  T =  7140 K  m_ubv_R = 6.37\n",
      "M =   3.700 Msun  T = 12543 K  m_ubv_R = 17.42\n",
      "M =   1.400 Msun  T =   nan K  m_ubv_R =  nan\n",
      "M =   1.800 Msun  T =  7355 K  m_ubv_R = 6.73\n",
      "M =   1.500 Msun  T =  6759 K  m_ubv_R = 7.62\n",
      "M =   3.000 Msun  T = 11485 K  m_ubv_R = 16.91\n",
      "M =   1.400 Msun  T =   nan K  m_ubv_R =  nan\n",
      "M =   4.500 Msun  T = 10530 K  m_ubv_R = 17.56\n",
      "M =   0.631 Msun  T =   nan K  m_ubv_R =  nan\n",
      "M =   1.700 Msun  T =  7242 K  m_ubv_R = 7.04\n",
      "M =   1.400 Msun  T =   nan K  m_ubv_R =  nan\n",
      "M =   1.259 Msun  T =   nan K  m_ubv_R =  nan\n",
      "M =   3.700 Msun  T = 11115 K  m_ubv_R = 17.32\n",
      "M =   3.000 Msun  T = 11453 K  m_ubv_R = 16.91\n",
      "M =   1.259 Msun  T =   nan K  m_ubv_R =  nan\n",
      "M =   2.300 Msun  T =  4908 K  m_ubv_R = 4.77\n",
      "M =   3.500 Msun  T = 11671 K  m_ubv_R = 17.13\n",
      "M =   1.259 Msun  T =   nan K  m_ubv_R =  nan\n",
      "M =   2.500 Msun  T = 16006 K  m_ubv_R = 16.21\n",
      "M =   0.794 Msun  T =   nan K  m_ubv_R =  nan\n",
      "M =   1.000 Msun  T =   nan K  m_ubv_R =  nan\n",
      "M =   7.000 Msun  T = 11183 K  m_ubv_R = 17.56\n",
      "M =   2.000 Msun  T =  7250 K  m_ubv_R = 6.07\n",
      "M =   1.700 Msun  T = 11223 K  m_ubv_R = 16.90\n",
      "M =   1.000 Msun  T =   nan K  m_ubv_R =  nan\n",
      "M =   2.700 Msun  T = 12837 K  m_ubv_R = 17.71\n",
      "M =   1.400 Msun  T =   nan K  m_ubv_R =  nan\n",
      "M =   1.400 Msun  T =   nan K  m_ubv_R =  nan\n",
      "M =   3.500 Msun  T = 11671 K  m_ubv_R = 17.13\n",
      "M =   2.000 Msun  T =  7210 K  m_ubv_R = 6.08\n",
      "M =   1.800 Msun  T =  7355 K  m_ubv_R = 6.73\n",
      "M =   0.631 Msun  T =   nan K  m_ubv_R =  nan\n",
      "M =   4.500 Msun  T = 11862 K  m_ubv_R = 17.36\n",
      "M =   1.900 Msun  T =  7140 K  m_ubv_R = 6.37\n",
      "M =   1.900 Msun  T = 12828 K  m_ubv_R = 16.61\n",
      "M =   3.000 Msun  T = 11485 K  m_ubv_R = 16.91\n",
      "M =   1.700 Msun  T =  7242 K  m_ubv_R = 7.04\n",
      "M =   1.600 Msun  T =  7037 K  m_ubv_R = 7.33\n",
      "M =   1.600 Msun  T =  7037 K  m_ubv_R = 7.33\n",
      "M =   2.300 Msun  T =  4908 K  m_ubv_R = 4.77\n",
      "M =   1.400 Msun  T =   nan K  m_ubv_R =  nan\n",
      "M =   1.400 Msun  T =   nan K  m_ubv_R =  nan\n",
      "Secondaries\n",
      "M =   2.070 Msun  T =  6895 K  m_ubv_R = 5.80\n",
      "M =   1.750 Msun  T =  8135 K  m_ubv_R = 7.15\n",
      "M =   1.710 Msun  T =  7580 K  m_ubv_R = 6.97\n",
      "M =   0.740 Msun  T =   nan K  m_ubv_R =  nan\n",
      "M =   3.000 Msun  T = 11498 K  m_ubv_R = 16.91\n",
      "M =   1.260 Msun  T =  6351 K  m_ubv_R = 8.54\n",
      "M =   1.050 Msun  T =  5796 K  m_ubv_R = 9.52\n",
      "M =   2.700 Msun  T =  8181 K  m_ubv_R = 4.67\n",
      "M =   7.000 Msun  T =  7921 K  m_ubv_R = 10.33\n",
      "M =   3.600 Msun  T = 10617 K  m_ubv_R = 3.57\n",
      "M =   3.500 Msun  T = 11388 K  m_ubv_R = 17.11\n",
      "M =   0.340 Msun  T =  1962 K  m_ubv_R = 20.40\n",
      "M =   5.500 Msun  T = 11992 K  m_ubv_R = 17.62\n",
      "M =   2.700 Msun  T = 12885 K  m_ubv_R = 16.62\n",
      "M =   2.220 Msun  T =  9856 K  m_ubv_R = 6.35\n",
      "M =   1.500 Msun  T =  7052 K  m_ubv_R = 7.76\n",
      "M =   4.500 Msun  T = 11685 K  m_ubv_R = 17.35\n",
      "M =   1.380 Msun  T =  6685 K  m_ubv_R = 8.07\n",
      "M =   2.450 Msun  T = 10412 K  m_ubv_R = 5.94\n",
      "M =   3.700 Msun  T = 10955 K  m_ubv_R = 17.32\n",
      "M =   1.750 Msun  T =  7918 K  m_ubv_R = 6.95\n",
      "M =   2.000 Msun  T =  7017 K  m_ubv_R = 6.06\n",
      "M =   5.000 Msun  T = 12009 K  m_ubv_R = 17.49\n",
      "M =   3.500 Msun  T =  9212 K  m_ubv_R = 3.39\n",
      "M =   1.600 Msun  T =  7397 K  m_ubv_R = 7.34\n",
      "M =   1.190 Msun  T =   nan K  m_ubv_R =  nan\n",
      "M =   3.000 Msun  T = 11498 K  m_ubv_R = 16.91\n",
      "M =   1.620 Msun  T =   nan K  m_ubv_R =  nan\n",
      "M =   3.500 Msun  T = 11705 K  m_ubv_R = 17.13\n",
      "M =   2.000 Msun  T =  7152 K  m_ubv_R = 6.08\n",
      "M =   2.450 Msun  T = 10416 K  m_ubv_R = 5.94\n",
      "M =   0.200 Msun  T =  3299 K  m_ubv_R = 16.54\n",
      "M =   0.900 Msun  T =  5193 K  m_ubv_R = 10.09\n",
      "M =   5.000 Msun  T = 10666 K  m_ubv_R = 17.54\n",
      "M =   2.250 Msun  T =  9999 K  m_ubv_R = 6.39\n"
     ]
    },
    {
     "name": "stdout",
     "output_type": "stream",
     "text": [
      "M =   1.710 Msun  T =  7580 K  m_ubv_R = 6.97\n",
      "M =   0.760 Msun  T =   nan K  m_ubv_R =  nan\n",
      "M =   1.800 Msun  T =  8304 K  m_ubv_R = 6.98\n",
      "M =   0.850 Msun  T =  4905 K  m_ubv_R = 10.45\n",
      "M =   0.480 Msun  T =  2770 K  m_ubv_R = 16.38\n",
      "M =   0.320 Msun  T =  1847 K  m_ubv_R = 20.65\n",
      "M =   0.460 Msun  T =  2654 K  m_ubv_R = 16.97\n",
      "M =   2.500 Msun  T = 15710 K  m_ubv_R = 8.08\n",
      "M =   1.200 Msun  T =  6155 K  m_ubv_R = 8.78\n",
      "Starting filter: ubv,I   Elapsed time: 67.42 seconds\n",
      "Starting synthetic photometry\n",
      "Singles\n",
      "M =   1.660 Msun  T =  7141 K  m_ubv_I = 6.93\n",
      "M =   1.900 Msun  T =  7389 K  m_ubv_I = 6.20\n",
      "Primaries\n",
      "M =   2.300 Msun  T =  4908 K  m_ubv_I = 4.17\n",
      "M =   3.500 Msun  T = 11671 K  m_ubv_I = 17.17\n",
      "M =   1.900 Msun  T =  7140 K  m_ubv_I = 6.16\n",
      "M =   3.700 Msun  T = 12543 K  m_ubv_I = 17.49\n",
      "M =   1.400 Msun  T =   nan K  m_ubv_I =  nan\n",
      "M =   1.800 Msun  T =  7355 K  m_ubv_I = 6.54\n",
      "M =   1.500 Msun  T =  6759 K  m_ubv_I = 7.35\n",
      "M =   3.000 Msun  T = 11485 K  m_ubv_I = 16.95\n",
      "M =   1.400 Msun  T =   nan K  m_ubv_I =  nan\n",
      "M =   4.500 Msun  T = 10530 K  m_ubv_I = 17.54\n",
      "M =   0.631 Msun  T =   nan K  m_ubv_I =  nan\n",
      "M =   1.700 Msun  T =  7242 K  m_ubv_I = 6.84\n",
      "M =   1.400 Msun  T =   nan K  m_ubv_I =  nan\n",
      "M =   1.259 Msun  T =   nan K  m_ubv_I =  nan\n",
      "M =   3.700 Msun  T = 11115 K  m_ubv_I = 17.34\n",
      "M =   3.000 Msun  T = 11453 K  m_ubv_I = 16.95\n",
      "M =   1.259 Msun  T =   nan K  m_ubv_I =  nan\n",
      "M =   2.300 Msun  T =  4908 K  m_ubv_I = 4.17\n",
      "M =   3.500 Msun  T = 11671 K  m_ubv_I = 17.17\n",
      "M =   1.259 Msun  T =   nan K  m_ubv_I =  nan\n",
      "M =   2.500 Msun  T = 16006 K  m_ubv_I = 16.36\n",
      "M =   0.794 Msun  T =   nan K  m_ubv_I =  nan\n",
      "M =   1.000 Msun  T =   nan K  m_ubv_I =  nan\n",
      "M =   7.000 Msun  T = 11183 K  m_ubv_I = 17.58\n",
      "M =   2.000 Msun  T =  7250 K  m_ubv_I = 5.88\n",
      "M =   1.700 Msun  T = 11223 K  m_ubv_I = 16.93\n",
      "M =   1.000 Msun  T =   nan K  m_ubv_I =  nan\n",
      "M =   2.700 Msun  T = 12837 K  m_ubv_I = 17.78\n",
      "M =   1.400 Msun  T =   nan K  m_ubv_I =  nan\n",
      "M =   1.400 Msun  T =   nan K  m_ubv_I =  nan\n",
      "M =   3.500 Msun  T = 11671 K  m_ubv_I = 17.17\n",
      "M =   2.000 Msun  T =  7210 K  m_ubv_I = 5.88\n",
      "M =   1.800 Msun  T =  7355 K  m_ubv_I = 6.54\n",
      "M =   0.631 Msun  T =   nan K  m_ubv_I =  nan\n",
      "M =   4.500 Msun  T = 11862 K  m_ubv_I = 17.41\n",
      "M =   1.900 Msun  T =  7140 K  m_ubv_I = 6.16\n",
      "M =   1.900 Msun  T = 12828 K  m_ubv_I = 16.70\n",
      "M =   3.000 Msun  T = 11485 K  m_ubv_I = 16.95\n",
      "M =   1.700 Msun  T =  7242 K  m_ubv_I = 6.84\n",
      "M =   1.600 Msun  T =  7037 K  m_ubv_I = 7.10\n",
      "M =   1.600 Msun  T =  7037 K  m_ubv_I = 7.10\n",
      "M =   2.300 Msun  T =  4908 K  m_ubv_I = 4.17\n",
      "M =   1.400 Msun  T =   nan K  m_ubv_I =  nan\n",
      "M =   1.400 Msun  T =   nan K  m_ubv_I =  nan\n",
      "Secondaries\n",
      "M =   2.070 Msun  T =  6895 K  m_ubv_I = 5.56\n",
      "M =   1.750 Msun  T =  8135 K  m_ubv_I = 7.05\n",
      "M =   1.710 Msun  T =  7580 K  m_ubv_I = 6.82\n",
      "M =   0.740 Msun  T =   nan K  m_ubv_I =  nan\n",
      "M =   3.000 Msun  T = 11498 K  m_ubv_I = 16.95\n",
      "M =   1.260 Msun  T =  6351 K  m_ubv_I = 8.21\n",
      "M =   1.050 Msun  T =  5796 K  m_ubv_I = 9.10\n",
      "M =   2.700 Msun  T =  8181 K  m_ubv_I = 4.59\n",
      "M =   7.000 Msun  T =  7921 K  m_ubv_I = 10.20\n",
      "M =   3.600 Msun  T = 10617 K  m_ubv_I = 3.61\n",
      "M =   3.500 Msun  T = 11388 K  m_ubv_I = 17.15\n",
      "M =   0.340 Msun  T =  1962 K  m_ubv_I = 16.41\n",
      "M =   5.500 Msun  T = 11992 K  m_ubv_I = 17.67\n",
      "M =   2.700 Msun  T = 12885 K  m_ubv_I = 16.71\n",
      "M =   2.220 Msun  T =  9856 K  m_ubv_I = 6.37\n",
      "M =   1.500 Msun  T =  7052 K  m_ubv_I = 7.53\n",
      "M =   4.500 Msun  T = 11685 K  m_ubv_I = 17.39\n",
      "M =   1.380 Msun  T =  6685 K  m_ubv_I = 7.79\n",
      "M =   2.450 Msun  T = 10412 K  m_ubv_I = 5.97\n",
      "M =   3.700 Msun  T = 10955 K  m_ubv_I = 17.33\n",
      "M =   1.750 Msun  T =  7918 K  m_ubv_I = 6.84\n",
      "M =   2.000 Msun  T =  7017 K  m_ubv_I = 5.83\n",
      "M =   5.000 Msun  T = 12009 K  m_ubv_I = 17.54\n",
      "M =   3.500 Msun  T =  9212 K  m_ubv_I = 3.38\n",
      "M =   1.600 Msun  T =  7397 K  m_ubv_I = 7.16\n",
      "M =   1.190 Msun  T =   nan K  m_ubv_I =  nan\n",
      "M =   3.000 Msun  T = 11498 K  m_ubv_I = 16.95\n",
      "M =   1.620 Msun  T =   nan K  m_ubv_I =  nan\n",
      "M =   3.500 Msun  T = 11705 K  m_ubv_I = 17.17\n",
      "M =   2.000 Msun  T =  7152 K  m_ubv_I = 5.87\n",
      "M =   2.450 Msun  T = 10416 K  m_ubv_I = 5.97\n",
      "M =   0.200 Msun  T =  3299 K  m_ubv_I = 14.58\n",
      "M =   0.900 Msun  T =  5193 K  m_ubv_I = 9.56\n",
      "M =   5.000 Msun  T = 10666 K  m_ubv_I = 17.53\n",
      "M =   2.250 Msun  T =  9999 K  m_ubv_I = 6.41\n",
      "M =   1.710 Msun  T =  7580 K  m_ubv_I = 6.82\n",
      "M =   0.760 Msun  T =   nan K  m_ubv_I =  nan\n",
      "M =   1.800 Msun  T =  8304 K  m_ubv_I = 6.90\n",
      "M =   0.850 Msun  T =  4905 K  m_ubv_I = 9.85\n",
      "M =   0.480 Msun  T =  2770 K  m_ubv_I = 13.15\n",
      "M =   0.320 Msun  T =  1847 K  m_ubv_I = 16.86\n",
      "M =   0.460 Msun  T =  2654 K  m_ubv_I = 13.46\n",
      "M =   2.500 Msun  T = 15710 K  m_ubv_I = 8.22\n",
      "M =   1.200 Msun  T =  6155 K  m_ubv_I = 8.42\n",
      "      Time taken: 83.77 seconds\n",
      "Isochrone generation took 481.332335 s.\n"
     ]
    }
   ],
   "source": [
    "import spisea\n",
    "from spisea import evolution, synthetic\n",
    "import math\n",
    "# Check if the evolution class works fine\n",
    "import time\n",
    "t1=time.time()\n",
    "bps=evolution.BPASS()\n",
    "iso1=synthetic.Isochrone_Binary(9.0, 0.0, 100,math.log10(1), mass_sampling=1, filepath='/g/lu/scratch/ryotainagaki/BPASS_iso_filesTimedIsolated/')"
   ]
  },
  {
   "cell_type": "markdown",
   "metadata": {},
   "source": [
    "As a sanity check, I would like to make sure thatk, for primary stars, we only have (from the isochrone) designated phase 5 stars ( anything that is not a compact remnant), white dwarves (101), and non-white dwarf compact remnants that are NEWSECMODS primaries (110). Also make sure that our secondary stars are non-compact-remnant, white dwarves, or are merged."
   ]
  },
  {
   "cell_type": "code",
   "execution_count": 2,
   "metadata": {},
   "outputs": [
    {
     "data": {
      "text/plain": [
       "True"
      ]
     },
     "execution_count": 2,
     "metadata": {},
     "output_type": "execute_result"
    }
   ],
   "source": [
    "import numpy as np\n",
    "np.all([(x==5 or x==101 or x==110) for x in iso1.primaries['phase']])"
   ]
  },
  {
   "cell_type": "code",
   "execution_count": 3,
   "metadata": {},
   "outputs": [
    {
     "data": {
      "text/plain": [
       "True"
      ]
     },
     "execution_count": 3,
     "metadata": {},
     "output_type": "execute_result"
    }
   ],
   "source": [
    "np.all([(x==5 or x==101) for x in iso1.singles['phase']])"
   ]
  },
  {
   "cell_type": "code",
   "execution_count": 4,
   "metadata": {},
   "outputs": [
    {
     "data": {
      "text/plain": [
       "True"
      ]
     },
     "execution_count": 4,
     "metadata": {},
     "output_type": "execute_result"
    }
   ],
   "source": [
    "np.all([(x==5 or x==101 or x==-99) for x in iso1.secondaries['phase']])"
   ]
  },
  {
   "cell_type": "markdown",
   "metadata": {},
   "source": [
    "Find the maximum, mean, and median  values of logg (cgs) for primaries, single stars, and secondaries. "
   ]
  },
  {
   "cell_type": "code",
   "execution_count": 5,
   "metadata": {},
   "outputs": [
    {
     "data": {
      "text/plain": [
       "9.294869501162154"
      ]
     },
     "execution_count": 5,
     "metadata": {},
     "output_type": "execute_result"
    }
   ],
   "source": [
    "import numpy as np\n",
    "np.max(iso1.singles['logg'])"
   ]
  },
  {
   "cell_type": "code",
   "execution_count": 6,
   "metadata": {},
   "outputs": [
    {
     "data": {
      "text/plain": [
       "nan"
      ]
     },
     "execution_count": 6,
     "metadata": {},
     "output_type": "execute_result"
    }
   ],
   "source": [
    "import numpy as np\n",
    "np.max(iso1.primaries['logg'])"
   ]
  },
  {
   "cell_type": "code",
   "execution_count": 7,
   "metadata": {},
   "outputs": [
    {
     "data": {
      "text/plain": [
       "9.283702439639246"
      ]
     },
     "execution_count": 7,
     "metadata": {},
     "output_type": "execute_result"
    }
   ],
   "source": [
    "np.max(np.nan_to_num(iso1.secondaries['logg']))"
   ]
  },
  {
   "cell_type": "code",
   "execution_count": 8,
   "metadata": {},
   "outputs": [
    {
     "data": {
      "text/plain": [
       "6.056353127774382"
      ]
     },
     "execution_count": 8,
     "metadata": {},
     "output_type": "execute_result"
    }
   ],
   "source": [
    "np.mean(iso1.singles['logg'])"
   ]
  },
  {
   "cell_type": "code",
   "execution_count": 9,
   "metadata": {},
   "outputs": [
    {
     "data": {
      "text/plain": [
       "4.265613052871932"
      ]
     },
     "execution_count": 9,
     "metadata": {},
     "output_type": "execute_result"
    }
   ],
   "source": [
    "np.mean((np.nan_to_num(iso1.secondaries['logg'])))"
   ]
  },
  {
   "cell_type": "code",
   "execution_count": 10,
   "metadata": {},
   "outputs": [
    {
     "data": {
      "text/plain": [
       "4.480771839298961"
      ]
     },
     "execution_count": 10,
     "metadata": {},
     "output_type": "execute_result"
    }
   ],
   "source": [
    "np.mean((np.nan_to_num(iso1.primaries['logg'])))"
   ]
  },
  {
   "cell_type": "code",
   "execution_count": 11,
   "metadata": {},
   "outputs": [
    {
     "data": {
      "text/plain": [
       "4.544577157495695"
      ]
     },
     "execution_count": 11,
     "metadata": {},
     "output_type": "execute_result"
    }
   ],
   "source": [
    "np.median(iso1.singles['logg'])"
   ]
  },
  {
   "cell_type": "code",
   "execution_count": 12,
   "metadata": {},
   "outputs": [
    {
     "data": {
      "text/plain": [
       "nan"
      ]
     },
     "execution_count": 12,
     "metadata": {},
     "output_type": "execute_result"
    }
   ],
   "source": [
    "np.median(iso1.primaries['logg'])"
   ]
  },
  {
   "cell_type": "code",
   "execution_count": 13,
   "metadata": {},
   "outputs": [
    {
     "data": {
      "text/html": [
       "&lt;Column name=&apos;logg&apos; dtype=&apos;float64&apos; unit=&apos;&apos; length=4351&gt;\n",
       "<table>\n",
       "<tr><td>2.5859354633207263</td></tr>\n",
       "<tr><td>3.7452576229671144</td></tr>\n",
       "<tr><td>8.424052319392993</td></tr>\n",
       "<tr><td>8.554753450326157</td></tr>\n",
       "<tr><td>3.5198069220370525</td></tr>\n",
       "<tr><td>4.129918886358815</td></tr>\n",
       "<tr><td>8.407999811721846</td></tr>\n",
       "<tr><td>8.359929254625847</td></tr>\n",
       "<tr><td>8.244543389791678</td></tr>\n",
       "<tr><td>8.321324878972979</td></tr>\n",
       "<tr><td>nan</td></tr>\n",
       "<tr><td>8.34710048164559</td></tr>\n",
       "<tr><td>...</td></tr>\n",
       "<tr><td>8.434311325960586</td></tr>\n",
       "<tr><td>4.058036548681407</td></tr>\n",
       "<tr><td>8.033070825556624</td></tr>\n",
       "<tr><td>nan</td></tr>\n",
       "<tr><td>nan</td></tr>\n",
       "<tr><td>nan</td></tr>\n",
       "<tr><td>8.39351128933436</td></tr>\n",
       "<tr><td>4.056476548681407</td></tr>\n",
       "<tr><td>3.500806922037053</td></tr>\n",
       "<tr><td>4.056476548681407</td></tr>\n",
       "<tr><td>8.265879327723244</td></tr>\n",
       "<tr><td>4.129918886358815</td></tr>\n",
       "</table>"
      ],
      "text/plain": [
       "<Column name='logg' dtype='float64' unit='' length=4351>\n",
       "2.5859354633207263\n",
       "3.7452576229671144\n",
       " 8.424052319392993\n",
       " 8.554753450326157\n",
       "3.5198069220370525\n",
       " 4.129918886358815\n",
       " 8.407999811721846\n",
       " 8.359929254625847\n",
       " 8.244543389791678\n",
       " 8.321324878972979\n",
       "               nan\n",
       "  8.34710048164559\n",
       "               ...\n",
       " 8.434311325960586\n",
       " 4.058036548681407\n",
       " 8.033070825556624\n",
       "               nan\n",
       "               nan\n",
       "               nan\n",
       "  8.39351128933436\n",
       " 4.056476548681407\n",
       " 3.500806922037053\n",
       " 4.056476548681407\n",
       " 8.265879327723244\n",
       " 4.129918886358815"
      ]
     },
     "execution_count": 13,
     "metadata": {},
     "output_type": "execute_result"
    }
   ],
   "source": [
    "iso1.primaries['logg']"
   ]
  },
  {
   "cell_type": "code",
   "execution_count": 14,
   "metadata": {},
   "outputs": [
    {
     "data": {
      "text/plain": [
       "Text(0.5, 0, 'logg in cgs')"
      ]
     },
     "execution_count": 14,
     "metadata": {},
     "output_type": "execute_result"
    },
    {
     "data": {
      "image/png": "[encoded data removed]",
      "text/plain": [
       "<Figure size 432x288 with 1 Axes>"
      ]
     },
     "metadata": {
      "needs_background": "light"
     },
     "output_type": "display_data"
    }
   ],
   "source": [
    "import matplotlib.pyplot as plt\n",
    "plt.title(\"Histogram of logg values (secondaries) of isochrone\")\n",
    "plt.hist(np.array([x for x in iso1.secondaries['logg'] if np.isfinite(x)]), np.arange(0, 30, 1))\n",
    "plt.xlabel(\"logg in cgs\")"
   ]
  },
  {
   "cell_type": "code",
   "execution_count": 15,
   "metadata": {},
   "outputs": [
    {
     "data": {
      "text/plain": [
       "Text(0.5, 0, 'logg in cgs')"
      ]
     },
     "execution_count": 15,
     "metadata": {},
     "output_type": "execute_result"
    },
    {
     "data": {
      "image/png": "[encoded data removed]",
      "text/plain": [
       "<Figure size 432x288 with 1 Axes>"
      ]
     },
     "metadata": {
      "needs_background": "light"
     },
     "output_type": "display_data"
    }
   ],
   "source": [
    "import matplotlib.pyplot as plt\n",
    "plt.title(\"Histogram of logg values (primaries) of isochrone\")\n",
    "plt.hist(np.array([x for x in iso1.primaries['logg'] if np.isfinite(x)]), np.arange(0, 30, 1))\n",
    "plt.xlabel(\"logg in cgs\")"
   ]
  },
  {
   "cell_type": "code",
   "execution_count": 16,
   "metadata": {},
   "outputs": [
    {
     "data": {
      "text/plain": [
       "Text(0.5, 0, 'logg in cgs')"
      ]
     },
     "execution_count": 16,
     "metadata": {},
     "output_type": "execute_result"
    },
    {
     "data": {
      "image/png": "[encoded data removed]",
      "text/plain": [
       "<Figure size 432x288 with 1 Axes>"
      ]
     },
     "metadata": {
      "needs_background": "light"
     },
     "output_type": "display_data"
    }
   ],
   "source": [
    "import matplotlib.pyplot as plt\n",
    "plt.title(\"Histogram of logg values single stars of isochrone\")\n",
    "plt.hist(np.array([x for x in iso1.singles['logg'] if np.isfinite(x)]), np.arange(0, 30, 1))\n",
    "plt.xlabel(\"logg in cgs\")"
   ]
  },
  {
   "cell_type": "markdown",
   "metadata": {},
   "source": [
    "Now we examine the phase of the upper lefthand corner of the CMD, which could be full of WR stars."
   ]
  },
  {
   "cell_type": "code",
   "execution_count": 17,
   "metadata": {},
   "outputs": [
    {
     "data": {
      "text/plain": [
       "<matplotlib.legend.Legend at 0x7f89185c1eb8>"
      ]
     },
     "execution_count": 17,
     "metadata": {},
     "output_type": "execute_result"
    },
    {
     "data": {
      "image/png": "[encoded data removed]",
      "text/plain": [
       "<Figure size 432x288 with 1 Axes>"
      ]
     },
     "metadata": {
      "needs_background": "light"
     },
     "output_type": "display_data"
    }
   ],
   "source": [
    "import matplotlib.pyplot as plt\n",
    "indices1= np.where(iso1.singles['logg']>5)[0]\n",
    "indices2= np.where(iso1.primaries['logg']>5)[0]\n",
    "indices3= np.where(iso1.secondaries['logg']>5)[0]\n",
    "plt.plot(iso1.primaries['m_ubv_B'][indices2]-iso1.primaries[\"m_ubv_V\"][indices2], iso1.primaries[\"m_ubv_V\"][indices2]-5*np.log10(100), \"r.\")\n",
    "plt.plot(iso1.secondaries['m_ubv_B'][indices3]-iso1.secondaries[\"m_ubv_V\"][indices3], iso1.secondaries[\"m_ubv_V\"][indices3]-5*np.log10(100), \"r.\")\n",
    "plt.plot(iso1.singles['m_ubv_B'][indices1]-iso1.singles[\"m_ubv_V\"][indices1], iso1.singles[\"m_ubv_V\"][indices1]-5*np.log10(100), \"r.\", label=\"BPASS isochrone\")\n",
    "plt.xlabel(\"B-V\")\n",
    "plt.ylabel(\"M_V\")\n",
    "plt.title(\"Color magnitude Diagram of Isochrones at solar metallicity and 1 billion years age (Examining upper lefthand corner)\")\n",
    "plt.gca().invert_yaxis()\n",
    "plt.legend()"
   ]
  },
  {
   "cell_type": "code",
   "execution_count": 18,
   "metadata": {},
   "outputs": [
    {
     "name": "stderr",
     "output_type": "stream",
     "text": [
      "/opt/anaconda3/envs/astroconda/lib/python3.7/site-packages/astropy/table/column.py:1020: RuntimeWarning: invalid value encountered in less\n",
      "  result = getattr(super(), op)(other)\n"
     ]
    }
   ],
   "source": [
    "indices2= np.where((iso1.primaries['logg']>5) & (iso1.primaries['m_ubv_B']-iso1.primaries['m_ubv_V']>-0.4) & (iso1.primaries['m_ubv_B']-iso1.primaries['m_ubv_V']<-0.2))[0]"
   ]
  },
  {
   "cell_type": "code",
   "execution_count": 19,
   "metadata": {},
   "outputs": [
    {
     "data": {
      "text/html": [
       "&lt;Column name=&apos;phase&apos; dtype=&apos;float64&apos; length=1&gt;\n",
       "<table>\n",
       "<tr><td>5.0</td></tr>\n",
       "</table>"
      ],
      "text/plain": [
       "<Column name='phase' dtype='float64' length=1>\n",
       "5.0"
      ]
     },
     "execution_count": 19,
     "metadata": {},
     "output_type": "execute_result"
    }
   ],
   "source": [
    "np.unique(iso1.primaries[indices2]['phase'])"
   ]
  },
  {
   "cell_type": "code",
   "execution_count": 20,
   "metadata": {},
   "outputs": [],
   "source": [
    "indices2= np.where((iso1.primaries['m_ubv_B']-iso1.primaries['m_ubv_V']>1.2) & (iso1.primaries['m_ubv_B']-iso1.primaries['m_ubv_V']<1.5))[0]"
   ]
  },
  {
   "cell_type": "code",
   "execution_count": 21,
   "metadata": {},
   "outputs": [
    {
     "data": {
      "text/plain": [
       "array([703])"
      ]
     },
     "execution_count": 21,
     "metadata": {},
     "output_type": "execute_result"
    }
   ],
   "source": [
    "indices2"
   ]
  },
  {
   "cell_type": "code",
   "execution_count": 22,
   "metadata": {},
   "outputs": [
    {
     "data": {
      "text/html": [
       "&lt;Column name=&apos;phase&apos; dtype=&apos;float64&apos; length=1&gt;\n",
       "<table>\n",
       "<tr><td>5.0</td></tr>\n",
       "</table>"
      ],
      "text/plain": [
       "<Column name='phase' dtype='float64' length=1>\n",
       "5.0"
      ]
     },
     "execution_count": 22,
     "metadata": {},
     "output_type": "execute_result"
    }
   ],
   "source": [
    "np.unique(iso1.primaries['phase'][indices2])"
   ]
  },
  {
   "cell_type": "code",
   "execution_count": 23,
   "metadata": {},
   "outputs": [
    {
     "data": {
      "text/html": [
       "<i>Table length=1</i>\n",
       "<table id=\"table140224990405520\" class=\"table-striped table-bordered table-condensed\">\n",
       "<thead><tr><th>mass</th><th>L</th><th>Teff</th><th>R</th><th>logg</th><th>isWR</th><th>mass_current</th><th>phase</th><th>source</th><th>m_ubv_U</th><th>m_ubv_V</th><th>m_ubv_B</th><th>m_ubv_R</th><th>m_ubv_I</th></tr></thead>\n",
       "<thead><tr><th>solMass</th><th>W</th><th>K</th><th>m</th><th></th><th></th><th>solMass</th><th></th><th></th><th></th><th></th><th></th><th></th><th></th></tr></thead>\n",
       "<thead><tr><th>float64</th><th>float64</th><th>float64</th><th>float64</th><th>float64</th><th>bool</th><th>float64</th><th>float64</th><th>int64</th><th>float64</th><th>float64</th><th>float64</th><th>float64</th><th>float64</th></tr></thead>\n",
       "<tr><td>0.3</td><td>1.4390037612938779e+25</td><td>3671.7237611356545</td><td>333334422.4131993</td><td>4.778454094998249</td><td>False</td><td>0.50439</td><td>5.0</td><td>1</td><td>17.02443685121329</td><td>14.641716058852237</td><td>16.0105881500427</td><td>13.841797062109691</td><td>12.499640003022018</td></tr>\n",
       "</table>"
      ],
      "text/plain": [
       "<Table length=1>\n",
       "  mass            L            ...      m_ubv_R            m_ubv_I      \n",
       "solMass           W            ...                                      \n",
       "float64        float64         ...      float64            float64      \n",
       "------- ---------------------- ... ------------------ ------------------\n",
       "    0.3 1.4390037612938779e+25 ... 13.841797062109691 12.499640003022018"
      ]
     },
     "execution_count": 23,
     "metadata": {},
     "output_type": "execute_result"
    }
   ],
   "source": [
    "iso1.primaries[indices2]"
   ]
  },
  {
   "cell_type": "code",
   "execution_count": 24,
   "metadata": {},
   "outputs": [
    {
     "data": {
      "text/plain": [
       "<matplotlib.legend.Legend at 0x7f892977e1d0>"
      ]
     },
     "execution_count": 24,
     "metadata": {},
     "output_type": "execute_result"
    },
    {
     "data": {
      "image/png": "[encoded data removed]",
      "text/plain": [
       "<Figure size 432x288 with 1 Axes>"
      ]
     },
     "metadata": {
      "needs_background": "light"
     },
     "output_type": "display_data"
    }
   ],
   "source": [
    "import matplotlib.pyplot as plt\n",
    "plt.plot(iso1.secondaries['m_ubv_B']-iso1.secondaries[\"m_ubv_V\"], iso1.secondaries[\"m_ubv_V\"]-5*np.log10(100), \"r.\", label=\"Secondary stars BPASS isochrone\")\n",
    "plt.xlabel(\"B-V\")\n",
    "plt.ylabel(\"M_V\")\n",
    "plt.title(\"Color magnitude Diagram of Isochrones at solar metallicity and 1 billion years age\")\n",
    "plt.gca().invert_yaxis()\n",
    "plt.legend()"
   ]
  },
  {
   "cell_type": "code",
   "execution_count": 25,
   "metadata": {},
   "outputs": [
    {
     "data": {
      "text/html": [
       "<i>Table length=16</i>\n",
       "<table id=\"table140224702226384\" class=\"table-striped table-bordered table-condensed\">\n",
       "<thead><tr><th>mass</th><th>log_a</th><th>L</th><th>Teff</th><th>R</th><th>logg</th><th>isWR</th><th>mass_current</th><th>phase</th><th>merged</th><th>source</th><th>m_ubv_U</th><th>m_ubv_V</th><th>m_ubv_B</th><th>m_ubv_R</th><th>m_ubv_I</th></tr></thead>\n",
       "<thead><tr><th>solMass</th><th></th><th>W</th><th>K</th><th>m</th><th></th><th></th><th>solMass</th><th></th><th></th><th></th><th></th><th></th><th></th><th></th><th></th></tr></thead>\n",
       "<thead><tr><th>float64</th><th>float64</th><th>float64</th><th>float64</th><th>float64</th><th>float64</th><th>bool</th><th>float64</th><th>float64</th><th>bool</th><th>int64</th><th>float64</th><th>float64</th><th>float64</th><th>float64</th><th>float64</th></tr></thead>\n",
       "<tr><td>0.12</td><td>-1.001402408688029</td><td>9.525371641748255e+21</td><td>692.4525198305719</td><td>240997203.6386495</td><td>4.438068873350758</td><td>False</td><td>0.12</td><td>5.0</td><td>False</td><td>1</td><td>31.642317827988748</td><td>30.070345010609906</td><td>28.407698432701793</td><td>25.56687074093737</td><td>19.659917675146843</td></tr>\n",
       "<tr><td>0.12</td><td>0.3319315913119709</td><td>9.525371641748255e+21</td><td>692.4525198305719</td><td>240997203.6386495</td><td>4.438068873350758</td><td>False</td><td>0.12</td><td>5.0</td><td>False</td><td>1</td><td>31.642317827988748</td><td>30.070345010609906</td><td>28.407698432701793</td><td>25.56687074093737</td><td>19.659917675146843</td></tr>\n",
       "<tr><td>0.12</td><td>0.9985975913119707</td><td>9.525371641748255e+21</td><td>692.4525198305719</td><td>240997203.6386495</td><td>4.438068873350758</td><td>False</td><td>0.12</td><td>5.0</td><td>False</td><td>1</td><td>31.642317827988748</td><td>30.070345010609906</td><td>28.407698432701793</td><td>25.56687074093737</td><td>19.659917675146843</td></tr>\n",
       "<tr><td>0.12</td><td>-0.06806840868802899</td><td>9.525371641748255e+21</td><td>692.4525198305719</td><td>240997203.6386495</td><td>4.438068873350758</td><td>False</td><td>0.12</td><td>5.0</td><td>False</td><td>1</td><td>31.642317827988748</td><td>30.070345010609906</td><td>28.407698432701793</td><td>25.56687074093737</td><td>19.659917675146843</td></tr>\n",
       "<tr><td>0.12</td><td>-0.4680684086880291</td><td>9.525371641748255e+21</td><td>692.4525198305719</td><td>240997203.6386495</td><td>4.438068873350758</td><td>False</td><td>0.12</td><td>5.0</td><td>False</td><td>1</td><td>31.642317827988748</td><td>30.070345010609906</td><td>28.407698432701793</td><td>25.56687074093737</td><td>19.659917675146843</td></tr>\n",
       "<tr><td>0.12</td><td>0.7319315913119708</td><td>9.525371641748255e+21</td><td>692.4525198305719</td><td>240997203.6386495</td><td>4.438068873350758</td><td>False</td><td>0.12</td><td>5.0</td><td>False</td><td>1</td><td>31.642317827988748</td><td>30.070345010609906</td><td>28.407698432701793</td><td>25.56687074093737</td><td>19.659917675146843</td></tr>\n",
       "<tr><td>0.12</td><td>0.8652645913119708</td><td>9.525371641748255e+21</td><td>692.4525198305719</td><td>240997203.6386495</td><td>4.438068873350758</td><td>False</td><td>0.12</td><td>5.0</td><td>False</td><td>1</td><td>31.642317827988748</td><td>30.070345010609906</td><td>28.407698432701793</td><td>25.56687074093737</td><td>19.659917675146843</td></tr>\n",
       "<tr><td>0.12</td><td>0.46526459131197084</td><td>9.525371641748255e+21</td><td>692.4525198305719</td><td>240997203.6386495</td><td>4.438068873350758</td><td>False</td><td>0.12</td><td>5.0</td><td>False</td><td>1</td><td>31.642317827988748</td><td>30.070345010609906</td><td>28.407698432701793</td><td>25.56687074093737</td><td>19.659917675146843</td></tr>\n",
       "<tr><td>0.12</td><td>0.5985975913119708</td><td>9.525371641748255e+21</td><td>692.4525198305719</td><td>240997203.6386495</td><td>4.438068873350758</td><td>False</td><td>0.12</td><td>5.0</td><td>False</td><td>1</td><td>31.642317827988748</td><td>30.070345010609906</td><td>28.407698432701793</td><td>25.56687074093737</td><td>19.659917675146843</td></tr>\n",
       "<tr><td>0.12</td><td>0.06526459131197093</td><td>9.525371641748255e+21</td><td>692.4525198305719</td><td>240997203.6386495</td><td>4.438068873350758</td><td>False</td><td>0.12</td><td>5.0</td><td>False</td><td>1</td><td>31.642317827988748</td><td>30.070345010609906</td><td>28.407698432701793</td><td>25.56687074093737</td><td>19.659917675146843</td></tr>\n",
       "<tr><td>0.12</td><td>-0.6014024086880292</td><td>9.525371641748255e+21</td><td>692.4525198305719</td><td>240997203.6386495</td><td>4.438068873350758</td><td>False</td><td>0.12</td><td>5.0</td><td>False</td><td>1</td><td>31.642317827988748</td><td>30.070345010609906</td><td>28.407698432701793</td><td>25.56687074093737</td><td>19.659917675146843</td></tr>\n",
       "<tr><td>0.12</td><td>-0.20140240868802906</td><td>9.525371641748255e+21</td><td>692.4525198305719</td><td>240997203.6386495</td><td>4.438068873350758</td><td>False</td><td>0.12</td><td>5.0</td><td>False</td><td>1</td><td>31.642317827988748</td><td>30.070345010609906</td><td>28.407698432701793</td><td>25.56687074093737</td><td>19.659917675146843</td></tr>\n",
       "<tr><td>0.12</td><td>0.19859759131197086</td><td>9.525371641748255e+21</td><td>692.4525198305719</td><td>240997203.6386495</td><td>4.438068873350758</td><td>False</td><td>0.12</td><td>5.0</td><td>False</td><td>1</td><td>31.642317827988748</td><td>30.070345010609906</td><td>28.407698432701793</td><td>25.56687074093737</td><td>19.659917675146843</td></tr>\n",
       "<tr><td>0.12</td><td>-1.1347354086880292</td><td>9.525371641748255e+21</td><td>692.4525198305719</td><td>240997203.6386495</td><td>4.438068873350758</td><td>False</td><td>0.12</td><td>5.0</td><td>False</td><td>1</td><td>31.642317827988748</td><td>30.070345010609906</td><td>28.407698432701793</td><td>25.56687074093737</td><td>19.659917675146843</td></tr>\n",
       "<tr><td>0.12</td><td>-0.8680684086880293</td><td>9.525371641748255e+21</td><td>692.4525198305719</td><td>240997203.6386495</td><td>4.438068873350758</td><td>False</td><td>0.12</td><td>5.0</td><td>False</td><td>1</td><td>31.642317827988748</td><td>30.070345010609906</td><td>28.407698432701793</td><td>25.56687074093737</td><td>19.659917675146843</td></tr>\n",
       "<tr><td>0.12</td><td>-0.7347354086880291</td><td>9.525371641748255e+21</td><td>692.4525198305719</td><td>240997203.6386495</td><td>4.438068873350758</td><td>False</td><td>0.12</td><td>5.0</td><td>False</td><td>1</td><td>31.642317827988748</td><td>30.070345010609906</td><td>28.407698432701793</td><td>25.56687074093737</td><td>19.659917675146843</td></tr>\n",
       "</table>"
      ],
      "text/plain": [
       "<Table length=16>\n",
       "  mass         log_a         ...      m_ubv_R           m_ubv_I      \n",
       "solMass                      ...                                     \n",
       "float64       float64        ...      float64           float64      \n",
       "------- -------------------- ... ----------------- ------------------\n",
       "   0.12   -1.001402408688029 ... 25.56687074093737 19.659917675146843\n",
       "   0.12   0.3319315913119709 ... 25.56687074093737 19.659917675146843\n",
       "   0.12   0.9985975913119707 ... 25.56687074093737 19.659917675146843\n",
       "   0.12 -0.06806840868802899 ... 25.56687074093737 19.659917675146843\n",
       "   0.12  -0.4680684086880291 ... 25.56687074093737 19.659917675146843\n",
       "   0.12   0.7319315913119708 ... 25.56687074093737 19.659917675146843\n",
       "   0.12   0.8652645913119708 ... 25.56687074093737 19.659917675146843\n",
       "   0.12  0.46526459131197084 ... 25.56687074093737 19.659917675146843\n",
       "   0.12   0.5985975913119708 ... 25.56687074093737 19.659917675146843\n",
       "   0.12  0.06526459131197093 ... 25.56687074093737 19.659917675146843\n",
       "   0.12  -0.6014024086880292 ... 25.56687074093737 19.659917675146843\n",
       "   0.12 -0.20140240868802906 ... 25.56687074093737 19.659917675146843\n",
       "   0.12  0.19859759131197086 ... 25.56687074093737 19.659917675146843\n",
       "   0.12  -1.1347354086880292 ... 25.56687074093737 19.659917675146843\n",
       "   0.12  -0.8680684086880293 ... 25.56687074093737 19.659917675146843\n",
       "   0.12  -0.7347354086880291 ... 25.56687074093737 19.659917675146843"
      ]
     },
     "execution_count": 25,
     "metadata": {},
     "output_type": "execute_result"
    }
   ],
   "source": [
    "iso1.secondaries[np.where((iso1.secondaries['m_ubv_V']>30) & ((iso1.secondaries['m_ubv_B']-iso1.secondaries['m_ubv_V'])<-1))[0]]"
   ]
  },
  {
   "cell_type": "markdown",
   "metadata": {},
   "source": [
    "Hmm, I think those are stars that are going to be white dwarves very soon or may unintentionally be brown dwarves. At least according to HOKI's criterion for what is a white dwarf or not. At the very least, at least the stars we just saw were low mass stars so they should be **LOW** on the CMD"
   ]
  },
  {
   "cell_type": "code",
   "execution_count": 26,
   "metadata": {},
   "outputs": [
    {
     "name": "stdout",
     "output_type": "stream",
     "text": [
      "Isochrone generation took 70.205771 s.\n",
      "Making photometry for isochrone: log(t) = 9.00  AKs = 0.00  dist = 100\n",
      "     Starting at:  2020-12-21 22:34:40.737088   Usually takes ~5 minutes\n",
      "Starting filter: ubv,U   Elapsed time: 0.00 seconds\n",
      "Starting synthetic photometry\n",
      "M =   0.106 Msun  T =  2909 K  m_ubv_U = 23.81\n",
      "M =   1.215 Msun  T =  6415 K  m_ubv_U = 9.34\n",
      "M =   2.038 Msun  T =  7816 K  m_ubv_U = 6.07\n",
      "M =   2.055 Msun  T =  4955 K  m_ubv_U = 7.95\n",
      "M =   2.071 Msun  T =  4749 K  m_ubv_U = 7.60\n",
      "M =   2.275 Msun  T =  4576 K  m_ubv_U = 7.10\n",
      "M =   2.287 Msun  T =  3677 K  m_ubv_U = 7.20\n",
      "M =   2.287 Msun  T =  3493 K  m_ubv_U = 7.28\n",
      "M =   2.287 Msun  T =  3478 K  m_ubv_U = 7.29\n",
      "M =   2.288 Msun  T =  3244 K  m_ubv_U = 7.38\n",
      "M =   2.288 Msun  T =  3188 K  m_ubv_U = 7.60\n",
      "M =   2.288 Msun  T = 29326 K  m_ubv_U = 1.56\n",
      "M =   2.288 Msun  T = 134813 K  m_ubv_U = 6.28\n",
      "Starting filter: ubv,B   Elapsed time: 3.07 seconds\n",
      "Starting synthetic photometry\n",
      "M =   0.106 Msun  T =  2909 K  m_ubv_B = 22.37\n",
      "M =   1.215 Msun  T =  6415 K  m_ubv_B = 9.39\n",
      "M =   2.038 Msun  T =  7816 K  m_ubv_B = 5.96\n",
      "M =   2.055 Msun  T =  4955 K  m_ubv_B = 7.34\n",
      "M =   2.071 Msun  T =  4749 K  m_ubv_B = 6.76\n",
      "M =   2.275 Msun  T =  4576 K  m_ubv_B = 6.04\n",
      "M =   2.287 Msun  T =  3677 K  m_ubv_B = 5.14\n",
      "M =   2.287 Msun  T =  3493 K  m_ubv_B = 5.35\n",
      "M =   2.287 Msun  T =  3478 K  m_ubv_B = 5.37\n",
      "M =   2.288 Msun  T =  3244 K  m_ubv_B = 6.16\n",
      "M =   2.288 Msun  T =  3188 K  m_ubv_B = 6.69\n",
      "M =   2.288 Msun  T = 29326 K  m_ubv_B = 2.63\n",
      "M =   2.288 Msun  T = 134813 K  m_ubv_B = 7.47\n",
      "Starting filter: ubv,V   Elapsed time: 6.09 seconds\n",
      "Starting synthetic photometry\n",
      "M =   0.106 Msun  T =  2909 K  m_ubv_V = 20.95\n",
      "M =   1.215 Msun  T =  6415 K  m_ubv_V = 8.89\n",
      "M =   2.038 Msun  T =  7816 K  m_ubv_V = 5.77\n",
      "M =   2.055 Msun  T =  4955 K  m_ubv_V = 6.36\n",
      "M =   2.071 Msun  T =  4749 K  m_ubv_V = 5.67\n",
      "M =   2.275 Msun  T =  4576 K  m_ubv_V = 4.86\n",
      "M =   2.287 Msun  T =  3677 K  m_ubv_V = 3.49\n",
      "M =   2.287 Msun  T =  3493 K  m_ubv_V = 3.71\n",
      "M =   2.287 Msun  T =  3478 K  m_ubv_V = 3.74\n",
      "M =   2.288 Msun  T =  3244 K  m_ubv_V = 4.81\n",
      "M =   2.288 Msun  T =  3188 K  m_ubv_V = 5.46\n",
      "M =   2.288 Msun  T = 29326 K  m_ubv_V = 2.87\n",
      "M =   2.288 Msun  T = 134813 K  m_ubv_V = 7.83\n",
      "Starting filter: ubv,R   Elapsed time: 9.13 seconds\n",
      "Starting synthetic photometry\n",
      "M =   0.106 Msun  T =  2909 K  m_ubv_R = 19.54\n",
      "M =   1.215 Msun  T =  6415 K  m_ubv_R = 8.63\n",
      "M =   2.038 Msun  T =  7816 K  m_ubv_R = 5.67\n",
      "M =   2.055 Msun  T =  4955 K  m_ubv_R = 5.89\n",
      "M =   2.071 Msun  T =  4749 K  m_ubv_R = 5.15\n",
      "M =   2.275 Msun  T =  4576 K  m_ubv_R = 4.31\n",
      "M =   2.287 Msun  T =  3677 K  m_ubv_R = 2.64\n",
      "M =   2.287 Msun  T =  3493 K  m_ubv_R = 2.76\n",
      "M =   2.287 Msun  T =  3478 K  m_ubv_R = 2.78\n",
      "M =   2.288 Msun  T =  3244 K  m_ubv_R = 3.55\n",
      "M =   2.288 Msun  T =  3188 K  m_ubv_R = 4.02\n",
      "M =   2.288 Msun  T = 29326 K  m_ubv_R = 2.94\n",
      "M =   2.288 Msun  T = 134813 K  m_ubv_R = 7.96\n",
      "Starting filter: ubv,I   Elapsed time: 12.07 seconds\n",
      "Starting synthetic photometry\n",
      "M =   0.106 Msun  T =  2909 K  m_ubv_I = 16.51\n",
      "M =   1.215 Msun  T =  6415 K  m_ubv_I = 8.31\n",
      "M =   2.038 Msun  T =  7816 K  m_ubv_I = 5.55\n",
      "M =   2.055 Msun  T =  4955 K  m_ubv_I = 5.30\n",
      "M =   2.071 Msun  T =  4749 K  m_ubv_I = 4.51\n",
      "M =   2.275 Msun  T =  4576 K  m_ubv_I = 3.61\n",
      "M =   2.287 Msun  T =  3677 K  m_ubv_I = 1.33\n",
      "M =   2.287 Msun  T =  3493 K  m_ubv_I = 0.95\n",
      "M =   2.287 Msun  T =  3478 K  m_ubv_I = 0.93\n",
      "M =   2.288 Msun  T =  3244 K  m_ubv_I = 0.71\n",
      "M =   2.288 Msun  T =  3188 K  m_ubv_I = 0.87\n",
      "M =   2.288 Msun  T = 29326 K  m_ubv_I = 3.16\n",
      "M =   2.288 Msun  T = 134813 K  m_ubv_I = 8.27\n",
      "      Time taken: 15.02 seconds\n"
     ]
    }
   ],
   "source": [
    "iso2=synthetic.IsochronePhot(9.0, 0.0, 100, math.log(1), recomp=True) # New MIST v.1 isochrone for same metallicity"
   ]
  },
  {
   "cell_type": "markdown",
   "metadata": {},
   "source": [
    "Looking at the distribution of logg values. for the stars in the MISTv.1 isochrone."
   ]
  },
  {
   "cell_type": "code",
   "execution_count": 27,
   "metadata": {},
   "outputs": [
    {
     "data": {
      "text/plain": [
       "7.649638166828848"
      ]
     },
     "execution_count": 27,
     "metadata": {},
     "output_type": "execute_result"
    }
   ],
   "source": [
    "np.max(iso2.points['logg'])"
   ]
  },
  {
   "cell_type": "code",
   "execution_count": 28,
   "metadata": {},
   "outputs": [
    {
     "data": {
      "text/plain": [
       "(array([455., 107., 231., 202., 161.,  44.,  28.,  61.,   0.,   0.,   0.,\n",
       "          0.,   0.,   0.,   0.,   0.,   0.,   0.,   0.,   0.,   0.,   0.,\n",
       "          0.,   0.,   0.,   0.,   0.,   0.,   0.]),\n",
       " array([ 0,  1,  2,  3,  4,  5,  6,  7,  8,  9, 10, 11, 12, 13, 14, 15, 16,\n",
       "        17, 18, 19, 20, 21, 22, 23, 24, 25, 26, 27, 28, 29]),\n",
       " <a list of 29 Patch objects>)"
      ]
     },
     "execution_count": 28,
     "metadata": {},
     "output_type": "execute_result"
    },
    {
     "data": {
      "image/png": "[encoded data removed]",
      "text/plain": [
       "<Figure size 432x288 with 1 Axes>"
      ]
     },
     "metadata": {
      "needs_background": "light"
     },
     "output_type": "display_data"
    }
   ],
   "source": [
    "import matplotlib.pyplot as plt\n",
    "plt.xlabel(\"logg in cgs\")\n",
    "plt.title(\"Histogram of logg values of stars in the MIST v1 isochrone\")\n",
    "plt.hist(np.array([x for x in iso2.points['logg'] if np.isfinite(x)]), np.arange(0, 30, 1))"
   ]
  },
  {
   "cell_type": "code",
   "execution_count": 29,
   "metadata": {},
   "outputs": [
    {
     "data": {
      "text/plain": [
       "2.3813767318010193"
      ]
     },
     "execution_count": 29,
     "metadata": {},
     "output_type": "execute_result"
    }
   ],
   "source": [
    "np.median(iso2.points['logg'])"
   ]
  },
  {
   "cell_type": "code",
   "execution_count": 30,
   "metadata": {},
   "outputs": [
    {
     "data": {
      "text/plain": [
       "2.5137952710880946"
      ]
     },
     "execution_count": 30,
     "metadata": {},
     "output_type": "execute_result"
    }
   ],
   "source": [
    "np.mean(iso2.points['logg'])"
   ]
  },
  {
   "cell_type": "code",
   "execution_count": 31,
   "metadata": {},
   "outputs": [],
   "source": [
    "from spisea import imf\n",
    "from spisea.imf import imf, multiplicity\n",
    "from spisea import ifmr\n"
   ]
  },
  {
   "cell_type": "markdown",
   "metadata": {},
   "source": [
    "Make the clusters corresponding to the binary star isochrone and the MISTv.1 isochrone"
   ]
  },
  {
   "cell_type": "code",
   "execution_count": 32,
   "metadata": {
    "scrolled": false
   },
   "outputs": [
    {
     "name": "stdout",
     "output_type": "stream",
     "text": [
      "661.1410700000005\n",
      "Found 33 companions out of stellar mass range\n"
     ]
    },
    {
     "name": "stderr",
     "output_type": "stream",
     "text": [
      "/opt/anaconda3/envs/astroconda/lib/python3.7/site-packages/astropy/table/column.py:1020: RuntimeWarning: invalid value encountered in greater_equal\n",
      "  result = getattr(super(), op)(other)\n"
     ]
    }
   ],
   "source": [
    "clus_1=synthetic.Binary_Cluster(iso1, imf.IMFSalpeter1955(multiplicity=multiplicity.MultiplicityResolvedDK()), 2000, ifmr=ifmr.IFMR_Spera15())\n",
    "clus_2=synthetic.ResolvedCluster(iso2, imf.IMFSalpeter1955(multiplicity=multiplicity.MultiplicityResolvedDK()), 2000, ifmr=ifmr.IFMR_Spera15())"
   ]
  },
  {
   "cell_type": "markdown",
   "metadata": {},
   "source": [
    "Now let's visualize the isochrone we have created so far with a color magnitude diagram. There we can see the end of main sequence and perhaps the M type"
   ]
  },
  {
   "cell_type": "code",
   "execution_count": 33,
   "metadata": {},
   "outputs": [
    {
     "data": {
      "text/plain": [
       "<matplotlib.legend.Legend at 0x7f88acc2d8d0>"
      ]
     },
     "execution_count": 33,
     "metadata": {},
     "output_type": "execute_result"
    },
    {
     "data": {
      "image/png": "[encoded data removed]",
      "text/plain": [
       "<Figure size 432x288 with 1 Axes>"
      ]
     },
     "metadata": {
      "needs_background": "light"
     },
     "output_type": "display_data"
    }
   ],
   "source": [
    "# Taking a look at the Binary Cluster vs Default Settings cluster Observer's HR Diagram\n",
    "# Remember to use a distance modulus!\n",
    "import matplotlib.pyplot as plt\n",
    "plt.plot(iso1.primaries['m_ubv_B']-iso1.primaries[\"m_ubv_V\"], iso1.primaries[\"m_ubv_V\"]-5*np.log10(100), \"r.\")\n",
    "plt.plot(iso1.secondaries['m_ubv_B']-iso1.secondaries[\"m_ubv_V\"], iso1.secondaries[\"m_ubv_V\"]-5*np.log10(100), \"r.\")\n",
    "plt.plot(iso1.singles['m_ubv_B']-iso1.singles[\"m_ubv_V\"], iso1.singles[\"m_ubv_V\"]-5*np.log10(100), \"r.\", label=\"BPASS isochrone\")\n",
    "plt.plot(iso2.points['m_ubv_B']-iso2.points[\"m_ubv_V\"], iso2.points[\"m_ubv_V\"]-5*np.log10(100), \"b+\", label=\"MISTv1\", alpha = 0.2)\n",
    "plt.xlabel(\"B-V\")\n",
    "plt.ylabel(\"M_V\")\n",
    "plt.title(\"Color magnitude Diagram of Isochrones at solar metallicity and 1 billion years age\")\n",
    "plt.gca().invert_yaxis()\n",
    "plt.legend()"
   ]
  },
  {
   "cell_type": "markdown",
   "metadata": {},
   "source": [
    "We do have several outliers but otherwise the pattern does not seem too terribly off from the MISTv.1 isochrone's shape. Now I look at the primary stars and see if there are any problems caused."
   ]
  },
  {
   "cell_type": "code",
   "execution_count": 34,
   "metadata": {},
   "outputs": [
    {
     "data": {
      "text/plain": [
       "<matplotlib.legend.Legend at 0x7f892a850b00>"
      ]
     },
     "execution_count": 34,
     "metadata": {},
     "output_type": "execute_result"
    },
    {
     "data": {
      "image/png": "[encoded data removed]",
      "text/plain": [
       "<Figure size 432x288 with 1 Axes>"
      ]
     },
     "metadata": {
      "needs_background": "light"
     },
     "output_type": "display_data"
    }
   ],
   "source": [
    "# Taking a look at the Binary Cluster vs Default Settings cluster Observer's HR Diagram\n",
    "# Remember to use a distance modulus!\n",
    "import matplotlib.pyplot as plt\n",
    "plt.plot(iso1.primaries['m_ubv_B']-iso1.primaries[\"m_ubv_V\"], iso1.primaries[\"m_ubv_V\"]-5*np.log10(100), \"r+\",  label=\"BPASS isochrone\", alpha =0.7)\n",
    "plt.xlabel(\"B-V\")\n",
    "plt.ylabel(\"M_V\")\n",
    "plt.title(\"Color magnitude Diagram of Isochrones at solar metallicity and 1 billion years age (Primary stars only)\")\n",
    "plt.gca().invert_yaxis()\n",
    "plt.legend()"
   ]
  },
  {
   "cell_type": "code",
   "execution_count": 35,
   "metadata": {},
   "outputs": [
    {
     "data": {
      "text/plain": [
       "<matplotlib.legend.Legend at 0x7f8918f24f28>"
      ]
     },
     "execution_count": 35,
     "metadata": {},
     "output_type": "execute_result"
    },
    {
     "data": {
      "image/png": "[encoded data removed]",
      "text/plain": [
       "<Figure size 432x288 with 1 Axes>"
      ]
     },
     "metadata": {
      "needs_background": "light"
     },
     "output_type": "display_data"
    }
   ],
   "source": [
    "import matplotlib.pyplot as plt\n",
    "plt.plot(iso1.secondaries['m_ubv_B']-iso1.secondaries[\"m_ubv_V\"], iso1.secondaries[\"m_ubv_V\"]-5*np.log10(100), \"r+\",  label=\"BPASS isochrone\", alpha =0.7)\n",
    "plt.xlabel(\"B-V\")\n",
    "plt.ylabel(\"M_V\")\n",
    "plt.title(\"Color magnitude Diagram of Isochrones at solar metallicity and 1 billion years age (Primary stars only)\")\n",
    "plt.gca().invert_yaxis()\n",
    "plt.legend()"
   ]
  },
  {
   "cell_type": "markdown",
   "metadata": {},
   "source": [
    "Where are some of the goofy outliers coming from?"
   ]
  },
  {
   "cell_type": "code",
   "execution_count": 36,
   "metadata": {},
   "outputs": [
    {
     "name": "stderr",
     "output_type": "stream",
     "text": [
      "/opt/anaconda3/envs/astroconda/lib/python3.7/site-packages/astropy/table/column.py:1020: RuntimeWarning: invalid value encountered in greater\n",
      "  result = getattr(super(), op)(other)\n"
     ]
    },
    {
     "data": {
      "text/html": [
       "<i>Table length=16</i>\n",
       "<table id=\"table140226805560040\" class=\"table-striped table-bordered table-condensed\">\n",
       "<thead><tr><th>mass</th><th>log_a</th><th>L</th><th>Teff</th><th>R</th><th>logg</th><th>isWR</th><th>mass_current</th><th>phase</th><th>merged</th><th>source</th><th>m_ubv_U</th><th>m_ubv_V</th><th>m_ubv_B</th><th>m_ubv_R</th><th>m_ubv_I</th></tr></thead>\n",
       "<thead><tr><th>solMass</th><th></th><th>W</th><th>K</th><th>m</th><th></th><th></th><th>solMass</th><th></th><th></th><th></th><th></th><th></th><th></th><th></th><th></th></tr></thead>\n",
       "<thead><tr><th>float64</th><th>float64</th><th>float64</th><th>float64</th><th>float64</th><th>float64</th><th>bool</th><th>float64</th><th>float64</th><th>bool</th><th>int64</th><th>float64</th><th>float64</th><th>float64</th><th>float64</th><th>float64</th></tr></thead>\n",
       "<tr><td>0.12</td><td>-1.001402408688029</td><td>9.525371641748255e+21</td><td>692.4525198305719</td><td>240997203.6386495</td><td>4.438068873350758</td><td>False</td><td>0.12</td><td>5.0</td><td>False</td><td>1</td><td>31.642317827988748</td><td>30.070345010609906</td><td>28.407698432701793</td><td>25.56687074093737</td><td>19.659917675146843</td></tr>\n",
       "<tr><td>0.12</td><td>0.3319315913119709</td><td>9.525371641748255e+21</td><td>692.4525198305719</td><td>240997203.6386495</td><td>4.438068873350758</td><td>False</td><td>0.12</td><td>5.0</td><td>False</td><td>1</td><td>31.642317827988748</td><td>30.070345010609906</td><td>28.407698432701793</td><td>25.56687074093737</td><td>19.659917675146843</td></tr>\n",
       "<tr><td>0.12</td><td>0.9985975913119707</td><td>9.525371641748255e+21</td><td>692.4525198305719</td><td>240997203.6386495</td><td>4.438068873350758</td><td>False</td><td>0.12</td><td>5.0</td><td>False</td><td>1</td><td>31.642317827988748</td><td>30.070345010609906</td><td>28.407698432701793</td><td>25.56687074093737</td><td>19.659917675146843</td></tr>\n",
       "<tr><td>0.12</td><td>-0.06806840868802899</td><td>9.525371641748255e+21</td><td>692.4525198305719</td><td>240997203.6386495</td><td>4.438068873350758</td><td>False</td><td>0.12</td><td>5.0</td><td>False</td><td>1</td><td>31.642317827988748</td><td>30.070345010609906</td><td>28.407698432701793</td><td>25.56687074093737</td><td>19.659917675146843</td></tr>\n",
       "<tr><td>0.12</td><td>-0.4680684086880291</td><td>9.525371641748255e+21</td><td>692.4525198305719</td><td>240997203.6386495</td><td>4.438068873350758</td><td>False</td><td>0.12</td><td>5.0</td><td>False</td><td>1</td><td>31.642317827988748</td><td>30.070345010609906</td><td>28.407698432701793</td><td>25.56687074093737</td><td>19.659917675146843</td></tr>\n",
       "<tr><td>0.12</td><td>0.7319315913119708</td><td>9.525371641748255e+21</td><td>692.4525198305719</td><td>240997203.6386495</td><td>4.438068873350758</td><td>False</td><td>0.12</td><td>5.0</td><td>False</td><td>1</td><td>31.642317827988748</td><td>30.070345010609906</td><td>28.407698432701793</td><td>25.56687074093737</td><td>19.659917675146843</td></tr>\n",
       "<tr><td>0.12</td><td>0.8652645913119708</td><td>9.525371641748255e+21</td><td>692.4525198305719</td><td>240997203.6386495</td><td>4.438068873350758</td><td>False</td><td>0.12</td><td>5.0</td><td>False</td><td>1</td><td>31.642317827988748</td><td>30.070345010609906</td><td>28.407698432701793</td><td>25.56687074093737</td><td>19.659917675146843</td></tr>\n",
       "<tr><td>0.12</td><td>0.46526459131197084</td><td>9.525371641748255e+21</td><td>692.4525198305719</td><td>240997203.6386495</td><td>4.438068873350758</td><td>False</td><td>0.12</td><td>5.0</td><td>False</td><td>1</td><td>31.642317827988748</td><td>30.070345010609906</td><td>28.407698432701793</td><td>25.56687074093737</td><td>19.659917675146843</td></tr>\n",
       "<tr><td>0.12</td><td>0.5985975913119708</td><td>9.525371641748255e+21</td><td>692.4525198305719</td><td>240997203.6386495</td><td>4.438068873350758</td><td>False</td><td>0.12</td><td>5.0</td><td>False</td><td>1</td><td>31.642317827988748</td><td>30.070345010609906</td><td>28.407698432701793</td><td>25.56687074093737</td><td>19.659917675146843</td></tr>\n",
       "<tr><td>0.12</td><td>0.06526459131197093</td><td>9.525371641748255e+21</td><td>692.4525198305719</td><td>240997203.6386495</td><td>4.438068873350758</td><td>False</td><td>0.12</td><td>5.0</td><td>False</td><td>1</td><td>31.642317827988748</td><td>30.070345010609906</td><td>28.407698432701793</td><td>25.56687074093737</td><td>19.659917675146843</td></tr>\n",
       "<tr><td>0.12</td><td>-0.6014024086880292</td><td>9.525371641748255e+21</td><td>692.4525198305719</td><td>240997203.6386495</td><td>4.438068873350758</td><td>False</td><td>0.12</td><td>5.0</td><td>False</td><td>1</td><td>31.642317827988748</td><td>30.070345010609906</td><td>28.407698432701793</td><td>25.56687074093737</td><td>19.659917675146843</td></tr>\n",
       "<tr><td>0.12</td><td>-0.20140240868802906</td><td>9.525371641748255e+21</td><td>692.4525198305719</td><td>240997203.6386495</td><td>4.438068873350758</td><td>False</td><td>0.12</td><td>5.0</td><td>False</td><td>1</td><td>31.642317827988748</td><td>30.070345010609906</td><td>28.407698432701793</td><td>25.56687074093737</td><td>19.659917675146843</td></tr>\n",
       "<tr><td>0.12</td><td>0.19859759131197086</td><td>9.525371641748255e+21</td><td>692.4525198305719</td><td>240997203.6386495</td><td>4.438068873350758</td><td>False</td><td>0.12</td><td>5.0</td><td>False</td><td>1</td><td>31.642317827988748</td><td>30.070345010609906</td><td>28.407698432701793</td><td>25.56687074093737</td><td>19.659917675146843</td></tr>\n",
       "<tr><td>0.12</td><td>-1.1347354086880292</td><td>9.525371641748255e+21</td><td>692.4525198305719</td><td>240997203.6386495</td><td>4.438068873350758</td><td>False</td><td>0.12</td><td>5.0</td><td>False</td><td>1</td><td>31.642317827988748</td><td>30.070345010609906</td><td>28.407698432701793</td><td>25.56687074093737</td><td>19.659917675146843</td></tr>\n",
       "<tr><td>0.12</td><td>-0.8680684086880293</td><td>9.525371641748255e+21</td><td>692.4525198305719</td><td>240997203.6386495</td><td>4.438068873350758</td><td>False</td><td>0.12</td><td>5.0</td><td>False</td><td>1</td><td>31.642317827988748</td><td>30.070345010609906</td><td>28.407698432701793</td><td>25.56687074093737</td><td>19.659917675146843</td></tr>\n",
       "<tr><td>0.12</td><td>-0.7347354086880291</td><td>9.525371641748255e+21</td><td>692.4525198305719</td><td>240997203.6386495</td><td>4.438068873350758</td><td>False</td><td>0.12</td><td>5.0</td><td>False</td><td>1</td><td>31.642317827988748</td><td>30.070345010609906</td><td>28.407698432701793</td><td>25.56687074093737</td><td>19.659917675146843</td></tr>\n",
       "</table>"
      ],
      "text/plain": [
       "<Table length=16>\n",
       "  mass         log_a         ...      m_ubv_R           m_ubv_I      \n",
       "solMass                      ...                                     \n",
       "float64       float64        ...      float64           float64      \n",
       "------- -------------------- ... ----------------- ------------------\n",
       "   0.12   -1.001402408688029 ... 25.56687074093737 19.659917675146843\n",
       "   0.12   0.3319315913119709 ... 25.56687074093737 19.659917675146843\n",
       "   0.12   0.9985975913119707 ... 25.56687074093737 19.659917675146843\n",
       "   0.12 -0.06806840868802899 ... 25.56687074093737 19.659917675146843\n",
       "   0.12  -0.4680684086880291 ... 25.56687074093737 19.659917675146843\n",
       "   0.12   0.7319315913119708 ... 25.56687074093737 19.659917675146843\n",
       "   0.12   0.8652645913119708 ... 25.56687074093737 19.659917675146843\n",
       "   0.12  0.46526459131197084 ... 25.56687074093737 19.659917675146843\n",
       "   0.12   0.5985975913119708 ... 25.56687074093737 19.659917675146843\n",
       "   0.12  0.06526459131197093 ... 25.56687074093737 19.659917675146843\n",
       "   0.12  -0.6014024086880292 ... 25.56687074093737 19.659917675146843\n",
       "   0.12 -0.20140240868802906 ... 25.56687074093737 19.659917675146843\n",
       "   0.12  0.19859759131197086 ... 25.56687074093737 19.659917675146843\n",
       "   0.12  -1.1347354086880292 ... 25.56687074093737 19.659917675146843\n",
       "   0.12  -0.8680684086880293 ... 25.56687074093737 19.659917675146843\n",
       "   0.12  -0.7347354086880291 ... 25.56687074093737 19.659917675146843"
      ]
     },
     "execution_count": 36,
     "metadata": {},
     "output_type": "execute_result"
    }
   ],
   "source": [
    "iso1.secondaries[np.where(iso1.secondaries[\"m_ubv_V\"]-5*np.log10(100)>20.0)[0]]"
   ]
  },
  {
   "cell_type": "code",
   "execution_count": 37,
   "metadata": {},
   "outputs": [],
   "source": [
    "issue = iso1.secondaries[np.where(iso1.secondaries[\"m_ubv_V\"]-5*np.log10(100)>20.0)[0]]"
   ]
  },
  {
   "cell_type": "code",
   "execution_count": 38,
   "metadata": {},
   "outputs": [
    {
     "data": {
      "text/html": [
       "&lt;Column name=&apos;mass&apos; dtype=&apos;float64&apos; unit=&apos;solMass&apos; length=1&gt;\n",
       "<table>\n",
       "<tr><td>0.12</td></tr>\n",
       "</table>"
      ],
      "text/plain": [
       "<Column name='mass' dtype='float64' unit='solMass' length=1>\n",
       "0.12"
      ]
     },
     "execution_count": 38,
     "metadata": {},
     "output_type": "execute_result"
    }
   ],
   "source": [
    "np.unique(issue['mass'])"
   ]
  },
  {
   "cell_type": "code",
   "execution_count": 39,
   "metadata": {},
   "outputs": [
    {
     "data": {
      "text/html": [
       "&lt;Column name=&apos;phase&apos; dtype=&apos;float64&apos; length=1&gt;\n",
       "<table>\n",
       "<tr><td>5.0</td></tr>\n",
       "</table>"
      ],
      "text/plain": [
       "<Column name='phase' dtype='float64' length=1>\n",
       "5.0"
      ]
     },
     "execution_count": 39,
     "metadata": {},
     "output_type": "execute_result"
    }
   ],
   "source": [
    "np.unique(issue['phase'])"
   ]
  },
  {
   "cell_type": "code",
   "execution_count": 40,
   "metadata": {},
   "outputs": [
    {
     "data": {
      "text/plain": [
       "<matplotlib.legend.Legend at 0x7f892a8a8668>"
      ]
     },
     "execution_count": 40,
     "metadata": {},
     "output_type": "execute_result"
    },
    {
     "data": {
      "image/png": "[encoded data removed]",
      "text/plain": [
       "<Figure size 432x288 with 1 Axes>"
      ]
     },
     "metadata": {
      "needs_background": "light"
     },
     "output_type": "display_data"
    }
   ],
   "source": [
    "import matplotlib.pyplot as plt\n",
    "plt.plot(np.log10(iso1.primaries['Teff']), np.log10(iso1.primaries[\"L\"]), \"r.\", alpha =0.3)\n",
    "plt.plot(np.log10(iso1.secondaries['Teff']), np.log10(iso1.secondaries[\"L\"]), \"r.\", alpha =0.3)\n",
    "plt.plot(np.log10(iso1.singles['Teff']), np.log10(iso1.singles[\"L\"]), \"r.\", label=\"BPASS isochrone\", alpha =0.3)\n",
    "plt.plot(np.log10(iso2.points['Teff']), np.log10(iso2.points[\"L\"]), \"b+\", label=\"MISTv1\", alpha =0.1)\n",
    "plt.xlabel(\"log(T in Kelvin)\")\n",
    "plt.ylabel(\"log(L in Watts)\")\n",
    "plt.title(\"HR Diagram of Isochrones at solar metallicity and 1 billion years age\")\n",
    "plt.gca().invert_xaxis()\n",
    "plt.legend()\n",
    "# Rough pattern seems to fit. What's that line?"
   ]
  },
  {
   "cell_type": "markdown",
   "metadata": {},
   "source": [
    "A good sign here is that there are plenty of compact remnant (that means good number of stars have gone through their main-sequence and post-main sequence). I also notice stars turning to the red giant branch. This is going to be really important when we decide to use the clusters as reference for finding ages of actual star clusters."
   ]
  },
  {
   "cell_type": "code",
   "execution_count": 41,
   "metadata": {},
   "outputs": [
    {
     "data": {
      "text/plain": [
       "<matplotlib.legend.Legend at 0x7f891d2a0a90>"
      ]
     },
     "execution_count": 41,
     "metadata": {},
     "output_type": "execute_result"
    },
    {
     "data": {
      "image/png": "[encoded data removed]",
      "text/plain": [
       "<Figure size 432x288 with 1 Axes>"
      ]
     },
     "metadata": {
      "needs_background": "light"
     },
     "output_type": "display_data"
    }
   ],
   "source": [
    "# Plot the mass-luminosity relationship\n",
    "from astropy import constants as cs\n",
    "import matplotlib.pyplot as plt\n",
    "plt.plot(np.log10(iso1.primaries['mass_current']), np.log10(iso1.primaries[\"L\"]/cs.L_sun), \"r.\")\n",
    "plt.plot(np.log10(iso1.secondaries['mass_current']), np.log10(iso1.secondaries[\"L\"]/cs.L_sun), \"r.\")\n",
    "plt.plot(np.log10(iso1.singles['mass_current']), np.log10(iso1.singles[\"L\"]/cs.L_sun), \"r.\", label=\"BPASS isochrone\")\n",
    "plt.plot(np.log10(iso2.points['mass_current']), np.log10(iso2.points[\"L\"]/cs.L_sun), \"b+\", label=\"MISTv1\", alpha =0.2)\n",
    "plt.xlabel(\"log(Current Mass in solar masses)\")\n",
    "plt.ylabel(\"log(L/L_solar)\")\n",
    "plt.title(\"log Mass-logL of Isochrones at solar metallicity and 1 billion years age\")\n",
    "plt.legend()\n",
    "# Rough pattern seems to fit. What's that line?"
   ]
  },
  {
   "cell_type": "markdown",
   "metadata": {},
   "source": [
    "Which table is causing that line segment at around log10(L/L_sun)=-3?\n",
    "Let's find out."
   ]
  },
  {
   "cell_type": "code",
   "execution_count": 42,
   "metadata": {},
   "outputs": [
    {
     "data": {
      "text/plain": [
       "[<matplotlib.lines.Line2D at 0x7f892a92bc50>]"
      ]
     },
     "execution_count": 42,
     "metadata": {},
     "output_type": "execute_result"
    },
    {
     "data": {
      "image/png": "[encoded data removed]",
      "text/plain": [
       "<Figure size 432x288 with 1 Axes>"
      ]
     },
     "metadata": {
      "needs_background": "light"
     },
     "output_type": "display_data"
    }
   ],
   "source": [
    "from astropy import constants as cs\n",
    "import matplotlib.pyplot as plt\n",
    "plt.plot(np.log10(iso1.primaries['mass_current']), np.log10(iso1.primaries[\"L\"]/cs.L_sun), \"r.\", label=\"BPASS isochrone\")"
   ]
  },
  {
   "cell_type": "markdown",
   "metadata": {},
   "source": [
    "Which type of secondary star is it that is causing this strange pattern?"
   ]
  },
  {
   "cell_type": "code",
   "execution_count": 43,
   "metadata": {},
   "outputs": [
    {
     "name": "stderr",
     "output_type": "stream",
     "text": [
      "/opt/anaconda3/envs/astroconda/lib/python3.7/site-packages/astropy/units/quantity.py:477: RuntimeWarning: invalid value encountered in greater\n",
      "  result = super().__array_ufunc__(function, method, *arrays, **kwargs)\n",
      "/opt/anaconda3/envs/astroconda/lib/python3.7/site-packages/astropy/units/quantity.py:477: RuntimeWarning: invalid value encountered in less\n",
      "  result = super().__array_ufunc__(function, method, *arrays, **kwargs)\n"
     ]
    }
   ],
   "source": [
    "bad_line = iso1.primaries[np.where((np.log10(iso1.primaries[\"L\"]/cs.L_sun)>-3.30) & (np.log10(iso1.primaries[\"L\"]/cs.L_sun)<-3.10))[0]]"
   ]
  },
  {
   "cell_type": "code",
   "execution_count": 44,
   "metadata": {},
   "outputs": [
    {
     "data": {
      "text/html": [
       "<i>Table length=0</i>\n",
       "<table id=\"table140224375270592\" class=\"table-striped table-bordered table-condensed\">\n",
       "<thead><tr><th>mass</th><th>L</th><th>Teff</th><th>R</th><th>logg</th><th>isWR</th><th>mass_current</th><th>phase</th><th>source</th><th>m_ubv_U</th><th>m_ubv_V</th><th>m_ubv_B</th><th>m_ubv_R</th><th>m_ubv_I</th></tr></thead>\n",
       "<thead><tr><th>solMass</th><th>W</th><th>K</th><th>m</th><th></th><th></th><th>solMass</th><th></th><th></th><th></th><th></th><th></th><th></th><th></th></tr></thead>\n",
       "<thead><tr><th>float64</th><th>float64</th><th>float64</th><th>float64</th><th>float64</th><th>bool</th><th>float64</th><th>float64</th><th>int64</th><th>float64</th><th>float64</th><th>float64</th><th>float64</th><th>float64</th></tr></thead>\n",
       "</table>"
      ],
      "text/plain": [
       "<Table length=0>\n",
       "  mass     L      Teff     R      logg  ... m_ubv_V m_ubv_B m_ubv_R m_ubv_I\n",
       "solMass    W       K       m            ...                                \n",
       "float64 float64 float64 float64 float64 ... float64 float64 float64 float64\n",
       "------- ------- ------- ------- ------- ... ------- ------- ------- -------"
      ]
     },
     "execution_count": 44,
     "metadata": {},
     "output_type": "execute_result"
    }
   ],
   "source": [
    "bad_line"
   ]
  },
  {
   "cell_type": "markdown",
   "metadata": {},
   "source": [
    "What sorts of characteristics (logg, Teff, L) can be causing it? Let's find out"
   ]
  },
  {
   "cell_type": "code",
   "execution_count": 45,
   "metadata": {},
   "outputs": [
    {
     "data": {
      "text/html": [
       "&lt;Column name=&apos;L&apos; dtype=&apos;float64&apos; unit=&apos;W&apos; length=0&gt;\n",
       "<table>\n",
       "</table>"
      ],
      "text/plain": [
       "<Column name='L' dtype='float64' unit='W' length=0>"
      ]
     },
     "execution_count": 45,
     "metadata": {},
     "output_type": "execute_result"
    }
   ],
   "source": [
    "np.unique(bad_line['L'])"
   ]
  },
  {
   "cell_type": "code",
   "execution_count": 46,
   "metadata": {},
   "outputs": [
    {
     "data": {
      "text/html": [
       "&lt;Column name=&apos;Teff&apos; dtype=&apos;float64&apos; unit=&apos;K&apos; length=0&gt;\n",
       "<table>\n",
       "</table>"
      ],
      "text/plain": [
       "<Column name='Teff' dtype='float64' unit='K' length=0>"
      ]
     },
     "execution_count": 46,
     "metadata": {},
     "output_type": "execute_result"
    }
   ],
   "source": [
    "np.unique(bad_line['Teff'])"
   ]
  },
  {
   "cell_type": "code",
   "execution_count": 47,
   "metadata": {},
   "outputs": [
    {
     "data": {
      "text/html": [
       "&lt;Column name=&apos;logg&apos; dtype=&apos;float64&apos; unit=&apos;&apos; length=0&gt;\n",
       "<table>\n",
       "</table>"
      ],
      "text/plain": [
       "<Column name='logg' dtype='float64' unit='' length=0>"
      ]
     },
     "execution_count": 47,
     "metadata": {},
     "output_type": "execute_result"
    }
   ],
   "source": [
    "np.unique(bad_line['logg'])"
   ]
  },
  {
   "cell_type": "code",
   "execution_count": 48,
   "metadata": {},
   "outputs": [
    {
     "data": {
      "text/html": [
       "&lt;Column name=&apos;mass&apos; dtype=&apos;float64&apos; unit=&apos;solMass&apos; length=0&gt;\n",
       "<table>\n",
       "</table>"
      ],
      "text/plain": [
       "<Column name='mass' dtype='float64' unit='solMass' length=0>"
      ]
     },
     "execution_count": 48,
     "metadata": {},
     "output_type": "execute_result"
    }
   ],
   "source": [
    "np.unique(bad_line['mass'])"
   ]
  },
  {
   "cell_type": "code",
   "execution_count": 49,
   "metadata": {},
   "outputs": [
    {
     "data": {
      "text/html": [
       "&lt;Column name=&apos;phase&apos; dtype=&apos;float64&apos; length=0&gt;\n",
       "<table>\n",
       "</table>"
      ],
      "text/plain": [
       "<Column name='phase' dtype='float64' length=0>"
      ]
     },
     "execution_count": 49,
     "metadata": {},
     "output_type": "execute_result"
    }
   ],
   "source": [
    "np.unique(bad_line['phase'])"
   ]
  },
  {
   "cell_type": "markdown",
   "metadata": {},
   "source": [
    "**It turns out that the line was caused by some compact remnants that were lingering around from the NEWSECMODS. In future versions of the stellar evolution model, I may obtain an additional program from the BPASS creators to match the types of compact remnants from the NEWSECMODS.**"
   ]
  },
  {
   "cell_type": "code",
   "execution_count": 50,
   "metadata": {},
   "outputs": [
    {
     "data": {
      "text/plain": [
       "<matplotlib.legend.Legend at 0x7f88881c1ba8>"
      ]
     },
     "execution_count": 50,
     "metadata": {},
     "output_type": "execute_result"
    },
    {
     "data": {
      "image/png": "[encoded data removed]",
      "text/plain": [
       "<Figure size 432x288 with 1 Axes>"
      ]
     },
     "metadata": {
      "needs_background": "light"
     },
     "output_type": "display_data"
    }
   ],
   "source": [
    "# Plot the mass-luminosity relationship\n",
    "from astropy import constants as cs\n",
    "from astropy import units as u\n",
    "import numpy as np\n",
    "import matplotlib.pyplot as plt\n",
    "plt.plot((clus_1.star_systems['mass_current']), np.log10(clus_1.star_systems[\"L\"]), \"r.\", label=\"Binary_Cluster made from BPASS\", alpha =1)\n",
    "plt.plot((clus_1.companions['mass_current']), np.log10(clus_1.companions[\"L\"]), \"r.\", label=\"Binary_Cluster made from BPASS\", alpha = 1)\n",
    "plt.plot((clus_2.star_systems['mass_current']), np.log10(clus_2.star_systems[\"L\"]), \"b.\", label=\"Binary_Cluster made from MISTv.1\", alpha =0.1)\n",
    "plt.plot((clus_2.companions['mass_current']), np.log10(clus_2.companions[\"L\"]), \"b.\", label=\"Binary_Cluster made from MISTv.1\", alpha = 0.1)\n",
    "plt.xlabel(\"Current Mass in solar masses\")\n",
    "plt.ylabel(\"log(L in Watts)\")\n",
    "plt.title(\"Mass-logL of Cluster at solar metallicity and 1 billion years age\")\n",
    "plt.legend()\n",
    "# Rough pattern seems to fit. What's that line?"
   ]
  },
  {
   "cell_type": "markdown",
   "metadata": {},
   "source": [
    "Where is that hook coming from?"
   ]
  },
  {
   "cell_type": "code",
   "execution_count": 51,
   "metadata": {},
   "outputs": [
    {
     "name": "stderr",
     "output_type": "stream",
     "text": [
      "/opt/anaconda3/envs/astroconda/lib/python3.7/site-packages/astropy/table/column.py:1020: RuntimeWarning: invalid value encountered in less_equal\n",
      "  result = getattr(super(), op)(other)\n"
     ]
    },
    {
     "data": {
      "text/html": [
       "&lt;Column name=&apos;phase&apos; dtype=&apos;float64&apos; length=1&gt;\n",
       "<table>\n",
       "<tr><td>101.0</td></tr>\n",
       "</table>"
      ],
      "text/plain": [
       "<Column name='phase' dtype='float64' length=1>\n",
       "101.0"
      ]
     },
     "execution_count": 51,
     "metadata": {},
     "output_type": "execute_result"
    }
   ],
   "source": [
    "np.unique(iso1.primaries[np.where(np.log10(iso1.primaries[\"L\"])<=25)]['phase'])"
   ]
  },
  {
   "cell_type": "code",
   "execution_count": 52,
   "metadata": {},
   "outputs": [
    {
     "data": {
      "text/plain": [
       "0"
      ]
     },
     "execution_count": 52,
     "metadata": {},
     "output_type": "execute_result"
    }
   ],
   "source": [
    "len(iso1.primaries[np.where((np.log10(iso1.primaries[\"L\"])<=25) & (iso1.primaries[\"phase\"]==110))])"
   ]
  },
  {
   "cell_type": "code",
   "execution_count": 53,
   "metadata": {},
   "outputs": [
    {
     "data": {
      "text/plain": [
       "1669"
      ]
     },
     "execution_count": 53,
     "metadata": {},
     "output_type": "execute_result"
    }
   ],
   "source": [
    "len(iso1.primaries[np.where((np.log10(iso1.primaries[\"L\"])<=25) & (iso1.primaries[\"phase\"]==101))])"
   ]
  },
  {
   "cell_type": "markdown",
   "metadata": {},
   "source": [
    "OK. It makes sense that our compact remnants are causing this. (Remember, there really is no significant fusion in the insides of neutron stars or white dwarves."
   ]
  },
  {
   "cell_type": "code",
   "execution_count": 54,
   "metadata": {},
   "outputs": [
    {
     "data": {
      "text/plain": [
       "<matplotlib.legend.Legend at 0x7f892a99e2e8>"
      ]
     },
     "execution_count": 54,
     "metadata": {},
     "output_type": "execute_result"
    },
    {
     "data": {
      "image/png": "[encoded data removed]",
      "text/plain": [
       "<Figure size 432x288 with 1 Axes>"
      ]
     },
     "metadata": {
      "needs_background": "light"
     },
     "output_type": "display_data"
    }
   ],
   "source": [
    "# Plot the mass-luminosity relationship\n",
    "from astropy import constants as cs\n",
    "from astropy import units as u\n",
    "import matplotlib.pyplot as plt\n",
    "plt.plot(clus_1.star_systems['mass_current'], np.log10(clus_1.star_systems[\"L\"]), \"r.\", label=\"Binary_Cluster made from BPASS\", alpha =1)\n",
    "plt.xlabel(\"log Current Mass in solar masses\")\n",
    "plt.ylabel(\"log(L/L_solar)\")\n",
    "plt.title(\"log-Mass-logL of Cluster at solar metallicity and 1 billion years age\")\n",
    "plt.legend()\n",
    "# Rough pattern seems to fit. What's that line?"
   ]
  },
  {
   "cell_type": "code",
   "execution_count": 55,
   "metadata": {},
   "outputs": [
    {
     "data": {
      "text/plain": [
       "<matplotlib.legend.Legend at 0x7f888822fe80>"
      ]
     },
     "execution_count": 55,
     "metadata": {},
     "output_type": "execute_result"
    },
    {
     "data": {
      "image/png": "[encoded data removed]",
      "text/plain": [
       "<Figure size 432x288 with 1 Axes>"
      ]
     },
     "metadata": {
      "needs_background": "light"
     },
     "output_type": "display_data"
    }
   ],
   "source": [
    "# Plot the mass-luminosity relationship\n",
    "from astropy import constants as cs\n",
    "from astropy import units as u\n",
    "import matplotlib.pyplot as plt\n",
    "plt.plot(clus_1.companions['mass_current'], np.log10(clus_1.companions[\"L\"]), \"r.\", label=\"Binary_Cluster made from BPASS\", alpha =1)\n",
    "plt.xlabel(\"log Current Mass in solar masses\")\n",
    "plt.ylabel(\"log(L/L_solar)\")\n",
    "plt.title(\"log-Mass-logL of Cluster at solar metallicity and 1 billion years age\")\n",
    "plt.legend()\n",
    "# Rough pattern seems to fit. What's that line?"
   ]
  },
  {
   "cell_type": "markdown",
   "metadata": {},
   "source": [
    "Aha, it looks like the companions are causing this! and these are probably the 110 and 101 phased stars. Otherwise I like the alignment"
   ]
  },
  {
   "cell_type": "code",
   "execution_count": 56,
   "metadata": {},
   "outputs": [
    {
     "data": {
      "text/plain": [
       "<matplotlib.legend.Legend at 0x7f888833f748>"
      ]
     },
     "execution_count": 56,
     "metadata": {},
     "output_type": "execute_result"
    },
    {
     "data": {
      "image/png": "[encoded data removed]",
      "text/plain": [
       "<Figure size 432x288 with 1 Axes>"
      ]
     },
     "metadata": {
      "needs_background": "light"
     },
     "output_type": "display_data"
    }
   ],
   "source": [
    "# Taking a look at the Binary Cluster vs Default Settings cluster Observer's HR Diagram\n",
    "# Remember to use a distance modulus!\n",
    "import matplotlib.pyplot as plt\n",
    "plt.plot(clus_1.star_systems['m_ubv_B']-clus_1.star_systems[\"m_ubv_V\"], clus_1.star_systems[\"m_ubv_V\"]-5*np.log10(100), \"r.\",label=\"BPASS\")\n",
    "plt.plot(clus_2.star_systems['m_ubv_B']-clus_2.star_systems[\"m_ubv_V\"], clus_2.star_systems[\"m_ubv_V\"]-5*np.log10(100), \"b+\", label=\"MISTv1\", alpha=0.1)\n",
    "plt.xlabel(\"B-V\")\n",
    "plt.ylabel(\"M_V\")\n",
    "plt.title(\"Color magnitude Diagram of clusters at solar metallicity and 1 billion years age\")\n",
    "plt.gca().invert_yaxis()\n",
    "plt.legend()"
   ]
  },
  {
   "cell_type": "code",
   "execution_count": 57,
   "metadata": {},
   "outputs": [
    {
     "data": {
      "text/html": [
       "<i>Table length=0</i>\n",
       "<table id=\"table140224377508416\" class=\"table-striped table-bordered table-condensed\">\n",
       "<thead><tr><th>mass</th><th>systemMass</th><th>Teff</th><th>L</th><th>logg</th><th>isWR</th><th>mass_current</th><th>phase</th><th>metallicity</th><th>isMultiple</th><th>merged</th><th>m_ubv_U</th><th>m_ubv_V</th><th>m_ubv_B</th><th>m_ubv_R</th><th>m_ubv_I</th></tr></thead>\n",
       "<thead><tr><th>solMass</th><th></th><th>K</th><th>W</th><th></th><th></th><th>solMass</th><th></th><th></th><th></th><th></th><th></th><th></th><th></th><th></th><th></th></tr></thead>\n",
       "<thead><tr><th>float64</th><th>float64</th><th>float64</th><th>float64</th><th>float64</th><th>bool</th><th>float64</th><th>float64</th><th>float64</th><th>bool</th><th>bool</th><th>float64</th><th>float64</th><th>float64</th><th>float64</th><th>float64</th></tr></thead>\n",
       "</table>"
      ],
      "text/plain": [
       "<Table length=0>\n",
       "  mass  systemMass   Teff     L      logg  ... m_ubv_V m_ubv_B m_ubv_R m_ubv_I\n",
       "solMass               K       W            ...                                \n",
       "float64  float64   float64 float64 float64 ... float64 float64 float64 float64\n",
       "------- ---------- ------- ------- ------- ... ------- ------- ------- -------"
      ]
     },
     "execution_count": 57,
     "metadata": {},
     "output_type": "execute_result"
    }
   ],
   "source": [
    "clus_1.star_systems[np.where(clus_1.star_systems[\"m_ubv_V\"]==0)]"
   ]
  },
  {
   "cell_type": "code",
   "execution_count": 58,
   "metadata": {},
   "outputs": [
    {
     "data": {
      "text/plain": [
       "<matplotlib.legend.Legend at 0x7f888836d780>"
      ]
     },
     "execution_count": 58,
     "metadata": {},
     "output_type": "execute_result"
    },
    {
     "data": {
      "image/png": "[encoded data removed]",
      "text/plain": [
       "<Figure size 432x288 with 1 Axes>"
      ]
     },
     "metadata": {
      "needs_background": "light"
     },
     "output_type": "display_data"
    }
   ],
   "source": [
    "import matplotlib.pyplot as plt\n",
    "plt.plot(np.log10(clus_1.companions['Teff']), np.log10(clus_1.companions[\"L\"]), \"r.\",label=\"BPASS isochrone\", alpha=0.5)\n",
    "plt.plot(np.log10(clus_2.companions['Teff']), np.log10(clus_2.companions[\"L\"]), \"b+\", alpha=0.15)\n",
    "plt.plot(np.log10(clus_1.star_systems['Teff']), np.log10(clus_1.star_systems[\"L\"]), \"r.\",label=\"BPASS isochrone\", alpha=0.5)\n",
    "plt.plot(np.log10(clus_2.star_systems['Teff']), np.log10(clus_2.star_systems[\"L\"]), \"b+\", label=\"MISTv1\", alpha=0.15)\n",
    "plt.xlabel(\"log(T in kelvin)\")\n",
    "plt.ylabel(\"log(L in watts)\")\n",
    "plt.title(\"HR Diagram of clusters at solar metallicity and 1 billion years age\")\n",
    "plt.gca().invert_xaxis()\n",
    "plt.legend()"
   ]
  },
  {
   "cell_type": "markdown",
   "metadata": {},
   "source": [
    "Looking at which stars are the white dwarves?"
   ]
  },
  {
   "cell_type": "code",
   "execution_count": 59,
   "metadata": {},
   "outputs": [
    {
     "data": {
      "text/plain": [
       "array([   3,    6,    7,    9,   10,   11,   16,   18,   21,   24,   26,\n",
       "         27,   28,   31,   32,   43,   48,   49,   53,   57,   60,   61,\n",
       "         70,   76,   77,   80,   82,   86,   87,   88,   91,   95,   97,\n",
       "         98,   99,  102,  103,  104,  109,  110,  112,  118,  123,  124,\n",
       "        126,  133,  135,  140,  141,  142,  144,  147,  148,  151,  154,\n",
       "        161,  165,  217,  275,  298,  311,  322,  336,  388,  411,  419,\n",
       "        422,  424,  448,  450,  465,  482,  534,  535,  540,  562,  566,\n",
       "        570,  573,  594,  646,  648,  649,  658,  703,  708,  743,  807,\n",
       "        828,  830,  852,  859,  879,  904,  909,  914,  969,  972, 1000,\n",
       "       1022, 1031, 1050, 1088, 1101, 1123, 1125, 1132, 1137, 1141, 1142,\n",
       "       1150, 1152, 1155, 1216, 1222, 1234, 1251, 1257, 1287, 1344, 1366,\n",
       "       1385, 1389, 1393, 1397, 1405, 1410, 1439, 1454, 1492, 1511, 1540,\n",
       "       1554, 1566, 1569, 1597, 1608, 1644])"
      ]
     },
     "execution_count": 59,
     "metadata": {},
     "output_type": "execute_result"
    }
   ],
   "source": [
    "import numpy as np\n",
    "np.where(clus_1.star_systems['phase']==101.0)[0]"
   ]
  },
  {
   "cell_type": "markdown",
   "metadata": {},
   "source": [
    "Black Holes?"
   ]
  },
  {
   "cell_type": "code",
   "execution_count": 60,
   "metadata": {},
   "outputs": [
    {
     "data": {
      "text/plain": [
       "array([], dtype=int64)"
      ]
     },
     "execution_count": 60,
     "metadata": {},
     "output_type": "execute_result"
    }
   ],
   "source": [
    "np.where(clus_1.star_systems['phase']==103.0)[0]"
   ]
  },
  {
   "cell_type": "code",
   "execution_count": 61,
   "metadata": {},
   "outputs": [
    {
     "data": {
      "text/plain": [
       "array([], dtype=int64)"
      ]
     },
     "execution_count": 61,
     "metadata": {},
     "output_type": "execute_result"
    }
   ],
   "source": [
    "np.where(clus_1.star_systems['phase']==102.0)[0]"
   ]
  },
  {
   "cell_type": "markdown",
   "metadata": {},
   "source": [
    "Finding the initial masses of the cluster"
   ]
  },
  {
   "cell_type": "code",
   "execution_count": 62,
   "metadata": {},
   "outputs": [
    {
     "data": {
      "text/plain": [
       "1671.5544905569163"
      ]
     },
     "execution_count": 62,
     "metadata": {},
     "output_type": "execute_result"
    }
   ],
   "source": [
    "clus_1.star_systems['systemMass'].sum()"
   ]
  },
  {
   "cell_type": "code",
   "execution_count": 63,
   "metadata": {},
   "outputs": [
    {
     "data": {
      "text/plain": [
       "2000.1231145150932"
      ]
     },
     "execution_count": 63,
     "metadata": {},
     "output_type": "execute_result"
    }
   ],
   "source": [
    "clus_2.star_systems['systemMass'].sum()"
   ]
  }
 ],
 "metadata": {
  "kernelspec": {
   "display_name": "astroconda",
   "language": "python",
   "name": "astroconda"
  },
  "language_info": {
   "codemirror_mode": {
    "name": "ipython",
    "version": 3
   },
   "file_extension": ".py",
   "mimetype": "text/x-python",
   "name": "python",
   "nbconvert_exporter": "python",
   "pygments_lexer": "ipython3",
   "version": "3.7.3"
  }
 },
 "nbformat": 4,
 "nbformat_minor": 2
}
