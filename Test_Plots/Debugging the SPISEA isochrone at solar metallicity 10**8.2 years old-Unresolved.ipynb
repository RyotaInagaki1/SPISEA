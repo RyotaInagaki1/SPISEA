{
 "cells": [
  {
   "cell_type": "markdown",
   "metadata": {},
   "source": [
    "## Testing the BPASS isochrone at 10^8.2 years age. (Unresolved Multiplicity (Lu et al. 2013))\n",
    "In this BPASS isochrone and cluster plot, I go over the BPASS isochrone for 1 billion years age, solar metallicity, AKs=0.5, and distance of 2000 parsecs from Earth. From the isochrone and cluster, we discuss several plots such as the log_g frequency distribution of the isochrone, the color magnitude diagram (B-V vs pseudo-M_V), and the mass luminosity relationshi of the cluster. **Note that I say pseudo-M_V as it is the absoulte magnitude but NOT accounting for extinction**\n",
    "\n",
    "Formula for pseudo M_V\n",
    "pseudo-M_V = V - $log_{10}$(distance to cluster/(10 pc))\n",
    "\n",
    "Other notes:\n",
    "\n",
    "I have chosen dist to cluster = 2000 pc to further distinguish this notebook from the other 10^8.2 year old isochrone Notebook.\n",
    "**As the title indicates, I have decided to use unresolved multiplicity in my BPASS and MISTv.1 clusters.**"
   ]
  },
  {
   "cell_type": "code",
   "execution_count": 40,
   "metadata": {},
   "outputs": [
    {
     "name": "stderr",
     "output_type": "stream",
     "text": [
      "/opt/anaconda3/envs/astroconda/lib/python3.7/site-packages/astropy/units/quantity.py:477: RuntimeWarning: invalid value encountered in true_divide\n",
      "  result = super().__array_ufunc__(function, method, *arrays, **kwargs)\n",
      "/u/ryotainagaki/Desktop/PyPopStar/spisea/evolution.py:1771: RuntimeWarning: overflow encountered in power\n",
      "  (1 / cs.au) * un.m)\n",
      "/opt/anaconda3/envs/astroconda/lib/python3.7/site-packages/astropy/table/column.py:1020: RuntimeWarning: invalid value encountered in less_equal\n",
      "  result = getattr(super(), op)(other)\n",
      "/opt/anaconda3/envs/astroconda/lib/python3.7/site-packages/astropy/units/quantity.py:477: RuntimeWarning: divide by zero encountered in true_divide\n",
      "  result = super().__array_ufunc__(function, method, *arrays, **kwargs)\n"
     ]
    },
    {
     "name": "stdout",
     "output_type": "stream",
     "text": [
      "Changing to logg=5.00 for T= 38774 logg=8.52\n",
      "Changing to logg=5.00 for T= 36146 logg=8.54\n",
      "Changing to logg=5.00 for T= 44758 logg=8.49\n",
      "Changing to T= 50000 for T= 73161 logg=8.45\n",
      "Changing to logg=5.00 for T= 73161 logg=8.45\n",
      "Changing to logg=5.00 for T= 38361 logg=8.50\n",
      "Changing to T= 50000 for T= 52330 logg=8.47\n",
      "Changing to logg=5.00 for T= 52330 logg=8.47\n",
      "Changing to logg=5.00 for T= 39097 logg=5.40\n",
      "Changing to logg=5.00 for T= 42300 logg=8.53\n",
      "Changing to logg=5.00 for T= 45668 logg=8.52\n",
      "Changing to logg=5.00 for T= 38750 logg=8.52\n",
      "Changing to logg=5.00 for T= 42302 logg=8.53\n",
      "Changing to logg=5.00 for T= 42300 logg=8.53\n",
      "Changing to logg=5.00 for T= 38751 logg=8.52\n",
      "Changing to logg=5.00 for T= 38750 logg=8.52\n",
      "Changing to logg=5.00 for T= 39036 logg=5.38\n",
      "Changing to logg=5.00 for T= 35710 logg=8.52\n",
      "Changing to logg=5.00 for T= 39110 logg=5.45\n",
      "Changing to logg=5.00 for T= 38750 logg=8.52\n",
      "Changing to logg=5.00 for T= 42300 logg=8.53\n",
      "Changing to logg=5.00 for T= 37638 logg=5.66\n",
      "Changing to logg=5.00 for T= 37422 logg=5.67\n",
      "Changing to logg=5.00 for T= 39018 logg=5.53\n",
      "Changing to logg=5.00 for T= 38750 logg=8.52\n",
      "Changing to logg=5.00 for T= 35701 logg=8.52\n",
      "Changing to logg=5.00 for T= 37966 logg=5.70\n",
      "Changing to logg=5.00 for T= 34191 logg=8.16\n",
      "Changing to logg=5.00 for T= 33657 logg=5.67\n",
      "Changing to logg=5.00 for T= 38750 logg=8.52\n",
      "Changing to logg=5.00 for T= 38886 logg=5.50\n",
      "Changing to logg=5.00 for T= 35722 logg=8.52\n",
      "Changing to logg=5.00 for T= 31378 logg=8.25\n",
      "Changing to logg=5.00 for T= 39090 logg=5.47\n",
      "Changing to logg=5.00 for T= 35715 logg=8.52\n",
      "Changing to logg=5.00 for T= 38778 logg=5.38\n",
      "Changing to logg=5.00 for T= 42302 logg=8.53\n",
      "Changing to logg=5.00 for T= 39156 logg=5.49\n",
      "Changing to logg=5.00 for T= 45668 logg=8.52\n",
      "Changing to logg=5.00 for T= 38912 logg=5.40\n",
      "Changing to logg=5.00 for T= 38750 logg=8.52\n",
      "Changing to logg=5.00 for T= 45668 logg=8.52\n",
      "Changing to logg=5.00 for T= 38750 logg=8.52\n",
      "Changing to logg=4.50 for T= 39634 logg=4.15\n",
      "Changing to T= 50000 for T= 52469 logg=8.18\n",
      "Changing to logg=5.00 for T= 52469 logg=8.18\n",
      "Changing to logg=5.00 for T= 38030 logg=5.41\n",
      "Changing to logg=5.00 for T= 38924 logg=5.38\n",
      "Changing to logg=5.00 for T= 38866 logg=5.46\n",
      "Changing to logg=5.00 for T= 38499 logg=5.32\n",
      "Changing to logg=5.00 for T= 38750 logg=8.52\n",
      "Changing to logg=5.00 for T= 35714 logg=8.52\n",
      "Changing to logg=5.00 for T= 42302 logg=8.53\n",
      "Changing to logg=5.00 for T= 45668 logg=8.52\n",
      "Changing to logg=5.00 for T= 45668 logg=8.52\n",
      "Changing to logg=5.00 for T= 35715 logg=8.52\n",
      "Changing to logg=5.00 for T= 38864 logg=5.34\n",
      "Changing to logg=5.00 for T= 38750 logg=8.52\n",
      "Changing to logg=5.00 for T= 45668 logg=8.52\n",
      "Changing to logg=5.00 for T= 38750 logg=8.52\n",
      "Changing to logg=5.00 for T= 38750 logg=8.52\n",
      "Changing to logg=5.00 for T= 38938 logg=5.41\n",
      "Changing to logg=5.00 for T= 42302 logg=8.53\n",
      "Changing to logg=5.00 for T= 39027 logg=5.57\n",
      "Changing to logg=5.00 for T= 37690 logg=5.71\n",
      "Changing to logg=5.00 for T= 39136 logg=5.47\n",
      "Changing to logg=5.00 for T= 42302 logg=8.53\n",
      "Changing to logg=5.00 for T= 38750 logg=8.52\n",
      "Changing to logg=5.00 for T= 38530 logg=5.55\n",
      "Changing to logg=5.00 for T= 38750 logg=8.52\n",
      "Changing to logg=5.00 for T= 38751 logg=8.52\n",
      "Changing to logg=5.00 for T= 38750 logg=8.52\n",
      "Changing to logg=5.00 for T= 38750 logg=8.52\n",
      "Changing to logg=5.00 for T= 42300 logg=8.53\n",
      "Changing to logg=5.00 for T= 38008 logg=5.41\n",
      "Changing to logg=5.00 for T= 43455 logg=8.58\n",
      "Changing to logg=5.00 for T= 38797 logg=5.34\n",
      "Changing to logg=5.00 for T= 38863 logg=5.61\n",
      "Changing to logg=5.00 for T= 45669 logg=8.52\n",
      "Changing to logg=5.00 for T= 45668 logg=8.52\n",
      "Changing to logg=5.00 for T= 38750 logg=8.52\n",
      "Changing to logg=5.00 for T= 38750 logg=8.52\n",
      "Changing to logg=5.00 for T= 37640 logg=8.47\n",
      "Changing to logg=5.00 for T= 39001 logg=5.46\n",
      "Changing to logg=5.00 for T= 35665 logg=8.52\n",
      "Changing to logg=5.00 for T= 38750 logg=8.52\n",
      "Changing to logg=5.00 for T= 34722 logg=5.55\n",
      "Changing to logg=5.00 for T= 33157 logg=5.77\n",
      "Changing to logg=5.00 for T= 38681 logg=5.49\n",
      "Changing to logg=5.00 for T= 33207 logg=5.01\n",
      "Changing to logg=5.00 for T= 35709 logg=8.52\n",
      "Changing to logg=5.00 for T= 42302 logg=8.53\n",
      "Changing to logg=5.00 for T= 38810 logg=5.36\n",
      "Changing to logg=5.00 for T= 39842 logg=5.51\n",
      "Changing to logg=5.00 for T= 43455 logg=8.58\n",
      "Changing to logg=5.00 for T= 38164 logg=5.31\n",
      "Changing to logg=5.00 for T= 38750 logg=8.52\n",
      "Changing to logg=5.00 for T= 38750 logg=8.52\n",
      "Changing to logg=5.00 for T= 42302 logg=8.53\n",
      "Changing to logg=5.00 for T= 35714 logg=8.52\n",
      "Changing to logg=5.00 for T= 45669 logg=8.52\n",
      "Changing to logg=5.00 for T= 39010 logg=5.57\n",
      "Changing to logg=5.00 for T= 38750 logg=8.52\n",
      "Changing to logg=5.00 for T= 40536 logg=5.52\n",
      "Changing to logg=5.00 for T= 39098 logg=5.41\n",
      "Changing to logg=5.00 for T= 37225 logg=5.46\n",
      "Changing to logg=5.00 for T= 35709 logg=8.52\n",
      "Changing to logg=5.00 for T= 33652 logg=5.61\n",
      "Changing to logg=5.00 for T= 38913 logg=5.59\n",
      "Changing to logg=5.00 for T= 38750 logg=8.52\n",
      "Changing to logg=5.00 for T= 38750 logg=8.52\n",
      "Changing to logg=5.00 for T= 38750 logg=8.52\n",
      "Changing to logg=5.00 for T= 38750 logg=8.52\n",
      "Changing to logg=5.00 for T= 43455 logg=8.58\n",
      "Changing to logg=5.00 for T= 42302 logg=8.53\n",
      "Changing to logg=5.00 for T= 34757 logg=5.54\n",
      "Changing to logg=5.00 for T= 38750 logg=8.52\n",
      "Changing to logg=5.00 for T= 38750 logg=8.52\n",
      "Changing to logg=5.00 for T= 35929 logg=8.18\n",
      "Changing to logg=5.00 for T= 39121 logg=5.40\n",
      "Changing to logg=5.00 for T= 39081 logg=5.47\n",
      "Changing to logg=5.00 for T= 38974 logg=5.38\n",
      "Changing to logg=5.00 for T= 35701 logg=8.52\n",
      "Changing to logg=5.00 for T= 45669 logg=8.52\n",
      "Changing to logg=5.00 for T= 37474 logg=5.67\n",
      "Changing to logg=5.00 for T= 45668 logg=8.52\n",
      "Changing to logg=5.00 for T= 45668 logg=8.52\n",
      "Changing to logg=5.00 for T= 34428 logg=5.62\n",
      "Changing to logg=5.00 for T= 38750 logg=8.52\n",
      "Changing to logg=5.00 for T= 35759 logg=5.48\n",
      "Changing to logg=5.00 for T= 38968 logg=5.47\n",
      "Changing to logg=5.00 for T= 37645 logg=8.47\n",
      "Changing to logg=5.00 for T= 39333 logg=5.52\n",
      "Changing to logg=5.00 for T= 38750 logg=8.52\n",
      "Changing to logg=5.00 for T= 38750 logg=8.52\n",
      "Changing to logg=5.00 for T= 41390 logg=5.50\n",
      "Changing to logg=5.00 for T= 42302 logg=8.53\n",
      "Changing to logg=5.00 for T= 45668 logg=8.52\n",
      "Changing to logg=5.00 for T= 37547 logg=5.70\n",
      "Changing to logg=5.00 for T= 40751 logg=8.18\n",
      "Changing to logg=5.00 for T= 38205 logg=5.40\n",
      "Changing to logg=5.00 for T= 38750 logg=8.52\n",
      "Changing to logg=5.00 for T= 37968 logg=5.42\n",
      "Changing to logg=5.00 for T= 38945 logg=5.49\n",
      "Changing to logg=5.00 for T= 35722 logg=8.52\n",
      "Changing to logg=5.00 for T= 38796 logg=5.38\n",
      "Changing to logg=5.00 for T= 32888 logg=5.68\n",
      "Changing to logg=5.00 for T= 39126 logg=5.42\n",
      "Changing to logg=5.00 for T= 45668 logg=8.52\n",
      "Changing to logg=5.00 for T= 41051 logg=8.91\n",
      "Changing to logg=5.00 for T= 38268 logg=5.57\n",
      "Changing to logg=5.00 for T= 45668 logg=8.52\n",
      "Changing to logg=5.00 for T= 38868 logg=5.45\n",
      "Changing to logg=5.00 for T= 45668 logg=8.52\n",
      "Changing to logg=5.00 for T= 38750 logg=8.52\n",
      "Changing to logg=5.00 for T= 38750 logg=8.52\n",
      "Changing to logg=5.00 for T= 35040 logg=8.49\n",
      "Changing to logg=5.00 for T= 42302 logg=8.53\n",
      "Changing to logg=5.00 for T= 38062 logg=5.44\n",
      "Changing to logg=5.00 for T= 34986 logg=5.58\n",
      "Changing to logg=5.00 for T= 45668 logg=8.52\n",
      "Changing to logg=5.00 for T= 38750 logg=8.52\n",
      "Changing to logg=5.00 for T= 32931 logg=5.73\n",
      "Changing to logg=5.00 for T= 38901 logg=5.40\n",
      "Changing to logg=5.00 for T= 39086 logg=5.37\n",
      "Changing to logg=5.00 for T= 38750 logg=8.52\n",
      "Changing to logg=5.00 for T= 34113 logg=5.11\n",
      "Changing to logg=5.00 for T= 39059 logg=5.38\n",
      "Changing to logg=5.00 for T= 37820 logg=5.74\n",
      "Changing to logg=5.00 for T= 45739 logg=8.21\n",
      "Changing to logg=5.00 for T= 38747 logg=5.38\n",
      "Changing to logg=5.00 for T= 39042 logg=5.41\n",
      "Changing to logg=5.00 for T= 40930 logg=5.50\n",
      "Changing to logg=5.00 for T= 47516 logg=9.02\n",
      "Changing to logg=5.00 for T= 42302 logg=8.53\n",
      "Changing to logg=5.00 for T= 39474 logg=5.51\n",
      "Changing to logg=5.00 for T= 38750 logg=8.52\n",
      "Changing to logg=5.00 for T= 38750 logg=8.52\n",
      "Changing to logg=5.00 for T= 39105 logg=5.40\n",
      "Changing to logg=5.00 for T= 35706 logg=8.52\n",
      "Changing to logg=5.00 for T= 43455 logg=8.58\n",
      "Changing to logg=5.00 for T= 35710 logg=8.52\n",
      "Changing to logg=5.00 for T= 38750 logg=8.52\n"
     ]
    },
    {
     "name": "stdout",
     "output_type": "stream",
     "text": [
      "Changing to logg=5.00 for T= 42302 logg=8.53\n",
      "Changing to logg=5.00 for T= 38216 logg=5.28\n",
      "Changing to logg=5.00 for T= 38750 logg=8.52\n",
      "Changing to logg=5.00 for T= 39074 logg=5.38\n",
      "Changing to logg=5.00 for T= 42302 logg=8.53\n",
      "Changing to logg=5.00 for T= 38030 logg=5.34\n",
      "Changing to logg=5.00 for T= 38750 logg=8.52\n",
      "Changing to logg=5.00 for T= 42302 logg=8.53\n",
      "Changing to logg=5.00 for T= 35649 logg=8.52\n",
      "Changing to logg=5.00 for T= 45954 logg=8.68\n",
      "Changing to logg=5.00 for T= 45669 logg=8.52\n",
      "Changing to logg=5.00 for T= 38942 logg=5.43\n",
      "Changing to logg=5.00 for T= 38750 logg=8.52\n",
      "Changing to logg=5.00 for T= 35776 logg=8.52\n",
      "Changing to logg=5.00 for T= 45669 logg=8.52\n",
      "Changing to logg=5.00 for T= 45668 logg=8.52\n",
      "Changing to logg=5.00 for T= 34980 logg=5.56\n",
      "Changing to logg=5.00 for T= 37138 logg=5.69\n",
      "Changing to logg=5.00 for T= 35708 logg=8.52\n",
      "Changing to logg=5.00 for T= 43455 logg=8.58\n",
      "Changing to logg=5.00 for T= 42302 logg=8.53\n",
      "Changing to logg=5.00 for T= 38543 logg=5.67\n",
      "Changing to logg=5.00 for T= 35392 logg=8.22\n",
      "Changing to logg=5.00 for T= 37796 logg=5.52\n",
      "Changing to logg=5.00 for T= 42302 logg=8.53\n",
      "Changing to logg=5.00 for T= 45668 logg=8.52\n",
      "Changing to logg=5.00 for T= 38820 logg=5.38\n",
      "Changing to logg=5.00 for T= 40327 logg=8.45\n",
      "Changing to logg=5.00 for T= 38260 logg=5.41\n",
      "Changing to logg=5.00 for T= 35706 logg=5.17\n",
      "Changing to logg=5.00 for T= 38750 logg=8.52\n",
      "Changing to logg=5.00 for T= 35519 logg=8.51\n",
      "Changing to logg=5.00 for T= 37950 logg=5.39\n",
      "Changing to logg=5.00 for T= 38750 logg=8.52\n",
      "Changing to logg=5.00 for T= 38750 logg=8.52\n",
      "Changing to logg=5.00 for T= 38750 logg=8.52\n",
      "Changing to logg=5.00 for T= 47227 logg=8.14\n",
      "Changing to logg=5.00 for T= 42300 logg=8.53\n",
      "Changing to T= 50000 for T= 55186 logg=8.12\n",
      "Changing to logg=5.00 for T= 55186 logg=8.12\n",
      "Changing to logg=5.00 for T= 37933 logg=5.39\n",
      "Changing to logg=5.00 for T= 35040 logg=8.49\n",
      "Changing to T= 50000 for T= 85704 logg=8.31\n",
      "Changing to logg=5.00 for T= 85704 logg=8.31\n",
      "Changing to T= 50000 for T= 80369 logg=8.32\n",
      "Changing to logg=5.00 for T= 80369 logg=8.32\n",
      "Changing to logg=5.00 for T= 35040 logg=8.49\n",
      "Changing to logg=5.00 for T= 31631 logg=5.78\n",
      "Changing to logg=0.00 for T=  3295 logg=-0.23\n",
      "Changing to logg=5.00 for T= 35040 logg=8.49\n",
      "Changing to logg=0.00 for T=  3317 logg=-0.19\n",
      "Changing to logg=5.00 for T= 35040 logg=8.49\n",
      "Changing to logg=5.00 for T= 39339 logg=5.50\n",
      "Changing to logg=5.00 for T= 35040 logg=8.49\n",
      "Changing to logg=5.00 for T= 35040 logg=8.49\n",
      "Changing to logg=5.00 for T= 35161 logg=8.49\n",
      "Changing to logg=5.00 for T= 35040 logg=8.49\n",
      "Changing to logg=5.00 for T= 35040 logg=8.49\n",
      "Changing to logg=5.00 for T= 39015 logg=5.63\n",
      "Changing to T= 50000 for T=196662 logg=7.28\n",
      "Changing to logg=5.00 for T=196662 logg=7.28\n",
      "Changing to logg=5.00 for T= 35065 logg=8.49\n",
      "Changing to T= 50000 for T= 52576 logg=8.18\n",
      "Changing to logg=5.00 for T= 52576 logg=8.18\n",
      "Changing to T= 50000 for T=122659 logg=7.98\n",
      "Changing to logg=5.00 for T=122659 logg=7.98\n",
      "Changing to logg=5.00 for T= 27144 logg=6.25\n",
      "Changing to logg=5.00 for T= 35044 logg=8.49\n",
      "Changing to logg=5.00 for T= 38042 logg=5.48\n",
      "Changing to logg=5.00 for T= 35040 logg=8.49\n",
      "Changing to logg=5.00 for T= 35040 logg=8.49\n",
      "Changing to logg=5.00 for T= 35040 logg=8.49\n",
      "Changing to T= 50000 for T=197624 logg=7.27\n",
      "Changing to logg=5.00 for T=197624 logg=7.27\n",
      "Changing to logg=5.00 for T= 35041 logg=8.49\n",
      "Changing to logg=5.00 for T= 35042 logg=8.49\n",
      "Changing to logg=5.00 for T= 37720 logg=5.76\n",
      "Changing to logg=5.00 for T= 35040 logg=8.49\n",
      "Changing to logg=5.00 for T= 44961 logg=8.20\n",
      "Changing to logg=5.00 for T= 39290 logg=5.53\n",
      "Changing to logg=5.00 for T= 35040 logg=8.49\n",
      "Changing to logg=5.00 for T= 35047 logg=8.49\n",
      "Changing to logg=0.00 for T=  3317 logg=-0.19\n",
      "Changing to logg=5.00 for T= 35098 logg=8.49\n",
      "Changing to logg=5.00 for T= 34437 logg=5.46\n",
      "Changing to logg=5.00 for T= 42289 logg=5.55\n",
      "Changing to logg=5.00 for T= 33848 logg=5.68\n",
      "Changing to logg=5.00 for T= 38377 logg=5.39\n",
      "Changing to logg=5.00 for T= 35041 logg=8.49\n",
      "Changing to logg=5.00 for T= 39033 logg=5.45\n",
      "Changing to logg=5.00 for T= 35040 logg=8.49\n",
      "Changing to logg=5.00 for T= 39300 logg=5.53\n",
      "Changing to logg=5.00 for T= 38323 logg=5.43\n",
      "Changing to logg=5.00 for T= 37969 logg=5.40\n",
      "Changing to logg=5.00 for T= 35040 logg=8.49\n",
      "Changing to logg=5.00 for T= 35041 logg=8.49\n",
      "Changing to logg=5.00 for T= 35040 logg=8.49\n",
      "Changing to logg=5.00 for T= 39215 logg=5.43\n",
      "Changing to T= 50000 for T= 91531 logg=8.30\n",
      "Changing to logg=5.00 for T= 91531 logg=8.30\n",
      "Changing to logg=5.00 for T= 35040 logg=8.49\n",
      "Changing to logg=5.00 for T= 34340 logg=5.63\n",
      "Changing to logg=5.00 for T= 34450 logg=5.60\n",
      "Changing to logg=5.00 for T= 34271 logg=5.61\n",
      "Changing to logg=5.00 for T= 35040 logg=8.49\n",
      "Changing to logg=5.00 for T= 35040 logg=8.49\n",
      "Changing to logg=5.00 for T= 39061 logg=5.47\n",
      "Changing to logg=5.00 for T= 39098 logg=5.57\n",
      "Changing to logg=5.00 for T= 38718 logg=5.32\n",
      "Changing to logg=5.00 for T= 35040 logg=8.49\n",
      "Changing to logg=5.00 for T= 36208 logg=8.26\n",
      "Changing to T= 50000 for T= 53154 logg=8.20\n",
      "Changing to logg=5.00 for T= 53154 logg=8.20\n",
      "Changing to logg=5.00 for T= 39003 logg=5.46\n",
      "Changing to logg=5.00 for T= 39297 logg=5.50\n",
      "Changing to logg=5.00 for T= 38002 logg=5.45\n",
      "Changing to logg=5.00 for T= 35040 logg=8.49\n",
      "Changing to logg=5.00 for T= 38348 logg=5.37\n",
      "Changing to T= 50000 for T=172024 logg=7.24\n",
      "Changing to logg=5.00 for T=172024 logg=7.24\n",
      "Changing to logg=5.00 for T= 39010 logg=5.64\n",
      "Changing to logg=5.00 for T= 35233 logg=8.21\n",
      "Changing to logg=0.00 for T=  3317 logg=-0.19\n",
      "Changing to logg=5.00 for T= 37723 logg=5.77\n",
      "Changing to logg=5.00 for T= 37889 logg=5.54\n",
      "Changing to logg=5.00 for T= 35040 logg=8.49\n",
      "Changing to logg=5.00 for T= 39090 logg=5.45\n",
      "Changing to logg=0.00 for T=  3294 logg=-0.23\n",
      "Changing to logg=5.00 for T= 39162 logg=5.48\n",
      "Changing to logg=5.00 for T= 39282 logg=5.39\n",
      "Changing to logg=5.00 for T= 35040 logg=8.49\n",
      "Changing to logg=5.00 for T= 35040 logg=8.49\n",
      "Changing to logg=5.00 for T= 38497 logg=5.67\n",
      "Changing to logg=5.00 for T= 37267 logg=5.48\n",
      "Changing to logg=5.00 for T= 35040 logg=8.49\n",
      "Changing to logg=5.00 for T= 39184 logg=5.47\n",
      "Changing to logg=5.00 for T= 39296 logg=5.53\n",
      "Changing to logg=0.00 for T=  3317 logg=-0.19\n",
      "Changing to logg=5.00 for T= 35041 logg=8.49\n",
      "Changing to logg=5.00 for T= 31499 logg=8.21\n",
      "Changing to T= 50000 for T= 81089 logg=8.14\n",
      "Changing to logg=5.00 for T= 81089 logg=8.14\n",
      "Changing to logg=5.00 for T= 35040 logg=8.49\n",
      "Changing to logg=5.00 for T= 35040 logg=8.49\n",
      "Changing to logg=5.00 for T= 27868 logg=6.18\n",
      "Changing to logg=5.00 for T= 39019 logg=5.46\n",
      "Changing to logg=5.00 for T= 38506 logg=5.66\n",
      "Changing to logg=5.00 for T= 35040 logg=8.49\n",
      "Changing to logg=5.00 for T= 35040 logg=8.49\n",
      "Changing to logg=5.00 for T= 44686 logg=8.19\n",
      "Changing to logg=5.00 for T= 38521 logg=5.66\n",
      "Changing to logg=5.00 for T= 35040 logg=8.49\n",
      "Changing to logg=5.00 for T= 37700 logg=5.76\n",
      "Changing to logg=5.00 for T= 35040 logg=8.49\n",
      "Changing to logg=5.00 for T= 37054 logg=5.15\n",
      "Changing to logg=5.00 for T= 35040 logg=8.49\n",
      "Changing to logg=5.00 for T= 35040 logg=8.49\n",
      "Changing to logg=5.00 for T= 35046 logg=8.49\n",
      "Changing to logg=5.00 for T= 35040 logg=8.49\n",
      "Changing to logg=5.00 for T= 35040 logg=8.49\n",
      "Changing to logg=5.00 for T= 42994 logg=5.57\n",
      "Changing to logg=5.00 for T= 39115 logg=5.45\n",
      "Changing to logg=5.00 for T= 35040 logg=8.49\n",
      "Changing to logg=5.00 for T= 39152 logg=5.49\n",
      "Changing to logg=5.00 for T= 39260 logg=5.51\n",
      "Changing to logg=5.00 for T= 35040 logg=8.49\n",
      "Changing to logg=5.00 for T= 35040 logg=8.49\n",
      "Changing to logg=5.00 for T= 35123 logg=8.49\n",
      "Changing to T= 50000 for T= 90298 logg=8.31\n",
      "Changing to logg=5.00 for T= 90298 logg=8.31\n",
      "Changing to logg=5.00 for T= 35040 logg=8.49\n",
      "Changing to logg=5.00 for T= 35040 logg=8.49\n",
      "Changing to logg=5.00 for T= 36175 logg=5.49\n",
      "Changing to T= 50000 for T=170279 logg=7.23\n",
      "Changing to logg=5.00 for T=170279 logg=7.23\n",
      "Changing to logg=5.00 for T= 35040 logg=8.49\n",
      "Making photometry for isochrone: log(t) = 8.20  AKs = 0.50  dist = 2000\n",
      "     Starting at:  2020-12-23 21:27:26.203851   Usually takes ~5 minutes\n",
      "Starting filter: ubv,U   Elapsed time: 0.00 seconds\n",
      "Starting synthetic photometry\n",
      "Singles\n",
      "M =   1.400 Msun  T =  6633 K  m_ubv_U = 23.28\n"
     ]
    },
    {
     "name": "stdout",
     "output_type": "stream",
     "text": [
      "Primaries\n",
      "M =   4.000 Msun  T = 11805 K  m_ubv_U = 17.90\n",
      "M =   1.400 Msun  T =   nan K  m_ubv_U =  nan\n",
      "M =   2.500 Msun  T = 10121 K  m_ubv_U = 20.40\n",
      "M =   1.000 Msun  T =   nan K  m_ubv_U =  nan\n",
      "M =   4.500 Msun  T =  4524 K  m_ubv_U = 19.73\n",
      "M =   3.500 Msun  T = 12112 K  m_ubv_U = 18.81\n",
      "M =   3.200 Msun  T = 11518 K  m_ubv_U = 17.34\n",
      "M =   4.500 Msun  T =  4524 K  m_ubv_U = 19.73\n",
      "M =   0.631 Msun  T =   nan K  m_ubv_U =  nan\n",
      "M =   6.500 Msun  T = 33471 K  m_ubv_U = 29.75\n",
      "M =   4.000 Msun  T = 11805 K  m_ubv_U = 17.90\n",
      "M =   4.500 Msun  T =  6502 K  m_ubv_U = 20.43\n",
      "M =   3.000 Msun  T = 11265 K  m_ubv_U = 19.57\n",
      "M =   5.000 Msun  T = 29779 K  m_ubv_U = 28.91\n",
      "M =   6.500 Msun  T = 33463 K  m_ubv_U = 29.75\n",
      "M =   5.500 Msun  T = 27320 K  m_ubv_U = 29.30\n",
      "M =   0.501 Msun  T =   nan K  m_ubv_U =  nan\n",
      "M =   2.100 Msun  T = 11910 K  m_ubv_U = 18.55\n",
      "M =   1.400 Msun  T =   nan K  m_ubv_U =  nan\n",
      "M =   1.400 Msun  T =   nan K  m_ubv_U =  nan\n",
      "M =   2.500 Msun  T = 10121 K  m_ubv_U = 20.40\n",
      "M =   1.400 Msun  T =   nan K  m_ubv_U =  nan\n",
      "M =   4.500 Msun  T = 39105 K  m_ubv_U = 20.78\n",
      "M =   1.400 Msun  T =   nan K  m_ubv_U =  nan\n",
      "M =   0.398 Msun  T =   nan K  m_ubv_U =  nan\n",
      "M =   2.700 Msun  T = 43455 K  m_ubv_U = 28.39\n",
      "M =   0.631 Msun  T =   nan K  m_ubv_U =  nan\n",
      "M =   1.000 Msun  T =   nan K  m_ubv_U =  nan\n",
      "Secondaries\n",
      "M =   0.400 Msun  T =  3660 K  m_ubv_U = 31.97\n",
      "M =   4.000 Msun  T = 11918 K  m_ubv_U = 17.92\n",
      "M =   1.250 Msun  T =  6269 K  m_ubv_U = 24.02\n",
      "M =   3.500 Msun  T = 11878 K  m_ubv_U = 18.75\n",
      "M =   1.800 Msun  T =  8328 K  m_ubv_U = 21.91\n",
      "M =   1.750 Msun  T =  8122 K  m_ubv_U = 22.06\n",
      "M =   0.640 Msun  T =   nan K  m_ubv_U =  nan\n",
      "M =   1.350 Msun  T =  6542 K  m_ubv_U = 23.52\n",
      "M =   3.500 Msun  T = 11878 K  m_ubv_U = 18.75\n",
      "M =   5.850 Msun  T = 15700 K  m_ubv_U = 16.61\n",
      "M =   0.400 Msun  T =  3660 K  m_ubv_U = 31.97\n",
      "M =   1.350 Msun  T =  5840 K  m_ubv_U = 23.89\n",
      "M =   0.600 Msun  T =  3947 K  m_ubv_U = 30.48\n",
      "M =   1.000 Msun  T =  5585 K  m_ubv_U = 25.69\n",
      "M =   4.550 Msun  T = 15779 K  m_ubv_U = 18.10\n",
      "M =   3.300 Msun  T = 12047 K  m_ubv_U = 19.06\n",
      "M =   5.000 Msun  T = 172024 K  m_ubv_U = 25.21\n",
      "M =   1.470 Msun  T =   nan K  m_ubv_U =  nan\n",
      "M =   4.000 Msun  T = 11918 K  m_ubv_U = 17.92\n",
      "M =   3.700 Msun  T = 12255 K  m_ubv_U = 18.47\n",
      "M =   2.000 Msun  T =  9101 K  m_ubv_U = 21.40\n",
      "M =   5.500 Msun  T = 26451 K  m_ubv_U = 29.27\n",
      "M =   1.800 Msun  T =  8148 K  m_ubv_U = 21.91\n",
      "M =   3.500 Msun  T = 11698 K  m_ubv_U = 18.66\n",
      "M =   4.500 Msun  T = 37700 K  m_ubv_U = 22.02\n",
      "M =   1.350 Msun  T =   nan K  m_ubv_U =  nan\n",
      "M =   3.700 Msun  T = 12011 K  m_ubv_U = 18.44\n",
      "M =   4.000 Msun  T = 11918 K  m_ubv_U = 17.92\n",
      "Starting filter: ubv,V   Elapsed time: 9.58 seconds\n",
      "Starting synthetic photometry\n",
      "Singles\n",
      "M =   1.400 Msun  T =  6633 K  m_ubv_V = 22.32\n",
      "Primaries\n",
      "M =   4.000 Msun  T = 11805 K  m_ubv_V = 17.82\n",
      "M =   1.400 Msun  T =   nan K  m_ubv_V =  nan\n",
      "M =   2.500 Msun  T = 10121 K  m_ubv_V = 20.00\n",
      "M =   1.000 Msun  T =   nan K  m_ubv_V =  nan\n",
      "M =   4.500 Msun  T =  4524 K  m_ubv_V = 16.64\n",
      "M =   3.500 Msun  T = 12112 K  m_ubv_V = 18.74\n",
      "M =   3.200 Msun  T = 11518 K  m_ubv_V = 17.24\n",
      "M =   4.500 Msun  T =  4524 K  m_ubv_V = 16.64\n",
      "M =   0.631 Msun  T =   nan K  m_ubv_V =  nan\n",
      "M =   6.500 Msun  T = 33471 K  m_ubv_V = 30.58\n",
      "M =   4.000 Msun  T = 11805 K  m_ubv_V = 17.82\n",
      "M =   4.500 Msun  T =  6502 K  m_ubv_V = 19.33\n",
      "M =   3.000 Msun  T = 11265 K  m_ubv_V = 19.37\n",
      "M =   5.000 Msun  T = 29779 K  m_ubv_V = 29.65\n",
      "M =   6.500 Msun  T = 33463 K  m_ubv_V = 30.58\n",
      "M =   5.500 Msun  T = 27320 K  m_ubv_V = 29.97\n",
      "M =   0.501 Msun  T =   nan K  m_ubv_V =  nan\n",
      "M =   2.100 Msun  T = 11910 K  m_ubv_V = 18.47\n",
      "M =   1.400 Msun  T =   nan K  m_ubv_V =  nan\n",
      "M =   1.400 Msun  T =   nan K  m_ubv_V =  nan\n",
      "M =   2.500 Msun  T = 10121 K  m_ubv_V = 20.00\n",
      "M =   1.400 Msun  T =   nan K  m_ubv_V =  nan\n",
      "M =   4.500 Msun  T = 39105 K  m_ubv_V = 21.70\n",
      "M =   1.400 Msun  T =   nan K  m_ubv_V =  nan\n",
      "M =   0.398 Msun  T =   nan K  m_ubv_V =  nan\n",
      "M =   2.700 Msun  T = 43455 K  m_ubv_V = 29.34\n",
      "M =   0.631 Msun  T =   nan K  m_ubv_V =  nan\n",
      "M =   1.000 Msun  T =   nan K  m_ubv_V =  nan\n",
      "Secondaries\n",
      "M =   0.400 Msun  T =  3660 K  m_ubv_V = 28.97\n",
      "M =   4.000 Msun  T = 11918 K  m_ubv_V = 17.85\n",
      "M =   1.250 Msun  T =  6269 K  m_ubv_V = 22.93\n",
      "M =   3.500 Msun  T = 11878 K  m_ubv_V = 18.65\n",
      "M =   1.800 Msun  T =  8328 K  m_ubv_V = 21.18\n",
      "M =   1.750 Msun  T =  8122 K  m_ubv_V = 21.30\n",
      "M =   0.640 Msun  T =   nan K  m_ubv_V =  nan\n",
      "M =   1.350 Msun  T =  6542 K  m_ubv_V = 22.53\n",
      "M =   3.500 Msun  T = 11878 K  m_ubv_V = 18.65\n",
      "M =   5.850 Msun  T = 15700 K  m_ubv_V = 16.90\n",
      "M =   0.400 Msun  T =  3660 K  m_ubv_V = 28.97\n",
      "M =   1.350 Msun  T =  5840 K  m_ubv_V = 22.55\n",
      "M =   0.600 Msun  T =  3947 K  m_ubv_V = 27.47\n",
      "M =   1.000 Msun  T =  5585 K  m_ubv_V = 24.14\n",
      "M =   4.550 Msun  T = 15779 K  m_ubv_V = 18.36\n",
      "M =   3.300 Msun  T = 12047 K  m_ubv_V = 18.97\n",
      "M =   5.000 Msun  T = 172024 K  m_ubv_V = 26.18\n",
      "M =   1.470 Msun  T =   nan K  m_ubv_V =  nan\n",
      "M =   4.000 Msun  T = 11918 K  m_ubv_V = 17.85\n",
      "M =   3.700 Msun  T = 12255 K  m_ubv_V = 18.43\n",
      "M =   2.000 Msun  T =  9101 K  m_ubv_V = 20.80\n",
      "M =   5.500 Msun  T = 26451 K  m_ubv_V = 29.90\n",
      "M =   1.800 Msun  T =  8148 K  m_ubv_V = 21.16\n",
      "M =   3.500 Msun  T = 11698 K  m_ubv_V = 18.55\n",
      "M =   4.500 Msun  T = 37700 K  m_ubv_V = 22.94\n",
      "M =   1.350 Msun  T =   nan K  m_ubv_V =  nan\n",
      "M =   3.700 Msun  T = 12011 K  m_ubv_V = 18.37\n",
      "M =   4.000 Msun  T = 11918 K  m_ubv_V = 17.85\n",
      "Starting filter: ubv,B   Elapsed time: 18.92 seconds\n",
      "Starting synthetic photometry\n",
      "Singles\n",
      "M =   1.400 Msun  T =  6633 K  m_ubv_B = 23.34\n",
      "Primaries\n",
      "M =   4.000 Msun  T = 11805 K  m_ubv_B = 18.21\n",
      "M =   1.400 Msun  T =   nan K  m_ubv_B =  nan\n",
      "M =   2.500 Msun  T = 10121 K  m_ubv_B = 20.48\n",
      "M =   1.000 Msun  T =   nan K  m_ubv_B =  nan\n",
      "M =   4.500 Msun  T =  4524 K  m_ubv_B = 18.58\n",
      "M =   3.500 Msun  T = 12112 K  m_ubv_B = 19.13\n",
      "M =   3.200 Msun  T = 11518 K  m_ubv_B = 17.63\n",
      "M =   4.500 Msun  T =  4524 K  m_ubv_B = 18.58\n",
      "M =   0.631 Msun  T =   nan K  m_ubv_B =  nan\n",
      "M =   6.500 Msun  T = 33471 K  m_ubv_B = 30.84\n",
      "M =   4.000 Msun  T = 11805 K  m_ubv_B = 18.21\n",
      "M =   4.500 Msun  T =  6502 K  m_ubv_B = 20.35\n",
      "M =   3.000 Msun  T = 11265 K  m_ubv_B = 19.79\n",
      "M =   5.000 Msun  T = 29779 K  m_ubv_B = 29.93\n",
      "M =   6.500 Msun  T = 33463 K  m_ubv_B = 30.84\n",
      "M =   5.500 Msun  T = 27320 K  m_ubv_B = 30.29\n",
      "M =   0.501 Msun  T =   nan K  m_ubv_B =  nan\n",
      "M =   2.100 Msun  T = 11910 K  m_ubv_B = 18.86\n",
      "M =   1.400 Msun  T =   nan K  m_ubv_B =  nan\n",
      "M =   1.400 Msun  T =   nan K  m_ubv_B =  nan\n",
      "M =   2.500 Msun  T = 10121 K  m_ubv_B = 20.48\n",
      "M =   1.400 Msun  T =   nan K  m_ubv_B =  nan\n",
      "M =   4.500 Msun  T = 39105 K  m_ubv_B = 21.86\n",
      "M =   1.400 Msun  T =   nan K  m_ubv_B =  nan\n",
      "M =   0.398 Msun  T =   nan K  m_ubv_B =  nan\n",
      "M =   2.700 Msun  T = 43455 K  m_ubv_B = 29.48\n",
      "M =   0.631 Msun  T =   nan K  m_ubv_B =  nan\n",
      "M =   1.000 Msun  T =   nan K  m_ubv_B =  nan\n",
      "Secondaries\n",
      "M =   0.400 Msun  T =  3660 K  m_ubv_B = 31.10\n",
      "M =   4.000 Msun  T = 11918 K  m_ubv_B = 18.24\n",
      "M =   1.250 Msun  T =  6269 K  m_ubv_B = 24.06\n",
      "M =   3.500 Msun  T = 11878 K  m_ubv_B = 19.05\n",
      "M =   1.800 Msun  T =  8328 K  m_ubv_B = 21.86\n",
      "M =   1.750 Msun  T =  8122 K  m_ubv_B = 22.02\n",
      "M =   0.640 Msun  T =   nan K  m_ubv_B =  nan\n",
      "M =   1.350 Msun  T =  6542 K  m_ubv_B = 23.58\n",
      "M =   3.500 Msun  T = 11878 K  m_ubv_B = 19.05\n",
      "M =   5.850 Msun  T = 15700 K  m_ubv_B = 17.22\n",
      "M =   0.400 Msun  T =  3660 K  m_ubv_B = 31.10\n",
      "M =   1.350 Msun  T =  5840 K  m_ubv_B = 23.84\n",
      "M =   0.600 Msun  T =  3947 K  m_ubv_B = 29.58\n",
      "M =   1.000 Msun  T =  5585 K  m_ubv_B = 25.53\n",
      "M =   4.550 Msun  T = 15779 K  m_ubv_B = 18.69\n",
      "M =   3.300 Msun  T = 12047 K  m_ubv_B = 19.37\n",
      "M =   5.000 Msun  T = 172024 K  m_ubv_B = 26.32\n",
      "M =   1.470 Msun  T =   nan K  m_ubv_B =  nan\n",
      "M =   4.000 Msun  T = 11918 K  m_ubv_B = 18.24\n",
      "M =   3.700 Msun  T = 12255 K  m_ubv_B = 18.82\n",
      "M =   2.000 Msun  T =  9101 K  m_ubv_B = 21.37\n",
      "M =   5.500 Msun  T = 26451 K  m_ubv_B = 30.23\n",
      "M =   1.800 Msun  T =  8148 K  m_ubv_B = 21.87\n",
      "M =   3.500 Msun  T = 11698 K  m_ubv_B = 18.95\n",
      "M =   4.500 Msun  T = 37700 K  m_ubv_B = 23.10\n",
      "M =   1.350 Msun  T =   nan K  m_ubv_B =  nan\n",
      "M =   3.700 Msun  T = 12011 K  m_ubv_B = 18.76\n",
      "M =   4.000 Msun  T = 11918 K  m_ubv_B = 18.24\n",
      "Starting filter: ubv,R   Elapsed time: 28.35 seconds\n",
      "Starting synthetic photometry\n",
      "Singles\n",
      "M =   1.400 Msun  T =  6633 K  m_ubv_R = 20.27\n"
     ]
    },
    {
     "name": "stdout",
     "output_type": "stream",
     "text": [
      "Primaries\n",
      "M =   4.000 Msun  T = 11805 K  m_ubv_R = 16.06\n",
      "M =   1.400 Msun  T =   nan K  m_ubv_R =  nan\n",
      "M =   2.500 Msun  T = 10121 K  m_ubv_R = 18.23\n",
      "M =   1.000 Msun  T =   nan K  m_ubv_R =  nan\n",
      "M =   4.500 Msun  T =  4524 K  m_ubv_R = 14.24\n",
      "M =   3.500 Msun  T = 12112 K  m_ubv_R = 16.99\n",
      "M =   3.200 Msun  T = 11518 K  m_ubv_R = 15.48\n",
      "M =   4.500 Msun  T =  4524 K  m_ubv_R = 14.24\n",
      "M =   0.631 Msun  T =   nan K  m_ubv_R =  nan\n",
      "M =   6.500 Msun  T = 33471 K  m_ubv_R = 28.94\n",
      "M =   4.000 Msun  T = 11805 K  m_ubv_R = 16.06\n",
      "M =   4.500 Msun  T =  6502 K  m_ubv_R = 17.28\n",
      "M =   3.000 Msun  T = 11265 K  m_ubv_R = 17.62\n",
      "M =   5.000 Msun  T = 29779 K  m_ubv_R = 28.01\n",
      "M =   6.500 Msun  T = 33463 K  m_ubv_R = 28.94\n",
      "M =   5.500 Msun  T = 27320 K  m_ubv_R = 28.32\n",
      "M =   0.501 Msun  T =   nan K  m_ubv_R =  nan\n",
      "M =   2.100 Msun  T = 11910 K  m_ubv_R = 16.72\n",
      "M =   1.400 Msun  T =   nan K  m_ubv_R =  nan\n",
      "M =   1.400 Msun  T =   nan K  m_ubv_R =  nan\n",
      "M =   2.500 Msun  T = 10121 K  m_ubv_R = 18.23\n",
      "M =   1.400 Msun  T =   nan K  m_ubv_R =  nan\n",
      "M =   4.500 Msun  T = 39105 K  m_ubv_R = 20.06\n",
      "M =   1.400 Msun  T =   nan K  m_ubv_R =  nan\n",
      "M =   0.398 Msun  T =   nan K  m_ubv_R =  nan\n",
      "M =   2.700 Msun  T = 43455 K  m_ubv_R = 27.69\n",
      "M =   0.631 Msun  T =   nan K  m_ubv_R =  nan\n",
      "M =   1.000 Msun  T =   nan K  m_ubv_R =  nan\n",
      "Secondaries\n",
      "M =   0.400 Msun  T =  3660 K  m_ubv_R = 26.21\n",
      "M =   4.000 Msun  T = 11918 K  m_ubv_R = 16.10\n",
      "M =   1.250 Msun  T =  6269 K  m_ubv_R = 20.83\n",
      "M =   3.500 Msun  T = 11878 K  m_ubv_R = 16.90\n",
      "M =   1.800 Msun  T =  8328 K  m_ubv_R = 19.31\n",
      "M =   1.750 Msun  T =  8122 K  m_ubv_R = 19.41\n",
      "M =   0.640 Msun  T =   nan K  m_ubv_R =  nan\n",
      "M =   1.350 Msun  T =  6542 K  m_ubv_R = 20.46\n",
      "M =   3.500 Msun  T = 11878 K  m_ubv_R = 16.90\n",
      "M =   5.850 Msun  T = 15700 K  m_ubv_R = 15.17\n",
      "M =   0.400 Msun  T =  3660 K  m_ubv_R = 26.21\n",
      "M =   1.350 Msun  T =  5840 K  m_ubv_R = 20.40\n",
      "M =   0.600 Msun  T =  3947 K  m_ubv_R = 24.84\n",
      "M =   1.000 Msun  T =  5585 K  m_ubv_R = 21.95\n",
      "M =   4.550 Msun  T = 15779 K  m_ubv_R = 16.64\n",
      "M =   3.300 Msun  T = 12047 K  m_ubv_R = 17.22\n",
      "M =   5.000 Msun  T = 172024 K  m_ubv_R = 24.54\n",
      "M =   1.470 Msun  T =   nan K  m_ubv_R =  nan\n",
      "M =   4.000 Msun  T = 11918 K  m_ubv_R = 16.10\n",
      "M =   3.700 Msun  T = 12255 K  m_ubv_R = 16.68\n",
      "M =   2.000 Msun  T =  9101 K  m_ubv_R = 18.99\n",
      "M =   5.500 Msun  T = 26451 K  m_ubv_R = 28.25\n",
      "M =   1.800 Msun  T =  8148 K  m_ubv_R = 19.28\n",
      "M =   3.500 Msun  T = 11698 K  m_ubv_R = 16.79\n",
      "M =   4.500 Msun  T = 37700 K  m_ubv_R = 21.29\n",
      "M =   1.350 Msun  T =   nan K  m_ubv_R =  nan\n",
      "M =   3.700 Msun  T = 12011 K  m_ubv_R = 16.62\n",
      "M =   4.000 Msun  T = 11918 K  m_ubv_R = 16.10\n",
      "Starting filter: ubv,I   Elapsed time: 37.36 seconds\n",
      "Starting synthetic photometry\n",
      "Singles\n",
      "M =   1.400 Msun  T =  6633 K  m_ubv_I = 17.41\n",
      "Primaries\n",
      "M =   4.000 Msun  T = 11805 K  m_ubv_I = 13.50\n",
      "M =   1.400 Msun  T =   nan K  m_ubv_I =  nan\n",
      "M =   2.500 Msun  T = 10121 K  m_ubv_I = 15.62\n",
      "M =   1.000 Msun  T =   nan K  m_ubv_I =  nan\n",
      "M =   4.500 Msun  T =  4524 K  m_ubv_I = 11.01\n",
      "M =   3.500 Msun  T = 12112 K  m_ubv_I = 14.44\n",
      "M =   3.200 Msun  T = 11518 K  m_ubv_I = 12.90\n",
      "M =   4.500 Msun  T =  4524 K  m_ubv_I = 11.01\n",
      "M =   0.631 Msun  T =   nan K  m_ubv_I =  nan\n",
      "M =   6.500 Msun  T = 33471 K  m_ubv_I = 26.59\n",
      "M =   4.000 Msun  T = 11805 K  m_ubv_I = 13.50\n",
      "M =   4.500 Msun  T =  6502 K  m_ubv_I = 14.41\n",
      "M =   3.000 Msun  T = 11265 K  m_ubv_I = 15.04\n",
      "M =   5.000 Msun  T = 29779 K  m_ubv_I = 25.65\n",
      "M =   6.500 Msun  T = 33463 K  m_ubv_I = 26.59\n",
      "M =   5.500 Msun  T = 27320 K  m_ubv_I = 25.95\n",
      "M =   0.501 Msun  T =   nan K  m_ubv_I =  nan\n",
      "M =   2.100 Msun  T = 11910 K  m_ubv_I = 14.16\n",
      "M =   1.400 Msun  T =   nan K  m_ubv_I =  nan\n",
      "M =   1.400 Msun  T =   nan K  m_ubv_I =  nan\n",
      "M =   2.500 Msun  T = 10121 K  m_ubv_I = 15.62\n",
      "M =   1.400 Msun  T =   nan K  m_ubv_I =  nan\n",
      "M =   4.500 Msun  T = 39105 K  m_ubv_I = 17.72\n",
      "M =   1.400 Msun  T =   nan K  m_ubv_I =  nan\n",
      "M =   0.398 Msun  T =   nan K  m_ubv_I =  nan\n",
      "M =   2.700 Msun  T = 43455 K  m_ubv_I = 25.36\n",
      "M =   0.631 Msun  T =   nan K  m_ubv_I =  nan\n",
      "M =   1.000 Msun  T =   nan K  m_ubv_I =  nan\n",
      "Secondaries\n",
      "M =   0.400 Msun  T =  3660 K  m_ubv_I = 22.48\n",
      "M =   4.000 Msun  T = 11918 K  m_ubv_I = 13.54\n",
      "M =   1.250 Msun  T =  6269 K  m_ubv_I = 17.93\n",
      "M =   3.500 Msun  T = 11878 K  m_ubv_I = 14.34\n",
      "M =   1.800 Msun  T =  8328 K  m_ubv_I = 16.62\n",
      "M =   1.750 Msun  T =  8122 K  m_ubv_I = 16.71\n",
      "M =   0.640 Msun  T =   nan K  m_ubv_I =  nan\n",
      "M =   1.350 Msun  T =  6542 K  m_ubv_I = 17.60\n",
      "M =   3.500 Msun  T = 11878 K  m_ubv_I = 14.34\n",
      "M =   5.850 Msun  T = 15700 K  m_ubv_I = 12.69\n",
      "M =   0.400 Msun  T =  3660 K  m_ubv_I = 22.48\n",
      "M =   1.350 Msun  T =  5840 K  m_ubv_I = 17.44\n",
      "M =   0.600 Msun  T =  3947 K  m_ubv_I = 21.33\n",
      "M =   1.000 Msun  T =  5585 K  m_ubv_I = 18.95\n",
      "M =   4.550 Msun  T = 15779 K  m_ubv_I = 14.16\n",
      "M =   3.300 Msun  T = 12047 K  m_ubv_I = 14.67\n",
      "M =   5.000 Msun  T = 172024 K  m_ubv_I = 22.22\n",
      "M =   1.470 Msun  T =   nan K  m_ubv_I =  nan\n",
      "M =   4.000 Msun  T = 11918 K  m_ubv_I = 13.54\n",
      "M =   3.700 Msun  T = 12255 K  m_ubv_I = 14.13\n",
      "M =   2.000 Msun  T =  9101 K  m_ubv_I = 16.34\n",
      "M =   5.500 Msun  T = 26451 K  m_ubv_I = 25.87\n",
      "M =   1.800 Msun  T =  8148 K  m_ubv_I = 16.57\n",
      "M =   3.500 Msun  T = 11698 K  m_ubv_I = 14.23\n",
      "M =   4.500 Msun  T = 37700 K  m_ubv_I = 18.96\n",
      "M =   1.350 Msun  T =   nan K  m_ubv_I =  nan\n",
      "M =   3.700 Msun  T = 12011 K  m_ubv_I = 14.06\n",
      "M =   4.000 Msun  T = 11918 K  m_ubv_I = 13.54\n",
      "      Time taken: 46.32 seconds\n",
      "Isochrone generation took 372.229623 s.\n"
     ]
    }
   ],
   "source": [
    "import spisea\n",
    "from spisea import evolution, synthetic\n",
    "import math\n",
    "# Check if the evolution class works fine\n",
    "import time\n",
    "t1=time.time()\n",
    "bps=evolution.BPASS()\n",
    "iso1=synthetic.Isochrone_Binary(8.2, 0.5, 2000,math.log10(1), mass_sampling=1, filepath='/g/lu/scratch/ryotainagaki/BPASS_iso_filesTimedIsolated/')"
   ]
  },
  {
   "cell_type": "markdown",
   "metadata": {},
   "source": [
    "For a sanity check, we can see that the primaries, secondaries, and single stars have phasees of 5 or of 101 or of 110. This is since we haven't added neutron stars or black holes yet. Stars with phase of -99 exist, and those are the secondary stars that have already merged."
   ]
  },
  {
   "cell_type": "code",
   "execution_count": 41,
   "metadata": {},
   "outputs": [
    {
     "data": {
      "text/plain": [
       "True"
      ]
     },
     "execution_count": 41,
     "metadata": {},
     "output_type": "execute_result"
    }
   ],
   "source": [
    "import numpy as np\n",
    "np.all([(x==5 or x==101 or x==110) for x in iso1.primaries['phase']])"
   ]
  },
  {
   "cell_type": "code",
   "execution_count": 42,
   "metadata": {},
   "outputs": [
    {
     "data": {
      "text/html": [
       "<i>Table length=2793</i>\n",
       "<table id=\"table140185367088768\" class=\"table-striped table-bordered table-condensed\">\n",
       "<thead><tr><th>mass</th><th>L</th><th>Teff</th><th>R</th><th>logg</th><th>isWR</th><th>mass_current</th><th>phase</th><th>source</th><th>m_ubv_U</th><th>m_ubv_V</th><th>m_ubv_B</th><th>m_ubv_R</th><th>m_ubv_I</th></tr></thead>\n",
       "<thead><tr><th>solMass</th><th>W</th><th>K</th><th>m</th><th></th><th></th><th>solMass</th><th></th><th></th><th></th><th></th><th></th><th></th><th></th></tr></thead>\n",
       "<thead><tr><th>float64</th><th>float64</th><th>float64</th><th>float64</th><th>float64</th><th>bool</th><th>float64</th><th>float64</th><th>int64</th><th>float64</th><th>float64</th><th>float64</th><th>float64</th><th>float64</th></tr></thead>\n",
       "<tr><td>4.0</td><td>1.6512085513837888e+29</td><td>11804.837142385752</td><td>3454380426.983821</td><td>3.6465954007915196</td><td>False</td><td>3.99823</td><td>5.0</td><td>1</td><td>17.89642176718931</td><td>17.817363154256427</td><td>18.21085641153647</td><td>16.063322980911884</td><td>13.498484569756611</td></tr>\n",
       "<tr><td>4.5</td><td>7.236722660866479e+28</td><td>39096.690832098415</td><td>208487568.4241099</td><td>5.398469934003078</td><td>True</td><td>0.82255</td><td>5.0</td><td>1</td><td>20.77883179466383</td><td>21.703606123206253</td><td>21.862104579194536</td><td>20.058228162134633</td><td>17.725295482647322</td></tr>\n",
       "<tr><td>7.0</td><td>1.6323599436137195e+25</td><td>39833.457103263776</td><td>3016484.959504643</td><td>9.276010327140387</td><td>False</td><td>1.29449</td><td>101.0</td><td>1</td><td>30.095623352930886</td><td>30.996263830416943</td><td>31.21727291068448</td><td>29.362616042877892</td><td>27.019683912722865</td></tr>\n",
       "<tr><td>1.4</td><td>nan</td><td>nan</td><td>nan</td><td>nan</td><td>False</td><td>1.886947</td><td>110.0</td><td>4</td><td>nan</td><td>nan</td><td>nan</td><td>nan</td><td>nan</td></tr>\n",
       "<tr><td>3.16228</td><td>nan</td><td>nan</td><td>nan</td><td>nan</td><td>False</td><td>3.16228</td><td>110.0</td><td>4</td><td>nan</td><td>nan</td><td>nan</td><td>nan</td><td>nan</td></tr>\n",
       "<tr><td>3.2</td><td>2.6736954014653107e+29</td><td>11518.077596077594</td><td>4617268863.215177</td><td>3.435183029503001</td><td>False</td><td>4.39011</td><td>5.0</td><td>1</td><td>17.33760937657738</td><td>17.236914408551122</td><td>17.633247065596603</td><td>15.478827577016686</td><td>12.904319860474322</td></tr>\n",
       "<tr><td>3.5</td><td>7.471743064187931e+28</td><td>12112.394295485958</td><td>2207192258.4573445</td><td>3.9777810712007264</td><td>False</td><td>3.49956</td><td>5.0</td><td>1</td><td>18.806343248248368</td><td>18.740224298315084</td><td>19.133513926343877</td><td>16.9909897353106</td><td>14.436635191770959</td></tr>\n",
       "<tr><td>0.398107</td><td>nan</td><td>nan</td><td>nan</td><td>nan</td><td>False</td><td>0.398107</td><td>110.0</td><td>3</td><td>nan</td><td>nan</td><td>nan</td><td>nan</td><td>nan</td></tr>\n",
       "<tr><td>4.5</td><td>3.8848291972676705e+29</td><td>4524.493826799286</td><td>36069088234.0388</td><td>1.657984548899564</td><td>False</td><td>4.47504</td><td>5.0</td><td>1</td><td>19.729621336207536</td><td>16.6392756231814</td><td>18.584950527366352</td><td>14.24229880840067</td><td>11.011947527643558</td></tr>\n",
       "<tr><td>...</td><td>...</td><td>...</td><td>...</td><td>...</td><td>...</td><td>...</td><td>...</td><td>...</td><td>...</td><td>...</td><td>...</td><td>...</td><td>...</td></tr>\n",
       "<tr><td>6.5</td><td>2.32562147504934e+26</td><td>47226.63475457761</td><td>8099994.317872087</td><td>8.143559314483852</td><td>True</td><td>0.68804</td><td>5.0</td><td>1</td><td>27.559916023477598</td><td>28.528244968588243</td><td>28.665442701606665</td><td>26.88360276199416</td><td>24.55785458108195</td></tr>\n",
       "<tr><td>6.5</td><td>1.4938773036139906e+25</td><td>33470.63871415238</td><td>4087132.000927434</td><td>8.973673018038884</td><td>False</td><td>1.18467</td><td>101.0</td><td>1</td><td>29.749620559137682</td><td>30.579215686005007</td><td>30.83561753908446</td><td>28.941695610353605</td><td>26.58978794821554</td></tr>\n",
       "<tr><td>2.5</td><td>1.6113575900964336e+28</td><td>10121.153231315011</td><td>1467996987.039636</td><td>4.185947635975171</td><td>False</td><td>2.5</td><td>5.0</td><td>1</td><td>20.400205810572945</td><td>20.00383618018458</td><td>20.477949398003386</td><td>18.229735595124726</td><td>15.618339533279434</td></tr>\n",
       "<tr><td>2.5</td><td>1.6113575900964336e+28</td><td>10121.153231315011</td><td>1467996987.039636</td><td>4.185947635975171</td><td>False</td><td>2.5</td><td>5.0</td><td>1</td><td>20.400205810572945</td><td>20.00383618018458</td><td>20.477949398003386</td><td>18.229735595124726</td><td>15.618339533279434</td></tr>\n",
       "<tr><td>3.5</td><td>7.778071464514676e+28</td><td>11960.518303234461</td><td>2309538276.070861</td><td>3.938414866169459</td><td>False</td><td>3.49951</td><td>5.0</td><td>1</td><td>18.74973738755862</td><td>18.666880452242548</td><td>19.062848015915932</td><td>16.916114624754172</td><td>14.357518347490632</td></tr>\n",
       "<tr><td>3.7</td><td>8.38800014121492e+25</td><td>42300.06161730419</td><td>6063681.956340052</td><td>8.531181527090537</td><td>False</td><td>0.94133</td><td>5.0</td><td>1</td><td>28.341138433535104</td><td>29.286216081472176</td><td>29.434197685877955</td><td>27.639694017235122</td><td>25.309252259343594</td></tr>\n",
       "<tr><td>2.5</td><td>1.6113575900964336e+28</td><td>10121.153231315011</td><td>1467996987.039636</td><td>4.185947635975171</td><td>False</td><td>2.5</td><td>5.0</td><td>1</td><td>20.400205810572945</td><td>20.00383618018458</td><td>20.477949398003386</td><td>18.229735595124726</td><td>15.618339533279434</td></tr>\n",
       "<tr><td>2.1</td><td>1.2257500767312625e+29</td><td>11991.67915028709</td><td>2884231822.476198</td><td>3.781065488896866</td><td>False</td><td>3.7989</td><td>5.0</td><td>1</td><td>18.243595983292536</td><td>18.178104697775535</td><td>18.570265408058372</td><td>16.42651296297534</td><td>13.867649905584143</td></tr>\n",
       "<tr><td>6.5</td><td>4.507371134384996e+26</td><td>55186.39180947247</td><td>8258227.812815612</td><td>8.115076286515881</td><td>True</td><td>0.66979</td><td>5.0</td><td>1</td><td>27.44074875784063</td><td>28.419683769265447</td><td>28.552968983094196</td><td>26.776678927128774</td><td>24.453168310240727</td></tr>\n",
       "<tr><td>0.316228</td><td>nan</td><td>nan</td><td>nan</td><td>nan</td><td>False</td><td>0.316228</td><td>110.0</td><td>4</td><td>nan</td><td>nan</td><td>nan</td><td>nan</td><td>nan</td></tr>\n",
       "</table>"
      ],
      "text/plain": [
       "<Table length=2793>\n",
       "  mass             L            ...      m_ubv_R            m_ubv_I      \n",
       "solMass            W            ...                                      \n",
       "float64         float64         ...      float64            float64      \n",
       "-------- ---------------------- ... ------------------ ------------------\n",
       "     4.0 1.6512085513837888e+29 ... 16.063322980911884 13.498484569756611\n",
       "     4.5  7.236722660866479e+28 ... 20.058228162134633 17.725295482647322\n",
       "     7.0 1.6323599436137195e+25 ... 29.362616042877892 27.019683912722865\n",
       "     1.4                    nan ...                nan                nan\n",
       " 3.16228                    nan ...                nan                nan\n",
       "     3.2 2.6736954014653107e+29 ... 15.478827577016686 12.904319860474322\n",
       "     3.5  7.471743064187931e+28 ...   16.9909897353106 14.436635191770959\n",
       "0.398107                    nan ...                nan                nan\n",
       "     4.5 3.8848291972676705e+29 ...  14.24229880840067 11.011947527643558\n",
       "     ...                    ... ...                ...                ...\n",
       "     6.5   2.32562147504934e+26 ...  26.88360276199416  24.55785458108195\n",
       "     6.5 1.4938773036139906e+25 ... 28.941695610353605  26.58978794821554\n",
       "     2.5 1.6113575900964336e+28 ... 18.229735595124726 15.618339533279434\n",
       "     2.5 1.6113575900964336e+28 ... 18.229735595124726 15.618339533279434\n",
       "     3.5  7.778071464514676e+28 ... 16.916114624754172 14.357518347490632\n",
       "     3.7   8.38800014121492e+25 ... 27.639694017235122 25.309252259343594\n",
       "     2.5 1.6113575900964336e+28 ... 18.229735595124726 15.618339533279434\n",
       "     2.1 1.2257500767312625e+29 ...  16.42651296297534 13.867649905584143\n",
       "     6.5  4.507371134384996e+26 ... 26.776678927128774 24.453168310240727\n",
       "0.316228                    nan ...                nan                nan"
      ]
     },
     "execution_count": 42,
     "metadata": {},
     "output_type": "execute_result"
    }
   ],
   "source": [
    "iso1.primaries"
   ]
  },
  {
   "cell_type": "code",
   "execution_count": 43,
   "metadata": {},
   "outputs": [
    {
     "data": {
      "text/html": [
       "&lt;Column name=&apos;phase&apos; dtype=&apos;float64&apos; length=3&gt;\n",
       "<table>\n",
       "<tr><td>5.0</td></tr>\n",
       "<tr><td>101.0</td></tr>\n",
       "<tr><td>110.0</td></tr>\n",
       "</table>"
      ],
      "text/plain": [
       "<Column name='phase' dtype='float64' length=3>\n",
       "  5.0\n",
       "101.0\n",
       "110.0"
      ]
     },
     "execution_count": 43,
     "metadata": {},
     "output_type": "execute_result"
    }
   ],
   "source": [
    "np.unique(iso1.primaries['phase'])"
   ]
  },
  {
   "cell_type": "code",
   "execution_count": 44,
   "metadata": {},
   "outputs": [
    {
     "data": {
      "text/plain": [
       "True"
      ]
     },
     "execution_count": 44,
     "metadata": {},
     "output_type": "execute_result"
    }
   ],
   "source": [
    "np.all([(x==5 or x==101 or x==110) for x in iso1.singles['phase']])"
   ]
  },
  {
   "cell_type": "code",
   "execution_count": 45,
   "metadata": {},
   "outputs": [
    {
     "data": {
      "text/plain": [
       "True"
      ]
     },
     "execution_count": 45,
     "metadata": {},
     "output_type": "execute_result"
    }
   ],
   "source": [
    "np.all([(x==5 or x==101 or x==-99) for x in iso1.secondaries['phase']])"
   ]
  },
  {
   "cell_type": "markdown",
   "metadata": {},
   "source": [
    "Find the maximum value of logg (cgs) for primaries, single stars, and secondaries. It turns out we have outliers for the secondaries"
   ]
  },
  {
   "cell_type": "code",
   "execution_count": 46,
   "metadata": {},
   "outputs": [
    {
     "data": {
      "text/plain": [
       "9.294869501162154"
      ]
     },
     "execution_count": 46,
     "metadata": {},
     "output_type": "execute_result"
    }
   ],
   "source": [
    "np.max(iso1.singles['logg'])"
   ]
  },
  {
   "cell_type": "code",
   "execution_count": 47,
   "metadata": {},
   "outputs": [
    {
     "data": {
      "text/plain": [
       "9.288600394549206"
      ]
     },
     "execution_count": 47,
     "metadata": {},
     "output_type": "execute_result"
    }
   ],
   "source": [
    "np.max(np.nan_to_num(iso1.primaries['logg'], -np.inf))"
   ]
  },
  {
   "cell_type": "code",
   "execution_count": 48,
   "metadata": {},
   "outputs": [
    {
     "data": {
      "text/plain": [
       "9.283702439639246"
      ]
     },
     "execution_count": 48,
     "metadata": {},
     "output_type": "execute_result"
    }
   ],
   "source": [
    "np.max(np.nan_to_num(iso1.secondaries['logg']))"
   ]
  },
  {
   "cell_type": "markdown",
   "metadata": {},
   "source": [
    "Now let's find the median logg values for the single stars, secondary stars, and the primary stars"
   ]
  },
  {
   "cell_type": "code",
   "execution_count": 49,
   "metadata": {},
   "outputs": [
    {
     "data": {
      "text/plain": [
       "4.2498758947769355"
      ]
     },
     "execution_count": 49,
     "metadata": {},
     "output_type": "execute_result"
    }
   ],
   "source": [
    "np.median(iso1.singles['logg'])"
   ]
  },
  {
   "cell_type": "code",
   "execution_count": 50,
   "metadata": {},
   "outputs": [
    {
     "data": {
      "text/plain": [
       "nan"
      ]
     },
     "execution_count": 50,
     "metadata": {},
     "output_type": "execute_result"
    }
   ],
   "source": [
    "np.median(iso1.primaries['logg'])"
   ]
  },
  {
   "cell_type": "code",
   "execution_count": 51,
   "metadata": {},
   "outputs": [
    {
     "data": {
      "text/plain": [
       "4.298445675989428"
      ]
     },
     "execution_count": 51,
     "metadata": {},
     "output_type": "execute_result"
    }
   ],
   "source": [
    "np.median([x for x in iso1.secondaries['logg'] if np.isfinite(x)])"
   ]
  },
  {
   "cell_type": "markdown",
   "metadata": {},
   "source": [
    "Let's make a histogram of log_g values for each table of the isochrone"
   ]
  },
  {
   "cell_type": "code",
   "execution_count": 52,
   "metadata": {},
   "outputs": [
    {
     "data": {
      "text/plain": [
       "Text(0.5, 0, 'logg in cgs')"
      ]
     },
     "execution_count": 52,
     "metadata": {},
     "output_type": "execute_result"
    },
    {
     "data": {
      "image/png": "[encoded data removed]",
      "text/plain": [
       "<Figure size 432x288 with 1 Axes>"
      ]
     },
     "metadata": {
      "needs_background": "light"
     },
     "output_type": "display_data"
    }
   ],
   "source": [
    "import matplotlib.pyplot as plt\n",
    "plt.title(\"Histogram of logg values (secondaries) of isochrone\")\n",
    "plt.hist(np.array([x for x in iso1.secondaries['logg'] if np.isfinite(x)]), np.arange(0, 30, 1))\n",
    "plt.xlabel(\"logg in cgs\")"
   ]
  },
  {
   "cell_type": "code",
   "execution_count": 53,
   "metadata": {},
   "outputs": [
    {
     "data": {
      "text/plain": [
       "Text(0.5, 0, 'logg in cgs')"
      ]
     },
     "execution_count": 53,
     "metadata": {},
     "output_type": "execute_result"
    },
    {
     "data": {
      "image/png": "[encoded data removed]",
      "text/plain": [
       "<Figure size 432x288 with 1 Axes>"
      ]
     },
     "metadata": {
      "needs_background": "light"
     },
     "output_type": "display_data"
    }
   ],
   "source": [
    "import matplotlib.pyplot as plt\n",
    "plt.title(\"Histogram of logg values (primaries) of isochrone\")\n",
    "plt.hist(np.array([x for x in iso1.primaries['logg'] if np.isfinite(x)]), np.arange(0, 30, 1))\n",
    "plt.xlabel(\"logg in cgs\")"
   ]
  },
  {
   "cell_type": "code",
   "execution_count": 54,
   "metadata": {},
   "outputs": [
    {
     "data": {
      "text/plain": [
       "Text(0.5, 0, 'logg in cgs')"
      ]
     },
     "execution_count": 54,
     "metadata": {},
     "output_type": "execute_result"
    },
    {
     "data": {
      "image/png": "[encoded data removed]",
      "text/plain": [
       "<Figure size 432x288 with 1 Axes>"
      ]
     },
     "metadata": {
      "needs_background": "light"
     },
     "output_type": "display_data"
    }
   ],
   "source": [
    "import matplotlib.pyplot as plt\n",
    "plt.title(\"Histogram of logg values single stars of isochrone\")\n",
    "plt.hist(np.array([x for x in iso1.singles['logg'] if np.isfinite(x)]), np.arange(0, 30, 1))\n",
    "plt.xlabel(\"logg in cgs\")"
   ]
  },
  {
   "cell_type": "markdown",
   "metadata": {},
   "source": [
    "For comparison, let's create a MIST v.1. isochrone  phot using otherwise same parameters."
   ]
  },
  {
   "cell_type": "code",
   "execution_count": 55,
   "metadata": {},
   "outputs": [
    {
     "name": "stdout",
     "output_type": "stream",
     "text": [
      "Isochrone generation took 24.050683 s.\n",
      "Making photometry for isochrone: log(t) = 8.20  AKs = 0.50  dist = 2000\n",
      "     Starting at:  2020-12-23 21:28:37.315188   Usually takes ~5 minutes\n",
      "Starting filter: ubv,U   Elapsed time: 0.00 seconds\n",
      "Starting synthetic photometry\n",
      "M =   0.111 Msun  T =  2982 K  m_ubv_U = 36.50\n",
      "M =   1.468 Msun  T =  7177 K  m_ubv_U = 22.86\n",
      "M =   4.392 Msun  T =  4603 K  m_ubv_U = 19.88\n",
      "M =   4.423 Msun  T =  3455 K  m_ubv_U = 20.25\n",
      "M =   4.425 Msun  T = 23358 K  m_ubv_U = 14.37\n",
      "M =   4.425 Msun  T = 170211 K  m_ubv_U = 19.99\n",
      "M =   4.426 Msun  T = 157705 K  m_ubv_U = 25.22\n",
      "Starting filter: ubv,B   Elapsed time: 1.86 seconds\n",
      "Starting synthetic photometry\n",
      "M =   0.111 Msun  T =  2982 K  m_ubv_B = 35.72\n",
      "M =   1.468 Msun  T =  7177 K  m_ubv_B = 22.90\n",
      "M =   4.392 Msun  T =  4603 K  m_ubv_B = 18.83\n",
      "M =   4.423 Msun  T =  3455 K  m_ubv_B = 18.85\n",
      "M =   4.425 Msun  T = 23358 K  m_ubv_B = 15.41\n",
      "M =   4.425 Msun  T = 170211 K  m_ubv_B = 21.19\n",
      "M =   4.426 Msun  T = 157705 K  m_ubv_B = 26.41\n",
      "Starting filter: ubv,V   Elapsed time: 3.69 seconds\n",
      "Starting synthetic photometry\n",
      "M =   0.111 Msun  T =  2982 K  m_ubv_V = 33.72\n",
      "M =   1.468 Msun  T =  7177 K  m_ubv_V = 22.00\n",
      "M =   4.392 Msun  T =  4603 K  m_ubv_V = 16.94\n",
      "M =   4.423 Msun  T =  3455 K  m_ubv_V = 16.43\n",
      "M =   4.425 Msun  T = 23358 K  m_ubv_V = 15.11\n",
      "M =   4.425 Msun  T = 170211 K  m_ubv_V = 21.09\n",
      "M =   4.426 Msun  T = 157705 K  m_ubv_V = 26.31\n",
      "Starting filter: ubv,R   Elapsed time: 5.52 seconds\n",
      "Starting synthetic photometry\n",
      "M =   0.111 Msun  T =  2982 K  m_ubv_R = 29.82\n",
      "M =   1.468 Msun  T =  7177 K  m_ubv_R = 20.01\n",
      "M =   4.392 Msun  T =  4603 K  m_ubv_R = 14.56\n",
      "M =   4.423 Msun  T =  3455 K  m_ubv_R = 13.30\n",
      "M =   4.425 Msun  T = 23358 K  m_ubv_R = 13.39\n",
      "M =   4.425 Msun  T = 170211 K  m_ubv_R = 19.47\n",
      "M =   4.426 Msun  T = 157705 K  m_ubv_R = 24.69\n",
      "Starting filter: ubv,I   Elapsed time: 7.32 seconds\n",
      "Starting synthetic photometry\n",
      "M =   0.111 Msun  T =  2982 K  m_ubv_I = 25.07\n",
      "M =   1.468 Msun  T =  7177 K  m_ubv_I = 17.22\n",
      "M =   4.392 Msun  T =  4603 K  m_ubv_I = 11.35\n",
      "M =   4.423 Msun  T =  3455 K  m_ubv_I = 9.11\n",
      "M =   4.425 Msun  T = 23358 K  m_ubv_I = 10.96\n",
      "M =   4.425 Msun  T = 170211 K  m_ubv_I = 17.16\n",
      "M =   4.426 Msun  T = 157705 K  m_ubv_I = 22.38\n",
      "      Time taken: 9.12 seconds\n"
     ]
    }
   ],
   "source": [
    "iso2=synthetic.IsochronePhot(8.2, 0.5, 2000, math.log(1), recomp=True) # New MIST v.1 isochrone for same metallicity"
   ]
  },
  {
   "cell_type": "markdown",
   "metadata": {},
   "source": [
    "Find the maximum logg of the isochrone and the distribution of logg values"
   ]
  },
  {
   "cell_type": "code",
   "execution_count": 56,
   "metadata": {},
   "outputs": [
    {
     "data": {
      "text/plain": [
       "8.038804565028379"
      ]
     },
     "execution_count": 56,
     "metadata": {},
     "output_type": "execute_result"
    }
   ],
   "source": [
    "np.max(iso2.points['logg'])"
   ]
  },
  {
   "cell_type": "code",
   "execution_count": 57,
   "metadata": {
    "scrolled": true
   },
   "outputs": [
    {
     "data": {
      "text/plain": [
       "(array([ 96., 103.,  29.,  55., 179.,  39.,  26.,  71.,   5.,   0.,   0.,\n",
       "          0.,   0.,   0.,   0.,   0.,   0.,   0.,   0.,   0.,   0.,   0.,\n",
       "          0.,   0.,   0.,   0.,   0.,   0.,   0.]),\n",
       " array([ 0,  1,  2,  3,  4,  5,  6,  7,  8,  9, 10, 11, 12, 13, 14, 15, 16,\n",
       "        17, 18, 19, 20, 21, 22, 23, 24, 25, 26, 27, 28, 29]),\n",
       " <a list of 29 Patch objects>)"
      ]
     },
     "execution_count": 57,
     "metadata": {},
     "output_type": "execute_result"
    },
    {
     "data": {
      "image/png": "[encoded data removed]",
      "text/plain": [
       "<Figure size 432x288 with 1 Axes>"
      ]
     },
     "metadata": {
      "needs_background": "light"
     },
     "output_type": "display_data"
    }
   ],
   "source": [
    "import matplotlib.pyplot as plt\n",
    "plt.xlabel(\"logg in cgs\")\n",
    "plt.title(\"Histogram of logg values of stars in the MIST v1 isochrone\")\n",
    "plt.hist(np.array([x for x in iso2.points['logg'] if np.isfinite(x)]), np.arange(0, 30, 1))"
   ]
  },
  {
   "cell_type": "markdown",
   "metadata": {},
   "source": [
    "Finding the log_g median and mean for the new isochrone"
   ]
  },
  {
   "cell_type": "code",
   "execution_count": 58,
   "metadata": {},
   "outputs": [
    {
     "data": {
      "text/plain": [
       "4.190403645585174"
      ]
     },
     "execution_count": 58,
     "metadata": {},
     "output_type": "execute_result"
    }
   ],
   "source": [
    "np.median(iso2.points['logg'])"
   ]
  },
  {
   "cell_type": "code",
   "execution_count": 59,
   "metadata": {},
   "outputs": [
    {
     "data": {
      "text/plain": [
       "3.7100077975325854"
      ]
     },
     "execution_count": 59,
     "metadata": {},
     "output_type": "execute_result"
    }
   ],
   "source": [
    "np.mean(iso2.points['logg'])"
   ]
  },
  {
   "cell_type": "markdown",
   "metadata": {},
   "source": [
    "Now we want to make clusters for both of these models and plot CMD, HR Diagram, and Mass Luminosity relationship for the isochrones. Then, we want to find the Mass luminosity relationship and CMD for the cluster."
   ]
  },
  {
   "cell_type": "code",
   "execution_count": 60,
   "metadata": {},
   "outputs": [],
   "source": [
    "from spisea import imf\n",
    "from spisea.imf import imf, multiplicity\n",
    "from spisea import ifmr\n"
   ]
  },
  {
   "cell_type": "code",
   "execution_count": 61,
   "metadata": {
    "scrolled": true
   },
   "outputs": [
    {
     "name": "stdout",
     "output_type": "stream",
     "text": [
      "1034.1209100000012\n"
     ]
    },
    {
     "name": "stderr",
     "output_type": "stream",
     "text": [
      "/opt/anaconda3/envs/astroconda/lib/python3.7/site-packages/astropy/table/column.py:1020: RuntimeWarning: invalid value encountered in greater_equal\n",
      "  result = getattr(super(), op)(other)\n"
     ]
    },
    {
     "name": "stdout",
     "output_type": "stream",
     "text": [
      "Found 8 companions out of stellar mass range\n"
     ]
    }
   ],
   "source": [
    "clus_1=synthetic.Binary_Cluster(iso1, imf.IMFSalpeter1955(multiplicity=multiplicity.MultiplicityUnresolved()), 2000, ifmr=ifmr.IFMR_Spera15())\n",
    "clus_2=synthetic.ResolvedCluster(iso2, imf.IMFSalpeter1955(multiplicity=multiplicity.MultiplicityUnresolved()), 2000, ifmr=ifmr.IFMR_Spera15())"
   ]
  },
  {
   "cell_type": "code",
   "execution_count": 62,
   "metadata": {},
   "outputs": [
    {
     "data": {
      "text/plain": [
       "<matplotlib.legend.Legend at 0x7f7fb29b8e10>"
      ]
     },
     "execution_count": 62,
     "metadata": {},
     "output_type": "execute_result"
    },
    {
     "data": {
      "image/png": "[encoded data removed]",
      "text/plain": [
       "<Figure size 432x288 with 1 Axes>"
      ]
     },
     "metadata": {
      "needs_background": "light"
     },
     "output_type": "display_data"
    }
   ],
   "source": [
    "# Taking a look at the Binary Cluster vs Default Settings cluster Observer's HR Diagram\n",
    "# Remember to use a distance modulus!\n",
    "import matplotlib.pyplot as plt\n",
    "plt.plot(iso1.primaries['m_ubv_B']-iso1.primaries[\"m_ubv_V\"], iso1.primaries[\"m_ubv_V\"]-5*np.log10(200), \"r.\")\n",
    "plt.plot(iso1.secondaries['m_ubv_B']-iso1.secondaries[\"m_ubv_V\"], iso1.secondaries[\"m_ubv_V\"]-5*np.log10(200), \"r.\")\n",
    "plt.plot(iso1.singles['m_ubv_B']-iso1.singles[\"m_ubv_V\"], iso1.singles[\"m_ubv_V\"]-5*np.log10(200), \"r.\", label=\"BPASS isochrone\")\n",
    "plt.plot(iso2.points['m_ubv_B']-iso2.points[\"m_ubv_V\"], iso2.points[\"m_ubv_V\"]-5*np.log10(200), \"b+\", label=\"MISTv1\", alpha=0.25)\n",
    "plt.xlabel(\"B-V\")\n",
    "plt.ylabel(\"pseudo M_V\")\n",
    "plt.title(\"Color magnitude Diagram of Isochrones at solar metallicity and 10**8.2 years age\")\n",
    "plt.gca().invert_yaxis()\n",
    "plt.legend()"
   ]
  },
  {
   "cell_type": "code",
   "execution_count": 63,
   "metadata": {},
   "outputs": [
    {
     "name": "stderr",
     "output_type": "stream",
     "text": [
      "No handles with labels found to put in legend.\n"
     ]
    },
    {
     "data": {
      "text/plain": [
       "<matplotlib.legend.Legend at 0x7f7fb5012128>"
      ]
     },
     "execution_count": 63,
     "metadata": {},
     "output_type": "execute_result"
    },
    {
     "data": {
      "image/png": "[encoded data removed]",
      "text/plain": [
       "<Figure size 432x288 with 1 Axes>"
      ]
     },
     "metadata": {
      "needs_background": "light"
     },
     "output_type": "display_data"
    }
   ],
   "source": [
    "import matplotlib.pyplot as plt\n",
    "plt.plot(iso1.primaries['m_ubv_B']-iso1.primaries[\"m_ubv_V\"], iso1.primaries[\"m_ubv_V\"]-5*np.log10(100), \"r.\")\n",
    "plt.xlabel(\"B-V\")\n",
    "plt.ylabel(\"pseudo M_V\")\n",
    "plt.title(\"Color magnitude Diagram of Isochrones at solar metallicity and 10**8.2 years age\")\n",
    "plt.gca().invert_yaxis()\n",
    "plt.legend()"
   ]
  },
  {
   "cell_type": "code",
   "execution_count": 64,
   "metadata": {},
   "outputs": [
    {
     "name": "stderr",
     "output_type": "stream",
     "text": [
      "/opt/anaconda3/envs/astroconda/lib/python3.7/site-packages/astropy/table/column.py:1020: RuntimeWarning: invalid value encountered in greater\n",
      "  result = getattr(super(), op)(other)\n"
     ]
    },
    {
     "data": {
      "text/html": [
       "&lt;Column name=&apos;phase&apos; dtype=&apos;float64&apos; length=2&gt;\n",
       "<table>\n",
       "<tr><td>5.0</td></tr>\n",
       "<tr><td>101.0</td></tr>\n",
       "</table>"
      ],
      "text/plain": [
       "<Column name='phase' dtype='float64' length=2>\n",
       "  5.0\n",
       "101.0"
      ]
     },
     "execution_count": 64,
     "metadata": {},
     "output_type": "execute_result"
    }
   ],
   "source": [
    "np.unique(iso1.primaries[np.where(iso1.primaries['m_ubv_V']-np.log10(200)>25.0)]['phase'])"
   ]
  },
  {
   "cell_type": "code",
   "execution_count": 65,
   "metadata": {},
   "outputs": [
    {
     "name": "stderr",
     "output_type": "stream",
     "text": [
      "/opt/anaconda3/envs/astroconda/lib/python3.7/site-packages/astropy/table/column.py:1020: RuntimeWarning: invalid value encountered in less\n",
      "  result = getattr(super(), op)(other)\n"
     ]
    },
    {
     "data": {
      "text/html": [
       "<i>Table length=1638</i>\n",
       "<table id=\"table140185376158160\" class=\"table-striped table-bordered table-condensed\">\n",
       "<thead><tr><th>mass</th><th>L</th><th>Teff</th><th>R</th><th>logg</th><th>isWR</th><th>mass_current</th><th>phase</th><th>source</th><th>m_ubv_U</th><th>m_ubv_V</th><th>m_ubv_B</th><th>m_ubv_R</th><th>m_ubv_I</th></tr></thead>\n",
       "<thead><tr><th>solMass</th><th>W</th><th>K</th><th>m</th><th></th><th></th><th>solMass</th><th></th><th></th><th></th><th></th><th></th><th></th><th></th></tr></thead>\n",
       "<thead><tr><th>float64</th><th>float64</th><th>float64</th><th>float64</th><th>float64</th><th>bool</th><th>float64</th><th>float64</th><th>int64</th><th>float64</th><th>float64</th><th>float64</th><th>float64</th><th>float64</th></tr></thead>\n",
       "<tr><td>4.0</td><td>1.6512085513837888e+29</td><td>11804.837142385752</td><td>3454380426.983821</td><td>3.6465954007915196</td><td>False</td><td>3.99823</td><td>5.0</td><td>1</td><td>17.89642176718931</td><td>17.817363154256427</td><td>18.21085641153647</td><td>16.063322980911884</td><td>13.498484569756611</td></tr>\n",
       "<tr><td>4.5</td><td>7.236722660866479e+28</td><td>39096.690832098415</td><td>208487568.4241099</td><td>5.398469934003078</td><td>True</td><td>0.82255</td><td>5.0</td><td>1</td><td>20.77883179466383</td><td>21.703606123206253</td><td>21.862104579194536</td><td>20.058228162134633</td><td>17.725295482647322</td></tr>\n",
       "<tr><td>3.2</td><td>2.6736954014653107e+29</td><td>11518.077596077594</td><td>4617268863.215177</td><td>3.435183029503001</td><td>False</td><td>4.39011</td><td>5.0</td><td>1</td><td>17.33760937657738</td><td>17.236914408551122</td><td>17.633247065596603</td><td>15.478827577016686</td><td>12.904319860474322</td></tr>\n",
       "<tr><td>3.5</td><td>7.471743064187931e+28</td><td>12112.394295485958</td><td>2207192258.4573445</td><td>3.9777810712007264</td><td>False</td><td>3.49956</td><td>5.0</td><td>1</td><td>18.806343248248368</td><td>18.740224298315084</td><td>19.133513926343877</td><td>16.9909897353106</td><td>14.436635191770959</td></tr>\n",
       "<tr><td>4.5</td><td>3.8848291972676705e+29</td><td>4524.493826799286</td><td>36069088234.0388</td><td>1.657984548899564</td><td>False</td><td>4.47504</td><td>5.0</td><td>1</td><td>19.729621336207536</td><td>16.6392756231814</td><td>18.584950527366352</td><td>14.24229880840067</td><td>11.011947527643558</td></tr>\n",
       "<tr><td>3.2</td><td>1.1132736479542177e+29</td><td>12176.711036800833</td><td>2665815963.117689</td><td>3.84427495422534</td><td>False</td><td>3.75394</td><td>5.0</td><td>1</td><td>18.365603451899325</td><td>18.318833830075903</td><td>18.708151898577484</td><td>16.569205543574338</td><td>14.015605983653526</td></tr>\n",
       "<tr><td>2.7</td><td>9.110284281408612e+28</td><td>12725.650748860555</td><td>2207980147.486766</td><td>4.002638975008916</td><td>False</td><td>3.70827</td><td>5.0</td><td>1</td><td>18.63634913426377</td><td>18.64274701395864</td><td>19.023709732898915</td><td>16.898499385925234</td><td>14.359134130643733</td></tr>\n",
       "<tr><td>3.7</td><td>8.38800014121492e+25</td><td>42300.06161730419</td><td>6063681.956340052</td><td>8.531181527090537</td><td>False</td><td>0.94133</td><td>5.0</td><td>1</td><td>28.341138433535104</td><td>29.286216081472176</td><td>29.434197685877955</td><td>27.639694017235122</td><td>25.309252259343594</td></tr>\n",
       "<tr><td>3.0</td><td>3.5811451914808433e+28</td><td>11265.487758837571</td><td>1766445180.6979284</td><td>4.104378748366658</td><td>False</td><td>2.99993</td><td>5.0</td><td>1</td><td>19.569225630235497</td><td>19.372670079215236</td><td>19.79190686456486</td><td>17.61619537251519</td><td>15.039654531305757</td></tr>\n",
       "<tr><td>...</td><td>...</td><td>...</td><td>...</td><td>...</td><td>...</td><td>...</td><td>...</td><td>...</td><td>...</td><td>...</td><td>...</td><td>...</td><td>...</td></tr>\n",
       "<tr><td>4.5</td><td>3.8848291972676705e+29</td><td>4524.493826799286</td><td>36069088234.0388</td><td>1.657984548899564</td><td>False</td><td>4.47504</td><td>5.0</td><td>1</td><td>19.729621336207536</td><td>16.6392756231814</td><td>18.584950527366352</td><td>14.24229880840067</td><td>11.011947527643558</td></tr>\n",
       "<tr><td>3.7</td><td>2.9193887432030803e+29</td><td>11328.43716196086</td><td>4987640746.21628</td><td>3.3641618761196788</td><td>False</td><td>4.35005</td><td>5.0</td><td>1</td><td>17.225284965227466</td><td>17.103889047446476</td><td>17.503996020637338</td><td>15.3434491986502</td><td>12.762775235690777</td></tr>\n",
       "<tr><td>6.5</td><td>2.32562147504934e+26</td><td>47226.63475457761</td><td>8099994.317872087</td><td>8.143559314483852</td><td>True</td><td>0.68804</td><td>5.0</td><td>1</td><td>27.559916023477598</td><td>28.528244968588243</td><td>28.665442701606665</td><td>26.88360276199416</td><td>24.55785458108195</td></tr>\n",
       "<tr><td>2.5</td><td>1.6113575900964336e+28</td><td>10121.153231315011</td><td>1467996987.039636</td><td>4.185947635975171</td><td>False</td><td>2.5</td><td>5.0</td><td>1</td><td>20.400205810572945</td><td>20.00383618018458</td><td>20.477949398003386</td><td>18.229735595124726</td><td>15.618339533279434</td></tr>\n",
       "<tr><td>2.5</td><td>1.6113575900964336e+28</td><td>10121.153231315011</td><td>1467996987.039636</td><td>4.185947635975171</td><td>False</td><td>2.5</td><td>5.0</td><td>1</td><td>20.400205810572945</td><td>20.00383618018458</td><td>20.477949398003386</td><td>18.229735595124726</td><td>15.618339533279434</td></tr>\n",
       "<tr><td>3.5</td><td>7.778071464514676e+28</td><td>11960.518303234461</td><td>2309538276.070861</td><td>3.938414866169459</td><td>False</td><td>3.49951</td><td>5.0</td><td>1</td><td>18.74973738755862</td><td>18.666880452242548</td><td>19.062848015915932</td><td>16.916114624754172</td><td>14.357518347490632</td></tr>\n",
       "<tr><td>3.7</td><td>8.38800014121492e+25</td><td>42300.06161730419</td><td>6063681.956340052</td><td>8.531181527090537</td><td>False</td><td>0.94133</td><td>5.0</td><td>1</td><td>28.341138433535104</td><td>29.286216081472176</td><td>29.434197685877955</td><td>27.639694017235122</td><td>25.309252259343594</td></tr>\n",
       "<tr><td>2.5</td><td>1.6113575900964336e+28</td><td>10121.153231315011</td><td>1467996987.039636</td><td>4.185947635975171</td><td>False</td><td>2.5</td><td>5.0</td><td>1</td><td>20.400205810572945</td><td>20.00383618018458</td><td>20.477949398003386</td><td>18.229735595124726</td><td>15.618339533279434</td></tr>\n",
       "<tr><td>2.1</td><td>1.2257500767312625e+29</td><td>11991.67915028709</td><td>2884231822.476198</td><td>3.781065488896866</td><td>False</td><td>3.7989</td><td>5.0</td><td>1</td><td>18.243595983292536</td><td>18.178104697775535</td><td>18.570265408058372</td><td>16.42651296297534</td><td>13.867649905584143</td></tr>\n",
       "<tr><td>6.5</td><td>4.507371134384996e+26</td><td>55186.39180947247</td><td>8258227.812815612</td><td>8.115076286515881</td><td>True</td><td>0.66979</td><td>5.0</td><td>1</td><td>27.44074875784063</td><td>28.419683769265447</td><td>28.552968983094196</td><td>26.776678927128774</td><td>24.453168310240727</td></tr>\n",
       "</table>"
      ],
      "text/plain": [
       "<Table length=1638>\n",
       "  mass            L            ...      m_ubv_R            m_ubv_I      \n",
       "solMass           W            ...                                      \n",
       "float64        float64         ...      float64            float64      \n",
       "------- ---------------------- ... ------------------ ------------------\n",
       "    4.0 1.6512085513837888e+29 ... 16.063322980911884 13.498484569756611\n",
       "    4.5  7.236722660866479e+28 ... 20.058228162134633 17.725295482647322\n",
       "    3.2 2.6736954014653107e+29 ... 15.478827577016686 12.904319860474322\n",
       "    3.5  7.471743064187931e+28 ...   16.9909897353106 14.436635191770959\n",
       "    4.5 3.8848291972676705e+29 ...  14.24229880840067 11.011947527643558\n",
       "    3.2 1.1132736479542177e+29 ... 16.569205543574338 14.015605983653526\n",
       "    2.7  9.110284281408612e+28 ... 16.898499385925234 14.359134130643733\n",
       "    3.7   8.38800014121492e+25 ... 27.639694017235122 25.309252259343594\n",
       "    3.0 3.5811451914808433e+28 ...  17.61619537251519 15.039654531305757\n",
       "    ...                    ... ...                ...                ...\n",
       "    4.5 3.8848291972676705e+29 ...  14.24229880840067 11.011947527643558\n",
       "    3.7 2.9193887432030803e+29 ...   15.3434491986502 12.762775235690777\n",
       "    6.5   2.32562147504934e+26 ...  26.88360276199416  24.55785458108195\n",
       "    2.5 1.6113575900964336e+28 ... 18.229735595124726 15.618339533279434\n",
       "    2.5 1.6113575900964336e+28 ... 18.229735595124726 15.618339533279434\n",
       "    3.5  7.778071464514676e+28 ... 16.916114624754172 14.357518347490632\n",
       "    3.7   8.38800014121492e+25 ... 27.639694017235122 25.309252259343594\n",
       "    2.5 1.6113575900964336e+28 ... 18.229735595124726 15.618339533279434\n",
       "    2.1 1.2257500767312625e+29 ...  16.42651296297534 13.867649905584143\n",
       "    6.5  4.507371134384996e+26 ... 26.776678927128774 24.453168310240727"
      ]
     },
     "execution_count": 65,
     "metadata": {},
     "output_type": "execute_result"
    }
   ],
   "source": [
    "iso1.primaries[np.where((iso1.primaries['m_ubv_V']-10< 25.0) & (iso1.primaries['phase']== 5))]"
   ]
  },
  {
   "cell_type": "code",
   "execution_count": 66,
   "metadata": {},
   "outputs": [
    {
     "data": {
      "text/plain": [
       "6.044909972873647"
      ]
     },
     "execution_count": 66,
     "metadata": {},
     "output_type": "execute_result"
    }
   ],
   "source": [
    "np.min(([x-10 for x in iso1.secondaries[\"m_ubv_V\"] if np.isfinite(x)]))"
   ]
  },
  {
   "cell_type": "code",
   "execution_count": 67,
   "metadata": {},
   "outputs": [
    {
     "data": {
      "text/plain": [
       "<matplotlib.legend.Legend at 0x7f7fb4d1ca20>"
      ]
     },
     "execution_count": 67,
     "metadata": {},
     "output_type": "execute_result"
    },
    {
     "data": {
      "image/png": "[encoded data removed]",
      "text/plain": [
       "<Figure size 432x288 with 1 Axes>"
      ]
     },
     "metadata": {
      "needs_background": "light"
     },
     "output_type": "display_data"
    }
   ],
   "source": [
    "import matplotlib.pyplot as plt\n",
    "plt.plot(np.log10(iso1.primaries['Teff']), np.log10(iso1.primaries[\"L\"]), \"r.\")\n",
    "plt.plot(np.log10(iso1.secondaries['Teff']), np.log10(iso1.secondaries[\"L\"]), \"r.\")\n",
    "plt.plot(np.log10(iso1.singles['Teff']), np.log10(iso1.singles[\"L\"]), \"r.\", label=\"BPASS isochrone\")\n",
    "plt.plot(np.log10(iso2.points['Teff']), np.log10(iso2.points[\"L\"]), \"b+\", label=\"MISTv1\", alpha=0.25)\n",
    "plt.xlabel(\"log10(T in kelvin)\")\n",
    "plt.ylabel(\"log10(L in watts)\")\n",
    "plt.title(\"HR Diagram of Isochrones at solar metallicity and 10**8.2 years age\")\n",
    "plt.gca().invert_xaxis()\n",
    "plt.legend()\n",
    "# Rough pattern seems to fit. What's that line?"
   ]
  },
  {
   "cell_type": "code",
   "execution_count": 68,
   "metadata": {},
   "outputs": [
    {
     "data": {
      "text/plain": [
       "<matplotlib.legend.Legend at 0x7f7f8314b780>"
      ]
     },
     "execution_count": 68,
     "metadata": {},
     "output_type": "execute_result"
    },
    {
     "data": {
      "image/png": "[encoded data removed]",
      "text/plain": [
       "<Figure size 432x288 with 1 Axes>"
      ]
     },
     "metadata": {
      "needs_background": "light"
     },
     "output_type": "display_data"
    }
   ],
   "source": [
    "# Plot the mass-luminosity relationship\n",
    "from astropy import constants as cs\n",
    "import matplotlib.pyplot as plt\n",
    "plt.plot(np.log10(iso1.primaries['mass_current']), np.log10(iso1.primaries[\"L\"]/cs.L_sun), \"r.\")\n",
    "plt.plot(np.log10(iso1.secondaries['mass_current']), np.log10(iso1.secondaries[\"L\"]/cs.L_sun), \"r.\")\n",
    "plt.plot(np.log10(iso1.singles['mass_current']), np.log10(iso1.singles[\"L\"]/cs.L_sun), \"r.\", label=\"BPASS isochrone\")\n",
    "plt.plot(np.log10(iso2.points['mass_current']), np.log10(iso2.points[\"L\"]/cs.L_sun), \"b+\", label=\"MISTv1\", alpha=0.25)\n",
    "plt.xlabel(\"log10(Current Mass in solar masses)\")\n",
    "plt.ylabel(\"log10(L/L_solar)\")\n",
    "plt.title(\"log Mass-logL of Isochrones at solar metallicity and 10**8.2 years age\")\n",
    "plt.legend()\n",
    "# Rough pattern seems to fit. What's that line?"
   ]
  },
  {
   "cell_type": "markdown",
   "metadata": {},
   "source": [
    "Looking at the horizontal line. It probably may be in the primaries that came from the newsecmods and are compact remnants (hence the low luminosity)."
   ]
  },
  {
   "cell_type": "code",
   "execution_count": 69,
   "metadata": {},
   "outputs": [
    {
     "name": "stderr",
     "output_type": "stream",
     "text": [
      "/opt/anaconda3/envs/astroconda/lib/python3.7/site-packages/astropy/units/quantity.py:477: RuntimeWarning: invalid value encountered in greater\n",
      "  result = super().__array_ufunc__(function, method, *arrays, **kwargs)\n",
      "/opt/anaconda3/envs/astroconda/lib/python3.7/site-packages/astropy/units/quantity.py:477: RuntimeWarning: invalid value encountered in less\n",
      "  result = super().__array_ufunc__(function, method, *arrays, **kwargs)\n"
     ]
    }
   ],
   "source": [
    "the_line = iso1.primaries[np.where((np.log10(iso1.primaries[\"L\"]/cs.L_sun)>-3.3) & ((np.log10(iso1.primaries[\"L\"]/cs.L_sun) < -2.9)))[0]]"
   ]
  },
  {
   "cell_type": "code",
   "execution_count": 70,
   "metadata": {},
   "outputs": [
    {
     "data": {
      "text/plain": [
       "<matplotlib.legend.Legend at 0x7f7fb2cbb860>"
      ]
     },
     "execution_count": 70,
     "metadata": {},
     "output_type": "execute_result"
    },
    {
     "data": {
      "image/png": "[encoded data removed]",
      "text/plain": [
       "<Figure size 432x288 with 1 Axes>"
      ]
     },
     "metadata": {
      "needs_background": "light"
     },
     "output_type": "display_data"
    }
   ],
   "source": [
    "plt.plot(np.log10(the_line['mass_current']), np.log10(the_line[\"L\"]/cs.L_sun), \"r.\", label=\"Subset of BPASS isochrone Primaries\")\n",
    "plt.xlabel(\"log10(Current Mass in solar masses)\")\n",
    "plt.ylabel(\"log10(L/L_solar)\")\n",
    "plt.title(\"Current-Mass-Luminosity Diagram of Isochrones at solar metallicity and 10**8.2 years age (Zooming into horizontal line section)\")\n",
    "plt.legend()"
   ]
  },
  {
   "cell_type": "code",
   "execution_count": 71,
   "metadata": {},
   "outputs": [
    {
     "data": {
      "text/html": [
       "&lt;Column name=&apos;phase&apos; dtype=&apos;float64&apos; length=0&gt;\n",
       "<table>\n",
       "</table>"
      ],
      "text/plain": [
       "<Column name='phase' dtype='float64' length=0>"
      ]
     },
     "execution_count": 71,
     "metadata": {},
     "output_type": "execute_result"
    }
   ],
   "source": [
    "np.unique(the_line['phase'])"
   ]
  },
  {
   "cell_type": "markdown",
   "metadata": {},
   "source": [
    "OK, so it is the case that the stars are all compact remnants coming from the NEWSECMODS. In that case no worries."
   ]
  },
  {
   "cell_type": "code",
   "execution_count": 72,
   "metadata": {},
   "outputs": [
    {
     "data": {
      "text/plain": [
       "<matplotlib.legend.Legend at 0x7f7f81e14d68>"
      ]
     },
     "execution_count": 72,
     "metadata": {},
     "output_type": "execute_result"
    },
    {
     "data": {
      "image/png": "[encoded data removed]",
      "text/plain": [
       "<Figure size 432x288 with 1 Axes>"
      ]
     },
     "metadata": {
      "needs_background": "light"
     },
     "output_type": "display_data"
    }
   ],
   "source": [
    "# Plot the mass-luminosity relationship\n",
    "from astropy import constants as cs\n",
    "from astropy import units as u\n",
    "import matplotlib.pyplot as plt\n",
    "plt.plot(np.log10(clus_1.star_systems['mass_current']), np.log10(clus_1.star_systems[\"L\"]/cs.L_sun), \"r.\", label=\"Binary_Cluster made from BPASS\", alpha =1)\n",
    "plt.plot(np.log10(clus_2.star_systems['mass_current']), np.log10(clus_2.star_systems[\"L\"]/(cs.L_sun*1/u.W)), \"b+\", label=\"Cluster made from MISTv.1\", alpha=0.1)\n",
    "plt.xlabel(\"log10(Current Mass in solar masses)\")\n",
    "plt.ylabel(\"log10(L/L_solar)\")\n",
    "plt.title(\"log-Mass-logL of Cluster at solar metallicity and 10**8.2 years age\")\n",
    "plt.legend()\n",
    "# Rough pattern seems to fit. What's that line?"
   ]
  },
  {
   "cell_type": "markdown",
   "metadata": {},
   "source": [
    "Examining the phases of primary stars that have luminosities of less than L_sun * 1/sqrt(2)"
   ]
  },
  {
   "cell_type": "code",
   "execution_count": 73,
   "metadata": {},
   "outputs": [
    {
     "data": {
      "text/html": [
       "&lt;Column name=&apos;phase&apos; dtype=&apos;float64&apos; length=2&gt;\n",
       "<table>\n",
       "<tr><td>5.0</td></tr>\n",
       "<tr><td>101.0</td></tr>\n",
       "</table>"
      ],
      "text/plain": [
       "<Column name='phase' dtype='float64' length=2>\n",
       "  5.0\n",
       "101.0"
      ]
     },
     "execution_count": 73,
     "metadata": {},
     "output_type": "execute_result"
    }
   ],
   "source": [
    "np.unique(clus_1.star_systems[np.where(np.log10(clus_1.star_systems['L']/cs.L_sun)<-0.5)]['phase'])"
   ]
  },
  {
   "cell_type": "code",
   "execution_count": 74,
   "metadata": {},
   "outputs": [
    {
     "data": {
      "text/html": [
       "<i>Table length=0</i>\n",
       "<table id=\"table140186458891432\" class=\"table-striped table-bordered table-condensed\">\n",
       "<thead><tr><th>mass</th><th>systemMass</th><th>Teff</th><th>L</th><th>logg</th><th>isWR</th><th>mass_current</th><th>phase</th><th>metallicity</th><th>isMultiple</th><th>merged</th><th>m_ubv_U</th><th>m_ubv_V</th><th>m_ubv_B</th><th>m_ubv_R</th><th>m_ubv_I</th></tr></thead>\n",
       "<thead><tr><th>solMass</th><th></th><th>K</th><th>W</th><th></th><th></th><th>solMass</th><th></th><th></th><th></th><th></th><th></th><th></th><th></th><th></th><th></th></tr></thead>\n",
       "<thead><tr><th>float64</th><th>float64</th><th>float64</th><th>float64</th><th>float64</th><th>bool</th><th>float64</th><th>float64</th><th>float64</th><th>bool</th><th>bool</th><th>float64</th><th>float64</th><th>float64</th><th>float64</th><th>float64</th></tr></thead>\n",
       "</table>"
      ],
      "text/plain": [
       "<Table length=0>\n",
       "  mass  systemMass   Teff     L      logg  ... m_ubv_V m_ubv_B m_ubv_R m_ubv_I\n",
       "solMass               K       W            ...                                \n",
       "float64  float64   float64 float64 float64 ... float64 float64 float64 float64\n",
       "------- ---------- ------- ------- ------- ... ------- ------- ------- -------"
      ]
     },
     "execution_count": 74,
     "metadata": {},
     "output_type": "execute_result"
    }
   ],
   "source": [
    "clus_1.star_systems[np.where(clus_1.star_systems['phase']==0)]"
   ]
  },
  {
   "cell_type": "code",
   "execution_count": 75,
   "metadata": {},
   "outputs": [
    {
     "data": {
      "text/html": [
       "<i>Table length=0</i>\n",
       "<table id=\"table140186459095336\" class=\"table-striped table-bordered table-condensed\">\n",
       "<thead><tr><th>mass</th><th>systemMass</th><th>Teff</th><th>L</th><th>logg</th><th>isWR</th><th>mass_current</th><th>phase</th><th>metallicity</th><th>isMultiple</th><th>merged</th><th>m_ubv_U</th><th>m_ubv_V</th><th>m_ubv_B</th><th>m_ubv_R</th><th>m_ubv_I</th></tr></thead>\n",
       "<thead><tr><th>solMass</th><th></th><th>K</th><th>W</th><th></th><th></th><th>solMass</th><th></th><th></th><th></th><th></th><th></th><th></th><th></th><th></th><th></th></tr></thead>\n",
       "<thead><tr><th>float64</th><th>float64</th><th>float64</th><th>float64</th><th>float64</th><th>bool</th><th>float64</th><th>float64</th><th>float64</th><th>bool</th><th>bool</th><th>float64</th><th>float64</th><th>float64</th><th>float64</th><th>float64</th></tr></thead>\n",
       "</table>"
      ],
      "text/plain": [
       "<Table length=0>\n",
       "  mass  systemMass   Teff     L      logg  ... m_ubv_V m_ubv_B m_ubv_R m_ubv_I\n",
       "solMass               K       W            ...                                \n",
       "float64  float64   float64 float64 float64 ... float64 float64 float64 float64\n",
       "------- ---------- ------- ------- ------- ... ------- ------- ------- -------"
      ]
     },
     "execution_count": 75,
     "metadata": {},
     "output_type": "execute_result"
    }
   ],
   "source": [
    "clus_1.star_systems[np.where(clus_1.star_systems['phase']==0)]"
   ]
  },
  {
   "cell_type": "code",
   "execution_count": 76,
   "metadata": {},
   "outputs": [
    {
     "data": {
      "text/plain": [
       "<matplotlib.legend.Legend at 0x7f7f816edac8>"
      ]
     },
     "execution_count": 76,
     "metadata": {},
     "output_type": "execute_result"
    },
    {
     "data": {
      "image/png": "[encoded data removed]",
      "text/plain": [
       "<Figure size 432x288 with 1 Axes>"
      ]
     },
     "metadata": {
      "needs_background": "light"
     },
     "output_type": "display_data"
    }
   ],
   "source": [
    "# Taking a look at the Binary Cluster vs Default Settings cluster Observer's HR Diagram\n",
    "# Remember to use a distance modulus!\n",
    "import matplotlib.pyplot as plt\n",
    "plt.plot(clus_1.star_systems['m_ubv_B']-clus_1.star_systems[\"m_ubv_V\"], clus_1.star_systems[\"m_ubv_V\"]-5*np.log10(200), \"r.\",label=\"BPASS\")\n",
    "plt.plot(clus_2.star_systems['m_ubv_B']-clus_2.star_systems[\"m_ubv_V\"], clus_2.star_systems[\"m_ubv_V\"]-5*np.log10(200), \"b+\", label=\"MISTv1\", alpha=0.2)\n",
    "plt.xlabel(\"B-V\")\n",
    "plt.ylabel(\"pseudo M_V\")\n",
    "plt.title(\"Color magnitude Diagram of clusters at solar metallicity and 10**8.2 years age\")\n",
    "plt.gca().invert_yaxis()\n",
    "plt.legend()"
   ]
  },
  {
   "cell_type": "markdown",
   "metadata": {},
   "source": [
    "One thing to note about the Binary_Cluster is that it does include the units as information for columns.\n",
    "The usual ResolvedCluster does not. Thus the latter has a disadvantage when we do comparisons with solar luminosity.\n",
    "\n",
    "In any case let's compare the actual masses of the cluster"
   ]
  },
  {
   "cell_type": "code",
   "execution_count": 77,
   "metadata": {},
   "outputs": [
    {
     "data": {
      "text/plain": [
       "1616.0662006496425"
      ]
     },
     "execution_count": 77,
     "metadata": {},
     "output_type": "execute_result"
    }
   ],
   "source": [
    "np.sum(clus_1.star_systems['systemMass'])"
   ]
  },
  {
   "cell_type": "code",
   "execution_count": 78,
   "metadata": {},
   "outputs": [
    {
     "data": {
      "text/plain": [
       "2000.6179802295246"
      ]
     },
     "execution_count": 78,
     "metadata": {},
     "output_type": "execute_result"
    }
   ],
   "source": [
    "np.sum(clus_2.star_systems['systemMass'])"
   ]
  }
 ],
 "metadata": {
  "kernelspec": {
   "display_name": "astroconda",
   "language": "python",
   "name": "astroconda"
  },
  "language_info": {
   "codemirror_mode": {
    "name": "ipython",
    "version": 3
   },
   "file_extension": ".py",
   "mimetype": "text/x-python",
   "name": "python",
   "nbconvert_exporter": "python",
   "pygments_lexer": "ipython3",
   "version": "3.7.3"
  }
 },
 "nbformat": 4,
 "nbformat_minor": 2
}
