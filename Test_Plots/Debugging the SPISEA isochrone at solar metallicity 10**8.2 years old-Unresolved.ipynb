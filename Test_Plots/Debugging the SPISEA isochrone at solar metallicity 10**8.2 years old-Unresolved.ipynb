{
 "cells": [
  {
   "cell_type": "markdown",
   "metadata": {},
   "source": [
    "## Testing the BPASS isochrone at 10^8.2 years age. (Unresolved Multiplicity (Lu et al. 2013))\n",
    "In this BPASS isochrone and cluster plot, I go over the BPASS isochrone for 1 billion years age, solar metallicity, AKs=0.0, and distance of 2000 parsecs from Earth. From the isochrone and cluster, we discuss several plots such as the log_g frequency distribution of the isochrone, the color magnitude diagram (B-V vs M_V), and the mass luminosity relationshi of the cluster. \n"
   ]
  },
  {
   "cell_type": "code",
   "execution_count": 1,
   "metadata": {},
   "outputs": [
    {
     "name": "stderr",
     "output_type": "stream",
     "text": [
      "/opt/anaconda3/envs/astroconda/lib/python3.7/site-packages/pysynphot/locations.py:345: UserWarning: Extinction files not found in /g/lu/models/cdbs/extinction\n",
      "  warnings.warn('Extinction files not found in %s' % (extdir, ))\n",
      "/opt/anaconda3/envs/astroconda/lib/python3.7/site-packages/pysynphot/refs.py:125: UserWarning: No thermal tables found, no thermal calculations can be performed. No files found for /g/lu/models/cdbs/mtab/*_tmt.fits\n",
      "  'no thermal calculations can be performed. ' + str(e))\n",
      "/opt/anaconda3/envs/astroconda/lib/python3.7/site-packages/astropy/units/quantity.py:479: RuntimeWarning: invalid value encountered in true_divide\n",
      "  result = super().__array_ufunc__(function, method, *arrays, **kwargs)\n",
      "/u/ryotainagaki/Desktop/PyPopStar/spisea/evolution.py:1792: RuntimeWarning: overflow encountered in power\n",
      "  (1 / cs.au) * un.m)\n",
      "/opt/anaconda3/envs/astroconda/lib/python3.7/site-packages/astropy/units/quantity.py:479: RuntimeWarning: divide by zero encountered in true_divide\n",
      "  result = super().__array_ufunc__(function, method, *arrays, **kwargs)\n",
      "/opt/anaconda3/envs/astroconda/lib/python3.7/site-packages/astropy/units/quantity.py:479: RuntimeWarning: invalid value encountered in true_divide\n",
      "  result = super().__array_ufunc__(function, method, *arrays, **kwargs)\n"
     ]
    },
    {
     "name": "stdout",
     "output_type": "stream",
     "text": [
      "Changing to T= 50000 for T= 52330 logg=8.47\n",
      "Changing to logg=5.00 for T= 52330 logg=8.47\n",
      "Changing to logg=5.00 for T= 44758 logg=8.49\n",
      "Changing to logg=5.00 for T= 36146 logg=8.54\n",
      "Changing to logg=5.00 for T= 38774 logg=8.52\n",
      "Changing to logg=5.00 for T= 38361 logg=8.50\n",
      "Changing to T= 50000 for T= 73161 logg=8.45\n",
      "Changing to logg=5.00 for T= 73161 logg=8.45\n",
      "Changing to logg=5.00 for T= 37966 logg=5.70\n",
      "Changing to logg=5.00 for T= 39842 logg=5.51\n",
      "Changing to logg=5.00 for T= 32888 logg=5.68\n",
      "Changing to logg=5.00 for T= 45669 logg=8.52\n",
      "Changing to logg=5.00 for T= 35701 logg=8.52\n",
      "Changing to logg=5.00 for T= 37547 logg=5.70\n",
      "Changing to logg=5.00 for T= 45668 logg=8.52\n",
      "Changing to logg=5.00 for T= 38750 logg=8.52\n",
      "Changing to logg=5.00 for T= 38750 logg=8.52\n",
      "Changing to logg=5.00 for T= 42302 logg=8.53\n",
      "Changing to logg=5.00 for T= 38974 logg=5.38\n",
      "Changing to logg=5.00 for T= 38750 logg=8.52\n",
      "Changing to logg=5.00 for T= 38750 logg=8.52\n",
      "Changing to logg=5.00 for T= 38750 logg=8.52\n",
      "Changing to logg=5.00 for T= 35701 logg=8.52\n",
      "Changing to logg=5.00 for T= 39110 logg=5.45\n",
      "Changing to logg=5.00 for T= 38030 logg=5.34\n",
      "Changing to logg=5.00 for T= 35710 logg=8.52\n",
      "Changing to logg=5.00 for T= 39081 logg=5.47\n",
      "Changing to logg=5.00 for T= 38750 logg=8.52\n",
      "Changing to logg=5.00 for T= 38681 logg=5.49\n",
      "Changing to logg=5.00 for T= 39333 logg=5.52\n",
      "Changing to logg=5.00 for T= 37796 logg=5.52\n",
      "Changing to logg=5.00 for T= 39001 logg=5.46\n",
      "Changing to logg=5.00 for T= 38750 logg=8.52\n",
      "Changing to logg=5.00 for T= 39098 logg=5.41\n",
      "Changing to logg=5.00 for T= 39018 logg=5.53\n",
      "Changing to logg=5.00 for T= 45668 logg=8.52\n",
      "Changing to logg=5.00 for T= 34722 logg=5.55\n",
      "Changing to logg=5.00 for T= 38750 logg=8.52\n",
      "Changing to logg=5.00 for T= 38750 logg=8.52\n",
      "Changing to logg=5.00 for T= 37968 logg=5.42\n",
      "Changing to logg=5.00 for T= 39042 logg=5.41\n",
      "Changing to logg=5.00 for T= 39090 logg=5.47\n",
      "Changing to logg=5.00 for T= 47516 logg=9.02\n",
      "Changing to logg=5.00 for T= 38778 logg=5.38\n",
      "Changing to logg=5.00 for T= 43455 logg=8.58\n",
      "Changing to logg=5.00 for T= 38810 logg=5.36\n",
      "Changing to logg=5.00 for T= 38750 logg=8.52\n",
      "Changing to logg=5.00 for T= 32931 logg=5.73\n",
      "Changing to logg=5.00 for T= 38750 logg=8.52\n",
      "Changing to logg=5.00 for T= 38750 logg=8.52\n",
      "Changing to logg=5.00 for T= 38008 logg=5.41\n",
      "Changing to logg=5.00 for T= 42300 logg=8.53\n",
      "Changing to logg=5.00 for T= 38543 logg=5.67\n",
      "Changing to logg=5.00 for T= 35665 logg=8.52\n",
      "Changing to logg=5.00 for T= 38216 logg=5.28\n",
      "Changing to logg=5.00 for T= 35040 logg=8.49\n",
      "Changing to logg=5.00 for T= 38912 logg=5.40\n",
      "Changing to logg=5.00 for T= 42300 logg=8.53\n",
      "Changing to logg=5.00 for T= 42302 logg=8.53\n",
      "Changing to logg=5.00 for T= 38750 logg=8.52\n",
      "Changing to logg=5.00 for T= 35759 logg=5.48\n",
      "Changing to logg=5.00 for T= 35776 logg=8.52\n",
      "Changing to logg=5.00 for T= 38750 logg=8.52\n",
      "Changing to logg=5.00 for T= 43455 logg=8.58\n",
      "Changing to logg=5.00 for T= 37645 logg=8.47\n",
      "Changing to logg=5.00 for T= 37474 logg=5.67\n",
      "Changing to logg=5.00 for T= 38750 logg=8.52\n",
      "Changing to logg=5.00 for T= 42302 logg=8.53\n",
      "Changing to logg=5.00 for T= 38938 logg=5.41\n",
      "Changing to logg=5.00 for T= 42302 logg=8.53\n",
      "Changing to logg=5.00 for T= 38864 logg=5.34\n",
      "Changing to logg=5.00 for T= 38164 logg=5.31\n",
      "Changing to logg=5.00 for T= 38750 logg=8.52\n",
      "Changing to logg=5.00 for T= 39126 logg=5.42\n",
      "Changing to logg=5.00 for T= 38750 logg=8.52\n",
      "Changing to logg=5.00 for T= 45739 logg=8.21\n",
      "Changing to logg=5.00 for T= 42302 logg=8.53\n",
      "Changing to logg=5.00 for T= 35706 logg=8.52\n",
      "Changing to logg=5.00 for T= 38268 logg=5.57\n",
      "Changing to logg=5.00 for T= 38750 logg=8.52\n",
      "Changing to logg=5.00 for T= 42300 logg=8.53\n",
      "Changing to logg=5.00 for T= 35714 logg=8.52\n",
      "Changing to logg=5.00 for T= 38750 logg=8.52\n",
      "Changing to logg=5.00 for T= 35715 logg=8.52\n",
      "Changing to logg=4.50 for T= 39634 logg=4.15\n",
      "Changing to logg=5.00 for T= 40536 logg=5.52\n",
      "Changing to logg=5.00 for T= 34113 logg=5.11\n",
      "Changing to logg=5.00 for T= 38750 logg=8.52\n",
      "Changing to logg=5.00 for T= 40751 logg=8.18\n",
      "Changing to logg=5.00 for T= 42300 logg=8.53\n",
      "Changing to logg=5.00 for T= 43455 logg=8.58\n",
      "Changing to logg=5.00 for T= 38868 logg=5.45\n",
      "Changing to logg=5.00 for T= 35519 logg=8.51\n",
      "Changing to logg=5.00 for T= 39136 logg=5.47\n",
      "Changing to logg=5.00 for T= 39036 logg=5.38\n",
      "Changing to logg=5.00 for T= 38750 logg=8.52\n",
      "Changing to logg=5.00 for T= 38750 logg=8.52\n",
      "Changing to logg=5.00 for T= 33207 logg=5.01\n",
      "Changing to logg=5.00 for T= 42302 logg=8.53\n",
      "Changing to logg=5.00 for T= 38863 logg=5.61\n",
      "Changing to logg=5.00 for T= 38750 logg=8.52\n",
      "Changing to logg=5.00 for T= 45954 logg=8.68\n",
      "Changing to logg=5.00 for T= 45668 logg=8.52\n",
      "Changing to logg=5.00 for T= 38886 logg=5.50\n",
      "Changing to logg=5.00 for T= 39074 logg=5.38\n",
      "Changing to logg=5.00 for T= 42300 logg=8.53\n",
      "Changing to logg=5.00 for T= 38499 logg=5.32\n",
      "Changing to logg=5.00 for T= 42302 logg=8.53\n",
      "Changing to logg=5.00 for T= 39105 logg=5.40\n",
      "Changing to logg=5.00 for T= 38901 logg=5.40\n",
      "Changing to logg=5.00 for T= 38260 logg=5.41\n",
      "Changing to logg=5.00 for T= 42302 logg=8.53\n",
      "Changing to logg=5.00 for T= 38820 logg=5.38\n",
      "Changing to logg=5.00 for T= 39086 logg=5.37\n",
      "Changing to logg=5.00 for T= 45668 logg=8.52\n",
      "Changing to logg=5.00 for T= 38750 logg=8.52\n",
      "Changing to logg=5.00 for T= 38750 logg=8.52\n",
      "Changing to logg=5.00 for T= 42302 logg=8.53\n",
      "Changing to logg=5.00 for T= 38750 logg=8.52\n",
      "Changing to logg=5.00 for T= 38750 logg=8.52\n",
      "Changing to logg=5.00 for T= 37638 logg=5.66\n",
      "Changing to logg=5.00 for T= 42302 logg=8.53\n",
      "Changing to logg=5.00 for T= 45669 logg=8.52\n",
      "Changing to logg=5.00 for T= 35706 logg=5.17\n",
      "Changing to logg=5.00 for T= 41390 logg=5.50\n",
      "Changing to logg=5.00 for T= 39027 logg=5.57\n",
      "Changing to logg=5.00 for T= 40930 logg=5.50\n",
      "Changing to logg=5.00 for T= 31378 logg=8.25\n",
      "Changing to logg=5.00 for T= 35709 logg=8.52\n",
      "Changing to logg=5.00 for T= 39059 logg=5.38\n",
      "Changing to T= 50000 for T= 52469 logg=8.18\n",
      "Changing to logg=5.00 for T= 52469 logg=8.18\n",
      "Changing to logg=5.00 for T= 39097 logg=5.40\n",
      "Changing to logg=5.00 for T= 40327 logg=8.45\n",
      "Changing to logg=5.00 for T= 45668 logg=8.52\n",
      "Changing to logg=5.00 for T= 43455 logg=8.58\n",
      "Changing to logg=5.00 for T= 38866 logg=5.46\n",
      "Changing to logg=5.00 for T= 45668 logg=8.52\n",
      "Changing to logg=5.00 for T= 38750 logg=8.52\n",
      "Changing to logg=5.00 for T= 33157 logg=5.77\n",
      "Changing to logg=5.00 for T= 38750 logg=8.52\n",
      "Changing to logg=5.00 for T= 37690 logg=5.71\n",
      "Changing to logg=5.00 for T= 38205 logg=5.40\n",
      "Changing to logg=5.00 for T= 39156 logg=5.49\n",
      "Changing to logg=5.00 for T= 45669 logg=8.52\n",
      "Changing to logg=5.00 for T= 35714 logg=8.52\n",
      "Changing to logg=5.00 for T= 35722 logg=8.52\n",
      "Changing to logg=5.00 for T= 37950 logg=5.39\n",
      "Changing to logg=5.00 for T= 37640 logg=8.47\n",
      "Changing to logg=5.00 for T= 35929 logg=8.18\n",
      "Changing to logg=5.00 for T= 39474 logg=5.51\n",
      "Changing to logg=5.00 for T= 38750 logg=8.52\n",
      "Changing to logg=5.00 for T= 38750 logg=8.52\n",
      "Changing to logg=5.00 for T= 38750 logg=8.52\n",
      "Changing to logg=5.00 for T= 45669 logg=8.52\n",
      "Changing to logg=5.00 for T= 38945 logg=5.49\n",
      "Changing to logg=5.00 for T= 42302 logg=8.53\n",
      "Changing to logg=5.00 for T= 43455 logg=8.58\n",
      "Changing to logg=5.00 for T= 45668 logg=8.52\n",
      "Changing to logg=5.00 for T= 38750 logg=8.52\n",
      "Changing to logg=5.00 for T= 45668 logg=8.52\n",
      "Changing to logg=5.00 for T= 38750 logg=8.52\n",
      "Changing to logg=5.00 for T= 45668 logg=8.52\n",
      "Changing to logg=5.00 for T= 34757 logg=5.54\n",
      "Changing to logg=5.00 for T= 35710 logg=8.52\n",
      "Changing to logg=5.00 for T= 33652 logg=5.61\n",
      "Changing to logg=5.00 for T= 38750 logg=8.52\n",
      "Changing to logg=5.00 for T= 38750 logg=8.52\n",
      "Changing to logg=5.00 for T= 35715 logg=8.52\n",
      "Changing to logg=5.00 for T= 47227 logg=8.14\n",
      "Changing to logg=5.00 for T= 38030 logg=5.41\n",
      "Changing to logg=5.00 for T= 38796 logg=5.38\n",
      "Changing to logg=5.00 for T= 38530 logg=5.55\n",
      "Changing to logg=5.00 for T= 38750 logg=8.52\n",
      "Changing to logg=5.00 for T= 38942 logg=5.43\n",
      "Changing to logg=5.00 for T= 45668 logg=8.52\n",
      "Changing to logg=5.00 for T= 45668 logg=8.52\n",
      "Changing to logg=5.00 for T= 45668 logg=8.52\n",
      "Changing to logg=5.00 for T= 38750 logg=8.52\n",
      "Changing to logg=5.00 for T= 34986 logg=5.58\n",
      "Changing to logg=5.00 for T= 33657 logg=5.67\n",
      "Changing to logg=5.00 for T= 38750 logg=8.52\n",
      "Changing to logg=5.00 for T= 42302 logg=8.53\n",
      "Changing to logg=5.00 for T= 45669 logg=8.52\n",
      "Changing to logg=5.00 for T= 39010 logg=5.57\n",
      "Changing to logg=5.00 for T= 38750 logg=8.52\n",
      "Changing to logg=5.00 for T= 42302 logg=8.53\n",
      "Changing to logg=5.00 for T= 38062 logg=5.44\n",
      "Changing to logg=5.00 for T= 35708 logg=8.52\n",
      "Changing to logg=5.00 for T= 38750 logg=8.52\n",
      "Changing to logg=5.00 for T= 38751 logg=8.52\n",
      "Changing to logg=5.00 for T= 38750 logg=8.52\n",
      "Changing to logg=5.00 for T= 45668 logg=8.52\n",
      "Changing to logg=5.00 for T= 38924 logg=5.38\n",
      "Changing to logg=5.00 for T= 38750 logg=8.52\n",
      "Changing to logg=5.00 for T= 42302 logg=8.53\n",
      "Changing to T= 50000 for T= 55186 logg=8.12\n",
      "Changing to logg=5.00 for T= 55186 logg=8.12\n",
      "Changing to logg=5.00 for T= 38750 logg=8.52\n",
      "Changing to logg=5.00 for T= 45668 logg=8.52\n",
      "Changing to logg=5.00 for T= 41051 logg=8.91\n",
      "Changing to logg=5.00 for T= 38968 logg=5.47\n",
      "Changing to logg=5.00 for T= 38751 logg=8.52\n",
      "Changing to logg=5.00 for T= 35722 logg=8.52\n",
      "Changing to logg=5.00 for T= 34428 logg=5.62\n",
      "Changing to logg=5.00 for T= 42302 logg=8.53\n",
      "Changing to logg=5.00 for T= 37422 logg=5.67\n",
      "Changing to logg=5.00 for T= 34980 logg=5.56\n",
      "Changing to logg=5.00 for T= 34191 logg=8.16\n",
      "Changing to logg=5.00 for T= 45668 logg=8.52\n",
      "Changing to logg=5.00 for T= 37820 logg=5.74\n",
      "Changing to logg=5.00 for T= 38913 logg=5.59\n",
      "Changing to logg=5.00 for T= 38797 logg=5.34\n",
      "Changing to logg=5.00 for T= 35649 logg=8.52\n",
      "Changing to logg=5.00 for T= 38750 logg=8.52\n",
      "Changing to logg=5.00 for T= 35392 logg=8.22\n",
      "Changing to logg=5.00 for T= 35709 logg=8.52\n",
      "Changing to logg=5.00 for T= 37225 logg=5.46\n",
      "Changing to logg=5.00 for T= 38747 logg=5.38\n",
      "Changing to logg=5.00 for T= 42302 logg=8.53\n",
      "Changing to logg=5.00 for T= 39121 logg=5.40\n",
      "Changing to logg=5.00 for T= 45668 logg=8.52\n",
      "Changing to logg=5.00 for T= 37138 logg=5.69\n",
      "Changing to logg=5.00 for T= 35041 logg=8.49\n",
      "Changing to logg=5.00 for T= 35098 logg=8.49\n",
      "Changing to logg=5.00 for T= 38377 logg=5.39\n",
      "Changing to logg=5.00 for T= 39010 logg=5.64\n",
      "Changing to logg=5.00 for T= 39290 logg=5.53\n",
      "Changing to logg=5.00 for T= 37889 logg=5.54\n",
      "Changing to logg=5.00 for T= 35040 logg=8.49\n",
      "Changing to logg=5.00 for T= 35040 logg=8.49\n",
      "Changing to logg=5.00 for T= 35040 logg=8.49\n",
      "Changing to logg=0.00 for T=  3317 logg=-0.19\n",
      "Changing to logg=5.00 for T= 34340 logg=5.63\n",
      "Changing to logg=5.00 for T= 35040 logg=8.49\n",
      "Changing to logg=5.00 for T= 35040 logg=8.49\n",
      "Changing to logg=5.00 for T= 39098 logg=5.57\n",
      "Changing to logg=0.00 for T=  3317 logg=-0.19\n",
      "Changing to logg=5.00 for T= 44961 logg=8.20\n",
      "Changing to logg=5.00 for T= 37700 logg=5.76\n",
      "Changing to logg=5.00 for T= 35041 logg=8.49\n",
      "Changing to T= 50000 for T= 80369 logg=8.32\n",
      "Changing to logg=5.00 for T= 80369 logg=8.32\n",
      "Changing to T= 50000 for T=196662 logg=7.28\n",
      "Changing to logg=5.00 for T=196662 logg=7.28\n",
      "Changing to logg=5.00 for T= 39296 logg=5.53\n",
      "Changing to logg=5.00 for T= 33848 logg=5.68\n",
      "Changing to logg=5.00 for T= 42994 logg=5.57\n",
      "Changing to logg=5.00 for T= 37933 logg=5.39\n",
      "Changing to logg=5.00 for T= 34437 logg=5.46\n",
      "Changing to logg=5.00 for T= 35040 logg=8.49\n",
      "Changing to logg=5.00 for T= 42289 logg=5.55\n",
      "Changing to logg=5.00 for T= 37723 logg=5.77\n",
      "Changing to logg=5.00 for T= 35040 logg=8.49\n",
      "Changing to logg=5.00 for T= 31631 logg=5.78\n",
      "Changing to logg=5.00 for T= 35046 logg=8.49\n",
      "Changing to logg=5.00 for T= 35040 logg=8.49\n",
      "Changing to logg=5.00 for T= 35040 logg=8.49\n",
      "Changing to logg=5.00 for T= 35040 logg=8.49\n",
      "Changing to logg=5.00 for T= 35040 logg=8.49\n",
      "Changing to logg=5.00 for T= 39033 logg=5.45\n",
      "Changing to logg=5.00 for T= 35123 logg=8.49\n",
      "Changing to logg=5.00 for T= 35233 logg=8.21\n",
      "Changing to logg=5.00 for T= 39162 logg=5.48\n",
      "Changing to T= 50000 for T= 91531 logg=8.30\n",
      "Changing to logg=5.00 for T= 91531 logg=8.30\n",
      "Changing to logg=5.00 for T= 35040 logg=8.49\n",
      "Changing to logg=5.00 for T= 35040 logg=8.49\n",
      "Changing to logg=5.00 for T= 35040 logg=8.49\n",
      "Changing to logg=5.00 for T= 44686 logg=8.19\n",
      "Changing to T= 50000 for T=172024 logg=7.24\n",
      "Changing to logg=5.00 for T=172024 logg=7.24\n",
      "Changing to logg=5.00 for T= 35040 logg=8.49\n",
      "Changing to logg=5.00 for T= 38002 logg=5.45\n",
      "Changing to logg=5.00 for T= 38718 logg=5.32\n",
      "Changing to logg=5.00 for T= 35041 logg=8.49\n",
      "Changing to logg=5.00 for T= 35040 logg=8.49\n",
      "Changing to logg=5.00 for T= 37054 logg=5.15\n",
      "Changing to logg=5.00 for T= 34271 logg=5.61\n",
      "Changing to logg=5.00 for T= 35040 logg=8.49\n",
      "Changing to logg=5.00 for T= 35040 logg=8.49\n",
      "Changing to logg=5.00 for T= 35040 logg=8.49\n",
      "Changing to logg=5.00 for T= 31499 logg=8.21\n",
      "Changing to logg=5.00 for T= 39297 logg=5.50\n",
      "Changing to logg=5.00 for T= 35040 logg=8.49\n",
      "Changing to logg=5.00 for T= 35040 logg=8.49\n",
      "Changing to logg=5.00 for T= 39015 logg=5.63\n",
      "Changing to logg=5.00 for T= 35041 logg=8.49\n",
      "Changing to logg=5.00 for T= 39282 logg=5.39\n",
      "Changing to T= 50000 for T=122659 logg=7.98\n",
      "Changing to logg=5.00 for T=122659 logg=7.98\n",
      "Changing to logg=5.00 for T= 39152 logg=5.49\n",
      "Changing to logg=5.00 for T= 35040 logg=8.49\n",
      "Changing to logg=5.00 for T= 38506 logg=5.66\n",
      "Changing to logg=5.00 for T= 39300 logg=5.53\n",
      "Changing to logg=5.00 for T= 35040 logg=8.49\n",
      "Changing to T= 50000 for T= 53154 logg=8.20\n",
      "Changing to logg=5.00 for T= 53154 logg=8.20\n",
      "Changing to T= 50000 for T= 90298 logg=8.31\n",
      "Changing to logg=5.00 for T= 90298 logg=8.31\n",
      "Changing to logg=5.00 for T= 35044 logg=8.49\n",
      "Changing to logg=5.00 for T= 34450 logg=5.60\n",
      "Changing to logg=5.00 for T= 35040 logg=8.49\n",
      "Changing to logg=5.00 for T= 35040 logg=8.49\n",
      "Changing to logg=5.00 for T= 35047 logg=8.49\n",
      "Changing to logg=5.00 for T= 36175 logg=5.49\n",
      "Changing to logg=5.00 for T= 39339 logg=5.50\n",
      "Changing to logg=5.00 for T= 35040 logg=8.49\n",
      "Changing to logg=5.00 for T= 35065 logg=8.49\n",
      "Changing to logg=5.00 for T= 35040 logg=8.49\n",
      "Changing to logg=5.00 for T= 35040 logg=8.49\n",
      "Changing to logg=5.00 for T= 37969 logg=5.40\n",
      "Changing to logg=5.00 for T= 38323 logg=5.43\n",
      "Changing to logg=5.00 for T= 38497 logg=5.67\n",
      "Changing to logg=5.00 for T= 35161 logg=8.49\n",
      "Changing to logg=5.00 for T= 37720 logg=5.76\n",
      "Changing to logg=5.00 for T= 35042 logg=8.49\n",
      "Changing to logg=5.00 for T= 39061 logg=5.47\n",
      "Changing to logg=5.00 for T= 39115 logg=5.45\n",
      "Changing to logg=5.00 for T= 27868 logg=6.18\n",
      "Changing to T= 50000 for T=197624 logg=7.27\n",
      "Changing to logg=5.00 for T=197624 logg=7.27\n",
      "Changing to logg=5.00 for T= 39260 logg=5.51\n",
      "Changing to logg=5.00 for T= 35040 logg=8.49\n",
      "Changing to T= 50000 for T=170279 logg=7.23\n",
      "Changing to logg=5.00 for T=170279 logg=7.23\n",
      "Changing to logg=5.00 for T= 39090 logg=5.45\n",
      "Changing to logg=5.00 for T= 35040 logg=8.49\n",
      "Changing to logg=5.00 for T= 35040 logg=8.49\n",
      "Changing to logg=5.00 for T= 35040 logg=8.49\n",
      "Changing to logg=5.00 for T= 35040 logg=8.49\n",
      "Changing to logg=5.00 for T= 35040 logg=8.49\n",
      "Changing to logg=0.00 for T=  3294 logg=-0.23\n",
      "Changing to logg=5.00 for T= 38348 logg=5.37\n",
      "Changing to logg=5.00 for T= 35040 logg=8.49\n",
      "Changing to logg=0.00 for T=  3317 logg=-0.19\n",
      "Changing to logg=5.00 for T= 37267 logg=5.48\n",
      "Changing to T= 50000 for T= 81089 logg=8.14\n",
      "Changing to logg=5.00 for T= 81089 logg=8.14\n",
      "Changing to logg=5.00 for T= 36208 logg=8.26\n",
      "Changing to logg=5.00 for T= 35040 logg=8.49\n",
      "Changing to logg=5.00 for T= 39215 logg=5.43\n",
      "Changing to logg=5.00 for T= 35040 logg=8.49\n",
      "Changing to logg=5.00 for T= 38042 logg=5.48\n",
      "Changing to logg=5.00 for T= 39003 logg=5.46\n",
      "Changing to logg=0.00 for T=  3317 logg=-0.19\n",
      "Changing to logg=5.00 for T= 35040 logg=8.49\n",
      "Changing to logg=5.00 for T= 39019 logg=5.46\n",
      "Changing to T= 50000 for T= 85704 logg=8.31\n",
      "Changing to logg=5.00 for T= 85704 logg=8.31\n",
      "Changing to logg=5.00 for T= 35040 logg=8.49\n",
      "Changing to logg=5.00 for T= 38521 logg=5.66\n",
      "Changing to logg=5.00 for T= 35040 logg=8.49\n",
      "Changing to logg=5.00 for T= 27144 logg=6.25\n",
      "Changing to T= 50000 for T= 52576 logg=8.18\n",
      "Changing to logg=5.00 for T= 52576 logg=8.18\n",
      "Changing to logg=5.00 for T= 35040 logg=8.49\n",
      "Changing to logg=5.00 for T= 39184 logg=5.47\n",
      "Changing to logg=0.00 for T=  3295 logg=-0.23\n",
      "Making photometry for isochrone: log(t) = 8.20  AKs = 0.00  dist = 2000\n",
      "     Starting at:  2021-06-02 18:03:53.505216   Usually takes ~5 minutes\n",
      "Starting filter: ubv,U   Elapsed time: 0.01 seconds\n",
      "Starting synthetic photometry\n",
      "M =   1.240 Msun  T =  6225 K  m_ubv_U = 16.04\n",
      "M =   5.500 Msun  T = 27287 K  m_ubv_U = 21.28\n",
      "M =   3.500 Msun  T = 11697 K  m_ubv_U = 10.63\n",
      "M =   0.251 Msun  T =   nan K  m_ubv_U =  nan\n",
      "M =   0.631 Msun  T =   nan K  m_ubv_U =  nan\n",
      "M =   3.200 Msun  T = 12177 K  m_ubv_U = 10.33\n",
      "M =   0.501 Msun  T =   nan K  m_ubv_U =  nan\n",
      "M =   2.500 Msun  T = 10121 K  m_ubv_U = 12.37\n",
      "M =   6.500 Msun  T = 33471 K  m_ubv_U = 21.72\n",
      "M =   0.794 Msun  T =   nan K  m_ubv_U =  nan\n",
      "M =   2.700 Msun  T = 10526 K  m_ubv_U = 11.99\n",
      "M =   4.500 Msun  T =  4524 K  m_ubv_U = 11.80\n",
      "M =   2.500 Msun  T = 10121 K  m_ubv_U = 12.37\n",
      "M =   1.900 Msun  T = 11910 K  m_ubv_U = 10.52\n",
      "M =   5.000 Msun  T = 38750 K  m_ubv_U = 20.43\n",
      "M =   5.500 Msun  T = 27180 K  m_ubv_U = 21.22\n",
      "M =   3.500 Msun  T = 12112 K  m_ubv_U = 10.77\n",
      "M =   5.000 Msun  T = 38750 K  m_ubv_U = 20.43\n",
      "M =   2.500 Msun  T = 10121 K  m_ubv_U = 12.37\n",
      "M =   2.500 Msun  T = 10121 K  m_ubv_U = 12.37\n",
      "M =   3.500 Msun  T = 12112 K  m_ubv_U = 10.77\n",
      "M =   4.000 Msun  T = 11805 K  m_ubv_U = 9.86\n",
      "M =   3.000 Msun  T = 11287 K  m_ubv_U = 11.51\n",
      "M =   1.259 Msun  T =   nan K  m_ubv_U =  nan\n",
      "M =   1.400 Msun  T =   nan K  m_ubv_U =  nan\n",
      "M =   2.500 Msun  T = 10121 K  m_ubv_U = 12.37\n",
      "M =   3.200 Msun  T = 11657 K  m_ubv_U = 11.23\n",
      "M =   2.500 Msun  T = 10121 K  m_ubv_U = 12.37\n",
      "M =   7.000 Msun  T = 39833 K  m_ubv_U = 22.06\n",
      "M =   1.650 Msun  T =  7676 K  m_ubv_U = 14.33\n",
      "M =   2.800 Msun  T = 11666 K  m_ubv_U = 11.82\n",
      "M =   2.700 Msun  T = 10543 K  m_ubv_U = 11.99\n",
      "M =   3.700 Msun  T = 12011 K  m_ubv_U = 10.40\n",
      "M =   0.320 Msun  T =   nan K  m_ubv_U =  nan\n",
      "M =   3.500 Msun  T = 11878 K  m_ubv_U = 10.71\n",
      "M =   1.000 Msun  T =  5597 K  m_ubv_U = 17.66\n",
      "M =   1.300 Msun  T =  6389 K  m_ubv_U = 15.75\n",
      "M =   3.700 Msun  T = 12011 K  m_ubv_U = 10.40\n",
      "M =   2.430 Msun  T = 10595 K  m_ubv_U = 12.47\n",
      "M =   2.250 Msun  T =  9999 K  m_ubv_U = 12.82\n",
      "M =   1.000 Msun  T =  5597 K  m_ubv_U = 17.66\n",
      "M =   1.710 Msun  T =   nan K  m_ubv_U =  nan\n",
      "M =   3.000 Msun  T = 12309 K  m_ubv_U = 11.61\n",
      "M =   2.200 Msun  T =  9713 K  m_ubv_U = 12.92\n",
      "M =   1.750 Msun  T =  8122 K  m_ubv_U = 14.03\n",
      "M =   1.500 Msun  T =  7076 K  m_ubv_U = 14.85\n",
      "M =   1.750 Msun  T =  8121 K  m_ubv_U = 14.03\n",
      "M =   1.500 Msun  T =  7078 K  m_ubv_U = 14.85\n",
      "M =   2.100 Msun  T =  9470 K  m_ubv_U = 13.14\n",
      "M =   2.400 Msun  T = 10500 K  m_ubv_U = 12.53\n",
      "M =   0.900 Msun  T =  5185 K  m_ubv_U = 18.69\n",
      "M =   5.500 Msun  T = 32499 K  m_ubv_U = 21.14\n",
      "M =   5.500 Msun  T = 26451 K  m_ubv_U = 21.23\n",
      "M =   2.250 Msun  T =  9999 K  m_ubv_U = 12.83\n",
      "M =   2.240 Msun  T =  9965 K  m_ubv_U = 12.85\n",
      "M =   1.750 Msun  T =  8121 K  m_ubv_U = 14.03\n",
      "M =   5.600 Msun  T = 17569 K  m_ubv_U = 9.21\n",
      "Starting filter: ubv,V   Elapsed time: 21.88 seconds\n",
      "Starting synthetic photometry\n",
      "M =   1.240 Msun  T =  6225 K  m_ubv_V = 15.52\n",
      "M =   5.500 Msun  T = 27287 K  m_ubv_V = 22.41\n",
      "M =   3.500 Msun  T = 11697 K  m_ubv_V = 11.01\n",
      "M =   0.251 Msun  T =   nan K  m_ubv_V =  nan\n",
      "M =   0.631 Msun  T =   nan K  m_ubv_V =  nan\n",
      "M =   3.200 Msun  T = 12177 K  m_ubv_V = 10.78\n",
      "M =   0.501 Msun  T =   nan K  m_ubv_V =  nan\n",
      "M =   2.500 Msun  T = 10121 K  m_ubv_V = 12.47\n",
      "M =   6.500 Msun  T = 33471 K  m_ubv_V = 23.01\n",
      "M =   0.794 Msun  T =   nan K  m_ubv_V =  nan\n",
      "M =   2.700 Msun  T = 10526 K  m_ubv_V = 12.17\n",
      "M =   4.500 Msun  T =  4524 K  m_ubv_V = 9.30\n",
      "M =   2.500 Msun  T = 10121 K  m_ubv_V = 12.47\n",
      "M =   1.900 Msun  T = 11910 K  m_ubv_V = 10.93\n",
      "M =   5.000 Msun  T = 38750 K  m_ubv_V = 21.81\n",
      "M =   5.500 Msun  T = 27180 K  m_ubv_V = 22.35\n",
      "M =   3.500 Msun  T = 12112 K  m_ubv_V = 11.20\n",
      "M =   5.000 Msun  T = 38750 K  m_ubv_V = 21.81\n",
      "M =   2.500 Msun  T = 10121 K  m_ubv_V = 12.47\n",
      "M =   2.500 Msun  T = 10121 K  m_ubv_V = 12.47\n",
      "M =   3.500 Msun  T = 12112 K  m_ubv_V = 11.20\n",
      "M =   4.000 Msun  T = 11805 K  m_ubv_V = 10.28\n",
      "M =   3.000 Msun  T = 11287 K  m_ubv_V = 11.82\n",
      "M =   1.259 Msun  T =   nan K  m_ubv_V =  nan\n",
      "M =   1.400 Msun  T =   nan K  m_ubv_V =  nan\n",
      "M =   2.500 Msun  T = 10121 K  m_ubv_V = 12.47\n",
      "M =   3.200 Msun  T = 11657 K  m_ubv_V = 11.59\n",
      "M =   2.500 Msun  T = 10121 K  m_ubv_V = 12.47\n",
      "M =   7.000 Msun  T = 39833 K  m_ubv_V = 23.43\n",
      "M =   1.650 Msun  T =  7676 K  m_ubv_V = 14.06\n",
      "M =   2.800 Msun  T = 11666 K  m_ubv_V = 12.16\n",
      "M =   2.700 Msun  T = 10543 K  m_ubv_V = 12.17\n",
      "M =   3.700 Msun  T = 12011 K  m_ubv_V = 10.83\n",
      "M =   0.320 Msun  T =   nan K  m_ubv_V =  nan\n",
      "M =   3.500 Msun  T = 11878 K  m_ubv_V = 11.12\n",
      "M =   1.000 Msun  T =  5597 K  m_ubv_V = 16.73\n",
      "M =   1.300 Msun  T =  6389 K  m_ubv_V = 15.29\n",
      "M =   3.700 Msun  T = 12011 K  m_ubv_V = 10.83\n",
      "M =   2.430 Msun  T = 10595 K  m_ubv_V = 12.64\n",
      "M =   2.250 Msun  T =  9999 K  m_ubv_V = 12.88\n",
      "M =   1.000 Msun  T =  5597 K  m_ubv_V = 16.73\n",
      "M =   1.710 Msun  T =   nan K  m_ubv_V =  nan\n",
      "M =   3.000 Msun  T = 12309 K  m_ubv_V = 12.03\n",
      "M =   2.200 Msun  T =  9713 K  m_ubv_V = 12.93\n",
      "M =   1.750 Msun  T =  8122 K  m_ubv_V = 13.80\n",
      "M =   1.500 Msun  T =  7076 K  m_ubv_V = 14.54\n",
      "M =   1.750 Msun  T =  8121 K  m_ubv_V = 13.80\n",
      "M =   1.500 Msun  T =  7078 K  m_ubv_V = 14.54\n",
      "M =   2.100 Msun  T =  9470 K  m_ubv_V = 13.11\n",
      "M =   2.400 Msun  T = 10500 K  m_ubv_V = 12.69\n",
      "M =   0.900 Msun  T =  5185 K  m_ubv_V = 17.41\n",
      "M =   5.500 Msun  T = 32499 K  m_ubv_V = 22.41\n",
      "M =   5.500 Msun  T = 26451 K  m_ubv_V = 22.34\n",
      "M =   2.250 Msun  T =  9999 K  m_ubv_V = 12.90\n",
      "M =   2.240 Msun  T =  9965 K  m_ubv_V = 12.91\n",
      "M =   1.750 Msun  T =  8121 K  m_ubv_V = 13.80\n",
      "M =   5.600 Msun  T = 17569 K  m_ubv_V = 10.07\n",
      "Starting filter: ubv,B   Elapsed time: 40.06 seconds\n",
      "Starting synthetic photometry\n",
      "M =   1.240 Msun  T =  6225 K  m_ubv_B = 16.07\n",
      "M =   5.500 Msun  T = 27287 K  m_ubv_B = 22.27\n",
      "M =   3.500 Msun  T = 11697 K  m_ubv_B = 10.92\n",
      "M =   0.251 Msun  T =   nan K  m_ubv_B =  nan\n",
      "M =   0.631 Msun  T =   nan K  m_ubv_B =  nan\n",
      "M =   3.200 Msun  T = 12177 K  m_ubv_B = 10.68\n",
      "M =   0.501 Msun  T =   nan K  m_ubv_B =  nan\n",
      "M =   2.500 Msun  T = 10121 K  m_ubv_B = 12.45\n",
      "M =   6.500 Msun  T = 33471 K  m_ubv_B = 22.80\n",
      "M =   0.794 Msun  T =   nan K  m_ubv_B =  nan\n",
      "M =   2.700 Msun  T = 10526 K  m_ubv_B = 12.12\n",
      "M =   4.500 Msun  T =  4524 K  m_ubv_B = 10.56\n",
      "M =   2.500 Msun  T = 10121 K  m_ubv_B = 12.45\n",
      "M =   1.900 Msun  T = 11910 K  m_ubv_B = 10.83\n",
      "M =   5.000 Msun  T = 38750 K  m_ubv_B = 21.51\n",
      "M =   5.500 Msun  T = 27180 K  m_ubv_B = 22.20\n",
      "M =   3.500 Msun  T = 12112 K  m_ubv_B = 11.10\n",
      "M =   5.000 Msun  T = 38750 K  m_ubv_B = 21.51\n",
      "M =   2.500 Msun  T = 10121 K  m_ubv_B = 12.45\n",
      "M =   2.500 Msun  T = 10121 K  m_ubv_B = 12.45\n",
      "M =   3.500 Msun  T = 12112 K  m_ubv_B = 11.10\n",
      "M =   4.000 Msun  T = 11805 K  m_ubv_B = 10.18\n",
      "M =   3.000 Msun  T = 11287 K  m_ubv_B = 11.74\n",
      "M =   1.259 Msun  T =   nan K  m_ubv_B =  nan\n",
      "M =   1.400 Msun  T =   nan K  m_ubv_B =  nan\n",
      "M =   2.500 Msun  T = 10121 K  m_ubv_B = 12.45\n",
      "M =   3.200 Msun  T = 11657 K  m_ubv_B = 11.50\n",
      "M =   2.500 Msun  T = 10121 K  m_ubv_B = 12.45\n",
      "M =   7.000 Msun  T = 39833 K  m_ubv_B = 23.18\n",
      "M =   1.650 Msun  T =  7676 K  m_ubv_B = 14.32\n",
      "M =   2.800 Msun  T = 11666 K  m_ubv_B = 12.08\n",
      "M =   2.700 Msun  T = 10543 K  m_ubv_B = 12.12\n",
      "M =   3.700 Msun  T = 12011 K  m_ubv_B = 10.73\n",
      "M =   0.320 Msun  T =   nan K  m_ubv_B =  nan\n",
      "M =   3.500 Msun  T = 11878 K  m_ubv_B = 11.02\n",
      "M =   1.000 Msun  T =  5597 K  m_ubv_B = 17.49\n",
      "M =   1.300 Msun  T =  6389 K  m_ubv_B = 15.80\n",
      "M =   3.700 Msun  T = 12011 K  m_ubv_B = 10.73\n",
      "M =   2.430 Msun  T = 10595 K  m_ubv_B = 12.60\n",
      "M =   2.250 Msun  T =  9999 K  m_ubv_B = 12.87\n",
      "M =   1.000 Msun  T =  5597 K  m_ubv_B = 17.49\n",
      "M =   1.710 Msun  T =   nan K  m_ubv_B =  nan\n",
      "M =   3.000 Msun  T = 12309 K  m_ubv_B = 11.94\n",
      "M =   2.200 Msun  T =  9713 K  m_ubv_B = 12.94\n",
      "M =   1.750 Msun  T =  8122 K  m_ubv_B = 13.98\n",
      "M =   1.500 Msun  T =  7076 K  m_ubv_B = 14.90\n",
      "M =   1.750 Msun  T =  8121 K  m_ubv_B = 13.98\n",
      "M =   1.500 Msun  T =  7078 K  m_ubv_B = 14.89\n",
      "M =   2.100 Msun  T =  9470 K  m_ubv_B = 13.14\n",
      "M =   2.400 Msun  T = 10500 K  m_ubv_B = 12.65\n",
      "M =   0.900 Msun  T =  5185 K  m_ubv_B = 18.28\n",
      "M =   5.500 Msun  T = 32499 K  m_ubv_B = 22.20\n",
      "M =   5.500 Msun  T = 26451 K  m_ubv_B = 22.20\n",
      "M =   2.250 Msun  T =  9999 K  m_ubv_B = 12.88\n",
      "M =   2.240 Msun  T =  9965 K  m_ubv_B = 12.90\n",
      "M =   1.750 Msun  T =  8121 K  m_ubv_B = 13.98\n",
      "M =   5.600 Msun  T = 17569 K  m_ubv_B = 9.89\n",
      "Starting filter: ubv,R   Elapsed time: 56.37 seconds\n",
      "Starting synthetic photometry\n",
      "M =   1.240 Msun  T =  6225 K  m_ubv_R = 15.23\n",
      "M =   5.500 Msun  T = 27287 K  m_ubv_R = 22.53\n",
      "M =   3.500 Msun  T = 11697 K  m_ubv_R = 11.04\n",
      "M =   0.251 Msun  T =   nan K  m_ubv_R =  nan\n",
      "M =   0.631 Msun  T =   nan K  m_ubv_R =  nan\n",
      "M =   3.200 Msun  T = 12177 K  m_ubv_R = 10.81\n",
      "M =   0.501 Msun  T =   nan K  m_ubv_R =  nan\n",
      "M =   2.500 Msun  T = 10121 K  m_ubv_R = 12.48\n",
      "M =   6.500 Msun  T = 33471 K  m_ubv_R = 23.14\n",
      "M =   0.794 Msun  T =   nan K  m_ubv_R =  nan\n",
      "M =   2.700 Msun  T = 10526 K  m_ubv_R = 12.19\n",
      "M =   4.500 Msun  T =  4524 K  m_ubv_R = 8.73\n",
      "M =   2.500 Msun  T = 10121 K  m_ubv_R = 12.48\n",
      "M =   1.900 Msun  T = 11910 K  m_ubv_R = 10.96\n",
      "M =   5.000 Msun  T = 38750 K  m_ubv_R = 21.94\n",
      "M =   5.500 Msun  T = 27180 K  m_ubv_R = 22.46\n",
      "M =   3.500 Msun  T = 12112 K  m_ubv_R = 11.23\n",
      "M =   5.000 Msun  T = 38750 K  m_ubv_R = 21.94\n",
      "M =   2.500 Msun  T = 10121 K  m_ubv_R = 12.48\n",
      "M =   2.500 Msun  T = 10121 K  m_ubv_R = 12.48\n",
      "M =   3.500 Msun  T = 12112 K  m_ubv_R = 11.23\n",
      "M =   4.000 Msun  T = 11805 K  m_ubv_R = 10.31\n",
      "M =   3.000 Msun  T = 11287 K  m_ubv_R = 11.84\n",
      "M =   1.259 Msun  T =   nan K  m_ubv_R =  nan\n",
      "M =   1.400 Msun  T =   nan K  m_ubv_R =  nan\n",
      "M =   2.500 Msun  T = 10121 K  m_ubv_R = 12.48\n",
      "M =   3.200 Msun  T = 11657 K  m_ubv_R = 11.62\n",
      "M =   2.500 Msun  T = 10121 K  m_ubv_R = 12.48\n",
      "M =   7.000 Msun  T = 39833 K  m_ubv_R = 23.56\n",
      "M =   1.650 Msun  T =  7676 K  m_ubv_R = 13.93\n",
      "M =   2.800 Msun  T = 11666 K  m_ubv_R = 12.19\n",
      "M =   2.700 Msun  T = 10543 K  m_ubv_R = 12.19\n",
      "M =   3.700 Msun  T = 12011 K  m_ubv_R = 10.86\n",
      "M =   0.320 Msun  T =   nan K  m_ubv_R =  nan\n",
      "M =   3.500 Msun  T = 11878 K  m_ubv_R = 11.15\n",
      "M =   1.000 Msun  T =  5597 K  m_ubv_R = 16.37\n",
      "M =   1.300 Msun  T =  6389 K  m_ubv_R = 15.03\n",
      "M =   3.700 Msun  T = 12011 K  m_ubv_R = 10.86\n",
      "M =   2.430 Msun  T = 10595 K  m_ubv_R = 12.66\n",
      "M =   2.250 Msun  T =  9999 K  m_ubv_R = 12.89\n",
      "M =   1.000 Msun  T =  5597 K  m_ubv_R = 16.37\n",
      "M =   1.710 Msun  T =   nan K  m_ubv_R =  nan\n",
      "M =   3.000 Msun  T = 12309 K  m_ubv_R = 12.07\n",
      "M =   2.200 Msun  T =  9713 K  m_ubv_R = 12.94\n",
      "M =   1.750 Msun  T =  8122 K  m_ubv_R = 13.71\n",
      "M =   1.500 Msun  T =  7076 K  m_ubv_R = 14.35\n",
      "M =   1.750 Msun  T =  8121 K  m_ubv_R = 13.71\n",
      "M =   1.500 Msun  T =  7078 K  m_ubv_R = 14.35\n",
      "M =   2.100 Msun  T =  9470 K  m_ubv_R = 13.11\n",
      "M =   2.400 Msun  T = 10500 K  m_ubv_R = 12.70\n",
      "M =   0.900 Msun  T =  5185 K  m_ubv_R = 16.97\n",
      "M =   5.500 Msun  T = 32499 K  m_ubv_R = 22.54\n",
      "M =   5.500 Msun  T = 26451 K  m_ubv_R = 22.45\n",
      "M =   2.250 Msun  T =  9999 K  m_ubv_R = 12.91\n",
      "M =   2.240 Msun  T =  9965 K  m_ubv_R = 12.92\n",
      "M =   1.750 Msun  T =  8121 K  m_ubv_R = 13.71\n",
      "M =   5.600 Msun  T = 17569 K  m_ubv_R = 10.14\n",
      "Starting filter: ubv,I   Elapsed time: 72.31 seconds\n",
      "Starting synthetic photometry\n",
      "M =   1.240 Msun  T =  6225 K  m_ubv_I = 14.88\n",
      "M =   5.500 Msun  T = 27287 K  m_ubv_I = 22.77\n",
      "M =   3.500 Msun  T = 11697 K  m_ubv_I = 11.11\n",
      "M =   0.251 Msun  T =   nan K  m_ubv_I =  nan\n",
      "M =   0.631 Msun  T =   nan K  m_ubv_I =  nan\n",
      "M =   3.200 Msun  T = 12177 K  m_ubv_I = 10.89\n",
      "M =   0.501 Msun  T =   nan K  m_ubv_I =  nan\n",
      "M =   2.500 Msun  T = 10121 K  m_ubv_I = 12.51\n",
      "M =   6.500 Msun  T = 33471 K  m_ubv_I = 23.40\n",
      "M =   0.794 Msun  T =   nan K  m_ubv_I =  nan\n",
      "M =   2.700 Msun  T = 10526 K  m_ubv_I = 12.23\n",
      "M =   4.500 Msun  T =  4524 K  m_ubv_I = 8.02\n",
      "M =   2.500 Msun  T = 10121 K  m_ubv_I = 12.51\n",
      "M =   1.900 Msun  T = 11910 K  m_ubv_I = 11.04\n",
      "M =   5.000 Msun  T = 38750 K  m_ubv_I = 22.22\n",
      "M =   5.500 Msun  T = 27180 K  m_ubv_I = 22.71\n",
      "M =   3.500 Msun  T = 12112 K  m_ubv_I = 11.31\n",
      "M =   5.000 Msun  T = 38750 K  m_ubv_I = 22.22\n",
      "M =   2.500 Msun  T = 10121 K  m_ubv_I = 12.51\n",
      "M =   2.500 Msun  T = 10121 K  m_ubv_I = 12.51\n",
      "M =   3.500 Msun  T = 12112 K  m_ubv_I = 11.31\n",
      "M =   4.000 Msun  T = 11805 K  m_ubv_I = 10.38\n",
      "M =   3.000 Msun  T = 11287 K  m_ubv_I = 11.90\n",
      "M =   1.259 Msun  T =   nan K  m_ubv_I =  nan\n",
      "M =   1.400 Msun  T =   nan K  m_ubv_I =  nan\n",
      "M =   2.500 Msun  T = 10121 K  m_ubv_I = 12.51\n",
      "M =   3.200 Msun  T = 11657 K  m_ubv_I = 11.69\n",
      "M =   2.500 Msun  T = 10121 K  m_ubv_I = 12.51\n",
      "M =   7.000 Msun  T = 39833 K  m_ubv_I = 23.83\n",
      "M =   1.650 Msun  T =  7676 K  m_ubv_I = 13.79\n",
      "M =   2.800 Msun  T = 11666 K  m_ubv_I = 12.26\n",
      "M =   2.700 Msun  T = 10543 K  m_ubv_I = 12.23\n",
      "M =   3.700 Msun  T = 12011 K  m_ubv_I = 10.94\n",
      "M =   0.320 Msun  T =   nan K  m_ubv_I =  nan\n",
      "M =   3.500 Msun  T = 11878 K  m_ubv_I = 11.22\n",
      "M =   1.000 Msun  T =  5597 K  m_ubv_I = 15.92\n",
      "M =   1.300 Msun  T =  6389 K  m_ubv_I = 14.70\n",
      "M =   3.700 Msun  T = 12011 K  m_ubv_I = 10.94\n",
      "M =   2.430 Msun  T = 10595 K  m_ubv_I = 12.70\n",
      "M =   2.250 Msun  T =  9999 K  m_ubv_I = 12.92\n",
      "M =   1.000 Msun  T =  5597 K  m_ubv_I = 15.92\n",
      "M =   1.710 Msun  T =   nan K  m_ubv_I =  nan\n",
      "M =   3.000 Msun  T = 12309 K  m_ubv_I = 12.16\n",
      "M =   2.200 Msun  T =  9713 K  m_ubv_I = 12.95\n",
      "M =   1.750 Msun  T =  8122 K  m_ubv_I = 13.61\n",
      "M =   1.500 Msun  T =  7076 K  m_ubv_I = 14.13\n",
      "M =   1.750 Msun  T =  8121 K  m_ubv_I = 13.61\n",
      "M =   1.500 Msun  T =  7078 K  m_ubv_I = 14.12\n",
      "M =   2.100 Msun  T =  9470 K  m_ubv_I = 13.11\n",
      "M =   2.400 Msun  T = 10500 K  m_ubv_I = 12.74\n",
      "M =   0.900 Msun  T =  5185 K  m_ubv_I = 16.43\n",
      "M =   5.500 Msun  T = 32499 K  m_ubv_I = 22.80\n",
      "M =   5.500 Msun  T = 26451 K  m_ubv_I = 22.69\n",
      "M =   2.250 Msun  T =  9999 K  m_ubv_I = 12.93\n",
      "M =   2.240 Msun  T =  9965 K  m_ubv_I = 12.94\n",
      "M =   1.750 Msun  T =  8121 K  m_ubv_I = 13.61\n",
      "M =   5.600 Msun  T = 17569 K  m_ubv_I = 10.30\n",
      "      Time taken: 88.53 seconds\n",
      "Isochrone generation took 633.036084 s.\n"
     ]
    }
   ],
   "source": [
    "import spisea\n",
    "from spisea import evolution, synthetic\n",
    "import math\n",
    "# Check if the evolution class works fine\n",
    "import time\n",
    "t1=time.time()\n",
    "bps=evolution.BPASS()\n",
    "iso1=synthetic.Isochrone_Binary(8.2, 0.0, 2000, math.log10(1), mass_sampling=1)"
   ]
  },
  {
   "cell_type": "markdown",
   "metadata": {},
   "source": [
    "We check if all phases represented in the BPASS isochroneare valid."
   ]
  },
  {
   "cell_type": "code",
   "execution_count": 2,
   "metadata": {},
   "outputs": [
    {
     "data": {
      "text/plain": [
       "True"
      ]
     },
     "execution_count": 2,
     "metadata": {},
     "output_type": "execute_result"
    }
   ],
   "source": [
    "import numpy as np\n",
    "np.all([(x == 5 or x == 101 or x==102 or x==103) for x in iso1.primaries['phase']])"
   ]
  },
  {
   "cell_type": "code",
   "execution_count": 3,
   "metadata": {},
   "outputs": [
    {
     "data": {
      "text/plain": [
       "True"
      ]
     },
     "execution_count": 3,
     "metadata": {},
     "output_type": "execute_result"
    }
   ],
   "source": [
    "np.all([(x == 5 or x == 101 or x == 102 or x == 103) for x in iso1.singles['phase']])"
   ]
  },
  {
   "cell_type": "code",
   "execution_count": 4,
   "metadata": {},
   "outputs": [
    {
     "data": {
      "text/plain": [
       "True"
      ]
     },
     "execution_count": 4,
     "metadata": {},
     "output_type": "execute_result"
    }
   ],
   "source": [
    "np.all([(x == 5 or x == 101 or x == -99 or x==102 or x==103) for x in iso1.secondaries['phase']])"
   ]
  },
  {
   "cell_type": "markdown",
   "metadata": {},
   "source": [
    "Find the maximum, mean, and median  values of logg (cgs) for primaries and secondaries accounting for NaNs in the columns. (For max we make NaNs the same as - infinity and for median and mean, we do not include them)"
   ]
  },
  {
   "cell_type": "code",
   "execution_count": 5,
   "metadata": {},
   "outputs": [
    {
     "data": {
      "text/plain": [
       "9.294869501162154"
      ]
     },
     "execution_count": 5,
     "metadata": {},
     "output_type": "execute_result"
    }
   ],
   "source": [
    "np.max(iso1.singles['logg'])"
   ]
  },
  {
   "cell_type": "code",
   "execution_count": 6,
   "metadata": {},
   "outputs": [
    {
     "data": {
      "text/plain": [
       "9.288600394549206"
      ]
     },
     "execution_count": 6,
     "metadata": {},
     "output_type": "execute_result"
    }
   ],
   "source": [
    "np.max(np.nan_to_num(iso1.primaries['logg'], -np.inf))"
   ]
  },
  {
   "cell_type": "code",
   "execution_count": 7,
   "metadata": {},
   "outputs": [
    {
     "data": {
      "text/plain": [
       "9.283702439639246"
      ]
     },
     "execution_count": 7,
     "metadata": {},
     "output_type": "execute_result"
    }
   ],
   "source": [
    "np.max(np.nan_to_num(iso1.secondaries['logg'], -np.inf))"
   ]
  },
  {
   "cell_type": "markdown",
   "metadata": {},
   "source": [
    "Now let's find the mean and median logg values for the single stars, secondary stars, and the primary stars"
   ]
  },
  {
   "cell_type": "code",
   "execution_count": 8,
   "metadata": {},
   "outputs": [
    {
     "data": {
      "text/plain": [
       "5.354531279865074"
      ]
     },
     "execution_count": 8,
     "metadata": {},
     "output_type": "execute_result"
    }
   ],
   "source": [
    "np.mean(iso1.singles['logg'][np.where(~np.isnan(iso1.singles['logg']))])"
   ]
  },
  {
   "cell_type": "code",
   "execution_count": 9,
   "metadata": {},
   "outputs": [
    {
     "data": {
      "text/plain": [
       "5.109131776599373"
      ]
     },
     "execution_count": 9,
     "metadata": {},
     "output_type": "execute_result"
    }
   ],
   "source": [
    "np.mean(iso1.primaries['logg'][np.where(~np.isnan(iso1.primaries['logg']))])"
   ]
  },
  {
   "cell_type": "code",
   "execution_count": 10,
   "metadata": {},
   "outputs": [
    {
     "data": {
      "text/plain": [
       "4.7087761944824305"
      ]
     },
     "execution_count": 10,
     "metadata": {},
     "output_type": "execute_result"
    }
   ],
   "source": [
    "np.mean(iso1.secondaries['logg'][np.where(~np.isnan(iso1.secondaries['logg']))])"
   ]
  },
  {
   "cell_type": "code",
   "execution_count": 11,
   "metadata": {},
   "outputs": [
    {
     "data": {
      "text/plain": [
       "4.2498758947769355"
      ]
     },
     "execution_count": 11,
     "metadata": {},
     "output_type": "execute_result"
    }
   ],
   "source": [
    "np.median(iso1.singles['logg'][np.where(~np.isnan(iso1.singles['logg']))])"
   ]
  },
  {
   "cell_type": "code",
   "execution_count": 12,
   "metadata": {},
   "outputs": [
    {
     "data": {
      "text/plain": [
       "4.133548174454043"
      ]
     },
     "execution_count": 12,
     "metadata": {},
     "output_type": "execute_result"
    }
   ],
   "source": [
    "np.median(iso1.primaries['logg'][np.where(~np.isnan(iso1.primaries['logg']))])"
   ]
  },
  {
   "cell_type": "code",
   "execution_count": 13,
   "metadata": {},
   "outputs": [
    {
     "data": {
      "text/plain": [
       "4.298445675989428"
      ]
     },
     "execution_count": 13,
     "metadata": {},
     "output_type": "execute_result"
    }
   ],
   "source": [
    "np.median([x for x in iso1.secondaries['logg'] if np.isfinite(x)])"
   ]
  },
  {
   "cell_type": "markdown",
   "metadata": {},
   "source": [
    "Let's make a histogram of log_g values for each table of the isochrone"
   ]
  },
  {
   "cell_type": "code",
   "execution_count": 14,
   "metadata": {},
   "outputs": [
    {
     "data": {
      "text/plain": [
       "Text(0.5, 0, 'logg in cgs')"
      ]
     },
     "execution_count": 14,
     "metadata": {},
     "output_type": "execute_result"
    },
    {
     "data": {
      "image/png": "[encoded data removed]",
      "text/plain": [
       "<Figure size 432x288 with 1 Axes>"
      ]
     },
     "metadata": {
      "needs_background": "light"
     },
     "output_type": "display_data"
    }
   ],
   "source": [
    "import matplotlib.pyplot as plt\n",
    "plt.title(\"Histogram of logg values (secondaries) of isochrone\")\n",
    "plt.hist(np.array([x for x in iso1.secondaries['logg'] if np.isfinite(x)]),\n",
    "         np.arange(0, 30, 1))\n",
    "plt.xlabel(\"logg in cgs\")"
   ]
  },
  {
   "cell_type": "code",
   "execution_count": 15,
   "metadata": {},
   "outputs": [
    {
     "data": {
      "text/plain": [
       "Text(0.5, 0, 'logg in cgs')"
      ]
     },
     "execution_count": 15,
     "metadata": {},
     "output_type": "execute_result"
    },
    {
     "data": {
      "image/png": "[encoded data removed]",
      "text/plain": [
       "<Figure size 432x288 with 1 Axes>"
      ]
     },
     "metadata": {
      "needs_background": "light"
     },
     "output_type": "display_data"
    }
   ],
   "source": [
    "import matplotlib.pyplot as plt\n",
    "plt.title(\"Histogram of logg values (primaries) of isochrone\")\n",
    "plt.hist(np.array([x for x in iso1.primaries['logg'] if np.isfinite(x)]),\n",
    "         np.arange(0, 30, 1))\n",
    "plt.xlabel(\"logg in cgs\")"
   ]
  },
  {
   "cell_type": "code",
   "execution_count": 16,
   "metadata": {},
   "outputs": [
    {
     "data": {
      "text/plain": [
       "Text(0.5, 0, 'logg in cgs')"
      ]
     },
     "execution_count": 16,
     "metadata": {},
     "output_type": "execute_result"
    },
    {
     "data": {
      "image/png": "[encoded data removed]",
      "text/plain": [
       "<Figure size 432x288 with 1 Axes>"
      ]
     },
     "metadata": {
      "needs_background": "light"
     },
     "output_type": "display_data"
    }
   ],
   "source": [
    "import matplotlib.pyplot as plt\n",
    "plt.title(\"Histogram of logg values single stars of isochrone\")\n",
    "plt.hist(np.array([x for x in iso1.singles['logg'] if np.isfinite(x)]),\n",
    "         np.arange(0, 30, 1))\n",
    "plt.xlabel(\"logg in cgs\")"
   ]
  },
  {
   "cell_type": "markdown",
   "metadata": {},
   "source": [
    "For comparison, let's create a MIST v.1. isochrone  phot using otherwise same parameters."
   ]
  },
  {
   "cell_type": "code",
   "execution_count": 17,
   "metadata": {},
   "outputs": [],
   "source": [
    "iso2=synthetic.IsochronePhot(8.2, 0.0, 2000,\n",
    "                             math.log(1), recomp=False) # New MIST v.1 isochrone for same metallicity"
   ]
  },
  {
   "cell_type": "markdown",
   "metadata": {},
   "source": [
    "Note: dist/10 pc = 200 for both of our isochrones and clusters"
   ]
  },
  {
   "cell_type": "markdown",
   "metadata": {},
   "source": [
    "Find the maximum logg of the isochrone and the distribution of logg values"
   ]
  },
  {
   "cell_type": "code",
   "execution_count": 18,
   "metadata": {},
   "outputs": [
    {
     "data": {
      "text/plain": [
       "8.038804565028379"
      ]
     },
     "execution_count": 18,
     "metadata": {},
     "output_type": "execute_result"
    }
   ],
   "source": [
    "np.max(iso2.points['logg'])"
   ]
  },
  {
   "cell_type": "code",
   "execution_count": 19,
   "metadata": {
    "scrolled": true
   },
   "outputs": [
    {
     "data": {
      "text/plain": [
       "(array([ 96., 103.,  29.,  55., 179.,  39.,  26.,  71.,   5.,   0.,   0.,\n",
       "          0.,   0.,   0.,   0.,   0.,   0.,   0.,   0.,   0.,   0.,   0.,\n",
       "          0.,   0.,   0.,   0.,   0.,   0.,   0.]),\n",
       " array([ 0,  1,  2,  3,  4,  5,  6,  7,  8,  9, 10, 11, 12, 13, 14, 15, 16,\n",
       "        17, 18, 19, 20, 21, 22, 23, 24, 25, 26, 27, 28, 29]),\n",
       " <BarContainer object of 29 artists>)"
      ]
     },
     "execution_count": 19,
     "metadata": {},
     "output_type": "execute_result"
    },
    {
     "data": {
      "image/png": "[encoded data removed]",
      "text/plain": [
       "<Figure size 432x288 with 1 Axes>"
      ]
     },
     "metadata": {
      "needs_background": "light"
     },
     "output_type": "display_data"
    }
   ],
   "source": [
    "import matplotlib.pyplot as plt\n",
    "plt.xlabel(\"logg in cgs\")\n",
    "plt.title(\"Histogram of logg values of stars in the MIST v1 isochrone\")\n",
    "plt.hist(np.array([x for x in iso2.points['logg'] if np.isfinite(x)]), np.arange(0, 30, 1))"
   ]
  },
  {
   "cell_type": "markdown",
   "metadata": {},
   "source": [
    "Finding the log_g median and mean for the new isochrone"
   ]
  },
  {
   "cell_type": "code",
   "execution_count": 20,
   "metadata": {},
   "outputs": [
    {
     "data": {
      "text/plain": [
       "4.190403645585174"
      ]
     },
     "execution_count": 20,
     "metadata": {},
     "output_type": "execute_result"
    }
   ],
   "source": [
    "np.median(iso2.points['logg'])"
   ]
  },
  {
   "cell_type": "code",
   "execution_count": 21,
   "metadata": {},
   "outputs": [
    {
     "data": {
      "text/plain": [
       "3.7100077975325854"
      ]
     },
     "execution_count": 21,
     "metadata": {},
     "output_type": "execute_result"
    }
   ],
   "source": [
    "np.mean(iso2.points['logg'])"
   ]
  },
  {
   "cell_type": "markdown",
   "metadata": {},
   "source": [
    "Now we want to make clusters for both of these models and plot CMD, HR Diagram, and Mass Luminosity relationship for the isochrones. Then, we want to find the Mass luminosity relationship and CMD for the cluster."
   ]
  },
  {
   "cell_type": "code",
   "execution_count": 22,
   "metadata": {},
   "outputs": [],
   "source": [
    "from spisea import imf\n",
    "from spisea.imf import imf, multiplicity\n",
    "from spisea import ifmr\n"
   ]
  },
  {
   "cell_type": "code",
   "execution_count": 23,
   "metadata": {
    "scrolled": true
   },
   "outputs": [
    {
     "name": "stdout",
     "output_type": "stream",
     "text": [
      "197 single stars had to be deleted\n",
      "83.18408856407626 solar masses had to be deleted from single stars before application of the IFMR\n"
     ]
    },
    {
     "name": "stderr",
     "output_type": "stream",
     "text": [
      "/u/ryotainagaki/Desktop/PyPopStar/spisea/synthetic.py:728: VisibleDeprecationWarning: Creating an ndarray from ragged nested sequences (which is a list-or-tuple of lists-or-tuples-or ndarrays with different lengths or shapes) is deprecated. If you meant to do this, you must specify 'dtype=object' when creating the ndarray.\n",
      "  compMass = np.array([compMass[x] for x in indices])\n"
     ]
    },
    {
     "name": "stdout",
     "output_type": "stream",
     "text": [
      "Running the changing phase on companions\n",
      "84 non-single star systems had to be deleted before IFMR application\n",
      "86 companions had to be deleted before IFMR was applied\n",
      "Found 10 companions out of stellar mass range\n"
     ]
    }
   ],
   "source": [
    "clus_1=synthetic.Cluster_w_Binaries(iso1, imf.IMFSalpeter1955(multiplicity=multiplicity.MultiplicityUnresolved()),\n",
    "                                    2000, ifmr=ifmr.IFMR_Spera15())\n",
    "clus_2=synthetic.ResolvedCluster(iso2, imf.IMFSalpeter1955(multiplicity=multiplicity.MultiplicityUnresolved()),\n",
    "                                 2000, ifmr=ifmr.IFMR_Spera15())"
   ]
  },
  {
   "cell_type": "markdown",
   "metadata": {},
   "source": [
    "Taking a look at the BPASS Cluster vs MIST Settings cluster Observer's HR Diagram\n",
    "Remember to use a distance modulus!"
   ]
  },
  {
   "cell_type": "code",
   "execution_count": 24,
   "metadata": {},
   "outputs": [
    {
     "data": {
      "text/plain": [
       "<matplotlib.legend.Legend at 0x7f9e71609b50>"
      ]
     },
     "execution_count": 24,
     "metadata": {},
     "output_type": "execute_result"
    },
    {
     "data": {
      "image/png": "[encoded data removed]",
      "text/plain": [
       "<Figure size 432x288 with 1 Axes>"
      ]
     },
     "metadata": {
      "needs_background": "light"
     },
     "output_type": "display_data"
    }
   ],
   "source": [
    "import matplotlib.pyplot as plt\n",
    "plt.plot(iso1.primaries['m_ubv_B'] - iso1.primaries[\"m_ubv_V\"],\n",
    "         iso1.primaries[\"m_ubv_V\"] - 5 * np.log10(200), \"r.\")\n",
    "plt.plot(iso1.secondaries['m_ubv_B'] - iso1.secondaries[\"m_ubv_V\"],\n",
    "         iso1.secondaries[\"m_ubv_V\"] - 5 * np.log10(200), \"r.\")\n",
    "plt.plot(iso1.singles['m_ubv_B'] - iso1.singles[\"m_ubv_V\"],\n",
    "         iso1.singles[\"m_ubv_V\"] - 5 * np.log10(200), \"r.\", label=\"BPASS isochrone\")\n",
    "plt.plot(iso2.points['m_ubv_B'] - iso2.points[\"m_ubv_V\"],\n",
    "         iso2.points[\"m_ubv_V\"] - 5 * np.log10(200), \"b+\", label=\"MISTv1\", alpha=0.25)\n",
    "plt.xlabel(\"B-V\")\n",
    "plt.ylabel(\"M_V\")\n",
    "plt.title(\"Color magnitude Diagram of Isochrones at solar metallicity and 10**8.2 years age\")\n",
    "plt.gca().invert_yaxis()\n",
    "plt.legend()"
   ]
  },
  {
   "cell_type": "code",
   "execution_count": 25,
   "metadata": {},
   "outputs": [
    {
     "data": {
      "text/plain": [
       "<matplotlib.legend.Legend at 0x7f9e60e81190>"
      ]
     },
     "execution_count": 25,
     "metadata": {},
     "output_type": "execute_result"
    },
    {
     "data": {
      "image/png": "[encoded data removed]",
      "text/plain": [
       "<Figure size 432x288 with 1 Axes>"
      ]
     },
     "metadata": {
      "needs_background": "light"
     },
     "output_type": "display_data"
    }
   ],
   "source": [
    "import matplotlib.pyplot as plt\n",
    "plt.plot(iso1.primaries['m_ubv_B'] - iso1.primaries[\"m_ubv_V\"],\n",
    "         iso1.primaries[\"m_ubv_V\"] - 5 * np.log10(200), \"r.\", label = \"Primary Stars from BPASS isochrone\")\n",
    "plt.xlabel(\"B-V\")\n",
    "plt.ylabel(\"M_V\")\n",
    "plt.title(\"Color magnitude Diagram of Primary Stars from BPASS Isochrone\\n at solar metallicity and 10**8.2 years age\")\n",
    "plt.gca().invert_yaxis()\n",
    "plt.legend()"
   ]
  },
  {
   "cell_type": "markdown",
   "metadata": {},
   "source": [
    "**Finding stars with the flat  M_V magnitudes.** This includes looking at the insides of a primary star table"
   ]
  },
  {
   "cell_type": "code",
   "execution_count": 26,
   "metadata": {},
   "outputs": [
    {
     "data": {
      "text/html": [
       "&lt;Column name=&apos;phase&apos; dtype=&apos;float64&apos; length=2&gt;\n",
       "<table>\n",
       "<tr><td>5.0</td></tr>\n",
       "<tr><td>101.0</td></tr>\n",
       "</table>"
      ],
      "text/plain": [
       "<Column name='phase' dtype='float64' length=2>\n",
       "  5.0\n",
       "101.0"
      ]
     },
     "execution_count": 26,
     "metadata": {},
     "output_type": "execute_result"
    }
   ],
   "source": [
    "np.unique(iso1.primaries[np.where(iso1.primaries['m_ubv_V'] -\n",
    "                                  np.log10(2000 / 10) > 15.0)]['phase'])"
   ]
  },
  {
   "cell_type": "code",
   "execution_count": 27,
   "metadata": {},
   "outputs": [
    {
     "data": {
      "text/html": [
       "<i>Table length=177</i>\n",
       "<table id=\"table140317141148240\" class=\"table-striped table-bordered table-condensed\">\n",
       "<thead><tr><th>mass</th><th>L</th><th>Teff</th><th>R</th><th>logg</th><th>isWR</th><th>mass_current</th><th>phase</th><th>source</th><th>m_ubv_U</th><th>m_ubv_V</th><th>m_ubv_B</th><th>m_ubv_R</th><th>m_ubv_I</th></tr></thead>\n",
       "<thead><tr><th>solMass</th><th>W</th><th>K</th><th>m</th><th></th><th></th><th>solMass</th><th></th><th></th><th></th><th></th><th></th><th></th><th></th></tr></thead>\n",
       "<thead><tr><th>float64</th><th>float64</th><th>float64</th><th>float64</th><th>float64</th><th>bool</th><th>float64</th><th>float64</th><th>int64</th><th>float64</th><th>float64</th><th>float64</th><th>float64</th><th>float64</th></tr></thead>\n",
       "<tr><td>1.4</td><td>2.6668705105418817e+23</td><td>2738.7349246249955</td><td>81562431.48962052</td><td>4.648933553569084</td><td>False</td><td>1.625047</td><td>5.0</td><td>3</td><td>30.736724716886705</td><td>28.30405302541776</td><td>29.5903811962742</td><td>26.89041963759546</td><td>23.585313231822646</td></tr>\n",
       "<tr><td>0.398107</td><td>2.6668705105418817e+23</td><td>2738.7349246249955</td><td>81562431.48962052</td><td>4.041574446625068</td><td>False</td><td>0.4013348</td><td>5.0</td><td>4</td><td>30.04258249794139</td><td>28.2985697984943</td><td>29.298820759361202</td><td>26.97921265339729</td><td>23.631401519338752</td></tr>\n",
       "<tr><td>0.398107</td><td>2.6668705105418817e+23</td><td>2738.7349246249955</td><td>81562431.48962052</td><td>4.038067441246554</td><td>False</td><td>0.398107</td><td>5.0</td><td>3</td><td>30.039500251880984</td><td>28.29870157637484</td><td>29.297393942937315</td><td>26.98022805998262</td><td>23.631908766863493</td></tr>\n",
       "<tr><td>3.16228</td><td>2.6668705105418817e+23</td><td>2738.7349246249955</td><td>81562431.48962052</td><td>4.938067948646069</td><td>False</td><td>3.16228</td><td>5.0</td><td>4</td><td>31.239494100070647</td><td>28.349261675092254</td><td>29.781659486302917</td><td>26.964719299904743</td><td>23.621658438647714</td></tr>\n",
       "<tr><td>0.398107</td><td>2.6668705105418817e+23</td><td>2738.7349246249955</td><td>81562431.48962052</td><td>4.038067441246554</td><td>False</td><td>0.398107</td><td>5.0</td><td>4</td><td>30.039500251880984</td><td>28.29870157637484</td><td>29.297393942937315</td><td>26.98022805998262</td><td>23.631908766863493</td></tr>\n",
       "<tr><td>0.501187</td><td>2.6668705105418817e+23</td><td>2738.7349246249955</td><td>81562431.48962052</td><td>4.138067424857716</td><td>False</td><td>0.501187</td><td>5.0</td><td>4</td><td>30.131014518068916</td><td>28.294950275530553</td><td>29.33883279107293</td><td>26.951640537441417</td><td>23.617537092071686</td></tr>\n",
       "<tr><td>0.501187</td><td>2.6668705105418817e+23</td><td>2738.7349246249955</td><td>81562431.48962052</td><td>4.138067424857716</td><td>False</td><td>0.501187</td><td>5.0</td><td>4</td><td>30.131014518068916</td><td>28.294950275530553</td><td>29.33883279107293</td><td>26.951640537441417</td><td>23.617537092071686</td></tr>\n",
       "<tr><td>3.16228</td><td>2.6668705105418817e+23</td><td>2738.7349246249955</td><td>81562431.48962052</td><td>4.938067948646069</td><td>False</td><td>3.16228</td><td>5.0</td><td>4</td><td>31.239494100070647</td><td>28.349261675092254</td><td>29.781659486302917</td><td>26.964719299904743</td><td>23.621658438647714</td></tr>\n",
       "<tr><td>1.0</td><td>2.6668705105418817e+23</td><td>2738.7349246249955</td><td>81562431.48962052</td><td>4.438067627303133</td><td>False</td><td>1.0</td><td>5.0</td><td>4</td><td>30.463563251679957</td><td>28.283773508498452</td><td>29.473578151700202</td><td>26.87013446024877</td><td>23.57552936322022</td></tr>\n",
       "<tr><td>...</td><td>...</td><td>...</td><td>...</td><td>...</td><td>...</td><td>...</td><td>...</td><td>...</td><td>...</td><td>...</td><td>...</td><td>...</td><td>...</td></tr>\n",
       "<tr><td>3.16228</td><td>2.6668705105418817e+23</td><td>2738.7349246249955</td><td>81562431.48962052</td><td>4.938067948646069</td><td>False</td><td>3.16228</td><td>5.0</td><td>4</td><td>31.239494100070647</td><td>28.349261675092254</td><td>29.781659486302917</td><td>26.964719299904743</td><td>23.621658438647714</td></tr>\n",
       "<tr><td>0.630957</td><td>2.6668705105418817e+23</td><td>2738.7349246249955</td><td>81562431.48962052</td><td>4.266478022815469</td><td>False</td><td>0.6736129</td><td>5.0</td><td>3</td><td>30.261115809005986</td><td>28.290152136709096</td><td>29.394474907635665</td><td>26.916001562193678</td><td>23.599357000580635</td></tr>\n",
       "<tr><td>0.501187</td><td>2.6668705105418817e+23</td><td>2738.7349246249955</td><td>81562431.48962052</td><td>4.138067424857716</td><td>False</td><td>0.501187</td><td>5.0</td><td>4</td><td>30.131014518068916</td><td>28.294950275530553</td><td>29.33883279107293</td><td>26.951640537441417</td><td>23.617537092071686</td></tr>\n",
       "<tr><td>2.51189</td><td>2.6668705105418817e+23</td><td>2738.7349246249955</td><td>81562431.48962052</td><td>4.8398356118570485</td><td>False</td><td>2.522133</td><td>5.0</td><td>4</td><td>31.041459110267983</td><td>28.333690143623397</td><td>29.712826252623216</td><td>26.938901899130492</td><td>23.609173345996595</td></tr>\n",
       "<tr><td>0.794328</td><td>2.6668705105418817e+23</td><td>2738.7349246249955</td><td>81562431.48962052</td><td>4.338067498968938</td><td>False</td><td>0.794328</td><td>5.0</td><td>4</td><td>30.341043535864674</td><td>28.28748633046729</td><td>29.426780144785457</td><td>26.896629093328844</td><td>23.589352142607936</td></tr>\n",
       "<tr><td>1.0</td><td>2.6668705105418817e+23</td><td>2738.7349246249955</td><td>81562431.48962052</td><td>4.438067627303133</td><td>False</td><td>1.0</td><td>5.0</td><td>4</td><td>30.463563251679957</td><td>28.283773508498452</td><td>29.473578151700202</td><td>26.87013446024877</td><td>23.57552936322022</td></tr>\n",
       "<tr><td>2.51189</td><td>2.6668705105418817e+23</td><td>2738.7349246249955</td><td>81562431.48962052</td><td>4.838068244279513</td><td>False</td><td>2.51189</td><td>5.0</td><td>4</td><td>31.038207049773376</td><td>28.333412020225943</td><td>29.711626927929466</td><td>26.93844297606229</td><td>23.608950027401207</td></tr>\n",
       "<tr><td>3.16228</td><td>2.6668705105418817e+23</td><td>2738.7349246249955</td><td>81562431.48962052</td><td>4.938067948646069</td><td>False</td><td>3.16228</td><td>5.0</td><td>4</td><td>31.239494100070647</td><td>28.349261675092254</td><td>29.781659486302917</td><td>26.964719299904743</td><td>23.621658438647714</td></tr>\n",
       "<tr><td>1.25893</td><td>2.6668705105418817e+23</td><td>2738.7349246249955</td><td>81562431.48962052</td><td>4.538069210104485</td><td>False</td><td>1.25893</td><td>5.0</td><td>4</td><td>30.592445089066217</td><td>28.2872057568269</td><td>29.525135894939623</td><td>26.863226841417717</td><td>23.571693650767493</td></tr>\n",
       "<tr><td>3.16228</td><td>2.6668705105418817e+23</td><td>2738.7349246249955</td><td>81562431.48962052</td><td>4.938082643335787</td><td>False</td><td>3.162387</td><td>5.0</td><td>4</td><td>31.23952659856364</td><td>28.349264021242227</td><td>29.781670116605316</td><td>26.9647232082503</td><td>23.62166031708847</td></tr>\n",
       "</table>"
      ],
      "text/plain": [
       "<Table length=177>\n",
       "  mass             L            ...      m_ubv_R            m_ubv_I      \n",
       "solMass            W            ...                                      \n",
       "float64         float64         ...      float64            float64      \n",
       "-------- ---------------------- ... ------------------ ------------------\n",
       "     1.4 2.6668705105418817e+23 ...  26.89041963759546 23.585313231822646\n",
       "0.398107 2.6668705105418817e+23 ...  26.97921265339729 23.631401519338752\n",
       "0.398107 2.6668705105418817e+23 ...  26.98022805998262 23.631908766863493\n",
       " 3.16228 2.6668705105418817e+23 ... 26.964719299904743 23.621658438647714\n",
       "0.398107 2.6668705105418817e+23 ...  26.98022805998262 23.631908766863493\n",
       "0.501187 2.6668705105418817e+23 ... 26.951640537441417 23.617537092071686\n",
       "0.501187 2.6668705105418817e+23 ... 26.951640537441417 23.617537092071686\n",
       " 3.16228 2.6668705105418817e+23 ... 26.964719299904743 23.621658438647714\n",
       "     1.0 2.6668705105418817e+23 ...  26.87013446024877  23.57552936322022\n",
       "     ...                    ... ...                ...                ...\n",
       " 3.16228 2.6668705105418817e+23 ... 26.964719299904743 23.621658438647714\n",
       "0.630957 2.6668705105418817e+23 ... 26.916001562193678 23.599357000580635\n",
       "0.501187 2.6668705105418817e+23 ... 26.951640537441417 23.617537092071686\n",
       " 2.51189 2.6668705105418817e+23 ... 26.938901899130492 23.609173345996595\n",
       "0.794328 2.6668705105418817e+23 ... 26.896629093328844 23.589352142607936\n",
       "     1.0 2.6668705105418817e+23 ...  26.87013446024877  23.57552936322022\n",
       " 2.51189 2.6668705105418817e+23 ...  26.93844297606229 23.608950027401207\n",
       " 3.16228 2.6668705105418817e+23 ... 26.964719299904743 23.621658438647714\n",
       " 1.25893 2.6668705105418817e+23 ... 26.863226841417717 23.571693650767493\n",
       " 3.16228 2.6668705105418817e+23 ...   26.9647232082503  23.62166031708847"
      ]
     },
     "execution_count": 27,
     "metadata": {},
     "output_type": "execute_result"
    }
   ],
   "source": [
    "iso1.primaries[np.where((iso1.primaries['m_ubv_V'] - 10 >  15.0) &\n",
    "                        (iso1.primaries['phase'] == 5))]"
   ]
  },
  {
   "cell_type": "code",
   "execution_count": 28,
   "metadata": {},
   "outputs": [
    {
     "data": {
      "text/plain": [
       "-1.4943756354369313"
      ]
     },
     "execution_count": 28,
     "metadata": {},
     "output_type": "execute_result"
    }
   ],
   "source": [
    "np.min(([x - 10 for x in iso1.secondaries[\"m_ubv_V\"] if np.isfinite(x)]))"
   ]
  },
  {
   "cell_type": "markdown",
   "metadata": {},
   "source": [
    "Plotting the HR Diagram of the Isochrones"
   ]
  },
  {
   "cell_type": "code",
   "execution_count": 29,
   "metadata": {},
   "outputs": [
    {
     "data": {
      "text/plain": [
       "<matplotlib.legend.Legend at 0x7f9e21525850>"
      ]
     },
     "execution_count": 29,
     "metadata": {},
     "output_type": "execute_result"
    },
    {
     "data": {
      "image/png": "[encoded data removed]",
      "text/plain": [
       "<Figure size 432x288 with 1 Axes>"
      ]
     },
     "metadata": {
      "needs_background": "light"
     },
     "output_type": "display_data"
    }
   ],
   "source": [
    "import matplotlib.pyplot as plt\n",
    "plt.plot(np.log10(iso1.primaries['Teff']), np.log10(iso1.primaries[\"L\"]), \"r.\")\n",
    "plt.plot(np.log10(iso1.secondaries['Teff']), np.log10(iso1.secondaries[\"L\"]), \"r.\")\n",
    "plt.plot(np.log10(iso1.singles['Teff']), np.log10(iso1.singles[\"L\"]),\n",
    "         \"r.\", label=\"BPASS isochrone\")\n",
    "plt.plot(np.log10(iso2.points['Teff']), np.log10(iso2.points[\"L\"]),\n",
    "         \"b+\", label=\"MISTv1\", alpha=0.25)\n",
    "plt.xlabel(\"log10(T in kelvin)\")\n",
    "plt.ylabel(\"log10(L in watts)\")\n",
    "plt.title(\"HR Diagram of Isochrones at solar metallicity and 10**8.2 years age\")\n",
    "plt.gca().invert_xaxis()\n",
    "plt.legend()\n",
    "# Rough pattern seems to fit. What's that line?"
   ]
  },
  {
   "cell_type": "markdown",
   "metadata": {},
   "source": [
    "Compare this to the HR diagram of the Hoki cluster (Salpeter IMF, log-age of 8.2)"
   ]
  },
  {
   "cell_type": "code",
   "execution_count": 30,
   "metadata": {},
   "outputs": [],
   "source": [
    "from hoki import load\n",
    "import hoki\n",
    "to_dat_file_pt1 = (\"/u/ryotainagaki/Desktop/\" +\n",
    "                   \"ryotainagaki/BPASS/bpass_v2.2.1_imf135_300/\" +\n",
    "                   \"hrs-bin-imf135_300.z020.dat\")\n",
    "\n",
    "bin_hr_diagram = load.model_output(to_dat_file_pt1,\n",
    "                                   hr_type = 'TL')"
   ]
  },
  {
   "cell_type": "code",
   "execution_count": 31,
   "metadata": {},
   "outputs": [
    {
     "name": "stderr",
     "output_type": "stream",
     "text": [
      "/g/lu/scratch/ryotainagaki/hoki/hoki/hrdiagrams.py:435: MatplotlibDeprecationWarning: You are modifying the state of a globally registered colormap. This has been deprecated since 3.3 and in 3.6, you will not be able to modify a registered colormap in-place. To remove this warning, you can make a copy of the colormap first. cmap = mpl.cm.get_cmap(\"Greys\").copy()\n",
      "  colMap.set_under(color='white')\n"
     ]
    },
    {
     "data": {
      "text/plain": [
       "<matplotlib.legend.Legend at 0x7f9e4212fc10>"
      ]
     },
     "execution_count": 31,
     "metadata": {},
     "output_type": "execute_result"
    },
    {
     "data": {
      "image/png": "[encoded data removed]",
      "text/plain": [
       "<Figure size 432x288 with 1 Axes>"
      ]
     },
     "metadata": {
      "needs_background": "light"
     },
     "output_type": "display_data"
    }
   ],
   "source": [
    "import matplotlib.pyplot as plt\n",
    "import astropy.constants as cs\n",
    "plt.plot(np.log10(iso1.primaries['Teff']), np.log10(iso1.primaries[\"L\"]/cs.L_sun), \"r.\")\n",
    "plt.plot(np.log10(iso1.secondaries['Teff']), np.log10(iso1.secondaries[\"L\"]/cs.L_sun), \"r.\")\n",
    "plt.plot(np.log10(iso1.singles['Teff']), np.log10(iso1.singles[\"L\"]/cs.L_sun),\n",
    "         \"r.\", label=\"BPASS isochrone\")\n",
    "bin_hr_diagram.plot(log_age=8.2)\n",
    "plt.xlabel(\"log10(T in kelvin)\")\n",
    "plt.ylabel(\"log10(L in solar luminosities)\")\n",
    "plt.title(\"HR Diagram of BPASS isochrone and Hoki cluster (in gray) \\n at solar metallicity and 10**8.2 years age\")\n",
    "plt.legend()\n"
   ]
  },
  {
   "cell_type": "markdown",
   "metadata": {},
   "source": [
    "Plot the mass-luminosity relationship of the clusters (primary stars)"
   ]
  },
  {
   "cell_type": "code",
   "execution_count": 32,
   "metadata": {},
   "outputs": [
    {
     "name": "stderr",
     "output_type": "stream",
     "text": [
      "/opt/anaconda3/envs/astroconda/lib/python3.7/site-packages/ipykernel_launcher.py:4: RuntimeWarning: divide by zero encountered in log10\n",
      "  after removing the cwd from sys.path.\n",
      "/opt/anaconda3/envs/astroconda/lib/python3.7/site-packages/astropy/units/quantity.py:479: RuntimeWarning: divide by zero encountered in log10\n",
      "  result = super().__array_ufunc__(function, method, *arrays, **kwargs)\n"
     ]
    },
    {
     "data": {
      "text/plain": [
       "<matplotlib.legend.Legend at 0x7f9e62ac3690>"
      ]
     },
     "execution_count": 32,
     "metadata": {},
     "output_type": "execute_result"
    },
    {
     "data": {
      "image/png": "[encoded data removed]",
      "text/plain": [
       "<Figure size 432x288 with 1 Axes>"
      ]
     },
     "metadata": {
      "needs_background": "light"
     },
     "output_type": "display_data"
    }
   ],
   "source": [
    "from astropy import constants as cs\n",
    "from astropy import units as u\n",
    "import matplotlib.pyplot as plt\n",
    "plt.plot(np.log10(clus_1.star_systems['mass_current']),\n",
    "         np.log10(clus_1.star_systems[\"L\"] / cs.L_sun),\n",
    "         \"r.\", label=\"Cluster_w_Binaries made from BPASS \", alpha =1)\n",
    "plt.plot(np.log10(clus_2.star_systems['mass_current']),\n",
    "         np.log10(clus_2.star_systems[\"L\"] / (cs.L_sun * 1 / u.W)),\n",
    "         \"b+\", label=\"Cluster made from MISTv.1\", alpha=0.1)\n",
    "plt.xlabel(\"log10(Current Mass in solar masses)\")\n",
    "plt.ylabel(\"log10(L/L_solar)\")\n",
    "plt.title(\"log-Mass-logL of Cluster at solar metallicity and\" +\n",
    "          \" 10**8.2 years age (primaries and singles)\")\n",
    "plt.legend()\n",
    "# Rough pattern seems to fit. What's that line?"
   ]
  },
  {
   "cell_type": "markdown",
   "metadata": {},
   "source": [
    "Plot the mass-luminosity relationship of the isochrone"
   ]
  },
  {
   "cell_type": "code",
   "execution_count": 33,
   "metadata": {},
   "outputs": [
    {
     "data": {
      "text/plain": [
       "<matplotlib.legend.Legend at 0x7f9e71544d50>"
      ]
     },
     "execution_count": 33,
     "metadata": {},
     "output_type": "execute_result"
    },
    {
     "data": {
      "image/png": "[encoded data removed]",
      "text/plain": [
       "<Figure size 432x288 with 1 Axes>"
      ]
     },
     "metadata": {
      "needs_background": "light"
     },
     "output_type": "display_data"
    }
   ],
   "source": [
    "# Plot the mass-luminosity relationship\n",
    "from astropy import constants as cs\n",
    "import matplotlib.pyplot as plt\n",
    "plt.plot(np.log10(iso1.primaries['mass_current']),\n",
    "         np.log10(iso1.primaries[\"L\"] / cs.L_sun), \"r.\")\n",
    "plt.plot(np.log10(iso1.secondaries['mass_current']),\n",
    "         np.log10(iso1.secondaries[\"L\"] / cs.L_sun), \"r.\")\n",
    "plt.plot(np.log10(iso1.singles['mass_current']),\n",
    "         np.log10(iso1.singles[\"L\"] / cs.L_sun), \"r.\", label=\"BPASS isochrone\")\n",
    "plt.plot(np.log10(iso2.points['mass_current']),\n",
    "         np.log10(iso2.points[\"L\"] / cs.L_sun), \"b+\", label=\"MISTv1\", alpha=0.25)\n",
    "plt.xlabel(\"log10(Current Mass in solar masses)\")\n",
    "plt.ylabel(\"log10(L/L_solar)\")\n",
    "plt.title(\"log Mass-logL of Isochrones at solar metallicity and 10**8.2 years age\")\n",
    "plt.legend()\n",
    "# Rough pattern seems to fit. What's that line?"
   ]
  },
  {
   "cell_type": "markdown",
   "metadata": {},
   "source": [
    "Examining the phases of primary stars that have luminosities of less than L_sun * 1/sqrt(2)"
   ]
  },
  {
   "cell_type": "code",
   "execution_count": 34,
   "metadata": {},
   "outputs": [
    {
     "name": "stderr",
     "output_type": "stream",
     "text": [
      "/opt/anaconda3/envs/astroconda/lib/python3.7/site-packages/astropy/units/quantity.py:479: RuntimeWarning: divide by zero encountered in log10\n",
      "  result = super().__array_ufunc__(function, method, *arrays, **kwargs)\n"
     ]
    },
    {
     "data": {
      "text/html": [
       "&lt;Column name=&apos;phase&apos; dtype=&apos;float64&apos; length=2&gt;\n",
       "<table>\n",
       "<tr><td>5.0</td></tr>\n",
       "<tr><td>101.0</td></tr>\n",
       "</table>"
      ],
      "text/plain": [
       "<Column name='phase' dtype='float64' length=2>\n",
       "  5.0\n",
       "101.0"
      ]
     },
     "execution_count": 34,
     "metadata": {},
     "output_type": "execute_result"
    }
   ],
   "source": [
    "np.unique(clus_1.star_systems[np.where(np.log10(clus_1.star_systems['L'] / cs.L_sun) < -0.5)]['phase'])"
   ]
  },
  {
   "cell_type": "markdown",
   "metadata": {},
   "source": [
    "Sanity check no phase 0 stars."
   ]
  },
  {
   "cell_type": "code",
   "execution_count": 35,
   "metadata": {},
   "outputs": [
    {
     "data": {
      "text/html": [
       "<i>Table length=0</i>\n",
       "<table id=\"table140317939370704\" class=\"table-striped table-bordered table-condensed\">\n",
       "<thead><tr><th>mass</th><th>systemMass</th><th>Teff</th><th>L</th><th>logg</th><th>isWR</th><th>mass_current</th><th>phase</th><th>metallicity</th><th>isMultiple</th><th>merged</th><th>m_ubv_U</th><th>m_ubv_V</th><th>m_ubv_B</th><th>m_ubv_R</th><th>m_ubv_I</th></tr></thead>\n",
       "<thead><tr><th>solMass</th><th>solMass</th><th>K</th><th>W</th><th></th><th></th><th>solMass</th><th></th><th></th><th></th><th></th><th></th><th></th><th></th><th></th><th></th></tr></thead>\n",
       "<thead><tr><th>float64</th><th>float64</th><th>float64</th><th>float64</th><th>float64</th><th>bool</th><th>float64</th><th>float64</th><th>float64</th><th>bool</th><th>bool</th><th>float64</th><th>float64</th><th>float64</th><th>float64</th><th>float64</th></tr></thead>\n",
       "</table>"
      ],
      "text/plain": [
       "<Table length=0>\n",
       "  mass  systemMass   Teff     L      logg  ... m_ubv_V m_ubv_B m_ubv_R m_ubv_I\n",
       "solMass  solMass      K       W            ...                                \n",
       "float64  float64   float64 float64 float64 ... float64 float64 float64 float64\n",
       "------- ---------- ------- ------- ------- ... ------- ------- ------- -------"
      ]
     },
     "execution_count": 35,
     "metadata": {},
     "output_type": "execute_result"
    }
   ],
   "source": [
    "clus_1.star_systems[np.where(clus_1.star_systems['phase']==0)]"
   ]
  },
  {
   "cell_type": "markdown",
   "metadata": {},
   "source": [
    "Taking a look at the BPASS Cluster vs MIST cluster Observer's HR Diagram\n",
    "Remember to use a distance modulus!"
   ]
  },
  {
   "cell_type": "code",
   "execution_count": 36,
   "metadata": {},
   "outputs": [
    {
     "data": {
      "text/plain": [
       "<matplotlib.legend.Legend at 0x7f9e50eaa590>"
      ]
     },
     "execution_count": 36,
     "metadata": {},
     "output_type": "execute_result"
    },
    {
     "data": {
      "image/png": "[encoded data removed]",
      "text/plain": [
       "<Figure size 432x288 with 1 Axes>"
      ]
     },
     "metadata": {
      "needs_background": "light"
     },
     "output_type": "display_data"
    }
   ],
   "source": [
    "# Taking a look at the BPASS Cluster vs MIST cluster Observer's HR Diagram\n",
    "# Remember to use a distance modulus!\n",
    "import matplotlib.pyplot as plt\n",
    "plt.plot(clus_1.star_systems['m_ubv_B'] - clus_1.star_systems[\"m_ubv_V\"],\n",
    "         clus_1.star_systems[\"m_ubv_V\"] - 5 * np.log10(200), \"r.\",label=\"BPASS\")\n",
    "plt.plot(clus_2.star_systems['m_ubv_B'] - clus_2.star_systems[\"m_ubv_V\"],\n",
    "         clus_2.star_systems[\"m_ubv_V\"] - 5 * np.log10(200), \"b+\",\n",
    "         label=\"MISTv1\", alpha=0.2)\n",
    "plt.xlabel(\"B-V\")\n",
    "plt.ylabel(\"M_V\")\n",
    "plt.title(\"Color magnitude Diagram of clusters at solar metallicity and 10**8.2 years age\")\n",
    "plt.gca().invert_yaxis()\n",
    "plt.legend()"
   ]
  },
  {
   "cell_type": "markdown",
   "metadata": {},
   "source": [
    "One thing to note about the Cluster_w_Binaries is that it does include the units as information for columns.\n",
    "The usual ResolvedCluster does not. Thus the latter has a disadvantage when we do comparisons with solar luminosity.\n",
    "\n",
    "In any case let's compare the actual masses of the cluster"
   ]
  },
  {
   "cell_type": "code",
   "execution_count": 37,
   "metadata": {},
   "outputs": [
    {
     "data": {
      "text/plain": [
       "1883.874737179108"
      ]
     },
     "execution_count": 37,
     "metadata": {},
     "output_type": "execute_result"
    }
   ],
   "source": [
    "np.sum(clus_1.star_systems['systemMass'])"
   ]
  },
  {
   "cell_type": "code",
   "execution_count": 38,
   "metadata": {},
   "outputs": [
    {
     "data": {
      "text/plain": [
       "2000.5994654651365"
      ]
     },
     "execution_count": 38,
     "metadata": {},
     "output_type": "execute_result"
    }
   ],
   "source": [
    "np.sum(clus_2.star_systems['systemMass'])"
   ]
  }
 ],
 "metadata": {
  "kernelspec": {
   "display_name": "astroconda",
   "language": "python",
   "name": "astroconda"
  },
  "language_info": {
   "codemirror_mode": {
    "name": "ipython",
    "version": 3
   },
   "file_extension": ".py",
   "mimetype": "text/x-python",
   "name": "python",
   "nbconvert_exporter": "python",
   "pygments_lexer": "ipython3",
   "version": "3.7.10"
  }
 },
 "nbformat": 4,
 "nbformat_minor": 4
}
