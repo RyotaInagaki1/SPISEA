{
 "cells": [
  {
   "cell_type": "markdown",
   "metadata": {},
   "source": [
    "## Testing the BPASS isochrone at 10^8.2 years age. (Unresolved Multiplicity (Lu et al. 2013))\n",
    "In this BPASS isochrone and cluster plot, I go over the BPASS isochrone for 1 billion years age, solar metallicity, AKs=0.5, and distance of 2000 parsecs from Earth. From the isochrone and cluster, we discuss several plots such as the log_g frequency distribution of the isochrone, the color magnitude diagram (B-V vs M_V), and the mass luminosity relationshi of the cluster. \n",
    "\n",
    "\n",
    "Other notes:\n",
    "\n",
    "I have chosen dist to cluster = 2000 pc to further distinguish this notebook from the other 10^8.2 year old isochrone Notebook.\n",
    "**As the title indicates, I have decided to use unresolved multiplicity in my BPASS and MISTv.1 clusters.**"
   ]
  },
  {
   "cell_type": "code",
   "execution_count": 1,
   "metadata": {},
   "outputs": [
    {
     "name": "stderr",
     "output_type": "stream",
     "text": [
      "/opt/anaconda3/envs/astroconda/lib/python3.7/site-packages/pysynphot/locations.py:345: UserWarning: Extinction files not found in /g/lu/models/cdbs/extinction\n",
      "  warnings.warn('Extinction files not found in %s' % (extdir, ))\n",
      "/opt/anaconda3/envs/astroconda/lib/python3.7/site-packages/pysynphot/refs.py:125: UserWarning: No thermal tables found, no thermal calculations can be performed. No files found for /g/lu/models/cdbs/mtab/*_tmt.fits\n",
      "  'no thermal calculations can be performed. ' + str(e))\n",
      "/opt/anaconda3/envs/astroconda/lib/python3.7/site-packages/astropy/units/quantity.py:479: RuntimeWarning: invalid value encountered in true_divide\n",
      "  result = super().__array_ufunc__(function, method, *arrays, **kwargs)\n",
      "/u/ryotainagaki/Desktop/PyPopStar/spisea/evolution.py:1792: RuntimeWarning: overflow encountered in power\n",
      "  (1 / cs.au) * un.m)\n",
      "/opt/anaconda3/envs/astroconda/lib/python3.7/site-packages/astropy/units/quantity.py:479: RuntimeWarning: divide by zero encountered in true_divide\n",
      "  result = super().__array_ufunc__(function, method, *arrays, **kwargs)\n",
      "/opt/anaconda3/envs/astroconda/lib/python3.7/site-packages/astropy/units/quantity.py:479: RuntimeWarning: invalid value encountered in true_divide\n",
      "  result = super().__array_ufunc__(function, method, *arrays, **kwargs)\n"
     ]
    },
    {
     "name": "stdout",
     "output_type": "stream",
     "text": [
      "Changing to T= 50000 for T= 52330 logg=8.47\n",
      "Changing to logg=5.00 for T= 52330 logg=8.47\n",
      "Changing to logg=5.00 for T= 44758 logg=8.49\n",
      "Changing to logg=5.00 for T= 36146 logg=8.54\n",
      "Changing to logg=5.00 for T= 38774 logg=8.52\n",
      "Changing to logg=5.00 for T= 38361 logg=8.50\n",
      "Changing to T= 50000 for T= 73161 logg=8.45\n",
      "Changing to logg=5.00 for T= 73161 logg=8.45\n",
      "Changing to logg=5.00 for T= 37966 logg=5.70\n",
      "Changing to logg=5.00 for T= 39842 logg=5.51\n",
      "Changing to logg=5.00 for T= 32888 logg=5.68\n",
      "Changing to logg=5.00 for T= 45669 logg=8.52\n",
      "Changing to logg=5.00 for T= 35701 logg=8.52\n",
      "Changing to logg=5.00 for T= 37547 logg=5.70\n",
      "Changing to logg=5.00 for T= 45668 logg=8.52\n",
      "Changing to logg=5.00 for T= 38750 logg=8.52\n",
      "Changing to logg=5.00 for T= 38750 logg=8.52\n",
      "Changing to logg=5.00 for T= 42302 logg=8.53\n",
      "Changing to logg=5.00 for T= 38974 logg=5.38\n",
      "Changing to logg=5.00 for T= 38750 logg=8.52\n",
      "Changing to logg=5.00 for T= 38750 logg=8.52\n",
      "Changing to logg=5.00 for T= 38750 logg=8.52\n",
      "Changing to logg=5.00 for T= 35701 logg=8.52\n",
      "Changing to logg=5.00 for T= 39110 logg=5.45\n",
      "Changing to logg=5.00 for T= 38030 logg=5.34\n",
      "Changing to logg=5.00 for T= 35710 logg=8.52\n",
      "Changing to logg=5.00 for T= 39081 logg=5.47\n",
      "Changing to logg=5.00 for T= 38750 logg=8.52\n",
      "Changing to logg=5.00 for T= 38681 logg=5.49\n",
      "Changing to logg=5.00 for T= 39333 logg=5.52\n",
      "Changing to logg=5.00 for T= 37796 logg=5.52\n",
      "Changing to logg=5.00 for T= 39001 logg=5.46\n",
      "Changing to logg=5.00 for T= 38750 logg=8.52\n",
      "Changing to logg=5.00 for T= 39098 logg=5.41\n",
      "Changing to logg=5.00 for T= 39018 logg=5.53\n",
      "Changing to logg=5.00 for T= 45668 logg=8.52\n",
      "Changing to logg=5.00 for T= 34722 logg=5.55\n",
      "Changing to logg=5.00 for T= 38750 logg=8.52\n",
      "Changing to logg=5.00 for T= 38750 logg=8.52\n",
      "Changing to logg=5.00 for T= 37968 logg=5.42\n",
      "Changing to logg=5.00 for T= 39042 logg=5.41\n",
      "Changing to logg=5.00 for T= 39090 logg=5.47\n",
      "Changing to logg=5.00 for T= 47516 logg=9.02\n",
      "Changing to logg=5.00 for T= 38778 logg=5.38\n",
      "Changing to logg=5.00 for T= 43455 logg=8.58\n",
      "Changing to logg=5.00 for T= 38810 logg=5.36\n",
      "Changing to logg=5.00 for T= 38750 logg=8.52\n",
      "Changing to logg=5.00 for T= 32931 logg=5.73\n",
      "Changing to logg=5.00 for T= 38750 logg=8.52\n",
      "Changing to logg=5.00 for T= 38750 logg=8.52\n",
      "Changing to logg=5.00 for T= 38008 logg=5.41\n",
      "Changing to logg=5.00 for T= 42300 logg=8.53\n",
      "Changing to logg=5.00 for T= 38543 logg=5.67\n",
      "Changing to logg=5.00 for T= 35665 logg=8.52\n",
      "Changing to logg=5.00 for T= 38216 logg=5.28\n",
      "Changing to logg=5.00 for T= 35040 logg=8.49\n",
      "Changing to logg=5.00 for T= 38912 logg=5.40\n",
      "Changing to logg=5.00 for T= 42300 logg=8.53\n",
      "Changing to logg=5.00 for T= 42302 logg=8.53\n",
      "Changing to logg=5.00 for T= 38750 logg=8.52\n",
      "Changing to logg=5.00 for T= 35759 logg=5.48\n",
      "Changing to logg=5.00 for T= 35776 logg=8.52\n",
      "Changing to logg=5.00 for T= 38750 logg=8.52\n",
      "Changing to logg=5.00 for T= 43455 logg=8.58\n",
      "Changing to logg=5.00 for T= 37645 logg=8.47\n",
      "Changing to logg=5.00 for T= 37474 logg=5.67\n",
      "Changing to logg=5.00 for T= 38750 logg=8.52\n",
      "Changing to logg=5.00 for T= 42302 logg=8.53\n",
      "Changing to logg=5.00 for T= 38938 logg=5.41\n",
      "Changing to logg=5.00 for T= 42302 logg=8.53\n",
      "Changing to logg=5.00 for T= 38864 logg=5.34\n",
      "Changing to logg=5.00 for T= 38164 logg=5.31\n",
      "Changing to logg=5.00 for T= 38750 logg=8.52\n",
      "Changing to logg=5.00 for T= 39126 logg=5.42\n",
      "Changing to logg=5.00 for T= 38750 logg=8.52\n",
      "Changing to logg=5.00 for T= 45739 logg=8.21\n",
      "Changing to logg=5.00 for T= 42302 logg=8.53\n",
      "Changing to logg=5.00 for T= 35706 logg=8.52\n",
      "Changing to logg=5.00 for T= 38268 logg=5.57\n",
      "Changing to logg=5.00 for T= 38750 logg=8.52\n",
      "Changing to logg=5.00 for T= 42300 logg=8.53\n",
      "Changing to logg=5.00 for T= 35714 logg=8.52\n",
      "Changing to logg=5.00 for T= 38750 logg=8.52\n",
      "Changing to logg=5.00 for T= 35715 logg=8.52\n",
      "Changing to logg=4.50 for T= 39634 logg=4.15\n",
      "Changing to logg=5.00 for T= 40536 logg=5.52\n",
      "Changing to logg=5.00 for T= 34113 logg=5.11\n",
      "Changing to logg=5.00 for T= 38750 logg=8.52\n",
      "Changing to logg=5.00 for T= 40751 logg=8.18\n",
      "Changing to logg=5.00 for T= 42300 logg=8.53\n",
      "Changing to logg=5.00 for T= 43455 logg=8.58\n",
      "Changing to logg=5.00 for T= 38868 logg=5.45\n",
      "Changing to logg=5.00 for T= 35519 logg=8.51\n",
      "Changing to logg=5.00 for T= 39136 logg=5.47\n",
      "Changing to logg=5.00 for T= 39036 logg=5.38\n",
      "Changing to logg=5.00 for T= 38750 logg=8.52\n",
      "Changing to logg=5.00 for T= 38750 logg=8.52\n",
      "Changing to logg=5.00 for T= 33207 logg=5.01\n",
      "Changing to logg=5.00 for T= 42302 logg=8.53\n",
      "Changing to logg=5.00 for T= 38863 logg=5.61\n",
      "Changing to logg=5.00 for T= 38750 logg=8.52\n",
      "Changing to logg=5.00 for T= 45954 logg=8.68\n",
      "Changing to logg=5.00 for T= 45668 logg=8.52\n",
      "Changing to logg=5.00 for T= 38886 logg=5.50\n",
      "Changing to logg=5.00 for T= 39074 logg=5.38\n",
      "Changing to logg=5.00 for T= 42300 logg=8.53\n",
      "Changing to logg=5.00 for T= 38499 logg=5.32\n",
      "Changing to logg=5.00 for T= 42302 logg=8.53\n",
      "Changing to logg=5.00 for T= 39105 logg=5.40\n",
      "Changing to logg=5.00 for T= 38901 logg=5.40\n",
      "Changing to logg=5.00 for T= 38260 logg=5.41\n",
      "Changing to logg=5.00 for T= 42302 logg=8.53\n",
      "Changing to logg=5.00 for T= 38820 logg=5.38\n",
      "Changing to logg=5.00 for T= 39086 logg=5.37\n",
      "Changing to logg=5.00 for T= 45668 logg=8.52\n",
      "Changing to logg=5.00 for T= 38750 logg=8.52\n",
      "Changing to logg=5.00 for T= 38750 logg=8.52\n",
      "Changing to logg=5.00 for T= 42302 logg=8.53\n",
      "Changing to logg=5.00 for T= 38750 logg=8.52\n",
      "Changing to logg=5.00 for T= 38750 logg=8.52\n",
      "Changing to logg=5.00 for T= 37638 logg=5.66\n",
      "Changing to logg=5.00 for T= 42302 logg=8.53\n",
      "Changing to logg=5.00 for T= 45669 logg=8.52\n",
      "Changing to logg=5.00 for T= 35706 logg=5.17\n",
      "Changing to logg=5.00 for T= 41390 logg=5.50\n",
      "Changing to logg=5.00 for T= 39027 logg=5.57\n",
      "Changing to logg=5.00 for T= 40930 logg=5.50\n",
      "Changing to logg=5.00 for T= 31378 logg=8.25\n",
      "Changing to logg=5.00 for T= 35709 logg=8.52\n",
      "Changing to logg=5.00 for T= 39059 logg=5.38\n",
      "Changing to T= 50000 for T= 52469 logg=8.18\n",
      "Changing to logg=5.00 for T= 52469 logg=8.18\n",
      "Changing to logg=5.00 for T= 39097 logg=5.40\n",
      "Changing to logg=5.00 for T= 40327 logg=8.45\n",
      "Changing to logg=5.00 for T= 45668 logg=8.52\n",
      "Changing to logg=5.00 for T= 43455 logg=8.58\n",
      "Changing to logg=5.00 for T= 38866 logg=5.46\n",
      "Changing to logg=5.00 for T= 45668 logg=8.52\n",
      "Changing to logg=5.00 for T= 38750 logg=8.52\n",
      "Changing to logg=5.00 for T= 33157 logg=5.77\n",
      "Changing to logg=5.00 for T= 38750 logg=8.52\n",
      "Changing to logg=5.00 for T= 37690 logg=5.71\n",
      "Changing to logg=5.00 for T= 38205 logg=5.40\n",
      "Changing to logg=5.00 for T= 39156 logg=5.49\n",
      "Changing to logg=5.00 for T= 45669 logg=8.52\n",
      "Changing to logg=5.00 for T= 35714 logg=8.52\n",
      "Changing to logg=5.00 for T= 35722 logg=8.52\n",
      "Changing to logg=5.00 for T= 37950 logg=5.39\n",
      "Changing to logg=5.00 for T= 37640 logg=8.47\n",
      "Changing to logg=5.00 for T= 35929 logg=8.18\n",
      "Changing to logg=5.00 for T= 39474 logg=5.51\n",
      "Changing to logg=5.00 for T= 38750 logg=8.52\n",
      "Changing to logg=5.00 for T= 38750 logg=8.52\n",
      "Changing to logg=5.00 for T= 38750 logg=8.52\n",
      "Changing to logg=5.00 for T= 45669 logg=8.52\n",
      "Changing to logg=5.00 for T= 38945 logg=5.49\n",
      "Changing to logg=5.00 for T= 42302 logg=8.53\n",
      "Changing to logg=5.00 for T= 43455 logg=8.58\n",
      "Changing to logg=5.00 for T= 45668 logg=8.52\n",
      "Changing to logg=5.00 for T= 38750 logg=8.52\n",
      "Changing to logg=5.00 for T= 45668 logg=8.52\n",
      "Changing to logg=5.00 for T= 38750 logg=8.52\n",
      "Changing to logg=5.00 for T= 45668 logg=8.52\n",
      "Changing to logg=5.00 for T= 34757 logg=5.54\n",
      "Changing to logg=5.00 for T= 35710 logg=8.52\n",
      "Changing to logg=5.00 for T= 33652 logg=5.61\n",
      "Changing to logg=5.00 for T= 38750 logg=8.52\n",
      "Changing to logg=5.00 for T= 38750 logg=8.52\n",
      "Changing to logg=5.00 for T= 35715 logg=8.52\n",
      "Changing to logg=5.00 for T= 47227 logg=8.14\n",
      "Changing to logg=5.00 for T= 38030 logg=5.41\n",
      "Changing to logg=5.00 for T= 38796 logg=5.38\n",
      "Changing to logg=5.00 for T= 38530 logg=5.55\n",
      "Changing to logg=5.00 for T= 38750 logg=8.52\n",
      "Changing to logg=5.00 for T= 38942 logg=5.43\n",
      "Changing to logg=5.00 for T= 45668 logg=8.52\n",
      "Changing to logg=5.00 for T= 45668 logg=8.52\n",
      "Changing to logg=5.00 for T= 45668 logg=8.52\n",
      "Changing to logg=5.00 for T= 38750 logg=8.52\n",
      "Changing to logg=5.00 for T= 34986 logg=5.58\n",
      "Changing to logg=5.00 for T= 33657 logg=5.67\n",
      "Changing to logg=5.00 for T= 38750 logg=8.52\n",
      "Changing to logg=5.00 for T= 42302 logg=8.53\n",
      "Changing to logg=5.00 for T= 45669 logg=8.52\n",
      "Changing to logg=5.00 for T= 39010 logg=5.57\n",
      "Changing to logg=5.00 for T= 38750 logg=8.52\n",
      "Changing to logg=5.00 for T= 42302 logg=8.53\n",
      "Changing to logg=5.00 for T= 38062 logg=5.44\n",
      "Changing to logg=5.00 for T= 35708 logg=8.52\n",
      "Changing to logg=5.00 for T= 38750 logg=8.52\n",
      "Changing to logg=5.00 for T= 38751 logg=8.52\n",
      "Changing to logg=5.00 for T= 38750 logg=8.52\n",
      "Changing to logg=5.00 for T= 45668 logg=8.52\n",
      "Changing to logg=5.00 for T= 38924 logg=5.38\n",
      "Changing to logg=5.00 for T= 38750 logg=8.52\n",
      "Changing to logg=5.00 for T= 42302 logg=8.53\n",
      "Changing to T= 50000 for T= 55186 logg=8.12\n",
      "Changing to logg=5.00 for T= 55186 logg=8.12\n",
      "Changing to logg=5.00 for T= 38750 logg=8.52\n",
      "Changing to logg=5.00 for T= 45668 logg=8.52\n",
      "Changing to logg=5.00 for T= 41051 logg=8.91\n",
      "Changing to logg=5.00 for T= 38968 logg=5.47\n",
      "Changing to logg=5.00 for T= 38751 logg=8.52\n",
      "Changing to logg=5.00 for T= 35722 logg=8.52\n",
      "Changing to logg=5.00 for T= 34428 logg=5.62\n",
      "Changing to logg=5.00 for T= 42302 logg=8.53\n",
      "Changing to logg=5.00 for T= 37422 logg=5.67\n",
      "Changing to logg=5.00 for T= 34980 logg=5.56\n",
      "Changing to logg=5.00 for T= 34191 logg=8.16\n",
      "Changing to logg=5.00 for T= 45668 logg=8.52\n",
      "Changing to logg=5.00 for T= 37820 logg=5.74\n",
      "Changing to logg=5.00 for T= 38913 logg=5.59\n",
      "Changing to logg=5.00 for T= 38797 logg=5.34\n",
      "Changing to logg=5.00 for T= 35649 logg=8.52\n",
      "Changing to logg=5.00 for T= 38750 logg=8.52\n",
      "Changing to logg=5.00 for T= 35392 logg=8.22\n",
      "Changing to logg=5.00 for T= 35709 logg=8.52\n",
      "Changing to logg=5.00 for T= 37225 logg=5.46\n",
      "Changing to logg=5.00 for T= 38747 logg=5.38\n",
      "Changing to logg=5.00 for T= 42302 logg=8.53\n",
      "Changing to logg=5.00 for T= 39121 logg=5.40\n",
      "Changing to logg=5.00 for T= 45668 logg=8.52\n",
      "Changing to logg=5.00 for T= 37138 logg=5.69\n",
      "Changing to logg=5.00 for T= 35041 logg=8.49\n",
      "Changing to logg=5.00 for T= 35098 logg=8.49\n",
      "Changing to logg=5.00 for T= 38377 logg=5.39\n",
      "Changing to logg=5.00 for T= 39010 logg=5.64\n",
      "Changing to logg=5.00 for T= 39290 logg=5.53\n",
      "Changing to logg=5.00 for T= 37889 logg=5.54\n",
      "Changing to logg=5.00 for T= 35040 logg=8.49\n",
      "Changing to logg=5.00 for T= 35040 logg=8.49\n",
      "Changing to logg=5.00 for T= 35040 logg=8.49\n",
      "Changing to logg=0.00 for T=  3317 logg=-0.19\n",
      "Changing to logg=5.00 for T= 34340 logg=5.63\n",
      "Changing to logg=5.00 for T= 35040 logg=8.49\n",
      "Changing to logg=5.00 for T= 35040 logg=8.49\n",
      "Changing to logg=5.00 for T= 39098 logg=5.57\n",
      "Changing to logg=0.00 for T=  3317 logg=-0.19\n",
      "Changing to logg=5.00 for T= 44961 logg=8.20\n",
      "Changing to logg=5.00 for T= 37700 logg=5.76\n",
      "Changing to logg=5.00 for T= 35041 logg=8.49\n",
      "Changing to T= 50000 for T= 80369 logg=8.32\n",
      "Changing to logg=5.00 for T= 80369 logg=8.32\n",
      "Changing to T= 50000 for T=196662 logg=7.28\n",
      "Changing to logg=5.00 for T=196662 logg=7.28\n",
      "Changing to logg=5.00 for T= 39296 logg=5.53\n",
      "Changing to logg=5.00 for T= 33848 logg=5.68\n",
      "Changing to logg=5.00 for T= 42994 logg=5.57\n",
      "Changing to logg=5.00 for T= 37933 logg=5.39\n",
      "Changing to logg=5.00 for T= 34437 logg=5.46\n",
      "Changing to logg=5.00 for T= 35040 logg=8.49\n",
      "Changing to logg=5.00 for T= 42289 logg=5.55\n",
      "Changing to logg=5.00 for T= 37723 logg=5.77\n",
      "Changing to logg=5.00 for T= 35040 logg=8.49\n",
      "Changing to logg=5.00 for T= 31631 logg=5.78\n",
      "Changing to logg=5.00 for T= 35046 logg=8.49\n",
      "Changing to logg=5.00 for T= 35040 logg=8.49\n",
      "Changing to logg=5.00 for T= 35040 logg=8.49\n",
      "Changing to logg=5.00 for T= 35040 logg=8.49\n",
      "Changing to logg=5.00 for T= 35040 logg=8.49\n",
      "Changing to logg=5.00 for T= 39033 logg=5.45\n",
      "Changing to logg=5.00 for T= 35123 logg=8.49\n",
      "Changing to logg=5.00 for T= 35233 logg=8.21\n",
      "Changing to logg=5.00 for T= 39162 logg=5.48\n",
      "Changing to T= 50000 for T= 91531 logg=8.30\n",
      "Changing to logg=5.00 for T= 91531 logg=8.30\n",
      "Changing to logg=5.00 for T= 35040 logg=8.49\n",
      "Changing to logg=5.00 for T= 35040 logg=8.49\n",
      "Changing to logg=5.00 for T= 35040 logg=8.49\n",
      "Changing to logg=5.00 for T= 44686 logg=8.19\n",
      "Changing to T= 50000 for T=172024 logg=7.24\n",
      "Changing to logg=5.00 for T=172024 logg=7.24\n",
      "Changing to logg=5.00 for T= 35040 logg=8.49\n",
      "Changing to logg=5.00 for T= 38002 logg=5.45\n",
      "Changing to logg=5.00 for T= 38718 logg=5.32\n",
      "Changing to logg=5.00 for T= 35041 logg=8.49\n",
      "Changing to logg=5.00 for T= 35040 logg=8.49\n",
      "Changing to logg=5.00 for T= 37054 logg=5.15\n",
      "Changing to logg=5.00 for T= 34271 logg=5.61\n",
      "Changing to logg=5.00 for T= 35040 logg=8.49\n",
      "Changing to logg=5.00 for T= 35040 logg=8.49\n",
      "Changing to logg=5.00 for T= 35040 logg=8.49\n",
      "Changing to logg=5.00 for T= 31499 logg=8.21\n",
      "Changing to logg=5.00 for T= 39297 logg=5.50\n",
      "Changing to logg=5.00 for T= 35040 logg=8.49\n",
      "Changing to logg=5.00 for T= 35040 logg=8.49\n",
      "Changing to logg=5.00 for T= 39015 logg=5.63\n",
      "Changing to logg=5.00 for T= 35041 logg=8.49\n",
      "Changing to logg=5.00 for T= 39282 logg=5.39\n",
      "Changing to T= 50000 for T=122659 logg=7.98\n",
      "Changing to logg=5.00 for T=122659 logg=7.98\n",
      "Changing to logg=5.00 for T= 39152 logg=5.49\n",
      "Changing to logg=5.00 for T= 35040 logg=8.49\n",
      "Changing to logg=5.00 for T= 38506 logg=5.66\n",
      "Changing to logg=5.00 for T= 39300 logg=5.53\n",
      "Changing to logg=5.00 for T= 35040 logg=8.49\n",
      "Changing to T= 50000 for T= 53154 logg=8.20\n",
      "Changing to logg=5.00 for T= 53154 logg=8.20\n",
      "Changing to T= 50000 for T= 90298 logg=8.31\n",
      "Changing to logg=5.00 for T= 90298 logg=8.31\n",
      "Changing to logg=5.00 for T= 35044 logg=8.49\n",
      "Changing to logg=5.00 for T= 34450 logg=5.60\n",
      "Changing to logg=5.00 for T= 35040 logg=8.49\n",
      "Changing to logg=5.00 for T= 35040 logg=8.49\n",
      "Changing to logg=5.00 for T= 35047 logg=8.49\n",
      "Changing to logg=5.00 for T= 36175 logg=5.49\n",
      "Changing to logg=5.00 for T= 39339 logg=5.50\n",
      "Changing to logg=5.00 for T= 35040 logg=8.49\n",
      "Changing to logg=5.00 for T= 35065 logg=8.49\n",
      "Changing to logg=5.00 for T= 35040 logg=8.49\n",
      "Changing to logg=5.00 for T= 35040 logg=8.49\n",
      "Changing to logg=5.00 for T= 37969 logg=5.40\n",
      "Changing to logg=5.00 for T= 38323 logg=5.43\n",
      "Changing to logg=5.00 for T= 38497 logg=5.67\n",
      "Changing to logg=5.00 for T= 35161 logg=8.49\n",
      "Changing to logg=5.00 for T= 37720 logg=5.76\n",
      "Changing to logg=5.00 for T= 35042 logg=8.49\n",
      "Changing to logg=5.00 for T= 39061 logg=5.47\n",
      "Changing to logg=5.00 for T= 39115 logg=5.45\n",
      "Changing to logg=5.00 for T= 27868 logg=6.18\n",
      "Changing to T= 50000 for T=197624 logg=7.27\n",
      "Changing to logg=5.00 for T=197624 logg=7.27\n",
      "Changing to logg=5.00 for T= 39260 logg=5.51\n",
      "Changing to logg=5.00 for T= 35040 logg=8.49\n",
      "Changing to T= 50000 for T=170279 logg=7.23\n",
      "Changing to logg=5.00 for T=170279 logg=7.23\n",
      "Changing to logg=5.00 for T= 39090 logg=5.45\n",
      "Changing to logg=5.00 for T= 35040 logg=8.49\n",
      "Changing to logg=5.00 for T= 35040 logg=8.49\n",
      "Changing to logg=5.00 for T= 35040 logg=8.49\n",
      "Changing to logg=5.00 for T= 35040 logg=8.49\n",
      "Changing to logg=5.00 for T= 35040 logg=8.49\n",
      "Changing to logg=0.00 for T=  3294 logg=-0.23\n",
      "Changing to logg=5.00 for T= 38348 logg=5.37\n",
      "Changing to logg=5.00 for T= 35040 logg=8.49\n",
      "Changing to logg=0.00 for T=  3317 logg=-0.19\n",
      "Changing to logg=5.00 for T= 37267 logg=5.48\n",
      "Changing to T= 50000 for T= 81089 logg=8.14\n",
      "Changing to logg=5.00 for T= 81089 logg=8.14\n",
      "Changing to logg=5.00 for T= 36208 logg=8.26\n",
      "Changing to logg=5.00 for T= 35040 logg=8.49\n",
      "Changing to logg=5.00 for T= 39215 logg=5.43\n",
      "Changing to logg=5.00 for T= 35040 logg=8.49\n",
      "Changing to logg=5.00 for T= 38042 logg=5.48\n",
      "Changing to logg=5.00 for T= 39003 logg=5.46\n",
      "Changing to logg=0.00 for T=  3317 logg=-0.19\n",
      "Changing to logg=5.00 for T= 35040 logg=8.49\n",
      "Changing to logg=5.00 for T= 39019 logg=5.46\n",
      "Changing to T= 50000 for T= 85704 logg=8.31\n",
      "Changing to logg=5.00 for T= 85704 logg=8.31\n",
      "Changing to logg=5.00 for T= 35040 logg=8.49\n",
      "Changing to logg=5.00 for T= 38521 logg=5.66\n",
      "Changing to logg=5.00 for T= 35040 logg=8.49\n",
      "Changing to logg=5.00 for T= 27144 logg=6.25\n",
      "Changing to T= 50000 for T= 52576 logg=8.18\n",
      "Changing to logg=5.00 for T= 52576 logg=8.18\n",
      "Changing to logg=5.00 for T= 35040 logg=8.49\n",
      "Changing to logg=5.00 for T= 39184 logg=5.47\n",
      "Changing to logg=0.00 for T=  3295 logg=-0.23\n",
      "Making photometry for isochrone: log(t) = 8.20  AKs = 0.00  dist = 2000\n",
      "     Starting at:  2021-05-26 16:56:09.060305   Usually takes ~5 minutes\n",
      "Starting filter: ubv,U   Elapsed time: 0.01 seconds\n",
      "Starting synthetic photometry\n",
      "M =   1.240 Msun  T =  6225 K  m_ubv_U = 16.04\n",
      "M =   5.500 Msun  T = 27287 K  m_ubv_U = 21.28\n",
      "M =   3.500 Msun  T = 11697 K  m_ubv_U = 10.63\n",
      "M =   0.251 Msun  T =   nan K  m_ubv_U =  nan\n",
      "M =   0.631 Msun  T =   nan K  m_ubv_U =  nan\n",
      "M =   3.200 Msun  T = 12177 K  m_ubv_U = 10.33\n",
      "M =   0.501 Msun  T =   nan K  m_ubv_U =  nan\n",
      "M =   2.500 Msun  T = 10121 K  m_ubv_U = 12.37\n",
      "M =   6.500 Msun  T = 33471 K  m_ubv_U = 21.72\n",
      "M =   0.794 Msun  T =   nan K  m_ubv_U =  nan\n",
      "M =   2.700 Msun  T = 10526 K  m_ubv_U = 11.99\n",
      "M =   4.500 Msun  T =  4524 K  m_ubv_U = 11.80\n",
      "M =   2.500 Msun  T = 10121 K  m_ubv_U = 12.37\n",
      "M =   1.900 Msun  T = 11910 K  m_ubv_U = 10.52\n",
      "M =   5.000 Msun  T = 38750 K  m_ubv_U = 20.43\n",
      "M =   5.500 Msun  T = 27180 K  m_ubv_U = 21.22\n",
      "M =   3.500 Msun  T = 12112 K  m_ubv_U = 10.77\n",
      "M =   5.000 Msun  T = 38750 K  m_ubv_U = 20.43\n",
      "M =   2.500 Msun  T = 10121 K  m_ubv_U = 12.37\n",
      "M =   2.500 Msun  T = 10121 K  m_ubv_U = 12.37\n",
      "M =   3.500 Msun  T = 12112 K  m_ubv_U = 10.77\n",
      "M =   4.000 Msun  T = 11805 K  m_ubv_U = 9.86\n",
      "M =   3.000 Msun  T = 11287 K  m_ubv_U = 11.51\n",
      "M =   1.259 Msun  T =   nan K  m_ubv_U =  nan\n",
      "M =   1.400 Msun  T =   nan K  m_ubv_U =  nan\n",
      "M =   2.500 Msun  T = 10121 K  m_ubv_U = 12.37\n",
      "M =   3.200 Msun  T = 11657 K  m_ubv_U = 11.23\n",
      "M =   2.500 Msun  T = 10121 K  m_ubv_U = 12.37\n",
      "M =   7.000 Msun  T = 39833 K  m_ubv_U = 22.06\n",
      "M =   1.650 Msun  T =  7676 K  m_ubv_U = 14.33\n",
      "M =   2.800 Msun  T = 11666 K  m_ubv_U = 11.82\n",
      "M =   2.700 Msun  T = 10543 K  m_ubv_U = 11.99\n",
      "M =   3.700 Msun  T = 12011 K  m_ubv_U = 10.40\n",
      "M =   0.320 Msun  T =   nan K  m_ubv_U =  nan\n",
      "M =   3.500 Msun  T = 11878 K  m_ubv_U = 10.71\n",
      "M =   1.000 Msun  T =  5597 K  m_ubv_U = 17.66\n",
      "M =   1.300 Msun  T =  6389 K  m_ubv_U = 15.75\n",
      "M =   3.700 Msun  T = 12011 K  m_ubv_U = 10.40\n",
      "M =   2.430 Msun  T = 10595 K  m_ubv_U = 12.47\n",
      "M =   2.250 Msun  T =  9999 K  m_ubv_U = 12.82\n",
      "M =   1.000 Msun  T =  5597 K  m_ubv_U = 17.66\n",
      "M =   1.710 Msun  T =   nan K  m_ubv_U =  nan\n",
      "M =   3.000 Msun  T = 12309 K  m_ubv_U = 11.61\n",
      "M =   2.200 Msun  T =  9713 K  m_ubv_U = 12.92\n",
      "M =   1.750 Msun  T =  8122 K  m_ubv_U = 14.03\n",
      "M =   1.500 Msun  T =  7076 K  m_ubv_U = 14.85\n",
      "M =   1.750 Msun  T =  8121 K  m_ubv_U = 14.03\n",
      "M =   1.500 Msun  T =  7078 K  m_ubv_U = 14.85\n",
      "M =   2.100 Msun  T =  9470 K  m_ubv_U = 13.14\n",
      "M =   2.400 Msun  T = 10500 K  m_ubv_U = 12.53\n",
      "M =   0.900 Msun  T =  5185 K  m_ubv_U = 18.69\n",
      "M =   5.500 Msun  T = 32499 K  m_ubv_U = 21.14\n",
      "M =   5.500 Msun  T = 26451 K  m_ubv_U = 21.23\n",
      "M =   2.250 Msun  T =  9999 K  m_ubv_U = 12.83\n",
      "M =   2.240 Msun  T =  9965 K  m_ubv_U = 12.85\n",
      "M =   1.750 Msun  T =  8121 K  m_ubv_U = 14.03\n",
      "M =   5.600 Msun  T = 17569 K  m_ubv_U = 9.21\n",
      "Starting filter: ubv,V   Elapsed time: 30.08 seconds\n",
      "Starting synthetic photometry\n",
      "M =   1.240 Msun  T =  6225 K  m_ubv_V = 15.52\n",
      "M =   5.500 Msun  T = 27287 K  m_ubv_V = 22.41\n",
      "M =   3.500 Msun  T = 11697 K  m_ubv_V = 11.01\n",
      "M =   0.251 Msun  T =   nan K  m_ubv_V =  nan\n",
      "M =   0.631 Msun  T =   nan K  m_ubv_V =  nan\n",
      "M =   3.200 Msun  T = 12177 K  m_ubv_V = 10.78\n",
      "M =   0.501 Msun  T =   nan K  m_ubv_V =  nan\n",
      "M =   2.500 Msun  T = 10121 K  m_ubv_V = 12.47\n",
      "M =   6.500 Msun  T = 33471 K  m_ubv_V = 23.01\n",
      "M =   0.794 Msun  T =   nan K  m_ubv_V =  nan\n",
      "M =   2.700 Msun  T = 10526 K  m_ubv_V = 12.17\n",
      "M =   4.500 Msun  T =  4524 K  m_ubv_V = 9.30\n",
      "M =   2.500 Msun  T = 10121 K  m_ubv_V = 12.47\n",
      "M =   1.900 Msun  T = 11910 K  m_ubv_V = 10.93\n",
      "M =   5.000 Msun  T = 38750 K  m_ubv_V = 21.81\n",
      "M =   5.500 Msun  T = 27180 K  m_ubv_V = 22.35\n",
      "M =   3.500 Msun  T = 12112 K  m_ubv_V = 11.20\n",
      "M =   5.000 Msun  T = 38750 K  m_ubv_V = 21.81\n",
      "M =   2.500 Msun  T = 10121 K  m_ubv_V = 12.47\n",
      "M =   2.500 Msun  T = 10121 K  m_ubv_V = 12.47\n",
      "M =   3.500 Msun  T = 12112 K  m_ubv_V = 11.20\n",
      "M =   4.000 Msun  T = 11805 K  m_ubv_V = 10.28\n",
      "M =   3.000 Msun  T = 11287 K  m_ubv_V = 11.82\n",
      "M =   1.259 Msun  T =   nan K  m_ubv_V =  nan\n",
      "M =   1.400 Msun  T =   nan K  m_ubv_V =  nan\n",
      "M =   2.500 Msun  T = 10121 K  m_ubv_V = 12.47\n",
      "M =   3.200 Msun  T = 11657 K  m_ubv_V = 11.59\n",
      "M =   2.500 Msun  T = 10121 K  m_ubv_V = 12.47\n",
      "M =   7.000 Msun  T = 39833 K  m_ubv_V = 23.43\n",
      "M =   1.650 Msun  T =  7676 K  m_ubv_V = 14.06\n",
      "M =   2.800 Msun  T = 11666 K  m_ubv_V = 12.16\n",
      "M =   2.700 Msun  T = 10543 K  m_ubv_V = 12.17\n",
      "M =   3.700 Msun  T = 12011 K  m_ubv_V = 10.83\n",
      "M =   0.320 Msun  T =   nan K  m_ubv_V =  nan\n",
      "M =   3.500 Msun  T = 11878 K  m_ubv_V = 11.12\n",
      "M =   1.000 Msun  T =  5597 K  m_ubv_V = 16.73\n",
      "M =   1.300 Msun  T =  6389 K  m_ubv_V = 15.29\n",
      "M =   3.700 Msun  T = 12011 K  m_ubv_V = 10.83\n",
      "M =   2.430 Msun  T = 10595 K  m_ubv_V = 12.64\n",
      "M =   2.250 Msun  T =  9999 K  m_ubv_V = 12.88\n",
      "M =   1.000 Msun  T =  5597 K  m_ubv_V = 16.73\n",
      "M =   1.710 Msun  T =   nan K  m_ubv_V =  nan\n",
      "M =   3.000 Msun  T = 12309 K  m_ubv_V = 12.03\n",
      "M =   2.200 Msun  T =  9713 K  m_ubv_V = 12.93\n",
      "M =   1.750 Msun  T =  8122 K  m_ubv_V = 13.80\n",
      "M =   1.500 Msun  T =  7076 K  m_ubv_V = 14.54\n",
      "M =   1.750 Msun  T =  8121 K  m_ubv_V = 13.80\n",
      "M =   1.500 Msun  T =  7078 K  m_ubv_V = 14.54\n",
      "M =   2.100 Msun  T =  9470 K  m_ubv_V = 13.11\n",
      "M =   2.400 Msun  T = 10500 K  m_ubv_V = 12.69\n",
      "M =   0.900 Msun  T =  5185 K  m_ubv_V = 17.41\n",
      "M =   5.500 Msun  T = 32499 K  m_ubv_V = 22.41\n",
      "M =   5.500 Msun  T = 26451 K  m_ubv_V = 22.34\n",
      "M =   2.250 Msun  T =  9999 K  m_ubv_V = 12.90\n",
      "M =   2.240 Msun  T =  9965 K  m_ubv_V = 12.91\n",
      "M =   1.750 Msun  T =  8121 K  m_ubv_V = 13.80\n",
      "M =   5.600 Msun  T = 17569 K  m_ubv_V = 10.07\n",
      "Starting filter: ubv,B   Elapsed time: 59.66 seconds\n",
      "Starting synthetic photometry\n",
      "M =   1.240 Msun  T =  6225 K  m_ubv_B = 16.07\n",
      "M =   5.500 Msun  T = 27287 K  m_ubv_B = 22.27\n",
      "M =   3.500 Msun  T = 11697 K  m_ubv_B = 10.92\n",
      "M =   0.251 Msun  T =   nan K  m_ubv_B =  nan\n",
      "M =   0.631 Msun  T =   nan K  m_ubv_B =  nan\n",
      "M =   3.200 Msun  T = 12177 K  m_ubv_B = 10.68\n",
      "M =   0.501 Msun  T =   nan K  m_ubv_B =  nan\n",
      "M =   2.500 Msun  T = 10121 K  m_ubv_B = 12.45\n",
      "M =   6.500 Msun  T = 33471 K  m_ubv_B = 22.80\n",
      "M =   0.794 Msun  T =   nan K  m_ubv_B =  nan\n",
      "M =   2.700 Msun  T = 10526 K  m_ubv_B = 12.12\n",
      "M =   4.500 Msun  T =  4524 K  m_ubv_B = 10.56\n",
      "M =   2.500 Msun  T = 10121 K  m_ubv_B = 12.45\n",
      "M =   1.900 Msun  T = 11910 K  m_ubv_B = 10.83\n",
      "M =   5.000 Msun  T = 38750 K  m_ubv_B = 21.51\n",
      "M =   5.500 Msun  T = 27180 K  m_ubv_B = 22.20\n",
      "M =   3.500 Msun  T = 12112 K  m_ubv_B = 11.10\n",
      "M =   5.000 Msun  T = 38750 K  m_ubv_B = 21.51\n",
      "M =   2.500 Msun  T = 10121 K  m_ubv_B = 12.45\n",
      "M =   2.500 Msun  T = 10121 K  m_ubv_B = 12.45\n",
      "M =   3.500 Msun  T = 12112 K  m_ubv_B = 11.10\n",
      "M =   4.000 Msun  T = 11805 K  m_ubv_B = 10.18\n",
      "M =   3.000 Msun  T = 11287 K  m_ubv_B = 11.74\n",
      "M =   1.259 Msun  T =   nan K  m_ubv_B =  nan\n",
      "M =   1.400 Msun  T =   nan K  m_ubv_B =  nan\n",
      "M =   2.500 Msun  T = 10121 K  m_ubv_B = 12.45\n",
      "M =   3.200 Msun  T = 11657 K  m_ubv_B = 11.50\n",
      "M =   2.500 Msun  T = 10121 K  m_ubv_B = 12.45\n",
      "M =   7.000 Msun  T = 39833 K  m_ubv_B = 23.18\n",
      "M =   1.650 Msun  T =  7676 K  m_ubv_B = 14.32\n",
      "M =   2.800 Msun  T = 11666 K  m_ubv_B = 12.08\n",
      "M =   2.700 Msun  T = 10543 K  m_ubv_B = 12.12\n",
      "M =   3.700 Msun  T = 12011 K  m_ubv_B = 10.73\n",
      "M =   0.320 Msun  T =   nan K  m_ubv_B =  nan\n",
      "M =   3.500 Msun  T = 11878 K  m_ubv_B = 11.02\n",
      "M =   1.000 Msun  T =  5597 K  m_ubv_B = 17.49\n",
      "M =   1.300 Msun  T =  6389 K  m_ubv_B = 15.80\n",
      "M =   3.700 Msun  T = 12011 K  m_ubv_B = 10.73\n",
      "M =   2.430 Msun  T = 10595 K  m_ubv_B = 12.60\n",
      "M =   2.250 Msun  T =  9999 K  m_ubv_B = 12.87\n",
      "M =   1.000 Msun  T =  5597 K  m_ubv_B = 17.49\n",
      "M =   1.710 Msun  T =   nan K  m_ubv_B =  nan\n",
      "M =   3.000 Msun  T = 12309 K  m_ubv_B = 11.94\n",
      "M =   2.200 Msun  T =  9713 K  m_ubv_B = 12.94\n",
      "M =   1.750 Msun  T =  8122 K  m_ubv_B = 13.98\n",
      "M =   1.500 Msun  T =  7076 K  m_ubv_B = 14.90\n",
      "M =   1.750 Msun  T =  8121 K  m_ubv_B = 13.98\n",
      "M =   1.500 Msun  T =  7078 K  m_ubv_B = 14.89\n",
      "M =   2.100 Msun  T =  9470 K  m_ubv_B = 13.14\n",
      "M =   2.400 Msun  T = 10500 K  m_ubv_B = 12.65\n",
      "M =   0.900 Msun  T =  5185 K  m_ubv_B = 18.28\n",
      "M =   5.500 Msun  T = 32499 K  m_ubv_B = 22.20\n",
      "M =   5.500 Msun  T = 26451 K  m_ubv_B = 22.20\n",
      "M =   2.250 Msun  T =  9999 K  m_ubv_B = 12.88\n",
      "M =   2.240 Msun  T =  9965 K  m_ubv_B = 12.90\n",
      "M =   1.750 Msun  T =  8121 K  m_ubv_B = 13.98\n",
      "M =   5.600 Msun  T = 17569 K  m_ubv_B = 9.89\n",
      "Starting filter: ubv,R   Elapsed time: 88.42 seconds\n",
      "Starting synthetic photometry\n",
      "M =   1.240 Msun  T =  6225 K  m_ubv_R = 15.23\n",
      "M =   5.500 Msun  T = 27287 K  m_ubv_R = 22.53\n",
      "M =   3.500 Msun  T = 11697 K  m_ubv_R = 11.04\n",
      "M =   0.251 Msun  T =   nan K  m_ubv_R =  nan\n",
      "M =   0.631 Msun  T =   nan K  m_ubv_R =  nan\n",
      "M =   3.200 Msun  T = 12177 K  m_ubv_R = 10.81\n",
      "M =   0.501 Msun  T =   nan K  m_ubv_R =  nan\n",
      "M =   2.500 Msun  T = 10121 K  m_ubv_R = 12.48\n",
      "M =   6.500 Msun  T = 33471 K  m_ubv_R = 23.14\n",
      "M =   0.794 Msun  T =   nan K  m_ubv_R =  nan\n",
      "M =   2.700 Msun  T = 10526 K  m_ubv_R = 12.19\n",
      "M =   4.500 Msun  T =  4524 K  m_ubv_R = 8.73\n",
      "M =   2.500 Msun  T = 10121 K  m_ubv_R = 12.48\n",
      "M =   1.900 Msun  T = 11910 K  m_ubv_R = 10.96\n",
      "M =   5.000 Msun  T = 38750 K  m_ubv_R = 21.94\n",
      "M =   5.500 Msun  T = 27180 K  m_ubv_R = 22.46\n",
      "M =   3.500 Msun  T = 12112 K  m_ubv_R = 11.23\n",
      "M =   5.000 Msun  T = 38750 K  m_ubv_R = 21.94\n",
      "M =   2.500 Msun  T = 10121 K  m_ubv_R = 12.48\n",
      "M =   2.500 Msun  T = 10121 K  m_ubv_R = 12.48\n",
      "M =   3.500 Msun  T = 12112 K  m_ubv_R = 11.23\n",
      "M =   4.000 Msun  T = 11805 K  m_ubv_R = 10.31\n",
      "M =   3.000 Msun  T = 11287 K  m_ubv_R = 11.84\n",
      "M =   1.259 Msun  T =   nan K  m_ubv_R =  nan\n",
      "M =   1.400 Msun  T =   nan K  m_ubv_R =  nan\n",
      "M =   2.500 Msun  T = 10121 K  m_ubv_R = 12.48\n",
      "M =   3.200 Msun  T = 11657 K  m_ubv_R = 11.62\n",
      "M =   2.500 Msun  T = 10121 K  m_ubv_R = 12.48\n",
      "M =   7.000 Msun  T = 39833 K  m_ubv_R = 23.56\n",
      "M =   1.650 Msun  T =  7676 K  m_ubv_R = 13.93\n",
      "M =   2.800 Msun  T = 11666 K  m_ubv_R = 12.19\n",
      "M =   2.700 Msun  T = 10543 K  m_ubv_R = 12.19\n",
      "M =   3.700 Msun  T = 12011 K  m_ubv_R = 10.86\n",
      "M =   0.320 Msun  T =   nan K  m_ubv_R =  nan\n",
      "M =   3.500 Msun  T = 11878 K  m_ubv_R = 11.15\n",
      "M =   1.000 Msun  T =  5597 K  m_ubv_R = 16.37\n",
      "M =   1.300 Msun  T =  6389 K  m_ubv_R = 15.03\n",
      "M =   3.700 Msun  T = 12011 K  m_ubv_R = 10.86\n",
      "M =   2.430 Msun  T = 10595 K  m_ubv_R = 12.66\n",
      "M =   2.250 Msun  T =  9999 K  m_ubv_R = 12.89\n",
      "M =   1.000 Msun  T =  5597 K  m_ubv_R = 16.37\n",
      "M =   1.710 Msun  T =   nan K  m_ubv_R =  nan\n",
      "M =   3.000 Msun  T = 12309 K  m_ubv_R = 12.07\n",
      "M =   2.200 Msun  T =  9713 K  m_ubv_R = 12.94\n",
      "M =   1.750 Msun  T =  8122 K  m_ubv_R = 13.71\n",
      "M =   1.500 Msun  T =  7076 K  m_ubv_R = 14.35\n",
      "M =   1.750 Msun  T =  8121 K  m_ubv_R = 13.71\n",
      "M =   1.500 Msun  T =  7078 K  m_ubv_R = 14.35\n",
      "M =   2.100 Msun  T =  9470 K  m_ubv_R = 13.11\n",
      "M =   2.400 Msun  T = 10500 K  m_ubv_R = 12.70\n",
      "M =   0.900 Msun  T =  5185 K  m_ubv_R = 16.97\n",
      "M =   5.500 Msun  T = 32499 K  m_ubv_R = 22.54\n",
      "M =   5.500 Msun  T = 26451 K  m_ubv_R = 22.45\n",
      "M =   2.250 Msun  T =  9999 K  m_ubv_R = 12.91\n",
      "M =   2.240 Msun  T =  9965 K  m_ubv_R = 12.92\n",
      "M =   1.750 Msun  T =  8121 K  m_ubv_R = 13.71\n",
      "M =   5.600 Msun  T = 17569 K  m_ubv_R = 10.14\n",
      "Starting filter: ubv,I   Elapsed time: 116.10 seconds\n",
      "Starting synthetic photometry\n",
      "M =   1.240 Msun  T =  6225 K  m_ubv_I = 14.88\n",
      "M =   5.500 Msun  T = 27287 K  m_ubv_I = 22.77\n",
      "M =   3.500 Msun  T = 11697 K  m_ubv_I = 11.11\n",
      "M =   0.251 Msun  T =   nan K  m_ubv_I =  nan\n",
      "M =   0.631 Msun  T =   nan K  m_ubv_I =  nan\n",
      "M =   3.200 Msun  T = 12177 K  m_ubv_I = 10.89\n",
      "M =   0.501 Msun  T =   nan K  m_ubv_I =  nan\n",
      "M =   2.500 Msun  T = 10121 K  m_ubv_I = 12.51\n",
      "M =   6.500 Msun  T = 33471 K  m_ubv_I = 23.40\n",
      "M =   0.794 Msun  T =   nan K  m_ubv_I =  nan\n",
      "M =   2.700 Msun  T = 10526 K  m_ubv_I = 12.23\n",
      "M =   4.500 Msun  T =  4524 K  m_ubv_I = 8.02\n",
      "M =   2.500 Msun  T = 10121 K  m_ubv_I = 12.51\n",
      "M =   1.900 Msun  T = 11910 K  m_ubv_I = 11.04\n",
      "M =   5.000 Msun  T = 38750 K  m_ubv_I = 22.22\n",
      "M =   5.500 Msun  T = 27180 K  m_ubv_I = 22.71\n",
      "M =   3.500 Msun  T = 12112 K  m_ubv_I = 11.31\n",
      "M =   5.000 Msun  T = 38750 K  m_ubv_I = 22.22\n",
      "M =   2.500 Msun  T = 10121 K  m_ubv_I = 12.51\n",
      "M =   2.500 Msun  T = 10121 K  m_ubv_I = 12.51\n",
      "M =   3.500 Msun  T = 12112 K  m_ubv_I = 11.31\n",
      "M =   4.000 Msun  T = 11805 K  m_ubv_I = 10.38\n",
      "M =   3.000 Msun  T = 11287 K  m_ubv_I = 11.90\n",
      "M =   1.259 Msun  T =   nan K  m_ubv_I =  nan\n",
      "M =   1.400 Msun  T =   nan K  m_ubv_I =  nan\n",
      "M =   2.500 Msun  T = 10121 K  m_ubv_I = 12.51\n",
      "M =   3.200 Msun  T = 11657 K  m_ubv_I = 11.69\n",
      "M =   2.500 Msun  T = 10121 K  m_ubv_I = 12.51\n",
      "M =   7.000 Msun  T = 39833 K  m_ubv_I = 23.83\n",
      "M =   1.650 Msun  T =  7676 K  m_ubv_I = 13.79\n",
      "M =   2.800 Msun  T = 11666 K  m_ubv_I = 12.26\n",
      "M =   2.700 Msun  T = 10543 K  m_ubv_I = 12.23\n",
      "M =   3.700 Msun  T = 12011 K  m_ubv_I = 10.94\n",
      "M =   0.320 Msun  T =   nan K  m_ubv_I =  nan\n",
      "M =   3.500 Msun  T = 11878 K  m_ubv_I = 11.22\n",
      "M =   1.000 Msun  T =  5597 K  m_ubv_I = 15.92\n",
      "M =   1.300 Msun  T =  6389 K  m_ubv_I = 14.70\n",
      "M =   3.700 Msun  T = 12011 K  m_ubv_I = 10.94\n",
      "M =   2.430 Msun  T = 10595 K  m_ubv_I = 12.70\n",
      "M =   2.250 Msun  T =  9999 K  m_ubv_I = 12.92\n",
      "M =   1.000 Msun  T =  5597 K  m_ubv_I = 15.92\n",
      "M =   1.710 Msun  T =   nan K  m_ubv_I =  nan\n",
      "M =   3.000 Msun  T = 12309 K  m_ubv_I = 12.16\n",
      "M =   2.200 Msun  T =  9713 K  m_ubv_I = 12.95\n",
      "M =   1.750 Msun  T =  8122 K  m_ubv_I = 13.61\n",
      "M =   1.500 Msun  T =  7076 K  m_ubv_I = 14.13\n",
      "M =   1.750 Msun  T =  8121 K  m_ubv_I = 13.61\n",
      "M =   1.500 Msun  T =  7078 K  m_ubv_I = 14.12\n",
      "M =   2.100 Msun  T =  9470 K  m_ubv_I = 13.11\n",
      "M =   2.400 Msun  T = 10500 K  m_ubv_I = 12.74\n",
      "M =   0.900 Msun  T =  5185 K  m_ubv_I = 16.43\n",
      "M =   5.500 Msun  T = 32499 K  m_ubv_I = 22.80\n",
      "M =   5.500 Msun  T = 26451 K  m_ubv_I = 22.69\n",
      "M =   2.250 Msun  T =  9999 K  m_ubv_I = 12.93\n",
      "M =   2.240 Msun  T =  9965 K  m_ubv_I = 12.94\n",
      "M =   1.750 Msun  T =  8121 K  m_ubv_I = 13.61\n",
      "M =   5.600 Msun  T = 17569 K  m_ubv_I = 10.30\n",
      "      Time taken: 143.70 seconds\n",
      "Isochrone generation took 893.316991 s.\n"
     ]
    }
   ],
   "source": [
    "import spisea\n",
    "from spisea import evolution, synthetic\n",
    "import math\n",
    "# Check if the evolution class works fine\n",
    "import time\n",
    "t1=time.time()\n",
    "bps=evolution.BPASS()\n",
    "iso1=synthetic.Isochrone_Binary(8.2, 0.0, 2000, math.log10(1), mass_sampling=1)"
   ]
  },
  {
   "cell_type": "markdown",
   "metadata": {},
   "source": [
    "For a sanity check, we can see that the primaries, secondaries, and single stars have phasees of 5 or of 101 or of 110. Note that we will have a phase of 110 in order to indicate a mystery compact remnant that BPASS provides for NEWSECMODS (secondary star models with compact primaries). This is since we haven't added neutron stars or black holes yet. Stars with phase of -99 exist, and those are the secondary stars that have already merged. Secondary stars that have merged with their primaries have designation of phase -99."
   ]
  },
  {
   "cell_type": "code",
   "execution_count": 2,
   "metadata": {},
   "outputs": [
    {
     "data": {
      "text/plain": [
       "True"
      ]
     },
     "execution_count": 2,
     "metadata": {},
     "output_type": "execute_result"
    }
   ],
   "source": [
    "import numpy as np\n",
    "np.all([(x == 5 or x == 101 or x==102 or x==103) for x in iso1.primaries['phase']])"
   ]
  },
  {
   "cell_type": "code",
   "execution_count": 3,
   "metadata": {},
   "outputs": [
    {
     "data": {
      "text/plain": [
       "True"
      ]
     },
     "execution_count": 3,
     "metadata": {},
     "output_type": "execute_result"
    }
   ],
   "source": [
    "np.all([(x == 5 or x == 101 or x==102 or x==103) for x in iso1.singles['phase']])"
   ]
  },
  {
   "cell_type": "code",
   "execution_count": 4,
   "metadata": {},
   "outputs": [
    {
     "data": {
      "text/plain": [
       "True"
      ]
     },
     "execution_count": 4,
     "metadata": {},
     "output_type": "execute_result"
    }
   ],
   "source": [
    "np.all([(x == 5 or x == 101 or x == -99 or x==102 or x==103) for x in iso1.secondaries['phase']])"
   ]
  },
  {
   "cell_type": "markdown",
   "metadata": {},
   "source": [
    "Find the maximum, mean, and median  values of logg (cgs) for primaries and secondaries accounting for NaNs in the columns. (For max we make NaNs the same as - infinity and for median and mean, we do not include them)"
   ]
  },
  {
   "cell_type": "code",
   "execution_count": 5,
   "metadata": {},
   "outputs": [
    {
     "data": {
      "text/plain": [
       "9.294869501162154"
      ]
     },
     "execution_count": 5,
     "metadata": {},
     "output_type": "execute_result"
    }
   ],
   "source": [
    "np.max(iso1.singles['logg'])"
   ]
  },
  {
   "cell_type": "code",
   "execution_count": 6,
   "metadata": {},
   "outputs": [
    {
     "data": {
      "text/plain": [
       "9.288600394549206"
      ]
     },
     "execution_count": 6,
     "metadata": {},
     "output_type": "execute_result"
    }
   ],
   "source": [
    "np.max(np.nan_to_num(iso1.primaries['logg'], -np.inf))"
   ]
  },
  {
   "cell_type": "code",
   "execution_count": 7,
   "metadata": {},
   "outputs": [
    {
     "data": {
      "text/plain": [
       "9.283702439639246"
      ]
     },
     "execution_count": 7,
     "metadata": {},
     "output_type": "execute_result"
    }
   ],
   "source": [
    "np.max(np.nan_to_num(iso1.secondaries['logg'], -np.inf))"
   ]
  },
  {
   "cell_type": "markdown",
   "metadata": {},
   "source": [
    "Now let's find the mean and median logg values for the single stars, secondary stars, and the primary stars"
   ]
  },
  {
   "cell_type": "code",
   "execution_count": 8,
   "metadata": {},
   "outputs": [
    {
     "data": {
      "text/plain": [
       "5.354531279865074"
      ]
     },
     "execution_count": 8,
     "metadata": {},
     "output_type": "execute_result"
    }
   ],
   "source": [
    "np.mean(iso1.singles['logg'][np.where(~np.isnan(iso1.singles['logg']))])"
   ]
  },
  {
   "cell_type": "code",
   "execution_count": 9,
   "metadata": {},
   "outputs": [
    {
     "data": {
      "text/plain": [
       "5.109131776599373"
      ]
     },
     "execution_count": 9,
     "metadata": {},
     "output_type": "execute_result"
    }
   ],
   "source": [
    "np.mean(iso1.primaries['logg'][np.where(~np.isnan(iso1.primaries['logg']))])"
   ]
  },
  {
   "cell_type": "code",
   "execution_count": 10,
   "metadata": {},
   "outputs": [
    {
     "data": {
      "text/plain": [
       "4.7087761944824305"
      ]
     },
     "execution_count": 10,
     "metadata": {},
     "output_type": "execute_result"
    }
   ],
   "source": [
    "np.mean(iso1.secondaries['logg'][np.where(~np.isnan(iso1.secondaries['logg']))])"
   ]
  },
  {
   "cell_type": "code",
   "execution_count": 11,
   "metadata": {},
   "outputs": [
    {
     "data": {
      "text/plain": [
       "4.2498758947769355"
      ]
     },
     "execution_count": 11,
     "metadata": {},
     "output_type": "execute_result"
    }
   ],
   "source": [
    "np.median(iso1.singles['logg'][np.where(~np.isnan(iso1.singles['logg']))])"
   ]
  },
  {
   "cell_type": "code",
   "execution_count": 12,
   "metadata": {},
   "outputs": [
    {
     "data": {
      "text/plain": [
       "4.133548174454043"
      ]
     },
     "execution_count": 12,
     "metadata": {},
     "output_type": "execute_result"
    }
   ],
   "source": [
    "np.median(iso1.primaries['logg'][np.where(~np.isnan(iso1.primaries['logg']))])"
   ]
  },
  {
   "cell_type": "code",
   "execution_count": 13,
   "metadata": {},
   "outputs": [
    {
     "data": {
      "text/plain": [
       "4.298445675989428"
      ]
     },
     "execution_count": 13,
     "metadata": {},
     "output_type": "execute_result"
    }
   ],
   "source": [
    "np.median([x for x in iso1.secondaries['logg'] if np.isfinite(x)])"
   ]
  },
  {
   "cell_type": "markdown",
   "metadata": {},
   "source": [
    "Let's make a histogram of log_g values for each table of the isochrone"
   ]
  },
  {
   "cell_type": "code",
   "execution_count": 14,
   "metadata": {},
   "outputs": [
    {
     "data": {
      "text/plain": [
       "Text(0.5, 0, 'logg in cgs')"
      ]
     },
     "execution_count": 14,
     "metadata": {},
     "output_type": "execute_result"
    },
    {
     "data": {
      "image/png": "[encoded data removed]",
      "text/plain": [
       "<Figure size 432x288 with 1 Axes>"
      ]
     },
     "metadata": {
      "needs_background": "light"
     },
     "output_type": "display_data"
    }
   ],
   "source": [
    "import matplotlib.pyplot as plt\n",
    "plt.title(\"Histogram of logg values (secondaries) of isochrone\")\n",
    "plt.hist(np.array([x for x in iso1.secondaries['logg'] if np.isfinite(x)]),\n",
    "         np.arange(0, 30, 1))\n",
    "plt.xlabel(\"logg in cgs\")"
   ]
  },
  {
   "cell_type": "code",
   "execution_count": 15,
   "metadata": {},
   "outputs": [
    {
     "data": {
      "text/plain": [
       "Text(0.5, 0, 'logg in cgs')"
      ]
     },
     "execution_count": 15,
     "metadata": {},
     "output_type": "execute_result"
    },
    {
     "data": {
      "image/png": "[encoded data removed]",
      "text/plain": [
       "<Figure size 432x288 with 1 Axes>"
      ]
     },
     "metadata": {
      "needs_background": "light"
     },
     "output_type": "display_data"
    }
   ],
   "source": [
    "import matplotlib.pyplot as plt\n",
    "plt.title(\"Histogram of logg values (primaries) of isochrone\")\n",
    "plt.hist(np.array([x for x in iso1.primaries['logg'] if np.isfinite(x)]),\n",
    "         np.arange(0, 30, 1))\n",
    "plt.xlabel(\"logg in cgs\")"
   ]
  },
  {
   "cell_type": "code",
   "execution_count": 16,
   "metadata": {},
   "outputs": [
    {
     "data": {
      "text/plain": [
       "Text(0.5, 0, 'logg in cgs')"
      ]
     },
     "execution_count": 16,
     "metadata": {},
     "output_type": "execute_result"
    },
    {
     "data": {
      "image/png": "[encoded data removed]",
      "text/plain": [
       "<Figure size 432x288 with 1 Axes>"
      ]
     },
     "metadata": {
      "needs_background": "light"
     },
     "output_type": "display_data"
    }
   ],
   "source": [
    "import matplotlib.pyplot as plt\n",
    "plt.title(\"Histogram of logg values single stars of isochrone\")\n",
    "plt.hist(np.array([x for x in iso1.singles['logg'] if np.isfinite(x)]),\n",
    "         np.arange(0, 30, 1))\n",
    "plt.xlabel(\"logg in cgs\")"
   ]
  },
  {
   "cell_type": "markdown",
   "metadata": {},
   "source": [
    "For comparison, let's create a MIST v.1. isochrone  phot using otherwise same parameters."
   ]
  },
  {
   "cell_type": "code",
   "execution_count": 17,
   "metadata": {},
   "outputs": [
    {
     "name": "stdout",
     "output_type": "stream",
     "text": [
      "Isochrone generation took 56.033841 s.\n",
      "Making photometry for isochrone: log(t) = 8.20  AKs = 0.00  dist = 2000\n",
      "     Starting at:  2021-05-26 16:59:30.345961   Usually takes ~5 minutes\n",
      "Starting filter: ubv,U   Elapsed time: 0.01 seconds\n",
      "Starting synthetic photometry\n",
      "M =   0.111 Msun  T =  2982 K  m_ubv_U = 28.94\n",
      "M =   1.468 Msun  T =  7177 K  m_ubv_U = 14.83\n",
      "M =   4.392 Msun  T =  4603 K  m_ubv_U = 11.93\n",
      "M =   4.423 Msun  T =  3455 K  m_ubv_U = 12.78\n",
      "M =   4.425 Msun  T = 23358 K  m_ubv_U = 6.34\n",
      "M =   4.425 Msun  T = 170211 K  m_ubv_U = 11.96\n",
      "M =   4.426 Msun  T = 157705 K  m_ubv_U = 17.19\n",
      "Starting filter: ubv,B   Elapsed time: 4.86 seconds\n",
      "Starting synthetic photometry\n",
      "M =   0.111 Msun  T =  2982 K  m_ubv_B = 27.70\n",
      "M =   1.468 Msun  T =  7177 K  m_ubv_B = 14.87\n",
      "M =   4.392 Msun  T =  4603 K  m_ubv_B = 10.80\n",
      "M =   4.423 Msun  T =  3455 K  m_ubv_B = 10.83\n",
      "M =   4.425 Msun  T = 23358 K  m_ubv_B = 7.37\n",
      "M =   4.425 Msun  T = 170211 K  m_ubv_B = 13.15\n",
      "M =   4.426 Msun  T = 157705 K  m_ubv_B = 18.38\n",
      "Starting filter: ubv,V   Elapsed time: 9.56 seconds\n",
      "Starting synthetic photometry\n",
      "M =   0.111 Msun  T =  2982 K  m_ubv_V = 26.40\n",
      "M =   1.468 Msun  T =  7177 K  m_ubv_V = 14.53\n",
      "M =   4.392 Msun  T =  4603 K  m_ubv_V = 9.59\n",
      "M =   4.423 Msun  T =  3455 K  m_ubv_V = 9.17\n",
      "M =   4.425 Msun  T = 23358 K  m_ubv_V = 7.56\n",
      "M =   4.425 Msun  T = 170211 K  m_ubv_V = 13.52\n",
      "M =   4.426 Msun  T = 157705 K  m_ubv_V = 18.74\n",
      "Starting filter: ubv,R   Elapsed time: 14.33 seconds\n",
      "Starting synthetic photometry\n",
      "M =   0.111 Msun  T =  2982 K  m_ubv_R = 25.14\n",
      "M =   1.468 Msun  T =  7177 K  m_ubv_R = 14.35\n",
      "M =   4.392 Msun  T =  4603 K  m_ubv_R = 9.04\n",
      "M =   4.423 Msun  T =  3455 K  m_ubv_R = 8.20\n",
      "M =   4.425 Msun  T = 23358 K  m_ubv_R = 7.62\n",
      "M =   4.425 Msun  T = 170211 K  m_ubv_R = 13.66\n",
      "M =   4.426 Msun  T = 157705 K  m_ubv_R = 18.88\n",
      "Starting filter: ubv,I   Elapsed time: 19.01 seconds\n",
      "Starting synthetic photometry\n",
      "M =   0.111 Msun  T =  2982 K  m_ubv_I = 22.28\n",
      "M =   1.468 Msun  T =  7177 K  m_ubv_I = 14.14\n",
      "M =   4.392 Msun  T =  4603 K  m_ubv_I = 8.36\n",
      "M =   4.423 Msun  T =  3455 K  m_ubv_I = 6.26\n",
      "M =   4.425 Msun  T = 23358 K  m_ubv_I = 7.79\n",
      "M =   4.425 Msun  T = 170211 K  m_ubv_I = 13.97\n",
      "M =   4.426 Msun  T = 157705 K  m_ubv_I = 19.19\n",
      "      Time taken: 23.70 seconds\n"
     ]
    }
   ],
   "source": [
    "iso2=synthetic.IsochronePhot(8.2, 0.0, 2000,\n",
    "                             math.log(1), recomp=True) # New MIST v.1 isochrone for same metallicity"
   ]
  },
  {
   "cell_type": "markdown",
   "metadata": {},
   "source": [
    "Note: dist/10 pc = 200 for both of our isochrones and clusters"
   ]
  },
  {
   "cell_type": "markdown",
   "metadata": {},
   "source": [
    "Find the maximum logg of the isochrone and the distribution of logg values"
   ]
  },
  {
   "cell_type": "code",
   "execution_count": 18,
   "metadata": {},
   "outputs": [
    {
     "data": {
      "text/plain": [
       "8.038804565028379"
      ]
     },
     "execution_count": 18,
     "metadata": {},
     "output_type": "execute_result"
    }
   ],
   "source": [
    "np.max(iso2.points['logg'])"
   ]
  },
  {
   "cell_type": "code",
   "execution_count": 19,
   "metadata": {
    "scrolled": true
   },
   "outputs": [
    {
     "data": {
      "text/plain": [
       "(array([ 96., 103.,  29.,  55., 179.,  39.,  26.,  71.,   5.,   0.,   0.,\n",
       "          0.,   0.,   0.,   0.,   0.,   0.,   0.,   0.,   0.,   0.,   0.,\n",
       "          0.,   0.,   0.,   0.,   0.,   0.,   0.]),\n",
       " array([ 0,  1,  2,  3,  4,  5,  6,  7,  8,  9, 10, 11, 12, 13, 14, 15, 16,\n",
       "        17, 18, 19, 20, 21, 22, 23, 24, 25, 26, 27, 28, 29]),\n",
       " <BarContainer object of 29 artists>)"
      ]
     },
     "execution_count": 19,
     "metadata": {},
     "output_type": "execute_result"
    },
    {
     "data": {
      "image/png": "[encoded data removed]",
      "text/plain": [
       "<Figure size 432x288 with 1 Axes>"
      ]
     },
     "metadata": {
      "needs_background": "light"
     },
     "output_type": "display_data"
    }
   ],
   "source": [
    "import matplotlib.pyplot as plt\n",
    "plt.xlabel(\"logg in cgs\")\n",
    "plt.title(\"Histogram of logg values of stars in the MIST v1 isochrone\")\n",
    "plt.hist(np.array([x for x in iso2.points['logg'] if np.isfinite(x)]), np.arange(0, 30, 1))"
   ]
  },
  {
   "cell_type": "markdown",
   "metadata": {},
   "source": [
    "Finding the log_g median and mean for the new isochrone"
   ]
  },
  {
   "cell_type": "code",
   "execution_count": 20,
   "metadata": {},
   "outputs": [
    {
     "data": {
      "text/plain": [
       "4.190403645585174"
      ]
     },
     "execution_count": 20,
     "metadata": {},
     "output_type": "execute_result"
    }
   ],
   "source": [
    "np.median(iso2.points['logg'])"
   ]
  },
  {
   "cell_type": "code",
   "execution_count": 21,
   "metadata": {},
   "outputs": [
    {
     "data": {
      "text/plain": [
       "3.7100077975325854"
      ]
     },
     "execution_count": 21,
     "metadata": {},
     "output_type": "execute_result"
    }
   ],
   "source": [
    "np.mean(iso2.points['logg'])"
   ]
  },
  {
   "cell_type": "markdown",
   "metadata": {},
   "source": [
    "Now we want to make clusters for both of these models and plot CMD, HR Diagram, and Mass Luminosity relationship for the isochrones. Then, we want to find the Mass luminosity relationship and CMD for the cluster."
   ]
  },
  {
   "cell_type": "code",
   "execution_count": 22,
   "metadata": {},
   "outputs": [],
   "source": [
    "from spisea import imf\n",
    "from spisea.imf import imf, multiplicity\n",
    "from spisea import ifmr\n"
   ]
  },
  {
   "cell_type": "code",
   "execution_count": 23,
   "metadata": {
    "scrolled": true
   },
   "outputs": [
    {
     "name": "stdout",
     "output_type": "stream",
     "text": [
      "207 single stars had to be deleted\n",
      "87.34560424027555 solar masses had to be deleted from single stars before application of the IFMR\n"
     ]
    },
    {
     "name": "stderr",
     "output_type": "stream",
     "text": [
      "/u/ryotainagaki/Desktop/PyPopStar/spisea/synthetic.py:721: VisibleDeprecationWarning: Creating an ndarray from ragged nested sequences (which is a list-or-tuple of lists-or-tuples-or ndarrays with different lengths or shapes) is deprecated. If you meant to do this, you must specify 'dtype=object' when creating the ndarray.\n",
      "  compMass = np.array([compMass[x] for x in indices])\n"
     ]
    },
    {
     "name": "stdout",
     "output_type": "stream",
     "text": [
      "Running the changing phase on companions\n",
      "84 non-single star systems had to be deleted before IFMR application\n",
      "84 companions had to be deleted before IFMR was applied\n",
      "Found 11 companions out of stellar mass range\n"
     ]
    }
   ],
   "source": [
    "clus_1=synthetic.Cluster_w_Binaries(iso1, imf.IMFSalpeter1955(multiplicity=multiplicity.MultiplicityUnresolved()),\n",
    "                                    2000, ifmr=ifmr.IFMR_Spera15())\n",
    "clus_2=synthetic.ResolvedCluster(iso2, imf.IMFSalpeter1955(multiplicity=multiplicity.MultiplicityUnresolved()),\n",
    "                                 2000, ifmr=ifmr.IFMR_Spera15())"
   ]
  },
  {
   "cell_type": "markdown",
   "metadata": {},
   "source": [
    "Taking a look at the Binary Cluster vs Default Settings cluster Observer's HR Diagram\n",
    "Remember to use a distance modulus!"
   ]
  },
  {
   "cell_type": "code",
   "execution_count": 24,
   "metadata": {},
   "outputs": [
    {
     "data": {
      "text/plain": [
       "<matplotlib.legend.Legend at 0x7faf29609bd0>"
      ]
     },
     "execution_count": 24,
     "metadata": {},
     "output_type": "execute_result"
    },
    {
     "data": {
      "image/png": "[encoded data removed]",
      "text/plain": [
       "<Figure size 432x288 with 1 Axes>"
      ]
     },
     "metadata": {
      "needs_background": "light"
     },
     "output_type": "display_data"
    }
   ],
   "source": [
    "import matplotlib.pyplot as plt\n",
    "plt.plot(iso1.primaries['m_ubv_B'] - iso1.primaries[\"m_ubv_V\"],\n",
    "         iso1.primaries[\"m_ubv_V\"] - 5 * np.log10(200), \"r.\")\n",
    "plt.plot(iso1.secondaries['m_ubv_B'] - iso1.secondaries[\"m_ubv_V\"],\n",
    "         iso1.secondaries[\"m_ubv_V\"] - 5 * np.log10(200), \"r.\")\n",
    "plt.plot(iso1.singles['m_ubv_B'] - iso1.singles[\"m_ubv_V\"],\n",
    "         iso1.singles[\"m_ubv_V\"] - 5 * np.log10(200), \"r.\", label=\"BPASS isochrone\")\n",
    "plt.plot(iso2.points['m_ubv_B'] - iso2.points[\"m_ubv_V\"],\n",
    "         iso2.points[\"m_ubv_V\"] - 5 * np.log10(200), \"b+\", label=\"MISTv1\", alpha=0.25)\n",
    "plt.xlabel(\"B-V\")\n",
    "plt.ylabel(\"M_V\")\n",
    "plt.title(\"Color magnitude Diagram of Isochrones at solar metallicity and 10**8.2 years age\")\n",
    "plt.gca().invert_yaxis()\n",
    "plt.legend()"
   ]
  },
  {
   "cell_type": "code",
   "execution_count": 25,
   "metadata": {},
   "outputs": [
    {
     "name": "stderr",
     "output_type": "stream",
     "text": [
      "No handles with labels found to put in legend.\n"
     ]
    },
    {
     "data": {
      "text/plain": [
       "<matplotlib.legend.Legend at 0x7faf29594810>"
      ]
     },
     "execution_count": 25,
     "metadata": {},
     "output_type": "execute_result"
    },
    {
     "data": {
      "image/png": "[encoded data removed]",
      "text/plain": [
       "<Figure size 432x288 with 1 Axes>"
      ]
     },
     "metadata": {
      "needs_background": "light"
     },
     "output_type": "display_data"
    }
   ],
   "source": [
    "import matplotlib.pyplot as plt\n",
    "plt.plot(iso1.primaries['m_ubv_B'] - iso1.primaries[\"m_ubv_V\"],\n",
    "         iso1.primaries[\"m_ubv_V\"] - 5 * np.log10(200), \"r.\")\n",
    "plt.xlabel(\"B-V\")\n",
    "plt.ylabel(\"M_V\")\n",
    "plt.title(\"Color magnitude Diagram of Isochrones at solar metallicity and 10**8.2 years age\")\n",
    "plt.gca().invert_yaxis()\n",
    "plt.legend()"
   ]
  },
  {
   "cell_type": "markdown",
   "metadata": {},
   "source": [
    "**Finding where there are extremely low V magnitudes.** This includes looking at the insides of a primary star table"
   ]
  },
  {
   "cell_type": "code",
   "execution_count": 26,
   "metadata": {},
   "outputs": [
    {
     "data": {
      "text/html": [
       "&lt;Column name=&apos;phase&apos; dtype=&apos;float64&apos; length=1&gt;\n",
       "<table>\n",
       "<tr><td>5.0</td></tr>\n",
       "</table>"
      ],
      "text/plain": [
       "<Column name='phase' dtype='float64' length=1>\n",
       "5.0"
      ]
     },
     "execution_count": 26,
     "metadata": {},
     "output_type": "execute_result"
    }
   ],
   "source": [
    "np.unique(iso1.primaries[np.where(iso1.primaries['m_ubv_V'] -\n",
    "                                  np.log10(2000 / 10) > 25.0)]['phase'])"
   ]
  },
  {
   "cell_type": "code",
   "execution_count": 27,
   "metadata": {},
   "outputs": [
    {
     "data": {
      "text/html": [
       "<i>Table length=1815</i>\n",
       "<table id=\"table140388680094736\" class=\"table-striped table-bordered table-condensed\">\n",
       "<thead><tr><th>mass</th><th>L</th><th>Teff</th><th>R</th><th>logg</th><th>isWR</th><th>mass_current</th><th>phase</th><th>source</th><th>m_ubv_U</th><th>m_ubv_V</th><th>m_ubv_B</th><th>m_ubv_R</th><th>m_ubv_I</th></tr></thead>\n",
       "<thead><tr><th>solMass</th><th>W</th><th>K</th><th>m</th><th></th><th></th><th>solMass</th><th></th><th></th><th></th><th></th><th></th><th></th><th></th></tr></thead>\n",
       "<thead><tr><th>float64</th><th>float64</th><th>float64</th><th>float64</th><th>float64</th><th>bool</th><th>float64</th><th>float64</th><th>int64</th><th>float64</th><th>float64</th><th>float64</th><th>float64</th><th>float64</th></tr></thead>\n",
       "<tr><td>4.0</td><td>1.6512085513837888e+29</td><td>11804.837142385752</td><td>3454380426.983821</td><td>3.6465954007915196</td><td>False</td><td>3.99823</td><td>5.0</td><td>1</td><td>9.86496184716698</td><td>10.279991943001715</td><td>10.178178226723732</td><td>10.307936264290616</td><td>10.378173635107114</td></tr>\n",
       "<tr><td>2.5</td><td>1.6113575900964336e+28</td><td>10121.153231315011</td><td>1467996987.039636</td><td>4.185947635975171</td><td>False</td><td>2.5</td><td>5.0</td><td>1</td><td>12.36993537997711</td><td>12.471065725950718</td><td>12.445439722540334</td><td>12.483456293028985</td><td>12.511136163430539</td></tr>\n",
       "<tr><td>3.2</td><td>2.6684675695850012e+29</td><td>11539.048533285553</td><td>4596001526.085306</td><td>3.439199846537764</td><td>False</td><td>4.39028</td><td>5.0</td><td>1</td><td>9.309777560698917</td><td>9.706750252325234</td><td>9.606374503231653</td><td>9.731434303342308</td><td>9.793675978706231</td></tr>\n",
       "<tr><td>2.5</td><td>1.6113575900964336e+28</td><td>10121.153231315011</td><td>1467996987.039636</td><td>4.185947635975171</td><td>False</td><td>2.5</td><td>5.0</td><td>1</td><td>12.36993537997711</td><td>12.471065725950718</td><td>12.445439722540334</td><td>12.483456293028985</td><td>12.511136163430539</td></tr>\n",
       "<tr><td>4.0</td><td>1.6512085513837888e+29</td><td>11804.837142385752</td><td>3454380426.983821</td><td>3.6465954007915196</td><td>False</td><td>3.99823</td><td>5.0</td><td>1</td><td>9.86496184716698</td><td>10.279991943001715</td><td>10.178178226723732</td><td>10.307936264290616</td><td>10.378173635107114</td></tr>\n",
       "<tr><td>2.7</td><td>2.2973223043718043e+28</td><td>10526.403173882261</td><td>1620466899.0834517</td><td>4.133548174454043</td><td>False</td><td>2.69998</td><td>5.0</td><td>1</td><td>11.992553390186595</td><td>12.168986438910974</td><td>12.12008276790784</td><td>12.187762144253877</td><td>12.228180950424713</td></tr>\n",
       "<tr><td>4.5</td><td>2.57846908725305e+28</td><td>37966.45079222193</td><td>131968464.70265502</td><td>5.699129353679022</td><td>True</td><td>0.6586</td><td>5.0</td><td>1</td><td>13.790024194399262</td><td>15.17214879540431</td><td>14.86899347110276</td><td>15.299701748860924</td><td>15.576062198613633</td></tr>\n",
       "<tr><td>3.0</td><td>3.659922836535846e+28</td><td>11286.51855773359</td><td>1779119682.059914</td><td>4.098157300682193</td><td>False</td><td>2.99992</td><td>5.0</td><td>1</td><td>11.5148603689005</td><td>11.816211353058055</td><td>11.738951827943534</td><td>11.842950918896705</td><td>11.90427897069891</td></tr>\n",
       "<tr><td>3.7</td><td>1.0247122525035504e+29</td><td>12181.197929396629</td><td>2555701713.9723654</td><td>3.8745554397075495</td><td>False</td><td>3.6992</td><td>5.0</td><td>1</td><td>10.427053341802601</td><td>10.871372690984762</td><td>10.767004965396476</td><td>10.903247785221327</td><td>10.983548284737163</td></tr>\n",
       "<tr><td>...</td><td>...</td><td>...</td><td>...</td><td>...</td><td>...</td><td>...</td><td>...</td><td>...</td><td>...</td><td>...</td><td>...</td><td>...</td><td>...</td></tr>\n",
       "<tr><td>4.5</td><td>3.8848291972676705e+29</td><td>4524.493826799286</td><td>36069088234.0388</td><td>1.657984548899564</td><td>False</td><td>4.47504</td><td>5.0</td><td>1</td><td>11.804159329588321</td><td>9.302464871471662</td><td>10.56114855726513</td><td>8.734825247325398</td><td>8.0229853880896</td></tr>\n",
       "<tr><td>2.7</td><td>2.2973223043718043e+28</td><td>10526.403173882261</td><td>1620466899.0834517</td><td>4.133548174454043</td><td>False</td><td>2.69998</td><td>5.0</td><td>1</td><td>11.992553390186595</td><td>12.168986438910974</td><td>12.12008276790784</td><td>12.187762144253877</td><td>12.228180950424713</td></tr>\n",
       "<tr><td>4.5</td><td>3.8848291972676705e+29</td><td>4524.493826799286</td><td>36069088234.0388</td><td>1.657984548899564</td><td>False</td><td>4.47504</td><td>5.0</td><td>1</td><td>11.804159329588321</td><td>9.302464871471662</td><td>10.56114855726513</td><td>8.734825247325398</td><td>8.0229853880896</td></tr>\n",
       "<tr><td>2.3</td><td>1.7020093012081e+28</td><td>10193.89134020261</td><td>1487271186.3704646</td><td>4.175445883427656</td><td>False</td><td>2.50483</td><td>5.0</td><td>1</td><td>12.311615009298308</td><td>12.426578098994876</td><td>12.396248487693942</td><td>12.4402709128159</td><td>12.470333799670106</td></tr>\n",
       "<tr><td>2.7</td><td>2.2973223043718043e+28</td><td>10526.403173882261</td><td>1620466899.0834517</td><td>4.133548174454043</td><td>False</td><td>2.69998</td><td>5.0</td><td>1</td><td>11.992553390186595</td><td>12.168986438910974</td><td>12.12008276790784</td><td>12.187762144253877</td><td>12.228180950424713</td></tr>\n",
       "<tr><td>4.5</td><td>2.4009987231794116e+28</td><td>37138.12725377961</td><td>133089920.06548351</td><td>5.693382227118933</td><td>True</td><td>0.66102</td><td>5.0</td><td>1</td><td>13.814680647692308</td><td>15.189501222335926</td><td>14.889348320160826</td><td>15.31648030772537</td><td>15.593709516540057</td></tr>\n",
       "<tr><td>4.5</td><td>2.5182678969823557e+28</td><td>6147.096062173961</td><td>4975081094.768671</td><td>2.9465685215337882</td><td>False</td><td>1.65463</td><td>5.0</td><td>1</td><td>12.368680970645173</td><td>11.70716182200854</td><td>12.257982586225676</td><td>11.426341659990504</td><td>11.075443261773433</td></tr>\n",
       "<tr><td>2.7</td><td>2.0471135319851425e+29</td><td>12430.540131386893</td><td>3468807218.0456147</td><td>3.6682450094935217</td><td>False</td><td>4.23777</td><td>5.0</td><td>1</td><td>9.674937087759247</td><td>10.166563680126176</td><td>10.05334766776997</td><td>10.198736114373107</td><td>10.282585104431101</td></tr>\n",
       "<tr><td>3.5</td><td>7.471743064187931e+28</td><td>12112.394295485958</td><td>2207192258.4573445</td><td>3.9777810712007264</td><td>False</td><td>3.49956</td><td>5.0</td><td>1</td><td>10.774829641453517</td><td>11.201628404788586</td><td>11.10083173208257</td><td>11.233735674844096</td><td>11.313381393395359</td></tr>\n",
       "<tr><td>3.5</td><td>5.7430411633372584e+29</td><td>16801.18833021952</td><td>3180388425.3303137</td><td>3.8865654942707426</td><td>False</td><td>5.88895</td><td>5.0</td><td>1</td><td>8.976639024345708</td><td>9.803885536906789</td><td>9.62953589684369</td><td>9.864932237283984</td><td>10.01796714300459</td></tr>\n",
       "</table>"
      ],
      "text/plain": [
       "<Table length=1815>\n",
       "  mass            L            ...      m_ubv_R            m_ubv_I      \n",
       "solMass           W            ...                                      \n",
       "float64        float64         ...      float64            float64      \n",
       "------- ---------------------- ... ------------------ ------------------\n",
       "    4.0 1.6512085513837888e+29 ... 10.307936264290616 10.378173635107114\n",
       "    2.5 1.6113575900964336e+28 ... 12.483456293028985 12.511136163430539\n",
       "    3.2 2.6684675695850012e+29 ...  9.731434303342308  9.793675978706231\n",
       "    2.5 1.6113575900964336e+28 ... 12.483456293028985 12.511136163430539\n",
       "    4.0 1.6512085513837888e+29 ... 10.307936264290616 10.378173635107114\n",
       "    2.7 2.2973223043718043e+28 ... 12.187762144253877 12.228180950424713\n",
       "    4.5   2.57846908725305e+28 ... 15.299701748860924 15.576062198613633\n",
       "    3.0  3.659922836535846e+28 ... 11.842950918896705  11.90427897069891\n",
       "    3.7 1.0247122525035504e+29 ... 10.903247785221327 10.983548284737163\n",
       "    ...                    ... ...                ...                ...\n",
       "    4.5 3.8848291972676705e+29 ...  8.734825247325398    8.0229853880896\n",
       "    2.7 2.2973223043718043e+28 ... 12.187762144253877 12.228180950424713\n",
       "    4.5 3.8848291972676705e+29 ...  8.734825247325398    8.0229853880896\n",
       "    2.3    1.7020093012081e+28 ...   12.4402709128159 12.470333799670106\n",
       "    2.7 2.2973223043718043e+28 ... 12.187762144253877 12.228180950424713\n",
       "    4.5 2.4009987231794116e+28 ...  15.31648030772537 15.593709516540057\n",
       "    4.5 2.5182678969823557e+28 ... 11.426341659990504 11.075443261773433\n",
       "    2.7 2.0471135319851425e+29 ... 10.198736114373107 10.282585104431101\n",
       "    3.5  7.471743064187931e+28 ... 11.233735674844096 11.313381393395359\n",
       "    3.5 5.7430411633372584e+29 ...  9.864932237283984  10.01796714300459"
      ]
     },
     "execution_count": 27,
     "metadata": {},
     "output_type": "execute_result"
    }
   ],
   "source": [
    "iso1.primaries[np.where((iso1.primaries['m_ubv_V'] - 10 <  25.0) &\n",
    "                        (iso1.primaries['phase'] == 5))]"
   ]
  },
  {
   "cell_type": "code",
   "execution_count": 28,
   "metadata": {},
   "outputs": [
    {
     "data": {
      "text/plain": [
       "-1.4943756354369313"
      ]
     },
     "execution_count": 28,
     "metadata": {},
     "output_type": "execute_result"
    }
   ],
   "source": [
    "np.min(([x - 10 for x in iso1.secondaries[\"m_ubv_V\"] if np.isfinite(x)]))"
   ]
  },
  {
   "cell_type": "markdown",
   "metadata": {},
   "source": [
    "Plotting the HR Diagram of the Isochrones"
   ]
  },
  {
   "cell_type": "code",
   "execution_count": 29,
   "metadata": {},
   "outputs": [
    {
     "data": {
      "text/plain": [
       "<matplotlib.legend.Legend at 0x7faf39e78350>"
      ]
     },
     "execution_count": 29,
     "metadata": {},
     "output_type": "execute_result"
    },
    {
     "data": {
      "image/png": "[encoded data removed]",
      "text/plain": [
       "<Figure size 432x288 with 1 Axes>"
      ]
     },
     "metadata": {
      "needs_background": "light"
     },
     "output_type": "display_data"
    }
   ],
   "source": [
    "import matplotlib.pyplot as plt\n",
    "plt.plot(np.log10(iso1.primaries['Teff']), np.log10(iso1.primaries[\"L\"]), \"r.\")\n",
    "plt.plot(np.log10(iso1.secondaries['Teff']), np.log10(iso1.secondaries[\"L\"]), \"r.\")\n",
    "plt.plot(np.log10(iso1.singles['Teff']), np.log10(iso1.singles[\"L\"]),\n",
    "         \"r.\", label=\"BPASS isochrone\")\n",
    "plt.plot(np.log10(iso2.points['Teff']), np.log10(iso2.points[\"L\"]),\n",
    "         \"b+\", label=\"MISTv1\", alpha=0.25)\n",
    "plt.xlabel(\"log10(T in kelvin)\")\n",
    "plt.ylabel(\"log10(L in watts)\")\n",
    "plt.title(\"HR Diagram of Isochrones at solar metallicity and 10**8.2 years age\")\n",
    "plt.gca().invert_xaxis()\n",
    "plt.legend()\n",
    "# Rough pattern seems to fit. What's that line?"
   ]
  },
  {
   "cell_type": "markdown",
   "metadata": {},
   "source": [
    "Plot the mass-luminosity relationship of the clusters (primary stars)"
   ]
  },
  {
   "cell_type": "code",
   "execution_count": 30,
   "metadata": {},
   "outputs": [
    {
     "name": "stderr",
     "output_type": "stream",
     "text": [
      "/opt/anaconda3/envs/astroconda/lib/python3.7/site-packages/astropy/units/quantity.py:479: RuntimeWarning: divide by zero encountered in log10\n",
      "  result = super().__array_ufunc__(function, method, *arrays, **kwargs)\n"
     ]
    },
    {
     "data": {
      "text/plain": [
       "<matplotlib.legend.Legend at 0x7faf295b2190>"
      ]
     },
     "execution_count": 30,
     "metadata": {},
     "output_type": "execute_result"
    },
    {
     "data": {
      "image/png": "[encoded data removed]",
      "text/plain": [
       "<Figure size 432x288 with 1 Axes>"
      ]
     },
     "metadata": {
      "needs_background": "light"
     },
     "output_type": "display_data"
    }
   ],
   "source": [
    "from astropy import constants as cs\n",
    "from astropy import units as u\n",
    "import matplotlib.pyplot as plt\n",
    "plt.plot(np.log10(clus_1.star_systems['mass_current']),\n",
    "         np.log10(clus_1.star_systems[\"L\"] / cs.L_sun),\n",
    "         \"r.\", label=\"Cluster_w_Binaries made from BPASS \", alpha =1)\n",
    "plt.plot(np.log10(clus_2.star_systems['mass_current']),\n",
    "         np.log10(clus_2.star_systems[\"L\"] / (cs.L_sun * 1 / u.W)),\n",
    "         \"b+\", label=\"Cluster made from MISTv.1\", alpha=0.1)\n",
    "plt.xlabel(\"log10(Current Mass in solar masses)\")\n",
    "plt.ylabel(\"log10(L/L_solar)\")\n",
    "plt.title(\"log-Mass-logL of Cluster at solar metallicity and\" +\n",
    "          \" 10**8.2 years age (primaries and singles)\")\n",
    "plt.legend()\n",
    "# Rough pattern seems to fit. What's that line?"
   ]
  },
  {
   "cell_type": "markdown",
   "metadata": {},
   "source": [
    "Plot the mass-luminosity relationship of the isochrone"
   ]
  },
  {
   "cell_type": "code",
   "execution_count": 31,
   "metadata": {},
   "outputs": [
    {
     "data": {
      "text/plain": [
       "<matplotlib.legend.Legend at 0x7faef9dda350>"
      ]
     },
     "execution_count": 31,
     "metadata": {},
     "output_type": "execute_result"
    },
    {
     "data": {
      "image/png": "[encoded data removed]",
      "text/plain": [
       "<Figure size 432x288 with 1 Axes>"
      ]
     },
     "metadata": {
      "needs_background": "light"
     },
     "output_type": "display_data"
    }
   ],
   "source": [
    "# Plot the mass-luminosity relationship\n",
    "from astropy import constants as cs\n",
    "import matplotlib.pyplot as plt\n",
    "plt.plot(np.log10(iso1.primaries['mass_current']),\n",
    "         np.log10(iso1.primaries[\"L\"] / cs.L_sun), \"r.\")\n",
    "plt.plot(np.log10(iso1.secondaries['mass_current']),\n",
    "         np.log10(iso1.secondaries[\"L\"] / cs.L_sun), \"r.\")\n",
    "plt.plot(np.log10(iso1.singles['mass_current']),\n",
    "         np.log10(iso1.singles[\"L\"] / cs.L_sun), \"r.\", label=\"BPASS isochrone\")\n",
    "plt.plot(np.log10(iso2.points['mass_current']),\n",
    "         np.log10(iso2.points[\"L\"] / cs.L_sun), \"b+\", label=\"MISTv1\", alpha=0.25)\n",
    "plt.xlabel(\"log10(Current Mass in solar masses)\")\n",
    "plt.ylabel(\"log10(L/L_solar)\")\n",
    "plt.title(\"log Mass-logL of Isochrones at solar metallicity and 10**8.2 years age\")\n",
    "plt.legend()\n",
    "# Rough pattern seems to fit. What's that line?"
   ]
  },
  {
   "cell_type": "markdown",
   "metadata": {},
   "source": [
    "Examining the phases of primary stars that have luminosities of less than L_sun * 1/sqrt(2)"
   ]
  },
  {
   "cell_type": "code",
   "execution_count": 32,
   "metadata": {},
   "outputs": [
    {
     "name": "stderr",
     "output_type": "stream",
     "text": [
      "/opt/anaconda3/envs/astroconda/lib/python3.7/site-packages/astropy/units/quantity.py:479: RuntimeWarning: divide by zero encountered in log10\n",
      "  result = super().__array_ufunc__(function, method, *arrays, **kwargs)\n"
     ]
    },
    {
     "data": {
      "text/html": [
       "&lt;Column name=&apos;phase&apos; dtype=&apos;float64&apos; length=2&gt;\n",
       "<table>\n",
       "<tr><td>5.0</td></tr>\n",
       "<tr><td>101.0</td></tr>\n",
       "</table>"
      ],
      "text/plain": [
       "<Column name='phase' dtype='float64' length=2>\n",
       "  5.0\n",
       "101.0"
      ]
     },
     "execution_count": 32,
     "metadata": {},
     "output_type": "execute_result"
    }
   ],
   "source": [
    "np.unique(clus_1.star_systems[np.where(np.log10(clus_1.star_systems['L'] / cs.L_sun) < -0.5)]['phase'])"
   ]
  },
  {
   "cell_type": "markdown",
   "metadata": {},
   "source": [
    "Sanity check no phase 0 stars."
   ]
  },
  {
   "cell_type": "code",
   "execution_count": 33,
   "metadata": {},
   "outputs": [
    {
     "data": {
      "text/html": [
       "<i>Table length=0</i>\n",
       "<table id=\"table140390291158992\" class=\"table-striped table-bordered table-condensed\">\n",
       "<thead><tr><th>mass</th><th>systemMass</th><th>Teff</th><th>L</th><th>logg</th><th>isWR</th><th>mass_current</th><th>phase</th><th>metallicity</th><th>isMultiple</th><th>merged</th><th>m_ubv_U</th><th>m_ubv_V</th><th>m_ubv_B</th><th>m_ubv_R</th><th>m_ubv_I</th></tr></thead>\n",
       "<thead><tr><th>solMass</th><th>solMass</th><th>K</th><th>W</th><th></th><th></th><th>solMass</th><th></th><th></th><th></th><th></th><th></th><th></th><th></th><th></th><th></th></tr></thead>\n",
       "<thead><tr><th>float64</th><th>float64</th><th>float64</th><th>float64</th><th>float64</th><th>bool</th><th>float64</th><th>float64</th><th>float64</th><th>bool</th><th>bool</th><th>float64</th><th>float64</th><th>float64</th><th>float64</th><th>float64</th></tr></thead>\n",
       "</table>"
      ],
      "text/plain": [
       "<Table length=0>\n",
       "  mass  systemMass   Teff     L      logg  ... m_ubv_V m_ubv_B m_ubv_R m_ubv_I\n",
       "solMass  solMass      K       W            ...                                \n",
       "float64  float64   float64 float64 float64 ... float64 float64 float64 float64\n",
       "------- ---------- ------- ------- ------- ... ------- ------- ------- -------"
      ]
     },
     "execution_count": 33,
     "metadata": {},
     "output_type": "execute_result"
    }
   ],
   "source": [
    "clus_1.star_systems[np.where(clus_1.star_systems['phase']==0)]"
   ]
  },
  {
   "cell_type": "markdown",
   "metadata": {},
   "source": [
    "Taking a look at the Binary Cluster vs Default Settings cluster Observer's HR Diagram\n",
    "Remember to use a distance modulus!"
   ]
  },
  {
   "cell_type": "code",
   "execution_count": 34,
   "metadata": {},
   "outputs": [
    {
     "data": {
      "text/plain": [
       "<matplotlib.legend.Legend at 0x7faf29718810>"
      ]
     },
     "execution_count": 34,
     "metadata": {},
     "output_type": "execute_result"
    },
    {
     "data": {
      "image/png": "[encoded data removed]",
      "text/plain": [
       "<Figure size 432x288 with 1 Axes>"
      ]
     },
     "metadata": {
      "needs_background": "light"
     },
     "output_type": "display_data"
    }
   ],
   "source": [
    "# Taking a look at the Binary Cluster vs Default Settings cluster Observer's HR Diagram\n",
    "# Remember to use a distance modulus!\n",
    "import matplotlib.pyplot as plt\n",
    "plt.plot(clus_1.star_systems['m_ubv_B'] - clus_1.star_systems[\"m_ubv_V\"],\n",
    "         clus_1.star_systems[\"m_ubv_V\"] - 5 * np.log10(200), \"r.\",label=\"BPASS\")\n",
    "plt.plot(clus_2.star_systems['m_ubv_B'] - clus_2.star_systems[\"m_ubv_V\"],\n",
    "         clus_2.star_systems[\"m_ubv_V\"] - 5 * np.log10(200), \"b+\",\n",
    "         label=\"MISTv1\", alpha=0.2)\n",
    "plt.xlabel(\"B-V\")\n",
    "plt.ylabel(\"M_V\")\n",
    "plt.title(\"Color magnitude Diagram of clusters at solar metallicity and 10**8.2 years age\")\n",
    "plt.gca().invert_yaxis()\n",
    "plt.legend()"
   ]
  },
  {
   "cell_type": "markdown",
   "metadata": {},
   "source": [
    "One thing to note about the Cluster_w_Binaries is that it does include the units as information for columns.\n",
    "The usual ResolvedCluster does not. Thus the latter has a disadvantage when we do comparisons with solar luminosity.\n",
    "\n",
    "In any case let's compare the actual masses of the cluster"
   ]
  },
  {
   "cell_type": "code",
   "execution_count": 35,
   "metadata": {},
   "outputs": [
    {
     "data": {
      "text/plain": [
       "1815.80763"
      ]
     },
     "execution_count": 35,
     "metadata": {},
     "output_type": "execute_result"
    }
   ],
   "source": [
    "np.sum(clus_1.star_systems['systemMass'])"
   ]
  },
  {
   "cell_type": "code",
   "execution_count": 36,
   "metadata": {},
   "outputs": [
    {
     "data": {
      "text/plain": [
       "1995.0679854826521"
      ]
     },
     "execution_count": 36,
     "metadata": {},
     "output_type": "execute_result"
    }
   ],
   "source": [
    "np.sum(clus_2.star_systems['systemMass'])"
   ]
  }
 ],
 "metadata": {
  "kernelspec": {
   "display_name": "astroconda",
   "language": "python",
   "name": "astroconda"
  },
  "language_info": {
   "codemirror_mode": {
    "name": "ipython",
    "version": 3
   },
   "file_extension": ".py",
   "mimetype": "text/x-python",
   "name": "python",
   "nbconvert_exporter": "python",
   "pygments_lexer": "ipython3",
   "version": "3.7.10"
  }
 },
 "nbformat": 4,
 "nbformat_minor": 4
}
