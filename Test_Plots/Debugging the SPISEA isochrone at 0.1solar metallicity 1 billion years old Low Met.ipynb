{
 "cells": [
  {
   "cell_type": "markdown",
   "metadata": {},
   "source": [
    "## Testing and Debugging the BPASS isochrone at 10^9 years age.\n",
    "In this BPASS isochrone and cluster plot, I go over the BPASS isochrone for 1 billion years age, 0.1solar metallicity, AKs=0.0, and distance of 1000 parsecs from Earth. From the isochrone and cluster, we discuss several plots such as the log_g frequency distribution of the isochrone, the color magnitude diagram (B-V vs M_V), and the current-mass luminosity relationship of the cluster."
   ]
  },
  {
   "cell_type": "markdown",
   "metadata": {},
   "source": [
    "For a sanity check, we can see that the primaries, secondaries, and single stars have phasees of 5 or of 101 or 110 (for the case of compact remnant primary from secondary star models). This is since we haven't identified neutron stars or black holes yet. Also, stars with phase of -99 do exist, and those are the secondary stars that have already merged."
   ]
  },
  {
   "cell_type": "markdown",
   "metadata": {},
   "source": [
    "## This is for tutorial as well as debugging and demonstration purposes."
   ]
  },
  {
   "cell_type": "code",
   "execution_count": 1,
   "metadata": {},
   "outputs": [
    {
     "name": "stderr",
     "output_type": "stream",
     "text": [
      "/opt/anaconda3/envs/astroconda/lib/python3.7/site-packages/pysynphot/locations.py:346: UserWarning: Extinction files not found in /g/lu/models/cdbs/extinction\n",
      "  warnings.warn('Extinction files not found in %s' % (extdir, ))\n",
      "/opt/anaconda3/envs/astroconda/lib/python3.7/site-packages/pysynphot/refs.py:125: UserWarning: No thermal tables found, no thermal calculations can be performed. No files found for /g/lu/models/cdbs/mtab/*_tmt.fits\n",
      "  'no thermal calculations can be performed. ' + str(e))\n",
      "/opt/anaconda3/envs/astroconda/lib/python3.7/site-packages/astropy/units/quantity.py:477: RuntimeWarning: invalid value encountered in true_divide\n",
      "  result = super().__array_ufunc__(function, method, *arrays, **kwargs)\n",
      "/u/ryotainagaki/Desktop/PyPopStar/spisea/evolution.py:1771: RuntimeWarning: overflow encountered in power\n",
      "  (1 / cs.au) * un.m)\n",
      "/opt/anaconda3/envs/astroconda/lib/python3.7/site-packages/astropy/table/column.py:1020: RuntimeWarning: invalid value encountered in greater\n",
      "  result = getattr(super(), op)(other)\n",
      "/opt/anaconda3/envs/astroconda/lib/python3.7/site-packages/astropy/table/column.py:1020: RuntimeWarning: invalid value encountered in less_equal\n",
      "  result = getattr(super(), op)(other)\n",
      "/opt/anaconda3/envs/astroconda/lib/python3.7/site-packages/astropy/units/quantity.py:477: RuntimeWarning: divide by zero encountered in true_divide\n",
      "  result = super().__array_ufunc__(function, method, *arrays, **kwargs)\n"
     ]
    },
    {
     "name": "stdout",
     "output_type": "stream",
     "text": [
      "Changing to logg=5.00 for T= 31808 logg=8.00\n",
      "Changing to logg=5.00 for T= 31822 logg=8.00\n",
      "Changing to logg=5.00 for T= 31822 logg=8.00\n",
      "Changing to logg=5.00 for T= 31822 logg=8.00\n",
      "Changing to logg=5.00 for T= 31822 logg=8.00\n",
      "Changing to logg=5.00 for T= 31786 logg=8.00\n",
      "Changing to logg=5.00 for T= 24130 logg=5.67\n",
      "Changing to logg=5.00 for T= 18944 logg=5.21\n",
      "Changing to logg=5.00 for T= 25829 logg=6.01\n",
      "Changing to logg=5.00 for T= 24127 logg=5.39\n",
      "Changing to logg=5.00 for T= 24970 logg=5.77\n",
      "Changing to logg=5.00 for T= 25764 logg=5.90\n",
      "Changing to logg=5.00 for T= 25621 logg=5.91\n",
      "Changing to logg=5.00 for T= 27695 logg=5.91\n",
      "Changing to logg=5.00 for T= 20295 logg=5.48\n",
      "Changing to logg=5.00 for T= 31822 logg=8.00\n",
      "Changing to logg=5.00 for T= 29292 logg=8.01\n",
      "Changing to logg=5.00 for T= 26557 logg=5.76\n",
      "Changing to logg=5.00 for T= 31822 logg=8.00\n",
      "Changing to logg=5.00 for T= 38896 logg=6.02\n",
      "Changing to logg=5.00 for T= 31822 logg=8.00\n",
      "Changing to logg=5.00 for T= 43334 logg=6.20\n",
      "Changing to logg=5.00 for T= 20293 logg=5.24\n",
      "Changing to logg=5.00 for T= 25905 logg=6.07\n",
      "Changing to logg=5.00 for T= 31822 logg=8.00\n",
      "Changing to logg=5.00 for T= 29247 logg=8.00\n",
      "Changing to logg=5.00 for T= 21758 logg=7.13\n",
      "Changing to logg=5.00 for T= 31822 logg=8.00\n",
      "Changing to logg=5.00 for T= 25237 logg=5.78\n",
      "Changing to logg=5.00 for T= 25709 logg=5.87\n",
      "Changing to logg=5.00 for T= 29641 logg=5.84\n",
      "Changing to logg=5.00 for T= 27689 logg=5.89\n",
      "Changing to logg=5.00 for T= 31822 logg=8.00\n",
      "Changing to logg=5.00 for T= 25833 logg=6.03\n",
      "Changing to logg=5.00 for T= 31822 logg=8.00\n",
      "Changing to logg=5.00 for T= 25857 logg=6.04\n",
      "Changing to logg=5.00 for T= 31822 logg=8.00\n",
      "Changing to logg=5.00 for T= 31822 logg=8.00\n",
      "Changing to logg=5.00 for T= 25785 logg=6.00\n",
      "Changing to logg=5.00 for T= 31822 logg=8.00\n",
      "Changing to logg=5.00 for T= 31822 logg=8.00\n",
      "Changing to logg=5.00 for T= 25785 logg=5.94\n",
      "Changing to logg=5.00 for T= 29247 logg=8.00\n",
      "Changing to logg=5.00 for T= 25707 logg=5.87\n",
      "Changing to logg=5.00 for T= 26555 logg=5.78\n",
      "Changing to logg=5.00 for T= 25762 logg=5.97\n",
      "Changing to logg=5.00 for T= 29214 logg=8.00\n",
      "Changing to logg=5.00 for T= 29214 logg=8.00\n",
      "Changing to logg=5.00 for T= 31822 logg=8.00\n",
      "Changing to logg=5.00 for T= 27945 logg=5.91\n",
      "Changing to logg=5.00 for T= 29214 logg=8.00\n",
      "Changing to logg=5.00 for T= 26654 logg=5.72\n",
      "Changing to logg=5.00 for T= 19571 logg=5.43\n",
      "Changing to logg=5.00 for T= 29252 logg=8.00\n",
      "Changing to logg=5.00 for T= 31822 logg=8.00\n",
      "Changing to logg=5.00 for T= 31822 logg=8.00\n",
      "Changing to logg=5.00 for T= 31822 logg=8.00\n",
      "Changing to logg=5.00 for T= 31822 logg=8.00\n",
      "Changing to logg=5.00 for T= 25745 logg=5.86\n",
      "Changing to logg=5.00 for T= 31822 logg=8.00\n",
      "Changing to logg=5.00 for T= 31822 logg=8.00\n",
      "Changing to logg=5.00 for T= 25765 logg=5.92\n",
      "Changing to logg=5.00 for T= 31822 logg=8.00\n",
      "Changing to logg=5.00 for T= 31822 logg=8.00\n",
      "Changing to logg=5.00 for T= 31822 logg=8.00\n",
      "Changing to logg=5.00 for T= 31822 logg=8.00\n",
      "Changing to logg=5.00 for T= 31828 logg=8.00\n",
      "Changing to logg=0.50 for T=  6013 logg=0.28\n",
      "Changing to logg=5.00 for T= 31822 logg=8.00\n",
      "Changing to logg=5.00 for T= 25181 logg=6.03\n",
      "Changing to logg=5.00 for T= 31822 logg=8.00\n",
      "Changing to logg=5.00 for T= 31822 logg=8.00\n",
      "Changing to logg=5.00 for T= 31822 logg=8.00\n",
      "Changing to logg=5.00 for T= 31822 logg=8.00\n",
      "Changing to logg=5.00 for T= 31822 logg=8.00\n",
      "Changing to logg=5.00 for T= 25818 logg=6.01\n",
      "Changing to logg=5.00 for T= 21696 logg=5.45\n",
      "Changing to logg=5.00 for T= 31822 logg=8.00\n",
      "Changing to logg=5.00 for T= 31822 logg=8.00\n",
      "Changing to logg=5.00 for T= 31822 logg=8.00\n",
      "Changing to logg=5.00 for T= 26542 logg=5.98\n",
      "Changing to logg=5.00 for T= 26494 logg=5.67\n",
      "Changing to logg=5.00 for T= 25758 logg=5.91\n",
      "Changing to logg=5.00 for T= 26611 logg=5.73\n",
      "Changing to logg=5.00 for T= 41397 logg=6.10\n",
      "Changing to logg=5.00 for T= 31822 logg=8.00\n",
      "Changing to logg=5.00 for T= 31822 logg=8.00\n",
      "Changing to logg=5.00 for T= 29780 logg=5.90\n",
      "Changing to logg=5.00 for T= 31822 logg=8.00\n",
      "Changing to logg=5.00 for T= 31822 logg=8.00\n",
      "Changing to logg=5.00 for T= 25245 logg=5.78\n",
      "Changing to logg=5.00 for T= 23510 logg=5.82\n",
      "Changing to logg=5.00 for T= 31822 logg=8.00\n",
      "Changing to logg=5.00 for T= 31822 logg=8.00\n",
      "Changing to logg=5.00 for T= 25146 logg=5.76\n",
      "Changing to logg=5.00 for T= 19582 logg=5.14\n",
      "Changing to logg=5.00 for T= 25645 logg=5.82\n",
      "Changing to logg=5.00 for T= 29214 logg=8.00\n",
      "Changing to logg=5.00 for T= 31822 logg=8.00\n",
      "Changing to logg=5.00 for T= 31822 logg=8.00\n",
      "Changing to logg=5.00 for T= 21277 logg=5.21\n",
      "Changing to logg=5.00 for T= 31822 logg=8.00\n",
      "Changing to logg=5.00 for T= 29214 logg=8.00\n",
      "Changing to logg=2.50 for T= 12550 logg=1.68\n",
      "Changing to logg=3.00 for T= 20042 logg=2.76\n",
      "Changing to logg=5.00 for T= 31822 logg=8.00\n",
      "Changing to logg=5.00 for T= 31822 logg=8.00\n",
      "Changing to logg=0.50 for T=  6322 logg=0.41\n",
      "Changing to logg=5.00 for T= 31822 logg=8.00\n",
      "Changing to logg=5.00 for T= 29247 logg=8.00\n",
      "Changing to logg=5.00 for T= 25858 logg=6.05\n",
      "Changing to logg=5.00 for T= 31822 logg=8.00\n",
      "Changing to logg=5.00 for T= 25907 logg=6.07\n",
      "Changing to logg=5.00 for T= 29214 logg=8.00\n",
      "Changing to logg=5.00 for T= 31822 logg=8.00\n",
      "Changing to logg=5.00 for T= 31822 logg=8.00\n",
      "Changing to logg=5.00 for T= 20462 logg=5.35\n",
      "Changing to logg=0.50 for T=  6052 logg=0.32\n",
      "Changing to logg=5.00 for T= 30678 logg=5.89\n",
      "Changing to logg=3.00 for T= 24984 logg=2.88\n",
      "Changing to logg=5.00 for T= 29214 logg=8.00\n",
      "Changing to logg=5.00 for T= 31822 logg=8.00\n",
      "Changing to logg=5.00 for T= 25820 logg=5.63\n",
      "Changing to logg=5.00 for T= 31822 logg=8.00\n",
      "Changing to logg=5.00 for T= 31822 logg=8.00\n",
      "Changing to logg=5.00 for T= 25760 logg=6.22\n",
      "Changing to logg=5.00 for T= 26386 logg=5.66\n",
      "Changing to logg=5.00 for T= 31822 logg=8.00\n",
      "Changing to logg=5.00 for T= 24997 logg=5.96\n",
      "Changing to logg=5.00 for T= 31785 logg=8.00\n",
      "Changing to logg=5.00 for T= 31822 logg=8.00\n",
      "Changing to logg=5.00 for T= 26555 logg=5.68\n",
      "Changing to logg=1.00 for T=  7909 logg=0.93\n",
      "Changing to logg=5.00 for T= 31822 logg=8.00\n",
      "Changing to logg=5.00 for T= 25801 logg=6.00\n",
      "Changing to logg=5.00 for T= 29367 logg=5.86\n",
      "Changing to logg=5.00 for T= 25777 logg=5.93\n",
      "Changing to logg=5.00 for T= 23626 logg=5.84\n",
      "Changing to logg=5.00 for T= 21643 logg=5.09\n",
      "Changing to logg=5.00 for T= 25758 logg=5.90\n",
      "Changing to logg=5.00 for T= 31822 logg=8.00\n",
      "Changing to logg=5.00 for T= 31822 logg=8.00\n",
      "Changing to logg=5.00 for T= 25355 logg=5.78\n",
      "Changing to logg=5.00 for T= 28111 logg=5.91\n",
      "Changing to logg=5.00 for T= 29214 logg=8.00\n",
      "Changing to logg=5.00 for T= 25689 logg=5.86\n",
      "Changing to logg=5.00 for T= 29214 logg=8.00\n",
      "Changing to logg=5.00 for T= 25787 logg=5.93\n",
      "Changing to logg=5.00 for T= 29233 logg=8.00\n",
      "Changing to logg=5.00 for T= 24127 logg=5.71\n",
      "Changing to logg=5.00 for T= 29214 logg=8.00\n",
      "Changing to logg=5.00 for T= 31822 logg=8.00\n",
      "Changing to logg=5.00 for T= 31822 logg=8.00\n",
      "Changing to logg=5.00 for T= 21458 logg=5.08\n",
      "Changing to logg=5.00 for T= 22736 logg=5.74\n",
      "Changing to logg=5.00 for T= 31822 logg=8.00\n",
      "Changing to logg=5.00 for T= 31822 logg=8.00\n",
      "Changing to logg=4.00 for T= 33537 logg=3.83\n",
      "Changing to logg=5.00 for T= 31822 logg=8.00\n",
      "Changing to logg=5.00 for T= 31822 logg=8.00\n",
      "Changing to logg=5.00 for T= 31822 logg=8.00\n",
      "Changing to logg=5.00 for T= 25710 logg=5.86\n",
      "Changing to logg=5.00 for T= 29242 logg=8.00\n",
      "Changing to logg=5.00 for T= 31822 logg=8.00\n",
      "Changing to logg=5.00 for T= 31822 logg=8.00\n",
      "Changing to logg=5.00 for T= 29247 logg=8.00\n",
      "Changing to logg=5.00 for T= 31822 logg=8.00\n",
      "Changing to logg=5.00 for T= 31822 logg=8.00\n",
      "Changing to logg=5.00 for T= 25854 logg=6.03\n",
      "Changing to logg=5.00 for T= 25729 logg=5.88\n",
      "Changing to logg=5.00 for T= 30805 logg=6.87\n",
      "Changing to logg=5.00 for T= 29246 logg=8.00\n",
      "Changing to logg=5.00 for T= 29214 logg=8.00\n",
      "Changing to logg=5.00 for T= 31822 logg=8.00\n",
      "Changing to logg=5.00 for T= 26671 logg=5.76\n",
      "Changing to logg=5.00 for T= 31822 logg=8.00\n",
      "Changing to logg=5.00 for T= 31822 logg=8.00\n",
      "Changing to logg=5.00 for T= 31822 logg=8.00\n",
      "Changing to logg=5.00 for T= 29214 logg=8.00\n",
      "Changing to logg=5.00 for T= 25801 logg=6.01\n",
      "Changing to logg=5.00 for T= 19775 logg=5.37\n",
      "Changing to logg=5.00 for T= 24680 logg=5.95\n",
      "Changing to T=  2300 for T=  1904 logg=4.44\n"
     ]
    },
    {
     "name": "stdout",
     "output_type": "stream",
     "text": [
      "Changing to T=  2300 for T=  2077 logg=4.44\n",
      "Changing to T=  2300 for T=  1558 logg=4.44\n",
      "Changing to T=  2300 for T=  1558 logg=4.44\n",
      "Changing to T=  2300 for T=  2077 logg=4.44\n",
      "Changing to T=  2300 for T=  2077 logg=4.44\n",
      "Changing to logg=5.00 for T= 24619 logg=6.09\n",
      "Changing to logg=5.00 for T= 27485 logg=6.04\n",
      "Changing to logg=5.00 for T= 26797 logg=5.90\n",
      "Changing to logg=5.00 for T= 25251 logg=6.10\n",
      "Changing to T=  2300 for T=  1558 logg=4.44\n",
      "Changing to T=  2300 for T=  1904 logg=4.44\n",
      "Changing to T=  2300 for T=  1904 logg=4.44\n",
      "Changing to T=  2300 for T=  1904 logg=4.44\n",
      "Changing to T=  2300 for T=  2077 logg=4.44\n",
      "Changing to T=  2300 for T=  1904 logg=4.44\n",
      "Changing to logg=5.00 for T= 26972 logg=5.82\n",
      "Changing to T=  2300 for T=  2000 logg=5.39\n",
      "Changing to T=  2300 for T=  1904 logg=4.44\n",
      "Changing to T=  2300 for T=  2077 logg=4.44\n",
      "Changing to T=  2300 for T=  2000 logg=5.39\n",
      "Changing to logg=5.00 for T= 25138 logg=5.98\n",
      "Changing to logg=5.00 for T= 25196 logg=6.07\n",
      "Changing to T=  2300 for T=  2000 logg=5.39\n",
      "Changing to T=  2300 for T=  2000 logg=5.39\n",
      "Changing to logg=5.00 for T= 28694 logg=6.11\n",
      "Changing to logg=5.00 for T= 26871 logg=5.88\n",
      "Changing to logg=5.00 for T= 31205 logg=6.22\n",
      "Changing to T=  2300 for T=  2077 logg=4.44\n",
      "Changing to logg=5.00 for T= 25111 logg=5.99\n",
      "Changing to logg=5.00 for T= 29293 logg=8.01\n",
      "Changing to logg=5.00 for T= 26775 logg=5.83\n",
      "Changing to logg=5.00 for T= 26441 logg=6.20\n",
      "Changing to logg=5.00 for T= 27404 logg=6.06\n",
      "Changing to T=  2300 for T=  2000 logg=5.39\n",
      "Changing to T=  2300 for T=  1904 logg=4.44\n",
      "Changing to T=  2300 for T=  2077 logg=4.44\n",
      "Changing to logg=5.00 for T= 25498 logg=6.07\n",
      "Changing to logg=5.00 for T= 26685 logg=5.95\n",
      "Changing to T=  2300 for T=  2000 logg=5.39\n",
      "Changing to logg=5.00 for T= 25344 logg=6.12\n",
      "Changing to T=  2300 for T=  2077 logg=4.44\n",
      "Changing to logg=5.00 for T= 25489 logg=6.13\n",
      "Changing to logg=5.00 for T= 25092 logg=6.01\n",
      "Changing to T=  2300 for T=  1904 logg=4.44\n",
      "Changing to logg=2.00 for T= 10370 logg=1.99\n",
      "Changing to logg=5.00 for T= 28191 logg=6.01\n",
      "Changing to T=  2300 for T=  1558 logg=4.44\n",
      "Changing to T=  2300 for T=  1904 logg=4.44\n",
      "Changing to T=  2300 for T=  1558 logg=4.44\n",
      "Changing to T=  2300 for T=  2077 logg=4.44\n",
      "Changing to logg=5.00 for T= 26779 logg=5.84\n",
      "Changing to T=  2300 for T=  2000 logg=5.39\n",
      "Changing to T=  2300 for T=  2000 logg=5.39\n",
      "Changing to T=  2300 for T=  1904 logg=4.44\n",
      "Changing to T=  2300 for T=  1558 logg=4.44\n",
      "Changing to logg=5.00 for T= 40090 logg=6.12\n",
      "Changing to logg=5.00 for T= 29293 logg=8.01\n",
      "Changing to T=  2300 for T=  2000 logg=5.39\n",
      "Changing to T=  2300 for T=  2077 logg=4.44\n",
      "Changing to T=  2300 for T=  1904 logg=4.44\n",
      "Changing to T=  2300 for T=  1904 logg=4.44\n",
      "Changing to logg=5.00 for T= 25823 logg=5.80\n",
      "Changing to T=  2300 for T=  1904 logg=4.44\n",
      "Changing to logg=5.00 for T= 25023 logg=5.94\n",
      "Changing to T=  2300 for T=  1558 logg=4.44\n",
      "Changing to T=  2300 for T=  1904 logg=4.44\n",
      "Changing to logg=5.00 for T= 24975 logg=5.92\n",
      "Changing to T=  2300 for T=  2000 logg=5.39\n",
      "Changing to T=  2300 for T=  1558 logg=4.44\n",
      "Changing to T=  2300 for T=  1558 logg=4.44\n",
      "Changing to logg=5.00 for T= 22770 logg=5.66\n",
      "Changing to T=  2300 for T=  2077 logg=4.44\n",
      "Changing to logg=5.00 for T= 24937 logg=6.13\n",
      "Changing to T=  2300 for T=  1558 logg=4.44\n",
      "Changing to T=  2300 for T=  1558 logg=4.44\n",
      "Changing to logg=5.00 for T= 30164 logg=5.87\n",
      "Changing to T=  2300 for T=  2077 logg=4.44\n",
      "Changing to T=  2300 for T=  1904 logg=4.44\n",
      "Changing to logg=5.00 for T= 25954 logg=5.83\n",
      "Changing to logg=5.00 for T= 23624 logg=5.81\n",
      "Changing to T=  2300 for T=  2077 logg=4.44\n",
      "Changing to logg=5.00 for T= 23774 logg=5.96\n",
      "Changing to T=  2300 for T=  1558 logg=4.44\n",
      "Changing to T=  2300 for T=  2000 logg=5.39\n",
      "Changing to T=  2300 for T=  2000 logg=5.39\n",
      "Changing to T=  2300 for T=  1731 logg=4.44\n",
      "Changing to T=  2300 for T=  2000 logg=5.39\n",
      "Changing to T=  2300 for T=  1558 logg=4.44\n",
      "Changing to logg=5.00 for T= 26673 logg=5.98\n",
      "Changing to logg=5.00 for T= 37599 logg=6.16\n",
      "Changing to T=  2300 for T=  2077 logg=4.44\n",
      "Changing to T=  2300 for T=  2000 logg=5.39\n",
      "Changing to logg=5.00 for T= 26745 logg=5.84\n",
      "Changing to T=  2300 for T=  1558 logg=4.44\n",
      "Changing to logg=5.00 for T= 30086 logg=5.84\n",
      "Changing to T=  2300 for T=  1558 logg=4.44\n",
      "Changing to logg=5.00 for T= 24353 logg=5.55\n",
      "Changing to logg=5.00 for T= 25372 logg=6.18\n",
      "Changing to T=  2300 for T=  1558 logg=4.44\n",
      "Changing to logg=5.00 for T= 26753 logg=5.85\n",
      "Changing to T=  2300 for T=  2000 logg=5.39\n",
      "Changing to logg=5.00 for T= 26881 logg=5.88\n",
      "Changing to logg=5.00 for T= 24726 logg=5.82\n",
      "Changing to T=  2300 for T=  2000 logg=5.39\n",
      "Changing to logg=5.00 for T= 25774 logg=5.93\n",
      "Changing to T=  2300 for T=  2077 logg=4.44\n",
      "Changing to logg=5.00 for T= 27088 logg=5.79\n",
      "Changing to T=  2300 for T=  2000 logg=5.39\n",
      "Changing to T=  2300 for T=  2077 logg=4.44\n",
      "Changing to T=  2300 for T=  2000 logg=5.39\n",
      "Changing to logg=5.00 for T= 25409 logg=6.17\n",
      "Changing to logg=5.00 for T= 26884 logg=5.86\n",
      "Changing to T=  2300 for T=  2000 logg=5.39\n",
      "Changing to logg=5.00 for T= 25274 logg=6.09\n",
      "Changing to T=  2300 for T=  2077 logg=4.44\n",
      "Changing to T=  2300 for T=  1904 logg=4.44\n",
      "Changing to logg=5.00 for T= 26207 logg=6.22\n",
      "Changing to logg=5.00 for T= 26947 logg=5.77\n",
      "Changing to T=  2300 for T=  2000 logg=5.39\n",
      "Changing to logg=5.00 for T= 26789 logg=5.84\n",
      "Changing to T=  2300 for T=  1904 logg=4.44\n",
      "Changing to T=  2300 for T=  1904 logg=4.44\n",
      "Changing to logg=5.00 for T= 28409 logg=6.41\n",
      "Changing to T=  2300 for T=  2077 logg=4.44\n",
      "Changing to T=  2300 for T=  1558 logg=4.44\n",
      "Changing to logg=5.00 for T= 21587 logg=5.69\n",
      "Changing to T=  2300 for T=  2000 logg=5.39\n",
      "Changing to T=  2300 for T=  1558 logg=4.44\n",
      "Making photometry for isochrone: log(t) = 9.00  AKs = 0.00  dist = 100\n",
      "     Starting at:  2021-01-04 01:05:10.194578   Usually takes ~5 minutes\n",
      "Starting filter: ubv,U   Elapsed time: 0.00 seconds\n",
      "Starting synthetic photometry\n",
      "Singles\n",
      "M =   4.300 Msun  T = 10871 K  m_ubv_U = 17.40\n",
      "M =   1.140 Msun  T =  7291 K  m_ubv_U = 8.74\n",
      "Primaries\n",
      "M =   3.981 Msun  T =   nan K  m_ubv_U =  nan\n",
      "M =   1.400 Msun  T =   nan K  m_ubv_U =  nan\n",
      "M =   0.316 Msun  T =   nan K  m_ubv_U =  nan\n",
      "M =   1.100 Msun  T =  7045 K  m_ubv_U = 8.94\n",
      "M =   0.900 Msun  T =  6174 K  m_ubv_U = 10.16\n",
      "M =   3.700 Msun  T =  9893 K  m_ubv_U = 17.50\n",
      "M =   2.100 Msun  T =  9820 K  m_ubv_U = 17.28\n",
      "M =   1.259 Msun  T =   nan K  m_ubv_U =  nan\n",
      "M =   2.100 Msun  T =  6000 K  m_ubv_U = 3.15\n",
      "M =   1.300 Msun  T =  8321 K  m_ubv_U = 7.98\n",
      "M =   3.000 Msun  T =  9943 K  m_ubv_U = 17.26\n",
      "M =   0.631 Msun  T =   nan K  m_ubv_U =  nan\n",
      "M =   1.700 Msun  T =  9307 K  m_ubv_U = 6.41\n",
      "M =   5.012 Msun  T =   nan K  m_ubv_U =  nan\n",
      "M =   2.100 Msun  T = 10212 K  m_ubv_U = 17.22\n",
      "M =   1.100 Msun  T =  7042 K  m_ubv_U = 8.94\n",
      "M =   3.200 Msun  T = 12325 K  m_ubv_U = 16.59\n",
      "M =   2.100 Msun  T = 14320 K  m_ubv_U = 15.35\n",
      "M =   0.316 Msun  T =   nan K  m_ubv_U =  nan\n",
      "M =   0.398 Msun  T =   nan K  m_ubv_U =  nan\n",
      "M =   1.800 Msun  T = 10549 K  m_ubv_U = 16.94\n",
      "M =   2.300 Msun  T =  9758 K  m_ubv_U = 17.06\n",
      "M =   1.259 Msun  T =   nan K  m_ubv_U =  nan\n",
      "M =   5.000 Msun  T = 11202 K  m_ubv_U = 16.93\n",
      "M =   1.000 Msun  T =   nan K  m_ubv_U =  nan\n",
      "M =   1.100 Msun  T =  7042 K  m_ubv_U = 8.94\n",
      "M =   0.794 Msun  T =   nan K  m_ubv_U =  nan\n",
      "M =   4.000 Msun  T = 10324 K  m_ubv_U = 17.45\n",
      "M =   3.700 Msun  T =  9897 K  m_ubv_U = 17.50\n",
      "M =   6.310 Msun  T =   nan K  m_ubv_U =  nan\n",
      "M =   2.300 Msun  T =  9783 K  m_ubv_U = 17.52\n",
      "M =   1.900 Msun  T =  5223 K  m_ubv_U = 5.97\n",
      "M =   0.794 Msun  T =   nan K  m_ubv_U =  nan\n",
      "M =   1.995 Msun  T =   nan K  m_ubv_U =  nan\n",
      "M =   0.631 Msun  T =   nan K  m_ubv_U =  nan\n",
      "M =   1.600 Msun  T =  9495 K  m_ubv_U = 6.85\n",
      "M =   5.000 Msun  T = 11398 K  m_ubv_U = 16.85\n",
      "M =   7.000 Msun  T = 13098 K  m_ubv_U = 16.70\n",
      "M =   2.000 Msun  T = 31822 K  m_ubv_U = 13.65\n",
      "M =   3.200 Msun  T =  8094 K  m_ubv_U = 17.71\n",
      "M =   0.794 Msun  T =   nan K  m_ubv_U =  nan\n",
      "M =   2.100 Msun  T =  6008 K  m_ubv_U = 2.71\n",
      "M =   1.400 Msun  T =   nan K  m_ubv_U =  nan\n",
      "M =   2.300 Msun  T = 10874 K  m_ubv_U = 16.46\n",
      "M =   2.300 Msun  T = 10877 K  m_ubv_U = 16.46\n",
      "M =   1.700 Msun  T =  9307 K  m_ubv_U = 6.41\n",
      "M =   0.398 Msun  T =   nan K  m_ubv_U =  nan\n"
     ]
    },
    {
     "name": "stdout",
     "output_type": "stream",
     "text": [
      "M =   3.500 Msun  T =  9675 K  m_ubv_U = 17.54\n",
      "Secondaries\n",
      "M =   2.700 Msun  T =  9229 K  m_ubv_U = 17.39\n",
      "M =   1.800 Msun  T =  8678 K  m_ubv_U = 5.70\n",
      "M =   3.500 Msun  T = 11639 K  m_ubv_U = 16.81\n",
      "M =   0.880 Msun  T =  5078 K  m_ubv_U = 11.67\n",
      "M =   0.180 Msun  T =  3624 K  m_ubv_U = 19.18\n",
      "M =   2.220 Msun  T = 12755 K  m_ubv_U = 6.11\n",
      "M =   0.420 Msun  T =   nan K  m_ubv_U =  nan\n",
      "M =   2.700 Msun  T =  9496 K  m_ubv_U = 17.33\n",
      "M =   1.680 Msun  T =  9280 K  m_ubv_U = 6.71\n",
      "M =   0.130 Msun  T =  3424 K  m_ubv_U = 20.74\n",
      "M =   2.100 Msun  T = 12328 K  m_ubv_U = 6.19\n",
      "M =   1.500 Msun  T =  9188 K  m_ubv_U = 7.19\n",
      "M =   0.850 Msun  T =  4905 K  m_ubv_U = 12.10\n",
      "M =   3.000 Msun  T =  8683 K  m_ubv_U = 17.52\n",
      "M =   0.630 Msun  T =   nan K  m_ubv_U =  nan\n",
      "M =   0.220 Msun  T =  3700 K  m_ubv_U = 18.55\n",
      "M =   2.240 Msun  T = 10658 K  m_ubv_U = 4.93\n",
      "M =   1.050 Msun  T =  6724 K  m_ubv_U = 9.36\n",
      "M =   2.300 Msun  T = 10608 K  m_ubv_U = 16.50\n",
      "M =   3.700 Msun  T =  7820 K  m_ubv_U = 18.01\n",
      "M =   0.540 Msun  T =   nan K  m_ubv_U =  nan\n",
      "M =   0.230 Msun  T =   nan K  m_ubv_U =  nan\n",
      "M =   6.000 Msun  T = 12079 K  m_ubv_U = 16.90\n",
      "M =   4.000 Msun  T = 12600 K  m_ubv_U = 2.75\n",
      "M =   4.000 Msun  T = 10319 K  m_ubv_U = 17.45\n",
      "M =   0.110 Msun  T =  3283 K  m_ubv_U = 21.92\n",
      "M =   2.100 Msun  T = 13217 K  m_ubv_U = 15.62\n",
      "M =   3.600 Msun  T = 15352 K  m_ubv_U = 3.84\n",
      "M =   3.330 Msun  T = 14655 K  m_ubv_U = 4.08\n",
      "M =   6.500 Msun  T = 13004 K  m_ubv_U = 16.72\n",
      "M =   0.690 Msun  T =   nan K  m_ubv_U =  nan\n",
      "M =   1.140 Msun  T =  7217 K  m_ubv_U = 8.86\n",
      "M =   1.700 Msun  T =  9251 K  m_ubv_U = 6.38\n",
      "M =   2.300 Msun  T = 10624 K  m_ubv_U = 16.50\n",
      "M =   3.200 Msun  T =  8476 K  m_ubv_U = 8.63\n",
      "M =   0.480 Msun  T =  4122 K  m_ubv_U = 15.84\n",
      "M =   3.000 Msun  T = 13134 K  m_ubv_U = 3.94\n",
      "M =   2.100 Msun  T =  9043 K  m_ubv_U = 5.17\n",
      "M =   0.200 Msun  T =  3668 K  m_ubv_U = 18.82\n",
      "M =   2.560 Msun  T = 12452 K  m_ubv_U = 5.09\n",
      "M =   3.000 Msun  T = 11832 K  m_ubv_U = 16.59\n",
      "M =   1.890 Msun  T =  8040 K  m_ubv_U = 5.94\n",
      "M =   1.300 Msun  T =  8310 K  m_ubv_U = 8.03\n",
      "M =   2.070 Msun  T = 10353 K  m_ubv_U = 5.66\n",
      "M =   2.070 Msun  T = 10778 K  m_ubv_U = 5.68\n",
      "M =   0.680 Msun  T =  3924 K  m_ubv_U = 15.00\n",
      "M =   1.900 Msun  T =  5244 K  m_ubv_U = 6.01\n",
      "M =   2.800 Msun  T = 14382 K  m_ubv_U = 5.02\n",
      "Starting filter: ubv,V   Elapsed time: 28.41 seconds\n",
      "Starting synthetic photometry\n",
      "Singles\n",
      "M =   4.300 Msun  T = 10871 K  m_ubv_V = 18.05\n",
      "M =   1.140 Msun  T =  7291 K  m_ubv_V = 8.57\n",
      "Primaries\n",
      "M =   3.981 Msun  T =   nan K  m_ubv_V =  nan\n",
      "M =   1.400 Msun  T =   nan K  m_ubv_V =  nan\n",
      "M =   0.316 Msun  T =   nan K  m_ubv_V =  nan\n",
      "M =   1.100 Msun  T =  7045 K  m_ubv_V = 8.77\n",
      "M =   0.900 Msun  T =  6174 K  m_ubv_V = 9.88\n",
      "M =   3.700 Msun  T =  9893 K  m_ubv_V = 18.04\n",
      "M =   2.100 Msun  T =  9820 K  m_ubv_V = 17.80\n",
      "M =   1.259 Msun  T =   nan K  m_ubv_V =  nan\n",
      "M =   2.100 Msun  T =  6000 K  m_ubv_V = 2.53\n",
      "M =   1.300 Msun  T =  8321 K  m_ubv_V = 7.81\n",
      "M =   3.000 Msun  T =  9943 K  m_ubv_V = 17.80\n",
      "M =   0.631 Msun  T =   nan K  m_ubv_V =  nan\n",
      "M =   1.700 Msun  T =  9307 K  m_ubv_V = 6.36\n",
      "M =   5.012 Msun  T =   nan K  m_ubv_V =  nan\n",
      "M =   2.100 Msun  T = 10212 K  m_ubv_V = 17.79\n",
      "M =   1.100 Msun  T =  7042 K  m_ubv_V = 8.77\n",
      "M =   3.200 Msun  T = 12325 K  m_ubv_V = 17.37\n",
      "M =   2.100 Msun  T = 14320 K  m_ubv_V = 16.27\n",
      "M =   0.316 Msun  T =   nan K  m_ubv_V =  nan\n",
      "M =   0.398 Msun  T =   nan K  m_ubv_V =  nan\n",
      "M =   1.800 Msun  T = 10549 K  m_ubv_V = 17.56\n",
      "M =   2.300 Msun  T =  9758 K  m_ubv_V = 17.58\n",
      "M =   1.259 Msun  T =   nan K  m_ubv_V =  nan\n",
      "M =   5.000 Msun  T = 11202 K  m_ubv_V = 17.62\n",
      "M =   1.000 Msun  T =   nan K  m_ubv_V =  nan\n",
      "M =   1.100 Msun  T =  7042 K  m_ubv_V = 8.77\n",
      "M =   0.794 Msun  T =   nan K  m_ubv_V =  nan\n",
      "M =   4.000 Msun  T = 10324 K  m_ubv_V = 18.04\n",
      "M =   3.700 Msun  T =  9897 K  m_ubv_V = 18.04\n",
      "M =   6.310 Msun  T =   nan K  m_ubv_V =  nan\n",
      "M =   2.300 Msun  T =  9783 K  m_ubv_V = 18.04\n",
      "M =   1.900 Msun  T =  5223 K  m_ubv_V = 5.14\n",
      "M =   0.794 Msun  T =   nan K  m_ubv_V =  nan\n",
      "M =   1.995 Msun  T =   nan K  m_ubv_V =  nan\n",
      "M =   0.631 Msun  T =   nan K  m_ubv_V =  nan\n",
      "M =   1.600 Msun  T =  9495 K  m_ubv_V = 6.82\n",
      "M =   5.000 Msun  T = 11398 K  m_ubv_V = 17.56\n",
      "M =   7.000 Msun  T = 13098 K  m_ubv_V = 17.55\n",
      "M =   2.000 Msun  T = 31822 K  m_ubv_V = 14.93\n",
      "M =   3.200 Msun  T =  8094 K  m_ubv_V = 17.94\n",
      "M =   0.794 Msun  T =   nan K  m_ubv_V =  nan\n",
      "M =   2.100 Msun  T =  6008 K  m_ubv_V = 2.07\n",
      "M =   1.400 Msun  T =   nan K  m_ubv_V =  nan\n",
      "M =   2.300 Msun  T = 10874 K  m_ubv_V = 17.11\n",
      "M =   2.300 Msun  T = 10877 K  m_ubv_V = 17.11\n",
      "M =   1.700 Msun  T =  9307 K  m_ubv_V = 6.36\n",
      "M =   0.398 Msun  T =   nan K  m_ubv_V =  nan\n",
      "M =   3.500 Msun  T =  9675 K  m_ubv_V = 18.04\n",
      "Secondaries\n",
      "M =   2.700 Msun  T =  9229 K  m_ubv_V = 17.83\n",
      "M =   1.800 Msun  T =  8678 K  m_ubv_V = 5.56\n",
      "M =   3.500 Msun  T = 11639 K  m_ubv_V = 17.53\n",
      "M =   0.880 Msun  T =  5078 K  m_ubv_V = 10.71\n",
      "M =   0.180 Msun  T =  3624 K  m_ubv_V = 16.46\n",
      "M =   2.220 Msun  T = 12755 K  m_ubv_V = 6.54\n",
      "M =   0.420 Msun  T =   nan K  m_ubv_V =  nan\n",
      "M =   2.700 Msun  T =  9496 K  m_ubv_V = 17.81\n",
      "M =   1.680 Msun  T =  9280 K  m_ubv_V = 6.64\n",
      "M =   0.130 Msun  T =  3424 K  m_ubv_V = 17.60\n",
      "M =   2.100 Msun  T = 12328 K  m_ubv_V = 6.57\n",
      "M =   1.500 Msun  T =  9188 K  m_ubv_V = 7.10\n",
      "M =   0.850 Msun  T =  4905 K  m_ubv_V = 10.96\n",
      "M =   3.000 Msun  T =  8683 K  m_ubv_V = 17.87\n",
      "M =   0.630 Msun  T =   nan K  m_ubv_V =  nan\n",
      "M =   0.220 Msun  T =  3700 K  m_ubv_V = 15.96\n",
      "M =   2.240 Msun  T = 10658 K  m_ubv_V = 5.13\n",
      "M =   1.050 Msun  T =  6724 K  m_ubv_V = 9.18\n",
      "M =   2.300 Msun  T = 10608 K  m_ubv_V = 17.12\n",
      "M =   3.700 Msun  T =  7820 K  m_ubv_V = 18.19\n",
      "M =   0.540 Msun  T =   nan K  m_ubv_V =  nan\n",
      "M =   0.230 Msun  T =   nan K  m_ubv_V =  nan\n",
      "M =   6.000 Msun  T = 12079 K  m_ubv_V = 17.67\n",
      "M =   4.000 Msun  T = 12600 K  m_ubv_V = 3.22\n",
      "M =   4.000 Msun  T = 10319 K  m_ubv_V = 18.04\n",
      "M =   0.110 Msun  T =  3283 K  m_ubv_V = 18.39\n",
      "M =   2.100 Msun  T = 13217 K  m_ubv_V = 16.47\n",
      "M =   3.600 Msun  T = 15352 K  m_ubv_V = 4.52\n",
      "M =   3.330 Msun  T = 14655 K  m_ubv_V = 4.71\n",
      "M =   6.500 Msun  T = 13004 K  m_ubv_V = 17.55\n",
      "M =   0.690 Msun  T =   nan K  m_ubv_V =  nan\n",
      "M =   1.140 Msun  T =  7217 K  m_ubv_V = 8.69\n",
      "M =   1.700 Msun  T =  9251 K  m_ubv_V = 6.31\n",
      "M =   2.300 Msun  T = 10624 K  m_ubv_V = 17.12\n",
      "M =   3.200 Msun  T =  8476 K  m_ubv_V = 8.46\n",
      "M =   0.480 Msun  T =  4122 K  m_ubv_V = 13.83\n",
      "M =   3.000 Msun  T = 13134 K  m_ubv_V = 4.45\n",
      "M =   2.100 Msun  T =  9043 K  m_ubv_V = 5.08\n",
      "M =   0.200 Msun  T =  3668 K  m_ubv_V = 16.18\n",
      "M =   2.560 Msun  T = 12452 K  m_ubv_V = 5.50\n",
      "M =   3.000 Msun  T = 11832 K  m_ubv_V = 17.33\n",
      "M =   1.890 Msun  T =  8040 K  m_ubv_V = 5.73\n",
      "M =   1.300 Msun  T =  8310 K  m_ubv_V = 7.86\n",
      "M =   2.070 Msun  T = 10353 K  m_ubv_V = 5.79\n",
      "M =   2.070 Msun  T = 10778 K  m_ubv_V = 5.88\n",
      "M =   0.680 Msun  T =  3924 K  m_ubv_V = 12.78\n",
      "M =   1.900 Msun  T =  5244 K  m_ubv_V = 5.19\n",
      "M =   2.800 Msun  T = 14382 K  m_ubv_V = 5.61\n",
      "Starting filter: ubv,B   Elapsed time: 56.19 seconds\n",
      "Starting synthetic photometry\n",
      "Singles\n",
      "M =   4.300 Msun  T = 10871 K  m_ubv_B = 18.16\n",
      "M =   1.140 Msun  T =  7291 K  m_ubv_B = 8.86\n",
      "Primaries\n",
      "M =   3.981 Msun  T =   nan K  m_ubv_B =  nan\n",
      "M =   1.400 Msun  T =   nan K  m_ubv_B =  nan\n",
      "M =   0.316 Msun  T =   nan K  m_ubv_B =  nan\n",
      "M =   1.100 Msun  T =  7045 K  m_ubv_B = 9.09\n",
      "M =   0.900 Msun  T =  6174 K  m_ubv_B = 10.37\n",
      "M =   3.700 Msun  T =  9893 K  m_ubv_B = 18.20\n",
      "M =   2.100 Msun  T =  9820 K  m_ubv_B = 17.97\n",
      "M =   1.259 Msun  T =   nan K  m_ubv_B =  nan\n",
      "M =   2.100 Msun  T =  6000 K  m_ubv_B = 2.99\n",
      "M =   1.300 Msun  T =  8321 K  m_ubv_B = 7.96\n",
      "M =   3.000 Msun  T =  9943 K  m_ubv_B = 17.96\n",
      "M =   0.631 Msun  T =   nan K  m_ubv_B =  nan\n",
      "M =   1.700 Msun  T =  9307 K  m_ubv_B = 6.38\n",
      "M =   5.012 Msun  T =   nan K  m_ubv_B =  nan\n",
      "M =   2.100 Msun  T = 10212 K  m_ubv_B = 17.94\n",
      "M =   1.100 Msun  T =  7042 K  m_ubv_B = 9.10\n",
      "M =   3.200 Msun  T = 12325 K  m_ubv_B = 17.41\n",
      "M =   2.100 Msun  T = 14320 K  m_ubv_B = 16.24\n",
      "M =   0.316 Msun  T =   nan K  m_ubv_B =  nan\n",
      "M =   0.398 Msun  T =   nan K  m_ubv_B =  nan\n",
      "M =   1.800 Msun  T = 10549 K  m_ubv_B = 17.68\n",
      "M =   2.300 Msun  T =  9758 K  m_ubv_B = 17.76\n",
      "M =   1.259 Msun  T =   nan K  m_ubv_B =  nan\n"
     ]
    },
    {
     "name": "stdout",
     "output_type": "stream",
     "text": [
      "M =   5.000 Msun  T = 11202 K  m_ubv_B = 17.71\n",
      "M =   1.000 Msun  T =   nan K  m_ubv_B =  nan\n",
      "M =   1.100 Msun  T =  7042 K  m_ubv_B = 9.10\n",
      "M =   0.794 Msun  T =   nan K  m_ubv_B =  nan\n",
      "M =   4.000 Msun  T = 10324 K  m_ubv_B = 18.18\n",
      "M =   3.700 Msun  T =  9897 K  m_ubv_B = 18.20\n",
      "M =   6.310 Msun  T =   nan K  m_ubv_B =  nan\n",
      "M =   2.300 Msun  T =  9783 K  m_ubv_B = 18.21\n",
      "M =   1.900 Msun  T =  5223 K  m_ubv_B = 5.90\n",
      "M =   0.794 Msun  T =   nan K  m_ubv_B =  nan\n",
      "M =   1.995 Msun  T =   nan K  m_ubv_B =  nan\n",
      "M =   0.631 Msun  T =   nan K  m_ubv_B =  nan\n",
      "M =   1.600 Msun  T =  9495 K  m_ubv_B = 6.84\n",
      "M =   5.000 Msun  T = 11398 K  m_ubv_B = 17.64\n",
      "M =   7.000 Msun  T = 13098 K  m_ubv_B = 17.56\n",
      "M =   2.000 Msun  T = 31822 K  m_ubv_B = 14.66\n",
      "M =   3.200 Msun  T =  8094 K  m_ubv_B = 18.26\n",
      "M =   0.794 Msun  T =   nan K  m_ubv_B =  nan\n",
      "M =   2.100 Msun  T =  6008 K  m_ubv_B = 2.53\n",
      "M =   1.400 Msun  T =   nan K  m_ubv_B =  nan\n",
      "M =   2.300 Msun  T = 10874 K  m_ubv_B = 17.22\n",
      "M =   2.300 Msun  T = 10877 K  m_ubv_B = 17.22\n",
      "M =   1.700 Msun  T =  9307 K  m_ubv_B = 6.38\n",
      "M =   0.398 Msun  T =   nan K  m_ubv_B =  nan\n",
      "M =   3.500 Msun  T =  9675 K  m_ubv_B = 18.22\n",
      "Secondaries\n",
      "M =   2.700 Msun  T =  9229 K  m_ubv_B = 18.04\n",
      "M =   1.800 Msun  T =  8678 K  m_ubv_B = 5.62\n",
      "M =   3.500 Msun  T = 11639 K  m_ubv_B = 17.60\n",
      "M =   0.880 Msun  T =  5078 K  m_ubv_B = 11.53\n",
      "M =   0.180 Msun  T =  3624 K  m_ubv_B = 18.03\n",
      "M =   2.220 Msun  T = 12755 K  m_ubv_B = 6.45\n",
      "M =   0.420 Msun  T =   nan K  m_ubv_B =  nan\n",
      "M =   2.700 Msun  T =  9496 K  m_ubv_B = 18.01\n",
      "M =   1.680 Msun  T =  9280 K  m_ubv_B = 6.69\n",
      "M =   0.130 Msun  T =  3424 K  m_ubv_B = 19.32\n",
      "M =   2.100 Msun  T = 12328 K  m_ubv_B = 6.49\n",
      "M =   1.500 Msun  T =  9188 K  m_ubv_B = 7.15\n",
      "M =   0.850 Msun  T =  4905 K  m_ubv_B = 11.83\n",
      "M =   3.000 Msun  T =  8683 K  m_ubv_B = 18.13\n",
      "M =   0.630 Msun  T =   nan K  m_ubv_B =  nan\n",
      "M =   0.220 Msun  T =  3700 K  m_ubv_B = 17.48\n",
      "M =   2.240 Msun  T = 10658 K  m_ubv_B = 5.08\n",
      "M =   1.050 Msun  T =  6724 K  m_ubv_B = 9.56\n",
      "M =   2.300 Msun  T = 10608 K  m_ubv_B = 17.25\n",
      "M =   3.700 Msun  T =  7820 K  m_ubv_B = 18.54\n",
      "M =   0.540 Msun  T =   nan K  m_ubv_B =  nan\n",
      "M =   0.230 Msun  T =   nan K  m_ubv_B =  nan\n",
      "M =   6.000 Msun  T = 12079 K  m_ubv_B = 17.72\n",
      "M =   4.000 Msun  T = 12600 K  m_ubv_B = 3.11\n",
      "M =   4.000 Msun  T = 10319 K  m_ubv_B = 18.18\n",
      "M =   0.110 Msun  T =  3283 K  m_ubv_B = 20.22\n",
      "M =   2.100 Msun  T = 13217 K  m_ubv_B = 16.47\n",
      "M =   3.600 Msun  T = 15352 K  m_ubv_B = 4.38\n",
      "M =   3.330 Msun  T = 14655 K  m_ubv_B = 4.58\n",
      "M =   6.500 Msun  T = 13004 K  m_ubv_B = 17.57\n",
      "M =   0.690 Msun  T =   nan K  m_ubv_B =  nan\n",
      "M =   1.140 Msun  T =  7217 K  m_ubv_B = 8.99\n",
      "M =   1.700 Msun  T =  9251 K  m_ubv_B = 6.34\n",
      "M =   2.300 Msun  T = 10624 K  m_ubv_B = 17.25\n",
      "M =   3.200 Msun  T =  8476 K  m_ubv_B = 8.60\n",
      "M =   0.480 Msun  T =  4122 K  m_ubv_B = 15.08\n",
      "M =   3.000 Msun  T = 13134 K  m_ubv_B = 4.34\n",
      "M =   2.100 Msun  T =  9043 K  m_ubv_B = 5.11\n",
      "M =   0.200 Msun  T =  3668 K  m_ubv_B = 17.72\n",
      "M =   2.560 Msun  T = 12452 K  m_ubv_B = 5.41\n",
      "M =   3.000 Msun  T = 11832 K  m_ubv_B = 17.39\n",
      "M =   1.890 Msun  T =  8040 K  m_ubv_B = 5.89\n",
      "M =   1.300 Msun  T =  8310 K  m_ubv_B = 8.02\n",
      "M =   2.070 Msun  T = 10353 K  m_ubv_B = 5.76\n",
      "M =   2.070 Msun  T = 10778 K  m_ubv_B = 5.83\n",
      "M =   0.680 Msun  T =  3924 K  m_ubv_B = 14.14\n",
      "M =   1.900 Msun  T =  5244 K  m_ubv_B = 5.94\n",
      "M =   2.800 Msun  T = 14382 K  m_ubv_B = 5.48\n",
      "Starting filter: ubv,R   Elapsed time: 83.57 seconds\n",
      "Starting synthetic photometry\n",
      "Singles\n",
      "M =   4.300 Msun  T = 10871 K  m_ubv_R = 17.96\n",
      "M =   1.140 Msun  T =  7291 K  m_ubv_R = 8.40\n",
      "Primaries\n",
      "M =   3.981 Msun  T =   nan K  m_ubv_R =  nan\n",
      "M =   1.400 Msun  T =   nan K  m_ubv_R =  nan\n",
      "M =   0.316 Msun  T =   nan K  m_ubv_R =  nan\n",
      "M =   1.100 Msun  T =  7045 K  m_ubv_R = 8.58\n",
      "M =   0.900 Msun  T =  6174 K  m_ubv_R = 9.60\n",
      "M =   3.700 Msun  T =  9893 K  m_ubv_R = 17.92\n",
      "M =   2.100 Msun  T =  9820 K  m_ubv_R = 17.68\n",
      "M =   1.259 Msun  T =   nan K  m_ubv_R =  nan\n",
      "M =   2.100 Msun  T =  6000 K  m_ubv_R = 2.26\n",
      "M =   1.300 Msun  T =  8321 K  m_ubv_R = 7.74\n",
      "M =   3.000 Msun  T =  9943 K  m_ubv_R = 17.68\n",
      "M =   0.631 Msun  T =   nan K  m_ubv_R =  nan\n",
      "M =   1.700 Msun  T =  9307 K  m_ubv_R = 6.35\n",
      "M =   5.012 Msun  T =   nan K  m_ubv_R =  nan\n",
      "M =   2.100 Msun  T = 10212 K  m_ubv_R = 17.68\n",
      "M =   1.100 Msun  T =  7042 K  m_ubv_R = 8.58\n",
      "M =   3.200 Msun  T = 12325 K  m_ubv_R = 17.32\n",
      "M =   2.100 Msun  T = 14320 K  m_ubv_R = 16.25\n",
      "M =   0.316 Msun  T =   nan K  m_ubv_R =  nan\n",
      "M =   0.398 Msun  T =   nan K  m_ubv_R =  nan\n",
      "M =   1.800 Msun  T = 10549 K  m_ubv_R = 17.46\n",
      "M =   2.300 Msun  T =  9758 K  m_ubv_R = 17.46\n",
      "M =   1.259 Msun  T =   nan K  m_ubv_R =  nan\n",
      "M =   5.000 Msun  T = 11202 K  m_ubv_R = 17.54\n",
      "M =   1.000 Msun  T =   nan K  m_ubv_R =  nan\n",
      "M =   1.100 Msun  T =  7042 K  m_ubv_R = 8.58\n",
      "M =   0.794 Msun  T =   nan K  m_ubv_R =  nan\n",
      "M =   4.000 Msun  T = 10324 K  m_ubv_R = 17.93\n",
      "M =   3.700 Msun  T =  9897 K  m_ubv_R = 17.92\n",
      "M =   6.310 Msun  T =   nan K  m_ubv_R =  nan\n",
      "M =   2.300 Msun  T =  9783 K  m_ubv_R = 17.91\n",
      "M =   1.900 Msun  T =  5223 K  m_ubv_R = 4.75\n",
      "M =   0.794 Msun  T =   nan K  m_ubv_R =  nan\n",
      "M =   1.995 Msun  T =   nan K  m_ubv_R =  nan\n",
      "M =   0.631 Msun  T =   nan K  m_ubv_R =  nan\n",
      "M =   1.600 Msun  T =  9495 K  m_ubv_R = 6.81\n",
      "M =   5.000 Msun  T = 11398 K  m_ubv_R = 17.48\n",
      "M =   7.000 Msun  T = 13098 K  m_ubv_R = 17.51\n",
      "M =   2.000 Msun  T = 31822 K  m_ubv_R = 15.05\n",
      "M =   3.200 Msun  T =  8094 K  m_ubv_R = 17.75\n",
      "M =   0.794 Msun  T =   nan K  m_ubv_R =  nan\n",
      "M =   2.100 Msun  T =  6008 K  m_ubv_R = 1.81\n",
      "M =   1.400 Msun  T =   nan K  m_ubv_R =  nan\n",
      "M =   2.300 Msun  T = 10874 K  m_ubv_R = 17.02\n",
      "M =   2.300 Msun  T = 10877 K  m_ubv_R = 17.02\n",
      "M =   1.700 Msun  T =  9307 K  m_ubv_R = 6.35\n",
      "M =   0.398 Msun  T =   nan K  m_ubv_R =  nan\n",
      "M =   3.500 Msun  T =  9675 K  m_ubv_R = 17.91\n",
      "Secondaries\n",
      "M =   2.700 Msun  T =  9229 K  m_ubv_R = 17.68\n",
      "M =   1.800 Msun  T =  8678 K  m_ubv_R = 5.53\n",
      "M =   3.500 Msun  T = 11639 K  m_ubv_R = 17.46\n",
      "M =   0.880 Msun  T =  5078 K  m_ubv_R = 10.28\n",
      "M =   0.180 Msun  T =  3624 K  m_ubv_R = 15.62\n",
      "M =   2.220 Msun  T = 12755 K  m_ubv_R = 6.57\n",
      "M =   0.420 Msun  T =   nan K  m_ubv_R =  nan\n",
      "M =   2.700 Msun  T =  9496 K  m_ubv_R = 17.68\n",
      "M =   1.680 Msun  T =  9280 K  m_ubv_R = 6.63\n",
      "M =   0.130 Msun  T =  3424 K  m_ubv_R = 16.69\n",
      "M =   2.100 Msun  T = 12328 K  m_ubv_R = 6.61\n",
      "M =   1.500 Msun  T =  9188 K  m_ubv_R = 7.08\n",
      "M =   0.850 Msun  T =  4905 K  m_ubv_R = 10.50\n",
      "M =   3.000 Msun  T =  8683 K  m_ubv_R = 17.70\n",
      "M =   0.630 Msun  T =   nan K  m_ubv_R =  nan\n",
      "M =   0.220 Msun  T =  3700 K  m_ubv_R = 15.13\n",
      "M =   2.240 Msun  T = 10658 K  m_ubv_R = 5.15\n",
      "M =   1.050 Msun  T =  6724 K  m_ubv_R = 8.96\n",
      "M =   2.300 Msun  T = 10608 K  m_ubv_R = 17.03\n",
      "M =   3.700 Msun  T =  7820 K  m_ubv_R = 17.98\n",
      "M =   0.540 Msun  T =   nan K  m_ubv_R =  nan\n",
      "M =   0.230 Msun  T =   nan K  m_ubv_R =  nan\n",
      "M =   6.000 Msun  T = 12079 K  m_ubv_R = 17.61\n",
      "M =   4.000 Msun  T = 12600 K  m_ubv_R = 3.25\n",
      "M =   4.000 Msun  T = 10319 K  m_ubv_R = 17.93\n",
      "M =   0.110 Msun  T =  3283 K  m_ubv_R = 17.42\n",
      "M =   2.100 Msun  T = 13217 K  m_ubv_R = 16.43\n",
      "M =   3.600 Msun  T = 15352 K  m_ubv_R = 4.57\n",
      "M =   3.330 Msun  T = 14655 K  m_ubv_R = 4.76\n",
      "M =   6.500 Msun  T = 13004 K  m_ubv_R = 17.51\n",
      "M =   0.690 Msun  T =   nan K  m_ubv_R =  nan\n",
      "M =   1.140 Msun  T =  7217 K  m_ubv_R = 8.52\n",
      "M =   1.700 Msun  T =  9251 K  m_ubv_R = 6.30\n",
      "M =   2.300 Msun  T = 10624 K  m_ubv_R = 17.03\n",
      "M =   3.200 Msun  T =  8476 K  m_ubv_R = 8.41\n",
      "M =   0.480 Msun  T =  4122 K  m_ubv_R = 13.14\n",
      "M =   3.000 Msun  T = 13134 K  m_ubv_R = 4.49\n",
      "M =   2.100 Msun  T =  9043 K  m_ubv_R = 5.06\n",
      "M =   0.200 Msun  T =  3668 K  m_ubv_R = 15.35\n",
      "M =   2.560 Msun  T = 12452 K  m_ubv_R = 5.54\n",
      "M =   3.000 Msun  T = 11832 K  m_ubv_R = 17.27\n",
      "M =   1.890 Msun  T =  8040 K  m_ubv_R = 5.65\n",
      "M =   1.300 Msun  T =  8310 K  m_ubv_R = 7.79\n",
      "M =   2.070 Msun  T = 10353 K  m_ubv_R = 5.80\n",
      "M =   2.070 Msun  T = 10778 K  m_ubv_R = 5.90\n",
      "M =   0.680 Msun  T =  3924 K  m_ubv_R = 12.03\n",
      "M =   1.900 Msun  T =  5244 K  m_ubv_R = 4.80\n",
      "M =   2.800 Msun  T = 14382 K  m_ubv_R = 5.65\n",
      "Starting filter: ubv,I   Elapsed time: 105.86 seconds\n",
      "Starting synthetic photometry\n",
      "Singles\n",
      "M =   4.300 Msun  T = 10871 K  m_ubv_I = 17.92\n"
     ]
    },
    {
     "name": "stdout",
     "output_type": "stream",
     "text": [
      "M =   1.140 Msun  T =  7291 K  m_ubv_I = 8.18\n",
      "Primaries\n",
      "M =   3.981 Msun  T =   nan K  m_ubv_I =  nan\n",
      "M =   1.400 Msun  T =   nan K  m_ubv_I =  nan\n",
      "M =   0.316 Msun  T =   nan K  m_ubv_I =  nan\n",
      "M =   1.100 Msun  T =  7045 K  m_ubv_I = 8.32\n",
      "M =   0.900 Msun  T =  6174 K  m_ubv_I = 9.22\n",
      "M =   3.700 Msun  T =  9893 K  m_ubv_I = 17.83\n",
      "M =   2.100 Msun  T =  9820 K  m_ubv_I = 17.59\n",
      "M =   1.259 Msun  T =   nan K  m_ubv_I =  nan\n",
      "M =   2.100 Msun  T =  6000 K  m_ubv_I = 1.88\n",
      "M =   1.300 Msun  T =  8321 K  m_ubv_I = 7.64\n",
      "M =   3.000 Msun  T =  9943 K  m_ubv_I = 17.59\n",
      "M =   0.631 Msun  T =   nan K  m_ubv_I =  nan\n",
      "M =   1.700 Msun  T =  9307 K  m_ubv_I = 6.33\n",
      "M =   5.012 Msun  T =   nan K  m_ubv_I =  nan\n",
      "M =   2.100 Msun  T = 10212 K  m_ubv_I = 17.61\n",
      "M =   1.100 Msun  T =  7042 K  m_ubv_I = 8.33\n",
      "M =   3.200 Msun  T = 12325 K  m_ubv_I = 17.33\n",
      "M =   2.100 Msun  T = 14320 K  m_ubv_I = 16.31\n",
      "M =   0.316 Msun  T =   nan K  m_ubv_I =  nan\n",
      "M =   0.398 Msun  T =   nan K  m_ubv_I =  nan\n",
      "M =   1.800 Msun  T = 10549 K  m_ubv_I = 17.40\n",
      "M =   2.300 Msun  T =  9758 K  m_ubv_I = 17.36\n",
      "M =   1.259 Msun  T =   nan K  m_ubv_I =  nan\n",
      "M =   5.000 Msun  T = 11202 K  m_ubv_I = 17.51\n",
      "M =   1.000 Msun  T =   nan K  m_ubv_I =  nan\n",
      "M =   1.100 Msun  T =  7042 K  m_ubv_I = 8.33\n",
      "M =   0.794 Msun  T =   nan K  m_ubv_I =  nan\n",
      "M =   4.000 Msun  T = 10324 K  m_ubv_I = 17.87\n",
      "M =   3.700 Msun  T =  9897 K  m_ubv_I = 17.83\n",
      "M =   6.310 Msun  T =   nan K  m_ubv_I =  nan\n",
      "M =   2.300 Msun  T =  9783 K  m_ubv_I = 17.82\n",
      "M =   1.900 Msun  T =  5223 K  m_ubv_I = 4.20\n",
      "M =   0.794 Msun  T =   nan K  m_ubv_I =  nan\n",
      "M =   1.995 Msun  T =   nan K  m_ubv_I =  nan\n",
      "M =   0.631 Msun  T =   nan K  m_ubv_I =  nan\n",
      "M =   1.600 Msun  T =  9495 K  m_ubv_I = 6.81\n",
      "M =   5.000 Msun  T = 11398 K  m_ubv_I = 17.46\n",
      "M =   7.000 Msun  T = 13098 K  m_ubv_I = 17.54\n",
      "M =   2.000 Msun  T = 31822 K  m_ubv_I = 15.32\n",
      "M =   3.200 Msun  T =  8094 K  m_ubv_I = 17.55\n",
      "M =   0.794 Msun  T =   nan K  m_ubv_I =  nan\n",
      "M =   2.100 Msun  T =  6008 K  m_ubv_I = 1.43\n",
      "M =   1.400 Msun  T =   nan K  m_ubv_I =  nan\n",
      "M =   2.300 Msun  T = 10874 K  m_ubv_I = 16.98\n",
      "M =   2.300 Msun  T = 10877 K  m_ubv_I = 16.98\n",
      "M =   1.700 Msun  T =  9307 K  m_ubv_I = 6.33\n",
      "M =   0.398 Msun  T =   nan K  m_ubv_I =  nan\n",
      "M =   3.500 Msun  T =  9675 K  m_ubv_I = 17.81\n",
      "Secondaries\n",
      "M =   2.700 Msun  T =  9229 K  m_ubv_I = 17.56\n",
      "M =   1.800 Msun  T =  8678 K  m_ubv_I = 5.47\n",
      "M =   3.500 Msun  T = 11639 K  m_ubv_I = 17.45\n",
      "M =   0.880 Msun  T =  5078 K  m_ubv_I = 9.71\n",
      "M =   0.180 Msun  T =  3624 K  m_ubv_I = 14.45\n",
      "M =   2.220 Msun  T = 12755 K  m_ubv_I = 6.66\n",
      "M =   0.420 Msun  T =   nan K  m_ubv_I =  nan\n",
      "M =   2.700 Msun  T =  9496 K  m_ubv_I = 17.57\n",
      "M =   1.680 Msun  T =  9280 K  m_ubv_I = 6.61\n",
      "M =   0.130 Msun  T =  3424 K  m_ubv_I = 15.36\n",
      "M =   2.100 Msun  T = 12328 K  m_ubv_I = 6.68\n",
      "M =   1.500 Msun  T =  9188 K  m_ubv_I = 7.06\n",
      "M =   0.850 Msun  T =  4905 K  m_ubv_I = 9.89\n",
      "M =   3.000 Msun  T =  8683 K  m_ubv_I = 17.54\n",
      "M =   0.630 Msun  T =   nan K  m_ubv_I =  nan\n",
      "M =   0.220 Msun  T =  3700 K  m_ubv_I = 14.02\n",
      "M =   2.240 Msun  T = 10658 K  m_ubv_I = 5.18\n",
      "M =   1.050 Msun  T =  6724 K  m_ubv_I = 8.66\n",
      "M =   2.300 Msun  T = 10608 K  m_ubv_I = 16.97\n",
      "M =   3.700 Msun  T =  7820 K  m_ubv_I = 17.75\n",
      "M =   0.540 Msun  T =   nan K  m_ubv_I =  nan\n",
      "M =   0.230 Msun  T =   nan K  m_ubv_I =  nan\n",
      "M =   6.000 Msun  T = 12079 K  m_ubv_I = 17.61\n",
      "M =   4.000 Msun  T = 12600 K  m_ubv_I = 3.33\n",
      "M =   4.000 Msun  T = 10319 K  m_ubv_I = 17.86\n",
      "M =   0.110 Msun  T =  3283 K  m_ubv_I = 15.95\n",
      "M =   2.100 Msun  T = 13217 K  m_ubv_I = 16.47\n",
      "M =   3.600 Msun  T = 15352 K  m_ubv_I = 4.70\n",
      "M =   3.330 Msun  T = 14655 K  m_ubv_I = 4.87\n",
      "M =   6.500 Msun  T = 13004 K  m_ubv_I = 17.54\n",
      "M =   0.690 Msun  T =   nan K  m_ubv_I =  nan\n",
      "M =   1.140 Msun  T =  7217 K  m_ubv_I = 8.29\n",
      "M =   1.700 Msun  T =  9251 K  m_ubv_I = 6.28\n",
      "M =   2.300 Msun  T = 10624 K  m_ubv_I = 16.97\n",
      "M =   3.200 Msun  T =  8476 K  m_ubv_I = 8.33\n",
      "M =   0.480 Msun  T =  4122 K  m_ubv_I = 12.25\n",
      "M =   3.000 Msun  T = 13134 K  m_ubv_I = 4.57\n",
      "M =   2.100 Msun  T =  9043 K  m_ubv_I = 5.03\n",
      "M =   0.200 Msun  T =  3668 K  m_ubv_I = 14.21\n",
      "M =   2.560 Msun  T = 12452 K  m_ubv_I = 5.61\n",
      "M =   3.000 Msun  T = 11832 K  m_ubv_I = 17.26\n",
      "M =   1.890 Msun  T =  8040 K  m_ubv_I = 5.53\n",
      "M =   1.300 Msun  T =  8310 K  m_ubv_I = 7.70\n",
      "M =   2.070 Msun  T = 10353 K  m_ubv_I = 5.83\n",
      "M =   2.070 Msun  T = 10778 K  m_ubv_I = 5.94\n",
      "M =   0.680 Msun  T =  3924 K  m_ubv_I = 11.06\n",
      "M =   1.900 Msun  T =  5244 K  m_ubv_I = 4.26\n",
      "M =   2.800 Msun  T = 14382 K  m_ubv_I = 5.77\n",
      "      Time taken: 127.22 seconds\n",
      "Isochrone generation took 578.420162 s.\n"
     ]
    }
   ],
   "source": [
    "import spisea\n",
    "from spisea import evolution, synthetic\n",
    "import math\n",
    "# Check if the evolution class works fine\n",
    "import time\n",
    "t1=time.time()\n",
    "bps=evolution.BPASS()\n",
    "iso1=synthetic.Isochrone_Binary(9.0, 0.0, 100,math.log10(1/10), mass_sampling=1, filepath='/g/lu/scratch/ryotainagaki/BPASS_iso_filesTimedIsolated/')"
   ]
  },
  {
   "cell_type": "markdown",
   "metadata": {},
   "source": [
    "As a sanity check, I would like to make sure thatk, for primary stars, we only have (from the isochrone) designated phase 5 stars ( anything that is not a compact remnant), white dwarves (101), and non-white dwarf compact remnants that are NEWSECMODS primaries (110). Also make sure that our secondary stars are non-compact-remnant, white dwarves, or are merged. Secondary stars that have merged with their primaries have designation of phase -99."
   ]
  },
  {
   "cell_type": "code",
   "execution_count": 2,
   "metadata": {},
   "outputs": [
    {
     "data": {
      "text/plain": [
       "True"
      ]
     },
     "execution_count": 2,
     "metadata": {},
     "output_type": "execute_result"
    }
   ],
   "source": [
    "import numpy as np\n",
    "np.all([(x==5 or x==101 or x==110 or x==-99) for x in iso1.primaries['phase']])"
   ]
  },
  {
   "cell_type": "code",
   "execution_count": 3,
   "metadata": {},
   "outputs": [
    {
     "data": {
      "text/plain": [
       "True"
      ]
     },
     "execution_count": 3,
     "metadata": {},
     "output_type": "execute_result"
    }
   ],
   "source": [
    "np.all([(x==5 or x==101 or x==110 or x==-99) for x in iso1.singles['phase']])"
   ]
  },
  {
   "cell_type": "code",
   "execution_count": 4,
   "metadata": {},
   "outputs": [
    {
     "data": {
      "text/plain": [
       "True"
      ]
     },
     "execution_count": 4,
     "metadata": {},
     "output_type": "execute_result"
    }
   ],
   "source": [
    "np.all([(x==5 or x==101 or x==-99 or x==110) for x in iso1.secondaries['phase']])"
   ]
  },
  {
   "cell_type": "markdown",
   "metadata": {},
   "source": [
    "Find the maximum, mean, and median  values of logg (cgs) for primaries, single stars, and secondaries by looking at the singles, primaries, and secondaries attributes (here tables) of the isochorne."
   ]
  },
  {
   "cell_type": "code",
   "execution_count": 5,
   "metadata": {},
   "outputs": [
    {
     "data": {
      "text/plain": [
       "9.294221355125417"
      ]
     },
     "execution_count": 5,
     "metadata": {},
     "output_type": "execute_result"
    }
   ],
   "source": [
    "import numpy as np\n",
    "np.max(iso1.singles['logg'])"
   ]
  },
  {
   "cell_type": "code",
   "execution_count": 6,
   "metadata": {},
   "outputs": [
    {
     "data": {
      "text/plain": [
       "9.294221355125417"
      ]
     },
     "execution_count": 6,
     "metadata": {},
     "output_type": "execute_result"
    }
   ],
   "source": [
    "import numpy as np\n",
    "np.max(np.nan_to_num(iso1.primaries['logg'], -np.inf))"
   ]
  },
  {
   "cell_type": "code",
   "execution_count": 7,
   "metadata": {},
   "outputs": [
    {
     "data": {
      "text/plain": [
       "9.294186013434684"
      ]
     },
     "execution_count": 7,
     "metadata": {},
     "output_type": "execute_result"
    }
   ],
   "source": [
    "np.max(np.nan_to_num(iso1.secondaries['logg'], -np.inf))"
   ]
  },
  {
   "cell_type": "code",
   "execution_count": 8,
   "metadata": {},
   "outputs": [
    {
     "data": {
      "text/plain": [
       "5.953600902940846"
      ]
     },
     "execution_count": 8,
     "metadata": {},
     "output_type": "execute_result"
    }
   ],
   "source": [
    "np.mean(iso1.singles['logg'][np.where(~np.isnan(iso1.singles['logg']))])"
   ]
  },
  {
   "cell_type": "code",
   "execution_count": 9,
   "metadata": {},
   "outputs": [
    {
     "data": {
      "text/plain": [
       "6.818838903860331"
      ]
     },
     "execution_count": 9,
     "metadata": {},
     "output_type": "execute_result"
    }
   ],
   "source": [
    "np.mean(iso1.primaries['logg'][np.where(~np.isnan(iso1.primaries['logg']))])"
   ]
  },
  {
   "cell_type": "code",
   "execution_count": 10,
   "metadata": {},
   "outputs": [
    {
     "data": {
      "text/plain": [
       "5.292267279955646"
      ]
     },
     "execution_count": 10,
     "metadata": {},
     "output_type": "execute_result"
    }
   ],
   "source": [
    "np.mean(iso1.secondaries['logg'][np.where(~np.isnan(iso1.secondaries['logg']))])"
   ]
  },
  {
   "cell_type": "code",
   "execution_count": 11,
   "metadata": {},
   "outputs": [
    {
     "data": {
      "text/plain": [
       "4.551726078546701"
      ]
     },
     "execution_count": 11,
     "metadata": {},
     "output_type": "execute_result"
    }
   ],
   "source": [
    "np.median(iso1.singles['logg'][np.where(~np.isnan(iso1.singles['logg']))])"
   ]
  },
  {
   "cell_type": "code",
   "execution_count": 12,
   "metadata": {},
   "outputs": [
    {
     "data": {
      "text/plain": [
       "8.19238702646692"
      ]
     },
     "execution_count": 12,
     "metadata": {},
     "output_type": "execute_result"
    }
   ],
   "source": [
    "np.median(iso1.primaries['logg'][np.where(~np.isnan(iso1.primaries['logg']))])"
   ]
  },
  {
   "cell_type": "code",
   "execution_count": 13,
   "metadata": {},
   "outputs": [
    {
     "data": {
      "text/plain": [
       "4.472385193454187"
      ]
     },
     "execution_count": 13,
     "metadata": {},
     "output_type": "execute_result"
    }
   ],
   "source": [
    "np.median([x for x in iso1.secondaries['logg'] if np.isfinite(x)])"
   ]
  },
  {
   "cell_type": "markdown",
   "metadata": {},
   "source": [
    "This is due to unclassified compact remnant primaries from NEWSECMODS type models"
   ]
  },
  {
   "cell_type": "code",
   "execution_count": 14,
   "metadata": {},
   "outputs": [
    {
     "data": {
      "text/html": [
       "&lt;Column name=&apos;logg&apos; dtype=&apos;float64&apos; unit=&apos;&apos; length=4708&gt;\n",
       "<table>\n",
       "<tr><td>nan</td></tr>\n",
       "<tr><td>8.479802314491101</td></tr>\n",
       "<tr><td>8.51798068610406</td></tr>\n",
       "<tr><td>8.45079445503826</td></tr>\n",
       "<tr><td>nan</td></tr>\n",
       "<tr><td>nan</td></tr>\n",
       "<tr><td>nan</td></tr>\n",
       "<tr><td>8.106174186534371</td></tr>\n",
       "<tr><td>nan</td></tr>\n",
       "<tr><td>nan</td></tr>\n",
       "<tr><td>4.519790136742458</td></tr>\n",
       "<tr><td>nan</td></tr>\n",
       "<tr><td>...</td></tr>\n",
       "<tr><td>nan</td></tr>\n",
       "<tr><td>4.404240312461359</td></tr>\n",
       "<tr><td>5.947247276684174</td></tr>\n",
       "<tr><td>nan</td></tr>\n",
       "<tr><td>8.480282493002173</td></tr>\n",
       "<tr><td>nan</td></tr>\n",
       "<tr><td>8.350355602839945</td></tr>\n",
       "<tr><td>4.38717097960997</td></tr>\n",
       "<tr><td>nan</td></tr>\n",
       "<tr><td>4.178867609959058</td></tr>\n",
       "<tr><td>nan</td></tr>\n",
       "<tr><td>nan</td></tr>\n",
       "</table>"
      ],
      "text/plain": [
       "<Column name='logg' dtype='float64' unit='' length=4708>\n",
       "              nan\n",
       "8.479802314491101\n",
       " 8.51798068610406\n",
       " 8.45079445503826\n",
       "              nan\n",
       "              nan\n",
       "              nan\n",
       "8.106174186534371\n",
       "              nan\n",
       "              nan\n",
       "4.519790136742458\n",
       "              nan\n",
       "              ...\n",
       "              nan\n",
       "4.404240312461359\n",
       "5.947247276684174\n",
       "              nan\n",
       "8.480282493002173\n",
       "              nan\n",
       "8.350355602839945\n",
       " 4.38717097960997\n",
       "              nan\n",
       "4.178867609959058\n",
       "              nan\n",
       "              nan"
      ]
     },
     "execution_count": 14,
     "metadata": {},
     "output_type": "execute_result"
    }
   ],
   "source": [
    "iso1.primaries['logg']"
   ]
  },
  {
   "cell_type": "code",
   "execution_count": 15,
   "metadata": {},
   "outputs": [
    {
     "data": {
      "text/plain": [
       "Text(0.5, 0, 'logg in cgs')"
      ]
     },
     "execution_count": 15,
     "metadata": {},
     "output_type": "execute_result"
    },
    {
     "data": {
      "image/png": "[encoded data removed]",
      "text/plain": [
       "<Figure size 432x288 with 1 Axes>"
      ]
     },
     "metadata": {
      "needs_background": "light"
     },
     "output_type": "display_data"
    }
   ],
   "source": [
    "import matplotlib.pyplot as plt\n",
    "plt.title(\"Histogram of logg values (secondaries) of isochrone\")\n",
    "plt.hist(np.array([x for x in iso1.secondaries['logg'] if np.isfinite(x)]), np.arange(0, 30, 1))\n",
    "plt.xlabel(\"logg in cgs\")"
   ]
  },
  {
   "cell_type": "code",
   "execution_count": 16,
   "metadata": {},
   "outputs": [
    {
     "data": {
      "text/plain": [
       "Text(0.5, 0, 'logg in cgs')"
      ]
     },
     "execution_count": 16,
     "metadata": {},
     "output_type": "execute_result"
    },
    {
     "data": {
      "image/png": "[encoded data removed]",
      "text/plain": [
       "<Figure size 432x288 with 1 Axes>"
      ]
     },
     "metadata": {
      "needs_background": "light"
     },
     "output_type": "display_data"
    }
   ],
   "source": [
    "import matplotlib.pyplot as plt\n",
    "plt.title(\"Histogram of logg values (primaries) of isochrone\")\n",
    "plt.hist(np.array([x for x in iso1.primaries['logg'] if np.isfinite(x)]), np.arange(0, 30, 1))\n",
    "plt.xlabel(\"logg in cgs\")"
   ]
  },
  {
   "cell_type": "code",
   "execution_count": 17,
   "metadata": {},
   "outputs": [
    {
     "data": {
      "text/plain": [
       "Text(0.5, 0, 'logg in cgs')"
      ]
     },
     "execution_count": 17,
     "metadata": {},
     "output_type": "execute_result"
    },
    {
     "data": {
      "image/png": "[encoded data removed]",
      "text/plain": [
       "<Figure size 432x288 with 1 Axes>"
      ]
     },
     "metadata": {
      "needs_background": "light"
     },
     "output_type": "display_data"
    }
   ],
   "source": [
    "import matplotlib.pyplot as plt\n",
    "plt.title(\"Histogram of logg values single stars of isochrone\")\n",
    "plt.hist(np.array([x for x in iso1.singles['logg'] if np.isfinite(x)]), np.arange(0, 30, 1))\n",
    "plt.xlabel(\"logg in cgs\")"
   ]
  },
  {
   "cell_type": "markdown",
   "metadata": {},
   "source": [
    "Now we examine the phase of the upper lefthand corner of the CMD, which could be full of WR stars.\n",
    "Note that unlike the IsochronePhot, there are three tables that hold the most important data in the isochrone: singles, primaries, and secondaries attributes."
   ]
  },
  {
   "cell_type": "code",
   "execution_count": 18,
   "metadata": {},
   "outputs": [
    {
     "data": {
      "text/plain": [
       "<matplotlib.legend.Legend at 0x7fbfc6dc2ef0>"
      ]
     },
     "execution_count": 18,
     "metadata": {},
     "output_type": "execute_result"
    },
    {
     "data": {
      "image/png": "[encoded data removed]",
      "text/plain": [
       "<Figure size 432x288 with 1 Axes>"
      ]
     },
     "metadata": {
      "needs_background": "light"
     },
     "output_type": "display_data"
    }
   ],
   "source": [
    "import matplotlib.pyplot as plt\n",
    "indices1= np.where(iso1.singles['logg']>5)[0]\n",
    "indices2= np.where(iso1.primaries['logg']>5)[0]\n",
    "indices3= np.where(iso1.secondaries['logg']>5)[0]\n",
    "plt.plot(iso1.primaries['m_ubv_B'][indices2]-iso1.primaries[\"m_ubv_V\"][indices2], iso1.primaries[\"m_ubv_V\"][indices2]-5*np.log10(10), \"r.\")\n",
    "plt.plot(iso1.secondaries['m_ubv_B'][indices3]-iso1.secondaries[\"m_ubv_V\"][indices3], iso1.secondaries[\"m_ubv_V\"][indices3]-5*np.log10(10), \"r.\")\n",
    "plt.plot(iso1.singles['m_ubv_B'][indices1]-iso1.singles[\"m_ubv_V\"][indices1], iso1.singles[\"m_ubv_V\"][indices1]-5*np.log10(10), \"r.\", label=\"BPASS isochrone\")\n",
    "plt.xlabel(\"B-V\")\n",
    "plt.ylabel(\"M_V\")\n",
    "plt.title(\"Color magnitude Diagram of Isochrones at solar metallicity and 1 billion years age (Examining upper lefthand corner)\")\n",
    "plt.gca().invert_yaxis()\n",
    "plt.legend()"
   ]
  },
  {
   "cell_type": "markdown",
   "metadata": {},
   "source": [
    "Examining the potential location of caluse of a vertical line in the upper left hand corner of the plot."
   ]
  },
  {
   "cell_type": "code",
   "execution_count": 19,
   "metadata": {},
   "outputs": [
    {
     "name": "stderr",
     "output_type": "stream",
     "text": [
      "/opt/anaconda3/envs/astroconda/lib/python3.7/site-packages/astropy/table/column.py:1020: RuntimeWarning: invalid value encountered in less\n",
      "  result = getattr(super(), op)(other)\n"
     ]
    }
   ],
   "source": [
    "indices2= np.where((iso1.primaries['logg']>5) & (iso1.primaries['m_ubv_B']-iso1.primaries['m_ubv_V']>-0.4) & (iso1.primaries['m_ubv_B']-iso1.primaries['m_ubv_V']<-0.2))[0]"
   ]
  },
  {
   "cell_type": "code",
   "execution_count": 20,
   "metadata": {},
   "outputs": [
    {
     "data": {
      "text/html": [
       "&lt;Column name=&apos;phase&apos; dtype=&apos;float64&apos; length=2&gt;\n",
       "<table>\n",
       "<tr><td>5.0</td></tr>\n",
       "<tr><td>101.0</td></tr>\n",
       "</table>"
      ],
      "text/plain": [
       "<Column name='phase' dtype='float64' length=2>\n",
       "  5.0\n",
       "101.0"
      ]
     },
     "execution_count": 20,
     "metadata": {},
     "output_type": "execute_result"
    }
   ],
   "source": [
    "np.unique(iso1.primaries[indices2]['phase'])"
   ]
  },
  {
   "cell_type": "markdown",
   "metadata": {},
   "source": [
    "The previous kind of shows that there may need to be more work done on identifying when white dwarves are. There should be tons of them in the lower lefthand corner of the CMD. That is an issue I may need to fix.\n",
    "The following is another look at the CMD of the isochrone, but of only the secondary stars."
   ]
  },
  {
   "cell_type": "code",
   "execution_count": 21,
   "metadata": {},
   "outputs": [
    {
     "data": {
      "text/plain": [
       "<matplotlib.legend.Legend at 0x7fbf6e332320>"
      ]
     },
     "execution_count": 21,
     "metadata": {},
     "output_type": "execute_result"
    },
    {
     "data": {
      "image/png": "[encoded data removed]",
      "text/plain": [
       "<Figure size 432x288 with 1 Axes>"
      ]
     },
     "metadata": {
      "needs_background": "light"
     },
     "output_type": "display_data"
    }
   ],
   "source": [
    "import matplotlib.pyplot as plt\n",
    "plt.plot(iso1.secondaries['m_ubv_B']-iso1.secondaries[\"m_ubv_V\"], iso1.secondaries[\"m_ubv_V\"]-5*np.log10(10), \"r.\", label=\"Secondary stars BPASS isochrone\")\n",
    "plt.xlabel(\"B-V\")\n",
    "plt.ylabel(\"M_V\")\n",
    "plt.title(\"Color magnitude Diagram of Isochrones at solar metallicity and 1 billion years age\")\n",
    "plt.gca().invert_yaxis()\n",
    "plt.legend()"
   ]
  },
  {
   "cell_type": "markdown",
   "metadata": {},
   "source": [
    "For comparison, let's create a MIST v.1. isochrone  phot using otherwise same parameters."
   ]
  },
  {
   "cell_type": "code",
   "execution_count": 22,
   "metadata": {},
   "outputs": [
    {
     "name": "stdout",
     "output_type": "stream",
     "text": [
      "Isochrone generation took 84.327128 s.\n",
      "Making photometry for isochrone: log(t) = 9.00  AKs = 0.00  dist = 100\n",
      "     Starting at:  2021-01-04 01:08:44.612112   Usually takes ~5 minutes\n",
      "Starting filter: ubv,U   Elapsed time: 0.00 seconds\n",
      "Starting synthetic photometry\n",
      "M =   0.104 Msun  T =  3384 K  m_ubv_U = 21.55\n",
      "M =   0.781 Msun  T =  5867 K  m_ubv_U = 11.01\n",
      "M =   1.713 Msun  T =  9508 K  m_ubv_U = 6.29\n",
      "M =   1.744 Msun  T =  6165 K  m_ubv_U = 6.22\n",
      "M =   1.790 Msun  T =  4388 K  m_ubv_U = 5.07\n",
      "M =   1.903 Msun  T =  5179 K  m_ubv_U = 5.56\n",
      "M =   1.911 Msun  T =  4438 K  m_ubv_U = 4.91\n",
      "M =   1.912 Msun  T =  3995 K  m_ubv_U = 5.21\n",
      "M =   1.912 Msun  T =  3811 K  m_ubv_U = 5.52\n",
      "M =   1.913 Msun  T =  3716 K  m_ubv_U = 5.79\n",
      "M =   1.913 Msun  T =  3729 K  m_ubv_U = 5.92\n",
      "M =   1.913 Msun  T =  4901 K  m_ubv_U = 1.46\n",
      "M =   1.913 Msun  T = 53895 K  m_ubv_U = 3.26\n",
      "M =   1.913 Msun  T = 90166 K  m_ubv_U = 10.50\n",
      "Starting filter: ubv,B   Elapsed time: 3.38 seconds\n",
      "Starting synthetic photometry\n",
      "M =   0.104 Msun  T =  3384 K  m_ubv_B = 20.02\n",
      "M =   0.781 Msun  T =  5867 K  m_ubv_B = 11.18\n",
      "M =   1.713 Msun  T =  9508 K  m_ubv_B = 6.28\n",
      "M =   1.744 Msun  T =  6165 K  m_ubv_B = 6.30\n",
      "M =   1.790 Msun  T =  4388 K  m_ubv_B = 4.29\n",
      "M =   1.903 Msun  T =  5179 K  m_ubv_B = 5.46\n",
      "M =   1.911 Msun  T =  4438 K  m_ubv_B = 4.19\n",
      "M =   1.912 Msun  T =  3995 K  m_ubv_B = 3.79\n",
      "M =   1.912 Msun  T =  3811 K  m_ubv_B = 3.76\n",
      "M =   1.913 Msun  T =  3716 K  m_ubv_B = 3.89\n",
      "M =   1.913 Msun  T =  3729 K  m_ubv_B = 4.09\n",
      "M =   1.913 Msun  T =  4901 K  m_ubv_B = 1.47\n",
      "M =   1.913 Msun  T = 53895 K  m_ubv_B = 4.40\n",
      "M =   1.913 Msun  T = 90166 K  m_ubv_B = 11.68\n",
      "Starting filter: ubv,V   Elapsed time: 6.81 seconds\n",
      "Starting synthetic photometry\n",
      "M =   0.104 Msun  T =  3384 K  m_ubv_V = 18.26\n",
      "M =   0.781 Msun  T =  5867 K  m_ubv_V = 10.60\n",
      "M =   1.713 Msun  T =  9508 K  m_ubv_V = 6.27\n",
      "M =   1.744 Msun  T =  6165 K  m_ubv_V = 5.85\n",
      "M =   1.790 Msun  T =  4388 K  m_ubv_V = 3.11\n",
      "M =   1.903 Msun  T =  5179 K  m_ubv_V = 4.68\n",
      "M =   1.911 Msun  T =  4438 K  m_ubv_V = 3.03\n",
      "M =   1.912 Msun  T =  3995 K  m_ubv_V = 2.32\n",
      "M =   1.912 Msun  T =  3811 K  m_ubv_V = 2.13\n",
      "M =   1.913 Msun  T =  3716 K  m_ubv_V = 2.18\n",
      "M =   1.913 Msun  T =  3729 K  m_ubv_V = 2.41\n",
      "M =   1.913 Msun  T =  4901 K  m_ubv_V = 0.58\n",
      "M =   1.913 Msun  T = 53895 K  m_ubv_V = 4.71\n",
      "M =   1.913 Msun  T = 90166 K  m_ubv_V = 12.02\n",
      "Starting filter: ubv,R   Elapsed time: 10.19 seconds\n",
      "Starting synthetic photometry\n",
      "M =   0.104 Msun  T =  3384 K  m_ubv_R = 17.33\n",
      "M =   0.781 Msun  T =  5867 K  m_ubv_R = 10.29\n",
      "M =   1.713 Msun  T =  9508 K  m_ubv_R = 6.26\n",
      "M =   1.744 Msun  T =  6165 K  m_ubv_R = 5.58\n",
      "M =   1.790 Msun  T =  4388 K  m_ubv_R = 2.55\n",
      "M =   1.903 Msun  T =  5179 K  m_ubv_R = 4.28\n",
      "M =   1.911 Msun  T =  4438 K  m_ubv_R = 2.48\n",
      "M =   1.912 Msun  T =  3995 K  m_ubv_R = 1.62\n",
      "M =   1.912 Msun  T =  3811 K  m_ubv_R = 1.34\n",
      "M =   1.913 Msun  T =  3716 K  m_ubv_R = 1.34\n",
      "M =   1.913 Msun  T =  3729 K  m_ubv_R = 1.59\n",
      "M =   1.913 Msun  T =  4901 K  m_ubv_R = 0.09\n",
      "M =   1.913 Msun  T = 53895 K  m_ubv_R = 4.83\n",
      "M =   1.913 Msun  T = 90166 K  m_ubv_R = 12.15\n",
      "Starting filter: ubv,I   Elapsed time: 13.47 seconds\n",
      "Starting synthetic photometry\n",
      "M =   0.104 Msun  T =  3384 K  m_ubv_I = 15.95\n",
      "M =   0.781 Msun  T =  5867 K  m_ubv_I = 9.86\n",
      "M =   1.713 Msun  T =  9508 K  m_ubv_I = 6.26\n",
      "M =   1.744 Msun  T =  6165 K  m_ubv_I = 5.21\n",
      "M =   1.790 Msun  T =  4388 K  m_ubv_I = 1.78\n",
      "M =   1.903 Msun  T =  5179 K  m_ubv_I = 3.73\n",
      "M =   1.911 Msun  T =  4438 K  m_ubv_I = 1.73\n",
      "M =   1.912 Msun  T =  3995 K  m_ubv_I = 0.68\n",
      "M =   1.912 Msun  T =  3811 K  m_ubv_I = 0.30\n",
      "M =   1.913 Msun  T =  3716 K  m_ubv_I = 0.23\n",
      "M =   1.913 Msun  T =  3729 K  m_ubv_I = 0.49\n",
      "M =   1.913 Msun  T =  4901 K  m_ubv_I = -0.57\n",
      "M =   1.913 Msun  T = 53895 K  m_ubv_I = 5.10\n",
      "M =   1.913 Msun  T = 90166 K  m_ubv_I = 12.45\n",
      "      Time taken: 16.73 seconds\n"
     ]
    }
   ],
   "source": [
    "iso2=synthetic.IsochronePhot(9.0, 0.0, 100, math.log10(1/10), recomp=True) # New MIST v.1 isochrone for same metallicity"
   ]
  },
  {
   "cell_type": "markdown",
   "metadata": {},
   "source": [
    "Looking at the distribution of logg values. for the stars in the MISTv.1 isochrone."
   ]
  },
  {
   "cell_type": "code",
   "execution_count": 23,
   "metadata": {},
   "outputs": [
    {
     "data": {
      "text/plain": [
       "7.941465338001905"
      ]
     },
     "execution_count": 23,
     "metadata": {},
     "output_type": "execute_result"
    }
   ],
   "source": [
    "np.max(iso2.points['logg'])"
   ]
  },
  {
   "cell_type": "code",
   "execution_count": 24,
   "metadata": {},
   "outputs": [
    {
     "data": {
      "text/plain": [
       "(array([505., 146., 198.,  93., 229.,  66.,  24., 123.,   0.,   0.,   0.,\n",
       "          0.,   0.,   0.,   0.,   0.,   0.,   0.,   0.,   0.,   0.,   0.,\n",
       "          0.,   0.,   0.,   0.,   0.,   0.,   0.]),\n",
       " array([ 0,  1,  2,  3,  4,  5,  6,  7,  8,  9, 10, 11, 12, 13, 14, 15, 16,\n",
       "        17, 18, 19, 20, 21, 22, 23, 24, 25, 26, 27, 28, 29]),\n",
       " <a list of 29 Patch objects>)"
      ]
     },
     "execution_count": 24,
     "metadata": {},
     "output_type": "execute_result"
    },
    {
     "data": {
      "image/png": "[encoded data removed]",
      "text/plain": [
       "<Figure size 432x288 with 1 Axes>"
      ]
     },
     "metadata": {
      "needs_background": "light"
     },
     "output_type": "display_data"
    }
   ],
   "source": [
    "import matplotlib.pyplot as plt\n",
    "plt.xlabel(\"logg in cgs\")\n",
    "plt.title(\"Histogram of logg values of stars in the MIST v1 isochrone\")\n",
    "plt.hist(np.array([x for x in iso2.points['logg'] if np.isfinite(x)]), np.arange(0, 30, 1))"
   ]
  },
  {
   "cell_type": "code",
   "execution_count": 25,
   "metadata": {},
   "outputs": [
    {
     "data": {
      "text/plain": [
       "2.1703298385098044"
      ]
     },
     "execution_count": 25,
     "metadata": {},
     "output_type": "execute_result"
    }
   ],
   "source": [
    "np.median(iso2.points['logg'])"
   ]
  },
  {
   "cell_type": "code",
   "execution_count": 26,
   "metadata": {},
   "outputs": [
    {
     "data": {
      "text/plain": [
       "2.6426943829275906"
      ]
     },
     "execution_count": 26,
     "metadata": {},
     "output_type": "execute_result"
    }
   ],
   "source": [
    "np.mean(iso2.points['logg'])"
   ]
  },
  {
   "cell_type": "code",
   "execution_count": 27,
   "metadata": {},
   "outputs": [],
   "source": [
    "from spisea import imf\n",
    "from spisea.imf import imf, multiplicity\n",
    "from spisea import ifmr\n"
   ]
  },
  {
   "cell_type": "markdown",
   "metadata": {},
   "source": [
    "Make the clusters corresponding to the binary star isochrone and the MISTv.1 isochrone"
   ]
  },
  {
   "cell_type": "code",
   "execution_count": 28,
   "metadata": {
    "scrolled": false
   },
   "outputs": [
    {
     "name": "stderr",
     "output_type": "stream",
     "text": [
      "/opt/anaconda3/envs/astroconda/lib/python3.7/site-packages/astropy/table/column.py:1020: RuntimeWarning: invalid value encountered in greater_equal\n",
      "  result = getattr(super(), op)(other)\n"
     ]
    },
    {
     "name": "stdout",
     "output_type": "stream",
     "text": [
      "Found 43 companions out of stellar mass range\n"
     ]
    }
   ],
   "source": [
    "clus_1=synthetic.Binary_Cluster(iso1, imf.IMFSalpeter1955(multiplicity=multiplicity.MultiplicityResolvedDK()), 2000, ifmr=ifmr.IFMR_Spera15())\n",
    "clus_2=synthetic.ResolvedCluster(iso2, imf.IMFSalpeter1955(multiplicity=multiplicity.MultiplicityResolvedDK()), 2000, ifmr=ifmr.IFMR_Spera15())"
   ]
  },
  {
   "cell_type": "markdown",
   "metadata": {},
   "source": [
    "Now let's visualize the isochrone we have created so far with a color magnitude diagram. There we can see the end of main sequence and perhaps the M type"
   ]
  },
  {
   "cell_type": "code",
   "execution_count": 29,
   "metadata": {},
   "outputs": [
    {
     "data": {
      "text/plain": [
       "<matplotlib.legend.Legend at 0x7fbf52022978>"
      ]
     },
     "execution_count": 29,
     "metadata": {},
     "output_type": "execute_result"
    },
    {
     "data": {
      "image/png": "[encoded data removed]",
      "text/plain": [
       "<Figure size 432x288 with 1 Axes>"
      ]
     },
     "metadata": {
      "needs_background": "light"
     },
     "output_type": "display_data"
    }
   ],
   "source": [
    "# Taking a look at the Binary Cluster vs Default Settings cluster Observer's HR Diagram\n",
    "# Remember to use a distance modulus!\n",
    "import matplotlib.pyplot as plt\n",
    "plt.plot(iso1.primaries['m_ubv_B']-iso1.primaries[\"m_ubv_V\"], iso1.primaries[\"m_ubv_V\"]-5*np.log10(10), \"r.\")\n",
    "plt.plot(iso1.secondaries['m_ubv_B']-iso1.secondaries[\"m_ubv_V\"], iso1.secondaries[\"m_ubv_V\"]-5*np.log10(10), \"r.\")\n",
    "plt.plot(iso1.singles['m_ubv_B']-iso1.singles[\"m_ubv_V\"], iso1.singles[\"m_ubv_V\"]-5*np.log10(10), \"r.\", label=\"BPASS isochrone\")\n",
    "plt.plot(iso2.points['m_ubv_B']-iso2.points[\"m_ubv_V\"], iso2.points[\"m_ubv_V\"]-5*np.log10(10), \"b+\", label=\"MISTv1\", alpha = 0.2)\n",
    "plt.xlabel(\"B-V\")\n",
    "plt.ylabel(\"M_V\")\n",
    "plt.title(\"Color magnitude Diagram of Isochrones at solar metallicity and 1 billion years age\")\n",
    "plt.gca().invert_yaxis()\n",
    "plt.legend()"
   ]
  },
  {
   "cell_type": "markdown",
   "metadata": {},
   "source": [
    "We do have several outliers but otherwise the pattern does not seem too terribly off from the MISTv.1 isochrone's shape. Now I look at the primary stars and see if there are any problems caused."
   ]
  },
  {
   "cell_type": "code",
   "execution_count": 30,
   "metadata": {},
   "outputs": [
    {
     "data": {
      "text/plain": [
       "<matplotlib.legend.Legend at 0x7fbf4313cfd0>"
      ]
     },
     "execution_count": 30,
     "metadata": {},
     "output_type": "execute_result"
    },
    {
     "data": {
      "image/png": "[encoded data removed]",
      "text/plain": [
       "<Figure size 432x288 with 1 Axes>"
      ]
     },
     "metadata": {
      "needs_background": "light"
     },
     "output_type": "display_data"
    }
   ],
   "source": [
    "# Taking a look at the Binary Cluster vs Default Settings cluster Observer's HR Diagram\n",
    "# Remember to use a distance modulus!\n",
    "import matplotlib.pyplot as plt\n",
    "plt.plot(iso1.primaries['m_ubv_B']-iso1.primaries[\"m_ubv_V\"], iso1.primaries[\"m_ubv_V\"]-5*np.log10(10), \"r+\",  label=\"BPASS isochrone\", alpha =0.7)\n",
    "plt.xlabel(\"B-V\")\n",
    "plt.ylabel(\"M_V\")\n",
    "plt.title(\"Color magnitude Diagram of Isochrones at solar metallicity and 1 billion years age (Primary stars only)\")\n",
    "plt.gca().invert_yaxis()\n",
    "plt.legend()"
   ]
  },
  {
   "cell_type": "code",
   "execution_count": 31,
   "metadata": {},
   "outputs": [
    {
     "data": {
      "text/plain": [
       "<matplotlib.legend.Legend at 0x7fbf6e43a588>"
      ]
     },
     "execution_count": 31,
     "metadata": {},
     "output_type": "execute_result"
    },
    {
     "data": {
      "image/png": "[encoded data removed]",
      "text/plain": [
       "<Figure size 432x288 with 1 Axes>"
      ]
     },
     "metadata": {
      "needs_background": "light"
     },
     "output_type": "display_data"
    }
   ],
   "source": [
    "# Color magnitude Diagram of secondary stars in the BPASS isochorne\n",
    "import matplotlib.pyplot as plt\n",
    "plt.plot(iso1.secondaries['m_ubv_B']-iso1.secondaries[\"m_ubv_V\"], iso1.secondaries[\"m_ubv_V\"]-5*np.log10(10), \"r+\",  label=\"BPASS isochrone secondaries\", alpha =0.7)\n",
    "plt.xlabel(\"B-V\")\n",
    "plt.ylabel(\"M_V\")\n",
    "plt.title(\"Color magnitude Diagram of Isochrones at solar metallicity and 1 billion years age (Secondary stars only)\")\n",
    "plt.gca().invert_yaxis()\n",
    "plt.legend()"
   ]
  },
  {
   "cell_type": "code",
   "execution_count": 32,
   "metadata": {},
   "outputs": [
    {
     "data": {
      "text/plain": [
       "<matplotlib.legend.Legend at 0x7fbfb178d940>"
      ]
     },
     "execution_count": 32,
     "metadata": {},
     "output_type": "execute_result"
    },
    {
     "data": {
      "image/png": "[encoded data removed]",
      "text/plain": [
       "<Figure size 432x288 with 1 Axes>"
      ]
     },
     "metadata": {
      "needs_background": "light"
     },
     "output_type": "display_data"
    }
   ],
   "source": [
    "import matplotlib.pyplot as plt\n",
    "plt.plot(np.log10(iso1.primaries['Teff']), np.log10(iso1.primaries[\"L\"]), \"r.\", alpha =0.3)\n",
    "plt.plot(np.log10(iso1.secondaries['Teff']), np.log10(iso1.secondaries[\"L\"]), \"r.\", alpha =0.3)\n",
    "plt.plot(np.log10(iso1.singles['Teff']), np.log10(iso1.singles[\"L\"]), \"r.\", label=\"BPASS isochrone\", alpha =0.3)\n",
    "plt.plot(np.log10(iso2.points['Teff']), np.log10(iso2.points[\"L\"]), \"b+\", label=\"MISTv1\", alpha =0.1)\n",
    "plt.xlabel(\"log(T in Kelvin)\")\n",
    "plt.ylabel(\"log(L in Watts)\")\n",
    "plt.title(\"HR Diagram of Isochrones at solar metallicity and 1 billion years age\")\n",
    "plt.gca().invert_xaxis()\n",
    "plt.legend()\n",
    "# Rough pattern seems to fit. What's that line?"
   ]
  },
  {
   "cell_type": "markdown",
   "metadata": {},
   "source": [
    "A good sign here is that there are plenty of compact remnant (that means good number of stars have gone through their main-sequence and post-main sequence). I also notice stars turning to the red giant branch. This is going to be really important when we decide to use the clusters as reference for finding ages of actual star clusters."
   ]
  },
  {
   "cell_type": "code",
   "execution_count": 33,
   "metadata": {},
   "outputs": [
    {
     "data": {
      "text/plain": [
       "<matplotlib.legend.Legend at 0x7fbf9e67eda0>"
      ]
     },
     "execution_count": 33,
     "metadata": {},
     "output_type": "execute_result"
    },
    {
     "data": {
      "image/png": "[encoded data removed]",
      "text/plain": [
       "<Figure size 432x288 with 1 Axes>"
      ]
     },
     "metadata": {
      "needs_background": "light"
     },
     "output_type": "display_data"
    }
   ],
   "source": [
    "# Plot the mass-luminosity relationship\n",
    "from astropy import constants as cs\n",
    "import matplotlib.pyplot as plt\n",
    "plt.plot(np.log10(iso1.primaries['mass_current']), np.log10(iso1.primaries[\"L\"]/cs.L_sun), \"r.\")\n",
    "plt.plot(np.log10(iso1.secondaries['mass_current']), np.log10(iso1.secondaries[\"L\"]/cs.L_sun), \"r.\")\n",
    "plt.plot(np.log10(iso1.singles['mass_current']), np.log10(iso1.singles[\"L\"]/cs.L_sun), \"r.\", label=\"BPASS isochrone\")\n",
    "plt.plot(np.log10(iso2.points['mass_current']), np.log10(iso2.points[\"L\"]/cs.L_sun), \"b+\", label=\"MISTv1\", alpha =0.2)\n",
    "plt.xlabel(\"log(Current Mass in solar masses)\")\n",
    "plt.ylabel(\"log(L/L_solar)\")\n",
    "plt.title(\"log Mass-logL of Isochrones at solar metallicity and 1 billion years age\")\n",
    "plt.legend()\n",
    "# Rough pattern seems to fit. What's that line?"
   ]
  },
  {
   "cell_type": "markdown",
   "metadata": {},
   "source": [
    "Which table is causing that line segment at around log10(L/L_sun)=-3?\n",
    "Let's find out.\n",
    "\n",
    "Examining the primaries in the isochrone."
   ]
  },
  {
   "cell_type": "code",
   "execution_count": 34,
   "metadata": {},
   "outputs": [
    {
     "data": {
      "text/plain": [
       "<matplotlib.legend.Legend at 0x7fbf544901d0>"
      ]
     },
     "execution_count": 34,
     "metadata": {},
     "output_type": "execute_result"
    },
    {
     "data": {
      "image/png": "[encoded data removed]",
      "text/plain": [
       "<Figure size 432x288 with 1 Axes>"
      ]
     },
     "metadata": {
      "needs_background": "light"
     },
     "output_type": "display_data"
    }
   ],
   "source": [
    "from astropy import constants as cs\n",
    "import matplotlib.pyplot as plt\n",
    "plt.plot(np.log10(iso1.primaries['mass_current']), np.log10(iso1.primaries[\"L\"]/cs.L_sun), \"r.\", label=\"BPASS isochrone primaries\")\n",
    "plt.xlabel(\"B-V\")\n",
    "plt.ylabel(\"M_V\")\n",
    "plt.legend()"
   ]
  },
  {
   "cell_type": "markdown",
   "metadata": {},
   "source": [
    "Which type of primary star is it that is causing this strange pattern that is a clump at the bottom of the plot?"
   ]
  },
  {
   "cell_type": "code",
   "execution_count": 35,
   "metadata": {},
   "outputs": [
    {
     "name": "stderr",
     "output_type": "stream",
     "text": [
      "/opt/anaconda3/envs/astroconda/lib/python3.7/site-packages/astropy/units/quantity.py:477: RuntimeWarning: invalid value encountered in greater\n",
      "  result = super().__array_ufunc__(function, method, *arrays, **kwargs)\n",
      "/opt/anaconda3/envs/astroconda/lib/python3.7/site-packages/astropy/units/quantity.py:477: RuntimeWarning: invalid value encountered in less\n",
      "  result = super().__array_ufunc__(function, method, *arrays, **kwargs)\n"
     ]
    }
   ],
   "source": [
    "bad_line = iso1.primaries[np.where((np.log10(iso1.primaries[\"L\"]/cs.L_sun)>-3.30) & (np.log10(iso1.primaries[\"L\"]/cs.L_sun)<-3.10))[0]]"
   ]
  },
  {
   "cell_type": "code",
   "execution_count": 36,
   "metadata": {},
   "outputs": [
    {
     "data": {
      "text/html": [
       "<i>Table length=827</i>\n",
       "<table id=\"table140459441743352\" class=\"table-striped table-bordered table-condensed\">\n",
       "<thead><tr><th>mass</th><th>L</th><th>Teff</th><th>R</th><th>logg</th><th>isWR</th><th>mass_current</th><th>phase</th><th>source</th><th>m_ubv_U</th><th>m_ubv_V</th><th>m_ubv_B</th><th>m_ubv_R</th><th>m_ubv_I</th></tr></thead>\n",
       "<thead><tr><th>solMass</th><th>W</th><th>K</th><th>m</th><th></th><th></th><th>solMass</th><th></th><th></th><th></th><th></th><th></th><th></th><th></th></tr></thead>\n",
       "<thead><tr><th>float64</th><th>float64</th><th>float64</th><th>float64</th><th>float64</th><th>bool</th><th>float64</th><th>float64</th><th>int64</th><th>float64</th><th>float64</th><th>float64</th><th>float64</th><th>float64</th></tr></thead>\n",
       "<tr><td>3.5</td><td>2.4907660018164023e+23</td><td>9672.283111329129</td><td>6319717.486352178</td><td>8.479802314491101</td><td>False</td><td>0.90842</td><td>101.0</td><td>1</td><td>17.53563757420806</td><td>18.03865661686814</td><td>18.22222227032181</td><td>17.91170632075815</td><td>17.812211500853806</td></tr>\n",
       "<tr><td>2.7</td><td>2.557966951129601e+23</td><td>9887.192732391351</td><td>6129014.717567</td><td>8.51798068610406</td><td>False</td><td>0.93293</td><td>101.0</td><td>1</td><td>17.503841600764748</td><td>18.036048317173435</td><td>18.204639640691756</td><td>17.916499716592714</td><td>17.82835070578595</td></tr>\n",
       "<tr><td>3.7</td><td>2.07178139692315e+23</td><td>8460.440976546977</td><td>7533124.832037322</td><td>8.247259324192</td><td>False</td><td>0.75561</td><td>101.0</td><td>1</td><td>17.798538097507702</td><td>18.106250763853</td><td>18.38991687324541</td><td>17.929501604847232</td><td>17.75359698658008</td></tr>\n",
       "<tr><td>4.0</td><td>2.6873048077097104e+23</td><td>10324.000098134375</td><td>5761713.565581131</td><td>8.593080016498233</td><td>False</td><td>0.9801</td><td>101.0</td><td>1</td><td>17.450273956287816</td><td>18.037684182151715</td><td>18.177943832181203</td><td>17.932107405774683</td><td>17.86537052005745</td></tr>\n",
       "<tr><td>2.3</td><td>2.70260097498769e+23</td><td>10377.984076547742</td><td>5718131.837131388</td><td>8.602141571868392</td><td>False</td><td>0.98568</td><td>101.0</td><td>1</td><td>17.444604917912322</td><td>18.03848105798149</td><td>18.17542137112662</td><td>17.93453851468626</td><td>17.870305815761817</td></tr>\n",
       "<tr><td>3.2</td><td>2.3884652611627444e+23</td><td>9358.214598021681</td><td>6610931.607086639</td><td>8.42246062660085</td><td>False</td><td>0.87111</td><td>101.0</td><td>1</td><td>17.589308405790437</td><td>18.04701109176309</td><td>18.253818214343923</td><td>17.908548665599973</td><td>17.79140266147752</td></tr>\n",
       "<tr><td>5.0</td><td>2.326692174218708e+23</td><td>11660.65644419758</td><td>4202547.823168389</td><td>8.94465957655051</td><td>False</td><td>1.17158</td><td>101.0</td><td>1</td><td>17.644315665478466</td><td>18.37239157825426</td><td>18.440395541598697</td><td>18.302268116814552</td><td>18.28985445518892</td></tr>\n",
       "<tr><td>3.2</td><td>2.3636759105725983e+23</td><td>8153.254521901935</td><td>8664054.275141694</td><td>8.042911655025577</td><td>False</td><td>0.62437</td><td>101.0</td><td>1</td><td>17.68756644952792</td><td>17.935675836471333</td><td>18.249854243809608</td><td>17.743631982272564</td><td>17.54422532645314</td></tr>\n",
       "<tr><td>2.7</td><td>3.010273317441954e+23</td><td>9493.186216645745</td><td>7212206.687123289</td><td>8.307235614034155</td><td>False</td><td>0.79517</td><td>101.0</td><td>1</td><td>17.33399354019071</td><td>17.811574839767076</td><td>18.008187908040174</td><td>17.678165445516093</td><td>17.56876785485082</td></tr>\n",
       "<tr><td>...</td><td>...</td><td>...</td><td>...</td><td>...</td><td>...</td><td>...</td><td>...</td><td>...</td><td>...</td><td>...</td><td>...</td><td>...</td><td>...</td></tr>\n",
       "<tr><td>5.5</td><td>2.5633619243366372e+23</td><td>14006.576577103164</td><td>3057244.442630553</td><td>9.263093761022395</td><td>False</td><td>1.29075</td><td>101.0</td><td>1</td><td>17.687181464991756</td><td>18.590664748304317</td><td>18.568419119840097</td><td>18.564512762392972</td><td>18.619532313014112</td></tr>\n",
       "<tr><td>5.5</td><td>2.5665748194343304e+23</td><td>14051.477748825653</td><td>3039640.0928666843</td><td>9.268654495415626</td><td>False</td><td>1.29237</td><td>101.0</td><td>1</td><td>17.689266976793146</td><td>18.59546769852926</td><td>18.57182232306697</td><td>18.569995480886504</td><td>18.62605872442934</td></tr>\n",
       "<tr><td>2.7</td><td>2.557966951129601e+23</td><td>9887.192732391351</td><td>6129014.717567</td><td>8.51798068610406</td><td>False</td><td>0.93293</td><td>101.0</td><td>1</td><td>17.503841600764748</td><td>18.036048317173435</td><td>18.204639640691756</td><td>17.916499716592714</td><td>17.82835070578595</td></tr>\n",
       "<tr><td>3.7</td><td>2.5608782352407135e+23</td><td>9896.667968395022</td><td>6120764.417357124</td><td>8.51964185367448</td><td>False</td><td>0.93399</td><td>101.0</td><td>1</td><td>17.50252552890401</td><td>18.035986960639306</td><td>18.203934485771807</td><td>17.916756316571533</td><td>17.829094645514207</td></tr>\n",
       "<tr><td>3.5</td><td>1.971455275513081e+23</td><td>8192.661287148776</td><td>7836689.940920213</td><td>8.191388598032102</td><td>False</td><td>0.71902</td><td>101.0</td><td>1</td><td>17.879994474916096</td><td>18.13602013766769</td><td>18.44614706004692</td><td>17.946010323467863</td><td>17.749730289459876</td></tr>\n",
       "<tr><td>1.7</td><td>2.3847119560860017e+23</td><td>9346.951732366966</td><td>6621664.372769824</td><td>8.420369071368594</td><td>False</td><td>0.86974</td><td>101.0</td><td>1</td><td>17.591400675624346</td><td>18.047416069226642</td><td>18.25508837989867</td><td>17.908524518843944</td><td>17.79072042897812</td></tr>\n",
       "<tr><td>4.0</td><td>2.10783654113753e+23</td><td>8558.250615599152</td><td>7425704.523790128</td><td>8.267228405408977</td><td>False</td><td>0.76876</td><td>101.0</td><td>1</td><td>17.771177311939375</td><td>18.09689747644532</td><td>18.371341651834</td><td>17.924760133164423</td><td>17.755938522185055</td></tr>\n",
       "<tr><td>3.5</td><td>2.4907660018164023e+23</td><td>9672.283111329129</td><td>6319717.486352178</td><td>8.479802314491101</td><td>False</td><td>0.90842</td><td>101.0</td><td>1</td><td>17.53563757420806</td><td>18.03865661686814</td><td>18.22222227032181</td><td>17.91170632075815</td><td>17.812211500853806</td></tr>\n",
       "<tr><td>3.2</td><td>2.5761071861712634e+23</td><td>14187.863450450906</td><td>2987013.354132346</td><td>9.285436523374745</td><td>False</td><td>1.29717</td><td>101.0</td><td>1</td><td>17.69580549933429</td><td>18.61014096409998</td><td>18.582305063214026</td><td>18.586703479757936</td><td>18.645891097103053</td></tr>\n",
       "<tr><td>3.5</td><td>2.4916149561611733e+23</td><td>9674.956031178528</td><td>6317302.367858081</td><td>8.480282493002173</td><td>False</td><td>0.90873</td><td>101.0</td><td>1</td><td>17.53521885291636</td><td>18.038609696491545</td><td>18.22198462626878</td><td>17.911753749274293</td><td>17.812403567072607</td></tr>\n",
       "</table>"
      ],
      "text/plain": [
       "<Table length=827>\n",
       "  mass            L            ...      m_ubv_R            m_ubv_I      \n",
       "solMass           W            ...                                      \n",
       "float64        float64         ...      float64            float64      \n",
       "------- ---------------------- ... ------------------ ------------------\n",
       "    3.5 2.4907660018164023e+23 ...  17.91170632075815 17.812211500853806\n",
       "    2.7  2.557966951129601e+23 ... 17.916499716592714  17.82835070578595\n",
       "    3.7   2.07178139692315e+23 ... 17.929501604847232  17.75359698658008\n",
       "    4.0 2.6873048077097104e+23 ... 17.932107405774683  17.86537052005745\n",
       "    2.3   2.70260097498769e+23 ...  17.93453851468626 17.870305815761817\n",
       "    3.2 2.3884652611627444e+23 ... 17.908548665599973  17.79140266147752\n",
       "    5.0  2.326692174218708e+23 ... 18.302268116814552  18.28985445518892\n",
       "    3.2 2.3636759105725983e+23 ... 17.743631982272564  17.54422532645314\n",
       "    2.7  3.010273317441954e+23 ... 17.678165445516093  17.56876785485082\n",
       "    ...                    ... ...                ...                ...\n",
       "    5.5 2.5633619243366372e+23 ... 18.564512762392972 18.619532313014112\n",
       "    5.5 2.5665748194343304e+23 ... 18.569995480886504  18.62605872442934\n",
       "    2.7  2.557966951129601e+23 ... 17.916499716592714  17.82835070578595\n",
       "    3.7 2.5608782352407135e+23 ... 17.916756316571533 17.829094645514207\n",
       "    3.5  1.971455275513081e+23 ... 17.946010323467863 17.749730289459876\n",
       "    1.7 2.3847119560860017e+23 ... 17.908524518843944  17.79072042897812\n",
       "    4.0   2.10783654113753e+23 ... 17.924760133164423 17.755938522185055\n",
       "    3.5 2.4907660018164023e+23 ...  17.91170632075815 17.812211500853806\n",
       "    3.2 2.5761071861712634e+23 ... 18.586703479757936 18.645891097103053\n",
       "    3.5 2.4916149561611733e+23 ... 17.911753749274293 17.812403567072607"
      ]
     },
     "execution_count": 36,
     "metadata": {},
     "output_type": "execute_result"
    }
   ],
   "source": [
    "bad_line"
   ]
  },
  {
   "cell_type": "markdown",
   "metadata": {},
   "source": [
    "What sorts of characteristics (logg, Teff, L) can be causing it? Let's find out"
   ]
  },
  {
   "cell_type": "code",
   "execution_count": 37,
   "metadata": {},
   "outputs": [
    {
     "data": {
      "text/html": [
       "&lt;Column name=&apos;L&apos; dtype=&apos;float64&apos; unit=&apos;W&apos; length=288&gt;\n",
       "<table>\n",
       "<tr><td>1.932657645409718e+23</td></tr>\n",
       "<tr><td>1.933071549832596e+23</td></tr>\n",
       "<tr><td>1.933730419228513e+23</td></tr>\n",
       "<tr><td>1.9696766164912036e+23</td></tr>\n",
       "<tr><td>1.971455275513081e+23</td></tr>\n",
       "<tr><td>1.971509749588011e+23</td></tr>\n",
       "<tr><td>1.971868408155623e+23</td></tr>\n",
       "<tr><td>1.972195343681304e+23</td></tr>\n",
       "<tr><td>1.9738990094566536e+23</td></tr>\n",
       "<tr><td>1.9739262800676395e+23</td></tr>\n",
       "<tr><td>1.9757087766242637e+23</td></tr>\n",
       "<tr><td>1.9784493166151833e+23</td></tr>\n",
       "<tr><td>...</td></tr>\n",
       "<tr><td>2.9103279428511305e+23</td></tr>\n",
       "<tr><td>3.0021330050393096e+23</td></tr>\n",
       "<tr><td>3.0088319292600293e+23</td></tr>\n",
       "<tr><td>3.009018993546628e+23</td></tr>\n",
       "<tr><td>3.0095525370590996e+23</td></tr>\n",
       "<tr><td>3.0095871860125985e+23</td></tr>\n",
       "<tr><td>3.0096634151144713e+23</td></tr>\n",
       "<tr><td>3.009857461540929e+23</td></tr>\n",
       "<tr><td>3.010044589586647e+23</td></tr>\n",
       "<tr><td>3.010197072892405e+23</td></tr>\n",
       "<tr><td>3.0102317292664367e+23</td></tr>\n",
       "<tr><td>3.010273317441954e+23</td></tr>\n",
       "</table>"
      ],
      "text/plain": [
       "<Column name='L' dtype='float64' unit='W' length=288>\n",
       " 1.932657645409718e+23\n",
       " 1.933071549832596e+23\n",
       " 1.933730419228513e+23\n",
       "1.9696766164912036e+23\n",
       " 1.971455275513081e+23\n",
       " 1.971509749588011e+23\n",
       " 1.971868408155623e+23\n",
       " 1.972195343681304e+23\n",
       "1.9738990094566536e+23\n",
       "1.9739262800676395e+23\n",
       "1.9757087766242637e+23\n",
       "1.9784493166151833e+23\n",
       "                   ...\n",
       "2.9103279428511305e+23\n",
       "3.0021330050393096e+23\n",
       "3.0088319292600293e+23\n",
       " 3.009018993546628e+23\n",
       "3.0095525370590996e+23\n",
       "3.0095871860125985e+23\n",
       "3.0096634151144713e+23\n",
       " 3.009857461540929e+23\n",
       " 3.010044589586647e+23\n",
       " 3.010197072892405e+23\n",
       "3.0102317292664367e+23\n",
       " 3.010273317441954e+23"
      ]
     },
     "execution_count": 37,
     "metadata": {},
     "output_type": "execute_result"
    }
   ],
   "source": [
    "np.unique(bad_line['L'])"
   ]
  },
  {
   "cell_type": "code",
   "execution_count": 38,
   "metadata": {},
   "outputs": [
    {
     "data": {
      "text/html": [
       "&lt;Column name=&apos;Teff&apos; dtype=&apos;float64&apos; unit=&apos;K&apos; length=288&gt;\n",
       "<table>\n",
       "<tr><td>7779.111564701878</td></tr>\n",
       "<tr><td>7796.864737380966</td></tr>\n",
       "<tr><td>7811.294287661608</td></tr>\n",
       "<tr><td>7814.010671501809</td></tr>\n",
       "<tr><td>7814.154612223462</td></tr>\n",
       "<tr><td>7827.913176062374</td></tr>\n",
       "<tr><td>7841.822359149005</td></tr>\n",
       "<tr><td>7879.596887948426</td></tr>\n",
       "<tr><td>7903.746454437324</td></tr>\n",
       "<tr><td>7906.913723362877</td></tr>\n",
       "<tr><td>7918.2826461182785</td></tr>\n",
       "<tr><td>8000.700256131155</td></tr>\n",
       "<tr><td>...</td></tr>\n",
       "<tr><td>14006.576577103164</td></tr>\n",
       "<tr><td>14007.415136899224</td></tr>\n",
       "<tr><td>14017.32038990951</td></tr>\n",
       "<tr><td>14023.970838079329</td></tr>\n",
       "<tr><td>14025.90845509388</td></tr>\n",
       "<tr><td>14039.220657768716</td></tr>\n",
       "<tr><td>14051.477748825653</td></tr>\n",
       "<tr><td>14062.93599009654</td></tr>\n",
       "<tr><td>14102.30164825352</td></tr>\n",
       "<tr><td>14187.863450450906</td></tr>\n",
       "<tr><td>14255.386610301299</td></tr>\n",
       "<tr><td>14259.818571595964</td></tr>\n",
       "</table>"
      ],
      "text/plain": [
       "<Column name='Teff' dtype='float64' unit='K' length=288>\n",
       " 7779.111564701878\n",
       " 7796.864737380966\n",
       " 7811.294287661608\n",
       " 7814.010671501809\n",
       " 7814.154612223462\n",
       " 7827.913176062374\n",
       " 7841.822359149005\n",
       " 7879.596887948426\n",
       " 7903.746454437324\n",
       " 7906.913723362877\n",
       "7918.2826461182785\n",
       " 8000.700256131155\n",
       "               ...\n",
       "14006.576577103164\n",
       "14007.415136899224\n",
       " 14017.32038990951\n",
       "14023.970838079329\n",
       " 14025.90845509388\n",
       "14039.220657768716\n",
       "14051.477748825653\n",
       " 14062.93599009654\n",
       " 14102.30164825352\n",
       "14187.863450450906\n",
       "14255.386610301299\n",
       "14259.818571595964"
      ]
     },
     "execution_count": 38,
     "metadata": {},
     "output_type": "execute_result"
    }
   ],
   "source": [
    "np.unique(bad_line['Teff'])"
   ]
  },
  {
   "cell_type": "code",
   "execution_count": 39,
   "metadata": {},
   "outputs": [
    {
     "data": {
      "text/html": [
       "&lt;Column name=&apos;logg&apos; dtype=&apos;float64&apos; unit=&apos;&apos; length=288&gt;\n",
       "<table>\n",
       "<tr><td>7.961309494515844</td></tr>\n",
       "<tr><td>7.965267176083383</td></tr>\n",
       "<tr><td>7.968481691734051</td></tr>\n",
       "<tr><td>7.969083630818839</td></tr>\n",
       "<tr><td>7.969116622516238</td></tr>\n",
       "<tr><td>7.972172177423601</td></tr>\n",
       "<tr><td>7.9752583240669495</td></tr>\n",
       "<tr><td>7.983603421937711</td></tr>\n",
       "<tr><td>7.988921506302239</td></tr>\n",
       "<tr><td>7.989615875881896</td></tr>\n",
       "<tr><td>7.992110732749521</td></tr>\n",
       "<tr><td>8.01009878392738</td></tr>\n",
       "<tr><td>...</td></tr>\n",
       "<tr><td>9.263093761022395</td></tr>\n",
       "<tr><td>9.263197854908158</td></tr>\n",
       "<tr><td>9.264428963241876</td></tr>\n",
       "<tr><td>9.265251683372568</td></tr>\n",
       "<tr><td>9.265491223918202</td></tr>\n",
       "<tr><td>9.267140610437965</td></tr>\n",
       "<tr><td>9.268654495415626</td></tr>\n",
       "<tr><td>9.27007025201704</td></tr>\n",
       "<tr><td>9.27492831134074</td></tr>\n",
       "<tr><td>9.285436523374745</td></tr>\n",
       "<tr><td>9.293681227064383</td></tr>\n",
       "<tr><td>9.294221355125417</td></tr>\n",
       "</table>"
      ],
      "text/plain": [
       "<Column name='logg' dtype='float64' unit='' length=288>\n",
       " 7.961309494515844\n",
       " 7.965267176083383\n",
       " 7.968481691734051\n",
       " 7.969083630818839\n",
       " 7.969116622516238\n",
       " 7.972172177423601\n",
       "7.9752583240669495\n",
       " 7.983603421937711\n",
       " 7.988921506302239\n",
       " 7.989615875881896\n",
       " 7.992110732749521\n",
       "  8.01009878392738\n",
       "               ...\n",
       " 9.263093761022395\n",
       " 9.263197854908158\n",
       " 9.264428963241876\n",
       " 9.265251683372568\n",
       " 9.265491223918202\n",
       " 9.267140610437965\n",
       " 9.268654495415626\n",
       "  9.27007025201704\n",
       "  9.27492831134074\n",
       " 9.285436523374745\n",
       " 9.293681227064383\n",
       " 9.294221355125417"
      ]
     },
     "execution_count": 39,
     "metadata": {},
     "output_type": "execute_result"
    }
   ],
   "source": [
    "np.unique(bad_line['logg'])"
   ]
  },
  {
   "cell_type": "code",
   "execution_count": 40,
   "metadata": {},
   "outputs": [
    {
     "data": {
      "text/html": [
       "&lt;Column name=&apos;mass&apos; dtype=&apos;float64&apos; unit=&apos;solMass&apos; length=18&gt;\n",
       "<table>\n",
       "<tr><td>1.4</td></tr>\n",
       "<tr><td>1.6</td></tr>\n",
       "<tr><td>1.7</td></tr>\n",
       "<tr><td>1.8</td></tr>\n",
       "<tr><td>1.9</td></tr>\n",
       "<tr><td>2.1</td></tr>\n",
       "<tr><td>2.3</td></tr>\n",
       "<tr><td>2.7</td></tr>\n",
       "<tr><td>3.0</td></tr>\n",
       "<tr><td>3.2</td></tr>\n",
       "<tr><td>3.5</td></tr>\n",
       "<tr><td>3.7</td></tr>\n",
       "<tr><td>4.0</td></tr>\n",
       "<tr><td>4.5</td></tr>\n",
       "<tr><td>5.0</td></tr>\n",
       "<tr><td>5.5</td></tr>\n",
       "<tr><td>6.0</td></tr>\n",
       "<tr><td>21.0</td></tr>\n",
       "</table>"
      ],
      "text/plain": [
       "<Column name='mass' dtype='float64' unit='solMass' length=18>\n",
       " 1.4\n",
       " 1.6\n",
       " 1.7\n",
       " 1.8\n",
       " 1.9\n",
       " 2.1\n",
       " 2.3\n",
       " 2.7\n",
       " 3.0\n",
       " 3.2\n",
       " 3.5\n",
       " 3.7\n",
       " 4.0\n",
       " 4.5\n",
       " 5.0\n",
       " 5.5\n",
       " 6.0\n",
       "21.0"
      ]
     },
     "execution_count": 40,
     "metadata": {},
     "output_type": "execute_result"
    }
   ],
   "source": [
    "np.unique(bad_line['mass'])"
   ]
  },
  {
   "cell_type": "code",
   "execution_count": 41,
   "metadata": {},
   "outputs": [
    {
     "data": {
      "text/html": [
       "&lt;Column name=&apos;phase&apos; dtype=&apos;float64&apos; length=1&gt;\n",
       "<table>\n",
       "<tr><td>101.0</td></tr>\n",
       "</table>"
      ],
      "text/plain": [
       "<Column name='phase' dtype='float64' length=1>\n",
       "101.0"
      ]
     },
     "execution_count": 41,
     "metadata": {},
     "output_type": "execute_result"
    }
   ],
   "source": [
    "np.unique(bad_line['phase'])"
   ]
  },
  {
   "cell_type": "markdown",
   "metadata": {},
   "source": [
    "**It turns out that the line was caused by some compact remnants that were lingering around from the NEWSECMODS. In future versions of the stellar evolution model, I may obtain an additional program from the BPASS creators to match the types of compact remnants from the NEWSECMODS.**"
   ]
  },
  {
   "cell_type": "code",
   "execution_count": 42,
   "metadata": {},
   "outputs": [
    {
     "data": {
      "text/plain": [
       "<matplotlib.legend.Legend at 0x7fbf43242b38>"
      ]
     },
     "execution_count": 42,
     "metadata": {},
     "output_type": "execute_result"
    },
    {
     "data": {
      "image/png": "[encoded data removed]",
      "text/plain": [
       "<Figure size 432x288 with 1 Axes>"
      ]
     },
     "metadata": {
      "needs_background": "light"
     },
     "output_type": "display_data"
    }
   ],
   "source": [
    "# Plot the mass-luminosity relationship\n",
    "from astropy import constants as cs\n",
    "from astropy import units as u\n",
    "import numpy as np\n",
    "import matplotlib.pyplot as plt\n",
    "plt.plot((clus_1.star_systems['mass_current']), np.log10(clus_1.star_systems[\"L\"]), \"r.\", label=\"Binary_Cluster made from BPASS\", alpha =1)\n",
    "plt.plot((clus_1.companions['mass_current']), np.log10(clus_1.companions[\"L\"]), \"r.\", label=\"Binary_Cluster made from BPASS\", alpha = 1)\n",
    "plt.plot((clus_2.star_systems['mass_current']), np.log10(clus_2.star_systems[\"L\"]), \"b.\", label=\"Cluster made from MISTv.1\", alpha =0.1)\n",
    "plt.plot((clus_2.companions['mass_current']), np.log10(clus_2.companions[\"L\"]), \"b.\", label=\"Cluster made from MISTv.1\", alpha = 0.1)\n",
    "plt.xlabel(\"Current Mass in solar masses\")\n",
    "plt.ylabel(\"log(L in Watts)\")\n",
    "plt.title(\"Mass-logL of Cluster at solar metallicity and 1 billion years age\")\n",
    "plt.legend()\n",
    "# Rough pattern seems to fit. What's that line?"
   ]
  },
  {
   "cell_type": "markdown",
   "metadata": {},
   "source": [
    "Where is that hook coming from?"
   ]
  },
  {
   "cell_type": "code",
   "execution_count": 43,
   "metadata": {},
   "outputs": [
    {
     "name": "stderr",
     "output_type": "stream",
     "text": [
      "/opt/anaconda3/envs/astroconda/lib/python3.7/site-packages/astropy/table/column.py:1020: RuntimeWarning: invalid value encountered in less_equal\n",
      "  result = getattr(super(), op)(other)\n"
     ]
    },
    {
     "data": {
      "text/html": [
       "&lt;Column name=&apos;phase&apos; dtype=&apos;float64&apos; length=1&gt;\n",
       "<table>\n",
       "<tr><td>101.0</td></tr>\n",
       "</table>"
      ],
      "text/plain": [
       "<Column name='phase' dtype='float64' length=1>\n",
       "101.0"
      ]
     },
     "execution_count": 43,
     "metadata": {},
     "output_type": "execute_result"
    }
   ],
   "source": [
    "np.unique(iso1.primaries[np.where(np.log10(iso1.primaries[\"L\"])<=25)]['phase'])"
   ]
  },
  {
   "cell_type": "code",
   "execution_count": 44,
   "metadata": {},
   "outputs": [
    {
     "data": {
      "text/plain": [
       "0"
      ]
     },
     "execution_count": 44,
     "metadata": {},
     "output_type": "execute_result"
    }
   ],
   "source": [
    "len(iso1.primaries[np.where((np.log10(iso1.primaries[\"L\"])<=25) & (iso1.primaries[\"phase\"]==110))])"
   ]
  },
  {
   "cell_type": "code",
   "execution_count": 45,
   "metadata": {},
   "outputs": [
    {
     "data": {
      "text/plain": [
       "1881"
      ]
     },
     "execution_count": 45,
     "metadata": {},
     "output_type": "execute_result"
    }
   ],
   "source": [
    "len(iso1.primaries[np.where((np.log10(iso1.primaries[\"L\"])<=25) & (iso1.primaries[\"phase\"]==101))])"
   ]
  },
  {
   "cell_type": "markdown",
   "metadata": {},
   "source": [
    "OK. It makes sense that our compact remnants are causing this. (Remember, there really is no significant fusion in the insides of neutron stars or white dwarves."
   ]
  },
  {
   "cell_type": "code",
   "execution_count": 46,
   "metadata": {},
   "outputs": [
    {
     "data": {
      "text/plain": [
       "<matplotlib.legend.Legend at 0x7fbfc7aa6f98>"
      ]
     },
     "execution_count": 46,
     "metadata": {},
     "output_type": "execute_result"
    },
    {
     "data": {
      "image/png": "[encoded data removed]",
      "text/plain": [
       "<Figure size 432x288 with 1 Axes>"
      ]
     },
     "metadata": {
      "needs_background": "light"
     },
     "output_type": "display_data"
    }
   ],
   "source": [
    "# Plot the mass-luminosity relationship\n",
    "from astropy import constants as cs\n",
    "from astropy import units as u\n",
    "import matplotlib.pyplot as plt\n",
    "plt.plot(clus_1.star_systems['mass_current'], np.log10(clus_1.star_systems[\"L\"]), \"r.\", label=\"Binary_Cluster made from BPASS\", alpha =1)\n",
    "plt.xlabel(\"log Current Mass in solar masses\")\n",
    "plt.ylabel(\"log(L/L_solar)\")\n",
    "plt.title(\"log-Mass-logL of Cluster at solar metallicity and 1 billion years age\")\n",
    "plt.legend()\n",
    "# Rough pattern seems to fit. What's that line?"
   ]
  },
  {
   "cell_type": "code",
   "execution_count": 47,
   "metadata": {},
   "outputs": [
    {
     "data": {
      "text/plain": [
       "<matplotlib.legend.Legend at 0x7fbf4160ba58>"
      ]
     },
     "execution_count": 47,
     "metadata": {},
     "output_type": "execute_result"
    },
    {
     "data": {
      "image/png": "[encoded data removed]",
      "text/plain": [
       "<Figure size 432x288 with 1 Axes>"
      ]
     },
     "metadata": {
      "needs_background": "light"
     },
     "output_type": "display_data"
    }
   ],
   "source": [
    "# Plot the mass-luminosity relationship\n",
    "from astropy import constants as cs\n",
    "from astropy import units as u\n",
    "import matplotlib.pyplot as plt\n",
    "plt.plot(clus_1.companions['mass_current'], np.log10(clus_1.companions[\"L\"]), \"r.\", label=\"Binary_Cluster made from BPASS\", alpha =1)\n",
    "plt.xlabel(\"log Current Mass in solar masses\")\n",
    "plt.ylabel(\"log(L/L_solar)\")\n",
    "plt.title(\"log-Mass-logL of Cluster at solar metallicity and 1 billion years age\")\n",
    "plt.legend()\n",
    "# Rough pattern seems to fit. What's that line?"
   ]
  },
  {
   "cell_type": "markdown",
   "metadata": {},
   "source": [
    "Aha, it looks like the companions are causing this! and these are probably the 110 and 101 phased stars. Otherwise I like the alignment"
   ]
  },
  {
   "cell_type": "code",
   "execution_count": 48,
   "metadata": {},
   "outputs": [
    {
     "data": {
      "text/plain": [
       "<matplotlib.legend.Legend at 0x7fbf542c0f28>"
      ]
     },
     "execution_count": 48,
     "metadata": {},
     "output_type": "execute_result"
    },
    {
     "data": {
      "image/png": "[encoded data removed]",
      "text/plain": [
       "<Figure size 432x288 with 1 Axes>"
      ]
     },
     "metadata": {
      "needs_background": "light"
     },
     "output_type": "display_data"
    }
   ],
   "source": [
    "# Taking a look at the Binary Cluster vs Default Settings cluster Observer's HR Diagram\n",
    "# Remember to use a distance modulus!\n",
    "import matplotlib.pyplot as plt\n",
    "plt.plot(clus_1.star_systems['m_ubv_B']-clus_1.star_systems[\"m_ubv_V\"], clus_1.star_systems[\"m_ubv_V\"]-5*np.log10(10), \"r.\",label=\"BPASS\")\n",
    "plt.plot(clus_2.star_systems['m_ubv_B']-clus_2.star_systems[\"m_ubv_V\"], clus_2.star_systems[\"m_ubv_V\"]-5*np.log10(10), \"b+\", label=\"MISTv1\", alpha=0.1)\n",
    "plt.xlabel(\"B-V\")\n",
    "plt.ylabel(\"M_V\")\n",
    "plt.title(\"Color magnitude Diagram of clusters at solar metallicity and 1 billion years age\")\n",
    "plt.gca().invert_yaxis()\n",
    "plt.legend()"
   ]
  },
  {
   "cell_type": "code",
   "execution_count": 49,
   "metadata": {},
   "outputs": [
    {
     "data": {
      "text/plain": [
       "<matplotlib.legend.Legend at 0x7fbfc6de5b38>"
      ]
     },
     "execution_count": 49,
     "metadata": {},
     "output_type": "execute_result"
    },
    {
     "data": {
      "image/png": "[encoded data removed]",
      "text/plain": [
       "<Figure size 432x288 with 1 Axes>"
      ]
     },
     "metadata": {
      "needs_background": "light"
     },
     "output_type": "display_data"
    }
   ],
   "source": [
    "import matplotlib.pyplot as plt\n",
    "plt.plot(np.log10(clus_1.companions['Teff']), np.log10(clus_1.companions[\"L\"]), \"r.\",label=\"BPASS cluster\", alpha=0.5)\n",
    "plt.plot(np.log10(clus_2.companions['Teff']), np.log10(clus_2.companions[\"L\"]), \"b+\", alpha=0.15)\n",
    "plt.plot(np.log10(clus_1.star_systems['Teff']), np.log10(clus_1.star_systems[\"L\"]), \"r.\", alpha=0.5)\n",
    "plt.plot(np.log10(clus_2.star_systems['Teff']), np.log10(clus_2.star_systems[\"L\"]), \"b+\", label=\"MISTv1 cluster\", alpha=0.15)\n",
    "plt.xlabel(\"log(T in kelvin)\")\n",
    "plt.ylabel(\"log(L in watts)\")\n",
    "plt.title(\"HR Diagram of clusters at solar metallicity and 1 billion years age\")\n",
    "plt.gca().invert_xaxis()\n",
    "plt.legend()"
   ]
  },
  {
   "cell_type": "markdown",
   "metadata": {},
   "source": [
    "Looking at which stars are the white dwarves?"
   ]
  },
  {
   "cell_type": "code",
   "execution_count": 50,
   "metadata": {},
   "outputs": [
    {
     "data": {
      "text/plain": [
       "array([   1,    8,   11,   18,   19,   24,   26,   27,   32,   40,   45,\n",
       "         47,   50,   51,   52,   61,   66,   72,   74,   75,   76,   81,\n",
       "         82,   84,   87,   91,   92,   93,   94,   96,  100,  104,  108,\n",
       "        111,  112,  115,  116,  120,  121,  122,  123,  126,  127,  130,\n",
       "        133,  135,  136,  140,  142,  145,  147,  159,  165,  168,  171,\n",
       "        177,  178,  182,  185,  187,  200,  212,  218,  223,  224,  228,\n",
       "        250,  254,  265,  270,  284,  299,  327,  328,  335,  350,  391,\n",
       "        398,  413,  432,  434,  454,  475,  501,  505,  507,  518,  529,\n",
       "        589,  600,  643,  670,  687,  703,  708,  709,  710,  723,  745,\n",
       "        751,  761,  770,  782,  800,  816,  830,  837,  952,  965,  979,\n",
       "        984, 1029, 1037, 1038, 1057, 1072, 1074, 1080, 1125, 1129, 1185,\n",
       "       1191, 1218, 1219, 1223, 1225, 1242, 1284, 1299, 1305, 1346, 1357,\n",
       "       1360, 1363, 1372, 1404, 1440, 1442, 1446, 1478, 1496, 1512, 1555,\n",
       "       1557, 1561, 1602, 1606, 1628, 1634, 1674, 1680, 1734, 1739, 1758,\n",
       "       1787, 1804, 1812, 1813, 1827, 1845, 1888, 1894, 1903, 1925, 1926,\n",
       "       1934, 1960])"
      ]
     },
     "execution_count": 50,
     "metadata": {},
     "output_type": "execute_result"
    }
   ],
   "source": [
    "import numpy as np\n",
    "np.where(clus_1.star_systems['phase']==101.0)[0]"
   ]
  },
  {
   "cell_type": "markdown",
   "metadata": {},
   "source": [
    "Do I see any black holes?"
   ]
  },
  {
   "cell_type": "code",
   "execution_count": 51,
   "metadata": {},
   "outputs": [
    {
     "data": {
      "text/plain": [
       "array([], dtype=int64)"
      ]
     },
     "execution_count": 51,
     "metadata": {},
     "output_type": "execute_result"
    }
   ],
   "source": [
    "np.where(clus_1.star_systems['phase']==103.0)[0]"
   ]
  },
  {
   "cell_type": "markdown",
   "metadata": {},
   "source": [
    "Neutron Stars?"
   ]
  },
  {
   "cell_type": "code",
   "execution_count": 52,
   "metadata": {},
   "outputs": [
    {
     "data": {
      "text/plain": [
       "array([], dtype=int64)"
      ]
     },
     "execution_count": 52,
     "metadata": {},
     "output_type": "execute_result"
    }
   ],
   "source": [
    "np.where(clus_1.star_systems['phase']==102.0)[0]"
   ]
  },
  {
   "cell_type": "markdown",
   "metadata": {},
   "source": [
    "Finding the initial masses of the cluster"
   ]
  },
  {
   "cell_type": "code",
   "execution_count": 53,
   "metadata": {},
   "outputs": [
    {
     "data": {
      "text/plain": [
       "2004.7529649841258"
      ]
     },
     "execution_count": 53,
     "metadata": {},
     "output_type": "execute_result"
    }
   ],
   "source": [
    "clus_1.star_systems['systemMass'].sum()"
   ]
  },
  {
   "cell_type": "code",
   "execution_count": 54,
   "metadata": {},
   "outputs": [
    {
     "data": {
      "text/plain": [
       "1999.9660136443158"
      ]
     },
     "execution_count": 54,
     "metadata": {},
     "output_type": "execute_result"
    }
   ],
   "source": [
    "clus_2.star_systems['systemMass'].sum()"
   ]
  }
 ],
 "metadata": {
  "kernelspec": {
   "display_name": "astroconda",
   "language": "python",
   "name": "astroconda"
  },
  "language_info": {
   "codemirror_mode": {
    "name": "ipython",
    "version": 3
   },
   "file_extension": ".py",
   "mimetype": "text/x-python",
   "name": "python",
   "nbconvert_exporter": "python",
   "pygments_lexer": "ipython3",
   "version": "3.7.3"
  }
 },
 "nbformat": 4,
 "nbformat_minor": 2
}
