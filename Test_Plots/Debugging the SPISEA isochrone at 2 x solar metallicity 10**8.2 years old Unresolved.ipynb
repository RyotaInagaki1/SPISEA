{
 "cells": [
  {
   "cell_type": "markdown",
   "metadata": {},
   "source": [
    "## Testing the BPASS isochrone at 10^8.2 years age. (Unresolved Multiplicity (Lu et al. 2013))\n",
    "In this BPASS isochrone and cluster plot, I go over the BPASS isochrone for 1 billion years age, solar metallicity, AKs=0.5, and distance of 2000 parsecs from Earth. From the isochrone and cluster, we discuss several plots such as the log_g frequency distribution of the isochrone, the color magnitude diagram (B-V vs pseudo-M_V), and the mass luminosity relationshi of the cluster. **Note that I say pseudo-M_V as it is the absoulte magnitude but NOT accounting for extinction**\n",
    "\n",
    "Formula for pseudo M_V\n",
    "pseudo-M_V = V - 5$log_{10}$(distance to cluster/(10 pc))\n",
    "\n",
    "Other notes:\n",
    "\n",
    "I have chosen dist to cluster = 2000 pc to further distinguish this notebook from the other 10^8.2 year old isochrone Notebook.\n",
    "**As the title indicates, I have decided to use unresolved multiplicity in my BPASS and MISTv.1 clusters.**"
   ]
  },
  {
   "cell_type": "code",
   "execution_count": 1,
   "metadata": {},
   "outputs": [
    {
     "name": "stderr",
     "output_type": "stream",
     "text": [
      "/opt/anaconda3/envs/astroconda/lib/python3.7/site-packages/pysynphot/locations.py:346: UserWarning: Extinction files not found in /g/lu/models/cdbs/extinction\n",
      "  warnings.warn('Extinction files not found in %s' % (extdir, ))\n",
      "/opt/anaconda3/envs/astroconda/lib/python3.7/site-packages/pysynphot/refs.py:125: UserWarning: No thermal tables found, no thermal calculations can be performed. No files found for /g/lu/models/cdbs/mtab/*_tmt.fits\n",
      "  'no thermal calculations can be performed. ' + str(e))\n",
      "/opt/anaconda3/envs/astroconda/lib/python3.7/site-packages/astropy/units/quantity.py:477: RuntimeWarning: invalid value encountered in true_divide\n",
      "  result = super().__array_ufunc__(function, method, *arrays, **kwargs)\n",
      "/u/ryotainagaki/Desktop/PyPopStar/spisea/evolution.py:1792: RuntimeWarning: overflow encountered in power\n",
      "  (1 / cs.au) * un.m)\n",
      "/opt/anaconda3/envs/astroconda/lib/python3.7/site-packages/astropy/table/column.py:1020: RuntimeWarning: invalid value encountered in greater\n",
      "  result = getattr(super(), op)(other)\n",
      "/opt/anaconda3/envs/astroconda/lib/python3.7/site-packages/astropy/table/column.py:1020: RuntimeWarning: invalid value encountered in less_equal\n",
      "  result = getattr(super(), op)(other)\n",
      "/opt/anaconda3/envs/astroconda/lib/python3.7/site-packages/astropy/units/quantity.py:477: RuntimeWarning: divide by zero encountered in true_divide\n",
      "  result = super().__array_ufunc__(function, method, *arrays, **kwargs)\n"
     ]
    },
    {
     "name": "stdout",
     "output_type": "stream",
     "text": [
      "Changing to logg=5.00 for T= 36823 logg=8.45\n",
      "Changing to logg=5.00 for T= 49850 logg=8.41\n",
      "Changing to logg=5.00 for T= 34580 logg=8.49\n",
      "Changing to logg=5.00 for T= 37167 logg=8.47\n",
      "Changing to logg=5.00 for T= 34942 logg=8.50\n",
      "Changing to logg=5.00 for T= 42618 logg=8.42\n",
      "Changing to T= 50000 for T= 63717 logg=8.40\n",
      "Changing to logg=5.00 for T= 63717 logg=8.40\n",
      "Changing to logg=5.00 for T= 39596 logg=8.44\n",
      "Changing to logg=5.00 for T= 36827 logg=8.45\n",
      "Changing to logg=5.00 for T= 37637 logg=5.33\n",
      "Changing to logg=5.00 for T= 40910 logg=8.50\n",
      "Changing to logg=5.00 for T= 36827 logg=8.45\n",
      "Changing to logg=5.00 for T= 38079 logg=8.65\n",
      "Changing to T= 50000 for T= 88953 logg=8.26\n",
      "Changing to logg=5.00 for T= 88953 logg=8.26\n",
      "Changing to logg=5.00 for T= 40910 logg=8.50\n",
      "Changing to logg=5.00 for T= 40909 logg=8.50\n",
      "Changing to logg=5.00 for T= 32423 logg=5.45\n",
      "Changing to logg=5.00 for T= 38515 logg=5.30\n",
      "Changing to logg=5.00 for T= 36824 logg=8.45\n",
      "Changing to logg=5.00 for T= 36827 logg=8.45\n",
      "Changing to logg=5.00 for T= 36827 logg=8.45\n",
      "Changing to logg=5.00 for T= 36827 logg=8.45\n",
      "Changing to logg=5.00 for T= 37421 logg=5.37\n",
      "Changing to logg=5.00 for T= 37111 logg=5.40\n",
      "Changing to T= 50000 for T=100000 logg=8.38\n",
      "Changing to logg=5.00 for T=100000 logg=8.38\n",
      "Changing to logg=5.00 for T= 37926 logg=5.40\n",
      "Changing to logg=5.00 for T= 34386 logg=5.62\n",
      "Changing to logg=5.00 for T= 40909 logg=8.50\n",
      "Changing to T= 50000 for T= 96387 logg=8.24\n",
      "Changing to logg=5.00 for T= 96387 logg=8.24\n",
      "Changing to logg=5.00 for T= 34244 logg=8.47\n",
      "Changing to logg=5.00 for T= 36827 logg=8.45\n",
      "Changing to logg=5.00 for T= 36827 logg=8.45\n",
      "Changing to logg=5.00 for T= 36827 logg=8.45\n",
      "Changing to logg=5.00 for T= 38150 logg=5.34\n",
      "Changing to T= 50000 for T= 92170 logg=8.25\n",
      "Changing to logg=5.00 for T= 92170 logg=8.25\n",
      "Changing to logg=5.00 for T= 36827 logg=8.45\n",
      "Changing to T= 50000 for T= 54638 logg=8.42\n",
      "Changing to logg=5.00 for T= 54638 logg=8.42\n",
      "Changing to logg=5.00 for T= 41800 logg=5.57\n",
      "Changing to logg=5.00 for T= 35004 logg=5.61\n",
      "Changing to logg=5.00 for T= 36696 logg=8.45\n",
      "Changing to logg=5.00 for T= 38146 logg=5.34\n",
      "Changing to logg=5.00 for T= 38343 logg=5.50\n",
      "Changing to logg=5.00 for T= 38079 logg=8.65\n",
      "Changing to logg=5.00 for T= 34664 logg=5.10\n",
      "Changing to logg=5.00 for T= 36827 logg=8.45\n",
      "Changing to T= 50000 for T=100000 logg=8.38\n",
      "Changing to logg=5.00 for T=100000 logg=8.38\n",
      "Changing to logg=5.00 for T= 31901 logg=5.47\n",
      "Changing to logg=5.00 for T= 36966 logg=8.60\n",
      "Changing to logg=5.00 for T= 37024 logg=5.36\n",
      "Changing to logg=5.00 for T= 45461 logg=8.54\n",
      "Changing to logg=5.00 for T= 37179 logg=5.33\n",
      "Changing to logg=5.00 for T= 37427 logg=5.47\n",
      "Changing to logg=5.00 for T= 38129 logg=5.33\n",
      "Changing to logg=5.00 for T= 40909 logg=8.50\n",
      "Changing to logg=5.00 for T= 37444 logg=5.34\n",
      "Changing to T= 50000 for T=138976 logg=5.68\n",
      "Changing to logg=5.00 for T=138976 logg=5.68\n",
      "Changing to logg=5.00 for T= 36888 logg=5.29\n",
      "Changing to logg=5.00 for T= 36819 logg=8.45\n",
      "Changing to logg=5.00 for T= 37019 logg=5.35\n",
      "Changing to logg=5.00 for T= 37694 logg=8.50\n",
      "Changing to logg=5.00 for T= 42449 logg=8.42\n",
      "Changing to logg=5.00 for T= 40909 logg=8.50\n",
      "Changing to logg=5.00 for T= 38158 logg=5.34\n",
      "Changing to logg=5.00 for T= 39935 logg=5.50\n",
      "Changing to logg=5.00 for T= 37785 logg=5.35\n",
      "Changing to logg=5.00 for T= 36827 logg=8.45\n",
      "Changing to logg=5.00 for T= 37558 logg=8.63\n",
      "Changing to T= 50000 for T=100000 logg=8.38\n",
      "Changing to logg=5.00 for T=100000 logg=8.38\n",
      "Changing to logg=5.00 for T= 36824 logg=8.45\n",
      "Changing to logg=5.00 for T= 37563 logg=5.33\n",
      "Changing to logg=5.00 for T= 37454 logg=5.33\n",
      "Changing to T= 50000 for T= 87050 logg=8.26\n",
      "Changing to logg=5.00 for T= 87050 logg=8.26\n",
      "Changing to logg=5.00 for T= 38503 logg=5.31\n",
      "Changing to T= 50000 for T=100000 logg=8.38\n",
      "Changing to logg=5.00 for T=100000 logg=8.38\n",
      "Changing to logg=5.00 for T= 38736 logg=5.27\n",
      "Changing to T= 50000 for T= 87325 logg=8.26\n",
      "Changing to logg=5.00 for T= 87325 logg=8.26\n",
      "Changing to logg=5.00 for T= 36827 logg=8.45\n",
      "Changing to logg=5.00 for T= 40909 logg=8.50\n",
      "Changing to logg=5.00 for T= 34526 logg=5.15\n",
      "Changing to logg=5.00 for T= 30303 logg=5.51\n",
      "Changing to logg=5.00 for T= 36827 logg=8.45\n",
      "Changing to logg=5.00 for T= 37694 logg=8.50\n",
      "Changing to logg=5.00 for T= 31114 logg=5.54\n",
      "Changing to logg=5.00 for T= 36659 logg=8.45\n",
      "Changing to logg=5.00 for T= 35452 logg=5.53\n",
      "Changing to logg=5.00 for T= 36827 logg=8.45\n",
      "Changing to logg=5.00 for T= 36827 logg=8.45\n",
      "Changing to logg=5.00 for T= 37403 logg=5.34\n",
      "Changing to logg=5.00 for T= 37676 logg=5.44\n",
      "Changing to logg=5.00 for T= 36821 logg=8.45\n",
      "Changing to logg=5.00 for T= 36827 logg=8.45\n",
      "Changing to logg=5.00 for T= 36827 logg=8.45\n",
      "Changing to logg=5.00 for T= 40910 logg=8.50\n",
      "Changing to logg=5.00 for T= 36827 logg=8.45\n",
      "Changing to logg=5.00 for T= 40910 logg=8.50\n",
      "Changing to logg=5.00 for T= 36827 logg=8.45\n",
      "Changing to logg=5.00 for T= 32039 logg=5.44\n",
      "Changing to logg=5.00 for T= 36827 logg=8.45\n",
      "Changing to logg=5.00 for T= 36827 logg=8.45\n",
      "Changing to logg=5.00 for T= 37625 logg=5.38\n",
      "Changing to logg=5.00 for T= 37247 logg=5.57\n",
      "Changing to logg=5.00 for T= 40910 logg=8.50\n",
      "Changing to logg=5.00 for T= 37840 logg=5.35\n",
      "Changing to logg=5.00 for T= 38130 logg=5.37\n",
      "Changing to logg=5.00 for T= 36966 logg=8.60\n",
      "Changing to logg=5.00 for T= 38235 logg=5.49\n",
      "Changing to logg=5.00 for T= 36857 logg=5.63\n",
      "Changing to logg=5.00 for T= 37460 logg=5.42\n",
      "Changing to logg=5.00 for T= 36966 logg=8.60\n",
      "Changing to logg=5.00 for T= 36679 logg=8.45\n",
      "Changing to logg=5.00 for T= 36221 logg=5.68\n",
      "Changing to logg=5.00 for T= 37022 logg=5.37\n",
      "Changing to logg=5.00 for T= 37119 logg=5.42\n",
      "Changing to logg=5.00 for T= 37521 logg=5.32\n",
      "Changing to logg=5.00 for T= 30888 logg=5.46\n",
      "Changing to logg=4.00 for T= 37355 logg=3.76\n",
      "Changing to logg=5.00 for T= 38319 logg=5.30\n",
      "Changing to logg=5.00 for T= 36820 logg=8.45\n",
      "Changing to logg=5.00 for T= 40910 logg=8.50\n",
      "Changing to logg=5.00 for T= 38253 logg=5.29\n",
      "Changing to T= 50000 for T=141690 logg=5.73\n",
      "Changing to logg=5.00 for T=141690 logg=5.73\n",
      "Changing to logg=5.00 for T= 36827 logg=8.45\n",
      "Changing to logg=5.00 for T= 36827 logg=8.45\n",
      "Changing to logg=5.00 for T= 36966 logg=8.60\n",
      "Changing to logg=5.00 for T= 45461 logg=8.54\n",
      "Changing to logg=5.00 for T= 36951 logg=5.19\n",
      "Changing to logg=5.00 for T= 30073 logg=5.63\n",
      "Changing to logg=5.00 for T= 36827 logg=8.45\n",
      "Changing to logg=5.00 for T= 40910 logg=8.50\n",
      "Changing to logg=5.00 for T= 36827 logg=8.45\n",
      "Changing to logg=5.00 for T= 30915 logg=5.49\n",
      "Changing to logg=5.00 for T= 37594 logg=5.48\n",
      "Changing to logg=5.00 for T= 30439 logg=5.58\n",
      "Changing to logg=5.00 for T= 32421 logg=5.62\n",
      "Changing to logg=5.00 for T= 34835 logg=5.60\n",
      "Changing to logg=5.00 for T= 36827 logg=8.45\n",
      "Changing to logg=5.00 for T= 38246 logg=5.31\n",
      "Changing to logg=5.00 for T= 38079 logg=8.65\n",
      "Changing to logg=5.00 for T= 36827 logg=8.45\n",
      "Changing to logg=5.00 for T= 36827 logg=8.45\n",
      "Changing to logg=5.00 for T= 31702 logg=5.45\n",
      "Changing to logg=5.00 for T= 45461 logg=8.54\n",
      "Changing to logg=5.00 for T= 36827 logg=8.45\n",
      "Changing to T= 50000 for T= 85992 logg=8.26\n",
      "Changing to logg=5.00 for T= 85992 logg=8.26\n",
      "Changing to logg=5.00 for T= 29864 logg=5.72\n",
      "Changing to T= 50000 for T=100000 logg=8.38\n",
      "Changing to logg=5.00 for T=100000 logg=8.38\n",
      "Changing to logg=5.00 for T= 34940 logg=5.46\n",
      "Changing to logg=5.00 for T= 36827 logg=8.45\n",
      "Changing to logg=5.00 for T= 36827 logg=8.45\n",
      "Changing to logg=5.00 for T= 37506 logg=5.36\n",
      "Changing to logg=5.00 for T= 36966 logg=8.60\n",
      "Changing to logg=5.00 for T= 37723 logg=5.35\n",
      "Changing to logg=5.00 for T= 36827 logg=8.45\n",
      "Changing to logg=5.00 for T= 37896 logg=5.28\n",
      "Changing to logg=5.00 for T= 47646 logg=5.00\n",
      "Changing to logg=5.00 for T= 40910 logg=8.50\n",
      "Changing to logg=5.00 for T= 37347 logg=5.35\n",
      "Changing to logg=5.00 for T= 36756 logg=8.45\n",
      "Changing to logg=5.00 for T= 36827 logg=8.45\n",
      "Changing to logg=5.00 for T= 40910 logg=8.50\n",
      "Changing to logg=5.00 for T= 40910 logg=8.50\n",
      "Changing to logg=5.00 for T= 37531 logg=5.36\n",
      "Changing to logg=5.00 for T= 42449 logg=8.42\n",
      "Changing to logg=5.00 for T= 36827 logg=8.45\n",
      "Changing to logg=5.00 for T= 30439 logg=5.64\n",
      "Changing to logg=5.00 for T= 36827 logg=8.45\n",
      "Changing to logg=5.00 for T= 45461 logg=8.54\n",
      "Changing to T= 50000 for T=140948 logg=5.72\n",
      "Changing to logg=5.00 for T=140948 logg=5.72\n",
      "Changing to logg=5.00 for T= 33708 logg=5.07\n",
      "Changing to T= 50000 for T= 99346 logg=8.24\n",
      "Changing to logg=5.00 for T= 99346 logg=8.24\n"
     ]
    },
    {
     "name": "stdout",
     "output_type": "stream",
     "text": [
      "Changing to logg=5.00 for T= 36827 logg=8.45\n",
      "Changing to logg=5.00 for T= 36827 logg=8.45\n",
      "Changing to logg=5.00 for T= 38466 logg=5.31\n",
      "Changing to logg=5.00 for T= 38383 logg=5.30\n",
      "Changing to logg=5.00 for T= 42050 logg=5.58\n",
      "Changing to logg=5.00 for T= 37694 logg=8.50\n",
      "Changing to logg=5.00 for T= 36819 logg=8.45\n",
      "Changing to logg=5.00 for T= 36911 logg=5.34\n",
      "Changing to logg=5.00 for T= 36827 logg=8.45\n",
      "Changing to logg=5.00 for T= 45461 logg=8.54\n",
      "Changing to logg=5.00 for T= 40910 logg=8.50\n",
      "Changing to logg=5.00 for T= 38181 logg=5.29\n",
      "Changing to logg=5.00 for T= 38414 logg=5.30\n",
      "Changing to logg=5.00 for T= 36827 logg=8.45\n",
      "Changing to logg=5.00 for T= 37828 logg=5.28\n",
      "Changing to logg=5.00 for T= 34406 logg=5.59\n",
      "Changing to T= 50000 for T= 87325 logg=8.26\n",
      "Changing to logg=5.00 for T= 87325 logg=8.26\n",
      "Changing to logg=5.00 for T= 37179 logg=5.36\n",
      "Changing to logg=5.00 for T= 42928 logg=8.58\n",
      "Changing to logg=5.00 for T= 36675 logg=8.45\n",
      "Changing to logg=5.00 for T= 38029 logg=5.28\n",
      "Changing to logg=5.00 for T= 36819 logg=8.45\n",
      "Changing to logg=5.00 for T= 40986 logg=5.54\n",
      "Changing to logg=5.00 for T= 40910 logg=8.50\n",
      "Changing to logg=5.00 for T= 36827 logg=8.45\n",
      "Changing to logg=5.00 for T= 36827 logg=8.45\n",
      "Changing to logg=5.00 for T= 38827 logg=8.55\n",
      "Changing to logg=5.00 for T= 38202 logg=5.29\n",
      "Changing to logg=5.00 for T= 36843 logg=5.32\n",
      "Changing to logg=5.00 for T= 40910 logg=8.50\n",
      "Changing to logg=5.00 for T= 35609 logg=5.53\n",
      "Changing to logg=5.00 for T= 37694 logg=8.50\n",
      "Changing to logg=5.00 for T= 40910 logg=8.50\n",
      "Changing to logg=5.00 for T= 36827 logg=8.45\n",
      "Changing to logg=5.00 for T= 45442 logg=5.46\n",
      "Changing to logg=5.00 for T= 37694 logg=8.50\n",
      "Changing to T= 50000 for T=142439 logg=5.75\n",
      "Changing to logg=5.00 for T=142439 logg=5.75\n",
      "Changing to T= 50000 for T=177947 logg=7.25\n",
      "Changing to logg=5.00 for T=177947 logg=7.25\n",
      "Changing to logg=5.00 for T= 34364 logg=5.67\n",
      "Changing to T= 50000 for T= 99314 logg=8.24\n",
      "Changing to logg=5.00 for T= 99314 logg=8.24\n",
      "Changing to logg=5.00 for T= 37665 logg=5.28\n",
      "Changing to T= 50000 for T=100000 logg=8.38\n",
      "Changing to logg=5.00 for T=100000 logg=8.38\n",
      "Changing to logg=5.00 for T= 36827 logg=8.45\n",
      "Changing to logg=5.00 for T= 49812 logg=5.27\n",
      "Changing to T= 50000 for T=141876 logg=5.74\n",
      "Changing to logg=5.00 for T=141876 logg=5.74\n",
      "Changing to logg=5.00 for T= 42790 logg=5.55\n",
      "Changing to logg=5.00 for T= 38666 logg=5.28\n",
      "Changing to logg=5.00 for T= 36827 logg=8.45\n",
      "Changing to logg=5.00 for T= 36827 logg=8.45\n",
      "Changing to logg=5.00 for T= 36827 logg=8.45\n",
      "Changing to logg=5.00 for T= 37872 logg=5.28\n",
      "Changing to logg=5.00 for T= 36827 logg=8.45\n",
      "Changing to logg=5.00 for T= 36827 logg=8.45\n",
      "Changing to logg=5.00 for T= 33529 logg=5.10\n",
      "Changing to logg=5.00 for T= 36827 logg=8.45\n",
      "Changing to logg=5.00 for T= 36827 logg=8.45\n",
      "Changing to T= 50000 for T=100000 logg=8.38\n",
      "Changing to logg=5.00 for T=100000 logg=8.38\n",
      "Changing to logg=5.00 for T= 36827 logg=8.45\n",
      "Changing to logg=5.00 for T= 38079 logg=8.65\n",
      "Changing to logg=5.00 for T= 40910 logg=8.50\n",
      "Changing to logg=5.00 for T= 36827 logg=8.45\n",
      "Changing to logg=5.00 for T= 38079 logg=8.65\n",
      "Changing to logg=5.00 for T= 37346 logg=5.34\n",
      "Changing to logg=5.00 for T= 35805 logg=5.67\n",
      "Changing to logg=5.00 for T= 40909 logg=8.50\n",
      "Changing to logg=5.00 for T= 37083 logg=5.38\n",
      "Changing to logg=5.00 for T= 36824 logg=8.45\n",
      "Changing to logg=5.00 for T= 38075 logg=5.40\n",
      "Changing to logg=5.00 for T= 36824 logg=8.45\n",
      "Changing to T= 50000 for T= 87159 logg=8.26\n",
      "Changing to logg=5.00 for T= 87159 logg=8.26\n",
      "Changing to logg=5.00 for T= 36824 logg=8.45\n",
      "Changing to logg=5.00 for T= 38033 logg=5.42\n",
      "Changing to logg=5.00 for T= 37214 logg=5.62\n",
      "Changing to logg=5.00 for T= 36824 logg=8.45\n",
      "Changing to logg=5.00 for T= 38176 logg=5.48\n",
      "Changing to logg=5.00 for T= 37844 logg=5.53\n",
      "Changing to logg=5.00 for T= 36824 logg=8.45\n",
      "Changing to logg=5.00 for T= 36824 logg=8.45\n",
      "Changing to logg=5.00 for T= 36824 logg=8.45\n",
      "Changing to logg=5.00 for T= 37228 logg=5.64\n",
      "Changing to logg=5.00 for T= 37201 logg=5.63\n",
      "Changing to logg=5.00 for T= 38284 logg=5.32\n",
      "Changing to logg=5.00 for T= 36824 logg=8.45\n",
      "Changing to logg=5.00 for T= 36770 logg=8.45\n",
      "Changing to logg=5.00 for T= 38102 logg=5.50\n",
      "Changing to T= 50000 for T= 87006 logg=8.26\n",
      "Changing to logg=5.00 for T= 87006 logg=8.26\n",
      "Changing to logg=5.00 for T= 36904 logg=5.30\n",
      "Changing to logg=5.00 for T= 36824 logg=8.45\n",
      "Changing to logg=0.00 for T=  3160 logg=-0.22\n",
      "Changing to logg=5.00 for T= 38096 logg=5.33\n",
      "Changing to logg=5.00 for T= 36824 logg=8.45\n",
      "Changing to logg=5.00 for T= 36824 logg=8.45\n",
      "Changing to logg=5.00 for T= 38052 logg=5.38\n",
      "Changing to T= 50000 for T= 89902 logg=8.26\n",
      "Changing to logg=5.00 for T= 89902 logg=8.26\n",
      "Changing to logg=5.00 for T= 36824 logg=8.45\n",
      "Changing to logg=5.00 for T= 38172 logg=5.48\n",
      "Changing to logg=5.00 for T= 36824 logg=8.45\n",
      "Changing to logg=5.00 for T= 36824 logg=8.45\n",
      "Changing to logg=5.00 for T= 36819 logg=8.45\n",
      "Changing to logg=5.00 for T= 36824 logg=8.45\n",
      "Changing to logg=5.00 for T= 36824 logg=8.45\n",
      "Changing to logg=5.00 for T= 36770 logg=8.45\n",
      "Changing to logg=5.00 for T= 38340 logg=5.40\n",
      "Changing to logg=5.00 for T= 38076 logg=5.46\n",
      "Changing to logg=5.00 for T= 36824 logg=8.45\n",
      "Changing to logg=0.00 for T=  3160 logg=-0.22\n",
      "Changing to logg=5.00 for T= 36824 logg=8.45\n",
      "Changing to logg=5.00 for T= 38170 logg=5.36\n",
      "Changing to logg=5.00 for T= 36824 logg=8.45\n",
      "Changing to logg=5.00 for T= 37821 logg=5.53\n",
      "Changing to logg=5.00 for T= 37946 logg=5.35\n",
      "Changing to logg=5.00 for T= 36824 logg=8.45\n",
      "Changing to logg=5.00 for T= 38107 logg=5.32\n",
      "Changing to logg=5.00 for T= 37268 logg=5.37\n",
      "Changing to logg=5.00 for T= 36824 logg=8.45\n",
      "Changing to logg=5.00 for T= 36824 logg=8.45\n",
      "Changing to logg=5.00 for T= 36823 logg=8.45\n",
      "Changing to logg=5.00 for T= 37954 logg=5.40\n",
      "Changing to logg=5.00 for T= 37834 logg=5.37\n",
      "Changing to logg=5.00 for T= 36824 logg=8.45\n",
      "Changing to logg=5.00 for T= 38173 logg=5.48\n",
      "Changing to logg=5.00 for T= 36824 logg=8.45\n",
      "Changing to logg=5.00 for T= 38291 logg=5.44\n",
      "Changing to logg=5.00 for T= 37204 logg=5.63\n",
      "Changing to logg=5.00 for T= 34497 logg=5.65\n",
      "Changing to logg=5.00 for T= 37875 logg=5.36\n",
      "Changing to logg=5.00 for T= 38101 logg=5.49\n",
      "Changing to T= 50000 for T=100883 logg=8.23\n",
      "Changing to logg=5.00 for T=100883 logg=8.23\n",
      "Changing to logg=5.00 for T= 36824 logg=8.45\n",
      "Changing to logg=5.00 for T= 38082 logg=5.45\n",
      "Changing to logg=5.00 for T= 36824 logg=8.45\n",
      "Changing to logg=5.00 for T= 37911 logg=5.37\n",
      "Changing to logg=5.00 for T= 36671 logg=8.45\n",
      "Changing to logg=5.00 for T= 36824 logg=8.45\n",
      "Changing to logg=5.00 for T= 38133 logg=5.39\n",
      "Changing to logg=5.00 for T= 36824 logg=8.45\n",
      "Changing to logg=5.00 for T= 38020 logg=5.38\n",
      "Changing to logg=5.00 for T= 36824 logg=8.45\n",
      "Changing to logg=5.00 for T= 37794 logg=5.59\n",
      "Changing to logg=5.00 for T= 37007 logg=5.36\n",
      "Changing to logg=5.00 for T= 38072 logg=5.38\n",
      "Changing to logg=5.00 for T= 36824 logg=8.45\n",
      "Changing to logg=5.00 for T= 36824 logg=8.45\n",
      "Changing to logg=5.00 for T= 36824 logg=8.45\n",
      "Changing to logg=5.00 for T= 37133 logg=5.40\n",
      "Changing to logg=5.00 for T= 37292 logg=5.41\n",
      "Changing to logg=5.00 for T= 36824 logg=8.45\n",
      "Changing to logg=5.00 for T= 36824 logg=8.45\n",
      "Changing to logg=5.00 for T= 36824 logg=8.45\n",
      "Changing to logg=5.00 for T= 37578 logg=8.49\n",
      "Changing to logg=5.00 for T= 38223 logg=5.41\n",
      "Changing to logg=5.00 for T= 36824 logg=8.45\n",
      "Changing to logg=5.00 for T= 39634 logg=5.57\n",
      "Changing to logg=5.00 for T= 36824 logg=8.45\n",
      "Changing to logg=5.00 for T= 38026 logg=5.38\n",
      "Changing to logg=0.00 for T=  3093 logg=-0.32\n",
      "Changing to logg=5.00 for T= 36824 logg=8.45\n",
      "Making photometry for isochrone: log(t) = 8.20  AKs = 0.50  dist = 2000\n",
      "     Starting at:  2021-01-14 16:00:05.119728   Usually takes ~5 minutes\n",
      "Starting filter: ubv,U   Elapsed time: 0.00 seconds\n",
      "Starting synthetic photometry\n",
      "Singles\n",
      "M =   2.650 Msun  T =  9593 K  m_ubv_U = 20.25\n",
      "Primaries\n",
      "M =   3.200 Msun  T = 10547 K  m_ubv_U = 19.26\n",
      "M =   2.100 Msun  T =  9220 K  m_ubv_U = 20.55\n",
      "M =   0.631 Msun  T =   nan K  m_ubv_U =  nan\n",
      "M =   5.000 Msun  T = 29289 K  m_ubv_U = 28.57\n",
      "M =   4.500 Msun  T =  3829 K  m_ubv_U = 21.19\n",
      "M =   1.400 Msun  T =   nan K  m_ubv_U =  nan\n",
      "M =   0.631 Msun  T =   nan K  m_ubv_U =  nan\n",
      "M =   2.100 Msun  T = 11110 K  m_ubv_U = 18.28\n"
     ]
    },
    {
     "name": "stdout",
     "output_type": "stream",
     "text": [
      "M =   4.000 Msun  T = 11152 K  m_ubv_U = 18.02\n",
      "M =   3.700 Msun  T = 41293 K  m_ubv_U = 29.63\n",
      "M =   2.000 Msun  T = 10951 K  m_ubv_U = 18.62\n",
      "M =   3.700 Msun  T = 40910 K  m_ubv_U = 28.31\n",
      "M =   1.400 Msun  T =   nan K  m_ubv_U =  nan\n",
      "M =   2.300 Msun  T = 11650 K  m_ubv_U = 18.85\n",
      "M =   3.000 Msun  T = 10322 K  m_ubv_U = 19.64\n",
      "M =   3.700 Msun  T = 11032 K  m_ubv_U = 18.43\n",
      "M =   4.500 Msun  T = 37828 K  m_ubv_U = 20.51\n",
      "M =   6.000 Msun  T = 32255 K  m_ubv_U = 28.90\n",
      "M =   3.200 Msun  T = 10547 K  m_ubv_U = 19.26\n",
      "M =   3.200 Msun  T = 10547 K  m_ubv_U = 19.26\n",
      "M =   3.500 Msun  T = 10761 K  m_ubv_U = 18.75\n",
      "Secondaries\n",
      "M =   1.920 Msun  T =  8472 K  m_ubv_U = 21.58\n",
      "M =   0.420 Msun  T =   nan K  m_ubv_U =  nan\n",
      "M =   3.700 Msun  T = 11188 K  m_ubv_U = 18.50\n",
      "M =   3.500 Msun  T = 11786 K  m_ubv_U = 18.79\n",
      "M =   1.350 Msun  T =  6250 K  m_ubv_U = 23.83\n",
      "M =   4.500 Msun  T = 87006 K  m_ubv_U = 27.55\n",
      "M =   4.500 Msun  T =  4263 K  m_ubv_U = 20.60\n",
      "M =   1.680 Msun  T =   nan K  m_ubv_U =  nan\n",
      "M =   2.800 Msun  T = 11171 K  m_ubv_U = 19.90\n",
      "M =   1.850 Msun  T =   nan K  m_ubv_U =  nan\n",
      "M =   1.600 Msun  T =   nan K  m_ubv_U =  nan\n",
      "M =   0.740 Msun  T =   nan K  m_ubv_U =  nan\n",
      "M =   3.000 Msun  T = 10247 K  m_ubv_U = 19.61\n",
      "M =   0.690 Msun  T =   nan K  m_ubv_U =  nan\n",
      "M =   0.600 Msun  T =  3878 K  m_ubv_U = 30.71\n",
      "M =   1.480 Msun  T =  6941 K  m_ubv_U = 22.98\n",
      "M =   2.700 Msun  T = 10474 K  m_ubv_U = 20.04\n",
      "M =   4.200 Msun  T = 14377 K  m_ubv_U = 18.30\n",
      "M =   1.600 Msun  T =  7352 K  m_ubv_U = 22.52\n",
      "M =   1.600 Msun  T =  7352 K  m_ubv_U = 22.52\n",
      "M =   1.400 Msun  T =  6525 K  m_ubv_U = 23.50\n",
      "Starting filter: ubv,V   Elapsed time: 6.34 seconds\n",
      "Starting synthetic photometry\n",
      "Singles\n",
      "M =   2.650 Msun  T =  9593 K  m_ubv_V = 19.77\n",
      "Primaries\n",
      "M =   3.200 Msun  T = 10547 K  m_ubv_V = 18.97\n",
      "M =   2.100 Msun  T =  9220 K  m_ubv_V = 19.98\n",
      "M =   0.631 Msun  T =   nan K  m_ubv_V =  nan\n",
      "M =   5.000 Msun  T = 29289 K  m_ubv_V = 29.40\n",
      "M =   4.500 Msun  T =  3829 K  m_ubv_V = 17.10\n",
      "M =   1.400 Msun  T =   nan K  m_ubv_V =  nan\n",
      "M =   0.631 Msun  T =   nan K  m_ubv_V =  nan\n",
      "M =   2.100 Msun  T = 11110 K  m_ubv_V = 18.11\n",
      "M =   4.000 Msun  T = 11152 K  m_ubv_V = 17.86\n",
      "M =   3.700 Msun  T = 41293 K  m_ubv_V = 30.56\n",
      "M =   2.000 Msun  T = 10951 K  m_ubv_V = 18.41\n",
      "M =   3.700 Msun  T = 40910 K  m_ubv_V = 29.25\n",
      "M =   1.400 Msun  T =   nan K  m_ubv_V =  nan\n",
      "M =   2.300 Msun  T = 11650 K  m_ubv_V = 18.73\n",
      "M =   3.000 Msun  T = 10322 K  m_ubv_V = 19.30\n",
      "M =   3.700 Msun  T = 11032 K  m_ubv_V = 18.24\n",
      "M =   4.500 Msun  T = 37828 K  m_ubv_V = 21.42\n",
      "M =   6.000 Msun  T = 32255 K  m_ubv_V = 29.76\n",
      "M =   3.200 Msun  T = 10547 K  m_ubv_V = 18.97\n",
      "M =   3.200 Msun  T = 10547 K  m_ubv_V = 18.97\n",
      "M =   3.500 Msun  T = 10761 K  m_ubv_V = 18.51\n",
      "Secondaries\n",
      "M =   1.920 Msun  T =  8472 K  m_ubv_V = 20.84\n",
      "M =   0.420 Msun  T =   nan K  m_ubv_V =  nan\n",
      "M =   3.700 Msun  T = 11188 K  m_ubv_V = 18.33\n",
      "M =   3.500 Msun  T = 11786 K  m_ubv_V = 18.69\n",
      "M =   1.350 Msun  T =  6250 K  m_ubv_V = 22.60\n",
      "M =   4.500 Msun  T = 87006 K  m_ubv_V = 28.53\n",
      "M =   4.500 Msun  T =  4263 K  m_ubv_V = 16.90\n",
      "M =   1.680 Msun  T =   nan K  m_ubv_V =  nan\n",
      "M =   2.800 Msun  T = 11171 K  m_ubv_V = 19.69\n",
      "M =   1.850 Msun  T =   nan K  m_ubv_V =  nan\n",
      "M =   1.600 Msun  T =   nan K  m_ubv_V =  nan\n",
      "M =   0.740 Msun  T =   nan K  m_ubv_V =  nan\n",
      "M =   3.000 Msun  T = 10247 K  m_ubv_V = 19.26\n",
      "M =   0.690 Msun  T =   nan K  m_ubv_V =  nan\n",
      "M =   0.600 Msun  T =  3878 K  m_ubv_V = 27.76\n",
      "M =   1.480 Msun  T =  6941 K  m_ubv_V = 22.01\n",
      "M =   2.700 Msun  T = 10474 K  m_ubv_V = 19.71\n",
      "M =   4.200 Msun  T = 14377 K  m_ubv_V = 18.48\n",
      "M =   1.600 Msun  T =  7352 K  m_ubv_V = 21.63\n",
      "M =   1.600 Msun  T =  7352 K  m_ubv_V = 21.63\n",
      "M =   1.400 Msun  T =  6525 K  m_ubv_V = 22.41\n",
      "Starting filter: ubv,B   Elapsed time: 12.59 seconds\n",
      "Starting synthetic photometry\n",
      "Singles\n",
      "M =   2.650 Msun  T =  9593 K  m_ubv_B = 20.27\n",
      "Primaries\n",
      "M =   3.200 Msun  T = 10547 K  m_ubv_B = 19.40\n",
      "M =   2.100 Msun  T =  9220 K  m_ubv_B = 20.52\n",
      "M =   0.631 Msun  T =   nan K  m_ubv_B =  nan\n",
      "M =   5.000 Msun  T = 29289 K  m_ubv_B = 29.65\n",
      "M =   4.500 Msun  T =  3829 K  m_ubv_B = 19.50\n",
      "M =   1.400 Msun  T =   nan K  m_ubv_B =  nan\n",
      "M =   0.631 Msun  T =   nan K  m_ubv_B =  nan\n",
      "M =   2.100 Msun  T = 11110 K  m_ubv_B = 18.51\n",
      "M =   4.000 Msun  T = 11152 K  m_ubv_B = 18.26\n",
      "M =   3.700 Msun  T = 41293 K  m_ubv_B = 30.75\n",
      "M =   2.000 Msun  T = 10951 K  m_ubv_B = 18.82\n",
      "M =   3.700 Msun  T = 40910 K  m_ubv_B = 29.40\n",
      "M =   1.400 Msun  T =   nan K  m_ubv_B =  nan\n",
      "M =   2.300 Msun  T = 11650 K  m_ubv_B = 19.13\n",
      "M =   3.000 Msun  T = 10322 K  m_ubv_B = 19.75\n",
      "M =   3.700 Msun  T = 11032 K  m_ubv_B = 18.65\n",
      "M =   4.500 Msun  T = 37828 K  m_ubv_B = 21.59\n",
      "M =   6.000 Msun  T = 32255 K  m_ubv_B = 29.99\n",
      "M =   3.200 Msun  T = 10547 K  m_ubv_B = 19.40\n",
      "M =   3.200 Msun  T = 10547 K  m_ubv_B = 19.40\n",
      "M =   3.500 Msun  T = 10761 K  m_ubv_B = 18.93\n",
      "Secondaries\n",
      "M =   1.920 Msun  T =  8472 K  m_ubv_B = 21.50\n",
      "M =   0.420 Msun  T =   nan K  m_ubv_B =  nan\n",
      "M =   3.700 Msun  T = 11188 K  m_ubv_B = 18.73\n",
      "M =   3.500 Msun  T = 11786 K  m_ubv_B = 19.08\n",
      "M =   1.350 Msun  T =  6250 K  m_ubv_B = 23.79\n",
      "M =   4.500 Msun  T = 87006 K  m_ubv_B = 28.66\n",
      "M =   4.500 Msun  T =  4263 K  m_ubv_B = 19.07\n",
      "M =   1.680 Msun  T =   nan K  m_ubv_B =  nan\n",
      "M =   2.800 Msun  T = 11171 K  m_ubv_B = 20.11\n",
      "M =   1.850 Msun  T =   nan K  m_ubv_B =  nan\n",
      "M =   1.600 Msun  T =   nan K  m_ubv_B =  nan\n",
      "M =   0.740 Msun  T =   nan K  m_ubv_B =  nan\n",
      "M =   3.000 Msun  T = 10247 K  m_ubv_B = 19.71\n",
      "M =   0.690 Msun  T =   nan K  m_ubv_B =  nan\n",
      "M =   0.600 Msun  T =  3878 K  m_ubv_B = 29.82\n",
      "M =   1.480 Msun  T =  6941 K  m_ubv_B = 22.99\n",
      "M =   2.700 Msun  T = 10474 K  m_ubv_B = 20.17\n",
      "M =   4.200 Msun  T = 14377 K  m_ubv_B = 18.83\n",
      "M =   1.600 Msun  T =  7352 K  m_ubv_B = 22.51\n",
      "M =   1.600 Msun  T =  7352 K  m_ubv_B = 22.51\n",
      "M =   1.400 Msun  T =  6525 K  m_ubv_B = 23.50\n",
      "Starting filter: ubv,R   Elapsed time: 18.82 seconds\n",
      "Starting synthetic photometry\n",
      "Singles\n",
      "M =   2.650 Msun  T =  9593 K  m_ubv_R = 17.98\n",
      "Primaries\n",
      "M =   3.200 Msun  T = 10547 K  m_ubv_R = 17.21\n",
      "M =   2.100 Msun  T =  9220 K  m_ubv_R = 18.18\n",
      "M =   0.631 Msun  T =   nan K  m_ubv_R =  nan\n",
      "M =   5.000 Msun  T = 29289 K  m_ubv_R = 27.71\n",
      "M =   4.500 Msun  T =  3829 K  m_ubv_R = 14.41\n",
      "M =   1.400 Msun  T =   nan K  m_ubv_R =  nan\n",
      "M =   0.631 Msun  T =   nan K  m_ubv_R =  nan\n",
      "M =   2.100 Msun  T = 11110 K  m_ubv_R = 16.35\n",
      "M =   4.000 Msun  T = 11152 K  m_ubv_R = 16.10\n",
      "M =   3.700 Msun  T = 41293 K  m_ubv_R = 28.89\n",
      "M =   2.000 Msun  T = 10951 K  m_ubv_R = 16.65\n",
      "M =   3.700 Msun  T = 40910 K  m_ubv_R = 27.60\n",
      "M =   1.400 Msun  T =   nan K  m_ubv_R =  nan\n",
      "M =   2.300 Msun  T = 11650 K  m_ubv_R = 16.98\n",
      "M =   3.000 Msun  T = 10322 K  m_ubv_R = 17.53\n",
      "M =   3.700 Msun  T = 11032 K  m_ubv_R = 16.49\n",
      "M =   4.500 Msun  T = 37828 K  m_ubv_R = 19.78\n",
      "M =   6.000 Msun  T = 32255 K  m_ubv_R = 28.07\n",
      "M =   3.200 Msun  T = 10547 K  m_ubv_R = 17.21\n",
      "M =   3.200 Msun  T = 10547 K  m_ubv_R = 17.21\n",
      "M =   3.500 Msun  T = 10761 K  m_ubv_R = 16.75\n",
      "Secondaries\n",
      "M =   1.920 Msun  T =  8472 K  m_ubv_R = 18.99\n",
      "M =   0.420 Msun  T =   nan K  m_ubv_R =  nan\n",
      "M =   3.700 Msun  T = 11188 K  m_ubv_R = 16.57\n",
      "M =   3.500 Msun  T = 11786 K  m_ubv_R = 16.94\n",
      "M =   1.350 Msun  T =  6250 K  m_ubv_R = 20.50\n",
      "M =   4.500 Msun  T = 87006 K  m_ubv_R = 26.89\n",
      "M =   4.500 Msun  T =  4263 K  m_ubv_R = 14.40\n",
      "M =   1.680 Msun  T =   nan K  m_ubv_R =  nan\n",
      "M =   2.800 Msun  T = 11171 K  m_ubv_R = 17.94\n",
      "M =   1.850 Msun  T =   nan K  m_ubv_R =  nan\n",
      "M =   1.600 Msun  T =   nan K  m_ubv_R =  nan\n",
      "M =   0.740 Msun  T =   nan K  m_ubv_R =  nan\n",
      "M =   3.000 Msun  T = 10247 K  m_ubv_R = 17.49\n",
      "M =   0.690 Msun  T =   nan K  m_ubv_R =  nan\n",
      "M =   0.600 Msun  T =  3878 K  m_ubv_R = 25.05\n",
      "M =   1.480 Msun  T =  6941 K  m_ubv_R = 20.00\n",
      "M =   2.700 Msun  T = 10474 K  m_ubv_R = 17.95\n",
      "M =   4.200 Msun  T = 14377 K  m_ubv_R = 16.76\n",
      "M =   1.600 Msun  T =  7352 K  m_ubv_R = 19.67\n",
      "M =   1.600 Msun  T =  7352 K  m_ubv_R = 19.67\n",
      "M =   1.400 Msun  T =  6525 K  m_ubv_R = 20.34\n",
      "Starting filter: ubv,I   Elapsed time: 24.88 seconds\n",
      "Starting synthetic photometry\n",
      "Singles\n",
      "M =   2.650 Msun  T =  9593 K  m_ubv_I = 15.36\n",
      "Primaries\n",
      "M =   3.200 Msun  T = 10547 K  m_ubv_I = 14.61\n",
      "M =   2.100 Msun  T =  9220 K  m_ubv_I = 15.54\n"
     ]
    },
    {
     "name": "stdout",
     "output_type": "stream",
     "text": [
      "M =   0.631 Msun  T =   nan K  m_ubv_I =  nan\n",
      "M =   5.000 Msun  T = 29289 K  m_ubv_I = 25.31\n",
      "M =   4.500 Msun  T =  3829 K  m_ubv_I = 10.81\n",
      "M =   1.400 Msun  T =   nan K  m_ubv_I =  nan\n",
      "M =   0.631 Msun  T =   nan K  m_ubv_I =  nan\n",
      "M =   2.100 Msun  T = 11110 K  m_ubv_I = 13.77\n",
      "M =   4.000 Msun  T = 11152 K  m_ubv_I = 13.52\n",
      "M =   3.700 Msun  T = 41293 K  m_ubv_I = 26.53\n",
      "M =   2.000 Msun  T = 10951 K  m_ubv_I = 14.07\n",
      "M =   3.700 Msun  T = 40910 K  m_ubv_I = 25.28\n",
      "M =   1.400 Msun  T =   nan K  m_ubv_I =  nan\n",
      "M =   2.300 Msun  T = 11650 K  m_ubv_I = 14.42\n",
      "M =   3.000 Msun  T = 10322 K  m_ubv_I = 14.93\n",
      "M =   3.700 Msun  T = 11032 K  m_ubv_I = 13.90\n",
      "M =   4.500 Msun  T = 37828 K  m_ubv_I = 17.45\n",
      "M =   6.000 Msun  T = 32255 K  m_ubv_I = 25.69\n",
      "M =   3.200 Msun  T = 10547 K  m_ubv_I = 14.61\n",
      "M =   3.200 Msun  T = 10547 K  m_ubv_I = 14.61\n",
      "M =   3.500 Msun  T = 10761 K  m_ubv_I = 14.16\n",
      "Secondaries\n",
      "M =   1.920 Msun  T =  8472 K  m_ubv_I = 16.32\n",
      "M =   0.420 Msun  T =   nan K  m_ubv_I =  nan\n",
      "M =   3.700 Msun  T = 11188 K  m_ubv_I = 13.99\n",
      "M =   3.500 Msun  T = 11786 K  m_ubv_I = 14.38\n",
      "M =   1.350 Msun  T =  6250 K  m_ubv_I = 17.60\n",
      "M =   4.500 Msun  T = 87006 K  m_ubv_I = 24.57\n",
      "M =   4.500 Msun  T =  4263 K  m_ubv_I = 11.08\n",
      "M =   1.680 Msun  T =   nan K  m_ubv_I =  nan\n",
      "M =   2.800 Msun  T = 11171 K  m_ubv_I = 15.36\n",
      "M =   1.850 Msun  T =   nan K  m_ubv_I =  nan\n",
      "M =   1.600 Msun  T =   nan K  m_ubv_I =  nan\n",
      "M =   0.740 Msun  T =   nan K  m_ubv_I =  nan\n",
      "M =   3.000 Msun  T = 10247 K  m_ubv_I = 14.88\n",
      "M =   0.690 Msun  T =   nan K  m_ubv_I =  nan\n",
      "M =   0.600 Msun  T =  3878 K  m_ubv_I = 21.39\n",
      "M =   1.480 Msun  T =  6941 K  m_ubv_I = 17.18\n",
      "M =   2.700 Msun  T = 10474 K  m_ubv_I = 15.35\n",
      "M =   4.200 Msun  T = 14377 K  m_ubv_I = 14.26\n",
      "M =   1.600 Msun  T =  7352 K  m_ubv_I = 16.90\n",
      "M =   1.600 Msun  T =  7352 K  m_ubv_I = 16.90\n",
      "M =   1.400 Msun  T =  6525 K  m_ubv_I = 17.47\n",
      "      Time taken: 30.94 seconds\n",
      "Isochrone generation took 249.531105 s.\n"
     ]
    }
   ],
   "source": [
    "import spisea\n",
    "from spisea import evolution, synthetic\n",
    "import math\n",
    "# Check if the evolution class works fine\n",
    "import time\n",
    "t1=time.time()\n",
    "bps=evolution.BPASS()\n",
    "iso1=synthetic.Isochrone_Binary(8.2, 0.5, 2000,math.log10(2), mass_sampling=1)"
   ]
  },
  {
   "cell_type": "markdown",
   "metadata": {},
   "source": [
    "For a sanity check, we can see that the primaries, secondaries, and single stars have phasees of 5 or of 101 or of 110. Note that we will have a phase of 110 in order to indicate a mystery compact remnant that BPASS provides for NEWSECMODS (secondary star models with compact primaries). This is since we haven't added neutron stars or black holes yet. Stars with phase of -99 exist, and those are the secondary stars that have already merged. Secondary stars that have merged with their primaries have designation of phase -99."
   ]
  },
  {
   "cell_type": "code",
   "execution_count": 2,
   "metadata": {},
   "outputs": [
    {
     "data": {
      "text/plain": [
       "True"
      ]
     },
     "execution_count": 2,
     "metadata": {},
     "output_type": "execute_result"
    }
   ],
   "source": [
    "import numpy as np\n",
    "np.all([(x==5 or x==101 or x==110) for x in iso1.primaries['phase']])"
   ]
  },
  {
   "cell_type": "code",
   "execution_count": 3,
   "metadata": {},
   "outputs": [
    {
     "data": {
      "text/plain": [
       "True"
      ]
     },
     "execution_count": 3,
     "metadata": {},
     "output_type": "execute_result"
    }
   ],
   "source": [
    "np.all([(x==5 or x==101 or x==110) for x in iso1.singles['phase']])"
   ]
  },
  {
   "cell_type": "code",
   "execution_count": 4,
   "metadata": {},
   "outputs": [
    {
     "data": {
      "text/plain": [
       "True"
      ]
     },
     "execution_count": 4,
     "metadata": {},
     "output_type": "execute_result"
    }
   ],
   "source": [
    "np.all([(x==5 or x==101 or x==-99 or x==110) for x in iso1.secondaries['phase']])"
   ]
  },
  {
   "cell_type": "markdown",
   "metadata": {},
   "source": [
    "Find the maximum, mean, and median  values of logg (cgs) for primaries and secondaries accounting for NaNs in the columns. (For max we make NaNs the same as - infinity and for median and mean, we do not include them)"
   ]
  },
  {
   "cell_type": "code",
   "execution_count": 5,
   "metadata": {},
   "outputs": [
    {
     "data": {
      "text/plain": [
       "9.294294038429745"
      ]
     },
     "execution_count": 5,
     "metadata": {},
     "output_type": "execute_result"
    }
   ],
   "source": [
    "np.max(iso1.singles['logg'])"
   ]
  },
  {
   "cell_type": "code",
   "execution_count": 6,
   "metadata": {},
   "outputs": [
    {
     "data": {
      "text/plain": [
       "9.29271298197125"
      ]
     },
     "execution_count": 6,
     "metadata": {},
     "output_type": "execute_result"
    }
   ],
   "source": [
    "np.max(np.nan_to_num(iso1.primaries['logg'], -np.inf))"
   ]
  },
  {
   "cell_type": "code",
   "execution_count": 7,
   "metadata": {},
   "outputs": [
    {
     "data": {
      "text/plain": [
       "9.28288939935889"
      ]
     },
     "execution_count": 7,
     "metadata": {},
     "output_type": "execute_result"
    }
   ],
   "source": [
    "np.max(np.nan_to_num(iso1.secondaries['logg'], -np.inf))"
   ]
  },
  {
   "cell_type": "markdown",
   "metadata": {},
   "source": [
    "Now let's find the mean and median logg values for the single stars, secondary stars, and the primary stars"
   ]
  },
  {
   "cell_type": "code",
   "execution_count": 8,
   "metadata": {},
   "outputs": [
    {
     "data": {
      "text/plain": [
       "5.1578577954565965"
      ]
     },
     "execution_count": 8,
     "metadata": {},
     "output_type": "execute_result"
    }
   ],
   "source": [
    "np.mean(iso1.singles['logg'][np.where(~np.isnan(iso1.singles['logg']))])"
   ]
  },
  {
   "cell_type": "code",
   "execution_count": 9,
   "metadata": {},
   "outputs": [
    {
     "data": {
      "text/plain": [
       "4.814108703418679"
      ]
     },
     "execution_count": 9,
     "metadata": {},
     "output_type": "execute_result"
    }
   ],
   "source": [
    "np.mean(iso1.primaries['logg'][np.where(~np.isnan(iso1.primaries['logg']))])"
   ]
  },
  {
   "cell_type": "code",
   "execution_count": 10,
   "metadata": {},
   "outputs": [
    {
     "data": {
      "text/plain": [
       "4.514832874392041"
      ]
     },
     "execution_count": 10,
     "metadata": {},
     "output_type": "execute_result"
    }
   ],
   "source": [
    "np.mean(iso1.secondaries['logg'][np.where(~np.isnan(iso1.secondaries['logg']))])"
   ]
  },
  {
   "cell_type": "code",
   "execution_count": 11,
   "metadata": {},
   "outputs": [
    {
     "data": {
      "text/plain": [
       "4.170180571521049"
      ]
     },
     "execution_count": 11,
     "metadata": {},
     "output_type": "execute_result"
    }
   ],
   "source": [
    "np.median(iso1.singles['logg'][np.where(~np.isnan(iso1.singles['logg']))])"
   ]
  },
  {
   "cell_type": "code",
   "execution_count": 12,
   "metadata": {},
   "outputs": [
    {
     "data": {
      "text/plain": [
       "3.924622676493628"
      ]
     },
     "execution_count": 12,
     "metadata": {},
     "output_type": "execute_result"
    }
   ],
   "source": [
    "np.median(iso1.primaries['logg'][np.where(~np.isnan(iso1.primaries['logg']))])"
   ]
  },
  {
   "cell_type": "code",
   "execution_count": 13,
   "metadata": {},
   "outputs": [
    {
     "data": {
      "text/plain": [
       "4.231679355706147"
      ]
     },
     "execution_count": 13,
     "metadata": {},
     "output_type": "execute_result"
    }
   ],
   "source": [
    "np.median([x for x in iso1.secondaries['logg'] if np.isfinite(x)])"
   ]
  },
  {
   "cell_type": "markdown",
   "metadata": {},
   "source": [
    "Let's make a histogram of log_g values for each table of the isochrone"
   ]
  },
  {
   "cell_type": "code",
   "execution_count": 14,
   "metadata": {},
   "outputs": [
    {
     "data": {
      "text/plain": [
       "Text(0.5, 0, 'logg in cgs')"
      ]
     },
     "execution_count": 14,
     "metadata": {},
     "output_type": "execute_result"
    },
    {
     "data": {
      "image/png": "[encoded data removed]",
      "text/plain": [
       "<Figure size 432x288 with 1 Axes>"
      ]
     },
     "metadata": {
      "needs_background": "light"
     },
     "output_type": "display_data"
    }
   ],
   "source": [
    "import matplotlib.pyplot as plt\n",
    "plt.title(\"Histogram of logg values (secondaries) of isochrone\")\n",
    "plt.hist(np.array([x for x in iso1.secondaries['logg'] if np.isfinite(x)]), np.arange(0, 30, 1))\n",
    "plt.xlabel(\"logg in cgs\")"
   ]
  },
  {
   "cell_type": "code",
   "execution_count": 15,
   "metadata": {},
   "outputs": [
    {
     "data": {
      "text/plain": [
       "Text(0.5, 0, 'logg in cgs')"
      ]
     },
     "execution_count": 15,
     "metadata": {},
     "output_type": "execute_result"
    },
    {
     "data": {
      "image/png": "[encoded data removed]",
      "text/plain": [
       "<Figure size 432x288 with 1 Axes>"
      ]
     },
     "metadata": {
      "needs_background": "light"
     },
     "output_type": "display_data"
    }
   ],
   "source": [
    "import matplotlib.pyplot as plt\n",
    "plt.title(\"Histogram of logg values (primaries) of isochrone\")\n",
    "plt.hist(np.array([x for x in iso1.primaries['logg'] if np.isfinite(x)]), np.arange(0, 30, 1))\n",
    "plt.xlabel(\"logg in cgs\")"
   ]
  },
  {
   "cell_type": "code",
   "execution_count": 16,
   "metadata": {},
   "outputs": [
    {
     "data": {
      "text/plain": [
       "Text(0.5, 0, 'logg in cgs')"
      ]
     },
     "execution_count": 16,
     "metadata": {},
     "output_type": "execute_result"
    },
    {
     "data": {
      "image/png": "[encoded data removed]",
      "text/plain": [
       "<Figure size 432x288 with 1 Axes>"
      ]
     },
     "metadata": {
      "needs_background": "light"
     },
     "output_type": "display_data"
    }
   ],
   "source": [
    "import matplotlib.pyplot as plt\n",
    "plt.title(\"Histogram of logg values single stars of isochrone\")\n",
    "plt.hist(np.array([x for x in iso1.singles['logg'] if np.isfinite(x)]), np.arange(0, 30, 1))\n",
    "plt.xlabel(\"logg in cgs\")"
   ]
  },
  {
   "cell_type": "markdown",
   "metadata": {},
   "source": [
    "For comparison, let's create a MIST v.1. isochrone  phot using otherwise same parameters."
   ]
  },
  {
   "cell_type": "code",
   "execution_count": 17,
   "metadata": {},
   "outputs": [
    {
     "name": "stdout",
     "output_type": "stream",
     "text": [
      "Isochrone generation took 49.313882 s.\n",
      "Making photometry for isochrone: log(t) = 8.20  AKs = 0.50  dist = 2000\n",
      "     Starting at:  2021-01-14 16:01:26.142873   Usually takes ~5 minutes\n",
      "Starting filter: ubv,U   Elapsed time: 0.00 seconds\n",
      "Starting synthetic photometry\n",
      "M =   0.142 Msun  T =  2456 K  m_ubv_U = 37.76\n",
      "M =   1.201 Msun  T =  5784 K  m_ubv_U = 25.03\n",
      "M =   3.732 Msun  T = 10925 K  m_ubv_U = 18.67\n",
      "M =   4.249 Msun  T = 10138 K  m_ubv_U = 17.34\n",
      "M =   4.260 Msun  T =  4456 K  m_ubv_U = 21.28\n",
      "M =   4.294 Msun  T =  4241 K  m_ubv_U = 21.32\n",
      "M =   4.547 Msun  T =  3626 K  m_ubv_U = 21.01\n",
      "M =   4.555 Msun  T = 18255 K  m_ubv_U = 13.95\n",
      "M =   4.555 Msun  T = 250015 K  m_ubv_U = 21.47\n",
      "M =   4.561 Msun  T = 74112 K  m_ubv_U = 26.71\n",
      "Starting filter: ubv,B   Elapsed time: 2.39 seconds\n",
      "Starting synthetic photometry\n",
      "M =   0.142 Msun  T =  2456 K  m_ubv_B = 37.20\n",
      "M =   1.201 Msun  T =  5784 K  m_ubv_B = 24.86\n",
      "M =   3.732 Msun  T = 10925 K  m_ubv_B = 18.87\n",
      "M =   4.249 Msun  T = 10138 K  m_ubv_B = 17.47\n",
      "M =   4.260 Msun  T =  4456 K  m_ubv_B = 20.01\n",
      "M =   4.294 Msun  T =  4241 K  m_ubv_B = 19.87\n",
      "M =   4.547 Msun  T =  3626 K  m_ubv_B = 19.49\n",
      "M =   4.555 Msun  T = 18255 K  m_ubv_B = 14.92\n",
      "M =   4.555 Msun  T = 250015 K  m_ubv_B = 22.67\n",
      "M =   4.561 Msun  T = 74112 K  m_ubv_B = 27.88\n",
      "Starting filter: ubv,V   Elapsed time: 4.73 seconds\n",
      "Starting synthetic photometry\n",
      "M =   0.142 Msun  T =  2456 K  m_ubv_V = 34.87\n",
      "M =   1.201 Msun  T =  5784 K  m_ubv_V = 23.51\n",
      "M =   3.732 Msun  T = 10925 K  m_ubv_V = 18.46\n",
      "M =   4.249 Msun  T = 10138 K  m_ubv_V = 17.04\n",
      "M =   4.260 Msun  T =  4456 K  m_ubv_V = 17.99\n",
      "M =   4.294 Msun  T =  4241 K  m_ubv_V = 17.73\n",
      "M =   4.547 Msun  T =  3626 K  m_ubv_V = 17.11\n",
      "M =   4.555 Msun  T = 18255 K  m_ubv_V = 14.55\n",
      "M =   4.555 Msun  T = 250015 K  m_ubv_V = 22.58\n",
      "M =   4.561 Msun  T = 74112 K  m_ubv_V = 27.74\n",
      "Starting filter: ubv,R   Elapsed time: 7.09 seconds\n",
      "Starting synthetic photometry\n",
      "M =   0.142 Msun  T =  2456 K  m_ubv_R = 30.69\n",
      "M =   1.201 Msun  T =  5784 K  m_ubv_R = 21.34\n",
      "M =   3.732 Msun  T = 10925 K  m_ubv_R = 16.70\n",
      "M =   4.249 Msun  T = 10138 K  m_ubv_R = 15.27\n",
      "M =   4.260 Msun  T =  4456 K  m_ubv_R = 15.56\n",
      "M =   4.294 Msun  T =  4241 K  m_ubv_R = 15.23\n",
      "M =   4.547 Msun  T =  3626 K  m_ubv_R = 14.22\n",
      "M =   4.555 Msun  T = 18255 K  m_ubv_R = 12.79\n",
      "M =   4.555 Msun  T = 250015 K  m_ubv_R = 20.96\n",
      "M =   4.561 Msun  T = 74112 K  m_ubv_R = 26.10\n",
      "Starting filter: ubv,I   Elapsed time: 9.40 seconds\n",
      "Starting synthetic photometry\n",
      "M =   0.142 Msun  T =  2456 K  m_ubv_I = 25.38\n",
      "M =   1.201 Msun  T =  5784 K  m_ubv_I = 18.38\n",
      "M =   3.732 Msun  T = 10925 K  m_ubv_I = 14.11\n",
      "M =   4.249 Msun  T = 10138 K  m_ubv_I = 12.65\n",
      "M =   4.260 Msun  T =  4456 K  m_ubv_I = 12.31\n",
      "M =   4.294 Msun  T =  4241 K  m_ubv_I = 11.90\n",
      "M =   4.547 Msun  T =  3626 K  m_ubv_I = 10.30\n",
      "M =   4.555 Msun  T = 18255 K  m_ubv_I = 10.32\n",
      "M =   4.555 Msun  T = 250015 K  m_ubv_I = 18.66\n",
      "M =   4.561 Msun  T = 74112 K  m_ubv_I = 23.78\n",
      "      Time taken: 11.78 seconds\n"
     ]
    }
   ],
   "source": [
    "iso2=synthetic.IsochronePhot(8.2, 0.5, 2000, math.log10(2), recomp=True) # New MIST v.1 isochrone for same metallicity"
   ]
  },
  {
   "cell_type": "markdown",
   "metadata": {},
   "source": [
    "Note: dist/10 pc = 200 for both of our isochrones and clusters"
   ]
  },
  {
   "cell_type": "markdown",
   "metadata": {},
   "source": [
    "Find the maximum logg of the isochrone and the distribution of logg values"
   ]
  },
  {
   "cell_type": "code",
   "execution_count": 18,
   "metadata": {},
   "outputs": [
    {
     "data": {
      "text/plain": [
       "8.297711783866424"
      ]
     },
     "execution_count": 18,
     "metadata": {},
     "output_type": "execute_result"
    }
   ],
   "source": [
    "np.max(iso2.points['logg'])"
   ]
  },
  {
   "cell_type": "code",
   "execution_count": 19,
   "metadata": {
    "scrolled": true
   },
   "outputs": [
    {
     "data": {
      "text/plain": [
       "(array([ 80., 209., 115., 156., 204.,  21.,  20.,  56.,  74.,   0.,   0.,\n",
       "          0.,   0.,   0.,   0.,   0.,   0.,   0.,   0.,   0.,   0.,   0.,\n",
       "          0.,   0.,   0.,   0.,   0.,   0.,   0.]),\n",
       " array([ 0,  1,  2,  3,  4,  5,  6,  7,  8,  9, 10, 11, 12, 13, 14, 15, 16,\n",
       "        17, 18, 19, 20, 21, 22, 23, 24, 25, 26, 27, 28, 29]),\n",
       " <a list of 29 Patch objects>)"
      ]
     },
     "execution_count": 19,
     "metadata": {},
     "output_type": "execute_result"
    },
    {
     "data": {
      "image/png": "[encoded data removed]",
      "text/plain": [
       "<Figure size 432x288 with 1 Axes>"
      ]
     },
     "metadata": {
      "needs_background": "light"
     },
     "output_type": "display_data"
    }
   ],
   "source": [
    "import matplotlib.pyplot as plt\n",
    "plt.xlabel(\"logg in cgs\")\n",
    "plt.title(\"Histogram of logg values of stars in the MIST v1 isochrone\")\n",
    "plt.hist(np.array([x for x in iso2.points['logg'] if np.isfinite(x)]), np.arange(0, 30, 1))"
   ]
  },
  {
   "cell_type": "markdown",
   "metadata": {},
   "source": [
    "Finding the log_g median and mean for the new isochrone"
   ]
  },
  {
   "cell_type": "code",
   "execution_count": 20,
   "metadata": {},
   "outputs": [
    {
     "data": {
      "text/plain": [
       "3.444049101527211"
      ]
     },
     "execution_count": 20,
     "metadata": {},
     "output_type": "execute_result"
    }
   ],
   "source": [
    "np.median(iso2.points['logg'])"
   ]
  },
  {
   "cell_type": "code",
   "execution_count": 21,
   "metadata": {},
   "outputs": [
    {
     "data": {
      "text/plain": [
       "3.6214908858947252"
      ]
     },
     "execution_count": 21,
     "metadata": {},
     "output_type": "execute_result"
    }
   ],
   "source": [
    "np.mean(iso2.points['logg'])"
   ]
  },
  {
   "cell_type": "markdown",
   "metadata": {},
   "source": [
    "Now we want to make clusters for both of these models and plot CMD, HR Diagram, and Mass Luminosity relationship for the isochrones. Then, we want to find the Mass luminosity relationship and CMD for the cluster."
   ]
  },
  {
   "cell_type": "code",
   "execution_count": 22,
   "metadata": {},
   "outputs": [],
   "source": [
    "from spisea import imf\n",
    "from spisea.imf import imf, multiplicity\n",
    "from spisea import ifmr\n"
   ]
  },
  {
   "cell_type": "code",
   "execution_count": 23,
   "metadata": {
    "scrolled": true
   },
   "outputs": [
    {
     "name": "stderr",
     "output_type": "stream",
     "text": [
      "/opt/anaconda3/envs/astroconda/lib/python3.7/site-packages/astropy/table/column.py:1020: RuntimeWarning: invalid value encountered in greater_equal\n",
      "  result = getattr(super(), op)(other)\n"
     ]
    },
    {
     "name": "stdout",
     "output_type": "stream",
     "text": [
      "Found 13 companions out of stellar mass range\n"
     ]
    }
   ],
   "source": [
    "clus_1=synthetic.Binary_Cluster(iso1, imf.IMFSalpeter1955(multiplicity=multiplicity.MultiplicityUnresolved()), 2000, ifmr=ifmr.IFMR_Spera15())\n",
    "clus_2=synthetic.ResolvedCluster(iso2, imf.IMFSalpeter1955(multiplicity=multiplicity.MultiplicityUnresolved()), 2000, ifmr=ifmr.IFMR_Spera15())"
   ]
  },
  {
   "cell_type": "markdown",
   "metadata": {},
   "source": [
    "Taking a look at the Binary Cluster vs Default Settings cluster Observer's HR Diagram\n",
    "Remember to use a distance modulus!"
   ]
  },
  {
   "cell_type": "code",
   "execution_count": 24,
   "metadata": {},
   "outputs": [
    {
     "data": {
      "text/plain": [
       "<matplotlib.legend.Legend at 0x7f81020cc748>"
      ]
     },
     "execution_count": 24,
     "metadata": {},
     "output_type": "execute_result"
    },
    {
     "data": {
      "image/png": "[encoded data removed]",
      "text/plain": [
       "<Figure size 432x288 with 1 Axes>"
      ]
     },
     "metadata": {
      "needs_background": "light"
     },
     "output_type": "display_data"
    }
   ],
   "source": [
    "\n",
    "import matplotlib.pyplot as plt\n",
    "plt.plot(iso1.primaries['m_ubv_B']-iso1.primaries[\"m_ubv_V\"], iso1.primaries[\"m_ubv_V\"]-5*np.log10(200), \"r.\")\n",
    "plt.plot(iso1.secondaries['m_ubv_B']-iso1.secondaries[\"m_ubv_V\"], iso1.secondaries[\"m_ubv_V\"]-5*np.log10(200), \"r.\")\n",
    "plt.plot(iso1.singles['m_ubv_B']-iso1.singles[\"m_ubv_V\"], iso1.singles[\"m_ubv_V\"]-5*np.log10(200), \"r.\", label=\"BPASS isochrone\")\n",
    "plt.plot(iso2.points['m_ubv_B']-iso2.points[\"m_ubv_V\"], iso2.points[\"m_ubv_V\"]-5*np.log10(200), \"b+\", label=\"MISTv1\", alpha=0.25)\n",
    "plt.xlabel(\"B-V\")\n",
    "plt.ylabel(\"pseudo M_V\")\n",
    "plt.title(\"Color magnitude Diagram of Isochrones at solar metallicity and 10**8.2 years age\")\n",
    "plt.gca().invert_yaxis()\n",
    "plt.legend()"
   ]
  },
  {
   "cell_type": "code",
   "execution_count": 25,
   "metadata": {},
   "outputs": [
    {
     "name": "stderr",
     "output_type": "stream",
     "text": [
      "No handles with labels found to put in legend.\n"
     ]
    },
    {
     "data": {
      "text/plain": [
       "<matplotlib.legend.Legend at 0x7f810230c4e0>"
      ]
     },
     "execution_count": 25,
     "metadata": {},
     "output_type": "execute_result"
    },
    {
     "data": {
      "image/png": "[encoded data removed]",
      "text/plain": [
       "<Figure size 432x288 with 1 Axes>"
      ]
     },
     "metadata": {
      "needs_background": "light"
     },
     "output_type": "display_data"
    }
   ],
   "source": [
    "import matplotlib.pyplot as plt\n",
    "plt.plot(iso1.primaries['m_ubv_B']-iso1.primaries[\"m_ubv_V\"], iso1.primaries[\"m_ubv_V\"]-5*np.log10(200), \"r.\")\n",
    "plt.xlabel(\"B-V\")\n",
    "plt.ylabel(\"pseudo M_V\")\n",
    "plt.title(\"Color magnitude Diagram of Isochrones at solar metallicity and 10**8.2 years age\")\n",
    "plt.gca().invert_yaxis()\n",
    "plt.legend()"
   ]
  },
  {
   "cell_type": "markdown",
   "metadata": {},
   "source": [
    "**Finding where there are extremely low V magnitudes.** This includes looking at the insides of a primary star table"
   ]
  },
  {
   "cell_type": "code",
   "execution_count": 26,
   "metadata": {},
   "outputs": [
    {
     "name": "stderr",
     "output_type": "stream",
     "text": [
      "/opt/anaconda3/envs/astroconda/lib/python3.7/site-packages/astropy/table/column.py:1020: RuntimeWarning: invalid value encountered in greater\n",
      "  result = getattr(super(), op)(other)\n"
     ]
    },
    {
     "data": {
      "text/html": [
       "&lt;Column name=&apos;phase&apos; dtype=&apos;float64&apos; length=2&gt;\n",
       "<table>\n",
       "<tr><td>5.0</td></tr>\n",
       "<tr><td>101.0</td></tr>\n",
       "</table>"
      ],
      "text/plain": [
       "<Column name='phase' dtype='float64' length=2>\n",
       "  5.0\n",
       "101.0"
      ]
     },
     "execution_count": 26,
     "metadata": {},
     "output_type": "execute_result"
    }
   ],
   "source": [
    "np.unique(iso1.primaries[np.where(iso1.primaries['m_ubv_V']-np.log10(2000/10)>25.0)]['phase'])"
   ]
  },
  {
   "cell_type": "code",
   "execution_count": 27,
   "metadata": {},
   "outputs": [
    {
     "name": "stderr",
     "output_type": "stream",
     "text": [
      "/opt/anaconda3/envs/astroconda/lib/python3.7/site-packages/astropy/table/column.py:1020: RuntimeWarning: invalid value encountered in less\n",
      "  result = getattr(super(), op)(other)\n"
     ]
    },
    {
     "data": {
      "text/html": [
       "<i>Table length=1303</i>\n",
       "<table id=\"table140192063445368\" class=\"table-striped table-bordered table-condensed\">\n",
       "<thead><tr><th>mass</th><th>L</th><th>Teff</th><th>R</th><th>logg</th><th>isWR</th><th>mass_current</th><th>phase</th><th>source</th><th>m_ubv_U</th><th>m_ubv_V</th><th>m_ubv_B</th><th>m_ubv_R</th><th>m_ubv_I</th></tr></thead>\n",
       "<thead><tr><th>solMass</th><th>W</th><th>K</th><th>m</th><th></th><th></th><th>solMass</th><th></th><th></th><th></th><th></th><th></th><th></th><th></th></tr></thead>\n",
       "<thead><tr><th>float64</th><th>float64</th><th>float64</th><th>float64</th><th>float64</th><th>bool</th><th>float64</th><th>float64</th><th>int64</th><th>float64</th><th>float64</th><th>float64</th><th>float64</th><th>float64</th></tr></thead>\n",
       "<tr><td>3.2</td><td>4.438558304479876e+28</td><td>10546.53989925625</td><td>2243831105.5588913</td><td>3.924622676493628</td><td>False</td><td>3.19989</td><td>5.0</td><td>1</td><td>19.260724600450935</td><td>18.971295852921266</td><td>19.404799553224116</td><td>17.207047309288768</td><td>14.610915153978967</td></tr>\n",
       "<tr><td>3.2</td><td>4.438558304479876e+28</td><td>10546.53989925625</td><td>2243831105.5588913</td><td>3.924622676493628</td><td>False</td><td>3.19989</td><td>5.0</td><td>1</td><td>19.260724600450935</td><td>18.971295852921266</td><td>19.404799553224116</td><td>17.207047309288768</td><td>14.610915153978967</td></tr>\n",
       "<tr><td>2.0</td><td>3.104930826184064e+28</td><td>10360.244385357795</td><td>1944800977.9513834</td><td>4.020824539056262</td><td>False</td><td>2.99997</td><td>5.0</td><td>1</td><td>19.652579130972498</td><td>19.32115998146212</td><td>19.767775626427202</td><td>17.55391822421677</td><td>14.952748964295258</td></tr>\n",
       "<tr><td>3.0</td><td>3.1417522089611227e+28</td><td>10321.670715865543</td><td>1970947990.4169807</td><td>4.009204539056261</td><td>False</td><td>2.99997</td><td>5.0</td><td>1</td><td>19.638082941957318</td><td>19.300475556216867</td><td>19.748434169564348</td><td>17.53255091742207</td><td>14.929898656102255</td></tr>\n",
       "<tr><td>3.7</td><td>9.471132864698137e+28</td><td>11032.14598267998</td><td>2995505795.856274</td><td>3.7366166137286756</td><td>False</td><td>3.69921</td><td>5.0</td><td>1</td><td>18.432777158439446</td><td>18.243843766297154</td><td>18.653223264416265</td><td>16.485057027553268</td><td>13.903171919074625</td></tr>\n",
       "<tr><td>5.0</td><td>5.447422108802816e+25</td><td>36827.05581265792</td><td>6446896.740797904</td><td>8.454623166672514</td><td>False</td><td>0.8921</td><td>5.0</td><td>1</td><td>28.414995127437773</td><td>29.324104314011482</td><td>29.491734511844502</td><td>27.682587264998965</td><td>25.35101651386472</td></tr>\n",
       "<tr><td>3.0</td><td>3.1417522089611227e+28</td><td>10321.670715865543</td><td>1970947990.4169807</td><td>4.009204539056261</td><td>False</td><td>2.99997</td><td>5.0</td><td>1</td><td>19.638082941957318</td><td>19.300475556216867</td><td>19.748434169564348</td><td>17.53255091742207</td><td>14.929898656102255</td></tr>\n",
       "<tr><td>3.0</td><td>3.1417522089611227e+28</td><td>10321.670715865543</td><td>1970947990.4169807</td><td>4.009204539056261</td><td>False</td><td>2.99997</td><td>5.0</td><td>1</td><td>19.638082941957318</td><td>19.300475556216867</td><td>19.748434169564348</td><td>17.53255091742207</td><td>14.929898656102255</td></tr>\n",
       "<tr><td>3.0</td><td>3.1417522089611227e+28</td><td>10321.670715865543</td><td>1970947990.4169807</td><td>4.009204539056261</td><td>False</td><td>2.99997</td><td>5.0</td><td>1</td><td>19.638082941957318</td><td>19.300475556216867</td><td>19.748434169564348</td><td>17.53255091742207</td><td>14.929898656102255</td></tr>\n",
       "<tr><td>...</td><td>...</td><td>...</td><td>...</td><td>...</td><td>...</td><td>...</td><td>...</td><td>...</td><td>...</td><td>...</td><td>...</td><td>...</td><td>...</td></tr>\n",
       "<tr><td>4.0</td><td>1.3817896300658627e+29</td><td>11152.185894015138</td><td>3540708423.8200088</td><td>3.6251495213810836</td><td>False</td><td>3.99836</td><td>5.0</td><td>1</td><td>18.01635301328742</td><td>17.85667110573854</td><td>18.25943201642073</td><td>16.098534934480785</td><td>13.519559951536996</td></tr>\n",
       "<tr><td>3.2</td><td>2.3907376946776285e+29</td><td>10837.522197234906</td><td>4931683125.9876995</td><td>3.3781665439432875</td><td>False</td><td>4.39237</td><td>5.0</td><td>1</td><td>17.386987928837392</td><td>17.198972250844726</td><td>17.605950543030986</td><td>15.43577580974636</td><td>12.844385997143924</td></tr>\n",
       "<tr><td>4.0</td><td>1.3817896300658627e+29</td><td>11152.185894015138</td><td>3540708423.8200088</td><td>3.6251495213810836</td><td>False</td><td>3.99836</td><td>5.0</td><td>1</td><td>18.01635301328742</td><td>17.85667110573854</td><td>18.25943201642073</td><td>16.098534934480785</td><td>13.519559951536996</td></tr>\n",
       "<tr><td>3.5</td><td>7.066948543541182e+28</td><td>10761.430369937583</td><td>2719350351.887936</td><td>3.79654727614334</td><td>False</td><td>3.49961</td><td>5.0</td><td>1</td><td>18.749797051439817</td><td>18.509224315265726</td><td>18.929605881329252</td><td>16.74758227190252</td><td>14.157270366642633</td></tr>\n",
       "<tr><td>3.5</td><td>6.675778662905161e+28</td><td>11045.87183988629</td><td>2508650521.3861876</td><td>3.8666122400336014</td><td>False</td><td>3.49965</td><td>5.0</td><td>1</td><td>18.82558645351467</td><td>18.62700831927417</td><td>19.039625824599177</td><td>16.86908290671453</td><td>14.288793282853488</td></tr>\n",
       "<tr><td>3.7</td><td>9.471132864698137e+28</td><td>11032.14598267998</td><td>2995505795.856274</td><td>3.7366166137286756</td><td>False</td><td>3.69921</td><td>5.0</td><td>1</td><td>18.432777158439446</td><td>18.243843766297154</td><td>18.653223264416265</td><td>16.485057027553268</td><td>13.903171919074625</td></tr>\n",
       "<tr><td>3.7</td><td>7.7767999817809e+25</td><td>40909.2012495981</td><td>6242343.516305758</td><td>8.495228586680211</td><td>False</td><td>0.91836</td><td>5.0</td><td>1</td><td>28.309585106567148</td><td>29.24912478531059</td><td>29.400167016882286</td><td>27.60442521780973</td><td>25.27535409392094</td></tr>\n",
       "<tr><td>2.3</td><td>1.2659656708883763e+29</td><td>12360.328126174487</td><td>2758926713.067367</td><td>3.8489851385269</td><td>False</td><td>4.06441</td><td>5.0</td><td>1</td><td>18.19548826003442</td><td>18.186087567448105</td><td>18.563764890864327</td><td>16.44027534605378</td><td>13.89690789238786</td></tr>\n",
       "<tr><td>3.5</td><td>7.066948543541182e+28</td><td>10761.430369937583</td><td>2719350351.887936</td><td>3.79654727614334</td><td>False</td><td>3.49961</td><td>5.0</td><td>1</td><td>18.749797051439817</td><td>18.509224315265726</td><td>18.929605881329252</td><td>16.74758227190252</td><td>14.157270366642633</td></tr>\n",
       "<tr><td>2.7</td><td>1.7121110455909687e+29</td><td>12061.185585382322</td><td>3369575286.1445236</td><td>3.6932912595160237</td><td>False</td><td>4.23627</td><td>5.0</td><td>1</td><td>17.834908418361223</td><td>17.80022410883765</td><td>18.18163536695349</td><td>16.05078012643476</td><td>13.498747711714119</td></tr>\n",
       "</table>"
      ],
      "text/plain": [
       "<Table length=1303>\n",
       "  mass            L            ...      m_ubv_R            m_ubv_I      \n",
       "solMass           W            ...                                      \n",
       "float64        float64         ...      float64            float64      \n",
       "------- ---------------------- ... ------------------ ------------------\n",
       "    3.2  4.438558304479876e+28 ... 17.207047309288768 14.610915153978967\n",
       "    3.2  4.438558304479876e+28 ... 17.207047309288768 14.610915153978967\n",
       "    2.0  3.104930826184064e+28 ...  17.55391822421677 14.952748964295258\n",
       "    3.0 3.1417522089611227e+28 ...  17.53255091742207 14.929898656102255\n",
       "    3.7  9.471132864698137e+28 ... 16.485057027553268 13.903171919074625\n",
       "    5.0  5.447422108802816e+25 ... 27.682587264998965  25.35101651386472\n",
       "    3.0 3.1417522089611227e+28 ...  17.53255091742207 14.929898656102255\n",
       "    3.0 3.1417522089611227e+28 ...  17.53255091742207 14.929898656102255\n",
       "    3.0 3.1417522089611227e+28 ...  17.53255091742207 14.929898656102255\n",
       "    ...                    ... ...                ...                ...\n",
       "    4.0 1.3817896300658627e+29 ... 16.098534934480785 13.519559951536996\n",
       "    3.2 2.3907376946776285e+29 ...  15.43577580974636 12.844385997143924\n",
       "    4.0 1.3817896300658627e+29 ... 16.098534934480785 13.519559951536996\n",
       "    3.5  7.066948543541182e+28 ...  16.74758227190252 14.157270366642633\n",
       "    3.5  6.675778662905161e+28 ...  16.86908290671453 14.288793282853488\n",
       "    3.7  9.471132864698137e+28 ... 16.485057027553268 13.903171919074625\n",
       "    3.7    7.7767999817809e+25 ...  27.60442521780973  25.27535409392094\n",
       "    2.3 1.2659656708883763e+29 ...  16.44027534605378  13.89690789238786\n",
       "    3.5  7.066948543541182e+28 ...  16.74758227190252 14.157270366642633\n",
       "    2.7 1.7121110455909687e+29 ...  16.05078012643476 13.498747711714119"
      ]
     },
     "execution_count": 27,
     "metadata": {},
     "output_type": "execute_result"
    }
   ],
   "source": [
    "iso1.primaries[np.where((iso1.primaries['m_ubv_V']-10< 25.0) & (iso1.primaries['phase']== 5))]"
   ]
  },
  {
   "cell_type": "code",
   "execution_count": 28,
   "metadata": {},
   "outputs": [
    {
     "data": {
      "text/plain": [
       "6.3099520220403384"
      ]
     },
     "execution_count": 28,
     "metadata": {},
     "output_type": "execute_result"
    }
   ],
   "source": [
    "np.min(([x-10 for x in iso1.secondaries[\"m_ubv_V\"] if np.isfinite(x)]))"
   ]
  },
  {
   "cell_type": "markdown",
   "metadata": {},
   "source": [
    "Plotting the HR Diagram of the Isochrones"
   ]
  },
  {
   "cell_type": "code",
   "execution_count": 29,
   "metadata": {},
   "outputs": [
    {
     "data": {
      "text/plain": [
       "<matplotlib.legend.Legend at 0x7f81022dc5f8>"
      ]
     },
     "execution_count": 29,
     "metadata": {},
     "output_type": "execute_result"
    },
    {
     "data": {
      "image/png": "[encoded data removed]",
      "text/plain": [
       "<Figure size 432x288 with 1 Axes>"
      ]
     },
     "metadata": {
      "needs_background": "light"
     },
     "output_type": "display_data"
    }
   ],
   "source": [
    "import matplotlib.pyplot as plt\n",
    "plt.plot(np.log10(iso1.primaries['Teff']), np.log10(iso1.primaries[\"L\"]), \"r.\")\n",
    "plt.plot(np.log10(iso1.secondaries['Teff']), np.log10(iso1.secondaries[\"L\"]), \"r.\")\n",
    "plt.plot(np.log10(iso1.singles['Teff']), np.log10(iso1.singles[\"L\"]), \"r.\", label=\"BPASS isochrone\")\n",
    "plt.plot(np.log10(iso2.points['Teff']), np.log10(iso2.points[\"L\"]), \"b+\", label=\"MISTv1\", alpha=0.25)\n",
    "plt.xlabel(\"log10(T in kelvin)\")\n",
    "plt.ylabel(\"log10(L in watts)\")\n",
    "plt.title(\"HR Diagram of Isochrones at solar metallicity and 10**8.2 years age\")\n",
    "plt.gca().invert_xaxis()\n",
    "plt.legend()\n",
    "# Rough pattern seems to fit. What's that line?"
   ]
  },
  {
   "cell_type": "markdown",
   "metadata": {},
   "source": [
    "Plot the mass-luminosity relationship of the clusters (primary stars)"
   ]
  },
  {
   "cell_type": "code",
   "execution_count": 30,
   "metadata": {},
   "outputs": [
    {
     "data": {
      "text/plain": [
       "<matplotlib.legend.Legend at 0x7f81021f2ba8>"
      ]
     },
     "execution_count": 30,
     "metadata": {},
     "output_type": "execute_result"
    },
    {
     "data": {
      "image/png": "[encoded data removed]",
      "text/plain": [
       "<Figure size 432x288 with 1 Axes>"
      ]
     },
     "metadata": {
      "needs_background": "light"
     },
     "output_type": "display_data"
    }
   ],
   "source": [
    "from astropy import constants as cs\n",
    "from astropy import units as u\n",
    "import matplotlib.pyplot as plt\n",
    "plt.plot(np.log10(clus_1.star_systems['mass_current']), np.log10(clus_1.star_systems[\"L\"]/cs.L_sun), \"r.\", label=\"Binary_Cluster made from BPASS \", alpha =1)\n",
    "plt.plot(np.log10(clus_2.star_systems['mass_current']), np.log10(clus_2.star_systems[\"L\"]/(cs.L_sun*1/u.W)), \"b+\", label=\"Cluster made from MISTv.1\", alpha=0.1)\n",
    "plt.xlabel(\"log10(Current Mass in solar masses)\")\n",
    "plt.ylabel(\"log10(L/L_solar)\")\n",
    "plt.title(\"log-Mass-logL of Cluster at solar metallicity and 10**8.2 years age (primaries and singles)\")\n",
    "plt.legend()\n",
    "# Rough pattern seems to fit. What's that line?"
   ]
  },
  {
   "cell_type": "markdown",
   "metadata": {},
   "source": [
    "Plot the mass-luminosity relationship of the isochrone"
   ]
  },
  {
   "cell_type": "code",
   "execution_count": 31,
   "metadata": {},
   "outputs": [
    {
     "data": {
      "text/plain": [
       "<matplotlib.legend.Legend at 0x7f81024a3828>"
      ]
     },
     "execution_count": 31,
     "metadata": {},
     "output_type": "execute_result"
    },
    {
     "data": {
      "image/png": "[encoded data removed]",
      "text/plain": [
       "<Figure size 432x288 with 1 Axes>"
      ]
     },
     "metadata": {
      "needs_background": "light"
     },
     "output_type": "display_data"
    }
   ],
   "source": [
    "# Plot the mass-luminosity relationship\n",
    "from astropy import constants as cs\n",
    "import matplotlib.pyplot as plt\n",
    "plt.plot(np.log10(iso1.primaries['mass_current']), np.log10(iso1.primaries[\"L\"]/cs.L_sun), \"r.\")\n",
    "plt.plot(np.log10(iso1.secondaries['mass_current']), np.log10(iso1.secondaries[\"L\"]/cs.L_sun), \"r.\")\n",
    "plt.plot(np.log10(iso1.singles['mass_current']), np.log10(iso1.singles[\"L\"]/cs.L_sun), \"r.\", label=\"BPASS isochrone\")\n",
    "plt.plot(np.log10(iso2.points['mass_current']), np.log10(iso2.points[\"L\"]/cs.L_sun), \"b+\", label=\"MISTv1\", alpha=0.25)\n",
    "plt.xlabel(\"log10(Current Mass in solar masses)\")\n",
    "plt.ylabel(\"log10(L/L_solar)\")\n",
    "plt.title(\"log Mass-logL of Isochrones at solar metallicity and 10**8.2 years age\")\n",
    "plt.legend()\n",
    "# Rough pattern seems to fit. What's that line?"
   ]
  },
  {
   "cell_type": "markdown",
   "metadata": {},
   "source": [
    "Examining the phases of primary stars that have luminosities of less than L_sun * 1/sqrt(2)"
   ]
  },
  {
   "cell_type": "code",
   "execution_count": 32,
   "metadata": {},
   "outputs": [
    {
     "data": {
      "text/html": [
       "&lt;Column name=&apos;phase&apos; dtype=&apos;float64&apos; length=2&gt;\n",
       "<table>\n",
       "<tr><td>5.0</td></tr>\n",
       "<tr><td>101.0</td></tr>\n",
       "</table>"
      ],
      "text/plain": [
       "<Column name='phase' dtype='float64' length=2>\n",
       "  5.0\n",
       "101.0"
      ]
     },
     "execution_count": 32,
     "metadata": {},
     "output_type": "execute_result"
    }
   ],
   "source": [
    "np.unique(clus_1.star_systems[np.where(np.log10(clus_1.star_systems['L']/cs.L_sun)<-0.5)]['phase'])"
   ]
  },
  {
   "cell_type": "markdown",
   "metadata": {},
   "source": [
    "Sanity check: check that there are no phase 0 star systems"
   ]
  },
  {
   "cell_type": "code",
   "execution_count": 33,
   "metadata": {},
   "outputs": [
    {
     "data": {
      "text/html": [
       "<i>Table length=0</i>\n",
       "<table id=\"table140193550224408\" class=\"table-striped table-bordered table-condensed\">\n",
       "<thead><tr><th>mass</th><th>systemMass</th><th>Teff</th><th>L</th><th>logg</th><th>isWR</th><th>mass_current</th><th>phase</th><th>metallicity</th><th>isMultiple</th><th>merged</th><th>m_ubv_U</th><th>m_ubv_V</th><th>m_ubv_B</th><th>m_ubv_R</th><th>m_ubv_I</th></tr></thead>\n",
       "<thead><tr><th>solMass</th><th></th><th>K</th><th>W</th><th></th><th></th><th>solMass</th><th></th><th></th><th></th><th></th><th></th><th></th><th></th><th></th><th></th></tr></thead>\n",
       "<thead><tr><th>float64</th><th>float64</th><th>float64</th><th>float64</th><th>float64</th><th>bool</th><th>float64</th><th>float64</th><th>float64</th><th>bool</th><th>bool</th><th>float64</th><th>float64</th><th>float64</th><th>float64</th><th>float64</th></tr></thead>\n",
       "</table>"
      ],
      "text/plain": [
       "<Table length=0>\n",
       "  mass  systemMass   Teff     L      logg  ... m_ubv_V m_ubv_B m_ubv_R m_ubv_I\n",
       "solMass               K       W            ...                                \n",
       "float64  float64   float64 float64 float64 ... float64 float64 float64 float64\n",
       "------- ---------- ------- ------- ------- ... ------- ------- ------- -------"
      ]
     },
     "execution_count": 33,
     "metadata": {},
     "output_type": "execute_result"
    }
   ],
   "source": [
    "clus_1.star_systems[np.where(clus_1.star_systems['phase']==0)]"
   ]
  },
  {
   "cell_type": "markdown",
   "metadata": {},
   "source": [
    "Taking a look at the Binary Cluster vs Default Settings cluster Observer's HR Diagram\n",
    "Remember to use a distance modulus!"
   ]
  },
  {
   "cell_type": "code",
   "execution_count": 34,
   "metadata": {},
   "outputs": [
    {
     "data": {
      "text/plain": [
       "<matplotlib.legend.Legend at 0x7f815ac54d68>"
      ]
     },
     "execution_count": 34,
     "metadata": {},
     "output_type": "execute_result"
    },
    {
     "data": {
      "image/png": "[encoded data removed]",
      "text/plain": [
       "<Figure size 432x288 with 1 Axes>"
      ]
     },
     "metadata": {
      "needs_background": "light"
     },
     "output_type": "display_data"
    }
   ],
   "source": [
    "# Taking a look at the Binary Cluster vs Default Settings cluster Observer's HR Diagram\n",
    "# Remember to use a distance modulus!\n",
    "import matplotlib.pyplot as plt\n",
    "plt.plot(clus_1.star_systems['m_ubv_B']-clus_1.star_systems[\"m_ubv_V\"], clus_1.star_systems[\"m_ubv_V\"]-5*np.log10(200), \"r.\",label=\"BPASS\")\n",
    "plt.plot(clus_2.star_systems['m_ubv_B']-clus_2.star_systems[\"m_ubv_V\"], clus_2.star_systems[\"m_ubv_V\"]-5*np.log10(200), \"b+\", label=\"MISTv1\", alpha=0.2)\n",
    "plt.xlabel(\"B-V\")\n",
    "plt.ylabel(\"pseudo M_V\")\n",
    "plt.title(\"Color magnitude Diagram of clusters at solar metallicity and 10**8.2 years age\")\n",
    "plt.gca().invert_yaxis()\n",
    "plt.legend()"
   ]
  },
  {
   "cell_type": "markdown",
   "metadata": {},
   "source": [
    "One thing to note about the Binary_Cluster is that it does include the units as information for columns.\n",
    "The usual ResolvedCluster does not. Thus the latter has a disadvantage when we do comparisons with solar luminosity.\n",
    "\n",
    "In any case let's compare the actual masses of the cluster"
   ]
  },
  {
   "cell_type": "code",
   "execution_count": 35,
   "metadata": {},
   "outputs": [
    {
     "data": {
      "text/plain": [
       "1660.8335315346285"
      ]
     },
     "execution_count": 35,
     "metadata": {},
     "output_type": "execute_result"
    }
   ],
   "source": [
    "np.sum(clus_1.star_systems['systemMass'])"
   ]
  },
  {
   "cell_type": "code",
   "execution_count": 36,
   "metadata": {},
   "outputs": [
    {
     "data": {
      "text/plain": [
       "2003.28037322088"
      ]
     },
     "execution_count": 36,
     "metadata": {},
     "output_type": "execute_result"
    }
   ],
   "source": [
    "np.sum(clus_2.star_systems['systemMass'])"
   ]
  }
 ],
 "metadata": {
  "kernelspec": {
   "display_name": "astroconda",
   "language": "python",
   "name": "astroconda"
  },
  "language_info": {
   "codemirror_mode": {
    "name": "ipython",
    "version": 3
   },
   "file_extension": ".py",
   "mimetype": "text/x-python",
   "name": "python",
   "nbconvert_exporter": "python",
   "pygments_lexer": "ipython3",
   "version": "3.7.3"
  }
 },
 "nbformat": 4,
 "nbformat_minor": 2
}
