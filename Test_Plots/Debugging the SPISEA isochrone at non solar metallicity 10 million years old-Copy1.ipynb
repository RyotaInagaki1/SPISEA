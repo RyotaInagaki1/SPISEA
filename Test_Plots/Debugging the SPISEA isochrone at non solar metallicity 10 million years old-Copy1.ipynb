{
 "cells": [
  {
   "cell_type": "markdown",
   "metadata": {},
   "source": [
    "## Testing and Debugging the BPASS isochrone at 10^7.0 years age. (Nonsolar metallicity)\n",
    "\n",
    "In this BPASS isochrone and cluster plot, I go over the BPASS isochrone for 1 billion years age, 0.1 times solar metallicity, AKs=0.0, and distance of 1000 parsecs from Earth. From the isochrone and cluster, we discuss several plots such as the log_g frequency distribution of the isochrone, the color magnitude diagram (B-V vs M_V), and the current-mass luminosity relationship of the cluster."
   ]
  },
  {
   "cell_type": "markdown",
   "metadata": {},
   "source": [
    "For a sanity check, we can see that the primaries, secondaries, and single stars have phasees of 5 or of 101 or of 110. This is since we haven't added or designated neutron stars or black holes yet. Stars with phase of -99 exist, and those are the secondary stars that have already merged."
   ]
  },
  {
   "cell_type": "markdown",
   "metadata": {},
   "source": [
    "**Unlike most of the tutorials, I will be using the Kennicutt IMF and a non-solar metallicity.**"
   ]
  },
  {
   "cell_type": "code",
   "execution_count": 1,
   "metadata": {},
   "outputs": [
    {
     "name": "stderr",
     "output_type": "stream",
     "text": [
      "/opt/anaconda3/envs/astroconda/lib/python3.7/site-packages/pysynphot/locations.py:346: UserWarning: Extinction files not found in /g/lu/models/cdbs/extinction\n",
      "  warnings.warn('Extinction files not found in %s' % (extdir, ))\n",
      "/opt/anaconda3/envs/astroconda/lib/python3.7/site-packages/pysynphot/refs.py:125: UserWarning: No thermal tables found, no thermal calculations can be performed. No files found for /g/lu/models/cdbs/mtab/*_tmt.fits\n",
      "  'no thermal calculations can be performed. ' + str(e))\n",
      "/opt/anaconda3/envs/astroconda/lib/python3.7/site-packages/astropy/units/quantity.py:477: RuntimeWarning: invalid value encountered in true_divide\n",
      "  result = super().__array_ufunc__(function, method, *arrays, **kwargs)\n",
      "/u/ryotainagaki/Desktop/PyPopStar/spisea/evolution.py:1771: RuntimeWarning: overflow encountered in power\n",
      "  (1 / cs.au) * un.m)\n",
      "/opt/anaconda3/envs/astroconda/lib/python3.7/site-packages/astropy/table/column.py:1020: RuntimeWarning: invalid value encountered in greater\n",
      "  result = getattr(super(), op)(other)\n",
      "/opt/anaconda3/envs/astroconda/lib/python3.7/site-packages/astropy/table/column.py:1020: RuntimeWarning: invalid value encountered in less_equal\n",
      "  result = getattr(super(), op)(other)\n",
      "/opt/anaconda3/envs/astroconda/lib/python3.7/site-packages/astropy/units/quantity.py:477: RuntimeWarning: divide by zero encountered in true_divide\n",
      "  result = super().__array_ufunc__(function, method, *arrays, **kwargs)\n"
     ]
    },
    {
     "name": "stdout",
     "output_type": "stream",
     "text": [
      "Changing to T= 50000 for T=181176 logg=5.89\n",
      "Changing to logg=5.00 for T=181176 logg=5.89\n",
      "Changing to T= 50000 for T= 53429 logg=4.31\n",
      "Changing to logg=5.00 for T= 53429 logg=4.31\n",
      "Changing to T= 50000 for T= 58383 logg=4.33\n",
      "Changing to logg=5.00 for T= 58383 logg=4.33\n",
      "Changing to logg=2.50 for T= 11953 logg=1.83\n",
      "Changing to logg=4.00 for T= 32719 logg=3.04\n",
      "Changing to logg=0.50 for T=  6551 logg=0.46\n",
      "Changing to logg=4.00 for T= 37562 logg=3.98\n",
      "Changing to logg=2.50 for T= 14174 logg=1.52\n",
      "Changing to logg=4.50 for T= 44376 logg=3.83\n",
      "Changing to logg=4.50 for T= 40154 logg=4.02\n",
      "Changing to logg=4.00 for T= 34623 logg=3.33\n",
      "Changing to logg=2.50 for T= 15920 logg=1.66\n",
      "Changing to logg=2.50 for T= 15120 logg=1.64\n",
      "Changing to T= 50000 for T= 73220 logg=4.77\n",
      "Changing to logg=5.00 for T= 73220 logg=4.77\n",
      "Changing to logg=2.50 for T= 18634 logg=2.02\n",
      "Changing to logg=2.50 for T= 17089 logg=1.84\n",
      "Changing to logg=4.50 for T= 44609 logg=3.55\n",
      "Changing to logg=4.00 for T= 32910 logg=3.21\n",
      "Changing to logg=4.50 for T= 40326 logg=4.02\n",
      "Changing to logg=3.00 for T= 23026 logg=2.42\n",
      "Changing to logg=4.00 for T= 31262 logg=3.34\n",
      "Changing to logg=4.50 for T= 39839 logg=3.95\n",
      "Changing to logg=3.50 for T= 30994 logg=2.93\n",
      "Changing to logg=2.00 for T= 11466 logg=1.18\n",
      "Changing to logg=4.00 for T= 34029 logg=3.99\n",
      "Changing to logg=2.50 for T= 11953 logg=1.83\n",
      "Changing to T= 50000 for T= 52353 logg=4.07\n",
      "Changing to logg=5.00 for T= 52353 logg=4.07\n",
      "Changing to logg=4.50 for T= 39663 logg=3.36\n",
      "Changing to logg=4.00 for T= 32770 logg=3.30\n",
      "Changing to logg=2.50 for T= 18218 logg=1.98\n",
      "Changing to logg=4.00 for T= 36211 logg=3.20\n",
      "Changing to logg=3.00 for T= 20516 logg=2.16\n",
      "Changing to logg=2.00 for T= 11226 logg=1.14\n",
      "Changing to logg=3.50 for T= 26090 logg=2.91\n",
      "Changing to logg=4.50 for T= 41157 logg=3.63\n",
      "Changing to logg=2.00 for T= 11367 logg=1.16\n",
      "Changing to T= 50000 for T=115931 logg=5.21\n",
      "Changing to logg=5.00 for T=115931 logg=5.21\n",
      "Changing to logg=2.00 for T= 10030 logg=0.91\n",
      "Changing to logg=2.50 for T= 11953 logg=1.83\n",
      "Changing to logg=2.50 for T= 11953 logg=1.83\n",
      "Changing to logg=4.00 for T= 33346 logg=3.07\n",
      "Changing to logg=3.00 for T= 20335 logg=2.15\n",
      "Changing to logg=4.50 for T= 40713 logg=3.41\n",
      "Changing to logg=3.50 for T= 29585 logg=2.86\n",
      "Changing to logg=2.50 for T= 11953 logg=1.83\n",
      "Changing to logg=2.50 for T= 11982 logg=1.23\n",
      "Changing to logg=2.50 for T= 17713 logg=1.93\n",
      "Changing to logg=2.50 for T= 11953 logg=1.83\n",
      "Changing to logg=2.00 for T=  9454 logg=0.84\n",
      "Changing to logg=4.00 for T= 31852 logg=2.96\n",
      "Changing to logg=2.50 for T= 14721 logg=1.54\n",
      "Changing to logg=3.00 for T= 22193 logg=2.31\n",
      "Changing to logg=4.00 for T= 31305 logg=2.91\n",
      "Changing to logg=3.00 for T= 21579 logg=2.87\n",
      "Changing to logg=3.50 for T= 29569 logg=3.12\n",
      "Changing to logg=2.50 for T= 18483 logg=1.98\n",
      "Changing to logg=4.50 for T= 40325 logg=3.59\n",
      "Changing to logg=2.50 for T= 11953 logg=1.83\n",
      "Changing to logg=2.00 for T= 10035 logg=0.92\n",
      "Changing to logg=2.50 for T= 12568 logg=1.34\n",
      "Changing to logg=2.50 for T= 11953 logg=1.83\n",
      "Changing to T= 50000 for T= 93530 logg=5.28\n",
      "Changing to logg=5.00 for T= 93530 logg=5.28\n",
      "Changing to logg=4.00 for T= 35348 logg=3.72\n",
      "Changing to logg=4.00 for T= 37973 logg=3.30\n",
      "Changing to logg=3.00 for T= 25879 logg=2.59\n",
      "Changing to T= 50000 for T= 62553 logg=4.41\n",
      "Changing to logg=5.00 for T= 62553 logg=4.41\n",
      "Changing to logg=2.50 for T= 17181 logg=1.89\n",
      "Changing to logg=3.00 for T= 21875 logg=2.53\n",
      "Changing to T= 50000 for T= 68914 logg=4.62\n",
      "Changing to logg=5.00 for T= 68914 logg=4.62\n",
      "Changing to logg=2.50 for T= 11953 logg=1.83\n",
      "Changing to logg=1.50 for T=  8974 logg=1.35\n",
      "Changing to logg=2.50 for T= 11921 logg=1.23\n",
      "Changing to T= 50000 for T=110685 logg=5.39\n",
      "Changing to logg=5.00 for T=110685 logg=5.39\n",
      "Changing to logg=4.50 for T= 46698 logg=3.63\n",
      "Changing to logg=2.50 for T= 17855 logg=2.19\n",
      "Changing to logg=2.50 for T= 11953 logg=1.83\n",
      "Changing to logg=2.50 for T= 11953 logg=1.83\n",
      "Changing to logg=2.50 for T= 11837 logg=1.20\n",
      "Changing to logg=2.50 for T= 14880 logg=1.60\n",
      "Changing to logg=3.50 for T= 29023 logg=2.83\n",
      "Changing to logg=2.50 for T= 11953 logg=1.83\n",
      "Changing to logg=3.50 for T= 30989 logg=2.93\n",
      "Changing to logg=3.00 for T= 23641 logg=2.44\n",
      "Changing to logg=4.00 for T= 38582 logg=3.95\n",
      "Changing to logg=4.00 for T= 32764 logg=3.03\n",
      "Changing to logg=4.00 for T= 31496 logg=2.94\n",
      "Changing to logg=2.00 for T=  9953 logg=0.92\n",
      "Changing to logg=4.50 for T= 45586 logg=3.62\n",
      "Changing to logg=2.50 for T= 11953 logg=1.83\n",
      "Changing to T= 50000 for T=108863 logg=5.37\n",
      "Changing to logg=5.00 for T=108863 logg=5.37\n",
      "Changing to logg=3.00 for T= 24540 logg=2.73\n",
      "Changing to logg=2.00 for T= 10524 logg=1.00\n",
      "Changing to logg=3.00 for T= 20326 logg=2.48\n",
      "Changing to logg=4.00 for T= 33993 logg=3.30\n",
      "Changing to logg=3.00 for T= 25115 logg=2.77\n",
      "Changing to logg=4.00 for T= 32394 logg=3.96\n",
      "Changing to logg=3.00 for T= 25568 logg=2.87\n",
      "Changing to logg=4.00 for T= 37066 logg=3.26\n",
      "Changing to T= 50000 for T=124934 logg=5.35\n",
      "Changing to logg=5.00 for T=124934 logg=5.35\n",
      "Changing to logg=2.50 for T= 13454 logg=1.43\n",
      "Changing to logg=3.00 for T= 19250 logg=2.07\n",
      "Changing to logg=2.50 for T= 11953 logg=1.83\n",
      "Changing to logg=2.50 for T= 16452 logg=1.78\n",
      "Changing to logg=3.50 for T= 29227 logg=3.14\n",
      "Changing to logg=3.50 for T= 28527 logg=3.46\n",
      "Changing to logg=4.50 for T= 47211 logg=3.94\n",
      "Changing to logg=3.00 for T= 24868 logg=2.76\n",
      "Changing to logg=3.00 for T= 23329 logg=2.40\n",
      "Changing to logg=3.00 for T= 25754 logg=2.60\n",
      "Changing to logg=2.50 for T= 12246 logg=1.30\n",
      "Changing to logg=2.50 for T= 11953 logg=1.83\n",
      "Changing to T= 50000 for T=105619 logg=5.06\n",
      "Changing to logg=5.00 for T=105619 logg=5.06\n",
      "Changing to logg=4.00 for T= 31430 logg=2.97\n",
      "Changing to logg=3.50 for T= 29164 logg=2.80\n",
      "Changing to logg=2.50 for T= 11953 logg=1.83\n",
      "Changing to logg=2.50 for T= 17527 logg=1.90\n",
      "Changing to logg=2.50 for T= 11953 logg=1.83\n",
      "Changing to T= 50000 for T= 52552 logg=4.08\n",
      "Changing to logg=5.00 for T= 52552 logg=4.08\n",
      "Changing to logg=2.50 for T= 16124 logg=1.75\n",
      "Changing to T= 50000 for T= 59465 logg=4.31\n",
      "Changing to logg=5.00 for T= 59465 logg=4.31\n",
      "Changing to logg=2.50 for T= 18199 logg=1.95\n",
      "Changing to logg=2.50 for T= 11953 logg=1.83\n",
      "Changing to logg=1.00 for T=  8146 logg=0.84\n",
      "Changing to logg=3.50 for T= 26892 logg=2.88\n",
      "Changing to T= 50000 for T=127803 logg=5.38\n",
      "Changing to logg=5.00 for T=127803 logg=5.38\n",
      "Changing to T= 50000 for T= 69499 logg=4.63\n",
      "Changing to logg=5.00 for T= 69499 logg=4.63\n",
      "Changing to logg=2.50 for T= 17342 logg=2.14\n",
      "Changing to logg=2.50 for T= 11953 logg=1.83\n",
      "Changing to logg=2.50 for T= 11953 logg=1.83\n",
      "Changing to T= 50000 for T=103498 logg=5.02\n",
      "Changing to logg=5.00 for T=103498 logg=5.02\n",
      "Changing to logg=3.00 for T= 25814 logg=2.61\n",
      "Changing to logg=3.50 for T= 29669 logg=3.06\n",
      "Changing to logg=2.50 for T= 11953 logg=1.83\n",
      "Changing to logg=2.50 for T= 11953 logg=1.83\n",
      "Changing to logg=2.50 for T= 11953 logg=1.83\n",
      "Changing to logg=3.00 for T= 22951 logg=2.61\n",
      "Changing to logg=4.00 for T= 31860 logg=2.94\n",
      "Changing to logg=3.00 for T= 19341 logg=2.10\n",
      "Changing to logg=3.50 for T= 27580 logg=2.74\n",
      "Changing to logg=3.50 for T= 26146 logg=3.43\n",
      "Changing to logg=2.50 for T= 11953 logg=1.83\n",
      "Changing to logg=3.50 for T= 28474 logg=3.41\n",
      "Changing to logg=3.00 for T= 25219 logg=2.58\n",
      "Changing to logg=3.50 for T= 28205 logg=2.96\n",
      "Changing to logg=2.50 for T= 11953 logg=1.83\n",
      "Changing to logg=5.00 for T= 49831 logg=3.98\n",
      "Changing to logg=4.00 for T= 33912 logg=3.36\n",
      "Changing to T= 50000 for T= 91441 logg=5.19\n",
      "Changing to logg=5.00 for T= 91441 logg=5.19\n",
      "Changing to logg=3.00 for T= 19495 logg=2.07\n",
      "Changing to logg=3.50 for T= 26826 logg=2.95\n",
      "Changing to logg=3.00 for T= 20172 logg=2.15\n",
      "Changing to logg=4.00 for T= 31982 logg=3.74\n",
      "Changing to logg=4.00 for T= 35200 logg=3.17\n",
      "Changing to logg=2.50 for T= 18221 logg=2.30\n",
      "Changing to logg=2.50 for T= 18747 logg=2.35\n",
      "Changing to logg=4.00 for T= 36115 logg=3.99\n",
      "Changing to logg=2.50 for T= 14949 logg=1.88\n",
      "Changing to logg=3.00 for T= 21618 logg=2.26\n",
      "Changing to logg=2.00 for T=  9772 logg=0.87\n",
      "Changing to T= 50000 for T= 92255 logg=5.23\n",
      "Changing to logg=5.00 for T= 92255 logg=5.23\n",
      "Changing to logg=2.00 for T= 11591 logg=1.18\n",
      "Changing to logg=2.50 for T= 11953 logg=1.83\n",
      "Changing to logg=4.50 for T= 41570 logg=3.99\n",
      "Changing to logg=2.00 for T= 11558 logg=1.16\n"
     ]
    },
    {
     "name": "stdout",
     "output_type": "stream",
     "text": [
      "Changing to logg=2.50 for T= 11953 logg=1.83\n",
      "Changing to logg=4.00 for T= 31753 logg=3.87\n",
      "Changing to logg=2.50 for T= 16536 logg=1.78\n",
      "Changing to logg=2.50 for T= 15268 logg=1.66\n",
      "Changing to logg=2.50 for T= 16928 logg=1.85\n",
      "Changing to logg=2.00 for T=  9562 logg=0.86\n",
      "Changing to logg=4.00 for T= 32605 logg=3.00\n",
      "Changing to T= 50000 for T=117666 logg=5.25\n",
      "Changing to logg=5.00 for T=117666 logg=5.25\n",
      "Changing to logg=2.50 for T= 15447 logg=1.67\n",
      "Changing to logg=4.50 for T= 47203 logg=3.65\n",
      "Changing to logg=2.00 for T=  9079 logg=0.83\n",
      "Changing to logg=2.50 for T= 11953 logg=1.83\n",
      "Changing to logg=4.50 for T= 43153 logg=3.49\n",
      "Changing to logg=2.50 for T= 15344 logg=2.01\n",
      "Changing to logg=2.00 for T= 10044 logg=0.93\n",
      "Changing to logg=4.50 for T= 42111 logg=3.67\n",
      "Changing to logg=4.00 for T= 38122 logg=3.28\n",
      "Changing to logg=2.50 for T= 11953 logg=1.83\n",
      "Changing to logg=4.00 for T= 34642 logg=3.39\n",
      "Changing to T= 50000 for T= 73590 logg=4.78\n",
      "Changing to logg=5.00 for T= 73590 logg=4.78\n",
      "Changing to logg=3.50 for T= 26511 logg=2.65\n",
      "Changing to logg=3.00 for T= 20819 logg=2.85\n",
      "Changing to logg=2.50 for T= 15507 logg=1.71\n",
      "Changing to logg=3.00 for T= 23627 logg=2.47\n",
      "Changing to logg=2.50 for T= 11953 logg=1.83\n",
      "Changing to logg=2.50 for T= 18912 logg=2.28\n",
      "Changing to T= 50000 for T= 91287 logg=5.21\n",
      "Changing to logg=5.00 for T= 91287 logg=5.21\n",
      "Changing to logg=3.00 for T= 20714 logg=2.51\n",
      "Changing to logg=2.50 for T= 11892 logg=1.82\n",
      "Changing to logg=4.50 for T= 44236 logg=3.48\n",
      "Changing to T= 50000 for T= 77582 logg=4.87\n",
      "Changing to logg=5.00 for T= 77582 logg=4.87\n",
      "Changing to logg=2.00 for T= 10556 logg=1.00\n",
      "Changing to logg=3.00 for T= 25744 logg=2.62\n",
      "Changing to logg=2.50 for T= 14360 logg=1.56\n",
      "Changing to logg=3.50 for T= 26760 logg=3.30\n",
      "Changing to logg=4.00 for T= 31625 logg=3.48\n",
      "Changing to logg=2.50 for T= 11953 logg=1.83\n",
      "Changing to logg=2.50 for T= 16790 logg=2.08\n",
      "Changing to T= 50000 for T= 74437 logg=4.79\n",
      "Changing to logg=5.00 for T= 74437 logg=4.79\n",
      "Changing to logg=2.50 for T= 12008 logg=1.84\n",
      "Changing to T= 50000 for T= 56351 logg=4.20\n",
      "Changing to logg=5.00 for T= 56351 logg=4.20\n",
      "Changing to logg=2.50 for T= 14357 logg=2.20\n",
      "Changing to logg=4.00 for T= 31111 logg=3.98\n",
      "Changing to logg=4.50 for T= 42029 logg=3.73\n",
      "Changing to logg=2.00 for T= 11130 logg=1.10\n",
      "Changing to logg=2.00 for T= 11192 logg=1.14\n",
      "Changing to logg=3.00 for T= 24633 logg=2.81\n",
      "Changing to logg=2.50 for T= 11953 logg=1.83\n",
      "Changing to logg=2.50 for T= 16504 logg=1.82\n",
      "Changing to logg=2.00 for T= 10456 logg=0.99\n",
      "Changing to T= 50000 for T= 55978 logg=4.20\n",
      "Changing to logg=5.00 for T= 55978 logg=4.20\n",
      "Changing to logg=0.50 for T=  7388 logg=0.40\n",
      "Changing to logg=2.50 for T= 17697 logg=1.94\n",
      "Changing to logg=2.50 for T= 13964 logg=1.51\n",
      "Changing to T= 50000 for T= 63192 logg=4.44\n",
      "Changing to logg=5.00 for T= 63192 logg=4.44\n",
      "Changing to logg=2.50 for T= 11953 logg=1.83\n",
      "Changing to T= 50000 for T= 60853 logg=4.36\n",
      "Changing to logg=5.00 for T= 60853 logg=4.36\n",
      "Changing to logg=2.50 for T= 11787 logg=1.21\n",
      "Changing to logg=2.50 for T= 12952 logg=1.38\n",
      "Changing to T= 50000 for T= 75074 logg=4.80\n",
      "Changing to logg=5.00 for T= 75074 logg=4.80\n",
      "Changing to T= 50000 for T= 84122 logg=4.59\n",
      "Changing to logg=5.00 for T= 84122 logg=4.59\n",
      "Changing to logg=2.50 for T= 11953 logg=1.83\n",
      "Changing to logg=2.50 for T= 11953 logg=1.83\n",
      "Changing to logg=3.00 for T= 21639 logg=2.59\n",
      "Changing to logg=3.50 for T= 27883 logg=2.95\n",
      "Changing to logg=4.00 for T= 36115 logg=3.40\n",
      "Changing to logg=2.50 for T= 14983 logg=1.88\n",
      "Changing to logg=3.50 for T= 28199 logg=2.97\n",
      "Changing to logg=4.00 for T= 32021 logg=3.01\n",
      "Changing to T= 50000 for T= 73891 logg=4.77\n",
      "Changing to logg=5.00 for T= 73891 logg=4.77\n",
      "Changing to logg=3.00 for T= 25766 logg=2.81\n",
      "Changing to logg=4.00 for T= 32138 logg=3.62\n",
      "Changing to logg=2.00 for T=  9831 logg=0.95\n",
      "Changing to logg=2.50 for T= 11953 logg=1.83\n",
      "Changing to logg=4.00 for T= 33778 logg=3.90\n",
      "Changing to logg=2.50 for T= 12126 logg=1.26\n",
      "Changing to T= 50000 for T= 69306 logg=4.64\n",
      "Changing to logg=5.00 for T= 69306 logg=4.64\n",
      "Changing to logg=4.00 for T= 32681 logg=3.01\n",
      "Changing to logg=4.00 for T= 31288 logg=3.32\n",
      "Changing to logg=0.50 for T=  6490 logg=0.44\n",
      "Changing to logg=4.00 for T= 33652 logg=3.06\n",
      "Changing to logg=2.50 for T= 15185 logg=1.68\n",
      "Changing to T= 50000 for T= 64838 logg=4.49\n",
      "Changing to logg=5.00 for T= 64838 logg=4.49\n",
      "Changing to logg=2.50 for T= 13299 logg=1.44\n",
      "Changing to logg=2.50 for T= 13396 logg=1.45\n",
      "Changing to logg=3.50 for T= 28103 logg=2.96\n",
      "Changing to logg=2.50 for T= 11953 logg=1.83\n",
      "Changing to logg=2.00 for T= 10082 logg=0.94\n",
      "Changing to logg=3.00 for T= 20509 logg=2.63\n",
      "Changing to logg=3.50 for T= 28787 logg=2.99\n",
      "Changing to logg=1.50 for T=  8425 logg=1.22\n",
      "Changing to logg=2.00 for T= 11423 logg=1.17\n",
      "Changing to T= 50000 for T= 70870 logg=4.69\n",
      "Changing to logg=5.00 for T= 70870 logg=4.69\n",
      "Changing to logg=3.50 for T= 26101 logg=2.62\n",
      "Changing to logg=4.50 for T= 39576 logg=3.97\n",
      "Changing to logg=4.00 for T= 31444 logg=3.23\n",
      "Changing to logg=4.50 for T= 39152 logg=3.32\n",
      "Changing to logg=3.50 for T= 28755 logg=3.07\n",
      "Changing to T= 50000 for T= 62596 logg=4.42\n",
      "Changing to logg=5.00 for T= 62596 logg=4.42\n",
      "Changing to T= 50000 for T=111828 logg=5.43\n",
      "Changing to logg=5.00 for T=111828 logg=5.43\n",
      "Changing to logg=2.50 for T= 12749 logg=1.60\n",
      "Changing to logg=2.50 for T= 14971 logg=1.65\n",
      "Changing to logg=2.50 for T= 16346 logg=1.77\n",
      "Changing to logg=4.00 for T= 36247 logg=3.91\n",
      "Changing to logg=2.00 for T=  9529 logg=0.84\n",
      "Changing to logg=4.50 for T= 45926 logg=3.89\n",
      "Changing to logg=2.50 for T= 11953 logg=1.83\n",
      "Changing to logg=4.00 for T= 35749 logg=3.85\n",
      "Changing to logg=2.50 for T= 15171 logg=1.65\n",
      "Changing to logg=3.50 for T= 29863 logg=2.84\n",
      "Changing to logg=2.00 for T=  9486 logg=0.85\n",
      "Changing to logg=2.50 for T= 11953 logg=1.83\n",
      "Changing to logg=2.50 for T= 16578 logg=1.80\n",
      "Changing to logg=2.00 for T=  9630 logg=0.86\n",
      "Changing to logg=2.50 for T= 11953 logg=1.83\n",
      "Changing to logg=2.50 for T= 11953 logg=1.83\n",
      "Changing to logg=2.50 for T= 12039 logg=1.25\n",
      "Changing to logg=4.00 for T= 34831 logg=3.59\n",
      "Changing to logg=3.00 for T= 22331 logg=2.57\n",
      "Changing to logg=3.50 for T= 28030 logg=2.73\n",
      "Changing to logg=3.50 for T= 30042 logg=3.15\n",
      "Changing to logg=2.50 for T= 11953 logg=1.83\n",
      "Changing to logg=2.50 for T= 11953 logg=1.83\n",
      "Changing to logg=4.00 for T= 31946 logg=2.97\n",
      "Changing to logg=3.00 for T= 23483 logg=2.40\n",
      "Changing to logg=2.00 for T= 10562 logg=1.00\n",
      "Changing to logg=4.00 for T= 35845 logg=3.39\n",
      "Changing to logg=3.00 for T= 21103 logg=2.55\n",
      "Changing to T= 50000 for T= 53696 logg=4.19\n",
      "Changing to logg=5.00 for T= 53696 logg=4.19\n",
      "Changing to logg=3.50 for T= 29097 logg=3.02\n",
      "Changing to logg=4.50 for T= 41093 logg=3.42\n",
      "Changing to logg=4.00 for T= 34304 logg=3.84\n",
      "Changing to logg=4.00 for T= 37726 logg=3.29\n",
      "Changing to logg=3.50 for T= 28668 logg=2.79\n",
      "Changing to logg=2.50 for T= 18993 logg=2.03\n",
      "Changing to logg=2.50 for T= 18110 logg=1.96\n",
      "Changing to logg=3.50 for T= 27016 logg=2.69\n",
      "Changing to logg=2.50 for T= 11953 logg=1.83\n",
      "Changing to logg=2.50 for T= 15819 logg=2.21\n",
      "Changing to T= 50000 for T= 89824 logg=5.14\n",
      "Changing to logg=5.00 for T= 89824 logg=5.14\n",
      "Changing to logg=3.00 for T= 22562 logg=2.36\n",
      "Changing to logg=4.00 for T= 36735 logg=3.43\n",
      "Changing to T= 50000 for T= 63558 logg=4.45\n",
      "Changing to logg=5.00 for T= 63558 logg=4.45\n",
      "Changing to logg=2.00 for T=  9248 logg=0.79\n",
      "Changing to logg=4.00 for T= 34611 logg=3.12\n",
      "Changing to logg=2.50 for T= 14304 logg=1.57\n",
      "Changing to logg=2.50 for T= 14001 logg=1.50\n",
      "Changing to logg=4.50 for T= 44039 logg=3.75\n",
      "Changing to logg=2.50 for T= 11953 logg=1.83\n",
      "Changing to logg=2.50 for T= 11953 logg=1.83\n",
      "Changing to logg=2.50 for T= 12202 logg=1.29\n",
      "Changing to logg=2.50 for T= 15543 logg=1.94\n",
      "Changing to logg=2.50 for T= 11953 logg=1.83\n",
      "Changing to logg=2.50 for T= 11953 logg=1.83\n",
      "Changing to logg=2.50 for T= 11953 logg=1.83\n",
      "Changing to logg=4.00 for T= 33813 logg=3.59\n",
      "Changing to T= 50000 for T=124474 logg=5.34\n",
      "Changing to logg=5.00 for T=124474 logg=5.34\n",
      "Changing to logg=4.50 for T= 39406 logg=4.07\n",
      "Changing to logg=2.50 for T= 12251 logg=1.30\n",
      "Changing to T= 50000 for T=127476 logg=5.37\n",
      "Changing to logg=5.00 for T=127476 logg=5.37\n",
      "Changing to logg=4.50 for T= 40163 logg=3.39\n"
     ]
    },
    {
     "name": "stdout",
     "output_type": "stream",
     "text": [
      "Changing to logg=4.00 for T= 37221 logg=3.23\n",
      "Changing to logg=2.50 for T= 14006 logg=1.53\n",
      "Changing to logg=2.50 for T= 12773 logg=1.33\n",
      "Changing to logg=4.00 for T= 33759 logg=3.43\n",
      "Changing to logg=2.50 for T= 11953 logg=1.83\n",
      "Changing to logg=3.50 for T= 26208 logg=2.84\n",
      "Changing to logg=2.50 for T= 11953 logg=1.83\n",
      "Changing to logg=3.50 for T= 27432 logg=2.93\n",
      "Changing to logg=2.50 for T= 11953 logg=1.83\n",
      "Changing to logg=4.00 for T= 34383 logg=3.53\n",
      "Changing to logg=3.50 for T= 29992 logg=2.87\n",
      "Changing to logg=4.00 for T= 32815 logg=3.05\n",
      "Changing to logg=4.00 for T= 37732 logg=3.69\n",
      "Changing to logg=5.00 for T= 49077 logg=4.01\n",
      "Changing to logg=3.50 for T= 27083 logg=2.67\n",
      "Changing to logg=4.00 for T= 35090 logg=3.35\n",
      "Changing to logg=4.00 for T= 34051 logg=3.89\n",
      "Changing to logg=3.00 for T= 20501 logg=2.17\n",
      "Changing to logg=4.00 for T= 31640 logg=3.88\n",
      "Changing to logg=4.50 for T= 39732 logg=4.04\n",
      "Changing to logg=3.50 for T= 28685 logg=2.77\n",
      "Changing to logg=2.50 for T= 11953 logg=1.83\n",
      "Changing to logg=4.00 for T= 31584 logg=2.95\n",
      "Changing to logg=2.50 for T= 11953 logg=1.83\n",
      "Changing to logg=2.00 for T= 10291 logg=0.98\n",
      "Changing to logg=4.00 for T= 34071 logg=3.51\n",
      "Changing to logg=2.00 for T= 10846 logg=1.08\n",
      "Changing to logg=3.50 for T= 30635 logg=2.90\n",
      "Changing to logg=3.50 for T= 26913 logg=2.70\n",
      "Changing to logg=0.50 for T=  6805 logg=0.34\n",
      "Changing to logg=2.50 for T= 12514 logg=1.30\n",
      "Changing to logg=2.00 for T= 11440 logg=1.17\n",
      "Changing to logg=2.50 for T= 12020 logg=1.51\n",
      "Changing to T= 50000 for T= 69716 logg=4.65\n",
      "Changing to logg=5.00 for T= 69716 logg=4.65\n",
      "Changing to logg=2.50 for T= 11953 logg=1.83\n",
      "Changing to logg=4.00 for T= 34972 logg=3.13\n",
      "Changing to logg=3.50 for T= 29681 logg=3.44\n",
      "Changing to logg=3.50 for T= 27010 logg=2.67\n",
      "Changing to logg=3.00 for T= 24174 logg=2.77\n",
      "Changing to logg=2.50 for T= 15182 logg=1.65\n",
      "Changing to logg=3.00 for T= 21692 logg=2.52\n",
      "Changing to logg=2.50 for T= 17238 logg=1.87\n",
      "Changing to logg=3.00 for T= 22718 logg=2.37\n",
      "Changing to logg=2.50 for T= 14052 logg=1.52\n",
      "Changing to logg=4.00 for T= 38158 logg=3.83\n",
      "Changing to logg=2.00 for T= 11350 logg=1.15\n",
      "Changing to logg=3.00 for T= 22118 logg=2.62\n",
      "Changing to logg=2.00 for T= 11639 logg=1.18\n",
      "Changing to logg=3.00 for T= 25570 logg=2.57\n",
      "Changing to logg=2.50 for T= 15105 logg=1.62\n",
      "Changing to logg=2.50 for T= 12718 logg=1.95\n",
      "Changing to logg=4.00 for T= 34871 logg=3.41\n",
      "Changing to logg=4.00 for T= 32635 logg=3.97\n",
      "Changing to logg=0.00 for T=  3997 logg=-0.36\n",
      "Changing to T= 50000 for T= 68102 logg=4.33\n",
      "Changing to logg=5.00 for T= 68102 logg=4.33\n",
      "Changing to logg=4.50 for T= 39074 logg=3.34\n",
      "Changing to T= 50000 for T=105475 logg=5.05\n",
      "Changing to logg=5.00 for T=105475 logg=5.05\n",
      "Changing to logg=4.00 for T= 32887 logg=3.99\n",
      "Changing to logg=3.00 for T= 23364 logg=2.65\n",
      "Changing to logg=0.00 for T=  3997 logg=-0.39\n",
      "Changing to logg=4.50 for T= 43216 logg=4.36\n",
      "Changing to logg=0.00 for T=  4183 logg=-0.07\n",
      "Changing to logg=4.00 for T= 33539 logg=3.97\n",
      "Changing to logg=2.50 for T= 11942 logg=1.83\n",
      "Changing to T= 50000 for T= 61234 logg=4.33\n",
      "Changing to logg=5.00 for T= 61234 logg=4.33\n",
      "Changing to logg=3.00 for T= 23136 logg=2.40\n",
      "Changing to logg=2.50 for T= 12718 logg=1.95\n",
      "Changing to logg=0.00 for T=  3998 logg=-0.33\n",
      "Changing to logg=0.00 for T=  4183 logg=-0.07\n",
      "Changing to logg=3.50 for T= 27778 logg=2.74\n",
      "Changing to T= 50000 for T= 76883 logg=4.88\n",
      "Changing to logg=5.00 for T= 76883 logg=4.88\n",
      "Changing to T= 50000 for T= 74561 logg=4.76\n",
      "Changing to logg=5.00 for T= 74561 logg=4.76\n",
      "Changing to logg=2.50 for T= 12718 logg=1.95\n",
      "Changing to logg=2.50 for T= 11942 logg=1.83\n",
      "Changing to logg=0.00 for T=  3998 logg=-0.36\n",
      "Changing to logg=2.50 for T= 13082 logg=1.41\n",
      "Changing to T= 50000 for T= 86127 logg=5.03\n",
      "Changing to logg=5.00 for T= 86127 logg=5.03\n",
      "Changing to logg=4.00 for T= 31259 logg=3.83\n",
      "Changing to logg=3.50 for T= 27107 logg=2.90\n",
      "Changing to logg=4.00 for T= 36215 logg=3.22\n",
      "Changing to logg=2.50 for T= 11942 logg=1.83\n",
      "Changing to logg=3.50 for T= 26275 logg=3.40\n",
      "Changing to logg=3.00 for T= 21010 logg=2.46\n",
      "Changing to logg=3.00 for T= 19187 logg=2.09\n",
      "Changing to logg=2.50 for T= 11942 logg=1.83\n",
      "Changing to logg=2.50 for T= 12718 logg=1.95\n",
      "Changing to logg=0.00 for T=  3998 logg=-0.33\n",
      "Changing to logg=0.00 for T=  3998 logg=-0.36\n",
      "Changing to logg=0.00 for T=  4183 logg=-0.07\n",
      "Changing to logg=4.00 for T= 33254 logg=3.97\n",
      "Changing to logg=3.50 for T= 28511 logg=2.80\n",
      "Changing to logg=4.00 for T= 31617 logg=3.17\n",
      "Changing to logg=3.00 for T= 19444 logg=2.32\n",
      "Changing to logg=2.50 for T= 11942 logg=1.83\n",
      "Changing to logg=4.00 for T= 35427 logg=3.17\n",
      "Changing to T= 50000 for T= 62435 logg=4.41\n",
      "Changing to logg=5.00 for T= 62435 logg=4.41\n",
      "Changing to logg=0.00 for T=  4183 logg=-0.07\n",
      "Changing to logg=4.00 for T= 33080 logg=3.97\n",
      "Changing to logg=2.50 for T= 15655 logg=1.70\n",
      "Changing to logg=0.00 for T=  4183 logg=-0.07\n",
      "Changing to logg=4.00 for T= 32492 logg=3.66\n",
      "Changing to logg=0.00 for T=  4183 logg=-0.07\n",
      "Changing to logg=2.00 for T= 11564 logg=1.20\n",
      "Changing to logg=4.00 for T= 38291 logg=3.57\n",
      "Changing to logg=3.50 for T= 29870 logg=3.14\n",
      "Changing to logg=0.00 for T=  3950 logg=-0.38\n",
      "Changing to logg=2.50 for T= 11942 logg=1.83\n",
      "Changing to logg=0.00 for T=  3975 logg=-0.43\n",
      "Changing to logg=2.50 for T= 12718 logg=1.95\n",
      "Changing to logg=3.00 for T= 20719 logg=2.43\n",
      "Changing to logg=0.00 for T=  4183 logg=-0.07\n",
      "Changing to logg=4.00 for T= 32165 logg=3.96\n",
      "Changing to logg=4.00 for T= 33539 logg=3.97\n",
      "Changing to T= 50000 for T= 50325 logg=4.06\n",
      "Changing to logg=5.00 for T= 50325 logg=4.06\n",
      "Changing to T= 50000 for T= 56136 logg=4.20\n",
      "Changing to logg=5.00 for T= 56136 logg=4.20\n",
      "Changing to logg=0.00 for T=  4166 logg=-0.09\n",
      "Changing to logg=3.50 for T= 27564 logg=3.36\n",
      "Changing to logg=2.50 for T= 11942 logg=1.83\n",
      "Changing to T= 50000 for T= 77543 logg=4.93\n",
      "Changing to logg=5.00 for T= 77543 logg=4.93\n",
      "Changing to logg=4.00 for T= 33539 logg=3.97\n",
      "Changing to logg=4.00 for T= 33634 logg=3.86\n",
      "Changing to logg=2.50 for T= 12561 logg=1.93\n",
      "Changing to logg=2.50 for T= 18787 logg=2.03\n",
      "Changing to logg=0.50 for T=  6965 logg=0.31\n",
      "Changing to logg=0.50 for T=  6228 logg=0.10\n",
      "Changing to logg=0.00 for T=  3950 logg=-0.38\n",
      "Changing to logg=3.00 for T= 24826 logg=2.82\n",
      "Changing to T= 50000 for T= 95163 logg=4.88\n",
      "Changing to logg=5.00 for T= 95163 logg=4.88\n",
      "Changing to logg=3.50 for T= 28005 logg=2.77\n",
      "Changing to logg=2.50 for T= 16928 logg=1.86\n",
      "Changing to logg=2.50 for T= 15570 logg=1.72\n",
      "Changing to logg=2.50 for T= 15640 logg=1.95\n",
      "Changing to T= 50000 for T= 67144 logg=4.28\n",
      "Changing to logg=5.00 for T= 67144 logg=4.28\n",
      "Changing to logg=3.50 for T= 30990 logg=3.20\n",
      "Changing to logg=3.00 for T= 22713 logg=2.35\n",
      "Changing to logg=2.50 for T= 12393 logg=1.31\n",
      "Changing to logg=4.50 for T= 42436 logg=4.35\n",
      "Changing to logg=4.00 for T= 33539 logg=3.97\n",
      "Changing to logg=0.00 for T=  3997 logg=-0.39\n",
      "Changing to logg=0.00 for T=  4144 logg=-0.11\n",
      "Changing to logg=3.00 for T= 22050 logg=2.34\n",
      "Changing to logg=3.00 for T= 20687 logg=2.51\n",
      "Changing to logg=3.50 for T= 27307 logg=2.70\n",
      "Changing to logg=2.50 for T= 12718 logg=1.95\n",
      "Changing to logg=0.00 for T=  3998 logg=-0.33\n",
      "Changing to logg=4.00 for T= 38104 logg=3.28\n",
      "Changing to T= 50000 for T= 91251 logg=5.20\n",
      "Changing to logg=5.00 for T= 91251 logg=5.20\n",
      "Changing to logg=2.50 for T= 18431 logg=1.99\n",
      "Changing to logg=2.50 for T= 11942 logg=1.83\n",
      "Changing to logg=0.00 for T=  4144 logg=-0.11\n",
      "Changing to logg=3.00 for T= 22900 logg=2.40\n",
      "Changing to T= 50000 for T= 50863 logg=3.97\n",
      "Changing to logg=5.00 for T= 50863 logg=3.97\n",
      "Changing to T= 50000 for T= 55898 logg=4.26\n",
      "Changing to logg=5.00 for T= 55898 logg=4.26\n",
      "Changing to logg=1.50 for T=  8984 logg=0.76\n",
      "Changing to logg=3.00 for T= 19181 logg=2.38\n",
      "Changing to T= 50000 for T= 68011 logg=4.56\n",
      "Changing to logg=5.00 for T= 68011 logg=4.56\n",
      "Changing to logg=4.00 for T= 33539 logg=3.97\n",
      "Changing to logg=4.00 for T= 31955 logg=3.00\n",
      "Changing to logg=2.50 for T= 12718 logg=1.95\n",
      "Changing to logg=4.00 for T= 35768 logg=3.18\n",
      "Changing to logg=3.00 for T= 19167 logg=2.38\n",
      "Changing to logg=4.00 for T= 31483 logg=3.84\n",
      "Changing to logg=4.00 for T= 33539 logg=3.97\n",
      "Changing to logg=4.50 for T= 46620 logg=3.92\n",
      "Changing to logg=2.50 for T= 11942 logg=1.83\n"
     ]
    },
    {
     "name": "stdout",
     "output_type": "stream",
     "text": [
      "Changing to logg=3.00 for T= 23358 logg=2.45\n",
      "Changing to logg=2.50 for T= 12718 logg=1.95\n",
      "Changing to logg=0.00 for T=  4183 logg=-0.07\n",
      "Changing to logg=4.00 for T= 36338 logg=3.89\n",
      "Changing to logg=0.00 for T=  3998 logg=-0.36\n",
      "Changing to logg=4.00 for T= 32737 logg=3.96\n",
      "Changing to logg=4.50 for T= 45080 logg=3.86\n",
      "Changing to logg=2.00 for T= 10174 logg=0.96\n",
      "Changing to logg=2.50 for T= 11942 logg=1.83\n",
      "Changing to logg=2.50 for T= 11942 logg=1.83\n",
      "Changing to logg=3.50 for T= 30588 logg=2.92\n",
      "Changing to logg=0.00 for T=  3997 logg=-0.39\n",
      "Changing to logg=5.00 for T= 49246 logg=3.95\n",
      "Changing to T= 50000 for T= 50389 logg=3.78\n",
      "Changing to logg=5.00 for T= 50389 logg=3.78\n",
      "Changing to logg=4.00 for T= 32623 logg=3.99\n",
      "Changing to logg=4.00 for T= 31663 logg=3.95\n",
      "Changing to logg=3.50 for T= 26928 logg=3.43\n",
      "Changing to logg=2.50 for T= 14090 logg=1.54\n",
      "Changing to logg=4.00 for T= 33539 logg=3.97\n",
      "Changing to T= 50000 for T= 70906 logg=4.67\n",
      "Changing to logg=5.00 for T= 70906 logg=4.67\n",
      "Changing to logg=3.50 for T= 29491 logg=3.44\n",
      "Changing to logg=2.50 for T= 11942 logg=1.83\n",
      "Changing to logg=0.00 for T=  3950 logg=-0.38\n",
      "Changing to T= 50000 for T= 52009 logg=4.12\n",
      "Changing to logg=5.00 for T= 52009 logg=4.12\n",
      "Changing to logg=3.00 for T= 19292 logg=2.32\n",
      "Changing to logg=2.00 for T= 11203 logg=1.14\n",
      "Changing to logg=0.00 for T=  3950 logg=-0.38\n",
      "Changing to logg=2.50 for T= 12718 logg=1.95\n",
      "Changing to logg=4.50 for T= 41303 logg=3.44\n",
      "Changing to logg=0.00 for T=  4183 logg=-0.07\n",
      "Changing to logg=2.50 for T= 12718 logg=1.95\n",
      "Changing to logg=2.50 for T= 12786 logg=1.37\n",
      "Changing to logg=2.50 for T= 16350 logg=1.78\n",
      "Changing to logg=0.00 for T=  3998 logg=-0.36\n",
      "Changing to logg=4.00 for T= 33048 logg=3.05\n",
      "Changing to logg=2.50 for T= 16091 logg=2.00\n",
      "Changing to logg=4.00 for T= 32582 logg=3.96\n",
      "Changing to T= 50000 for T=104205 logg=5.02\n",
      "Changing to logg=5.00 for T=104205 logg=5.02\n",
      "Changing to logg=4.50 for T= 40683 logg=4.38\n",
      "Changing to logg=3.00 for T= 25653 logg=2.81\n",
      "Changing to logg=2.50 for T= 11942 logg=1.83\n",
      "Changing to logg=4.00 for T= 31591 logg=3.62\n",
      "Changing to logg=4.00 for T= 37545 logg=3.28\n",
      "Changing to logg=0.00 for T=  4144 logg=-0.11\n",
      "Changing to logg=0.00 for T=  3997 logg=-0.39\n",
      "Changing to logg=4.00 for T= 32593 logg=3.96\n",
      "Changing to logg=4.00 for T= 34077 logg=3.97\n",
      "Changing to T= 50000 for T= 87084 logg=5.05\n",
      "Changing to logg=5.00 for T= 87084 logg=5.05\n",
      "Changing to logg=4.00 for T= 31468 logg=3.73\n",
      "Changing to logg=4.00 for T= 31297 logg=2.96\n",
      "Changing to logg=0.00 for T=  3997 logg=-0.36\n",
      "Changing to logg=3.00 for T= 23454 logg=2.72\n",
      "Changing to T= 50000 for T= 57768 logg=4.32\n",
      "Changing to logg=5.00 for T= 57768 logg=4.32\n",
      "Changing to logg=4.00 for T= 31573 logg=3.83\n",
      "Changing to logg=2.50 for T= 11942 logg=1.83\n",
      "Changing to T= 50000 for T= 62584 logg=4.42\n",
      "Changing to logg=5.00 for T= 62584 logg=4.42\n",
      "Changing to logg=3.00 for T= 24227 logg=2.49\n",
      "Changing to T= 50000 for T= 83620 logg=5.48\n",
      "Changing to logg=5.00 for T= 83620 logg=5.48\n",
      "Changing to T= 50000 for T=122481 logg=5.32\n",
      "Changing to logg=5.00 for T=122481 logg=5.32\n",
      "Changing to logg=4.00 for T= 31060 logg=2.93\n",
      "Changing to logg=4.50 for T= 46385 logg=4.32\n",
      "Changing to logg=2.00 for T= 11272 logg=1.15\n",
      "Changing to logg=3.00 for T= 19799 logg=2.35\n",
      "Changing to logg=4.00 for T= 31408 logg=3.83\n",
      "Changing to logg=2.50 for T= 11942 logg=1.83\n",
      "Changing to logg=2.00 for T=  9574 logg=0.87\n",
      "Changing to logg=0.00 for T=  4524 logg=-0.42\n",
      "Changing to T= 50000 for T= 70473 logg=4.68\n",
      "Changing to logg=5.00 for T= 70473 logg=4.68\n",
      "Changing to T= 50000 for T= 78708 logg=4.53\n",
      "Changing to logg=5.00 for T= 78708 logg=4.53\n",
      "Changing to logg=2.50 for T= 14588 logg=1.60\n",
      "Changing to logg=3.50 for T= 30687 logg=3.18\n",
      "Changing to logg=2.00 for T= 10637 logg=1.30\n",
      "Changing to logg=4.50 for T= 44438 logg=3.57\n",
      "Changing to logg=0.00 for T=  4183 logg=-0.07\n",
      "Changing to logg=0.00 for T=  4144 logg=-0.11\n",
      "Changing to logg=0.00 for T=  4183 logg=-0.07\n",
      "Changing to logg=4.50 for T= 44674 logg=3.56\n",
      "Changing to logg=4.00 for T= 32733 logg=3.96\n",
      "Changing to logg=0.00 for T=  3998 logg=-0.33\n",
      "Changing to logg=0.00 for T=  3950 logg=-0.38\n",
      "Changing to logg=0.00 for T=  3998 logg=-0.33\n",
      "Changing to logg=4.00 for T= 31779 logg=3.65\n",
      "Changing to logg=0.00 for T=  4183 logg=-0.07\n",
      "Changing to logg=4.00 for T= 33820 logg=3.98\n",
      "Changing to logg=4.00 for T= 31957 logg=3.74\n",
      "Changing to logg=4.00 for T= 32582 logg=3.99\n",
      "Changing to logg=0.50 for T=  6491 logg=0.44\n",
      "Changing to logg=2.50 for T= 14303 logg=1.57\n",
      "Changing to logg=4.00 for T= 32551 logg=3.99\n",
      "Changing to logg=3.00 for T= 19049 logg=2.09\n",
      "Changing to T= 50000 for T= 99993 logg=5.35\n",
      "Changing to logg=5.00 for T= 99993 logg=5.35\n",
      "Changing to T= 50000 for T= 89826 logg=5.13\n",
      "Changing to logg=5.00 for T= 89826 logg=5.13\n",
      "Changing to logg=2.50 for T= 14134 logg=1.78\n",
      "Changing to logg=3.50 for T= 30993 logg=3.13\n",
      "Changing to logg=0.00 for T=  3997 logg=-0.36\n",
      "Changing to logg=2.50 for T= 11942 logg=1.83\n",
      "Changing to logg=3.00 for T= 22329 logg=2.64\n",
      "Changing to logg=2.50 for T= 17397 logg=1.89\n",
      "Changing to T= 50000 for T= 52139 logg=4.06\n",
      "Changing to logg=5.00 for T= 52139 logg=4.06\n",
      "Changing to logg=2.50 for T= 11942 logg=1.83\n",
      "Changing to logg=2.50 for T= 11942 logg=1.83\n",
      "Changing to logg=4.50 for T= 46762 logg=3.65\n",
      "Changing to T= 50000 for T= 59039 logg=4.30\n",
      "Changing to logg=5.00 for T= 59039 logg=4.30\n",
      "Changing to T= 50000 for T=103889 logg=5.04\n",
      "Changing to logg=5.00 for T=103889 logg=5.04\n",
      "Changing to T= 50000 for T= 65145 logg=4.22\n",
      "Changing to logg=5.00 for T= 65145 logg=4.22\n",
      "Changing to logg=3.50 for T= 29392 logg=3.04\n",
      "Changing to logg=3.00 for T= 25993 logg=2.90\n",
      "Changing to logg=2.50 for T= 13908 logg=1.50\n",
      "Changing to logg=3.50 for T= 30959 logg=2.93\n",
      "Changing to logg=0.00 for T=  4176 logg=-0.07\n",
      "Changing to logg=3.50 for T= 28586 logg=3.06\n",
      "Changing to logg=2.50 for T= 12718 logg=1.95\n",
      "Changing to logg=2.50 for T= 11942 logg=1.83\n",
      "Changing to logg=0.00 for T=  3950 logg=-0.38\n",
      "Changing to logg=4.00 for T= 33313 logg=4.00\n",
      "Changing to logg=2.50 for T= 16344 logg=1.78\n",
      "Changing to logg=0.00 for T=  4183 logg=-0.07\n",
      "Changing to logg=3.00 for T= 21648 logg=2.29\n",
      "Changing to T= 50000 for T= 74922 logg=4.82\n",
      "Changing to logg=5.00 for T= 74922 logg=4.82\n",
      "Changing to logg=4.00 for T= 33539 logg=3.97\n",
      "Changing to logg=2.50 for T= 11942 logg=1.83\n",
      "Changing to logg=4.00 for T= 37119 logg=3.26\n",
      "Changing to logg=2.50 for T= 18198 logg=1.97\n",
      "Changing to logg=2.50 for T= 12718 logg=1.95\n",
      "Changing to logg=4.50 for T= 39842 logg=3.56\n",
      "Changing to logg=3.50 for T= 28096 logg=2.95\n",
      "Changing to logg=4.00 for T= 32743 logg=3.97\n",
      "Changing to logg=2.00 for T= 10241 logg=0.97\n",
      "Changing to logg=2.00 for T=  9201 logg=1.18\n",
      "Changing to logg=0.00 for T=  3950 logg=-0.38\n",
      "Changing to logg=3.50 for T= 28153 logg=2.96\n",
      "Changing to logg=2.50 for T= 12522 logg=1.33\n",
      "Changing to logg=4.00 for T= 33881 logg=3.98\n",
      "Changing to logg=2.50 for T= 18524 logg=2.25\n",
      "Changing to logg=0.00 for T=  3998 logg=-0.36\n",
      "Changing to logg=4.00 for T= 33999 logg=3.98\n",
      "Changing to logg=4.50 for T= 42350 logg=3.75\n",
      "Changing to logg=3.00 for T= 24268 logg=2.78\n",
      "Changing to logg=4.00 for T= 32458 logg=3.01\n",
      "Changing to T= 50000 for T= 75436 logg=4.78\n",
      "Changing to logg=5.00 for T= 75436 logg=4.78\n",
      "Changing to logg=3.00 for T= 25689 logg=2.88\n",
      "Changing to logg=3.50 for T= 29334 logg=3.03\n",
      "Changing to logg=2.50 for T= 11942 logg=1.83\n",
      "Changing to logg=2.50 for T= 11942 logg=1.83\n",
      "Changing to logg=0.00 for T=  4183 logg=-0.07\n",
      "Changing to logg=4.00 for T= 32018 logg=3.61\n",
      "Changing to logg=0.00 for T=  4474 logg=-0.18\n",
      "Changing to logg=2.50 for T= 12718 logg=1.95\n",
      "Changing to logg=2.50 for T= 11942 logg=1.83\n",
      "Changing to logg=4.00 for T= 32137 logg=3.85\n",
      "Changing to logg=3.50 for T= 26284 logg=3.42\n",
      "Changing to logg=2.50 for T= 15788 logg=2.06\n",
      "Changing to logg=3.50 for T= 30252 logg=2.90\n",
      "Changing to logg=4.00 for T= 37113 logg=3.44\n",
      "Changing to logg=3.50 for T= 27796 logg=2.95\n",
      "Making photometry for isochrone: log(t) = 7.00  AKs = 0.00  dist = 1000\n",
      "     Starting at:  2020-12-20 22:11:44.393467   Usually takes ~5 minutes\n",
      "Starting filter: ubv,U   Elapsed time: 0.00 seconds\n",
      "Starting synthetic photometry\n",
      "Singles\n",
      "M =  13.000 Msun  T = 30108 K  m_ubv_U = 5.64\n",
      "Primaries\n",
      "M =   3.162 Msun  T =  3090 K  m_ubv_U =  nan\n",
      "M =  15.000 Msun  T = 30279 K  m_ubv_U = 4.96\n",
      "M =  19.953 Msun  T =  3090 K  m_ubv_U =  nan\n",
      "M =  18.000 Msun  T = 29168 K  m_ubv_U = 4.09\n"
     ]
    },
    {
     "name": "stdout",
     "output_type": "stream",
     "text": [
      "M =  14.000 Msun  T = 30266 K  m_ubv_U = 5.28\n",
      "M =   3.162 Msun  T =  3090 K  m_ubv_U =  nan\n",
      "M =   3.981 Msun  T =  3090 K  m_ubv_U =  nan\n",
      "M =  14.000 Msun  T = 30361 K  m_ubv_U = 5.30\n",
      "M =   3.981 Msun  T =  3090 K  m_ubv_U =  nan\n",
      "M =  15.849 Msun  T =  3090 K  m_ubv_U =  nan\n",
      "M =  15.849 Msun  T =  3090 K  m_ubv_U =  nan\n",
      "M =  10.000 Msun  T = 27642 K  m_ubv_U = 6.62\n",
      "M =   3.981 Msun  T =  3090 K  m_ubv_U =  nan\n",
      "M =  19.000 Msun  T = 20714 K  m_ubv_U = 3.14\n",
      "M =  13.000 Msun  T = 30037 K  m_ubv_U = 5.62\n",
      "M =  14.000 Msun  T = 30266 K  m_ubv_U = 5.28\n",
      "M =  19.000 Msun  T = 11953 K  m_ubv_U = 2.10\n",
      "M =  17.000 Msun  T = 29685 K  m_ubv_U = 4.36\n",
      "M =   1.995 Msun  T =  3090 K  m_ubv_U =  nan\n",
      "M =  16.000 Msun  T = 30080 K  m_ubv_U = 4.65\n",
      "M =  39.811 Msun  T =  3090 K  m_ubv_U =  nan\n",
      "M =  18.000 Msun  T = 29119 K  m_ubv_U = 4.09\n",
      "M =  20.000 Msun  T = 26208 K  m_ubv_U = 3.21\n",
      "M =  13.000 Msun  T = 30037 K  m_ubv_U = 5.62\n",
      "M =  10.000 Msun  T =  3090 K  m_ubv_U =  nan\n",
      "Secondaries\n",
      "M =  18.000 Msun  T = 29113 K  m_ubv_U = 4.08\n",
      "M =  12.000 Msun  T = 32222 K  m_ubv_U = 6.14\n",
      "M =  18.000 Msun  T = 29266 K  m_ubv_U = 4.10\n",
      "M =  10.800 Msun  T = 30825 K  m_ubv_U = 6.54\n",
      "M =   8.400 Msun  T = 27233 K  m_ubv_U = 7.34\n",
      "M =   9.000 Msun  T = 26428 K  m_ubv_U = 6.94\n",
      "M =  20.000 Msun  T = 56136 K  m_ubv_U = 5.50\n",
      "M =   1.400 Msun  T =  8533 K  m_ubv_U = 13.07\n",
      "M =  22.000 Msun  T = 27307 K  m_ubv_U = 2.84\n",
      "M =  16.000 Msun  T = 30076 K  m_ubv_U = 4.65\n",
      "M =  25.000 Msun  T = 30675 K  m_ubv_U = 4.61\n",
      "M =   1.000 Msun  T =  6421 K  m_ubv_U = 14.77\n",
      "M =  11.000 Msun  T = 28462 K  m_ubv_U = 6.20\n",
      "M =  13.300 Msun  T = 32719 K  m_ubv_U = 5.76\n",
      "M =  10.400 Msun  T = 30291 K  m_ubv_U = 6.66\n",
      "M =  12.600 Msun  T = 32797 K  m_ubv_U = 5.96\n",
      "M =  13.300 Msun  T = 33439 K  m_ubv_U = 5.79\n",
      "M =   1.700 Msun  T = 10277 K  m_ubv_U = 12.25\n",
      "M =  16.000 Msun  T = 30076 K  m_ubv_U = 4.65\n",
      "M =   6.400 Msun  T = 23549 K  m_ubv_U = 8.14\n",
      "M =  24.000 Msun  T = 65145 K  m_ubv_U = 5.66\n",
      "M =  12.600 Msun  T = 32869 K  m_ubv_U = 6.00\n",
      "M =   4.000 Msun  T = 18076 K  m_ubv_U = 9.47\n",
      "M =   2.600 Msun  T = 13951 K  m_ubv_U = 10.76\n",
      "M =  11.000 Msun  T = 28462 K  m_ubv_U = 6.20\n",
      "Starting filter: ubv,V   Elapsed time: 7.10 seconds\n",
      "Starting synthetic photometry\n",
      "Singles\n",
      "M =  13.000 Msun  T = 30108 K  m_ubv_V = 6.91\n",
      "Primaries\n",
      "M =   3.162 Msun  T =  3090 K  m_ubv_V =  nan\n",
      "M =  15.000 Msun  T = 30279 K  m_ubv_V = 6.25\n",
      "M =  19.953 Msun  T =  3090 K  m_ubv_V =  nan\n",
      "M =  18.000 Msun  T = 29168 K  m_ubv_V = 5.38\n",
      "M =  14.000 Msun  T = 30266 K  m_ubv_V = 6.56\n",
      "M =   3.162 Msun  T =  3090 K  m_ubv_V =  nan\n",
      "M =   3.981 Msun  T =  3090 K  m_ubv_V =  nan\n",
      "M =  14.000 Msun  T = 30361 K  m_ubv_V = 6.58\n",
      "M =   3.981 Msun  T =  3090 K  m_ubv_V =  nan\n",
      "M =  15.849 Msun  T =  3090 K  m_ubv_V =  nan\n",
      "M =  15.849 Msun  T =  3090 K  m_ubv_V =  nan\n",
      "M =  10.000 Msun  T = 27642 K  m_ubv_V = 7.82\n",
      "M =   3.981 Msun  T =  3090 K  m_ubv_V =  nan\n",
      "M =  19.000 Msun  T = 20714 K  m_ubv_V = 4.19\n",
      "M =  13.000 Msun  T = 30037 K  m_ubv_V = 6.89\n",
      "M =  14.000 Msun  T = 30266 K  m_ubv_V = 6.56\n",
      "M =  19.000 Msun  T = 11953 K  m_ubv_V = 2.61\n",
      "M =  17.000 Msun  T = 29685 K  m_ubv_V = 5.65\n",
      "M =   1.995 Msun  T =  3090 K  m_ubv_V =  nan\n",
      "M =  16.000 Msun  T = 30080 K  m_ubv_V = 5.94\n",
      "M =  39.811 Msun  T =  3090 K  m_ubv_V =  nan\n",
      "M =  18.000 Msun  T = 29119 K  m_ubv_V = 5.37\n",
      "M =  20.000 Msun  T = 26208 K  m_ubv_V = 4.41\n",
      "M =  13.000 Msun  T = 30037 K  m_ubv_V = 6.89\n",
      "M =  10.000 Msun  T =  3090 K  m_ubv_V =  nan\n",
      "Secondaries\n",
      "M =  18.000 Msun  T = 29113 K  m_ubv_V = 5.36\n",
      "M =  12.000 Msun  T = 32222 K  m_ubv_V = 7.45\n",
      "M =  18.000 Msun  T = 29266 K  m_ubv_V = 5.38\n",
      "M =  10.800 Msun  T = 30825 K  m_ubv_V = 7.82\n",
      "M =   8.400 Msun  T = 27233 K  m_ubv_V = 8.52\n",
      "M =   9.000 Msun  T = 26428 K  m_ubv_V = 8.11\n",
      "M =  20.000 Msun  T = 56136 K  m_ubv_V = 6.94\n",
      "M =   1.400 Msun  T =  8533 K  m_ubv_V = 12.91\n",
      "M =  22.000 Msun  T = 27307 K  m_ubv_V = 4.08\n",
      "M =  16.000 Msun  T = 30076 K  m_ubv_V = 5.94\n",
      "M =  25.000 Msun  T = 30675 K  m_ubv_V = 5.93\n",
      "M =   1.000 Msun  T =  6421 K  m_ubv_V = 14.55\n",
      "M =  11.000 Msun  T = 28462 K  m_ubv_V = 7.43\n",
      "M =  13.300 Msun  T = 32719 K  m_ubv_V = 7.08\n",
      "M =  10.400 Msun  T = 30291 K  m_ubv_V = 7.93\n",
      "M =  12.600 Msun  T = 32797 K  m_ubv_V = 7.29\n",
      "M =  13.300 Msun  T = 33439 K  m_ubv_V = 7.13\n",
      "M =   1.700 Msun  T = 10277 K  m_ubv_V = 12.33\n",
      "M =  16.000 Msun  T = 30076 K  m_ubv_V = 5.94\n",
      "M =   6.400 Msun  T = 23549 K  m_ubv_V = 9.20\n",
      "M =  24.000 Msun  T = 65145 K  m_ubv_V = 7.10\n",
      "M =  12.600 Msun  T = 32869 K  m_ubv_V = 7.32\n",
      "M =   4.000 Msun  T = 18076 K  m_ubv_V = 10.29\n",
      "M =   2.600 Msun  T = 13951 K  m_ubv_V = 11.30\n",
      "M =  11.000 Msun  T = 28462 K  m_ubv_V = 7.43\n",
      "Starting filter: ubv,B   Elapsed time: 14.08 seconds\n",
      "Starting synthetic photometry\n",
      "Singles\n",
      "M =  13.000 Msun  T = 30108 K  m_ubv_B = 6.63\n",
      "Primaries\n",
      "M =   3.162 Msun  T =  3090 K  m_ubv_B =  nan\n",
      "M =  15.000 Msun  T = 30279 K  m_ubv_B = 5.97\n",
      "M =  19.953 Msun  T =  3090 K  m_ubv_B =  nan\n",
      "M =  18.000 Msun  T = 29168 K  m_ubv_B = 5.10\n",
      "M =  14.000 Msun  T = 30266 K  m_ubv_B = 6.28\n",
      "M =   3.162 Msun  T =  3090 K  m_ubv_B =  nan\n",
      "M =   3.981 Msun  T =  3090 K  m_ubv_B =  nan\n",
      "M =  14.000 Msun  T = 30361 K  m_ubv_B = 6.30\n",
      "M =   3.981 Msun  T =  3090 K  m_ubv_B =  nan\n",
      "M =  15.849 Msun  T =  3090 K  m_ubv_B =  nan\n",
      "M =  15.849 Msun  T =  3090 K  m_ubv_B =  nan\n",
      "M =  10.000 Msun  T = 27642 K  m_ubv_B = 7.56\n",
      "M =   3.981 Msun  T =  3090 K  m_ubv_B =  nan\n",
      "M =  19.000 Msun  T = 20714 K  m_ubv_B = 3.98\n",
      "M =  13.000 Msun  T = 30037 K  m_ubv_B = 6.62\n",
      "M =  14.000 Msun  T = 30266 K  m_ubv_B = 6.28\n",
      "M =  19.000 Msun  T = 11953 K  m_ubv_B = 2.51\n",
      "M =  17.000 Msun  T = 29685 K  m_ubv_B = 5.38\n",
      "M =   1.995 Msun  T =  3090 K  m_ubv_B =  nan\n",
      "M =  16.000 Msun  T = 30080 K  m_ubv_B = 5.67\n",
      "M =  39.811 Msun  T =  3090 K  m_ubv_B =  nan\n",
      "M =  18.000 Msun  T = 29119 K  m_ubv_B = 5.10\n",
      "M =  20.000 Msun  T = 26208 K  m_ubv_B = 4.16\n",
      "M =  13.000 Msun  T = 30037 K  m_ubv_B = 6.62\n",
      "M =  10.000 Msun  T =  3090 K  m_ubv_B =  nan\n",
      "Secondaries\n",
      "M =  18.000 Msun  T = 29113 K  m_ubv_B = 5.09\n",
      "M =  12.000 Msun  T = 32222 K  m_ubv_B = 7.16\n",
      "M =  18.000 Msun  T = 29266 K  m_ubv_B = 5.11\n",
      "M =  10.800 Msun  T = 30825 K  m_ubv_B = 7.54\n",
      "M =   8.400 Msun  T = 27233 K  m_ubv_B = 8.27\n",
      "M =   9.000 Msun  T = 26428 K  m_ubv_B = 7.86\n",
      "M =  20.000 Msun  T = 56136 K  m_ubv_B = 6.61\n",
      "M =   1.400 Msun  T =  8533 K  m_ubv_B = 13.05\n",
      "M =  22.000 Msun  T = 27307 K  m_ubv_B = 3.82\n",
      "M =  16.000 Msun  T = 30076 K  m_ubv_B = 5.66\n",
      "M =  25.000 Msun  T = 30675 K  m_ubv_B = 5.65\n",
      "M =   1.000 Msun  T =  6421 K  m_ubv_B = 14.99\n",
      "M =  11.000 Msun  T = 28462 K  m_ubv_B = 7.17\n",
      "M =  13.300 Msun  T = 32719 K  m_ubv_B = 6.79\n",
      "M =  10.400 Msun  T = 30291 K  m_ubv_B = 7.65\n",
      "M =  12.600 Msun  T = 32797 K  m_ubv_B = 7.00\n",
      "M =  13.300 Msun  T = 33439 K  m_ubv_B = 6.84\n",
      "M =   1.700 Msun  T = 10277 K  m_ubv_B = 12.33\n",
      "M =  16.000 Msun  T = 30076 K  m_ubv_B = 5.66\n",
      "M =   6.400 Msun  T = 23549 K  m_ubv_B = 8.98\n",
      "M =  24.000 Msun  T = 65145 K  m_ubv_B = 6.77\n",
      "M =  12.600 Msun  T = 32869 K  m_ubv_B = 7.03\n",
      "M =   4.000 Msun  T = 18076 K  m_ubv_B = 10.13\n",
      "M =   2.600 Msun  T = 13951 K  m_ubv_B = 11.19\n",
      "M =  11.000 Msun  T = 28462 K  m_ubv_B = 7.17\n",
      "Starting filter: ubv,R   Elapsed time: 20.91 seconds\n",
      "Starting synthetic photometry\n",
      "Singles\n",
      "M =  13.000 Msun  T = 30108 K  m_ubv_R = 7.02\n",
      "Primaries\n",
      "M =   3.162 Msun  T =  3090 K  m_ubv_R =  nan\n",
      "M =  15.000 Msun  T = 30279 K  m_ubv_R = 6.36\n",
      "M =  19.953 Msun  T =  3090 K  m_ubv_R =  nan\n",
      "M =  18.000 Msun  T = 29168 K  m_ubv_R = 5.48\n",
      "M =  14.000 Msun  T = 30266 K  m_ubv_R = 6.67\n",
      "M =   3.162 Msun  T =  3090 K  m_ubv_R =  nan\n",
      "M =   3.981 Msun  T =  3090 K  m_ubv_R =  nan\n",
      "M =  14.000 Msun  T = 30361 K  m_ubv_R = 6.69\n",
      "M =   3.981 Msun  T =  3090 K  m_ubv_R =  nan\n",
      "M =  15.849 Msun  T =  3090 K  m_ubv_R =  nan\n",
      "M =  15.849 Msun  T =  3090 K  m_ubv_R =  nan\n",
      "M =  10.000 Msun  T = 27642 K  m_ubv_R = 7.92\n",
      "M =   3.981 Msun  T =  3090 K  m_ubv_R =  nan\n",
      "M =  19.000 Msun  T = 20714 K  m_ubv_R = 4.26\n",
      "M =  13.000 Msun  T = 30037 K  m_ubv_R = 7.00\n",
      "M =  14.000 Msun  T = 30266 K  m_ubv_R = 6.67\n",
      "M =  19.000 Msun  T = 11953 K  m_ubv_R = 2.62\n",
      "M =  17.000 Msun  T = 29685 K  m_ubv_R = 5.76\n",
      "M =   1.995 Msun  T =  3090 K  m_ubv_R =  nan\n",
      "M =  16.000 Msun  T = 30080 K  m_ubv_R = 6.05\n",
      "M =  39.811 Msun  T =  3090 K  m_ubv_R =  nan\n",
      "M =  18.000 Msun  T = 29119 K  m_ubv_R = 5.47\n",
      "M =  20.000 Msun  T = 26208 K  m_ubv_R = 4.51\n",
      "M =  13.000 Msun  T = 30037 K  m_ubv_R = 7.00\n"
     ]
    },
    {
     "name": "stdout",
     "output_type": "stream",
     "text": [
      "M =  10.000 Msun  T =  3090 K  m_ubv_R =  nan\n",
      "Secondaries\n",
      "M =  18.000 Msun  T = 29113 K  m_ubv_R = 5.47\n",
      "M =  12.000 Msun  T = 32222 K  m_ubv_R = 7.57\n",
      "M =  18.000 Msun  T = 29266 K  m_ubv_R = 5.49\n",
      "M =  10.800 Msun  T = 30825 K  m_ubv_R = 7.93\n",
      "M =   8.400 Msun  T = 27233 K  m_ubv_R = 8.62\n",
      "M =   9.000 Msun  T = 26428 K  m_ubv_R = 8.21\n",
      "M =  20.000 Msun  T = 56136 K  m_ubv_R = 7.07\n",
      "M =   1.400 Msun  T =  8533 K  m_ubv_R = 12.86\n",
      "M =  22.000 Msun  T = 27307 K  m_ubv_R = 4.18\n",
      "M =  16.000 Msun  T = 30076 K  m_ubv_R = 6.05\n",
      "M =  25.000 Msun  T = 30675 K  m_ubv_R = 6.03\n",
      "M =   1.000 Msun  T =  6421 K  m_ubv_R = 14.30\n",
      "M =  11.000 Msun  T = 28462 K  m_ubv_R = 7.54\n",
      "M =  13.300 Msun  T = 32719 K  m_ubv_R = 7.20\n",
      "M =  10.400 Msun  T = 30291 K  m_ubv_R = 8.04\n",
      "M =  12.600 Msun  T = 32797 K  m_ubv_R = 7.40\n",
      "M =  13.300 Msun  T = 33439 K  m_ubv_R = 7.24\n",
      "M =   1.700 Msun  T = 10277 K  m_ubv_R = 12.35\n",
      "M =  16.000 Msun  T = 30076 K  m_ubv_R = 6.05\n",
      "M =   6.400 Msun  T = 23549 K  m_ubv_R = 9.29\n",
      "M =  24.000 Msun  T = 65145 K  m_ubv_R = 7.23\n",
      "M =  12.600 Msun  T = 32869 K  m_ubv_R = 7.44\n",
      "M =   4.000 Msun  T = 18076 K  m_ubv_R = 10.36\n",
      "M =   2.600 Msun  T = 13951 K  m_ubv_R = 11.34\n",
      "M =  11.000 Msun  T = 28462 K  m_ubv_R = 7.54\n",
      "Starting filter: ubv,I   Elapsed time: 27.53 seconds\n",
      "Starting synthetic photometry\n",
      "Singles\n",
      "M =  13.000 Msun  T = 30108 K  m_ubv_I = 7.28\n",
      "Primaries\n",
      "M =   3.162 Msun  T =  3090 K  m_ubv_I =  nan\n",
      "M =  15.000 Msun  T = 30279 K  m_ubv_I = 6.61\n",
      "M =  19.953 Msun  T =  3090 K  m_ubv_I =  nan\n",
      "M =  18.000 Msun  T = 29168 K  m_ubv_I = 5.73\n",
      "M =  14.000 Msun  T = 30266 K  m_ubv_I = 6.93\n",
      "M =   3.162 Msun  T =  3090 K  m_ubv_I =  nan\n",
      "M =   3.981 Msun  T =  3090 K  m_ubv_I =  nan\n",
      "M =  14.000 Msun  T = 30361 K  m_ubv_I = 6.95\n",
      "M =   3.981 Msun  T =  3090 K  m_ubv_I =  nan\n",
      "M =  15.849 Msun  T =  3090 K  m_ubv_I =  nan\n",
      "M =  15.849 Msun  T =  3090 K  m_ubv_I =  nan\n",
      "M =  10.000 Msun  T = 27642 K  m_ubv_I = 8.17\n",
      "M =   3.981 Msun  T =  3090 K  m_ubv_I =  nan\n",
      "M =  19.000 Msun  T = 20714 K  m_ubv_I = 4.45\n",
      "M =  13.000 Msun  T = 30037 K  m_ubv_I = 7.26\n",
      "M =  14.000 Msun  T = 30266 K  m_ubv_I = 6.93\n",
      "M =  19.000 Msun  T = 11953 K  m_ubv_I = 2.67\n",
      "M =  17.000 Msun  T = 29685 K  m_ubv_I = 6.01\n",
      "M =   1.995 Msun  T =  3090 K  m_ubv_I =  nan\n",
      "M =  16.000 Msun  T = 30080 K  m_ubv_I = 6.30\n",
      "M =  39.811 Msun  T =  3090 K  m_ubv_I =  nan\n",
      "M =  18.000 Msun  T = 29119 K  m_ubv_I = 5.72\n",
      "M =  20.000 Msun  T = 26208 K  m_ubv_I = 4.74\n",
      "M =  13.000 Msun  T = 30037 K  m_ubv_I = 7.26\n",
      "M =  10.000 Msun  T =  3090 K  m_ubv_I =  nan\n",
      "Secondaries\n",
      "M =  18.000 Msun  T = 29113 K  m_ubv_I = 5.72\n",
      "M =  12.000 Msun  T = 32222 K  m_ubv_I = 7.83\n",
      "M =  18.000 Msun  T = 29266 K  m_ubv_I = 5.74\n",
      "M =  10.800 Msun  T = 30825 K  m_ubv_I = 8.19\n",
      "M =   8.400 Msun  T = 27233 K  m_ubv_I = 8.86\n",
      "M =   9.000 Msun  T = 26428 K  m_ubv_I = 8.44\n",
      "M =  20.000 Msun  T = 56136 K  m_ubv_I = 7.34\n",
      "M =   1.400 Msun  T =  8533 K  m_ubv_I = 12.78\n",
      "M =  22.000 Msun  T = 27307 K  m_ubv_I = 4.42\n",
      "M =  16.000 Msun  T = 30076 K  m_ubv_I = 6.30\n",
      "M =  25.000 Msun  T = 30675 K  m_ubv_I = 6.28\n",
      "M =   1.000 Msun  T =  6421 K  m_ubv_I = 13.95\n",
      "M =  11.000 Msun  T = 28462 K  m_ubv_I = 7.78\n",
      "M =  13.300 Msun  T = 32719 K  m_ubv_I = 7.46\n",
      "M =  10.400 Msun  T = 30291 K  m_ubv_I = 8.30\n",
      "M =  12.600 Msun  T = 32797 K  m_ubv_I = 7.67\n",
      "M =  13.300 Msun  T = 33439 K  m_ubv_I = 7.51\n",
      "M =   1.700 Msun  T = 10277 K  m_ubv_I = 12.37\n",
      "M =  16.000 Msun  T = 30076 K  m_ubv_I = 6.30\n",
      "M =   6.400 Msun  T = 23549 K  m_ubv_I = 9.50\n",
      "M =  24.000 Msun  T = 65145 K  m_ubv_I = 7.50\n",
      "M =  12.600 Msun  T = 32869 K  m_ubv_I = 7.70\n",
      "M =   4.000 Msun  T = 18076 K  m_ubv_I = 10.52\n",
      "M =   2.600 Msun  T = 13951 K  m_ubv_I = 11.45\n",
      "M =  11.000 Msun  T = 28462 K  m_ubv_I = 7.78\n",
      "      Time taken: 34.14 seconds\n",
      "Isochrone generation took 317.323239 s.\n"
     ]
    }
   ],
   "source": [
    "import spisea\n",
    "from spisea import evolution, synthetic\n",
    "import math\n",
    "# Check if the evolution class works fine\n",
    "import time\n",
    "t1=time.time()\n",
    "bps=evolution.BPASS()\n",
    "iso1=synthetic.Isochrone_Binary(7.0, 0.0, 1000,math.log10(1/10), mass_sampling=2, filepath='/g/lu/scratch/ryotainagaki/BPASS_iso_filesTimedIsolated/')"
   ]
  },
  {
   "cell_type": "markdown",
   "metadata": {},
   "source": [
    "As a sanity check, I would like to make sure that, for primary stars, we only have (from the isochrone) designated phase 5 stars ( anything that is not a compact remnant), white dwarves (101), and non-white dwarf compact remnants that are  NEWSECMODS primaries (110). Also make sure that our secondary stars are non-compact-remnant, white dwarves, or are merged."
   ]
  },
  {
   "cell_type": "code",
   "execution_count": 2,
   "metadata": {},
   "outputs": [
    {
     "data": {
      "text/plain": [
       "True"
      ]
     },
     "execution_count": 2,
     "metadata": {},
     "output_type": "execute_result"
    }
   ],
   "source": [
    "import numpy as np\n",
    "np.all([(x==5 or x==101 or x==110) for x in iso1.primaries['phase']])"
   ]
  },
  {
   "cell_type": "code",
   "execution_count": 3,
   "metadata": {},
   "outputs": [
    {
     "data": {
      "text/plain": [
       "True"
      ]
     },
     "execution_count": 3,
     "metadata": {},
     "output_type": "execute_result"
    }
   ],
   "source": [
    "np.all([(x==5 or x==101) for x in iso1.singles['phase']])"
   ]
  },
  {
   "cell_type": "code",
   "execution_count": 4,
   "metadata": {},
   "outputs": [
    {
     "data": {
      "text/plain": [
       "True"
      ]
     },
     "execution_count": 4,
     "metadata": {},
     "output_type": "execute_result"
    }
   ],
   "source": [
    "np.all([(x==5 or x==101 or x==-99) for x in iso1.secondaries['phase']])"
   ]
  },
  {
   "cell_type": "markdown",
   "metadata": {},
   "source": [
    "Find the maximum, mean, and median  values of logg (cgs) for primaries, single stars, and secondaries. "
   ]
  },
  {
   "cell_type": "code",
   "execution_count": 5,
   "metadata": {},
   "outputs": [
    {
     "data": {
      "text/plain": [
       "5.893166216900485"
      ]
     },
     "execution_count": 5,
     "metadata": {},
     "output_type": "execute_result"
    }
   ],
   "source": [
    "import numpy as np\n",
    "np.max(iso1.singles['logg'])"
   ]
  },
  {
   "cell_type": "code",
   "execution_count": 6,
   "metadata": {},
   "outputs": [
    {
     "data": {
      "text/plain": [
       "nan"
      ]
     },
     "execution_count": 6,
     "metadata": {},
     "output_type": "execute_result"
    }
   ],
   "source": [
    "import numpy as np\n",
    "np.max(iso1.primaries['logg'])"
   ]
  },
  {
   "cell_type": "code",
   "execution_count": 7,
   "metadata": {},
   "outputs": [
    {
     "data": {
      "text/plain": [
       "5.477660824834683"
      ]
     },
     "execution_count": 7,
     "metadata": {},
     "output_type": "execute_result"
    }
   ],
   "source": [
    "np.max(np.nan_to_num(iso1.secondaries['logg']))"
   ]
  },
  {
   "cell_type": "code",
   "execution_count": 8,
   "metadata": {},
   "outputs": [
    {
     "data": {
      "text/plain": [
       "4.390131476748228"
      ]
     },
     "execution_count": 8,
     "metadata": {},
     "output_type": "execute_result"
    }
   ],
   "source": [
    "np.mean(iso1.singles['logg'])"
   ]
  },
  {
   "cell_type": "code",
   "execution_count": 9,
   "metadata": {},
   "outputs": [
    {
     "data": {
      "text/plain": [
       "3.9886220578503506"
      ]
     },
     "execution_count": 9,
     "metadata": {},
     "output_type": "execute_result"
    }
   ],
   "source": [
    "np.mean((np.nan_to_num(iso1.secondaries['logg'])))"
   ]
  },
  {
   "cell_type": "code",
   "execution_count": 10,
   "metadata": {},
   "outputs": [
    {
     "data": {
      "text/plain": [
       "4.321229216672045"
      ]
     },
     "execution_count": 10,
     "metadata": {},
     "output_type": "execute_result"
    }
   ],
   "source": [
    "np.mean((np.nan_to_num(iso1.primaries['logg'])))"
   ]
  },
  {
   "cell_type": "code",
   "execution_count": 11,
   "metadata": {},
   "outputs": [
    {
     "data": {
      "text/plain": [
       "4.35254421488271"
      ]
     },
     "execution_count": 11,
     "metadata": {},
     "output_type": "execute_result"
    }
   ],
   "source": [
    "np.median(iso1.singles['logg'])"
   ]
  },
  {
   "cell_type": "code",
   "execution_count": 12,
   "metadata": {},
   "outputs": [
    {
     "data": {
      "text/plain": [
       "nan"
      ]
     },
     "execution_count": 12,
     "metadata": {},
     "output_type": "execute_result"
    }
   ],
   "source": [
    "np.median(iso1.primaries['logg'])"
   ]
  },
  {
   "cell_type": "code",
   "execution_count": 13,
   "metadata": {},
   "outputs": [
    {
     "data": {
      "text/html": [
       "&lt;Column name=&apos;logg&apos; dtype=&apos;float64&apos; unit=&apos;&apos; length=2484&gt;\n",
       "<table>\n",
       "<tr><td>4.938067948646069</td></tr>\n",
       "<tr><td>4.180333953868118</td></tr>\n",
       "<tr><td>3.711407186393813</td></tr>\n",
       "<tr><td>4.403952178590721</td></tr>\n",
       "<tr><td>4.17444824166976</td></tr>\n",
       "<tr><td>4.17444824166976</td></tr>\n",
       "<tr><td>4.087974438060869</td></tr>\n",
       "<tr><td>4.2655546401440585</td></tr>\n",
       "<tr><td>5.63806675249993</td></tr>\n",
       "<tr><td>1.8345601711621755</td></tr>\n",
       "<tr><td>4.17444824166976</td></tr>\n",
       "<tr><td>4.087974438060869</td></tr>\n",
       "<tr><td>...</td></tr>\n",
       "<tr><td>4.2655546401440585</td></tr>\n",
       "<tr><td>4.3251117421114165</td></tr>\n",
       "<tr><td>5.699315979708696</td></tr>\n",
       "<tr><td>3.612937150931157</td></tr>\n",
       "<tr><td>4.180333953868118</td></tr>\n",
       "<tr><td>4.838068244279513</td></tr>\n",
       "<tr><td>5.23806739019378</td></tr>\n",
       "<tr><td>1.623895589581782</td></tr>\n",
       "<tr><td>5.038067441246554</td></tr>\n",
       "<tr><td>4.3251117421114165</td></tr>\n",
       "<tr><td>3.9064285744758216</td></tr>\n",
       "<tr><td>4.584195662981371</td></tr>\n",
       "</table>"
      ],
      "text/plain": [
       "<Column name='logg' dtype='float64' unit='' length=2484>\n",
       " 4.938067948646069\n",
       " 4.180333953868118\n",
       " 3.711407186393813\n",
       " 4.403952178590721\n",
       "  4.17444824166976\n",
       "  4.17444824166976\n",
       " 4.087974438060869\n",
       "4.2655546401440585\n",
       "  5.63806675249993\n",
       "1.8345601711621755\n",
       "  4.17444824166976\n",
       " 4.087974438060869\n",
       "               ...\n",
       "4.2655546401440585\n",
       "4.3251117421114165\n",
       " 5.699315979708696\n",
       " 3.612937150931157\n",
       " 4.180333953868118\n",
       " 4.838068244279513\n",
       "  5.23806739019378\n",
       " 1.623895589581782\n",
       " 5.038067441246554\n",
       "4.3251117421114165\n",
       "3.9064285744758216\n",
       " 4.584195662981371"
      ]
     },
     "execution_count": 13,
     "metadata": {},
     "output_type": "execute_result"
    }
   ],
   "source": [
    "iso1.primaries['logg']"
   ]
  },
  {
   "cell_type": "code",
   "execution_count": 14,
   "metadata": {},
   "outputs": [
    {
     "data": {
      "text/plain": [
       "Text(0.5, 0, 'logg in cgs')"
      ]
     },
     "execution_count": 14,
     "metadata": {},
     "output_type": "execute_result"
    },
    {
     "data": {
      "image/png": "[encoded data removed]",
      "text/plain": [
       "<Figure size 432x288 with 1 Axes>"
      ]
     },
     "metadata": {
      "needs_background": "light"
     },
     "output_type": "display_data"
    }
   ],
   "source": [
    "import matplotlib.pyplot as plt\n",
    "plt.title(\"Histogram of logg values (secondaries) of isochrone (BPASS)\")\n",
    "plt.hist(np.array([x for x in iso1.secondaries['logg'] if np.isfinite(x)]), np.arange(-10, 30, 1))\n",
    "plt.xlabel(\"logg in cgs\")"
   ]
  },
  {
   "cell_type": "code",
   "execution_count": 15,
   "metadata": {},
   "outputs": [
    {
     "data": {
      "text/plain": [
       "Text(0.5, 0, 'logg in cgs')"
      ]
     },
     "execution_count": 15,
     "metadata": {},
     "output_type": "execute_result"
    },
    {
     "data": {
      "image/png": "[encoded data removed]",
      "text/plain": [
       "<Figure size 432x288 with 1 Axes>"
      ]
     },
     "metadata": {
      "needs_background": "light"
     },
     "output_type": "display_data"
    }
   ],
   "source": [
    "import matplotlib.pyplot as plt\n",
    "plt.title(\"Histogram of logg values (primaries) of isochrone (BPASS)\")\n",
    "plt.hist(np.array([x for x in iso1.primaries['logg'] if np.isfinite(x)]), np.arange(-10, 30, 1))\n",
    "plt.xlabel(\"logg in cgs\")"
   ]
  },
  {
   "cell_type": "code",
   "execution_count": 16,
   "metadata": {},
   "outputs": [
    {
     "data": {
      "text/plain": [
       "Text(0.5, 0, 'logg in cgs')"
      ]
     },
     "execution_count": 16,
     "metadata": {},
     "output_type": "execute_result"
    },
    {
     "data": {
      "image/png": "[encoded data removed]",
      "text/plain": [
       "<Figure size 432x288 with 1 Axes>"
      ]
     },
     "metadata": {
      "needs_background": "light"
     },
     "output_type": "display_data"
    }
   ],
   "source": [
    "import matplotlib.pyplot as plt\n",
    "plt.title(\"Histogram of logg values single stars of isochrone (BPASS)\")\n",
    "plt.hist(np.array([x for x in iso1.singles['logg'] if np.isfinite(x)]), np.arange(0, 30, 1))\n",
    "plt.xlabel(\"logg in cgs\")"
   ]
  },
  {
   "cell_type": "code",
   "execution_count": 17,
   "metadata": {},
   "outputs": [
    {
     "data": {
      "text/plain": [
       "<matplotlib.legend.Legend at 0x7fef18cc7278>"
      ]
     },
     "execution_count": 17,
     "metadata": {},
     "output_type": "execute_result"
    },
    {
     "data": {
      "image/png": "[encoded data removed]",
      "text/plain": [
       "<Figure size 432x288 with 1 Axes>"
      ]
     },
     "metadata": {
      "needs_background": "light"
     },
     "output_type": "display_data"
    }
   ],
   "source": [
    "import matplotlib.pyplot as plt\n",
    "plt.plot(iso1.primaries['m_ubv_B']-iso1.primaries[\"m_ubv_V\"], iso1.primaries[\"m_ubv_V\"]-5*np.log10(100), \"r.\")\n",
    "plt.plot(iso1.secondaries['m_ubv_B']-iso1.secondaries[\"m_ubv_V\"], iso1.secondaries[\"m_ubv_V\"]-5*np.log10(100), \"r.\")\n",
    "plt.plot(iso1.singles['m_ubv_B']-iso1.singles[\"m_ubv_V\"], iso1.singles[\"m_ubv_V\"]-5*np.log10(100), \"r.\", label=\"BPASS isochrone\")\n",
    "plt.xlabel(\"B-V\")\n",
    "plt.ylabel(\"M_V\")\n",
    "plt.title(\"Color magnitude Diagram of Isochrones at 0.1 * solar metallicity and 10**7.0 years age\")\n",
    "plt.gca().invert_yaxis()\n",
    "plt.legend()"
   ]
  },
  {
   "cell_type": "code",
   "execution_count": 18,
   "metadata": {},
   "outputs": [
    {
     "name": "stderr",
     "output_type": "stream",
     "text": [
      "/opt/anaconda3/envs/astroconda/lib/python3.7/site-packages/astropy/table/column.py:1020: RuntimeWarning: invalid value encountered in less\n",
      "  result = getattr(super(), op)(other)\n"
     ]
    }
   ],
   "source": [
    "indices2= np.where((iso1.primaries['logg']>5) & (iso1.primaries['m_ubv_B']-iso1.primaries['m_ubv_V']>-0.4) & (iso1.primaries['m_ubv_B']-iso1.primaries['m_ubv_V']<-0.2))[0]"
   ]
  },
  {
   "cell_type": "code",
   "execution_count": 19,
   "metadata": {},
   "outputs": [
    {
     "name": "stderr",
     "output_type": "stream",
     "text": [
      "No handles with labels found to put in legend.\n"
     ]
    },
    {
     "data": {
      "text/plain": [
       "<matplotlib.legend.Legend at 0x7fef18d739e8>"
      ]
     },
     "execution_count": 19,
     "metadata": {},
     "output_type": "execute_result"
    },
    {
     "data": {
      "image/png": "[encoded data removed]",
      "text/plain": [
       "<Figure size 432x288 with 1 Axes>"
      ]
     },
     "metadata": {
      "needs_background": "light"
     },
     "output_type": "display_data"
    }
   ],
   "source": [
    "import matplotlib.pyplot as plt\n",
    "plt.plot(iso1.primaries[indices2]['m_ubv_B']-iso1.primaries[indices2][\"m_ubv_V\"], iso1.primaries[indices2][\"m_ubv_V\"]-5*np.log10(100), \"r.\")\n",
    "plt.xlabel(\"B-V\")\n",
    "plt.ylabel(\"M_V\")\n",
    "plt.title(\"Color magnitude Diagram of Isochrones at 1/10 th of solar metallicity and 10**7.0 years age (primary stars)\")\n",
    "plt.gca().invert_yaxis()\n",
    "plt.legend()"
   ]
  },
  {
   "cell_type": "code",
   "execution_count": 20,
   "metadata": {},
   "outputs": [
    {
     "data": {
      "text/html": [
       "&lt;Column name=&apos;phase&apos; dtype=&apos;float64&apos; length=1&gt;\n",
       "<table>\n",
       "<tr><td>5.0</td></tr>\n",
       "</table>"
      ],
      "text/plain": [
       "<Column name='phase' dtype='float64' length=1>\n",
       "5.0"
      ]
     },
     "execution_count": 20,
     "metadata": {},
     "output_type": "execute_result"
    }
   ],
   "source": [
    "np.unique(iso1.primaries[indices2]['phase'])"
   ]
  },
  {
   "cell_type": "code",
   "execution_count": 21,
   "metadata": {},
   "outputs": [
    {
     "data": {
      "text/html": [
       "&lt;Column name=&apos;mass&apos; dtype=&apos;float64&apos; unit=&apos;solMass&apos; length=4&gt;\n",
       "<table>\n",
       "<tr><td>20.0</td></tr>\n",
       "<tr><td>21.0</td></tr>\n",
       "<tr><td>22.0</td></tr>\n",
       "<tr><td>23.0</td></tr>\n",
       "</table>"
      ],
      "text/plain": [
       "<Column name='mass' dtype='float64' unit='solMass' length=4>\n",
       "20.0\n",
       "21.0\n",
       "22.0\n",
       "23.0"
      ]
     },
     "execution_count": 21,
     "metadata": {},
     "output_type": "execute_result"
    }
   ],
   "source": [
    "np.unique(iso1.primaries['mass'][indices2])"
   ]
  },
  {
   "cell_type": "code",
   "execution_count": 22,
   "metadata": {},
   "outputs": [
    {
     "data": {
      "text/html": [
       "&lt;Column name=&apos;L&apos; dtype=&apos;float64&apos; unit=&apos;W&apos; length=16&gt;\n",
       "<table>\n",
       "<tr><td>2.4360260552037668e+31</td></tr>\n",
       "<tr><td>2.649731868770922e+31</td></tr>\n",
       "<tr><td>2.737107969074306e+31</td></tr>\n",
       "<tr><td>2.8862365965728736e+31</td></tr>\n",
       "<tr><td>3.1398718923952595e+31</td></tr>\n",
       "<tr><td>3.5942801886847806e+31</td></tr>\n",
       "<tr><td>3.7926426895250135e+31</td></tr>\n",
       "<tr><td>3.9309899102099174e+31</td></tr>\n",
       "<tr><td>7.171201556281611e+31</td></tr>\n",
       "<tr><td>7.302337966952693e+31</td></tr>\n",
       "<tr><td>7.505021299181804e+31</td></tr>\n",
       "<tr><td>7.550260380676108e+31</td></tr>\n",
       "<tr><td>7.638919424522451e+31</td></tr>\n",
       "<tr><td>7.85202961812623e+31</td></tr>\n",
       "<tr><td>8.24996163804931e+31</td></tr>\n",
       "<tr><td>8.384591897986502e+31</td></tr>\n",
       "</table>"
      ],
      "text/plain": [
       "<Column name='L' dtype='float64' unit='W' length=16>\n",
       "2.4360260552037668e+31\n",
       " 2.649731868770922e+31\n",
       " 2.737107969074306e+31\n",
       "2.8862365965728736e+31\n",
       "3.1398718923952595e+31\n",
       "3.5942801886847806e+31\n",
       "3.7926426895250135e+31\n",
       "3.9309899102099174e+31\n",
       " 7.171201556281611e+31\n",
       " 7.302337966952693e+31\n",
       " 7.505021299181804e+31\n",
       " 7.550260380676108e+31\n",
       " 7.638919424522451e+31\n",
       "  7.85202961812623e+31\n",
       "  8.24996163804931e+31\n",
       " 8.384591897986502e+31"
      ]
     },
     "execution_count": 22,
     "metadata": {},
     "output_type": "execute_result"
    }
   ],
   "source": [
    "np.unique(iso1.primaries['L'][indices2])"
   ]
  },
  {
   "cell_type": "code",
   "execution_count": 23,
   "metadata": {},
   "outputs": [
    {
     "data": {
      "text/html": [
       "&lt;Column name=&apos;logg&apos; dtype=&apos;float64&apos; unit=&apos;&apos; length=16&gt;\n",
       "<table>\n",
       "<tr><td>5.024202116463917</td></tr>\n",
       "<tr><td>5.061558487960439</td></tr>\n",
       "<tr><td>5.136792450400724</td></tr>\n",
       "<tr><td>5.190941170603799</td></tr>\n",
       "<tr><td>5.205510688421058</td></tr>\n",
       "<tr><td>5.214966592253111</td></tr>\n",
       "<tr><td>5.2309079561214435</td></tr>\n",
       "<tr><td>5.245896886872775</td></tr>\n",
       "<tr><td>5.2786831185363</td></tr>\n",
       "<tr><td>5.344039935504237</td></tr>\n",
       "<tr><td>5.351165186204691</td></tr>\n",
       "<tr><td>5.372836722707263</td></tr>\n",
       "<tr><td>5.374354296930219</td></tr>\n",
       "<tr><td>5.380393680712049</td></tr>\n",
       "<tr><td>5.390595672236337</td></tr>\n",
       "<tr><td>5.428887511824536</td></tr>\n",
       "</table>"
      ],
      "text/plain": [
       "<Column name='logg' dtype='float64' unit='' length=16>\n",
       " 5.024202116463917\n",
       " 5.061558487960439\n",
       " 5.136792450400724\n",
       " 5.190941170603799\n",
       " 5.205510688421058\n",
       " 5.214966592253111\n",
       "5.2309079561214435\n",
       " 5.245896886872775\n",
       "   5.2786831185363\n",
       " 5.344039935504237\n",
       " 5.351165186204691\n",
       " 5.372836722707263\n",
       " 5.374354296930219\n",
       " 5.380393680712049\n",
       " 5.390595672236337\n",
       " 5.428887511824536"
      ]
     },
     "execution_count": 23,
     "metadata": {},
     "output_type": "execute_result"
    }
   ],
   "source": [
    "np.unique(iso1.primaries['logg'][indices2])"
   ]
  },
  {
   "cell_type": "code",
   "execution_count": 24,
   "metadata": {},
   "outputs": [
    {
     "data": {
      "text/html": [
       "&lt;Column name=&apos;phase&apos; dtype=&apos;float64&apos; length=1&gt;\n",
       "<table>\n",
       "<tr><td>5.0</td></tr>\n",
       "</table>"
      ],
      "text/plain": [
       "<Column name='phase' dtype='float64' length=1>\n",
       "5.0"
      ]
     },
     "execution_count": 24,
     "metadata": {},
     "output_type": "execute_result"
    }
   ],
   "source": [
    "np.unique(iso1.primaries['phase'][indices2])"
   ]
  },
  {
   "cell_type": "code",
   "execution_count": 25,
   "metadata": {},
   "outputs": [
    {
     "data": {
      "text/html": [
       "<i>Table length=16</i>\n",
       "<table id=\"table140664369194488\" class=\"table-striped table-bordered table-condensed\">\n",
       "<thead><tr><th>mass</th><th>L</th><th>Teff</th><th>R</th><th>logg</th><th>isWR</th><th>mass_current</th><th>phase</th><th>source</th><th>m_ubv_U</th><th>m_ubv_V</th><th>m_ubv_B</th><th>m_ubv_R</th><th>m_ubv_I</th></tr></thead>\n",
       "<thead><tr><th>solMass</th><th>W</th><th>K</th><th>m</th><th></th><th></th><th>solMass</th><th></th><th></th><th></th><th></th><th></th><th></th><th></th></tr></thead>\n",
       "<thead><tr><th>float64</th><th>float64</th><th>float64</th><th>float64</th><th>float64</th><th>bool</th><th>float64</th><th>float64</th><th>int64</th><th>float64</th><th>float64</th><th>float64</th><th>float64</th><th>float64</th></tr></thead>\n",
       "<tr><td>22.0</td><td>7.85202961812623e+31</td><td>115931.1115741655</td><td>781052387.4083085</td><td>5.214966592253111</td><td>True</td><td>7.56622</td><td>5.0</td><td>1</td><td>8.07257859709467</td><td>9.508076520382987</td><td>9.183180421469709</td><td>9.638245503187289</td><td>9.913819219746564</td></tr>\n",
       "<tr><td>20.0</td><td>2.4360260552037668e+31</td><td>93529.79877885367</td><td>668390339.4675162</td><td>5.2786831185363</td><td>True</td><td>6.41646</td><td>5.0</td><td>1</td><td>8.410828597094676</td><td>9.846326520382993</td><td>9.521430421469715</td><td>9.976495503187296</td><td>10.25206921974657</td></tr>\n",
       "<tr><td>21.0</td><td>3.9309899102099174e+31</td><td>110685.31363300623</td><td>606261743.6337104</td><td>5.390595672236337</td><td>True</td><td>6.83043</td><td>5.0</td><td>1</td><td>8.622678597094673</td><td>10.05817652038299</td><td>9.73328042146971</td><td>10.188345503187291</td><td>10.463919219746565</td></tr>\n",
       "<tr><td>21.0</td><td>3.7926426895250135e+31</td><td>108862.92523940327</td><td>615602201.4258791</td><td>5.372836722707263</td><td>True</td><td>6.76066</td><td>5.0</td><td>1</td><td>8.589478597094674</td><td>10.02497652038299</td><td>9.700080421469712</td><td>10.155145503187294</td><td>10.430719219746567</td></tr>\n",
       "<tr><td>23.0</td><td>7.550260380676108e+31</td><td>124933.81446284574</td><td>659492960.5331477</td><td>5.351165186204691</td><td>True</td><td>7.38104</td><td>5.0</td><td>1</td><td>8.439928597094674</td><td>9.875426520382991</td><td>9.550530421469713</td><td>10.005595503187292</td><td>10.281169219746568</td></tr>\n",
       "<tr><td>21.0</td><td>7.171201556281611e+31</td><td>105618.50113788509</td><td>899301181.9827601</td><td>5.061558487960439</td><td>True</td><td>7.04516</td><td>5.0</td><td>1</td><td>7.766453597094676</td><td>9.201951520382993</td><td>8.877055421469713</td><td>9.332120503187294</td><td>9.607694219746568</td></tr>\n",
       "<tr><td>23.0</td><td>8.24996163804931e+31</td><td>127802.69147745751</td><td>658772048.982126</td><td>5.380393680712049</td><td>True</td><td>7.87782</td><td>5.0</td><td>1</td><td>8.442303597094673</td><td>9.87780152038299</td><td>9.552905421469712</td><td>10.007970503187291</td><td>10.283544219746565</td></tr>\n",
       "<tr><td>21.0</td><td>7.302337966952693e+31</td><td>103497.53349202067</td><td>945061702.4267917</td><td>5.024202116463917</td><td>True</td><td>7.13961</td><td>5.0</td><td>1</td><td>7.658678597094671</td><td>9.094176520382986</td><td>8.769280421469707</td><td>9.224345503187289</td><td>9.499919219746564</td></tr>\n",
       "<tr><td>20.0</td><td>2.8862365965728736e+31</td><td>91440.79642646371</td><td>761158609.7704492</td><td>5.190941170603799</td><td>True</td><td>6.79882</td><td>5.0</td><td>1</td><td>8.128603597094676</td><td>9.564101520382993</td><td>9.239205421469714</td><td>9.694270503187296</td><td>9.96984421974657</td></tr>\n",
       "<tr><td>20.0</td><td>2.649731868770922e+31</td><td>92255.01844071769</td><td>716490050.9182891</td><td>5.2309079561214435</td><td>True</td><td>6.60481</td><td>5.0</td><td>1</td><td>8.259928597094676</td><td>9.695426520382993</td><td>9.370530421469715</td><td>9.825595503187294</td><td>10.101169219746568</td></tr>\n",
       "<tr><td>22.0</td><td>7.505021299181804e+31</td><td>117665.73175493258</td><td>741250781.4544717</td><td>5.245896886872775</td><td>True</td><td>7.31761</td><td>5.0</td><td>1</td><td>8.186153597094671</td><td>9.621651520382986</td><td>9.296755421469708</td><td>9.75182050318729</td><td>10.027394219746563</td></tr>\n",
       "<tr><td>20.0</td><td>2.737107969074306e+31</td><td>91287.22387492147</td><td>743729767.3560802</td><td>5.205510688421058</td><td>True</td><td>6.71279</td><td>5.0</td><td>1</td><td>8.178903597094678</td><td>9.614401520382993</td><td>9.289505421469714</td><td>9.744570503187294</td><td>10.02014421974657</td></tr>\n",
       "<tr><td>21.0</td><td>3.5942801886847806e+31</td><td>111827.85637507893</td><td>567930462.9503603</td><td>5.428887511824536</td><td>True</td><td>6.54636</td><td>5.0</td><td>1</td><td>8.76450359709467</td><td>10.200001520382987</td><td>9.875105421469708</td><td>10.330170503187288</td><td>10.605744219746564</td></tr>\n",
       "<tr><td>20.0</td><td>3.1398718923952595e+31</td><td>89823.50548648236</td><td>822744834.3304073</td><td>5.136792450400724</td><td>True</td><td>7.01237</td><td>5.0</td><td>1</td><td>7.959653597094673</td><td>9.395151520382987</td><td>9.070255421469708</td><td>9.52532050318729</td><td>9.800894219746565</td></tr>\n",
       "<tr><td>23.0</td><td>7.638919424522451e+31</td><td>124474.38809506556</td><td>668259535.0897164</td><td>5.344039935504237</td><td>True</td><td>7.45508</td><td>5.0</td><td>1</td><td>8.411253597094676</td><td>9.846751520382993</td><td>9.521855421469715</td><td>9.976920503187294</td><td>10.252494219746568</td></tr>\n",
       "<tr><td>23.0</td><td>8.384591897986502e+31</td><td>127476.46156040103</td><td>667529040.5329026</td><td>5.374354296930219</td><td>True</td><td>7.97713</td><td>5.0</td><td>1</td><td>8.413628597094675</td><td>9.84912652038299</td><td>9.524230421469714</td><td>9.979295503187293</td><td>10.254869219746569</td></tr>\n",
       "</table>"
      ],
      "text/plain": [
       "<Table length=16>\n",
       "  mass            L            ...      m_ubv_R            m_ubv_I      \n",
       "solMass           W            ...                                      \n",
       "float64        float64         ...      float64            float64      \n",
       "------- ---------------------- ... ------------------ ------------------\n",
       "   22.0   7.85202961812623e+31 ...  9.638245503187289  9.913819219746564\n",
       "   20.0 2.4360260552037668e+31 ...  9.976495503187296  10.25206921974657\n",
       "   21.0 3.9309899102099174e+31 ... 10.188345503187291 10.463919219746565\n",
       "   21.0 3.7926426895250135e+31 ... 10.155145503187294 10.430719219746567\n",
       "   23.0  7.550260380676108e+31 ... 10.005595503187292 10.281169219746568\n",
       "   21.0  7.171201556281611e+31 ...  9.332120503187294  9.607694219746568\n",
       "   23.0   8.24996163804931e+31 ... 10.007970503187291 10.283544219746565\n",
       "   21.0  7.302337966952693e+31 ...  9.224345503187289  9.499919219746564\n",
       "   20.0 2.8862365965728736e+31 ...  9.694270503187296   9.96984421974657\n",
       "   20.0  2.649731868770922e+31 ...  9.825595503187294 10.101169219746568\n",
       "   22.0  7.505021299181804e+31 ...   9.75182050318729 10.027394219746563\n",
       "   20.0  2.737107969074306e+31 ...  9.744570503187294  10.02014421974657\n",
       "   21.0 3.5942801886847806e+31 ... 10.330170503187288 10.605744219746564\n",
       "   20.0 3.1398718923952595e+31 ...   9.52532050318729  9.800894219746565\n",
       "   23.0  7.638919424522451e+31 ...  9.976920503187294 10.252494219746568\n",
       "   23.0  8.384591897986502e+31 ...  9.979295503187293 10.254869219746569"
      ]
     },
     "execution_count": 25,
     "metadata": {},
     "output_type": "execute_result"
    }
   ],
   "source": [
    "iso1.primaries[indices2]"
   ]
  },
  {
   "cell_type": "code",
   "execution_count": 26,
   "metadata": {},
   "outputs": [
    {
     "data": {
      "text/plain": [
       "<matplotlib.legend.Legend at 0x7feef9c40e10>"
      ]
     },
     "execution_count": 26,
     "metadata": {},
     "output_type": "execute_result"
    },
    {
     "data": {
      "image/png": "[encoded data removed]",
      "text/plain": [
       "<Figure size 432x288 with 1 Axes>"
      ]
     },
     "metadata": {
      "needs_background": "light"
     },
     "output_type": "display_data"
    }
   ],
   "source": [
    "import matplotlib.pyplot as plt\n",
    "plt.plot(iso1.secondaries['m_ubv_B']-iso1.secondaries[\"m_ubv_V\"], iso1.secondaries[\"m_ubv_V\"]-5*np.log10(100), \"r.\", label=\"Secondary stars BPASS isochrone\")\n",
    "plt.xlabel(\"B-V\")\n",
    "plt.ylabel(\"M_V\")\n",
    "plt.title(\"Color magnitude Diagram of Isochrones at 0.1 * solar metallicity and 10**7 years age\")\n",
    "plt.gca().invert_yaxis()\n",
    "plt.legend()"
   ]
  },
  {
   "cell_type": "code",
   "execution_count": 27,
   "metadata": {},
   "outputs": [
    {
     "data": {
      "text/html": [
       "<i>Table length=0</i>\n",
       "<table id=\"table140664369042488\" class=\"table-striped table-bordered table-condensed\">\n",
       "<thead><tr><th>mass</th><th>log_a</th><th>L</th><th>Teff</th><th>R</th><th>logg</th><th>isWR</th><th>mass_current</th><th>phase</th><th>merged</th><th>source</th><th>m_ubv_U</th><th>m_ubv_V</th><th>m_ubv_B</th><th>m_ubv_R</th><th>m_ubv_I</th></tr></thead>\n",
       "<thead><tr><th>solMass</th><th></th><th>W</th><th>K</th><th>m</th><th></th><th></th><th>solMass</th><th></th><th></th><th></th><th></th><th></th><th></th><th></th><th></th></tr></thead>\n",
       "<thead><tr><th>float64</th><th>float64</th><th>float64</th><th>float64</th><th>float64</th><th>float64</th><th>bool</th><th>float64</th><th>float64</th><th>bool</th><th>int64</th><th>float64</th><th>float64</th><th>float64</th><th>float64</th><th>float64</th></tr></thead>\n",
       "</table>"
      ],
      "text/plain": [
       "<Table length=0>\n",
       "  mass   log_a     L      Teff     R    ... m_ubv_V m_ubv_B m_ubv_R m_ubv_I\n",
       "solMass            W       K       m    ...                                \n",
       "float64 float64 float64 float64 float64 ... float64 float64 float64 float64\n",
       "------- ------- ------- ------- ------- ... ------- ------- ------- -------"
      ]
     },
     "execution_count": 27,
     "metadata": {},
     "output_type": "execute_result"
    }
   ],
   "source": [
    "iso1.secondaries[np.where((iso1.secondaries['m_ubv_V']>30) & ((iso1.secondaries['m_ubv_B']-iso1.secondaries['m_ubv_V'])<-1))[0]]"
   ]
  },
  {
   "cell_type": "markdown",
   "metadata": {},
   "source": [
    "Hmm, I think those are stars that are going to be white dwarves very soon or may unintentionally be brown dwarves. At least according to HOKI's criterion for what is a white dwarf or not. At the very least, at least the stars we just saw were low mass stars so they should be **LOW** on the CMD"
   ]
  },
  {
   "cell_type": "code",
   "execution_count": 28,
   "metadata": {},
   "outputs": [
    {
     "name": "stdout",
     "output_type": "stream",
     "text": [
      "Changing to logg=4.00 for T= 34026 logg=4.00\n",
      "Changing to logg=4.00 for T= 33967 logg=3.99\n",
      "Changing to logg=4.00 for T= 33904 logg=3.98\n",
      "Changing to logg=4.00 for T= 33836 logg=3.97\n",
      "Changing to logg=4.00 for T= 33765 logg=3.96\n",
      "Changing to logg=4.00 for T= 33692 logg=3.95\n",
      "Changing to logg=4.00 for T= 33617 logg=3.94\n",
      "Changing to logg=4.00 for T= 33542 logg=3.93\n",
      "Changing to logg=4.00 for T= 33465 logg=3.92\n",
      "Changing to logg=4.00 for T= 33386 logg=3.91\n",
      "Changing to logg=4.00 for T= 33306 logg=3.90\n",
      "Changing to logg=4.00 for T= 33224 logg=3.89\n",
      "Changing to logg=4.00 for T= 33141 logg=3.88\n",
      "Changing to logg=4.00 for T= 33056 logg=3.87\n",
      "Changing to logg=4.00 for T= 32970 logg=3.86\n",
      "Changing to logg=4.00 for T= 32884 logg=3.85\n",
      "Changing to logg=4.00 for T= 32798 logg=3.84\n",
      "Changing to logg=4.00 for T= 32711 logg=3.83\n",
      "Changing to logg=4.00 for T= 32633 logg=3.82\n",
      "Changing to logg=4.00 for T= 32555 logg=3.81\n",
      "Changing to logg=4.00 for T= 32477 logg=3.80\n",
      "Changing to logg=4.00 for T= 32401 logg=3.80\n",
      "Changing to logg=4.00 for T= 32325 logg=3.79\n",
      "Changing to logg=4.00 for T= 32253 logg=3.78\n",
      "Changing to logg=4.00 for T= 32184 logg=3.77\n",
      "Changing to logg=4.00 for T= 32123 logg=3.76\n",
      "Changing to logg=4.00 for T= 32082 logg=3.75\n",
      "Changing to logg=4.00 for T= 32056 logg=3.74\n",
      "Changing to logg=4.00 for T= 32058 logg=3.74\n",
      "Changing to logg=4.00 for T= 32098 logg=3.74\n",
      "Changing to logg=4.00 for T= 32172 logg=3.74\n",
      "Changing to logg=4.00 for T= 32268 logg=3.74\n",
      "Changing to logg=4.00 for T= 32374 logg=3.74\n",
      "Changing to logg=4.00 for T= 32488 logg=3.74\n",
      "Changing to logg=4.00 for T= 32607 logg=3.75\n",
      "Changing to logg=4.00 for T= 32728 logg=3.75\n",
      "Changing to logg=4.00 for T= 32850 logg=3.76\n",
      "Changing to logg=4.00 for T= 32973 logg=3.76\n",
      "Changing to logg=4.00 for T= 33097 logg=3.77\n",
      "Changing to logg=4.00 for T= 33220 logg=3.77\n",
      "Changing to logg=4.00 for T= 33341 logg=3.78\n",
      "Changing to logg=4.00 for T= 33461 logg=3.78\n",
      "Changing to logg=4.00 for T= 33578 logg=3.79\n",
      "Changing to logg=4.00 for T= 33693 logg=3.79\n",
      "Changing to logg=4.00 for T= 33804 logg=3.80\n",
      "Changing to logg=4.00 for T= 33913 logg=3.80\n",
      "Changing to logg=4.00 for T= 34018 logg=3.80\n",
      "Changing to logg=4.00 for T= 34119 logg=3.81\n",
      "Changing to logg=4.00 for T= 34216 logg=3.81\n",
      "Changing to logg=4.00 for T= 34309 logg=3.81\n",
      "Changing to logg=4.00 for T= 34398 logg=3.82\n",
      "Changing to logg=4.00 for T= 34483 logg=3.82\n",
      "Changing to logg=4.00 for T= 34563 logg=3.82\n",
      "Changing to logg=4.00 for T= 34639 logg=3.82\n",
      "Changing to logg=4.00 for T= 34711 logg=3.82\n",
      "Changing to logg=4.00 for T= 34779 logg=3.83\n",
      "Changing to logg=4.00 for T= 34842 logg=3.83\n",
      "Changing to logg=4.00 for T= 34899 logg=3.83\n",
      "Changing to logg=4.00 for T= 34951 logg=3.83\n",
      "Changing to logg=4.00 for T= 34995 logg=3.83\n",
      "Changing to logg=4.00 for T= 35032 logg=3.83\n",
      "Changing to logg=4.00 for T= 35058 logg=3.83\n",
      "Changing to logg=4.00 for T= 35070 logg=3.83\n",
      "Changing to logg=4.00 for T= 35064 logg=3.83\n",
      "Changing to logg=4.00 for T= 35042 logg=3.83\n",
      "Changing to logg=4.00 for T= 35000 logg=3.83\n",
      "Changing to logg=4.00 for T= 34930 logg=3.83\n",
      "Changing to logg=4.00 for T= 34850 logg=3.83\n",
      "Changing to logg=4.00 for T= 34760 logg=3.83\n",
      "Changing to logg=4.00 for T= 34657 logg=3.82\n",
      "Changing to logg=4.00 for T= 34551 logg=3.82\n",
      "Changing to logg=4.00 for T= 34444 logg=3.81\n",
      "Changing to logg=4.00 for T= 34341 logg=3.81\n",
      "Changing to logg=4.00 for T= 34230 logg=3.80\n",
      "Changing to logg=4.00 for T= 34127 logg=3.80\n",
      "Changing to logg=4.00 for T= 34021 logg=3.79\n",
      "Changing to logg=4.00 for T= 33911 logg=3.78\n",
      "Changing to logg=4.00 for T= 33812 logg=3.78\n",
      "Changing to logg=4.00 for T= 33710 logg=3.77\n",
      "Changing to logg=4.00 for T= 33603 logg=3.76\n",
      "Changing to logg=4.00 for T= 33563 logg=3.76\n",
      "Changing to logg=4.00 for T= 33522 logg=3.75\n",
      "Changing to logg=4.00 for T= 33478 logg=3.75\n",
      "Changing to logg=4.00 for T= 33434 logg=3.75\n",
      "Changing to logg=4.00 for T= 33392 logg=3.74\n",
      "Changing to logg=4.00 for T= 33349 logg=3.74\n",
      "Changing to logg=4.00 for T= 33303 logg=3.74\n",
      "Changing to logg=4.00 for T= 33258 logg=3.73\n",
      "Changing to logg=4.00 for T= 33214 logg=3.73\n",
      "Changing to logg=4.00 for T= 33170 logg=3.73\n",
      "Changing to logg=4.00 for T= 33124 logg=3.73\n",
      "Changing to logg=4.00 for T= 33078 logg=3.72\n",
      "Changing to logg=4.00 for T= 33032 logg=3.72\n",
      "Changing to logg=4.00 for T= 32985 logg=3.72\n",
      "Changing to logg=4.00 for T= 32937 logg=3.71\n",
      "Changing to logg=4.00 for T= 32890 logg=3.71\n",
      "Changing to logg=4.00 for T= 32842 logg=3.71\n",
      "Changing to logg=4.00 for T= 32795 logg=3.70\n",
      "Changing to logg=4.00 for T= 32747 logg=3.70\n",
      "Changing to logg=4.00 for T= 32698 logg=3.70\n",
      "Changing to logg=4.00 for T= 32650 logg=3.69\n",
      "Changing to logg=4.00 for T= 32601 logg=3.69\n",
      "Changing to logg=4.00 for T= 32553 logg=3.69\n",
      "Changing to logg=4.00 for T= 32504 logg=3.69\n",
      "Changing to logg=4.00 for T= 32455 logg=3.68\n",
      "Changing to logg=4.00 for T= 32406 logg=3.68\n",
      "Changing to logg=4.00 for T= 32357 logg=3.68\n",
      "Changing to logg=4.00 for T= 32308 logg=3.67\n",
      "Changing to logg=4.00 for T= 32258 logg=3.67\n",
      "Changing to logg=4.00 for T= 32209 logg=3.67\n",
      "Changing to logg=4.00 for T= 32160 logg=3.67\n",
      "Changing to logg=4.00 for T= 32110 logg=3.66\n",
      "Changing to logg=4.00 for T= 32060 logg=3.66\n",
      "Changing to logg=4.00 for T= 32011 logg=3.66\n",
      "Changing to logg=4.00 for T= 31961 logg=3.65\n",
      "Changing to logg=4.00 for T= 31912 logg=3.65\n",
      "Changing to logg=4.00 for T= 31862 logg=3.65\n",
      "Changing to logg=4.00 for T= 31812 logg=3.64\n",
      "Changing to logg=4.00 for T= 31763 logg=3.64\n",
      "Changing to logg=4.00 for T= 31713 logg=3.64\n",
      "Changing to logg=4.00 for T= 31663 logg=3.64\n",
      "Changing to logg=4.00 for T= 31613 logg=3.63\n",
      "Changing to logg=4.00 for T= 31563 logg=3.63\n",
      "Changing to logg=4.00 for T= 31513 logg=3.63\n",
      "Changing to logg=4.00 for T= 31463 logg=3.62\n",
      "Changing to logg=4.00 for T= 31413 logg=3.62\n",
      "Changing to logg=4.00 for T= 31363 logg=3.62\n",
      "Changing to logg=4.00 for T= 31313 logg=3.61\n",
      "Changing to logg=4.00 for T= 31263 logg=3.61\n",
      "Changing to logg=4.00 for T= 31213 logg=3.61\n",
      "Changing to logg=4.00 for T= 31163 logg=3.61\n",
      "Changing to logg=4.00 for T= 31113 logg=3.60\n",
      "Changing to logg=4.00 for T= 31063 logg=3.60\n",
      "Changing to logg=4.00 for T= 31013 logg=3.60\n",
      "Changing to logg=3.50 for T= 29504 logg=3.50\n",
      "Changing to logg=3.50 for T= 29453 logg=3.50\n",
      "Changing to logg=3.50 for T= 29401 logg=3.49\n",
      "Changing to logg=3.50 for T= 29350 logg=3.49\n",
      "Changing to logg=3.50 for T= 29299 logg=3.49\n",
      "Changing to logg=3.50 for T= 29248 logg=3.48\n",
      "Changing to logg=3.50 for T= 29196 logg=3.48\n",
      "Changing to logg=3.50 for T= 29145 logg=3.47\n",
      "Changing to logg=3.50 for T= 29093 logg=3.47\n",
      "Changing to logg=3.50 for T= 29042 logg=3.47\n",
      "Changing to logg=3.50 for T= 28990 logg=3.46\n",
      "Changing to logg=3.50 for T= 28939 logg=3.46\n",
      "Changing to logg=3.50 for T= 28887 logg=3.46\n",
      "Changing to logg=3.50 for T= 28835 logg=3.45\n",
      "Changing to logg=3.50 for T= 28784 logg=3.45\n",
      "Changing to logg=3.50 for T= 28732 logg=3.45\n",
      "Changing to logg=3.50 for T= 28680 logg=3.44\n",
      "Changing to logg=3.50 for T= 28629 logg=3.44\n",
      "Changing to logg=3.50 for T= 28577 logg=3.44\n",
      "Changing to logg=3.50 for T= 28526 logg=3.43\n",
      "Changing to logg=3.50 for T= 28474 logg=3.43\n",
      "Changing to logg=3.50 for T= 28423 logg=3.42\n",
      "Changing to logg=3.50 for T= 28371 logg=3.42\n",
      "Changing to logg=3.50 for T= 28320 logg=3.42\n",
      "Changing to logg=3.50 for T= 28269 logg=3.41\n",
      "Changing to logg=3.50 for T= 28218 logg=3.41\n",
      "Changing to logg=3.50 for T= 28167 logg=3.41\n",
      "Changing to logg=3.50 for T= 28116 logg=3.40\n",
      "Changing to logg=3.50 for T= 28065 logg=3.40\n",
      "Changing to logg=3.50 for T= 28014 logg=3.39\n",
      "Changing to logg=3.50 for T= 27964 logg=3.39\n",
      "Changing to logg=3.50 for T= 27913 logg=3.39\n",
      "Changing to logg=3.50 for T= 27863 logg=3.38\n",
      "Changing to logg=3.50 for T= 27813 logg=3.38\n",
      "Changing to logg=3.50 for T= 27763 logg=3.38\n",
      "Changing to logg=3.50 for T= 27713 logg=3.37\n",
      "Changing to logg=3.50 for T= 27663 logg=3.37\n",
      "Changing to logg=3.50 for T= 27613 logg=3.36\n",
      "Changing to logg=3.50 for T= 27564 logg=3.36\n",
      "Changing to logg=3.50 for T= 27514 logg=3.36\n",
      "Changing to logg=3.50 for T= 27465 logg=3.35\n",
      "Changing to logg=3.50 for T= 27415 logg=3.35\n",
      "Changing to logg=3.50 for T= 27366 logg=3.34\n",
      "Changing to logg=3.50 for T= 27317 logg=3.34\n",
      "Changing to logg=3.50 for T= 27269 logg=3.34\n",
      "Changing to logg=3.50 for T= 27220 logg=3.33\n",
      "Changing to logg=3.50 for T= 27171 logg=3.33\n",
      "Changing to logg=3.50 for T= 27123 logg=3.33\n",
      "Changing to logg=3.50 for T= 27074 logg=3.32\n",
      "Changing to logg=3.50 for T= 27026 logg=3.32\n",
      "Changing to logg=3.50 for T= 26978 logg=3.31\n"
     ]
    },
    {
     "name": "stdout",
     "output_type": "stream",
     "text": [
      "Changing to logg=3.50 for T= 26930 logg=3.31\n",
      "Changing to logg=3.50 for T= 26882 logg=3.31\n",
      "Changing to logg=3.50 for T= 26834 logg=3.30\n",
      "Changing to logg=3.50 for T= 26786 logg=3.30\n",
      "Changing to logg=3.50 for T= 26739 logg=3.29\n",
      "Changing to logg=3.50 for T= 26691 logg=3.29\n",
      "Changing to logg=3.50 for T= 26644 logg=3.29\n",
      "Changing to logg=3.50 for T= 26597 logg=3.28\n",
      "Changing to logg=3.50 for T= 26550 logg=3.28\n",
      "Changing to logg=3.50 for T= 26503 logg=3.27\n",
      "Changing to logg=3.50 for T= 26456 logg=3.27\n",
      "Changing to logg=3.50 for T= 26409 logg=3.27\n",
      "Changing to logg=3.50 for T= 26363 logg=3.26\n",
      "Changing to logg=3.50 for T= 26316 logg=3.26\n",
      "Changing to logg=3.50 for T= 26270 logg=3.25\n",
      "Changing to logg=3.50 for T= 26223 logg=3.25\n",
      "Changing to logg=3.50 for T= 26177 logg=3.25\n",
      "Changing to logg=3.50 for T= 26168 logg=3.25\n",
      "Changing to logg=3.50 for T= 26159 logg=3.25\n",
      "Changing to logg=3.50 for T= 26149 logg=3.24\n",
      "Changing to logg=3.50 for T= 26140 logg=3.24\n",
      "Changing to logg=3.50 for T= 26131 logg=3.24\n",
      "Changing to logg=3.50 for T= 26122 logg=3.24\n",
      "Changing to logg=3.50 for T= 26112 logg=3.24\n",
      "Changing to logg=3.50 for T= 26103 logg=3.24\n",
      "Changing to logg=3.50 for T= 26094 logg=3.24\n",
      "Changing to logg=3.50 for T= 26085 logg=3.24\n",
      "Changing to logg=3.50 for T= 26076 logg=3.24\n",
      "Changing to logg=3.50 for T= 26066 logg=3.24\n",
      "Changing to logg=3.50 for T= 26057 logg=3.24\n",
      "Changing to logg=3.50 for T= 26048 logg=3.24\n",
      "Changing to logg=3.50 for T= 26039 logg=3.24\n",
      "Changing to logg=3.50 for T= 26030 logg=3.23\n",
      "Changing to logg=3.50 for T= 26021 logg=3.23\n",
      "Changing to logg=3.50 for T= 26011 logg=3.23\n",
      "Changing to logg=3.50 for T= 26002 logg=3.23\n",
      "Changing to logg=3.00 for T= 23483 logg=2.99\n",
      "Changing to logg=3.00 for T= 23347 logg=2.98\n",
      "Changing to logg=3.00 for T= 23211 logg=2.96\n",
      "Changing to logg=3.00 for T= 23075 logg=2.95\n",
      "Changing to logg=3.00 for T= 22939 logg=2.94\n",
      "Changing to logg=3.00 for T= 22804 logg=2.92\n",
      "Changing to logg=3.00 for T= 22671 logg=2.91\n",
      "Changing to logg=3.00 for T= 22540 logg=2.90\n",
      "Changing to logg=3.00 for T= 22410 logg=2.88\n",
      "Changing to logg=3.00 for T= 22279 logg=2.87\n",
      "Changing to logg=3.00 for T= 22147 logg=2.86\n",
      "Changing to logg=3.00 for T= 22015 logg=2.85\n",
      "Changing to logg=3.00 for T= 21884 logg=2.83\n",
      "Changing to logg=3.00 for T= 21752 logg=2.82\n",
      "Changing to logg=3.00 for T= 21620 logg=2.81\n",
      "Changing to logg=3.00 for T= 21489 logg=2.79\n",
      "Changing to logg=3.00 for T= 21359 logg=2.78\n",
      "Changing to logg=3.00 for T= 21228 logg=2.77\n",
      "Changing to logg=3.00 for T= 21098 logg=2.76\n",
      "Changing to logg=3.00 for T= 20968 logg=2.74\n",
      "Changing to logg=3.00 for T= 20839 logg=2.73\n",
      "Changing to logg=3.00 for T= 20710 logg=2.72\n",
      "Changing to logg=3.00 for T= 20582 logg=2.71\n",
      "Changing to logg=3.00 for T= 20454 logg=2.70\n",
      "Changing to logg=3.00 for T= 20326 logg=2.68\n",
      "Changing to logg=3.00 for T= 20200 logg=2.67\n",
      "Changing to logg=3.00 for T= 20076 logg=2.66\n",
      "Changing to logg=3.00 for T= 19958 logg=2.65\n",
      "Changing to logg=3.00 for T= 19835 logg=2.64\n",
      "Changing to logg=3.00 for T= 19712 logg=2.62\n",
      "Changing to logg=3.00 for T= 19589 logg=2.61\n",
      "Changing to logg=3.00 for T= 19467 logg=2.60\n",
      "Changing to logg=3.00 for T= 19345 logg=2.59\n",
      "Changing to logg=3.00 for T= 19224 logg=2.58\n",
      "Changing to logg=3.00 for T= 19103 logg=2.56\n",
      "Changing to logg=2.50 for T= 18387 logg=2.49\n",
      "Changing to logg=2.50 for T= 18270 logg=2.48\n",
      "Changing to logg=2.50 for T= 18153 logg=2.47\n",
      "Changing to logg=2.50 for T= 18038 logg=2.46\n",
      "Changing to logg=2.50 for T= 17923 logg=2.45\n",
      "Changing to logg=2.50 for T= 17809 logg=2.44\n",
      "Changing to logg=2.50 for T= 17695 logg=2.42\n",
      "Changing to logg=2.50 for T= 17582 logg=2.41\n",
      "Changing to logg=2.50 for T= 17470 logg=2.40\n",
      "Changing to logg=2.50 for T= 17359 logg=2.39\n",
      "Changing to logg=2.50 for T= 17249 logg=2.38\n",
      "Changing to logg=2.50 for T= 17140 logg=2.37\n",
      "Changing to logg=2.50 for T= 17032 logg=2.36\n",
      "Changing to logg=2.50 for T= 16926 logg=2.35\n",
      "Changing to logg=2.50 for T= 16821 logg=2.34\n",
      "Changing to logg=2.50 for T= 16718 logg=2.33\n",
      "Changing to logg=2.50 for T= 16618 logg=2.32\n",
      "Changing to logg=2.50 for T= 16521 logg=2.31\n",
      "Changing to logg=2.50 for T= 16428 logg=2.30\n",
      "Changing to logg=2.50 for T= 16340 logg=2.29\n",
      "Changing to logg=2.50 for T= 16256 logg=2.28\n",
      "Changing to logg=2.50 for T= 16150 logg=2.27\n",
      "Changing to logg=2.50 for T= 16042 logg=2.26\n",
      "Changing to logg=2.50 for T= 15930 logg=2.25\n",
      "Changing to logg=2.50 for T= 15813 logg=2.23\n",
      "Changing to logg=2.50 for T= 15692 logg=2.22\n",
      "Changing to logg=2.50 for T= 15569 logg=2.21\n",
      "Changing to logg=2.50 for T= 15442 logg=2.20\n",
      "Changing to logg=2.50 for T= 15315 logg=2.18\n",
      "Changing to logg=2.50 for T= 15186 logg=2.17\n",
      "Changing to logg=2.50 for T= 15057 logg=2.15\n",
      "Changing to logg=2.50 for T= 14928 logg=2.14\n",
      "Changing to logg=2.50 for T= 14798 logg=2.13\n",
      "Changing to logg=2.50 for T= 14669 logg=2.11\n",
      "Changing to logg=2.50 for T= 14541 logg=2.10\n",
      "Changing to logg=2.50 for T= 14412 logg=2.08\n",
      "Changing to logg=2.50 for T= 14285 logg=2.07\n",
      "Changing to logg=2.50 for T= 14158 logg=2.05\n",
      "Changing to logg=2.50 for T= 14033 logg=2.04\n",
      "Changing to logg=2.50 for T= 13908 logg=2.02\n",
      "Changing to logg=2.50 for T= 13784 logg=2.00\n",
      "Changing to logg=2.50 for T= 13661 logg=1.99\n",
      "Changing to logg=2.50 for T= 13539 logg=1.97\n",
      "Changing to logg=2.50 for T= 13418 logg=1.96\n",
      "Changing to logg=2.50 for T= 13298 logg=1.94\n",
      "Changing to logg=2.50 for T= 13178 logg=1.93\n",
      "Changing to logg=2.50 for T= 13060 logg=1.91\n",
      "Changing to logg=2.50 for T= 12943 logg=1.89\n",
      "Changing to logg=2.50 for T= 12827 logg=1.88\n",
      "Changing to logg=2.50 for T= 12712 logg=1.86\n",
      "Changing to logg=2.50 for T= 12598 logg=1.85\n",
      "Changing to logg=2.50 for T= 12485 logg=1.83\n",
      "Changing to logg=2.50 for T= 12373 logg=1.81\n",
      "Changing to logg=2.50 for T= 12262 logg=1.80\n",
      "Changing to logg=2.50 for T= 12152 logg=1.78\n",
      "Changing to logg=2.50 for T= 12043 logg=1.77\n",
      "Changing to logg=2.50 for T= 11935 logg=1.75\n",
      "Changing to logg=2.50 for T= 11827 logg=1.73\n",
      "Changing to logg=2.00 for T= 11721 logg=1.72\n",
      "Changing to logg=2.00 for T= 11616 logg=1.70\n",
      "Changing to logg=2.00 for T= 11512 logg=1.68\n",
      "Changing to logg=2.00 for T= 11409 logg=1.67\n",
      "Changing to logg=2.00 for T= 11306 logg=1.65\n",
      "Changing to logg=2.00 for T= 11205 logg=1.64\n",
      "Changing to logg=2.00 for T= 11105 logg=1.62\n",
      "Changing to logg=2.00 for T= 11006 logg=1.60\n",
      "Changing to logg=2.00 for T= 10907 logg=1.59\n",
      "Changing to logg=2.00 for T= 10810 logg=1.57\n",
      "Changing to logg=2.00 for T= 10714 logg=1.55\n",
      "Changing to logg=2.00 for T= 10620 logg=1.54\n",
      "Changing to logg=2.00 for T= 10527 logg=1.52\n",
      "Changing to logg=2.00 for T= 10436 logg=1.51\n",
      "Changing to logg=2.00 for T= 10350 logg=1.49\n",
      "Changing to logg=2.00 for T= 10275 logg=1.48\n",
      "Changing to logg=2.00 for T= 10209 logg=1.47\n",
      "Changing to logg=2.00 for T= 10147 logg=1.45\n",
      "Changing to logg=2.00 for T= 10089 logg=1.44\n",
      "Changing to logg=2.00 for T= 10031 logg=1.43\n",
      "Changing to logg=2.00 for T=  9976 logg=1.42\n",
      "Changing to logg=2.00 for T=  9921 logg=1.41\n",
      "Changing to logg=2.00 for T=  9867 logg=1.40\n",
      "Changing to logg=2.00 for T=  9814 logg=1.39\n",
      "Changing to logg=2.00 for T=  9761 logg=1.38\n",
      "Changing to logg=2.00 for T=  9709 logg=1.37\n",
      "Changing to logg=2.00 for T=  9657 logg=1.36\n",
      "Changing to logg=2.00 for T=  9605 logg=1.36\n",
      "Changing to logg=2.00 for T=  9553 logg=1.35\n",
      "Changing to logg=2.00 for T=  9503 logg=1.34\n",
      "Changing to logg=2.00 for T=  9452 logg=1.33\n",
      "Changing to logg=2.00 for T=  9403 logg=1.32\n",
      "Changing to logg=2.00 for T=  9354 logg=1.31\n",
      "Changing to logg=2.00 for T=  9307 logg=1.30\n",
      "Changing to logg=2.00 for T=  9261 logg=1.30\n",
      "Changing to logg=2.00 for T=  9213 logg=1.29\n",
      "Changing to logg=2.00 for T=  9165 logg=1.28\n",
      "Changing to logg=2.00 for T=  9116 logg=1.27\n",
      "Changing to logg=2.00 for T=  9065 logg=1.26\n",
      "Changing to logg=2.00 for T=  9015 logg=1.25\n",
      "Changing to logg=1.50 for T=  8964 logg=1.25\n",
      "Changing to logg=1.50 for T=  8911 logg=1.24\n",
      "Changing to logg=1.50 for T=  8859 logg=1.23\n",
      "Changing to logg=1.50 for T=  8806 logg=1.22\n",
      "Changing to logg=1.50 for T=  8754 logg=1.21\n",
      "Changing to logg=1.50 for T=  8702 logg=1.20\n",
      "Changing to logg=1.50 for T=  8649 logg=1.19\n",
      "Changing to logg=1.50 for T=  8597 logg=1.18\n",
      "Changing to logg=1.50 for T=  8546 logg=1.17\n",
      "Changing to logg=1.50 for T=  8495 logg=1.16\n",
      "Changing to logg=1.50 for T=  8444 logg=1.15\n",
      "Changing to logg=1.50 for T=  8394 logg=1.14\n",
      "Changing to logg=1.50 for T=  8345 logg=1.14\n",
      "Changing to logg=1.50 for T=  8297 logg=1.13\n"
     ]
    },
    {
     "name": "stdout",
     "output_type": "stream",
     "text": [
      "Isochrone generation took 54.782341 s.\n",
      "Making photometry for isochrone: log(t) = 7.00  AKs = 0.00  dist = 1000\n",
      "     Starting at:  2020-12-20 22:13:14.638710   Usually takes ~5 minutes\n",
      "Starting filter: ubv,U   Elapsed time: 0.00 seconds\n",
      "Starting synthetic photometry\n",
      "M =   0.105 Msun  T =  3775 K  m_ubv_U = 22.51\n",
      "M =   1.550 Msun  T = 10639 K  m_ubv_U = 12.47\n",
      "M =   7.355 Msun  T = 27634 K  m_ubv_U = 7.79\n",
      "M =  18.673 Msun  T = 33461 K  m_ubv_U = 4.15\n",
      "M =  18.725 Msun  T = 30612 K  m_ubv_U = 3.81\n",
      "M =  18.746 Msun  T = 26076 K  m_ubv_U = 3.50\n",
      "M =  20.640 Msun  T = 15186 K  m_ubv_U = 2.17\n",
      "Starting filter: ubv,B   Elapsed time: 1.33 seconds\n",
      "Starting synthetic photometry\n",
      "M =   0.105 Msun  T =  3775 K  m_ubv_B = 21.60\n",
      "M =   1.550 Msun  T = 10639 K  m_ubv_B = 12.57\n",
      "M =   7.355 Msun  T = 27634 K  m_ubv_B = 8.71\n",
      "M =  18.673 Msun  T = 33461 K  m_ubv_B = 5.20\n",
      "M =  18.725 Msun  T = 30612 K  m_ubv_B = 4.84\n",
      "M =  18.746 Msun  T = 26076 K  m_ubv_B = 4.43\n",
      "M =  20.640 Msun  T = 15186 K  m_ubv_B = 2.79\n",
      "Starting filter: ubv,V   Elapsed time: 2.61 seconds\n",
      "Starting synthetic photometry\n",
      "M =   0.105 Msun  T =  3775 K  m_ubv_V = 20.17\n",
      "M =   1.550 Msun  T = 10639 K  m_ubv_V = 12.58\n",
      "M =   7.355 Msun  T = 27634 K  m_ubv_V = 8.97\n",
      "M =  18.673 Msun  T = 33461 K  m_ubv_V = 5.49\n",
      "M =  18.725 Msun  T = 30612 K  m_ubv_V = 5.12\n",
      "M =  18.746 Msun  T = 26076 K  m_ubv_V = 4.68\n",
      "M =  20.640 Msun  T = 15186 K  m_ubv_V = 2.93\n",
      "Starting filter: ubv,R   Elapsed time: 3.91 seconds\n",
      "Starting synthetic photometry\n",
      "M =   0.105 Msun  T =  3775 K  m_ubv_R = 19.38\n",
      "M =   1.550 Msun  T = 10639 K  m_ubv_R = 12.60\n",
      "M =   7.355 Msun  T = 27634 K  m_ubv_R = 9.07\n",
      "M =  18.673 Msun  T = 33461 K  m_ubv_R = 5.60\n",
      "M =  18.725 Msun  T = 30612 K  m_ubv_R = 5.23\n",
      "M =  18.746 Msun  T = 26076 K  m_ubv_R = 4.78\n",
      "M =  20.640 Msun  T = 15186 K  m_ubv_R = 2.97\n",
      "Starting filter: ubv,I   Elapsed time: 5.18 seconds\n",
      "Starting synthetic photometry\n",
      "M =   0.105 Msun  T =  3775 K  m_ubv_I = 18.35\n",
      "M =   1.550 Msun  T = 10639 K  m_ubv_I = 12.63\n",
      "M =   7.355 Msun  T = 27634 K  m_ubv_I = 9.31\n",
      "M =  18.673 Msun  T = 33461 K  m_ubv_I = 5.87\n",
      "M =  18.725 Msun  T = 30612 K  m_ubv_I = 5.48\n",
      "M =  18.746 Msun  T = 26076 K  m_ubv_I = 5.01\n",
      "M =  20.640 Msun  T = 15186 K  m_ubv_I = 3.08\n",
      "      Time taken: 6.44 seconds\n"
     ]
    }
   ],
   "source": [
    "iso2=synthetic.IsochronePhot(7.0, 0.0, 1000, math.log(1/10), recomp=True) # New MIST v.1 isochrone for same metallicity"
   ]
  },
  {
   "cell_type": "markdown",
   "metadata": {},
   "source": [
    "Looking at the distribution of logg values. for the stars in the MISTv.1 isochrone."
   ]
  },
  {
   "cell_type": "code",
   "execution_count": 29,
   "metadata": {},
   "outputs": [
    {
     "data": {
      "text/plain": [
       "4.7137025779052735"
      ]
     },
     "execution_count": 29,
     "metadata": {},
     "output_type": "execute_result"
    }
   ],
   "source": [
    "np.max(iso2.points['logg'])"
   ]
  },
  {
   "cell_type": "code",
   "execution_count": 30,
   "metadata": {},
   "outputs": [
    {
     "data": {
      "text/plain": [
       "(array([  0.,   0.,   0.,   0.,   0.,   0.,   0.,   0.,   0.,   0.,   0.,\n",
       "         81.,  81., 272., 259.,   0.,   0.,   0.,   0.,   0.,   0.,   0.,\n",
       "          0.,   0.,   0.,   0.,   0.,   0.,   0.,   0.,   0.,   0.,   0.,\n",
       "          0.,   0.,   0.,   0.,   0.,   0.]),\n",
       " array([-10,  -9,  -8,  -7,  -6,  -5,  -4,  -3,  -2,  -1,   0,   1,   2,\n",
       "          3,   4,   5,   6,   7,   8,   9,  10,  11,  12,  13,  14,  15,\n",
       "         16,  17,  18,  19,  20,  21,  22,  23,  24,  25,  26,  27,  28,\n",
       "         29]),\n",
       " <a list of 39 Patch objects>)"
      ]
     },
     "execution_count": 30,
     "metadata": {},
     "output_type": "execute_result"
    },
    {
     "data": {
      "image/png": "[encoded data removed]",
      "text/plain": [
       "<Figure size 432x288 with 1 Axes>"
      ]
     },
     "metadata": {
      "needs_background": "light"
     },
     "output_type": "display_data"
    }
   ],
   "source": [
    "import matplotlib.pyplot as plt\n",
    "plt.xlabel(\"logg in cgs\")\n",
    "plt.title(\"Histogram of logg values of stars in the MIST v1 isochrone\")\n",
    "plt.hist(np.array([x for x in iso2.points['logg'] if np.isfinite(x)]), np.arange(-10, 30, 1))"
   ]
  },
  {
   "cell_type": "code",
   "execution_count": 31,
   "metadata": {},
   "outputs": [
    {
     "data": {
      "text/plain": [
       "3.7349966075247254"
      ]
     },
     "execution_count": 31,
     "metadata": {},
     "output_type": "execute_result"
    }
   ],
   "source": [
    "np.median(iso2.points['logg'])"
   ]
  },
  {
   "cell_type": "code",
   "execution_count": 32,
   "metadata": {},
   "outputs": [
    {
     "data": {
      "text/plain": [
       "3.54600520918437"
      ]
     },
     "execution_count": 32,
     "metadata": {},
     "output_type": "execute_result"
    }
   ],
   "source": [
    "np.mean(iso2.points['logg'])"
   ]
  },
  {
   "cell_type": "code",
   "execution_count": 33,
   "metadata": {},
   "outputs": [],
   "source": [
    "from spisea import imf\n",
    "from spisea.imf import imf, multiplicity\n",
    "from spisea import ifmr\n"
   ]
  },
  {
   "cell_type": "markdown",
   "metadata": {},
   "source": [
    "Make the clusters corresponding to the binary star isochrone and the MISTv.1 isochrone"
   ]
  },
  {
   "cell_type": "code",
   "execution_count": 36,
   "metadata": {},
   "outputs": [
    {
     "name": "stdout",
     "output_type": "stream",
     "text": [
      "2719.9499999999944\n"
     ]
    }
   ],
   "source": [
    "clus_1=synthetic.Binary_Cluster(iso1, imf.IMFSalpeter1955(multiplicity=multiplicity.MultiplicityResolvedDK()), 5000, ifmr=ifmr.IFMR_Spera15())\n",
    "clus_2=synthetic.ResolvedCluster(iso2, imf.IMFSalpeter1955(multiplicity=multiplicity.MultiplicityResolvedDK()), 5000, ifmr=ifmr.IFMR_Spera15())"
   ]
  },
  {
   "cell_type": "markdown",
   "metadata": {},
   "source": [
    "Now let's visualize the isochrone we have created so far with a color magnitude diagram. There we can see the end of main sequence and perhaps the M type"
   ]
  },
  {
   "cell_type": "code",
   "execution_count": 37,
   "metadata": {},
   "outputs": [
    {
     "data": {
      "text/plain": [
       "<matplotlib.legend.Legend at 0x7feef9ccfe10>"
      ]
     },
     "execution_count": 37,
     "metadata": {},
     "output_type": "execute_result"
    },
    {
     "data": {
      "image/png": "[encoded data removed]",
      "text/plain": [
       "<Figure size 432x288 with 1 Axes>"
      ]
     },
     "metadata": {
      "needs_background": "light"
     },
     "output_type": "display_data"
    }
   ],
   "source": [
    "# Taking a look at the Binary Cluster vs Default Settings cluster Observer's HR Diagram\n",
    "# Remember to use a distance modulus!\n",
    "import matplotlib.pyplot as plt\n",
    "plt.plot(iso1.primaries['m_ubv_B']-iso1.primaries[\"m_ubv_V\"], iso1.primaries[\"m_ubv_V\"]-5*np.log10(100), \"r.\")\n",
    "plt.plot(iso1.secondaries['m_ubv_B']-iso1.secondaries[\"m_ubv_V\"], iso1.secondaries[\"m_ubv_V\"]-5*np.log10(100), \"r.\")\n",
    "plt.plot(iso1.singles['m_ubv_B']-iso1.singles[\"m_ubv_V\"], iso1.singles[\"m_ubv_V\"]-5*np.log10(100), \"r.\", label=\"BPASS isochrone\")\n",
    "plt.plot(iso2.points['m_ubv_B']-iso2.points[\"m_ubv_V\"], iso2.points[\"m_ubv_V\"]-5*np.log10(100), \"b+\", label=\"MISTv1\", alpha = 0.2)\n",
    "plt.xlabel(\"B-V\")\n",
    "plt.ylabel(\"M_V\")\n",
    "plt.title(\"Color magnitude Diagram of Isochrones at 0.1 * solar metallicity and 10**7 years age\")\n",
    "plt.gca().invert_yaxis()\n",
    "plt.legend()"
   ]
  },
  {
   "cell_type": "code",
   "execution_count": 38,
   "metadata": {},
   "outputs": [
    {
     "data": {
      "text/plain": [
       "<matplotlib.legend.Legend at 0x7feeeae4e8d0>"
      ]
     },
     "execution_count": 38,
     "metadata": {},
     "output_type": "execute_result"
    },
    {
     "data": {
      "image/png": "[encoded data removed]",
      "text/plain": [
       "<Figure size 432x288 with 1 Axes>"
      ]
     },
     "metadata": {
      "needs_background": "light"
     },
     "output_type": "display_data"
    }
   ],
   "source": [
    "import matplotlib.pyplot as plt\n",
    "plt.plot(iso1.primaries['m_ubv_B']-iso1.primaries[\"m_ubv_V\"], iso1.primaries[\"m_ubv_V\"]-5*np.log10(100), \"r.\", label=\"BPASS isochrone (primaries)\")\n",
    "plt.xlabel(\"B-V\")\n",
    "plt.ylabel(\"M_V\")\n",
    "plt.title(\"Color magnitude Diagram of Isochrones at 0.1 * solar metallicity and 10**7 years age\")\n",
    "plt.gca().invert_yaxis()\n",
    "plt.legend()"
   ]
  },
  {
   "cell_type": "markdown",
   "metadata": {},
   "source": [
    "We do have several outliers but otherwise the pattern does not seem too terribly off from the MISTv.1 isochrone's shape. Now I look at the primary stars and see if there are any problems caused."
   ]
  },
  {
   "cell_type": "code",
   "execution_count": 39,
   "metadata": {},
   "outputs": [
    {
     "data": {
      "text/plain": [
       "<matplotlib.legend.Legend at 0x7fef18edca58>"
      ]
     },
     "execution_count": 39,
     "metadata": {},
     "output_type": "execute_result"
    },
    {
     "data": {
      "image/png": "[encoded data removed]",
      "text/plain": [
       "<Figure size 432x288 with 1 Axes>"
      ]
     },
     "metadata": {
      "needs_background": "light"
     },
     "output_type": "display_data"
    }
   ],
   "source": [
    "# Taking a look at the Binary Cluster vs Default Settings cluster Observer's HR Diagram\n",
    "# Remember to use a distance modulus!\n",
    "import matplotlib.pyplot as plt\n",
    "plt.plot(iso1.primaries['m_ubv_B']-iso1.primaries[\"m_ubv_V\"], iso1.primaries[\"m_ubv_V\"]-5*np.log10(100), \"r+\",  label=\"BPASS isochrone\", alpha =0.7)\n",
    "plt.xlabel(\"B-V\")\n",
    "plt.ylabel(\"M_V\")\n",
    "plt.title(\"Color magnitude Diagram of Isochrones at 0.1 * solar metallicity and 10**7  years age (Primary stars only)\")\n",
    "plt.gca().invert_yaxis()\n",
    "plt.legend()"
   ]
  },
  {
   "cell_type": "code",
   "execution_count": 40,
   "metadata": {},
   "outputs": [
    {
     "data": {
      "text/plain": [
       "<matplotlib.legend.Legend at 0x7fef18efb5c0>"
      ]
     },
     "execution_count": 40,
     "metadata": {},
     "output_type": "execute_result"
    },
    {
     "data": {
      "image/png": "[encoded data removed]",
      "text/plain": [
       "<Figure size 432x288 with 1 Axes>"
      ]
     },
     "metadata": {
      "needs_background": "light"
     },
     "output_type": "display_data"
    }
   ],
   "source": [
    "import matplotlib.pyplot as plt\n",
    "plt.plot(iso1.secondaries['m_ubv_B']-iso1.secondaries[\"m_ubv_V\"], iso1.secondaries[\"m_ubv_V\"]-5*np.log10(100), \"r+\",  label=\"BPASS isochrone\", alpha =0.7)\n",
    "plt.xlabel(\"B-V\")\n",
    "plt.ylabel(\"M_V\")\n",
    "plt.title(\"Color magnitude Diagram of Isochrones at 0.1 * solar metallicity and 10**7 years age (secondary stars only)\")\n",
    "plt.gca().invert_yaxis()\n",
    "plt.legend()"
   ]
  },
  {
   "cell_type": "markdown",
   "metadata": {},
   "source": [
    "Where are some of the goofy outliers coming from?"
   ]
  },
  {
   "cell_type": "code",
   "execution_count": 41,
   "metadata": {},
   "outputs": [
    {
     "name": "stderr",
     "output_type": "stream",
     "text": [
      "/opt/anaconda3/envs/astroconda/lib/python3.7/site-packages/astropy/table/column.py:1020: RuntimeWarning: invalid value encountered in greater\n",
      "  result = getattr(super(), op)(other)\n"
     ]
    },
    {
     "data": {
      "text/html": [
       "<i>Table length=0</i>\n",
       "<table id=\"table140664369263112\" class=\"table-striped table-bordered table-condensed\">\n",
       "<thead><tr><th>mass</th><th>log_a</th><th>L</th><th>Teff</th><th>R</th><th>logg</th><th>isWR</th><th>mass_current</th><th>phase</th><th>merged</th><th>source</th><th>m_ubv_U</th><th>m_ubv_V</th><th>m_ubv_B</th><th>m_ubv_R</th><th>m_ubv_I</th></tr></thead>\n",
       "<thead><tr><th>solMass</th><th></th><th>W</th><th>K</th><th>m</th><th></th><th></th><th>solMass</th><th></th><th></th><th></th><th></th><th></th><th></th><th></th><th></th></tr></thead>\n",
       "<thead><tr><th>float64</th><th>float64</th><th>float64</th><th>float64</th><th>float64</th><th>float64</th><th>bool</th><th>float64</th><th>float64</th><th>bool</th><th>int64</th><th>float64</th><th>float64</th><th>float64</th><th>float64</th><th>float64</th></tr></thead>\n",
       "</table>"
      ],
      "text/plain": [
       "<Table length=0>\n",
       "  mass   log_a     L      Teff     R    ... m_ubv_V m_ubv_B m_ubv_R m_ubv_I\n",
       "solMass            W       K       m    ...                                \n",
       "float64 float64 float64 float64 float64 ... float64 float64 float64 float64\n",
       "------- ------- ------- ------- ------- ... ------- ------- ------- -------"
      ]
     },
     "execution_count": 41,
     "metadata": {},
     "output_type": "execute_result"
    }
   ],
   "source": [
    "iso1.secondaries[np.where(iso1.secondaries[\"m_ubv_V\"]-5*np.log10(100)>20.0)[0]]"
   ]
  },
  {
   "cell_type": "code",
   "execution_count": 42,
   "metadata": {},
   "outputs": [],
   "source": [
    "issue = iso1.secondaries[np.where(iso1.secondaries[\"m_ubv_V\"]-5*np.log10(100)>20.0)[0]]"
   ]
  },
  {
   "cell_type": "code",
   "execution_count": 43,
   "metadata": {},
   "outputs": [
    {
     "data": {
      "text/html": [
       "&lt;Column name=&apos;mass&apos; dtype=&apos;float64&apos; unit=&apos;solMass&apos; length=0&gt;\n",
       "<table>\n",
       "</table>"
      ],
      "text/plain": [
       "<Column name='mass' dtype='float64' unit='solMass' length=0>"
      ]
     },
     "execution_count": 43,
     "metadata": {},
     "output_type": "execute_result"
    }
   ],
   "source": [
    "np.unique(issue['mass'])"
   ]
  },
  {
   "cell_type": "code",
   "execution_count": 44,
   "metadata": {},
   "outputs": [
    {
     "data": {
      "text/html": [
       "&lt;Column name=&apos;phase&apos; dtype=&apos;float64&apos; length=0&gt;\n",
       "<table>\n",
       "</table>"
      ],
      "text/plain": [
       "<Column name='phase' dtype='float64' length=0>"
      ]
     },
     "execution_count": 44,
     "metadata": {},
     "output_type": "execute_result"
    }
   ],
   "source": [
    "np.unique(issue['phase'])"
   ]
  },
  {
   "cell_type": "code",
   "execution_count": 45,
   "metadata": {},
   "outputs": [
    {
     "data": {
      "text/plain": [
       "<matplotlib.legend.Legend at 0x7fef0abca4e0>"
      ]
     },
     "execution_count": 45,
     "metadata": {},
     "output_type": "execute_result"
    },
    {
     "data": {
      "image/png": "[encoded data removed]",
      "text/plain": [
       "<Figure size 432x288 with 1 Axes>"
      ]
     },
     "metadata": {
      "needs_background": "light"
     },
     "output_type": "display_data"
    }
   ],
   "source": [
    "import matplotlib.pyplot as plt\n",
    "plt.plot(np.log10(iso1.primaries['Teff']), np.log10(iso1.primaries[\"L\"]), \"r.\", alpha =0.3)\n",
    "plt.plot(np.log10(iso1.secondaries['Teff']), np.log10(iso1.secondaries[\"L\"]), \"r.\", alpha =0.3)\n",
    "plt.plot(np.log10(iso1.singles['Teff']), np.log10(iso1.singles[\"L\"]), \"r.\", label=\"BPASS isochrone\", alpha =0.3)\n",
    "plt.plot(np.log10(iso2.points['Teff']), np.log10(iso2.points[\"L\"]), \"b+\", label=\"MISTv1\", alpha =0.1)\n",
    "plt.xlabel(\"log(T in Kelvin)\")\n",
    "plt.ylabel(\"log(L in Watts)\")\n",
    "plt.title(\"HR Diagram of Isochrones at solar metallicity and 1 billion years age\")\n",
    "plt.gca().invert_xaxis()\n",
    "plt.legend()\n",
    "# Rough pattern seems to fit. What's that line?"
   ]
  },
  {
   "cell_type": "markdown",
   "metadata": {},
   "source": [
    "A good sign here is that there are does not seem to be too many of compact remnants (that means good number of stars have gone through their main-sequence and post-main sequence). I also notice stars turning to the sub-giant branch. This is going to be really important when we decide to use the clusters as reference for finding ages of actual star clusters."
   ]
  },
  {
   "cell_type": "code",
   "execution_count": 46,
   "metadata": {},
   "outputs": [
    {
     "data": {
      "text/plain": [
       "<matplotlib.legend.Legend at 0x7feeea69c588>"
      ]
     },
     "execution_count": 46,
     "metadata": {},
     "output_type": "execute_result"
    },
    {
     "data": {
      "image/png": "[encoded data removed]",
      "text/plain": [
       "<Figure size 432x288 with 1 Axes>"
      ]
     },
     "metadata": {
      "needs_background": "light"
     },
     "output_type": "display_data"
    }
   ],
   "source": [
    "# Plot the mass-luminosity relationship\n",
    "from astropy import constants as cs\n",
    "import matplotlib.pyplot as plt\n",
    "plt.plot(np.log10(iso1.primaries['mass_current']), np.log10(iso1.primaries[\"L\"]/cs.L_sun), \"r.\")\n",
    "plt.plot(np.log10(iso1.secondaries['mass_current']), np.log10(iso1.secondaries[\"L\"]/cs.L_sun), \"r.\")\n",
    "plt.plot(np.log10(iso1.singles['mass_current']), np.log10(iso1.singles[\"L\"]/cs.L_sun), \"r.\", label=\"BPASS isochrone\")\n",
    "plt.plot(np.log10(iso2.points['mass_current']), np.log10(iso2.points[\"L\"]/cs.L_sun), \"b+\", label=\"MISTv1\", alpha =0.2)\n",
    "plt.xlabel(\"log(Current Mass in solar masses)\")\n",
    "plt.ylabel(\"log(L/L_solar)\")\n",
    "plt.title(\"log Mass-logL of Isochrones at 0.1 * solar metallicity and 10**7 years age\")\n",
    "plt.legend()\n",
    "# Rough pattern seems to fit. What's that line?"
   ]
  },
  {
   "cell_type": "markdown",
   "metadata": {},
   "source": [
    "Which table is causing that line segment at around log10(L/L_sun)=-3?\n",
    "Let's find out."
   ]
  },
  {
   "cell_type": "code",
   "execution_count": 47,
   "metadata": {},
   "outputs": [
    {
     "data": {
      "text/plain": [
       "<matplotlib.legend.Legend at 0x7fef0aa0d358>"
      ]
     },
     "execution_count": 47,
     "metadata": {},
     "output_type": "execute_result"
    },
    {
     "data": {
      "image/png": "[encoded data removed]",
      "text/plain": [
       "<Figure size 432x288 with 1 Axes>"
      ]
     },
     "metadata": {
      "needs_background": "light"
     },
     "output_type": "display_data"
    }
   ],
   "source": [
    "from astropy import constants as cs\n",
    "import matplotlib.pyplot as plt\n",
    "plt.plot(np.log10(iso1.primaries['mass_current']), np.log10(iso1.primaries[\"L\"]/cs.L_sun), \"r.\", label=\"BPASS isochrone (primaries)\")\n",
    "plt.xlabel(\"log(Current Mass in solar masses)\")\n",
    "plt.ylabel(\"log(L/L_solar)\")\n",
    "plt.title(\"log Mass-logL of Isochrones at 0.1 * solar metallicity and 10**7 years age\")\n",
    "plt.legend()"
   ]
  },
  {
   "cell_type": "code",
   "execution_count": 48,
   "metadata": {},
   "outputs": [
    {
     "data": {
      "text/plain": [
       "<matplotlib.legend.Legend at 0x7feef9d42a90>"
      ]
     },
     "execution_count": 48,
     "metadata": {},
     "output_type": "execute_result"
    },
    {
     "data": {
      "image/png": "[encoded data removed]",
      "text/plain": [
       "<Figure size 432x288 with 1 Axes>"
      ]
     },
     "metadata": {
      "needs_background": "light"
     },
     "output_type": "display_data"
    }
   ],
   "source": [
    "# Plot the mass-luminosity relationship\n",
    "from astropy import constants as cs\n",
    "from astropy import units as u\n",
    "import numpy as np\n",
    "import matplotlib.pyplot as plt\n",
    "plt.plot((clus_1.star_systems['mass_current']), np.log10(clus_1.star_systems[\"L\"]), \"r.\", label=\"Binary_Cluster made from BPASS\", alpha =1)\n",
    "plt.plot((clus_1.companions['mass_current']), np.log10(clus_1.companions[\"L\"]), \"r.\", label=\"Binary_Cluster made from BPASS\", alpha = 1)\n",
    "plt.plot((clus_2.star_systems['mass_current']), np.log10(clus_2.star_systems[\"L\"]), \"b.\", label=\"Cluster made from MISTv.1\", alpha =0.1)\n",
    "plt.plot((clus_2.companions['mass_current']), np.log10(clus_2.companions[\"L\"]), \"b.\", label=\"Cluster made from MISTv.1\", alpha = 0.1)\n",
    "plt.xlabel(\"Current Mass in solar masses\")\n",
    "plt.ylabel(\"log(L in Watts)\")\n",
    "plt.title(\"Mass-logL of Cluster at 0.1* solar metallicity and 10 mililion years age\")\n",
    "plt.legend()\n",
    "# Rough pattern seems to fit. What's that line?"
   ]
  },
  {
   "cell_type": "markdown",
   "metadata": {},
   "source": [
    "OK. It makes sense that our compact remnants are causing this. (Remember, there really is no significant fusion in the insides of neutron stars or white dwarves."
   ]
  },
  {
   "cell_type": "code",
   "execution_count": 49,
   "metadata": {},
   "outputs": [
    {
     "data": {
      "text/plain": [
       "<matplotlib.legend.Legend at 0x7feef9f000f0>"
      ]
     },
     "execution_count": 49,
     "metadata": {},
     "output_type": "execute_result"
    },
    {
     "data": {
      "image/png": "[encoded data removed]",
      "text/plain": [
       "<Figure size 432x288 with 1 Axes>"
      ]
     },
     "metadata": {
      "needs_background": "light"
     },
     "output_type": "display_data"
    }
   ],
   "source": [
    "# Plot the mass-luminosity relationship\n",
    "from astropy import constants as cs\n",
    "from astropy import units as u\n",
    "import matplotlib.pyplot as plt\n",
    "plt.plot(clus_1.star_systems['mass_current'], np.log10(clus_1.star_systems[\"L\"]), \"r.\", label=\"Binary_Cluster made from BPASS (star systems)\", alpha =1)\n",
    "plt.xlabel(\"log Current Mass in solar masses\")\n",
    "plt.ylabel(\"log(L/L_solar)\")\n",
    "plt.title(\"log-Mass-logL of Cluster at 0.1 * solar metallicity and 10**7.0 years age\")\n",
    "plt.legend()\n",
    "# Rough pattern seems to fit. What's that line?"
   ]
  },
  {
   "cell_type": "code",
   "execution_count": 50,
   "metadata": {},
   "outputs": [
    {
     "data": {
      "text/plain": [
       "<matplotlib.legend.Legend at 0x7fef190bde48>"
      ]
     },
     "execution_count": 50,
     "metadata": {},
     "output_type": "execute_result"
    },
    {
     "data": {
      "image/png": "[encoded data removed]",
      "text/plain": [
       "<Figure size 432x288 with 1 Axes>"
      ]
     },
     "metadata": {
      "needs_background": "light"
     },
     "output_type": "display_data"
    }
   ],
   "source": [
    "# Plot the mass-luminosity relationship\n",
    "from astropy import constants as cs\n",
    "from astropy import units as u\n",
    "import matplotlib.pyplot as plt\n",
    "plt.plot(clus_1.companions['mass_current'], np.log10(clus_1.companions[\"L\"]), \"r.\", label=\"Binary_Cluster made from BPASS (companions)\", alpha =1)\n",
    "plt.xlabel(\"log Current Mass in solar masses\")\n",
    "plt.ylabel(\"log(L/L_solar)\")\n",
    "plt.title(\"log-Mass-logL of Cluster at 0.1 * solar metallicity and 10 million years age\")\n",
    "plt.legend()\n",
    "# Rough pattern seems to fit. What's that line?"
   ]
  },
  {
   "cell_type": "markdown",
   "metadata": {},
   "source": [
    "It looks like I need to look deeper into this issue. It may be an issue with the calculation of the initial separation in matching or the matching algorithm..."
   ]
  },
  {
   "cell_type": "code",
   "execution_count": 51,
   "metadata": {},
   "outputs": [
    {
     "data": {
      "text/plain": [
       "<matplotlib.legend.Legend at 0x7fef0b6eaac8>"
      ]
     },
     "execution_count": 51,
     "metadata": {},
     "output_type": "execute_result"
    },
    {
     "data": {
      "image/png": "[encoded data removed]",
      "text/plain": [
       "<Figure size 432x288 with 1 Axes>"
      ]
     },
     "metadata": {
      "needs_background": "light"
     },
     "output_type": "display_data"
    }
   ],
   "source": [
    "# Taking a look at the Binary Cluster vs Default Settings cluster Observer's HR Diagram\n",
    "# Remember to use a distance modulus!\n",
    "import matplotlib.pyplot as plt\n",
    "plt.plot(clus_1.star_systems['m_ubv_B']-clus_1.star_systems[\"m_ubv_V\"], clus_1.star_systems[\"m_ubv_V\"]-5*np.log10(100), \"r.\",label=\"BPASS\")\n",
    "plt.plot(clus_2.star_systems['m_ubv_B']-clus_2.star_systems[\"m_ubv_V\"], clus_2.star_systems[\"m_ubv_V\"]-5*np.log10(100), \"b+\", label=\"MISTv1\", alpha=0.1)\n",
    "plt.xlabel(\"B-V\")\n",
    "plt.ylabel(\"M_V\")\n",
    "plt.title(\"Color magnitude Diagram of clusters at 0.1 * solar metallicity and 10 million years age\")\n",
    "plt.gca().invert_yaxis()\n",
    "plt.legend()"
   ]
  },
  {
   "cell_type": "code",
   "execution_count": 52,
   "metadata": {},
   "outputs": [
    {
     "data": {
      "text/html": [
       "&lt;Column name=&apos;phase&apos; dtype=&apos;float64&apos; length=1&gt;\n",
       "<table>\n",
       "<tr><td>5.0</td></tr>\n",
       "</table>"
      ],
      "text/plain": [
       "<Column name='phase' dtype='float64' length=1>\n",
       "5.0"
      ]
     },
     "execution_count": 52,
     "metadata": {},
     "output_type": "execute_result"
    }
   ],
   "source": [
    "np.unique(clus_1.star_systems[np.where(clus_1.star_systems['isMultiple'])]['phase'])"
   ]
  },
  {
   "cell_type": "code",
   "execution_count": 53,
   "metadata": {},
   "outputs": [
    {
     "data": {
      "text/plain": [
       "7159.181170454479"
      ]
     },
     "execution_count": 53,
     "metadata": {},
     "output_type": "execute_result"
    }
   ],
   "source": [
    "# Checking if I am getting the right amout of mass\n",
    "clus_1.star_systems['systemMass'].sum()"
   ]
  }
 ],
 "metadata": {
  "kernelspec": {
   "display_name": "astroconda",
   "language": "python",
   "name": "astroconda"
  },
  "language_info": {
   "codemirror_mode": {
    "name": "ipython",
    "version": 3
   },
   "file_extension": ".py",
   "mimetype": "text/x-python",
   "name": "python",
   "nbconvert_exporter": "python",
   "pygments_lexer": "ipython3",
   "version": "3.7.3"
  }
 },
 "nbformat": 4,
 "nbformat_minor": 2
}
