{
 "cells": [
  {
   "cell_type": "markdown",
   "metadata": {},
   "source": [
    "## Testing the BPASS isochrone at 10^8.2 years age. (Solar Metallicity)\n",
    "In this BPASS isochrone and cluster plot, I go over the BPASS isochrone for 10^8.2 years age, solar metallicity, AKs=0.6, and distance of 1000 parsecs from Earth. From the isochrone and cluster, we discuss several plots such as the log_g frequency distribution of the isochrone, the color magnitude diagram (B-V vs pseudo-M_V), and the mass luminosity relationshi of the cluster. **Note that I say pseudo-M_V as it is the absoulte magnitude but NOT accounting for extinction**\n",
    "\n",
    "Formula for pseudo M_V is\n",
    "\n",
    "pseudo-M_V = V - 5$log_{10}$(distance to cluster/(10 pc))\n",
    "\n",
    "Other notes:\n",
    "\n",
    "I have chosen dist to cluster = 100 pc as this power of 10 makes base-10 logarithms a bit easier to do and understand. After all, it was one of the default parameters in the SPISEA paper's example of the isochrone input parameters. I also use the Parsec evolution models in order to make sure that "
   ]
  },
  {
   "cell_type": "markdown",
   "metadata": {},
   "source": [
    "## Note: This notebook can also be used for demonstration of how the new Isochrone_Binary and Binary_Cluster can be used"
   ]
  },
  {
   "cell_type": "code",
   "execution_count": 1,
   "metadata": {},
   "outputs": [
    {
     "name": "stderr",
     "output_type": "stream",
     "text": [
      "/opt/anaconda3/envs/astroconda/lib/python3.7/site-packages/pysynphot/locations.py:346: UserWarning: Extinction files not found in /g/lu/models/cdbs/extinction\n",
      "  warnings.warn('Extinction files not found in %s' % (extdir, ))\n",
      "/opt/anaconda3/envs/astroconda/lib/python3.7/site-packages/pysynphot/refs.py:125: UserWarning: No thermal tables found, no thermal calculations can be performed. No files found for /g/lu/models/cdbs/mtab/*_tmt.fits\n",
      "  'no thermal calculations can be performed. ' + str(e))\n",
      "/opt/anaconda3/envs/astroconda/lib/python3.7/site-packages/astropy/units/quantity.py:477: RuntimeWarning: invalid value encountered in true_divide\n",
      "  result = super().__array_ufunc__(function, method, *arrays, **kwargs)\n",
      "/u/ryotainagaki/Desktop/PyPopStar/spisea/evolution.py:1771: RuntimeWarning: overflow encountered in power\n",
      "  (1 / cs.au) * un.m)\n",
      "/opt/anaconda3/envs/astroconda/lib/python3.7/site-packages/astropy/table/column.py:1020: RuntimeWarning: invalid value encountered in greater\n",
      "  result = getattr(super(), op)(other)\n",
      "/opt/anaconda3/envs/astroconda/lib/python3.7/site-packages/astropy/table/column.py:1020: RuntimeWarning: invalid value encountered in less_equal\n",
      "  result = getattr(super(), op)(other)\n",
      "/opt/anaconda3/envs/astroconda/lib/python3.7/site-packages/astropy/units/quantity.py:477: RuntimeWarning: divide by zero encountered in true_divide\n",
      "  result = super().__array_ufunc__(function, method, *arrays, **kwargs)\n"
     ]
    },
    {
     "name": "stdout",
     "output_type": "stream",
     "text": [
      "Changing to logg=5.00 for T= 38774 logg=8.52\n",
      "Changing to logg=5.00 for T= 36146 logg=8.54\n",
      "Changing to logg=5.00 for T= 44758 logg=8.49\n",
      "Changing to T= 50000 for T= 73161 logg=8.45\n",
      "Changing to logg=5.00 for T= 73161 logg=8.45\n",
      "Changing to logg=5.00 for T= 38361 logg=8.50\n",
      "Changing to T= 50000 for T= 52330 logg=8.47\n",
      "Changing to logg=5.00 for T= 52330 logg=8.47\n",
      "Changing to logg=5.00 for T= 39097 logg=5.40\n",
      "Changing to logg=5.00 for T= 42300 logg=8.53\n",
      "Changing to logg=5.00 for T= 45668 logg=8.52\n",
      "Changing to logg=5.00 for T= 38750 logg=8.52\n",
      "Changing to logg=5.00 for T= 42302 logg=8.53\n",
      "Changing to logg=5.00 for T= 42300 logg=8.53\n",
      "Changing to logg=5.00 for T= 38751 logg=8.52\n",
      "Changing to logg=5.00 for T= 38750 logg=8.52\n",
      "Changing to logg=5.00 for T= 39036 logg=5.38\n",
      "Changing to logg=5.00 for T= 35710 logg=8.52\n",
      "Changing to logg=5.00 for T= 39110 logg=5.45\n",
      "Changing to logg=5.00 for T= 38750 logg=8.52\n",
      "Changing to logg=5.00 for T= 42300 logg=8.53\n",
      "Changing to logg=5.00 for T= 37638 logg=5.66\n",
      "Changing to logg=5.00 for T= 37422 logg=5.67\n",
      "Changing to logg=5.00 for T= 39018 logg=5.53\n",
      "Changing to logg=5.00 for T= 38750 logg=8.52\n",
      "Changing to logg=5.00 for T= 35701 logg=8.52\n",
      "Changing to logg=5.00 for T= 37966 logg=5.70\n",
      "Changing to logg=5.00 for T= 34191 logg=8.16\n",
      "Changing to logg=5.00 for T= 33657 logg=5.67\n",
      "Changing to logg=5.00 for T= 38750 logg=8.52\n",
      "Changing to logg=5.00 for T= 38886 logg=5.50\n",
      "Changing to logg=5.00 for T= 35722 logg=8.52\n",
      "Changing to logg=5.00 for T= 31378 logg=8.25\n",
      "Changing to logg=5.00 for T= 39090 logg=5.47\n",
      "Changing to logg=5.00 for T= 35715 logg=8.52\n",
      "Changing to logg=5.00 for T= 38778 logg=5.38\n",
      "Changing to logg=5.00 for T= 42302 logg=8.53\n",
      "Changing to logg=5.00 for T= 39156 logg=5.49\n",
      "Changing to logg=5.00 for T= 45668 logg=8.52\n",
      "Changing to logg=5.00 for T= 38912 logg=5.40\n",
      "Changing to logg=5.00 for T= 38750 logg=8.52\n",
      "Changing to logg=5.00 for T= 45668 logg=8.52\n",
      "Changing to logg=5.00 for T= 38750 logg=8.52\n",
      "Changing to logg=4.50 for T= 39634 logg=4.15\n",
      "Changing to T= 50000 for T= 52469 logg=8.18\n",
      "Changing to logg=5.00 for T= 52469 logg=8.18\n",
      "Changing to logg=5.00 for T= 38030 logg=5.41\n",
      "Changing to logg=5.00 for T= 38924 logg=5.38\n",
      "Changing to logg=5.00 for T= 38866 logg=5.46\n",
      "Changing to logg=5.00 for T= 38499 logg=5.32\n",
      "Changing to logg=5.00 for T= 38750 logg=8.52\n",
      "Changing to logg=5.00 for T= 35714 logg=8.52\n",
      "Changing to logg=5.00 for T= 42302 logg=8.53\n",
      "Changing to logg=5.00 for T= 45668 logg=8.52\n",
      "Changing to logg=5.00 for T= 45668 logg=8.52\n",
      "Changing to logg=5.00 for T= 35715 logg=8.52\n",
      "Changing to logg=5.00 for T= 38864 logg=5.34\n",
      "Changing to logg=5.00 for T= 38750 logg=8.52\n",
      "Changing to logg=5.00 for T= 45668 logg=8.52\n",
      "Changing to logg=5.00 for T= 38750 logg=8.52\n",
      "Changing to logg=5.00 for T= 38750 logg=8.52\n",
      "Changing to logg=5.00 for T= 38938 logg=5.41\n",
      "Changing to logg=5.00 for T= 42302 logg=8.53\n",
      "Changing to logg=5.00 for T= 39027 logg=5.57\n",
      "Changing to logg=5.00 for T= 37690 logg=5.71\n",
      "Changing to logg=5.00 for T= 39136 logg=5.47\n",
      "Changing to logg=5.00 for T= 42302 logg=8.53\n",
      "Changing to logg=5.00 for T= 38750 logg=8.52\n",
      "Changing to logg=5.00 for T= 38530 logg=5.55\n",
      "Changing to logg=5.00 for T= 38750 logg=8.52\n",
      "Changing to logg=5.00 for T= 38751 logg=8.52\n",
      "Changing to logg=5.00 for T= 38750 logg=8.52\n",
      "Changing to logg=5.00 for T= 38750 logg=8.52\n",
      "Changing to logg=5.00 for T= 42300 logg=8.53\n",
      "Changing to logg=5.00 for T= 38008 logg=5.41\n",
      "Changing to logg=5.00 for T= 43455 logg=8.58\n",
      "Changing to logg=5.00 for T= 38797 logg=5.34\n",
      "Changing to logg=5.00 for T= 38863 logg=5.61\n",
      "Changing to logg=5.00 for T= 45669 logg=8.52\n",
      "Changing to logg=5.00 for T= 45668 logg=8.52\n",
      "Changing to logg=5.00 for T= 38750 logg=8.52\n",
      "Changing to logg=5.00 for T= 38750 logg=8.52\n",
      "Changing to logg=5.00 for T= 37640 logg=8.47\n",
      "Changing to logg=5.00 for T= 39001 logg=5.46\n",
      "Changing to logg=5.00 for T= 35665 logg=8.52\n",
      "Changing to logg=5.00 for T= 38750 logg=8.52\n",
      "Changing to logg=5.00 for T= 34722 logg=5.55\n",
      "Changing to logg=5.00 for T= 33157 logg=5.77\n",
      "Changing to logg=5.00 for T= 38681 logg=5.49\n",
      "Changing to logg=5.00 for T= 33207 logg=5.01\n",
      "Changing to logg=5.00 for T= 35709 logg=8.52\n",
      "Changing to logg=5.00 for T= 42302 logg=8.53\n",
      "Changing to logg=5.00 for T= 38810 logg=5.36\n",
      "Changing to logg=5.00 for T= 39842 logg=5.51\n",
      "Changing to logg=5.00 for T= 43455 logg=8.58\n",
      "Changing to logg=5.00 for T= 38164 logg=5.31\n",
      "Changing to logg=5.00 for T= 38750 logg=8.52\n",
      "Changing to logg=5.00 for T= 38750 logg=8.52\n",
      "Changing to logg=5.00 for T= 42302 logg=8.53\n",
      "Changing to logg=5.00 for T= 35714 logg=8.52\n",
      "Changing to logg=5.00 for T= 45669 logg=8.52\n",
      "Changing to logg=5.00 for T= 39010 logg=5.57\n",
      "Changing to logg=5.00 for T= 38750 logg=8.52\n",
      "Changing to logg=5.00 for T= 40536 logg=5.52\n",
      "Changing to logg=5.00 for T= 39098 logg=5.41\n",
      "Changing to logg=5.00 for T= 37225 logg=5.46\n",
      "Changing to logg=5.00 for T= 35709 logg=8.52\n",
      "Changing to logg=5.00 for T= 33652 logg=5.61\n",
      "Changing to logg=5.00 for T= 38913 logg=5.59\n",
      "Changing to logg=5.00 for T= 38750 logg=8.52\n",
      "Changing to logg=5.00 for T= 38750 logg=8.52\n",
      "Changing to logg=5.00 for T= 38750 logg=8.52\n",
      "Changing to logg=5.00 for T= 38750 logg=8.52\n",
      "Changing to logg=5.00 for T= 43455 logg=8.58\n",
      "Changing to logg=5.00 for T= 42302 logg=8.53\n",
      "Changing to logg=5.00 for T= 34757 logg=5.54\n",
      "Changing to logg=5.00 for T= 38750 logg=8.52\n",
      "Changing to logg=5.00 for T= 38750 logg=8.52\n",
      "Changing to logg=5.00 for T= 35929 logg=8.18\n",
      "Changing to logg=5.00 for T= 39121 logg=5.40\n",
      "Changing to logg=5.00 for T= 39081 logg=5.47\n",
      "Changing to logg=5.00 for T= 38974 logg=5.38\n",
      "Changing to logg=5.00 for T= 35701 logg=8.52\n",
      "Changing to logg=5.00 for T= 45669 logg=8.52\n",
      "Changing to logg=5.00 for T= 37474 logg=5.67\n",
      "Changing to logg=5.00 for T= 45668 logg=8.52\n",
      "Changing to logg=5.00 for T= 45668 logg=8.52\n",
      "Changing to logg=5.00 for T= 34428 logg=5.62\n",
      "Changing to logg=5.00 for T= 38750 logg=8.52\n",
      "Changing to logg=5.00 for T= 35759 logg=5.48\n",
      "Changing to logg=5.00 for T= 38968 logg=5.47\n",
      "Changing to logg=5.00 for T= 37645 logg=8.47\n",
      "Changing to logg=5.00 for T= 39333 logg=5.52\n",
      "Changing to logg=5.00 for T= 38750 logg=8.52\n",
      "Changing to logg=5.00 for T= 38750 logg=8.52\n",
      "Changing to logg=5.00 for T= 41390 logg=5.50\n",
      "Changing to logg=5.00 for T= 42302 logg=8.53\n",
      "Changing to logg=5.00 for T= 45668 logg=8.52\n",
      "Changing to logg=5.00 for T= 37547 logg=5.70\n",
      "Changing to logg=5.00 for T= 40751 logg=8.18\n",
      "Changing to logg=5.00 for T= 38205 logg=5.40\n",
      "Changing to logg=5.00 for T= 38750 logg=8.52\n",
      "Changing to logg=5.00 for T= 37968 logg=5.42\n",
      "Changing to logg=5.00 for T= 38945 logg=5.49\n",
      "Changing to logg=5.00 for T= 35722 logg=8.52\n",
      "Changing to logg=5.00 for T= 38796 logg=5.38\n",
      "Changing to logg=5.00 for T= 32888 logg=5.68\n",
      "Changing to logg=5.00 for T= 39126 logg=5.42\n",
      "Changing to logg=5.00 for T= 45668 logg=8.52\n",
      "Changing to logg=5.00 for T= 41051 logg=8.91\n",
      "Changing to logg=5.00 for T= 38268 logg=5.57\n",
      "Changing to logg=5.00 for T= 45668 logg=8.52\n",
      "Changing to logg=5.00 for T= 38868 logg=5.45\n",
      "Changing to logg=5.00 for T= 45668 logg=8.52\n",
      "Changing to logg=5.00 for T= 38750 logg=8.52\n",
      "Changing to logg=5.00 for T= 38750 logg=8.52\n",
      "Changing to logg=5.00 for T= 35040 logg=8.49\n",
      "Changing to logg=5.00 for T= 42302 logg=8.53\n",
      "Changing to logg=5.00 for T= 38062 logg=5.44\n",
      "Changing to logg=5.00 for T= 34986 logg=5.58\n",
      "Changing to logg=5.00 for T= 45668 logg=8.52\n",
      "Changing to logg=5.00 for T= 38750 logg=8.52\n",
      "Changing to logg=5.00 for T= 32931 logg=5.73\n",
      "Changing to logg=5.00 for T= 38901 logg=5.40\n",
      "Changing to logg=5.00 for T= 39086 logg=5.37\n",
      "Changing to logg=5.00 for T= 38750 logg=8.52\n",
      "Changing to logg=5.00 for T= 34113 logg=5.11\n",
      "Changing to logg=5.00 for T= 39059 logg=5.38\n",
      "Changing to logg=5.00 for T= 37820 logg=5.74\n",
      "Changing to logg=5.00 for T= 45739 logg=8.21\n",
      "Changing to logg=5.00 for T= 38747 logg=5.38\n",
      "Changing to logg=5.00 for T= 39042 logg=5.41\n",
      "Changing to logg=5.00 for T= 40930 logg=5.50\n",
      "Changing to logg=5.00 for T= 47516 logg=9.02\n",
      "Changing to logg=5.00 for T= 42302 logg=8.53\n",
      "Changing to logg=5.00 for T= 39474 logg=5.51\n",
      "Changing to logg=5.00 for T= 38750 logg=8.52\n",
      "Changing to logg=5.00 for T= 38750 logg=8.52\n",
      "Changing to logg=5.00 for T= 39105 logg=5.40\n",
      "Changing to logg=5.00 for T= 35706 logg=8.52\n",
      "Changing to logg=5.00 for T= 43455 logg=8.58\n",
      "Changing to logg=5.00 for T= 35710 logg=8.52\n",
      "Changing to logg=5.00 for T= 38750 logg=8.52\n"
     ]
    },
    {
     "name": "stdout",
     "output_type": "stream",
     "text": [
      "Changing to logg=5.00 for T= 42302 logg=8.53\n",
      "Changing to logg=5.00 for T= 38216 logg=5.28\n",
      "Changing to logg=5.00 for T= 38750 logg=8.52\n",
      "Changing to logg=5.00 for T= 39074 logg=5.38\n",
      "Changing to logg=5.00 for T= 42302 logg=8.53\n",
      "Changing to logg=5.00 for T= 38030 logg=5.34\n",
      "Changing to logg=5.00 for T= 38750 logg=8.52\n",
      "Changing to logg=5.00 for T= 42302 logg=8.53\n",
      "Changing to logg=5.00 for T= 35649 logg=8.52\n",
      "Changing to logg=5.00 for T= 45954 logg=8.68\n",
      "Changing to logg=5.00 for T= 45669 logg=8.52\n",
      "Changing to logg=5.00 for T= 38942 logg=5.43\n",
      "Changing to logg=5.00 for T= 38750 logg=8.52\n",
      "Changing to logg=5.00 for T= 35776 logg=8.52\n",
      "Changing to logg=5.00 for T= 45669 logg=8.52\n",
      "Changing to logg=5.00 for T= 45668 logg=8.52\n",
      "Changing to logg=5.00 for T= 34980 logg=5.56\n",
      "Changing to logg=5.00 for T= 37138 logg=5.69\n",
      "Changing to logg=5.00 for T= 35708 logg=8.52\n",
      "Changing to logg=5.00 for T= 43455 logg=8.58\n",
      "Changing to logg=5.00 for T= 42302 logg=8.53\n",
      "Changing to logg=5.00 for T= 38543 logg=5.67\n",
      "Changing to logg=5.00 for T= 35392 logg=8.22\n",
      "Changing to logg=5.00 for T= 37796 logg=5.52\n",
      "Changing to logg=5.00 for T= 42302 logg=8.53\n",
      "Changing to logg=5.00 for T= 45668 logg=8.52\n",
      "Changing to logg=5.00 for T= 38820 logg=5.38\n",
      "Changing to logg=5.00 for T= 40327 logg=8.45\n",
      "Changing to logg=5.00 for T= 38260 logg=5.41\n",
      "Changing to logg=5.00 for T= 35706 logg=5.17\n",
      "Changing to logg=5.00 for T= 38750 logg=8.52\n",
      "Changing to logg=5.00 for T= 35519 logg=8.51\n",
      "Changing to logg=5.00 for T= 37950 logg=5.39\n",
      "Changing to logg=5.00 for T= 38750 logg=8.52\n",
      "Changing to logg=5.00 for T= 38750 logg=8.52\n",
      "Changing to logg=5.00 for T= 38750 logg=8.52\n",
      "Changing to logg=5.00 for T= 47227 logg=8.14\n",
      "Changing to logg=5.00 for T= 42300 logg=8.53\n",
      "Changing to T= 50000 for T= 55186 logg=8.12\n",
      "Changing to logg=5.00 for T= 55186 logg=8.12\n",
      "Changing to logg=5.00 for T= 37933 logg=5.39\n",
      "Changing to logg=5.00 for T= 35040 logg=8.49\n",
      "Changing to T= 50000 for T= 85704 logg=8.31\n",
      "Changing to logg=5.00 for T= 85704 logg=8.31\n",
      "Changing to T= 50000 for T= 80369 logg=8.32\n",
      "Changing to logg=5.00 for T= 80369 logg=8.32\n",
      "Changing to logg=5.00 for T= 35040 logg=8.49\n",
      "Changing to logg=5.00 for T= 31631 logg=5.78\n",
      "Changing to logg=0.00 for T=  3295 logg=-0.23\n",
      "Changing to logg=5.00 for T= 35040 logg=8.49\n",
      "Changing to logg=0.00 for T=  3317 logg=-0.19\n",
      "Changing to logg=5.00 for T= 35040 logg=8.49\n",
      "Changing to logg=5.00 for T= 39339 logg=5.50\n",
      "Changing to logg=5.00 for T= 35040 logg=8.49\n",
      "Changing to logg=5.00 for T= 35040 logg=8.49\n",
      "Changing to logg=5.00 for T= 35161 logg=8.49\n",
      "Changing to logg=5.00 for T= 35040 logg=8.49\n",
      "Changing to logg=5.00 for T= 35040 logg=8.49\n",
      "Changing to logg=5.00 for T= 39015 logg=5.63\n",
      "Changing to T= 50000 for T=196662 logg=7.28\n",
      "Changing to logg=5.00 for T=196662 logg=7.28\n",
      "Changing to logg=5.00 for T= 35065 logg=8.49\n",
      "Changing to T= 50000 for T= 52576 logg=8.18\n",
      "Changing to logg=5.00 for T= 52576 logg=8.18\n",
      "Changing to T= 50000 for T=122659 logg=7.98\n",
      "Changing to logg=5.00 for T=122659 logg=7.98\n",
      "Changing to logg=5.00 for T= 27144 logg=6.25\n",
      "Changing to logg=5.00 for T= 35044 logg=8.49\n",
      "Changing to logg=5.00 for T= 38042 logg=5.48\n",
      "Changing to logg=5.00 for T= 35040 logg=8.49\n",
      "Changing to logg=5.00 for T= 35040 logg=8.49\n",
      "Changing to logg=5.00 for T= 35040 logg=8.49\n",
      "Changing to T= 50000 for T=197624 logg=7.27\n",
      "Changing to logg=5.00 for T=197624 logg=7.27\n",
      "Changing to logg=5.00 for T= 35041 logg=8.49\n",
      "Changing to logg=5.00 for T= 35042 logg=8.49\n",
      "Changing to logg=5.00 for T= 37720 logg=5.76\n",
      "Changing to logg=5.00 for T= 35040 logg=8.49\n",
      "Changing to logg=5.00 for T= 44961 logg=8.20\n",
      "Changing to logg=5.00 for T= 39290 logg=5.53\n",
      "Changing to logg=5.00 for T= 35040 logg=8.49\n",
      "Changing to logg=5.00 for T= 35047 logg=8.49\n",
      "Changing to logg=0.00 for T=  3317 logg=-0.19\n",
      "Changing to logg=5.00 for T= 35098 logg=8.49\n",
      "Changing to logg=5.00 for T= 34437 logg=5.46\n",
      "Changing to logg=5.00 for T= 42289 logg=5.55\n",
      "Changing to logg=5.00 for T= 33848 logg=5.68\n",
      "Changing to logg=5.00 for T= 38377 logg=5.39\n",
      "Changing to logg=5.00 for T= 35041 logg=8.49\n",
      "Changing to logg=5.00 for T= 39033 logg=5.45\n",
      "Changing to logg=5.00 for T= 35040 logg=8.49\n",
      "Changing to logg=5.00 for T= 39300 logg=5.53\n",
      "Changing to logg=5.00 for T= 38323 logg=5.43\n",
      "Changing to logg=5.00 for T= 37969 logg=5.40\n",
      "Changing to logg=5.00 for T= 35040 logg=8.49\n",
      "Changing to logg=5.00 for T= 35041 logg=8.49\n",
      "Changing to logg=5.00 for T= 35040 logg=8.49\n",
      "Changing to logg=5.00 for T= 39215 logg=5.43\n",
      "Changing to T= 50000 for T= 91531 logg=8.30\n",
      "Changing to logg=5.00 for T= 91531 logg=8.30\n",
      "Changing to logg=5.00 for T= 35040 logg=8.49\n",
      "Changing to logg=5.00 for T= 34340 logg=5.63\n",
      "Changing to logg=5.00 for T= 34450 logg=5.60\n",
      "Changing to logg=5.00 for T= 34271 logg=5.61\n",
      "Changing to logg=5.00 for T= 35040 logg=8.49\n",
      "Changing to logg=5.00 for T= 35040 logg=8.49\n",
      "Changing to logg=5.00 for T= 39061 logg=5.47\n",
      "Changing to logg=5.00 for T= 39098 logg=5.57\n",
      "Changing to logg=5.00 for T= 38718 logg=5.32\n",
      "Changing to logg=5.00 for T= 35040 logg=8.49\n",
      "Changing to logg=5.00 for T= 36208 logg=8.26\n",
      "Changing to T= 50000 for T= 53154 logg=8.20\n",
      "Changing to logg=5.00 for T= 53154 logg=8.20\n",
      "Changing to logg=5.00 for T= 39003 logg=5.46\n",
      "Changing to logg=5.00 for T= 39297 logg=5.50\n",
      "Changing to logg=5.00 for T= 38002 logg=5.45\n",
      "Changing to logg=5.00 for T= 35040 logg=8.49\n",
      "Changing to logg=5.00 for T= 38348 logg=5.37\n",
      "Changing to T= 50000 for T=172024 logg=7.24\n",
      "Changing to logg=5.00 for T=172024 logg=7.24\n",
      "Changing to logg=5.00 for T= 39010 logg=5.64\n",
      "Changing to logg=5.00 for T= 35233 logg=8.21\n",
      "Changing to logg=0.00 for T=  3317 logg=-0.19\n",
      "Changing to logg=5.00 for T= 37723 logg=5.77\n",
      "Changing to logg=5.00 for T= 37889 logg=5.54\n",
      "Changing to logg=5.00 for T= 35040 logg=8.49\n",
      "Changing to logg=5.00 for T= 39090 logg=5.45\n",
      "Changing to logg=0.00 for T=  3294 logg=-0.23\n",
      "Changing to logg=5.00 for T= 39162 logg=5.48\n",
      "Changing to logg=5.00 for T= 39282 logg=5.39\n",
      "Changing to logg=5.00 for T= 35040 logg=8.49\n",
      "Changing to logg=5.00 for T= 35040 logg=8.49\n",
      "Changing to logg=5.00 for T= 38497 logg=5.67\n",
      "Changing to logg=5.00 for T= 37267 logg=5.48\n",
      "Changing to logg=5.00 for T= 35040 logg=8.49\n",
      "Changing to logg=5.00 for T= 39184 logg=5.47\n",
      "Changing to logg=5.00 for T= 39296 logg=5.53\n",
      "Changing to logg=0.00 for T=  3317 logg=-0.19\n",
      "Changing to logg=5.00 for T= 35041 logg=8.49\n",
      "Changing to logg=5.00 for T= 31499 logg=8.21\n",
      "Changing to T= 50000 for T= 81089 logg=8.14\n",
      "Changing to logg=5.00 for T= 81089 logg=8.14\n",
      "Changing to logg=5.00 for T= 35040 logg=8.49\n",
      "Changing to logg=5.00 for T= 35040 logg=8.49\n",
      "Changing to logg=5.00 for T= 27868 logg=6.18\n",
      "Changing to logg=5.00 for T= 39019 logg=5.46\n",
      "Changing to logg=5.00 for T= 38506 logg=5.66\n",
      "Changing to logg=5.00 for T= 35040 logg=8.49\n",
      "Changing to logg=5.00 for T= 35040 logg=8.49\n",
      "Changing to logg=5.00 for T= 44686 logg=8.19\n",
      "Changing to logg=5.00 for T= 38521 logg=5.66\n",
      "Changing to logg=5.00 for T= 35040 logg=8.49\n",
      "Changing to logg=5.00 for T= 37700 logg=5.76\n",
      "Changing to logg=5.00 for T= 35040 logg=8.49\n",
      "Changing to logg=5.00 for T= 37054 logg=5.15\n",
      "Changing to logg=5.00 for T= 35040 logg=8.49\n",
      "Changing to logg=5.00 for T= 35040 logg=8.49\n",
      "Changing to logg=5.00 for T= 35046 logg=8.49\n",
      "Changing to logg=5.00 for T= 35040 logg=8.49\n",
      "Changing to logg=5.00 for T= 35040 logg=8.49\n",
      "Changing to logg=5.00 for T= 42994 logg=5.57\n",
      "Changing to logg=5.00 for T= 39115 logg=5.45\n",
      "Changing to logg=5.00 for T= 35040 logg=8.49\n",
      "Changing to logg=5.00 for T= 39152 logg=5.49\n",
      "Changing to logg=5.00 for T= 39260 logg=5.51\n",
      "Changing to logg=5.00 for T= 35040 logg=8.49\n",
      "Changing to logg=5.00 for T= 35040 logg=8.49\n",
      "Changing to logg=5.00 for T= 35123 logg=8.49\n",
      "Changing to T= 50000 for T= 90298 logg=8.31\n",
      "Changing to logg=5.00 for T= 90298 logg=8.31\n",
      "Changing to logg=5.00 for T= 35040 logg=8.49\n",
      "Changing to logg=5.00 for T= 35040 logg=8.49\n",
      "Changing to logg=5.00 for T= 36175 logg=5.49\n",
      "Changing to T= 50000 for T=170279 logg=7.23\n",
      "Changing to logg=5.00 for T=170279 logg=7.23\n",
      "Changing to logg=5.00 for T= 35040 logg=8.49\n",
      "Making photometry for isochrone: log(t) = 8.20  AKs = 0.60  dist = 100\n",
      "     Starting at:  2021-01-04 10:12:40.259627   Usually takes ~5 minutes\n",
      "Starting filter: ubv,U   Elapsed time: 0.00 seconds\n",
      "Starting synthetic photometry\n",
      "Singles\n",
      "M =   1.400 Msun  T =  6633 K  m_ubv_U = 18.37\n"
     ]
    },
    {
     "name": "stdout",
     "output_type": "stream",
     "text": [
      "Primaries\n",
      "M =   4.000 Msun  T = 11805 K  m_ubv_U = 13.00\n",
      "M =   1.400 Msun  T =   nan K  m_ubv_U =  nan\n",
      "M =   2.500 Msun  T = 10121 K  m_ubv_U = 15.50\n",
      "M =   1.000 Msun  T =   nan K  m_ubv_U =  nan\n",
      "M =   4.500 Msun  T =  4524 K  m_ubv_U = 14.74\n",
      "M =   3.500 Msun  T = 12112 K  m_ubv_U = 13.91\n",
      "M =   3.200 Msun  T = 11518 K  m_ubv_U = 12.44\n",
      "M =   4.500 Msun  T =  4524 K  m_ubv_U = 14.74\n",
      "M =   0.631 Msun  T =   nan K  m_ubv_U =  nan\n",
      "M =   6.500 Msun  T = 33471 K  m_ubv_U = 24.85\n",
      "M =   4.000 Msun  T = 11805 K  m_ubv_U = 13.00\n",
      "M =   4.500 Msun  T =  6502 K  m_ubv_U = 15.52\n",
      "M =   3.000 Msun  T = 11265 K  m_ubv_U = 14.67\n",
      "M =   5.000 Msun  T = 29779 K  m_ubv_U = 24.01\n",
      "M =   6.500 Msun  T = 33463 K  m_ubv_U = 24.85\n",
      "M =   5.500 Msun  T = 27320 K  m_ubv_U = 24.40\n",
      "M =   0.501 Msun  T =   nan K  m_ubv_U =  nan\n",
      "M =   2.100 Msun  T = 11910 K  m_ubv_U = 13.65\n",
      "M =   1.400 Msun  T =   nan K  m_ubv_U =  nan\n",
      "M =   1.400 Msun  T =   nan K  m_ubv_U =  nan\n",
      "M =   2.500 Msun  T = 10121 K  m_ubv_U = 15.50\n",
      "M =   1.400 Msun  T =   nan K  m_ubv_U =  nan\n",
      "M =   4.500 Msun  T = 39105 K  m_ubv_U = 15.88\n",
      "M =   1.400 Msun  T =   nan K  m_ubv_U =  nan\n",
      "M =   0.398 Msun  T =   nan K  m_ubv_U =  nan\n",
      "M =   2.700 Msun  T = 43455 K  m_ubv_U = 23.49\n",
      "M =   0.631 Msun  T =   nan K  m_ubv_U =  nan\n",
      "M =   1.000 Msun  T =   nan K  m_ubv_U =  nan\n",
      "Secondaries\n",
      "M =   0.400 Msun  T =  3660 K  m_ubv_U = 26.94\n",
      "M =   4.000 Msun  T = 11918 K  m_ubv_U = 13.02\n",
      "M =   1.250 Msun  T =  6269 K  m_ubv_U = 19.11\n",
      "M =   3.500 Msun  T = 11878 K  m_ubv_U = 13.85\n",
      "M =   1.800 Msun  T =  8328 K  m_ubv_U = 17.01\n",
      "M =   1.750 Msun  T =  8122 K  m_ubv_U = 17.15\n",
      "M =   0.640 Msun  T =   nan K  m_ubv_U =  nan\n",
      "M =   1.350 Msun  T =  6542 K  m_ubv_U = 18.61\n",
      "M =   3.500 Msun  T = 11878 K  m_ubv_U = 13.85\n",
      "M =   5.850 Msun  T = 15700 K  m_ubv_U = 11.71\n",
      "M =   0.400 Msun  T =  3660 K  m_ubv_U = 26.94\n",
      "M =   1.350 Msun  T =  5840 K  m_ubv_U = 18.98\n",
      "M =   0.600 Msun  T =  3947 K  m_ubv_U = 25.47\n",
      "M =   1.000 Msun  T =  5585 K  m_ubv_U = 20.77\n",
      "M =   4.550 Msun  T = 15779 K  m_ubv_U = 13.20\n",
      "M =   3.300 Msun  T = 12047 K  m_ubv_U = 14.16\n",
      "M =   5.000 Msun  T = 172024 K  m_ubv_U = 20.31\n",
      "M =   1.470 Msun  T =   nan K  m_ubv_U =  nan\n",
      "M =   4.000 Msun  T = 11918 K  m_ubv_U = 13.02\n",
      "M =   3.700 Msun  T = 12255 K  m_ubv_U = 13.57\n",
      "M =   2.000 Msun  T =  9101 K  m_ubv_U = 16.49\n",
      "M =   5.500 Msun  T = 26451 K  m_ubv_U = 24.37\n",
      "M =   1.800 Msun  T =  8148 K  m_ubv_U = 17.01\n",
      "M =   3.500 Msun  T = 11698 K  m_ubv_U = 13.76\n",
      "M =   4.500 Msun  T = 37700 K  m_ubv_U = 17.13\n",
      "M =   1.350 Msun  T =   nan K  m_ubv_U =  nan\n",
      "M =   3.700 Msun  T = 12011 K  m_ubv_U = 13.53\n",
      "M =   4.000 Msun  T = 11918 K  m_ubv_U = 13.02\n",
      "Starting filter: ubv,V   Elapsed time: 9.66 seconds\n",
      "Starting synthetic photometry\n",
      "Singles\n",
      "M =   1.400 Msun  T =  6633 K  m_ubv_V = 17.24\n",
      "Primaries\n",
      "M =   4.000 Msun  T = 11805 K  m_ubv_V = 12.76\n",
      "M =   1.400 Msun  T =   nan K  m_ubv_V =  nan\n",
      "M =   2.500 Msun  T = 10121 K  m_ubv_V = 14.95\n",
      "M =   1.000 Msun  T =   nan K  m_ubv_V =  nan\n",
      "M =   4.500 Msun  T =  4524 K  m_ubv_V = 11.53\n",
      "M =   3.500 Msun  T = 12112 K  m_ubv_V = 13.68\n",
      "M =   3.200 Msun  T = 11518 K  m_ubv_V = 12.18\n",
      "M =   4.500 Msun  T =  4524 K  m_ubv_V = 11.53\n",
      "M =   0.631 Msun  T =   nan K  m_ubv_V =  nan\n",
      "M =   6.500 Msun  T = 33471 K  m_ubv_V = 25.53\n",
      "M =   4.000 Msun  T = 11805 K  m_ubv_V = 12.76\n",
      "M =   4.500 Msun  T =  6502 K  m_ubv_V = 14.25\n",
      "M =   3.000 Msun  T = 11265 K  m_ubv_V = 14.32\n",
      "M =   5.000 Msun  T = 29779 K  m_ubv_V = 24.60\n",
      "M =   6.500 Msun  T = 33463 K  m_ubv_V = 25.53\n",
      "M =   5.500 Msun  T = 27320 K  m_ubv_V = 24.92\n",
      "M =   0.501 Msun  T =   nan K  m_ubv_V =  nan\n",
      "M =   2.100 Msun  T = 11910 K  m_ubv_V = 13.41\n",
      "M =   1.400 Msun  T =   nan K  m_ubv_V =  nan\n",
      "M =   1.400 Msun  T =   nan K  m_ubv_V =  nan\n",
      "M =   2.500 Msun  T = 10121 K  m_ubv_V = 14.95\n",
      "M =   1.400 Msun  T =   nan K  m_ubv_V =  nan\n",
      "M =   4.500 Msun  T = 39105 K  m_ubv_V = 16.65\n",
      "M =   1.400 Msun  T =   nan K  m_ubv_V =  nan\n",
      "M =   0.398 Msun  T =   nan K  m_ubv_V =  nan\n",
      "M =   2.700 Msun  T = 43455 K  m_ubv_V = 24.29\n",
      "M =   0.631 Msun  T =   nan K  m_ubv_V =  nan\n",
      "M =   1.000 Msun  T =   nan K  m_ubv_V =  nan\n",
      "Secondaries\n",
      "M =   0.400 Msun  T =  3660 K  m_ubv_V = 23.85\n",
      "M =   4.000 Msun  T = 11918 K  m_ubv_V = 12.79\n",
      "M =   1.250 Msun  T =  6269 K  m_ubv_V = 17.85\n",
      "M =   3.500 Msun  T = 11878 K  m_ubv_V = 13.60\n",
      "M =   1.800 Msun  T =  8328 K  m_ubv_V = 16.11\n",
      "M =   1.750 Msun  T =  8122 K  m_ubv_V = 16.23\n",
      "M =   0.640 Msun  T =   nan K  m_ubv_V =  nan\n",
      "M =   1.350 Msun  T =  6542 K  m_ubv_V = 17.45\n",
      "M =   3.500 Msun  T = 11878 K  m_ubv_V = 13.60\n",
      "M =   5.850 Msun  T = 15700 K  m_ubv_V = 11.84\n",
      "M =   0.400 Msun  T =  3660 K  m_ubv_V = 23.85\n",
      "M =   1.350 Msun  T =  5840 K  m_ubv_V = 17.47\n",
      "M =   0.600 Msun  T =  3947 K  m_ubv_V = 22.35\n",
      "M =   1.000 Msun  T =  5585 K  m_ubv_V = 19.05\n",
      "M =   4.550 Msun  T = 15779 K  m_ubv_V = 13.31\n",
      "M =   3.300 Msun  T = 12047 K  m_ubv_V = 13.92\n",
      "M =   5.000 Msun  T = 172024 K  m_ubv_V = 21.14\n",
      "M =   1.470 Msun  T =   nan K  m_ubv_V =  nan\n",
      "M =   4.000 Msun  T = 11918 K  m_ubv_V = 12.79\n",
      "M =   3.700 Msun  T = 12255 K  m_ubv_V = 13.38\n",
      "M =   2.000 Msun  T =  9101 K  m_ubv_V = 15.74\n",
      "M =   5.500 Msun  T = 26451 K  m_ubv_V = 24.85\n",
      "M =   1.800 Msun  T =  8148 K  m_ubv_V = 16.09\n",
      "M =   3.500 Msun  T = 11698 K  m_ubv_V = 13.49\n",
      "M =   4.500 Msun  T = 37700 K  m_ubv_V = 17.89\n",
      "M =   1.350 Msun  T =   nan K  m_ubv_V =  nan\n",
      "M =   3.700 Msun  T = 12011 K  m_ubv_V = 13.31\n",
      "M =   4.000 Msun  T = 11918 K  m_ubv_V = 12.79\n",
      "Starting filter: ubv,B   Elapsed time: 19.28 seconds\n",
      "Starting synthetic photometry\n",
      "Singles\n",
      "M =   1.400 Msun  T =  6633 K  m_ubv_B = 18.44\n",
      "Primaries\n",
      "M =   4.000 Msun  T = 11805 K  m_ubv_B = 13.31\n",
      "M =   1.400 Msun  T =   nan K  m_ubv_B =  nan\n",
      "M =   2.500 Msun  T = 10121 K  m_ubv_B = 15.58\n",
      "M =   1.000 Msun  T =   nan K  m_ubv_B =  nan\n",
      "M =   4.500 Msun  T =  4524 K  m_ubv_B = 13.68\n",
      "M =   3.500 Msun  T = 12112 K  m_ubv_B = 14.23\n",
      "M =   3.200 Msun  T = 11518 K  m_ubv_B = 12.73\n",
      "M =   4.500 Msun  T =  4524 K  m_ubv_B = 13.68\n",
      "M =   0.631 Msun  T =   nan K  m_ubv_B =  nan\n",
      "M =   6.500 Msun  T = 33471 K  m_ubv_B = 25.94\n",
      "M =   4.000 Msun  T = 11805 K  m_ubv_B = 13.31\n",
      "M =   4.500 Msun  T =  6502 K  m_ubv_B = 15.45\n",
      "M =   3.000 Msun  T = 11265 K  m_ubv_B = 14.89\n",
      "M =   5.000 Msun  T = 29779 K  m_ubv_B = 25.04\n",
      "M =   6.500 Msun  T = 33463 K  m_ubv_B = 25.94\n",
      "M =   5.500 Msun  T = 27320 K  m_ubv_B = 25.39\n",
      "M =   0.501 Msun  T =   nan K  m_ubv_B =  nan\n",
      "M =   2.100 Msun  T = 11910 K  m_ubv_B = 13.97\n",
      "M =   1.400 Msun  T =   nan K  m_ubv_B =  nan\n",
      "M =   1.400 Msun  T =   nan K  m_ubv_B =  nan\n",
      "M =   2.500 Msun  T = 10121 K  m_ubv_B = 15.58\n",
      "M =   1.400 Msun  T =   nan K  m_ubv_B =  nan\n",
      "M =   4.500 Msun  T = 39105 K  m_ubv_B = 16.96\n",
      "M =   1.400 Msun  T =   nan K  m_ubv_B =  nan\n",
      "M =   0.398 Msun  T =   nan K  m_ubv_B =  nan\n",
      "M =   2.700 Msun  T = 43455 K  m_ubv_B = 24.58\n",
      "M =   0.631 Msun  T =   nan K  m_ubv_B =  nan\n",
      "M =   1.000 Msun  T =   nan K  m_ubv_B =  nan\n",
      "Secondaries\n",
      "M =   0.400 Msun  T =  3660 K  m_ubv_B = 26.19\n",
      "M =   4.000 Msun  T = 11918 K  m_ubv_B = 13.34\n",
      "M =   1.250 Msun  T =  6269 K  m_ubv_B = 19.16\n",
      "M =   3.500 Msun  T = 11878 K  m_ubv_B = 14.15\n",
      "M =   1.800 Msun  T =  8328 K  m_ubv_B = 16.96\n",
      "M =   1.750 Msun  T =  8122 K  m_ubv_B = 17.12\n",
      "M =   0.640 Msun  T =   nan K  m_ubv_B =  nan\n",
      "M =   1.350 Msun  T =  6542 K  m_ubv_B = 18.68\n",
      "M =   3.500 Msun  T = 11878 K  m_ubv_B = 14.15\n",
      "M =   5.850 Msun  T = 15700 K  m_ubv_B = 12.32\n",
      "M =   0.400 Msun  T =  3660 K  m_ubv_B = 26.19\n",
      "M =   1.350 Msun  T =  5840 K  m_ubv_B = 18.93\n",
      "M =   0.600 Msun  T =  3947 K  m_ubv_B = 24.67\n",
      "M =   1.000 Msun  T =  5585 K  m_ubv_B = 20.63\n",
      "M =   4.550 Msun  T = 15779 K  m_ubv_B = 13.80\n",
      "M =   3.300 Msun  T = 12047 K  m_ubv_B = 14.47\n",
      "M =   5.000 Msun  T = 172024 K  m_ubv_B = 21.42\n",
      "M =   1.470 Msun  T =   nan K  m_ubv_B =  nan\n",
      "M =   4.000 Msun  T = 11918 K  m_ubv_B = 13.34\n",
      "M =   3.700 Msun  T = 12255 K  m_ubv_B = 13.92\n",
      "M =   2.000 Msun  T =  9101 K  m_ubv_B = 16.47\n",
      "M =   5.500 Msun  T = 26451 K  m_ubv_B = 25.33\n",
      "M =   1.800 Msun  T =  8148 K  m_ubv_B = 16.98\n",
      "M =   3.500 Msun  T = 11698 K  m_ubv_B = 14.05\n",
      "M =   4.500 Msun  T = 37700 K  m_ubv_B = 18.20\n",
      "M =   1.350 Msun  T =   nan K  m_ubv_B =  nan\n",
      "M =   3.700 Msun  T = 12011 K  m_ubv_B = 13.86\n",
      "M =   4.000 Msun  T = 11918 K  m_ubv_B = 13.34\n"
     ]
    },
    {
     "name": "stdout",
     "output_type": "stream",
     "text": [
      "Starting filter: ubv,R   Elapsed time: 28.81 seconds\n",
      "Starting synthetic photometry\n",
      "Singles\n",
      "M =   1.400 Msun  T =  6633 K  m_ubv_R = 14.78\n",
      "Primaries\n",
      "M =   4.000 Msun  T = 11805 K  m_ubv_R = 10.60\n",
      "M =   1.400 Msun  T =   nan K  m_ubv_R =  nan\n",
      "M =   2.500 Msun  T = 10121 K  m_ubv_R = 12.76\n",
      "M =   1.000 Msun  T =   nan K  m_ubv_R =  nan\n",
      "M =   4.500 Msun  T =  4524 K  m_ubv_R = 8.73\n",
      "M =   3.500 Msun  T = 12112 K  m_ubv_R = 11.53\n",
      "M =   3.200 Msun  T = 11518 K  m_ubv_R = 10.01\n",
      "M =   4.500 Msun  T =  4524 K  m_ubv_R = 8.73\n",
      "M =   0.631 Msun  T =   nan K  m_ubv_R =  nan\n",
      "M =   6.500 Msun  T = 33471 K  m_ubv_R = 23.48\n",
      "M =   4.000 Msun  T = 11805 K  m_ubv_R = 10.60\n",
      "M =   4.500 Msun  T =  6502 K  m_ubv_R = 11.79\n",
      "M =   3.000 Msun  T = 11265 K  m_ubv_R = 12.15\n",
      "M =   5.000 Msun  T = 29779 K  m_ubv_R = 22.55\n",
      "M =   6.500 Msun  T = 33463 K  m_ubv_R = 23.48\n",
      "M =   5.500 Msun  T = 27320 K  m_ubv_R = 22.86\n",
      "M =   0.501 Msun  T =   nan K  m_ubv_R =  nan\n",
      "M =   2.100 Msun  T = 11910 K  m_ubv_R = 11.25\n",
      "M =   1.400 Msun  T =   nan K  m_ubv_R =  nan\n",
      "M =   1.400 Msun  T =   nan K  m_ubv_R =  nan\n",
      "M =   2.500 Msun  T = 10121 K  m_ubv_R = 12.76\n",
      "M =   1.400 Msun  T =   nan K  m_ubv_R =  nan\n",
      "M =   4.500 Msun  T = 39105 K  m_ubv_R = 14.60\n",
      "M =   1.400 Msun  T =   nan K  m_ubv_R =  nan\n",
      "M =   0.398 Msun  T =   nan K  m_ubv_R =  nan\n",
      "M =   2.700 Msun  T = 43455 K  m_ubv_R = 22.24\n",
      "M =   0.631 Msun  T =   nan K  m_ubv_R =  nan\n",
      "M =   1.000 Msun  T =   nan K  m_ubv_R =  nan\n",
      "Secondaries\n",
      "M =   0.400 Msun  T =  3660 K  m_ubv_R = 20.66\n",
      "M =   4.000 Msun  T = 11918 K  m_ubv_R = 10.63\n",
      "M =   1.250 Msun  T =  6269 K  m_ubv_R = 15.34\n",
      "M =   3.500 Msun  T = 11878 K  m_ubv_R = 11.44\n",
      "M =   1.800 Msun  T =  8328 K  m_ubv_R = 13.84\n",
      "M =   1.750 Msun  T =  8122 K  m_ubv_R = 13.94\n",
      "M =   0.640 Msun  T =   nan K  m_ubv_R =  nan\n",
      "M =   1.350 Msun  T =  6542 K  m_ubv_R = 14.97\n",
      "M =   3.500 Msun  T = 11878 K  m_ubv_R = 11.44\n",
      "M =   5.850 Msun  T = 15700 K  m_ubv_R = 9.71\n",
      "M =   0.400 Msun  T =  3660 K  m_ubv_R = 20.66\n",
      "M =   1.350 Msun  T =  5840 K  m_ubv_R = 14.90\n",
      "M =   0.600 Msun  T =  3947 K  m_ubv_R = 19.31\n",
      "M =   1.000 Msun  T =  5585 K  m_ubv_R = 16.45\n",
      "M =   4.550 Msun  T = 15779 K  m_ubv_R = 11.18\n",
      "M =   3.300 Msun  T = 12047 K  m_ubv_R = 11.76\n",
      "M =   5.000 Msun  T = 172024 K  m_ubv_R = 19.08\n",
      "M =   1.470 Msun  T =   nan K  m_ubv_R =  nan\n",
      "M =   4.000 Msun  T = 11918 K  m_ubv_R = 10.63\n",
      "M =   3.700 Msun  T = 12255 K  m_ubv_R = 11.22\n",
      "M =   2.000 Msun  T =  9101 K  m_ubv_R = 13.52\n",
      "M =   5.500 Msun  T = 26451 K  m_ubv_R = 22.79\n",
      "M =   1.800 Msun  T =  8148 K  m_ubv_R = 13.80\n",
      "M =   3.500 Msun  T = 11698 K  m_ubv_R = 11.33\n",
      "M =   4.500 Msun  T = 37700 K  m_ubv_R = 15.84\n",
      "M =   1.350 Msun  T =   nan K  m_ubv_R =  nan\n",
      "M =   3.700 Msun  T = 12011 K  m_ubv_R = 11.15\n",
      "M =   4.000 Msun  T = 11918 K  m_ubv_R = 10.63\n",
      "Starting filter: ubv,I   Elapsed time: 38.42 seconds\n",
      "Starting synthetic photometry\n",
      "Singles\n",
      "M =   1.400 Msun  T =  6633 K  m_ubv_I = 11.47\n",
      "Primaries\n",
      "M =   4.000 Msun  T = 11805 K  m_ubv_I = 7.57\n",
      "M =   1.400 Msun  T =   nan K  m_ubv_I =  nan\n",
      "M =   2.500 Msun  T = 10121 K  m_ubv_I = 9.68\n",
      "M =   1.000 Msun  T =   nan K  m_ubv_I =  nan\n",
      "M =   4.500 Msun  T =  4524 K  m_ubv_I = 5.06\n",
      "M =   3.500 Msun  T = 12112 K  m_ubv_I = 8.51\n",
      "M =   3.200 Msun  T = 11518 K  m_ubv_I = 6.97\n",
      "M =   4.500 Msun  T =  4524 K  m_ubv_I = 5.06\n",
      "M =   0.631 Msun  T =   nan K  m_ubv_I =  nan\n",
      "M =   6.500 Msun  T = 33471 K  m_ubv_I = 20.67\n",
      "M =   4.000 Msun  T = 11805 K  m_ubv_I = 7.57\n",
      "M =   4.500 Msun  T =  6502 K  m_ubv_I = 8.46\n",
      "M =   3.000 Msun  T = 11265 K  m_ubv_I = 9.11\n",
      "M =   5.000 Msun  T = 29779 K  m_ubv_I = 19.73\n",
      "M =   6.500 Msun  T = 33463 K  m_ubv_I = 20.67\n",
      "M =   5.500 Msun  T = 27320 K  m_ubv_I = 20.02\n",
      "M =   0.501 Msun  T =   nan K  m_ubv_I =  nan\n",
      "M =   2.100 Msun  T = 11910 K  m_ubv_I = 8.23\n",
      "M =   1.400 Msun  T =   nan K  m_ubv_I =  nan\n",
      "M =   1.400 Msun  T =   nan K  m_ubv_I =  nan\n",
      "M =   2.500 Msun  T = 10121 K  m_ubv_I = 9.68\n",
      "M =   1.400 Msun  T =   nan K  m_ubv_I =  nan\n",
      "M =   4.500 Msun  T = 39105 K  m_ubv_I = 11.80\n",
      "M =   1.400 Msun  T =   nan K  m_ubv_I =  nan\n",
      "M =   0.398 Msun  T =   nan K  m_ubv_I =  nan\n",
      "M =   2.700 Msun  T = 43455 K  m_ubv_I = 19.44\n",
      "M =   0.631 Msun  T =   nan K  m_ubv_I =  nan\n",
      "M =   1.000 Msun  T =   nan K  m_ubv_I =  nan\n",
      "Secondaries\n",
      "M =   0.400 Msun  T =  3660 K  m_ubv_I = 16.51\n",
      "M =   4.000 Msun  T = 11918 K  m_ubv_I = 7.60\n",
      "M =   1.250 Msun  T =  6269 K  m_ubv_I = 11.99\n",
      "M =   3.500 Msun  T = 11878 K  m_ubv_I = 8.41\n",
      "M =   1.800 Msun  T =  8328 K  m_ubv_I = 10.68\n",
      "M =   1.750 Msun  T =  8122 K  m_ubv_I = 10.77\n",
      "M =   0.640 Msun  T =   nan K  m_ubv_I =  nan\n",
      "M =   1.350 Msun  T =  6542 K  m_ubv_I = 11.65\n",
      "M =   3.500 Msun  T = 11878 K  m_ubv_I = 8.41\n",
      "M =   5.850 Msun  T = 15700 K  m_ubv_I = 6.76\n",
      "M =   0.400 Msun  T =  3660 K  m_ubv_I = 16.51\n",
      "M =   1.350 Msun  T =  5840 K  m_ubv_I = 11.50\n",
      "M =   0.600 Msun  T =  3947 K  m_ubv_I = 15.37\n",
      "M =   1.000 Msun  T =  5585 K  m_ubv_I = 13.01\n",
      "M =   4.550 Msun  T = 15779 K  m_ubv_I = 8.23\n",
      "M =   3.300 Msun  T = 12047 K  m_ubv_I = 8.74\n",
      "M =   5.000 Msun  T = 172024 K  m_ubv_I = 16.30\n",
      "M =   1.470 Msun  T =   nan K  m_ubv_I =  nan\n",
      "M =   4.000 Msun  T = 11918 K  m_ubv_I = 7.60\n",
      "M =   3.700 Msun  T = 12255 K  m_ubv_I = 8.20\n",
      "M =   2.000 Msun  T =  9101 K  m_ubv_I = 10.40\n",
      "M =   5.500 Msun  T = 26451 K  m_ubv_I = 19.95\n",
      "M =   1.800 Msun  T =  8148 K  m_ubv_I = 10.64\n",
      "M =   3.500 Msun  T = 11698 K  m_ubv_I = 8.30\n",
      "M =   4.500 Msun  T = 37700 K  m_ubv_I = 13.04\n",
      "M =   1.350 Msun  T =   nan K  m_ubv_I =  nan\n",
      "M =   3.700 Msun  T = 12011 K  m_ubv_I = 8.13\n",
      "M =   4.000 Msun  T = 11918 K  m_ubv_I = 7.60\n",
      "      Time taken: 48.52 seconds\n",
      "Isochrone generation took 371.522384 s.\n"
     ]
    }
   ],
   "source": [
    "import spisea\n",
    "from spisea import evolution, synthetic\n",
    "import math\n",
    "# Check if the evolution class works fine\n",
    "import time\n",
    "t1=time.time()\n",
    "bps=evolution.BPASS()\n",
    "iso1=synthetic.Isochrone_Binary(8.2, 0.6, 100,math.log10(1), mass_sampling=1, filepath='/g/lu/scratch/ryotainagaki/BPASS_iso_filesTimedIsolated/')"
   ]
  },
  {
   "cell_type": "markdown",
   "metadata": {},
   "source": [
    "For a sanity check, we can see that the primaries, secondaries, and single stars have phasees of 5 or of 101 or of 110. Note that we will have a phase of 110 in order to indicate a mystery compact remnant that BPASS provides for NEWSECMODS (secondary star models with compact primaries). This is since we haven't added neutron stars or black holes yet. Stars with phase of -99 exist, and those are the secondary stars that have already merged. Secondary stars that have merged with their primaries have designation of phase -99."
   ]
  },
  {
   "cell_type": "code",
   "execution_count": 2,
   "metadata": {},
   "outputs": [
    {
     "data": {
      "text/plain": [
       "True"
      ]
     },
     "execution_count": 2,
     "metadata": {},
     "output_type": "execute_result"
    }
   ],
   "source": [
    "import numpy as np\n",
    "np.all([(x==5 or x==101 or x==110) for x in iso1.primaries['phase']])"
   ]
  },
  {
   "cell_type": "code",
   "execution_count": 3,
   "metadata": {},
   "outputs": [
    {
     "data": {
      "text/plain": [
       "True"
      ]
     },
     "execution_count": 3,
     "metadata": {},
     "output_type": "execute_result"
    }
   ],
   "source": [
    "np.all([(x==5 or x==101 or x==110) for x in iso1.singles['phase']])"
   ]
  },
  {
   "cell_type": "code",
   "execution_count": 4,
   "metadata": {},
   "outputs": [
    {
     "data": {
      "text/plain": [
       "True"
      ]
     },
     "execution_count": 4,
     "metadata": {},
     "output_type": "execute_result"
    }
   ],
   "source": [
    "np.all([(x==5 or x==101 or x==-99) for x in iso1.secondaries['phase']])"
   ]
  },
  {
   "cell_type": "markdown",
   "metadata": {},
   "source": [
    "Find the maximum, mean, and median  values of logg (cgs) for primaries and secondaries accounting for NaNs in the columns. (For max we make NaNs the same as - infinity and for median and mean, we do not include them)"
   ]
  },
  {
   "cell_type": "code",
   "execution_count": 5,
   "metadata": {},
   "outputs": [
    {
     "data": {
      "text/plain": [
       "9.294869501162154"
      ]
     },
     "execution_count": 5,
     "metadata": {},
     "output_type": "execute_result"
    }
   ],
   "source": [
    "np.max(iso1.singles['logg'])"
   ]
  },
  {
   "cell_type": "code",
   "execution_count": 6,
   "metadata": {},
   "outputs": [
    {
     "data": {
      "text/plain": [
       "9.288600394549206"
      ]
     },
     "execution_count": 6,
     "metadata": {},
     "output_type": "execute_result"
    }
   ],
   "source": [
    "np.max(np.nan_to_num(iso1.primaries['logg'], -np.inf))"
   ]
  },
  {
   "cell_type": "code",
   "execution_count": 7,
   "metadata": {},
   "outputs": [
    {
     "data": {
      "text/plain": [
       "9.283702439639246"
      ]
     },
     "execution_count": 7,
     "metadata": {},
     "output_type": "execute_result"
    }
   ],
   "source": [
    "np.max(np.nan_to_num(iso1.secondaries['logg'], -np.inf))"
   ]
  },
  {
   "cell_type": "code",
   "execution_count": 8,
   "metadata": {},
   "outputs": [
    {
     "data": {
      "text/plain": [
       "4.2498758947769355"
      ]
     },
     "execution_count": 8,
     "metadata": {},
     "output_type": "execute_result"
    }
   ],
   "source": [
    "np.median(iso1.singles['logg'][np.where(~np.isnan(iso1.singles['logg']))])"
   ]
  },
  {
   "cell_type": "code",
   "execution_count": 9,
   "metadata": {},
   "outputs": [
    {
     "data": {
      "text/plain": [
       "4.101838137301644"
      ]
     },
     "execution_count": 9,
     "metadata": {},
     "output_type": "execute_result"
    }
   ],
   "source": [
    "np.median(iso1.primaries['logg'][np.where(~np.isnan(iso1.primaries['logg']))])"
   ]
  },
  {
   "cell_type": "code",
   "execution_count": 10,
   "metadata": {},
   "outputs": [
    {
     "name": "stderr",
     "output_type": "stream",
     "text": [
      "/opt/anaconda3/envs/astroconda/lib/python3.7/site-packages/ipykernel_launcher.py:1: FutureWarning: Using a non-tuple sequence for multidimensional indexing is deprecated; use `arr[tuple(seq)]` instead of `arr[seq]`. In the future this will be interpreted as an array index, `arr[np.array(seq)]`, which will result either in an error or a different result.\n",
      "  \"\"\"Entry point for launching an IPython kernel.\n"
     ]
    },
    {
     "data": {
      "text/plain": [
       "4.298445675989428"
      ]
     },
     "execution_count": 10,
     "metadata": {},
     "output_type": "execute_result"
    }
   ],
   "source": [
    "np.median(iso1.secondaries['logg'][[np.where(~np.isnan(iso1.secondaries['logg']))]])"
   ]
  },
  {
   "cell_type": "code",
   "execution_count": 11,
   "metadata": {},
   "outputs": [
    {
     "data": {
      "text/plain": [
       "5.354531279865074"
      ]
     },
     "execution_count": 11,
     "metadata": {},
     "output_type": "execute_result"
    }
   ],
   "source": [
    "np.mean(iso1.singles['logg'][np.where(~np.isnan(iso1.singles['logg']))])"
   ]
  },
  {
   "cell_type": "code",
   "execution_count": 12,
   "metadata": {},
   "outputs": [
    {
     "data": {
      "text/plain": [
       "5.166598048581407"
      ]
     },
     "execution_count": 12,
     "metadata": {},
     "output_type": "execute_result"
    }
   ],
   "source": [
    "np.mean(iso1.primaries['logg'][np.where(~np.isnan(iso1.primaries['logg']))])"
   ]
  },
  {
   "cell_type": "code",
   "execution_count": 13,
   "metadata": {},
   "outputs": [
    {
     "data": {
      "text/plain": [
       "4.7087761944824305"
      ]
     },
     "execution_count": 13,
     "metadata": {},
     "output_type": "execute_result"
    }
   ],
   "source": [
    "np.mean(iso1.secondaries['logg'][np.where(~np.isnan(iso1.secondaries['logg']))])"
   ]
  },
  {
   "cell_type": "markdown",
   "metadata": {},
   "source": [
    "Let's make a histogram of log_g values for each table of the isochrone"
   ]
  },
  {
   "cell_type": "code",
   "execution_count": 14,
   "metadata": {},
   "outputs": [
    {
     "data": {
      "text/plain": [
       "Text(0.5, 0, 'logg in cgs')"
      ]
     },
     "execution_count": 14,
     "metadata": {},
     "output_type": "execute_result"
    },
    {
     "data": {
      "image/png": "[encoded data removed]",
      "text/plain": [
       "<Figure size 432x288 with 1 Axes>"
      ]
     },
     "metadata": {
      "needs_background": "light"
     },
     "output_type": "display_data"
    }
   ],
   "source": [
    "import matplotlib.pyplot as plt\n",
    "plt.title(\"Histogram of logg values (secondaries) of BPASS isochrone\")\n",
    "plt.hist(np.array([x for x in iso1.secondaries['logg'] if np.isfinite(x)]), np.arange(0, 30, 1))\n",
    "plt.xlabel(\"logg in cgs\")"
   ]
  },
  {
   "cell_type": "code",
   "execution_count": 15,
   "metadata": {},
   "outputs": [
    {
     "data": {
      "text/plain": [
       "Text(0.5, 0, 'logg in cgs')"
      ]
     },
     "execution_count": 15,
     "metadata": {},
     "output_type": "execute_result"
    },
    {
     "data": {
      "image/png": "[encoded data removed]",
      "text/plain": [
       "<Figure size 432x288 with 1 Axes>"
      ]
     },
     "metadata": {
      "needs_background": "light"
     },
     "output_type": "display_data"
    }
   ],
   "source": [
    "import matplotlib.pyplot as plt\n",
    "plt.title(\"Histogram of logg values (primaries) of BPASS isochrone\")\n",
    "plt.hist(np.array([x for x in iso1.primaries['logg'] if np.isfinite(x)]), np.arange(0, 30, 1))\n",
    "plt.xlabel(\"logg in cgs\")"
   ]
  },
  {
   "cell_type": "code",
   "execution_count": 16,
   "metadata": {},
   "outputs": [
    {
     "data": {
      "text/plain": [
       "Text(0.5, 0, 'logg in cgs')"
      ]
     },
     "execution_count": 16,
     "metadata": {},
     "output_type": "execute_result"
    },
    {
     "data": {
      "image/png": "[encoded data removed]",
      "text/plain": [
       "<Figure size 432x288 with 1 Axes>"
      ]
     },
     "metadata": {
      "needs_background": "light"
     },
     "output_type": "display_data"
    }
   ],
   "source": [
    "import matplotlib.pyplot as plt\n",
    "plt.title(\"Histogram of logg values single stars of BPASS isochrone\")\n",
    "plt.hist(np.array([x for x in iso1.singles['logg'] if np.isfinite(x)]), np.arange(0, 30, 1))\n",
    "plt.xlabel(\"logg in cgs\")"
   ]
  },
  {
   "cell_type": "markdown",
   "metadata": {},
   "source": [
    "For comparison, let's create a Parsec isochrone  phot using otherwise same parameters."
   ]
  },
  {
   "cell_type": "code",
   "execution_count": 17,
   "metadata": {},
   "outputs": [
    {
     "name": "stdout",
     "output_type": "stream",
     "text": [
      "Isochrone generation took 16.360232 s.\n",
      "Making photometry for isochrone: log(t) = 8.20  AKs = 0.60  dist = 100\n",
      "     Starting at:  2021-01-04 10:13:45.980349   Usually takes ~5 minutes\n",
      "Starting filter: ubv,U   Elapsed time: 0.00 seconds\n",
      "Starting synthetic photometry\n",
      "M =   0.090 Msun  T =  2491 K  m_ubv_U = 33.66\n",
      "M =   4.155 Msun  T = 11703 K  m_ubv_U = 12.50\n",
      "M =   4.371 Msun  T =  4036 K  m_ubv_U = 14.94\n",
      "Starting filter: ubv,B   Elapsed time: 0.46 seconds\n",
      "Starting synthetic photometry\n",
      "M =   0.090 Msun  T =  2491 K  m_ubv_B = 33.97\n",
      "M =   4.155 Msun  T = 11703 K  m_ubv_B = 12.82\n",
      "M =   4.371 Msun  T =  4036 K  m_ubv_B = 13.50\n",
      "Starting filter: ubv,V   Elapsed time: 0.91 seconds\n",
      "Starting synthetic photometry\n",
      "M =   0.090 Msun  T =  2491 K  m_ubv_V = 31.29\n",
      "M =   4.155 Msun  T = 11703 K  m_ubv_V = 12.27\n",
      "M =   4.371 Msun  T =  4036 K  m_ubv_V = 11.01\n",
      "Starting filter: ubv,R   Elapsed time: 1.38 seconds\n",
      "Starting synthetic photometry\n",
      "M =   0.090 Msun  T =  2491 K  m_ubv_R = 25.92\n",
      "M =   4.155 Msun  T = 11703 K  m_ubv_R = 10.10\n",
      "M =   4.371 Msun  T =  4036 K  m_ubv_R = 8.05\n",
      "Starting filter: ubv,I   Elapsed time: 1.81 seconds\n",
      "Starting synthetic photometry\n",
      "M =   0.090 Msun  T =  2491 K  m_ubv_I = 19.89\n",
      "M =   4.155 Msun  T = 11703 K  m_ubv_I = 7.07\n",
      "M =   4.371 Msun  T =  4036 K  m_ubv_I = 4.20\n",
      "      Time taken: 2.24 seconds\n"
     ]
    }
   ],
   "source": [
    "iso2=synthetic.IsochronePhot(8.2, 0.6, 100, math.log(1), evo_model=evolution.Parsec(), recomp=True) # New Parsec isochrone for same metallicity"
   ]
  },
  {
   "cell_type": "markdown",
   "metadata": {},
   "source": [
    "Find the maximum logg of the isochrone and the distribution of logg values of the new isochrone."
   ]
  },
  {
   "cell_type": "code",
   "execution_count": 18,
   "metadata": {},
   "outputs": [
    {
     "data": {
      "text/plain": [
       "4.8974"
      ]
     },
     "execution_count": 18,
     "metadata": {},
     "output_type": "execute_result"
    }
   ],
   "source": [
    "np.max(iso2.points['logg'])"
   ]
  },
  {
   "cell_type": "code",
   "execution_count": 19,
   "metadata": {
    "scrolled": true
   },
   "outputs": [
    {
     "data": {
      "text/plain": [
       "(array([14., 56., 26., 36., 84.,  0.,  0.,  0.,  0.,  0.,  0.,  0.,  0.,\n",
       "         0.,  0.,  0.,  0.,  0.,  0.,  0.,  0.,  0.,  0.,  0.,  0.,  0.,\n",
       "         0.,  0.,  0.]),\n",
       " array([ 0,  1,  2,  3,  4,  5,  6,  7,  8,  9, 10, 11, 12, 13, 14, 15, 16,\n",
       "        17, 18, 19, 20, 21, 22, 23, 24, 25, 26, 27, 28, 29]),\n",
       " <a list of 29 Patch objects>)"
      ]
     },
     "execution_count": 19,
     "metadata": {},
     "output_type": "execute_result"
    },
    {
     "data": {
      "image/png": "[encoded data removed]",
      "text/plain": [
       "<Figure size 432x288 with 1 Axes>"
      ]
     },
     "metadata": {
      "needs_background": "light"
     },
     "output_type": "display_data"
    }
   ],
   "source": [
    "import matplotlib.pyplot as plt\n",
    "plt.xlabel(\"logg in cgs\")\n",
    "plt.title(\"Histogram of logg values of stars in the Parsec isochrone\")\n",
    "plt.hist(np.array([x for x in iso2.points['logg'] if np.isfinite(x)]), np.arange(0, 30, 1))"
   ]
  },
  {
   "cell_type": "markdown",
   "metadata": {},
   "source": [
    "Finding the log_g median and mean for the new isochronePhot"
   ]
  },
  {
   "cell_type": "code",
   "execution_count": 20,
   "metadata": {},
   "outputs": [
    {
     "data": {
      "text/plain": [
       "3.4698"
      ]
     },
     "execution_count": 20,
     "metadata": {},
     "output_type": "execute_result"
    }
   ],
   "source": [
    "np.median(iso2.points['logg'])"
   ]
  },
  {
   "cell_type": "code",
   "execution_count": 21,
   "metadata": {},
   "outputs": [
    {
     "data": {
      "text/plain": [
       "3.0808240740740738"
      ]
     },
     "execution_count": 21,
     "metadata": {},
     "output_type": "execute_result"
    }
   ],
   "source": [
    "np.mean(iso2.points['logg'])"
   ]
  },
  {
   "cell_type": "markdown",
   "metadata": {},
   "source": [
    "Now we want to make clusters for both of these models and plot CMD, HR Diagram, and Mass Luminosity relationship for the isochrones. Then, we want to find the Mass luminosity relationship and CMD for the cluster."
   ]
  },
  {
   "cell_type": "code",
   "execution_count": 22,
   "metadata": {},
   "outputs": [],
   "source": [
    "from spisea import imf\n",
    "from spisea.imf import imf, multiplicity\n",
    "from spisea import ifmr\n"
   ]
  },
  {
   "cell_type": "code",
   "execution_count": 23,
   "metadata": {
    "scrolled": true
   },
   "outputs": [
    {
     "name": "stdout",
     "output_type": "stream",
     "text": [
      "Found 10 companions out of stellar mass range\n"
     ]
    },
    {
     "name": "stderr",
     "output_type": "stream",
     "text": [
      "/opt/anaconda3/envs/astroconda/lib/python3.7/site-packages/astropy/table/column.py:1020: RuntimeWarning: invalid value encountered in greater_equal\n",
      "  result = getattr(super(), op)(other)\n"
     ]
    }
   ],
   "source": [
    "clus_1=synthetic.Binary_Cluster(iso1, imf.IMFSalpeter1955(multiplicity=multiplicity.MultiplicityResolvedDK()), 2000, ifmr=ifmr.IFMR_Spera15())\n",
    "clus_2=synthetic.ResolvedCluster(iso2, imf.IMFSalpeter1955(multiplicity=multiplicity.MultiplicityResolvedDK()), 2000, ifmr=ifmr.IFMR_Spera15())"
   ]
  },
  {
   "cell_type": "markdown",
   "metadata": {},
   "source": [
    "Taking a look at the Binary Cluster vs Default Settings cluster CMD\n",
    "Remember to subtract from V a distance modulus! 5$log_{10}$(distance to cluster/(10 pc))"
   ]
  },
  {
   "cell_type": "code",
   "execution_count": 24,
   "metadata": {},
   "outputs": [
    {
     "data": {
      "text/plain": [
       "<matplotlib.legend.Legend at 0x7ffe3a05e7f0>"
      ]
     },
     "execution_count": 24,
     "metadata": {},
     "output_type": "execute_result"
    },
    {
     "data": {
      "image/png": "[encoded data removed]",
      "text/plain": [
       "<Figure size 432x288 with 1 Axes>"
      ]
     },
     "metadata": {
      "needs_background": "light"
     },
     "output_type": "display_data"
    }
   ],
   "source": [
    "\n",
    "import matplotlib.pyplot as plt\n",
    "plt.plot(iso1.primaries['m_ubv_B']-iso1.primaries[\"m_ubv_V\"], iso1.primaries[\"m_ubv_V\"]-5*np.log10(100/10), \"r.\")\n",
    "plt.plot(iso1.secondaries['m_ubv_B']-iso1.secondaries[\"m_ubv_V\"], iso1.secondaries[\"m_ubv_V\"]-5*np.log10(100/10), \"r.\")\n",
    "plt.plot(iso1.singles['m_ubv_B']-iso1.singles[\"m_ubv_V\"], iso1.singles[\"m_ubv_V\"]-5*np.log10(100/10), \"r.\", label=\"BPASS isochrone\")\n",
    "plt.plot(iso2.points['m_ubv_B']-iso2.points[\"m_ubv_V\"], iso2.points[\"m_ubv_V\"]-5*np.log10(100/10), \"b+\", label=\"Parsec Isochrone\", alpha=0.25)\n",
    "plt.xlabel(\"B-V\")\n",
    "plt.ylabel(\"pseudo - M_V\")\n",
    "plt.title(\"Color magnitude Diagram of Isochrones at solar metallicity and 10**8.2 years age\")\n",
    "plt.gca().invert_yaxis()\n",
    "plt.legend()"
   ]
  },
  {
   "cell_type": "markdown",
   "metadata": {},
   "source": [
    "Taking a look at the Binary Cluster vs Default Settings cluster CMD\n",
    "Remember to subtract from V a distance modulus! 5$log_{10}$(distance to cluster/(10 pc))"
   ]
  },
  {
   "cell_type": "code",
   "execution_count": 25,
   "metadata": {},
   "outputs": [
    {
     "data": {
      "text/plain": [
       "<matplotlib.legend.Legend at 0x7ffe3a012c50>"
      ]
     },
     "execution_count": 25,
     "metadata": {},
     "output_type": "execute_result"
    },
    {
     "data": {
      "image/png": "[encoded data removed]",
      "text/plain": [
       "<Figure size 432x288 with 1 Axes>"
      ]
     },
     "metadata": {
      "needs_background": "light"
     },
     "output_type": "display_data"
    }
   ],
   "source": [
    "import matplotlib.pyplot as plt\n",
    "plt.plot(np.log10(iso1.primaries['Teff']), np.log10(iso1.primaries[\"L\"]), \"r.\")\n",
    "plt.plot(np.log10(iso1.secondaries['Teff']), np.log10(iso1.secondaries[\"L\"]), \"r.\")\n",
    "plt.plot(np.log10(iso1.singles['Teff']), np.log10(iso1.singles[\"L\"]), \"r.\", label=\"BPASS isochrone\")\n",
    "plt.plot(np.log10(iso2.points['Teff']), np.log10(iso2.points[\"L\"]), \"b+\", label=\"Parsec Isochrone\", alpha=0.25)\n",
    "plt.xlabel(\"log10(T in kelvin)\")\n",
    "plt.ylabel(\"log10(L in watts)\")\n",
    "plt.title(\"HR Diagram of Isochrones at solar metallicity and 10**8.2 years age\")\n",
    "plt.gca().invert_xaxis()\n",
    "plt.legend()\n",
    "# Rough pattern seems to fit. What's that line?"
   ]
  },
  {
   "cell_type": "code",
   "execution_count": 26,
   "metadata": {},
   "outputs": [
    {
     "data": {
      "text/plain": [
       "<matplotlib.legend.Legend at 0x7ffe1a35ee48>"
      ]
     },
     "execution_count": 26,
     "metadata": {},
     "output_type": "execute_result"
    },
    {
     "data": {
      "image/png": "[encoded data removed]",
      "text/plain": [
       "<Figure size 432x288 with 1 Axes>"
      ]
     },
     "metadata": {
      "needs_background": "light"
     },
     "output_type": "display_data"
    }
   ],
   "source": [
    "# Plot the mass-luminosity relationship\n",
    "from astropy import constants as cs\n",
    "import matplotlib.pyplot as plt\n",
    "plt.plot(np.log10(iso1.primaries['mass_current']), np.log10(iso1.primaries[\"L\"]/cs.L_sun), \"r.\")\n",
    "plt.plot(np.log10(iso1.secondaries['mass_current']), np.log10(iso1.secondaries[\"L\"]/cs.L_sun), \"r.\")\n",
    "plt.plot(np.log10(iso1.singles['mass_current']), np.log10(iso1.singles[\"L\"]/cs.L_sun), \"r.\", label=\"BPASS isochrone\")\n",
    "plt.plot(np.log10(iso2.points['mass_current']), np.log10(iso2.points[\"L\"]/cs.L_sun), \"b+\", label=\"Parsec Isochrone\", alpha=0.25)\n",
    "plt.xlabel(\"log10(Current Mass in solar masses)\")\n",
    "plt.ylabel(\"log10(L/L_solar)\")\n",
    "plt.title(\"log Mass-logL of Isochrones at solar metallicity and 10**8.2 years age\")\n",
    "plt.legend()\n",
    "# Rough pattern seems to fit. What's that line?"
   ]
  },
  {
   "cell_type": "code",
   "execution_count": 27,
   "metadata": {},
   "outputs": [
    {
     "data": {
      "text/plain": [
       "<matplotlib.legend.Legend at 0x7ffe3a151e80>"
      ]
     },
     "execution_count": 27,
     "metadata": {},
     "output_type": "execute_result"
    },
    {
     "data": {
      "image/png": "[encoded data removed]",
      "text/plain": [
       "<Figure size 432x288 with 1 Axes>"
      ]
     },
     "metadata": {
      "needs_background": "light"
     },
     "output_type": "display_data"
    }
   ],
   "source": [
    "# Plot the mass-luminosity relationship\n",
    "from astropy import constants as cs\n",
    "from astropy import units as u\n",
    "import matplotlib.pyplot as plt\n",
    "plt.plot(np.log10(clus_1.star_systems['mass_current']), np.log10(clus_1.star_systems[\"L\"]/cs.L_sun), \"r.\", label=\"Binary_Cluster made from BPASS\", alpha =1)\n",
    "plt.plot(np.log10(clus_2.star_systems['mass_current']), np.log10(clus_2.star_systems[\"L\"]/(cs.L_sun*1/u.W)), \"b+\", label=\"Cluster made from Parsec\", alpha=0.1)\n",
    "plt.xlabel(\"log10(Current Mass in solar masses)\")\n",
    "plt.ylabel(\"log10(L/L_solar)\")\n",
    "plt.title(\"log-Mass-logL of Cluster at solar metallicity and 10**8.2 years age (for primaries and single stars)\")\n",
    "plt.legend()\n",
    "# Rough pattern seems to fit. What's that line?"
   ]
  },
  {
   "cell_type": "markdown",
   "metadata": {},
   "source": [
    "Taking a look at the Binary Cluster vs \"Default Settings cluster\" Observer's HR Diagram\n",
    "Remember to use a distance modulus!"
   ]
  },
  {
   "cell_type": "code",
   "execution_count": 28,
   "metadata": {},
   "outputs": [
    {
     "data": {
      "text/plain": [
       "<matplotlib.legend.Legend at 0x7ffe1a5759b0>"
      ]
     },
     "execution_count": 28,
     "metadata": {},
     "output_type": "execute_result"
    },
    {
     "data": {
      "image/png": "[encoded data removed]",
      "text/plain": [
       "<Figure size 432x288 with 1 Axes>"
      ]
     },
     "metadata": {
      "needs_background": "light"
     },
     "output_type": "display_data"
    }
   ],
   "source": [
    "\n",
    "import matplotlib.pyplot as plt\n",
    "plt.plot(clus_1.star_systems['m_ubv_B']-clus_1.star_systems[\"m_ubv_V\"], clus_1.star_systems[\"m_ubv_V\"]-5*np.log10(100/10), \"r.\",label=\"BPASS Cluster\")\n",
    "plt.plot(clus_2.star_systems['m_ubv_B']-clus_2.star_systems[\"m_ubv_V\"], clus_2.star_systems[\"m_ubv_V\"]-5*np.log10(100/10), \"b+\", label=\"Parsec Cluster\", alpha=0.25)\n",
    "plt.xlabel(\"B-V\")\n",
    "plt.ylabel(\"pseudo- M_V\")\n",
    "plt.title(\"Color magnitude Diagram of clusters at solar metallicity and 10**8.2 years age\")\n",
    "plt.gca().invert_yaxis()\n",
    "plt.legend()"
   ]
  },
  {
   "cell_type": "markdown",
   "metadata": {},
   "source": [
    "One thing to note about the Binary_Cluster is that it does include the units as information for columns.\n",
    "The usual ResolvedCluster does not. Thus the latter has a disadvantage when we do comparisons with solar luminosity."
   ]
  },
  {
   "cell_type": "markdown",
   "metadata": {},
   "source": [
    "Looking at the total mass of the cluster"
   ]
  },
  {
   "cell_type": "code",
   "execution_count": 29,
   "metadata": {},
   "outputs": [
    {
     "data": {
      "text/plain": [
       "1443.4409719540574"
      ]
     },
     "execution_count": 29,
     "metadata": {},
     "output_type": "execute_result"
    }
   ],
   "source": [
    "clus_1.star_systems['systemMass'].sum()"
   ]
  },
  {
   "cell_type": "markdown",
   "metadata": {},
   "source": [
    "What phases are in our cluster?"
   ]
  },
  {
   "cell_type": "code",
   "execution_count": 30,
   "metadata": {},
   "outputs": [
    {
     "data": {
      "text/html": [
       "&lt;Column name=&apos;phase&apos; dtype=&apos;float64&apos; length=2&gt;\n",
       "<table>\n",
       "<tr><td>5.0</td></tr>\n",
       "<tr><td>101.0</td></tr>\n",
       "</table>"
      ],
      "text/plain": [
       "<Column name='phase' dtype='float64' length=2>\n",
       "  5.0\n",
       "101.0"
      ]
     },
     "execution_count": 30,
     "metadata": {},
     "output_type": "execute_result"
    }
   ],
   "source": [
    "np.unique(clus_1.star_systems['phase'])"
   ]
  },
  {
   "cell_type": "code",
   "execution_count": 31,
   "metadata": {},
   "outputs": [
    {
     "data": {
      "text/html": [
       "&lt;Column name=&apos;phase&apos; dtype=&apos;int64&apos; length=2&gt;\n",
       "<table>\n",
       "<tr><td>5</td></tr>\n",
       "<tr><td>101</td></tr>\n",
       "</table>"
      ],
      "text/plain": [
       "<Column name='phase' dtype='int64' length=2>\n",
       "  5\n",
       "101"
      ]
     },
     "execution_count": 31,
     "metadata": {},
     "output_type": "execute_result"
    }
   ],
   "source": [
    "np.unique(clus_1.companions['phase'])"
   ]
  }
 ],
 "metadata": {
  "kernelspec": {
   "display_name": "astroconda",
   "language": "python",
   "name": "astroconda"
  },
  "language_info": {
   "codemirror_mode": {
    "name": "ipython",
    "version": 3
   },
   "file_extension": ".py",
   "mimetype": "text/x-python",
   "name": "python",
   "nbconvert_exporter": "python",
   "pygments_lexer": "ipython3",
   "version": "3.7.3"
  }
 },
 "nbformat": 4,
 "nbformat_minor": 2
}
