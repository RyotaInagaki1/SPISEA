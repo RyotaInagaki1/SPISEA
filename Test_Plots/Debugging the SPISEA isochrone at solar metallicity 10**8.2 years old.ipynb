{
 "cells": [
  {
   "cell_type": "markdown",
   "metadata": {},
   "source": [
    "## Testing the BPASS isochrone at 10^8.2 years age. (Solar Metallicity)\n",
    "In this BPASS isochrone and cluster plot, I go over the BPASS isochrone for 10^8.2 years age, solar metallicity, AKs=0.0, and distance of 100 parsecs from Earth. From the isochrone and cluster, we discuss several plots such as the log_g frequency distribution of the isochrone, the color magnitude diagram (B-V vs pseudo-M_V), and the mass luminosity relationship of the cluster. \n",
    "\n",
    "Other notes:\n",
    "\n",
    "I have chosen dist to cluster = 100 pc as this power of 10 makes base-10 logarithms a bit easier to do and understand once I try to do distance moduli. I also use the Parsec evolution models in order to make sure that "
   ]
  },
  {
   "cell_type": "markdown",
   "metadata": {},
   "source": [
    "## Note: This notebook can also be used for demonstration of how the new Isochrone_Binary and Binary_Cluster can be used"
   ]
  },
  {
   "cell_type": "code",
   "execution_count": 1,
   "metadata": {},
   "outputs": [
    {
     "name": "stderr",
     "output_type": "stream",
     "text": [
      "/opt/anaconda3/envs/astroconda/lib/python3.7/site-packages/pysynphot/locations.py:345: UserWarning: Extinction files not found in /g/lu/models/cdbs/extinction\n",
      "  warnings.warn('Extinction files not found in %s' % (extdir, ))\n",
      "/opt/anaconda3/envs/astroconda/lib/python3.7/site-packages/pysynphot/refs.py:125: UserWarning: No thermal tables found, no thermal calculations can be performed. No files found for /g/lu/models/cdbs/mtab/*_tmt.fits\n",
      "  'no thermal calculations can be performed. ' + str(e))\n",
      "/opt/anaconda3/envs/astroconda/lib/python3.7/site-packages/astropy/units/quantity.py:479: RuntimeWarning: invalid value encountered in true_divide\n",
      "  result = super().__array_ufunc__(function, method, *arrays, **kwargs)\n",
      "/u/ryotainagaki/Desktop/PyPopStar/spisea/evolution.py:1792: RuntimeWarning: overflow encountered in power\n",
      "  (1 / cs.au) * un.m)\n",
      "/opt/anaconda3/envs/astroconda/lib/python3.7/site-packages/astropy/units/quantity.py:479: RuntimeWarning: divide by zero encountered in true_divide\n",
      "  result = super().__array_ufunc__(function, method, *arrays, **kwargs)\n",
      "/opt/anaconda3/envs/astroconda/lib/python3.7/site-packages/astropy/units/quantity.py:479: RuntimeWarning: invalid value encountered in true_divide\n",
      "  result = super().__array_ufunc__(function, method, *arrays, **kwargs)\n"
     ]
    },
    {
     "name": "stdout",
     "output_type": "stream",
     "text": [
      "Changing to T= 50000 for T= 52330 logg=8.47\n",
      "Changing to logg=5.00 for T= 52330 logg=8.47\n",
      "Changing to logg=5.00 for T= 44758 logg=8.49\n",
      "Changing to logg=5.00 for T= 36146 logg=8.54\n",
      "Changing to logg=5.00 for T= 38774 logg=8.52\n",
      "Changing to logg=5.00 for T= 38361 logg=8.50\n",
      "Changing to T= 50000 for T= 73161 logg=8.45\n",
      "Changing to logg=5.00 for T= 73161 logg=8.45\n",
      "Changing to logg=5.00 for T= 37966 logg=5.70\n",
      "Changing to logg=5.00 for T= 39842 logg=5.51\n",
      "Changing to logg=5.00 for T= 32888 logg=5.68\n",
      "Changing to logg=5.00 for T= 45669 logg=8.52\n",
      "Changing to logg=5.00 for T= 35701 logg=8.52\n",
      "Changing to logg=5.00 for T= 37547 logg=5.70\n",
      "Changing to logg=5.00 for T= 45668 logg=8.52\n",
      "Changing to logg=5.00 for T= 38750 logg=8.52\n",
      "Changing to logg=5.00 for T= 38750 logg=8.52\n",
      "Changing to logg=5.00 for T= 42302 logg=8.53\n",
      "Changing to logg=5.00 for T= 38974 logg=5.38\n",
      "Changing to logg=5.00 for T= 38750 logg=8.52\n",
      "Changing to logg=5.00 for T= 38750 logg=8.52\n",
      "Changing to logg=5.00 for T= 38750 logg=8.52\n",
      "Changing to logg=5.00 for T= 35701 logg=8.52\n",
      "Changing to logg=5.00 for T= 39110 logg=5.45\n",
      "Changing to logg=5.00 for T= 38030 logg=5.34\n",
      "Changing to logg=5.00 for T= 35710 logg=8.52\n",
      "Changing to logg=5.00 for T= 39081 logg=5.47\n",
      "Changing to logg=5.00 for T= 38750 logg=8.52\n",
      "Changing to logg=5.00 for T= 38681 logg=5.49\n",
      "Changing to logg=5.00 for T= 39333 logg=5.52\n",
      "Changing to logg=5.00 for T= 37796 logg=5.52\n",
      "Changing to logg=5.00 for T= 39001 logg=5.46\n",
      "Changing to logg=5.00 for T= 38750 logg=8.52\n",
      "Changing to logg=5.00 for T= 39098 logg=5.41\n",
      "Changing to logg=5.00 for T= 39018 logg=5.53\n",
      "Changing to logg=5.00 for T= 45668 logg=8.52\n",
      "Changing to logg=5.00 for T= 34722 logg=5.55\n",
      "Changing to logg=5.00 for T= 38750 logg=8.52\n",
      "Changing to logg=5.00 for T= 38750 logg=8.52\n",
      "Changing to logg=5.00 for T= 37968 logg=5.42\n",
      "Changing to logg=5.00 for T= 39042 logg=5.41\n",
      "Changing to logg=5.00 for T= 39090 logg=5.47\n",
      "Changing to logg=5.00 for T= 47516 logg=9.02\n",
      "Changing to logg=5.00 for T= 38778 logg=5.38\n",
      "Changing to logg=5.00 for T= 43455 logg=8.58\n",
      "Changing to logg=5.00 for T= 38810 logg=5.36\n",
      "Changing to logg=5.00 for T= 38750 logg=8.52\n",
      "Changing to logg=5.00 for T= 32931 logg=5.73\n",
      "Changing to logg=5.00 for T= 38750 logg=8.52\n",
      "Changing to logg=5.00 for T= 38750 logg=8.52\n",
      "Changing to logg=5.00 for T= 38008 logg=5.41\n",
      "Changing to logg=5.00 for T= 42300 logg=8.53\n",
      "Changing to logg=5.00 for T= 38543 logg=5.67\n",
      "Changing to logg=5.00 for T= 35665 logg=8.52\n",
      "Changing to logg=5.00 for T= 38216 logg=5.28\n",
      "Changing to logg=5.00 for T= 35040 logg=8.49\n",
      "Changing to logg=5.00 for T= 38912 logg=5.40\n",
      "Changing to logg=5.00 for T= 42300 logg=8.53\n",
      "Changing to logg=5.00 for T= 42302 logg=8.53\n",
      "Changing to logg=5.00 for T= 38750 logg=8.52\n",
      "Changing to logg=5.00 for T= 35759 logg=5.48\n",
      "Changing to logg=5.00 for T= 35776 logg=8.52\n",
      "Changing to logg=5.00 for T= 38750 logg=8.52\n",
      "Changing to logg=5.00 for T= 43455 logg=8.58\n",
      "Changing to logg=5.00 for T= 37645 logg=8.47\n",
      "Changing to logg=5.00 for T= 37474 logg=5.67\n",
      "Changing to logg=5.00 for T= 38750 logg=8.52\n",
      "Changing to logg=5.00 for T= 42302 logg=8.53\n",
      "Changing to logg=5.00 for T= 38938 logg=5.41\n",
      "Changing to logg=5.00 for T= 42302 logg=8.53\n",
      "Changing to logg=5.00 for T= 38864 logg=5.34\n",
      "Changing to logg=5.00 for T= 38164 logg=5.31\n",
      "Changing to logg=5.00 for T= 38750 logg=8.52\n",
      "Changing to logg=5.00 for T= 39126 logg=5.42\n",
      "Changing to logg=5.00 for T= 38750 logg=8.52\n",
      "Changing to logg=5.00 for T= 45739 logg=8.21\n",
      "Changing to logg=5.00 for T= 42302 logg=8.53\n",
      "Changing to logg=5.00 for T= 35706 logg=8.52\n",
      "Changing to logg=5.00 for T= 38268 logg=5.57\n",
      "Changing to logg=5.00 for T= 38750 logg=8.52\n",
      "Changing to logg=5.00 for T= 42300 logg=8.53\n",
      "Changing to logg=5.00 for T= 35714 logg=8.52\n",
      "Changing to logg=5.00 for T= 38750 logg=8.52\n",
      "Changing to logg=5.00 for T= 35715 logg=8.52\n",
      "Changing to logg=4.50 for T= 39634 logg=4.15\n",
      "Changing to logg=5.00 for T= 40536 logg=5.52\n",
      "Changing to logg=5.00 for T= 34113 logg=5.11\n",
      "Changing to logg=5.00 for T= 38750 logg=8.52\n",
      "Changing to logg=5.00 for T= 40751 logg=8.18\n",
      "Changing to logg=5.00 for T= 42300 logg=8.53\n",
      "Changing to logg=5.00 for T= 43455 logg=8.58\n",
      "Changing to logg=5.00 for T= 38868 logg=5.45\n",
      "Changing to logg=5.00 for T= 35519 logg=8.51\n",
      "Changing to logg=5.00 for T= 39136 logg=5.47\n",
      "Changing to logg=5.00 for T= 39036 logg=5.38\n",
      "Changing to logg=5.00 for T= 38750 logg=8.52\n",
      "Changing to logg=5.00 for T= 38750 logg=8.52\n",
      "Changing to logg=5.00 for T= 33207 logg=5.01\n",
      "Changing to logg=5.00 for T= 42302 logg=8.53\n",
      "Changing to logg=5.00 for T= 38863 logg=5.61\n",
      "Changing to logg=5.00 for T= 38750 logg=8.52\n",
      "Changing to logg=5.00 for T= 45954 logg=8.68\n",
      "Changing to logg=5.00 for T= 45668 logg=8.52\n",
      "Changing to logg=5.00 for T= 38886 logg=5.50\n",
      "Changing to logg=5.00 for T= 39074 logg=5.38\n",
      "Changing to logg=5.00 for T= 42300 logg=8.53\n",
      "Changing to logg=5.00 for T= 38499 logg=5.32\n",
      "Changing to logg=5.00 for T= 42302 logg=8.53\n",
      "Changing to logg=5.00 for T= 39105 logg=5.40\n",
      "Changing to logg=5.00 for T= 38901 logg=5.40\n",
      "Changing to logg=5.00 for T= 38260 logg=5.41\n",
      "Changing to logg=5.00 for T= 42302 logg=8.53\n",
      "Changing to logg=5.00 for T= 38820 logg=5.38\n",
      "Changing to logg=5.00 for T= 39086 logg=5.37\n",
      "Changing to logg=5.00 for T= 45668 logg=8.52\n",
      "Changing to logg=5.00 for T= 38750 logg=8.52\n",
      "Changing to logg=5.00 for T= 38750 logg=8.52\n",
      "Changing to logg=5.00 for T= 42302 logg=8.53\n",
      "Changing to logg=5.00 for T= 38750 logg=8.52\n",
      "Changing to logg=5.00 for T= 38750 logg=8.52\n",
      "Changing to logg=5.00 for T= 37638 logg=5.66\n",
      "Changing to logg=5.00 for T= 42302 logg=8.53\n",
      "Changing to logg=5.00 for T= 45669 logg=8.52\n",
      "Changing to logg=5.00 for T= 35706 logg=5.17\n",
      "Changing to logg=5.00 for T= 41390 logg=5.50\n",
      "Changing to logg=5.00 for T= 39027 logg=5.57\n",
      "Changing to logg=5.00 for T= 40930 logg=5.50\n",
      "Changing to logg=5.00 for T= 31378 logg=8.25\n",
      "Changing to logg=5.00 for T= 35709 logg=8.52\n",
      "Changing to logg=5.00 for T= 39059 logg=5.38\n",
      "Changing to T= 50000 for T= 52469 logg=8.18\n",
      "Changing to logg=5.00 for T= 52469 logg=8.18\n",
      "Changing to logg=5.00 for T= 39097 logg=5.40\n",
      "Changing to logg=5.00 for T= 40327 logg=8.45\n",
      "Changing to logg=5.00 for T= 45668 logg=8.52\n",
      "Changing to logg=5.00 for T= 43455 logg=8.58\n",
      "Changing to logg=5.00 for T= 38866 logg=5.46\n",
      "Changing to logg=5.00 for T= 45668 logg=8.52\n",
      "Changing to logg=5.00 for T= 38750 logg=8.52\n",
      "Changing to logg=5.00 for T= 33157 logg=5.77\n",
      "Changing to logg=5.00 for T= 38750 logg=8.52\n",
      "Changing to logg=5.00 for T= 37690 logg=5.71\n",
      "Changing to logg=5.00 for T= 38205 logg=5.40\n",
      "Changing to logg=5.00 for T= 39156 logg=5.49\n",
      "Changing to logg=5.00 for T= 45669 logg=8.52\n",
      "Changing to logg=5.00 for T= 35714 logg=8.52\n",
      "Changing to logg=5.00 for T= 35722 logg=8.52\n",
      "Changing to logg=5.00 for T= 37950 logg=5.39\n",
      "Changing to logg=5.00 for T= 37640 logg=8.47\n",
      "Changing to logg=5.00 for T= 35929 logg=8.18\n",
      "Changing to logg=5.00 for T= 39474 logg=5.51\n",
      "Changing to logg=5.00 for T= 38750 logg=8.52\n",
      "Changing to logg=5.00 for T= 38750 logg=8.52\n",
      "Changing to logg=5.00 for T= 38750 logg=8.52\n",
      "Changing to logg=5.00 for T= 45669 logg=8.52\n",
      "Changing to logg=5.00 for T= 38945 logg=5.49\n",
      "Changing to logg=5.00 for T= 42302 logg=8.53\n",
      "Changing to logg=5.00 for T= 43455 logg=8.58\n",
      "Changing to logg=5.00 for T= 45668 logg=8.52\n",
      "Changing to logg=5.00 for T= 38750 logg=8.52\n",
      "Changing to logg=5.00 for T= 45668 logg=8.52\n",
      "Changing to logg=5.00 for T= 38750 logg=8.52\n",
      "Changing to logg=5.00 for T= 45668 logg=8.52\n",
      "Changing to logg=5.00 for T= 34757 logg=5.54\n",
      "Changing to logg=5.00 for T= 35710 logg=8.52\n",
      "Changing to logg=5.00 for T= 33652 logg=5.61\n",
      "Changing to logg=5.00 for T= 38750 logg=8.52\n",
      "Changing to logg=5.00 for T= 38750 logg=8.52\n",
      "Changing to logg=5.00 for T= 35715 logg=8.52\n",
      "Changing to logg=5.00 for T= 47227 logg=8.14\n",
      "Changing to logg=5.00 for T= 38030 logg=5.41\n",
      "Changing to logg=5.00 for T= 38796 logg=5.38\n",
      "Changing to logg=5.00 for T= 38530 logg=5.55\n",
      "Changing to logg=5.00 for T= 38750 logg=8.52\n",
      "Changing to logg=5.00 for T= 38942 logg=5.43\n",
      "Changing to logg=5.00 for T= 45668 logg=8.52\n",
      "Changing to logg=5.00 for T= 45668 logg=8.52\n",
      "Changing to logg=5.00 for T= 45668 logg=8.52\n",
      "Changing to logg=5.00 for T= 38750 logg=8.52\n",
      "Changing to logg=5.00 for T= 34986 logg=5.58\n",
      "Changing to logg=5.00 for T= 33657 logg=5.67\n",
      "Changing to logg=5.00 for T= 38750 logg=8.52\n",
      "Changing to logg=5.00 for T= 42302 logg=8.53\n",
      "Changing to logg=5.00 for T= 45669 logg=8.52\n",
      "Changing to logg=5.00 for T= 39010 logg=5.57\n",
      "Changing to logg=5.00 for T= 38750 logg=8.52\n",
      "Changing to logg=5.00 for T= 42302 logg=8.53\n",
      "Changing to logg=5.00 for T= 38062 logg=5.44\n",
      "Changing to logg=5.00 for T= 35708 logg=8.52\n",
      "Changing to logg=5.00 for T= 38750 logg=8.52\n",
      "Changing to logg=5.00 for T= 38751 logg=8.52\n",
      "Changing to logg=5.00 for T= 38750 logg=8.52\n",
      "Changing to logg=5.00 for T= 45668 logg=8.52\n",
      "Changing to logg=5.00 for T= 38924 logg=5.38\n",
      "Changing to logg=5.00 for T= 38750 logg=8.52\n",
      "Changing to logg=5.00 for T= 42302 logg=8.53\n",
      "Changing to T= 50000 for T= 55186 logg=8.12\n",
      "Changing to logg=5.00 for T= 55186 logg=8.12\n",
      "Changing to logg=5.00 for T= 38750 logg=8.52\n",
      "Changing to logg=5.00 for T= 45668 logg=8.52\n",
      "Changing to logg=5.00 for T= 41051 logg=8.91\n",
      "Changing to logg=5.00 for T= 38968 logg=5.47\n",
      "Changing to logg=5.00 for T= 38751 logg=8.52\n",
      "Changing to logg=5.00 for T= 35722 logg=8.52\n",
      "Changing to logg=5.00 for T= 34428 logg=5.62\n",
      "Changing to logg=5.00 for T= 42302 logg=8.53\n",
      "Changing to logg=5.00 for T= 37422 logg=5.67\n",
      "Changing to logg=5.00 for T= 34980 logg=5.56\n",
      "Changing to logg=5.00 for T= 34191 logg=8.16\n",
      "Changing to logg=5.00 for T= 45668 logg=8.52\n",
      "Changing to logg=5.00 for T= 37820 logg=5.74\n",
      "Changing to logg=5.00 for T= 38913 logg=5.59\n",
      "Changing to logg=5.00 for T= 38797 logg=5.34\n",
      "Changing to logg=5.00 for T= 35649 logg=8.52\n",
      "Changing to logg=5.00 for T= 38750 logg=8.52\n",
      "Changing to logg=5.00 for T= 35392 logg=8.22\n",
      "Changing to logg=5.00 for T= 35709 logg=8.52\n",
      "Changing to logg=5.00 for T= 37225 logg=5.46\n",
      "Changing to logg=5.00 for T= 38747 logg=5.38\n",
      "Changing to logg=5.00 for T= 42302 logg=8.53\n",
      "Changing to logg=5.00 for T= 39121 logg=5.40\n",
      "Changing to logg=5.00 for T= 45668 logg=8.52\n",
      "Changing to logg=5.00 for T= 37138 logg=5.69\n",
      "Changing to logg=5.00 for T= 35041 logg=8.49\n",
      "Changing to logg=5.00 for T= 35098 logg=8.49\n",
      "Changing to logg=5.00 for T= 38377 logg=5.39\n",
      "Changing to logg=5.00 for T= 39010 logg=5.64\n",
      "Changing to logg=5.00 for T= 39290 logg=5.53\n",
      "Changing to logg=5.00 for T= 37889 logg=5.54\n",
      "Changing to logg=5.00 for T= 35040 logg=8.49\n",
      "Changing to logg=5.00 for T= 35040 logg=8.49\n",
      "Changing to logg=5.00 for T= 35040 logg=8.49\n",
      "Changing to logg=0.00 for T=  3317 logg=-0.19\n",
      "Changing to logg=5.00 for T= 34340 logg=5.63\n",
      "Changing to logg=5.00 for T= 35040 logg=8.49\n",
      "Changing to logg=5.00 for T= 35040 logg=8.49\n",
      "Changing to logg=5.00 for T= 39098 logg=5.57\n",
      "Changing to logg=0.00 for T=  3317 logg=-0.19\n",
      "Changing to logg=5.00 for T= 44961 logg=8.20\n",
      "Changing to logg=5.00 for T= 37700 logg=5.76\n",
      "Changing to logg=5.00 for T= 35041 logg=8.49\n",
      "Changing to T= 50000 for T= 80369 logg=8.32\n",
      "Changing to logg=5.00 for T= 80369 logg=8.32\n",
      "Changing to T= 50000 for T=196662 logg=7.28\n",
      "Changing to logg=5.00 for T=196662 logg=7.28\n",
      "Changing to logg=5.00 for T= 39296 logg=5.53\n",
      "Changing to logg=5.00 for T= 33848 logg=5.68\n",
      "Changing to logg=5.00 for T= 42994 logg=5.57\n",
      "Changing to logg=5.00 for T= 37933 logg=5.39\n",
      "Changing to logg=5.00 for T= 34437 logg=5.46\n",
      "Changing to logg=5.00 for T= 35040 logg=8.49\n",
      "Changing to logg=5.00 for T= 42289 logg=5.55\n",
      "Changing to logg=5.00 for T= 37723 logg=5.77\n",
      "Changing to logg=5.00 for T= 35040 logg=8.49\n",
      "Changing to logg=5.00 for T= 31631 logg=5.78\n",
      "Changing to logg=5.00 for T= 35046 logg=8.49\n",
      "Changing to logg=5.00 for T= 35040 logg=8.49\n",
      "Changing to logg=5.00 for T= 35040 logg=8.49\n",
      "Changing to logg=5.00 for T= 35040 logg=8.49\n",
      "Changing to logg=5.00 for T= 35040 logg=8.49\n",
      "Changing to logg=5.00 for T= 39033 logg=5.45\n",
      "Changing to logg=5.00 for T= 35123 logg=8.49\n",
      "Changing to logg=5.00 for T= 35233 logg=8.21\n",
      "Changing to logg=5.00 for T= 39162 logg=5.48\n",
      "Changing to T= 50000 for T= 91531 logg=8.30\n",
      "Changing to logg=5.00 for T= 91531 logg=8.30\n",
      "Changing to logg=5.00 for T= 35040 logg=8.49\n",
      "Changing to logg=5.00 for T= 35040 logg=8.49\n",
      "Changing to logg=5.00 for T= 35040 logg=8.49\n",
      "Changing to logg=5.00 for T= 44686 logg=8.19\n",
      "Changing to T= 50000 for T=172024 logg=7.24\n",
      "Changing to logg=5.00 for T=172024 logg=7.24\n",
      "Changing to logg=5.00 for T= 35040 logg=8.49\n",
      "Changing to logg=5.00 for T= 38002 logg=5.45\n",
      "Changing to logg=5.00 for T= 38718 logg=5.32\n",
      "Changing to logg=5.00 for T= 35041 logg=8.49\n",
      "Changing to logg=5.00 for T= 35040 logg=8.49\n",
      "Changing to logg=5.00 for T= 37054 logg=5.15\n",
      "Changing to logg=5.00 for T= 34271 logg=5.61\n",
      "Changing to logg=5.00 for T= 35040 logg=8.49\n",
      "Changing to logg=5.00 for T= 35040 logg=8.49\n",
      "Changing to logg=5.00 for T= 35040 logg=8.49\n",
      "Changing to logg=5.00 for T= 31499 logg=8.21\n",
      "Changing to logg=5.00 for T= 39297 logg=5.50\n",
      "Changing to logg=5.00 for T= 35040 logg=8.49\n",
      "Changing to logg=5.00 for T= 35040 logg=8.49\n",
      "Changing to logg=5.00 for T= 39015 logg=5.63\n",
      "Changing to logg=5.00 for T= 35041 logg=8.49\n",
      "Changing to logg=5.00 for T= 39282 logg=5.39\n",
      "Changing to T= 50000 for T=122659 logg=7.98\n",
      "Changing to logg=5.00 for T=122659 logg=7.98\n",
      "Changing to logg=5.00 for T= 39152 logg=5.49\n",
      "Changing to logg=5.00 for T= 35040 logg=8.49\n",
      "Changing to logg=5.00 for T= 38506 logg=5.66\n",
      "Changing to logg=5.00 for T= 39300 logg=5.53\n",
      "Changing to logg=5.00 for T= 35040 logg=8.49\n",
      "Changing to T= 50000 for T= 53154 logg=8.20\n",
      "Changing to logg=5.00 for T= 53154 logg=8.20\n",
      "Changing to T= 50000 for T= 90298 logg=8.31\n",
      "Changing to logg=5.00 for T= 90298 logg=8.31\n",
      "Changing to logg=5.00 for T= 35044 logg=8.49\n",
      "Changing to logg=5.00 for T= 34450 logg=5.60\n",
      "Changing to logg=5.00 for T= 35040 logg=8.49\n",
      "Changing to logg=5.00 for T= 35040 logg=8.49\n",
      "Changing to logg=5.00 for T= 35047 logg=8.49\n",
      "Changing to logg=5.00 for T= 36175 logg=5.49\n",
      "Changing to logg=5.00 for T= 39339 logg=5.50\n",
      "Changing to logg=5.00 for T= 35040 logg=8.49\n",
      "Changing to logg=5.00 for T= 35065 logg=8.49\n",
      "Changing to logg=5.00 for T= 35040 logg=8.49\n",
      "Changing to logg=5.00 for T= 35040 logg=8.49\n",
      "Changing to logg=5.00 for T= 37969 logg=5.40\n",
      "Changing to logg=5.00 for T= 38323 logg=5.43\n",
      "Changing to logg=5.00 for T= 38497 logg=5.67\n",
      "Changing to logg=5.00 for T= 35161 logg=8.49\n",
      "Changing to logg=5.00 for T= 37720 logg=5.76\n",
      "Changing to logg=5.00 for T= 35042 logg=8.49\n",
      "Changing to logg=5.00 for T= 39061 logg=5.47\n",
      "Changing to logg=5.00 for T= 39115 logg=5.45\n",
      "Changing to logg=5.00 for T= 27868 logg=6.18\n",
      "Changing to T= 50000 for T=197624 logg=7.27\n",
      "Changing to logg=5.00 for T=197624 logg=7.27\n",
      "Changing to logg=5.00 for T= 39260 logg=5.51\n",
      "Changing to logg=5.00 for T= 35040 logg=8.49\n",
      "Changing to T= 50000 for T=170279 logg=7.23\n",
      "Changing to logg=5.00 for T=170279 logg=7.23\n",
      "Changing to logg=5.00 for T= 39090 logg=5.45\n",
      "Changing to logg=5.00 for T= 35040 logg=8.49\n",
      "Changing to logg=5.00 for T= 35040 logg=8.49\n",
      "Changing to logg=5.00 for T= 35040 logg=8.49\n",
      "Changing to logg=5.00 for T= 35040 logg=8.49\n",
      "Changing to logg=5.00 for T= 35040 logg=8.49\n",
      "Changing to logg=0.00 for T=  3294 logg=-0.23\n",
      "Changing to logg=5.00 for T= 38348 logg=5.37\n",
      "Changing to logg=5.00 for T= 35040 logg=8.49\n",
      "Changing to logg=0.00 for T=  3317 logg=-0.19\n",
      "Changing to logg=5.00 for T= 37267 logg=5.48\n",
      "Changing to T= 50000 for T= 81089 logg=8.14\n",
      "Changing to logg=5.00 for T= 81089 logg=8.14\n",
      "Changing to logg=5.00 for T= 36208 logg=8.26\n",
      "Changing to logg=5.00 for T= 35040 logg=8.49\n",
      "Changing to logg=5.00 for T= 39215 logg=5.43\n",
      "Changing to logg=5.00 for T= 35040 logg=8.49\n",
      "Changing to logg=5.00 for T= 38042 logg=5.48\n",
      "Changing to logg=5.00 for T= 39003 logg=5.46\n",
      "Changing to logg=0.00 for T=  3317 logg=-0.19\n",
      "Changing to logg=5.00 for T= 35040 logg=8.49\n",
      "Changing to logg=5.00 for T= 39019 logg=5.46\n",
      "Changing to T= 50000 for T= 85704 logg=8.31\n",
      "Changing to logg=5.00 for T= 85704 logg=8.31\n",
      "Changing to logg=5.00 for T= 35040 logg=8.49\n",
      "Changing to logg=5.00 for T= 38521 logg=5.66\n",
      "Changing to logg=5.00 for T= 35040 logg=8.49\n",
      "Changing to logg=5.00 for T= 27144 logg=6.25\n",
      "Changing to T= 50000 for T= 52576 logg=8.18\n",
      "Changing to logg=5.00 for T= 52576 logg=8.18\n",
      "Changing to logg=5.00 for T= 35040 logg=8.49\n",
      "Changing to logg=5.00 for T= 39184 logg=5.47\n",
      "Changing to logg=0.00 for T=  3295 logg=-0.23\n",
      "Making photometry for isochrone: log(t) = 8.20  AKs = 0.00  dist = 100\n",
      "     Starting at:  2021-06-02 18:04:02.760056   Usually takes ~5 minutes\n",
      "Starting filter: ubv,U   Elapsed time: 0.02 seconds\n",
      "Starting synthetic photometry\n",
      "M =   1.240 Msun  T =  6225 K  m_ubv_U = 9.54\n",
      "M =   5.500 Msun  T = 27287 K  m_ubv_U = 14.77\n",
      "M =   3.500 Msun  T = 11697 K  m_ubv_U = 4.13\n",
      "M =   0.251 Msun  T =   nan K  m_ubv_U =  nan\n",
      "M =   0.631 Msun  T =   nan K  m_ubv_U =  nan\n",
      "M =   3.200 Msun  T = 12177 K  m_ubv_U = 3.83\n",
      "M =   0.501 Msun  T =   nan K  m_ubv_U =  nan\n",
      "M =   2.500 Msun  T = 10121 K  m_ubv_U = 5.86\n",
      "M =   6.500 Msun  T = 33471 K  m_ubv_U = 15.21\n",
      "M =   0.794 Msun  T =   nan K  m_ubv_U =  nan\n",
      "M =   2.700 Msun  T = 10526 K  m_ubv_U = 5.49\n",
      "M =   4.500 Msun  T =  4524 K  m_ubv_U = 5.30\n",
      "M =   2.500 Msun  T = 10121 K  m_ubv_U = 5.86\n",
      "M =   1.900 Msun  T = 11910 K  m_ubv_U = 4.02\n",
      "M =   5.000 Msun  T = 38750 K  m_ubv_U = 13.92\n",
      "M =   5.500 Msun  T = 27180 K  m_ubv_U = 14.71\n",
      "M =   3.500 Msun  T = 12112 K  m_ubv_U = 4.27\n",
      "M =   5.000 Msun  T = 38750 K  m_ubv_U = 13.92\n",
      "M =   2.500 Msun  T = 10121 K  m_ubv_U = 5.86\n",
      "M =   2.500 Msun  T = 10121 K  m_ubv_U = 5.86\n",
      "M =   3.500 Msun  T = 12112 K  m_ubv_U = 4.27\n",
      "M =   4.000 Msun  T = 11805 K  m_ubv_U = 3.36\n",
      "M =   3.000 Msun  T = 11287 K  m_ubv_U = 5.01\n",
      "M =   1.259 Msun  T =   nan K  m_ubv_U =  nan\n",
      "M =   1.400 Msun  T =   nan K  m_ubv_U =  nan\n",
      "M =   2.500 Msun  T = 10121 K  m_ubv_U = 5.86\n",
      "M =   3.200 Msun  T = 11657 K  m_ubv_U = 4.73\n",
      "M =   2.500 Msun  T = 10121 K  m_ubv_U = 5.86\n",
      "M =   7.000 Msun  T = 39833 K  m_ubv_U = 15.56\n",
      "M =   1.650 Msun  T =  7676 K  m_ubv_U = 7.82\n",
      "M =   2.800 Msun  T = 11666 K  m_ubv_U = 5.31\n",
      "M =   2.700 Msun  T = 10543 K  m_ubv_U = 5.49\n",
      "M =   3.700 Msun  T = 12011 K  m_ubv_U = 3.90\n",
      "M =   0.320 Msun  T =   nan K  m_ubv_U =  nan\n",
      "M =   3.500 Msun  T = 11878 K  m_ubv_U = 4.21\n",
      "M =   1.000 Msun  T =  5597 K  m_ubv_U = 11.16\n",
      "M =   1.300 Msun  T =  6389 K  m_ubv_U = 9.25\n",
      "M =   3.700 Msun  T = 12011 K  m_ubv_U = 3.90\n",
      "M =   2.430 Msun  T = 10595 K  m_ubv_U = 5.96\n",
      "M =   2.250 Msun  T =  9999 K  m_ubv_U = 6.31\n",
      "M =   1.000 Msun  T =  5597 K  m_ubv_U = 11.16\n",
      "M =   1.710 Msun  T =   nan K  m_ubv_U =  nan\n",
      "M =   3.000 Msun  T = 12309 K  m_ubv_U = 5.10\n",
      "M =   2.200 Msun  T =  9713 K  m_ubv_U = 6.41\n",
      "M =   1.750 Msun  T =  8122 K  m_ubv_U = 7.52\n",
      "M =   1.500 Msun  T =  7076 K  m_ubv_U = 8.35\n",
      "M =   1.750 Msun  T =  8121 K  m_ubv_U = 7.52\n",
      "M =   1.500 Msun  T =  7078 K  m_ubv_U = 8.34\n",
      "M =   2.100 Msun  T =  9470 K  m_ubv_U = 6.63\n",
      "M =   2.400 Msun  T = 10500 K  m_ubv_U = 6.02\n",
      "M =   0.900 Msun  T =  5185 K  m_ubv_U = 12.19\n",
      "M =   5.500 Msun  T = 32499 K  m_ubv_U = 14.63\n",
      "M =   5.500 Msun  T = 26451 K  m_ubv_U = 14.73\n",
      "M =   2.250 Msun  T =  9999 K  m_ubv_U = 6.32\n",
      "M =   2.240 Msun  T =  9965 K  m_ubv_U = 6.34\n",
      "M =   1.750 Msun  T =  8121 K  m_ubv_U = 7.52\n",
      "M =   5.600 Msun  T = 17569 K  m_ubv_U = 2.71\n",
      "Starting filter: ubv,V   Elapsed time: 22.74 seconds\n",
      "Starting synthetic photometry\n",
      "M =   1.240 Msun  T =  6225 K  m_ubv_V = 9.01\n",
      "M =   5.500 Msun  T = 27287 K  m_ubv_V = 15.91\n",
      "M =   3.500 Msun  T = 11697 K  m_ubv_V = 4.51\n",
      "M =   0.251 Msun  T =   nan K  m_ubv_V =  nan\n",
      "M =   0.631 Msun  T =   nan K  m_ubv_V =  nan\n",
      "M =   3.200 Msun  T = 12177 K  m_ubv_V = 4.28\n",
      "M =   0.501 Msun  T =   nan K  m_ubv_V =  nan\n",
      "M =   2.500 Msun  T = 10121 K  m_ubv_V = 5.97\n",
      "M =   6.500 Msun  T = 33471 K  m_ubv_V = 16.51\n",
      "M =   0.794 Msun  T =   nan K  m_ubv_V =  nan\n",
      "M =   2.700 Msun  T = 10526 K  m_ubv_V = 5.66\n",
      "M =   4.500 Msun  T =  4524 K  m_ubv_V = 2.80\n",
      "M =   2.500 Msun  T = 10121 K  m_ubv_V = 5.97\n",
      "M =   1.900 Msun  T = 11910 K  m_ubv_V = 4.43\n",
      "M =   5.000 Msun  T = 38750 K  m_ubv_V = 15.31\n",
      "M =   5.500 Msun  T = 27180 K  m_ubv_V = 15.84\n",
      "M =   3.500 Msun  T = 12112 K  m_ubv_V = 4.70\n",
      "M =   5.000 Msun  T = 38750 K  m_ubv_V = 15.31\n",
      "M =   2.500 Msun  T = 10121 K  m_ubv_V = 5.97\n",
      "M =   2.500 Msun  T = 10121 K  m_ubv_V = 5.97\n",
      "M =   3.500 Msun  T = 12112 K  m_ubv_V = 4.70\n",
      "M =   4.000 Msun  T = 11805 K  m_ubv_V = 3.77\n",
      "M =   3.000 Msun  T = 11287 K  m_ubv_V = 5.31\n",
      "M =   1.259 Msun  T =   nan K  m_ubv_V =  nan\n",
      "M =   1.400 Msun  T =   nan K  m_ubv_V =  nan\n",
      "M =   2.500 Msun  T = 10121 K  m_ubv_V = 5.97\n",
      "M =   3.200 Msun  T = 11657 K  m_ubv_V = 5.08\n",
      "M =   2.500 Msun  T = 10121 K  m_ubv_V = 5.97\n",
      "M =   7.000 Msun  T = 39833 K  m_ubv_V = 16.93\n",
      "M =   1.650 Msun  T =  7676 K  m_ubv_V = 7.56\n",
      "M =   2.800 Msun  T = 11666 K  m_ubv_V = 5.66\n",
      "M =   2.700 Msun  T = 10543 K  m_ubv_V = 5.67\n",
      "M =   3.700 Msun  T = 12011 K  m_ubv_V = 4.32\n",
      "M =   0.320 Msun  T =   nan K  m_ubv_V =  nan\n",
      "M =   3.500 Msun  T = 11878 K  m_ubv_V = 4.61\n",
      "M =   1.000 Msun  T =  5597 K  m_ubv_V = 10.23\n",
      "M =   1.300 Msun  T =  6389 K  m_ubv_V = 8.79\n",
      "M =   3.700 Msun  T = 12011 K  m_ubv_V = 4.32\n",
      "M =   2.430 Msun  T = 10595 K  m_ubv_V = 6.14\n",
      "M =   2.250 Msun  T =  9999 K  m_ubv_V = 6.38\n",
      "M =   1.000 Msun  T =  5597 K  m_ubv_V = 10.23\n",
      "M =   1.710 Msun  T =   nan K  m_ubv_V =  nan\n",
      "M =   3.000 Msun  T = 12309 K  m_ubv_V = 5.53\n",
      "M =   2.200 Msun  T =  9713 K  m_ubv_V = 6.43\n",
      "M =   1.750 Msun  T =  8122 K  m_ubv_V = 7.29\n",
      "M =   1.500 Msun  T =  7076 K  m_ubv_V = 8.04\n",
      "M =   1.750 Msun  T =  8121 K  m_ubv_V = 7.29\n",
      "M =   1.500 Msun  T =  7078 K  m_ubv_V = 8.03\n",
      "M =   2.100 Msun  T =  9470 K  m_ubv_V = 6.60\n",
      "M =   2.400 Msun  T = 10500 K  m_ubv_V = 6.18\n",
      "M =   0.900 Msun  T =  5185 K  m_ubv_V = 10.90\n",
      "M =   5.500 Msun  T = 32499 K  m_ubv_V = 15.91\n",
      "M =   5.500 Msun  T = 26451 K  m_ubv_V = 15.83\n",
      "M =   2.250 Msun  T =  9999 K  m_ubv_V = 6.39\n",
      "M =   2.240 Msun  T =  9965 K  m_ubv_V = 6.40\n",
      "M =   1.750 Msun  T =  8121 K  m_ubv_V = 7.29\n",
      "M =   5.600 Msun  T = 17569 K  m_ubv_V = 3.57\n",
      "Starting filter: ubv,B   Elapsed time: 40.31 seconds\n",
      "Starting synthetic photometry\n",
      "M =   1.240 Msun  T =  6225 K  m_ubv_B = 9.57\n",
      "M =   5.500 Msun  T = 27287 K  m_ubv_B = 15.76\n",
      "M =   3.500 Msun  T = 11697 K  m_ubv_B = 4.41\n",
      "M =   0.251 Msun  T =   nan K  m_ubv_B =  nan\n",
      "M =   0.631 Msun  T =   nan K  m_ubv_B =  nan\n",
      "M =   3.200 Msun  T = 12177 K  m_ubv_B = 4.17\n",
      "M =   0.501 Msun  T =   nan K  m_ubv_B =  nan\n",
      "M =   2.500 Msun  T = 10121 K  m_ubv_B = 5.94\n",
      "M =   6.500 Msun  T = 33471 K  m_ubv_B = 16.30\n",
      "M =   0.794 Msun  T =   nan K  m_ubv_B =  nan\n",
      "M =   2.700 Msun  T = 10526 K  m_ubv_B = 5.61\n",
      "M =   4.500 Msun  T =  4524 K  m_ubv_B = 4.06\n",
      "M =   2.500 Msun  T = 10121 K  m_ubv_B = 5.94\n",
      "M =   1.900 Msun  T = 11910 K  m_ubv_B = 4.33\n",
      "M =   5.000 Msun  T = 38750 K  m_ubv_B = 15.00\n",
      "M =   5.500 Msun  T = 27180 K  m_ubv_B = 15.69\n",
      "M =   3.500 Msun  T = 12112 K  m_ubv_B = 4.60\n",
      "M =   5.000 Msun  T = 38750 K  m_ubv_B = 15.00\n",
      "M =   2.500 Msun  T = 10121 K  m_ubv_B = 5.94\n",
      "M =   2.500 Msun  T = 10121 K  m_ubv_B = 5.94\n",
      "M =   3.500 Msun  T = 12112 K  m_ubv_B = 4.60\n",
      "M =   4.000 Msun  T = 11805 K  m_ubv_B = 3.67\n",
      "M =   3.000 Msun  T = 11287 K  m_ubv_B = 5.23\n",
      "M =   1.259 Msun  T =   nan K  m_ubv_B =  nan\n",
      "M =   1.400 Msun  T =   nan K  m_ubv_B =  nan\n",
      "M =   2.500 Msun  T = 10121 K  m_ubv_B = 5.94\n",
      "M =   3.200 Msun  T = 11657 K  m_ubv_B = 5.00\n",
      "M =   2.500 Msun  T = 10121 K  m_ubv_B = 5.94\n",
      "M =   7.000 Msun  T = 39833 K  m_ubv_B = 16.68\n",
      "M =   1.650 Msun  T =  7676 K  m_ubv_B = 7.81\n",
      "M =   2.800 Msun  T = 11666 K  m_ubv_B = 5.57\n",
      "M =   2.700 Msun  T = 10543 K  m_ubv_B = 5.62\n",
      "M =   3.700 Msun  T = 12011 K  m_ubv_B = 4.22\n",
      "M =   0.320 Msun  T =   nan K  m_ubv_B =  nan\n",
      "M =   3.500 Msun  T = 11878 K  m_ubv_B = 4.51\n",
      "M =   1.000 Msun  T =  5597 K  m_ubv_B = 10.99\n",
      "M =   1.300 Msun  T =  6389 K  m_ubv_B = 9.30\n",
      "M =   3.700 Msun  T = 12011 K  m_ubv_B = 4.22\n",
      "M =   2.430 Msun  T = 10595 K  m_ubv_B = 6.09\n",
      "M =   2.250 Msun  T =  9999 K  m_ubv_B = 6.37\n",
      "M =   1.000 Msun  T =  5597 K  m_ubv_B = 10.99\n",
      "M =   1.710 Msun  T =   nan K  m_ubv_B =  nan\n",
      "M =   3.000 Msun  T = 12309 K  m_ubv_B = 5.43\n",
      "M =   2.200 Msun  T =  9713 K  m_ubv_B = 6.44\n",
      "M =   1.750 Msun  T =  8122 K  m_ubv_B = 7.48\n",
      "M =   1.500 Msun  T =  7076 K  m_ubv_B = 8.39\n",
      "M =   1.750 Msun  T =  8121 K  m_ubv_B = 7.48\n",
      "M =   1.500 Msun  T =  7078 K  m_ubv_B = 8.39\n",
      "M =   2.100 Msun  T =  9470 K  m_ubv_B = 6.63\n",
      "M =   2.400 Msun  T = 10500 K  m_ubv_B = 6.14\n",
      "M =   0.900 Msun  T =  5185 K  m_ubv_B = 11.78\n",
      "M =   5.500 Msun  T = 32499 K  m_ubv_B = 15.70\n",
      "M =   5.500 Msun  T = 26451 K  m_ubv_B = 15.70\n",
      "M =   2.250 Msun  T =  9999 K  m_ubv_B = 6.38\n",
      "M =   2.240 Msun  T =  9965 K  m_ubv_B = 6.39\n",
      "M =   1.750 Msun  T =  8121 K  m_ubv_B = 7.48\n",
      "M =   5.600 Msun  T = 17569 K  m_ubv_B = 3.39\n",
      "Starting filter: ubv,R   Elapsed time: 56.66 seconds\n",
      "Starting synthetic photometry\n",
      "M =   1.240 Msun  T =  6225 K  m_ubv_R = 8.73\n",
      "M =   5.500 Msun  T = 27287 K  m_ubv_R = 16.03\n",
      "M =   3.500 Msun  T = 11697 K  m_ubv_R = 4.54\n",
      "M =   0.251 Msun  T =   nan K  m_ubv_R =  nan\n",
      "M =   0.631 Msun  T =   nan K  m_ubv_R =  nan\n",
      "M =   3.200 Msun  T = 12177 K  m_ubv_R = 4.31\n",
      "M =   0.501 Msun  T =   nan K  m_ubv_R =  nan\n",
      "M =   2.500 Msun  T = 10121 K  m_ubv_R = 5.98\n",
      "M =   6.500 Msun  T = 33471 K  m_ubv_R = 16.63\n",
      "M =   0.794 Msun  T =   nan K  m_ubv_R =  nan\n",
      "M =   2.700 Msun  T = 10526 K  m_ubv_R = 5.68\n",
      "M =   4.500 Msun  T =  4524 K  m_ubv_R = 2.23\n",
      "M =   2.500 Msun  T = 10121 K  m_ubv_R = 5.98\n",
      "M =   1.900 Msun  T = 11910 K  m_ubv_R = 4.46\n",
      "M =   5.000 Msun  T = 38750 K  m_ubv_R = 15.44\n",
      "M =   5.500 Msun  T = 27180 K  m_ubv_R = 15.96\n",
      "M =   3.500 Msun  T = 12112 K  m_ubv_R = 4.73\n",
      "M =   5.000 Msun  T = 38750 K  m_ubv_R = 15.44\n",
      "M =   2.500 Msun  T = 10121 K  m_ubv_R = 5.98\n",
      "M =   2.500 Msun  T = 10121 K  m_ubv_R = 5.98\n",
      "M =   3.500 Msun  T = 12112 K  m_ubv_R = 4.73\n",
      "M =   4.000 Msun  T = 11805 K  m_ubv_R = 3.80\n",
      "M =   3.000 Msun  T = 11287 K  m_ubv_R = 5.34\n",
      "M =   1.259 Msun  T =   nan K  m_ubv_R =  nan\n",
      "M =   1.400 Msun  T =   nan K  m_ubv_R =  nan\n",
      "M =   2.500 Msun  T = 10121 K  m_ubv_R = 5.98\n",
      "M =   3.200 Msun  T = 11657 K  m_ubv_R = 5.11\n",
      "M =   2.500 Msun  T = 10121 K  m_ubv_R = 5.98\n",
      "M =   7.000 Msun  T = 39833 K  m_ubv_R = 17.05\n",
      "M =   1.650 Msun  T =  7676 K  m_ubv_R = 7.43\n",
      "M =   2.800 Msun  T = 11666 K  m_ubv_R = 5.69\n",
      "M =   2.700 Msun  T = 10543 K  m_ubv_R = 5.68\n",
      "M =   3.700 Msun  T = 12011 K  m_ubv_R = 4.35\n",
      "M =   0.320 Msun  T =   nan K  m_ubv_R =  nan\n",
      "M =   3.500 Msun  T = 11878 K  m_ubv_R = 4.64\n",
      "M =   1.000 Msun  T =  5597 K  m_ubv_R = 9.86\n",
      "M =   1.300 Msun  T =  6389 K  m_ubv_R = 8.52\n",
      "M =   3.700 Msun  T = 12011 K  m_ubv_R = 4.35\n",
      "M =   2.430 Msun  T = 10595 K  m_ubv_R = 6.16\n",
      "M =   2.250 Msun  T =  9999 K  m_ubv_R = 6.39\n",
      "M =   1.000 Msun  T =  5597 K  m_ubv_R = 9.86\n",
      "M =   1.710 Msun  T =   nan K  m_ubv_R =  nan\n",
      "M =   3.000 Msun  T = 12309 K  m_ubv_R = 5.56\n",
      "M =   2.200 Msun  T =  9713 K  m_ubv_R = 6.43\n",
      "M =   1.750 Msun  T =  8122 K  m_ubv_R = 7.20\n",
      "M =   1.500 Msun  T =  7076 K  m_ubv_R = 7.85\n",
      "M =   1.750 Msun  T =  8121 K  m_ubv_R = 7.21\n",
      "M =   1.500 Msun  T =  7078 K  m_ubv_R = 7.84\n",
      "M =   2.100 Msun  T =  9470 K  m_ubv_R = 6.60\n",
      "M =   2.400 Msun  T = 10500 K  m_ubv_R = 6.20\n",
      "M =   0.900 Msun  T =  5185 K  m_ubv_R = 10.46\n",
      "M =   5.500 Msun  T = 32499 K  m_ubv_R = 16.03\n",
      "M =   5.500 Msun  T = 26451 K  m_ubv_R = 15.95\n",
      "M =   2.250 Msun  T =  9999 K  m_ubv_R = 6.40\n",
      "M =   2.240 Msun  T =  9965 K  m_ubv_R = 6.41\n",
      "M =   1.750 Msun  T =  8121 K  m_ubv_R = 7.21\n",
      "M =   5.600 Msun  T = 17569 K  m_ubv_R = 3.64\n",
      "Starting filter: ubv,I   Elapsed time: 72.45 seconds\n",
      "Starting synthetic photometry\n",
      "M =   1.240 Msun  T =  6225 K  m_ubv_I = 8.38\n",
      "M =   5.500 Msun  T = 27287 K  m_ubv_I = 16.27\n",
      "M =   3.500 Msun  T = 11697 K  m_ubv_I = 4.61\n",
      "M =   0.251 Msun  T =   nan K  m_ubv_I =  nan\n",
      "M =   0.631 Msun  T =   nan K  m_ubv_I =  nan\n",
      "M =   3.200 Msun  T = 12177 K  m_ubv_I = 4.39\n",
      "M =   0.501 Msun  T =   nan K  m_ubv_I =  nan\n",
      "M =   2.500 Msun  T = 10121 K  m_ubv_I = 6.01\n",
      "M =   6.500 Msun  T = 33471 K  m_ubv_I = 16.90\n",
      "M =   0.794 Msun  T =   nan K  m_ubv_I =  nan\n",
      "M =   2.700 Msun  T = 10526 K  m_ubv_I = 5.72\n",
      "M =   4.500 Msun  T =  4524 K  m_ubv_I = 1.52\n",
      "M =   2.500 Msun  T = 10121 K  m_ubv_I = 6.01\n",
      "M =   1.900 Msun  T = 11910 K  m_ubv_I = 4.53\n",
      "M =   5.000 Msun  T = 38750 K  m_ubv_I = 15.71\n",
      "M =   5.500 Msun  T = 27180 K  m_ubv_I = 16.20\n",
      "M =   3.500 Msun  T = 12112 K  m_ubv_I = 4.81\n",
      "M =   5.000 Msun  T = 38750 K  m_ubv_I = 15.71\n",
      "M =   2.500 Msun  T = 10121 K  m_ubv_I = 6.01\n",
      "M =   2.500 Msun  T = 10121 K  m_ubv_I = 6.01\n",
      "M =   3.500 Msun  T = 12112 K  m_ubv_I = 4.81\n",
      "M =   4.000 Msun  T = 11805 K  m_ubv_I = 3.87\n",
      "M =   3.000 Msun  T = 11287 K  m_ubv_I = 5.40\n",
      "M =   1.259 Msun  T =   nan K  m_ubv_I =  nan\n",
      "M =   1.400 Msun  T =   nan K  m_ubv_I =  nan\n",
      "M =   2.500 Msun  T = 10121 K  m_ubv_I = 6.01\n",
      "M =   3.200 Msun  T = 11657 K  m_ubv_I = 5.18\n",
      "M =   2.500 Msun  T = 10121 K  m_ubv_I = 6.01\n",
      "M =   7.000 Msun  T = 39833 K  m_ubv_I = 17.33\n",
      "M =   1.650 Msun  T =  7676 K  m_ubv_I = 7.28\n",
      "M =   2.800 Msun  T = 11666 K  m_ubv_I = 5.76\n",
      "M =   2.700 Msun  T = 10543 K  m_ubv_I = 5.73\n",
      "M =   3.700 Msun  T = 12011 K  m_ubv_I = 4.43\n",
      "M =   0.320 Msun  T =   nan K  m_ubv_I =  nan\n",
      "M =   3.500 Msun  T = 11878 K  m_ubv_I = 4.71\n",
      "M =   1.000 Msun  T =  5597 K  m_ubv_I = 9.41\n",
      "M =   1.300 Msun  T =  6389 K  m_ubv_I = 8.20\n",
      "M =   3.700 Msun  T = 12011 K  m_ubv_I = 4.43\n",
      "M =   2.430 Msun  T = 10595 K  m_ubv_I = 6.20\n",
      "M =   2.250 Msun  T =  9999 K  m_ubv_I = 6.41\n",
      "M =   1.000 Msun  T =  5597 K  m_ubv_I = 9.41\n",
      "M =   1.710 Msun  T =   nan K  m_ubv_I =  nan\n",
      "M =   3.000 Msun  T = 12309 K  m_ubv_I = 5.65\n",
      "M =   2.200 Msun  T =  9713 K  m_ubv_I = 6.44\n",
      "M =   1.750 Msun  T =  8122 K  m_ubv_I = 7.11\n",
      "M =   1.500 Msun  T =  7076 K  m_ubv_I = 7.62\n",
      "M =   1.750 Msun  T =  8121 K  m_ubv_I = 7.11\n",
      "M =   1.500 Msun  T =  7078 K  m_ubv_I = 7.62\n",
      "M =   2.100 Msun  T =  9470 K  m_ubv_I = 6.60\n",
      "M =   2.400 Msun  T = 10500 K  m_ubv_I = 6.24\n",
      "M =   0.900 Msun  T =  5185 K  m_ubv_I = 9.93\n",
      "M =   5.500 Msun  T = 32499 K  m_ubv_I = 16.30\n",
      "M =   5.500 Msun  T = 26451 K  m_ubv_I = 16.19\n",
      "M =   2.250 Msun  T =  9999 K  m_ubv_I = 6.42\n",
      "M =   2.240 Msun  T =  9965 K  m_ubv_I = 6.44\n",
      "M =   1.750 Msun  T =  8121 K  m_ubv_I = 7.11\n",
      "M =   5.600 Msun  T = 17569 K  m_ubv_I = 3.80\n",
      "      Time taken: 88.96 seconds\n",
      "Isochrone generation took 635.011819 s.\n"
     ]
    }
   ],
   "source": [
    "import spisea\n",
    "from spisea import evolution, synthetic\n",
    "import math\n",
    "# Check if the evolution class works fine\n",
    "import time\n",
    "t1=time.time()\n",
    "bps=evolution.BPASS()\n",
    "iso1=synthetic.Isochrone_Binary(8.2, 0.0, 100,math.log10(1), mass_sampling=1)"
   ]
  },
  {
   "cell_type": "markdown",
   "metadata": {},
   "source": [
    "Check if all of the phases represented in the isochrone are valid."
   ]
  },
  {
   "cell_type": "code",
   "execution_count": 2,
   "metadata": {},
   "outputs": [
    {
     "data": {
      "text/plain": [
       "True"
      ]
     },
     "execution_count": 2,
     "metadata": {},
     "output_type": "execute_result"
    }
   ],
   "source": [
    "import numpy as np\n",
    "np.all([(x == 5 or x == 101 or x==102 or x==103) for x in iso1.primaries['phase']])"
   ]
  },
  {
   "cell_type": "code",
   "execution_count": 3,
   "metadata": {},
   "outputs": [
    {
     "data": {
      "text/plain": [
       "True"
      ]
     },
     "execution_count": 3,
     "metadata": {},
     "output_type": "execute_result"
    }
   ],
   "source": [
    "np.all([(x == 5 or x == 101  or x==102 or x==103) for x in iso1.singles['phase']])"
   ]
  },
  {
   "cell_type": "code",
   "execution_count": 4,
   "metadata": {},
   "outputs": [
    {
     "data": {
      "text/plain": [
       "True"
      ]
     },
     "execution_count": 4,
     "metadata": {},
     "output_type": "execute_result"
    }
   ],
   "source": [
    "np.all([(x == 5 or x == 101 or x == -99  or x==102 or x==103) for x in iso1.secondaries['phase']])"
   ]
  },
  {
   "cell_type": "markdown",
   "metadata": {},
   "source": [
    "Find the maximum, mean, and median  values of logg (cgs) for primaries and secondaries accounting for NaNs in the columns. (For max we make NaNs the same as - infinity and for median and mean, we do not include them)"
   ]
  },
  {
   "cell_type": "code",
   "execution_count": 5,
   "metadata": {},
   "outputs": [
    {
     "data": {
      "text/plain": [
       "9.294869501162154"
      ]
     },
     "execution_count": 5,
     "metadata": {},
     "output_type": "execute_result"
    }
   ],
   "source": [
    "np.max(iso1.singles['logg'])"
   ]
  },
  {
   "cell_type": "code",
   "execution_count": 6,
   "metadata": {},
   "outputs": [
    {
     "data": {
      "text/plain": [
       "9.288600394549206"
      ]
     },
     "execution_count": 6,
     "metadata": {},
     "output_type": "execute_result"
    }
   ],
   "source": [
    "np.max(np.nan_to_num(iso1.primaries['logg'], -np.inf))"
   ]
  },
  {
   "cell_type": "code",
   "execution_count": 7,
   "metadata": {},
   "outputs": [
    {
     "data": {
      "text/plain": [
       "9.283702439639246"
      ]
     },
     "execution_count": 7,
     "metadata": {},
     "output_type": "execute_result"
    }
   ],
   "source": [
    "np.max(np.nan_to_num(iso1.secondaries['logg'], -np.inf))"
   ]
  },
  {
   "cell_type": "code",
   "execution_count": 8,
   "metadata": {},
   "outputs": [
    {
     "data": {
      "text/plain": [
       "4.2498758947769355"
      ]
     },
     "execution_count": 8,
     "metadata": {},
     "output_type": "execute_result"
    }
   ],
   "source": [
    "np.median(iso1.singles['logg'][np.where(~np.isnan(iso1.singles['logg']))])"
   ]
  },
  {
   "cell_type": "code",
   "execution_count": 9,
   "metadata": {},
   "outputs": [
    {
     "data": {
      "text/plain": [
       "4.133548174454043"
      ]
     },
     "execution_count": 9,
     "metadata": {},
     "output_type": "execute_result"
    }
   ],
   "source": [
    "np.median(iso1.primaries['logg'][np.where(~np.isnan(iso1.primaries['logg']))])"
   ]
  },
  {
   "cell_type": "code",
   "execution_count": 10,
   "metadata": {},
   "outputs": [
    {
     "name": "stderr",
     "output_type": "stream",
     "text": [
      "/opt/anaconda3/envs/astroconda/lib/python3.7/site-packages/ipykernel_launcher.py:1: FutureWarning: Using a non-tuple sequence for multidimensional indexing is deprecated; use `arr[tuple(seq)]` instead of `arr[seq]`. In the future this will be interpreted as an array index, `arr[np.array(seq)]`, which will result either in an error or a different result.\n",
      "  \"\"\"Entry point for launching an IPython kernel.\n"
     ]
    },
    {
     "data": {
      "text/plain": [
       "4.298445675989428"
      ]
     },
     "execution_count": 10,
     "metadata": {},
     "output_type": "execute_result"
    }
   ],
   "source": [
    "np.median(iso1.secondaries['logg'][[np.where(~np.isnan(iso1.secondaries['logg']))]])"
   ]
  },
  {
   "cell_type": "code",
   "execution_count": 11,
   "metadata": {},
   "outputs": [
    {
     "data": {
      "text/plain": [
       "5.354531279865074"
      ]
     },
     "execution_count": 11,
     "metadata": {},
     "output_type": "execute_result"
    }
   ],
   "source": [
    "np.mean(iso1.singles['logg'][np.where(~np.isnan(iso1.singles['logg']))])"
   ]
  },
  {
   "cell_type": "code",
   "execution_count": 12,
   "metadata": {},
   "outputs": [
    {
     "data": {
      "text/plain": [
       "5.109131776599373"
      ]
     },
     "execution_count": 12,
     "metadata": {},
     "output_type": "execute_result"
    }
   ],
   "source": [
    "np.mean(iso1.primaries['logg'][np.where(~np.isnan(iso1.primaries['logg']))])"
   ]
  },
  {
   "cell_type": "code",
   "execution_count": 13,
   "metadata": {},
   "outputs": [
    {
     "data": {
      "text/plain": [
       "4.7087761944824305"
      ]
     },
     "execution_count": 13,
     "metadata": {},
     "output_type": "execute_result"
    }
   ],
   "source": [
    "np.mean(iso1.secondaries['logg'][np.where(~np.isnan(iso1.secondaries['logg']))])"
   ]
  },
  {
   "cell_type": "markdown",
   "metadata": {},
   "source": [
    "Let's make a histogram of log_g values for each table of the isochrone"
   ]
  },
  {
   "cell_type": "code",
   "execution_count": 14,
   "metadata": {},
   "outputs": [
    {
     "data": {
      "text/plain": [
       "Text(0.5, 0, 'logg in cgs')"
      ]
     },
     "execution_count": 14,
     "metadata": {},
     "output_type": "execute_result"
    },
    {
     "data": {
      "image/png": "[encoded data removed]",
      "text/plain": [
       "<Figure size 432x288 with 1 Axes>"
      ]
     },
     "metadata": {
      "needs_background": "light"
     },
     "output_type": "display_data"
    }
   ],
   "source": [
    "import matplotlib.pyplot as plt\n",
    "plt.title(\"Histogram of logg values (secondaries) of BPASS isochrone\")\n",
    "plt.hist(np.array([x for x in iso1.secondaries['logg'] if np.isfinite(x)]), np.arange(0, 30, 1))\n",
    "plt.xlabel(\"logg in cgs\")"
   ]
  },
  {
   "cell_type": "code",
   "execution_count": 15,
   "metadata": {},
   "outputs": [
    {
     "data": {
      "text/plain": [
       "Text(0.5, 0, 'logg in cgs')"
      ]
     },
     "execution_count": 15,
     "metadata": {},
     "output_type": "execute_result"
    },
    {
     "data": {
      "image/png": "[encoded data removed]",
      "text/plain": [
       "<Figure size 432x288 with 1 Axes>"
      ]
     },
     "metadata": {
      "needs_background": "light"
     },
     "output_type": "display_data"
    }
   ],
   "source": [
    "import matplotlib.pyplot as plt\n",
    "plt.title(\"Histogram of logg values (primaries) of BPASS isochrone\")\n",
    "plt.hist(np.array([x for x in iso1.primaries['logg'] if np.isfinite(x)]), np.arange(0, 30, 1))\n",
    "plt.xlabel(\"logg in cgs\")"
   ]
  },
  {
   "cell_type": "code",
   "execution_count": 16,
   "metadata": {},
   "outputs": [
    {
     "data": {
      "text/plain": [
       "Text(0.5, 0, 'logg in cgs')"
      ]
     },
     "execution_count": 16,
     "metadata": {},
     "output_type": "execute_result"
    },
    {
     "data": {
      "image/png": "[encoded data removed]",
      "text/plain": [
       "<Figure size 432x288 with 1 Axes>"
      ]
     },
     "metadata": {
      "needs_background": "light"
     },
     "output_type": "display_data"
    }
   ],
   "source": [
    "import matplotlib.pyplot as plt\n",
    "plt.title(\"Histogram of logg values single stars of BPASS isochrone\")\n",
    "plt.hist(np.array([x for x in iso1.singles['logg'] if np.isfinite(x)]), np.arange(0, 30, 1))\n",
    "plt.xlabel(\"logg in cgs\")"
   ]
  },
  {
   "cell_type": "markdown",
   "metadata": {},
   "source": [
    "For comparison, let's create a Parsec isochrone  phot using otherwise same parameters."
   ]
  },
  {
   "cell_type": "code",
   "execution_count": 17,
   "metadata": {},
   "outputs": [],
   "source": [
    "iso2=synthetic.IsochronePhot(8.2, 0.0, 100, math.log10(1),\n",
    "                             evo_model=evolution.Parsec(), recomp=False) # New Parsec isochrone for same metallicity"
   ]
  },
  {
   "cell_type": "markdown",
   "metadata": {},
   "source": [
    "Find the maximum logg of the isochrone and the distribution of logg values of the new isochrone."
   ]
  },
  {
   "cell_type": "code",
   "execution_count": 18,
   "metadata": {},
   "outputs": [
    {
     "data": {
      "text/plain": [
       "4.8974"
      ]
     },
     "execution_count": 18,
     "metadata": {},
     "output_type": "execute_result"
    }
   ],
   "source": [
    "np.max(iso2.points['logg'])"
   ]
  },
  {
   "cell_type": "code",
   "execution_count": 19,
   "metadata": {
    "scrolled": true
   },
   "outputs": [
    {
     "data": {
      "text/plain": [
       "(array([14., 56., 26., 36., 84.,  0.,  0.,  0.,  0.,  0.,  0.,  0.,  0.,\n",
       "         0.,  0.,  0.,  0.,  0.,  0.,  0.,  0.,  0.,  0.,  0.,  0.,  0.,\n",
       "         0.,  0.,  0.]),\n",
       " array([ 0,  1,  2,  3,  4,  5,  6,  7,  8,  9, 10, 11, 12, 13, 14, 15, 16,\n",
       "        17, 18, 19, 20, 21, 22, 23, 24, 25, 26, 27, 28, 29]),\n",
       " <BarContainer object of 29 artists>)"
      ]
     },
     "execution_count": 19,
     "metadata": {},
     "output_type": "execute_result"
    },
    {
     "data": {
      "image/png": "[encoded data removed]",
      "text/plain": [
       "<Figure size 432x288 with 1 Axes>"
      ]
     },
     "metadata": {
      "needs_background": "light"
     },
     "output_type": "display_data"
    }
   ],
   "source": [
    "import matplotlib.pyplot as plt\n",
    "plt.xlabel(\"logg in cgs\")\n",
    "plt.title(\"Histogram of logg values of stars in the Parsec isochrone\")\n",
    "plt.hist(np.array([x for x in iso2.points['logg'] if np.isfinite(x)]), np.arange(0, 30, 1))"
   ]
  },
  {
   "cell_type": "markdown",
   "metadata": {},
   "source": [
    "Finding the log_g median and mean for the new isochronePhot"
   ]
  },
  {
   "cell_type": "code",
   "execution_count": 20,
   "metadata": {},
   "outputs": [
    {
     "data": {
      "text/plain": [
       "3.4698"
      ]
     },
     "execution_count": 20,
     "metadata": {},
     "output_type": "execute_result"
    }
   ],
   "source": [
    "np.median(iso2.points['logg'])"
   ]
  },
  {
   "cell_type": "code",
   "execution_count": 21,
   "metadata": {},
   "outputs": [
    {
     "data": {
      "text/plain": [
       "3.0808240740740738"
      ]
     },
     "execution_count": 21,
     "metadata": {},
     "output_type": "execute_result"
    }
   ],
   "source": [
    "np.mean(iso2.points['logg'])"
   ]
  },
  {
   "cell_type": "markdown",
   "metadata": {},
   "source": [
    "Now we want to make clusters for both of these models and plot CMD, HR Diagram, and Mass Luminosity relationship for the isochrones. Then, we want to find the Mass luminosity relationship and CMD for the cluster."
   ]
  },
  {
   "cell_type": "code",
   "execution_count": 22,
   "metadata": {},
   "outputs": [],
   "source": [
    "from spisea import imf\n",
    "from spisea.imf import imf, multiplicity\n",
    "from spisea import ifmr\n"
   ]
  },
  {
   "cell_type": "code",
   "execution_count": 23,
   "metadata": {
    "scrolled": true
   },
   "outputs": [
    {
     "name": "stdout",
     "output_type": "stream",
     "text": [
      "196 single stars had to be deleted\n",
      "82.48109578486105 solar masses had to be deleted from single stars before application of the IFMR\n"
     ]
    },
    {
     "name": "stderr",
     "output_type": "stream",
     "text": [
      "/u/ryotainagaki/Desktop/PyPopStar/spisea/synthetic.py:728: VisibleDeprecationWarning: Creating an ndarray from ragged nested sequences (which is a list-or-tuple of lists-or-tuples-or ndarrays with different lengths or shapes) is deprecated. If you meant to do this, you must specify 'dtype=object' when creating the ndarray.\n",
      "  compMass = np.array([compMass[x] for x in indices])\n"
     ]
    },
    {
     "name": "stdout",
     "output_type": "stream",
     "text": [
      "WARNING: changing phase 67 to 5\n",
      "WARNING: changing phase 9 to 5\n",
      "WARNING: changing phase 72 to 5\n",
      "WARNING: changing phase 7 to 5\n",
      "WARNING: changing phase 11 to 5\n",
      "WARNING: changing phase 10 to 5\n",
      "WARNING: changing phase 9 to 5\n",
      "WARNING: changing phase 10 to 5\n",
      "WARNING: changing phase 9 to 5\n",
      "WARNING: changing phase 12 to 5\n",
      "WARNING: changing phase 11 to 5\n",
      "WARNING: changing phase 12 to 5\n",
      "WARNING: changing phase 9 to 5\n",
      "WARNING: changing phase 7 to 5\n",
      "WARNING: changing phase 12 to 5\n",
      "WARNING: changing phase 13 to 5\n",
      "WARNING: changing phase 7 to 5\n",
      "WARNING: changing phase 9 to 5\n",
      "WARNING: changing phase 7 to 5\n",
      "WARNING: changing phase 13 to 5\n",
      "WARNING: changing phase 7 to 5\n",
      "WARNING: changing phase 13 to 5\n",
      "WARNING: changing phase 9 to 5\n",
      "WARNING: changing phase 7 to 5\n",
      "WARNING: changing phase 13 to 5\n",
      "WARNING: changing phase 38 to 5\n",
      "WARNING: changing phase 9 to 5\n",
      "WARNING: changing phase 7 to 5\n",
      "WARNING: changing phase 40 to 5\n",
      "WARNING: changing phase 20 to 5\n",
      "WARNING: changing phase 42 to 5\n",
      "WARNING: changing phase 20 to 5\n",
      "Running the changing phase on companions\n",
      "0 non-single star systems had to be deleted before IFMR application\n",
      "25 companions had to be deleted before IFMR was applied\n",
      "Found 9 companions out of stellar mass range\n"
     ]
    }
   ],
   "source": [
    "clus_1=synthetic.Cluster_w_Binaries(iso1,\n",
    "                                    imf.IMFSalpeter1955(multiplicity=multiplicity.MultiplicityResolvedDK()),\n",
    "                                    2000, ifmr=ifmr.IFMR_Spera15())\n",
    "clus_2=synthetic.ResolvedCluster(iso2,\n",
    "                                 imf.IMFSalpeter1955(multiplicity=multiplicity.MultiplicityResolvedDK()),\n",
    "                                 2000, ifmr=ifmr.IFMR_Spera15())"
   ]
  },
  {
   "cell_type": "markdown",
   "metadata": {},
   "source": [
    "Taking a look at the BPASS Cluster vs Parsec cluster CMD\n",
    "Remember to subtract from V a distance modulus! 5$log_{10}$(distance to cluster/(10 pc))"
   ]
  },
  {
   "cell_type": "code",
   "execution_count": 24,
   "metadata": {},
   "outputs": [
    {
     "data": {
      "text/plain": [
       "<matplotlib.legend.Legend at 0x7fa41908a9d0>"
      ]
     },
     "execution_count": 24,
     "metadata": {},
     "output_type": "execute_result"
    },
    {
     "data": {
      "image/png": "[encoded data removed]",
      "text/plain": [
       "<Figure size 432x288 with 1 Axes>"
      ]
     },
     "metadata": {
      "needs_background": "light"
     },
     "output_type": "display_data"
    }
   ],
   "source": [
    "\n",
    "import matplotlib.pyplot as plt\n",
    "plt.plot(iso1.primaries['m_ubv_B'] - iso1.primaries[\"m_ubv_V\"],\n",
    "         iso1.primaries[\"m_ubv_V\"] - 5 * np.log10(100 / 10), \"r.\")\n",
    "plt.plot(iso1.secondaries['m_ubv_B'] - iso1.secondaries[\"m_ubv_V\"],\n",
    "         iso1.secondaries[\"m_ubv_V\"] - 5 * np.log10(100 / 10), \"r.\")\n",
    "plt.plot(iso1.singles['m_ubv_B'] - iso1.singles[\"m_ubv_V\"],\n",
    "         iso1.singles[\"m_ubv_V\"] - 5 * np.log10(100 / 10),\n",
    "         \"r.\", label=\"BPASS isochrone\")\n",
    "plt.plot(iso2.points['m_ubv_B']-iso2.points[\"m_ubv_V\"],\n",
    "         iso2.points[\"m_ubv_V\"] - 5 * np.log10(100 / 10),\n",
    "         \"b+\", label=\"Parsec Isochrone\", alpha=0.25)\n",
    "plt.xlabel(\"B-V\")\n",
    "plt.ylabel(\"M_V\")\n",
    "plt.title(\"Color magnitude Diagram of Isochrones at solar metallicity and 10**8.2 years age\")\n",
    "plt.gca().invert_yaxis()\n",
    "plt.legend()"
   ]
  },
  {
   "cell_type": "markdown",
   "metadata": {},
   "source": [
    "Taking a look at the BPASS Cluster vs Parsec Settings cluster CMD\n",
    "Remember to subtract from V a distance modulus! 5$log_{10}$(distance to cluster/(10 pc))"
   ]
  },
  {
   "cell_type": "code",
   "execution_count": 25,
   "metadata": {},
   "outputs": [
    {
     "data": {
      "text/plain": [
       "<matplotlib.legend.Legend at 0x7fa4593f5250>"
      ]
     },
     "execution_count": 25,
     "metadata": {},
     "output_type": "execute_result"
    },
    {
     "data": {
      "image/png": "[encoded data removed]",
      "text/plain": [
       "<Figure size 432x288 with 1 Axes>"
      ]
     },
     "metadata": {
      "needs_background": "light"
     },
     "output_type": "display_data"
    }
   ],
   "source": [
    "import matplotlib.pyplot as plt\n",
    "plt.plot(np.log10(iso1.primaries['Teff']), np.log10(iso1.primaries[\"L\"]), \"r.\")\n",
    "plt.plot(np.log10(iso1.secondaries['Teff']), np.log10(iso1.secondaries[\"L\"]), \"r.\")\n",
    "plt.plot(np.log10(iso1.singles['Teff']),\n",
    "         np.log10(iso1.singles[\"L\"]), \"r.\", label=\"BPASS isochrone\")\n",
    "plt.plot(np.log10(iso2.points['Teff']),\n",
    "         np.log10(iso2.points[\"L\"]), \"b+\", label=\"Parsec Isochrone\", alpha=0.25)\n",
    "plt.xlabel(\"log10(T in kelvin)\")\n",
    "plt.ylabel(\"log10(L in watts)\")\n",
    "plt.title(\"HR Diagram of Isochrones at solar metallicity and 10**8.2 years age\")\n",
    "plt.gca().invert_xaxis()\n",
    "plt.legend()\n",
    "# Rough pattern seems to fit. What's that line?"
   ]
  },
  {
   "cell_type": "code",
   "execution_count": 26,
   "metadata": {},
   "outputs": [
    {
     "data": {
      "text/plain": [
       "<matplotlib.legend.Legend at 0x7fa42139f350>"
      ]
     },
     "execution_count": 26,
     "metadata": {},
     "output_type": "execute_result"
    },
    {
     "data": {
      "image/png": "[encoded data removed]",
      "text/plain": [
       "<Figure size 432x288 with 1 Axes>"
      ]
     },
     "metadata": {
      "needs_background": "light"
     },
     "output_type": "display_data"
    }
   ],
   "source": [
    "# Plot the mass-luminosity relationship\n",
    "from astropy import constants as cs\n",
    "import matplotlib.pyplot as plt\n",
    "plt.plot(np.log10(iso1.primaries['mass_current']),\n",
    "         np.log10(iso1.primaries[\"L\"] / cs.L_sun), \"r.\")\n",
    "plt.plot(np.log10(iso1.secondaries['mass_current']),\n",
    "         np.log10(iso1.secondaries[\"L\"] / cs.L_sun), \"r.\")\n",
    "plt.plot(np.log10(iso1.singles['mass_current']), np.log10(iso1.singles[\"L\"]/cs.L_sun),\n",
    "         \"r.\", label=\"BPASS isochrone\")\n",
    "plt.plot(np.log10(iso2.points['mass_current']), np.log10(iso2.points[\"L\"]/cs.L_sun),\n",
    "         \"b+\", label=\"Parsec Isochrone\", alpha=0.25)\n",
    "plt.xlabel(\"log10(Current Mass in solar masses)\")\n",
    "plt.ylabel(\"log10(L/L_solar)\")\n",
    "plt.title(\"log Mass-logL of Isochrones at solar metallicity and 10**8.2 years age\")\n",
    "plt.legend()\n",
    "# Rough pattern seems to fit. What's that line?"
   ]
  },
  {
   "cell_type": "code",
   "execution_count": 27,
   "metadata": {},
   "outputs": [
    {
     "name": "stderr",
     "output_type": "stream",
     "text": [
      "/opt/anaconda3/envs/astroconda/lib/python3.7/site-packages/ipykernel_launcher.py:5: RuntimeWarning: divide by zero encountered in log10\n",
      "  \"\"\"\n",
      "/opt/anaconda3/envs/astroconda/lib/python3.7/site-packages/astropy/units/quantity.py:479: RuntimeWarning: divide by zero encountered in log10\n",
      "  result = super().__array_ufunc__(function, method, *arrays, **kwargs)\n"
     ]
    },
    {
     "data": {
      "text/plain": [
       "<matplotlib.legend.Legend at 0x7fa478f99090>"
      ]
     },
     "execution_count": 27,
     "metadata": {},
     "output_type": "execute_result"
    },
    {
     "data": {
      "image/png": "[encoded data removed]",
      "text/plain": [
       "<Figure size 432x288 with 1 Axes>"
      ]
     },
     "metadata": {
      "needs_background": "light"
     },
     "output_type": "display_data"
    }
   ],
   "source": [
    "# Plot the mass-luminosity relationship\n",
    "from astropy import constants as cs\n",
    "from astropy import units as u\n",
    "import matplotlib.pyplot as plt\n",
    "plt.plot(np.log10(clus_1.star_systems['mass_current']),\n",
    "         np.log10(clus_1.star_systems[\"L\"] / cs.L_sun),\n",
    "         \"r.\", label=\"Binary_Cluster made from BPASS\", alpha =1)\n",
    "plt.plot(np.log10(clus_2.star_systems['mass_current']),\n",
    "         np.log10(clus_2.star_systems[\"L\"] / (cs.L_sun * 1 / u.W)),\n",
    "         \"b+\", label=\"Cluster made from Parsec\", alpha=0.1)\n",
    "plt.xlabel(\"log10(Current Mass in solar masses)\")\n",
    "plt.ylabel(\"log10(L/L_solar)\")\n",
    "plt.title(\"log-Mass-logL of Cluster at solar metallicity and\" +\n",
    "          \" 10**8.2 years age (for primaries and single stars)\")\n",
    "plt.legend()\n",
    "# Rough pattern seems to fit. What's that line?"
   ]
  },
  {
   "cell_type": "markdown",
   "metadata": {},
   "source": [
    "Taking a look at the BPASS Cluster vs \"Parsec Settings cluster\" Observer's HR Diagram\n",
    "Remember to use a distance modulus!"
   ]
  },
  {
   "cell_type": "code",
   "execution_count": 28,
   "metadata": {},
   "outputs": [
    {
     "data": {
      "text/plain": [
       "<matplotlib.legend.Legend at 0x7fa4398a10d0>"
      ]
     },
     "execution_count": 28,
     "metadata": {},
     "output_type": "execute_result"
    },
    {
     "data": {
      "image/png": "[encoded data removed]",
      "text/plain": [
       "<Figure size 432x288 with 1 Axes>"
      ]
     },
     "metadata": {
      "needs_background": "light"
     },
     "output_type": "display_data"
    }
   ],
   "source": [
    "import matplotlib.pyplot as plt\n",
    "plt.plot(clus_1.star_systems['m_ubv_B'] - clus_1.star_systems[\"m_ubv_V\"],\n",
    "         clus_1.star_systems[\"m_ubv_V\"] - 5 * np.log10(100 / 10), \"r.\",\n",
    "         label=\"BPASS Cluster\")\n",
    "plt.plot(clus_2.star_systems['m_ubv_B'] - clus_2.star_systems[\"m_ubv_V\"],\n",
    "         clus_2.star_systems[\"m_ubv_V\"] - 5 * np.log10(100 / 10), \"b+\",\n",
    "         label=\"Parsec Cluster\", alpha=0.25)\n",
    "plt.xlabel(\"B-V\")\n",
    "plt.ylabel(\"M_V\")\n",
    "plt.title(\"Color magnitude Diagram of clusters at solar metallicity and 10**8.2 years age\")\n",
    "plt.gca().invert_yaxis()\n",
    "plt.legend()"
   ]
  },
  {
   "cell_type": "markdown",
   "metadata": {},
   "source": [
    "One thing to note about the Binary_Cluster is that it does include the units as information for columns.\n",
    "The usual ResolvedCluster does not. Thus the latter has a disadvantage when we do comparisons with solar luminosity."
   ]
  },
  {
   "cell_type": "markdown",
   "metadata": {},
   "source": [
    "Looking at the total mass of the cluster"
   ]
  },
  {
   "cell_type": "code",
   "execution_count": 29,
   "metadata": {},
   "outputs": [
    {
     "data": {
      "text/plain": [
       "1932.75900877345"
      ]
     },
     "execution_count": 29,
     "metadata": {},
     "output_type": "execute_result"
    }
   ],
   "source": [
    "clus_1.star_systems['systemMass'].sum()"
   ]
  }
 ],
 "metadata": {
  "kernelspec": {
   "display_name": "astroconda",
   "language": "python",
   "name": "astroconda"
  },
  "language_info": {
   "codemirror_mode": {
    "name": "ipython",
    "version": 3
   },
   "file_extension": ".py",
   "mimetype": "text/x-python",
   "name": "python",
   "nbconvert_exporter": "python",
   "pygments_lexer": "ipython3",
   "version": "3.7.10"
  }
 },
 "nbformat": 4,
 "nbformat_minor": 4
}
