{
 "cells": [
  {
   "cell_type": "code",
   "execution_count": 1,
   "metadata": {},
   "outputs": [],
   "source": [
    "import numpy as np\n",
    "# Load the data table that contains the young nuclear Cluster\n",
    "raw = np.loadtxt(\"/u/ryotainagaki/Desktop/YGCDataV2.dat\", dtype ='object')"
   ]
  },
  {
   "cell_type": "code",
   "execution_count": 2,
   "metadata": {},
   "outputs": [],
   "source": [
    "new_arr = raw.astype('float64')"
   ]
  },
  {
   "cell_type": "code",
   "execution_count": 3,
   "metadata": {},
   "outputs": [
    {
     "data": {
      "text/plain": [
       "array([[3.000e-02, 1.060e+01],\n",
       "       [8.000e-02, 1.064e+01],\n",
       "       [7.000e-02, 1.075e+01],\n",
       "       [6.000e-02, 1.105e+01],\n",
       "       [3.800e-01, 1.109e+01],\n",
       "       [1.200e-01, 1.123e+01],\n",
       "       [3.700e-01, 1.128e+01],\n",
       "       [1.200e-01, 1.147e+01],\n",
       "       [3.000e-02, 1.175e+01],\n",
       "       [1.400e-01, 1.202e+01],\n",
       "       [1.200e-01, 1.209e+01],\n",
       "       [5.000e-02, 1.210e+01],\n",
       "       [4.000e-02, 1.213e+01],\n",
       "       [3.000e-02, 1.221e+01],\n",
       "       [5.000e-02, 1.222e+01],\n",
       "       [9.000e-02, 1.228e+01],\n",
       "       [6.000e-02, 1.230e+01],\n",
       "       [3.000e-02, 1.246e+01],\n",
       "       [4.000e-02, 1.250e+01],\n",
       "       [5.000e-02, 1.265e+01],\n",
       "       [1.200e-01, 1.267e+01],\n",
       "       [6.000e-02, 1.288e+01],\n",
       "       [1.000e-02, 1.292e+01],\n",
       "       [3.000e-02, 1.298e+01],\n",
       "       [3.000e-02, 1.307e+01],\n",
       "       [3.000e-02, 1.322e+01],\n",
       "       [7.000e-02, 1.323e+01],\n",
       "       [9.000e-02, 1.332e+01],\n",
       "       [1.000e-01, 1.333e+01],\n",
       "       [9.000e-02, 1.334e+01],\n",
       "       [6.000e-02, 1.346e+01],\n",
       "       [1.100e-01, 1.358e+01],\n",
       "       [1.500e-01, 1.363e+01],\n",
       "       [9.000e-02, 1.369e+01],\n",
       "       [2.000e-02, 1.370e+01],\n",
       "       [1.300e-01, 1.372e+01],\n",
       "       [2.000e-02, 1.382e+01],\n",
       "       [1.200e-01, 1.383e+01],\n",
       "       [1.400e-01, 1.388e+01],\n",
       "       [9.000e-02, 1.398e+01],\n",
       "       [1.000e-01, 1.407e+01],\n",
       "       [1.300e-01, 1.411e+01],\n",
       "       [7.000e-02, 1.421e+01],\n",
       "       [5.000e-02, 1.424e+01],\n",
       "       [1.300e-01, 1.429e+01],\n",
       "       [8.000e-02, 1.435e+01],\n",
       "       [9.000e-02, 1.436e+01],\n",
       "       [7.000e-02, 1.439e+01],\n",
       "       [8.000e-02, 1.442e+01],\n",
       "       [1.000e-01, 1.446e+01],\n",
       "       [1.400e-01, 1.451e+01],\n",
       "       [2.700e-01, 1.457e+01],\n",
       "       [6.000e-02, 1.475e+01],\n",
       "       [3.000e-02, 1.476e+01],\n",
       "       [3.000e-02, 1.482e+01],\n",
       "       [1.700e-01, 1.488e+01],\n",
       "       [7.000e-02, 1.496e+01],\n",
       "       [6.000e-02, 1.499e+01],\n",
       "       [4.000e-02, 1.505e+01],\n",
       "       [8.000e-02, 1.515e+01],\n",
       "       [6.000e-02, 1.525e+01],\n",
       "       [1.200e-01, 1.527e+01],\n",
       "       [1.000e-01, 1.531e+01],\n",
       "       [1.300e-01, 1.538e+01],\n",
       "       [4.000e-02, 1.541e+01],\n",
       "       [4.000e-02, 1.542e+01],\n",
       "       [1.600e-01, 1.543e+01]])"
      ]
     },
     "execution_count": 3,
     "metadata": {},
     "output_type": "execute_result"
    }
   ],
   "source": [
    "new_arr[np.argsort(new_arr[:, 1])]"
   ]
  },
  {
   "cell_type": "code",
   "execution_count": 4,
   "metadata": {},
   "outputs": [],
   "source": [
    "from astropy.table import Table\n",
    "YGC_Table = Table(new_arr , names = [\"KpErr\", \"Kp\"])"
   ]
  },
  {
   "cell_type": "code",
   "execution_count": 5,
   "metadata": {},
   "outputs": [
    {
     "data": {
      "text/plain": [
       "array([10., 11., 12., 13., 14., 15., 16.])"
      ]
     },
     "execution_count": 5,
     "metadata": {},
     "output_type": "execute_result"
    }
   ],
   "source": [
    "bins = np.linspace(10,16,7)\n",
    "import matplotlib.pyplot as plt\n",
    "plt.hist(YGC_Table['Kp'], bins = bins, histtype='step', align='mid', color = 'r')\n",
    "bins"
   ]
  },
  {
   "cell_type": "markdown",
   "metadata": {},
   "source": [
    "NOW, I NEED TO CONSIDER ERROR BARS. FIRST WHAT IS THE MINIMUM FOR EACH BIN?"
   ]
  },
  {
   "cell_type": "code",
   "execution_count": 6,
   "metadata": {},
   "outputs": [
    {
     "name": "stdout",
     "output_type": "stream",
     "text": [
      "10.5\n",
      "KpErr   Kp \n",
      "----- -----\n",
      " 0.07 10.75\n",
      " 0.08 10.64\n",
      " 0.03  10.6\n",
      "None\n",
      "11.5\n",
      "KpErr   Kp \n",
      "----- -----\n",
      " 0.12 11.47\n",
      " 0.07 10.75\n",
      " 0.12 11.23\n",
      " 0.08 10.64\n",
      " 0.03  10.6\n",
      " 0.37 11.28\n",
      " 0.38 11.09\n",
      " 0.03 11.75\n",
      " 0.06 11.05\n",
      "None\n",
      "12.5\n",
      "KpErr   Kp \n",
      "----- -----\n",
      " 0.05 12.22\n",
      " 0.12 12.67\n",
      " 0.06 12.88\n",
      " 0.05 12.65\n",
      " 0.12 11.47\n",
      " 0.07 10.75\n",
      " 0.12 12.09\n",
      " 0.14 12.02\n",
      " 0.12 11.23\n",
      " 0.08 10.64\n",
      "  ...   ...\n",
      " 0.06  12.3\n",
      " 0.03  10.6\n",
      " 0.03 12.21\n",
      " 0.37 11.28\n",
      " 0.09 12.28\n",
      " 0.38 11.09\n",
      " 0.03 12.46\n",
      " 0.03 11.75\n",
      " 0.05  12.1\n",
      " 0.06 11.05\n",
      " 0.03 12.98\n",
      "Length = 24 rows\n",
      "None\n",
      "13.5\n",
      "KpErr   Kp \n",
      "----- -----\n",
      " 0.14 13.88\n",
      " 0.05 12.22\n",
      " 0.09 13.69\n",
      " 0.03 13.22\n",
      " 0.12 12.67\n",
      " 0.15 13.63\n",
      " 0.06 12.88\n",
      " 0.05 12.65\n",
      " 0.11 13.58\n",
      " 0.12 11.47\n",
      "  ...   ...\n",
      " 0.02 13.82\n",
      " 0.38 11.09\n",
      "  0.1 13.33\n",
      " 0.03 12.46\n",
      " 0.03 11.75\n",
      " 0.05  12.1\n",
      " 0.06 11.05\n",
      " 0.12 13.83\n",
      " 0.09 13.98\n",
      " 0.07 13.23\n",
      " 0.03 12.98\n",
      "Length = 40 rows\n",
      "None\n",
      "14.5\n",
      "KpErr   Kp \n",
      "----- -----\n",
      " 0.07 14.39\n",
      " 0.07 14.96\n",
      " 0.03 14.82\n",
      " 0.14 14.51\n",
      " 0.08 14.42\n",
      " 0.14 13.88\n",
      " 0.05 12.22\n",
      " 0.09 13.69\n",
      " 0.17 14.88\n",
      " 0.03 13.22\n",
      "  ...   ...\n",
      " 0.03 11.75\n",
      " 0.05  12.1\n",
      " 0.06 11.05\n",
      " 0.12 13.83\n",
      " 0.09 13.98\n",
      "  0.1 14.46\n",
      " 0.07 13.23\n",
      " 0.03 12.98\n",
      " 0.03 14.76\n",
      " 0.08 14.35\n",
      " 0.09 14.36\n",
      "Length = 58 rows\n",
      "None\n",
      "15.5\n",
      "KpErr   Kp \n",
      "----- -----\n",
      " 0.07 14.39\n",
      " 0.07 14.96\n",
      " 0.03 14.82\n",
      " 0.12 15.27\n",
      " 0.04 15.41\n",
      " 0.14 14.51\n",
      " 0.08 14.42\n",
      "  0.1 15.31\n",
      " 0.14 13.88\n",
      " 0.05 12.22\n",
      "  ...   ...\n",
      " 0.05  12.1\n",
      " 0.06 11.05\n",
      " 0.12 13.83\n",
      " 0.09 13.98\n",
      "  0.1 14.46\n",
      " 0.16 15.43\n",
      " 0.07 13.23\n",
      " 0.03 12.98\n",
      " 0.03 14.76\n",
      " 0.08 14.35\n",
      " 0.09 14.36\n",
      "Length = 67 rows\n",
      "None\n",
      "16.5\n",
      "KpErr   Kp \n",
      "----- -----\n",
      " 0.07 14.39\n",
      " 0.07 14.96\n",
      " 0.03 14.82\n",
      " 0.12 15.27\n",
      " 0.04 15.41\n",
      " 0.14 14.51\n",
      " 0.08 14.42\n",
      "  0.1 15.31\n",
      " 0.14 13.88\n",
      " 0.05 12.22\n",
      "  ...   ...\n",
      " 0.05  12.1\n",
      " 0.06 11.05\n",
      " 0.12 13.83\n",
      " 0.09 13.98\n",
      "  0.1 14.46\n",
      " 0.16 15.43\n",
      " 0.07 13.23\n",
      " 0.03 12.98\n",
      " 0.03 14.76\n",
      " 0.08 14.35\n",
      " 0.09 14.36\n",
      "Length = 67 rows\n",
      "None\n"
     ]
    }
   ],
   "source": [
    "num_in_bins=[0 for x in bins]\n",
    "def grouper(bin_number):\n",
    "    tab_slice = YGC_Table[np.where(np.abs(YGC_Table['Kp'] - 0.5) <= (10.5+bin_number))[0]]\n",
    "    print(10.5+bin_number)\n",
    "    print(tab_slice)\n",
    "    # Assume that due to the nature of the floating point and as we have seen above\n",
    "    # there are no numbers that are exactly 11.0\n",
    "    num_in_bins[bin_number] +=len(np.where((tab_slice['Kp'] - tab_slice['KpErr'])>=bins[bin_number])[0])\n",
    "for x in map(grouper, range(len(bins))):\n",
    "    print(x)"
   ]
  },
  {
   "cell_type": "code",
   "execution_count": 7,
   "metadata": {},
   "outputs": [
    {
     "data": {
      "text/plain": [
       "[3, 3, 13, 16, 16, 9, 0]"
      ]
     },
     "execution_count": 7,
     "metadata": {},
     "output_type": "execute_result"
    }
   ],
   "source": [
    "num_in_bins"
   ]
  },
  {
   "cell_type": "code",
   "execution_count": 8,
   "metadata": {},
   "outputs": [
    {
     "data": {
      "text/plain": [
       "67"
      ]
     },
     "execution_count": 8,
     "metadata": {},
     "output_type": "execute_result"
    }
   ],
   "source": [
    "len(YGC_Table)"
   ]
  },
  {
   "cell_type": "markdown",
   "metadata": {},
   "source": [
    "Before I dive into functions (had to debug and check), I shall confirm that neither 'Kp' values nor the 'Kp' +/- '$\\sigma_{Kp}$' values are going to be clean integers. This will allow us to use the less than or equals to inequalities when dealing with bins. (generally numpy bins are not inclusive intervals)."
   ]
  },
  {
   "cell_type": "code",
   "execution_count": 9,
   "metadata": {},
   "outputs": [
    {
     "data": {
      "text/plain": [
       "False"
      ]
     },
     "execution_count": 9,
     "metadata": {},
     "output_type": "execute_result"
    }
   ],
   "source": [
    "np.any([x==int(y) for x, y in zip(YGC_Table['Kp'], YGC_Table['Kp'])])"
   ]
  },
  {
   "cell_type": "code",
   "execution_count": 10,
   "metadata": {},
   "outputs": [
    {
     "data": {
      "text/plain": [
       "False"
      ]
     },
     "execution_count": 10,
     "metadata": {},
     "output_type": "execute_result"
    }
   ],
   "source": [
    "np.any([x - y==int(x - y) for x, y in zip(YGC_Table['Kp'], YGC_Table['KpErr'])])"
   ]
  },
  {
   "cell_type": "code",
   "execution_count": 11,
   "metadata": {},
   "outputs": [
    {
     "data": {
      "text/plain": [
       "False"
      ]
     },
     "execution_count": 11,
     "metadata": {},
     "output_type": "execute_result"
    }
   ],
   "source": [
    "np.any([x + y==int(x + y) for x, y in zip(YGC_Table['Kp'], YGC_Table['KpErr'])])"
   ]
  },
  {
   "cell_type": "markdown",
   "metadata": {},
   "source": [
    "Hence, I do not have to worry about the equals to part of the LEQ operation misassigning a Kp to a bin."
   ]
  },
  {
   "cell_type": "markdown",
   "metadata": {},
   "source": [
    "Now I try to calculate the minimum bound of elements in the $K_p$ bins by eliminating elements whose $K_p - \\sigma_{K_p}$ or $K_p + \\sigma_{K_p}$ can be outside of the bin $K_p$ is in."
   ]
  },
  {
   "cell_type": "code",
   "execution_count": 12,
   "metadata": {},
   "outputs": [
    {
     "name": "stdout",
     "output_type": "stream",
     "text": [
      "10.5\n",
      "KpErr   Kp \n",
      "----- -----\n",
      " 0.07 10.75\n",
      " 0.08 10.64\n",
      " 0.03  10.6\n",
      "None\n",
      "11.5\n",
      "KpErr   Kp \n",
      "----- -----\n",
      " 0.12 11.47\n",
      " 0.07 10.75\n",
      " 0.12 11.23\n",
      " 0.08 10.64\n",
      " 0.03  10.6\n",
      " 0.37 11.28\n",
      " 0.38 11.09\n",
      " 0.03 11.75\n",
      " 0.06 11.05\n",
      "None\n",
      "12.5\n",
      "KpErr   Kp \n",
      "----- -----\n",
      " 0.05 12.22\n",
      " 0.12 12.67\n",
      " 0.06 12.88\n",
      " 0.05 12.65\n",
      " 0.12 11.47\n",
      " 0.07 10.75\n",
      " 0.12 12.09\n",
      " 0.14 12.02\n",
      " 0.12 11.23\n",
      " 0.08 10.64\n",
      "  ...   ...\n",
      " 0.06  12.3\n",
      " 0.03  10.6\n",
      " 0.03 12.21\n",
      " 0.37 11.28\n",
      " 0.09 12.28\n",
      " 0.38 11.09\n",
      " 0.03 12.46\n",
      " 0.03 11.75\n",
      " 0.05  12.1\n",
      " 0.06 11.05\n",
      " 0.03 12.98\n",
      "Length = 24 rows\n",
      "None\n",
      "13.5\n",
      "KpErr   Kp \n",
      "----- -----\n",
      " 0.14 13.88\n",
      " 0.05 12.22\n",
      " 0.09 13.69\n",
      " 0.03 13.22\n",
      " 0.12 12.67\n",
      " 0.15 13.63\n",
      " 0.06 12.88\n",
      " 0.05 12.65\n",
      " 0.11 13.58\n",
      " 0.12 11.47\n",
      "  ...   ...\n",
      " 0.02 13.82\n",
      " 0.38 11.09\n",
      "  0.1 13.33\n",
      " 0.03 12.46\n",
      " 0.03 11.75\n",
      " 0.05  12.1\n",
      " 0.06 11.05\n",
      " 0.12 13.83\n",
      " 0.09 13.98\n",
      " 0.07 13.23\n",
      " 0.03 12.98\n",
      "Length = 40 rows\n",
      "None\n",
      "14.5\n",
      "KpErr   Kp \n",
      "----- -----\n",
      " 0.07 14.39\n",
      " 0.07 14.96\n",
      " 0.03 14.82\n",
      " 0.14 14.51\n",
      " 0.08 14.42\n",
      " 0.14 13.88\n",
      " 0.05 12.22\n",
      " 0.09 13.69\n",
      " 0.17 14.88\n",
      " 0.03 13.22\n",
      "  ...   ...\n",
      " 0.03 11.75\n",
      " 0.05  12.1\n",
      " 0.06 11.05\n",
      " 0.12 13.83\n",
      " 0.09 13.98\n",
      "  0.1 14.46\n",
      " 0.07 13.23\n",
      " 0.03 12.98\n",
      " 0.03 14.76\n",
      " 0.08 14.35\n",
      " 0.09 14.36\n",
      "Length = 58 rows\n",
      "None\n",
      "15.5\n",
      "KpErr   Kp \n",
      "----- -----\n",
      " 0.07 14.39\n",
      " 0.07 14.96\n",
      " 0.03 14.82\n",
      " 0.12 15.27\n",
      " 0.04 15.41\n",
      " 0.14 14.51\n",
      " 0.08 14.42\n",
      "  0.1 15.31\n",
      " 0.14 13.88\n",
      " 0.05 12.22\n",
      "  ...   ...\n",
      " 0.05  12.1\n",
      " 0.06 11.05\n",
      " 0.12 13.83\n",
      " 0.09 13.98\n",
      "  0.1 14.46\n",
      " 0.16 15.43\n",
      " 0.07 13.23\n",
      " 0.03 12.98\n",
      " 0.03 14.76\n",
      " 0.08 14.35\n",
      " 0.09 14.36\n",
      "Length = 67 rows\n",
      "None\n",
      "16.5\n",
      "KpErr   Kp \n",
      "----- -----\n",
      " 0.07 14.39\n",
      " 0.07 14.96\n",
      " 0.03 14.82\n",
      " 0.12 15.27\n",
      " 0.04 15.41\n",
      " 0.14 14.51\n",
      " 0.08 14.42\n",
      "  0.1 15.31\n",
      " 0.14 13.88\n",
      " 0.05 12.22\n",
      "  ...   ...\n",
      " 0.05  12.1\n",
      " 0.06 11.05\n",
      " 0.12 13.83\n",
      " 0.09 13.98\n",
      "  0.1 14.46\n",
      " 0.16 15.43\n",
      " 0.07 13.23\n",
      " 0.03 12.98\n",
      " 0.03 14.76\n",
      " 0.08 14.35\n",
      " 0.09 14.36\n",
      "Length = 67 rows\n",
      "None\n"
     ]
    }
   ],
   "source": [
    "num_in_bins=[0 for x in bins]\n",
    "# For this snippet of code, I shall assume that the bin width is 1.\n",
    "def lower_bound(bin_number, bin_width=1):\n",
    "    \"\"\"\n",
    "    Find a lower bound for the number of young stars in the K' bin.\n",
    "    \"\"\"\n",
    "    tab_slice = YGC_Table[np.where(np.abs(YGC_Table['Kp'] - (10.5 + bin_width * bin_number)) <= 0.5)[0]]\n",
    "    # Should not have to many problems as there are no tab_sl\n",
    "    # We want to make\n",
    "    num_in_bins[bin_number] += len(np.where((np.abs(tab_slice['Kp'] - tab_slice['KpErr'] - (10.5 + bin_width * bin_number)) <= 0.5) &\n",
    "                                               (np.abs(tab_slice['Kp'] + tab_slice['KpErr'] - (10.5 + bin_width * bin_number)) <= 0.5))[0])\n",
    "for x in map(grouper, range(len(bins))):\n",
    "    print(x)"
   ]
  },
  {
   "cell_type": "code",
   "execution_count": 13,
   "metadata": {},
   "outputs": [
    {
     "data": {
      "text/plain": [
       "[3, 3, 13, 16, 16, 9, 0]"
      ]
     },
     "execution_count": 13,
     "metadata": {},
     "output_type": "execute_result"
    }
   ],
   "source": [
    "num_in_bins"
   ]
  },
  {
   "cell_type": "markdown",
   "metadata": {},
   "source": [
    "Now I try to calculate the maximum bound of the number of stars in bin x by including elements whose $K_p - \\sigma_{K_p}$ or $K_p + \\sigma_{K_p}$ can be included in the bin x is in. Also all elements whose $K_p$ is in the bin x are kept in the bin."
   ]
  },
  {
   "cell_type": "code",
   "execution_count": 14,
   "metadata": {},
   "outputs": [
    {
     "name": "stdout",
     "output_type": "stream",
     "text": [
      "10.5\n",
      "3\n",
      "64\n",
      "Bin 0\n",
      "11.5\n",
      "6\n",
      "58\n",
      "Bin 1\n",
      "12.5\n",
      "15\n",
      "43\n",
      "Bin 2\n",
      "13.5\n",
      "16\n",
      "27\n",
      "Bin 3\n",
      "14.5\n",
      "18\n",
      "9\n",
      "Bin 4\n",
      "15.5\n",
      "9\n",
      "0\n",
      "Bin 5\n",
      "16.5\n",
      "0\n",
      "0\n",
      "Bin 6\n"
     ]
    }
   ],
   "source": [
    "num_in_bins2 = [0 for x in bins]\n",
    "def grouper_2(bin_number, bin_width=1):\n",
    "    print(10.5 + bin_width * bin_number)\n",
    "    tab_slice = YGC_Table[np.where(np.abs(YGC_Table['Kp'] - (10.5 + bin_width * bin_number)) <= 0.5)[0]]\n",
    "    others_to_check = YGC_Table[np.where(np.abs(YGC_Table['Kp'] - 0.5) > (10.5 + bin_width * bin_number))[0]]\n",
    "    print(len(tab_slice))\n",
    "    print(len(others_to_check))\n",
    "    print(\"Bin\", bin_number)\n",
    "    num_in_bins2[bin_number] += (len(tab_slice) +\n",
    "                                 len(np.where((np.abs(others_to_check['Kp'] - others_to_check['KpErr'] - (10.5 + bin_width * bin_number)) <=  0.5) |\n",
    "                                                (np.abs(others_to_check['Kp'] + others_to_check['KpErr'] - (10.5 + bin_width * bin_number)) <= 0.5))[0]))\n",
    "for x in map(grouper_2, range(len(bins))):\n",
    "    x"
   ]
  },
  {
   "cell_type": "code",
   "execution_count": 15,
   "metadata": {},
   "outputs": [
    {
     "data": {
      "text/plain": [
       "[6, 8, 15, 18, 18, 9, 0]"
      ]
     },
     "execution_count": 15,
     "metadata": {},
     "output_type": "execute_result"
    }
   ],
   "source": [
    "num_in_bins2"
   ]
  },
  {
   "cell_type": "code",
   "execution_count": 16,
   "metadata": {},
   "outputs": [
    {
     "data": {
      "text/plain": [
       "Text(0.5, 1.0, \"$K_p$ band Luminosity function (Error bars are made using maximum possible \\n |difference between established K' and K' +/- $\\\\sigma_{K'}$|)\")"
      ]
     },
     "execution_count": 16,
     "metadata": {},
     "output_type": "execute_result"
    },
    {
     "data": {
      "image/png": "[encoded data removed]",
      "text/plain": [
       "<Figure size 432x288 with 1 Axes>"
      ]
     },
     "metadata": {
      "needs_background": "light"
     },
     "output_type": "display_data"
    }
   ],
   "source": [
    "def add_by_one_x(x):\n",
    "    \"\"\"Increment x-1th term in binned counts\"\"\"\n",
    "    binned_counts[x-1] +=1\n",
    "\n",
    "binned_counts_help = np.digitize(new_arr[:, 1], bins)\n",
    "binned_counts = [0 for x in bins]\n",
    "round_up = np.vectorize(add_by_one_x)(binned_counts_help)\n",
    "max_error_bound = np.vectorize(lambda x, y: max(abs(x), abs(y)))\n",
    "plt.errorbar(bins, binned_counts,yerr=max_error_bound(np.array(num_in_bins2)- binned_counts,binned_counts-np.array(num_in_bins)), label='Number of Stars with $K_p = x$', lw=2.5,\n",
    "            fmt='-o',ms=5)\n",
    "plt.xlabel(\"$K_p$\")\n",
    "plt.ylabel(\"Number of stars\")\n",
    "plt.title(\"$K_p$ band Luminosity function (Error bars are made using maximum possible \\n |difference between established K' and K' +/- $\\sigma_{K'}$|)\")"
   ]
  },
  {
   "cell_type": "code",
   "execution_count": 17,
   "metadata": {},
   "outputs": [
    {
     "data": {
      "text/plain": [
       "[3, 6, 15, 16, 19, 9, 0]"
      ]
     },
     "execution_count": 17,
     "metadata": {},
     "output_type": "execute_result"
    }
   ],
   "source": [
    "binned_counts"
   ]
  },
  {
   "cell_type": "code",
   "execution_count": 18,
   "metadata": {},
   "outputs": [
    {
     "data": {
      "text/plain": [
       "array([14.39, 14.96, 14.82, 15.27, 15.41, 14.51, 14.42, 15.31, 13.88,\n",
       "       12.22, 13.69, 14.88, 13.22, 12.67, 14.29, 15.05, 13.63, 12.88,\n",
       "       12.65, 13.58, 14.75, 11.47, 14.11, 10.75, 13.32, 12.09, 12.02,\n",
       "       15.42, 11.23, 15.38, 10.64, 12.92, 13.34, 12.5 , 14.07, 13.07,\n",
       "       14.99, 15.25, 12.13, 15.15, 13.46, 14.21, 12.3 , 10.6 , 13.72,\n",
       "       12.21, 11.28, 14.57, 12.28, 13.7 , 14.24, 13.82, 11.09, 13.33,\n",
       "       12.46, 11.75, 12.1 , 11.05, 13.83, 13.98, 14.46, 15.43, 13.23,\n",
       "       12.98, 14.76, 14.35, 14.36])"
      ]
     },
     "execution_count": 18,
     "metadata": {},
     "output_type": "execute_result"
    }
   ],
   "source": [
    "new_arr[:, 1]"
   ]
  },
  {
   "cell_type": "code",
   "execution_count": 19,
   "metadata": {},
   "outputs": [
    {
     "data": {
      "text/plain": [
       "array([5, 5, 5, 6, 6, 5, 5, 6, 4, 3, 4, 5, 4, 3, 5, 6, 4, 3, 3, 4, 5, 2,\n",
       "       5, 1, 4, 3, 3, 6, 2, 6, 1, 3, 4, 3, 5, 4, 5, 6, 3, 6, 4, 5, 3, 1,\n",
       "       4, 3, 2, 5, 3, 4, 5, 4, 2, 4, 3, 2, 3, 2, 4, 4, 5, 6, 4, 3, 5, 5,\n",
       "       5])"
      ]
     },
     "execution_count": 19,
     "metadata": {},
     "output_type": "execute_result"
    }
   ],
   "source": [
    "np.digitize(new_arr[:, 1], bins)"
   ]
  },
  {
   "cell_type": "markdown",
   "metadata": {},
   "source": [
    "Now, introducing the BPASS Cluster."
   ]
  },
  {
   "cell_type": "code",
   "execution_count": null,
   "metadata": {},
   "outputs": [
    {
     "name": "stderr",
     "output_type": "stream",
     "text": [
      "/opt/anaconda3/envs/astroconda/lib/python3.7/site-packages/pysynphot/locations.py:346: UserWarning: Extinction files not found in /g/lu/models/cdbs/extinction\n",
      "  warnings.warn('Extinction files not found in %s' % (extdir, ))\n",
      "/opt/anaconda3/envs/astroconda/lib/python3.7/site-packages/pysynphot/refs.py:125: UserWarning: No thermal tables found, no thermal calculations can be performed. No files found for /g/lu/models/cdbs/mtab/*_tmt.fits\n",
      "  'no thermal calculations can be performed. ' + str(e))\n",
      "/opt/anaconda3/envs/astroconda/lib/python3.7/site-packages/astropy/units/quantity.py:477: RuntimeWarning: invalid value encountered in true_divide\n",
      "  result = super().__array_ufunc__(function, method, *arrays, **kwargs)\n",
      "/u/ryotainagaki/Desktop/PyPopStar/spisea/evolution.py:1792: RuntimeWarning: overflow encountered in power\n",
      "  (1 / cs.au) * un.m)\n",
      "/opt/anaconda3/envs/astroconda/lib/python3.7/site-packages/astropy/table/column.py:1020: RuntimeWarning: invalid value encountered in greater\n",
      "  result = getattr(super(), op)(other)\n",
      "/opt/anaconda3/envs/astroconda/lib/python3.7/site-packages/astropy/table/column.py:1020: RuntimeWarning: invalid value encountered in less_equal\n",
      "  result = getattr(super(), op)(other)\n",
      "/opt/anaconda3/envs/astroconda/lib/python3.7/site-packages/astropy/units/quantity.py:477: RuntimeWarning: divide by zero encountered in true_divide\n",
      "  result = super().__array_ufunc__(function, method, *arrays, **kwargs)\n"
     ]
    },
    {
     "name": "stdout",
     "output_type": "stream",
     "text": [
      "Changing to T= 50000 for T=152940 logg=5.66\n",
      "Changing to logg=5.00 for T=152940 logg=5.66\n",
      "Changing to logg=4.00 for T= 31742 logg=3.79\n",
      "Changing to T= 50000 for T=159805 logg=5.73\n",
      "Changing to logg=5.00 for T=159805 logg=5.73\n",
      "Changing to T= 50000 for T=153582 logg=5.67\n",
      "Changing to logg=5.00 for T=153582 logg=5.67\n",
      "Changing to logg=4.00 for T= 31652 logg=3.67\n",
      "Changing to T= 50000 for T=112787 logg=5.26\n",
      "Changing to logg=5.00 for T=112787 logg=5.26\n",
      "Changing to T= 50000 for T=120629 logg=5.39\n",
      "Changing to logg=5.00 for T=120629 logg=5.39\n",
      "Changing to T= 50000 for T=152820 logg=5.66\n",
      "Changing to logg=5.00 for T=152820 logg=5.66\n",
      "Changing to logg=3.50 for T= 29065 logg=3.36\n",
      "Changing to logg=4.00 for T= 31493 logg=3.62\n",
      "Changing to T= 50000 for T=155561 logg=5.69\n",
      "Changing to logg=5.00 for T=155561 logg=5.69\n",
      "Changing to logg=4.00 for T= 31749 logg=3.71\n",
      "Changing to logg=4.00 for T= 31278 logg=3.85\n",
      "Changing to logg=4.00 for T= 31034 logg=3.89\n",
      "Changing to logg=3.50 for T= 27150 logg=3.18\n",
      "Changing to logg=4.00 for T= 31632 logg=3.83\n",
      "Changing to T= 50000 for T=165291 logg=5.79\n",
      "Changing to logg=5.00 for T=165291 logg=5.79\n",
      "Changing to logg=3.50 for T= 28299 logg=3.28\n",
      "Changing to logg=3.00 for T= 22301 logg=2.76\n",
      "Changing to logg=3.00 for T= 22520 logg=2.73\n",
      "Changing to logg=3.00 for T= 24388 logg=2.95\n",
      "Changing to T= 50000 for T=161480 logg=5.75\n",
      "Changing to logg=5.00 for T=161480 logg=5.75\n",
      "Changing to T= 50000 for T= 92455 logg=4.91\n",
      "Changing to logg=5.00 for T= 92455 logg=4.91\n",
      "Changing to logg=4.00 for T= 31780 logg=3.75\n",
      "Changing to logg=3.50 for T= 29776 logg=3.43\n",
      "Changing to T= 50000 for T=163663 logg=5.77\n",
      "Changing to logg=5.00 for T=163663 logg=5.77\n",
      "Changing to T= 50000 for T=125971 logg=5.47\n",
      "Changing to logg=5.00 for T=125971 logg=5.47\n",
      "Changing to T= 50000 for T=157848 logg=5.71\n",
      "Changing to logg=5.00 for T=157848 logg=5.71\n",
      "Changing to logg=4.00 for T= 31890 logg=3.69\n",
      "Changing to logg=3.00 for T= 21997 logg=2.73\n",
      "Changing to logg=4.00 for T= 31114 logg=3.78\n",
      "Changing to logg=3.50 for T= 29210 logg=3.37\n",
      "Changing to T= 50000 for T=111812 logg=5.24\n",
      "Changing to logg=5.00 for T=111812 logg=5.24\n",
      "Changing to logg=4.00 for T= 31469 logg=3.68\n",
      "Changing to logg=3.00 for T= 21997 logg=2.73\n",
      "Changing to logg=4.00 for T= 31469 logg=3.68\n",
      "Changing to logg=4.00 for T= 32919 logg=3.54\n",
      "Changing to T= 50000 for T=112530 logg=5.25\n",
      "Changing to logg=5.00 for T=112530 logg=5.25\n",
      "Changing to logg=3.50 for T= 29210 logg=3.37\n",
      "Changing to logg=4.00 for T= 31638 logg=3.78\n",
      "Changing to logg=3.00 for T= 22295 logg=2.53\n",
      "Changing to logg=3.50 for T= 29210 logg=3.37\n",
      "Changing to logg=3.50 for T= 29210 logg=3.37\n",
      "Changing to T= 50000 for T=177832 logg=5.91\n",
      "Changing to logg=5.00 for T=177832 logg=5.91\n",
      "Changing to T= 50000 for T=119751 logg=5.43\n",
      "Changing to logg=5.00 for T=119751 logg=5.43\n",
      "Changing to logg=3.50 for T= 29210 logg=3.37\n",
      "Changing to T= 50000 for T=122031 logg=5.41\n",
      "Changing to logg=5.00 for T=122031 logg=5.41\n",
      "Changing to T= 50000 for T=120426 logg=5.39\n",
      "Changing to logg=5.00 for T=120426 logg=5.39\n",
      "Changing to T= 50000 for T=175223 logg=5.89\n",
      "Changing to logg=5.00 for T=175223 logg=5.89\n",
      "Changing to logg=4.00 for T= 31454 logg=3.87\n",
      "Changing to logg=4.00 for T= 31114 logg=3.78\n",
      "Changing to logg=4.00 for T= 32135 logg=3.78\n",
      "Changing to logg=4.00 for T= 32135 logg=3.78\n",
      "Changing to logg=4.00 for T= 31469 logg=3.68\n",
      "Changing to logg=3.50 for T= 29210 logg=3.37\n",
      "Changing to logg=4.00 for T= 31469 logg=3.68\n",
      "Changing to T= 50000 for T=165257 logg=5.79\n",
      "Changing to logg=5.00 for T=165257 logg=5.79\n",
      "Changing to logg=4.00 for T= 31199 logg=3.91\n",
      "Changing to T= 50000 for T=112261 logg=5.25\n",
      "Changing to logg=5.00 for T=112261 logg=5.25\n",
      "Changing to logg=4.00 for T= 31114 logg=3.78\n",
      "Changing to T= 50000 for T=176283 logg=5.90\n",
      "Changing to logg=5.00 for T=176283 logg=5.90\n",
      "Changing to logg=4.00 for T= 31454 logg=3.87\n",
      "Changing to T= 50000 for T=175323 logg=5.89\n",
      "Changing to logg=5.00 for T=175323 logg=5.89\n",
      "Changing to logg=3.50 for T= 29210 logg=3.37\n",
      "Changing to logg=4.00 for T= 31114 logg=3.78\n",
      "Changing to logg=4.00 for T= 31454 logg=3.87\n",
      "Changing to T= 50000 for T=165246 logg=5.79\n",
      "Changing to logg=5.00 for T=165246 logg=5.79\n",
      "Changing to logg=4.00 for T= 31454 logg=3.87\n",
      "Changing to logg=4.00 for T= 31890 logg=3.69\n",
      "Changing to logg=4.00 for T= 31114 logg=3.78\n",
      "Changing to logg=4.00 for T= 31890 logg=3.69\n",
      "Changing to T= 50000 for T=175728 logg=5.89\n",
      "Changing to logg=5.00 for T=175728 logg=5.89\n",
      "Changing to logg=3.00 for T= 21997 logg=2.73\n",
      "Changing to logg=4.00 for T= 32135 logg=3.78\n",
      "Changing to T= 50000 for T=119481 logg=5.42\n",
      "Changing to logg=5.00 for T=119481 logg=5.42\n",
      "Changing to T= 50000 for T=161707 logg=5.75\n",
      "Changing to logg=5.00 for T=161707 logg=5.75\n",
      "Changing to T= 50000 for T=121166 logg=5.40\n",
      "Changing to logg=5.00 for T=121166 logg=5.40\n",
      "Changing to T= 50000 for T=170145 logg=5.84\n",
      "Changing to logg=5.00 for T=170145 logg=5.84\n",
      "Changing to logg=4.00 for T= 31454 logg=3.87\n",
      "Changing to logg=4.00 for T= 31114 logg=3.78\n",
      "Changing to logg=3.00 for T= 21997 logg=2.73\n",
      "Changing to logg=4.00 for T= 31114 logg=3.78\n",
      "Changing to T= 50000 for T=161243 logg=5.75\n",
      "Changing to logg=5.00 for T=161243 logg=5.75\n",
      "Changing to logg=3.00 for T= 23885 logg=2.90\n",
      "Changing to logg=4.00 for T= 31114 logg=3.78\n",
      "Changing to logg=4.00 for T= 31890 logg=3.69\n",
      "Changing to logg=4.00 for T= 31469 logg=3.68\n",
      "Changing to logg=3.00 for T= 21997 logg=2.73\n",
      "Changing to logg=4.00 for T= 32135 logg=3.78\n",
      "Changing to logg=4.00 for T= 31638 logg=3.78\n",
      "Changing to logg=4.00 for T= 31114 logg=3.78\n",
      "Changing to logg=4.00 for T= 31454 logg=3.87\n",
      "Changing to T= 50000 for T=175667 logg=5.89\n",
      "Changing to logg=5.00 for T=175667 logg=5.89\n",
      "Changing to logg=4.00 for T= 31469 logg=3.68\n",
      "Changing to logg=4.00 for T= 31114 logg=3.78\n",
      "Changing to logg=3.50 for T= 29210 logg=3.37\n",
      "Changing to T= 50000 for T=160838 logg=5.71\n",
      "Changing to logg=5.00 for T=160838 logg=5.71\n",
      "Changing to logg=4.00 for T= 31454 logg=3.87\n",
      "Changing to logg=4.00 for T= 31454 logg=3.87\n",
      "Changing to logg=4.00 for T= 31638 logg=3.78\n",
      "Changing to logg=3.00 for T= 21997 logg=2.73\n",
      "Changing to logg=4.00 for T= 31454 logg=3.87\n",
      "Changing to logg=3.00 for T= 21997 logg=2.73\n",
      "Changing to logg=3.50 for T= 29210 logg=3.37\n",
      "Changing to logg=4.00 for T= 31890 logg=3.69\n",
      "Changing to logg=4.00 for T= 32135 logg=3.78\n",
      "Changing to T= 50000 for T=178176 logg=5.92\n",
      "Changing to logg=5.00 for T=178176 logg=5.92\n",
      "Changing to logg=3.00 for T= 21997 logg=2.73\n",
      "Changing to logg=4.00 for T= 32135 logg=3.78\n",
      "Changing to logg=4.00 for T= 31114 logg=3.78\n",
      "Changing to logg=4.00 for T= 31638 logg=3.78\n",
      "Changing to logg=4.00 for T= 31946 logg=3.63\n",
      "Changing to logg=4.00 for T= 32135 logg=3.78\n",
      "Changing to logg=4.00 for T= 31114 logg=3.78\n",
      "Changing to T= 50000 for T=119638 logg=5.37\n",
      "Changing to logg=5.00 for T=119638 logg=5.37\n",
      "Changing to logg=4.00 for T= 31469 logg=3.68\n",
      "Changing to logg=4.00 for T= 32135 logg=3.78\n"
     ]
    }
   ],
   "source": [
    "from spisea import synthetic\n",
    "BPASS_iso = synthetic.Isochrone_Binary(6.7, 2.7, 8096, 0.0, min_mass = 1, max_mass = 150, filters=['nirc2,Kp'])"
   ]
  },
  {
   "cell_type": "code",
   "execution_count": null,
   "metadata": {},
   "outputs": [],
   "source": [
    "from spisea import imf, ifmr\n",
    "custom_IMF = imf.imf.IMF_broken_powerlaw(np.array([1, 200]), np.array([-1.7]), multiplicity=imf.multiplicity.MultiplicityResolvedDK())\n",
    "BPASS_Cluster = synthetic.Binary_Cluster(BPASS_iso, custom_IMF, 20000, ifmr=ifmr.IFMR_Spera15())"
   ]
  },
  {
   "cell_type": "code",
   "execution_count": null,
   "metadata": {},
   "outputs": [],
   "source": [
    "BPASS_Cluster.star_systems = BPASS_Cluster.star_systems[np.where(BPASS_Cluster.star_systems['m_nirc2_Kp']>=10.0)[0]]\n",
    "def add_by_one_x_II(x):\n",
    "    \"\"\"Increment x-1th term in binned counts\"\"\"\n",
    "    binned_counts2[x-1] +=1\n",
    "binned_counts_help2 = np.digitize(BPASS_Cluster.star_systems['m_nirc2_Kp'][np.where(BPASS_Cluster.star_systems['m_nirc2_Kp']<15.5)[0]], bins)\n",
    "binned_counts2 = [0 for x in bins]\n",
    "round_up = np.vectorize(add_by_one_x_II)(binned_counts_help2)\n",
    "plt.plot(bins, np.array(binned_counts2)/np.sum(binned_counts2), [0],\n",
    "         color='blue',label='BPASS Cluster star systems')\n",
    "plt.errorbar(bins, np.array(binned_counts)/len(new_arr),\n",
    "             yerr=1/len(new_arr) * np.array(max_error_bound(np.array(num_in_bins2)- binned_counts,\n",
    "                                                            binned_counts-np.array(num_in_bins))), \n",
    "         label='Actual Galactic Center young stars', lw=2.5, fmt='-o',ms=5)\n",
    "\n",
    "plt.xlabel(\"$K_p$\")\n",
    "plt.ylabel(\"Fraction of star-systems\")\n",
    "plt.title(\"$K_p$ band Luminosity function (Error bars are made using maximum possible \\n |difference between established K' and K' +/- $\\sigma_{K'}$|)\")"
   ]
  },
  {
   "cell_type": "code",
   "execution_count": null,
   "metadata": {},
   "outputs": [],
   "source": [
    "MIST_iso = synthetic.IsochornePhot(6.7, 2.7, 8096, 0.0, min_mass = 1, max_mass = 150, filters=['nirc2,Kp'])"
   ]
  },
  {
   "cell_type": "code",
   "execution_count": null,
   "metadata": {},
   "outputs": [],
   "source": [
    "MIST_Cluster = synthetic.ResolvedCluster(MIST_iso, custom_IMF, 20000, ifmr=ifmr.IFMR_Spera15())"
   ]
  },
  {
   "cell_type": "code",
   "execution_count": null,
   "metadata": {},
   "outputs": [],
   "source": [
    "binned_counts_help2 = np.digitize(MIST_Cluster.star_systems['m_nirc2_Kp'], bins)\n",
    "binned_counts2 = [0 for x in bins]\n",
    "round_up = np.vectorize(add_by_one_x_II)(binned_counts_help2)\n",
    "plt.plot(bins, np.array(binned_counts2)/np.sum(binned_counts2), color='blue',label='MIST Cluster star systems')\n",
    "plt.errorbar(bins, binned_counts/len(new_arr), yerr=1/len(new_arr) * max_error_bound(np.array(num_in_bins2)- binned_counts,binned_counts-np.array(num_in_bins)), \n",
    "         label='Actual Galactic Center young stars', lw=2.5, fmt='-b',ms=5)\n",
    "\n",
    "plt.xlabel(\"$K_p$\")\n",
    "plt.ylabel(\"Fraction of star-systems\")\n",
    "plt.title(\"$K_p$ band Luminosity function (Error bars are made using maximum possible \\n |difference between established K' and K' +/- $\\sigma_{K'}$|)\")"
   ]
  }
 ],
 "metadata": {
  "kernelspec": {
   "display_name": "astroconda",
   "language": "python",
   "name": "astroconda"
  },
  "language_info": {
   "codemirror_mode": {
    "name": "ipython",
    "version": 3
   },
   "file_extension": ".py",
   "mimetype": "text/x-python",
   "name": "python",
   "nbconvert_exporter": "python",
   "pygments_lexer": "ipython3",
   "version": "3.7.3"
  }
 },
 "nbformat": 4,
 "nbformat_minor": 2
}
