{
 "cells": [
  {
   "cell_type": "markdown",
   "metadata": {},
   "source": [
    "## Testing the BPASS isochrone at 10^7 years age.\n",
    "In this BPASS isochrone and cluster plot, I go over the BPASS isochrone for 10^7 years age, solar metallicity, AKs=0.7, and distance of 100 parsecs from Earth. From the isochrone and cluster, we discuss several plots such as the log_g frequency distribution of the isochrone, the color magnitude diagram (B-V vs M_V), and the mass luminosity relationshi of the cluster.\n",
    "Important note when I use M_V, it is a pseudo-absolute magnitude. I.e. it is basically absolute magnitude without taking into account extinction.\n",
    "\n",
    "Formula for pseudo-absolute magnitude:\n",
    "pseudo-M_V = m_V - 5$log_{10}$(distance to cluster/ 10 pc)"
   ]
  },
  {
   "cell_type": "markdown",
   "metadata": {},
   "source": [
    "## This is for example as well as debugging purposes."
   ]
  },
  {
   "cell_type": "code",
   "execution_count": 1,
   "metadata": {},
   "outputs": [
    {
     "name": "stderr",
     "output_type": "stream",
     "text": [
      "/opt/anaconda3/envs/astroconda/lib/python3.7/site-packages/pysynphot/locations.py:346: UserWarning: Extinction files not found in /g/lu/models/cdbs/extinction\n",
      "  warnings.warn('Extinction files not found in %s' % (extdir, ))\n",
      "/opt/anaconda3/envs/astroconda/lib/python3.7/site-packages/pysynphot/refs.py:125: UserWarning: No thermal tables found, no thermal calculations can be performed. No files found for /g/lu/models/cdbs/mtab/*_tmt.fits\n",
      "  'no thermal calculations can be performed. ' + str(e))\n",
      "/opt/anaconda3/envs/astroconda/lib/python3.7/site-packages/astropy/units/quantity.py:477: RuntimeWarning: invalid value encountered in true_divide\n",
      "  result = super().__array_ufunc__(function, method, *arrays, **kwargs)\n",
      "/u/ryotainagaki/Desktop/PyPopStar/spisea/evolution.py:1771: RuntimeWarning: overflow encountered in power\n",
      "  (1 / cs.au) * un.m)\n",
      "/opt/anaconda3/envs/astroconda/lib/python3.7/site-packages/astropy/table/column.py:1020: RuntimeWarning: invalid value encountered in greater\n",
      "  result = getattr(super(), op)(other)\n",
      "/opt/anaconda3/envs/astroconda/lib/python3.7/site-packages/astropy/table/column.py:1020: RuntimeWarning: invalid value encountered in less_equal\n",
      "  result = getattr(super(), op)(other)\n",
      "/opt/anaconda3/envs/astroconda/lib/python3.7/site-packages/astropy/units/quantity.py:477: RuntimeWarning: divide by zero encountered in true_divide\n",
      "  result = super().__array_ufunc__(function, method, *arrays, **kwargs)\n"
     ]
    },
    {
     "name": "stdout",
     "output_type": "stream",
     "text": [
      "Changing to logg=4.50 for T= 48500 logg=3.98\n",
      "Changing to T= 50000 for T=164324 logg=5.78\n",
      "Changing to logg=5.00 for T=164324 logg=5.78\n",
      "Changing to T= 50000 for T=102353 logg=5.41\n",
      "Changing to logg=5.00 for T=102353 logg=5.41\n",
      "Changing to T= 50000 for T= 69632 logg=4.38\n",
      "Changing to logg=5.00 for T= 69632 logg=4.38\n",
      "Changing to T= 50000 for T= 69390 logg=4.71\n",
      "Changing to logg=5.00 for T= 69390 logg=4.71\n",
      "Changing to T= 50000 for T=102877 logg=5.42\n",
      "Changing to logg=5.00 for T=102877 logg=5.42\n",
      "Changing to T= 50000 for T= 71453 logg=4.77\n",
      "Changing to logg=5.00 for T= 71453 logg=4.77\n",
      "Changing to T= 50000 for T=103588 logg=5.41\n",
      "Changing to logg=5.00 for T=103588 logg=5.41\n",
      "Changing to T= 50000 for T= 82465 logg=5.17\n",
      "Changing to logg=5.00 for T= 82465 logg=5.17\n",
      "Changing to logg=4.00 for T= 31125 logg=3.66\n",
      "Changing to T= 50000 for T= 59860 logg=4.13\n",
      "Changing to logg=5.00 for T= 59860 logg=4.13\n",
      "Changing to logg=4.00 for T= 35763 logg=3.88\n",
      "Changing to T= 50000 for T= 70651 logg=4.75\n",
      "Changing to logg=5.00 for T= 70651 logg=4.75\n",
      "Changing to T= 50000 for T=102849 logg=5.40\n",
      "Changing to logg=5.00 for T=102849 logg=5.40\n",
      "Changing to T= 50000 for T= 74116 logg=4.48\n",
      "Changing to logg=5.00 for T= 74116 logg=4.48\n",
      "Changing to T= 50000 for T= 80581 logg=5.10\n",
      "Changing to logg=5.00 for T= 80581 logg=5.10\n",
      "Changing to logg=4.00 for T= 35293 logg=3.85\n",
      "Changing to T= 50000 for T= 72197 logg=4.43\n",
      "Changing to logg=5.00 for T= 72197 logg=4.43\n",
      "Changing to logg=3.50 for T= 27580 logg=3.14\n",
      "Changing to logg=4.50 for T= 46078 logg=3.89\n",
      "Changing to T= 50000 for T=102400 logg=5.42\n",
      "Changing to logg=5.00 for T=102400 logg=5.42\n",
      "Changing to T= 50000 for T= 69217 logg=4.37\n",
      "Changing to logg=5.00 for T= 69217 logg=4.37\n",
      "Changing to T= 50000 for T= 72205 logg=4.44\n",
      "Changing to logg=5.00 for T= 72205 logg=4.44\n",
      "Changing to T= 50000 for T= 52802 logg=3.95\n",
      "Changing to logg=5.00 for T= 52802 logg=3.95\n",
      "Changing to T= 50000 for T= 69325 logg=4.37\n",
      "Changing to logg=5.00 for T= 69325 logg=4.37\n",
      "Changing to T= 50000 for T= 68431 logg=4.34\n",
      "Changing to logg=5.00 for T= 68431 logg=4.34\n",
      "Changing to logg=4.00 for T= 34157 logg=3.71\n",
      "Changing to T= 50000 for T= 74287 logg=4.48\n",
      "Changing to logg=5.00 for T= 74287 logg=4.48\n",
      "Changing to T= 50000 for T= 80053 logg=4.57\n",
      "Changing to logg=5.00 for T= 80053 logg=4.57\n",
      "Changing to logg=3.00 for T= 21306 logg=2.99\n",
      "Changing to T= 50000 for T= 83155 logg=4.66\n",
      "Changing to logg=5.00 for T= 83155 logg=4.66\n",
      "Changing to T= 50000 for T=162637 logg=5.76\n",
      "Changing to logg=5.00 for T=162637 logg=5.76\n",
      "Changing to T= 50000 for T= 66874 logg=4.31\n",
      "Changing to logg=5.00 for T= 66874 logg=4.31\n",
      "Changing to T= 50000 for T= 65318 logg=4.27\n",
      "Changing to logg=5.00 for T= 65318 logg=4.27\n",
      "Changing to T= 50000 for T= 93573 logg=5.40\n",
      "Changing to logg=5.00 for T= 93573 logg=5.40\n",
      "Changing to T= 50000 for T=101974 logg=5.40\n",
      "Changing to logg=5.00 for T=101974 logg=5.40\n",
      "Changing to T= 50000 for T= 59869 logg=4.39\n",
      "Changing to logg=5.00 for T= 59869 logg=4.39\n",
      "Changing to logg=4.50 for T= 46562 logg=3.91\n",
      "Changing to T= 50000 for T=102209 logg=5.40\n",
      "Changing to logg=5.00 for T=102209 logg=5.40\n",
      "Changing to T= 50000 for T=102582 logg=5.41\n",
      "Changing to logg=5.00 for T=102582 logg=5.41\n",
      "Changing to T= 50000 for T= 98215 logg=4.84\n",
      "Changing to logg=5.00 for T= 98215 logg=4.84\n",
      "Changing to T= 50000 for T= 74427 logg=4.49\n",
      "Changing to logg=5.00 for T= 74427 logg=4.49\n",
      "Changing to T= 50000 for T= 64973 logg=4.27\n",
      "Changing to logg=5.00 for T= 64973 logg=4.27\n",
      "Changing to T= 50000 for T= 64880 logg=4.26\n",
      "Changing to logg=5.00 for T= 64880 logg=4.26\n",
      "Changing to logg=5.00 for T= 49825 logg=4.03\n",
      "Changing to T= 50000 for T= 88965 logg=4.76\n",
      "Changing to logg=5.00 for T= 88965 logg=4.76\n",
      "Changing to T= 50000 for T= 79382 logg=5.04\n",
      "Changing to logg=5.00 for T= 79382 logg=5.04\n",
      "Changing to T= 50000 for T=101728 logg=5.41\n",
      "Changing to logg=5.00 for T=101728 logg=5.41\n",
      "Changing to T= 50000 for T= 52338 logg=4.13\n",
      "Changing to logg=5.00 for T= 52338 logg=4.13\n",
      "Changing to T= 50000 for T= 67151 logg=4.32\n",
      "Changing to logg=5.00 for T= 67151 logg=4.32\n",
      "Changing to T= 50000 for T= 60679 logg=4.16\n",
      "Changing to logg=5.00 for T= 60679 logg=4.16\n",
      "Changing to T= 50000 for T= 56498 logg=4.28\n",
      "Changing to logg=5.00 for T= 56498 logg=4.28\n",
      "Changing to T= 50000 for T= 65814 logg=4.28\n",
      "Changing to logg=5.00 for T= 65814 logg=4.28\n",
      "Changing to T= 50000 for T= 51387 logg=4.09\n",
      "Changing to logg=5.00 for T= 51387 logg=4.09\n",
      "Changing to T= 50000 for T= 66434 logg=4.30\n",
      "Changing to logg=5.00 for T= 66434 logg=4.30\n",
      "Changing to T= 50000 for T= 71685 logg=4.42\n",
      "Changing to logg=5.00 for T= 71685 logg=4.42\n",
      "Changing to T= 50000 for T=103748 logg=5.41\n",
      "Changing to logg=5.00 for T=103748 logg=5.41\n",
      "Changing to logg=3.50 for T= 30090 logg=2.88\n",
      "Changing to T= 50000 for T= 61468 logg=4.45\n",
      "Changing to logg=5.00 for T= 61468 logg=4.45\n",
      "Changing to T= 50000 for T= 66141 logg=4.29\n",
      "Changing to logg=5.00 for T= 66141 logg=4.29\n",
      "Changing to T= 50000 for T= 75866 logg=4.52\n",
      "Changing to logg=5.00 for T= 75866 logg=4.52\n",
      "Changing to T= 50000 for T=102669 logg=5.40\n",
      "Changing to logg=5.00 for T=102669 logg=5.40\n",
      "Changing to logg=1.50 for T=  8770 logg=1.44\n",
      "Changing to T= 50000 for T=102676 logg=5.41\n",
      "Changing to logg=5.00 for T=102676 logg=5.41\n",
      "Changing to T= 50000 for T=174237 logg=5.88\n",
      "Changing to logg=5.00 for T=174237 logg=5.88\n",
      "Changing to T= 50000 for T= 92342 logg=5.39\n",
      "Changing to logg=5.00 for T= 92342 logg=5.39\n",
      "Changing to T= 50000 for T= 79287 logg=4.87\n",
      "Changing to logg=5.00 for T= 79287 logg=4.87\n",
      "Changing to T= 50000 for T= 67916 logg=4.33\n",
      "Changing to logg=5.00 for T= 67916 logg=4.33\n",
      "Changing to logg=4.50 for T= 42917 logg=3.76\n",
      "Changing to T= 50000 for T= 67022 logg=4.33\n",
      "Changing to logg=5.00 for T= 67022 logg=4.33\n",
      "Changing to T= 50000 for T= 71698 logg=4.79\n",
      "Changing to logg=5.00 for T= 71698 logg=4.79\n",
      "Changing to T= 50000 for T=103200 logg=5.41\n",
      "Changing to logg=5.00 for T=103200 logg=5.41\n",
      "Changing to T= 50000 for T= 66924 logg=4.31\n",
      "Changing to logg=5.00 for T= 66924 logg=4.31\n",
      "Changing to T= 50000 for T=102308 logg=5.41\n",
      "Changing to logg=5.00 for T=102308 logg=5.41\n",
      "Changing to T= 50000 for T=102056 logg=5.41\n",
      "Changing to logg=5.00 for T=102056 logg=5.41\n",
      "Changing to T= 50000 for T= 74967 logg=4.50\n",
      "Changing to logg=5.00 for T= 74967 logg=4.50\n",
      "Changing to logg=4.00 for T= 32053 logg=3.87\n",
      "Changing to T= 50000 for T=102638 logg=5.40\n",
      "Changing to logg=5.00 for T=102638 logg=5.40\n",
      "Changing to T= 50000 for T= 68096 logg=4.34\n",
      "Changing to logg=5.00 for T= 68096 logg=4.34\n",
      "Changing to T= 50000 for T= 72709 logg=4.44\n",
      "Changing to logg=5.00 for T= 72709 logg=4.44\n",
      "Changing to T= 50000 for T= 83506 logg=5.33\n",
      "Changing to logg=5.00 for T= 83506 logg=5.33\n",
      "Changing to T= 50000 for T=101368 logg=5.42\n",
      "Changing to logg=5.00 for T=101368 logg=5.42\n",
      "Changing to T= 50000 for T= 72790 logg=4.45\n",
      "Changing to logg=5.00 for T= 72790 logg=4.45\n",
      "Changing to T= 50000 for T= 69328 logg=4.36\n",
      "Changing to logg=5.00 for T= 69328 logg=4.36\n",
      "Changing to logg=4.50 for T= 42028 logg=3.72\n",
      "Changing to T= 50000 for T= 65670 logg=4.28\n",
      "Changing to logg=5.00 for T= 65670 logg=4.28\n",
      "Changing to T= 50000 for T= 69175 logg=4.37\n",
      "Changing to logg=5.00 for T= 69175 logg=4.37\n",
      "Changing to T= 50000 for T= 83603 logg=5.19\n",
      "Changing to logg=5.00 for T= 83603 logg=5.19\n",
      "Changing to T= 50000 for T= 67391 logg=4.32\n",
      "Changing to logg=5.00 for T= 67391 logg=4.32\n",
      "Changing to T= 50000 for T= 68099 logg=4.34\n",
      "Changing to logg=5.00 for T= 68099 logg=4.34\n",
      "Changing to T= 50000 for T= 56169 logg=4.27\n",
      "Changing to logg=5.00 for T= 56169 logg=4.27\n",
      "Changing to T= 50000 for T= 72061 logg=4.43\n",
      "Changing to logg=5.00 for T= 72061 logg=4.43\n",
      "Changing to T= 50000 for T=170381 logg=5.84\n",
      "Changing to logg=5.00 for T=170381 logg=5.84\n",
      "Changing to T= 50000 for T= 68290 logg=4.34\n",
      "Changing to logg=5.00 for T= 68290 logg=4.34\n",
      "Changing to T= 50000 for T=102040 logg=5.39\n",
      "Changing to logg=5.00 for T=102040 logg=5.39\n",
      "Changing to T= 50000 for T= 69287 logg=4.37\n",
      "Changing to logg=5.00 for T= 69287 logg=4.37\n",
      "Changing to T= 50000 for T=101167 logg=5.41\n",
      "Changing to logg=5.00 for T=101167 logg=5.41\n",
      "Changing to T= 50000 for T= 65088 logg=4.27\n",
      "Changing to logg=5.00 for T= 65088 logg=4.27\n",
      "Changing to T= 50000 for T=103870 logg=5.41\n",
      "Changing to logg=5.00 for T=103870 logg=5.41\n",
      "Changing to T= 50000 for T= 94748 logg=5.39\n",
      "Changing to logg=5.00 for T= 94748 logg=5.39\n"
     ]
    },
    {
     "name": "stdout",
     "output_type": "stream",
     "text": [
      "Changing to logg=4.00 for T= 32498 logg=3.50\n",
      "Changing to T= 50000 for T=103343 logg=5.41\n",
      "Changing to logg=5.00 for T=103343 logg=5.41\n",
      "Changing to T= 50000 for T=100716 logg=5.42\n",
      "Changing to logg=5.00 for T=100716 logg=5.42\n",
      "Changing to T= 50000 for T= 65121 logg=4.26\n",
      "Changing to logg=5.00 for T= 65121 logg=4.26\n",
      "Changing to T= 50000 for T= 74024 logg=4.48\n",
      "Changing to logg=5.00 for T= 74024 logg=4.48\n",
      "Changing to T= 50000 for T= 69684 logg=4.38\n",
      "Changing to logg=5.00 for T= 69684 logg=4.38\n",
      "Changing to T= 50000 for T=101513 logg=5.42\n",
      "Changing to logg=5.00 for T=101513 logg=5.42\n",
      "Changing to T= 50000 for T= 74302 logg=4.48\n",
      "Changing to logg=5.00 for T= 74302 logg=4.48\n",
      "Changing to T= 50000 for T= 93233 logg=5.17\n",
      "Changing to logg=5.00 for T= 93233 logg=5.17\n",
      "Changing to logg=4.50 for T= 41743 logg=3.70\n",
      "Changing to T= 50000 for T= 74305 logg=4.48\n",
      "Changing to logg=5.00 for T= 74305 logg=4.48\n",
      "Changing to T= 50000 for T= 72751 logg=4.45\n",
      "Changing to logg=5.00 for T= 72751 logg=4.45\n",
      "Changing to T= 50000 for T= 67353 logg=4.32\n",
      "Changing to logg=5.00 for T= 67353 logg=4.32\n",
      "Changing to T= 50000 for T= 74218 logg=4.48\n",
      "Changing to logg=5.00 for T= 74218 logg=4.48\n",
      "Changing to T= 50000 for T= 71038 logg=4.43\n",
      "Changing to logg=5.00 for T= 71038 logg=4.43\n",
      "Changing to T= 50000 for T= 67855 logg=4.34\n",
      "Changing to logg=5.00 for T= 67855 logg=4.34\n",
      "Changing to T= 50000 for T= 72058 logg=4.80\n",
      "Changing to logg=5.00 for T= 72058 logg=4.80\n",
      "Changing to T= 50000 for T= 67593 logg=4.33\n",
      "Changing to logg=5.00 for T= 67593 logg=4.33\n",
      "Changing to T= 50000 for T= 75950 logg=4.93\n",
      "Changing to logg=5.00 for T= 75950 logg=4.93\n",
      "Changing to T= 50000 for T= 59627 logg=4.39\n",
      "Changing to logg=5.00 for T= 59627 logg=4.39\n",
      "Changing to logg=4.50 for T= 45606 logg=3.87\n",
      "Changing to T= 50000 for T= 65516 logg=4.27\n",
      "Changing to logg=5.00 for T= 65516 logg=4.27\n",
      "Changing to T= 50000 for T= 61100 logg=4.37\n",
      "Changing to logg=5.00 for T= 61100 logg=4.37\n",
      "Changing to T= 50000 for T= 74444 logg=4.49\n",
      "Changing to logg=5.00 for T= 74444 logg=4.49\n",
      "Changing to T= 50000 for T=163298 logg=5.77\n",
      "Changing to logg=5.00 for T=163298 logg=5.77\n",
      "Changing to T= 50000 for T= 67276 logg=4.32\n",
      "Changing to logg=5.00 for T= 67276 logg=4.32\n",
      "Changing to T= 50000 for T= 61518 logg=4.45\n",
      "Changing to logg=5.00 for T= 61518 logg=4.45\n",
      "Changing to T= 50000 for T= 81204 logg=4.62\n",
      "Changing to logg=5.00 for T= 81204 logg=4.62\n",
      "Changing to T= 50000 for T= 66357 logg=4.29\n",
      "Changing to logg=5.00 for T= 66357 logg=4.29\n",
      "Changing to T= 50000 for T=102237 logg=5.40\n",
      "Changing to logg=5.00 for T=102237 logg=5.40\n",
      "Changing to logg=4.50 for T= 42780 logg=3.75\n",
      "Changing to T= 50000 for T= 66322 logg=4.29\n",
      "Changing to logg=5.00 for T= 66322 logg=4.29\n",
      "Changing to T= 50000 for T=102438 logg=5.42\n",
      "Changing to logg=5.00 for T=102438 logg=5.42\n",
      "Changing to T= 50000 for T= 65749 logg=4.28\n",
      "Changing to logg=5.00 for T= 65749 logg=4.28\n",
      "Changing to T= 50000 for T= 69107 logg=4.36\n",
      "Changing to logg=5.00 for T= 69107 logg=4.36\n",
      "Changing to T= 50000 for T= 55505 logg=4.24\n",
      "Changing to logg=5.00 for T= 55505 logg=4.24\n",
      "Changing to T= 50000 for T= 76591 logg=4.95\n",
      "Changing to logg=5.00 for T= 76591 logg=4.95\n",
      "Changing to logg=4.50 for T= 43710 logg=3.79\n",
      "Changing to T= 50000 for T= 57582 logg=4.32\n",
      "Changing to logg=5.00 for T= 57582 logg=4.32\n",
      "Changing to T= 50000 for T=101277 logg=5.41\n",
      "Changing to logg=5.00 for T=101277 logg=5.41\n",
      "Changing to logg=4.00 for T= 31018 logg=3.75\n",
      "Changing to T= 50000 for T=171475 logg=5.85\n",
      "Changing to logg=5.00 for T=171475 logg=5.85\n",
      "Changing to T= 50000 for T= 74381 logg=4.48\n",
      "Changing to logg=5.00 for T= 74381 logg=4.48\n",
      "Changing to logg=3.50 for T= 27462 logg=2.95\n",
      "Changing to T= 50000 for T= 85743 logg=5.01\n",
      "Changing to logg=5.00 for T= 85743 logg=5.01\n",
      "Changing to T= 50000 for T= 67318 logg=4.32\n",
      "Changing to logg=5.00 for T= 67318 logg=4.32\n",
      "Changing to T= 50000 for T= 67786 logg=4.33\n",
      "Changing to logg=5.00 for T= 67786 logg=4.33\n",
      "Changing to T= 50000 for T= 68757 logg=4.35\n",
      "Changing to logg=5.00 for T= 68757 logg=4.35\n",
      "Changing to T= 50000 for T=168597 logg=5.82\n",
      "Changing to logg=5.00 for T=168597 logg=5.82\n",
      "Changing to T= 50000 for T= 70824 logg=4.40\n",
      "Changing to logg=5.00 for T= 70824 logg=4.40\n",
      "Changing to T= 50000 for T= 69530 logg=4.37\n",
      "Changing to logg=5.00 for T= 69530 logg=4.37\n",
      "Changing to T= 50000 for T= 71035 logg=4.40\n",
      "Changing to logg=5.00 for T= 71035 logg=4.40\n",
      "Changing to T= 50000 for T= 67265 logg=4.33\n",
      "Changing to logg=5.00 for T= 67265 logg=4.33\n",
      "Changing to T= 50000 for T= 78201 logg=4.55\n",
      "Changing to logg=5.00 for T= 78201 logg=4.55\n",
      "Changing to T= 50000 for T= 75421 logg=4.51\n",
      "Changing to logg=5.00 for T= 75421 logg=4.51\n",
      "Changing to T= 50000 for T= 72729 logg=4.45\n",
      "Changing to logg=5.00 for T= 72729 logg=4.45\n",
      "Changing to logg=4.00 for T= 31309 logg=3.80\n",
      "Changing to T= 50000 for T= 78703 logg=4.56\n",
      "Changing to logg=5.00 for T= 78703 logg=4.56\n",
      "Changing to logg=4.00 for T= 32897 logg=3.88\n",
      "Changing to T= 50000 for T= 67582 logg=4.33\n",
      "Changing to logg=5.00 for T= 67582 logg=4.33\n",
      "Changing to T= 50000 for T= 75507 logg=4.92\n",
      "Changing to logg=5.00 for T= 75507 logg=4.92\n",
      "Changing to T= 50000 for T= 77190 logg=4.51\n",
      "Changing to logg=5.00 for T= 77190 logg=4.51\n",
      "Changing to T= 50000 for T=101506 logg=5.42\n",
      "Changing to logg=5.00 for T=101506 logg=5.42\n",
      "Changing to T= 50000 for T= 71598 logg=4.42\n",
      "Changing to logg=5.00 for T= 71598 logg=4.42\n",
      "Changing to T= 50000 for T= 67806 logg=4.33\n",
      "Changing to logg=5.00 for T= 67806 logg=4.33\n",
      "Changing to logg=3.00 for T= 23512 logg=2.25\n",
      "Changing to T= 50000 for T= 68965 logg=4.36\n",
      "Changing to logg=5.00 for T= 68965 logg=4.36\n",
      "Changing to logg=4.50 for T= 42214 logg=3.72\n",
      "Changing to logg=4.50 for T= 41893 logg=3.71\n",
      "Changing to T= 50000 for T= 82949 logg=5.17\n",
      "Changing to logg=5.00 for T= 82949 logg=5.17\n",
      "Changing to T= 50000 for T= 67123 logg=4.31\n",
      "Changing to logg=5.00 for T= 67123 logg=4.31\n",
      "Changing to T= 50000 for T= 67624 logg=4.65\n",
      "Changing to logg=5.00 for T= 67624 logg=4.65\n",
      "Changing to T= 50000 for T=103548 logg=5.41\n",
      "Changing to logg=5.00 for T=103548 logg=5.41\n",
      "Changing to T= 50000 for T= 73308 logg=4.46\n",
      "Changing to logg=5.00 for T= 73308 logg=4.46\n",
      "Changing to T= 50000 for T=169805 logg=5.84\n",
      "Changing to logg=5.00 for T=169805 logg=5.84\n",
      "Changing to T= 50000 for T= 67149 logg=4.32\n",
      "Changing to logg=5.00 for T= 67149 logg=4.32\n",
      "Changing to logg=3.50 for T= 26443 logg=3.24\n",
      "Changing to T= 50000 for T= 65996 logg=4.30\n",
      "Changing to logg=5.00 for T= 65996 logg=4.30\n",
      "Changing to T= 50000 for T= 76554 logg=4.95\n",
      "Changing to logg=5.00 for T= 76554 logg=4.95\n",
      "Changing to T= 50000 for T= 61191 logg=4.44\n",
      "Changing to logg=5.00 for T= 61191 logg=4.44\n",
      "Changing to logg=4.50 for T= 45774 logg=3.87\n",
      "Changing to T= 50000 for T= 68468 logg=4.34\n",
      "Changing to logg=5.00 for T= 68468 logg=4.34\n",
      "Changing to T= 50000 for T= 69746 logg=4.38\n",
      "Changing to logg=5.00 for T= 69746 logg=4.38\n",
      "Changing to T= 50000 for T= 67205 logg=4.32\n",
      "Changing to logg=5.00 for T= 67205 logg=4.32\n",
      "Changing to T= 50000 for T=102866 logg=5.41\n",
      "Changing to logg=5.00 for T=102866 logg=5.41\n",
      "Changing to T= 50000 for T= 72947 logg=4.83\n",
      "Changing to logg=5.00 for T= 72947 logg=4.83\n",
      "Changing to T= 50000 for T= 78712 logg=5.02\n",
      "Changing to logg=5.00 for T= 78712 logg=5.02\n",
      "Changing to logg=4.00 for T= 31615 logg=3.92\n",
      "Changing to T= 50000 for T= 67185 logg=4.32\n",
      "Changing to logg=5.00 for T= 67185 logg=4.32\n",
      "Changing to T= 50000 for T= 67781 logg=4.34\n",
      "Changing to logg=5.00 for T= 67781 logg=4.34\n",
      "Changing to T= 50000 for T= 67816 logg=4.33\n",
      "Changing to logg=5.00 for T= 67816 logg=4.33\n",
      "Changing to T= 50000 for T= 66161 logg=4.29\n",
      "Changing to logg=5.00 for T= 66161 logg=4.29\n",
      "Changing to T= 50000 for T= 65203 logg=4.27\n",
      "Changing to logg=5.00 for T= 65203 logg=4.27\n",
      "Changing to T= 50000 for T=103060 logg=5.41\n",
      "Changing to logg=5.00 for T=103060 logg=5.41\n",
      "Changing to logg=5.00 for T= 49828 logg=4.04\n",
      "Changing to T= 50000 for T= 67185 logg=4.64\n",
      "Changing to logg=5.00 for T= 67185 logg=4.64\n",
      "Changing to T= 50000 for T=102183 logg=5.41\n",
      "Changing to logg=5.00 for T=102183 logg=5.41\n",
      "Changing to T= 50000 for T= 68459 logg=4.35\n",
      "Changing to logg=5.00 for T= 68459 logg=4.35\n",
      "Changing to T= 50000 for T= 72000 logg=4.43\n",
      "Changing to logg=5.00 for T= 72000 logg=4.43\n",
      "Changing to T= 50000 for T=103319 logg=5.40\n",
      "Changing to logg=5.00 for T=103319 logg=5.40\n"
     ]
    },
    {
     "name": "stdout",
     "output_type": "stream",
     "text": [
      "Changing to logg=4.50 for T= 42886 logg=3.75\n",
      "Changing to T= 50000 for T= 67473 logg=4.32\n",
      "Changing to logg=5.00 for T= 67473 logg=4.32\n",
      "Changing to T= 50000 for T=102134 logg=5.40\n",
      "Changing to logg=5.00 for T=102134 logg=5.40\n",
      "Changing to logg=2.00 for T= 11391 logg=0.99\n",
      "Changing to logg=4.00 for T= 31478 logg=3.74\n",
      "Changing to T= 50000 for T= 69920 logg=4.38\n",
      "Changing to logg=5.00 for T= 69920 logg=4.38\n",
      "Changing to T= 50000 for T= 68509 logg=4.34\n",
      "Changing to logg=5.00 for T= 68509 logg=4.34\n",
      "Changing to T= 50000 for T= 68223 logg=4.34\n",
      "Changing to logg=5.00 for T= 68223 logg=4.34\n",
      "Changing to T= 50000 for T= 69174 logg=4.37\n",
      "Changing to logg=5.00 for T= 69174 logg=4.37\n",
      "Changing to T= 50000 for T= 71717 logg=4.43\n",
      "Changing to logg=5.00 for T= 71717 logg=4.43\n",
      "Changing to logg=3.50 for T= 26285 logg=3.28\n",
      "Changing to T= 50000 for T= 72144 logg=4.80\n",
      "Changing to logg=5.00 for T= 72144 logg=4.80\n",
      "Changing to logg=4.50 for T= 45454 logg=3.86\n",
      "Changing to T= 50000 for T= 66764 logg=4.30\n",
      "Changing to logg=5.00 for T= 66764 logg=4.30\n",
      "Changing to T= 50000 for T= 65169 logg=4.27\n",
      "Changing to logg=5.00 for T= 65169 logg=4.27\n",
      "Changing to T= 50000 for T=165067 logg=5.79\n",
      "Changing to logg=5.00 for T=165067 logg=5.79\n",
      "Changing to logg=4.00 for T= 35832 logg=3.76\n",
      "Changing to T= 50000 for T=110499 logg=5.22\n",
      "Changing to logg=5.00 for T=110499 logg=5.22\n",
      "Changing to T= 50000 for T= 74466 logg=4.49\n",
      "Changing to logg=5.00 for T= 74466 logg=4.49\n",
      "Changing to logg=4.00 for T= 32875 logg=3.84\n",
      "Changing to T= 50000 for T= 67619 logg=4.34\n",
      "Changing to logg=5.00 for T= 67619 logg=4.34\n",
      "Changing to T= 50000 for T=102054 logg=5.41\n",
      "Changing to logg=5.00 for T=102054 logg=5.41\n",
      "Changing to T= 50000 for T= 69021 logg=4.36\n",
      "Changing to logg=5.00 for T= 69021 logg=4.36\n",
      "Changing to T= 50000 for T=103464 logg=5.41\n",
      "Changing to logg=5.00 for T=103464 logg=5.41\n",
      "Changing to T= 50000 for T=102419 logg=5.40\n",
      "Changing to logg=5.00 for T=102419 logg=5.40\n",
      "Changing to T= 50000 for T= 70529 logg=4.34\n",
      "Changing to logg=5.00 for T= 70529 logg=4.34\n",
      "Changing to T= 50000 for T= 72942 logg=4.45\n",
      "Changing to logg=5.00 for T= 72942 logg=4.45\n",
      "Changing to T= 50000 for T= 69868 logg=4.38\n",
      "Changing to logg=5.00 for T= 69868 logg=4.38\n",
      "Changing to T= 50000 for T=103153 logg=5.41\n",
      "Changing to logg=5.00 for T=103153 logg=5.41\n",
      "Changing to logg=3.50 for T= 26831 logg=3.32\n",
      "Changing to T= 50000 for T=102045 logg=5.39\n",
      "Changing to logg=5.00 for T=102045 logg=5.39\n",
      "Changing to logg=3.50 for T= 26486 logg=3.38\n",
      "Changing to T= 50000 for T= 67217 logg=4.32\n",
      "Changing to logg=5.00 for T= 67217 logg=4.32\n",
      "Changing to T= 50000 for T= 72500 logg=4.44\n",
      "Changing to logg=5.00 for T= 72500 logg=4.44\n",
      "Changing to logg=4.50 for T= 48012 logg=3.96\n",
      "Changing to T= 50000 for T=102806 logg=5.41\n",
      "Changing to logg=5.00 for T=102806 logg=5.41\n",
      "Changing to T= 50000 for T= 74399 logg=4.48\n",
      "Changing to logg=5.00 for T= 74399 logg=4.48\n",
      "Changing to T= 50000 for T= 83086 logg=4.67\n",
      "Changing to logg=5.00 for T= 83086 logg=4.67\n",
      "Changing to T= 50000 for T= 68000 logg=4.33\n",
      "Changing to logg=5.00 for T= 68000 logg=4.33\n",
      "Changing to T= 50000 for T=173760 logg=5.88\n",
      "Changing to logg=5.00 for T=173760 logg=5.88\n",
      "Changing to T= 50000 for T= 85889 logg=5.01\n",
      "Changing to logg=5.00 for T= 85889 logg=5.01\n",
      "Changing to T= 50000 for T= 69250 logg=4.36\n",
      "Changing to logg=5.00 for T= 69250 logg=4.36\n",
      "Changing to logg=4.50 for T= 42930 logg=3.76\n",
      "Changing to T= 50000 for T=101384 logg=5.42\n",
      "Changing to logg=5.00 for T=101384 logg=5.42\n",
      "Changing to T= 50000 for T= 69859 logg=4.40\n",
      "Changing to logg=5.00 for T= 69859 logg=4.40\n",
      "Changing to T= 50000 for T=103619 logg=5.41\n",
      "Changing to logg=5.00 for T=103619 logg=5.41\n",
      "Changing to T= 50000 for T= 83044 logg=5.15\n",
      "Changing to logg=5.00 for T= 83044 logg=5.15\n",
      "Changing to T= 50000 for T= 72337 logg=4.44\n",
      "Changing to logg=5.00 for T= 72337 logg=4.44\n",
      "Changing to T= 50000 for T= 71269 logg=4.77\n",
      "Changing to logg=5.00 for T= 71269 logg=4.77\n",
      "Changing to T= 50000 for T=102716 logg=5.41\n",
      "Changing to logg=5.00 for T=102716 logg=5.41\n",
      "Changing to logg=3.50 for T= 27299 logg=3.50\n",
      "Changing to T= 50000 for T= 65130 logg=4.27\n",
      "Changing to logg=5.00 for T= 65130 logg=4.27\n",
      "Changing to logg=3.00 for T= 19883 logg=2.48\n",
      "Changing to T= 50000 for T=103409 logg=5.41\n",
      "Changing to logg=5.00 for T=103409 logg=5.41\n",
      "Changing to T= 50000 for T= 91289 logg=5.38\n",
      "Changing to logg=5.00 for T= 91289 logg=5.38\n",
      "Changing to T= 50000 for T= 77477 logg=4.99\n",
      "Changing to logg=5.00 for T= 77477 logg=4.99\n",
      "Changing to T= 50000 for T=172675 logg=5.87\n",
      "Changing to logg=5.00 for T=172675 logg=5.87\n",
      "Changing to T= 50000 for T= 71059 logg=4.41\n",
      "Changing to logg=5.00 for T= 71059 logg=4.41\n",
      "Changing to T= 50000 for T= 73889 logg=4.47\n",
      "Changing to logg=5.00 for T= 73889 logg=4.47\n",
      "Changing to T= 50000 for T= 73020 logg=4.45\n",
      "Changing to logg=5.00 for T= 73020 logg=4.45\n",
      "Changing to logg=4.50 for T= 45540 logg=3.87\n",
      "Changing to T= 50000 for T=123259 logg=5.43\n",
      "Changing to logg=5.00 for T=123259 logg=5.43\n",
      "Changing to T= 50000 for T= 65151 logg=4.27\n",
      "Changing to logg=5.00 for T= 65151 logg=4.27\n",
      "Changing to T= 50000 for T= 67352 logg=4.32\n",
      "Changing to logg=5.00 for T= 67352 logg=4.32\n",
      "Changing to logg=4.00 for T= 33232 logg=3.72\n",
      "Changing to logg=5.00 for T= 49067 logg=4.01\n",
      "Changing to logg=4.50 for T= 44663 logg=3.83\n",
      "Changing to T= 50000 for T= 57361 logg=4.31\n",
      "Changing to logg=5.00 for T= 57361 logg=4.31\n",
      "Changing to T= 50000 for T= 84848 logg=4.70\n",
      "Changing to logg=5.00 for T= 84848 logg=4.70\n",
      "Changing to T= 50000 for T= 68127 logg=4.34\n",
      "Changing to logg=5.00 for T= 68127 logg=4.34\n",
      "Changing to T= 50000 for T=102160 logg=5.40\n",
      "Changing to logg=5.00 for T=102160 logg=5.40\n",
      "Changing to T= 50000 for T= 64874 logg=4.27\n",
      "Changing to logg=5.00 for T= 64874 logg=4.27\n",
      "Changing to T= 50000 for T= 74182 logg=4.48\n",
      "Changing to logg=5.00 for T= 74182 logg=4.48\n",
      "Changing to T= 50000 for T= 71302 logg=4.41\n",
      "Changing to logg=5.00 for T= 71302 logg=4.41\n",
      "Changing to T= 50000 for T= 69859 logg=4.38\n",
      "Changing to logg=5.00 for T= 69859 logg=4.38\n",
      "Changing to T= 50000 for T=109252 logg=5.51\n",
      "Changing to logg=5.00 for T=109252 logg=5.51\n",
      "Changing to T= 50000 for T=102530 logg=5.42\n",
      "Changing to logg=5.00 for T=102530 logg=5.42\n",
      "Changing to T= 50000 for T= 66240 logg=4.30\n",
      "Changing to logg=5.00 for T= 66240 logg=4.30\n",
      "Changing to T= 50000 for T= 65100 logg=4.26\n",
      "Changing to logg=5.00 for T= 65100 logg=4.26\n",
      "Changing to T= 50000 for T= 87573 logg=4.75\n",
      "Changing to logg=5.00 for T= 87573 logg=4.75\n",
      "Changing to T= 50000 for T=103443 logg=5.40\n",
      "Changing to logg=5.00 for T=103443 logg=5.40\n",
      "Changing to T= 50000 for T= 65433 logg=4.28\n",
      "Changing to logg=5.00 for T= 65433 logg=4.28\n",
      "Changing to T= 50000 for T= 67845 logg=4.33\n",
      "Changing to logg=5.00 for T= 67845 logg=4.33\n",
      "Changing to T= 50000 for T=103719 logg=5.41\n",
      "Changing to logg=5.00 for T=103719 logg=5.41\n",
      "Changing to logg=4.50 for T= 47507 logg=3.94\n",
      "Changing to T= 50000 for T= 70500 logg=4.40\n",
      "Changing to logg=5.00 for T= 70500 logg=4.40\n",
      "Changing to T= 50000 for T=102771 logg=5.42\n",
      "Changing to logg=5.00 for T=102771 logg=5.42\n",
      "Changing to T= 50000 for T=103863 logg=5.41\n",
      "Changing to logg=5.00 for T=103863 logg=5.41\n",
      "Changing to logg=4.00 for T= 32467 logg=3.86\n",
      "Changing to T= 50000 for T=103314 logg=5.40\n",
      "Changing to logg=5.00 for T=103314 logg=5.40\n",
      "Changing to T= 50000 for T= 65990 logg=4.29\n",
      "Changing to logg=5.00 for T= 65990 logg=4.29\n",
      "Changing to T= 50000 for T= 67344 logg=4.32\n",
      "Changing to logg=5.00 for T= 67344 logg=4.32\n",
      "Changing to T= 50000 for T= 72382 logg=4.44\n",
      "Changing to logg=5.00 for T= 72382 logg=4.44\n",
      "Changing to T= 50000 for T= 90738 logg=5.12\n",
      "Changing to logg=5.00 for T= 90738 logg=5.12\n",
      "Changing to logg=3.00 for T= 21835 logg=2.72\n",
      "Changing to T= 50000 for T=102953 logg=5.41\n",
      "Changing to logg=5.00 for T=102953 logg=5.41\n",
      "Changing to T= 50000 for T= 67526 logg=4.32\n",
      "Changing to logg=5.00 for T= 67526 logg=4.32\n",
      "Changing to T= 50000 for T= 67248 logg=4.32\n",
      "Changing to logg=5.00 for T= 67248 logg=4.32\n",
      "Changing to T= 50000 for T=102537 logg=5.40\n",
      "Changing to logg=5.00 for T=102537 logg=5.40\n",
      "Changing to T= 50000 for T= 69247 logg=4.37\n",
      "Changing to logg=5.00 for T= 69247 logg=4.37\n",
      "Changing to T= 50000 for T=101838 logg=5.38\n",
      "Changing to logg=5.00 for T=101838 logg=5.38\n",
      "Changing to T= 50000 for T= 68314 logg=4.34\n",
      "Changing to logg=5.00 for T= 68314 logg=4.34\n"
     ]
    },
    {
     "name": "stdout",
     "output_type": "stream",
     "text": [
      "Changing to T= 50000 for T= 57106 logg=4.30\n",
      "Changing to logg=5.00 for T= 57106 logg=4.30\n",
      "Changing to T= 50000 for T= 74521 logg=4.49\n",
      "Changing to logg=5.00 for T= 74521 logg=4.49\n",
      "Changing to T= 50000 for T= 61325 logg=4.18\n",
      "Changing to logg=5.00 for T= 61325 logg=4.18\n",
      "Changing to T= 50000 for T= 70940 logg=4.41\n",
      "Changing to logg=5.00 for T= 70940 logg=4.41\n",
      "Changing to T= 50000 for T= 54369 logg=4.20\n",
      "Changing to logg=5.00 for T= 54369 logg=4.20\n",
      "Changing to T= 50000 for T= 69440 logg=4.37\n",
      "Changing to logg=5.00 for T= 69440 logg=4.37\n",
      "Changing to T= 50000 for T= 66364 logg=4.29\n",
      "Changing to logg=5.00 for T= 66364 logg=4.29\n",
      "Changing to logg=4.00 for T= 34156 logg=3.75\n",
      "Changing to T= 50000 for T= 67126 logg=4.31\n",
      "Changing to logg=5.00 for T= 67126 logg=4.31\n",
      "Changing to T= 50000 for T=102113 logg=5.40\n",
      "Changing to logg=5.00 for T=102113 logg=5.40\n",
      "Changing to logg=3.00 for T= 20951 logg=2.96\n",
      "Changing to T= 50000 for T= 74781 logg=4.49\n",
      "Changing to logg=5.00 for T= 74781 logg=4.49\n",
      "Changing to T= 50000 for T= 67178 logg=4.31\n",
      "Changing to logg=5.00 for T= 67178 logg=4.31\n",
      "Changing to T= 50000 for T=102282 logg=5.39\n",
      "Changing to logg=5.00 for T=102282 logg=5.39\n",
      "Changing to T= 50000 for T=101667 logg=5.41\n",
      "Changing to logg=5.00 for T=101667 logg=5.41\n",
      "Changing to logg=3.50 for T= 27049 logg=3.39\n",
      "Changing to T= 50000 for T= 70627 logg=4.40\n",
      "Changing to logg=5.00 for T= 70627 logg=4.40\n",
      "Changing to T= 50000 for T=102527 logg=5.39\n",
      "Changing to logg=5.00 for T=102527 logg=5.39\n",
      "Changing to T= 50000 for T=101672 logg=5.40\n",
      "Changing to logg=5.00 for T=101672 logg=5.40\n",
      "Changing to T= 50000 for T= 73497 logg=4.46\n",
      "Changing to logg=5.00 for T= 73497 logg=4.46\n",
      "Changing to T= 50000 for T= 72622 logg=4.45\n",
      "Changing to logg=5.00 for T= 72622 logg=4.45\n",
      "Changing to logg=4.50 for T= 46746 logg=3.91\n",
      "Changing to T= 50000 for T= 69799 logg=4.38\n",
      "Changing to logg=5.00 for T= 69799 logg=4.38\n",
      "Changing to T= 50000 for T= 52571 logg=4.14\n",
      "Changing to logg=5.00 for T= 52571 logg=4.14\n",
      "Changing to T= 50000 for T=175890 logg=5.90\n",
      "Changing to logg=5.00 for T=175890 logg=5.90\n",
      "Changing to T= 50000 for T= 71723 logg=4.42\n",
      "Changing to logg=5.00 for T= 71723 logg=4.42\n",
      "Changing to T= 50000 for T=102223 logg=5.38\n",
      "Changing to logg=5.00 for T=102223 logg=5.38\n",
      "Changing to T= 50000 for T= 72056 logg=4.43\n",
      "Changing to logg=5.00 for T= 72056 logg=4.43\n",
      "Changing to T= 50000 for T= 68997 logg=4.70\n",
      "Changing to logg=5.00 for T= 68997 logg=4.70\n",
      "Changing to T= 50000 for T=102702 logg=5.40\n",
      "Changing to logg=5.00 for T=102702 logg=5.40\n",
      "Changing to logg=4.50 for T= 40176 logg=3.63\n",
      "Changing to T= 50000 for T=102193 logg=5.41\n",
      "Changing to logg=5.00 for T=102193 logg=5.41\n",
      "Changing to T= 50000 for T= 70317 logg=4.39\n",
      "Changing to logg=5.00 for T= 70317 logg=4.39\n",
      "Changing to T= 50000 for T= 69470 logg=4.37\n",
      "Changing to logg=5.00 for T= 69470 logg=4.37\n",
      "Changing to T= 50000 for T= 65498 logg=4.28\n",
      "Changing to logg=5.00 for T= 65498 logg=4.28\n",
      "Changing to T= 50000 for T=101695 logg=5.38\n",
      "Changing to logg=5.00 for T=101695 logg=5.38\n",
      "Changing to logg=3.00 for T= 22218 logg=2.77\n",
      "Changing to logg=3.50 for T= 28029 logg=3.30\n",
      "Changing to T= 50000 for T=101747 logg=5.38\n",
      "Changing to logg=5.00 for T=101747 logg=5.38\n",
      "Changing to T= 50000 for T= 67191 logg=4.32\n",
      "Changing to logg=5.00 for T= 67191 logg=4.32\n",
      "Changing to logg=3.00 for T= 25019 logg=2.99\n",
      "Changing to logg=4.50 for T= 45086 logg=3.85\n",
      "Changing to T= 50000 for T= 83778 logg=4.69\n",
      "Changing to logg=5.00 for T= 83778 logg=4.69\n",
      "Changing to T= 50000 for T= 71659 logg=4.42\n",
      "Changing to logg=5.00 for T= 71659 logg=4.42\n",
      "Changing to T= 50000 for T=101719 logg=5.39\n",
      "Changing to logg=5.00 for T=101719 logg=5.39\n",
      "Changing to T= 50000 for T=103750 logg=5.41\n",
      "Changing to logg=5.00 for T=103750 logg=5.41\n",
      "Changing to logg=4.00 for T= 36458 logg=3.95\n",
      "Changing to T= 50000 for T= 80369 logg=4.61\n",
      "Changing to logg=5.00 for T= 80369 logg=4.61\n",
      "Changing to T= 50000 for T= 76516 logg=4.96\n",
      "Changing to logg=5.00 for T= 76516 logg=4.96\n",
      "Changing to logg=5.00 for T= 49567 logg=4.02\n",
      "Changing to T= 50000 for T=168846 logg=5.83\n",
      "Changing to logg=5.00 for T=168846 logg=5.83\n",
      "Changing to T= 50000 for T= 71038 logg=4.43\n",
      "Changing to logg=5.00 for T= 71038 logg=4.43\n",
      "Changing to logg=4.50 for T= 44222 logg=3.81\n",
      "Changing to T= 50000 for T= 96381 logg=5.41\n",
      "Changing to logg=5.00 for T= 96381 logg=5.41\n",
      "Changing to T= 50000 for T= 60392 logg=4.41\n",
      "Changing to logg=5.00 for T= 60392 logg=4.41\n",
      "Changing to logg=4.50 for T= 43082 logg=3.76\n",
      "Changing to T= 50000 for T= 58381 logg=4.34\n",
      "Changing to logg=5.00 for T= 58381 logg=4.34\n",
      "Changing to T= 50000 for T= 67360 logg=4.33\n",
      "Changing to logg=5.00 for T= 67360 logg=4.33\n",
      "Changing to T= 50000 for T= 63810 logg=4.24\n",
      "Changing to logg=5.00 for T= 63810 logg=4.24\n",
      "Changing to T= 50000 for T= 65184 logg=4.27\n",
      "Changing to logg=5.00 for T= 65184 logg=4.27\n",
      "Changing to T= 50000 for T= 50619 logg=4.06\n",
      "Changing to logg=5.00 for T= 50619 logg=4.06\n",
      "Changing to T= 50000 for T= 67151 logg=4.31\n",
      "Changing to logg=5.00 for T= 67151 logg=4.31\n",
      "Changing to T= 50000 for T= 65755 logg=4.28\n",
      "Changing to logg=5.00 for T= 65755 logg=4.28\n",
      "Changing to T= 50000 for T= 80822 logg=5.09\n",
      "Changing to logg=5.00 for T= 80822 logg=5.09\n",
      "Changing to T= 50000 for T=169602 logg=5.84\n",
      "Changing to logg=5.00 for T=169602 logg=5.84\n",
      "Changing to logg=4.00 for T= 32746 logg=3.73\n",
      "Changing to T= 50000 for T= 65605 logg=4.58\n",
      "Changing to logg=5.00 for T= 65605 logg=4.58\n",
      "Changing to T= 50000 for T= 73318 logg=4.84\n",
      "Changing to logg=5.00 for T= 73318 logg=4.84\n",
      "Changing to T= 50000 for T= 67059 logg=4.33\n",
      "Changing to logg=5.00 for T= 67059 logg=4.33\n",
      "Changing to T= 50000 for T= 66324 logg=4.31\n",
      "Changing to logg=5.00 for T= 66324 logg=4.31\n",
      "Changing to T= 50000 for T= 74602 logg=4.49\n",
      "Changing to logg=5.00 for T= 74602 logg=4.49\n",
      "Changing to T= 50000 for T=101962 logg=5.39\n",
      "Changing to logg=5.00 for T=101962 logg=5.39\n",
      "Changing to T= 50000 for T= 79299 logg=5.03\n",
      "Changing to logg=5.00 for T= 79299 logg=5.03\n",
      "Changing to T= 50000 for T= 66595 logg=4.30\n",
      "Changing to logg=5.00 for T= 66595 logg=4.30\n",
      "Changing to T= 50000 for T=103279 logg=5.41\n",
      "Changing to logg=5.00 for T=103279 logg=5.41\n",
      "Changing to T= 50000 for T=102948 logg=5.41\n",
      "Changing to logg=5.00 for T=102948 logg=5.41\n",
      "Changing to T= 50000 for T=102783 logg=5.40\n",
      "Changing to logg=5.00 for T=102783 logg=5.40\n",
      "Changing to T= 50000 for T= 69725 logg=4.38\n",
      "Changing to logg=5.00 for T= 69725 logg=4.38\n",
      "Changing to logg=4.00 for T= 32240 logg=3.61\n",
      "Changing to T= 50000 for T=102433 logg=5.39\n",
      "Changing to logg=5.00 for T=102433 logg=5.39\n",
      "Changing to T= 50000 for T=102840 logg=5.41\n",
      "Changing to logg=5.00 for T=102840 logg=5.41\n",
      "Changing to T= 50000 for T= 69669 logg=4.38\n",
      "Changing to logg=5.00 for T= 69669 logg=4.38\n",
      "Changing to T= 50000 for T=101871 logg=5.40\n",
      "Changing to logg=5.00 for T=101871 logg=5.40\n",
      "Changing to T= 50000 for T=103555 logg=5.41\n",
      "Changing to logg=5.00 for T=103555 logg=5.41\n",
      "Changing to T= 50000 for T= 67630 logg=4.33\n",
      "Changing to logg=5.00 for T= 67630 logg=4.33\n",
      "Changing to T= 50000 for T= 66876 logg=4.31\n",
      "Changing to logg=5.00 for T= 66876 logg=4.31\n",
      "Changing to T= 50000 for T= 68712 logg=4.36\n",
      "Changing to logg=5.00 for T= 68712 logg=4.36\n",
      "Changing to T= 50000 for T= 67186 logg=4.31\n",
      "Changing to logg=5.00 for T= 67186 logg=4.31\n",
      "Changing to T= 50000 for T= 68979 logg=4.36\n",
      "Changing to logg=5.00 for T= 68979 logg=4.36\n",
      "Changing to T= 50000 for T=103183 logg=5.45\n",
      "Changing to logg=5.00 for T=103183 logg=5.45\n",
      "Changing to T= 50000 for T=100788 logg=5.42\n",
      "Changing to logg=5.00 for T=100788 logg=5.42\n",
      "Changing to T= 50000 for T= 72778 logg=4.45\n",
      "Changing to logg=5.00 for T= 72778 logg=4.45\n",
      "Changing to T= 50000 for T= 66702 logg=4.30\n",
      "Changing to logg=5.00 for T= 66702 logg=4.30\n",
      "Changing to T= 50000 for T= 61844 logg=4.19\n",
      "Changing to logg=5.00 for T= 61844 logg=4.19\n",
      "Changing to T= 50000 for T= 69239 logg=4.36\n",
      "Changing to logg=5.00 for T= 69239 logg=4.36\n",
      "Changing to T= 50000 for T= 74598 logg=4.49\n",
      "Changing to logg=5.00 for T= 74598 logg=4.49\n",
      "Changing to T= 50000 for T= 71210 logg=4.41\n",
      "Changing to logg=5.00 for T= 71210 logg=4.41\n",
      "Changing to T= 50000 for T= 68970 logg=4.36\n",
      "Changing to logg=5.00 for T= 68970 logg=4.36\n",
      "Changing to T= 50000 for T=101887 logg=5.41\n",
      "Changing to logg=5.00 for T=101887 logg=5.41\n",
      "Changing to T= 50000 for T= 68091 logg=4.34\n",
      "Changing to logg=5.00 for T= 68091 logg=4.34\n"
     ]
    },
    {
     "name": "stdout",
     "output_type": "stream",
     "text": [
      "Changing to logg=4.00 for T= 31789 logg=3.54\n",
      "Changing to T= 50000 for T= 95984 logg=4.82\n",
      "Changing to logg=5.00 for T= 95984 logg=4.82\n",
      "Changing to T= 50000 for T=102197 logg=5.40\n",
      "Changing to logg=5.00 for T=102197 logg=5.40\n",
      "Changing to T= 50000 for T= 61423 logg=4.19\n",
      "Changing to logg=5.00 for T= 61423 logg=4.19\n",
      "Changing to T= 50000 for T=103193 logg=5.40\n",
      "Changing to logg=5.00 for T=103193 logg=5.40\n",
      "Changing to T= 50000 for T= 50852 logg=4.07\n",
      "Changing to logg=5.00 for T= 50852 logg=4.07\n",
      "Changing to logg=4.00 for T= 31761 logg=3.51\n",
      "Changing to T= 50000 for T=172330 logg=5.86\n",
      "Changing to logg=5.00 for T=172330 logg=5.86\n",
      "Changing to T= 50000 for T= 69844 logg=4.38\n",
      "Changing to logg=5.00 for T= 69844 logg=4.38\n",
      "Changing to T= 50000 for T= 76206 logg=4.80\n",
      "Changing to logg=5.00 for T= 76206 logg=4.80\n",
      "Changing to T= 50000 for T= 65890 logg=4.28\n",
      "Changing to logg=5.00 for T= 65890 logg=4.28\n",
      "Changing to T= 50000 for T=102527 logg=5.40\n",
      "Changing to logg=5.00 for T=102527 logg=5.40\n",
      "Changing to T= 50000 for T= 66487 logg=4.30\n",
      "Changing to logg=5.00 for T= 66487 logg=4.30\n",
      "Changing to T= 50000 for T= 55242 logg=3.98\n",
      "Changing to logg=5.00 for T= 55242 logg=3.98\n",
      "Changing to T= 50000 for T= 54474 logg=4.21\n",
      "Changing to logg=5.00 for T= 54474 logg=4.21\n",
      "Changing to logg=3.50 for T= 26165 logg=3.21\n",
      "Changing to T= 50000 for T=103548 logg=5.46\n",
      "Changing to logg=5.00 for T=103548 logg=5.46\n",
      "Changing to T= 50000 for T= 59709 logg=4.13\n",
      "Changing to logg=5.00 for T= 59709 logg=4.13\n",
      "Changing to T= 50000 for T=173680 logg=5.88\n",
      "Changing to logg=5.00 for T=173680 logg=5.88\n",
      "Changing to T= 50000 for T= 66243 logg=4.29\n",
      "Changing to logg=5.00 for T= 66243 logg=4.29\n",
      "Changing to logg=4.50 for T= 44419 logg=3.82\n",
      "Changing to T= 50000 for T= 68368 logg=4.68\n",
      "Changing to logg=5.00 for T= 68368 logg=4.68\n",
      "Changing to T= 50000 for T=102991 logg=5.41\n",
      "Changing to logg=5.00 for T=102991 logg=5.41\n",
      "Changing to T= 50000 for T=103633 logg=5.41\n",
      "Changing to logg=5.00 for T=103633 logg=5.41\n",
      "Changing to T= 50000 for T= 70233 logg=4.39\n",
      "Changing to logg=5.00 for T= 70233 logg=4.39\n",
      "Changing to T= 50000 for T= 67059 logg=4.31\n",
      "Changing to logg=5.00 for T= 67059 logg=4.31\n",
      "Changing to T= 50000 for T= 65569 logg=4.28\n",
      "Changing to logg=5.00 for T= 65569 logg=4.28\n",
      "Changing to T= 50000 for T= 66604 logg=4.62\n",
      "Changing to logg=5.00 for T= 66604 logg=4.62\n",
      "Changing to T= 50000 for T= 73320 logg=4.46\n",
      "Changing to logg=5.00 for T= 73320 logg=4.46\n",
      "Changing to T= 50000 for T= 72249 logg=4.43\n",
      "Changing to logg=5.00 for T= 72249 logg=4.43\n",
      "Changing to logg=4.50 for T= 47669 logg=3.95\n",
      "Changing to logg=4.00 for T= 34489 logg=3.74\n",
      "Changing to logg=4.50 for T= 44957 logg=3.84\n",
      "Changing to T= 50000 for T= 75943 logg=4.93\n",
      "Changing to logg=5.00 for T= 75943 logg=4.93\n",
      "Changing to T= 50000 for T= 62689 logg=4.49\n",
      "Changing to logg=5.00 for T= 62689 logg=4.49\n",
      "Changing to T= 50000 for T= 71702 logg=4.79\n",
      "Changing to logg=5.00 for T= 71702 logg=4.79\n",
      "Changing to T= 50000 for T=103240 logg=5.41\n",
      "Changing to logg=5.00 for T=103240 logg=5.41\n",
      "Changing to logg=4.50 for T= 46309 logg=3.90\n",
      "Changing to T= 50000 for T= 70066 logg=4.39\n",
      "Changing to logg=5.00 for T= 70066 logg=4.39\n",
      "Changing to T= 50000 for T= 79066 logg=4.86\n",
      "Changing to logg=5.00 for T= 79066 logg=4.86\n",
      "Changing to T= 50000 for T=102440 logg=5.41\n",
      "Changing to logg=5.00 for T=102440 logg=5.41\n",
      "Changing to T= 50000 for T= 64536 logg=4.26\n",
      "Changing to logg=5.00 for T= 64536 logg=4.26\n",
      "Changing to T= 50000 for T= 71793 logg=4.42\n",
      "Changing to logg=5.00 for T= 71793 logg=4.42\n",
      "Changing to T= 50000 for T=102922 logg=5.42\n",
      "Changing to logg=5.00 for T=102922 logg=5.42\n",
      "Changing to T= 50000 for T= 67724 logg=4.33\n",
      "Changing to logg=5.00 for T= 67724 logg=4.33\n",
      "Changing to T= 50000 for T=103383 logg=5.41\n",
      "Changing to logg=5.00 for T=103383 logg=5.41\n",
      "Changing to T= 50000 for T= 73748 logg=4.47\n",
      "Changing to logg=5.00 for T= 73748 logg=4.47\n",
      "Changing to T= 50000 for T=103674 logg=5.41\n",
      "Changing to logg=5.00 for T=103674 logg=5.41\n",
      "Changing to T= 50000 for T=103770 logg=5.41\n",
      "Changing to logg=5.00 for T=103770 logg=5.41\n",
      "Changing to T= 50000 for T= 94724 logg=5.40\n",
      "Changing to logg=5.00 for T= 94724 logg=5.40\n",
      "Changing to T= 50000 for T= 66161 logg=4.60\n",
      "Changing to logg=5.00 for T= 66161 logg=4.60\n",
      "Changing to T= 50000 for T= 71973 logg=4.43\n",
      "Changing to logg=5.00 for T= 71973 logg=4.43\n",
      "Changing to T= 50000 for T= 67596 logg=4.65\n",
      "Changing to logg=5.00 for T= 67596 logg=4.65\n",
      "Changing to T= 50000 for T=101445 logg=5.42\n",
      "Changing to logg=5.00 for T=101445 logg=5.42\n",
      "Changing to T= 50000 for T= 85269 logg=4.71\n",
      "Changing to logg=5.00 for T= 85269 logg=4.71\n",
      "Changing to T= 50000 for T= 56171 logg=4.27\n",
      "Changing to logg=5.00 for T= 56171 logg=4.27\n",
      "Changing to T= 50000 for T= 64999 logg=4.26\n",
      "Changing to logg=5.00 for T= 64999 logg=4.26\n",
      "Changing to T= 50000 for T= 65074 logg=4.27\n",
      "Changing to logg=5.00 for T= 65074 logg=4.27\n",
      "Changing to T= 50000 for T= 68832 logg=4.36\n",
      "Changing to logg=5.00 for T= 68832 logg=4.36\n",
      "Changing to logg=4.50 for T= 44431 logg=3.82\n",
      "Changing to logg=3.50 for T= 28262 logg=3.29\n",
      "Changing to T= 50000 for T=101391 logg=5.41\n",
      "Changing to logg=5.00 for T=101391 logg=5.41\n",
      "Changing to T= 50000 for T= 54789 logg=4.22\n",
      "Changing to logg=5.00 for T= 54789 logg=4.22\n",
      "Changing to T= 50000 for T=101932 logg=5.39\n",
      "Changing to logg=5.00 for T=101932 logg=5.39\n",
      "Changing to T= 50000 for T= 74855 logg=4.49\n",
      "Changing to logg=5.00 for T= 74855 logg=4.49\n",
      "Changing to T= 50000 for T=103024 logg=5.41\n",
      "Changing to logg=5.00 for T=103024 logg=5.41\n",
      "Changing to T= 50000 for T= 92805 logg=5.39\n",
      "Changing to logg=5.00 for T= 92805 logg=5.39\n",
      "Changing to T= 50000 for T= 65967 logg=4.28\n",
      "Changing to logg=5.00 for T= 65967 logg=4.28\n",
      "Changing to T= 50000 for T= 72778 logg=4.45\n",
      "Changing to logg=5.00 for T= 72778 logg=4.45\n",
      "Changing to T= 50000 for T= 67101 logg=4.31\n",
      "Changing to logg=5.00 for T= 67101 logg=4.31\n",
      "Changing to T= 50000 for T= 74686 logg=4.49\n",
      "Changing to logg=5.00 for T= 74686 logg=4.49\n",
      "Changing to T= 50000 for T=172687 logg=5.87\n",
      "Changing to logg=5.00 for T=172687 logg=5.87\n",
      "Changing to T= 50000 for T= 59073 logg=4.37\n",
      "Changing to logg=5.00 for T= 59073 logg=4.37\n",
      "Changing to T= 50000 for T=176181 logg=5.90\n",
      "Changing to logg=5.00 for T=176181 logg=5.90\n",
      "Changing to T= 50000 for T= 72869 logg=4.45\n",
      "Changing to logg=5.00 for T= 72869 logg=4.45\n",
      "Changing to T= 50000 for T= 72644 logg=4.44\n",
      "Changing to logg=5.00 for T= 72644 logg=4.44\n",
      "Changing to T= 50000 for T= 82065 logg=4.94\n",
      "Changing to logg=5.00 for T= 82065 logg=4.94\n",
      "Changing to T= 50000 for T= 65928 logg=4.29\n",
      "Changing to logg=5.00 for T= 65928 logg=4.29\n",
      "Changing to T= 50000 for T=103295 logg=5.41\n",
      "Changing to logg=5.00 for T=103295 logg=5.41\n",
      "Changing to logg=4.50 for T= 41746 logg=3.70\n",
      "Changing to T= 50000 for T=103359 logg=5.41\n",
      "Changing to logg=5.00 for T=103359 logg=5.41\n",
      "Changing to T= 50000 for T= 73782 logg=4.47\n",
      "Changing to logg=5.00 for T= 73782 logg=4.47\n",
      "Changing to T= 50000 for T= 72367 logg=4.44\n",
      "Changing to logg=5.00 for T= 72367 logg=4.44\n",
      "Changing to T= 50000 for T= 72629 logg=4.45\n",
      "Changing to logg=5.00 for T= 72629 logg=4.45\n",
      "Changing to T= 50000 for T= 66968 logg=4.31\n",
      "Changing to logg=5.00 for T= 66968 logg=4.31\n",
      "Changing to T= 50000 for T= 73797 logg=4.47\n",
      "Changing to logg=5.00 for T= 73797 logg=4.47\n",
      "Changing to T= 50000 for T= 52235 logg=4.13\n",
      "Changing to logg=5.00 for T= 52235 logg=4.13\n",
      "Changing to T= 50000 for T=101726 logg=5.41\n",
      "Changing to logg=5.00 for T=101726 logg=5.41\n",
      "Changing to T= 50000 for T= 73925 logg=4.47\n",
      "Changing to logg=5.00 for T= 73925 logg=4.47\n",
      "Changing to T= 50000 for T= 63838 logg=4.53\n",
      "Changing to logg=5.00 for T= 63838 logg=4.53\n",
      "Changing to T= 50000 for T= 65131 logg=4.26\n",
      "Changing to logg=5.00 for T= 65131 logg=4.26\n",
      "Changing to T= 50000 for T= 68547 logg=4.68\n",
      "Changing to logg=5.00 for T= 68547 logg=4.68\n",
      "Changing to T= 50000 for T=170781 logg=5.85\n",
      "Changing to logg=5.00 for T=170781 logg=5.85\n",
      "Changing to logg=3.50 for T= 27719 logg=3.22\n",
      "Changing to T= 50000 for T= 74005 logg=4.47\n",
      "Changing to logg=5.00 for T= 74005 logg=4.47\n",
      "Changing to T= 50000 for T= 53145 logg=4.16\n",
      "Changing to logg=5.00 for T= 53145 logg=4.16\n",
      "Changing to T= 50000 for T=102958 logg=5.41\n",
      "Changing to logg=5.00 for T=102958 logg=5.41\n",
      "Changing to T= 50000 for T= 65822 logg=4.29\n",
      "Changing to logg=5.00 for T= 65822 logg=4.29\n"
     ]
    },
    {
     "name": "stdout",
     "output_type": "stream",
     "text": [
      "Changing to T= 50000 for T= 70672 logg=4.40\n",
      "Changing to logg=5.00 for T= 70672 logg=4.40\n",
      "Changing to logg=3.50 for T= 26974 logg=3.45\n",
      "Changing to T= 50000 for T= 74307 logg=4.48\n",
      "Changing to logg=5.00 for T= 74307 logg=4.48\n",
      "Changing to T= 50000 for T= 64892 logg=4.26\n",
      "Changing to logg=5.00 for T= 64892 logg=4.26\n",
      "Changing to T= 50000 for T=132468 logg=5.53\n",
      "Changing to logg=5.00 for T=132468 logg=5.53\n",
      "Changing to T= 50000 for T=132764 logg=5.53\n",
      "Changing to logg=5.00 for T=132764 logg=5.53\n",
      "Changing to T= 50000 for T= 73264 logg=4.46\n",
      "Changing to logg=5.00 for T= 73264 logg=4.46\n",
      "Changing to T= 50000 for T= 74659 logg=4.49\n",
      "Changing to logg=5.00 for T= 74659 logg=4.49\n",
      "Changing to T= 50000 for T=101623 logg=5.42\n",
      "Changing to logg=5.00 for T=101623 logg=5.42\n",
      "Changing to T= 50000 for T=170279 logg=5.84\n",
      "Changing to logg=5.00 for T=170279 logg=5.84\n",
      "Changing to T= 50000 for T= 74425 logg=4.48\n",
      "Changing to logg=5.00 for T= 74425 logg=4.48\n",
      "Changing to T= 50000 for T= 72404 logg=4.44\n",
      "Changing to logg=5.00 for T= 72404 logg=4.44\n",
      "Changing to T= 50000 for T= 69256 logg=4.37\n",
      "Changing to logg=5.00 for T= 69256 logg=4.37\n",
      "Changing to T= 50000 for T= 66293 logg=4.31\n",
      "Changing to logg=5.00 for T= 66293 logg=4.31\n",
      "Changing to T= 50000 for T=100772 logg=5.42\n",
      "Changing to logg=5.00 for T=100772 logg=5.42\n",
      "Changing to T= 50000 for T= 71623 logg=4.42\n",
      "Changing to logg=5.00 for T= 71623 logg=4.42\n",
      "Changing to T= 50000 for T=101623 logg=5.40\n",
      "Changing to logg=5.00 for T=101623 logg=5.40\n",
      "Changing to T= 50000 for T= 66816 logg=4.31\n",
      "Changing to logg=5.00 for T= 66816 logg=4.31\n",
      "Changing to T= 50000 for T=102009 logg=5.40\n",
      "Changing to logg=5.00 for T=102009 logg=5.40\n",
      "Changing to T= 50000 for T= 68824 logg=4.36\n",
      "Changing to logg=5.00 for T= 68824 logg=4.36\n",
      "Changing to T= 50000 for T=103302 logg=5.45\n",
      "Changing to logg=5.00 for T=103302 logg=5.45\n",
      "Changing to logg=5.00 for T= 49043 logg=4.00\n",
      "Changing to T= 50000 for T= 69946 logg=4.39\n",
      "Changing to logg=5.00 for T= 69946 logg=4.39\n",
      "Changing to T= 50000 for T= 84300 logg=4.58\n",
      "Changing to logg=5.00 for T= 84300 logg=4.58\n",
      "Changing to T= 50000 for T=102134 logg=5.40\n",
      "Changing to logg=5.00 for T=102134 logg=5.40\n",
      "Changing to T= 50000 for T= 78170 logg=5.01\n",
      "Changing to logg=5.00 for T= 78170 logg=5.01\n",
      "Changing to logg=4.00 for T= 32382 logg=3.55\n",
      "Changing to T= 50000 for T= 68735 logg=4.35\n",
      "Changing to logg=5.00 for T= 68735 logg=4.35\n",
      "Changing to T= 50000 for T=101414 logg=5.41\n",
      "Changing to logg=5.00 for T=101414 logg=5.41\n",
      "Changing to T= 50000 for T=102353 logg=5.41\n",
      "Changing to logg=5.00 for T=102353 logg=5.41\n",
      "Changing to T= 50000 for T= 67324 logg=4.32\n",
      "Changing to logg=5.00 for T= 67324 logg=4.32\n",
      "Changing to T= 50000 for T= 80553 logg=5.09\n",
      "Changing to logg=5.00 for T= 80553 logg=5.09\n",
      "Changing to T= 50000 for T= 74186 logg=4.48\n",
      "Changing to logg=5.00 for T= 74186 logg=4.48\n",
      "Changing to T= 50000 for T= 65654 logg=4.28\n",
      "Changing to logg=5.00 for T= 65654 logg=4.28\n",
      "Changing to logg=4.50 for T= 47335 logg=3.94\n",
      "Changing to T= 50000 for T=101007 logg=5.42\n",
      "Changing to logg=5.00 for T=101007 logg=5.42\n",
      "Changing to T= 50000 for T=171609 logg=5.85\n",
      "Changing to logg=5.00 for T=171609 logg=5.85\n",
      "Changing to T= 50000 for T=102249 logg=5.40\n",
      "Changing to logg=5.00 for T=102249 logg=5.40\n",
      "Changing to T= 50000 for T= 73712 logg=4.47\n",
      "Changing to logg=5.00 for T= 73712 logg=4.47\n",
      "Changing to T= 50000 for T= 67075 logg=4.31\n",
      "Changing to logg=5.00 for T= 67075 logg=4.31\n",
      "Changing to T= 50000 for T= 61608 logg=4.45\n",
      "Changing to logg=5.00 for T= 61608 logg=4.45\n",
      "Changing to logg=0.00 for T=  3325 logg=-0.66\n",
      "Changing to T= 50000 for T= 64500 logg=4.23\n",
      "Changing to logg=5.00 for T= 64500 logg=4.23\n",
      "Changing to T= 50000 for T= 72437 logg=4.45\n",
      "Changing to logg=5.00 for T= 72437 logg=4.45\n",
      "Changing to T= 50000 for T= 69480 logg=4.37\n",
      "Changing to logg=5.00 for T= 69480 logg=4.37\n",
      "Changing to logg=1.50 for T=  8770 logg=1.44\n",
      "Changing to logg=5.00 for T=  1616 logg=4.44\n",
      "Changing to logg=0.00 for T=  3317 logg=-0.68\n",
      "Changing to T= 50000 for T=100244 logg=5.42\n",
      "Changing to logg=5.00 for T=100244 logg=5.42\n",
      "Changing to T= 50000 for T= 61686 logg=4.15\n",
      "Changing to logg=5.00 for T= 61686 logg=4.15\n",
      "Changing to T= 50000 for T= 99591 logg=5.45\n",
      "Changing to logg=5.00 for T= 99591 logg=5.45\n",
      "Changing to logg=1.50 for T=  8770 logg=1.44\n",
      "Changing to logg=0.00 for T=  3317 logg=-0.70\n",
      "Changing to logg=2.00 for T=  9787 logg=1.68\n",
      "Changing to logg=0.00 for T=  3325 logg=-0.66\n",
      "Changing to logg=1.50 for T=  8770 logg=1.44\n",
      "Changing to T= 50000 for T= 63004 logg=4.19\n",
      "Changing to logg=5.00 for T= 63004 logg=4.19\n",
      "Changing to T= 50000 for T= 67861 logg=4.32\n",
      "Changing to logg=5.00 for T= 67861 logg=4.32\n",
      "Changing to T= 50000 for T= 68979 logg=4.35\n",
      "Changing to logg=5.00 for T= 68979 logg=4.35\n",
      "Changing to T= 50000 for T= 67825 logg=4.33\n",
      "Changing to logg=5.00 for T= 67825 logg=4.33\n",
      "Changing to T= 50000 for T= 66185 logg=4.27\n",
      "Changing to logg=5.00 for T= 66185 logg=4.27\n",
      "Changing to logg=2.50 for T= 17098 logg=2.30\n",
      "Changing to T= 50000 for T= 68454 logg=4.35\n",
      "Changing to logg=5.00 for T= 68454 logg=4.35\n",
      "Changing to T= 50000 for T= 72509 logg=4.45\n",
      "Changing to logg=5.00 for T= 72509 logg=4.45\n",
      "Changing to T= 50000 for T=101265 logg=5.40\n",
      "Changing to logg=5.00 for T=101265 logg=5.40\n",
      "Changing to logg=4.00 for T= 35481 logg=3.37\n",
      "Changing to T= 50000 for T= 67602 logg=4.32\n",
      "Changing to logg=5.00 for T= 67602 logg=4.32\n",
      "Changing to logg=1.50 for T=  8770 logg=1.44\n",
      "Changing to logg=1.50 for T=  8770 logg=1.44\n",
      "Changing to logg=0.00 for T=  3330 logg=-0.71\n",
      "Changing to logg=1.50 for T=  8770 logg=1.44\n",
      "Changing to T= 50000 for T=100422 logg=5.42\n",
      "Changing to logg=5.00 for T=100422 logg=5.42\n",
      "Changing to T=  1200 for T=   808 logg=4.44\n",
      "Changing to logg=1.50 for T=  8770 logg=1.44\n",
      "Changing to logg=0.00 for T=  3554 logg=-0.25\n",
      "Changing to T= 50000 for T= 65349 logg=4.25\n",
      "Changing to logg=5.00 for T= 65349 logg=4.25\n",
      "Changing to T= 50000 for T= 72322 logg=4.44\n",
      "Changing to logg=5.00 for T= 72322 logg=4.44\n",
      "Changing to T= 50000 for T=100823 logg=5.41\n",
      "Changing to logg=5.00 for T=100823 logg=5.41\n",
      "Changing to T= 50000 for T= 72349 logg=4.44\n",
      "Changing to logg=5.00 for T= 72349 logg=4.44\n",
      "Changing to logg=0.00 for T=  3545 logg=-0.23\n",
      "Changing to logg=1.50 for T=  8770 logg=1.44\n",
      "Changing to T= 50000 for T= 72414 logg=4.45\n",
      "Changing to logg=5.00 for T= 72414 logg=4.45\n",
      "Changing to logg=0.00 for T=  3554 logg=-0.25\n",
      "Changing to T= 50000 for T= 71017 logg=4.41\n",
      "Changing to logg=5.00 for T= 71017 logg=4.41\n",
      "Changing to logg=1.50 for T=  8770 logg=1.44\n",
      "Changing to logg=1.50 for T=  8770 logg=1.44\n",
      "Changing to logg=1.50 for T=  8770 logg=1.44\n",
      "Changing to logg=2.00 for T=  9833 logg=1.68\n",
      "Changing to T= 50000 for T= 69454 logg=4.37\n",
      "Changing to logg=5.00 for T= 69454 logg=4.37\n",
      "Changing to logg=1.50 for T=  8770 logg=1.44\n",
      "Changing to logg=0.00 for T=  3325 logg=-0.66\n",
      "Changing to T=  1200 for T=   808 logg=4.44\n",
      "Changing to logg=0.00 for T=  3317 logg=-0.70\n",
      "Changing to logg=0.00 for T=  3554 logg=-0.25\n",
      "Changing to T= 50000 for T= 66374 logg=4.28\n",
      "Changing to logg=5.00 for T= 66374 logg=4.28\n",
      "Changing to logg=1.50 for T=  8770 logg=1.44\n",
      "Changing to logg=0.00 for T=  3325 logg=-0.66\n",
      "Changing to T= 50000 for T= 72029 logg=4.43\n",
      "Changing to logg=5.00 for T= 72029 logg=4.43\n",
      "Changing to T= 50000 for T= 65896 logg=4.27\n",
      "Changing to logg=5.00 for T= 65896 logg=4.27\n",
      "Changing to T= 50000 for T= 73646 logg=5.52\n",
      "Changing to logg=5.00 for T= 73646 logg=5.52\n",
      "Changing to T= 50000 for T= 72557 logg=4.46\n",
      "Changing to logg=5.00 for T= 72557 logg=4.46\n",
      "Changing to T= 50000 for T= 67906 logg=4.33\n",
      "Changing to logg=5.00 for T= 67906 logg=4.33\n",
      "Changing to logg=0.00 for T=  3317 logg=-0.70\n",
      "Changing to T= 50000 for T= 63749 logg=4.21\n",
      "Changing to logg=5.00 for T= 63749 logg=4.21\n",
      "Changing to T=  1200 for T=   692 logg=4.44\n",
      "Changing to T= 50000 for T= 68910 logg=4.35\n",
      "Changing to logg=5.00 for T= 68910 logg=4.35\n",
      "Changing to T=  1200 for T=   692 logg=4.44\n",
      "Changing to logg=1.50 for T=  8770 logg=1.44\n",
      "Changing to logg=0.00 for T=  3317 logg=-0.70\n",
      "Changing to logg=0.00 for T=  3317 logg=-0.70\n",
      "Changing to T= 50000 for T= 76273 logg=5.44\n",
      "Changing to logg=5.00 for T= 76273 logg=5.44\n",
      "Changing to logg=0.00 for T=  3554 logg=-0.25\n",
      "Changing to T= 50000 for T=102712 logg=5.41\n",
      "Changing to logg=5.00 for T=102712 logg=5.41\n",
      "Changing to logg=0.00 for T=  3317 logg=-0.70\n"
     ]
    },
    {
     "name": "stdout",
     "output_type": "stream",
     "text": [
      "Changing to T=  1200 for T=   692 logg=4.44\n",
      "Changing to logg=1.50 for T=  8770 logg=1.44\n",
      "Changing to logg=0.00 for T=  3325 logg=-0.66\n",
      "Changing to T= 50000 for T=101606 logg=5.41\n",
      "Changing to logg=5.00 for T=101606 logg=5.41\n",
      "Changing to logg=0.00 for T=  3317 logg=-0.70\n",
      "Changing to logg=0.00 for T=  3317 logg=-0.70\n",
      "Changing to T= 50000 for T=100510 logg=5.42\n",
      "Changing to logg=5.00 for T=100510 logg=5.42\n",
      "Changing to logg=0.00 for T=  3554 logg=-0.25\n",
      "Changing to logg=1.50 for T=  8770 logg=1.44\n",
      "Changing to logg=1.50 for T=  8770 logg=1.44\n",
      "Changing to logg=0.00 for T=  3325 logg=-0.66\n",
      "Changing to logg=0.00 for T=  3325 logg=-0.66\n",
      "Changing to T= 50000 for T= 71000 logg=4.40\n",
      "Changing to logg=5.00 for T= 71000 logg=4.40\n",
      "Changing to logg=2.00 for T=  9772 logg=1.67\n",
      "Changing to T= 50000 for T= 72345 logg=4.44\n",
      "Changing to logg=5.00 for T= 72345 logg=4.44\n",
      "Changing to T= 50000 for T= 70474 logg=4.40\n",
      "Changing to logg=5.00 for T= 70474 logg=4.40\n",
      "Changing to logg=0.00 for T=  3325 logg=-0.66\n",
      "Changing to logg=0.00 for T=  3554 logg=-0.25\n",
      "Changing to T= 50000 for T= 67791 logg=4.33\n",
      "Changing to logg=5.00 for T= 67791 logg=4.33\n",
      "Changing to T= 50000 for T= 93401 logg=5.43\n",
      "Changing to logg=5.00 for T= 93401 logg=5.43\n",
      "Changing to logg=1.50 for T=  8770 logg=1.44\n",
      "Changing to T= 50000 for T=101904 logg=5.42\n",
      "Changing to logg=5.00 for T=101904 logg=5.42\n",
      "Changing to logg=1.50 for T=  8770 logg=1.44\n",
      "Changing to logg=1.50 for T=  8770 logg=1.44\n",
      "Changing to logg=1.50 for T=  8770 logg=1.44\n",
      "Changing to T= 50000 for T= 83774 logg=5.42\n",
      "Changing to logg=5.00 for T= 83774 logg=5.42\n",
      "Changing to T= 50000 for T=132114 logg=5.77\n",
      "Changing to logg=5.00 for T=132114 logg=5.77\n",
      "Changing to T=  1200 for T=   808 logg=4.44\n",
      "Changing to T= 50000 for T=102464 logg=5.41\n",
      "Changing to logg=5.00 for T=102464 logg=5.41\n",
      "Changing to logg=1.50 for T=  8927 logg=1.48\n",
      "Changing to logg=0.00 for T=  3325 logg=-0.66\n",
      "Changing to logg=1.50 for T=  8770 logg=1.44\n",
      "Changing to logg=5.00 for T=  1616 logg=4.44\n",
      "Changing to logg=2.00 for T=  9034 logg=1.64\n",
      "Changing to logg=0.00 for T=  3325 logg=-0.66\n",
      "Changing to logg=0.00 for T=  3325 logg=-0.66\n",
      "Changing to T= 50000 for T= 62987 logg=4.19\n",
      "Changing to logg=5.00 for T= 62987 logg=4.19\n",
      "Changing to T= 50000 for T= 72300 logg=4.43\n",
      "Changing to logg=5.00 for T= 72300 logg=4.43\n",
      "Changing to logg=1.50 for T=  8770 logg=1.44\n",
      "Changing to T= 50000 for T= 72171 logg=4.44\n",
      "Changing to logg=5.00 for T= 72171 logg=4.44\n",
      "Changing to logg=2.00 for T=  9759 logg=1.72\n",
      "Changing to T= 50000 for T= 69700 logg=4.38\n",
      "Changing to logg=5.00 for T= 69700 logg=4.38\n",
      "Changing to logg=0.00 for T=  3325 logg=-0.66\n",
      "Changing to logg=0.00 for T=  3317 logg=-0.70\n",
      "Changing to logg=0.00 for T=  3325 logg=-0.66\n",
      "Changing to T= 50000 for T= 61732 logg=4.16\n",
      "Changing to logg=5.00 for T= 61732 logg=4.16\n",
      "Changing to logg=0.00 for T=  3317 logg=-0.70\n",
      "Changing to logg=5.00 for T=  1616 logg=4.44\n",
      "Changing to logg=0.00 for T=  3325 logg=-0.66\n",
      "Changing to logg=1.50 for T=  8770 logg=1.44\n",
      "Changing to T= 50000 for T= 63756 logg=4.21\n",
      "Changing to logg=5.00 for T= 63756 logg=4.21\n",
      "Changing to T= 50000 for T=101042 logg=5.42\n",
      "Changing to logg=5.00 for T=101042 logg=5.42\n",
      "Changing to logg=1.50 for T=  8770 logg=1.44\n",
      "Changing to logg=1.50 for T=  8770 logg=1.44\n",
      "Changing to logg=1.50 for T=  8770 logg=1.44\n",
      "Changing to T= 50000 for T=101037 logg=5.40\n",
      "Changing to logg=5.00 for T=101037 logg=5.40\n",
      "Changing to logg=1.50 for T=  8770 logg=1.44\n",
      "Changing to logg=0.00 for T=  3317 logg=-0.70\n",
      "Changing to logg=1.50 for T=  8770 logg=1.44\n",
      "Changing to logg=0.00 for T=  3288 logg=-0.82\n",
      "Changing to logg=1.50 for T=  8770 logg=1.44\n",
      "Changing to T= 50000 for T=101375 logg=5.40\n",
      "Changing to logg=5.00 for T=101375 logg=5.40\n",
      "Changing to logg=1.50 for T=  8770 logg=1.44\n",
      "Changing to logg=0.00 for T=  3554 logg=-0.25\n",
      "Changing to logg=0.00 for T=  3325 logg=-0.66\n",
      "Changing to logg=0.00 for T=  3325 logg=-0.66\n",
      "Changing to T= 50000 for T= 68126 logg=4.67\n",
      "Changing to logg=5.00 for T= 68126 logg=4.67\n",
      "Changing to logg=1.50 for T=  8770 logg=1.44\n",
      "Changing to T= 50000 for T= 64353 logg=4.22\n",
      "Changing to logg=5.00 for T= 64353 logg=4.22\n",
      "Changing to logg=0.00 for T=  3299 logg=-0.75\n",
      "Changing to T=  1200 for T=   692 logg=4.44\n",
      "Changing to logg=0.00 for T=  3325 logg=-0.66\n",
      "Changing to T=  1200 for T=   692 logg=4.44\n",
      "Changing to logg=1.50 for T=  8770 logg=1.44\n",
      "Changing to logg=2.00 for T=  9842 logg=1.63\n",
      "Changing to T= 50000 for T= 72304 logg=4.45\n",
      "Changing to logg=5.00 for T= 72304 logg=4.45\n",
      "Changing to T= 50000 for T=102948 logg=5.41\n",
      "Changing to logg=5.00 for T=102948 logg=5.41\n",
      "Changing to T=  1200 for T=   692 logg=4.44\n",
      "Changing to T= 50000 for T= 57932 logg=4.06\n",
      "Changing to logg=5.00 for T= 57932 logg=4.06\n",
      "Changing to T= 50000 for T=102341 logg=5.42\n",
      "Changing to logg=5.00 for T=102341 logg=5.42\n",
      "Changing to logg=1.50 for T=  8770 logg=1.44\n",
      "Changing to logg=0.00 for T=  3317 logg=-0.70\n",
      "Changing to T= 50000 for T= 87809 logg=5.45\n",
      "Changing to logg=5.00 for T= 87809 logg=5.45\n",
      "Changing to logg=1.50 for T=  8770 logg=1.44\n",
      "Changing to T= 50000 for T= 67588 logg=4.31\n",
      "Changing to logg=5.00 for T= 67588 logg=4.31\n",
      "Changing to T=  1200 for T=   808 logg=4.44\n",
      "Changing to logg=0.00 for T=  3325 logg=-0.66\n",
      "Changing to T=  1200 for T=   808 logg=4.44\n",
      "Changing to logg=0.00 for T=  3554 logg=-0.25\n",
      "Changing to T= 50000 for T= 68524 logg=4.35\n",
      "Changing to logg=5.00 for T= 68524 logg=4.35\n",
      "Changing to T=  1200 for T=   808 logg=4.44\n",
      "Changing to logg=1.50 for T=  8770 logg=1.44\n",
      "Changing to T= 50000 for T= 72282 logg=4.44\n",
      "Changing to logg=5.00 for T= 72282 logg=4.44\n",
      "Changing to logg=0.00 for T=  3289 logg=-0.83\n",
      "Changing to T= 50000 for T=102393 logg=5.41\n",
      "Changing to logg=5.00 for T=102393 logg=5.41\n",
      "Changing to T= 50000 for T= 87789 logg=5.30\n",
      "Changing to logg=5.00 for T= 87789 logg=5.30\n",
      "Changing to T= 50000 for T= 66501 logg=4.29\n",
      "Changing to logg=5.00 for T= 66501 logg=4.29\n",
      "Changing to T= 50000 for T= 70963 logg=4.40\n",
      "Changing to logg=5.00 for T= 70963 logg=4.40\n",
      "Changing to T=  1200 for T=   808 logg=4.44\n",
      "Changing to logg=5.00 for T=  1616 logg=4.44\n",
      "Changing to logg=0.00 for T=  3554 logg=-0.25\n",
      "Changing to logg=1.50 for T=  8770 logg=1.44\n",
      "Changing to logg=0.00 for T=  3325 logg=-0.66\n",
      "Changing to logg=5.00 for T=  1616 logg=4.44\n",
      "Changing to logg=0.00 for T=  3554 logg=-0.25\n",
      "Changing to T= 50000 for T= 63602 logg=4.20\n",
      "Changing to logg=5.00 for T= 63602 logg=4.20\n",
      "Changing to T= 50000 for T=101824 logg=5.41\n",
      "Changing to logg=5.00 for T=101824 logg=5.41\n",
      "Changing to logg=0.00 for T=  3325 logg=-0.66\n",
      "Changing to logg=0.00 for T=  3325 logg=-0.66\n",
      "Changing to logg=1.50 for T=  8770 logg=1.44\n",
      "Changing to logg=0.00 for T=  3291 logg=-0.79\n",
      "Changing to T= 50000 for T= 72419 logg=4.45\n",
      "Changing to logg=5.00 for T= 72419 logg=4.45\n",
      "Changing to logg=2.00 for T=  9845 logg=1.65\n",
      "Changing to logg=1.50 for T=  8770 logg=1.44\n",
      "Changing to logg=1.50 for T=  8770 logg=1.44\n",
      "Changing to T= 50000 for T= 66362 logg=4.28\n",
      "Changing to logg=5.00 for T= 66362 logg=4.28\n",
      "Changing to T= 50000 for T= 68919 logg=4.35\n",
      "Changing to logg=5.00 for T= 68919 logg=4.35\n",
      "Changing to T= 50000 for T=100228 logg=5.42\n",
      "Changing to logg=5.00 for T=100228 logg=5.42\n",
      "Changing to T= 50000 for T= 65770 logg=4.26\n",
      "Changing to logg=5.00 for T= 65770 logg=4.26\n",
      "Changing to logg=1.50 for T=  8770 logg=1.44\n",
      "Changing to logg=5.00 for T=  1616 logg=4.44\n",
      "Changing to T= 50000 for T= 72134 logg=4.44\n",
      "Changing to logg=5.00 for T= 72134 logg=4.44\n",
      "Changing to T=  1200 for T=   808 logg=4.44\n",
      "Changing to logg=1.50 for T=  8770 logg=1.44\n",
      "Changing to logg=0.00 for T=  3325 logg=-0.66\n",
      "Changing to logg=0.00 for T=  3317 logg=-0.70\n",
      "Changing to logg=1.50 for T=  8770 logg=1.44\n",
      "Changing to T= 50000 for T= 69322 logg=4.37\n",
      "Changing to logg=5.00 for T= 69322 logg=4.37\n",
      "Changing to T= 50000 for T= 56673 logg=4.23\n",
      "Changing to logg=5.00 for T= 56673 logg=4.23\n",
      "Changing to T= 50000 for T= 71110 logg=4.41\n",
      "Changing to logg=5.00 for T= 71110 logg=4.41\n",
      "Changing to logg=0.00 for T=  3325 logg=-0.66\n",
      "Changing to logg=1.50 for T=  8770 logg=1.44\n",
      "Changing to logg=0.00 for T=  3317 logg=-0.70\n",
      "Changing to logg=1.50 for T=  8770 logg=1.44\n",
      "Changing to logg=1.50 for T=  8770 logg=1.44\n",
      "Changing to logg=0.00 for T=  3317 logg=-0.70\n",
      "Changing to T=  1200 for T=   692 logg=4.44\n",
      "Changing to T= 50000 for T= 72257 logg=4.44\n",
      "Changing to logg=5.00 for T= 72257 logg=4.44\n",
      "Changing to logg=1.50 for T=  8770 logg=1.44\n",
      "Changing to logg=0.00 for T=  3317 logg=-0.70\n"
     ]
    },
    {
     "name": "stdout",
     "output_type": "stream",
     "text": [
      "Changing to logg=1.50 for T=  8770 logg=1.44\n",
      "Changing to logg=1.50 for T=  8770 logg=1.44\n",
      "Changing to T= 50000 for T= 84680 logg=5.43\n",
      "Changing to logg=5.00 for T= 84680 logg=5.43\n",
      "Changing to logg=0.00 for T=  3325 logg=-0.66\n",
      "Changing to logg=5.00 for T=  1616 logg=4.44\n",
      "Changing to logg=1.50 for T=  8770 logg=1.44\n",
      "Changing to T= 50000 for T= 72399 logg=4.45\n",
      "Changing to logg=5.00 for T= 72399 logg=4.45\n",
      "Changing to T= 50000 for T= 65076 logg=4.24\n",
      "Changing to logg=5.00 for T= 65076 logg=4.24\n",
      "Changing to T= 50000 for T= 66627 logg=4.29\n",
      "Changing to logg=5.00 for T= 66627 logg=4.29\n",
      "Changing to logg=0.00 for T=  3325 logg=-0.66\n",
      "Changing to logg=0.00 for T=  3554 logg=-0.25\n",
      "Changing to T= 50000 for T= 69929 logg=4.39\n",
      "Changing to logg=5.00 for T= 69929 logg=4.39\n",
      "Changing to logg=3.50 for T= 26699 logg=2.90\n",
      "Changing to logg=4.50 for T= 43064 logg=3.76\n",
      "Changing to T= 50000 for T= 62509 logg=4.18\n",
      "Changing to logg=5.00 for T= 62509 logg=4.18\n",
      "Changing to T= 50000 for T= 95192 logg=5.08\n",
      "Changing to logg=5.00 for T= 95192 logg=5.08\n",
      "Changing to T= 50000 for T= 68173 logg=4.34\n",
      "Changing to logg=5.00 for T= 68173 logg=4.34\n",
      "Changing to logg=1.50 for T=  8770 logg=1.44\n",
      "Changing to logg=1.50 for T=  8770 logg=1.44\n",
      "Changing to T= 50000 for T= 67298 logg=4.32\n",
      "Changing to logg=5.00 for T= 67298 logg=4.32\n",
      "Changing to logg=1.50 for T=  8783 logg=1.48\n",
      "Changing to logg=5.00 for T=  1616 logg=4.44\n",
      "Changing to T= 50000 for T= 68243 logg=4.33\n",
      "Changing to logg=5.00 for T= 68243 logg=4.33\n",
      "Changing to T=  1200 for T=   692 logg=4.44\n",
      "Changing to T= 50000 for T=101478 logg=5.42\n",
      "Changing to logg=5.00 for T=101478 logg=5.42\n",
      "Changing to logg=0.00 for T=  3317 logg=-0.70\n",
      "Changing to logg=1.50 for T=  8770 logg=1.44\n",
      "Changing to logg=0.00 for T=  3317 logg=-0.70\n",
      "Changing to T= 50000 for T= 73315 logg=4.45\n",
      "Changing to logg=5.00 for T= 73315 logg=4.45\n",
      "Changing to T=  1200 for T=   692 logg=4.44\n",
      "Changing to T=  1200 for T=   808 logg=4.44\n",
      "Changing to logg=1.50 for T=  8770 logg=1.44\n",
      "Changing to logg=0.00 for T=  3317 logg=-0.70\n",
      "Changing to T= 50000 for T= 72419 logg=4.45\n",
      "Changing to logg=5.00 for T= 72419 logg=4.45\n",
      "Changing to T= 50000 for T= 72362 logg=4.44\n",
      "Changing to logg=5.00 for T= 72362 logg=4.44\n",
      "Changing to logg=3.00 for T= 19590 logg=2.49\n",
      "Changing to T= 50000 for T= 72382 logg=4.45\n",
      "Changing to logg=5.00 for T= 72382 logg=4.45\n",
      "Changing to T=  1200 for T=   808 logg=4.44\n",
      "Changing to T= 50000 for T=101335 logg=5.42\n",
      "Changing to logg=5.00 for T=101335 logg=5.42\n",
      "Changing to T= 50000 for T= 67759 logg=4.33\n",
      "Changing to logg=5.00 for T= 67759 logg=4.33\n",
      "Changing to logg=1.50 for T=  8770 logg=1.44\n",
      "Changing to logg=1.50 for T=  8770 logg=1.44\n",
      "Changing to T=  1200 for T=   692 logg=4.44\n",
      "Changing to T=  1200 for T=   692 logg=4.44\n",
      "Changing to logg=1.50 for T=  8770 logg=1.44\n",
      "Changing to T= 50000 for T= 69696 logg=4.37\n",
      "Changing to logg=5.00 for T= 69696 logg=4.37\n",
      "Changing to logg=5.00 for T=  1616 logg=4.44\n",
      "Changing to logg=0.00 for T=  3325 logg=-0.66\n",
      "Changing to logg=0.00 for T=  3325 logg=-0.66\n",
      "Changing to logg=0.00 for T=  3317 logg=-0.70\n",
      "Changing to T= 50000 for T=102887 logg=5.41\n",
      "Changing to logg=5.00 for T=102887 logg=5.41\n",
      "Changing to logg=5.00 for T=  1616 logg=4.44\n",
      "Changing to T= 50000 for T=100316 logg=5.42\n",
      "Changing to logg=5.00 for T=100316 logg=5.42\n",
      "Changing to T= 50000 for T= 67222 logg=4.30\n",
      "Changing to logg=5.00 for T= 67222 logg=4.30\n",
      "Changing to T= 50000 for T=101681 logg=5.41\n",
      "Changing to logg=5.00 for T=101681 logg=5.41\n",
      "Changing to logg=0.00 for T=  3317 logg=-0.70\n",
      "Changing to T= 50000 for T= 69387 logg=4.36\n",
      "Changing to logg=5.00 for T= 69387 logg=4.36\n",
      "Changing to T=  1200 for T=   808 logg=4.44\n",
      "Changing to T= 50000 for T= 72417 logg=4.45\n",
      "Changing to logg=5.00 for T= 72417 logg=4.45\n",
      "Changing to logg=2.00 for T= 11252 logg=1.72\n",
      "Changing to logg=1.50 for T=  8770 logg=1.44\n",
      "Changing to logg=1.50 for T=  8770 logg=1.44\n",
      "Changing to logg=2.00 for T= 10354 logg=1.62\n",
      "Changing to logg=1.50 for T=  8770 logg=1.44\n",
      "Changing to T= 50000 for T= 65399 logg=4.25\n",
      "Changing to logg=5.00 for T= 65399 logg=4.25\n",
      "Changing to logg=0.00 for T=  3325 logg=-0.66\n",
      "Changing to T= 50000 for T= 77780 logg=5.39\n",
      "Changing to logg=5.00 for T= 77780 logg=5.39\n",
      "Changing to T= 50000 for T= 82393 logg=5.42\n",
      "Changing to logg=5.00 for T= 82393 logg=5.42\n",
      "Changing to T= 50000 for T= 61937 logg=4.17\n",
      "Changing to logg=5.00 for T= 61937 logg=4.17\n",
      "Changing to logg=0.00 for T=  3554 logg=-0.25\n",
      "Changing to T= 50000 for T= 72096 logg=4.44\n",
      "Changing to logg=5.00 for T= 72096 logg=4.44\n",
      "Changing to logg=0.00 for T=  3294 logg=-0.74\n",
      "Changing to logg=0.00 for T=  3554 logg=-0.25\n",
      "Changing to T=  1200 for T=   808 logg=4.44\n",
      "Changing to T= 50000 for T= 72259 logg=4.44\n",
      "Changing to logg=5.00 for T= 72259 logg=4.44\n",
      "Changing to logg=1.50 for T=  8770 logg=1.44\n",
      "Changing to logg=5.00 for T=  1616 logg=4.44\n",
      "Changing to logg=1.50 for T=  8770 logg=1.44\n",
      "Changing to T= 50000 for T= 81506 logg=5.45\n",
      "Changing to logg=5.00 for T= 81506 logg=5.45\n",
      "Changing to T= 50000 for T= 69402 logg=4.37\n",
      "Changing to logg=5.00 for T= 69402 logg=4.37\n",
      "Changing to logg=1.50 for T=  8770 logg=1.44\n",
      "Changing to logg=2.00 for T=  9832 logg=1.63\n",
      "Changing to T= 50000 for T= 70881 logg=4.41\n",
      "Changing to logg=5.00 for T= 70881 logg=4.41\n",
      "Changing to logg=1.50 for T=  8770 logg=1.44\n",
      "Changing to logg=1.50 for T=  8770 logg=1.44\n",
      "Changing to T= 50000 for T= 62008 logg=4.16\n",
      "Changing to logg=5.00 for T= 62008 logg=4.16\n",
      "Changing to T= 50000 for T= 81495 logg=5.50\n",
      "Changing to logg=5.00 for T= 81495 logg=5.50\n",
      "Changing to T= 50000 for T=102681 logg=5.41\n",
      "Changing to logg=5.00 for T=102681 logg=5.41\n",
      "Changing to T= 50000 for T=100376 logg=5.42\n",
      "Changing to logg=5.00 for T=100376 logg=5.42\n",
      "Changing to T=  1200 for T=   808 logg=4.44\n",
      "Changing to logg=0.00 for T=  3317 logg=-0.70\n",
      "Changing to T=  1200 for T=   808 logg=4.44\n",
      "Changing to logg=0.00 for T=  3325 logg=-0.66\n",
      "Changing to T= 50000 for T= 70791 logg=4.41\n",
      "Changing to logg=5.00 for T= 70791 logg=4.41\n",
      "Changing to logg=0.00 for T=  3325 logg=-0.66\n",
      "Changing to logg=5.00 for T=  1616 logg=4.44\n",
      "Changing to T= 50000 for T= 72205 logg=4.44\n",
      "Changing to logg=5.00 for T= 72205 logg=4.44\n",
      "Changing to logg=0.00 for T=  3554 logg=-0.25\n",
      "Changing to logg=1.50 for T=  8770 logg=1.44\n",
      "Changing to logg=1.50 for T=  8770 logg=1.44\n",
      "Changing to T= 50000 for T= 68454 logg=4.35\n",
      "Changing to logg=5.00 for T= 68454 logg=4.35\n",
      "Changing to T= 50000 for T=102099 logg=5.41\n",
      "Changing to logg=5.00 for T=102099 logg=5.41\n",
      "Changing to logg=1.50 for T=  8770 logg=1.44\n",
      "Changing to logg=0.00 for T=  3317 logg=-0.70\n",
      "Changing to T= 50000 for T= 70307 logg=4.39\n",
      "Changing to logg=5.00 for T= 70307 logg=4.39\n",
      "Changing to T= 50000 for T=101295 logg=5.42\n",
      "Changing to logg=5.00 for T=101295 logg=5.42\n",
      "Changing to logg=0.00 for T=  3337 logg=-0.66\n",
      "Changing to T= 50000 for T= 99582 logg=5.43\n",
      "Changing to logg=5.00 for T= 99582 logg=5.43\n",
      "Changing to logg=0.00 for T=  3325 logg=-0.66\n",
      "Changing to T= 50000 for T=104937 logg=5.55\n",
      "Changing to logg=5.00 for T=104937 logg=5.55\n",
      "Changing to T=  1200 for T=   808 logg=4.44\n",
      "Changing to logg=0.00 for T=  3554 logg=-0.25\n",
      "Changing to T= 50000 for T= 70265 logg=4.39\n",
      "Changing to logg=5.00 for T= 70265 logg=4.39\n",
      "Changing to logg=1.50 for T=  8770 logg=1.44\n",
      "Changing to T= 50000 for T= 72167 logg=4.44\n",
      "Changing to logg=5.00 for T= 72167 logg=4.44\n",
      "Changing to T= 50000 for T=102747 logg=5.41\n",
      "Changing to logg=5.00 for T=102747 logg=5.41\n",
      "Changing to T= 50000 for T=101233 logg=5.40\n",
      "Changing to logg=5.00 for T=101233 logg=5.40\n",
      "Changing to T=  1200 for T=   692 logg=4.44\n",
      "Changing to T= 50000 for T= 72177 logg=4.44\n",
      "Changing to logg=5.00 for T= 72177 logg=4.44\n",
      "Changing to T= 50000 for T= 67934 logg=4.33\n",
      "Changing to logg=5.00 for T= 67934 logg=4.33\n",
      "Changing to logg=0.00 for T=  3325 logg=-0.66\n",
      "Changing to logg=0.00 for T=  3317 logg=-0.70\n",
      "Changing to logg=1.50 for T=  8770 logg=1.44\n",
      "Changing to logg=4.50 for T= 45560 logg=3.71\n",
      "Changing to logg=4.00 for T= 31386 logg=3.65\n",
      "Changing to T= 50000 for T= 72379 logg=4.45\n",
      "Changing to logg=5.00 for T= 72379 logg=4.45\n",
      "Changing to T= 50000 for T= 72280 logg=4.44\n",
      "Changing to logg=5.00 for T= 72280 logg=4.44\n",
      "Changing to T= 50000 for T= 77947 logg=5.46\n",
      "Changing to logg=5.00 for T= 77947 logg=5.46\n",
      "Changing to T= 50000 for T= 54200 logg=3.98\n",
      "Changing to logg=5.00 for T= 54200 logg=3.98\n"
     ]
    },
    {
     "name": "stdout",
     "output_type": "stream",
     "text": [
      "Changing to T= 50000 for T= 71836 logg=4.43\n",
      "Changing to logg=5.00 for T= 71836 logg=4.43\n",
      "Changing to T=  1200 for T=   692 logg=4.44\n",
      "Changing to T= 50000 for T=101906 logg=5.42\n",
      "Changing to logg=5.00 for T=101906 logg=5.42\n",
      "Changing to T=  1200 for T=   692 logg=4.44\n",
      "Changing to T=  1200 for T=   692 logg=4.44\n",
      "Changing to T= 50000 for T= 70351 logg=4.40\n",
      "Changing to logg=5.00 for T= 70351 logg=4.40\n",
      "Changing to T= 50000 for T= 70066 logg=4.37\n",
      "Changing to logg=5.00 for T= 70066 logg=4.37\n",
      "Changing to T= 50000 for T= 96627 logg=5.44\n",
      "Changing to logg=5.00 for T= 96627 logg=5.44\n",
      "Changing to T= 50000 for T= 70306 logg=4.38\n",
      "Changing to logg=5.00 for T= 70306 logg=4.38\n",
      "Changing to T= 50000 for T= 72375 logg=4.45\n",
      "Changing to logg=5.00 for T= 72375 logg=4.45\n",
      "Changing to logg=0.00 for T=  3317 logg=-0.70\n",
      "Changing to T= 50000 for T= 72552 logg=4.46\n",
      "Changing to logg=5.00 for T= 72552 logg=4.46\n",
      "Changing to logg=1.50 for T=  8770 logg=1.44\n",
      "Changing to logg=0.00 for T=  3317 logg=-0.70\n",
      "Changing to T= 50000 for T= 70920 logg=4.41\n",
      "Changing to logg=5.00 for T= 70920 logg=4.41\n",
      "Changing to logg=0.00 for T=  3554 logg=-0.25\n",
      "Changing to logg=1.50 for T=  8770 logg=1.44\n",
      "Changing to logg=0.00 for T=  3325 logg=-0.66\n",
      "Changing to logg=0.00 for T=  3337 logg=-0.66\n",
      "Changing to T= 50000 for T= 72205 logg=4.44\n",
      "Changing to logg=5.00 for T= 72205 logg=4.44\n",
      "Changing to logg=0.00 for T=  3317 logg=-0.70\n",
      "Changing to T= 50000 for T= 72540 logg=4.46\n",
      "Changing to logg=5.00 for T= 72540 logg=4.46\n",
      "Changing to T= 50000 for T=102558 logg=5.41\n",
      "Changing to logg=5.00 for T=102558 logg=5.41\n",
      "Changing to T= 50000 for T= 71130 logg=4.41\n",
      "Changing to logg=5.00 for T= 71130 logg=4.41\n",
      "Changing to T= 50000 for T=101237 logg=5.41\n",
      "Changing to logg=5.00 for T=101237 logg=5.41\n",
      "Changing to T= 50000 for T= 65306 logg=4.25\n",
      "Changing to logg=5.00 for T= 65306 logg=4.25\n",
      "Changing to logg=0.00 for T=  3317 logg=-0.70\n",
      "Changing to T=  1200 for T=   808 logg=4.44\n",
      "Changing to T= 50000 for T= 66393 logg=4.29\n",
      "Changing to logg=5.00 for T= 66393 logg=4.29\n",
      "Changing to logg=0.00 for T=  3337 logg=-0.66\n",
      "Changing to logg=1.50 for T=  8770 logg=1.44\n",
      "Changing to logg=5.00 for T=  1616 logg=4.44\n",
      "Changing to logg=0.00 for T=  3325 logg=-0.66\n",
      "Changing to T= 50000 for T= 63378 logg=4.21\n",
      "Changing to logg=5.00 for T= 63378 logg=4.21\n",
      "Changing to logg=0.00 for T=  3325 logg=-0.66\n",
      "Changing to logg=0.00 for T=  3317 logg=-0.70\n",
      "Changing to T= 50000 for T=102994 logg=5.41\n",
      "Changing to logg=5.00 for T=102994 logg=5.41\n",
      "Changing to T= 50000 for T= 69785 logg=4.37\n",
      "Changing to logg=5.00 for T= 69785 logg=4.37\n",
      "Changing to T= 50000 for T=101046 logg=5.41\n",
      "Changing to logg=5.00 for T=101046 logg=5.41\n",
      "Changing to T= 50000 for T= 95993 logg=5.47\n",
      "Changing to logg=5.00 for T= 95993 logg=5.47\n",
      "Changing to T=  1200 for T=   692 logg=4.44\n",
      "Changing to logg=2.00 for T=  9391 logg=1.55\n",
      "Changing to T= 50000 for T= 71010 logg=4.41\n",
      "Changing to logg=5.00 for T= 71010 logg=4.41\n",
      "Changing to logg=1.50 for T=  8770 logg=1.44\n",
      "Changing to T= 50000 for T= 72364 logg=4.45\n",
      "Changing to logg=5.00 for T= 72364 logg=4.45\n",
      "Changing to logg=5.00 for T=  1616 logg=4.44\n",
      "Changing to T= 50000 for T= 67894 logg=4.31\n",
      "Changing to logg=5.00 for T= 67894 logg=4.31\n",
      "Changing to T= 50000 for T= 66757 logg=4.29\n",
      "Changing to logg=5.00 for T= 66757 logg=4.29\n",
      "Changing to T= 50000 for T= 73592 logg=4.46\n",
      "Changing to logg=5.00 for T= 73592 logg=4.46\n",
      "Changing to T= 50000 for T= 53224 logg=3.92\n",
      "Changing to logg=5.00 for T= 53224 logg=3.92\n",
      "Changing to T= 50000 for T= 67408 logg=4.31\n",
      "Changing to logg=5.00 for T= 67408 logg=4.31\n",
      "Changing to T= 50000 for T= 66211 logg=5.49\n",
      "Changing to logg=5.00 for T= 66211 logg=5.49\n",
      "Changing to logg=1.50 for T=  8770 logg=1.44\n",
      "Changing to T= 50000 for T= 68251 logg=4.33\n",
      "Changing to logg=5.00 for T= 68251 logg=4.33\n",
      "Changing to logg=0.00 for T=  3317 logg=-0.70\n",
      "Changing to logg=2.00 for T=  9849 logg=1.64\n",
      "Changing to logg=5.00 for T=  1616 logg=4.44\n",
      "Changing to T= 50000 for T=101067 logg=5.42\n",
      "Changing to logg=5.00 for T=101067 logg=5.42\n",
      "Changing to logg=0.00 for T=  3554 logg=-0.25\n",
      "Changing to logg=1.50 for T=  8770 logg=1.44\n",
      "Changing to logg=1.50 for T=  8770 logg=1.44\n",
      "Changing to logg=0.00 for T=  3317 logg=-0.70\n",
      "Changing to logg=0.00 for T=  3325 logg=-0.66\n",
      "Changing to T= 50000 for T=102908 logg=5.41\n",
      "Changing to logg=5.00 for T=102908 logg=5.41\n",
      "Changing to T= 50000 for T= 72302 logg=4.45\n",
      "Changing to logg=5.00 for T= 72302 logg=4.45\n",
      "Changing to logg=5.00 for T=  1616 logg=4.44\n",
      "Changing to T= 50000 for T= 70999 logg=4.40\n",
      "Changing to logg=5.00 for T= 70999 logg=4.40\n",
      "Changing to logg=1.50 for T=  8770 logg=1.44\n",
      "Changing to T= 50000 for T=104042 logg=5.41\n",
      "Changing to logg=5.00 for T=104042 logg=5.41\n",
      "Changing to T= 50000 for T= 70651 logg=4.40\n",
      "Changing to logg=5.00 for T= 70651 logg=4.40\n",
      "Changing to logg=0.00 for T=  3317 logg=-0.70\n",
      "Changing to logg=1.50 for T=  8770 logg=1.44\n",
      "Changing to logg=1.50 for T=  8770 logg=1.44\n",
      "Changing to logg=0.00 for T=  3325 logg=-0.66\n",
      "Changing to T= 50000 for T= 72354 logg=4.44\n",
      "Changing to logg=5.00 for T= 72354 logg=4.44\n",
      "Changing to logg=0.00 for T=  3325 logg=-0.66\n",
      "Changing to T= 50000 for T= 63596 logg=4.20\n",
      "Changing to logg=5.00 for T= 63596 logg=4.20\n",
      "Changing to T=  1200 for T=   808 logg=4.44\n",
      "Changing to T= 50000 for T=101226 logg=5.40\n",
      "Changing to logg=5.00 for T=101226 logg=5.40\n",
      "Changing to T= 50000 for T= 68456 logg=4.34\n",
      "Changing to logg=5.00 for T= 68456 logg=4.34\n",
      "Changing to logg=0.00 for T=  3325 logg=-0.66\n",
      "Changing to T= 50000 for T= 71333 logg=4.40\n",
      "Changing to logg=5.00 for T= 71333 logg=4.40\n",
      "Changing to logg=0.00 for T=  3317 logg=-0.70\n",
      "Changing to logg=1.50 for T=  8770 logg=1.44\n",
      "Changing to T= 50000 for T= 86137 logg=5.29\n",
      "Changing to logg=5.00 for T= 86137 logg=5.29\n",
      "Changing to logg=0.00 for T=  3554 logg=-0.25\n",
      "Changing to logg=1.50 for T=  8770 logg=1.44\n",
      "Changing to T= 50000 for T= 70487 logg=4.40\n",
      "Changing to logg=5.00 for T= 70487 logg=4.40\n",
      "Changing to T= 50000 for T= 73018 logg=5.46\n",
      "Changing to logg=5.00 for T= 73018 logg=5.46\n",
      "Changing to T= 50000 for T= 72410 logg=4.44\n",
      "Changing to logg=5.00 for T= 72410 logg=4.44\n",
      "Changing to logg=0.00 for T=  3317 logg=-0.70\n",
      "Changing to logg=5.00 for T=  1616 logg=4.44\n",
      "Changing to logg=0.00 for T=  3554 logg=-0.25\n",
      "Changing to T= 50000 for T= 62552 logg=4.18\n",
      "Changing to logg=5.00 for T= 62552 logg=4.18\n",
      "Changing to T= 50000 for T=101167 logg=5.42\n",
      "Changing to logg=5.00 for T=101167 logg=5.42\n",
      "Changing to logg=2.00 for T=  9671 logg=1.71\n",
      "Changing to logg=3.00 for T= 20116 logg=2.54\n",
      "Changing to T= 50000 for T= 66483 logg=4.28\n",
      "Changing to logg=5.00 for T= 66483 logg=4.28\n",
      "Changing to T= 50000 for T= 70317 logg=4.40\n",
      "Changing to logg=5.00 for T= 70317 logg=4.40\n",
      "Changing to logg=0.00 for T=  3554 logg=-0.25\n",
      "Changing to logg=1.50 for T=  8770 logg=1.44\n",
      "Changing to logg=0.00 for T=  3285 logg=-0.77\n",
      "Changing to T= 50000 for T= 70002 logg=4.38\n",
      "Changing to logg=5.00 for T= 70002 logg=4.38\n",
      "Changing to T= 50000 for T= 72300 logg=4.45\n",
      "Changing to logg=5.00 for T= 72300 logg=4.45\n",
      "Making photometry for isochrone: log(t) = 7.00  AKs = 0.70  dist = 1000\n",
      "     Starting at:  2021-01-04 10:18:54.682567   Usually takes ~5 minutes\n",
      "Starting filter: ubv,U   Elapsed time: 0.00 seconds\n",
      "Starting synthetic photometry\n",
      "Singles\n",
      "M =   8.000 Msun  T = 21294 K  m_ubv_U = 18.30\n",
      "M =   2.550 Msun  T = 10591 K  m_ubv_U = 22.13\n",
      "Primaries\n",
      "M =   8.500 Msun  T = 21966 K  m_ubv_U = 18.10\n",
      "M =   1.400 Msun  T =   nan K  m_ubv_U =  nan\n",
      "M =  14.000 Msun  T = 26300 K  m_ubv_U = 16.26\n",
      "M =   3.981 Msun  T =   nan K  m_ubv_U =  nan\n",
      "M =   1.400 Msun  T =   nan K  m_ubv_U =  nan\n",
      "M =   1.400 Msun  T =  6559 K  m_ubv_U = 24.99\n",
      "M =   3.162 Msun  T =   nan K  m_ubv_U =  nan\n",
      "M =  15.000 Msun  T = 26270 K  m_ubv_U = 15.93\n",
      "M =  15.000 Msun  T = 26270 K  m_ubv_U = 15.93\n",
      "M =   1.400 Msun  T =   nan K  m_ubv_U =  nan\n",
      "M =   1.200 Msun  T =  5987 K  m_ubv_U = 26.20\n",
      "M =   3.981 Msun  T =   nan K  m_ubv_U =  nan\n",
      "M =  16.000 Msun  T = 24883 K  m_ubv_U = 15.48\n",
      "M =  16.000 Msun  T = 24883 K  m_ubv_U = 15.48\n",
      "M =   8.000 Msun  T = 21305 K  m_ubv_U = 18.29\n",
      "M =  11.000 Msun  T = 24577 K  m_ubv_U = 17.20\n",
      "M =  14.000 Msun  T = 26300 K  m_ubv_U = 16.26\n",
      "M =  16.000 Msun  T = 27959 K  m_ubv_U = 15.26\n",
      "M =   5.012 Msun  T =   nan K  m_ubv_U =  nan\n",
      "M =  14.000 Msun  T = 26300 K  m_ubv_U = 16.26\n"
     ]
    },
    {
     "name": "stdout",
     "output_type": "stream",
     "text": [
      "M =  13.000 Msun  T = 26107 K  m_ubv_U = 16.60\n",
      "M =   1.200 Msun  T =  7594 K  m_ubv_U = 24.03\n",
      "M =   1.400 Msun  T =   nan K  m_ubv_U =  nan\n",
      "M =   1.400 Msun  T =   nan K  m_ubv_U =  nan\n",
      "M =  19.000 Msun  T = 101672 K  m_ubv_U = 20.05\n",
      "M =  15.000 Msun  T = 26270 K  m_ubv_U = 15.93\n",
      "M =   1.400 Msun  T =   nan K  m_ubv_U =  nan\n",
      "M =  20.000 Msun  T = 65184 K  m_ubv_U = 17.26\n",
      "M =   3.162 Msun  T =   nan K  m_ubv_U =  nan\n",
      "M =   3.981 Msun  T =   nan K  m_ubv_U =  nan\n",
      "M =   8.500 Msun  T = 22028 K  m_ubv_U = 18.12\n",
      "M =   9.000 Msun  T = 22647 K  m_ubv_U = 17.93\n",
      "M =   1.400 Msun  T =   nan K  m_ubv_U =  nan\n",
      "M =   1.200 Msun  T =  5987 K  m_ubv_U = 26.20\n",
      "M =  14.000 Msun  T = 26300 K  m_ubv_U = 16.26\n",
      "M =   3.162 Msun  T =   nan K  m_ubv_U =  nan\n",
      "M =   0.900 Msun  T =  6908 K  m_ubv_U = 24.58\n",
      "M =   3.981 Msun  T =   nan K  m_ubv_U =  nan\n",
      "M =   1.400 Msun  T =  6560 K  m_ubv_U = 24.99\n",
      "M =  13.000 Msun  T = 26107 K  m_ubv_U = 16.60\n",
      "Secondaries\n",
      "M =   1.700 Msun  T =  7893 K  m_ubv_U = 23.93\n",
      "M =  11.000 Msun  T = 24743 K  m_ubv_U = 17.22\n",
      "M =   8.400 Msun  T = 23278 K  m_ubv_U = 18.28\n",
      "M =  18.000 Msun  T =  3545 K  m_ubv_U = 18.24\n",
      "M =   1.400 Msun  T =  6571 K  m_ubv_U = 24.98\n",
      "M =   0.700 Msun  T =  4039 K  m_ubv_U = 30.85\n",
      "M =  12.000 Msun  T = 25146 K  m_ubv_U = 16.78\n",
      "M =   4.500 Msun  T = 16036 K  m_ubv_U = 20.17\n",
      "M =   9.000 Msun  T = 24171 K  m_ubv_U = 18.06\n",
      "M =  16.000 Msun  T = 25206 K  m_ubv_U = 15.49\n",
      "M =   0.960 Msun  T =  5540 K  m_ubv_U = 27.23\n",
      "M =  21.000 Msun  T =  3288 K  m_ubv_U = 18.05\n",
      "M =   4.800 Msun  T = 16705 K  m_ubv_U = 19.98\n",
      "M =   6.400 Msun  T = 19911 K  m_ubv_U = 19.12\n",
      "M =   6.400 Msun  T = 19914 K  m_ubv_U = 19.11\n",
      "M =   4.400 Msun  T = 15811 K  m_ubv_U = 20.24\n",
      "M =  12.600 Msun  T = 28070 K  m_ubv_U = 16.85\n",
      "M =   3.200 Msun  T =   nan K  m_ubv_U =  nan\n",
      "M =  14.000 Msun  T = 26173 K  m_ubv_U = 16.19\n",
      "M =  11.200 Msun  T = 26902 K  m_ubv_U = 17.31\n",
      "M =   9.100 Msun  T = 24311 K  m_ubv_U = 18.03\n",
      "M =   0.480 Msun  T =   nan K  m_ubv_U =  nan\n",
      "M =  18.000 Msun  T =  8770 K  m_ubv_U = 13.55\n",
      "M =   4.500 Msun  T = 15386 K  m_ubv_U = 20.11\n",
      "M =   1.900 Msun  T =  8701 K  m_ubv_U = 23.39\n",
      "M =  13.500 Msun  T = 28501 K  m_ubv_U = 16.56\n",
      "M =  20.000 Msun  T = 62008 K  m_ubv_U = 17.06\n",
      "M =  16.000 Msun  T = 27341 K  m_ubv_U = 15.67\n",
      "M =  19.000 Msun  T =  3554 K  m_ubv_U = 18.21\n",
      "M =  10.000 Msun  T = 17119 K  m_ubv_U = 19.32\n",
      "M =   3.400 Msun  T = 13364 K  m_ubv_U = 21.06\n",
      "M =   1.800 Msun  T =  8304 K  m_ubv_U = 23.65\n",
      "M =  20.000 Msun  T = 70920 K  m_ubv_U = 17.60\n",
      "M =   0.840 Msun  T =  4847 K  m_ubv_U = 28.79\n",
      "M =   1.400 Msun  T =  6689 K  m_ubv_U = 25.00\n",
      "M =  17.000 Msun  T = 24319 K  m_ubv_U = 15.16\n",
      "M =   0.630 Msun  T =   nan K  m_ubv_U =  nan\n",
      "M =  13.000 Msun  T = 26170 K  m_ubv_U = 16.58\n",
      "M =   1.120 Msun  T =  5956 K  m_ubv_U = 26.46\n",
      "M =   7.800 Msun  T = 22323 K  m_ubv_U = 18.52\n",
      "Starting filter: ubv,V   Elapsed time: 11.75 seconds\n",
      "Starting synthetic photometry\n",
      "Singles\n",
      "M =   8.000 Msun  T = 21294 K  m_ubv_V = 18.52\n",
      "M =   2.550 Msun  T = 10591 K  m_ubv_V = 21.48\n",
      "Primaries\n",
      "M =   8.500 Msun  T = 21966 K  m_ubv_V = 18.35\n",
      "M =   1.400 Msun  T =   nan K  m_ubv_V =  nan\n",
      "M =  14.000 Msun  T = 26300 K  m_ubv_V = 16.67\n",
      "M =   3.981 Msun  T =   nan K  m_ubv_V =  nan\n",
      "M =   1.400 Msun  T =   nan K  m_ubv_V =  nan\n",
      "M =   1.400 Msun  T =  6559 K  m_ubv_V = 23.64\n",
      "M =   3.162 Msun  T =   nan K  m_ubv_V =  nan\n",
      "M =  15.000 Msun  T = 26270 K  m_ubv_V = 16.35\n",
      "M =  15.000 Msun  T = 26270 K  m_ubv_V = 16.35\n",
      "M =   1.400 Msun  T =   nan K  m_ubv_V =  nan\n",
      "M =   1.200 Msun  T =  5987 K  m_ubv_V = 24.59\n",
      "M =   3.981 Msun  T =   nan K  m_ubv_V =  nan\n",
      "M =  16.000 Msun  T = 24883 K  m_ubv_V = 15.87\n",
      "M =  16.000 Msun  T = 24883 K  m_ubv_V = 15.87\n",
      "M =   8.000 Msun  T = 21305 K  m_ubv_V = 18.51\n",
      "M =  11.000 Msun  T = 24577 K  m_ubv_V = 17.55\n",
      "M =  14.000 Msun  T = 26300 K  m_ubv_V = 16.67\n",
      "M =  16.000 Msun  T = 27959 K  m_ubv_V = 15.74\n",
      "M =   5.012 Msun  T =   nan K  m_ubv_V =  nan\n",
      "M =  14.000 Msun  T = 26300 K  m_ubv_V = 16.67\n",
      "M =  13.000 Msun  T = 26107 K  m_ubv_V = 17.00\n",
      "M =   1.200 Msun  T =  7594 K  m_ubv_V = 22.87\n",
      "M =   1.400 Msun  T =   nan K  m_ubv_V =  nan\n",
      "M =   1.400 Msun  T =   nan K  m_ubv_V =  nan\n",
      "M =  19.000 Msun  T = 101672 K  m_ubv_V = 20.71\n",
      "M =  15.000 Msun  T = 26270 K  m_ubv_V = 16.35\n",
      "M =   1.400 Msun  T =   nan K  m_ubv_V =  nan\n",
      "M =  20.000 Msun  T = 65184 K  m_ubv_V = 17.92\n",
      "M =   3.162 Msun  T =   nan K  m_ubv_V =  nan\n",
      "M =   3.981 Msun  T =   nan K  m_ubv_V =  nan\n",
      "M =   8.500 Msun  T = 22028 K  m_ubv_V = 18.38\n",
      "M =   9.000 Msun  T = 22647 K  m_ubv_V = 18.21\n",
      "M =   1.400 Msun  T =   nan K  m_ubv_V =  nan\n",
      "M =   1.200 Msun  T =  5987 K  m_ubv_V = 24.59\n",
      "M =  14.000 Msun  T = 26300 K  m_ubv_V = 16.67\n",
      "M =   3.162 Msun  T =   nan K  m_ubv_V =  nan\n",
      "M =   0.900 Msun  T =  6908 K  m_ubv_V = 23.33\n",
      "M =   3.981 Msun  T =   nan K  m_ubv_V =  nan\n",
      "M =   1.400 Msun  T =  6560 K  m_ubv_V = 23.64\n",
      "M =  13.000 Msun  T = 26107 K  m_ubv_V = 17.00\n",
      "Secondaries\n",
      "M =   1.700 Msun  T =  7893 K  m_ubv_V = 22.81\n",
      "M =  11.000 Msun  T = 24743 K  m_ubv_V = 17.58\n",
      "M =   8.400 Msun  T = 23278 K  m_ubv_V = 18.58\n",
      "M =  18.000 Msun  T =  3545 K  m_ubv_V = 14.48\n",
      "M =   1.400 Msun  T =  6571 K  m_ubv_V = 23.64\n",
      "M =   0.700 Msun  T =  4039 K  m_ubv_V = 27.66\n",
      "M =  12.000 Msun  T = 25146 K  m_ubv_V = 17.16\n",
      "M =   4.500 Msun  T = 16036 K  m_ubv_V = 20.11\n",
      "M =   9.000 Msun  T = 24171 K  m_ubv_V = 18.39\n",
      "M =  16.000 Msun  T = 25206 K  m_ubv_V = 15.89\n",
      "M =   0.960 Msun  T =  5540 K  m_ubv_V = 25.29\n",
      "M =  21.000 Msun  T =  3288 K  m_ubv_V = 15.29\n",
      "M =   4.800 Msun  T = 16705 K  m_ubv_V = 19.96\n",
      "M =   6.400 Msun  T = 19911 K  m_ubv_V = 19.27\n",
      "M =   6.400 Msun  T = 19914 K  m_ubv_V = 19.27\n",
      "M =   4.400 Msun  T = 15811 K  m_ubv_V = 20.16\n",
      "M =  12.600 Msun  T = 28070 K  m_ubv_V = 17.30\n",
      "M =   3.200 Msun  T =   nan K  m_ubv_V =  nan\n",
      "M =  14.000 Msun  T = 26173 K  m_ubv_V = 16.61\n",
      "M =  11.200 Msun  T = 26902 K  m_ubv_V = 17.72\n",
      "M =   9.100 Msun  T = 24311 K  m_ubv_V = 18.36\n",
      "M =   0.480 Msun  T =   nan K  m_ubv_V =  nan\n",
      "M =  18.000 Msun  T =  8770 K  m_ubv_V = 12.77\n",
      "M =   4.500 Msun  T = 15386 K  m_ubv_V = 20.01\n",
      "M =   1.900 Msun  T =  8701 K  m_ubv_V = 22.38\n",
      "M =  13.500 Msun  T = 28501 K  m_ubv_V = 17.02\n",
      "M =  20.000 Msun  T = 62008 K  m_ubv_V = 17.71\n",
      "M =  16.000 Msun  T = 27341 K  m_ubv_V = 16.13\n",
      "M =  19.000 Msun  T =  3554 K  m_ubv_V = 14.43\n",
      "M =  10.000 Msun  T = 17119 K  m_ubv_V = 19.34\n",
      "M =   3.400 Msun  T = 13364 K  m_ubv_V = 20.79\n",
      "M =   1.800 Msun  T =  8304 K  m_ubv_V = 22.58\n",
      "M =  20.000 Msun  T = 70920 K  m_ubv_V = 18.26\n",
      "M =   0.840 Msun  T =  4847 K  m_ubv_V = 26.18\n",
      "M =   1.400 Msun  T =  6689 K  m_ubv_V = 23.70\n",
      "M =  17.000 Msun  T = 24319 K  m_ubv_V = 15.55\n",
      "M =   0.630 Msun  T =   nan K  m_ubv_V =  nan\n",
      "M =  13.000 Msun  T = 26170 K  m_ubv_V = 16.99\n",
      "M =   1.120 Msun  T =  5956 K  m_ubv_V = 24.83\n",
      "M =   7.800 Msun  T = 22323 K  m_ubv_V = 18.78\n",
      "Starting filter: ubv,B   Elapsed time: 23.27 seconds\n",
      "Starting synthetic photometry\n",
      "Singles\n",
      "M =   8.000 Msun  T = 21294 K  m_ubv_B = 19.12\n",
      "M =   2.550 Msun  T = 10591 K  m_ubv_B = 22.27\n",
      "Primaries\n",
      "M =   8.500 Msun  T = 21966 K  m_ubv_B = 18.93\n",
      "M =   1.400 Msun  T =   nan K  m_ubv_B =  nan\n",
      "M =  14.000 Msun  T = 26300 K  m_ubv_B = 17.22\n",
      "M =   3.981 Msun  T =   nan K  m_ubv_B =  nan\n",
      "M =   1.400 Msun  T =   nan K  m_ubv_B =  nan\n",
      "M =   1.400 Msun  T =  6559 K  m_ubv_B = 25.07\n",
      "M =   3.162 Msun  T =   nan K  m_ubv_B =  nan\n",
      "M =  15.000 Msun  T = 26270 K  m_ubv_B = 16.91\n",
      "M =  15.000 Msun  T = 26270 K  m_ubv_B = 16.91\n",
      "M =   1.400 Msun  T =   nan K  m_ubv_B =  nan\n",
      "M =   1.200 Msun  T =  5987 K  m_ubv_B = 26.22\n",
      "M =   3.981 Msun  T =   nan K  m_ubv_B =  nan\n",
      "M =  16.000 Msun  T = 24883 K  m_ubv_B = 16.43\n",
      "M =  16.000 Msun  T = 24883 K  m_ubv_B = 16.43\n",
      "M =   8.000 Msun  T = 21305 K  m_ubv_B = 19.11\n",
      "M =  11.000 Msun  T = 24577 K  m_ubv_B = 18.12\n",
      "M =  14.000 Msun  T = 26300 K  m_ubv_B = 17.22\n",
      "M =  16.000 Msun  T = 27959 K  m_ubv_B = 16.27\n",
      "M =   5.012 Msun  T =   nan K  m_ubv_B =  nan\n",
      "M =  14.000 Msun  T = 26300 K  m_ubv_B = 17.22\n",
      "M =  13.000 Msun  T = 26107 K  m_ubv_B = 17.56\n",
      "M =   1.200 Msun  T =  7594 K  m_ubv_B = 24.04\n",
      "M =   1.400 Msun  T =   nan K  m_ubv_B =  nan\n",
      "M =   1.400 Msun  T =   nan K  m_ubv_B =  nan\n",
      "M =  19.000 Msun  T = 101672 K  m_ubv_B = 21.17\n",
      "M =  15.000 Msun  T = 26270 K  m_ubv_B = 16.91\n",
      "M =   1.400 Msun  T =   nan K  m_ubv_B =  nan\n",
      "M =  20.000 Msun  T = 65184 K  m_ubv_B = 18.37\n"
     ]
    },
    {
     "name": "stdout",
     "output_type": "stream",
     "text": [
      "M =   3.162 Msun  T =   nan K  m_ubv_B =  nan\n",
      "M =   3.981 Msun  T =   nan K  m_ubv_B =  nan\n",
      "M =   8.500 Msun  T = 22028 K  m_ubv_B = 18.96\n",
      "M =   9.000 Msun  T = 22647 K  m_ubv_B = 18.79\n",
      "M =   1.400 Msun  T =   nan K  m_ubv_B =  nan\n",
      "M =   1.200 Msun  T =  5987 K  m_ubv_B = 26.22\n",
      "M =  14.000 Msun  T = 26300 K  m_ubv_B = 17.22\n",
      "M =   3.162 Msun  T =   nan K  m_ubv_B =  nan\n",
      "M =   0.900 Msun  T =  6908 K  m_ubv_B = 24.66\n",
      "M =   3.981 Msun  T =   nan K  m_ubv_B =  nan\n",
      "M =   1.400 Msun  T =  6560 K  m_ubv_B = 25.07\n",
      "M =  13.000 Msun  T = 26107 K  m_ubv_B = 17.56\n",
      "Secondaries\n",
      "M =   1.700 Msun  T =  7893 K  m_ubv_B = 23.93\n",
      "M =  11.000 Msun  T = 24743 K  m_ubv_B = 18.14\n",
      "M =   8.400 Msun  T = 23278 K  m_ubv_B = 19.16\n",
      "M =  18.000 Msun  T =  3545 K  m_ubv_B = 17.49\n",
      "M =   1.400 Msun  T =  6571 K  m_ubv_B = 25.06\n",
      "M =   0.700 Msun  T =  4039 K  m_ubv_B = 30.18\n",
      "M =  12.000 Msun  T = 25146 K  m_ubv_B = 17.72\n",
      "M =   4.500 Msun  T = 16036 K  m_ubv_B = 20.78\n",
      "M =   9.000 Msun  T = 24171 K  m_ubv_B = 18.96\n",
      "M =  16.000 Msun  T = 25206 K  m_ubv_B = 16.45\n",
      "M =   0.960 Msun  T =  5540 K  m_ubv_B = 27.09\n",
      "M =  21.000 Msun  T =  3288 K  m_ubv_B = 17.87\n",
      "M =   4.800 Msun  T = 16705 K  m_ubv_B = 20.62\n",
      "M =   6.400 Msun  T = 19911 K  m_ubv_B = 19.88\n",
      "M =   6.400 Msun  T = 19914 K  m_ubv_B = 19.88\n",
      "M =   4.400 Msun  T = 15811 K  m_ubv_B = 20.84\n",
      "M =  12.600 Msun  T = 28070 K  m_ubv_B = 17.84\n",
      "M =   3.200 Msun  T =   nan K  m_ubv_B =  nan\n",
      "M =  14.000 Msun  T = 26173 K  m_ubv_B = 17.16\n",
      "M =  11.200 Msun  T = 26902 K  m_ubv_B = 18.27\n",
      "M =   9.100 Msun  T = 24311 K  m_ubv_B = 18.93\n",
      "M =   0.480 Msun  T =   nan K  m_ubv_B =  nan\n",
      "M =  18.000 Msun  T =  8770 K  m_ubv_B = 13.64\n",
      "M =   4.500 Msun  T = 15386 K  m_ubv_B = 20.68\n",
      "M =   1.900 Msun  T =  8701 K  m_ubv_B = 23.35\n",
      "M =  13.500 Msun  T = 28501 K  m_ubv_B = 17.56\n",
      "M =  20.000 Msun  T = 62008 K  m_ubv_B = 18.17\n",
      "M =  16.000 Msun  T = 27341 K  m_ubv_B = 16.67\n",
      "M =  19.000 Msun  T =  3554 K  m_ubv_B = 17.45\n",
      "M =  10.000 Msun  T = 17119 K  m_ubv_B = 19.98\n",
      "M =   3.400 Msun  T = 13364 K  m_ubv_B = 21.50\n",
      "M =   1.800 Msun  T =  8304 K  m_ubv_B = 23.62\n",
      "M =  20.000 Msun  T = 70920 K  m_ubv_B = 18.72\n",
      "M =   0.840 Msun  T =  4847 K  m_ubv_B = 28.26\n",
      "M =   1.400 Msun  T =  6689 K  m_ubv_B = 25.09\n",
      "M =  17.000 Msun  T = 24319 K  m_ubv_B = 16.12\n",
      "M =   0.630 Msun  T =   nan K  m_ubv_B =  nan\n",
      "M =  13.000 Msun  T = 26170 K  m_ubv_B = 17.54\n",
      "M =   1.120 Msun  T =  5956 K  m_ubv_B = 26.47\n",
      "M =   7.800 Msun  T = 22323 K  m_ubv_B = 19.36\n",
      "Starting filter: ubv,R   Elapsed time: 34.73 seconds\n",
      "Starting synthetic photometry\n",
      "Singles\n",
      "M =   8.000 Msun  T = 21294 K  m_ubv_R = 16.01\n",
      "M =   2.550 Msun  T = 10591 K  m_ubv_R = 18.88\n",
      "Primaries\n",
      "M =   8.500 Msun  T = 21966 K  m_ubv_R = 15.84\n",
      "M =   1.400 Msun  T =   nan K  m_ubv_R =  nan\n",
      "M =  14.000 Msun  T = 26300 K  m_ubv_R = 14.18\n",
      "M =   3.981 Msun  T =   nan K  m_ubv_R =  nan\n",
      "M =   1.400 Msun  T =   nan K  m_ubv_R =  nan\n",
      "M =   1.400 Msun  T =  6559 K  m_ubv_R = 20.75\n",
      "M =   3.162 Msun  T =   nan K  m_ubv_R =  nan\n",
      "M =  15.000 Msun  T = 26270 K  m_ubv_R = 13.86\n",
      "M =  15.000 Msun  T = 26270 K  m_ubv_R = 13.86\n",
      "M =   1.400 Msun  T =   nan K  m_ubv_R =  nan\n",
      "M =   1.200 Msun  T =  5987 K  m_ubv_R = 21.63\n",
      "M =   3.981 Msun  T =   nan K  m_ubv_R =  nan\n",
      "M =  16.000 Msun  T = 24883 K  m_ubv_R = 13.37\n",
      "M =  16.000 Msun  T = 24883 K  m_ubv_R = 13.37\n",
      "M =   8.000 Msun  T = 21305 K  m_ubv_R = 16.00\n",
      "M =  11.000 Msun  T = 24577 K  m_ubv_R = 15.05\n",
      "M =  14.000 Msun  T = 26300 K  m_ubv_R = 14.18\n",
      "M =  16.000 Msun  T = 27959 K  m_ubv_R = 13.25\n",
      "M =   5.012 Msun  T =   nan K  m_ubv_R =  nan\n",
      "M =  14.000 Msun  T = 26300 K  m_ubv_R = 14.18\n",
      "M =  13.000 Msun  T = 26107 K  m_ubv_R = 14.51\n",
      "M =   1.200 Msun  T =  7594 K  m_ubv_R = 20.10\n",
      "M =   1.400 Msun  T =   nan K  m_ubv_R =  nan\n",
      "M =   1.400 Msun  T =   nan K  m_ubv_R =  nan\n",
      "M =  19.000 Msun  T = 101672 K  m_ubv_R = 18.24\n",
      "M =  15.000 Msun  T = 26270 K  m_ubv_R = 13.86\n",
      "M =   1.400 Msun  T =   nan K  m_ubv_R =  nan\n",
      "M =  20.000 Msun  T = 65184 K  m_ubv_R = 15.45\n",
      "M =   3.162 Msun  T =   nan K  m_ubv_R =  nan\n",
      "M =   3.981 Msun  T =   nan K  m_ubv_R =  nan\n",
      "M =   8.500 Msun  T = 22028 K  m_ubv_R = 15.87\n",
      "M =   9.000 Msun  T = 22647 K  m_ubv_R = 15.70\n",
      "M =   1.400 Msun  T =   nan K  m_ubv_R =  nan\n",
      "M =   1.200 Msun  T =  5987 K  m_ubv_R = 21.63\n",
      "M =  14.000 Msun  T = 26300 K  m_ubv_R = 14.18\n",
      "M =   3.162 Msun  T =   nan K  m_ubv_R =  nan\n",
      "M =   0.900 Msun  T =  6908 K  m_ubv_R = 20.48\n",
      "M =   3.981 Msun  T =   nan K  m_ubv_R =  nan\n",
      "M =   1.400 Msun  T =  6560 K  m_ubv_R = 20.75\n",
      "M =  13.000 Msun  T = 26107 K  m_ubv_R = 14.51\n",
      "Secondaries\n",
      "M =   1.700 Msun  T =  7893 K  m_ubv_R = 20.07\n",
      "M =  11.000 Msun  T = 24743 K  m_ubv_R = 15.08\n",
      "M =   8.400 Msun  T = 23278 K  m_ubv_R = 16.08\n",
      "M =  18.000 Msun  T =  3545 K  m_ubv_R = 10.66\n",
      "M =   1.400 Msun  T =  6571 K  m_ubv_R = 20.75\n",
      "M =   0.700 Msun  T =  4039 K  m_ubv_R = 24.24\n",
      "M =  12.000 Msun  T = 25146 K  m_ubv_R = 14.66\n",
      "M =   4.500 Msun  T = 16036 K  m_ubv_R = 17.57\n",
      "M =   9.000 Msun  T = 24171 K  m_ubv_R = 15.89\n",
      "M =  16.000 Msun  T = 25206 K  m_ubv_R = 13.39\n",
      "M =   0.960 Msun  T =  5540 K  m_ubv_R = 22.26\n",
      "M =  21.000 Msun  T =  3288 K  m_ubv_R = 10.58\n",
      "M =   4.800 Msun  T = 16705 K  m_ubv_R = 17.42\n",
      "M =   6.400 Msun  T = 19911 K  m_ubv_R = 16.75\n",
      "M =   6.400 Msun  T = 19914 K  m_ubv_R = 16.75\n",
      "M =   4.400 Msun  T = 15811 K  m_ubv_R = 17.62\n",
      "M =  12.600 Msun  T = 28070 K  m_ubv_R = 14.82\n",
      "M =   3.200 Msun  T =   nan K  m_ubv_R =  nan\n",
      "M =  14.000 Msun  T = 26173 K  m_ubv_R = 14.11\n",
      "M =  11.200 Msun  T = 26902 K  m_ubv_R = 15.24\n",
      "M =   9.100 Msun  T = 24311 K  m_ubv_R = 15.87\n",
      "M =   0.480 Msun  T =   nan K  m_ubv_R =  nan\n",
      "M =  18.000 Msun  T =  8770 K  m_ubv_R = 10.11\n",
      "M =   4.500 Msun  T = 15386 K  m_ubv_R = 17.46\n",
      "M =   1.900 Msun  T =  8701 K  m_ubv_R = 19.72\n",
      "M =  13.500 Msun  T = 28501 K  m_ubv_R = 14.54\n",
      "M =  20.000 Msun  T = 62008 K  m_ubv_R = 15.25\n",
      "M =  16.000 Msun  T = 27341 K  m_ubv_R = 13.64\n",
      "M =  19.000 Msun  T =  3554 K  m_ubv_R = 10.63\n",
      "M =  10.000 Msun  T = 17119 K  m_ubv_R = 16.80\n",
      "M =   3.400 Msun  T = 13364 K  m_ubv_R = 18.22\n",
      "M =   1.800 Msun  T =  8304 K  m_ubv_R = 19.88\n",
      "M =  20.000 Msun  T = 70920 K  m_ubv_R = 15.79\n",
      "M =   0.840 Msun  T =  4847 K  m_ubv_R = 23.03\n",
      "M =   1.400 Msun  T =  6689 K  m_ubv_R = 20.82\n",
      "M =  17.000 Msun  T = 24319 K  m_ubv_R = 13.04\n",
      "M =   0.630 Msun  T =   nan K  m_ubv_R =  nan\n",
      "M =  13.000 Msun  T = 26170 K  m_ubv_R = 14.49\n",
      "M =   1.120 Msun  T =  5956 K  m_ubv_R = 21.87\n",
      "M =   7.800 Msun  T = 22323 K  m_ubv_R = 16.27\n",
      "Starting filter: ubv,I   Elapsed time: 45.81 seconds\n",
      "Starting synthetic photometry\n",
      "Singles\n",
      "M =   8.000 Msun  T = 21294 K  m_ubv_I = 12.68\n",
      "M =   2.550 Msun  T = 10591 K  m_ubv_I = 15.38\n",
      "Primaries\n",
      "M =   8.500 Msun  T = 21966 K  m_ubv_I = 12.52\n",
      "M =   1.400 Msun  T =   nan K  m_ubv_I =  nan\n",
      "M =  14.000 Msun  T = 26300 K  m_ubv_I = 10.89\n",
      "M =   3.981 Msun  T =   nan K  m_ubv_I =  nan\n",
      "M =   1.400 Msun  T =   nan K  m_ubv_I =  nan\n",
      "M =   1.400 Msun  T =  6559 K  m_ubv_I = 17.00\n",
      "M =   3.162 Msun  T =   nan K  m_ubv_I =  nan\n",
      "M =  15.000 Msun  T = 26270 K  m_ubv_I = 10.57\n",
      "M =  15.000 Msun  T = 26270 K  m_ubv_I = 10.57\n",
      "M =   1.400 Msun  T =   nan K  m_ubv_I =  nan\n",
      "M =   1.200 Msun  T =  5987 K  m_ubv_I = 17.81\n",
      "M =   3.981 Msun  T =   nan K  m_ubv_I =  nan\n",
      "M =  16.000 Msun  T = 24883 K  m_ubv_I = 10.07\n",
      "M =  16.000 Msun  T = 24883 K  m_ubv_I = 10.07\n",
      "M =   8.000 Msun  T = 21305 K  m_ubv_I = 12.68\n",
      "M =  11.000 Msun  T = 24577 K  m_ubv_I = 11.75\n",
      "M =  14.000 Msun  T = 26300 K  m_ubv_I = 10.89\n",
      "M =  16.000 Msun  T = 27959 K  m_ubv_I = 9.97\n",
      "M =   5.012 Msun  T =   nan K  m_ubv_I =  nan\n",
      "M =  14.000 Msun  T = 26300 K  m_ubv_I = 10.89\n",
      "M =  13.000 Msun  T = 26107 K  m_ubv_I = 11.22\n",
      "M =   1.200 Msun  T =  7594 K  m_ubv_I = 16.45\n",
      "M =   1.400 Msun  T =   nan K  m_ubv_I =  nan\n",
      "M =   1.400 Msun  T =   nan K  m_ubv_I =  nan\n",
      "M =  19.000 Msun  T = 101672 K  m_ubv_I = 15.01\n",
      "M =  15.000 Msun  T = 26270 K  m_ubv_I = 10.57\n",
      "M =   1.400 Msun  T =   nan K  m_ubv_I =  nan\n",
      "M =  20.000 Msun  T = 65184 K  m_ubv_I = 12.22\n",
      "M =   3.162 Msun  T =   nan K  m_ubv_I =  nan\n",
      "M =   3.981 Msun  T =   nan K  m_ubv_I =  nan\n",
      "M =   8.500 Msun  T = 22028 K  m_ubv_I = 12.55\n",
      "M =   9.000 Msun  T = 22647 K  m_ubv_I = 12.39\n",
      "M =   1.400 Msun  T =   nan K  m_ubv_I =  nan\n",
      "M =   1.200 Msun  T =  5987 K  m_ubv_I = 17.81\n",
      "M =  14.000 Msun  T = 26300 K  m_ubv_I = 10.89\n"
     ]
    },
    {
     "name": "stdout",
     "output_type": "stream",
     "text": [
      "M =   3.162 Msun  T =   nan K  m_ubv_I =  nan\n",
      "M =   0.900 Msun  T =  6908 K  m_ubv_I = 16.77\n",
      "M =   3.981 Msun  T =   nan K  m_ubv_I =  nan\n",
      "M =   1.400 Msun  T =  6560 K  m_ubv_I = 17.00\n",
      "M =  13.000 Msun  T = 26107 K  m_ubv_I = 11.22\n",
      "Secondaries\n",
      "M =   1.700 Msun  T =  7893 K  m_ubv_I = 16.45\n",
      "M =  11.000 Msun  T = 24743 K  m_ubv_I = 11.78\n",
      "M =   8.400 Msun  T = 23278 K  m_ubv_I = 12.77\n",
      "M =  18.000 Msun  T =  3545 K  m_ubv_I = 5.92\n",
      "M =   1.400 Msun  T =  6571 K  m_ubv_I = 17.00\n",
      "M =   0.700 Msun  T =  4039 K  m_ubv_I = 19.95\n",
      "M =  12.000 Msun  T = 25146 K  m_ubv_I = 11.37\n",
      "M =   4.500 Msun  T = 16036 K  m_ubv_I = 14.18\n",
      "M =   9.000 Msun  T = 24171 K  m_ubv_I = 12.59\n",
      "M =  16.000 Msun  T = 25206 K  m_ubv_I = 10.10\n",
      "M =   0.960 Msun  T =  5540 K  m_ubv_I = 18.39\n",
      "M =  21.000 Msun  T =  3288 K  m_ubv_I = 5.20\n",
      "M =   4.800 Msun  T = 16705 K  m_ubv_I = 14.04\n",
      "M =   6.400 Msun  T = 19911 K  m_ubv_I = 13.41\n",
      "M =   6.400 Msun  T = 19914 K  m_ubv_I = 13.41\n",
      "M =   4.400 Msun  T = 15811 K  m_ubv_I = 14.23\n",
      "M =  12.600 Msun  T = 28070 K  m_ubv_I = 11.54\n",
      "M =   3.200 Msun  T =   nan K  m_ubv_I =  nan\n",
      "M =  14.000 Msun  T = 26173 K  m_ubv_I = 10.82\n",
      "M =  11.200 Msun  T = 26902 K  m_ubv_I = 11.95\n",
      "M =   9.100 Msun  T = 24311 K  m_ubv_I = 12.56\n",
      "M =   0.480 Msun  T =   nan K  m_ubv_I =  nan\n",
      "M =  18.000 Msun  T =  8770 K  m_ubv_I = 6.51\n",
      "M =   4.500 Msun  T = 15386 K  m_ubv_I = 14.06\n",
      "M =   1.900 Msun  T =  8701 K  m_ubv_I = 16.14\n",
      "M =  13.500 Msun  T = 28501 K  m_ubv_I = 11.27\n",
      "M =  20.000 Msun  T = 62008 K  m_ubv_I = 12.02\n",
      "M =  16.000 Msun  T = 27341 K  m_ubv_I = 10.36\n",
      "M =  19.000 Msun  T =  3554 K  m_ubv_I = 5.91\n",
      "M =  10.000 Msun  T = 17119 K  m_ubv_I = 13.43\n",
      "M =   3.400 Msun  T = 13364 K  m_ubv_I = 14.79\n",
      "M =   1.800 Msun  T =  8304 K  m_ubv_I = 16.28\n",
      "M =  20.000 Msun  T = 70920 K  m_ubv_I = 12.56\n",
      "M =   0.840 Msun  T =  4847 K  m_ubv_I = 19.02\n",
      "M =   1.400 Msun  T =  6689 K  m_ubv_I = 17.09\n",
      "M =  17.000 Msun  T = 24319 K  m_ubv_I = 9.74\n",
      "M =   0.630 Msun  T =   nan K  m_ubv_I =  nan\n",
      "M =  13.000 Msun  T = 26170 K  m_ubv_I = 11.20\n",
      "M =   1.120 Msun  T =  5956 K  m_ubv_I = 18.05\n",
      "M =   7.800 Msun  T = 22323 K  m_ubv_I = 12.95\n",
      "      Time taken: 56.96 seconds\n",
      "Isochrone generation took 532.349331 s.\n"
     ]
    }
   ],
   "source": [
    "import spisea\n",
    "from spisea import evolution, synthetic\n",
    "import math\n",
    "# Check if the evolution class works fine\n",
    "import time\n",
    "t1=time.time()\n",
    "bps=evolution.BPASS()\n",
    "iso1=synthetic.Isochrone_Binary(7.0, 0.7, 1000,math.log10(1), mass_sampling=1, filepath='/g/lu/scratch/ryotainagaki/BPASS_iso_filesTimedIsolated/')"
   ]
  },
  {
   "cell_type": "markdown",
   "metadata": {},
   "source": [
    "For a sanity check, we can see that the primaries, secondaries, and single stars have phasees of 5 or of 101 or of 110. Note that we will have a phase of 110 in order to indicate a mystery compact remnant that BPASS provides for NEWSECMODS (secondary star models with compact primaries). This is since we haven't added neutron stars or black holes yet. Stars with phase of -99 exist, and those are the secondary stars that have already merged. Secondary stars that have merged with their primaries have designation of phase -99."
   ]
  },
  {
   "cell_type": "code",
   "execution_count": 2,
   "metadata": {},
   "outputs": [
    {
     "data": {
      "text/plain": [
       "True"
      ]
     },
     "execution_count": 2,
     "metadata": {},
     "output_type": "execute_result"
    }
   ],
   "source": [
    "import numpy as np\n",
    "np.all([(x==5 or x==101 or x==110) for x in iso1.primaries['phase']])"
   ]
  },
  {
   "cell_type": "code",
   "execution_count": 3,
   "metadata": {},
   "outputs": [
    {
     "data": {
      "text/plain": [
       "True"
      ]
     },
     "execution_count": 3,
     "metadata": {},
     "output_type": "execute_result"
    }
   ],
   "source": [
    "np.all([(x==5 or x==101 or x==110) for x in iso1.singles['phase']])"
   ]
  },
  {
   "cell_type": "code",
   "execution_count": 4,
   "metadata": {},
   "outputs": [
    {
     "data": {
      "text/plain": [
       "True"
      ]
     },
     "execution_count": 4,
     "metadata": {},
     "output_type": "execute_result"
    }
   ],
   "source": [
    "np.all([(x==5 or x==101 or x==-99) for x in iso1.secondaries['phase']])"
   ]
  },
  {
   "cell_type": "markdown",
   "metadata": {},
   "source": [
    "Find the maximum, mean, and median  values of logg (cgs) for primaries and secondaries accounting for NaNs in the columns. (For max we make NaNs the same as - infinity and for median and mean, we do not include them)"
   ]
  },
  {
   "cell_type": "code",
   "execution_count": 5,
   "metadata": {},
   "outputs": [
    {
     "data": {
      "text/plain": [
       "4.591806913365015"
      ]
     },
     "execution_count": 5,
     "metadata": {},
     "output_type": "execute_result"
    }
   ],
   "source": [
    "np.max(iso1.singles['logg'])"
   ]
  },
  {
   "cell_type": "code",
   "execution_count": 6,
   "metadata": {},
   "outputs": [
    {
     "data": {
      "text/plain": [
       "5.898517399939001"
      ]
     },
     "execution_count": 6,
     "metadata": {},
     "output_type": "execute_result"
    }
   ],
   "source": [
    "np.max(np.nan_to_num(iso1.primaries['logg'], -np.inf))"
   ]
  },
  {
   "cell_type": "code",
   "execution_count": 7,
   "metadata": {},
   "outputs": [
    {
     "data": {
      "text/plain": [
       "5.7676806790772"
      ]
     },
     "execution_count": 7,
     "metadata": {},
     "output_type": "execute_result"
    }
   ],
   "source": [
    "np.max(np.nan_to_num(iso1.secondaries['logg'], -np.inf))"
   ]
  },
  {
   "cell_type": "code",
   "execution_count": 8,
   "metadata": {},
   "outputs": [
    {
     "data": {
      "text/plain": [
       "4.178243141326868"
      ]
     },
     "execution_count": 8,
     "metadata": {},
     "output_type": "execute_result"
    }
   ],
   "source": [
    "np.mean(iso1.singles['logg'][np.where(~np.isnan(iso1.singles['logg']))])"
   ]
  },
  {
   "cell_type": "code",
   "execution_count": 9,
   "metadata": {},
   "outputs": [
    {
     "data": {
      "text/plain": [
       "4.024477317485913"
      ]
     },
     "execution_count": 9,
     "metadata": {},
     "output_type": "execute_result"
    }
   ],
   "source": [
    "np.mean(iso1.primaries['logg'][np.where(~np.isnan(iso1.primaries['logg']))])"
   ]
  },
  {
   "cell_type": "code",
   "execution_count": 10,
   "metadata": {},
   "outputs": [
    {
     "data": {
      "text/plain": [
       "3.96292885544605"
      ]
     },
     "execution_count": 10,
     "metadata": {},
     "output_type": "execute_result"
    }
   ],
   "source": [
    "np.mean(iso1.secondaries['logg'][np.where(~np.isnan(iso1.secondaries['logg']))])"
   ]
  },
  {
   "cell_type": "code",
   "execution_count": 11,
   "metadata": {},
   "outputs": [
    {
     "data": {
      "text/plain": [
       "4.194452095013302"
      ]
     },
     "execution_count": 11,
     "metadata": {},
     "output_type": "execute_result"
    }
   ],
   "source": [
    "np.median(iso1.singles['logg'][np.where(~np.isnan(iso1.singles['logg']))])"
   ]
  },
  {
   "cell_type": "code",
   "execution_count": 12,
   "metadata": {},
   "outputs": [
    {
     "data": {
      "text/plain": [
       "3.963068092288352"
      ]
     },
     "execution_count": 12,
     "metadata": {},
     "output_type": "execute_result"
    }
   ],
   "source": [
    "np.median(iso1.primaries['logg'][np.where(~np.isnan(iso1.primaries['logg']))])"
   ]
  },
  {
   "cell_type": "code",
   "execution_count": 13,
   "metadata": {},
   "outputs": [
    {
     "name": "stderr",
     "output_type": "stream",
     "text": [
      "/opt/anaconda3/envs/astroconda/lib/python3.7/site-packages/ipykernel_launcher.py:1: FutureWarning: Using a non-tuple sequence for multidimensional indexing is deprecated; use `arr[tuple(seq)]` instead of `arr[seq]`. In the future this will be interpreted as an array index, `arr[np.array(seq)]`, which will result either in an error or a different result.\n",
      "  \"\"\"Entry point for launching an IPython kernel.\n"
     ]
    },
    {
     "data": {
      "text/plain": [
       "4.239978886358815"
      ]
     },
     "execution_count": 13,
     "metadata": {},
     "output_type": "execute_result"
    }
   ],
   "source": [
    "np.median(iso1.secondaries['logg'][[np.where(~np.isnan(iso1.secondaries['logg']))]])"
   ]
  },
  {
   "cell_type": "code",
   "execution_count": 14,
   "metadata": {},
   "outputs": [
    {
     "data": {
      "text/plain": [
       "Text(0.5, 0, 'logg in cgs')"
      ]
     },
     "execution_count": 14,
     "metadata": {},
     "output_type": "execute_result"
    },
    {
     "data": {
      "image/png": "[encoded data removed]",
      "text/plain": [
       "<Figure size 432x288 with 1 Axes>"
      ]
     },
     "metadata": {
      "needs_background": "light"
     },
     "output_type": "display_data"
    }
   ],
   "source": [
    "import matplotlib.pyplot as plt\n",
    "plt.title(\"Distribution of logg values (secondaries) of isochrone\")\n",
    "plt.hist(np.array([x for x in iso1.secondaries['logg'] if np.isfinite(x)]), np.arange(0, 30, 1))\n",
    "plt.xlabel(\"logg in cgs\")"
   ]
  },
  {
   "cell_type": "code",
   "execution_count": 15,
   "metadata": {},
   "outputs": [
    {
     "data": {
      "text/plain": [
       "Text(0.5, 0, 'logg in cgs')"
      ]
     },
     "execution_count": 15,
     "metadata": {},
     "output_type": "execute_result"
    },
    {
     "data": {
      "image/png": "[encoded data removed]",
      "text/plain": [
       "<Figure size 432x288 with 1 Axes>"
      ]
     },
     "metadata": {
      "needs_background": "light"
     },
     "output_type": "display_data"
    }
   ],
   "source": [
    "import matplotlib.pyplot as plt\n",
    "plt.title(\"Distribution of logg values (primaries) of isochrone\")\n",
    "plt.hist(np.array([x for x in iso1.primaries['logg'] if np.isfinite(x)]), np.arange(0, 30, 1))\n",
    "plt.xlabel(\"logg in cgs\")"
   ]
  },
  {
   "cell_type": "code",
   "execution_count": 16,
   "metadata": {},
   "outputs": [
    {
     "data": {
      "text/plain": [
       "Text(0.5, 0, 'logg in cgs')"
      ]
     },
     "execution_count": 16,
     "metadata": {},
     "output_type": "execute_result"
    },
    {
     "data": {
      "image/png": "[encoded data removed]",
      "text/plain": [
       "<Figure size 432x288 with 1 Axes>"
      ]
     },
     "metadata": {
      "needs_background": "light"
     },
     "output_type": "display_data"
    }
   ],
   "source": [
    "import matplotlib.pyplot as plt\n",
    "plt.title(\"Distribution of logg values single stars of isochrone\")\n",
    "plt.hist(np.array([x for x in iso1.singles['logg'] if np.isfinite(x)]), np.arange(0, 30, 1))\n",
    "plt.xlabel(\"logg in cgs\")"
   ]
  },
  {
   "cell_type": "markdown",
   "metadata": {},
   "source": [
    "Now, for comparison, I will create a MISTv.1 isochrone of the same metallicity, age, distance from earth, and AKs."
   ]
  },
  {
   "cell_type": "code",
   "execution_count": 17,
   "metadata": {},
   "outputs": [
    {
     "name": "stdout",
     "output_type": "stream",
     "text": [
      "Changing to logg=3.50 for T= 26068 logg=3.41\n",
      "Changing to logg=3.50 for T= 26167 logg=3.41\n",
      "Changing to logg=3.50 for T= 26263 logg=3.42\n",
      "Changing to logg=3.50 for T= 26355 logg=3.42\n",
      "Changing to logg=3.50 for T= 26443 logg=3.42\n",
      "Changing to logg=3.50 for T= 26528 logg=3.43\n",
      "Changing to logg=3.50 for T= 26609 logg=3.43\n",
      "Changing to logg=3.50 for T= 26685 logg=3.43\n",
      "Changing to logg=3.50 for T= 26758 logg=3.43\n",
      "Changing to logg=3.50 for T= 26826 logg=3.44\n",
      "Changing to logg=3.50 for T= 26889 logg=3.44\n",
      "Changing to logg=3.50 for T= 26943 logg=3.44\n",
      "Changing to logg=3.50 for T= 26985 logg=3.44\n",
      "Changing to logg=3.50 for T= 27008 logg=3.45\n",
      "Changing to logg=3.50 for T= 27006 logg=3.45\n",
      "Changing to logg=3.50 for T= 26955 logg=3.45\n",
      "Changing to logg=3.50 for T= 26861 logg=3.44\n",
      "Changing to logg=3.50 for T= 26740 logg=3.44\n",
      "Changing to logg=3.50 for T= 26600 logg=3.44\n",
      "Changing to logg=3.50 for T= 26446 logg=3.43\n",
      "Changing to logg=3.50 for T= 26289 logg=3.42\n",
      "Changing to logg=3.50 for T= 26128 logg=3.41\n",
      "Changing to logg=3.00 for T= 21082 logg=2.99\n",
      "Changing to logg=3.00 for T= 20939 logg=2.98\n",
      "Changing to logg=3.00 for T= 20797 logg=2.97\n",
      "Changing to logg=3.00 for T= 20655 logg=2.96\n",
      "Changing to logg=3.00 for T= 20513 logg=2.94\n",
      "Changing to logg=3.00 for T= 20372 logg=2.93\n",
      "Changing to logg=3.00 for T= 20231 logg=2.92\n",
      "Changing to logg=3.00 for T= 20091 logg=2.91\n",
      "Changing to logg=3.00 for T= 19951 logg=2.90\n",
      "Changing to logg=3.00 for T= 19813 logg=2.88\n",
      "Changing to logg=3.00 for T= 19675 logg=2.87\n",
      "Changing to logg=3.00 for T= 19538 logg=2.86\n",
      "Changing to logg=3.00 for T= 19401 logg=2.85\n",
      "Changing to logg=3.00 for T= 19265 logg=2.83\n",
      "Changing to logg=3.00 for T= 19131 logg=2.82\n",
      "Changing to logg=2.50 for T= 15896 logg=2.49\n",
      "Changing to logg=2.50 for T= 15781 logg=2.48\n",
      "Changing to logg=2.50 for T= 15667 logg=2.47\n",
      "Changing to logg=2.50 for T= 15554 logg=2.46\n",
      "Changing to logg=2.50 for T= 15442 logg=2.44\n",
      "Changing to logg=2.50 for T= 15330 logg=2.43\n",
      "Changing to logg=2.50 for T= 15219 logg=2.42\n",
      "Changing to logg=2.50 for T= 15109 logg=2.40\n",
      "Changing to logg=2.50 for T= 14999 logg=2.39\n",
      "Changing to logg=2.50 for T= 14891 logg=2.38\n",
      "Changing to logg=2.50 for T= 14782 logg=2.37\n",
      "Changing to logg=2.50 for T= 14675 logg=2.35\n",
      "Changing to logg=2.50 for T= 14569 logg=2.34\n",
      "Changing to logg=2.50 for T= 14463 logg=2.33\n",
      "Changing to logg=2.50 for T= 14358 logg=2.31\n",
      "Changing to logg=2.50 for T= 14254 logg=2.30\n",
      "Changing to logg=2.50 for T= 14150 logg=2.29\n",
      "Changing to logg=2.50 for T= 14048 logg=2.27\n",
      "Changing to logg=2.50 for T= 13946 logg=2.26\n",
      "Changing to logg=2.50 for T= 13844 logg=2.25\n",
      "Changing to logg=2.50 for T= 13744 logg=2.23\n",
      "Changing to logg=2.50 for T= 13644 logg=2.22\n",
      "Changing to logg=2.50 for T= 13545 logg=2.21\n",
      "Changing to logg=2.50 for T= 13447 logg=2.19\n",
      "Changing to logg=2.50 for T= 13350 logg=2.18\n",
      "Changing to logg=2.50 for T= 13253 logg=2.17\n",
      "Changing to logg=2.50 for T= 13157 logg=2.16\n",
      "Changing to logg=2.50 for T= 13061 logg=2.14\n",
      "Changing to logg=2.50 for T= 12967 logg=2.13\n",
      "Changing to logg=2.50 for T= 12873 logg=2.12\n",
      "Changing to logg=2.50 for T= 12779 logg=2.10\n",
      "Changing to logg=2.50 for T= 12687 logg=2.09\n",
      "Changing to logg=2.50 for T= 12595 logg=2.08\n",
      "Changing to logg=2.50 for T= 12504 logg=2.06\n",
      "Changing to logg=2.50 for T= 12413 logg=2.05\n",
      "Changing to logg=2.50 for T= 12323 logg=2.04\n",
      "Changing to logg=2.50 for T= 12234 logg=2.02\n",
      "Changing to logg=2.50 for T= 12145 logg=2.01\n",
      "Changing to logg=2.50 for T= 12058 logg=2.00\n",
      "Changing to logg=2.50 for T= 11970 logg=1.98\n",
      "Changing to logg=2.50 for T= 11884 logg=1.97\n",
      "Changing to logg=2.50 for T= 11798 logg=1.96\n",
      "Changing to logg=2.00 for T= 11712 logg=1.94\n",
      "Changing to logg=2.00 for T= 11628 logg=1.93\n",
      "Changing to logg=2.00 for T= 11543 logg=1.92\n",
      "Changing to logg=2.00 for T= 11460 logg=1.90\n",
      "Changing to logg=2.00 for T= 11377 logg=1.89\n",
      "Changing to logg=2.00 for T= 11295 logg=1.88\n",
      "Changing to logg=2.00 for T= 11213 logg=1.86\n",
      "Changing to logg=2.00 for T= 11132 logg=1.85\n",
      "Changing to logg=2.00 for T= 11052 logg=1.84\n",
      "Changing to logg=2.00 for T= 10972 logg=1.82\n",
      "Changing to logg=2.00 for T= 10893 logg=1.81\n",
      "Changing to logg=2.00 for T= 10814 logg=1.80\n",
      "Changing to logg=2.00 for T= 10736 logg=1.78\n",
      "Changing to logg=2.00 for T= 10658 logg=1.77\n",
      "Changing to logg=2.00 for T= 10582 logg=1.76\n",
      "Changing to logg=2.00 for T= 10505 logg=1.74\n",
      "Changing to logg=2.00 for T= 10429 logg=1.73\n",
      "Changing to logg=2.00 for T= 10354 logg=1.72\n",
      "Changing to logg=2.00 for T= 10280 logg=1.71\n",
      "Changing to logg=2.00 for T= 10206 logg=1.69\n",
      "Changing to logg=2.00 for T= 10132 logg=1.68\n",
      "Changing to logg=2.00 for T= 10059 logg=1.67\n",
      "Changing to logg=2.00 for T=  9987 logg=1.65\n",
      "Changing to logg=2.00 for T=  9915 logg=1.64\n",
      "Changing to logg=2.00 for T=  9844 logg=1.63\n",
      "Changing to logg=2.00 for T=  9773 logg=1.61\n",
      "Changing to logg=2.00 for T=  9703 logg=1.60\n",
      "Changing to logg=2.00 for T=  9634 logg=1.59\n",
      "Changing to logg=2.00 for T=  9565 logg=1.58\n",
      "Changing to logg=2.00 for T=  9496 logg=1.56\n",
      "Changing to logg=2.00 for T=  9359 logg=1.54\n",
      "Changing to logg=2.00 for T=  9225 logg=1.51\n",
      "Changing to logg=2.00 for T=  9093 logg=1.49\n",
      "Changing to logg=1.50 for T=  8963 logg=1.46\n",
      "Changing to logg=1.50 for T=  8836 logg=1.44\n",
      "Changing to logg=1.50 for T=  8711 logg=1.41\n",
      "Changing to logg=1.50 for T=  8589 logg=1.39\n",
      "Changing to logg=1.50 for T=  8468 logg=1.36\n",
      "Changing to logg=1.50 for T=  8350 logg=1.34\n",
      "Isochrone generation took 40.174310 s.\n",
      "Making photometry for isochrone: log(t) = 7.00  AKs = 0.70  dist = 1000\n",
      "     Starting at:  2021-01-04 10:20:32.553565   Usually takes ~5 minutes\n",
      "Starting filter: ubv,U   Elapsed time: 0.00 seconds\n",
      "Starting synthetic photometry\n",
      "M =   0.112 Msun  T =  3025 K  m_ubv_U = 34.86\n",
      "M =   2.350 Msun  T = 10414 K  m_ubv_U = 22.42\n",
      "M =   9.793 Msun  T = 24007 K  m_ubv_U = 17.72\n",
      "M =  17.853 Msun  T = 25534 K  m_ubv_U = 15.06\n",
      "M =  17.889 Msun  T = 15781 K  m_ubv_U = 14.07\n",
      "M =  17.971 Msun  T =  6489 K  m_ubv_U = 14.12\n",
      "Starting filter: ubv,B   Elapsed time: 1.08 seconds\n",
      "Starting synthetic photometry\n",
      "M =   0.112 Msun  T =  3025 K  m_ubv_B = 34.64\n",
      "M =   2.350 Msun  T = 10414 K  m_ubv_B = 22.53\n",
      "M =   9.793 Msun  T = 24007 K  m_ubv_B = 18.62\n",
      "M =  17.853 Msun  T = 25534 K  m_ubv_B = 16.04\n",
      "M =  17.889 Msun  T = 15781 K  m_ubv_B = 14.79\n",
      "M =  17.971 Msun  T =  6489 K  m_ubv_B = 13.83\n",
      "Starting filter: ubv,V   Elapsed time: 2.10 seconds\n",
      "Starting synthetic photometry\n",
      "M =   0.112 Msun  T =  3025 K  m_ubv_V = 32.65\n",
      "M =   2.350 Msun  T = 10414 K  m_ubv_V = 21.73\n",
      "M =   9.793 Msun  T = 24007 K  m_ubv_V = 18.05\n",
      "M =  17.853 Msun  T = 25534 K  m_ubv_V = 15.48\n",
      "M =  17.889 Msun  T = 15781 K  m_ubv_V = 14.12\n",
      "M =  17.971 Msun  T =  6489 K  m_ubv_V = 12.51\n",
      "Starting filter: ubv,R   Elapsed time: 3.12 seconds\n",
      "Starting synthetic photometry\n",
      "M =   0.112 Msun  T =  3025 K  m_ubv_R = 27.85\n",
      "M =   2.350 Msun  T = 10414 K  m_ubv_R = 19.13\n",
      "M =   9.793 Msun  T = 24007 K  m_ubv_R = 15.55\n",
      "M =  17.853 Msun  T = 25534 K  m_ubv_R = 12.98\n",
      "M =  17.889 Msun  T = 15781 K  m_ubv_R = 11.56\n",
      "M =  17.971 Msun  T =  6489 K  m_ubv_R = 9.66\n",
      "Starting filter: ubv,I   Elapsed time: 4.10 seconds\n",
      "Starting synthetic photometry\n",
      "M =   0.112 Msun  T =  3025 K  m_ubv_I = 22.49\n",
      "M =   2.350 Msun  T = 10414 K  m_ubv_I = 15.62\n",
      "M =   9.793 Msun  T = 24007 K  m_ubv_I = 12.24\n",
      "M =  17.853 Msun  T = 25534 K  m_ubv_I = 9.69\n",
      "M =  17.889 Msun  T = 15781 K  m_ubv_I = 8.17\n",
      "M =  17.971 Msun  T =  6489 K  m_ubv_I = 5.88\n",
      "      Time taken: 5.08 seconds\n"
     ]
    }
   ],
   "source": [
    "iso2=synthetic.IsochronePhot(7.0, 0.7, 1000, math.log(1), recomp=True) # New MIST v.1 isochrone for same metallicity"
   ]
  },
  {
   "cell_type": "markdown",
   "metadata": {},
   "source": [
    "Finding the max, median, and mean of the MISTv.1 isochrone's logg values"
   ]
  },
  {
   "cell_type": "code",
   "execution_count": 18,
   "metadata": {},
   "outputs": [
    {
     "data": {
      "text/plain": [
       "4.3301956912058674"
      ]
     },
     "execution_count": 18,
     "metadata": {},
     "output_type": "execute_result"
    }
   ],
   "source": [
    "np.max(iso2.points['logg'])"
   ]
  },
  {
   "cell_type": "code",
   "execution_count": 19,
   "metadata": {},
   "outputs": [
    {
     "data": {
      "text/plain": [
       "(array([ 60.,  57.,  78., 149., 210.,   0.,   0.,   0.,   0.,   0.,   0.,\n",
       "          0.,   0.,   0.,   0.,   0.,   0.,   0.,   0.,   0.,   0.,   0.,\n",
       "          0.,   0.,   0.,   0.,   0.,   0.,   0.]),\n",
       " array([ 0,  1,  2,  3,  4,  5,  6,  7,  8,  9, 10, 11, 12, 13, 14, 15, 16,\n",
       "        17, 18, 19, 20, 21, 22, 23, 24, 25, 26, 27, 28, 29]),\n",
       " <a list of 29 Patch objects>)"
      ]
     },
     "execution_count": 19,
     "metadata": {},
     "output_type": "execute_result"
    },
    {
     "data": {
      "image/png": "[encoded data removed]",
      "text/plain": [
       "<Figure size 432x288 with 1 Axes>"
      ]
     },
     "metadata": {
      "needs_background": "light"
     },
     "output_type": "display_data"
    }
   ],
   "source": [
    "import matplotlib.pyplot as plt\n",
    "plt.xlabel(\"logg in cgs\")\n",
    "plt.title(\"Histogram of logg values of stars in the MIST v1 isochrone\")\n",
    "plt.hist(np.array([x for x in iso2.points['logg'] if np.isfinite(x)]), np.arange(0, 30, 1))"
   ]
  },
  {
   "cell_type": "code",
   "execution_count": 20,
   "metadata": {},
   "outputs": [
    {
     "data": {
      "text/plain": [
       "3.44315451781853"
      ]
     },
     "execution_count": 20,
     "metadata": {},
     "output_type": "execute_result"
    }
   ],
   "source": [
    "np.median(iso2.points['logg'])"
   ]
  },
  {
   "cell_type": "code",
   "execution_count": 21,
   "metadata": {},
   "outputs": [
    {
     "data": {
      "text/plain": [
       "3.1148461826295915"
      ]
     },
     "execution_count": 21,
     "metadata": {},
     "output_type": "execute_result"
    }
   ],
   "source": [
    "np.mean(iso2.points['logg'])"
   ]
  },
  {
   "cell_type": "code",
   "execution_count": 22,
   "metadata": {},
   "outputs": [],
   "source": [
    "from spisea import imf\n",
    "from spisea.imf import imf, multiplicity\n",
    "from spisea import ifmr\n"
   ]
  },
  {
   "cell_type": "markdown",
   "metadata": {},
   "source": [
    "Make the clusters corresponding to the binary star isochrone and the MISTv.1 isochrone"
   ]
  },
  {
   "cell_type": "code",
   "execution_count": 23,
   "metadata": {},
   "outputs": [
    {
     "name": "stderr",
     "output_type": "stream",
     "text": [
      "/opt/anaconda3/envs/astroconda/lib/python3.7/site-packages/astropy/table/column.py:1020: RuntimeWarning: invalid value encountered in greater_equal\n",
      "  result = getattr(super(), op)(other)\n"
     ]
    }
   ],
   "source": [
    "clus_1=synthetic.Binary_Cluster(iso1, imf.IMFSalpeter1955(multiplicity=multiplicity.MultiplicityResolvedDK()), 2000, ifmr=ifmr.IFMR_Spera15())\n",
    "clus_2=synthetic.ResolvedCluster(iso2, imf.IMFSalpeter1955(multiplicity=multiplicity.MultiplicityResolvedDK()), 2000, ifmr=ifmr.IFMR_Spera15())"
   ]
  },
  {
   "cell_type": "markdown",
   "metadata": {},
   "source": [
    "Now let's visualize the isochrone we have created so far with a color magnitude diagram. There we can see the end of main sequence and perhaps the beginnings of the subgiant branch. That turnoff will turn out to be quite important when using the clusters to find age of real stellar populations.\\n But first, let's look at the isochrones and plot the observers' and theorist's HR diagrams and juxtapose the evolution models.\n",
    "\n",
    "Now we try Taking a look at the Binary Cluster vs Default Settings cluster Observer's HR Diagram.\n",
    "\n",
    "Remember to account for distance modulus! (dist to cluster = 1000)"
   ]
  },
  {
   "cell_type": "code",
   "execution_count": 24,
   "metadata": {},
   "outputs": [
    {
     "data": {
      "text/plain": [
       "<matplotlib.legend.Legend at 0x7fda0a585940>"
      ]
     },
     "execution_count": 24,
     "metadata": {},
     "output_type": "execute_result"
    },
    {
     "data": {
      "image/png": "[encoded data removed]",
      "text/plain": [
       "<Figure size 432x288 with 1 Axes>"
      ]
     },
     "metadata": {
      "needs_background": "light"
     },
     "output_type": "display_data"
    }
   ],
   "source": [
    "import matplotlib.pyplot as plt\n",
    "plt.plot(iso1.primaries['m_ubv_B']-iso1.primaries[\"m_ubv_V\"], iso1.primaries[\"m_ubv_V\"]-5*np.log10(1000/10), \"r.\")\n",
    "plt.plot(iso1.secondaries['m_ubv_B']-iso1.secondaries[\"m_ubv_V\"], iso1.secondaries[\"m_ubv_V\"]-5*np.log10(1000/10), \"r.\")\n",
    "plt.plot(iso1.singles['m_ubv_B']-iso1.singles[\"m_ubv_V\"], iso1.singles[\"m_ubv_V\"]-5*np.log10(1000/10), \"r.\", label=\"BPASS isochrone\")\n",
    "plt.plot(iso2.points['m_ubv_B']-iso2.points[\"m_ubv_V\"], iso2.points[\"m_ubv_V\"]-5*np.log10(1000/10), \"b.\", label=\"MISTv1\", alpha =0.2)\n",
    "plt.xlabel(\"B-V\")\n",
    "plt.ylabel(\"pseudo-M_V\")\n",
    "plt.title(\"Color magnitude Diagram of Isochrones at solar metallicity and 10 million years age\")\n",
    "plt.gca().invert_yaxis()\n",
    "plt.legend()"
   ]
  },
  {
   "cell_type": "markdown",
   "metadata": {},
   "source": [
    "**Hmm, where is the vertical line coming from...?**"
   ]
  },
  {
   "cell_type": "code",
   "execution_count": 25,
   "metadata": {},
   "outputs": [
    {
     "data": {
      "text/plain": [
       "<matplotlib.legend.Legend at 0x7fda3a700320>"
      ]
     },
     "execution_count": 25,
     "metadata": {},
     "output_type": "execute_result"
    },
    {
     "data": {
      "image/png": "[encoded data removed]",
      "text/plain": [
       "<Figure size 432x288 with 1 Axes>"
      ]
     },
     "metadata": {
      "needs_background": "light"
     },
     "output_type": "display_data"
    }
   ],
   "source": [
    "# Taking a look at the Binary Cluster vs Default Settings cluster Observer's HR Diagram\n",
    "# Remember to use a distance modulus!\n",
    "import matplotlib.pyplot as plt\n",
    "plt.plot(iso1.primaries['m_ubv_B']-iso1.primaries[\"m_ubv_V\"], iso1.primaries[\"m_ubv_V\"]-5*np.log10(100), \"r.\",  label=\"BPASS isochrone (primaries)\")\n",
    "plt.xlabel(\"B-V\")\n",
    "plt.ylabel(\"pseudo-M_V\")\n",
    "plt.title(\"Color magnitude Diagram of Isochrones at solar metallicity and 10 million years age\")\n",
    "plt.gca().invert_yaxis()\n",
    "plt.legend()"
   ]
  },
  {
   "cell_type": "code",
   "execution_count": 26,
   "metadata": {},
   "outputs": [
    {
     "name": "stderr",
     "output_type": "stream",
     "text": [
      "/opt/anaconda3/envs/astroconda/lib/python3.7/site-packages/astropy/table/column.py:1020: RuntimeWarning: invalid value encountered in greater\n",
      "  result = getattr(super(), op)(other)\n",
      "/opt/anaconda3/envs/astroconda/lib/python3.7/site-packages/astropy/table/column.py:1020: RuntimeWarning: invalid value encountered in less_equal\n",
      "  result = getattr(super(), op)(other)\n"
     ]
    }
   ],
   "source": [
    "line = iso1.primaries[np.where(((iso1.primaries['m_ubv_B']-iso1.primaries[\"m_ubv_V\"])>0.45) & ((iso1.primaries['m_ubv_B']-iso1.primaries[\"m_ubv_V\"])<=0.4583))[0]]"
   ]
  },
  {
   "cell_type": "code",
   "execution_count": 27,
   "metadata": {},
   "outputs": [
    {
     "data": {
      "text/html": [
       "<i>Table length=459</i>\n",
       "<table id=\"table140575259612104\" class=\"table-striped table-bordered table-condensed\">\n",
       "<thead><tr><th>mass</th><th>log_a</th><th>L</th><th>Teff</th><th>R</th><th>logg</th><th>isWR</th><th>mass_current</th><th>phase</th><th>merged</th><th>source</th><th>m_ubv_U</th><th>m_ubv_V</th><th>m_ubv_B</th><th>m_ubv_R</th><th>m_ubv_I</th></tr></thead>\n",
       "<thead><tr><th>solMass</th><th></th><th>W</th><th>K</th><th>m</th><th></th><th></th><th>solMass</th><th></th><th></th><th></th><th></th><th></th><th></th><th></th><th></th></tr></thead>\n",
       "<thead><tr><th>float64</th><th>float64</th><th>float64</th><th>float64</th><th>float64</th><th>float64</th><th>bool</th><th>float64</th><th>float64</th><th>bool</th><th>int64</th><th>float64</th><th>float64</th><th>float64</th><th>float64</th><th>float64</th></tr></thead>\n",
       "<tr><td>13.799999999999999</td><td>nan</td><td>nan</td><td>nan</td><td>nan</td><td>nan</td><td>False</td><td>nan</td><td>-99.0</td><td>True</td><td>1</td><td>nan</td><td>nan</td><td>nan</td><td>nan</td><td>nan</td></tr>\n",
       "<tr><td>9.5</td><td>-0.5557224086880292</td><td>2.2887161233430257e+30</td><td>24794.76520054689</td><td>2913681009.4049573</td><td>4.176072334799042</td><td>False</td><td>9.594994</td><td>5.0</td><td>False</td><td>1</td><td>17.8668993439764</td><td>18.21510299379242</td><td>18.781338702295965</td><td>15.719371665177988</td><td>12.420461269950247</td></tr>\n",
       "<tr><td>6.3</td><td>-0.6339254086880293</td><td>4.910683329496217e+29</td><td>19694.72857904807</td><td>2139055255.8102043</td><td>4.262791119712317</td><td>False</td><td>6.314275</td><td>5.0</td><td>False</td><td>1</td><td>19.170249268790588</td><td>19.314348916399446</td><td>19.92861031291516</td><td>16.79427870544282</td><td>13.450320380725843</td></tr>\n",
       "<tr><td>7.2</td><td>-0.7784414086880291</td><td>8.085221628723427e+29</td><td>21291.19315929503</td><td>2348615935.976151</td><td>4.241553205486155</td><td>False</td><td>7.248791</td><td>5.0</td><td>False</td><td>1</td><td>18.75528427737999</td><td>18.97119178608045</td><td>19.56757020940968</td><td>16.46039665124656</td><td>13.13266403403903</td></tr>\n",
       "<tr><td>1.9000000000000001</td><td>-0.9394644086880293</td><td>4.9296028165026596e+27</td><td>8701.016655822772</td><td>1098074998.3136752</td><td>4.32040877119988</td><td>False</td><td>1.900033</td><td>5.0</td><td>False</td><td>1</td><td>23.39283806976404</td><td>22.379521803694196</td><td>23.351923919495224</td><td>19.71528480396945</td><td>16.140203918534393</td></tr>\n",
       "<tr><td>3.6</td><td>-0.9429554086880292</td><td>6.222170809834737e+28</td><td>13881.295518478331</td><td>1532752394.8293374</td><td>4.308482880246526</td><td>False</td><td>3.601764</td><td>5.0</td><td>False</td><td>1</td><td>20.872480753181573</td><td>20.643892137053573</td><td>21.34874657013162</td><td>18.083016620305024</td><td>14.660117215142398</td></tr>\n",
       "<tr><td>9.5</td><td>-0.2920094086880294</td><td>2.292460857696828e+30</td><td>24821.612992133352</td><td>2909658389.697238</td><td>4.175687972700132</td><td>False</td><td>9.560054</td><td>5.0</td><td>False</td><td>1</td><td>17.86696930424292</td><td>18.21603154348489</td><td>18.782067069849127</td><td>15.720395764027405</td><td>12.421667358429616</td></tr>\n",
       "<tr><td>7.2</td><td>-1.1750194086880292</td><td>8.087083534154566e+29</td><td>21265.715527416894</td><td>2354517937.319119</td><td>4.24117564749745</td><td>False</td><td>7.278938</td><td>5.0</td><td>False</td><td>1</td><td>18.75310779737664</td><td>18.967938263407223</td><td>19.564566930378334</td><td>16.457004970270127</td><td>13.129019477896987</td></tr>\n",
       "<tr><td>8.4</td><td>-0.9654144086880292</td><td>1.42181119391518e+30</td><td>19638.124092982842</td><td>3660934876.2359424</td><td>4.162291235836142</td><td>False</td><td>14.67451</td><td>5.0</td><td>False</td><td>1</td><td>18.003758112181337</td><td>18.15018901360615</td><td>18.763195387085123</td><td>15.629703199461337</td><td>12.284946515683027</td></tr>\n",
       "<tr><td>...</td><td>...</td><td>...</td><td>...</td><td>...</td><td>...</td><td>...</td><td>...</td><td>...</td><td>...</td><td>...</td><td>...</td><td>...</td><td>...</td><td>...</td><td>...</td></tr>\n",
       "<tr><td>6.0</td><td>-0.6538754086880292</td><td>4.126690793651908e+29</td><td>19138.15202047429</td><td>2076643769.222847</td><td>4.267259257482102</td><td>False</td><td>6.012729</td><td>5.0</td><td>False</td><td>1</td><td>19.31253429781188</td><td>19.429282745366606</td><td>20.05060159866428</td><td>16.90568093959998</td><td>13.555651527917705</td></tr>\n",
       "<tr><td>12.6</td><td>-1.0216714086880292</td><td>7.03415492212108e+30</td><td>27547.995286188918</td><td>4138014454.4147263</td><td>4.008003299834403</td><td>False</td><td>13.14243</td><td>5.0</td><td>False</td><td>1</td><td>16.799675905329416</td><td>17.23580378121155</td><td>17.777681641594086</td><td>14.751014191890977</td><td>11.470484117041043</td></tr>\n",
       "<tr><td>6.3</td><td>-0.10424940868802901</td><td>4.910231059675097e+29</td><td>19702.4393821402</td><td>2137282862.0791783</td><td>4.262907777208094</td><td>False</td><td>6.305509</td><td>5.0</td><td>False</td><td>1</td><td>19.171019897277752</td><td>19.315467793909413</td><td>19.92963966025505</td><td>16.79544445511825</td><td>13.45156722327363</td></tr>\n",
       "<tr><td>8.0</td><td>-0.4469674086880291</td><td>1.1881517967742709e+30</td><td>22618.82289079747</td><td>2522620980.1734624</td><td>4.224385614866604</td><td>False</td><td>8.038555</td><td>5.0</td><td>False</td><td>1</td><td>18.43418407052989</td><td>18.703849844583335</td><td>19.287836691730135</td><td>16.19959476142657</td><td>12.884018464796394</td></tr>\n",
       "<tr><td>13.299999999999999</td><td>-0.9991544086880293</td><td>8.768835624167652e+30</td><td>27851.590426320825</td><td>4519933063.953532</td><td>3.9545853550047085</td><td>False</td><td>13.86557</td><td>5.0</td><td>False</td><td>1</td><td>16.56915236318566</td><td>17.016460625735814</td><td>17.555754052304252</td><td>14.532672506530592</td><td>11.254219131745126</td></tr>\n",
       "<tr><td>11.5</td><td>nan</td><td>nan</td><td>nan</td><td>nan</td><td>nan</td><td>False</td><td>nan</td><td>-99.0</td><td>True</td><td>1</td><td>nan</td><td>nan</td><td>nan</td><td>nan</td><td>nan</td></tr>\n",
       "<tr><td>3.8000000000000003</td><td>-0.3586544086880292</td><td>7.630832647474699e+28</td><td>14385.00443094354</td><td>1580636488.813576</td><td>4.305062880548127</td><td>False</td><td>3.800277</td><td>5.0</td><td>False</td><td>1</td><td>20.696532665404185</td><td>20.51344880705548</td><td>21.2087046528964</td><td>17.956505525065264</td><td>14.542700630750984</td></tr>\n",
       "<tr><td>2.1</td><td>-0.17291140868802923</td><td>7.469506836750609e+27</td><td>9446.4797950262</td><td>1146758593.646741</td><td>4.3261902309347855</td><td>False</td><td>2.100016</td><td>5.0</td><td>False</td><td>1</td><td>22.92872663171744</td><td>22.06036688768709</td><td>22.941133366459393</td><td>19.435384110190782</td><td>15.89222893419196</td></tr>\n",
       "<tr><td>10.0</td><td>0.0026015913119707967</td><td>2.7588108739345477e+30</td><td>25490.009656786668</td><td>3026718305.471882</td><td>4.162802548347056</td><td>False</td><td>10.04234</td><td>5.0</td><td>False</td><td>1</td><td>17.707576289293804</td><td>18.078300166632502</td><td>18.638928836275593</td><td>15.585200483721865</td><td>12.291051088180858</td></tr>\n",
       "<tr><td>12.6</td><td>-0.4952784086880291</td><td>7.031402015109326e+30</td><td>27764.509152245908</td><td>4072883646.0400095</td><td>4.011428714689599</td><td>False</td><td>12.83279</td><td>5.0</td><td>False</td><td>1</td><td>16.81261213676646</td><td>17.25428543345047</td><td>17.794382601912794</td><td>14.770423517056841</td><td>11.491314836881594</td></tr>\n",
       "</table>"
      ],
      "text/plain": [
       "<Table length=459>\n",
       "       mass                log_a         ...      m_ubv_I      \n",
       "     solMass                             ...                   \n",
       "     float64              float64        ...      float64      \n",
       "------------------ --------------------- ... ------------------\n",
       "13.799999999999999                   nan ...                nan\n",
       "               9.5   -0.5557224086880292 ... 12.420461269950247\n",
       "               6.3   -0.6339254086880293 ... 13.450320380725843\n",
       "               7.2   -0.7784414086880291 ...  13.13266403403903\n",
       "1.9000000000000001   -0.9394644086880293 ... 16.140203918534393\n",
       "               3.6   -0.9429554086880292 ... 14.660117215142398\n",
       "               9.5   -0.2920094086880294 ... 12.421667358429616\n",
       "               7.2   -1.1750194086880292 ... 13.129019477896987\n",
       "               8.4   -0.9654144086880292 ... 12.284946515683027\n",
       "               ...                   ... ...                ...\n",
       "               6.0   -0.6538754086880292 ... 13.555651527917705\n",
       "              12.6   -1.0216714086880292 ... 11.470484117041043\n",
       "               6.3  -0.10424940868802901 ...  13.45156722327363\n",
       "               8.0   -0.4469674086880291 ... 12.884018464796394\n",
       "13.299999999999999   -0.9991544086880293 ... 11.254219131745126\n",
       "              11.5                   nan ...                nan\n",
       "3.8000000000000003   -0.3586544086880292 ... 14.542700630750984\n",
       "               2.1  -0.17291140868802923 ...  15.89222893419196\n",
       "              10.0 0.0026015913119707967 ... 12.291051088180858\n",
       "              12.6   -0.4952784086880291 ... 11.491314836881594"
      ]
     },
     "execution_count": 27,
     "metadata": {},
     "output_type": "execute_result"
    }
   ],
   "source": [
    "iso1.secondaries[np.where(((iso1.primaries['m_ubv_B']-iso1.primaries[\"m_ubv_V\"])>0.45) & ((iso1.primaries['m_ubv_B']-iso1.primaries[\"m_ubv_V\"])<=0.4583))[0]]"
   ]
  },
  {
   "cell_type": "code",
   "execution_count": 28,
   "metadata": {},
   "outputs": [
    {
     "data": {
      "text/plain": [
       "<matplotlib.legend.Legend at 0x7fda0a5f1dd8>"
      ]
     },
     "execution_count": 28,
     "metadata": {},
     "output_type": "execute_result"
    },
    {
     "data": {
      "image/png": "[encoded data removed]",
      "text/plain": [
       "<Figure size 432x288 with 1 Axes>"
      ]
     },
     "metadata": {
      "needs_background": "light"
     },
     "output_type": "display_data"
    }
   ],
   "source": [
    "# Taking a look at the Binary Cluster vs Default Settings cluster Observer's HR Diagram\n",
    "# Remember to use a distance modulus!\n",
    "import matplotlib.pyplot as plt\n",
    "plt.plot(line['m_ubv_B']-line[\"m_ubv_V\"], line[\"m_ubv_V\"]-5*np.log10(100), \"r.\",  label=\"BPASS isochrone\")\n",
    "plt.xlabel(\"B-V\")\n",
    "plt.ylabel(\"pseudo-M_V\")\n",
    "plt.title(\"Color magnitude Diagram of Isochrones at solar metallicity and 10 million years age\")\n",
    "plt.gca().invert_yaxis()\n",
    "plt.legend()"
   ]
  },
  {
   "cell_type": "markdown",
   "metadata": {},
   "source": [
    "What exactly is causing this line. We need to look specifically at the properties of the stars there. Specifically current mass, source code of the star, logg, initial mass, Teff."
   ]
  },
  {
   "cell_type": "code",
   "execution_count": 29,
   "metadata": {},
   "outputs": [
    {
     "data": {
      "text/html": [
       "<i>Table length=459</i>\n",
       "<table id=\"table140574453464480\" class=\"table-striped table-bordered table-condensed\">\n",
       "<thead><tr><th>mass</th><th>L</th><th>Teff</th><th>R</th><th>logg</th><th>isWR</th><th>mass_current</th><th>phase</th><th>source</th><th>m_ubv_U</th><th>m_ubv_V</th><th>m_ubv_B</th><th>m_ubv_R</th><th>m_ubv_I</th></tr></thead>\n",
       "<thead><tr><th>solMass</th><th>W</th><th>K</th><th>m</th><th></th><th></th><th>solMass</th><th></th><th></th><th></th><th></th><th></th><th></th><th></th></tr></thead>\n",
       "<thead><tr><th>float64</th><th>float64</th><th>float64</th><th>float64</th><th>float64</th><th>bool</th><th>float64</th><th>float64</th><th>int64</th><th>float64</th><th>float64</th><th>float64</th><th>float64</th><th>float64</th></tr></thead>\n",
       "<tr><td>23.0</td><td>1.1210679301777608e+32</td><td>164323.62237025567</td><td>464520798.8350329</td><td>5.77981864125865</td><td>True</td><td>9.82587</td><td>5.0</td><td>1</td><td>20.396042839410306</td><td>21.051214183602358</td><td>21.50945527793413</td><td>18.58376769420131</td><td>15.352840434830407</td></tr>\n",
       "<tr><td>19.0</td><td>2.2943619365502126e+31</td><td>102352.86413287924</td><td>541651766.9537815</td><td>5.407964411683066</td><td>True</td><td>5.67462</td><td>5.0</td><td>1</td><td>20.06246783941031</td><td>20.717639183602362</td><td>21.175880277934134</td><td>18.250192694201317</td><td>15.019265434830414</td></tr>\n",
       "<tr><td>21.0</td><td>5.334600841111398e+31</td><td>69632.1812820603</td><td>1784514841.3507247</td><td>4.376595891814837</td><td>True</td><td>5.73018</td><td>5.0</td><td>1</td><td>17.473467839410308</td><td>18.128639183602356</td><td>18.58688027793413</td><td>15.66119269420131</td><td>12.430265434830408</td></tr>\n",
       "<tr><td>18.0</td><td>2.4126922495730148e+31</td><td>69390.49730731636</td><td>1208481939.128923</td><td>4.707861547685258</td><td>True</td><td>5.635</td><td>5.0</td><td>1</td><td>18.31986783941031</td><td>18.97503918360236</td><td>19.433280277934134</td><td>16.507592694201314</td><td>13.276665434830411</td></tr>\n",
       "<tr><td>19.0</td><td>2.2289069022860066e+31</td><td>102877.40476585295</td><td>528439367.681037</td><td>5.415881639476231</td><td>True</td><td>5.50065</td><td>5.0</td><td>1</td><td>20.116092839410307</td><td>20.771264183602355</td><td>21.22950527793413</td><td>18.30381769420131</td><td>15.072890434830407</td></tr>\n",
       "<tr><td>18.0</td><td>2.308617211297434e+31</td><td>71452.9230604951</td><td>1114872400.2793968</td><td>4.77492723943202</td><td>True</td><td>5.59654</td><td>5.0</td><td>1</td><td>18.49494283941031</td><td>19.15011418360236</td><td>19.60835527793413</td><td>16.682667694201314</td><td>13.451740434830409</td></tr>\n",
       "<tr><td>19.0</td><td>2.3747720514852548e+31</td><td>103588.13163568493</td><td>537997384.3686986</td><td>5.4131014084392</td><td>True</td><td>5.66492</td><td>5.0</td><td>1</td><td>20.07716783941031</td><td>20.73233918360236</td><td>21.19058027793413</td><td>18.264892694201315</td><td>15.033965434830412</td></tr>\n",
       "<tr><td>18.0</td><td>1.6103561236825713e+31</td><td>82465.06393114667</td><td>699053097.1997061</td><td>5.165510007374787</td><td>True</td><td>5.40832</td><td>5.0</td><td>1</td><td>19.508517839410306</td><td>20.163689183602358</td><td>20.62193027793413</td><td>17.69624269420131</td><td>14.465315434830407</td></tr>\n",
       "<tr><td>21.0</td><td>4.393614300377958e+31</td><td>59860.45312628473</td><td>2191392466.048219</td><td>4.1340233012210135</td><td>True</td><td>4.94283</td><td>5.0</td><td>1</td><td>17.02746783941031</td><td>17.682639183602358</td><td>18.14088027793413</td><td>15.21519269420131</td><td>11.984265434830409</td></tr>\n",
       "<tr><td>...</td><td>...</td><td>...</td><td>...</td><td>...</td><td>...</td><td>...</td><td>...</td><td>...</td><td>...</td><td>...</td><td>...</td><td>...</td><td>...</td></tr>\n",
       "<tr><td>20.0</td><td>5.091103534616636e+31</td><td>67324.01374722591</td><td>1864898347.9315298</td><td>4.318266572955103</td><td>True</td><td>5.47191</td><td>5.0</td><td>1</td><td>17.377792839410308</td><td>18.032964183602356</td><td>18.49120527793413</td><td>15.565517694201308</td><td>12.334590434830407</td></tr>\n",
       "<tr><td>18.0</td><td>1.7420953803612092e+31</td><td>80552.68110554501</td><td>762017884.3341801</td><td>5.094644699375105</td><td>True</td><td>5.45905</td><td>5.0</td><td>1</td><td>19.32124283941031</td><td>19.97641418360236</td><td>20.434655277934134</td><td>17.50896769420131</td><td>14.278040434830409</td></tr>\n",
       "<tr><td>21.0</td><td>5.5083550938751625e+31</td><td>74185.66601558313</td><td>1597570984.710709</td><td>4.481070521402157</td><td>True</td><td>5.84148</td><td>5.0</td><td>1</td><td>17.71376783941031</td><td>18.36893918360236</td><td>18.827180277934133</td><td>15.90149269420131</td><td>12.67056543483041</td></tr>\n",
       "<tr><td>20.0</td><td>5.095912110684722e+31</td><td>65653.81997906798</td><td>1961914894.2290895</td><td>4.2779782510508975</td><td>True</td><td>5.51913</td><td>5.0</td><td>1</td><td>17.267667839410308</td><td>17.92283918360236</td><td>18.38108027793413</td><td>15.45539269420131</td><td>12.224465434830408</td></tr>\n",
       "<tr><td>19.0</td><td>2.0624428782792923e+31</td><td>101006.6575638488</td><td>527327189.0990299</td><td>5.415359104925792</td><td>True</td><td>5.47106</td><td>5.0</td><td>1</td><td>20.120667839410302</td><td>20.77583918360235</td><td>21.234080277934126</td><td>18.30839269420131</td><td>15.077465434830403</td></tr>\n",
       "<tr><td>23.0</td><td>1.162818490605898e+32</td><td>171608.9760550427</td><td>433775644.9903634</td><td>5.8497916097634075</td><td>True</td><td>10.0657</td><td>5.0</td><td>1</td><td>20.544742839410304</td><td>21.199914183602356</td><td>21.658155277934128</td><td>18.732467694201308</td><td>15.501540434830405</td></tr>\n",
       "<tr><td>19.0</td><td>2.365766779729858e+31</td><td>102249.21912622495</td><td>551131411.5790595</td><td>5.3997039970269425</td><td>True</td><td>5.76443</td><td>5.0</td><td>1</td><td>20.02479283941031</td><td>20.679964183602358</td><td>21.13820527793413</td><td>18.21251769420131</td><td>14.981590434830407</td></tr>\n",
       "<tr><td>21.0</td><td>5.51241529554938e+31</td><td>73712.30637546413</td><td>1618751426.802901</td><td>4.469612008332656</td><td>True</td><td>5.8415</td><td>5.0</td><td>1</td><td>17.68516783941031</td><td>18.340339183602357</td><td>18.79858027793413</td><td>15.872892694201308</td><td>12.641965434830407</td></tr>\n",
       "<tr><td>20.0</td><td>5.19041315736099e+31</td><td>67074.89476930216</td><td>1897012376.0521467</td><td>4.31357552612784</td><td>True</td><td>5.60103</td><td>5.0</td><td>1</td><td>17.340717839410303</td><td>17.995889183602355</td><td>18.45413027793413</td><td>15.528442694201306</td><td>12.297515434830403</td></tr>\n",
       "<tr><td>18.0</td><td>2.746641192771197e+31</td><td>61608.409915669625</td><td>1635724521.0882554</td><td>4.452274246750445</td><td>True</td><td>5.73095</td><td>5.0</td><td>1</td><td>17.66251783941031</td><td>18.317689183602358</td><td>18.775930277934133</td><td>15.850242694201311</td><td>12.61931543483041</td></tr>\n",
       "</table>"
      ],
      "text/plain": [
       "<Table length=459>\n",
       "  mass            L            ...      m_ubv_R            m_ubv_I      \n",
       "solMass           W            ...                                      \n",
       "float64        float64         ...      float64            float64      \n",
       "------- ---------------------- ... ------------------ ------------------\n",
       "   23.0 1.1210679301777608e+32 ...  18.58376769420131 15.352840434830407\n",
       "   19.0 2.2943619365502126e+31 ... 18.250192694201317 15.019265434830414\n",
       "   21.0  5.334600841111398e+31 ...  15.66119269420131 12.430265434830408\n",
       "   18.0 2.4126922495730148e+31 ... 16.507592694201314 13.276665434830411\n",
       "   19.0 2.2289069022860066e+31 ...  18.30381769420131 15.072890434830407\n",
       "   18.0  2.308617211297434e+31 ... 16.682667694201314 13.451740434830409\n",
       "   19.0 2.3747720514852548e+31 ... 18.264892694201315 15.033965434830412\n",
       "   18.0 1.6103561236825713e+31 ...  17.69624269420131 14.465315434830407\n",
       "   21.0  4.393614300377958e+31 ...  15.21519269420131 11.984265434830409\n",
       "    ...                    ... ...                ...                ...\n",
       "   20.0  5.091103534616636e+31 ... 15.565517694201308 12.334590434830407\n",
       "   18.0 1.7420953803612092e+31 ...  17.50896769420131 14.278040434830409\n",
       "   21.0 5.5083550938751625e+31 ...  15.90149269420131  12.67056543483041\n",
       "   20.0  5.095912110684722e+31 ...  15.45539269420131 12.224465434830408\n",
       "   19.0 2.0624428782792923e+31 ...  18.30839269420131 15.077465434830403\n",
       "   23.0  1.162818490605898e+32 ... 18.732467694201308 15.501540434830405\n",
       "   19.0  2.365766779729858e+31 ...  18.21251769420131 14.981590434830407\n",
       "   21.0   5.51241529554938e+31 ... 15.872892694201308 12.641965434830407\n",
       "   20.0   5.19041315736099e+31 ... 15.528442694201306 12.297515434830403\n",
       "   18.0  2.746641192771197e+31 ... 15.850242694201311  12.61931543483041"
      ]
     },
     "execution_count": 29,
     "metadata": {},
     "output_type": "execute_result"
    }
   ],
   "source": [
    "line"
   ]
  },
  {
   "cell_type": "code",
   "execution_count": 30,
   "metadata": {},
   "outputs": [
    {
     "data": {
      "text/html": [
       "&lt;Column name=&apos;mass_current&apos; dtype=&apos;float64&apos; unit=&apos;solMass&apos; length=458&gt;\n",
       "<table>\n",
       "<tr><td>4.44683</td></tr>\n",
       "<tr><td>4.44977</td></tr>\n",
       "<tr><td>4.5998</td></tr>\n",
       "<tr><td>4.65934</td></tr>\n",
       "<tr><td>4.82873</td></tr>\n",
       "<tr><td>4.84274</td></tr>\n",
       "<tr><td>4.87299</td></tr>\n",
       "<tr><td>4.87838</td></tr>\n",
       "<tr><td>4.93716</td></tr>\n",
       "<tr><td>4.94025</td></tr>\n",
       "<tr><td>4.94141</td></tr>\n",
       "<tr><td>4.94283</td></tr>\n",
       "<tr><td>...</td></tr>\n",
       "<tr><td>10.0657</td></tr>\n",
       "<tr><td>10.08157</td></tr>\n",
       "<tr><td>10.18541</td></tr>\n",
       "<tr><td>10.21885</td></tr>\n",
       "<tr><td>10.25105</td></tr>\n",
       "<tr><td>10.27081</td></tr>\n",
       "<tr><td>10.28467</td></tr>\n",
       "<tr><td>10.32685</td></tr>\n",
       "<tr><td>10.64173</td></tr>\n",
       "<tr><td>10.88422</td></tr>\n",
       "<tr><td>11.27002</td></tr>\n",
       "<tr><td>12.893</td></tr>\n",
       "</table>"
      ],
      "text/plain": [
       "<Column name='mass_current' dtype='float64' unit='solMass' length=458>\n",
       " 4.44683\n",
       " 4.44977\n",
       "  4.5998\n",
       " 4.65934\n",
       " 4.82873\n",
       " 4.84274\n",
       " 4.87299\n",
       " 4.87838\n",
       " 4.93716\n",
       " 4.94025\n",
       " 4.94141\n",
       " 4.94283\n",
       "     ...\n",
       " 10.0657\n",
       "10.08157\n",
       "10.18541\n",
       "10.21885\n",
       "10.25105\n",
       "10.27081\n",
       "10.28467\n",
       "10.32685\n",
       "10.64173\n",
       "10.88422\n",
       "11.27002\n",
       "  12.893"
      ]
     },
     "execution_count": 30,
     "metadata": {},
     "output_type": "execute_result"
    }
   ],
   "source": [
    "np.unique(line['mass_current'])"
   ]
  },
  {
   "cell_type": "code",
   "execution_count": 31,
   "metadata": {},
   "outputs": [
    {
     "data": {
      "text/html": [
       "&lt;Column name=&apos;source&apos; dtype=&apos;int64&apos; length=1&gt;\n",
       "<table>\n",
       "<tr><td>1</td></tr>\n",
       "</table>"
      ],
      "text/plain": [
       "<Column name='source' dtype='int64' length=1>\n",
       "1"
      ]
     },
     "execution_count": 31,
     "metadata": {},
     "output_type": "execute_result"
    }
   ],
   "source": [
    "np.unique(line['source'])"
   ]
  },
  {
   "cell_type": "code",
   "execution_count": 32,
   "metadata": {},
   "outputs": [
    {
     "data": {
      "text/plain": [
       "array([3.9, 4. , 4.1, 4.2, 4.3, 4.4, 4.5, 4.6, 4.7, 4.8, 4.9, 5. , 5.1,\n",
       "       5.2, 5.3, 5.4, 5.5, 5.8, 5.9])"
      ]
     },
     "execution_count": 32,
     "metadata": {},
     "output_type": "execute_result"
    }
   ],
   "source": [
    "np.unique(np.round(line['logg'], 1))"
   ]
  },
  {
   "cell_type": "code",
   "execution_count": 33,
   "metadata": {},
   "outputs": [
    {
     "data": {
      "text/html": [
       "&lt;Column name=&apos;mass&apos; dtype=&apos;float64&apos; unit=&apos;solMass&apos; length=8&gt;\n",
       "<table>\n",
       "<tr><td>18.0</td></tr>\n",
       "<tr><td>19.0</td></tr>\n",
       "<tr><td>20.0</td></tr>\n",
       "<tr><td>21.0</td></tr>\n",
       "<tr><td>22.0</td></tr>\n",
       "<tr><td>23.0</td></tr>\n",
       "<tr><td>24.0</td></tr>\n",
       "<tr><td>25.0</td></tr>\n",
       "</table>"
      ],
      "text/plain": [
       "<Column name='mass' dtype='float64' unit='solMass' length=8>\n",
       "18.0\n",
       "19.0\n",
       "20.0\n",
       "21.0\n",
       "22.0\n",
       "23.0\n",
       "24.0\n",
       "25.0"
      ]
     },
     "execution_count": 33,
     "metadata": {},
     "output_type": "execute_result"
    }
   ],
   "source": [
    "np.unique(line['mass'])"
   ]
  },
  {
   "cell_type": "markdown",
   "metadata": {},
   "source": [
    "**Ah, that may be it: the initial mass of the stars int the line seem to be around the same, so it may be no surprise that there is a lack of variation in photometric properties. Something to look into**"
   ]
  },
  {
   "cell_type": "code",
   "execution_count": 34,
   "metadata": {},
   "outputs": [
    {
     "data": {
      "text/html": [
       "&lt;Column name=&apos;Teff&apos; dtype=&apos;float64&apos; unit=&apos;K&apos; length=447&gt;\n",
       "<table>\n",
       "<tr><td>50618.58492369347</td></tr>\n",
       "<tr><td>50852.22969589034</td></tr>\n",
       "<tr><td>51386.613785233334</td></tr>\n",
       "<tr><td>52234.807674770746</td></tr>\n",
       "<tr><td>52338.346733117745</td></tr>\n",
       "<tr><td>52571.45536477341</td></tr>\n",
       "<tr><td>52801.95467813457</td></tr>\n",
       "<tr><td>53144.704917031086</td></tr>\n",
       "<tr><td>54368.831599590194</td></tr>\n",
       "<tr><td>54474.09200599129</td></tr>\n",
       "<tr><td>54788.57437110441</td></tr>\n",
       "<tr><td>55242.07714202513</td></tr>\n",
       "<tr><td>...</td></tr>\n",
       "<tr><td>170380.54378466692</td></tr>\n",
       "<tr><td>170781.176084647</td></tr>\n",
       "<tr><td>171474.67957901285</td></tr>\n",
       "<tr><td>171608.9760550427</td></tr>\n",
       "<tr><td>172329.6476328457</td></tr>\n",
       "<tr><td>172675.21284348605</td></tr>\n",
       "<tr><td>172687.141236604</td></tr>\n",
       "<tr><td>173680.0758049759</td></tr>\n",
       "<tr><td>173760.07685518448</td></tr>\n",
       "<tr><td>174236.8456099004</td></tr>\n",
       "<tr><td>175889.5346923653</td></tr>\n",
       "<tr><td>176181.37698937074</td></tr>\n",
       "</table>"
      ],
      "text/plain": [
       "<Column name='Teff' dtype='float64' unit='K' length=447>\n",
       " 50618.58492369347\n",
       " 50852.22969589034\n",
       "51386.613785233334\n",
       "52234.807674770746\n",
       "52338.346733117745\n",
       " 52571.45536477341\n",
       " 52801.95467813457\n",
       "53144.704917031086\n",
       "54368.831599590194\n",
       " 54474.09200599129\n",
       " 54788.57437110441\n",
       " 55242.07714202513\n",
       "               ...\n",
       "170380.54378466692\n",
       "  170781.176084647\n",
       "171474.67957901285\n",
       " 171608.9760550427\n",
       " 172329.6476328457\n",
       "172675.21284348605\n",
       "  172687.141236604\n",
       " 173680.0758049759\n",
       "173760.07685518448\n",
       " 174236.8456099004\n",
       " 175889.5346923653\n",
       "176181.37698937074"
      ]
     },
     "execution_count": 34,
     "metadata": {},
     "output_type": "execute_result"
    }
   ],
   "source": [
    "np.unique(line['Teff'])"
   ]
  },
  {
   "cell_type": "code",
   "execution_count": 35,
   "metadata": {},
   "outputs": [
    {
     "data": {
      "text/html": [
       "&lt;Column name=&apos;logg&apos; dtype=&apos;float64&apos; unit=&apos;&apos; length=459&gt;\n",
       "<table>\n",
       "<tr><td>3.946765191022875</td></tr>\n",
       "<tr><td>3.980032030118002</td></tr>\n",
       "<tr><td>4.064789313032161</td></tr>\n",
       "<tr><td>4.073869467356354</td></tr>\n",
       "<tr><td>4.093679606265179</td></tr>\n",
       "<tr><td>4.125200311792465</td></tr>\n",
       "<tr><td>4.129084829060066</td></tr>\n",
       "<tr><td>4.129157361932568</td></tr>\n",
       "<tr><td>4.1340233012210135</td></tr>\n",
       "<tr><td>4.137856285342354</td></tr>\n",
       "<tr><td>4.158507279190058</td></tr>\n",
       "<tr><td>4.1588631474574065</td></tr>\n",
       "<tr><td>...</td></tr>\n",
       "<tr><td>5.843518270928504</td></tr>\n",
       "<tr><td>5.8497916097634075</td></tr>\n",
       "<tr><td>5.851155496137219</td></tr>\n",
       "<tr><td>5.8518496515992995</td></tr>\n",
       "<tr><td>5.85744614293227</td></tr>\n",
       "<tr><td>5.866405898965743</td></tr>\n",
       "<tr><td>5.866589462180988</td></tr>\n",
       "<tr><td>5.875115979119396</td></tr>\n",
       "<tr><td>5.8768401457842785</td></tr>\n",
       "<tr><td>5.8796946050987335</td></tr>\n",
       "<tr><td>5.895247392408877</td></tr>\n",
       "<tr><td>5.898517399939001</td></tr>\n",
       "</table>"
      ],
      "text/plain": [
       "<Column name='logg' dtype='float64' unit='' length=459>\n",
       " 3.946765191022875\n",
       " 3.980032030118002\n",
       " 4.064789313032161\n",
       " 4.073869467356354\n",
       " 4.093679606265179\n",
       " 4.125200311792465\n",
       " 4.129084829060066\n",
       " 4.129157361932568\n",
       "4.1340233012210135\n",
       " 4.137856285342354\n",
       " 4.158507279190058\n",
       "4.1588631474574065\n",
       "               ...\n",
       " 5.843518270928504\n",
       "5.8497916097634075\n",
       " 5.851155496137219\n",
       "5.8518496515992995\n",
       "  5.85744614293227\n",
       " 5.866405898965743\n",
       " 5.866589462180988\n",
       " 5.875115979119396\n",
       "5.8768401457842785\n",
       "5.8796946050987335\n",
       " 5.895247392408877\n",
       " 5.898517399939001"
      ]
     },
     "execution_count": 35,
     "metadata": {},
     "output_type": "execute_result"
    }
   ],
   "source": [
    "np.unique(line['logg'])"
   ]
  },
  {
   "cell_type": "code",
   "execution_count": 36,
   "metadata": {},
   "outputs": [
    {
     "data": {
      "text/plain": [
       "array([31. , 31.1, 31.2, 31.3, 31.4, 31.5, 31.6, 31.7, 31.8, 31.9, 32. ,\n",
       "       32.1])"
      ]
     },
     "execution_count": 36,
     "metadata": {},
     "output_type": "execute_result"
    }
   ],
   "source": [
    "np.unique(np.round(np.log10(line['L']), 1))"
   ]
  },
  {
   "cell_type": "markdown",
   "metadata": {},
   "source": [
    "Generating the Theorist's HR Diagram for the isochrone. Notice the alignment of features."
   ]
  },
  {
   "cell_type": "code",
   "execution_count": 37,
   "metadata": {},
   "outputs": [
    {
     "data": {
      "text/plain": [
       "<matplotlib.legend.Legend at 0x7fda4a6f76d8>"
      ]
     },
     "execution_count": 37,
     "metadata": {},
     "output_type": "execute_result"
    },
    {
     "data": {
      "image/png": "[encoded data removed]",
      "text/plain": [
       "<Figure size 432x288 with 1 Axes>"
      ]
     },
     "metadata": {
      "needs_background": "light"
     },
     "output_type": "display_data"
    }
   ],
   "source": [
    "import matplotlib.pyplot as plt\n",
    "plt.plot(np.log10(iso1.primaries['Teff']), np.log10(iso1.primaries[\"L\"]), \"r.\")\n",
    "plt.plot(np.log10(iso1.secondaries['Teff']), np.log10(iso1.secondaries[\"L\"]), \"r.\")\n",
    "plt.plot(np.log10(iso1.singles['Teff']), np.log10(iso1.singles[\"L\"]), \"r.\", label=\"BPASS isochrone\")\n",
    "plt.plot(np.log10(iso2.points['Teff']), np.log10(iso2.points[\"L\"]), \"b.\", label=\"MISTv1\")\n",
    "plt.xlabel(\"log(T in Kelvin)\")\n",
    "plt.ylabel(\"log(L in Watts)\")\n",
    "plt.title(\"HR Diagram of Isochrones at solar metallicity and 10 million years age\")\n",
    "plt.gca().invert_xaxis()\n",
    "plt.legend()\n",
    "# Rough pattern seems to fit"
   ]
  },
  {
   "cell_type": "markdown",
   "metadata": {},
   "source": [
    "Plot the mass-luminosity relationship of the ISOCHRONE"
   ]
  },
  {
   "cell_type": "code",
   "execution_count": 38,
   "metadata": {},
   "outputs": [
    {
     "data": {
      "text/plain": [
       "<matplotlib.legend.Legend at 0x7fda4a7da0b8>"
      ]
     },
     "execution_count": 38,
     "metadata": {},
     "output_type": "execute_result"
    },
    {
     "data": {
      "image/png": "[encoded data removed]",
      "text/plain": [
       "<Figure size 432x288 with 1 Axes>"
      ]
     },
     "metadata": {
      "needs_background": "light"
     },
     "output_type": "display_data"
    }
   ],
   "source": [
    "from astropy import constants as cs\n",
    "import matplotlib.pyplot as plt\n",
    "plt.plot(np.log10(iso1.primaries['mass_current']), np.log10(iso1.primaries[\"L\"]/cs.L_sun), \"r.\")\n",
    "plt.plot(np.log10(iso1.secondaries['mass_current']), np.log10(iso1.secondaries[\"L\"]/cs.L_sun), \"r.\")\n",
    "plt.plot(np.log10(iso1.singles['mass_current']), np.log10(iso1.singles[\"L\"]/cs.L_sun), \"r.\", label=\"BPASS isochrone\")\n",
    "plt.plot(np.log10(iso2.points['mass_current']), np.log10(iso2.points[\"L\"]/cs.L_sun), \"b.\", label=\"MISTv1\")\n",
    "plt.xlabel(\"log(Current Mass in solar masses)\")\n",
    "plt.ylabel(\"log(L/L_solar)\")\n",
    "plt.title(\"Mass-logL of Isochrones at solar metallicity and 10 million years age\")\n",
    "plt.legend()\n",
    "# Rough pattern seems to fit. What's that line?"
   ]
  },
  {
   "cell_type": "markdown",
   "metadata": {},
   "source": [
    "Inspecting what masses are represented by the cluster"
   ]
  },
  {
   "cell_type": "code",
   "execution_count": 39,
   "metadata": {},
   "outputs": [
    {
     "data": {
      "text/html": [
       "&lt;Column name=&apos;mass_current&apos; dtype=&apos;float64&apos; length=172&gt;\n",
       "<table>\n",
       "<tr><td>0.42</td></tr>\n",
       "<tr><td>0.45</td></tr>\n",
       "<tr><td>0.45504</td></tr>\n",
       "<tr><td>0.46376000000000006</td></tr>\n",
       "<tr><td>0.48</td></tr>\n",
       "<tr><td>0.5</td></tr>\n",
       "<tr><td>0.56</td></tr>\n",
       "<tr><td>0.6</td></tr>\n",
       "<tr><td>0.7</td></tr>\n",
       "<tr><td>0.72</td></tr>\n",
       "<tr><td>0.75</td></tr>\n",
       "<tr><td>0.8</td></tr>\n",
       "<tr><td>...</td></tr>\n",
       "<tr><td>nan</td></tr>\n",
       "<tr><td>nan</td></tr>\n",
       "<tr><td>nan</td></tr>\n",
       "<tr><td>nan</td></tr>\n",
       "<tr><td>nan</td></tr>\n",
       "<tr><td>nan</td></tr>\n",
       "<tr><td>nan</td></tr>\n",
       "<tr><td>nan</td></tr>\n",
       "<tr><td>nan</td></tr>\n",
       "<tr><td>nan</td></tr>\n",
       "<tr><td>nan</td></tr>\n",
       "<tr><td>nan</td></tr>\n",
       "</table>"
      ],
      "text/plain": [
       "<Column name='mass_current' dtype='float64' length=172>\n",
       "               0.42\n",
       "               0.45\n",
       "            0.45504\n",
       "0.46376000000000006\n",
       "               0.48\n",
       "                0.5\n",
       "               0.56\n",
       "                0.6\n",
       "                0.7\n",
       "               0.72\n",
       "               0.75\n",
       "                0.8\n",
       "                ...\n",
       "                nan\n",
       "                nan\n",
       "                nan\n",
       "                nan\n",
       "                nan\n",
       "                nan\n",
       "                nan\n",
       "                nan\n",
       "                nan\n",
       "                nan\n",
       "                nan\n",
       "                nan"
      ]
     },
     "execution_count": 39,
     "metadata": {},
     "output_type": "execute_result"
    }
   ],
   "source": [
    "np.unique((clus_1.companions['mass_current']))"
   ]
  },
  {
   "cell_type": "markdown",
   "metadata": {},
   "source": [
    "Taking a look at the Binary Cluster vs Default Settings cluster Observer's HR Diagram\n",
    "\n",
    "**Remember to use a distance modulus!** (dist to cluster  = 1000 pc)"
   ]
  },
  {
   "cell_type": "code",
   "execution_count": 40,
   "metadata": {},
   "outputs": [
    {
     "data": {
      "text/plain": [
       "<matplotlib.legend.Legend at 0x7fda4a8039b0>"
      ]
     },
     "execution_count": 40,
     "metadata": {},
     "output_type": "execute_result"
    },
    {
     "data": {
      "image/png": "[encoded data removed]",
      "text/plain": [
       "<Figure size 432x288 with 1 Axes>"
      ]
     },
     "metadata": {
      "needs_background": "light"
     },
     "output_type": "display_data"
    }
   ],
   "source": [
    "import matplotlib.pyplot as plt\n",
    "plt.plot(clus_1.star_systems['m_ubv_B']-clus_1.star_systems[\"m_ubv_V\"], clus_1.star_systems[\"m_ubv_V\"]-5*np.log10(1000/10), \"r.\",label=\"BPASS\")\n",
    "plt.plot(clus_2.star_systems['m_ubv_B']-clus_2.star_systems[\"m_ubv_V\"], clus_2.star_systems[\"m_ubv_V\"]-5*np.log10(1000/10), \"b+\", label=\"MISTv1\", alpha=0.1)\n",
    "plt.xlabel(\"B-V\")\n",
    "plt.ylabel(\"pseudo-M_V\")\n",
    "plt.title(\"Color magnitude Diagram of clusters at solar metallicity and 10 million years age\")\n",
    "plt.gca().invert_yaxis()\n",
    "plt.legend()"
   ]
  },
  {
   "cell_type": "markdown",
   "metadata": {},
   "source": [
    "Plotting the theorist HR Diagram of the clusters."
   ]
  },
  {
   "cell_type": "code",
   "execution_count": 41,
   "metadata": {},
   "outputs": [
    {
     "data": {
      "text/plain": [
       "<matplotlib.legend.Legend at 0x7fda0a62f518>"
      ]
     },
     "execution_count": 41,
     "metadata": {},
     "output_type": "execute_result"
    },
    {
     "data": {
      "image/png": "[encoded data removed]",
      "text/plain": [
       "<Figure size 432x288 with 1 Axes>"
      ]
     },
     "metadata": {
      "needs_background": "light"
     },
     "output_type": "display_data"
    }
   ],
   "source": [
    "import matplotlib.pyplot as plt\n",
    "plt.plot(np.log10(clus_1.companions['Teff']), np.log10(clus_1.companions[\"L\"]), \"r.\",label=\"BPASS\", alpha=0.5)\n",
    "plt.plot(np.log10(clus_2.companions['Teff']), np.log10(clus_2.companions[\"L\"]), \"b+\", alpha=0.15)\n",
    "plt.plot(np.log10(clus_1.star_systems['Teff']), np.log10(clus_1.star_systems[\"L\"]), \"r.\", alpha=0.5)\n",
    "plt.plot(np.log10(clus_2.star_systems['Teff']), np.log10(clus_2.star_systems[\"L\"]), \"b+\", label=\"MISTv1\", alpha=0.15)\n",
    "plt.xlabel(\"log(T in kelvin)\")\n",
    "plt.ylabel(\"log(L in watts)\")\n",
    "plt.title(\"HR Diagram of clusters at solar metallicity and 10 million years age\")\n",
    "plt.gca().invert_xaxis()\n",
    "plt.legend()"
   ]
  },
  {
   "cell_type": "markdown",
   "metadata": {},
   "source": [
    "Looking at which stars are the white dwarves?"
   ]
  },
  {
   "cell_type": "code",
   "execution_count": 42,
   "metadata": {},
   "outputs": [
    {
     "data": {
      "text/plain": [
       "array([  0,  21,  38,  79,  93, 106, 261])"
      ]
     },
     "execution_count": 42,
     "metadata": {},
     "output_type": "execute_result"
    }
   ],
   "source": [
    "import numpy as np\n",
    "np.where(clus_1.star_systems['phase']==101.0)[0]"
   ]
  },
  {
   "cell_type": "markdown",
   "metadata": {},
   "source": [
    "Black Holes?"
   ]
  },
  {
   "cell_type": "code",
   "execution_count": 43,
   "metadata": {},
   "outputs": [
    {
     "data": {
      "text/plain": [
       "array([], dtype=int64)"
      ]
     },
     "execution_count": 43,
     "metadata": {},
     "output_type": "execute_result"
    }
   ],
   "source": [
    "np.where(clus_1.star_systems['phase']==103.0)[0]"
   ]
  },
  {
   "cell_type": "markdown",
   "metadata": {},
   "source": [
    "Do we have any neutron stars?"
   ]
  },
  {
   "cell_type": "code",
   "execution_count": 44,
   "metadata": {},
   "outputs": [
    {
     "data": {
      "text/plain": [
       "array([], dtype=int64)"
      ]
     },
     "execution_count": 44,
     "metadata": {},
     "output_type": "execute_result"
    }
   ],
   "source": [
    "np.where(clus_1.star_systems['phase']==102.0)[0]"
   ]
  },
  {
   "cell_type": "markdown",
   "metadata": {},
   "source": [
    "Let's make sure that I am getting just about enough star mass for my cluster. (It was a bug before I used an adjustment factor.)"
   ]
  },
  {
   "cell_type": "code",
   "execution_count": 45,
   "metadata": {},
   "outputs": [
    {
     "data": {
      "text/plain": [
       "1973.9756603376939"
      ]
     },
     "execution_count": 45,
     "metadata": {},
     "output_type": "execute_result"
    }
   ],
   "source": [
    "clus_1.star_systems['systemMass'].sum()"
   ]
  },
  {
   "cell_type": "code",
   "execution_count": 46,
   "metadata": {},
   "outputs": [
    {
     "data": {
      "text/plain": [
       "2000.0125148472375"
      ]
     },
     "execution_count": 46,
     "metadata": {},
     "output_type": "execute_result"
    }
   ],
   "source": [
    "clus_2.star_systems['systemMass'].sum()"
   ]
  },
  {
   "cell_type": "code",
   "execution_count": 47,
   "metadata": {},
   "outputs": [
    {
     "data": {
      "text/plain": [
       "120"
      ]
     },
     "execution_count": 47,
     "metadata": {},
     "output_type": "execute_result"
    }
   ],
   "source": [
    "len(np.where(clus_1.star_systems['merged'])[0])"
   ]
  },
  {
   "cell_type": "markdown",
   "metadata": {},
   "source": [
    "What systems do all of these companions correspond to?"
   ]
  },
  {
   "cell_type": "code",
   "execution_count": 48,
   "metadata": {},
   "outputs": [
    {
     "data": {
      "text/html": [
       "<i>Table length=295</i>\n",
       "<table id=\"table140574714215616\" class=\"table-striped table-bordered table-condensed\">\n",
       "<thead><tr><th>system_idx</th></tr></thead>\n",
       "<thead><tr><th>int64</th></tr></thead>\n",
       "<tr><td>0</td></tr>\n",
       "<tr><td>1</td></tr>\n",
       "<tr><td>2</td></tr>\n",
       "<tr><td>3</td></tr>\n",
       "<tr><td>3</td></tr>\n",
       "<tr><td>4</td></tr>\n",
       "<tr><td>5</td></tr>\n",
       "<tr><td>6</td></tr>\n",
       "<tr><td>7</td></tr>\n",
       "<tr><td>8</td></tr>\n",
       "<tr><td>...</td></tr>\n",
       "<tr><td>273</td></tr>\n",
       "<tr><td>274</td></tr>\n",
       "<tr><td>274</td></tr>\n",
       "<tr><td>275</td></tr>\n",
       "<tr><td>275</td></tr>\n",
       "<tr><td>276</td></tr>\n",
       "<tr><td>277</td></tr>\n",
       "<tr><td>278</td></tr>\n",
       "<tr><td>279</td></tr>\n",
       "<tr><td>280</td></tr>\n",
       "</table>"
      ],
      "text/plain": [
       "<Table length=295>\n",
       "system_idx\n",
       "  int64   \n",
       "----------\n",
       "         0\n",
       "         1\n",
       "         2\n",
       "         3\n",
       "         3\n",
       "         4\n",
       "         5\n",
       "         6\n",
       "         7\n",
       "         8\n",
       "       ...\n",
       "       273\n",
       "       274\n",
       "       274\n",
       "       275\n",
       "       275\n",
       "       276\n",
       "       277\n",
       "       278\n",
       "       279\n",
       "       280"
      ]
     },
     "execution_count": 48,
     "metadata": {},
     "output_type": "execute_result"
    }
   ],
   "source": [
    "clus_1.companions[['system_idx']]"
   ]
  },
  {
   "cell_type": "markdown",
   "metadata": {},
   "source": [
    "Showing the current-mass and current-luminosity relationship of the clusters."
   ]
  },
  {
   "cell_type": "code",
   "execution_count": 49,
   "metadata": {},
   "outputs": [
    {
     "data": {
      "text/plain": [
       "<matplotlib.legend.Legend at 0x7fda4a830710>"
      ]
     },
     "execution_count": 49,
     "metadata": {},
     "output_type": "execute_result"
    },
    {
     "data": {
      "image/png": "[encoded data removed]",
      "text/plain": [
       "<Figure size 432x288 with 1 Axes>"
      ]
     },
     "metadata": {
      "needs_background": "light"
     },
     "output_type": "display_data"
    }
   ],
   "source": [
    "# Plot the mass-luminosity relationship\n",
    "from astropy import constants as cs\n",
    "from astropy import units as u\n",
    "import matplotlib.pyplot as plt\n",
    "plt.plot(clus_1.star_systems['mass_current'], np.log10(clus_1.star_systems[\"L\"]), \"r.\", label=\"Binary_Cluster made from BPASS\", alpha =0.2)\n",
    "plt.plot(clus_2.star_systems['mass_current'], np.log10(clus_2.star_systems[\"L\"]), \"r.\", alpha =0.2)\n",
    "plt.plot(clus_1.companions['mass_current'], np.log10(clus_1.companions[\"L\"]), \"b.\", label=\"Cluster made from MISTv.1\", alpha =0.2)\n",
    "plt.plot(clus_2.companions['mass_current'], np.log10(clus_2.companions[\"L\"]), \"b.\", alpha =0.2)\n",
    "plt.xlabel(\"log(Current Mass in solar masses)\")\n",
    "plt.ylabel(\"log(L/L_solar)\")\n",
    "plt.title(\"log-Mass-logL of Cluster at Z_solar and 10**7.0 years age\")\n",
    "plt.legend()"
   ]
  },
  {
   "cell_type": "markdown",
   "metadata": {},
   "source": [
    "What phases exist in the cluster?"
   ]
  },
  {
   "cell_type": "code",
   "execution_count": 50,
   "metadata": {},
   "outputs": [
    {
     "data": {
      "text/html": [
       "&lt;Column name=&apos;phase&apos; dtype=&apos;float64&apos; length=2&gt;\n",
       "<table>\n",
       "<tr><td>5.0</td></tr>\n",
       "<tr><td>101.0</td></tr>\n",
       "</table>"
      ],
      "text/plain": [
       "<Column name='phase' dtype='float64' length=2>\n",
       "  5.0\n",
       "101.0"
      ]
     },
     "execution_count": 50,
     "metadata": {},
     "output_type": "execute_result"
    }
   ],
   "source": [
    "np.unique(clus_1.star_systems['phase'])"
   ]
  },
  {
   "cell_type": "code",
   "execution_count": 51,
   "metadata": {},
   "outputs": [
    {
     "data": {
      "text/html": [
       "&lt;Column name=&apos;phase&apos; dtype=&apos;int64&apos; length=3&gt;\n",
       "<table>\n",
       "<tr><td>-99</td></tr>\n",
       "<tr><td>5</td></tr>\n",
       "<tr><td>101</td></tr>\n",
       "</table>"
      ],
      "text/plain": [
       "<Column name='phase' dtype='int64' length=3>\n",
       "-99\n",
       "  5\n",
       "101"
      ]
     },
     "execution_count": 51,
     "metadata": {},
     "output_type": "execute_result"
    }
   ],
   "source": [
    "np.unique(clus_1.companions['phase'])"
   ]
  }
 ],
 "metadata": {
  "kernelspec": {
   "display_name": "astroconda",
   "language": "python",
   "name": "astroconda"
  },
  "language_info": {
   "codemirror_mode": {
    "name": "ipython",
    "version": 3
   },
   "file_extension": ".py",
   "mimetype": "text/x-python",
   "name": "python",
   "nbconvert_exporter": "python",
   "pygments_lexer": "ipython3",
   "version": "3.7.3"
  }
 },
 "nbformat": 4,
 "nbformat_minor": 2
}
