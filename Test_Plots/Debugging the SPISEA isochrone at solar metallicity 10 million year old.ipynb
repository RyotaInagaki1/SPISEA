{
 "cells": [
  {
   "cell_type": "markdown",
   "metadata": {},
   "source": [
    "## Testing the BPASS isochrone at 10^7 years age.\n",
    "In this BPASS isochrone and cluster plot, I go over the BPASS isochrone for 10^7 years age, solar metallicity, AKs=0.7, and distance of 100 parsecs from Earth. From the isochrone and cluster, we discuss several plots such as the log_g frequency distribution of the isochrone, the color magnitude diagram (B-V vs M_V), and the mass luminosity relationshi of the cluster."
   ]
  },
  {
   "cell_type": "markdown",
   "metadata": {},
   "source": [
    "## This is for example as well as debugging purposes."
   ]
  },
  {
   "cell_type": "code",
   "execution_count": 1,
   "metadata": {},
   "outputs": [
    {
     "name": "stderr",
     "output_type": "stream",
     "text": [
      "/opt/anaconda3/envs/astroconda/lib/python3.7/site-packages/pysynphot/locations.py:345: UserWarning: Extinction files not found in /g/lu/models/cdbs/extinction\n",
      "  warnings.warn('Extinction files not found in %s' % (extdir, ))\n",
      "/opt/anaconda3/envs/astroconda/lib/python3.7/site-packages/pysynphot/refs.py:125: UserWarning: No thermal tables found, no thermal calculations can be performed. No files found for /g/lu/models/cdbs/mtab/*_tmt.fits\n",
      "  'no thermal calculations can be performed. ' + str(e))\n",
      "/opt/anaconda3/envs/astroconda/lib/python3.7/site-packages/astropy/units/quantity.py:479: RuntimeWarning: invalid value encountered in true_divide\n",
      "  result = super().__array_ufunc__(function, method, *arrays, **kwargs)\n",
      "/u/ryotainagaki/Desktop/PyPopStar/spisea/evolution.py:1792: RuntimeWarning: overflow encountered in power\n",
      "  (1 / cs.au) * un.m)\n",
      "/opt/anaconda3/envs/astroconda/lib/python3.7/site-packages/astropy/units/quantity.py:479: RuntimeWarning: divide by zero encountered in true_divide\n",
      "  result = super().__array_ufunc__(function, method, *arrays, **kwargs)\n",
      "/opt/anaconda3/envs/astroconda/lib/python3.7/site-packages/astropy/units/quantity.py:479: RuntimeWarning: invalid value encountered in true_divide\n",
      "  result = super().__array_ufunc__(function, method, *arrays, **kwargs)\n"
     ]
    },
    {
     "name": "stdout",
     "output_type": "stream",
     "text": [
      "Changing to logg=4.00 for T= 35763 logg=3.88\n",
      "Changing to T= 50000 for T=102134 logg=5.40\n",
      "Changing to logg=5.00 for T=102134 logg=5.40\n",
      "Changing to T= 50000 for T= 83086 logg=4.67\n",
      "Changing to logg=5.00 for T= 83086 logg=4.67\n",
      "Changing to T= 50000 for T= 73318 logg=4.84\n",
      "Changing to logg=5.00 for T= 73318 logg=4.84\n",
      "Changing to T= 50000 for T=101667 logg=5.41\n",
      "Changing to logg=5.00 for T=101667 logg=5.41\n",
      "Changing to logg=4.00 for T= 31761 logg=3.51\n",
      "Changing to logg=4.00 for T= 31615 logg=3.92\n",
      "Changing to T= 50000 for T= 63838 logg=4.53\n",
      "Changing to logg=5.00 for T= 63838 logg=4.53\n",
      "Changing to T= 50000 for T= 67724 logg=4.33\n",
      "Changing to logg=5.00 for T= 67724 logg=4.33\n",
      "Changing to T= 50000 for T= 72205 logg=4.44\n",
      "Changing to logg=5.00 for T= 72205 logg=4.44\n",
      "Changing to T= 50000 for T= 90738 logg=5.12\n",
      "Changing to logg=5.00 for T= 90738 logg=5.12\n",
      "Changing to T= 50000 for T= 71698 logg=4.79\n",
      "Changing to logg=5.00 for T= 71698 logg=4.79\n",
      "Changing to T= 50000 for T=101368 logg=5.42\n",
      "Changing to logg=5.00 for T=101368 logg=5.42\n",
      "Changing to T= 50000 for T=102045 logg=5.39\n",
      "Changing to logg=5.00 for T=102045 logg=5.39\n",
      "Changing to T= 50000 for T=168597 logg=5.82\n",
      "Changing to logg=5.00 for T=168597 logg=5.82\n",
      "Changing to T= 50000 for T=165067 logg=5.79\n",
      "Changing to logg=5.00 for T=165067 logg=5.79\n",
      "Changing to T= 50000 for T= 72058 logg=4.80\n",
      "Changing to logg=5.00 for T= 72058 logg=4.80\n",
      "Changing to T= 50000 for T= 73797 logg=4.47\n",
      "Changing to logg=5.00 for T= 73797 logg=4.47\n",
      "Changing to T= 50000 for T= 65131 logg=4.26\n",
      "Changing to logg=5.00 for T= 65131 logg=4.26\n",
      "Changing to T= 50000 for T= 65318 logg=4.27\n",
      "Changing to logg=5.00 for T= 65318 logg=4.27\n",
      "Changing to T= 50000 for T= 73264 logg=4.46\n",
      "Changing to logg=5.00 for T= 73264 logg=4.46\n",
      "Changing to T= 50000 for T=103240 logg=5.41\n",
      "Changing to logg=5.00 for T=103240 logg=5.41\n",
      "Changing to logg=3.00 for T= 21835 logg=2.72\n",
      "Changing to T= 50000 for T= 65996 logg=4.30\n",
      "Changing to logg=5.00 for T= 65996 logg=4.30\n",
      "Changing to logg=4.00 for T= 32897 logg=3.88\n",
      "Changing to T= 50000 for T= 72367 logg=4.44\n",
      "Changing to logg=5.00 for T= 72367 logg=4.44\n",
      "Changing to T= 50000 for T= 69470 logg=4.37\n",
      "Changing to logg=5.00 for T= 69470 logg=4.37\n",
      "Changing to T= 50000 for T= 71035 logg=4.40\n",
      "Changing to logg=5.00 for T= 71035 logg=4.40\n",
      "Changing to T= 50000 for T=101167 logg=5.41\n",
      "Changing to logg=5.00 for T=101167 logg=5.41\n",
      "Changing to T= 50000 for T=100716 logg=5.42\n",
      "Changing to logg=5.00 for T=100716 logg=5.42\n",
      "Changing to T= 50000 for T= 66764 logg=4.30\n",
      "Changing to logg=5.00 for T= 66764 logg=4.30\n",
      "Changing to T= 50000 for T= 64973 logg=4.27\n",
      "Changing to logg=5.00 for T= 64973 logg=4.27\n",
      "Changing to T= 50000 for T= 78703 logg=4.56\n",
      "Changing to logg=5.00 for T= 78703 logg=4.56\n",
      "Changing to T= 50000 for T= 85269 logg=4.71\n",
      "Changing to logg=5.00 for T= 85269 logg=4.71\n",
      "Changing to T= 50000 for T= 59869 logg=4.39\n",
      "Changing to logg=5.00 for T= 59869 logg=4.39\n",
      "Changing to logg=4.50 for T= 42214 logg=3.72\n",
      "Changing to T= 50000 for T= 72144 logg=4.80\n",
      "Changing to logg=5.00 for T= 72144 logg=4.80\n",
      "Changing to T= 50000 for T=101414 logg=5.41\n",
      "Changing to logg=5.00 for T=101414 logg=5.41\n",
      "Changing to logg=4.50 for T= 47507 logg=3.94\n",
      "Changing to T= 50000 for T=168846 logg=5.83\n",
      "Changing to logg=5.00 for T=168846 logg=5.83\n",
      "Changing to T= 50000 for T= 83778 logg=4.69\n",
      "Changing to logg=5.00 for T= 83778 logg=4.69\n",
      "Changing to T= 50000 for T=102223 logg=5.38\n",
      "Changing to logg=5.00 for T=102223 logg=5.38\n",
      "Changing to T= 50000 for T= 67185 logg=4.64\n",
      "Changing to logg=5.00 for T= 67185 logg=4.64\n",
      "Changing to logg=4.00 for T= 32746 logg=3.73\n",
      "Changing to T= 50000 for T= 67151 logg=4.31\n",
      "Changing to logg=5.00 for T= 67151 logg=4.31\n",
      "Changing to T= 50000 for T= 70500 logg=4.40\n",
      "Changing to logg=5.00 for T= 70500 logg=4.40\n",
      "Changing to T= 50000 for T=169805 logg=5.84\n",
      "Changing to logg=5.00 for T=169805 logg=5.84\n",
      "Changing to T= 50000 for T=102527 logg=5.39\n",
      "Changing to logg=5.00 for T=102527 logg=5.39\n",
      "Changing to T= 50000 for T=102958 logg=5.41\n",
      "Changing to logg=5.00 for T=102958 logg=5.41\n",
      "Changing to logg=4.50 for T= 46562 logg=3.91\n",
      "Changing to T= 50000 for T= 73782 logg=4.47\n",
      "Changing to logg=5.00 for T= 73782 logg=4.47\n",
      "Changing to T= 50000 for T= 65074 logg=4.27\n",
      "Changing to logg=5.00 for T= 65074 logg=4.27\n",
      "Changing to logg=3.50 for T= 26285 logg=3.28\n",
      "Changing to logg=4.00 for T= 31478 logg=3.74\n",
      "Changing to T= 50000 for T= 60679 logg=4.16\n",
      "Changing to logg=5.00 for T= 60679 logg=4.16\n",
      "Changing to T= 50000 for T=100772 logg=5.42\n",
      "Changing to logg=5.00 for T=100772 logg=5.42\n",
      "Changing to logg=4.00 for T= 31125 logg=3.66\n",
      "Changing to T= 50000 for T= 67630 logg=4.33\n",
      "Changing to logg=5.00 for T= 67630 logg=4.33\n",
      "Changing to T= 50000 for T=102249 logg=5.40\n",
      "Changing to logg=5.00 for T=102249 logg=5.40\n",
      "Changing to T= 50000 for T= 74781 logg=4.49\n",
      "Changing to logg=5.00 for T= 74781 logg=4.49\n",
      "Changing to T= 50000 for T= 56171 logg=4.27\n",
      "Changing to logg=5.00 for T= 56171 logg=4.27\n",
      "Changing to T= 50000 for T= 73020 logg=4.45\n",
      "Changing to logg=5.00 for T= 73020 logg=4.45\n",
      "Changing to T= 50000 for T= 69669 logg=4.38\n",
      "Changing to logg=5.00 for T= 69669 logg=4.38\n",
      "Changing to logg=3.50 for T= 28262 logg=3.29\n",
      "Changing to T= 50000 for T= 58381 logg=4.34\n",
      "Changing to logg=5.00 for T= 58381 logg=4.34\n",
      "Changing to T= 50000 for T= 65755 logg=4.28\n",
      "Changing to logg=5.00 for T= 65755 logg=4.28\n",
      "Changing to T= 50000 for T= 93573 logg=5.40\n",
      "Changing to logg=5.00 for T= 93573 logg=5.40\n",
      "Changing to T= 50000 for T=103619 logg=5.41\n",
      "Changing to logg=5.00 for T=103619 logg=5.41\n",
      "Changing to T= 50000 for T=173680 logg=5.88\n",
      "Changing to logg=5.00 for T=173680 logg=5.88\n",
      "Changing to T= 50000 for T= 56498 logg=4.28\n",
      "Changing to logg=5.00 for T= 56498 logg=4.28\n",
      "Changing to T= 50000 for T= 67248 logg=4.32\n",
      "Changing to logg=5.00 for T= 67248 logg=4.32\n",
      "Changing to T= 50000 for T=103193 logg=5.40\n",
      "Changing to logg=5.00 for T=103193 logg=5.40\n",
      "Changing to T= 50000 for T= 65928 logg=4.29\n",
      "Changing to logg=5.00 for T= 65928 logg=4.29\n",
      "Changing to logg=4.00 for T= 31018 logg=3.75\n",
      "Changing to T= 50000 for T=174237 logg=5.88\n",
      "Changing to logg=5.00 for T=174237 logg=5.88\n",
      "Changing to logg=3.50 for T= 26831 logg=3.32\n",
      "Changing to T= 50000 for T=102953 logg=5.41\n",
      "Changing to logg=5.00 for T=102953 logg=5.41\n",
      "Changing to T= 50000 for T=102669 logg=5.40\n",
      "Changing to logg=5.00 for T=102669 logg=5.40\n",
      "Changing to logg=4.50 for T= 41746 logg=3.70\n",
      "Changing to T= 50000 for T= 74427 logg=4.49\n",
      "Changing to logg=5.00 for T= 74427 logg=4.49\n",
      "Changing to logg=4.00 for T= 32382 logg=3.55\n",
      "Changing to T= 50000 for T= 67149 logg=4.32\n",
      "Changing to logg=5.00 for T= 67149 logg=4.32\n",
      "Changing to T= 50000 for T=101932 logg=5.39\n",
      "Changing to logg=5.00 for T=101932 logg=5.39\n",
      "Changing to T= 50000 for T= 67855 logg=4.34\n",
      "Changing to logg=5.00 for T= 67855 logg=4.34\n",
      "Changing to T= 50000 for T= 72947 logg=4.83\n",
      "Changing to logg=5.00 for T= 72947 logg=4.83\n",
      "Changing to T= 50000 for T=101726 logg=5.41\n",
      "Changing to logg=5.00 for T=101726 logg=5.41\n",
      "Changing to T= 50000 for T=102282 logg=5.39\n",
      "Changing to logg=5.00 for T=102282 logg=5.39\n",
      "Changing to T= 50000 for T= 71623 logg=4.42\n",
      "Changing to logg=5.00 for T= 71623 logg=4.42\n",
      "Changing to logg=3.00 for T= 20951 logg=2.96\n",
      "Changing to T= 50000 for T= 67101 logg=4.31\n",
      "Changing to logg=5.00 for T= 67101 logg=4.31\n",
      "Changing to T= 50000 for T= 67624 logg=4.65\n",
      "Changing to logg=5.00 for T= 67624 logg=4.65\n",
      "Changing to T= 50000 for T= 72000 logg=4.43\n",
      "Changing to logg=5.00 for T= 72000 logg=4.43\n",
      "Changing to T= 50000 for T= 73308 logg=4.46\n",
      "Changing to logg=5.00 for T= 73308 logg=4.46\n",
      "Changing to T= 50000 for T= 52802 logg=3.95\n",
      "Changing to logg=5.00 for T= 52802 logg=3.95\n",
      "Changing to T= 50000 for T= 71269 logg=4.77\n",
      "Changing to logg=5.00 for T= 71269 logg=4.77\n",
      "Changing to logg=3.50 for T= 27462 logg=2.95\n",
      "Changing to T= 50000 for T=101277 logg=5.41\n",
      "Changing to logg=5.00 for T=101277 logg=5.41\n",
      "Changing to T= 50000 for T=101445 logg=5.42\n",
      "Changing to logg=5.00 for T=101445 logg=5.42\n",
      "Changing to logg=4.50 for T= 44222 logg=3.81\n",
      "Changing to T= 50000 for T= 74381 logg=4.48\n",
      "Changing to logg=5.00 for T= 74381 logg=4.48\n",
      "Changing to logg=5.00 for T= 49067 logg=4.01\n",
      "Changing to logg=3.50 for T= 30090 logg=2.88\n",
      "Changing to T= 50000 for T= 71302 logg=4.41\n",
      "Changing to logg=5.00 for T= 71302 logg=4.41\n",
      "Changing to T= 50000 for T=102113 logg=5.40\n",
      "Changing to logg=5.00 for T=102113 logg=5.40\n",
      "Changing to T= 50000 for T= 69859 logg=4.38\n",
      "Changing to logg=5.00 for T= 69859 logg=4.38\n",
      "Changing to T= 50000 for T= 88965 logg=4.76\n",
      "Changing to logg=5.00 for T= 88965 logg=4.76\n",
      "Changing to T= 50000 for T= 68314 logg=4.34\n",
      "Changing to logg=5.00 for T= 68314 logg=4.34\n",
      "Changing to T= 50000 for T= 83044 logg=5.15\n",
      "Changing to logg=5.00 for T= 83044 logg=5.15\n",
      "Changing to T= 50000 for T= 68290 logg=4.34\n",
      "Changing to logg=5.00 for T= 68290 logg=4.34\n",
      "Changing to T= 50000 for T= 71598 logg=4.42\n",
      "Changing to logg=5.00 for T= 71598 logg=4.42\n",
      "Changing to T= 50000 for T= 66293 logg=4.31\n",
      "Changing to logg=5.00 for T= 66293 logg=4.31\n",
      "Changing to T= 50000 for T= 65569 logg=4.28\n",
      "Changing to logg=5.00 for T= 65569 logg=4.28\n",
      "Changing to T= 50000 for T= 52338 logg=4.13\n",
      "Changing to logg=5.00 for T= 52338 logg=4.13\n",
      "Changing to T= 50000 for T=102353 logg=5.41\n",
      "Changing to logg=5.00 for T=102353 logg=5.41\n",
      "Changing to T= 50000 for T=102527 logg=5.40\n",
      "Changing to logg=5.00 for T=102527 logg=5.40\n",
      "Changing to T= 50000 for T= 75943 logg=4.93\n",
      "Changing to logg=5.00 for T= 75943 logg=4.93\n",
      "Changing to T= 50000 for T= 67022 logg=4.33\n",
      "Changing to logg=5.00 for T= 67022 logg=4.33\n",
      "Changing to T= 50000 for T=103200 logg=5.41\n",
      "Changing to logg=5.00 for T=103200 logg=5.41\n",
      "Changing to T= 50000 for T= 66816 logg=4.31\n",
      "Changing to logg=5.00 for T= 66816 logg=4.31\n",
      "Changing to logg=4.50 for T= 42930 logg=3.76\n",
      "Changing to logg=3.50 for T= 28029 logg=3.30\n",
      "Changing to logg=4.50 for T= 45454 logg=3.86\n",
      "Changing to T= 50000 for T= 69799 logg=4.38\n",
      "Changing to logg=5.00 for T= 69799 logg=4.38\n",
      "Changing to T= 50000 for T= 78201 logg=4.55\n",
      "Changing to logg=5.00 for T= 78201 logg=4.55\n",
      "Changing to T= 50000 for T=102040 logg=5.39\n",
      "Changing to logg=5.00 for T=102040 logg=5.39\n",
      "Changing to T= 50000 for T= 68468 logg=4.34\n",
      "Changing to logg=5.00 for T= 68468 logg=4.34\n",
      "Changing to T= 50000 for T= 61423 logg=4.19\n",
      "Changing to logg=5.00 for T= 61423 logg=4.19\n",
      "Changing to T= 50000 for T= 91289 logg=5.38\n",
      "Changing to logg=5.00 for T= 91289 logg=5.38\n",
      "Changing to T= 50000 for T= 69920 logg=4.38\n",
      "Changing to logg=5.00 for T= 69920 logg=4.38\n",
      "Changing to logg=3.00 for T= 19883 logg=2.48\n",
      "Changing to T= 50000 for T=103383 logg=5.41\n",
      "Changing to logg=5.00 for T=103383 logg=5.41\n",
      "Changing to T= 50000 for T= 66702 logg=4.30\n",
      "Changing to logg=5.00 for T= 66702 logg=4.30\n",
      "Changing to T= 50000 for T= 73925 logg=4.47\n",
      "Changing to logg=5.00 for T= 73925 logg=4.47\n",
      "Changing to T= 50000 for T= 72249 logg=4.43\n",
      "Changing to logg=5.00 for T= 72249 logg=4.43\n",
      "Changing to T= 50000 for T= 72622 logg=4.45\n",
      "Changing to logg=5.00 for T= 72622 logg=4.45\n",
      "Changing to T= 50000 for T=102056 logg=5.41\n",
      "Changing to logg=5.00 for T=102056 logg=5.41\n",
      "Changing to T= 50000 for T= 75866 logg=4.52\n",
      "Changing to logg=5.00 for T= 75866 logg=4.52\n",
      "Changing to T= 50000 for T= 65814 logg=4.28\n",
      "Changing to logg=5.00 for T= 65814 logg=4.28\n",
      "Changing to T= 50000 for T= 76554 logg=4.95\n",
      "Changing to logg=5.00 for T= 76554 logg=4.95\n",
      "Changing to logg=4.50 for T= 41743 logg=3.70\n",
      "Changing to logg=4.50 for T= 42917 logg=3.76\n",
      "Changing to T= 50000 for T= 68712 logg=4.36\n",
      "Changing to logg=5.00 for T= 68712 logg=4.36\n",
      "Changing to T= 50000 for T= 67059 logg=4.33\n",
      "Changing to logg=5.00 for T= 67059 logg=4.33\n",
      "Changing to T= 50000 for T= 68757 logg=4.35\n",
      "Changing to logg=5.00 for T= 68757 logg=4.35\n",
      "Changing to T= 50000 for T=103674 logg=5.41\n",
      "Changing to logg=5.00 for T=103674 logg=5.41\n",
      "Changing to T= 50000 for T= 73889 logg=4.47\n",
      "Changing to logg=5.00 for T= 73889 logg=4.47\n",
      "Changing to T= 50000 for T= 67473 logg=4.32\n",
      "Changing to logg=5.00 for T= 67473 logg=4.32\n",
      "Changing to T= 50000 for T=102237 logg=5.40\n",
      "Changing to logg=5.00 for T=102237 logg=5.40\n",
      "Changing to T= 50000 for T=102991 logg=5.41\n",
      "Changing to logg=5.00 for T=102991 logg=5.41\n",
      "Changing to T= 50000 for T=101728 logg=5.41\n",
      "Changing to logg=5.00 for T=101728 logg=5.41\n",
      "Changing to logg=4.50 for T= 45086 logg=3.85\n",
      "Changing to T= 50000 for T= 66364 logg=4.29\n",
      "Changing to logg=5.00 for T= 66364 logg=4.29\n",
      "Changing to T= 50000 for T=102308 logg=5.41\n",
      "Changing to logg=5.00 for T=102308 logg=5.41\n",
      "Changing to T= 50000 for T= 94748 logg=5.39\n",
      "Changing to logg=5.00 for T= 94748 logg=5.39\n",
      "Changing to T= 50000 for T=102400 logg=5.42\n",
      "Changing to logg=5.00 for T=102400 logg=5.42\n",
      "Changing to logg=4.00 for T= 32467 logg=3.86\n",
      "Changing to T= 50000 for T= 73320 logg=4.46\n",
      "Changing to logg=5.00 for T= 73320 logg=4.46\n",
      "Changing to T= 50000 for T= 74218 logg=4.48\n",
      "Changing to logg=5.00 for T= 74218 logg=4.48\n",
      "Changing to T= 50000 for T= 69844 logg=4.38\n",
      "Changing to logg=5.00 for T= 69844 logg=4.38\n",
      "Changing to T= 50000 for T= 64999 logg=4.26\n",
      "Changing to logg=5.00 for T= 64999 logg=4.26\n",
      "Changing to T= 50000 for T=101623 logg=5.40\n",
      "Changing to logg=5.00 for T=101623 logg=5.40\n",
      "Changing to T= 50000 for T=162637 logg=5.76\n",
      "Changing to logg=5.00 for T=162637 logg=5.76\n",
      "Changing to T= 50000 for T= 68091 logg=4.34\n",
      "Changing to logg=5.00 for T= 68091 logg=4.34\n",
      "Changing to T= 50000 for T= 69256 logg=4.37\n",
      "Changing to logg=5.00 for T= 69256 logg=4.37\n",
      "Changing to T= 50000 for T= 67185 logg=4.32\n",
      "Changing to logg=5.00 for T= 67185 logg=4.32\n",
      "Changing to T= 50000 for T=103279 logg=5.41\n",
      "Changing to logg=5.00 for T=103279 logg=5.41\n",
      "Changing to T= 50000 for T= 69328 logg=4.36\n",
      "Changing to logg=5.00 for T= 69328 logg=4.36\n",
      "Changing to T= 50000 for T= 68509 logg=4.34\n",
      "Changing to logg=5.00 for T= 68509 logg=4.34\n",
      "Changing to T= 50000 for T=102134 logg=5.40\n",
      "Changing to logg=5.00 for T=102134 logg=5.40\n",
      "Changing to T= 50000 for T= 60392 logg=4.41\n",
      "Changing to logg=5.00 for T= 60392 logg=4.41\n",
      "Changing to T= 50000 for T=103343 logg=5.41\n",
      "Changing to logg=5.00 for T=103343 logg=5.41\n",
      "Changing to T= 50000 for T= 72629 logg=4.45\n",
      "Changing to logg=5.00 for T= 72629 logg=4.45\n",
      "Changing to T= 50000 for T=102866 logg=5.41\n",
      "Changing to logg=5.00 for T=102866 logg=5.41\n",
      "Changing to T= 50000 for T=102433 logg=5.39\n",
      "Changing to logg=5.00 for T=102433 logg=5.39\n",
      "Changing to T= 50000 for T= 82949 logg=5.17\n",
      "Changing to logg=5.00 for T= 82949 logg=5.17\n",
      "Changing to logg=3.50 for T= 26486 logg=3.38\n",
      "Changing to T= 50000 for T=103319 logg=5.40\n",
      "Changing to logg=5.00 for T=103319 logg=5.40\n",
      "Changing to T= 50000 for T= 57106 logg=4.30\n",
      "Changing to logg=5.00 for T= 57106 logg=4.30\n",
      "Changing to T= 50000 for T= 66876 logg=4.31\n",
      "Changing to logg=5.00 for T= 66876 logg=4.31\n",
      "Changing to T= 50000 for T=103409 logg=5.41\n",
      "Changing to logg=5.00 for T=103409 logg=5.41\n",
      "Changing to T= 50000 for T= 72729 logg=4.45\n",
      "Changing to logg=5.00 for T= 72729 logg=4.45\n",
      "Changing to logg=3.00 for T= 23512 logg=2.25\n",
      "Changing to T= 50000 for T= 74855 logg=4.49\n",
      "Changing to logg=5.00 for T= 74855 logg=4.49\n",
      "Changing to T= 50000 for T= 72709 logg=4.44\n",
      "Changing to logg=5.00 for T= 72709 logg=4.44\n",
      "Changing to T= 50000 for T= 50619 logg=4.06\n",
      "Changing to logg=5.00 for T= 50619 logg=4.06\n",
      "Changing to T= 50000 for T= 72056 logg=4.43\n",
      "Changing to logg=5.00 for T= 72056 logg=4.43\n",
      "Changing to logg=4.50 for T= 43710 logg=3.79\n",
      "Changing to T= 50000 for T=101391 logg=5.41\n",
      "Changing to logg=5.00 for T=101391 logg=5.41\n",
      "Changing to T= 50000 for T= 66924 logg=4.31\n",
      "Changing to logg=5.00 for T= 66924 logg=4.31\n",
      "Changing to T= 50000 for T= 65516 logg=4.27\n",
      "Changing to logg=5.00 for T= 65516 logg=4.27\n",
      "Changing to logg=4.50 for T= 42028 logg=3.72\n",
      "Changing to T= 50000 for T= 82065 logg=4.94\n",
      "Changing to logg=5.00 for T= 82065 logg=4.94\n",
      "Changing to T= 50000 for T=170279 logg=5.84\n",
      "Changing to logg=5.00 for T=170279 logg=5.84\n",
      "Changing to T= 50000 for T=101747 logg=5.38\n",
      "Changing to logg=5.00 for T=101747 logg=5.38\n",
      "Changing to T= 50000 for T= 68431 logg=4.34\n",
      "Changing to logg=5.00 for T= 68431 logg=4.34\n",
      "Changing to T= 50000 for T= 72644 logg=4.44\n",
      "Changing to logg=5.00 for T= 72644 logg=4.44\n",
      "Changing to T= 50000 for T= 61468 logg=4.45\n",
      "Changing to logg=5.00 for T= 61468 logg=4.45\n",
      "Changing to T= 50000 for T= 67391 logg=4.32\n",
      "Changing to logg=5.00 for T= 67391 logg=4.32\n",
      "Changing to T= 50000 for T= 67360 logg=4.33\n",
      "Changing to logg=5.00 for T= 67360 logg=4.33\n",
      "Changing to T= 50000 for T= 66968 logg=4.31\n",
      "Changing to logg=5.00 for T= 66968 logg=4.31\n",
      "Changing to T= 50000 for T= 64880 logg=4.26\n",
      "Changing to logg=5.00 for T= 64880 logg=4.26\n",
      "Changing to T= 50000 for T= 67191 logg=4.32\n",
      "Changing to logg=5.00 for T= 67191 logg=4.32\n",
      "Changing to T= 50000 for T=101962 logg=5.39\n",
      "Changing to logg=5.00 for T=101962 logg=5.39\n",
      "Changing to T= 50000 for T=103464 logg=5.41\n",
      "Changing to logg=5.00 for T=103464 logg=5.41\n",
      "Changing to T= 50000 for T= 67276 logg=4.32\n",
      "Changing to logg=5.00 for T= 67276 logg=4.32\n",
      "Changing to T= 50000 for T= 93233 logg=5.17\n",
      "Changing to logg=5.00 for T= 93233 logg=5.17\n",
      "Changing to T= 50000 for T= 66595 logg=4.30\n",
      "Changing to logg=5.00 for T= 66595 logg=4.30\n",
      "Changing to T= 50000 for T= 74182 logg=4.48\n",
      "Changing to logg=5.00 for T= 74182 logg=4.48\n",
      "Changing to T= 50000 for T= 71973 logg=4.43\n",
      "Changing to logg=5.00 for T= 71973 logg=4.43\n",
      "Changing to T= 50000 for T=102353 logg=5.41\n",
      "Changing to logg=5.00 for T=102353 logg=5.41\n",
      "Changing to T= 50000 for T= 52235 logg=4.13\n",
      "Changing to logg=5.00 for T= 52235 logg=4.13\n",
      "Changing to T= 50000 for T= 65822 logg=4.29\n",
      "Changing to logg=5.00 for T= 65822 logg=4.29\n",
      "Changing to T= 50000 for T= 65203 logg=4.27\n",
      "Changing to logg=5.00 for T= 65203 logg=4.27\n",
      "Changing to T= 50000 for T= 68099 logg=4.34\n",
      "Changing to logg=5.00 for T= 68099 logg=4.34\n",
      "Changing to T= 50000 for T= 61325 logg=4.18\n",
      "Changing to logg=5.00 for T= 61325 logg=4.18\n",
      "Changing to T= 50000 for T=171609 logg=5.85\n",
      "Changing to logg=5.00 for T=171609 logg=5.85\n",
      "Changing to T= 50000 for T= 72778 logg=4.45\n",
      "Changing to logg=5.00 for T= 72778 logg=4.45\n",
      "Changing to T= 50000 for T= 67324 logg=4.32\n",
      "Changing to logg=5.00 for T= 67324 logg=4.32\n",
      "Changing to T= 50000 for T= 69021 logg=4.36\n",
      "Changing to logg=5.00 for T= 69021 logg=4.36\n",
      "Changing to T= 50000 for T=101974 logg=5.40\n",
      "Changing to logg=5.00 for T=101974 logg=5.40\n",
      "Changing to T= 50000 for T= 64536 logg=4.26\n",
      "Changing to logg=5.00 for T= 64536 logg=4.26\n",
      "Changing to T= 50000 for T=176181 logg=5.90\n",
      "Changing to logg=5.00 for T=176181 logg=5.90\n",
      "Changing to T= 50000 for T= 74444 logg=4.49\n",
      "Changing to logg=5.00 for T= 74444 logg=4.49\n",
      "Changing to T= 50000 for T=164324 logg=5.78\n",
      "Changing to logg=5.00 for T=164324 logg=5.78\n",
      "Changing to T= 50000 for T=103719 logg=5.41\n",
      "Changing to logg=5.00 for T=103719 logg=5.41\n",
      "Changing to T= 50000 for T= 69390 logg=4.71\n",
      "Changing to logg=5.00 for T= 69390 logg=4.71\n",
      "Changing to T= 50000 for T= 71038 logg=4.43\n",
      "Changing to logg=5.00 for T= 71038 logg=4.43\n",
      "Changing to T= 50000 for T= 66434 logg=4.30\n",
      "Changing to logg=5.00 for T= 66434 logg=4.30\n",
      "Changing to T= 50000 for T= 75950 logg=4.93\n",
      "Changing to logg=5.00 for T= 75950 logg=4.93\n",
      "Changing to T= 50000 for T=101887 logg=5.41\n",
      "Changing to logg=5.00 for T=101887 logg=5.41\n",
      "Changing to logg=4.50 for T= 43082 logg=3.76\n",
      "Changing to T= 50000 for T= 65498 logg=4.28\n",
      "Changing to logg=5.00 for T= 65498 logg=4.28\n",
      "Changing to T= 50000 for T=102419 logg=5.40\n",
      "Changing to logg=5.00 for T=102419 logg=5.40\n",
      "Changing to T= 50000 for T= 80053 logg=4.57\n",
      "Changing to logg=5.00 for T= 80053 logg=4.57\n",
      "Changing to T= 50000 for T=169602 logg=5.84\n",
      "Changing to logg=5.00 for T=169602 logg=5.84\n",
      "Changing to logg=4.00 for T= 32053 logg=3.87\n",
      "Changing to T= 50000 for T=103359 logg=5.41\n",
      "Changing to logg=5.00 for T=103359 logg=5.41\n",
      "Changing to T= 50000 for T= 59860 logg=4.13\n",
      "Changing to logg=5.00 for T= 59860 logg=4.13\n",
      "Changing to T= 50000 for T= 66357 logg=4.29\n",
      "Changing to logg=5.00 for T= 66357 logg=4.29\n",
      "Changing to logg=4.00 for T= 34489 logg=3.74\n",
      "Changing to T= 50000 for T=170381 logg=5.84\n",
      "Changing to logg=5.00 for T=170381 logg=5.84\n",
      "Changing to logg=4.00 for T= 32498 logg=3.50\n",
      "Changing to T= 50000 for T= 66487 logg=4.30\n",
      "Changing to logg=5.00 for T= 66487 logg=4.30\n",
      "Changing to T= 50000 for T= 59709 logg=4.13\n",
      "Changing to logg=5.00 for T= 59709 logg=4.13\n",
      "Changing to T= 50000 for T= 62689 logg=4.49\n",
      "Changing to logg=5.00 for T= 62689 logg=4.49\n",
      "Changing to T= 50000 for T= 68000 logg=4.33\n",
      "Changing to logg=5.00 for T= 68000 logg=4.33\n",
      "Changing to logg=4.50 for T= 48500 logg=3.98\n",
      "Changing to T= 50000 for T= 71723 logg=4.42\n",
      "Changing to logg=5.00 for T= 71723 logg=4.42\n",
      "Changing to T= 50000 for T= 73712 logg=4.47\n",
      "Changing to logg=5.00 for T= 73712 logg=4.47\n",
      "Changing to T= 50000 for T= 65990 logg=4.29\n",
      "Changing to logg=5.00 for T= 65990 logg=4.29\n",
      "Changing to T= 50000 for T= 74967 logg=4.50\n",
      "Changing to logg=5.00 for T= 74967 logg=4.50\n",
      "Changing to T= 50000 for T= 92342 logg=5.39\n",
      "Changing to logg=5.00 for T= 92342 logg=5.39\n",
      "Changing to T= 50000 for T=101007 logg=5.42\n",
      "Changing to logg=5.00 for T=101007 logg=5.42\n",
      "Changing to T= 50000 for T=103750 logg=5.41\n",
      "Changing to logg=5.00 for T=103750 logg=5.41\n",
      "Changing to T= 50000 for T= 68223 logg=4.34\n",
      "Changing to logg=5.00 for T= 68223 logg=4.34\n",
      "Changing to T= 50000 for T= 59073 logg=4.37\n",
      "Changing to logg=5.00 for T= 59073 logg=4.37\n",
      "Changing to T= 50000 for T=102806 logg=5.41\n",
      "Changing to logg=5.00 for T=102806 logg=5.41\n",
      "Changing to T= 50000 for T=132468 logg=5.53\n",
      "Changing to logg=5.00 for T=132468 logg=5.53\n",
      "Changing to logg=4.50 for T= 42780 logg=3.75\n",
      "Changing to T= 50000 for T= 61518 logg=4.45\n",
      "Changing to logg=5.00 for T= 61518 logg=4.45\n",
      "Changing to T= 50000 for T=102197 logg=5.40\n",
      "Changing to logg=5.00 for T=102197 logg=5.40\n",
      "Changing to T= 50000 for T= 74305 logg=4.48\n",
      "Changing to logg=5.00 for T= 74305 logg=4.48\n",
      "Changing to T= 50000 for T= 65130 logg=4.27\n",
      "Changing to logg=5.00 for T= 65130 logg=4.27\n",
      "Changing to T= 50000 for T= 68970 logg=4.36\n",
      "Changing to logg=5.00 for T= 68970 logg=4.36\n",
      "Changing to T= 50000 for T= 69746 logg=4.38\n",
      "Changing to logg=5.00 for T= 69746 logg=4.38\n",
      "Changing to T= 50000 for T= 64874 logg=4.27\n",
      "Changing to logg=5.00 for T= 64874 logg=4.27\n",
      "Changing to T= 50000 for T= 54789 logg=4.22\n",
      "Changing to logg=5.00 for T= 54789 logg=4.22\n",
      "Changing to T= 50000 for T= 80822 logg=5.09\n",
      "Changing to logg=5.00 for T= 80822 logg=5.09\n",
      "Changing to logg=4.00 for T= 32240 logg=3.61\n",
      "Changing to T= 50000 for T= 70824 logg=4.40\n",
      "Changing to logg=5.00 for T= 70824 logg=4.40\n",
      "Changing to T= 50000 for T= 74024 logg=4.48\n",
      "Changing to logg=5.00 for T= 74024 logg=4.48\n",
      "Changing to logg=4.50 for T= 46746 logg=3.91\n",
      "Changing to T= 50000 for T= 92805 logg=5.39\n",
      "Changing to logg=5.00 for T= 92805 logg=5.39\n",
      "Changing to logg=4.50 for T= 46309 logg=3.90\n",
      "Changing to T= 50000 for T= 78712 logg=5.02\n",
      "Changing to logg=5.00 for T= 78712 logg=5.02\n",
      "Changing to logg=4.00 for T= 31309 logg=3.80\n",
      "Changing to T= 50000 for T= 56169 logg=4.27\n",
      "Changing to logg=5.00 for T= 56169 logg=4.27\n",
      "Changing to T= 50000 for T= 67593 logg=4.33\n",
      "Changing to logg=5.00 for T= 67593 logg=4.33\n",
      "Changing to T= 50000 for T= 74602 logg=4.49\n",
      "Changing to logg=5.00 for T= 74602 logg=4.49\n",
      "Changing to logg=1.50 for T=  8770 logg=1.44\n",
      "Changing to T= 50000 for T= 55242 logg=3.98\n",
      "Changing to logg=5.00 for T= 55242 logg=3.98\n",
      "Changing to logg=4.00 for T= 33232 logg=3.72\n",
      "Changing to T= 50000 for T= 76516 logg=4.96\n",
      "Changing to logg=5.00 for T= 76516 logg=4.96\n",
      "Changing to T= 50000 for T= 65967 logg=4.28\n",
      "Changing to logg=5.00 for T= 65967 logg=4.28\n",
      "Changing to logg=4.00 for T= 34156 logg=3.75\n",
      "Changing to T= 50000 for T= 72751 logg=4.45\n",
      "Changing to logg=5.00 for T= 72751 logg=4.45\n",
      "Changing to T= 50000 for T= 72197 logg=4.43\n",
      "Changing to logg=5.00 for T= 72197 logg=4.43\n",
      "Changing to logg=4.00 for T= 36458 logg=3.95\n",
      "Changing to T= 50000 for T= 67178 logg=4.31\n",
      "Changing to logg=5.00 for T= 67178 logg=4.31\n",
      "Changing to T= 50000 for T=103863 logg=5.41\n",
      "Changing to logg=5.00 for T=103863 logg=5.41\n",
      "Changing to T= 50000 for T=103060 logg=5.41\n",
      "Changing to logg=5.00 for T=103060 logg=5.41\n",
      "Changing to logg=4.50 for T= 48012 logg=3.96\n",
      "Changing to T= 50000 for T= 51387 logg=4.09\n",
      "Changing to logg=5.00 for T= 51387 logg=4.09\n",
      "Changing to T= 50000 for T=103870 logg=5.41\n",
      "Changing to logg=5.00 for T=103870 logg=5.41\n",
      "Changing to T= 50000 for T= 65184 logg=4.27\n",
      "Changing to logg=5.00 for T= 65184 logg=4.27\n",
      "Changing to T= 50000 for T= 94724 logg=5.40\n",
      "Changing to logg=5.00 for T= 94724 logg=5.40\n",
      "Changing to T= 50000 for T= 66243 logg=4.29\n",
      "Changing to logg=5.00 for T= 66243 logg=4.29\n",
      "Changing to T= 50000 for T=102009 logg=5.40\n",
      "Changing to logg=5.00 for T=102009 logg=5.40\n",
      "Changing to T= 50000 for T= 72942 logg=4.45\n",
      "Changing to logg=5.00 for T= 72942 logg=4.45\n",
      "Changing to T= 50000 for T= 67151 logg=4.32\n",
      "Changing to logg=5.00 for T= 67151 logg=4.32\n",
      "Changing to T= 50000 for T= 67344 logg=4.32\n",
      "Changing to logg=5.00 for T= 67344 logg=4.32\n",
      "Changing to T= 50000 for T= 69946 logg=4.39\n",
      "Changing to logg=5.00 for T= 69946 logg=4.39\n",
      "Changing to logg=4.50 for T= 45774 logg=3.87\n",
      "Changing to T= 50000 for T= 67186 logg=4.31\n",
      "Changing to logg=5.00 for T= 67186 logg=4.31\n",
      "Changing to T= 50000 for T= 68127 logg=4.34\n",
      "Changing to logg=5.00 for T= 68127 logg=4.34\n",
      "Changing to logg=3.50 for T= 27299 logg=3.50\n",
      "Changing to T= 50000 for T= 65605 logg=4.58\n",
      "Changing to logg=5.00 for T= 65605 logg=4.58\n",
      "Changing to T= 50000 for T= 68824 logg=4.36\n",
      "Changing to logg=5.00 for T= 68824 logg=4.36\n",
      "Changing to T= 50000 for T= 69684 logg=4.38\n",
      "Changing to logg=5.00 for T= 69684 logg=4.38\n",
      "Changing to T= 50000 for T=172675 logg=5.87\n",
      "Changing to logg=5.00 for T=172675 logg=5.87\n",
      "Changing to logg=5.00 for T= 49828 logg=4.04\n",
      "Changing to T= 50000 for T= 67582 logg=4.33\n",
      "Changing to logg=5.00 for T= 67582 logg=4.33\n",
      "Changing to T= 50000 for T= 83603 logg=5.19\n",
      "Changing to logg=5.00 for T= 83603 logg=5.19\n",
      "Changing to T= 50000 for T=102922 logg=5.42\n",
      "Changing to logg=5.00 for T=102922 logg=5.42\n",
      "Changing to T= 50000 for T= 67806 logg=4.33\n",
      "Changing to logg=5.00 for T= 67806 logg=4.33\n",
      "Changing to T= 50000 for T= 67816 logg=4.33\n",
      "Changing to logg=5.00 for T= 67816 logg=4.33\n",
      "Changing to T= 50000 for T= 76206 logg=4.80\n",
      "Changing to logg=5.00 for T= 76206 logg=4.80\n",
      "Changing to T= 50000 for T=102440 logg=5.41\n",
      "Changing to logg=5.00 for T=102440 logg=5.41\n",
      "Changing to T= 50000 for T= 79382 logg=5.04\n",
      "Changing to logg=5.00 for T= 79382 logg=5.04\n",
      "Changing to T= 50000 for T= 95984 logg=4.82\n",
      "Changing to logg=5.00 for T= 95984 logg=4.82\n",
      "Changing to T= 50000 for T=109252 logg=5.51\n",
      "Changing to logg=5.00 for T=109252 logg=5.51\n",
      "Changing to T= 50000 for T= 69247 logg=4.37\n",
      "Changing to logg=5.00 for T= 69247 logg=4.37\n",
      "Changing to T= 50000 for T= 74302 logg=4.48\n",
      "Changing to logg=5.00 for T= 74302 logg=4.48\n",
      "Changing to T= 50000 for T= 69725 logg=4.38\n",
      "Changing to logg=5.00 for T= 69725 logg=4.38\n",
      "Changing to T= 50000 for T= 74425 logg=4.48\n",
      "Changing to logg=5.00 for T= 74425 logg=4.48\n",
      "Changing to T= 50000 for T= 65100 logg=4.26\n",
      "Changing to logg=5.00 for T= 65100 logg=4.26\n",
      "Changing to logg=4.50 for T= 42886 logg=3.75\n",
      "Changing to logg=5.00 for T= 49043 logg=4.00\n",
      "Changing to T= 50000 for T= 72790 logg=4.45\n",
      "Changing to logg=5.00 for T= 72790 logg=4.45\n",
      "Changing to T= 50000 for T=103548 logg=5.41\n",
      "Changing to logg=5.00 for T=103548 logg=5.41\n",
      "Changing to logg=4.00 for T= 34157 logg=3.71\n",
      "Changing to logg=3.00 for T= 22218 logg=2.77\n",
      "Changing to T= 50000 for T= 69174 logg=4.37\n",
      "Changing to logg=5.00 for T= 69174 logg=4.37\n",
      "Changing to T= 50000 for T= 77190 logg=4.51\n",
      "Changing to logg=5.00 for T= 77190 logg=4.51\n",
      "Changing to T= 50000 for T=102438 logg=5.42\n",
      "Changing to logg=5.00 for T=102438 logg=5.42\n",
      "Changing to T= 50000 for T= 65088 logg=4.27\n",
      "Changing to logg=5.00 for T= 65088 logg=4.27\n",
      "Changing to T= 50000 for T= 70940 logg=4.41\n",
      "Changing to logg=5.00 for T= 70940 logg=4.41\n",
      "Changing to T= 50000 for T=123259 logg=5.43\n",
      "Changing to logg=5.00 for T=123259 logg=5.43\n",
      "Changing to T= 50000 for T=101672 logg=5.40\n",
      "Changing to logg=5.00 for T=101672 logg=5.40\n",
      "Changing to logg=4.50 for T= 44957 logg=3.84\n",
      "Changing to T= 50000 for T= 69287 logg=4.37\n",
      "Changing to logg=5.00 for T= 69287 logg=4.37\n",
      "Changing to logg=5.00 for T= 49567 logg=4.02\n",
      "Changing to T= 50000 for T= 52571 logg=4.14\n",
      "Changing to logg=5.00 for T= 52571 logg=4.14\n",
      "Changing to T= 50000 for T=103024 logg=5.41\n",
      "Changing to logg=5.00 for T=103024 logg=5.41\n",
      "Changing to T= 50000 for T= 80581 logg=5.10\n",
      "Changing to logg=5.00 for T= 80581 logg=5.10\n",
      "Changing to T= 50000 for T=103153 logg=5.41\n",
      "Changing to logg=5.00 for T=103153 logg=5.41\n",
      "Changing to T= 50000 for T= 67123 logg=4.31\n",
      "Changing to logg=5.00 for T= 67123 logg=4.31\n",
      "Changing to T= 50000 for T=163298 logg=5.77\n",
      "Changing to logg=5.00 for T=163298 logg=5.77\n",
      "Changing to T= 50000 for T= 64892 logg=4.26\n",
      "Changing to logg=5.00 for T= 64892 logg=4.26\n",
      "Changing to T= 50000 for T=102638 logg=5.40\n",
      "Changing to logg=5.00 for T=102638 logg=5.40\n",
      "Changing to logg=4.50 for T= 40176 logg=3.63\n",
      "Changing to T= 50000 for T=170781 logg=5.85\n",
      "Changing to logg=5.00 for T=170781 logg=5.85\n",
      "Changing to T= 50000 for T= 85743 logg=5.01\n",
      "Changing to logg=5.00 for T= 85743 logg=5.01\n",
      "Changing to T= 50000 for T=101838 logg=5.38\n",
      "Changing to logg=5.00 for T=101838 logg=5.38\n",
      "Changing to T= 50000 for T= 77477 logg=4.99\n",
      "Changing to logg=5.00 for T= 77477 logg=4.99\n",
      "Changing to T= 50000 for T= 71210 logg=4.41\n",
      "Changing to logg=5.00 for T= 71210 logg=4.41\n",
      "Changing to T= 50000 for T= 67205 logg=4.32\n",
      "Changing to logg=5.00 for T= 67205 logg=4.32\n",
      "Changing to T= 50000 for T= 66141 logg=4.29\n",
      "Changing to logg=5.00 for T= 66141 logg=4.29\n",
      "Changing to T= 50000 for T= 75507 logg=4.92\n",
      "Changing to logg=5.00 for T= 75507 logg=4.92\n",
      "Changing to T= 50000 for T= 74399 logg=4.48\n",
      "Changing to logg=5.00 for T= 74399 logg=4.48\n",
      "Changing to T= 50000 for T= 78170 logg=5.01\n",
      "Changing to logg=5.00 for T= 78170 logg=5.01\n",
      "Changing to T= 50000 for T= 74116 logg=4.48\n",
      "Changing to logg=5.00 for T= 74116 logg=4.48\n",
      "Changing to T= 50000 for T= 72404 logg=4.44\n",
      "Changing to logg=5.00 for T= 72404 logg=4.44\n",
      "Changing to T= 50000 for T=103588 logg=5.41\n",
      "Changing to logg=5.00 for T=103588 logg=5.41\n",
      "Changing to T= 50000 for T=103555 logg=5.41\n",
      "Changing to logg=5.00 for T=103555 logg=5.41\n",
      "Changing to T= 50000 for T= 70066 logg=4.39\n",
      "Changing to logg=5.00 for T= 70066 logg=4.39\n",
      "Changing to T= 50000 for T= 74521 logg=4.49\n",
      "Changing to logg=5.00 for T= 74521 logg=4.49\n",
      "Changing to T= 50000 for T=102537 logg=5.40\n",
      "Changing to logg=5.00 for T=102537 logg=5.40\n",
      "Changing to T= 50000 for T=100788 logg=5.42\n",
      "Changing to logg=5.00 for T=100788 logg=5.42\n",
      "Changing to T= 50000 for T=102054 logg=5.41\n",
      "Changing to logg=5.00 for T=102054 logg=5.41\n",
      "Changing to T= 50000 for T= 66874 logg=4.31\n",
      "Changing to logg=5.00 for T= 66874 logg=4.31\n",
      "Changing to T= 50000 for T= 84848 logg=4.70\n",
      "Changing to logg=5.00 for T= 84848 logg=4.70\n",
      "Changing to T= 50000 for T=102530 logg=5.42\n",
      "Changing to logg=5.00 for T=102530 logg=5.42\n",
      "Changing to T= 50000 for T= 66324 logg=4.31\n",
      "Changing to logg=5.00 for T= 66324 logg=4.31\n",
      "Changing to T= 50000 for T=102676 logg=5.41\n",
      "Changing to logg=5.00 for T=102676 logg=5.41\n",
      "Changing to logg=3.50 for T= 26974 logg=3.45\n",
      "Changing to T= 50000 for T= 65151 logg=4.27\n",
      "Changing to logg=5.00 for T= 65151 logg=4.27\n",
      "Changing to T= 50000 for T= 71659 logg=4.42\n",
      "Changing to logg=5.00 for T= 71659 logg=4.42\n",
      "Changing to T= 50000 for T=101871 logg=5.40\n",
      "Changing to logg=5.00 for T=101871 logg=5.40\n",
      "Changing to T= 50000 for T= 67619 logg=4.34\n",
      "Changing to logg=5.00 for T= 67619 logg=4.34\n",
      "Changing to T= 50000 for T= 67596 logg=4.65\n",
      "Changing to logg=5.00 for T= 67596 logg=4.65\n",
      "Changing to T= 50000 for T= 67916 logg=4.33\n",
      "Changing to logg=5.00 for T= 67916 logg=4.33\n",
      "Changing to T= 50000 for T=103548 logg=5.46\n",
      "Changing to logg=5.00 for T=103548 logg=5.46\n",
      "Changing to T= 50000 for T= 74598 logg=4.49\n",
      "Changing to logg=5.00 for T= 74598 logg=4.49\n",
      "Changing to T= 50000 for T= 72382 logg=4.44\n",
      "Changing to logg=5.00 for T= 72382 logg=4.44\n",
      "Changing to T= 50000 for T= 68735 logg=4.35\n",
      "Changing to logg=5.00 for T= 68735 logg=4.35\n",
      "Changing to T= 50000 for T= 69107 logg=4.36\n",
      "Changing to logg=5.00 for T= 69107 logg=4.36\n",
      "Changing to T= 50000 for T= 65670 logg=4.28\n",
      "Changing to logg=5.00 for T= 65670 logg=4.28\n",
      "Changing to T= 50000 for T= 80553 logg=5.09\n",
      "Changing to logg=5.00 for T= 80553 logg=5.09\n",
      "Changing to T= 50000 for T=171475 logg=5.85\n",
      "Changing to logg=5.00 for T=171475 logg=5.85\n",
      "Changing to T= 50000 for T= 50852 logg=4.07\n",
      "Changing to logg=5.00 for T= 50852 logg=4.07\n",
      "Changing to T= 50000 for T= 71059 logg=4.41\n",
      "Changing to logg=5.00 for T= 71059 logg=4.41\n",
      "Changing to T= 50000 for T= 68997 logg=4.70\n",
      "Changing to logg=5.00 for T= 68997 logg=4.70\n",
      "Changing to logg=4.50 for T= 44431 logg=3.82\n",
      "Changing to T= 50000 for T= 55505 logg=4.24\n",
      "Changing to logg=5.00 for T= 55505 logg=4.24\n",
      "Changing to T= 50000 for T=103295 logg=5.41\n",
      "Changing to logg=5.00 for T=103295 logg=5.41\n",
      "Changing to T= 50000 for T=102877 logg=5.42\n",
      "Changing to logg=5.00 for T=102877 logg=5.42\n",
      "Changing to T= 50000 for T= 69175 logg=4.37\n",
      "Changing to logg=5.00 for T= 69175 logg=4.37\n",
      "Changing to T= 50000 for T=102582 logg=5.41\n",
      "Changing to logg=5.00 for T=102582 logg=5.41\n",
      "Changing to T= 50000 for T=101384 logg=5.42\n",
      "Changing to logg=5.00 for T=101384 logg=5.42\n",
      "Changing to T= 50000 for T= 74005 logg=4.47\n",
      "Changing to logg=5.00 for T= 74005 logg=4.47\n",
      "Changing to T= 50000 for T= 67059 logg=4.31\n",
      "Changing to logg=5.00 for T= 67059 logg=4.31\n",
      "Changing to T= 50000 for T= 69217 logg=4.37\n",
      "Changing to logg=5.00 for T= 69217 logg=4.37\n",
      "Changing to T= 50000 for T= 79066 logg=4.86\n",
      "Changing to logg=5.00 for T= 79066 logg=4.86\n",
      "Changing to T= 50000 for T= 71685 logg=4.42\n",
      "Changing to logg=5.00 for T= 71685 logg=4.42\n",
      "Changing to logg=3.50 for T= 27049 logg=3.39\n",
      "Changing to T= 50000 for T= 69250 logg=4.36\n",
      "Changing to logg=5.00 for T= 69250 logg=4.36\n",
      "Changing to T= 50000 for T=103183 logg=5.45\n",
      "Changing to logg=5.00 for T=103183 logg=5.45\n",
      "Changing to T= 50000 for T= 67126 logg=4.31\n",
      "Changing to logg=5.00 for T= 67126 logg=4.31\n",
      "Changing to T= 50000 for T= 68547 logg=4.68\n",
      "Changing to logg=5.00 for T= 68547 logg=4.68\n",
      "Changing to T= 50000 for T= 70317 logg=4.39\n",
      "Changing to logg=5.00 for T= 70317 logg=4.39\n",
      "Changing to T= 50000 for T=102702 logg=5.40\n",
      "Changing to logg=5.00 for T=102702 logg=5.40\n",
      "Changing to T= 50000 for T= 54474 logg=4.21\n",
      "Changing to logg=5.00 for T= 54474 logg=4.21\n",
      "Changing to T= 50000 for T= 96381 logg=5.41\n",
      "Changing to logg=5.00 for T= 96381 logg=5.41\n",
      "Changing to T= 50000 for T= 61844 logg=4.19\n",
      "Changing to logg=5.00 for T= 61844 logg=4.19\n",
      "Changing to T= 50000 for T= 68368 logg=4.68\n",
      "Changing to logg=5.00 for T= 68368 logg=4.68\n",
      "Changing to logg=4.50 for T= 46078 logg=3.89\n",
      "Changing to T= 50000 for T=102160 logg=5.40\n",
      "Changing to logg=5.00 for T=102160 logg=5.40\n",
      "Changing to T= 50000 for T= 67265 logg=4.33\n",
      "Changing to logg=5.00 for T= 67265 logg=4.33\n",
      "Changing to T= 50000 for T= 69440 logg=4.37\n",
      "Changing to logg=5.00 for T= 69440 logg=4.37\n",
      "Changing to T= 50000 for T= 74307 logg=4.48\n",
      "Changing to logg=5.00 for T= 74307 logg=4.48\n",
      "Changing to T= 50000 for T=172330 logg=5.86\n",
      "Changing to logg=5.00 for T=172330 logg=5.86\n",
      "Changing to T= 50000 for T= 57361 logg=4.31\n",
      "Changing to logg=5.00 for T= 57361 logg=4.31\n",
      "Changing to T= 50000 for T= 98215 logg=4.84\n",
      "Changing to logg=5.00 for T= 98215 logg=4.84\n",
      "Changing to T= 50000 for T= 61608 logg=4.45\n",
      "Changing to logg=5.00 for T= 61608 logg=4.45\n",
      "Changing to T= 50000 for T= 84300 logg=4.58\n",
      "Changing to logg=5.00 for T= 84300 logg=4.58\n",
      "Changing to T= 50000 for T= 80369 logg=4.61\n",
      "Changing to logg=5.00 for T= 80369 logg=4.61\n",
      "Changing to logg=4.50 for T= 44419 logg=3.82\n",
      "Changing to T= 50000 for T= 53145 logg=4.16\n",
      "Changing to logg=5.00 for T= 53145 logg=4.16\n",
      "Changing to T= 50000 for T= 74186 logg=4.48\n",
      "Changing to logg=5.00 for T= 74186 logg=4.48\n",
      "Changing to T= 50000 for T= 71793 logg=4.42\n",
      "Changing to logg=5.00 for T= 71793 logg=4.42\n",
      "Changing to T= 50000 for T= 70672 logg=4.40\n",
      "Changing to logg=5.00 for T= 70672 logg=4.40\n",
      "Changing to logg=3.50 for T= 26443 logg=3.24\n",
      "Changing to logg=4.50 for T= 47335 logg=3.94\n",
      "Changing to T= 50000 for T= 82465 logg=5.17\n",
      "Changing to logg=5.00 for T= 82465 logg=5.17\n",
      "Changing to T= 50000 for T= 68965 logg=4.36\n",
      "Changing to logg=5.00 for T= 68965 logg=4.36\n",
      "Changing to T= 50000 for T= 72869 logg=4.45\n",
      "Changing to logg=5.00 for T= 72869 logg=4.45\n",
      "Changing to logg=4.00 for T= 32875 logg=3.84\n",
      "Changing to T= 50000 for T= 63810 logg=4.24\n",
      "Changing to logg=5.00 for T= 63810 logg=4.24\n",
      "Changing to T= 50000 for T= 83155 logg=4.66\n",
      "Changing to logg=5.00 for T= 83155 logg=4.66\n",
      "Changing to T= 50000 for T= 67786 logg=4.33\n",
      "Changing to logg=5.00 for T= 67786 logg=4.33\n",
      "Changing to T= 50000 for T= 87573 logg=4.75\n",
      "Changing to logg=5.00 for T= 87573 logg=4.75\n",
      "Changing to logg=3.50 for T= 27580 logg=3.14\n",
      "Changing to T= 50000 for T=102783 logg=5.40\n",
      "Changing to logg=5.00 for T=102783 logg=5.40\n",
      "Changing to T= 50000 for T= 68979 logg=4.36\n",
      "Changing to logg=5.00 for T= 68979 logg=4.36\n",
      "Changing to logg=4.50 for T= 47669 logg=3.95\n",
      "Changing to T= 50000 for T=103748 logg=5.41\n",
      "Changing to logg=5.00 for T=103748 logg=5.41\n",
      "Changing to logg=4.50 for T= 45540 logg=3.87\n",
      "Changing to T= 50000 for T= 69632 logg=4.38\n",
      "Changing to logg=5.00 for T= 69632 logg=4.38\n",
      "Changing to T= 50000 for T=102771 logg=5.42\n",
      "Changing to logg=5.00 for T=102771 logg=5.42\n",
      "Changing to logg=4.00 for T= 35832 logg=3.76\n",
      "Changing to T= 50000 for T= 65433 logg=4.28\n",
      "Changing to logg=5.00 for T= 65433 logg=4.28\n",
      "Changing to T= 50000 for T= 73748 logg=4.47\n",
      "Changing to logg=5.00 for T= 73748 logg=4.47\n",
      "Changing to T= 50000 for T= 70651 logg=4.75\n",
      "Changing to logg=5.00 for T= 70651 logg=4.75\n",
      "Changing to T= 50000 for T= 69859 logg=4.40\n",
      "Changing to logg=5.00 for T= 69859 logg=4.40\n",
      "Changing to T= 50000 for T=103443 logg=5.40\n",
      "Changing to logg=5.00 for T=103443 logg=5.40\n",
      "Changing to T= 50000 for T=103633 logg=5.41\n",
      "Changing to logg=5.00 for T=103633 logg=5.41\n",
      "Changing to T= 50000 for T= 54369 logg=4.20\n",
      "Changing to logg=5.00 for T= 54369 logg=4.20\n",
      "Changing to T= 50000 for T= 74466 logg=4.49\n",
      "Changing to logg=5.00 for T= 74466 logg=4.49\n",
      "Changing to T= 50000 for T=101506 logg=5.42\n",
      "Changing to logg=5.00 for T=101506 logg=5.42\n",
      "Changing to T= 50000 for T=132764 logg=5.53\n",
      "Changing to logg=5.00 for T=132764 logg=5.53\n",
      "Changing to T= 50000 for T= 71717 logg=4.43\n",
      "Changing to logg=5.00 for T= 71717 logg=4.43\n",
      "Changing to T= 50000 for T= 65890 logg=4.28\n",
      "Changing to logg=5.00 for T= 65890 logg=4.28\n",
      "Changing to T= 50000 for T= 72778 logg=4.45\n",
      "Changing to logg=5.00 for T= 72778 logg=4.45\n",
      "Changing to T= 50000 for T= 72500 logg=4.44\n",
      "Changing to logg=5.00 for T= 72500 logg=4.44\n",
      "Changing to T= 50000 for T=102183 logg=5.41\n",
      "Changing to logg=5.00 for T=102183 logg=5.41\n",
      "Changing to T= 50000 for T= 69325 logg=4.37\n",
      "Changing to logg=5.00 for T= 69325 logg=4.37\n",
      "Changing to T= 50000 for T= 81204 logg=4.62\n",
      "Changing to logg=5.00 for T= 81204 logg=4.62\n",
      "Changing to T= 50000 for T= 73497 logg=4.46\n",
      "Changing to logg=5.00 for T= 73497 logg=4.46\n",
      "Changing to logg=4.50 for T= 45606 logg=3.87\n",
      "Changing to T= 50000 for T= 74686 logg=4.49\n",
      "Changing to logg=5.00 for T= 74686 logg=4.49\n",
      "Changing to T= 50000 for T= 79299 logg=5.03\n",
      "Changing to logg=5.00 for T= 79299 logg=5.03\n",
      "Changing to T= 50000 for T=102716 logg=5.41\n",
      "Changing to logg=5.00 for T=102716 logg=5.41\n",
      "Changing to T= 50000 for T= 66604 logg=4.62\n",
      "Changing to logg=5.00 for T= 66604 logg=4.62\n",
      "Changing to logg=4.00 for T= 35293 logg=3.85\n",
      "Changing to T= 50000 for T= 69530 logg=4.37\n",
      "Changing to logg=5.00 for T= 69530 logg=4.37\n",
      "Changing to T= 50000 for T= 65121 logg=4.26\n",
      "Changing to logg=5.00 for T= 65121 logg=4.26\n",
      "Changing to T= 50000 for T= 85889 logg=5.01\n",
      "Changing to logg=5.00 for T= 85889 logg=5.01\n",
      "Changing to T= 50000 for T= 57582 logg=4.32\n",
      "Changing to logg=5.00 for T= 57582 logg=4.32\n",
      "Changing to T= 50000 for T= 79287 logg=4.87\n",
      "Changing to logg=5.00 for T= 79287 logg=4.87\n",
      "Changing to T= 50000 for T=172687 logg=5.87\n",
      "Changing to logg=5.00 for T=172687 logg=5.87\n",
      "Changing to T= 50000 for T= 72337 logg=4.44\n",
      "Changing to logg=5.00 for T= 72337 logg=4.44\n",
      "Changing to T= 50000 for T=103770 logg=5.41\n",
      "Changing to logg=5.00 for T=103770 logg=5.41\n",
      "Changing to T= 50000 for T= 68832 logg=4.36\n",
      "Changing to logg=5.00 for T= 68832 logg=4.36\n",
      "Changing to logg=3.50 for T= 27719 logg=3.22\n",
      "Changing to T= 50000 for T= 61100 logg=4.37\n",
      "Changing to logg=5.00 for T= 61100 logg=4.37\n",
      "Changing to logg=5.00 for T= 49825 logg=4.03\n",
      "Changing to logg=3.00 for T= 25019 logg=2.99\n",
      "Changing to T= 50000 for T= 69868 logg=4.38\n",
      "Changing to logg=5.00 for T= 69868 logg=4.38\n",
      "Changing to T= 50000 for T= 67318 logg=4.32\n",
      "Changing to logg=5.00 for T= 67318 logg=4.32\n",
      "Changing to T= 50000 for T= 83506 logg=5.33\n",
      "Changing to logg=5.00 for T= 83506 logg=5.33\n",
      "Changing to T= 50000 for T= 67845 logg=4.33\n",
      "Changing to logg=5.00 for T= 67845 logg=4.33\n",
      "Changing to T= 50000 for T= 67217 logg=4.32\n",
      "Changing to logg=5.00 for T= 67217 logg=4.32\n",
      "Changing to T= 50000 for T= 69239 logg=4.36\n",
      "Changing to logg=5.00 for T= 69239 logg=4.36\n",
      "Changing to T= 50000 for T= 65169 logg=4.27\n",
      "Changing to logg=5.00 for T= 65169 logg=4.27\n",
      "Changing to T= 50000 for T= 70627 logg=4.40\n",
      "Changing to logg=5.00 for T= 70627 logg=4.40\n",
      "Changing to T= 50000 for T= 67075 logg=4.31\n",
      "Changing to logg=5.00 for T= 67075 logg=4.31\n",
      "Changing to T= 50000 for T=101719 logg=5.39\n",
      "Changing to logg=5.00 for T=101719 logg=5.39\n",
      "Changing to T= 50000 for T= 71038 logg=4.43\n",
      "Changing to logg=5.00 for T= 71038 logg=4.43\n",
      "Changing to T= 50000 for T=102948 logg=5.41\n",
      "Changing to logg=5.00 for T=102948 logg=5.41\n",
      "Changing to T= 50000 for T= 61191 logg=4.44\n",
      "Changing to logg=5.00 for T= 61191 logg=4.44\n",
      "Changing to T= 50000 for T=175890 logg=5.90\n",
      "Changing to logg=5.00 for T=175890 logg=5.90\n",
      "Changing to T= 50000 for T= 72061 logg=4.43\n",
      "Changing to logg=5.00 for T= 72061 logg=4.43\n",
      "Changing to T= 50000 for T= 66322 logg=4.29\n",
      "Changing to logg=5.00 for T= 66322 logg=4.29\n",
      "Changing to T= 50000 for T=101695 logg=5.38\n",
      "Changing to logg=5.00 for T=101695 logg=5.38\n",
      "Changing to T= 50000 for T= 67526 logg=4.32\n",
      "Changing to logg=5.00 for T= 67526 logg=4.32\n",
      "Changing to T= 50000 for T= 66161 logg=4.60\n",
      "Changing to logg=5.00 for T= 66161 logg=4.60\n",
      "Changing to T= 50000 for T= 67781 logg=4.34\n",
      "Changing to logg=5.00 for T= 67781 logg=4.34\n",
      "Changing to T= 50000 for T=101623 logg=5.42\n",
      "Changing to logg=5.00 for T=101623 logg=5.42\n",
      "Changing to logg=4.50 for T= 41893 logg=3.71\n",
      "Changing to T= 50000 for T= 68096 logg=4.34\n",
      "Changing to logg=5.00 for T= 68096 logg=4.34\n",
      "Changing to T= 50000 for T= 75421 logg=4.51\n",
      "Changing to logg=5.00 for T= 75421 logg=4.51\n",
      "Changing to logg=4.50 for T= 44663 logg=3.83\n",
      "Changing to T= 50000 for T= 74287 logg=4.48\n",
      "Changing to logg=5.00 for T= 74287 logg=4.48\n",
      "Changing to T= 50000 for T=102193 logg=5.41\n",
      "Changing to logg=5.00 for T=102193 logg=5.41\n",
      "Changing to T= 50000 for T= 76591 logg=4.95\n",
      "Changing to logg=5.00 for T= 76591 logg=4.95\n",
      "Changing to T= 50000 for T= 65654 logg=4.28\n",
      "Changing to logg=5.00 for T= 65654 logg=4.28\n",
      "Changing to T= 50000 for T=101513 logg=5.42\n",
      "Changing to logg=5.00 for T=101513 logg=5.42\n",
      "Changing to logg=3.00 for T= 21306 logg=2.99\n",
      "Changing to T= 50000 for T=173760 logg=5.88\n",
      "Changing to logg=5.00 for T=173760 logg=5.88\n",
      "Changing to T= 50000 for T= 59627 logg=4.39\n",
      "Changing to logg=5.00 for T= 59627 logg=4.39\n",
      "Changing to T= 50000 for T= 66240 logg=4.30\n",
      "Changing to logg=5.00 for T= 66240 logg=4.30\n",
      "Changing to T= 50000 for T= 74659 logg=4.49\n",
      "Changing to logg=5.00 for T= 74659 logg=4.49\n",
      "Changing to T= 50000 for T= 68459 logg=4.35\n",
      "Changing to logg=5.00 for T= 68459 logg=4.35\n",
      "Changing to T= 50000 for T=102209 logg=5.40\n",
      "Changing to logg=5.00 for T=102209 logg=5.40\n",
      "Changing to T= 50000 for T= 70529 logg=4.34\n",
      "Changing to logg=5.00 for T= 70529 logg=4.34\n",
      "Changing to T= 50000 for T= 71453 logg=4.77\n",
      "Changing to logg=5.00 for T= 71453 logg=4.77\n",
      "Changing to T= 50000 for T= 67352 logg=4.32\n",
      "Changing to logg=5.00 for T= 67352 logg=4.32\n",
      "Changing to T= 50000 for T= 71702 logg=4.79\n",
      "Changing to logg=5.00 for T= 71702 logg=4.79\n",
      "Changing to T= 50000 for T= 70233 logg=4.39\n",
      "Changing to logg=5.00 for T= 70233 logg=4.39\n",
      "Changing to T= 50000 for T= 65749 logg=4.28\n",
      "Changing to logg=5.00 for T= 65749 logg=4.28\n",
      "Changing to logg=3.50 for T= 26165 logg=3.21\n",
      "Changing to T= 50000 for T=103314 logg=5.40\n",
      "Changing to logg=5.00 for T=103314 logg=5.40\n",
      "Changing to T= 50000 for T= 66161 logg=4.29\n",
      "Changing to logg=5.00 for T= 66161 logg=4.29\n",
      "Changing to logg=2.00 for T= 11391 logg=0.99\n",
      "Changing to logg=4.00 for T= 31789 logg=3.54\n",
      "Changing to T= 50000 for T=102849 logg=5.40\n",
      "Changing to logg=5.00 for T=102849 logg=5.40\n",
      "Changing to T= 50000 for T=110499 logg=5.22\n",
      "Changing to logg=5.00 for T=110499 logg=5.22\n",
      "Changing to T= 50000 for T= 67353 logg=4.32\n",
      "Changing to logg=5.00 for T= 67353 logg=4.32\n",
      "Changing to T= 50000 for T=103302 logg=5.45\n",
      "Changing to logg=5.00 for T=103302 logg=5.45\n",
      "Changing to T= 50000 for T=102840 logg=5.41\n",
      "Changing to logg=5.00 for T=102840 logg=5.41\n",
      "Changing to logg=1.50 for T=  8770 logg=1.44\n",
      "Changing to logg=0.00 for T=  3325 logg=-0.66\n",
      "Changing to T= 50000 for T= 72167 logg=4.44\n",
      "Changing to logg=5.00 for T= 72167 logg=4.44\n",
      "Changing to T= 50000 for T= 72257 logg=4.44\n",
      "Changing to logg=5.00 for T= 72257 logg=4.44\n",
      "Changing to logg=0.00 for T=  3317 logg=-0.70\n",
      "Changing to T=  1200 for T=   692 logg=4.44\n",
      "Changing to T= 50000 for T= 70999 logg=4.40\n",
      "Changing to logg=5.00 for T= 70999 logg=4.40\n",
      "Changing to logg=0.00 for T=  3325 logg=-0.66\n",
      "Changing to T= 50000 for T= 72382 logg=4.45\n",
      "Changing to logg=5.00 for T= 72382 logg=4.45\n",
      "Changing to T= 50000 for T=102464 logg=5.41\n",
      "Changing to logg=5.00 for T=102464 logg=5.41\n",
      "Changing to logg=1.50 for T=  8770 logg=1.44\n",
      "Changing to T= 50000 for T= 70881 logg=4.41\n",
      "Changing to logg=5.00 for T= 70881 logg=4.41\n",
      "Changing to T= 50000 for T= 69402 logg=4.37\n",
      "Changing to logg=5.00 for T= 69402 logg=4.37\n",
      "Changing to logg=0.00 for T=  3317 logg=-0.70\n",
      "Changing to T= 50000 for T= 63378 logg=4.21\n",
      "Changing to logg=5.00 for T= 63378 logg=4.21\n",
      "Changing to logg=0.00 for T=  3545 logg=-0.23\n",
      "Changing to T= 50000 for T=102099 logg=5.41\n",
      "Changing to logg=5.00 for T=102099 logg=5.41\n",
      "Changing to logg=5.00 for T=  1616 logg=4.44\n",
      "Changing to T=  1200 for T=   692 logg=4.44\n",
      "Changing to T= 50000 for T= 68910 logg=4.35\n",
      "Changing to logg=5.00 for T= 68910 logg=4.35\n",
      "Changing to T= 50000 for T= 72362 logg=4.44\n",
      "Changing to logg=5.00 for T= 72362 logg=4.44\n",
      "Changing to T= 50000 for T= 67408 logg=4.31\n",
      "Changing to logg=5.00 for T= 67408 logg=4.31\n",
      "Changing to logg=1.50 for T=  8770 logg=1.44\n",
      "Changing to T= 50000 for T= 71836 logg=4.43\n",
      "Changing to logg=5.00 for T= 71836 logg=4.43\n",
      "Changing to logg=0.00 for T=  3554 logg=-0.25\n",
      "Changing to T= 50000 for T= 66501 logg=4.29\n",
      "Changing to logg=5.00 for T= 66501 logg=4.29\n",
      "Changing to T= 50000 for T= 66483 logg=4.28\n",
      "Changing to logg=5.00 for T= 66483 logg=4.28\n",
      "Changing to logg=0.00 for T=  3325 logg=-0.66\n",
      "Changing to T=  1200 for T=   692 logg=4.44\n",
      "Changing to logg=1.50 for T=  8770 logg=1.44\n",
      "Changing to T= 50000 for T= 68919 logg=4.35\n",
      "Changing to logg=5.00 for T= 68919 logg=4.35\n",
      "Changing to T= 50000 for T= 66374 logg=4.28\n",
      "Changing to logg=5.00 for T= 66374 logg=4.28\n",
      "Changing to logg=0.00 for T=  3325 logg=-0.66\n",
      "Changing to T=  1200 for T=   808 logg=4.44\n",
      "Changing to logg=0.00 for T=  3554 logg=-0.25\n",
      "Changing to T=  1200 for T=   808 logg=4.44\n",
      "Changing to logg=1.50 for T=  8770 logg=1.44\n",
      "Changing to logg=0.00 for T=  3317 logg=-0.70\n",
      "Changing to logg=1.50 for T=  8770 logg=1.44\n",
      "Changing to T= 50000 for T= 77947 logg=5.46\n",
      "Changing to logg=5.00 for T= 77947 logg=5.46\n",
      "Changing to T=  1200 for T=   692 logg=4.44\n",
      "Changing to T=  1200 for T=   808 logg=4.44\n",
      "Changing to T= 50000 for T= 66185 logg=4.27\n",
      "Changing to logg=5.00 for T= 66185 logg=4.27\n",
      "Changing to T=  1200 for T=   808 logg=4.44\n",
      "Changing to logg=0.00 for T=  3325 logg=-0.66\n",
      "Changing to T= 50000 for T=104042 logg=5.41\n",
      "Changing to logg=5.00 for T=104042 logg=5.41\n",
      "Changing to logg=1.50 for T=  8770 logg=1.44\n",
      "Changing to logg=0.00 for T=  3285 logg=-0.77\n",
      "Changing to T= 50000 for T=101067 logg=5.42\n",
      "Changing to logg=5.00 for T=101067 logg=5.42\n",
      "Changing to T= 50000 for T= 72280 logg=4.44\n",
      "Changing to logg=5.00 for T= 72280 logg=4.44\n",
      "Changing to logg=3.50 for T= 26699 logg=2.90\n",
      "Changing to T=  1200 for T=   808 logg=4.44\n",
      "Changing to T=  1200 for T=   692 logg=4.44\n",
      "Changing to logg=0.00 for T=  3325 logg=-0.66\n",
      "Changing to T= 50000 for T=100228 logg=5.42\n",
      "Changing to logg=5.00 for T=100228 logg=5.42\n",
      "Changing to T= 50000 for T=100823 logg=5.41\n",
      "Changing to logg=5.00 for T=100823 logg=5.41\n",
      "Changing to T= 50000 for T= 84680 logg=5.43\n",
      "Changing to logg=5.00 for T= 84680 logg=5.43\n",
      "Changing to logg=5.00 for T=  1616 logg=4.44\n",
      "Changing to T=  1200 for T=   808 logg=4.44\n",
      "Changing to logg=0.00 for T=  3317 logg=-0.70\n",
      "Changing to T= 50000 for T= 72399 logg=4.45\n",
      "Changing to logg=5.00 for T= 72399 logg=4.45\n",
      "Changing to logg=1.50 for T=  8770 logg=1.44\n",
      "Changing to logg=5.00 for T=  1616 logg=4.44\n",
      "Changing to logg=2.00 for T= 11252 logg=1.72\n",
      "Changing to logg=1.50 for T=  8770 logg=1.44\n",
      "Changing to logg=0.00 for T=  3325 logg=-0.66\n",
      "Changing to logg=1.50 for T=  8770 logg=1.44\n",
      "Changing to T= 50000 for T= 69785 logg=4.37\n",
      "Changing to logg=5.00 for T= 69785 logg=4.37\n",
      "Changing to T= 50000 for T= 66757 logg=4.29\n",
      "Changing to logg=5.00 for T= 66757 logg=4.29\n",
      "Changing to T= 50000 for T=102994 logg=5.41\n",
      "Changing to logg=5.00 for T=102994 logg=5.41\n",
      "Changing to T=  1200 for T=   808 logg=4.44\n",
      "Changing to logg=0.00 for T=  3325 logg=-0.66\n",
      "Changing to T= 50000 for T= 87809 logg=5.45\n",
      "Changing to logg=5.00 for T= 87809 logg=5.45\n",
      "Changing to T= 50000 for T=100376 logg=5.42\n",
      "Changing to logg=5.00 for T=100376 logg=5.42\n",
      "Changing to logg=2.50 for T= 17098 logg=2.30\n",
      "Changing to logg=1.50 for T=  8770 logg=1.44\n",
      "Changing to logg=1.50 for T=  8770 logg=1.44\n",
      "Changing to T= 50000 for T= 71110 logg=4.41\n",
      "Changing to logg=5.00 for T= 71110 logg=4.41\n",
      "Changing to logg=0.00 for T=  3325 logg=-0.66\n",
      "Changing to T= 50000 for T= 72419 logg=4.45\n",
      "Changing to logg=5.00 for T= 72419 logg=4.45\n",
      "Changing to logg=0.00 for T=  3317 logg=-0.70\n",
      "Changing to logg=0.00 for T=  3317 logg=-0.70\n",
      "Changing to T= 50000 for T= 72509 logg=4.45\n",
      "Changing to logg=5.00 for T= 72509 logg=4.45\n",
      "Changing to T= 50000 for T=102558 logg=5.41\n",
      "Changing to logg=5.00 for T=102558 logg=5.41\n",
      "Changing to T= 50000 for T= 72552 logg=4.46\n",
      "Changing to logg=5.00 for T= 72552 logg=4.46\n",
      "Changing to logg=4.50 for T= 45560 logg=3.71\n",
      "Changing to logg=1.50 for T=  8770 logg=1.44\n",
      "Changing to T= 50000 for T= 67791 logg=4.33\n",
      "Changing to logg=5.00 for T= 67791 logg=4.33\n",
      "Changing to logg=0.00 for T=  3325 logg=-0.66\n",
      "Changing to T= 50000 for T=101906 logg=5.42\n",
      "Changing to logg=5.00 for T=101906 logg=5.42\n",
      "Changing to logg=1.50 for T=  8770 logg=1.44\n",
      "Changing to T= 50000 for T= 67759 logg=4.33\n",
      "Changing to logg=5.00 for T= 67759 logg=4.33\n",
      "Changing to logg=1.50 for T=  8770 logg=1.44\n",
      "Changing to logg=1.50 for T=  8770 logg=1.44\n",
      "Changing to logg=1.50 for T=  8770 logg=1.44\n",
      "Changing to logg=1.50 for T=  8770 logg=1.44\n",
      "Changing to logg=0.00 for T=  3289 logg=-0.83\n",
      "Changing to T= 50000 for T= 72205 logg=4.44\n",
      "Changing to logg=5.00 for T= 72205 logg=4.44\n",
      "Changing to T= 50000 for T= 67588 logg=4.31\n",
      "Changing to logg=5.00 for T= 67588 logg=4.31\n",
      "Changing to logg=1.50 for T=  8770 logg=1.44\n",
      "Changing to logg=1.50 for T=  8770 logg=1.44\n",
      "Changing to T= 50000 for T= 70651 logg=4.40\n",
      "Changing to logg=5.00 for T= 70651 logg=4.40\n",
      "Changing to logg=0.00 for T=  3317 logg=-0.70\n",
      "Changing to logg=1.50 for T=  8770 logg=1.44\n",
      "Changing to logg=0.00 for T=  3325 logg=-0.66\n",
      "Changing to logg=0.00 for T=  3337 logg=-0.66\n",
      "Changing to logg=1.50 for T=  8770 logg=1.44\n",
      "Changing to T= 50000 for T= 72414 logg=4.45\n",
      "Changing to logg=5.00 for T= 72414 logg=4.45\n",
      "Changing to logg=5.00 for T=  1616 logg=4.44\n",
      "Changing to T= 50000 for T=101046 logg=5.41\n",
      "Changing to logg=5.00 for T=101046 logg=5.41\n",
      "Changing to T= 50000 for T= 73646 logg=5.52\n",
      "Changing to logg=5.00 for T= 73646 logg=5.52\n",
      "Changing to logg=0.00 for T=  3325 logg=-0.66\n",
      "Changing to T= 50000 for T=102908 logg=5.41\n",
      "Changing to logg=5.00 for T=102908 logg=5.41\n",
      "Changing to logg=2.00 for T=  9391 logg=1.55\n",
      "Changing to T= 50000 for T=101233 logg=5.40\n",
      "Changing to logg=5.00 for T=101233 logg=5.40\n",
      "Changing to logg=0.00 for T=  3554 logg=-0.25\n",
      "Changing to logg=1.50 for T=  8770 logg=1.44\n",
      "Changing to T= 50000 for T= 72171 logg=4.44\n",
      "Changing to logg=5.00 for T= 72171 logg=4.44\n",
      "Changing to T= 50000 for T= 67906 logg=4.33\n",
      "Changing to logg=5.00 for T= 67906 logg=4.33\n",
      "Changing to logg=5.00 for T=  1616 logg=4.44\n",
      "Changing to T= 50000 for T= 70351 logg=4.40\n",
      "Changing to logg=5.00 for T= 70351 logg=4.40\n",
      "Changing to T= 50000 for T= 72349 logg=4.44\n",
      "Changing to logg=5.00 for T= 72349 logg=4.44\n",
      "Changing to T= 50000 for T= 72304 logg=4.45\n",
      "Changing to logg=5.00 for T= 72304 logg=4.45\n",
      "Changing to T= 50000 for T= 67222 logg=4.30\n",
      "Changing to logg=5.00 for T= 67222 logg=4.30\n",
      "Changing to logg=1.50 for T=  8770 logg=1.44\n",
      "Changing to T= 50000 for T= 65076 logg=4.24\n",
      "Changing to logg=5.00 for T= 65076 logg=4.24\n",
      "Changing to logg=0.00 for T=  3317 logg=-0.70\n",
      "Changing to T= 50000 for T= 61732 logg=4.16\n",
      "Changing to logg=5.00 for T= 61732 logg=4.16\n",
      "Changing to logg=0.00 for T=  3554 logg=-0.25\n",
      "Changing to logg=0.00 for T=  3554 logg=-0.25\n",
      "Changing to logg=0.00 for T=  3317 logg=-0.70\n",
      "Changing to T= 50000 for T= 72302 logg=4.45\n",
      "Changing to logg=5.00 for T= 72302 logg=4.45\n",
      "Changing to T= 50000 for T=104937 logg=5.55\n",
      "Changing to logg=5.00 for T=104937 logg=5.55\n",
      "Changing to T= 50000 for T= 65399 logg=4.25\n",
      "Changing to logg=5.00 for T= 65399 logg=4.25\n",
      "Changing to logg=0.00 for T=  3317 logg=-0.70\n",
      "Changing to logg=0.00 for T=  3299 logg=-0.75\n",
      "Changing to logg=0.00 for T=  3325 logg=-0.66\n",
      "Changing to T= 50000 for T= 70066 logg=4.37\n",
      "Changing to logg=5.00 for T= 70066 logg=4.37\n",
      "Changing to logg=0.00 for T=  3291 logg=-0.79\n",
      "Changing to T= 50000 for T= 67298 logg=4.32\n",
      "Changing to logg=5.00 for T= 67298 logg=4.32\n",
      "Changing to T= 50000 for T= 72379 logg=4.45\n",
      "Changing to logg=5.00 for T= 72379 logg=4.45\n",
      "Changing to T= 50000 for T=101681 logg=5.41\n",
      "Changing to logg=5.00 for T=101681 logg=5.41\n",
      "Changing to T= 50000 for T= 76273 logg=5.44\n",
      "Changing to logg=5.00 for T= 76273 logg=5.44\n",
      "Changing to logg=1.50 for T=  8770 logg=1.44\n",
      "Changing to logg=5.00 for T=  1616 logg=4.44\n",
      "Changing to logg=0.00 for T=  3317 logg=-0.70\n",
      "Changing to logg=5.00 for T=  1616 logg=4.44\n",
      "Changing to T= 50000 for T= 71010 logg=4.41\n",
      "Changing to logg=5.00 for T= 71010 logg=4.41\n",
      "Changing to T= 50000 for T= 70963 logg=4.40\n",
      "Changing to logg=5.00 for T= 70963 logg=4.40\n",
      "Changing to T= 50000 for T= 68456 logg=4.34\n",
      "Changing to logg=5.00 for T= 68456 logg=4.34\n",
      "Changing to T= 50000 for T= 72300 logg=4.43\n",
      "Changing to logg=5.00 for T= 72300 logg=4.43\n",
      "Changing to T=  1200 for T=   692 logg=4.44\n",
      "Changing to T= 50000 for T= 71000 logg=4.40\n",
      "Changing to logg=5.00 for T= 71000 logg=4.40\n",
      "Changing to logg=5.00 for T=  1616 logg=4.44\n",
      "Changing to T= 50000 for T=102712 logg=5.41\n",
      "Changing to logg=5.00 for T=102712 logg=5.41\n",
      "Changing to logg=5.00 for T=  1616 logg=4.44\n",
      "Changing to logg=2.00 for T=  9845 logg=1.65\n",
      "Changing to T= 50000 for T= 70307 logg=4.39\n",
      "Changing to logg=5.00 for T= 70307 logg=4.39\n",
      "Changing to T=  1200 for T=   808 logg=4.44\n",
      "Changing to T= 50000 for T= 81506 logg=5.45\n",
      "Changing to logg=5.00 for T= 81506 logg=5.45\n",
      "Changing to T= 50000 for T= 72029 logg=4.43\n",
      "Changing to logg=5.00 for T= 72029 logg=4.43\n",
      "Changing to logg=0.00 for T=  3317 logg=-0.70\n",
      "Changing to logg=0.00 for T=  3325 logg=-0.66\n",
      "Changing to logg=1.50 for T=  8770 logg=1.44\n",
      "Changing to T= 50000 for T= 72557 logg=4.46\n",
      "Changing to logg=5.00 for T= 72557 logg=4.46\n",
      "Changing to T= 50000 for T= 70265 logg=4.39\n",
      "Changing to logg=5.00 for T= 70265 logg=4.39\n",
      "Changing to logg=5.00 for T=  1616 logg=4.44\n",
      "Changing to T= 50000 for T= 70487 logg=4.40\n",
      "Changing to logg=5.00 for T= 70487 logg=4.40\n",
      "Changing to logg=0.00 for T=  3554 logg=-0.25\n",
      "Changing to logg=1.50 for T=  8770 logg=1.44\n",
      "Changing to logg=0.00 for T=  3325 logg=-0.66\n",
      "Changing to logg=0.00 for T=  3554 logg=-0.25\n",
      "Changing to logg=1.50 for T=  8770 logg=1.44\n",
      "Changing to logg=1.50 for T=  8770 logg=1.44\n",
      "Changing to logg=1.50 for T=  8770 logg=1.44\n",
      "Changing to logg=0.00 for T=  3325 logg=-0.66\n",
      "Changing to T= 50000 for T=102341 logg=5.42\n",
      "Changing to logg=5.00 for T=102341 logg=5.42\n",
      "Changing to T= 50000 for T= 65896 logg=4.27\n",
      "Changing to logg=5.00 for T= 65896 logg=4.27\n",
      "Changing to logg=1.50 for T=  8770 logg=1.44\n",
      "Changing to logg=0.00 for T=  3317 logg=-0.70\n",
      "Changing to logg=0.00 for T=  3554 logg=-0.25\n",
      "Changing to logg=3.00 for T= 20116 logg=2.54\n",
      "Changing to logg=1.50 for T=  8770 logg=1.44\n",
      "Changing to logg=1.50 for T=  8927 logg=1.48\n",
      "Changing to T= 50000 for T= 81495 logg=5.50\n",
      "Changing to logg=5.00 for T= 81495 logg=5.50\n",
      "Changing to T=  1200 for T=   808 logg=4.44\n",
      "Changing to T= 50000 for T=100510 logg=5.42\n",
      "Changing to logg=5.00 for T=100510 logg=5.42\n",
      "Changing to logg=4.00 for T= 31386 logg=3.65\n",
      "Changing to T= 50000 for T= 70306 logg=4.38\n",
      "Changing to logg=5.00 for T= 70306 logg=4.38\n",
      "Changing to logg=0.00 for T=  3554 logg=-0.25\n",
      "Changing to T= 50000 for T= 87789 logg=5.30\n",
      "Changing to logg=5.00 for T= 87789 logg=5.30\n",
      "Changing to T=  1200 for T=   692 logg=4.44\n",
      "Changing to T= 50000 for T=100422 logg=5.42\n",
      "Changing to logg=5.00 for T=100422 logg=5.42\n",
      "Changing to logg=0.00 for T=  3325 logg=-0.66\n",
      "Changing to logg=1.50 for T=  8770 logg=1.44\n",
      "Changing to T= 50000 for T= 68979 logg=4.35\n",
      "Changing to logg=5.00 for T= 68979 logg=4.35\n",
      "Changing to logg=0.00 for T=  3325 logg=-0.66\n",
      "Changing to logg=1.50 for T=  8770 logg=1.44\n",
      "Changing to T= 50000 for T= 83774 logg=5.42\n",
      "Changing to logg=5.00 for T= 83774 logg=5.42\n",
      "Changing to T= 50000 for T= 68243 logg=4.33\n",
      "Changing to logg=5.00 for T= 68243 logg=4.33\n",
      "Changing to logg=0.00 for T=  3337 logg=-0.66\n",
      "Changing to T= 50000 for T= 56673 logg=4.23\n",
      "Changing to logg=5.00 for T= 56673 logg=4.23\n",
      "Changing to T= 50000 for T= 63749 logg=4.21\n",
      "Changing to logg=5.00 for T= 63749 logg=4.21\n",
      "Changing to T= 50000 for T=102681 logg=5.41\n",
      "Changing to logg=5.00 for T=102681 logg=5.41\n",
      "Changing to logg=0.00 for T=  3317 logg=-0.70\n",
      "Changing to logg=1.50 for T=  8770 logg=1.44\n",
      "Changing to T= 50000 for T= 69700 logg=4.38\n",
      "Changing to logg=5.00 for T= 69700 logg=4.38\n",
      "Changing to T= 50000 for T= 96627 logg=5.44\n",
      "Changing to logg=5.00 for T= 96627 logg=5.44\n",
      "Changing to T= 50000 for T= 93401 logg=5.43\n",
      "Changing to logg=5.00 for T= 93401 logg=5.43\n",
      "Changing to T= 50000 for T= 70002 logg=4.38\n",
      "Changing to logg=5.00 for T= 70002 logg=4.38\n",
      "Changing to logg=0.00 for T=  3317 logg=-0.70\n",
      "Changing to T= 50000 for T= 61686 logg=4.15\n",
      "Changing to logg=5.00 for T= 61686 logg=4.15\n",
      "Changing to logg=1.50 for T=  8770 logg=1.44\n",
      "Changing to T= 50000 for T=101375 logg=5.40\n",
      "Changing to logg=5.00 for T=101375 logg=5.40\n",
      "Changing to T= 50000 for T= 69929 logg=4.39\n",
      "Changing to logg=5.00 for T= 69929 logg=4.39\n",
      "Changing to T= 50000 for T= 68126 logg=4.67\n",
      "Changing to logg=5.00 for T= 68126 logg=4.67\n",
      "Changing to T= 50000 for T= 99591 logg=5.45\n",
      "Changing to logg=5.00 for T= 99591 logg=5.45\n",
      "Changing to logg=1.50 for T=  8770 logg=1.44\n",
      "Changing to logg=5.00 for T=  1616 logg=4.44\n",
      "Changing to T=  1200 for T=   692 logg=4.44\n",
      "Changing to logg=0.00 for T=  3317 logg=-0.70\n",
      "Changing to logg=5.00 for T=  1616 logg=4.44\n",
      "Changing to logg=0.00 for T=  3317 logg=-0.70\n",
      "Changing to T= 50000 for T= 72354 logg=4.44\n",
      "Changing to logg=5.00 for T= 72354 logg=4.44\n",
      "Changing to logg=1.50 for T=  8770 logg=1.44\n",
      "Changing to T=  1200 for T=   808 logg=4.44\n",
      "Changing to logg=0.00 for T=  3325 logg=-0.66\n",
      "Changing to T= 50000 for T= 54200 logg=3.98\n",
      "Changing to logg=5.00 for T= 54200 logg=3.98\n",
      "Changing to T= 50000 for T= 62987 logg=4.19\n",
      "Changing to logg=5.00 for T= 62987 logg=4.19\n",
      "Changing to T=  1200 for T=   692 logg=4.44\n",
      "Changing to T= 50000 for T=102887 logg=5.41\n",
      "Changing to logg=5.00 for T=102887 logg=5.41\n",
      "Changing to logg=0.00 for T=  3325 logg=-0.66\n",
      "Changing to T= 50000 for T=101904 logg=5.42\n",
      "Changing to logg=5.00 for T=101904 logg=5.42\n",
      "Changing to logg=4.00 for T= 35481 logg=3.37\n",
      "Changing to T=  1200 for T=   692 logg=4.44\n",
      "Changing to logg=2.00 for T=  9849 logg=1.64\n",
      "Changing to logg=1.50 for T=  8783 logg=1.48\n",
      "Changing to logg=1.50 for T=  8770 logg=1.44\n",
      "Changing to logg=1.50 for T=  8770 logg=1.44\n",
      "Changing to logg=1.50 for T=  8770 logg=1.44\n",
      "Changing to logg=1.50 for T=  8770 logg=1.44\n",
      "Changing to logg=1.50 for T=  8770 logg=1.44\n",
      "Changing to T= 50000 for T= 67894 logg=4.31\n",
      "Changing to logg=5.00 for T= 67894 logg=4.31\n",
      "Changing to T= 50000 for T= 68524 logg=4.35\n",
      "Changing to logg=5.00 for T= 68524 logg=4.35\n",
      "Changing to T= 50000 for T= 65306 logg=4.25\n",
      "Changing to logg=5.00 for T= 65306 logg=4.25\n",
      "Changing to logg=0.00 for T=  3325 logg=-0.66\n",
      "Changing to logg=0.00 for T=  3554 logg=-0.25\n",
      "Changing to T= 50000 for T= 95993 logg=5.47\n",
      "Changing to logg=5.00 for T= 95993 logg=5.47\n",
      "Changing to T= 50000 for T= 72205 logg=4.44\n",
      "Changing to logg=5.00 for T= 72205 logg=4.44\n",
      "Changing to T= 50000 for T= 66362 logg=4.28\n",
      "Changing to logg=5.00 for T= 66362 logg=4.28\n",
      "Changing to T= 50000 for T= 72364 logg=4.45\n",
      "Changing to logg=5.00 for T= 72364 logg=4.45\n",
      "Changing to logg=0.00 for T=  3317 logg=-0.70\n",
      "Changing to logg=0.00 for T=  3317 logg=-0.70\n",
      "Changing to T= 50000 for T= 72177 logg=4.44\n",
      "Changing to logg=5.00 for T= 72177 logg=4.44\n",
      "Changing to logg=1.50 for T=  8770 logg=1.44\n",
      "Changing to logg=1.50 for T=  8770 logg=1.44\n",
      "Changing to logg=2.00 for T=  9842 logg=1.63\n",
      "Changing to logg=1.50 for T=  8770 logg=1.44\n",
      "Changing to T= 50000 for T=101295 logg=5.42\n",
      "Changing to logg=5.00 for T=101295 logg=5.42\n",
      "Changing to T= 50000 for T= 69454 logg=4.37\n",
      "Changing to logg=5.00 for T= 69454 logg=4.37\n",
      "Changing to logg=0.00 for T=  3317 logg=-0.70\n",
      "Changing to T= 50000 for T= 66211 logg=5.49\n",
      "Changing to logg=5.00 for T= 66211 logg=5.49\n",
      "Changing to T= 50000 for T= 69387 logg=4.36\n",
      "Changing to logg=5.00 for T= 69387 logg=4.36\n",
      "Changing to logg=1.50 for T=  8770 logg=1.44\n",
      "Changing to T=  1200 for T=   692 logg=4.44\n",
      "Changing to T= 50000 for T=101042 logg=5.42\n",
      "Changing to logg=5.00 for T=101042 logg=5.42\n",
      "Changing to logg=1.50 for T=  8770 logg=1.44\n",
      "Changing to logg=0.00 for T=  3554 logg=-0.25\n",
      "Changing to logg=1.50 for T=  8770 logg=1.44\n",
      "Changing to logg=1.50 for T=  8770 logg=1.44\n",
      "Changing to logg=5.00 for T=  1616 logg=4.44\n",
      "Changing to logg=0.00 for T=  3325 logg=-0.66\n",
      "Changing to logg=0.00 for T=  3325 logg=-0.66\n",
      "Changing to T= 50000 for T=101335 logg=5.42\n",
      "Changing to logg=5.00 for T=101335 logg=5.42\n",
      "Changing to logg=0.00 for T=  3325 logg=-0.66\n",
      "Changing to logg=1.50 for T=  8770 logg=1.44\n",
      "Changing to logg=1.50 for T=  8770 logg=1.44\n",
      "Changing to logg=1.50 for T=  8770 logg=1.44\n",
      "Changing to T= 50000 for T= 70791 logg=4.41\n",
      "Changing to logg=5.00 for T= 70791 logg=4.41\n",
      "Changing to T=  1200 for T=   808 logg=4.44\n",
      "Changing to logg=0.00 for T=  3554 logg=-0.25\n",
      "Changing to logg=0.00 for T=  3325 logg=-0.66\n",
      "Changing to T= 50000 for T= 72300 logg=4.45\n",
      "Changing to logg=5.00 for T= 72300 logg=4.45\n",
      "Changing to logg=0.00 for T=  3325 logg=-0.66\n",
      "Changing to T=  1200 for T=   692 logg=4.44\n",
      "Changing to logg=0.00 for T=  3325 logg=-0.66\n",
      "Changing to logg=0.00 for T=  3317 logg=-0.70\n",
      "Changing to logg=0.00 for T=  3554 logg=-0.25\n",
      "Changing to logg=3.00 for T= 19590 logg=2.49\n",
      "Changing to logg=2.00 for T=  9832 logg=1.63\n",
      "Changing to logg=1.50 for T=  8770 logg=1.44\n",
      "Changing to T= 50000 for T= 72322 logg=4.44\n",
      "Changing to logg=5.00 for T= 72322 logg=4.44\n",
      "Changing to T= 50000 for T= 68251 logg=4.33\n",
      "Changing to logg=5.00 for T= 68251 logg=4.33\n",
      "Changing to T= 50000 for T= 77780 logg=5.39\n",
      "Changing to logg=5.00 for T= 77780 logg=5.39\n",
      "Changing to T=  1200 for T=   808 logg=4.44\n",
      "Changing to T= 50000 for T=101824 logg=5.41\n",
      "Changing to logg=5.00 for T=101824 logg=5.41\n",
      "Changing to logg=0.00 for T=  3325 logg=-0.66\n",
      "Changing to logg=0.00 for T=  3317 logg=-0.70\n",
      "Changing to logg=1.50 for T=  8770 logg=1.44\n",
      "Changing to logg=0.00 for T=  3317 logg=-0.70\n",
      "Changing to T=  1200 for T=   692 logg=4.44\n",
      "Changing to T= 50000 for T= 71017 logg=4.41\n",
      "Changing to logg=5.00 for T= 71017 logg=4.41\n",
      "Changing to logg=1.50 for T=  8770 logg=1.44\n",
      "Changing to logg=1.50 for T=  8770 logg=1.44\n",
      "Changing to T= 50000 for T= 70317 logg=4.40\n",
      "Changing to logg=5.00 for T= 70317 logg=4.40\n",
      "Changing to T= 50000 for T= 72419 logg=4.45\n",
      "Changing to logg=5.00 for T= 72419 logg=4.45\n",
      "Changing to T= 50000 for T= 63596 logg=4.20\n",
      "Changing to logg=5.00 for T= 63596 logg=4.20\n",
      "Changing to logg=1.50 for T=  8770 logg=1.44\n",
      "Changing to logg=2.00 for T=  9034 logg=1.64\n",
      "Changing to logg=0.00 for T=  3317 logg=-0.70\n",
      "Changing to logg=1.50 for T=  8770 logg=1.44\n",
      "Changing to T= 50000 for T=101478 logg=5.42\n",
      "Changing to logg=5.00 for T=101478 logg=5.42\n",
      "Changing to T=  1200 for T=   808 logg=4.44\n",
      "Changing to logg=0.00 for T=  3325 logg=-0.66\n",
      "Changing to T= 50000 for T= 61937 logg=4.17\n",
      "Changing to logg=5.00 for T= 61937 logg=4.17\n",
      "Changing to T= 50000 for T=102393 logg=5.41\n",
      "Changing to logg=5.00 for T=102393 logg=5.41\n",
      "Changing to logg=0.00 for T=  3317 logg=-0.70\n",
      "Changing to logg=1.50 for T=  8770 logg=1.44\n",
      "Changing to logg=0.00 for T=  3325 logg=-0.66\n",
      "Changing to T= 50000 for T= 67861 logg=4.32\n",
      "Changing to logg=5.00 for T= 67861 logg=4.32\n",
      "Changing to logg=1.50 for T=  8770 logg=1.44\n",
      "Changing to T= 50000 for T= 66627 logg=4.29\n",
      "Changing to logg=5.00 for T= 66627 logg=4.29\n",
      "Changing to T=  1200 for T=   808 logg=4.44\n",
      "Changing to T= 50000 for T= 63602 logg=4.20\n",
      "Changing to logg=5.00 for T= 63602 logg=4.20\n",
      "Changing to T=  1200 for T=   808 logg=4.44\n",
      "Changing to logg=1.50 for T=  8770 logg=1.44\n",
      "Changing to logg=0.00 for T=  3317 logg=-0.70\n",
      "Changing to logg=0.00 for T=  3325 logg=-0.66\n",
      "Changing to logg=5.00 for T=  1616 logg=4.44\n",
      "Changing to T= 50000 for T= 72134 logg=4.44\n",
      "Changing to logg=5.00 for T= 72134 logg=4.44\n",
      "Changing to logg=1.50 for T=  8770 logg=1.44\n",
      "Changing to T= 50000 for T=101226 logg=5.40\n",
      "Changing to logg=5.00 for T=101226 logg=5.40\n",
      "Changing to logg=5.00 for T=  1616 logg=4.44\n",
      "Changing to T= 50000 for T= 69480 logg=4.37\n",
      "Changing to logg=5.00 for T= 69480 logg=4.37\n",
      "Changing to T= 50000 for T= 64500 logg=4.23\n",
      "Changing to logg=5.00 for T= 64500 logg=4.23\n",
      "Changing to logg=0.00 for T=  3317 logg=-0.70\n",
      "Changing to T= 50000 for T= 72096 logg=4.44\n",
      "Changing to logg=5.00 for T= 72096 logg=4.44\n",
      "Changing to T= 50000 for T= 99582 logg=5.43\n",
      "Changing to logg=5.00 for T= 99582 logg=5.43\n",
      "Changing to T=  1200 for T=   808 logg=4.44\n",
      "Changing to logg=0.00 for T=  3554 logg=-0.25\n",
      "Changing to T= 50000 for T= 53224 logg=3.92\n",
      "Changing to logg=5.00 for T= 53224 logg=3.92\n",
      "Changing to logg=1.50 for T=  8770 logg=1.44\n",
      "Changing to T= 50000 for T= 64353 logg=4.22\n",
      "Changing to logg=5.00 for T= 64353 logg=4.22\n",
      "Changing to logg=0.00 for T=  3317 logg=-0.68\n",
      "Changing to logg=0.00 for T=  3317 logg=-0.70\n",
      "Changing to T= 50000 for T=102948 logg=5.41\n",
      "Changing to logg=5.00 for T=102948 logg=5.41\n",
      "Changing to logg=0.00 for T=  3325 logg=-0.66\n",
      "Changing to T= 50000 for T= 86137 logg=5.29\n",
      "Changing to logg=5.00 for T= 86137 logg=5.29\n",
      "Changing to logg=0.00 for T=  3325 logg=-0.66\n",
      "Changing to T=  1200 for T=   808 logg=4.44\n",
      "Changing to T= 50000 for T= 67602 logg=4.32\n",
      "Changing to logg=5.00 for T= 67602 logg=4.32\n",
      "Changing to logg=0.00 for T=  3325 logg=-0.66\n",
      "Changing to logg=0.00 for T=  3554 logg=-0.25\n",
      "Changing to logg=0.00 for T=  3294 logg=-0.74\n",
      "Changing to logg=1.50 for T=  8770 logg=1.44\n",
      "Changing to T=  1200 for T=   692 logg=4.44\n",
      "Changing to T= 50000 for T= 68173 logg=4.34\n",
      "Changing to logg=5.00 for T= 68173 logg=4.34\n",
      "Changing to T= 50000 for T=101167 logg=5.42\n",
      "Changing to logg=5.00 for T=101167 logg=5.42\n",
      "Changing to logg=1.50 for T=  8770 logg=1.44\n",
      "Changing to T= 50000 for T= 70474 logg=4.40\n",
      "Changing to logg=5.00 for T= 70474 logg=4.40\n",
      "Changing to logg=1.50 for T=  8770 logg=1.44\n",
      "Changing to logg=1.50 for T=  8770 logg=1.44\n",
      "Changing to logg=0.00 for T=  3554 logg=-0.25\n",
      "Changing to T= 50000 for T= 70920 logg=4.41\n",
      "Changing to logg=5.00 for T= 70920 logg=4.41\n",
      "Changing to logg=1.50 for T=  8770 logg=1.44\n",
      "Changing to T= 50000 for T=132114 logg=5.77\n",
      "Changing to logg=5.00 for T=132114 logg=5.77\n",
      "Changing to T= 50000 for T= 72540 logg=4.46\n",
      "Changing to logg=5.00 for T= 72540 logg=4.46\n",
      "Changing to logg=2.00 for T=  9671 logg=1.71\n",
      "Changing to logg=2.00 for T=  9787 logg=1.68\n",
      "Changing to T=  1200 for T=   692 logg=4.44\n",
      "Changing to logg=4.50 for T= 43064 logg=3.76\n",
      "Changing to logg=0.00 for T=  3317 logg=-0.70\n",
      "Changing to logg=2.00 for T= 10354 logg=1.62\n",
      "Changing to T= 50000 for T=100244 logg=5.42\n",
      "Changing to logg=5.00 for T=100244 logg=5.42\n",
      "Changing to T= 50000 for T= 82393 logg=5.42\n",
      "Changing to logg=5.00 for T= 82393 logg=5.42\n",
      "Changing to logg=1.50 for T=  8770 logg=1.44\n",
      "Changing to T= 50000 for T= 73592 logg=4.46\n",
      "Changing to logg=5.00 for T= 73592 logg=4.46\n",
      "Changing to logg=0.00 for T=  3554 logg=-0.25\n",
      "Changing to T= 50000 for T= 72259 logg=4.44\n",
      "Changing to logg=5.00 for T= 72259 logg=4.44\n",
      "Changing to T= 50000 for T= 68454 logg=4.35\n",
      "Changing to logg=5.00 for T= 68454 logg=4.35\n",
      "Changing to T= 50000 for T= 66393 logg=4.29\n",
      "Changing to logg=5.00 for T= 66393 logg=4.29\n",
      "Changing to T= 50000 for T= 72375 logg=4.45\n",
      "Changing to logg=5.00 for T= 72375 logg=4.45\n",
      "Changing to T= 50000 for T= 72410 logg=4.44\n",
      "Changing to logg=5.00 for T= 72410 logg=4.44\n",
      "Changing to T= 50000 for T=100316 logg=5.42\n",
      "Changing to logg=5.00 for T=100316 logg=5.42\n",
      "Changing to T= 50000 for T= 57932 logg=4.06\n",
      "Changing to logg=5.00 for T= 57932 logg=4.06\n",
      "Changing to T= 50000 for T= 72417 logg=4.45\n",
      "Changing to logg=5.00 for T= 72417 logg=4.45\n",
      "Changing to T= 50000 for T= 67825 logg=4.33\n",
      "Changing to logg=5.00 for T= 67825 logg=4.33\n",
      "Changing to logg=0.00 for T=  3554 logg=-0.25\n",
      "Changing to T= 50000 for T=101037 logg=5.40\n",
      "Changing to logg=5.00 for T=101037 logg=5.40\n",
      "Changing to logg=1.50 for T=  8770 logg=1.44\n",
      "Changing to logg=0.00 for T=  3330 logg=-0.71\n",
      "Changing to T= 50000 for T= 62008 logg=4.16\n",
      "Changing to logg=5.00 for T= 62008 logg=4.16\n",
      "Changing to T= 50000 for T= 62552 logg=4.18\n",
      "Changing to logg=5.00 for T= 62552 logg=4.18\n",
      "Changing to logg=1.50 for T=  8770 logg=1.44\n",
      "Changing to logg=0.00 for T=  3554 logg=-0.25\n",
      "Changing to logg=0.00 for T=  3317 logg=-0.70\n",
      "Changing to logg=1.50 for T=  8770 logg=1.44\n",
      "Changing to T= 50000 for T= 63004 logg=4.19\n",
      "Changing to logg=5.00 for T= 63004 logg=4.19\n",
      "Changing to logg=1.50 for T=  8770 logg=1.44\n",
      "Changing to logg=1.50 for T=  8770 logg=1.44\n",
      "Changing to logg=1.50 for T=  8770 logg=1.44\n",
      "Changing to T= 50000 for T= 71333 logg=4.40\n",
      "Changing to logg=5.00 for T= 71333 logg=4.40\n",
      "Changing to T= 50000 for T= 71130 logg=4.41\n",
      "Changing to logg=5.00 for T= 71130 logg=4.41\n",
      "Changing to logg=2.00 for T=  9833 logg=1.68\n",
      "Changing to logg=1.50 for T=  8770 logg=1.44\n",
      "Changing to logg=5.00 for T=  1616 logg=4.44\n",
      "Changing to T= 50000 for T=102747 logg=5.41\n",
      "Changing to logg=5.00 for T=102747 logg=5.41\n",
      "Changing to logg=1.50 for T=  8770 logg=1.44\n",
      "Changing to T= 50000 for T= 69322 logg=4.37\n",
      "Changing to logg=5.00 for T= 69322 logg=4.37\n",
      "Changing to logg=1.50 for T=  8770 logg=1.44\n",
      "Changing to T= 50000 for T= 72437 logg=4.45\n",
      "Changing to logg=5.00 for T= 72437 logg=4.45\n",
      "Changing to logg=0.00 for T=  3325 logg=-0.66\n",
      "Changing to T= 50000 for T=101606 logg=5.41\n",
      "Changing to logg=5.00 for T=101606 logg=5.41\n",
      "Changing to logg=0.00 for T=  3317 logg=-0.70\n",
      "Changing to logg=0.00 for T=  3325 logg=-0.66\n",
      "Changing to T= 50000 for T=101265 logg=5.40\n",
      "Changing to logg=5.00 for T=101265 logg=5.40\n",
      "Changing to logg=0.00 for T=  3325 logg=-0.66\n",
      "Changing to T= 50000 for T= 63756 logg=4.21\n",
      "Changing to logg=5.00 for T= 63756 logg=4.21\n",
      "Changing to T= 50000 for T=101237 logg=5.41\n",
      "Changing to logg=5.00 for T=101237 logg=5.41\n",
      "Changing to T=  1200 for T=   692 logg=4.44\n",
      "Changing to logg=2.00 for T=  9772 logg=1.67\n",
      "Changing to logg=0.00 for T=  3317 logg=-0.70\n",
      "Changing to logg=1.50 for T=  8770 logg=1.44\n",
      "Changing to logg=2.00 for T=  9759 logg=1.72\n",
      "Changing to logg=0.00 for T=  3317 logg=-0.70\n",
      "Changing to logg=0.00 for T=  3288 logg=-0.82\n",
      "Changing to logg=5.00 for T=  1616 logg=4.44\n",
      "Changing to T= 50000 for T= 62509 logg=4.18\n",
      "Changing to logg=5.00 for T= 62509 logg=4.18\n",
      "Changing to T= 50000 for T= 72345 logg=4.44\n",
      "Changing to logg=5.00 for T= 72345 logg=4.44\n",
      "Changing to T= 50000 for T= 67934 logg=4.33\n",
      "Changing to logg=5.00 for T= 67934 logg=4.33\n",
      "Changing to T= 50000 for T= 69696 logg=4.37\n",
      "Changing to logg=5.00 for T= 69696 logg=4.37\n",
      "Changing to logg=1.50 for T=  8770 logg=1.44\n",
      "Changing to T= 50000 for T= 73315 logg=4.45\n",
      "Changing to logg=5.00 for T= 73315 logg=4.45\n",
      "Changing to T= 50000 for T= 65349 logg=4.25\n",
      "Changing to logg=5.00 for T= 65349 logg=4.25\n",
      "Changing to logg=1.50 for T=  8770 logg=1.44\n",
      "Changing to logg=0.00 for T=  3554 logg=-0.25\n",
      "Changing to logg=0.00 for T=  3317 logg=-0.70\n",
      "Changing to logg=1.50 for T=  8770 logg=1.44\n",
      "Changing to T= 50000 for T= 68454 logg=4.35\n",
      "Changing to logg=5.00 for T= 68454 logg=4.35\n",
      "Changing to T= 50000 for T= 95192 logg=5.08\n",
      "Changing to logg=5.00 for T= 95192 logg=5.08\n",
      "Changing to logg=0.00 for T=  3325 logg=-0.66\n",
      "Changing to T= 50000 for T= 65770 logg=4.26\n",
      "Changing to logg=5.00 for T= 65770 logg=4.26\n",
      "Changing to T= 50000 for T= 72282 logg=4.44\n",
      "Changing to logg=5.00 for T= 72282 logg=4.44\n",
      "Changing to logg=0.00 for T=  3337 logg=-0.66\n",
      "Changing to logg=0.00 for T=  3325 logg=-0.66\n",
      "Changing to T= 50000 for T= 73018 logg=5.46\n",
      "Changing to logg=5.00 for T= 73018 logg=5.46\n",
      "Making photometry for isochrone: log(t) = 7.00  AKs = 0.00  dist = 1000\n",
      "     Starting at:  2021-05-26 17:02:22.529887   Usually takes ~5 minutes\n",
      "Starting filter: ubv,U   Elapsed time: 0.01 seconds\n",
      "Starting synthetic photometry\n",
      "M =   1.240 Msun  T =  6110 K  m_ubv_U = 14.69\n",
      "M =   5.300 Msun  T = 16984 K  m_ubv_U = 8.36\n",
      "M =  17.000 Msun  T = 24307 K  m_ubv_U = 3.94\n",
      "M =  18.000 Msun  T = 71698 K  m_ubv_U = 7.27\n",
      "M =   1.400 Msun  T =  6559 K  m_ubv_U = 13.78\n",
      "M =   6.310 Msun  T =   nan K  m_ubv_U =  nan\n",
      "M =  19.000 Msun  T = 28262 K  m_ubv_U = 2.75\n",
      "M =  12.000 Msun  T = 25081 K  m_ubv_U = 5.56\n",
      "M =   0.251 Msun  T =   nan K  m_ubv_U =  nan\n",
      "M =  19.000 Msun  T = 102113 K  m_ubv_U = 8.77\n",
      "M =   1.400 Msun  T =   nan K  m_ubv_U =  nan\n",
      "M =   8.000 Msun  T = 21305 K  m_ubv_U = 7.05\n",
      "M =  11.000 Msun  T = 24577 K  m_ubv_U = 5.95\n",
      "M =   1.400 Msun  T =   nan K  m_ubv_U =  nan\n",
      "M =  13.000 Msun  T = 26107 K  m_ubv_U = 5.36\n",
      "M =  15.000 Msun  T = 26270 K  m_ubv_U = 4.69\n",
      "M =  17.000 Msun  T = 24307 K  m_ubv_U = 3.94\n",
      "M =  14.000 Msun  T = 26300 K  m_ubv_U = 5.01\n",
      "M =   8.500 Msun  T = 22028 K  m_ubv_U = 6.88\n",
      "M =   3.162 Msun  T =  2739 K  m_ubv_U = 29.73\n",
      "M =   1.400 Msun  T =   nan K  m_ubv_U =  nan\n",
      "M =   1.400 Msun  T =   nan K  m_ubv_U =  nan\n",
      "M =   1.400 Msun  T =   nan K  m_ubv_U =  nan\n",
      "M =   0.501 Msun  T =   nan K  m_ubv_U =  nan\n",
      "M =   1.200 Msun  T =  5987 K  m_ubv_U = 15.00\n",
      "M =  15.000 Msun  T = 26270 K  m_ubv_U = 4.69\n",
      "M =  14.000 Msun  T = 26300 K  m_ubv_U = 5.01\n",
      "M =   3.162 Msun  T =  2739 K  m_ubv_U = 29.73\n",
      "M =   1.400 Msun  T =   nan K  m_ubv_U =  nan\n",
      "M =  20.000 Msun  T = 65151 K  m_ubv_U = 6.00\n",
      "M =  12.000 Msun  T = 25081 K  m_ubv_U = 5.56\n",
      "M =   1.400 Msun  T =   nan K  m_ubv_U =  nan\n",
      "M =   1.400 Msun  T =   nan K  m_ubv_U =  nan\n",
      "M =  12.000 Msun  T = 25081 K  m_ubv_U = 5.56\n",
      "M =   1.400 Msun  T =  6559 K  m_ubv_U = 13.78\n",
      "M =  21.000 Msun  T = 69632 K  m_ubv_U = 6.23\n",
      "M =   3.981 Msun  T =   nan K  m_ubv_U =  nan\n",
      "M =   3.162 Msun  T =  2739 K  m_ubv_U = 29.73\n",
      "M =   0.600 Msun  T =  5463 K  m_ubv_U = 16.50\n",
      "M =   5.012 Msun  T =   nan K  m_ubv_U =  nan\n",
      "M =  17.000 Msun  T = 24307 K  m_ubv_U = 3.94\n",
      "M =   5.012 Msun  T =   nan K  m_ubv_U =  nan\n",
      "M =  13.600 Msun  T = 28461 K  m_ubv_U = 5.27\n",
      "M =  16.200 Msun  T = 26347 K  m_ubv_U = 4.27\n",
      "M =   0.280 Msun  T =  1616 K  m_ubv_U = 33.62\n",
      "M =  15.000 Msun  T = 25833 K  m_ubv_U = 4.59\n",
      "M =  11.400 Msun  T =   nan K  m_ubv_U =  nan\n",
      "M =   2.400 Msun  T = 10468 K  m_ubv_U = 11.13\n",
      "M =   1.400 Msun  T =  6571 K  m_ubv_U = 13.77\n",
      "M =  17.100 Msun  T = 24815 K  m_ubv_U = 3.89\n",
      "M =  12.000 Msun  T = 25146 K  m_ubv_U = 5.54\n",
      "M =   2.400 Msun  T = 10468 K  m_ubv_U = 11.13\n",
      "M =   1.100 Msun  T =  5905 K  m_ubv_U = 15.39\n",
      "M =  16.000 Msun  T = 25206 K  m_ubv_U = 4.25\n",
      "M =   5.200 Msun  T = 17553 K  m_ubv_U = 8.50\n",
      "M =   3.000 Msun  T = 12276 K  m_ubv_U = 10.27\n",
      "M =   3.400 Msun  T = 13365 K  m_ubv_U = 9.82\n",
      "M =   8.400 Msun  T = 23278 K  m_ubv_U = 7.04\n",
      "M =   5.100 Msun  T = 17340 K  m_ubv_U = 8.56\n",
      "M =  11.000 Msun  T = 24743 K  m_ubv_U = 5.98\n",
      "M =  18.000 Msun  T =  8770 K  m_ubv_U = 2.31\n",
      "M =  19.000 Msun  T = 102681 K  m_ubv_U = 8.82\n",
      "M =  11.000 Msun  T = 24743 K  m_ubv_U = 5.98\n",
      "M =   1.400 Msun  T =  6561 K  m_ubv_U = 13.77\n",
      "M =   1.080 Msun  T =  5851 K  m_ubv_U = 15.53\n",
      "M =  13.500 Msun  T = 28501 K  m_ubv_U = 5.31\n",
      "M =  11.200 Msun  T = 26902 K  m_ubv_U = 6.07\n",
      "M =  15.000 Msun  T = 25833 K  m_ubv_U = 4.59\n",
      "M =   1.500 Msun  T =  6905 K  m_ubv_U = 13.36\n",
      "M =  12.000 Msun  T = 27449 K  m_ubv_U = 5.79\n",
      "M =  10.800 Msun  T = 26377 K  m_ubv_U = 6.13\n",
      "M =   1.500 Msun  T =  6905 K  m_ubv_U = 13.36\n",
      "M =  19.000 Msun  T = 101226 K  m_ubv_U = 8.78\n",
      "M =   3.600 Msun  T = 13885 K  m_ubv_U = 9.63\n",
      "M =   0.840 Msun  T =  4847 K  m_ubv_U = 17.71\n",
      "M =   6.300 Msun  T = 19695 K  m_ubv_U = 7.93\n",
      "M =  13.000 Msun  T = 26170 K  m_ubv_U = 5.33\n",
      "M =  18.000 Msun  T =  8770 K  m_ubv_U = 2.31\n",
      "M =   0.360 Msun  T =   nan K  m_ubv_U =  nan\n",
      "M =  21.000 Msun  T =  3317 K  m_ubv_U = 8.13\n",
      "M =  15.300 Msun  T = 28171 K  m_ubv_U = 4.68\n",
      "M =  16.000 Msun  T = 25206 K  m_ubv_U = 4.25\n",
      "Starting filter: ubv,V   Elapsed time: 33.12 seconds\n",
      "Starting synthetic photometry\n",
      "M =   1.240 Msun  T =  6110 K  m_ubv_V = 14.10\n",
      "M =   5.300 Msun  T = 16984 K  m_ubv_V = 9.18\n",
      "M =  17.000 Msun  T = 24307 K  m_ubv_V = 5.13\n",
      "M =  18.000 Msun  T = 71698 K  m_ubv_V = 8.72\n",
      "M =   1.400 Msun  T =  6559 K  m_ubv_V = 13.37\n",
      "M =   6.310 Msun  T =   nan K  m_ubv_V =  nan\n",
      "M =  19.000 Msun  T = 28262 K  m_ubv_V = 4.03\n",
      "M =  12.000 Msun  T = 25081 K  m_ubv_V = 6.74\n",
      "M =   0.251 Msun  T =   nan K  m_ubv_V =  nan\n",
      "M =  19.000 Msun  T = 102113 K  m_ubv_V = 10.21\n",
      "M =   1.400 Msun  T =   nan K  m_ubv_V =  nan\n",
      "M =   8.000 Msun  T = 21305 K  m_ubv_V = 8.08\n",
      "M =  11.000 Msun  T = 24577 K  m_ubv_V = 7.11\n",
      "M =   1.400 Msun  T =   nan K  m_ubv_V =  nan\n",
      "M =  13.000 Msun  T = 26107 K  m_ubv_V = 6.56\n",
      "M =  15.000 Msun  T = 26270 K  m_ubv_V = 5.91\n",
      "M =  17.000 Msun  T = 24307 K  m_ubv_V = 5.13\n",
      "M =  14.000 Msun  T = 26300 K  m_ubv_V = 6.23\n",
      "M =   8.500 Msun  T = 22028 K  m_ubv_V = 7.94\n",
      "M =   3.162 Msun  T =  2739 K  m_ubv_V = 26.84\n",
      "M =   1.400 Msun  T =   nan K  m_ubv_V =  nan\n",
      "M =   1.400 Msun  T =   nan K  m_ubv_V =  nan\n",
      "M =   1.400 Msun  T =   nan K  m_ubv_V =  nan\n",
      "M =   0.501 Msun  T =   nan K  m_ubv_V =  nan\n",
      "M =   1.200 Msun  T =  5987 K  m_ubv_V = 14.35\n",
      "M =  15.000 Msun  T = 26270 K  m_ubv_V = 5.91\n",
      "M =  14.000 Msun  T = 26300 K  m_ubv_V = 6.23\n",
      "M =   3.162 Msun  T =  2739 K  m_ubv_V = 26.84\n",
      "M =   1.400 Msun  T =   nan K  m_ubv_V =  nan\n",
      "M =  20.000 Msun  T = 65151 K  m_ubv_V = 7.44\n",
      "M =  12.000 Msun  T = 25081 K  m_ubv_V = 6.74\n",
      "M =   1.400 Msun  T =   nan K  m_ubv_V =  nan\n",
      "M =   1.400 Msun  T =   nan K  m_ubv_V =  nan\n",
      "M =  12.000 Msun  T = 25081 K  m_ubv_V = 6.74\n",
      "M =   1.400 Msun  T =  6559 K  m_ubv_V = 13.37\n",
      "M =  21.000 Msun  T = 69632 K  m_ubv_V = 7.67\n",
      "M =   3.981 Msun  T =   nan K  m_ubv_V =  nan\n",
      "M =   3.162 Msun  T =  2739 K  m_ubv_V = 26.84\n",
      "M =   0.600 Msun  T =  5463 K  m_ubv_V = 15.45\n",
      "M =   5.012 Msun  T =   nan K  m_ubv_V =  nan\n",
      "M =  17.000 Msun  T = 24307 K  m_ubv_V = 5.13\n",
      "M =   5.012 Msun  T =   nan K  m_ubv_V =  nan\n",
      "M =  13.600 Msun  T = 28461 K  m_ubv_V = 6.53\n",
      "M =  16.200 Msun  T = 26347 K  m_ubv_V = 5.50\n",
      "M =   0.280 Msun  T =  1616 K  m_ubv_V = 29.23\n",
      "M =  15.000 Msun  T = 25833 K  m_ubv_V = 5.80\n",
      "M =  11.400 Msun  T =   nan K  m_ubv_V =  nan\n",
      "M =   2.400 Msun  T = 10468 K  m_ubv_V = 11.28\n",
      "M =   1.400 Msun  T =  6571 K  m_ubv_V = 13.36\n",
      "M =  17.100 Msun  T = 24815 K  m_ubv_V = 5.09\n",
      "M =  12.000 Msun  T = 25146 K  m_ubv_V = 6.72\n",
      "M =   2.400 Msun  T = 10468 K  m_ubv_V = 11.28\n",
      "M =   1.100 Msun  T =  5905 K  m_ubv_V = 14.69\n",
      "M =  16.000 Msun  T = 25206 K  m_ubv_V = 5.45\n",
      "M =   5.200 Msun  T = 17553 K  m_ubv_V = 9.35\n",
      "M =   3.000 Msun  T = 12276 K  m_ubv_V = 10.69\n",
      "M =   3.400 Msun  T = 13365 K  m_ubv_V = 10.37\n",
      "M =   8.400 Msun  T = 23278 K  m_ubv_V = 8.14\n",
      "M =   5.100 Msun  T = 17340 K  m_ubv_V = 9.39\n",
      "M =  11.000 Msun  T = 24743 K  m_ubv_V = 7.14\n",
      "M =  18.000 Msun  T =  8770 K  m_ubv_V = 2.39\n",
      "M =  19.000 Msun  T = 102681 K  m_ubv_V = 10.26\n",
      "M =  11.000 Msun  T = 24743 K  m_ubv_V = 7.14\n",
      "M =   1.400 Msun  T =  6561 K  m_ubv_V = 13.36\n",
      "M =   1.080 Msun  T =  5851 K  m_ubv_V = 14.79\n",
      "M =  13.500 Msun  T = 28501 K  m_ubv_V = 6.58\n",
      "M =  11.200 Msun  T = 26902 K  m_ubv_V = 7.28\n",
      "M =  15.000 Msun  T = 25833 K  m_ubv_V = 5.80\n",
      "M =   1.500 Msun  T =  6905 K  m_ubv_V = 13.02\n",
      "M =  12.000 Msun  T = 27449 K  m_ubv_V = 7.02\n",
      "M =  10.800 Msun  T = 26377 K  m_ubv_V = 7.33\n",
      "M =   1.500 Msun  T =  6905 K  m_ubv_V = 13.02\n",
      "M =  19.000 Msun  T = 101226 K  m_ubv_V = 10.23\n",
      "M =   3.600 Msun  T = 13885 K  m_ubv_V = 10.23\n",
      "M =   0.840 Msun  T =  4847 K  m_ubv_V = 16.05\n",
      "M =   6.300 Msun  T = 19695 K  m_ubv_V = 8.88\n",
      "M =  13.000 Msun  T = 26170 K  m_ubv_V = 6.54\n",
      "M =  18.000 Msun  T =  8770 K  m_ubv_V = 2.39\n",
      "M =   0.360 Msun  T =   nan K  m_ubv_V =  nan\n",
      "M =  21.000 Msun  T =  3317 K  m_ubv_V = 5.03\n",
      "M =  15.300 Msun  T = 28171 K  m_ubv_V = 5.95\n",
      "M =  16.000 Msun  T = 25206 K  m_ubv_V = 5.45\n",
      "Starting filter: ubv,B   Elapsed time: 65.35 seconds\n",
      "Starting synthetic photometry\n",
      "M =   1.240 Msun  T =  6110 K  m_ubv_B = 14.69\n",
      "M =   5.300 Msun  T = 16984 K  m_ubv_B = 9.01\n",
      "M =  17.000 Msun  T = 24307 K  m_ubv_B = 4.89\n",
      "M =  18.000 Msun  T = 71698 K  m_ubv_B = 8.39\n",
      "M =   1.400 Msun  T =  6559 K  m_ubv_B = 13.83\n",
      "M =   6.310 Msun  T =   nan K  m_ubv_B =  nan\n",
      "M =  19.000 Msun  T = 28262 K  m_ubv_B = 3.77\n",
      "M =  12.000 Msun  T = 25081 K  m_ubv_B = 6.49\n",
      "M =   0.251 Msun  T =   nan K  m_ubv_B =  nan\n",
      "M =  19.000 Msun  T = 102113 K  m_ubv_B = 9.88\n",
      "M =   1.400 Msun  T =   nan K  m_ubv_B =  nan\n",
      "M =   8.000 Msun  T = 21305 K  m_ubv_B = 7.86\n",
      "M =  11.000 Msun  T = 24577 K  m_ubv_B = 6.87\n",
      "M =   1.400 Msun  T =   nan K  m_ubv_B =  nan\n",
      "M =  13.000 Msun  T = 26107 K  m_ubv_B = 6.31\n",
      "M =  15.000 Msun  T = 26270 K  m_ubv_B = 5.66\n",
      "M =  17.000 Msun  T = 24307 K  m_ubv_B = 4.89\n",
      "M =  14.000 Msun  T = 26300 K  m_ubv_B = 5.98\n",
      "M =   8.500 Msun  T = 22028 K  m_ubv_B = 7.72\n",
      "M =   3.162 Msun  T =  2739 K  m_ubv_B = 28.28\n",
      "M =   1.400 Msun  T =   nan K  m_ubv_B =  nan\n",
      "M =   1.400 Msun  T =   nan K  m_ubv_B =  nan\n",
      "M =   1.400 Msun  T =   nan K  m_ubv_B =  nan\n",
      "M =   0.501 Msun  T =   nan K  m_ubv_B =  nan\n",
      "M =   1.200 Msun  T =  5987 K  m_ubv_B = 14.98\n",
      "M =  15.000 Msun  T = 26270 K  m_ubv_B = 5.66\n",
      "M =  14.000 Msun  T = 26300 K  m_ubv_B = 5.98\n",
      "M =   3.162 Msun  T =  2739 K  m_ubv_B = 28.28\n",
      "M =   1.400 Msun  T =   nan K  m_ubv_B =  nan\n",
      "M =  20.000 Msun  T = 65151 K  m_ubv_B = 7.11\n",
      "M =  12.000 Msun  T = 25081 K  m_ubv_B = 6.49\n",
      "M =   1.400 Msun  T =   nan K  m_ubv_B =  nan\n",
      "M =   1.400 Msun  T =   nan K  m_ubv_B =  nan\n",
      "M =  12.000 Msun  T = 25081 K  m_ubv_B = 6.49\n",
      "M =   1.400 Msun  T =  6559 K  m_ubv_B = 13.83\n",
      "M =  21.000 Msun  T = 69632 K  m_ubv_B = 7.34\n",
      "M =   3.981 Msun  T =   nan K  m_ubv_B =  nan\n",
      "M =   3.162 Msun  T =  2739 K  m_ubv_B = 28.28\n",
      "M =   0.600 Msun  T =  5463 K  m_ubv_B = 16.26\n",
      "M =   5.012 Msun  T =   nan K  m_ubv_B =  nan\n",
      "M =  17.000 Msun  T = 24307 K  m_ubv_B = 4.89\n",
      "M =   5.012 Msun  T =   nan K  m_ubv_B =  nan\n",
      "M =  13.600 Msun  T = 28461 K  m_ubv_B = 6.26\n",
      "M =  16.200 Msun  T = 26347 K  m_ubv_B = 5.24\n",
      "M =   0.280 Msun  T =  1616 K  m_ubv_B = 31.39\n",
      "M =  15.000 Msun  T = 25833 K  m_ubv_B = 5.55\n",
      "M =  11.400 Msun  T =   nan K  m_ubv_B =  nan\n",
      "M =   2.400 Msun  T = 10468 K  m_ubv_B = 11.25\n",
      "M =   1.400 Msun  T =  6571 K  m_ubv_B = 13.82\n",
      "M =  17.100 Msun  T = 24815 K  m_ubv_B = 4.85\n",
      "M =  12.000 Msun  T = 25146 K  m_ubv_B = 6.48\n",
      "M =   2.400 Msun  T = 10468 K  m_ubv_B = 11.25\n",
      "M =   1.100 Msun  T =  5905 K  m_ubv_B = 15.35\n",
      "M =  16.000 Msun  T = 25206 K  m_ubv_B = 5.21\n",
      "M =   5.200 Msun  T = 17553 K  m_ubv_B = 9.17\n",
      "M =   3.000 Msun  T = 12276 K  m_ubv_B = 10.59\n",
      "M =   3.400 Msun  T = 13365 K  m_ubv_B = 10.25\n",
      "M =   8.400 Msun  T = 23278 K  m_ubv_B = 7.91\n",
      "M =   5.100 Msun  T = 17340 K  m_ubv_B = 9.22\n",
      "M =  11.000 Msun  T = 24743 K  m_ubv_B = 6.90\n",
      "M =  18.000 Msun  T =  8770 K  m_ubv_B = 2.39\n",
      "M =  19.000 Msun  T = 102681 K  m_ubv_B = 9.93\n",
      "M =  11.000 Msun  T = 24743 K  m_ubv_B = 6.90\n",
      "M =   1.400 Msun  T =  6561 K  m_ubv_B = 13.82\n",
      "M =   1.080 Msun  T =  5851 K  m_ubv_B = 15.47\n",
      "M =  13.500 Msun  T = 28501 K  m_ubv_B = 6.31\n",
      "M =  11.200 Msun  T = 26902 K  m_ubv_B = 7.03\n",
      "M =  15.000 Msun  T = 25833 K  m_ubv_B = 5.55\n",
      "M =   1.500 Msun  T =  6905 K  m_ubv_B = 13.40\n",
      "M =  12.000 Msun  T = 27449 K  m_ubv_B = 6.77\n",
      "M =  10.800 Msun  T = 26377 K  m_ubv_B = 7.08\n",
      "M =   1.500 Msun  T =  6905 K  m_ubv_B = 13.40\n",
      "M =  19.000 Msun  T = 101226 K  m_ubv_B = 9.90\n",
      "M =   3.600 Msun  T = 13885 K  m_ubv_B = 10.10\n",
      "M =   0.840 Msun  T =  4847 K  m_ubv_B = 17.03\n",
      "M =   6.300 Msun  T = 19695 K  m_ubv_B = 8.68\n",
      "M =  13.000 Msun  T = 26170 K  m_ubv_B = 6.29\n",
      "M =  18.000 Msun  T =  8770 K  m_ubv_B = 2.39\n",
      "M =   0.360 Msun  T =   nan K  m_ubv_B =  nan\n",
      "M =  21.000 Msun  T =  3317 K  m_ubv_B = 6.53\n",
      "M =  15.300 Msun  T = 28171 K  m_ubv_B = 5.68\n",
      "M =  16.000 Msun  T = 25206 K  m_ubv_B = 5.21\n",
      "Starting filter: ubv,R   Elapsed time: 96.85 seconds\n",
      "Starting synthetic photometry\n",
      "M =   1.240 Msun  T =  6110 K  m_ubv_R = 13.80\n",
      "M =   5.300 Msun  T = 16984 K  m_ubv_R = 9.24\n",
      "M =  17.000 Msun  T = 24307 K  m_ubv_R = 5.22\n",
      "M =  18.000 Msun  T = 71698 K  m_ubv_R = 8.85\n",
      "M =   1.400 Msun  T =  6559 K  m_ubv_R = 13.12\n",
      "M =   6.310 Msun  T =   nan K  m_ubv_R =  nan\n",
      "M =  19.000 Msun  T = 28262 K  m_ubv_R = 4.14\n",
      "M =  12.000 Msun  T = 25081 K  m_ubv_R = 6.83\n",
      "M =   0.251 Msun  T =   nan K  m_ubv_R =  nan\n",
      "M =  19.000 Msun  T = 102113 K  m_ubv_R = 10.35\n",
      "M =   1.400 Msun  T =   nan K  m_ubv_R =  nan\n",
      "M =   8.000 Msun  T = 21305 K  m_ubv_R = 8.16\n",
      "M =  11.000 Msun  T = 24577 K  m_ubv_R = 7.21\n",
      "M =   1.400 Msun  T =   nan K  m_ubv_R =  nan\n",
      "M =  13.000 Msun  T = 26107 K  m_ubv_R = 6.66\n",
      "M =  15.000 Msun  T = 26270 K  m_ubv_R = 6.01\n",
      "M =  17.000 Msun  T = 24307 K  m_ubv_R = 5.22\n",
      "M =  14.000 Msun  T = 26300 K  m_ubv_R = 6.33\n",
      "M =   8.500 Msun  T = 22028 K  m_ubv_R = 8.03\n",
      "M =   3.162 Msun  T =  2739 K  m_ubv_R = 25.46\n",
      "M =   1.400 Msun  T =   nan K  m_ubv_R =  nan\n",
      "M =   1.400 Msun  T =   nan K  m_ubv_R =  nan\n",
      "M =   1.400 Msun  T =   nan K  m_ubv_R =  nan\n",
      "M =   0.501 Msun  T =   nan K  m_ubv_R =  nan\n",
      "M =   1.200 Msun  T =  5987 K  m_ubv_R = 14.03\n",
      "M =  15.000 Msun  T = 26270 K  m_ubv_R = 6.01\n",
      "M =  14.000 Msun  T = 26300 K  m_ubv_R = 6.33\n",
      "M =   3.162 Msun  T =  2739 K  m_ubv_R = 25.46\n",
      "M =   1.400 Msun  T =   nan K  m_ubv_R =  nan\n",
      "M =  20.000 Msun  T = 65151 K  m_ubv_R = 7.58\n",
      "M =  12.000 Msun  T = 25081 K  m_ubv_R = 6.83\n",
      "M =   1.400 Msun  T =   nan K  m_ubv_R =  nan\n",
      "M =   1.400 Msun  T =   nan K  m_ubv_R =  nan\n",
      "M =  12.000 Msun  T = 25081 K  m_ubv_R = 6.83\n",
      "M =   1.400 Msun  T =  6559 K  m_ubv_R = 13.12\n",
      "M =  21.000 Msun  T = 69632 K  m_ubv_R = 7.81\n",
      "M =   3.981 Msun  T =   nan K  m_ubv_R =  nan\n",
      "M =   3.162 Msun  T =  2739 K  m_ubv_R = 25.46\n",
      "M =   0.600 Msun  T =  5463 K  m_ubv_R = 15.06\n",
      "M =   5.012 Msun  T =   nan K  m_ubv_R =  nan\n",
      "M =  17.000 Msun  T = 24307 K  m_ubv_R = 5.22\n",
      "M =   5.012 Msun  T =   nan K  m_ubv_R =  nan\n",
      "M =  13.600 Msun  T = 28461 K  m_ubv_R = 6.64\n",
      "M =  16.200 Msun  T = 26347 K  m_ubv_R = 5.60\n",
      "M =   0.280 Msun  T =  1616 K  m_ubv_R = 26.30\n",
      "M =  15.000 Msun  T = 25833 K  m_ubv_R = 5.90\n",
      "M =  11.400 Msun  T =   nan K  m_ubv_R =  nan\n",
      "M =   2.400 Msun  T = 10468 K  m_ubv_R = 11.30\n",
      "M =   1.400 Msun  T =  6571 K  m_ubv_R = 13.12\n",
      "M =  17.100 Msun  T = 24815 K  m_ubv_R = 5.19\n",
      "M =  12.000 Msun  T = 25146 K  m_ubv_R = 6.82\n",
      "M =   2.400 Msun  T = 10468 K  m_ubv_R = 11.30\n",
      "M =   1.100 Msun  T =  5905 K  m_ubv_R = 14.37\n",
      "M =  16.000 Msun  T = 25206 K  m_ubv_R = 5.55\n",
      "M =   5.200 Msun  T = 17553 K  m_ubv_R = 9.41\n",
      "M =   3.000 Msun  T = 12276 K  m_ubv_R = 10.72\n",
      "M =   3.400 Msun  T = 13365 K  m_ubv_R = 10.41\n",
      "M =   8.400 Msun  T = 23278 K  m_ubv_R = 8.23\n",
      "M =   5.100 Msun  T = 17340 K  m_ubv_R = 9.46\n",
      "M =  11.000 Msun  T = 24743 K  m_ubv_R = 7.23\n",
      "M =  18.000 Msun  T =  8770 K  m_ubv_R = 2.35\n",
      "M =  19.000 Msun  T = 102681 K  m_ubv_R = 10.40\n",
      "M =  11.000 Msun  T = 24743 K  m_ubv_R = 7.23\n",
      "M =   1.400 Msun  T =  6561 K  m_ubv_R = 13.11\n",
      "M =   1.080 Msun  T =  5851 K  m_ubv_R = 14.46\n",
      "M =  13.500 Msun  T = 28501 K  m_ubv_R = 6.69\n",
      "M =  11.200 Msun  T = 26902 K  m_ubv_R = 7.38\n",
      "M =  15.000 Msun  T = 25833 K  m_ubv_R = 5.90\n",
      "M =   1.500 Msun  T =  6905 K  m_ubv_R = 12.81\n",
      "M =  12.000 Msun  T = 27449 K  m_ubv_R = 7.13\n",
      "M =  10.800 Msun  T = 26377 K  m_ubv_R = 7.43\n",
      "M =   1.500 Msun  T =  6905 K  m_ubv_R = 12.81\n",
      "M =  19.000 Msun  T = 101226 K  m_ubv_R = 10.36\n",
      "M =   3.600 Msun  T = 13885 K  m_ubv_R = 10.27\n",
      "M =   0.840 Msun  T =  4847 K  m_ubv_R = 15.53\n",
      "M =   6.300 Msun  T = 19695 K  m_ubv_R = 8.96\n",
      "M =  13.000 Msun  T = 26170 K  m_ubv_R = 6.64\n",
      "M =  18.000 Msun  T =  8770 K  m_ubv_R = 2.35\n",
      "M =   0.360 Msun  T =   nan K  m_ubv_R =  nan\n",
      "M =  21.000 Msun  T =  3317 K  m_ubv_R = 3.89\n",
      "M =  15.300 Msun  T = 28171 K  m_ubv_R = 6.05\n",
      "M =  16.000 Msun  T = 25206 K  m_ubv_R = 5.55\n",
      "Starting filter: ubv,I   Elapsed time: 127.72 seconds\n",
      "Starting synthetic photometry\n",
      "M =   1.240 Msun  T =  6110 K  m_ubv_I = 13.44\n",
      "M =   5.300 Msun  T = 16984 K  m_ubv_I = 9.40\n",
      "M =  17.000 Msun  T = 24307 K  m_ubv_I = 5.44\n",
      "M =  18.000 Msun  T = 71698 K  m_ubv_I = 9.13\n",
      "M =   1.400 Msun  T =  6559 K  m_ubv_I = 12.82\n",
      "M =   6.310 Msun  T =   nan K  m_ubv_I =  nan\n",
      "M =  19.000 Msun  T = 28262 K  m_ubv_I = 4.38\n",
      "M =  12.000 Msun  T = 25081 K  m_ubv_I = 7.06\n",
      "M =   0.251 Msun  T =   nan K  m_ubv_I =  nan\n",
      "M =  19.000 Msun  T = 102113 K  m_ubv_I = 10.63\n",
      "M =   1.400 Msun  T =   nan K  m_ubv_I =  nan\n",
      "M =   8.000 Msun  T = 21305 K  m_ubv_I = 8.37\n",
      "M =  11.000 Msun  T = 24577 K  m_ubv_I = 7.43\n",
      "M =   1.400 Msun  T =   nan K  m_ubv_I =  nan\n",
      "M =  13.000 Msun  T = 26107 K  m_ubv_I = 6.90\n",
      "M =  15.000 Msun  T = 26270 K  m_ubv_I = 6.25\n",
      "M =  17.000 Msun  T = 24307 K  m_ubv_I = 5.44\n",
      "M =  14.000 Msun  T = 26300 K  m_ubv_I = 6.57\n",
      "M =   8.500 Msun  T = 22028 K  m_ubv_I = 8.24\n",
      "M =   3.162 Msun  T =  2739 K  m_ubv_I = 22.12\n",
      "M =   1.400 Msun  T =   nan K  m_ubv_I =  nan\n",
      "M =   1.400 Msun  T =   nan K  m_ubv_I =  nan\n",
      "M =   1.400 Msun  T =   nan K  m_ubv_I =  nan\n",
      "M =   0.501 Msun  T =   nan K  m_ubv_I =  nan\n",
      "M =   1.200 Msun  T =  5987 K  m_ubv_I = 13.65\n",
      "M =  15.000 Msun  T = 26270 K  m_ubv_I = 6.25\n",
      "M =  14.000 Msun  T = 26300 K  m_ubv_I = 6.57\n",
      "M =   3.162 Msun  T =  2739 K  m_ubv_I = 22.12\n",
      "M =   1.400 Msun  T =   nan K  m_ubv_I =  nan\n",
      "M =  20.000 Msun  T = 65151 K  m_ubv_I = 7.86\n",
      "M =  12.000 Msun  T = 25081 K  m_ubv_I = 7.06\n",
      "M =   1.400 Msun  T =   nan K  m_ubv_I =  nan\n",
      "M =   1.400 Msun  T =   nan K  m_ubv_I =  nan\n",
      "M =  12.000 Msun  T = 25081 K  m_ubv_I = 7.06\n",
      "M =   1.400 Msun  T =  6559 K  m_ubv_I = 12.82\n",
      "M =  21.000 Msun  T = 69632 K  m_ubv_I = 8.09\n",
      "M =   3.981 Msun  T =   nan K  m_ubv_I =  nan\n",
      "M =   3.162 Msun  T =  2739 K  m_ubv_I = 22.12\n",
      "M =   0.600 Msun  T =  5463 K  m_ubv_I = 14.59\n",
      "M =   5.012 Msun  T =   nan K  m_ubv_I =  nan\n",
      "M =  17.000 Msun  T = 24307 K  m_ubv_I = 5.44\n",
      "M =   5.012 Msun  T =   nan K  m_ubv_I =  nan\n",
      "M =  13.600 Msun  T = 28461 K  m_ubv_I = 6.89\n",
      "M =  16.200 Msun  T = 26347 K  m_ubv_I = 5.84\n",
      "M =   0.280 Msun  T =  1616 K  m_ubv_I = 22.86\n",
      "M =  15.000 Msun  T = 25833 K  m_ubv_I = 6.14\n",
      "M =  11.400 Msun  T =   nan K  m_ubv_I =  nan\n",
      "M =   2.400 Msun  T = 10468 K  m_ubv_I = 11.34\n",
      "M =   1.400 Msun  T =  6571 K  m_ubv_I = 12.82\n",
      "M =  17.100 Msun  T = 24815 K  m_ubv_I = 5.41\n",
      "M =  12.000 Msun  T = 25146 K  m_ubv_I = 7.05\n",
      "M =   2.400 Msun  T = 10468 K  m_ubv_I = 11.34\n",
      "M =   1.100 Msun  T =  5905 K  m_ubv_I = 13.97\n",
      "M =  16.000 Msun  T = 25206 K  m_ubv_I = 5.78\n",
      "M =   5.200 Msun  T = 17553 K  m_ubv_I = 9.58\n",
      "M =   3.000 Msun  T = 12276 K  m_ubv_I = 10.81\n",
      "M =   3.400 Msun  T = 13365 K  m_ubv_I = 10.52\n",
      "M =   8.400 Msun  T = 23278 K  m_ubv_I = 8.45\n",
      "M =   5.100 Msun  T = 17340 K  m_ubv_I = 9.62\n",
      "M =  11.000 Msun  T = 24743 K  m_ubv_I = 7.46\n",
      "M =  18.000 Msun  T =  8770 K  m_ubv_I = 2.30\n",
      "M =  19.000 Msun  T = 102681 K  m_ubv_I = 10.68\n",
      "M =  11.000 Msun  T = 24743 K  m_ubv_I = 7.46\n",
      "M =   1.400 Msun  T =  6561 K  m_ubv_I = 12.82\n",
      "M =   1.080 Msun  T =  5851 K  m_ubv_I = 14.06\n",
      "M =  13.500 Msun  T = 28501 K  m_ubv_I = 6.94\n",
      "M =  11.200 Msun  T = 26902 K  m_ubv_I = 7.63\n",
      "M =  15.000 Msun  T = 25833 K  m_ubv_I = 6.14\n",
      "M =   1.500 Msun  T =  6905 K  m_ubv_I = 12.56\n",
      "M =  12.000 Msun  T = 27449 K  m_ubv_I = 7.38\n",
      "M =  10.800 Msun  T = 26377 K  m_ubv_I = 7.67\n",
      "M =   1.500 Msun  T =  6905 K  m_ubv_I = 12.56\n",
      "M =  19.000 Msun  T = 101226 K  m_ubv_I = 10.64\n",
      "M =   3.600 Msun  T = 13885 K  m_ubv_I = 10.39\n",
      "M =   0.840 Msun  T =  4847 K  m_ubv_I = 14.92\n",
      "M =   6.300 Msun  T = 19695 K  m_ubv_I = 9.15\n",
      "M =  13.000 Msun  T = 26170 K  m_ubv_I = 6.88\n",
      "M =  18.000 Msun  T =  8770 K  m_ubv_I = 2.30\n",
      "M =   0.360 Msun  T =   nan K  m_ubv_I =  nan\n",
      "M =  21.000 Msun  T =  3317 K  m_ubv_I = 1.35\n",
      "M =  15.300 Msun  T = 28171 K  m_ubv_I = 6.30\n",
      "M =  16.000 Msun  T = 25206 K  m_ubv_I = 5.78\n",
      "      Time taken: 158.07 seconds\n",
      "Isochrone generation took 1287.044102 s.\n"
     ]
    }
   ],
   "source": [
    "import spisea\n",
    "from spisea import evolution, synthetic\n",
    "import math\n",
    "# Check if the evolution class works fine\n",
    "import time\n",
    "t1=time.time()\n",
    "bps=evolution.BPASS()\n",
    "iso1=synthetic.Isochrone_Binary(7.0, 0.0, 1000,math.log10(1), mass_sampling=1)\n"
   ]
  },
  {
   "cell_type": "markdown",
   "metadata": {},
   "source": [
    "For a sanity check, we can see that the primaries, secondaries, and single stars have phasees of 5 or of 101 or of 110. Note that we will have a phase of 110 in order to indicate a mystery compact remnant that BPASS provides for NEWSECMODS (secondary star models with compact primaries). This is since we haven't added neutron stars or black holes yet. Stars with phase of -99 exist, and those are the secondary stars that have already merged. Secondary stars that have merged with their primaries have designation of phase -99."
   ]
  },
  {
   "cell_type": "code",
   "execution_count": 2,
   "metadata": {},
   "outputs": [
    {
     "data": {
      "text/plain": [
       "True"
      ]
     },
     "execution_count": 2,
     "metadata": {},
     "output_type": "execute_result"
    }
   ],
   "source": [
    "import numpy as np\n",
    "np.all([(x == 5 or x == 101 or x==102 or x==103) for x in iso1.primaries['phase']])"
   ]
  },
  {
   "cell_type": "code",
   "execution_count": 3,
   "metadata": {},
   "outputs": [
    {
     "data": {
      "text/plain": [
       "True"
      ]
     },
     "execution_count": 3,
     "metadata": {},
     "output_type": "execute_result"
    }
   ],
   "source": [
    "np.all([(x == 5 or x == 101 or x==102 or x==103) for x in iso1.singles['phase']])"
   ]
  },
  {
   "cell_type": "code",
   "execution_count": 4,
   "metadata": {},
   "outputs": [
    {
     "data": {
      "text/plain": [
       "True"
      ]
     },
     "execution_count": 4,
     "metadata": {},
     "output_type": "execute_result"
    }
   ],
   "source": [
    "np.all([(x == 5 or x == 101 or x == -99 or x==102 or x==103) for x in iso1.secondaries['phase']])"
   ]
  },
  {
   "cell_type": "markdown",
   "metadata": {},
   "source": [
    "Find the maximum, mean, and median  values of logg (cgs) for primaries and secondaries accounting for NaNs in the columns. (For max we make NaNs the same as - infinity and for median and mean, we do not include them)"
   ]
  },
  {
   "cell_type": "code",
   "execution_count": 5,
   "metadata": {},
   "outputs": [
    {
     "data": {
      "text/plain": [
       "4.591806913365015"
      ]
     },
     "execution_count": 5,
     "metadata": {},
     "output_type": "execute_result"
    }
   ],
   "source": [
    "np.max(iso1.singles['logg'])"
   ]
  },
  {
   "cell_type": "code",
   "execution_count": 6,
   "metadata": {},
   "outputs": [
    {
     "data": {
      "text/plain": [
       "5.898517399939001"
      ]
     },
     "execution_count": 6,
     "metadata": {},
     "output_type": "execute_result"
    }
   ],
   "source": [
    "np.max(np.nan_to_num(iso1.primaries['logg'], -np.inf))"
   ]
  },
  {
   "cell_type": "code",
   "execution_count": 7,
   "metadata": {},
   "outputs": [
    {
     "data": {
      "text/plain": [
       "5.7676806790772"
      ]
     },
     "execution_count": 7,
     "metadata": {},
     "output_type": "execute_result"
    }
   ],
   "source": [
    "np.max(np.nan_to_num(iso1.secondaries['logg'], -np.inf))"
   ]
  },
  {
   "cell_type": "code",
   "execution_count": 8,
   "metadata": {},
   "outputs": [
    {
     "data": {
      "text/plain": [
       "4.178243141326868"
      ]
     },
     "execution_count": 8,
     "metadata": {},
     "output_type": "execute_result"
    }
   ],
   "source": [
    "np.mean(iso1.singles['logg'][np.where(~np.isnan(iso1.singles['logg']))])"
   ]
  },
  {
   "cell_type": "code",
   "execution_count": 9,
   "metadata": {},
   "outputs": [
    {
     "data": {
      "text/plain": [
       "4.108995846829808"
      ]
     },
     "execution_count": 9,
     "metadata": {},
     "output_type": "execute_result"
    }
   ],
   "source": [
    "np.mean(iso1.primaries['logg'][np.where(~np.isnan(iso1.primaries['logg']))])"
   ]
  },
  {
   "cell_type": "code",
   "execution_count": 10,
   "metadata": {},
   "outputs": [
    {
     "data": {
      "text/plain": [
       "3.96292885544605"
      ]
     },
     "execution_count": 10,
     "metadata": {},
     "output_type": "execute_result"
    }
   ],
   "source": [
    "np.mean(iso1.secondaries['logg'][np.where(~np.isnan(iso1.secondaries['logg']))])"
   ]
  },
  {
   "cell_type": "code",
   "execution_count": 11,
   "metadata": {},
   "outputs": [
    {
     "data": {
      "text/plain": [
       "4.194452095013302"
      ]
     },
     "execution_count": 11,
     "metadata": {},
     "output_type": "execute_result"
    }
   ],
   "source": [
    "np.median(iso1.singles['logg'][np.where(~np.isnan(iso1.singles['logg']))])"
   ]
  },
  {
   "cell_type": "code",
   "execution_count": 12,
   "metadata": {},
   "outputs": [
    {
     "data": {
      "text/plain": [
       "4.075886239648769"
      ]
     },
     "execution_count": 12,
     "metadata": {},
     "output_type": "execute_result"
    }
   ],
   "source": [
    "np.median(iso1.primaries['logg'][np.where(~np.isnan(iso1.primaries['logg']))])"
   ]
  },
  {
   "cell_type": "code",
   "execution_count": 13,
   "metadata": {},
   "outputs": [
    {
     "name": "stderr",
     "output_type": "stream",
     "text": [
      "/opt/anaconda3/envs/astroconda/lib/python3.7/site-packages/ipykernel_launcher.py:1: FutureWarning: Using a non-tuple sequence for multidimensional indexing is deprecated; use `arr[tuple(seq)]` instead of `arr[seq]`. In the future this will be interpreted as an array index, `arr[np.array(seq)]`, which will result either in an error or a different result.\n",
      "  \"\"\"Entry point for launching an IPython kernel.\n"
     ]
    },
    {
     "data": {
      "text/plain": [
       "4.239978886358815"
      ]
     },
     "execution_count": 13,
     "metadata": {},
     "output_type": "execute_result"
    }
   ],
   "source": [
    "np.median(iso1.secondaries['logg'][[np.where(~np.isnan(iso1.secondaries['logg']))]])"
   ]
  },
  {
   "cell_type": "code",
   "execution_count": 14,
   "metadata": {},
   "outputs": [
    {
     "data": {
      "text/plain": [
       "Text(0.5, 0, 'logg in cgs')"
      ]
     },
     "execution_count": 14,
     "metadata": {},
     "output_type": "execute_result"
    },
    {
     "data": {
      "image/png": "[encoded data removed]",
      "text/plain": [
       "<Figure size 432x288 with 1 Axes>"
      ]
     },
     "metadata": {
      "needs_background": "light"
     },
     "output_type": "display_data"
    }
   ],
   "source": [
    "import matplotlib.pyplot as plt\n",
    "plt.title(\"Distribution of logg values (secondaries) of isochrone\")\n",
    "plt.hist(np.array([x for x in iso1.secondaries['logg'] if np.isfinite(x)]), np.arange(0, 30, 1))\n",
    "plt.xlabel(\"logg in cgs\")"
   ]
  },
  {
   "cell_type": "code",
   "execution_count": 15,
   "metadata": {},
   "outputs": [
    {
     "data": {
      "text/plain": [
       "Text(0.5, 0, 'logg in cgs')"
      ]
     },
     "execution_count": 15,
     "metadata": {},
     "output_type": "execute_result"
    },
    {
     "data": {
      "image/png": "[encoded data removed]",
      "text/plain": [
       "<Figure size 432x288 with 1 Axes>"
      ]
     },
     "metadata": {
      "needs_background": "light"
     },
     "output_type": "display_data"
    }
   ],
   "source": [
    "import matplotlib.pyplot as plt\n",
    "plt.title(\"Distribution of logg values (primaries) of isochrone\")\n",
    "plt.hist(np.array([x for x in iso1.primaries['logg'] if np.isfinite(x)]), np.arange(0, 30, 1))\n",
    "plt.xlabel(\"logg in cgs\")"
   ]
  },
  {
   "cell_type": "code",
   "execution_count": 16,
   "metadata": {},
   "outputs": [
    {
     "data": {
      "text/plain": [
       "Text(0.5, 0, 'logg in cgs')"
      ]
     },
     "execution_count": 16,
     "metadata": {},
     "output_type": "execute_result"
    },
    {
     "data": {
      "image/png": "[encoded data removed]",
      "text/plain": [
       "<Figure size 432x288 with 1 Axes>"
      ]
     },
     "metadata": {
      "needs_background": "light"
     },
     "output_type": "display_data"
    }
   ],
   "source": [
    "import matplotlib.pyplot as plt\n",
    "plt.title(\"Distribution of logg values single stars of isochrone\")\n",
    "plt.hist(np.array([x for x in iso1.singles['logg'] if np.isfinite(x)]), np.arange(0, 30, 1))\n",
    "plt.xlabel(\"logg in cgs\")"
   ]
  },
  {
   "cell_type": "markdown",
   "metadata": {},
   "source": [
    "Now, for comparison, I will create a MISTv.1 isochrone of the same metallicity, age, distance from earth, and AKs."
   ]
  },
  {
   "cell_type": "code",
   "execution_count": 17,
   "metadata": {},
   "outputs": [
    {
     "name": "stdout",
     "output_type": "stream",
     "text": [
      "Changing to logg=3.50 for T= 26068 logg=3.41\n",
      "Changing to logg=3.50 for T= 26167 logg=3.41\n",
      "Changing to logg=3.50 for T= 26263 logg=3.42\n",
      "Changing to logg=3.50 for T= 26355 logg=3.42\n",
      "Changing to logg=3.50 for T= 26443 logg=3.42\n",
      "Changing to logg=3.50 for T= 26528 logg=3.43\n",
      "Changing to logg=3.50 for T= 26609 logg=3.43\n",
      "Changing to logg=3.50 for T= 26685 logg=3.43\n",
      "Changing to logg=3.50 for T= 26758 logg=3.43\n",
      "Changing to logg=3.50 for T= 26826 logg=3.44\n",
      "Changing to logg=3.50 for T= 26889 logg=3.44\n",
      "Changing to logg=3.50 for T= 26943 logg=3.44\n",
      "Changing to logg=3.50 for T= 26985 logg=3.44\n",
      "Changing to logg=3.50 for T= 27008 logg=3.45\n",
      "Changing to logg=3.50 for T= 27006 logg=3.45\n",
      "Changing to logg=3.50 for T= 26955 logg=3.45\n",
      "Changing to logg=3.50 for T= 26861 logg=3.44\n",
      "Changing to logg=3.50 for T= 26740 logg=3.44\n",
      "Changing to logg=3.50 for T= 26600 logg=3.44\n",
      "Changing to logg=3.50 for T= 26446 logg=3.43\n",
      "Changing to logg=3.50 for T= 26289 logg=3.42\n",
      "Changing to logg=3.50 for T= 26128 logg=3.41\n",
      "Changing to logg=3.00 for T= 21082 logg=2.99\n",
      "Changing to logg=3.00 for T= 20939 logg=2.98\n",
      "Changing to logg=3.00 for T= 20797 logg=2.97\n",
      "Changing to logg=3.00 for T= 20655 logg=2.96\n",
      "Changing to logg=3.00 for T= 20513 logg=2.94\n",
      "Changing to logg=3.00 for T= 20372 logg=2.93\n",
      "Changing to logg=3.00 for T= 20231 logg=2.92\n",
      "Changing to logg=3.00 for T= 20091 logg=2.91\n",
      "Changing to logg=3.00 for T= 19951 logg=2.90\n",
      "Changing to logg=3.00 for T= 19813 logg=2.88\n",
      "Changing to logg=3.00 for T= 19675 logg=2.87\n",
      "Changing to logg=3.00 for T= 19538 logg=2.86\n",
      "Changing to logg=3.00 for T= 19401 logg=2.85\n",
      "Changing to logg=3.00 for T= 19265 logg=2.83\n",
      "Changing to logg=3.00 for T= 19131 logg=2.82\n",
      "Changing to logg=2.50 for T= 15896 logg=2.49\n",
      "Changing to logg=2.50 for T= 15781 logg=2.48\n",
      "Changing to logg=2.50 for T= 15667 logg=2.47\n",
      "Changing to logg=2.50 for T= 15554 logg=2.46\n",
      "Changing to logg=2.50 for T= 15442 logg=2.44\n",
      "Changing to logg=2.50 for T= 15330 logg=2.43\n",
      "Changing to logg=2.50 for T= 15219 logg=2.42\n",
      "Changing to logg=2.50 for T= 15109 logg=2.40\n",
      "Changing to logg=2.50 for T= 14999 logg=2.39\n",
      "Changing to logg=2.50 for T= 14891 logg=2.38\n",
      "Changing to logg=2.50 for T= 14782 logg=2.37\n",
      "Changing to logg=2.50 for T= 14675 logg=2.35\n",
      "Changing to logg=2.50 for T= 14569 logg=2.34\n",
      "Changing to logg=2.50 for T= 14463 logg=2.33\n",
      "Changing to logg=2.50 for T= 14358 logg=2.31\n",
      "Changing to logg=2.50 for T= 14254 logg=2.30\n",
      "Changing to logg=2.50 for T= 14150 logg=2.29\n",
      "Changing to logg=2.50 for T= 14048 logg=2.27\n",
      "Changing to logg=2.50 for T= 13946 logg=2.26\n",
      "Changing to logg=2.50 for T= 13844 logg=2.25\n",
      "Changing to logg=2.50 for T= 13744 logg=2.23\n",
      "Changing to logg=2.50 for T= 13644 logg=2.22\n",
      "Changing to logg=2.50 for T= 13545 logg=2.21\n",
      "Changing to logg=2.50 for T= 13447 logg=2.19\n",
      "Changing to logg=2.50 for T= 13350 logg=2.18\n",
      "Changing to logg=2.50 for T= 13253 logg=2.17\n",
      "Changing to logg=2.50 for T= 13157 logg=2.16\n",
      "Changing to logg=2.50 for T= 13061 logg=2.14\n",
      "Changing to logg=2.50 for T= 12967 logg=2.13\n",
      "Changing to logg=2.50 for T= 12873 logg=2.12\n",
      "Changing to logg=2.50 for T= 12779 logg=2.10\n",
      "Changing to logg=2.50 for T= 12687 logg=2.09\n",
      "Changing to logg=2.50 for T= 12595 logg=2.08\n",
      "Changing to logg=2.50 for T= 12504 logg=2.06\n",
      "Changing to logg=2.50 for T= 12413 logg=2.05\n",
      "Changing to logg=2.50 for T= 12323 logg=2.04\n",
      "Changing to logg=2.50 for T= 12234 logg=2.02\n",
      "Changing to logg=2.50 for T= 12145 logg=2.01\n",
      "Changing to logg=2.50 for T= 12058 logg=2.00\n",
      "Changing to logg=2.50 for T= 11970 logg=1.98\n",
      "Changing to logg=2.50 for T= 11884 logg=1.97\n",
      "Changing to logg=2.50 for T= 11798 logg=1.96\n",
      "Changing to logg=2.00 for T= 11712 logg=1.94\n",
      "Changing to logg=2.00 for T= 11628 logg=1.93\n",
      "Changing to logg=2.00 for T= 11543 logg=1.92\n",
      "Changing to logg=2.00 for T= 11460 logg=1.90\n",
      "Changing to logg=2.00 for T= 11377 logg=1.89\n",
      "Changing to logg=2.00 for T= 11295 logg=1.88\n",
      "Changing to logg=2.00 for T= 11213 logg=1.86\n",
      "Changing to logg=2.00 for T= 11132 logg=1.85\n",
      "Changing to logg=2.00 for T= 11052 logg=1.84\n",
      "Changing to logg=2.00 for T= 10972 logg=1.82\n",
      "Changing to logg=2.00 for T= 10893 logg=1.81\n",
      "Changing to logg=2.00 for T= 10814 logg=1.80\n",
      "Changing to logg=2.00 for T= 10736 logg=1.78\n",
      "Changing to logg=2.00 for T= 10658 logg=1.77\n",
      "Changing to logg=2.00 for T= 10582 logg=1.76\n",
      "Changing to logg=2.00 for T= 10505 logg=1.74\n",
      "Changing to logg=2.00 for T= 10429 logg=1.73\n",
      "Changing to logg=2.00 for T= 10354 logg=1.72\n",
      "Changing to logg=2.00 for T= 10280 logg=1.71\n",
      "Changing to logg=2.00 for T= 10206 logg=1.69\n",
      "Changing to logg=2.00 for T= 10132 logg=1.68\n",
      "Changing to logg=2.00 for T= 10059 logg=1.67\n",
      "Changing to logg=2.00 for T=  9987 logg=1.65\n",
      "Changing to logg=2.00 for T=  9915 logg=1.64\n",
      "Changing to logg=2.00 for T=  9844 logg=1.63\n",
      "Changing to logg=2.00 for T=  9773 logg=1.61\n",
      "Changing to logg=2.00 for T=  9703 logg=1.60\n",
      "Changing to logg=2.00 for T=  9634 logg=1.59\n",
      "Changing to logg=2.00 for T=  9565 logg=1.58\n",
      "Changing to logg=2.00 for T=  9496 logg=1.56\n",
      "Changing to logg=2.00 for T=  9359 logg=1.54\n",
      "Changing to logg=2.00 for T=  9225 logg=1.51\n",
      "Changing to logg=2.00 for T=  9093 logg=1.49\n",
      "Changing to logg=1.50 for T=  8963 logg=1.46\n",
      "Changing to logg=1.50 for T=  8836 logg=1.44\n",
      "Changing to logg=1.50 for T=  8711 logg=1.41\n",
      "Changing to logg=1.50 for T=  8589 logg=1.39\n",
      "Changing to logg=1.50 for T=  8468 logg=1.36\n",
      "Changing to logg=1.50 for T=  8350 logg=1.34\n",
      "Isochrone generation took 76.257431 s.\n",
      "Making photometry for isochrone: log(t) = 7.00  AKs = 0.00  dist = 1000\n",
      "     Starting at:  2021-05-26 17:06:18.183523   Usually takes ~5 minutes\n",
      "Starting filter: ubv,U   Elapsed time: 0.01 seconds\n",
      "Starting synthetic photometry\n",
      "M =   0.112 Msun  T =  3025 K  m_ubv_U = 24.31\n",
      "M =   2.350 Msun  T = 10414 K  m_ubv_U = 11.18\n",
      "M =   9.793 Msun  T = 24007 K  m_ubv_U = 6.48\n",
      "M =  17.853 Msun  T = 25534 K  m_ubv_U = 3.82\n",
      "M =  17.889 Msun  T = 15781 K  m_ubv_U = 2.83\n",
      "M =  17.971 Msun  T =  6489 K  m_ubv_U = 2.91\n",
      "Starting filter: ubv,B   Elapsed time: 2.22 seconds\n",
      "Starting synthetic photometry\n",
      "M =   0.112 Msun  T =  3025 K  m_ubv_B = 23.44\n",
      "M =   2.350 Msun  T = 10414 K  m_ubv_B = 11.29\n",
      "M =   9.793 Msun  T = 24007 K  m_ubv_B = 7.37\n",
      "M =  17.853 Msun  T = 25534 K  m_ubv_B = 4.80\n",
      "M =  17.889 Msun  T = 15781 K  m_ubv_B = 3.55\n",
      "M =  17.971 Msun  T =  6489 K  m_ubv_B = 2.59\n",
      "Starting filter: ubv,V   Elapsed time: 4.66 seconds\n",
      "Starting synthetic photometry\n",
      "M =   0.112 Msun  T =  3025 K  m_ubv_V = 22.45\n",
      "M =   2.350 Msun  T = 10414 K  m_ubv_V = 11.32\n",
      "M =   9.793 Msun  T = 24007 K  m_ubv_V = 7.61\n",
      "M =  17.853 Msun  T = 25534 K  m_ubv_V = 5.04\n",
      "M =  17.889 Msun  T = 15781 K  m_ubv_V = 3.70\n",
      "M =  17.971 Msun  T =  6489 K  m_ubv_V = 2.21\n",
      "Starting filter: ubv,R   Elapsed time: 6.87 seconds\n",
      "Starting synthetic photometry\n",
      "M =   0.112 Msun  T =  3025 K  m_ubv_R = 21.45\n",
      "M =   2.350 Msun  T = 10414 K  m_ubv_R = 11.34\n",
      "M =   9.793 Msun  T = 24007 K  m_ubv_R = 7.70\n",
      "M =  17.853 Msun  T = 25534 K  m_ubv_R = 5.13\n",
      "M =  17.889 Msun  T = 15781 K  m_ubv_R = 3.75\n",
      "M =  17.971 Msun  T =  6489 K  m_ubv_R = 2.01\n",
      "Starting filter: ubv,I   Elapsed time: 9.01 seconds\n",
      "Starting synthetic photometry\n",
      "M =   0.112 Msun  T =  3025 K  m_ubv_I = 18.66\n",
      "M =   2.350 Msun  T = 10414 K  m_ubv_I = 11.38\n",
      "M =   9.793 Msun  T = 24007 K  m_ubv_I = 7.93\n",
      "M =  17.853 Msun  T = 25534 K  m_ubv_I = 5.36\n",
      "M =  17.889 Msun  T = 15781 K  m_ubv_I = 3.88\n",
      "M =  17.971 Msun  T =  6489 K  m_ubv_I = 1.72\n",
      "      Time taken: 11.17 seconds\n"
     ]
    }
   ],
   "source": [
    "iso2=synthetic.IsochronePhot(7.0, 0.0, 1000,\n",
    "                             math.log(1), recomp=True) # New MIST v.1 isochrone for same metallicity"
   ]
  },
  {
   "cell_type": "markdown",
   "metadata": {},
   "source": [
    "Finding the max, median, and mean of the MISTv.1 isochrone's logg values"
   ]
  },
  {
   "cell_type": "code",
   "execution_count": 18,
   "metadata": {},
   "outputs": [
    {
     "data": {
      "text/plain": [
       "4.3301956912058674"
      ]
     },
     "execution_count": 18,
     "metadata": {},
     "output_type": "execute_result"
    }
   ],
   "source": [
    "np.max(iso2.points['logg'])"
   ]
  },
  {
   "cell_type": "code",
   "execution_count": 19,
   "metadata": {},
   "outputs": [
    {
     "data": {
      "text/plain": [
       "(array([ 60.,  57.,  78., 149., 210.,   0.,   0.,   0.,   0.,   0.,   0.,\n",
       "          0.,   0.,   0.,   0.,   0.,   0.,   0.,   0.,   0.,   0.,   0.,\n",
       "          0.,   0.,   0.,   0.,   0.,   0.,   0.]),\n",
       " array([ 0,  1,  2,  3,  4,  5,  6,  7,  8,  9, 10, 11, 12, 13, 14, 15, 16,\n",
       "        17, 18, 19, 20, 21, 22, 23, 24, 25, 26, 27, 28, 29]),\n",
       " <BarContainer object of 29 artists>)"
      ]
     },
     "execution_count": 19,
     "metadata": {},
     "output_type": "execute_result"
    },
    {
     "data": {
      "image/png": "[encoded data removed]",
      "text/plain": [
       "<Figure size 432x288 with 1 Axes>"
      ]
     },
     "metadata": {
      "needs_background": "light"
     },
     "output_type": "display_data"
    }
   ],
   "source": [
    "import matplotlib.pyplot as plt\n",
    "plt.xlabel(\"logg in cgs\")\n",
    "plt.title(\"Histogram of logg values of stars in the MIST v1 isochrone\")\n",
    "plt.hist(np.array([x for x in iso2.points['logg'] if np.isfinite(x)]), np.arange(0, 30, 1))"
   ]
  },
  {
   "cell_type": "code",
   "execution_count": 20,
   "metadata": {},
   "outputs": [
    {
     "data": {
      "text/plain": [
       "3.44315451781853"
      ]
     },
     "execution_count": 20,
     "metadata": {},
     "output_type": "execute_result"
    }
   ],
   "source": [
    "np.median(iso2.points['logg'])"
   ]
  },
  {
   "cell_type": "code",
   "execution_count": 21,
   "metadata": {},
   "outputs": [
    {
     "data": {
      "text/plain": [
       "3.1148461826295915"
      ]
     },
     "execution_count": 21,
     "metadata": {},
     "output_type": "execute_result"
    }
   ],
   "source": [
    "np.mean(iso2.points['logg'])"
   ]
  },
  {
   "cell_type": "code",
   "execution_count": 22,
   "metadata": {},
   "outputs": [],
   "source": [
    "from spisea import imf\n",
    "from spisea.imf import imf, multiplicity\n",
    "from spisea import ifmr\n"
   ]
  },
  {
   "cell_type": "markdown",
   "metadata": {},
   "source": [
    "Make the clusters corresponding to the binary star isochrone and the MISTv.1 isochrone"
   ]
  },
  {
   "cell_type": "code",
   "execution_count": 23,
   "metadata": {},
   "outputs": [
    {
     "name": "stdout",
     "output_type": "stream",
     "text": [
      "892 single stars had to be deleted\n",
      "442.0039276612014 solar masses had to be deleted from single stars before application of the IFMR\n"
     ]
    }
   ],
   "source": [
    "clus_1=synthetic.Cluster_w_Binaries(iso1, imf.IMFSalpeter1955(multiplicity=None),\n",
    "                                    2000, ifmr=ifmr.IFMR_Spera15())\n",
    "clus_2=synthetic.ResolvedCluster(iso2, imf.IMFSalpeter1955(multiplicity=None),\n",
    "                                 2000, ifmr=ifmr.IFMR_Spera15())"
   ]
  },
  {
   "cell_type": "markdown",
   "metadata": {},
   "source": [
    "Now let's visualize the isochrone we have created so far with a color magnitude diagram. There we can see the end of main sequence and perhaps the beginnings of the subgiant branch. That turnoff will turn out to be quite important when using the clusters to find age of real stellar populations.\\n But first, let's look at the isochrones and plot the observers' and theorist's HR diagrams and juxtapose the evolution models.\n",
    "\n",
    "Now we try Taking a look at the Binary Cluster vs Default Settings cluster Observer's HR Diagram.\n",
    "\n",
    "Remember to account for distance modulus! (dist to cluster = 1000)"
   ]
  },
  {
   "cell_type": "code",
   "execution_count": 24,
   "metadata": {},
   "outputs": [
    {
     "data": {
      "text/plain": [
       "<matplotlib.legend.Legend at 0x7f84c15aadd0>"
      ]
     },
     "execution_count": 24,
     "metadata": {},
     "output_type": "execute_result"
    },
    {
     "data": {
      "image/png": "[encoded data removed]",
      "text/plain": [
       "<Figure size 432x288 with 1 Axes>"
      ]
     },
     "metadata": {
      "needs_background": "light"
     },
     "output_type": "display_data"
    }
   ],
   "source": [
    "import matplotlib.pyplot as plt\n",
    "plt.plot(iso1.primaries['m_ubv_B'] - iso1.primaries[\"m_ubv_V\"],\n",
    "         iso1.primaries[\"m_ubv_V\"] - 5 * np.log10(1000 / 10), \"r.\")\n",
    "plt.plot(iso1.secondaries['m_ubv_B'] - iso1.secondaries[\"m_ubv_V\"],\n",
    "         iso1.secondaries[\"m_ubv_V\"] - 5 * np.log10(1000 / 10), \"r.\")\n",
    "plt.plot(iso1.singles['m_ubv_B'] - iso1.singles[\"m_ubv_V\"],\n",
    "         iso1.singles[\"m_ubv_V\"] - 5 * np.log10(1000 / 10),\n",
    "         \"r.\", label=\"BPASS isochrone\")\n",
    "plt.plot(iso2.points['m_ubv_B'] - iso2.points[\"m_ubv_V\"],\n",
    "         iso2.points[\"m_ubv_V\"] - 5 * np.log10(1000 / 10), \"b.\",\n",
    "         label=\"MISTv1\", alpha=0.2)\n",
    "plt.xlabel(\"B-V\")\n",
    "plt.ylabel(\"M_V\")\n",
    "plt.title(\"Color magnitude Diagram of Isochrones at solar metallicity and 10 million years age\")\n",
    "plt.gca().invert_yaxis()\n",
    "plt.legend()"
   ]
  },
  {
   "cell_type": "markdown",
   "metadata": {},
   "source": [
    "**Hmm, where is the vertical line coming from...?**"
   ]
  },
  {
   "cell_type": "code",
   "execution_count": 25,
   "metadata": {},
   "outputs": [
    {
     "data": {
      "text/plain": [
       "<matplotlib.legend.Legend at 0x7f84d198b3d0>"
      ]
     },
     "execution_count": 25,
     "metadata": {},
     "output_type": "execute_result"
    },
    {
     "data": {
      "image/png": "[encoded data removed]",
      "text/plain": [
       "<Figure size 432x288 with 1 Axes>"
      ]
     },
     "metadata": {
      "needs_background": "light"
     },
     "output_type": "display_data"
    }
   ],
   "source": [
    "# Taking a look at the Binary Cluster vs Default Settings cluster Observer's HR Diagram\n",
    "# Remember to use a distance modulus!\n",
    "import matplotlib.pyplot as plt\n",
    "plt.plot(iso1.primaries['m_ubv_B'] - iso1.primaries[\"m_ubv_V\"],\n",
    "         iso1.primaries[\"m_ubv_V\"] - 5 * np.log10(100), \"r.\",\n",
    "         label=\"BPASS isochrone (primaries)\")\n",
    "plt.xlabel(\"B-V\")\n",
    "plt.ylabel(\"M_V\")\n",
    "plt.title(\"Color magnitude Diagram of Isochrones at solar metallicity and 10 million years age\")\n",
    "plt.gca().invert_yaxis()\n",
    "plt.legend()"
   ]
  },
  {
   "cell_type": "code",
   "execution_count": 26,
   "metadata": {},
   "outputs": [],
   "source": [
    "line = iso1.primaries[np.where(((iso1.primaries['m_ubv_B'] - iso1.primaries[\"m_ubv_V\"]) > 0.45) &\n",
    "                               ((iso1.primaries['m_ubv_B'] - iso1.primaries[\"m_ubv_V\"]) <= 0.4583))[0]]"
   ]
  },
  {
   "cell_type": "code",
   "execution_count": 27,
   "metadata": {},
   "outputs": [
    {
     "data": {
      "text/html": [
       "<i>Table length=1</i>\n",
       "<table id=\"table140208157282768\" class=\"table-striped table-bordered table-condensed\">\n",
       "<thead><tr><th>mass</th><th>log_a</th><th>L</th><th>Teff</th><th>R</th><th>logg</th><th>isWR</th><th>mass_current</th><th>phase</th><th>merged</th><th>source</th><th>m_ubv_U</th><th>m_ubv_V</th><th>m_ubv_B</th><th>m_ubv_R</th><th>m_ubv_I</th></tr></thead>\n",
       "<thead><tr><th>solMass</th><th></th><th>W</th><th>K</th><th>m</th><th></th><th></th><th>solMass</th><th></th><th></th><th></th><th></th><th></th><th></th><th></th><th></th></tr></thead>\n",
       "<thead><tr><th>float64</th><th>float64</th><th>float64</th><th>float64</th><th>float64</th><th>float64</th><th>bool</th><th>float64</th><th>float64</th><th>bool</th><th>int64</th><th>float64</th><th>float64</th><th>float64</th><th>float64</th><th>float64</th></tr></thead>\n",
       "<tr><td>1.1199999999999999</td><td>-1.1744604086880293</td><td>4.614896114455274e+26</td><td>5956.347129051855</td><td>716922157.9537915</td><td>4.461185649973315</td><td>False</td><td>1.12</td><td>5.0</td><td>False</td><td>1</td><td>15.262229181332357</td><td>14.593173429480986</td><td>15.234529634112793</td><td>14.274982240389791</td><td>13.885568267638382</td></tr>\n",
       "</table>"
      ],
      "text/plain": [
       "<Table length=1>\n",
       "       mass               log_a        ...      m_ubv_R            m_ubv_I      \n",
       "     solMass                           ...                                      \n",
       "     float64             float64       ...      float64            float64      \n",
       "------------------ ------------------- ... ------------------ ------------------\n",
       "1.1199999999999999 -1.1744604086880293 ... 14.274982240389791 13.885568267638382"
      ]
     },
     "execution_count": 27,
     "metadata": {},
     "output_type": "execute_result"
    }
   ],
   "source": [
    "iso1.secondaries[np.where(((iso1.primaries['m_ubv_B'] - iso1.primaries[\"m_ubv_V\"]) > 0.45) &\n",
    "                          ((iso1.primaries['m_ubv_B'] - iso1.primaries[\"m_ubv_V\"]) <= 0.4583))[0]]"
   ]
  },
  {
   "cell_type": "code",
   "execution_count": 28,
   "metadata": {},
   "outputs": [
    {
     "data": {
      "text/plain": [
       "<matplotlib.legend.Legend at 0x7f84d1a20dd0>"
      ]
     },
     "execution_count": 28,
     "metadata": {},
     "output_type": "execute_result"
    },
    {
     "data": {
      "image/png": "[encoded data removed]",
      "text/plain": [
       "<Figure size 432x288 with 1 Axes>"
      ]
     },
     "metadata": {
      "needs_background": "light"
     },
     "output_type": "display_data"
    }
   ],
   "source": [
    "# Taking a look at the Binary Cluster vs Default Settings cluster Observer's HR Diagram\n",
    "# Remember to use a distance modulus!\n",
    "import matplotlib.pyplot as plt\n",
    "plt.plot(line['m_ubv_B'] - line[\"m_ubv_V\"],\n",
    "         line[\"m_ubv_V\"] - 5 * np.log10(100),\n",
    "         \"r.\",  label=\"BPASS isochrone\")\n",
    "plt.xlabel(\"B-V\")\n",
    "plt.ylabel(\"M_V\")\n",
    "plt.title(\"Color magnitude Diagram of Isochrones at solar metallicity and 10 million years age\")\n",
    "plt.gca().invert_yaxis()\n",
    "plt.legend()"
   ]
  },
  {
   "cell_type": "markdown",
   "metadata": {},
   "source": [
    "What exactly is causing this line. We need to look specifically at the properties of the stars there. Specifically current mass, source code of the star, logg, initial mass, Teff."
   ]
  },
  {
   "cell_type": "code",
   "execution_count": 29,
   "metadata": {},
   "outputs": [
    {
     "data": {
      "text/html": [
       "<i>Table length=1</i>\n",
       "<table id=\"table140208961945232\" class=\"table-striped table-bordered table-condensed\">\n",
       "<thead><tr><th>mass</th><th>L</th><th>Teff</th><th>R</th><th>logg</th><th>isWR</th><th>mass_current</th><th>phase</th><th>source</th><th>m_ubv_U</th><th>m_ubv_V</th><th>m_ubv_B</th><th>m_ubv_R</th><th>m_ubv_I</th></tr></thead>\n",
       "<thead><tr><th>solMass</th><th>W</th><th>K</th><th>m</th><th></th><th></th><th>solMass</th><th></th><th></th><th></th><th></th><th></th><th></th><th></th></tr></thead>\n",
       "<thead><tr><th>float64</th><th>float64</th><th>float64</th><th>float64</th><th>float64</th><th>bool</th><th>float64</th><th>float64</th><th>int64</th><th>float64</th><th>float64</th><th>float64</th><th>float64</th><th>float64</th></tr></thead>\n",
       "<tr><td>1.4</td><td>1.3552266369054162e+27</td><td>6582.941565091027</td><td>1006364165.8564602</td><td>4.2620956629813715</td><td>False</td><td>1.4</td><td>5.0</td><td>1</td><td>13.779926919032436</td><td>13.374385428441462</td><td>13.832467228948614</td><td>13.131380923624441</td><td>12.836786458761473</td></tr>\n",
       "</table>"
      ],
      "text/plain": [
       "<Table length=1>\n",
       "  mass            L            ...      m_ubv_R            m_ubv_I      \n",
       "solMass           W            ...                                      \n",
       "float64        float64         ...      float64            float64      \n",
       "------- ---------------------- ... ------------------ ------------------\n",
       "    1.4 1.3552266369054162e+27 ... 13.131380923624441 12.836786458761473"
      ]
     },
     "execution_count": 29,
     "metadata": {},
     "output_type": "execute_result"
    }
   ],
   "source": [
    "line"
   ]
  },
  {
   "cell_type": "code",
   "execution_count": 30,
   "metadata": {},
   "outputs": [
    {
     "data": {
      "text/html": [
       "&lt;Column name=&apos;mass_current&apos; dtype=&apos;float64&apos; unit=&apos;solMass&apos; length=1&gt;\n",
       "<table>\n",
       "<tr><td>1.4</td></tr>\n",
       "</table>"
      ],
      "text/plain": [
       "<Column name='mass_current' dtype='float64' unit='solMass' length=1>\n",
       "1.4"
      ]
     },
     "execution_count": 30,
     "metadata": {},
     "output_type": "execute_result"
    }
   ],
   "source": [
    "np.unique(line['mass_current'])"
   ]
  },
  {
   "cell_type": "code",
   "execution_count": 31,
   "metadata": {},
   "outputs": [
    {
     "data": {
      "text/html": [
       "&lt;Column name=&apos;source&apos; dtype=&apos;int64&apos; length=1&gt;\n",
       "<table>\n",
       "<tr><td>1</td></tr>\n",
       "</table>"
      ],
      "text/plain": [
       "<Column name='source' dtype='int64' length=1>\n",
       "1"
      ]
     },
     "execution_count": 31,
     "metadata": {},
     "output_type": "execute_result"
    }
   ],
   "source": [
    "np.unique(line['source'])"
   ]
  },
  {
   "cell_type": "code",
   "execution_count": 32,
   "metadata": {},
   "outputs": [
    {
     "data": {
      "text/plain": [
       "array([4.3])"
      ]
     },
     "execution_count": 32,
     "metadata": {},
     "output_type": "execute_result"
    }
   ],
   "source": [
    "np.unique(np.round(line['logg'], 1))"
   ]
  },
  {
   "cell_type": "code",
   "execution_count": 33,
   "metadata": {},
   "outputs": [
    {
     "data": {
      "text/html": [
       "&lt;Column name=&apos;mass&apos; dtype=&apos;float64&apos; unit=&apos;solMass&apos; length=1&gt;\n",
       "<table>\n",
       "<tr><td>1.4</td></tr>\n",
       "</table>"
      ],
      "text/plain": [
       "<Column name='mass' dtype='float64' unit='solMass' length=1>\n",
       "1.4"
      ]
     },
     "execution_count": 33,
     "metadata": {},
     "output_type": "execute_result"
    }
   ],
   "source": [
    "np.unique(line['mass'])"
   ]
  },
  {
   "cell_type": "markdown",
   "metadata": {},
   "source": [
    "**Ah, that may be it: the initial mass of the stars int the line seem to be around the same, so it may be no surprise that there is a lack of variation in photometric properties. Something to look into**"
   ]
  },
  {
   "cell_type": "code",
   "execution_count": 34,
   "metadata": {},
   "outputs": [
    {
     "data": {
      "text/html": [
       "&lt;Column name=&apos;Teff&apos; dtype=&apos;float64&apos; unit=&apos;K&apos; length=1&gt;\n",
       "<table>\n",
       "<tr><td>6582.941565091027</td></tr>\n",
       "</table>"
      ],
      "text/plain": [
       "<Column name='Teff' dtype='float64' unit='K' length=1>\n",
       "6582.941565091027"
      ]
     },
     "execution_count": 34,
     "metadata": {},
     "output_type": "execute_result"
    }
   ],
   "source": [
    "np.unique(line['Teff'])"
   ]
  },
  {
   "cell_type": "code",
   "execution_count": 35,
   "metadata": {},
   "outputs": [
    {
     "data": {
      "text/html": [
       "&lt;Column name=&apos;logg&apos; dtype=&apos;float64&apos; unit=&apos;&apos; length=1&gt;\n",
       "<table>\n",
       "<tr><td>4.2620956629813715</td></tr>\n",
       "</table>"
      ],
      "text/plain": [
       "<Column name='logg' dtype='float64' unit='' length=1>\n",
       "4.2620956629813715"
      ]
     },
     "execution_count": 35,
     "metadata": {},
     "output_type": "execute_result"
    }
   ],
   "source": [
    "np.unique(line['logg'])"
   ]
  },
  {
   "cell_type": "code",
   "execution_count": 36,
   "metadata": {},
   "outputs": [
    {
     "data": {
      "text/plain": [
       "array([27.1])"
      ]
     },
     "execution_count": 36,
     "metadata": {},
     "output_type": "execute_result"
    }
   ],
   "source": [
    "np.unique(np.round(np.log10(line['L']), 1))"
   ]
  },
  {
   "cell_type": "markdown",
   "metadata": {},
   "source": [
    "Generating the Theorist's HR Diagram for the isochrone. Notice the alignment of features."
   ]
  },
  {
   "cell_type": "code",
   "execution_count": 37,
   "metadata": {},
   "outputs": [
    {
     "data": {
      "text/plain": [
       "<matplotlib.legend.Legend at 0x7f84c16a58d0>"
      ]
     },
     "execution_count": 37,
     "metadata": {},
     "output_type": "execute_result"
    },
    {
     "data": {
      "image/png": "[encoded data removed]",
      "text/plain": [
       "<Figure size 432x288 with 1 Axes>"
      ]
     },
     "metadata": {
      "needs_background": "light"
     },
     "output_type": "display_data"
    }
   ],
   "source": [
    "import matplotlib.pyplot as plt\n",
    "plt.plot(np.log10(iso1.primaries['Teff']), np.log10(iso1.primaries[\"L\"]), \"r.\")\n",
    "plt.plot(np.log10(iso1.secondaries['Teff']), np.log10(iso1.secondaries[\"L\"]), \"r.\")\n",
    "plt.plot(np.log10(iso1.singles['Teff']), np.log10(iso1.singles[\"L\"]), \"r.\", label=\"BPASS isochrone\")\n",
    "plt.plot(np.log10(iso2.points['Teff']), np.log10(iso2.points[\"L\"]), \"b.\", label=\"MISTv1\")\n",
    "plt.xlabel(\"log(T in Kelvin)\")\n",
    "plt.ylabel(\"log(L in Watts)\")\n",
    "plt.title(\"HR Diagram of Isochrones at solar metallicity and 10 million years age\")\n",
    "plt.gca().invert_xaxis()\n",
    "plt.legend()\n",
    "# Rough pattern seems to fit"
   ]
  },
  {
   "cell_type": "markdown",
   "metadata": {},
   "source": [
    "Plot the mass-luminosity relationship of the ISOCHRONE"
   ]
  },
  {
   "cell_type": "code",
   "execution_count": 38,
   "metadata": {},
   "outputs": [
    {
     "data": {
      "text/plain": [
       "<matplotlib.legend.Legend at 0x7f84b143aad0>"
      ]
     },
     "execution_count": 38,
     "metadata": {},
     "output_type": "execute_result"
    },
    {
     "data": {
      "image/png": "[encoded data removed]",
      "text/plain": [
       "<Figure size 432x288 with 1 Axes>"
      ]
     },
     "metadata": {
      "needs_background": "light"
     },
     "output_type": "display_data"
    }
   ],
   "source": [
    "from astropy import constants as cs\n",
    "import matplotlib.pyplot as plt\n",
    "plt.plot(np.log10(iso1.primaries['mass_current']),\n",
    "         np.log10(iso1.primaries[\"L\"] / cs.L_sun), \"r.\")\n",
    "plt.plot(np.log10(iso1.secondaries['mass_current']),\n",
    "         np.log10(iso1.secondaries[\"L\"] / cs.L_sun), \"r.\")\n",
    "plt.plot(np.log10(iso1.singles['mass_current']),\n",
    "         np.log10(iso1.singles[\"L\"] / cs.L_sun),\n",
    "         \"r.\", label=\"BPASS isochrone\")\n",
    "plt.plot(np.log10(iso2.points['mass_current']),\n",
    "         np.log10(iso2.points[\"L\"] / cs.L_sun), \"b.\", label=\"MISTv1\")\n",
    "plt.xlabel(\"log(Current Mass in solar masses)\")\n",
    "plt.ylabel(\"log(L/L_solar)\")\n",
    "plt.title(\"Mass-logL of Isochrones at solar metallicity and 10 million years age\")\n",
    "plt.legend()\n",
    "# Rough pattern seems to fit. What's that line?"
   ]
  },
  {
   "cell_type": "markdown",
   "metadata": {},
   "source": [
    "Inspecting what masses are represented by the cluster"
   ]
  },
  {
   "cell_type": "markdown",
   "metadata": {},
   "source": [
    "Taking a look at the Binary Cluster vs Default Settings cluster Observer's HR Diagram\n",
    "\n",
    "**Remember to use a distance modulus!** (dist to cluster  = 1000 pc)"
   ]
  },
  {
   "cell_type": "code",
   "execution_count": 39,
   "metadata": {},
   "outputs": [
    {
     "data": {
      "text/plain": [
       "<matplotlib.legend.Legend at 0x7f84a115d550>"
      ]
     },
     "execution_count": 39,
     "metadata": {},
     "output_type": "execute_result"
    },
    {
     "data": {
      "image/png": "[encoded data removed]",
      "text/plain": [
       "<Figure size 432x288 with 1 Axes>"
      ]
     },
     "metadata": {
      "needs_background": "light"
     },
     "output_type": "display_data"
    }
   ],
   "source": [
    "import matplotlib.pyplot as plt\n",
    "plt.plot(clus_1.star_systems['m_ubv_B'] - clus_1.star_systems[\"m_ubv_V\"],\n",
    "         clus_1.star_systems[\"m_ubv_V\"] - 5 * np.log10(1000 / 10), \"r.\",label=\"BPASS\")\n",
    "plt.plot(clus_2.star_systems['m_ubv_B'] - clus_2.star_systems[\"m_ubv_V\"],\n",
    "         clus_2.star_systems[\"m_ubv_V\"] - 5 * np.log10(1000 / 10), \"b+\",\n",
    "         label=\"MISTv1\", alpha=0.1)\n",
    "plt.xlabel(\"B-V\")\n",
    "plt.ylabel(\"M_V\")\n",
    "plt.title(\"Color magnitude Diagram of clusters at solar metallicity and 10 million years age\")\n",
    "plt.gca().invert_yaxis()\n",
    "plt.legend()"
   ]
  },
  {
   "cell_type": "markdown",
   "metadata": {},
   "source": [
    "Plotting the theorist HR Diagram of the clusters."
   ]
  },
  {
   "cell_type": "code",
   "execution_count": 40,
   "metadata": {},
   "outputs": [
    {
     "data": {
      "text/plain": [
       "<matplotlib.legend.Legend at 0x7f849118efd0>"
      ]
     },
     "execution_count": 40,
     "metadata": {},
     "output_type": "execute_result"
    },
    {
     "data": {
      "image/png": "[encoded data removed]",
      "text/plain": [
       "<Figure size 432x288 with 1 Axes>"
      ]
     },
     "metadata": {
      "needs_background": "light"
     },
     "output_type": "display_data"
    }
   ],
   "source": [
    "import matplotlib.pyplot as plt\n",
    "plt.plot(np.log10(clus_1.star_systems['Teff']), np.log10(clus_1.star_systems[\"L\"]),\n",
    "         \"r.\", alpha=0.5)\n",
    "plt.plot(np.log10(clus_2.star_systems['Teff']), np.log10(clus_2.star_systems[\"L\"]),\n",
    "         \"b+\", label=\"MISTv1\", alpha=0.15)\n",
    "plt.xlabel(\"log(T in kelvin)\")\n",
    "plt.ylabel(\"log(L in watts)\")\n",
    "plt.title(\"HR Diagram of clusters at solar metallicity and 10 million years age\")\n",
    "plt.gca().invert_xaxis()\n",
    "plt.legend()"
   ]
  },
  {
   "cell_type": "markdown",
   "metadata": {},
   "source": [
    "Looking at which stars are the white dwarves?"
   ]
  },
  {
   "cell_type": "code",
   "execution_count": 41,
   "metadata": {},
   "outputs": [
    {
     "data": {
      "text/plain": [
       "array([], dtype=int64)"
      ]
     },
     "execution_count": 41,
     "metadata": {},
     "output_type": "execute_result"
    }
   ],
   "source": [
    "import numpy as np\n",
    "np.where(clus_1.star_systems['phase'] == 101.0)[0]"
   ]
  },
  {
   "cell_type": "markdown",
   "metadata": {},
   "source": [
    "Black Holes?"
   ]
  },
  {
   "cell_type": "code",
   "execution_count": 42,
   "metadata": {},
   "outputs": [
    {
     "data": {
      "text/plain": [
       "array([], dtype=int64)"
      ]
     },
     "execution_count": 42,
     "metadata": {},
     "output_type": "execute_result"
    }
   ],
   "source": [
    "np.where(clus_1.star_systems['phase'] == 103.0)[0]"
   ]
  },
  {
   "cell_type": "markdown",
   "metadata": {},
   "source": [
    "Do we have any neutron stars?"
   ]
  },
  {
   "cell_type": "code",
   "execution_count": 43,
   "metadata": {},
   "outputs": [
    {
     "data": {
      "text/plain": [
       "array([], dtype=int64)"
      ]
     },
     "execution_count": 43,
     "metadata": {},
     "output_type": "execute_result"
    }
   ],
   "source": [
    "np.where(clus_1.star_systems['phase'] == 102.0)[0]"
   ]
  },
  {
   "cell_type": "markdown",
   "metadata": {},
   "source": [
    "Let's make sure that I am getting just about enough star mass for my cluster. (It was a bug before I used an adjustment factor.)"
   ]
  },
  {
   "cell_type": "code",
   "execution_count": 44,
   "metadata": {},
   "outputs": [
    {
     "data": {
      "text/plain": [
       "1592.1399999999999"
      ]
     },
     "execution_count": 44,
     "metadata": {},
     "output_type": "execute_result"
    }
   ],
   "source": [
    "clus_1.star_systems['systemMass'].sum()"
   ]
  },
  {
   "cell_type": "code",
   "execution_count": 45,
   "metadata": {},
   "outputs": [
    {
     "data": {
      "text/plain": [
       "1999.2734235527428"
      ]
     },
     "execution_count": 45,
     "metadata": {},
     "output_type": "execute_result"
    }
   ],
   "source": [
    "clus_2.star_systems['systemMass'].sum()"
   ]
  },
  {
   "cell_type": "code",
   "execution_count": 46,
   "metadata": {},
   "outputs": [
    {
     "data": {
      "text/plain": [
       "0"
      ]
     },
     "execution_count": 46,
     "metadata": {},
     "output_type": "execute_result"
    }
   ],
   "source": [
    "len(np.where(clus_1.star_systems['merged'])[0])"
   ]
  },
  {
   "cell_type": "markdown",
   "metadata": {},
   "source": [
    "What systems do all of these companions correspond to?"
   ]
  },
  {
   "cell_type": "code",
   "execution_count": 47,
   "metadata": {},
   "outputs": [
    {
     "ename": "AttributeError",
     "evalue": "'Cluster_w_Binaries' object has no attribute 'companions'",
     "output_type": "error",
     "traceback": [
      "\u001b[0;31m---------------------------------------------------------------------------\u001b[0m",
      "\u001b[0;31mAttributeError\u001b[0m                            Traceback (most recent call last)",
      "\u001b[0;32m<ipython-input-47-7898540f7002>\u001b[0m in \u001b[0;36m<module>\u001b[0;34m\u001b[0m\n\u001b[0;32m----> 1\u001b[0;31m \u001b[0mclus_1\u001b[0m\u001b[0;34m.\u001b[0m\u001b[0mcompanions\u001b[0m\u001b[0;34m[\u001b[0m\u001b[0;34m[\u001b[0m\u001b[0;34m'system_idx'\u001b[0m\u001b[0;34m]\u001b[0m\u001b[0;34m]\u001b[0m\u001b[0;34m\u001b[0m\u001b[0;34m\u001b[0m\u001b[0m\n\u001b[0m",
      "\u001b[0;31mAttributeError\u001b[0m: 'Cluster_w_Binaries' object has no attribute 'companions'"
     ]
    }
   ],
   "source": [
    "clus_1.companions[['system_idx']]"
   ]
  },
  {
   "cell_type": "markdown",
   "metadata": {},
   "source": [
    "Showing the current-mass and current-luminosity relationship of the clusters."
   ]
  },
  {
   "cell_type": "code",
   "execution_count": null,
   "metadata": {},
   "outputs": [],
   "source": [
    "# Plot the mass-luminosity relationship\n",
    "from astropy import constants as cs\n",
    "from astropy import units as u\n",
    "import matplotlib.pyplot as plt\n",
    "plt.plot(clus_1.star_systems['mass_current'], np.log10(clus_1.star_systems[\"L\"]),\n",
    "         \"r.\", label=\"Cluster_w_Binaries made from BPASS\", alpha =0.2)\n",
    "plt.plot(clus_2.star_systems['mass_current'], np.log10(clus_2.star_systems[\"L\"]), \"r.\", alpha=0.2)\n",
    "plt.plot(clus_1.companions['mass_current'], np.log10(clus_1.companions[\"L\"]), \"b.\",\n",
    "         label=\"Cluster made from MISTv.1\", alpha=0.2)\n",
    "plt.plot(clus_2.companions['mass_current'], np.log10(clus_2.companions[\"L\"]), \"b.\", alpha=0.2)\n",
    "plt.xlabel(\"log(Current Mass in solar masses)\")\n",
    "plt.ylabel(\"log(L/L_solar)\")\n",
    "plt.title(\"log-Mass-logL of Cluster at Z_solar and 10**7.0 years age\")\n",
    "plt.legend()"
   ]
  },
  {
   "cell_type": "markdown",
   "metadata": {},
   "source": [
    "What phases exist in the cluster?"
   ]
  },
  {
   "cell_type": "code",
   "execution_count": null,
   "metadata": {},
   "outputs": [],
   "source": [
    "np.unique(clus_1.star_systems['phase'])"
   ]
  },
  {
   "cell_type": "code",
   "execution_count": null,
   "metadata": {},
   "outputs": [],
   "source": [
    "np.unique(clus_1.companions['phase'])"
   ]
  }
 ],
 "metadata": {
  "kernelspec": {
   "display_name": "astroconda",
   "language": "python",
   "name": "astroconda"
  },
  "language_info": {
   "codemirror_mode": {
    "name": "ipython",
    "version": 3
   },
   "file_extension": ".py",
   "mimetype": "text/x-python",
   "name": "python",
   "nbconvert_exporter": "python",
   "pygments_lexer": "ipython3",
   "version": "3.7.10"
  }
 },
 "nbformat": 4,
 "nbformat_minor": 4
}
