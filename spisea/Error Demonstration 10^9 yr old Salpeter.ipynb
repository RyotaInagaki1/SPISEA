{
 "cells": [
  {
   "cell_type": "markdown",
   "metadata": {},
   "source": [
    "## Testing the BPASS cluster at 10^7 years age.\n",
    "Here, I try to create a 10000 solar mass BPASS cluster and ResolvedCluster. **This is to demonstrate the issue I have with the mass-matching inside of the Binary_Cluster implementation.**"
   ]
  },
  {
   "cell_type": "code",
   "execution_count": 1,
   "metadata": {
    "scrolled": true
   },
   "outputs": [
    {
     "name": "stderr",
     "output_type": "stream",
     "text": [
      "/opt/anaconda3/envs/astroconda/lib/python3.7/site-packages/pysynphot/locations.py:346: UserWarning: Extinction files not found in /g/lu/models/cdbs/extinction\n",
      "  warnings.warn('Extinction files not found in %s' % (extdir, ))\n",
      "/opt/anaconda3/envs/astroconda/lib/python3.7/site-packages/pysynphot/refs.py:125: UserWarning: No thermal tables found, no thermal calculations can be performed. No files found for /g/lu/models/cdbs/mtab/*_tmt.fits\n",
      "  'no thermal calculations can be performed. ' + str(e))\n",
      "/opt/anaconda3/envs/astroconda/lib/python3.7/site-packages/astropy/units/quantity.py:477: RuntimeWarning: invalid value encountered in true_divide\n",
      "  result = super().__array_ufunc__(function, method, *arrays, **kwargs)\n",
      "/u/ryotainagaki/Desktop/PyPopStar/spisea/evolution.py:1771: RuntimeWarning: overflow encountered in power\n",
      "  (1 / cs.au) * un.m)\n",
      "/opt/anaconda3/envs/astroconda/lib/python3.7/site-packages/astropy/table/column.py:1020: RuntimeWarning: invalid value encountered in greater\n",
      "  result = getattr(super(), op)(other)\n",
      "/opt/anaconda3/envs/astroconda/lib/python3.7/site-packages/astropy/table/column.py:1020: RuntimeWarning: invalid value encountered in less_equal\n",
      "  result = getattr(super(), op)(other)\n",
      "/opt/anaconda3/envs/astroconda/lib/python3.7/site-packages/astropy/units/quantity.py:477: RuntimeWarning: divide by zero encountered in true_divide\n",
      "  result = super().__array_ufunc__(function, method, *arrays, **kwargs)\n"
     ]
    },
    {
     "name": "stdout",
     "output_type": "stream",
     "text": [
      "Changing to logg=5.00 for T= 25973 logg=5.55\n",
      "Changing to logg=5.00 for T= 24444 logg=5.91\n",
      "Changing to logg=5.00 for T= 22646 logg=5.73\n",
      "Changing to logg=5.00 for T= 23286 logg=5.78\n",
      "Changing to logg=5.00 for T= 21304 logg=5.48\n",
      "Changing to logg=5.00 for T= 21139 logg=5.58\n",
      "Changing to logg=5.00 for T= 19593 logg=6.97\n",
      "Changing to logg=5.00 for T= 24403 logg=5.91\n",
      "Changing to logg=5.00 for T= 22891 logg=5.32\n",
      "Changing to logg=5.00 for T= 27359 logg=5.67\n",
      "Changing to logg=5.00 for T= 24009 logg=5.86\n",
      "Changing to logg=5.00 for T= 25914 logg=5.89\n",
      "Changing to logg=5.00 for T= 22008 logg=7.09\n",
      "Changing to logg=5.00 for T= 21142 logg=5.20\n",
      "Changing to logg=5.00 for T= 27134 logg=5.64\n",
      "Changing to logg=5.00 for T= 24403 logg=5.88\n",
      "Changing to logg=5.00 for T= 27193 logg=5.64\n",
      "Changing to logg=5.00 for T= 22961 logg=5.92\n",
      "Changing to logg=5.00 for T= 26959 logg=5.63\n",
      "Changing to logg=5.00 for T= 16799 logg=5.12\n",
      "Changing to logg=5.00 for T= 24306 logg=5.43\n",
      "Changing to logg=5.00 for T= 26427 logg=5.72\n",
      "Changing to logg=5.00 for T= 26196 logg=5.70\n",
      "Changing to logg=5.00 for T= 25707 logg=5.88\n",
      "Changing to logg=5.00 for T= 24008 logg=6.91\n",
      "Changing to logg=5.00 for T= 24452 logg=5.99\n",
      "Changing to logg=5.00 for T= 25618 logg=5.53\n",
      "Changing to logg=5.00 for T= 26907 logg=5.63\n",
      "Changing to logg=5.00 for T= 18636 logg=5.32\n",
      "Changing to logg=5.00 for T= 26930 logg=5.65\n",
      "Changing to logg=5.00 for T= 27188 logg=5.67\n",
      "Changing to logg=5.00 for T= 26100 logg=5.77\n",
      "Changing to logg=5.00 for T= 20983 logg=5.17\n",
      "Changing to logg=5.00 for T= 21888 logg=5.45\n",
      "Changing to logg=5.00 for T= 24186 logg=5.42\n",
      "Changing to logg=5.00 for T= 26757 logg=5.79\n",
      "Changing to logg=5.00 for T= 21570 logg=5.64\n",
      "Changing to logg=5.00 for T= 23096 logg=5.56\n",
      "Changing to logg=5.00 for T= 25848 logg=5.79\n",
      "Changing to logg=5.00 for T= 26095 logg=5.78\n",
      "Changing to logg=5.00 for T= 25999 logg=5.76\n",
      "Changing to logg=5.00 for T= 23984 logg=6.88\n",
      "Changing to logg=5.00 for T= 17042 logg=5.14\n",
      "Changing to logg=5.00 for T= 17875 logg=5.24\n",
      "Changing to logg=5.00 for T= 26020 logg=5.81\n",
      "Changing to logg=5.00 for T= 22135 logg=6.94\n",
      "Changing to logg=5.00 for T= 26119 logg=5.75\n",
      "Changing to logg=5.00 for T= 22179 logg=5.92\n",
      "Changing to logg=5.00 for T= 23501 logg=5.37\n",
      "Changing to logg=5.00 for T= 24739 logg=6.19\n",
      "Changing to logg=5.00 for T= 24377 logg=5.87\n",
      "Changing to logg=5.00 for T= 22245 logg=6.65\n",
      "Changing to logg=5.00 for T= 19749 logg=5.03\n",
      "Changing to logg=5.00 for T= 17733 logg=5.24\n",
      "Changing to logg=5.00 for T= 25863 logg=5.74\n",
      "Changing to logg=5.00 for T= 22114 logg=5.26\n",
      "Changing to logg=5.00 for T= 24124 logg=5.48\n",
      "Changing to logg=5.00 for T= 24820 logg=6.17\n",
      "Changing to logg=5.00 for T= 26204 logg=5.71\n",
      "Changing to logg=5.00 for T= 23626 logg=5.99\n",
      "Changing to logg=5.00 for T= 22982 logg=5.76\n",
      "Changing to logg=5.00 for T= 21104 logg=5.60\n",
      "Changing to logg=5.00 for T= 25509 logg=5.94\n",
      "Changing to logg=5.00 for T= 23774 logg=6.99\n",
      "Changing to logg=5.00 for T= 22084 logg=5.78\n",
      "Changing to logg=5.00 for T= 26146 logg=5.79\n",
      "Changing to logg=5.00 for T= 26316 logg=5.57\n",
      "Changing to logg=5.00 for T= 21333 logg=5.59\n",
      "Changing to logg=5.00 for T= 20198 logg=5.51\n",
      "Changing to logg=5.00 for T= 27240 logg=5.65\n",
      "Changing to logg=5.00 for T= 20689 logg=5.14\n",
      "Changing to logg=5.00 for T= 23264 logg=5.77\n",
      "Changing to logg=5.00 for T= 26317 logg=5.76\n",
      "Changing to logg=5.00 for T= 24518 logg=6.01\n",
      "Changing to logg=5.00 for T= 26494 logg=5.69\n",
      "Changing to logg=5.00 for T= 26134 logg=5.73\n",
      "Changing to logg=5.00 for T= 26114 logg=5.72\n",
      "Changing to logg=5.00 for T= 25553 logg=5.87\n",
      "Changing to logg=5.00 for T= 25963 logg=5.80\n",
      "Changing to logg=5.00 for T= 24305 logg=6.01\n",
      "Changing to logg=5.00 for T= 18719 logg=5.30\n",
      "Changing to logg=5.00 for T= 24495 logg=5.62\n",
      "Changing to logg=5.00 for T= 22026 logg=5.69\n",
      "Changing to logg=5.00 for T= 26320 logg=5.77\n",
      "Changing to logg=5.00 for T= 29244 logg=6.00\n",
      "Changing to logg=5.00 for T= 26135 logg=5.76\n",
      "Changing to T=  1200 for T=   923 logg=4.44\n",
      "Changing to logg=5.00 for T= 24506 logg=6.13\n",
      "Changing to T=  1200 for T=   692 logg=4.44\n",
      "Changing to T=  1200 for T=   692 logg=4.44\n",
      "Changing to logg=5.00 for T= 25992 logg=5.85\n",
      "Changing to logg=5.00 for T=  1962 logg=4.44\n",
      "Changing to logg=5.00 for T= 30361 logg=6.02\n",
      "Changing to T=  1200 for T=   692 logg=4.44\n",
      "Changing to logg=5.00 for T= 24627 logg=5.97\n",
      "Changing to T=  1200 for T=   692 logg=4.44\n",
      "Changing to logg=5.00 for T=  1847 logg=4.44\n",
      "Changing to T=  1200 for T=   923 logg=4.44\n",
      "Changing to logg=5.00 for T=  1962 logg=4.44\n",
      "Changing to T=  1200 for T=   923 logg=4.44\n",
      "Changing to logg=5.00 for T= 24594 logg=5.95\n",
      "Changing to logg=5.00 for T=  1962 logg=4.44\n",
      "Changing to logg=5.00 for T= 28839 logg=6.72\n",
      "Changing to logg=5.00 for T= 26038 logg=5.84\n",
      "Changing to logg=5.00 for T= 24654 logg=6.03\n",
      "Changing to logg=5.00 for T=  1962 logg=4.44\n",
      "Changing to T=  1200 for T=   923 logg=4.44\n",
      "Changing to logg=5.00 for T= 29125 logg=6.06\n",
      "Changing to logg=5.00 for T=  1962 logg=4.44\n",
      "Changing to logg=5.00 for T= 24461 logg=6.17\n",
      "Changing to logg=5.00 for T= 25623 logg=5.76\n",
      "Changing to T=  1200 for T=   923 logg=4.44\n",
      "Changing to logg=5.00 for T= 24295 logg=6.20\n",
      "Changing to logg=5.00 for T= 26020 logg=5.84\n",
      "Changing to T=  1200 for T=   692 logg=4.44\n",
      "Changing to logg=5.00 for T=  1962 logg=4.44\n",
      "Changing to T=  1200 for T=   692 logg=4.44\n",
      "Changing to T=  1200 for T=   692 logg=4.44\n",
      "Changing to logg=5.00 for T= 26391 logg=5.76\n",
      "Changing to logg=5.00 for T= 22862 logg=5.98\n",
      "Changing to logg=5.00 for T=  1962 logg=4.44\n",
      "Changing to logg=5.00 for T=  1962 logg=4.44\n",
      "Changing to logg=5.00 for T= 26075 logg=5.81\n",
      "Changing to logg=5.00 for T=  1847 logg=4.44\n",
      "Changing to logg=5.00 for T= 11038 logg=6.59\n",
      "Changing to T=  1200 for T=   692 logg=4.44\n",
      "Changing to logg=5.00 for T= 24579 logg=6.15\n",
      "Changing to logg=5.00 for T= 22688 logg=6.77\n",
      "Changing to logg=5.00 for T= 26656 logg=5.74\n",
      "Changing to T=  1200 for T=   923 logg=4.44\n",
      "Changing to logg=5.00 for T=  1962 logg=4.44\n",
      "Changing to T=  1200 for T=   923 logg=4.44\n",
      "Changing to logg=5.00 for T=  1962 logg=4.44\n",
      "Changing to logg=5.00 for T=  1847 logg=4.44\n",
      "Changing to T=  1200 for T=   923 logg=4.44\n",
      "Changing to logg=5.00 for T= 29728 logg=5.89\n",
      "Changing to logg=5.00 for T= 24681 logg=6.05\n",
      "Changing to T=  1200 for T=   692 logg=4.44\n",
      "Changing to logg=5.00 for T=  1962 logg=4.44\n",
      "Changing to logg=5.00 for T= 24672 logg=5.99\n",
      "Changing to logg=5.00 for T= 26550 logg=5.70\n",
      "Changing to logg=5.00 for T= 24714 logg=6.06\n",
      "Changing to logg=5.00 for T= 17990 logg=5.24\n",
      "Changing to logg=5.00 for T= 26312 logg=5.74\n",
      "Changing to logg=5.00 for T= 25932 logg=5.62\n",
      "Changing to logg=5.00 for T= 24566 logg=5.87\n",
      "Changing to logg=5.00 for T= 25547 logg=5.96\n",
      "Changing to logg=5.00 for T=  1847 logg=4.44\n",
      "Changing to logg=5.00 for T= 24694 logg=6.05\n",
      "Changing to logg=5.00 for T=  1847 logg=4.44\n",
      "Changing to T=  1200 for T=   692 logg=4.44\n",
      "Changing to T=  1200 for T=   692 logg=4.44\n",
      "Changing to logg=5.00 for T= 25633 logg=5.92\n",
      "Changing to logg=5.00 for T=  1847 logg=4.44\n",
      "Changing to logg=5.00 for T=  1847 logg=4.44\n",
      "Changing to logg=5.00 for T=  1847 logg=4.44\n",
      "Changing to logg=5.00 for T=  1962 logg=4.44\n",
      "Changing to logg=5.00 for T= 26092 logg=5.77\n",
      "Changing to logg=5.00 for T=  1962 logg=4.44\n",
      "Changing to logg=5.00 for T= 26527 logg=5.71\n",
      "Changing to T=  1200 for T=   692 logg=4.44\n",
      "Changing to T=  1200 for T=   923 logg=4.44\n",
      "Changing to T=  1200 for T=   692 logg=4.44\n",
      "Changing to logg=5.00 for T= 25435 logg=5.98\n",
      "Changing to T=  1200 for T=   692 logg=4.44\n",
      "Changing to logg=5.00 for T=  1962 logg=4.44\n",
      "Changing to logg=5.00 for T= 23157 logg=5.88\n",
      "Changing to logg=5.00 for T=  1847 logg=4.44\n",
      "Changing to logg=5.00 for T=  1962 logg=4.44\n",
      "Changing to logg=5.00 for T= 25926 logg=5.86\n",
      "Changing to logg=5.00 for T= 26425 logg=5.75\n",
      "Changing to logg=5.00 for T= 23769 logg=5.39\n",
      "Changing to T=  1200 for T=   692 logg=4.44\n",
      "Changing to T=  1200 for T=   692 logg=4.44\n",
      "Changing to logg=5.00 for T= 29449 logg=5.81\n",
      "Changing to logg=5.00 for T=  1962 logg=4.44\n",
      "Making photometry for isochrone: log(t) = 9.00  AKs = 0.70  dist = 100\n",
      "     Starting at:  2020-12-20 17:21:50.733574   Usually takes ~5 minutes\n",
      "Starting filter: ubv,U   Elapsed time: 0.00 seconds\n",
      "Starting synthetic photometry\n",
      "Singles\n",
      "M =   1.660 Msun  T =  7141 K  m_ubv_U = 18.86\n",
      "M =   1.900 Msun  T =  7389 K  m_ubv_U = 18.07\n",
      "Primaries\n",
      "M =   2.300 Msun  T =  4908 K  m_ubv_U = 18.06\n"
     ]
    },
    {
     "name": "stdout",
     "output_type": "stream",
     "text": [
      "M =   3.500 Msun  T = 11671 K  m_ubv_U = 27.95\n",
      "M =   1.900 Msun  T =  7140 K  m_ubv_U = 18.11\n",
      "M =   3.700 Msun  T = 12543 K  m_ubv_U = 28.16\n",
      "M =   1.400 Msun  T =  2739 K  m_ubv_U =  nan\n",
      "M =   1.800 Msun  T =  7355 K  m_ubv_U = 18.42\n",
      "M =   1.500 Msun  T =  6759 K  m_ubv_U = 19.43\n",
      "M =   3.000 Msun  T = 11485 K  m_ubv_U = 27.77\n",
      "M =   1.400 Msun  T =  2739 K  m_ubv_U =  nan\n",
      "M =   4.500 Msun  T = 10530 K  m_ubv_U = 28.45\n",
      "M =   0.631 Msun  T =   nan K  m_ubv_U =  nan\n",
      "M =   1.700 Msun  T =  7242 K  m_ubv_U = 18.75\n",
      "M =   1.400 Msun  T =   nan K  m_ubv_U =  nan\n",
      "M =   1.259 Msun  T =   nan K  m_ubv_U =  nan\n",
      "M =   3.700 Msun  T = 11115 K  m_ubv_U = 28.18\n",
      "M =   3.000 Msun  T = 11453 K  m_ubv_U = 27.77\n",
      "M =   1.259 Msun  T =   nan K  m_ubv_U =  nan\n",
      "M =   2.300 Msun  T =  4908 K  m_ubv_U = 18.06\n",
      "M =   3.500 Msun  T = 11671 K  m_ubv_U = 27.95\n",
      "M =   1.259 Msun  T =   nan K  m_ubv_U =  nan\n",
      "M =   2.500 Msun  T = 16006 K  m_ubv_U = 26.77\n",
      "M =   0.794 Msun  T =  2739 K  m_ubv_U =  nan\n",
      "M =   1.000 Msun  T =  2739 K  m_ubv_U =  nan\n",
      "M =   7.000 Msun  T = 11183 K  m_ubv_U = 28.40\n",
      "M =   2.000 Msun  T =  7250 K  m_ubv_U = 17.80\n",
      "M =   1.700 Msun  T = 11223 K  m_ubv_U = 27.79\n",
      "M =   1.000 Msun  T =  2739 K  m_ubv_U =  nan\n",
      "M =   2.700 Msun  T = 12837 K  m_ubv_U = 28.40\n",
      "M =   1.400 Msun  T =   nan K  m_ubv_U =  nan\n",
      "M =   1.400 Msun  T =  2739 K  m_ubv_U =  nan\n",
      "M =   3.500 Msun  T = 11671 K  m_ubv_U = 27.95\n",
      "M =   2.000 Msun  T =  7210 K  m_ubv_U = 17.82\n",
      "M =   1.800 Msun  T =  7355 K  m_ubv_U = 18.42\n",
      "M =   0.631 Msun  T =  2739 K  m_ubv_U =  nan\n",
      "M =   4.500 Msun  T = 11862 K  m_ubv_U = 28.16\n",
      "M =   1.900 Msun  T =  7140 K  m_ubv_U = 18.11\n",
      "M =   1.900 Msun  T = 12828 K  m_ubv_U = 27.41\n",
      "M =   3.000 Msun  T = 11485 K  m_ubv_U = 27.77\n",
      "M =   1.700 Msun  T =  7242 K  m_ubv_U = 18.75\n",
      "M =   1.600 Msun  T =  7037 K  m_ubv_U = 19.08\n",
      "M =   1.600 Msun  T =  7037 K  m_ubv_U = 19.08\n",
      "M =   2.300 Msun  T =  4908 K  m_ubv_U = 18.06\n",
      "M =   1.400 Msun  T =   nan K  m_ubv_U =  nan\n",
      "M =   1.400 Msun  T =   nan K  m_ubv_U =  nan\n",
      "Secondaries\n",
      "M =   2.070 Msun  T =  6895 K  m_ubv_U = 17.62\n",
      "M =   1.750 Msun  T =  8135 K  m_ubv_U = 18.69\n",
      "M =   1.710 Msun  T =  7580 K  m_ubv_U = 18.62\n",
      "M =   0.740 Msun  T =   nan K  m_ubv_U =  nan\n",
      "M =   3.000 Msun  T = 11498 K  m_ubv_U = 27.77\n",
      "M =   1.260 Msun  T =  6351 K  m_ubv_U = 20.49\n",
      "M =   1.050 Msun  T =  5796 K  m_ubv_U = 21.82\n",
      "M =   2.700 Msun  T =  8181 K  m_ubv_U = 16.20\n",
      "M =   7.000 Msun  T =  7921 K  m_ubv_U = 21.88\n",
      "M =   3.600 Msun  T = 10617 K  m_ubv_U = 14.55\n",
      "M =   3.500 Msun  T = 11388 K  m_ubv_U = 27.96\n",
      "M =   0.340 Msun  T =  1962 K  m_ubv_U = 34.47\n",
      "M =   5.500 Msun  T = 11992 K  m_ubv_U = 28.38\n",
      "M =   2.700 Msun  T = 12885 K  m_ubv_U = 27.41\n",
      "M =   2.220 Msun  T =  9856 K  m_ubv_U = 17.53\n",
      "M =   1.500 Msun  T =  7052 K  m_ubv_U = 19.48\n",
      "M =   4.500 Msun  T = 11685 K  m_ubv_U = 28.16\n",
      "M =   1.380 Msun  T =  6685 K  m_ubv_U = 19.89\n",
      "M =   2.450 Msun  T = 10412 K  m_ubv_U = 17.00\n",
      "M =   3.700 Msun  T = 10955 K  m_ubv_U = 28.19\n",
      "M =   1.750 Msun  T =  7918 K  m_ubv_U = 18.54\n",
      "M =   2.000 Msun  T =  7017 K  m_ubv_U = 17.84\n",
      "M =   5.000 Msun  T = 12009 K  m_ubv_U = 28.26\n",
      "M =   3.500 Msun  T =  9212 K  m_ubv_U = 14.65\n",
      "M =   1.600 Msun  T =  7397 K  m_ubv_U = 19.01\n",
      "M =   1.190 Msun  T =   nan K  m_ubv_U =  nan\n",
      "M =   3.000 Msun  T = 11498 K  m_ubv_U = 27.77\n",
      "M =   1.620 Msun  T =   nan K  m_ubv_U =  nan\n",
      "M =   3.500 Msun  T = 11705 K  m_ubv_U = 27.95\n",
      "M =   2.000 Msun  T =  7152 K  m_ubv_U = 17.82\n",
      "M =   2.450 Msun  T = 10416 K  m_ubv_U = 17.00\n",
      "M =   0.200 Msun  T =  3299 K  m_ubv_U = 30.39\n",
      "M =   0.900 Msun  T =  5193 K  m_ubv_U = 22.94\n",
      "M =   5.000 Msun  T = 10666 K  m_ubv_U = 28.42\n",
      "M =   2.250 Msun  T =  9999 K  m_ubv_U = 17.54\n",
      "M =   1.710 Msun  T =  7580 K  m_ubv_U = 18.62\n",
      "M =   0.760 Msun  T =   nan K  m_ubv_U =  nan\n",
      "M =   1.800 Msun  T =  8304 K  m_ubv_U = 18.49\n",
      "M =   0.850 Msun  T =  4905 K  m_ubv_U = 23.65\n",
      "M =   0.480 Msun  T =  2770 K  m_ubv_U = 29.99\n",
      "M =   0.320 Msun  T =  1847 K  m_ubv_U = 34.73\n",
      "M =   0.460 Msun  T =  2654 K  m_ubv_U = 30.56\n",
      "M =   2.500 Msun  T = 15710 K  m_ubv_U = 18.54\n",
      "M =   1.200 Msun  T =  6155 K  m_ubv_U = 20.83\n",
      "Starting filter: ubv,V   Elapsed time: 17.32 seconds\n",
      "Starting synthetic photometry\n",
      "Singles\n",
      "M =   1.660 Msun  T =  7141 K  m_ubv_V = 17.63\n",
      "M =   1.900 Msun  T =  7389 K  m_ubv_V = 16.85\n",
      "Primaries\n",
      "M =   2.300 Msun  T =  4908 K  m_ubv_V = 15.41\n",
      "M =   3.500 Msun  T = 11671 K  m_ubv_V = 27.52\n",
      "M =   1.900 Msun  T =  7140 K  m_ubv_V = 16.85\n",
      "M =   3.700 Msun  T = 12543 K  m_ubv_V = 27.81\n",
      "M =   1.400 Msun  T =  2739 K  m_ubv_V =  nan\n",
      "M =   1.800 Msun  T =  7355 K  m_ubv_V = 17.20\n",
      "M =   1.500 Msun  T =  6759 K  m_ubv_V = 18.13\n",
      "M =   3.000 Msun  T = 11485 K  m_ubv_V = 27.31\n",
      "M =   1.400 Msun  T =  2739 K  m_ubv_V =  nan\n",
      "M =   4.500 Msun  T = 10530 K  m_ubv_V = 27.98\n",
      "M =   0.631 Msun  T =   nan K  m_ubv_V =  nan\n",
      "M =   1.700 Msun  T =  7242 K  m_ubv_V = 17.52\n",
      "M =   1.400 Msun  T =   nan K  m_ubv_V =  nan\n",
      "M =   1.259 Msun  T =   nan K  m_ubv_V =  nan\n",
      "M =   3.700 Msun  T = 11115 K  m_ubv_V = 27.73\n",
      "M =   3.000 Msun  T = 11453 K  m_ubv_V = 27.31\n",
      "M =   1.259 Msun  T =   nan K  m_ubv_V =  nan\n",
      "M =   2.300 Msun  T =  4908 K  m_ubv_V = 15.41\n",
      "M =   3.500 Msun  T = 11671 K  m_ubv_V = 27.52\n",
      "M =   1.259 Msun  T =   nan K  m_ubv_V =  nan\n",
      "M =   2.500 Msun  T = 16006 K  m_ubv_V = 26.57\n",
      "M =   0.794 Msun  T =  2739 K  m_ubv_V =  nan\n",
      "M =   1.000 Msun  T =  2739 K  m_ubv_V =  nan\n",
      "M =   7.000 Msun  T = 11183 K  m_ubv_V = 27.97\n",
      "M =   2.000 Msun  T =  7250 K  m_ubv_V = 16.55\n",
      "M =   1.700 Msun  T = 11223 K  m_ubv_V = 27.30\n",
      "M =   1.000 Msun  T =  2739 K  m_ubv_V =  nan\n",
      "M =   2.700 Msun  T = 12837 K  m_ubv_V = 28.09\n",
      "M =   1.400 Msun  T =   nan K  m_ubv_V =  nan\n",
      "M =   1.400 Msun  T =  2739 K  m_ubv_V =  nan\n",
      "M =   3.500 Msun  T = 11671 K  m_ubv_V = 27.52\n",
      "M =   2.000 Msun  T =  7210 K  m_ubv_V = 16.56\n",
      "M =   1.800 Msun  T =  7355 K  m_ubv_V = 17.20\n",
      "M =   0.631 Msun  T =  2739 K  m_ubv_V =  nan\n",
      "M =   4.500 Msun  T = 11862 K  m_ubv_V = 27.76\n",
      "M =   1.900 Msun  T =  7140 K  m_ubv_V = 16.85\n",
      "M =   1.900 Msun  T = 12828 K  m_ubv_V = 26.99\n",
      "M =   3.000 Msun  T = 11485 K  m_ubv_V = 27.31\n",
      "M =   1.700 Msun  T =  7242 K  m_ubv_V = 17.52\n",
      "M =   1.600 Msun  T =  7037 K  m_ubv_V = 17.83\n",
      "M =   1.600 Msun  T =  7037 K  m_ubv_V = 17.83\n",
      "M =   2.300 Msun  T =  4908 K  m_ubv_V = 15.41\n",
      "M =   1.400 Msun  T =   nan K  m_ubv_V =  nan\n",
      "M =   1.400 Msun  T =   nan K  m_ubv_V =  nan\n",
      "Secondaries\n",
      "M =   2.070 Msun  T =  6895 K  m_ubv_V = 16.30\n",
      "M =   1.750 Msun  T =  8135 K  m_ubv_V = 17.59\n",
      "M =   1.710 Msun  T =  7580 K  m_ubv_V = 17.44\n",
      "M =   0.740 Msun  T =   nan K  m_ubv_V =  nan\n",
      "M =   3.000 Msun  T = 11498 K  m_ubv_V = 27.31\n",
      "M =   1.260 Msun  T =  6351 K  m_ubv_V = 19.07\n",
      "M =   1.050 Msun  T =  5796 K  m_ubv_V = 20.09\n",
      "M =   2.700 Msun  T =  8181 K  m_ubv_V = 15.10\n",
      "M =   7.000 Msun  T =  7921 K  m_ubv_V = 20.78\n",
      "M =   3.600 Msun  T = 10617 K  m_ubv_V = 13.96\n",
      "M =   3.500 Msun  T = 11388 K  m_ubv_V = 27.51\n",
      "M =   0.340 Msun  T =  1962 K  m_ubv_V = 32.07\n",
      "M =   5.500 Msun  T = 11992 K  m_ubv_V = 28.01\n",
      "M =   2.700 Msun  T = 12885 K  m_ubv_V = 26.99\n",
      "M =   2.220 Msun  T =  9856 K  m_ubv_V = 16.74\n",
      "M =   1.500 Msun  T =  7052 K  m_ubv_V = 18.26\n",
      "M =   4.500 Msun  T = 11685 K  m_ubv_V = 27.75\n",
      "M =   1.380 Msun  T =  6685 K  m_ubv_V = 18.58\n",
      "M =   2.450 Msun  T = 10412 K  m_ubv_V = 16.32\n",
      "M =   3.700 Msun  T = 10955 K  m_ubv_V = 27.73\n",
      "M =   1.750 Msun  T =  7918 K  m_ubv_V = 17.40\n",
      "M =   2.000 Msun  T =  7017 K  m_ubv_V = 16.55\n",
      "M =   5.000 Msun  T = 12009 K  m_ubv_V = 27.88\n",
      "M =   3.500 Msun  T =  9212 K  m_ubv_V = 13.79\n",
      "M =   1.600 Msun  T =  7397 K  m_ubv_V = 17.82\n",
      "M =   1.190 Msun  T =   nan K  m_ubv_V =  nan\n",
      "M =   3.000 Msun  T = 11498 K  m_ubv_V = 27.31\n",
      "M =   1.620 Msun  T =   nan K  m_ubv_V =  nan\n",
      "M =   3.500 Msun  T = 11705 K  m_ubv_V = 27.52\n",
      "M =   2.000 Msun  T =  7152 K  m_ubv_V = 16.56\n",
      "M =   2.450 Msun  T = 10416 K  m_ubv_V = 16.32\n",
      "M =   0.200 Msun  T =  3299 K  m_ubv_V = 27.47\n",
      "M =   0.900 Msun  T =  5193 K  m_ubv_V = 20.70\n",
      "M =   5.000 Msun  T = 10666 K  m_ubv_V = 27.96\n",
      "M =   2.250 Msun  T =  9999 K  m_ubv_V = 16.78\n",
      "M =   1.710 Msun  T =  7580 K  m_ubv_V = 17.44\n",
      "M =   0.760 Msun  T =   nan K  m_ubv_V =  nan\n",
      "M =   1.800 Msun  T =  8304 K  m_ubv_V = 17.41\n",
      "M =   0.850 Msun  T =  4905 K  m_ubv_V = 21.10\n",
      "M =   0.480 Msun  T =  2770 K  m_ubv_V = 27.90\n",
      "M =   0.320 Msun  T =  1847 K  m_ubv_V = 32.35\n"
     ]
    },
    {
     "name": "stdout",
     "output_type": "stream",
     "text": [
      "M =   0.460 Msun  T =  2654 K  m_ubv_V = 28.60\n",
      "M =   2.500 Msun  T = 15710 K  m_ubv_V = 18.44\n",
      "M =   1.200 Msun  T =  6155 K  m_ubv_V = 19.32\n",
      "Starting filter: ubv,B   Elapsed time: 34.38 seconds\n",
      "Starting synthetic photometry\n",
      "Singles\n",
      "M =   1.660 Msun  T =  7141 K  m_ubv_B = 18.90\n",
      "M =   1.900 Msun  T =  7389 K  m_ubv_B = 18.05\n",
      "Primaries\n",
      "M =   2.300 Msun  T =  4908 K  m_ubv_B = 17.51\n",
      "M =   3.500 Msun  T = 11671 K  m_ubv_B = 28.55\n",
      "M =   1.900 Msun  T =  7140 K  m_ubv_B = 18.11\n",
      "M =   3.700 Msun  T = 12543 K  m_ubv_B = 28.81\n",
      "M =   1.400 Msun  T =  2739 K  m_ubv_B =  nan\n",
      "M =   1.800 Msun  T =  7355 K  m_ubv_B = 18.42\n",
      "M =   1.500 Msun  T =  6759 K  m_ubv_B = 19.50\n",
      "M =   3.000 Msun  T = 11485 K  m_ubv_B = 28.34\n",
      "M =   1.400 Msun  T =  2739 K  m_ubv_B =  nan\n",
      "M =   4.500 Msun  T = 10530 K  m_ubv_B = 29.05\n",
      "M =   0.631 Msun  T =   nan K  m_ubv_B =  nan\n",
      "M =   1.700 Msun  T =  7242 K  m_ubv_B = 18.77\n",
      "M =   1.400 Msun  T =   nan K  m_ubv_B =  nan\n",
      "M =   1.259 Msun  T =   nan K  m_ubv_B =  nan\n",
      "M =   3.700 Msun  T = 11115 K  m_ubv_B = 28.78\n",
      "M =   3.000 Msun  T = 11453 K  m_ubv_B = 28.34\n",
      "M =   1.259 Msun  T =   nan K  m_ubv_B =  nan\n",
      "M =   2.300 Msun  T =  4908 K  m_ubv_B = 17.51\n",
      "M =   3.500 Msun  T = 11671 K  m_ubv_B = 28.55\n",
      "M =   1.259 Msun  T =   nan K  m_ubv_B =  nan\n",
      "M =   2.500 Msun  T = 16006 K  m_ubv_B = 27.43\n",
      "M =   0.794 Msun  T =  2739 K  m_ubv_B =  nan\n",
      "M =   1.000 Msun  T =  2739 K  m_ubv_B =  nan\n",
      "M =   7.000 Msun  T = 11183 K  m_ubv_B = 29.02\n",
      "M =   2.000 Msun  T =  7250 K  m_ubv_B = 17.78\n",
      "M =   1.700 Msun  T = 11223 K  m_ubv_B = 28.34\n",
      "M =   1.000 Msun  T =  2739 K  m_ubv_B =  nan\n",
      "M =   2.700 Msun  T = 12837 K  m_ubv_B = 29.09\n",
      "M =   1.400 Msun  T =   nan K  m_ubv_B =  nan\n",
      "M =   1.400 Msun  T =  2739 K  m_ubv_B =  nan\n",
      "M =   3.500 Msun  T = 11671 K  m_ubv_B = 28.55\n",
      "M =   2.000 Msun  T =  7210 K  m_ubv_B = 17.80\n",
      "M =   1.800 Msun  T =  7355 K  m_ubv_B = 18.42\n",
      "M =   0.631 Msun  T =  2739 K  m_ubv_B =  nan\n",
      "M =   4.500 Msun  T = 11862 K  m_ubv_B = 28.78\n",
      "M =   1.900 Msun  T =  7140 K  m_ubv_B = 18.11\n",
      "M =   1.900 Msun  T = 12828 K  m_ubv_B = 27.97\n",
      "M =   3.000 Msun  T = 11485 K  m_ubv_B = 28.34\n",
      "M =   1.700 Msun  T =  7242 K  m_ubv_B = 18.77\n",
      "M =   1.600 Msun  T =  7037 K  m_ubv_B = 19.12\n",
      "M =   1.600 Msun  T =  7037 K  m_ubv_B = 19.12\n",
      "M =   2.300 Msun  T =  4908 K  m_ubv_B = 17.51\n",
      "M =   1.400 Msun  T =   nan K  m_ubv_B =  nan\n",
      "M =   1.400 Msun  T =   nan K  m_ubv_B =  nan\n",
      "Secondaries\n",
      "M =   2.070 Msun  T =  6895 K  m_ubv_B = 17.60\n",
      "M =   1.750 Msun  T =  8135 K  m_ubv_B = 18.66\n",
      "M =   1.710 Msun  T =  7580 K  m_ubv_B = 18.61\n",
      "M =   0.740 Msun  T =   nan K  m_ubv_B =  nan\n",
      "M =   3.000 Msun  T = 11498 K  m_ubv_B = 28.34\n",
      "M =   1.260 Msun  T =  6351 K  m_ubv_B = 20.56\n",
      "M =   1.050 Msun  T =  5796 K  m_ubv_B = 21.79\n",
      "M =   2.700 Msun  T =  8181 K  m_ubv_B = 16.09\n",
      "M =   7.000 Msun  T =  7921 K  m_ubv_B = 21.91\n",
      "M =   3.600 Msun  T = 10617 K  m_ubv_B = 14.73\n",
      "M =   3.500 Msun  T = 11388 K  m_ubv_B = 28.55\n",
      "M =   0.340 Msun  T =  1962 K  m_ubv_B = 35.87\n",
      "M =   5.500 Msun  T = 11992 K  m_ubv_B = 29.03\n",
      "M =   2.700 Msun  T = 12885 K  m_ubv_B = 27.97\n",
      "M =   2.220 Msun  T =  9856 K  m_ubv_B = 17.58\n",
      "M =   1.500 Msun  T =  7052 K  m_ubv_B = 19.55\n",
      "M =   4.500 Msun  T = 11685 K  m_ubv_B = 28.78\n",
      "M =   1.380 Msun  T =  6685 K  m_ubv_B = 19.97\n",
      "M =   2.450 Msun  T = 10412 K  m_ubv_B = 17.12\n",
      "M =   3.700 Msun  T = 10955 K  m_ubv_B = 28.78\n",
      "M =   1.750 Msun  T =  7918 K  m_ubv_B = 18.51\n",
      "M =   2.000 Msun  T =  7017 K  m_ubv_B = 17.83\n",
      "M =   5.000 Msun  T = 12009 K  m_ubv_B = 28.90\n",
      "M =   3.500 Msun  T =  9212 K  m_ubv_B = 14.64\n",
      "M =   1.600 Msun  T =  7397 K  m_ubv_B = 19.03\n",
      "M =   1.190 Msun  T =   nan K  m_ubv_B =  nan\n",
      "M =   3.000 Msun  T = 11498 K  m_ubv_B = 28.34\n",
      "M =   1.620 Msun  T =   nan K  m_ubv_B =  nan\n",
      "M =   3.500 Msun  T = 11705 K  m_ubv_B = 28.55\n",
      "M =   2.000 Msun  T =  7152 K  m_ubv_B = 17.81\n",
      "M =   2.450 Msun  T = 10416 K  m_ubv_B = 17.12\n",
      "M =   0.200 Msun  T =  3299 K  m_ubv_B = 29.89\n",
      "M =   0.900 Msun  T =  5193 K  m_ubv_B = 22.64\n",
      "M =   5.000 Msun  T = 10666 K  m_ubv_B = 29.02\n",
      "M =   2.250 Msun  T =  9999 K  m_ubv_B = 17.61\n",
      "M =   1.710 Msun  T =  7580 K  m_ubv_B = 18.61\n",
      "M =   0.760 Msun  T =   nan K  m_ubv_B =  nan\n",
      "M =   1.800 Msun  T =  8304 K  m_ubv_B = 18.44\n",
      "M =   0.850 Msun  T =  4905 K  m_ubv_B = 23.15\n",
      "M =   0.480 Msun  T =  2770 K  m_ubv_B = 30.16\n",
      "M =   0.320 Msun  T =  1847 K  m_ubv_B = 36.15\n",
      "M =   0.460 Msun  T =  2654 K  m_ubv_B = 30.83\n",
      "M =   2.500 Msun  T = 15710 K  m_ubv_B = 19.12\n",
      "M =   1.200 Msun  T =  6155 K  m_ubv_B = 20.89\n",
      "Starting filter: ubv,R   Elapsed time: 51.30 seconds\n",
      "Starting synthetic photometry\n",
      "Singles\n",
      "M =   1.660 Msun  T =  7141 K  m_ubv_R = 14.81\n",
      "M =   1.900 Msun  T =  7389 K  m_ubv_R = 14.07\n",
      "Primaries\n",
      "M =   2.300 Msun  T =  4908 K  m_ubv_R = 12.28\n",
      "M =   3.500 Msun  T = 11671 K  m_ubv_R = 24.91\n",
      "M =   1.900 Msun  T =  7140 K  m_ubv_R = 14.04\n",
      "M =   3.700 Msun  T = 12543 K  m_ubv_R = 25.21\n",
      "M =   1.400 Msun  T =  2739 K  m_ubv_R =  nan\n",
      "M =   1.800 Msun  T =  7355 K  m_ubv_R = 14.41\n",
      "M =   1.500 Msun  T =  6759 K  m_ubv_R = 15.27\n",
      "M =   3.000 Msun  T = 11485 K  m_ubv_R = 24.69\n",
      "M =   1.400 Msun  T =  2739 K  m_ubv_R =  nan\n",
      "M =   4.500 Msun  T = 10530 K  m_ubv_R = 25.31\n",
      "M =   0.631 Msun  T =   nan K  m_ubv_R =  nan\n",
      "M =   1.700 Msun  T =  7242 K  m_ubv_R = 14.72\n",
      "M =   1.400 Msun  T =   nan K  m_ubv_R =  nan\n",
      "M =   1.259 Msun  T =   nan K  m_ubv_R =  nan\n",
      "M =   3.700 Msun  T = 11115 K  m_ubv_R = 25.09\n",
      "M =   3.000 Msun  T = 11453 K  m_ubv_R = 24.69\n",
      "M =   1.259 Msun  T =   nan K  m_ubv_R =  nan\n",
      "M =   2.300 Msun  T =  4908 K  m_ubv_R = 12.28\n",
      "M =   3.500 Msun  T = 11671 K  m_ubv_R = 24.91\n",
      "M =   1.259 Msun  T =   nan K  m_ubv_R =  nan\n",
      "M =   2.500 Msun  T = 16006 K  m_ubv_R = 24.03\n",
      "M =   0.794 Msun  T =  2739 K  m_ubv_R =  nan\n",
      "M =   1.000 Msun  T =  2739 K  m_ubv_R =  nan\n",
      "M =   7.000 Msun  T = 11183 K  m_ubv_R = 25.33\n",
      "M =   2.000 Msun  T =  7250 K  m_ubv_R = 13.75\n",
      "M =   1.700 Msun  T = 11223 K  m_ubv_R = 24.68\n",
      "M =   1.000 Msun  T =  2739 K  m_ubv_R =  nan\n",
      "M =   2.700 Msun  T = 12837 K  m_ubv_R = 25.50\n",
      "M =   1.400 Msun  T =   nan K  m_ubv_R =  nan\n",
      "M =   1.400 Msun  T =  2739 K  m_ubv_R =  nan\n",
      "M =   3.500 Msun  T = 11671 K  m_ubv_R = 24.91\n",
      "M =   2.000 Msun  T =  7210 K  m_ubv_R = 13.76\n",
      "M =   1.800 Msun  T =  7355 K  m_ubv_R = 14.41\n",
      "M =   0.631 Msun  T =  2739 K  m_ubv_R =  nan\n",
      "M =   4.500 Msun  T = 11862 K  m_ubv_R = 25.14\n",
      "M =   1.900 Msun  T =  7140 K  m_ubv_R = 14.04\n",
      "M =   1.900 Msun  T = 12828 K  m_ubv_R = 24.41\n",
      "M =   3.000 Msun  T = 11485 K  m_ubv_R = 24.69\n",
      "M =   1.700 Msun  T =  7242 K  m_ubv_R = 14.72\n",
      "M =   1.600 Msun  T =  7037 K  m_ubv_R = 15.00\n",
      "M =   1.600 Msun  T =  7037 K  m_ubv_R = 15.00\n",
      "M =   2.300 Msun  T =  4908 K  m_ubv_R = 12.28\n",
      "M =   1.400 Msun  T =   nan K  m_ubv_R =  nan\n",
      "M =   1.400 Msun  T =   nan K  m_ubv_R =  nan\n",
      "Secondaries\n",
      "M =   2.070 Msun  T =  6895 K  m_ubv_R = 13.46\n",
      "M =   1.750 Msun  T =  8135 K  m_ubv_R = 14.88\n",
      "M =   1.710 Msun  T =  7580 K  m_ubv_R = 14.67\n",
      "M =   0.740 Msun  T =   nan K  m_ubv_R =  nan\n",
      "M =   3.000 Msun  T = 11498 K  m_ubv_R = 24.69\n",
      "M =   1.260 Msun  T =  6351 K  m_ubv_R = 16.15\n",
      "M =   1.050 Msun  T =  5796 K  m_ubv_R = 17.10\n",
      "M =   2.700 Msun  T =  8181 K  m_ubv_R = 12.41\n",
      "M =   7.000 Msun  T =  7921 K  m_ubv_R = 18.04\n",
      "M =   3.600 Msun  T = 10617 K  m_ubv_R = 11.37\n",
      "M =   3.500 Msun  T = 11388 K  m_ubv_R = 24.89\n",
      "M =   0.340 Msun  T =  1962 K  m_ubv_R = 26.64\n",
      "M =   5.500 Msun  T = 11992 K  m_ubv_R = 25.40\n",
      "M =   2.700 Msun  T = 12885 K  m_ubv_R = 24.42\n",
      "M =   2.220 Msun  T =  9856 K  m_ubv_R = 14.13\n",
      "M =   1.500 Msun  T =  7052 K  m_ubv_R = 15.42\n",
      "M =   4.500 Msun  T = 11685 K  m_ubv_R = 25.13\n",
      "M =   1.380 Msun  T =  6685 K  m_ubv_R = 15.70\n",
      "M =   2.450 Msun  T = 10412 K  m_ubv_R = 13.73\n",
      "M =   3.700 Msun  T = 10955 K  m_ubv_R = 25.08\n",
      "M =   1.750 Msun  T =  7918 K  m_ubv_R = 14.67\n",
      "M =   2.000 Msun  T =  7017 K  m_ubv_R = 13.72\n",
      "M =   5.000 Msun  T = 12009 K  m_ubv_R = 25.27\n",
      "M =   3.500 Msun  T =  9212 K  m_ubv_R = 11.16\n",
      "M =   1.600 Msun  T =  7397 K  m_ubv_R = 15.03\n",
      "M =   1.190 Msun  T =   nan K  m_ubv_R =  nan\n",
      "M =   3.000 Msun  T = 11498 K  m_ubv_R = 24.69\n",
      "M =   1.620 Msun  T =   nan K  m_ubv_R =  nan\n",
      "M =   3.500 Msun  T = 11705 K  m_ubv_R = 24.91\n",
      "M =   2.000 Msun  T =  7152 K  m_ubv_R = 13.75\n",
      "M =   2.450 Msun  T = 10416 K  m_ubv_R = 13.73\n",
      "M =   0.200 Msun  T =  3299 K  m_ubv_R = 23.40\n",
      "M =   0.900 Msun  T =  5193 K  m_ubv_R = 17.62\n"
     ]
    },
    {
     "name": "stdout",
     "output_type": "stream",
     "text": [
      "M =   5.000 Msun  T = 10666 K  m_ubv_R = 25.30\n",
      "M =   2.250 Msun  T =  9999 K  m_ubv_R = 14.17\n",
      "M =   1.710 Msun  T =  7580 K  m_ubv_R = 14.67\n",
      "M =   0.760 Msun  T =   nan K  m_ubv_R =  nan\n",
      "M =   1.800 Msun  T =  8304 K  m_ubv_R = 14.71\n",
      "M =   0.850 Msun  T =  4905 K  m_ubv_R = 17.96\n",
      "M =   0.480 Msun  T =  2770 K  m_ubv_R = 22.57\n",
      "M =   0.320 Msun  T =  1847 K  m_ubv_R = 26.94\n",
      "M =   0.460 Msun  T =  2654 K  m_ubv_R = 23.05\n",
      "M =   2.500 Msun  T = 15710 K  m_ubv_R = 15.89\n",
      "M =   1.200 Msun  T =  6155 K  m_ubv_R = 16.38\n",
      "Starting filter: ubv,I   Elapsed time: 67.64 seconds\n",
      "Starting synthetic photometry\n",
      "Singles\n",
      "M =   1.660 Msun  T =  7141 K  m_ubv_I = 11.12\n",
      "M =   1.900 Msun  T =  7389 K  m_ubv_I = 10.40\n",
      "Primaries\n",
      "M =   2.300 Msun  T =  4908 K  m_ubv_I = 8.28\n",
      "M =   3.500 Msun  T = 11671 K  m_ubv_I = 21.46\n",
      "M =   1.900 Msun  T =  7140 K  m_ubv_I = 10.35\n",
      "M =   3.700 Msun  T = 12543 K  m_ubv_I = 21.79\n",
      "M =   1.400 Msun  T =  2739 K  m_ubv_I =  nan\n",
      "M =   1.800 Msun  T =  7355 K  m_ubv_I = 10.74\n",
      "M =   1.500 Msun  T =  6759 K  m_ubv_I = 11.54\n",
      "M =   3.000 Msun  T = 11485 K  m_ubv_I = 21.23\n",
      "M =   1.400 Msun  T =  2739 K  m_ubv_I =  nan\n",
      "M =   4.500 Msun  T = 10530 K  m_ubv_I = 21.81\n",
      "M =   0.631 Msun  T =   nan K  m_ubv_I =  nan\n",
      "M =   1.700 Msun  T =  7242 K  m_ubv_I = 11.04\n",
      "M =   1.400 Msun  T =   nan K  m_ubv_I =  nan\n",
      "M =   1.259 Msun  T =   nan K  m_ubv_I =  nan\n",
      "M =   3.700 Msun  T = 11115 K  m_ubv_I = 21.62\n",
      "M =   3.000 Msun  T = 11453 K  m_ubv_I = 21.23\n",
      "M =   1.259 Msun  T =   nan K  m_ubv_I =  nan\n",
      "M =   2.300 Msun  T =  4908 K  m_ubv_I = 8.28\n",
      "M =   3.500 Msun  T = 11671 K  m_ubv_I = 21.46\n",
      "M =   1.259 Msun  T =   nan K  m_ubv_I =  nan\n",
      "M =   2.500 Msun  T = 16006 K  m_ubv_I = 20.67\n",
      "M =   0.794 Msun  T =  2739 K  m_ubv_I =  nan\n",
      "M =   1.000 Msun  T =  2739 K  m_ubv_I =  nan\n",
      "M =   7.000 Msun  T = 11183 K  m_ubv_I = 21.86\n",
      "M =   2.000 Msun  T =  7250 K  m_ubv_I = 10.07\n",
      "M =   1.700 Msun  T = 11223 K  m_ubv_I = 21.21\n",
      "M =   1.000 Msun  T =  2739 K  m_ubv_I =  nan\n",
      "M =   2.700 Msun  T = 12837 K  m_ubv_I = 22.08\n",
      "M =   1.400 Msun  T =   nan K  m_ubv_I =  nan\n",
      "M =   1.400 Msun  T =  2739 K  m_ubv_I =  nan\n",
      "M =   3.500 Msun  T = 11671 K  m_ubv_I = 21.46\n",
      "M =   2.000 Msun  T =  7210 K  m_ubv_I = 10.08\n",
      "M =   1.800 Msun  T =  7355 K  m_ubv_I = 10.74\n",
      "M =   0.631 Msun  T =  2739 K  m_ubv_I =  nan\n",
      "M =   4.500 Msun  T = 11862 K  m_ubv_I = 21.70\n",
      "M =   1.900 Msun  T =  7140 K  m_ubv_I = 10.35\n",
      "M =   1.900 Msun  T = 12828 K  m_ubv_I = 20.99\n",
      "M =   3.000 Msun  T = 11485 K  m_ubv_I = 21.23\n",
      "M =   1.700 Msun  T =  7242 K  m_ubv_I = 11.04\n",
      "M =   1.600 Msun  T =  7037 K  m_ubv_I = 11.30\n",
      "M =   1.600 Msun  T =  7037 K  m_ubv_I = 11.30\n",
      "M =   2.300 Msun  T =  4908 K  m_ubv_I = 8.28\n",
      "M =   1.400 Msun  T =   nan K  m_ubv_I =  nan\n",
      "M =   1.400 Msun  T =   nan K  m_ubv_I =  nan\n",
      "Secondaries\n",
      "M =   2.070 Msun  T =  6895 K  m_ubv_I = 9.74\n",
      "M =   1.750 Msun  T =  8135 K  m_ubv_I = 11.27\n",
      "M =   1.710 Msun  T =  7580 K  m_ubv_I = 11.02\n",
      "M =   0.740 Msun  T =   nan K  m_ubv_I =  nan\n",
      "M =   3.000 Msun  T = 11498 K  m_ubv_I = 21.24\n",
      "M =   1.260 Msun  T =  6351 K  m_ubv_I = 12.38\n",
      "M =   1.050 Msun  T =  5796 K  m_ubv_I = 13.26\n",
      "M =   2.700 Msun  T =  8181 K  m_ubv_I = 8.79\n",
      "M =   7.000 Msun  T =  7921 K  m_ubv_I = 14.42\n",
      "M =   3.600 Msun  T = 10617 K  m_ubv_I = 7.85\n",
      "M =   3.500 Msun  T = 11388 K  m_ubv_I = 21.43\n",
      "M =   0.340 Msun  T =  1962 K  m_ubv_I = 19.87\n",
      "M =   5.500 Msun  T = 11992 K  m_ubv_I = 21.95\n",
      "M =   2.700 Msun  T = 12885 K  m_ubv_I = 21.00\n",
      "M =   2.220 Msun  T =  9856 K  m_ubv_I = 10.60\n",
      "M =   1.500 Msun  T =  7052 K  m_ubv_I = 11.73\n",
      "M =   4.500 Msun  T = 11685 K  m_ubv_I = 21.68\n",
      "M =   1.380 Msun  T =  6685 K  m_ubv_I = 11.97\n",
      "M =   2.450 Msun  T = 10412 K  m_ubv_I = 10.21\n",
      "M =   3.700 Msun  T = 10955 K  m_ubv_I = 21.60\n",
      "M =   1.750 Msun  T =  7918 K  m_ubv_I = 11.05\n",
      "M =   2.000 Msun  T =  7017 K  m_ubv_I = 10.02\n",
      "M =   5.000 Msun  T = 12009 K  m_ubv_I = 21.83\n",
      "M =   3.500 Msun  T =  9212 K  m_ubv_I = 7.60\n",
      "M =   1.600 Msun  T =  7397 K  m_ubv_I = 11.36\n",
      "M =   1.190 Msun  T =   nan K  m_ubv_I =  nan\n",
      "M =   3.000 Msun  T = 11498 K  m_ubv_I = 21.24\n",
      "M =   1.620 Msun  T =   nan K  m_ubv_I =  nan\n",
      "M =   3.500 Msun  T = 11705 K  m_ubv_I = 21.46\n",
      "M =   2.000 Msun  T =  7152 K  m_ubv_I = 10.06\n",
      "M =   2.450 Msun  T = 10416 K  m_ubv_I = 10.21\n",
      "M =   0.200 Msun  T =  3299 K  m_ubv_I = 18.50\n",
      "M =   0.900 Msun  T =  5193 K  m_ubv_I = 13.69\n",
      "M =   5.000 Msun  T = 10666 K  m_ubv_I = 21.80\n",
      "M =   2.250 Msun  T =  9999 K  m_ubv_I = 10.65\n",
      "M =   1.710 Msun  T =  7580 K  m_ubv_I = 11.02\n",
      "M =   0.760 Msun  T =   nan K  m_ubv_I =  nan\n",
      "M =   1.800 Msun  T =  8304 K  m_ubv_I = 11.12\n",
      "M =   0.850 Msun  T =  4905 K  m_ubv_I = 13.96\n",
      "M =   0.480 Msun  T =  2770 K  m_ubv_I = 16.88\n",
      "M =   0.320 Msun  T =  1847 K  m_ubv_I = 20.35\n",
      "M =   0.460 Msun  T =  2654 K  m_ubv_I = 17.15\n",
      "M =   2.500 Msun  T = 15710 K  m_ubv_I = 12.50\n",
      "M =   1.200 Msun  T =  6155 K  m_ubv_I = 12.59\n",
      "      Time taken: 83.89 seconds\n",
      "Isochrone generation took 527.539088 s.\n"
     ]
    }
   ],
   "source": [
    "import spisea\n",
    "from spisea import evolution, synthetic\n",
    "import math\n",
    "# Check if the evolution class works fine\n",
    "import time\n",
    "import numpy as np\n",
    "t1=time.time()\n",
    "bps=evolution.BPASS()\n",
    "iso1=synthetic.Isochrone_Binary(9.0, 0.7, 100,math.log10(1), mass_sampling=1, filepath='/g/lu/scratch/ryotainagaki/BPASS_iso_filesTimedIsolated/')"
   ]
  },
  {
   "cell_type": "code",
   "execution_count": 2,
   "metadata": {},
   "outputs": [
    {
     "data": {
      "text/html": [
       "<i>Table length=0</i>\n",
       "<table id=\"table140251494070536\" class=\"table-striped table-bordered table-condensed\">\n",
       "<thead><tr><th>mass</th><th>L</th><th>Teff</th><th>R</th><th>logg</th><th>isWR</th><th>mass_current</th><th>phase</th><th>source</th><th>m_ubv_U</th><th>m_ubv_V</th><th>m_ubv_B</th><th>m_ubv_R</th><th>m_ubv_I</th></tr></thead>\n",
       "<thead><tr><th>solMass</th><th>W</th><th>K</th><th>m</th><th></th><th></th><th>solMass</th><th></th><th></th><th></th><th></th><th></th><th></th><th></th></tr></thead>\n",
       "<thead><tr><th>float64</th><th>float64</th><th>float64</th><th>float64</th><th>float64</th><th>bool</th><th>float64</th><th>float64</th><th>int64</th><th>float64</th><th>float64</th><th>float64</th><th>float64</th><th>float64</th></tr></thead>\n",
       "</table>"
      ],
      "text/plain": [
       "<Table length=0>\n",
       "  mass     L      Teff     R      logg  ... m_ubv_V m_ubv_B m_ubv_R m_ubv_I\n",
       "solMass    W       K       m            ...                                \n",
       "float64 float64 float64 float64 float64 ... float64 float64 float64 float64\n",
       "------- ------- ------- ------- ------- ... ------- ------- ------- -------"
      ]
     },
     "execution_count": 2,
     "metadata": {},
     "output_type": "execute_result"
    }
   ],
   "source": [
    "iso1.primaries[np.where(iso1.primaries['mass']< 0)]"
   ]
  },
  {
   "cell_type": "code",
   "execution_count": 3,
   "metadata": {},
   "outputs": [
    {
     "data": {
      "text/html": [
       "<i>Table length=0</i>\n",
       "<table id=\"table140251504808736\" class=\"table-striped table-bordered table-condensed\">\n",
       "<thead><tr><th>mass</th><th>log_a</th><th>L</th><th>Teff</th><th>R</th><th>logg</th><th>isWR</th><th>mass_current</th><th>phase</th><th>merged</th><th>source</th><th>m_ubv_U</th><th>m_ubv_V</th><th>m_ubv_B</th><th>m_ubv_R</th><th>m_ubv_I</th></tr></thead>\n",
       "<thead><tr><th>solMass</th><th></th><th>W</th><th>K</th><th>m</th><th></th><th></th><th>solMass</th><th></th><th></th><th></th><th></th><th></th><th></th><th></th><th></th></tr></thead>\n",
       "<thead><tr><th>float64</th><th>float64</th><th>float64</th><th>float64</th><th>float64</th><th>float64</th><th>bool</th><th>float64</th><th>float64</th><th>bool</th><th>int64</th><th>float64</th><th>float64</th><th>float64</th><th>float64</th><th>float64</th></tr></thead>\n",
       "</table>"
      ],
      "text/plain": [
       "<Table length=0>\n",
       "  mass   log_a     L      Teff     R    ... m_ubv_V m_ubv_B m_ubv_R m_ubv_I\n",
       "solMass            W       K       m    ...                                \n",
       "float64 float64 float64 float64 float64 ... float64 float64 float64 float64\n",
       "------- ------- ------- ------- ------- ... ------- ------- ------- -------"
      ]
     },
     "execution_count": 3,
     "metadata": {},
     "output_type": "execute_result"
    }
   ],
   "source": [
    "iso1.secondaries[np.where(iso1.secondaries['mass'] < 0)]"
   ]
  },
  {
   "cell_type": "code",
   "execution_count": 4,
   "metadata": {},
   "outputs": [
    {
     "data": {
      "text/html": [
       "<i>Table length=0</i>\n",
       "<table id=\"table140251698109632\" class=\"table-striped table-bordered table-condensed\">\n",
       "<thead><tr><th>mass</th><th>log_a</th><th>L</th><th>Teff</th><th>R</th><th>logg</th><th>isWR</th><th>mass_current</th><th>phase</th><th>merged</th><th>source</th><th>m_ubv_U</th><th>m_ubv_V</th><th>m_ubv_B</th><th>m_ubv_R</th><th>m_ubv_I</th></tr></thead>\n",
       "<thead><tr><th>solMass</th><th></th><th>W</th><th>K</th><th>m</th><th></th><th></th><th>solMass</th><th></th><th></th><th></th><th></th><th></th><th></th><th></th><th></th></tr></thead>\n",
       "<thead><tr><th>float64</th><th>float64</th><th>float64</th><th>float64</th><th>float64</th><th>float64</th><th>bool</th><th>float64</th><th>float64</th><th>bool</th><th>int64</th><th>float64</th><th>float64</th><th>float64</th><th>float64</th><th>float64</th></tr></thead>\n",
       "</table>"
      ],
      "text/plain": [
       "<Table length=0>\n",
       "  mass   log_a     L      Teff     R    ... m_ubv_V m_ubv_B m_ubv_R m_ubv_I\n",
       "solMass            W       K       m    ...                                \n",
       "float64 float64 float64 float64 float64 ... float64 float64 float64 float64\n",
       "------- ------- ------- ------- ------- ... ------- ------- ------- -------"
      ]
     },
     "execution_count": 4,
     "metadata": {},
     "output_type": "execute_result"
    }
   ],
   "source": [
    "iso1.secondaries[np.where(iso1.singles['mass'] < 0)]"
   ]
  },
  {
   "cell_type": "markdown",
   "metadata": {},
   "source": [
    "For a sanity check, we can see that the primaries, secondaries, and single stars have phasees of 5 or of 101. Note that we will have a phase of 110 in order to indicate a mystery compact remnant that BPASS provides for NEWSECMODS (secondary star models with compact primaries). This is since we haven't added neutron stars or black holes yet. Stars with phase of -99 exist, and those are the secondary stars that have already merged."
   ]
  },
  {
   "cell_type": "code",
   "execution_count": 5,
   "metadata": {},
   "outputs": [
    {
     "name": "stdout",
     "output_type": "stream",
     "text": [
      "Isochrone generation took 71.763967 s.\n",
      "Making photometry for isochrone: log(t) = 9.00  AKs = 0.70  dist = 100\n",
      "     Starting at:  2020-12-20 17:24:26.487445   Usually takes ~5 minutes\n",
      "Starting filter: ubv,U   Elapsed time: 0.00 seconds\n",
      "Starting synthetic photometry\n",
      "M =   0.106 Msun  T =  2909 K  m_ubv_U = 33.40\n",
      "M =   1.215 Msun  T =  6415 K  m_ubv_U = 20.55\n",
      "M =   2.038 Msun  T =  7816 K  m_ubv_U = 17.29\n",
      "M =   2.055 Msun  T =  4955 K  m_ubv_U = 19.05\n",
      "M =   2.071 Msun  T =  4749 K  m_ubv_U = 18.64\n",
      "M =   2.275 Msun  T =  4576 K  m_ubv_U = 18.06\n",
      "M =   2.287 Msun  T =  3677 K  m_ubv_U = 17.25\n",
      "M =   2.287 Msun  T =  3493 K  m_ubv_U = 17.19\n",
      "M =   2.287 Msun  T =  3478 K  m_ubv_U = 17.19\n",
      "M =   2.288 Msun  T =  3244 K  m_ubv_U = 17.39\n",
      "M =   2.288 Msun  T =  3188 K  m_ubv_U = 17.69\n",
      "M =   2.288 Msun  T = 29326 K  m_ubv_U = 12.80\n",
      "M =   2.288 Msun  T = 134813 K  m_ubv_U = 17.53\n",
      "Starting filter: ubv,B   Elapsed time: 3.02 seconds\n",
      "Starting synthetic photometry\n",
      "M =   0.106 Msun  T =  2909 K  m_ubv_B = 33.52\n",
      "M =   1.215 Msun  T =  6415 K  m_ubv_B = 20.63\n",
      "M =   2.038 Msun  T =  7816 K  m_ubv_B = 17.21\n",
      "M =   2.055 Msun  T =  4955 K  m_ubv_B = 18.57\n",
      "M =   2.071 Msun  T =  4749 K  m_ubv_B = 17.98\n",
      "M =   2.275 Msun  T =  4576 K  m_ubv_B = 17.26\n",
      "M =   2.287 Msun  T =  3677 K  m_ubv_B = 16.33\n",
      "M =   2.287 Msun  T =  3493 K  m_ubv_B = 16.54\n",
      "M =   2.287 Msun  T =  3478 K  m_ubv_B = 16.56\n",
      "M =   2.288 Msun  T =  3244 K  m_ubv_B = 17.33\n",
      "M =   2.288 Msun  T =  3188 K  m_ubv_B = 17.85\n",
      "M =   2.288 Msun  T = 29326 K  m_ubv_B = 13.88\n",
      "M =   2.288 Msun  T = 134813 K  m_ubv_B = 18.72\n",
      "Starting filter: ubv,V   Elapsed time: 5.98 seconds\n",
      "Starting synthetic photometry\n",
      "M =   0.106 Msun  T =  2909 K  m_ubv_V = 30.94\n",
      "M =   1.215 Msun  T =  6415 K  m_ubv_V = 19.16\n",
      "M =   2.038 Msun  T =  7816 K  m_ubv_V = 16.12\n",
      "M =   2.055 Msun  T =  4955 K  m_ubv_V = 16.52\n",
      "M =   2.071 Msun  T =  4749 K  m_ubv_V = 15.80\n",
      "M =   2.275 Msun  T =  4576 K  m_ubv_V = 14.98\n",
      "M =   2.287 Msun  T =  3677 K  m_ubv_V = 13.46\n",
      "M =   2.287 Msun  T =  3493 K  m_ubv_V = 13.68\n",
      "M =   2.287 Msun  T =  3478 K  m_ubv_V = 13.71\n",
      "M =   2.288 Msun  T =  3244 K  m_ubv_V = 14.82\n",
      "M =   2.288 Msun  T =  3188 K  m_ubv_V = 15.44\n",
      "M =   2.288 Msun  T = 29326 K  m_ubv_V = 13.30\n",
      "M =   2.288 Msun  T = 134813 K  m_ubv_V = 18.29\n",
      "Starting filter: ubv,R   Elapsed time: 8.96 seconds\n",
      "Starting synthetic photometry\n",
      "M =   0.106 Msun  T =  2909 K  m_ubv_R = 25.82\n",
      "M =   1.215 Msun  T =  6415 K  m_ubv_R = 16.25\n",
      "M =   2.038 Msun  T =  7816 K  m_ubv_R = 13.39\n",
      "M =   2.055 Msun  T =  4955 K  m_ubv_R = 13.40\n",
      "M =   2.071 Msun  T =  4749 K  m_ubv_R = 12.64\n",
      "M =   2.275 Msun  T =  4576 K  m_ubv_R = 11.77\n",
      "M =   2.287 Msun  T =  3677 K  m_ubv_R = 9.85\n",
      "M =   2.287 Msun  T =  3493 K  m_ubv_R = 9.72\n",
      "M =   2.287 Msun  T =  3478 K  m_ubv_R = 9.72\n",
      "M =   2.288 Msun  T =  3244 K  m_ubv_R = 9.98\n",
      "M =   2.288 Msun  T =  3188 K  m_ubv_R = 10.31\n",
      "M =   2.288 Msun  T = 29326 K  m_ubv_R = 10.78\n",
      "M =   2.288 Msun  T = 134813 K  m_ubv_R = 15.84\n",
      "Starting filter: ubv,I   Elapsed time: 11.86 seconds\n",
      "Starting synthetic photometry\n",
      "M =   0.106 Msun  T =  2909 K  m_ubv_I = 20.31\n",
      "M =   1.215 Msun  T =  6415 K  m_ubv_I = 12.48\n",
      "M =   2.038 Msun  T =  7816 K  m_ubv_I = 9.75\n",
      "M =   2.055 Msun  T =  4955 K  m_ubv_I = 9.42\n",
      "M =   2.071 Msun  T =  4749 K  m_ubv_I = 8.61\n",
      "M =   2.275 Msun  T =  4576 K  m_ubv_I = 7.70\n",
      "M =   2.287 Msun  T =  3677 K  m_ubv_I = 5.31\n",
      "M =   2.287 Msun  T =  3493 K  m_ubv_I = 4.87\n",
      "M =   2.287 Msun  T =  3478 K  m_ubv_I = 4.84\n",
      "M =   2.288 Msun  T =  3244 K  m_ubv_I = 4.46\n",
      "M =   2.288 Msun  T =  3188 K  m_ubv_I = 4.56\n",
      "M =   2.288 Msun  T = 29326 K  m_ubv_I = 7.48\n",
      "M =   2.288 Msun  T = 134813 K  m_ubv_I = 12.62\n",
      "      Time taken: 14.76 seconds\n"
     ]
    }
   ],
   "source": [
    "iso2=synthetic.IsochronePhot(9.0, 0.7, 100, math.log10(1), mass_sampling =1 , recomp=True) # New MIST v.1 isochrone for same metallicity"
   ]
  },
  {
   "cell_type": "code",
   "execution_count": 6,
   "metadata": {},
   "outputs": [],
   "source": [
    "from spisea import imf\n",
    "from spisea.imf import imf, multiplicity\n",
    "from spisea import ifmr"
   ]
  },
  {
   "cell_type": "markdown",
   "metadata": {},
   "source": [
    "Make the clusters corresponding to the binary star isochrone and the MISTv.1 isochrone"
   ]
  },
  {
   "cell_type": "code",
   "execution_count": 7,
   "metadata": {},
   "outputs": [
    {
     "name": "stdout",
     "output_type": "stream",
     "text": [
      "3605.1539799999905\n"
     ]
    },
    {
     "name": "stderr",
     "output_type": "stream",
     "text": [
      "/opt/anaconda3/envs/astroconda/lib/python3.7/site-packages/astropy/table/column.py:1020: RuntimeWarning: invalid value encountered in greater_equal\n",
      "  result = getattr(super(), op)(other)\n"
     ]
    },
    {
     "name": "stdout",
     "output_type": "stream",
     "text": [
      "Found 208 companions out of stellar mass range\n"
     ]
    }
   ],
   "source": [
    "clus_1=synthetic.Binary_Cluster(iso1, imf.IMFSalpeter1955(multiplicity=multiplicity.MultiplicityResolvedDK()), 10000, ifmr=ifmr.IFMR_Spera15())\n",
    "clus_2=synthetic.ResolvedCluster(iso2, imf.IMFSalpeter1955(multiplicity=multiplicity.MultiplicityUnresolved()), 10000, ifmr=ifmr.IFMR_Spera15())"
   ]
  },
  {
   "cell_type": "code",
   "execution_count": null,
   "metadata": {},
   "outputs": [],
   "source": []
  },
  {
   "cell_type": "code",
   "execution_count": 8,
   "metadata": {},
   "outputs": [],
   "source": [
    "from scipy.spatial import cKDTree as KDTree\n",
    "primary_mass = 3.907104476879689\n",
    "secondary_mass = 2.0712811580188424\n",
    "loga=0.028763045199171167\n",
    "iso = iso1"
   ]
  },
  {
   "cell_type": "code",
   "execution_count": 9,
   "metadata": {},
   "outputs": [],
   "source": [
    "kd = KDTree(np.transpose(np.array([iso.primaries['mass']/primary_mass, iso.secondaries['mass']/secondary_mass, iso.secondaries['log_a']/loga])))"
   ]
  },
  {
   "cell_type": "code",
   "execution_count": 10,
   "metadata": {},
   "outputs": [],
   "source": [
    "q_results = kd.query(np.array([[1, 1, 1]]))"
   ]
  },
  {
   "cell_type": "code",
   "execution_count": 11,
   "metadata": {},
   "outputs": [
    {
     "data": {
      "text/plain": [
       "(array([0.17479484]), array([1362]))"
      ]
     },
     "execution_count": 11,
     "metadata": {},
     "output_type": "execute_result"
    }
   ],
   "source": [
    "q_results"
   ]
  },
  {
   "cell_type": "code",
   "execution_count": 12,
   "metadata": {},
   "outputs": [
    {
     "data": {
      "text/html": [
       "<i>Row index=3870</i>\n",
       "<table id=\"table140251923986360\">\n",
       "<thead><tr><th>mass</th><th>L</th><th>Teff</th><th>R</th><th>logg</th><th>isWR</th><th>mass_current</th><th>phase</th><th>source</th><th>m_ubv_U</th><th>m_ubv_V</th><th>m_ubv_B</th><th>m_ubv_R</th><th>m_ubv_I</th></tr></thead>\n",
       "<thead><tr><th>solMass</th><th>W</th><th>K</th><th>m</th><th></th><th></th><th>solMass</th><th></th><th></th><th></th><th></th><th></th><th></th><th></th></tr></thead>\n",
       "<thead><tr><th>float64</th><th>float64</th><th>float64</th><th>float64</th><th>float64</th><th>bool</th><th>float64</th><th>float64</th><th>int64</th><th>float64</th><th>float64</th><th>float64</th><th>float64</th><th>float64</th></tr></thead>\n",
       "<tr><td>2.5</td><td>3.840731338863388e+24</td><td>16005.822633308064</td><td>9062336.082356365</td><td>7.973257593758752</td><td>False</td><td>0.58187</td><td>101.0</td><td>1</td><td>26.768878216040303</td><td>26.56886841159818</td><td>27.425998703783605</td><td>24.03485387775431</td><td>20.666763338791355</td></tr>\n",
       "</table>"
      ],
      "text/plain": [
       "<Row index=3870>\n",
       "  mass            L                  Teff                R                logg        isWR mass_current  phase  source      m_ubv_U            m_ubv_V           m_ubv_B            m_ubv_R           m_ubv_I      \n",
       "solMass           W                   K                  m                                   solMass                                                                                                               \n",
       "float64        float64             float64            float64           float64       bool   float64    float64 int64       float64            float64           float64            float64           float64      \n",
       "------- --------------------- ------------------ ----------------- ----------------- ----- ------------ ------- ------ ------------------ ----------------- ------------------ ----------------- ------------------\n",
       "    2.5 3.840731338863388e+24 16005.822633308064 9062336.082356365 7.973257593758752 False      0.58187   101.0      1 26.768878216040303 26.56886841159818 27.425998703783605 24.03485387775431 20.666763338791355"
      ]
     },
     "execution_count": 12,
     "metadata": {},
     "output_type": "execute_result"
    }
   ],
   "source": [
    "iso1.primaries[3870]"
   ]
  },
  {
   "cell_type": "markdown",
   "metadata": {},
   "source": [
    "Let's make sure that I am getting just about enough star mass for my cluster. (It was a bug before I used an adjustment factor.)"
   ]
  },
  {
   "cell_type": "code",
   "execution_count": 13,
   "metadata": {},
   "outputs": [
    {
     "data": {
      "text/plain": [
       "10992.972711754994"
      ]
     },
     "execution_count": 13,
     "metadata": {},
     "output_type": "execute_result"
    }
   ],
   "source": [
    "clus_1.star_systems['systemMass'].sum()"
   ]
  },
  {
   "cell_type": "code",
   "execution_count": 14,
   "metadata": {},
   "outputs": [
    {
     "name": "stdout",
     "output_type": "stream",
     "text": [
      "3465.867119999981\n",
      "3680.8746799999817\n",
      "3827.169259999976\n",
      "3600.1439099999798\n",
      "3668.396049999986\n",
      "3715.210329999983\n",
      "3543.649259999985\n",
      "3710.9203299999817\n",
      "3528.2328399999815\n",
      "3430.8817699999895\n",
      "3475.3006999999843\n",
      "3692.5682599999836\n",
      "3547.7539799999863\n",
      "3604.0580299999806\n",
      "3591.015619999984\n",
      "3657.374979999983\n",
      "3537.1606999999813\n",
      "3677.5406999999796\n",
      "3509.826049999983\n",
      "3319.4139099999866\n",
      "3524.9574899999875\n",
      "3636.3603999999877\n",
      "3751.6392599999845\n",
      "3507.4971899999878\n",
      "3541.2181899999828\n",
      "3623.0028399999874\n",
      "3631.189029999982\n",
      "3646.3036799999836\n",
      "3484.383909999988\n",
      "3470.8172599999925\n",
      "3349.817119999991\n",
      "3614.919899999979\n",
      "3592.0671199999847\n",
      "3450.3726099999813\n",
      "3584.9571199999846\n",
      "3602.851769999982\n",
      "3515.5714699999876\n",
      "3706.292539999986\n",
      "3837.537829999981\n",
      "3548.2881899999875\n",
      "3629.4946199999813\n",
      "3384.335749999986\n",
      "3657.877119999985\n",
      "3463.4661199999887\n",
      "3494.5424699999726\n",
      "3724.521469999984\n",
      "3435.215119999983\n",
      "3504.999329999987\n",
      "3738.9112399999817\n",
      "3668.4460499999823\n",
      "3561.5260499999868\n",
      "3693.464979999979\n",
      "3824.468259999978\n",
      "3614.450399999988\n",
      "3481.5360499999815\n",
      "3508.2282599999853\n",
      "3715.6688299999764\n",
      "3483.862539999982\n",
      "3792.2204699999825\n",
      "3662.9703299999783\n",
      "3558.720239999983\n",
      "3553.5906999999834\n",
      "3553.748829999979\n",
      "3525.5917699999795\n",
      "3564.1103299999854\n",
      "3487.3328399999814\n",
      "3540.8581899999863\n",
      "3550.8303299999848\n",
      "3440.4103999999834\n",
      "3759.3525399999744\n",
      "3365.2604699999847\n",
      "3745.59039999998\n",
      "3558.626049999983\n",
      "3673.9581899999807\n",
      "3862.946049999978\n",
      "3648.872839999982\n",
      "3596.72825999998\n",
      "3552.7613999999826\n",
      "3549.622539999991\n",
      "3611.2271199999777\n",
      "3730.6329099999803\n",
      "3721.511109999987\n",
      "3532.7660499999793\n",
      "3441.291769999985\n",
      "3764.0613399999825\n",
      "3584.9206999999824\n",
      "3323.1036799999843\n",
      "3400.836049999985\n",
      "3648.523909999982\n",
      "3568.843909999987\n",
      "3717.698189999978\n",
      "3599.7998999999795\n",
      "3468.8939099999848\n",
      "3679.4467599999816\n",
      "3678.2646099999843\n",
      "3640.50497999998\n",
      "3583.5088999999807\n",
      "3825.5817399999783\n",
      "3264.8072599999896\n",
      "3564.940109999984\n"
     ]
    }
   ],
   "source": [
    "arr =[]\n",
    "for x in range(100):\n",
    "    clus_1=synthetic.Binary_Cluster(iso1, imf.IMFSalpeter1955(multiplicity=multiplicity.MultiplicityResolvedDK()), 10000, ifmr=ifmr.IFMR_Spera15())\n",
    "    arr.append(clus_1.star_systems['systemMass'].sum())"
   ]
  },
  {
   "cell_type": "code",
   "execution_count": 35,
   "metadata": {},
   "outputs": [
    {
     "name": "stdout",
     "output_type": "stream",
     "text": [
      "9728.829804052282\n"
     ]
    },
    {
     "data": {
      "text/plain": [
       "<matplotlib.legend.Legend at 0x7f8e85f19c50>"
      ]
     },
     "execution_count": 35,
     "metadata": {},
     "output_type": "execute_result"
    },
    {
     "data": {
      "image/png": "[encoded data removed]",
      "text/plain": [
       "<Figure size 432x288 with 1 Axes>"
      ]
     },
     "metadata": {
      "needs_background": "light"
     },
     "output_type": "display_data"
    }
   ],
   "source": [
    "import matplotlib.pyplot as plt\n",
    "hist, bins, patch = plt.hist(np.array(arr), bins=30, histtype='step', label='BPASS clusters with x mass')\n",
    "plt.title(\"BPASS cluster mass distribution (# of models within mass bin over mass)\")\n",
    "print(np.median(np.array(arr)))\n",
    "plt.legend()"
   ]
  },
  {
   "cell_type": "code",
   "execution_count": 15,
   "metadata": {},
   "outputs": [
    {
     "data": {
      "text/html": [
       "&lt;Column name=&apos;mass&apos; dtype=&apos;float64&apos; length=884&gt;\n",
       "<table>\n",
       "<tr><td>1.26</td></tr>\n",
       "<tr><td>1.05</td></tr>\n",
       "<tr><td>0.58</td></tr>\n",
       "<tr><td>1.0499999999999998</td></tr>\n",
       "<tr><td>0.6</td></tr>\n",
       "<tr><td>0.9199999999999999</td></tr>\n",
       "<tr><td>1.08</td></tr>\n",
       "<tr><td>0.7000000000000001</td></tr>\n",
       "<tr><td>0.8</td></tr>\n",
       "<tr><td>3.3</td></tr>\n",
       "<tr><td>4.9</td></tr>\n",
       "<tr><td>5.2</td></tr>\n",
       "<tr><td>...</td></tr>\n",
       "<tr><td>1.6</td></tr>\n",
       "<tr><td>0.84</td></tr>\n",
       "<tr><td>0.72</td></tr>\n",
       "<tr><td>0.6000000000000001</td></tr>\n",
       "<tr><td>1.2000000000000002</td></tr>\n",
       "<tr><td>0.8999999999999999</td></tr>\n",
       "<tr><td>0.85</td></tr>\n",
       "<tr><td>1.0499999999999998</td></tr>\n",
       "<tr><td>1.5</td></tr>\n",
       "<tr><td>0.44999999999999996</td></tr>\n",
       "<tr><td>0.8999999999999999</td></tr>\n",
       "<tr><td>2.7</td></tr>\n",
       "</table>"
      ],
      "text/plain": [
       "<Column name='mass' dtype='float64' length=884>\n",
       "               1.26\n",
       "               1.05\n",
       "               0.58\n",
       " 1.0499999999999998\n",
       "                0.6\n",
       " 0.9199999999999999\n",
       "               1.08\n",
       " 0.7000000000000001\n",
       "                0.8\n",
       "                3.3\n",
       "                4.9\n",
       "                5.2\n",
       "                ...\n",
       "                1.6\n",
       "               0.84\n",
       "               0.72\n",
       " 0.6000000000000001\n",
       " 1.2000000000000002\n",
       " 0.8999999999999999\n",
       "               0.85\n",
       " 1.0499999999999998\n",
       "                1.5\n",
       "0.44999999999999996\n",
       " 0.8999999999999999\n",
       "                2.7"
      ]
     },
     "execution_count": 15,
     "metadata": {},
     "output_type": "execute_result"
    }
   ],
   "source": [
    "clus_1.companions['mass']"
   ]
  },
  {
   "cell_type": "code",
   "execution_count": 16,
   "metadata": {},
   "outputs": [
    {
     "data": {
      "text/html": [
       "<i>Row index=3870</i>\n",
       "<table id=\"table140251923985184\">\n",
       "<thead><tr><th>mass</th><th>log_a</th><th>L</th><th>Teff</th><th>R</th><th>logg</th><th>isWR</th><th>mass_current</th><th>phase</th><th>merged</th><th>source</th><th>m_ubv_U</th><th>m_ubv_V</th><th>m_ubv_B</th><th>m_ubv_R</th><th>m_ubv_I</th></tr></thead>\n",
       "<thead><tr><th>solMass</th><th></th><th>W</th><th>K</th><th>m</th><th></th><th></th><th>solMass</th><th></th><th></th><th></th><th></th><th></th><th></th><th></th><th></th></tr></thead>\n",
       "<thead><tr><th>float64</th><th>float64</th><th>float64</th><th>float64</th><th>float64</th><th>float64</th><th>bool</th><th>float64</th><th>float64</th><th>bool</th><th>int64</th><th>float64</th><th>float64</th><th>float64</th><th>float64</th><th>float64</th></tr></thead>\n",
       "<tr><td>0.75</td><td>0.1568175913119707</td><td>6.788314098240859e+25</td><td>4486.937291847503</td><td>484553799.53693604</td><td>4.627342508276942</td><td>False</td><td>0.7500926</td><td>5.0</td><td>False</td><td>1</td><td>25.23537619599059</td><td>22.271478209362275</td><td>24.54907827269317</td><td>19.02139520340524</td><td>14.923078880784255</td></tr>\n",
       "</table>"
      ],
      "text/plain": [
       "<Row index=3870>\n",
       "  mass        log_a                  L                  Teff               R                 logg        isWR mass_current  phase  merged source      m_ubv_U           m_ubv_V            m_ubv_B           m_ubv_R           m_ubv_I      \n",
       "solMass                              W                   K                 m                                    solMass                                                                                                                     \n",
       "float64      float64              float64             float64           float64            float64       bool   float64    float64  bool  int64       float64           float64            float64           float64           float64      \n",
       "------- ------------------ --------------------- ----------------- ------------------ ----------------- ----- ------------ ------- ------ ------ ----------------- ------------------ ----------------- ----------------- ------------------\n",
       "   0.75 0.1568175913119707 6.788314098240859e+25 4486.937291847503 484553799.53693604 4.627342508276942 False    0.7500926     5.0  False      1 25.23537619599059 22.271478209362275 24.54907827269317 19.02139520340524 14.923078880784255"
      ]
     },
     "execution_count": 16,
     "metadata": {},
     "output_type": "execute_result"
    }
   ],
   "source": [
    "iso1.secondaries[3870]"
   ]
  },
  {
   "cell_type": "code",
   "execution_count": 17,
   "metadata": {},
   "outputs": [
    {
     "data": {
      "image/png": "[encoded data removed]",
      "text/plain": [
       "<Figure size 432x288 with 1 Axes>"
      ]
     },
     "metadata": {
      "needs_background": "light"
     },
     "output_type": "display_data"
    }
   ],
   "source": [
    "import matplotlib.pyplot as plt\n",
    "plt.hist(iso1.primaries['mass'], bins=30)\n",
    "plt.yscale('log')"
   ]
  },
  {
   "cell_type": "code",
   "execution_count": 18,
   "metadata": {},
   "outputs": [
    {
     "data": {
      "image/png": "[encoded data removed]",
      "text/plain": [
       "<Figure size 432x288 with 1 Axes>"
      ]
     },
     "metadata": {
      "needs_background": "light"
     },
     "output_type": "display_data"
    }
   ],
   "source": [
    "import matplotlib.pyplot as plt\n",
    "plt.hist(iso1.secondaries['mass'], bins=30)\n",
    "plt.yscale('log')"
   ]
  },
  {
   "cell_type": "code",
   "execution_count": 19,
   "metadata": {},
   "outputs": [
    {
     "data": {
      "image/png": "[encoded data removed]",
      "text/plain": [
       "<Figure size 432x288 with 1 Axes>"
      ]
     },
     "metadata": {
      "needs_background": "light"
     },
     "output_type": "display_data"
    }
   ],
   "source": [
    "import matplotlib.pyplot as plt\n",
    "plt.hist(iso1.singles['mass'], bins=30)\n",
    "plt.yscale('log')"
   ]
  },
  {
   "cell_type": "code",
   "execution_count": 20,
   "metadata": {},
   "outputs": [
    {
     "data": {
      "image/png": "[encoded data removed]",
      "text/plain": [
       "<Figure size 432x288 with 1 Axes>"
      ]
     },
     "metadata": {
      "needs_background": "light"
     },
     "output_type": "display_data"
    }
   ],
   "source": [
    "import matplotlib.pyplot as plt\n",
    "plt.hist(clus_1.star_systems['systemMass'], bins=30)\n",
    "plt.yscale('log')"
   ]
  },
  {
   "cell_type": "code",
   "execution_count": 21,
   "metadata": {},
   "outputs": [
    {
     "data": {
      "image/png": "[encoded data removed]",
      "text/plain": [
       "<Figure size 432x288 with 1 Axes>"
      ]
     },
     "metadata": {
      "needs_background": "light"
     },
     "output_type": "display_data"
    }
   ],
   "source": [
    "import matplotlib.pyplot as plt\n",
    "plt.hist(clus_2.star_systems['systemMass'], bins=30)\n",
    "plt.yscale('log')"
   ]
  },
  {
   "cell_type": "code",
   "execution_count": 22,
   "metadata": {},
   "outputs": [
    {
     "data": {
      "text/plain": [
       "<matplotlib.legend.Legend at 0x7f8ed5198cc0>"
      ]
     },
     "execution_count": 22,
     "metadata": {},
     "output_type": "execute_result"
    },
    {
     "data": {
      "image/png": "[encoded data removed]",
      "text/plain": [
       "<Figure size 432x288 with 1 Axes>"
      ]
     },
     "metadata": {
      "needs_background": "light"
     },
     "output_type": "display_data"
    }
   ],
   "source": [
    "hist, bins, patch = plt.hist(clus_1.star_systems['systemMass'], bins=30, histtype='step', label='BPASS')\n",
    "plt.hist(clus_2.star_systems['systemMass'], bins=bins, histtype='step', label='MISTv.1')\n",
    "plt.yscale('log')\n",
    "plt.legend()"
   ]
  },
  {
   "cell_type": "code",
   "execution_count": 23,
   "metadata": {},
   "outputs": [
    {
     "data": {
      "text/plain": [
       "<matplotlib.legend.Legend at 0x7f8ed4efada0>"
      ]
     },
     "execution_count": 23,
     "metadata": {},
     "output_type": "execute_result"
    },
    {
     "data": {
      "image/png": "[encoded data removed]",
      "text/plain": [
       "<Figure size 432x288 with 1 Axes>"
      ]
     },
     "metadata": {
      "needs_background": "light"
     },
     "output_type": "display_data"
    }
   ],
   "source": [
    "hist, bins, patch = plt.hist(clus_1.star_systems['systemMass'], bins=30, histtype='step', label='BPASS')\n",
    "plt.hist(clus_2.star_systems['systemMass'], bins=bins, histtype='step', label='MISTv.1')\n",
    "plt.yscale('log')\n",
    "plt.legend()"
   ]
  },
  {
   "cell_type": "code",
   "execution_count": 24,
   "metadata": {},
   "outputs": [
    {
     "data": {
      "text/plain": [
       "<matplotlib.legend.Legend at 0x7f8ed4ff2908>"
      ]
     },
     "execution_count": 24,
     "metadata": {},
     "output_type": "execute_result"
    },
    {
     "data": {
      "image/png": "[encoded data removed]",
      "text/plain": [
       "<Figure size 432x288 with 1 Axes>"
      ]
     },
     "metadata": {
      "needs_background": "light"
     },
     "output_type": "display_data"
    }
   ],
   "source": [
    "hist, bins, patch = plt.hist(clus_1.star_systems['mass'], bins=30, histtype='step', label='BPASS')\n",
    "plt.hist(clus_2.star_systems['mass'], bins=bins, histtype='step', label='MISTv.1')\n",
    "plt.yscale('log')\n",
    "plt.legend()"
   ]
  },
  {
   "cell_type": "code",
   "execution_count": 25,
   "metadata": {},
   "outputs": [
    {
     "data": {
      "text/plain": [
       "<matplotlib.legend.Legend at 0x7f8e81901748>"
      ]
     },
     "execution_count": 25,
     "metadata": {},
     "output_type": "execute_result"
    },
    {
     "data": {
      "image/png": "[encoded data removed]",
      "text/plain": [
       "<Figure size 432x288 with 1 Axes>"
      ]
     },
     "metadata": {
      "needs_background": "light"
     },
     "output_type": "display_data"
    }
   ],
   "source": [
    "hist, bins, patch = plt.hist(clus_1.companions['mass'], bins=30, histtype='step', label='BPASS')\n",
    "plt.hist(clus_2.companions['mass'], bins=30, histtype='step', label='MISTv.1')\n",
    "\n",
    "plt.yscale('log')\n",
    "plt.legend()"
   ]
  },
  {
   "cell_type": "code",
   "execution_count": null,
   "metadata": {},
   "outputs": [],
   "source": []
  },
  {
   "cell_type": "code",
   "execution_count": 26,
   "metadata": {},
   "outputs": [
    {
     "data": {
      "text/plain": [
       "9999.386386113034"
      ]
     },
     "execution_count": 26,
     "metadata": {},
     "output_type": "execute_result"
    }
   ],
   "source": [
    "# Comparison with the MIST v1 cluster\n",
    "clus_2.star_systems['systemMass'].sum()"
   ]
  },
  {
   "cell_type": "code",
   "execution_count": 27,
   "metadata": {},
   "outputs": [
    {
     "data": {
      "image/png": "[encoded data removed]",
      "text/plain": [
       "<Figure size 432x288 with 1 Axes>"
      ]
     },
     "metadata": {
      "needs_background": "light"
     },
     "output_type": "display_data"
    }
   ],
   "source": [
    "import matplotlib.pyplot as plt\n",
    "plt.hist(iso1.primaries['mass'], bins=30)\n",
    "plt.yscale('log')"
   ]
  },
  {
   "cell_type": "code",
   "execution_count": 28,
   "metadata": {},
   "outputs": [
    {
     "data": {
      "image/png": "[encoded data removed]",
      "text/plain": [
       "<Figure size 432x288 with 1 Axes>"
      ]
     },
     "metadata": {
      "needs_background": "light"
     },
     "output_type": "display_data"
    }
   ],
   "source": [
    "import matplotlib.pyplot as plt\n",
    "plt.hist(iso1.singles['mass'], bins=30)\n",
    "plt.yscale('log')"
   ]
  },
  {
   "cell_type": "code",
   "execution_count": 29,
   "metadata": {},
   "outputs": [
    {
     "data": {
      "image/png": "[encoded data removed]",
      "text/plain": [
       "<Figure size 432x288 with 1 Axes>"
      ]
     },
     "metadata": {
      "needs_background": "light"
     },
     "output_type": "display_data"
    }
   ],
   "source": [
    "import matplotlib.pyplot as plt\n",
    "plt.hist(iso1.secondaries['mass'], bins=30)\n",
    "plt.yscale('log')"
   ]
  },
  {
   "cell_type": "code",
   "execution_count": 30,
   "metadata": {},
   "outputs": [
    {
     "data": {
      "text/plain": [
       "(array([  10,   13,   15, ..., 4342, 4343, 4344]),)"
      ]
     },
     "execution_count": 30,
     "metadata": {},
     "output_type": "execute_result"
    }
   ],
   "source": [
    "import numpy as np\n",
    "np.where(iso1.secondaries['mass']>iso1.primaries['mass'])"
   ]
  },
  {
   "cell_type": "code",
   "execution_count": 31,
   "metadata": {},
   "outputs": [
    {
     "data": {
      "text/html": [
       "&lt;Column name=&apos;source&apos; dtype=&apos;int64&apos; length=3&gt;\n",
       "<table>\n",
       "<tr><td>2</td></tr>\n",
       "<tr><td>3</td></tr>\n",
       "<tr><td>4</td></tr>\n",
       "</table>"
      ],
      "text/plain": [
       "<Column name='source' dtype='int64' length=3>\n",
       "2\n",
       "3\n",
       "4"
      ]
     },
     "execution_count": 31,
     "metadata": {},
     "output_type": "execute_result"
    }
   ],
   "source": [
    "np.unique(iso1.primaries[np.where(iso1.secondaries['mass']>iso1.primaries['mass'])]['source'])"
   ]
  },
  {
   "cell_type": "code",
   "execution_count": 32,
   "metadata": {},
   "outputs": [
    {
     "data": {
      "text/plain": [
       "9999.386386113034"
      ]
     },
     "execution_count": 32,
     "metadata": {},
     "output_type": "execute_result"
    }
   ],
   "source": [
    "clus_2.star_systems['systemMass'].sum()"
   ]
  },
  {
   "cell_type": "code",
   "execution_count": 33,
   "metadata": {},
   "outputs": [
    {
     "name": "stderr",
     "output_type": "stream",
     "text": [
      "/opt/anaconda3/envs/astroconda/lib/python3.7/site-packages/numpy/lib/histograms.py:829: RuntimeWarning: invalid value encountered in greater_equal\n",
      "  keep = (tmp_a >= first_edge)\n",
      "/opt/anaconda3/envs/astroconda/lib/python3.7/site-packages/numpy/lib/histograms.py:830: RuntimeWarning: invalid value encountered in less_equal\n",
      "  keep &= (tmp_a <= last_edge)\n"
     ]
    },
    {
     "ename": "KeyError",
     "evalue": "'log_a'",
     "output_type": "error",
     "traceback": [
      "\u001b[0;31m---------------------------------------------------------------------------\u001b[0m",
      "\u001b[0;31mKeyError\u001b[0m                                  Traceback (most recent call last)",
      "\u001b[0;32m<ipython-input-33-a6943e167586>\u001b[0m in \u001b[0;36m<module>\u001b[0;34m\u001b[0m\n\u001b[1;32m      1\u001b[0m \u001b[0mhist\u001b[0m\u001b[0;34m,\u001b[0m \u001b[0mbins\u001b[0m\u001b[0;34m,\u001b[0m \u001b[0mpatch\u001b[0m \u001b[0;34m=\u001b[0m \u001b[0mplt\u001b[0m\u001b[0;34m.\u001b[0m\u001b[0mhist\u001b[0m\u001b[0;34m(\u001b[0m\u001b[0mclus_1\u001b[0m\u001b[0;34m.\u001b[0m\u001b[0mcompanions\u001b[0m\u001b[0;34m[\u001b[0m\u001b[0;34m'log_a'\u001b[0m\u001b[0;34m]\u001b[0m\u001b[0;34m,\u001b[0m \u001b[0mbins\u001b[0m\u001b[0;34m=\u001b[0m\u001b[0;36m30\u001b[0m\u001b[0;34m,\u001b[0m \u001b[0mhisttype\u001b[0m\u001b[0;34m=\u001b[0m\u001b[0;34m'step'\u001b[0m\u001b[0;34m,\u001b[0m \u001b[0mlabel\u001b[0m\u001b[0;34m=\u001b[0m\u001b[0;34m'BPASS'\u001b[0m\u001b[0;34m)\u001b[0m\u001b[0;34m\u001b[0m\u001b[0;34m\u001b[0m\u001b[0m\n\u001b[0;32m----> 2\u001b[0;31m \u001b[0mplt\u001b[0m\u001b[0;34m.\u001b[0m\u001b[0mhist\u001b[0m\u001b[0;34m(\u001b[0m\u001b[0mclus_2\u001b[0m\u001b[0;34m.\u001b[0m\u001b[0mcompanions\u001b[0m\u001b[0;34m[\u001b[0m\u001b[0;34m'log_a'\u001b[0m\u001b[0;34m]\u001b[0m\u001b[0;34m,\u001b[0m \u001b[0mbins\u001b[0m\u001b[0;34m=\u001b[0m\u001b[0;36m30\u001b[0m\u001b[0;34m,\u001b[0m \u001b[0mhisttype\u001b[0m\u001b[0;34m=\u001b[0m\u001b[0;34m'step'\u001b[0m\u001b[0;34m,\u001b[0m \u001b[0mlabel\u001b[0m\u001b[0;34m=\u001b[0m\u001b[0;34m'MISTv.1'\u001b[0m\u001b[0;34m)\u001b[0m\u001b[0;34m\u001b[0m\u001b[0;34m\u001b[0m\u001b[0m\n\u001b[0m\u001b[1;32m      3\u001b[0m \u001b[0mplt\u001b[0m\u001b[0;34m.\u001b[0m\u001b[0mlegend\u001b[0m\u001b[0;34m(\u001b[0m\u001b[0;34m)\u001b[0m\u001b[0;34m\u001b[0m\u001b[0;34m\u001b[0m\u001b[0m\n",
      "\u001b[0;32m/opt/anaconda3/envs/astroconda/lib/python3.7/site-packages/astropy/table/table.py\u001b[0m in \u001b[0;36m__getitem__\u001b[0;34m(self, item)\u001b[0m\n\u001b[1;32m   1600\u001b[0m     \u001b[0;32mdef\u001b[0m \u001b[0m__getitem__\u001b[0m\u001b[0;34m(\u001b[0m\u001b[0mself\u001b[0m\u001b[0;34m,\u001b[0m \u001b[0mitem\u001b[0m\u001b[0;34m)\u001b[0m\u001b[0;34m:\u001b[0m\u001b[0;34m\u001b[0m\u001b[0;34m\u001b[0m\u001b[0m\n\u001b[1;32m   1601\u001b[0m         \u001b[0;32mif\u001b[0m \u001b[0misinstance\u001b[0m\u001b[0;34m(\u001b[0m\u001b[0mitem\u001b[0m\u001b[0;34m,\u001b[0m \u001b[0mstr\u001b[0m\u001b[0;34m)\u001b[0m\u001b[0;34m:\u001b[0m\u001b[0;34m\u001b[0m\u001b[0;34m\u001b[0m\u001b[0m\n\u001b[0;32m-> 1602\u001b[0;31m             \u001b[0;32mreturn\u001b[0m \u001b[0mself\u001b[0m\u001b[0;34m.\u001b[0m\u001b[0mcolumns\u001b[0m\u001b[0;34m[\u001b[0m\u001b[0mitem\u001b[0m\u001b[0;34m]\u001b[0m\u001b[0;34m\u001b[0m\u001b[0;34m\u001b[0m\u001b[0m\n\u001b[0m\u001b[1;32m   1603\u001b[0m         \u001b[0;32melif\u001b[0m \u001b[0misinstance\u001b[0m\u001b[0;34m(\u001b[0m\u001b[0mitem\u001b[0m\u001b[0;34m,\u001b[0m \u001b[0;34m(\u001b[0m\u001b[0mint\u001b[0m\u001b[0;34m,\u001b[0m \u001b[0mnp\u001b[0m\u001b[0;34m.\u001b[0m\u001b[0minteger\u001b[0m\u001b[0;34m)\u001b[0m\u001b[0;34m)\u001b[0m\u001b[0;34m:\u001b[0m\u001b[0;34m\u001b[0m\u001b[0;34m\u001b[0m\u001b[0m\n\u001b[1;32m   1604\u001b[0m             \u001b[0;32mreturn\u001b[0m \u001b[0mself\u001b[0m\u001b[0;34m.\u001b[0m\u001b[0mRow\u001b[0m\u001b[0;34m(\u001b[0m\u001b[0mself\u001b[0m\u001b[0;34m,\u001b[0m \u001b[0mitem\u001b[0m\u001b[0;34m)\u001b[0m\u001b[0;34m\u001b[0m\u001b[0;34m\u001b[0m\u001b[0m\n",
      "\u001b[0;32m/opt/anaconda3/envs/astroconda/lib/python3.7/site-packages/astropy/table/table.py\u001b[0m in \u001b[0;36m__getitem__\u001b[0;34m(self, item)\u001b[0m\n\u001b[1;32m    237\u001b[0m         \"\"\"\n\u001b[1;32m    238\u001b[0m         \u001b[0;32mif\u001b[0m \u001b[0misinstance\u001b[0m\u001b[0;34m(\u001b[0m\u001b[0mitem\u001b[0m\u001b[0;34m,\u001b[0m \u001b[0mstr\u001b[0m\u001b[0;34m)\u001b[0m\u001b[0;34m:\u001b[0m\u001b[0;34m\u001b[0m\u001b[0;34m\u001b[0m\u001b[0m\n\u001b[0;32m--> 239\u001b[0;31m             \u001b[0;32mreturn\u001b[0m \u001b[0mOrderedDict\u001b[0m\u001b[0;34m.\u001b[0m\u001b[0m__getitem__\u001b[0m\u001b[0;34m(\u001b[0m\u001b[0mself\u001b[0m\u001b[0;34m,\u001b[0m \u001b[0mitem\u001b[0m\u001b[0;34m)\u001b[0m\u001b[0;34m\u001b[0m\u001b[0;34m\u001b[0m\u001b[0m\n\u001b[0m\u001b[1;32m    240\u001b[0m         \u001b[0;32melif\u001b[0m \u001b[0misinstance\u001b[0m\u001b[0;34m(\u001b[0m\u001b[0mitem\u001b[0m\u001b[0;34m,\u001b[0m \u001b[0;34m(\u001b[0m\u001b[0mint\u001b[0m\u001b[0;34m,\u001b[0m \u001b[0mnp\u001b[0m\u001b[0;34m.\u001b[0m\u001b[0minteger\u001b[0m\u001b[0;34m)\u001b[0m\u001b[0;34m)\u001b[0m\u001b[0;34m:\u001b[0m\u001b[0;34m\u001b[0m\u001b[0;34m\u001b[0m\u001b[0m\n\u001b[1;32m    241\u001b[0m             \u001b[0;32mreturn\u001b[0m \u001b[0mself\u001b[0m\u001b[0;34m.\u001b[0m\u001b[0mvalues\u001b[0m\u001b[0;34m(\u001b[0m\u001b[0;34m)\u001b[0m\u001b[0;34m[\u001b[0m\u001b[0mitem\u001b[0m\u001b[0;34m]\u001b[0m\u001b[0;34m\u001b[0m\u001b[0;34m\u001b[0m\u001b[0m\n",
      "\u001b[0;31mKeyError\u001b[0m: 'log_a'"
     ]
    },
    {
     "data": {
      "image/png": "[encoded data removed]",
      "text/plain": [
       "<Figure size 432x288 with 1 Axes>"
      ]
     },
     "metadata": {
      "needs_background": "light"
     },
     "output_type": "display_data"
    }
   ],
   "source": [
    "hist, bins, patch = plt.hist(clus_1.companions['log_a'], bins=30, histtype='step', label='BPASS')\n",
    "plt.hist(clus_2.companions['log_a'], bins=30, histtype='step', label='MISTv.1')\n",
    "plt.legend()"
   ]
  },
  {
   "cell_type": "code",
   "execution_count": null,
   "metadata": {},
   "outputs": [],
   "source": []
  },
  {
   "cell_type": "code",
   "execution_count": null,
   "metadata": {},
   "outputs": [],
   "source": []
  },
  {
   "cell_type": "code",
   "execution_count": null,
   "metadata": {},
   "outputs": [],
   "source": []
  },
  {
   "cell_type": "code",
   "execution_count": null,
   "metadata": {},
   "outputs": [],
   "source": []
  },
  {
   "cell_type": "code",
   "execution_count": null,
   "metadata": {},
   "outputs": [],
   "source": []
  }
 ],
 "metadata": {
  "kernelspec": {
   "display_name": "astroconda",
   "language": "python",
   "name": "astroconda"
  },
  "language_info": {
   "codemirror_mode": {
    "name": "ipython",
    "version": 3
   },
   "file_extension": ".py",
   "mimetype": "text/x-python",
   "name": "python",
   "nbconvert_exporter": "python",
   "pygments_lexer": "ipython3",
   "version": "3.7.3"
  }
 },
 "nbformat": 4,
 "nbformat_minor": 2
}
