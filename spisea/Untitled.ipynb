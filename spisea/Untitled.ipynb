{
 "cells": [
  {
   "cell_type": "code",
   "execution_count": 2,
   "metadata": {},
   "outputs": [
    {
     "data": {
      "text/plain": [
       "{'timestep': 0,\n",
       " 'age': 1,\n",
       " 'log(R1)': 2,\n",
       " 'log(T1)': 3,\n",
       " 'log(L1)': 4,\n",
       " 'M1': 5,\n",
       " 'He_core1': 6,\n",
       " 'CO_core1': 7,\n",
       " 'ONe_core1': 8,\n",
       " 'X': 10,\n",
       " 'Y': 11,\n",
       " 'C': 12,\n",
       " 'N': 13,\n",
       " 'O': 14,\n",
       " 'Ne': 15,\n",
       " 'MH1': 16,\n",
       " 'MHe1': 17,\n",
       " 'MC1': 18,\n",
       " 'MN1': 19,\n",
       " 'MO1': 20,\n",
       " 'MNe1': 21,\n",
       " 'MMg1': 22,\n",
       " 'MSi1': 23,\n",
       " 'MFe1': 24,\n",
       " 'envelope_binding_E': 25,\n",
       " 'star_binding_E': 26,\n",
       " 'Mrem_weakSN': 27,\n",
       " 'Mej_weakSN': 28,\n",
       " 'Mrem_SN': 29,\n",
       " 'Mej_SN': 30,\n",
       " 'Mrem_superSN': 31,\n",
       " 'Mej_superSN': 32,\n",
       " 'AM_bin': 33,\n",
       " 'P_bin': 34,\n",
       " 'log(a)': 35,\n",
       " 'M2': 37,\n",
       " 'MTOT': 38,\n",
       " 'DM1W': 39,\n",
       " 'DM2W': 40,\n",
       " 'DM1A': 41,\n",
       " 'DM2A': 42,\n",
       " 'DM1R': 43,\n",
       " 'DM2R': 44,\n",
       " 'DAM': 45,\n",
       " 'log(R2)': 46,\n",
       " 'log(T2)': 47,\n",
       " 'log(L2)': 48,\n",
       " '?': 49,\n",
       " 'modelimf': 50,\n",
       " 'mixedimf': 51,\n",
       " 'V-I': 52,\n",
       " 'U': 53,\n",
       " 'B': 54,\n",
       " 'V': 55,\n",
       " 'R': 56,\n",
       " 'I': 57,\n",
       " 'J': 58,\n",
       " 'H': 59,\n",
       " 'K': 60,\n",
       " 'u': 61,\n",
       " 'g': 62,\n",
       " 'r': 63,\n",
       " 'i': 64,\n",
       " 'z': 65,\n",
       " 'f300w': 66,\n",
       " 'f336w': 67,\n",
       " 'f435w': 68,\n",
       " 'f450w': 69,\n",
       " 'f555w': 70,\n",
       " 'f606w': 71,\n",
       " 'f814w': 72,\n",
       " 'U2': 73,\n",
       " 'B2': 74,\n",
       " 'V2': 75,\n",
       " 'R2': 76,\n",
       " 'I2': 77,\n",
       " 'J2': 78,\n",
       " 'H2': 79,\n",
       " 'K2': 80,\n",
       " 'u2': 81,\n",
       " 'g2': 82,\n",
       " 'r2': 83,\n",
       " 'i2': 84,\n",
       " 'z2': 85,\n",
       " 'f300w2': 86,\n",
       " 'f336w2': 87,\n",
       " 'f435w2': 88,\n",
       " 'f450w2': 89,\n",
       " 'f555w2': 90,\n",
       " 'f606w2': 91,\n",
       " 'f814w2': 92,\n",
       " 'Halpha': 93,\n",
       " 'FUV': 94,\n",
       " 'NUV': 95}"
      ]
     },
     "execution_count": 2,
     "metadata": {},
     "output_type": "execute_result"
    }
   ],
   "source": [
    "import hoki\n",
    "hoki.dummy_dict"
   ]
  },
  {
   "cell_type": "code",
   "execution_count": 3,
   "metadata": {},
   "outputs": [],
   "source": [
    "import sys\n",
    "sys.path.append(\"./WithPhotometryIsoFiles.py\")\n",
    "from WithPhotometryIsoFiles import reformatter, extractor"
   ]
  },
  {
   "cell_type": "code",
   "execution_count": 4,
   "metadata": {},
   "outputs": [
    {
     "ename": "NameError",
     "evalue": "name 'metallicity' is not defined",
     "output_type": "error",
     "traceback": [
      "\u001b[0;31m---------------------------------------------------------------------------\u001b[0m",
      "\u001b[0;31mNameError\u001b[0m                                 Traceback (most recent call last)",
      "\u001b[0;32m<ipython-input-4-e83b77c9e62a>\u001b[0m in \u001b[0;36m<module>\u001b[0;34m\u001b[0m\n\u001b[0;32m----> 1\u001b[0;31m \u001b[0mreformatter\u001b[0m\u001b[0;34m(\u001b[0m\u001b[0;34m\"/g/lu/scratch/ryotainagaki/TestingSecondariesPhot\"\u001b[0m\u001b[0;34m,\u001b[0m \u001b[0mmetallicity\u001b[0m\u001b[0;34m)\u001b[0m\u001b[0;34m\u001b[0m\u001b[0;34m\u001b[0m\u001b[0m\n\u001b[0m",
      "\u001b[0;31mNameError\u001b[0m: name 'metallicity' is not defined"
     ]
    }
   ],
   "source": [
    "reformatter(\"/g/lu/scratch/ryotainagaki/TestingSecondariesPhot\", [\"z020\"])"
   ]
  },
  {
   "cell_type": "code",
   "execution_count": null,
   "metadata": {},
   "outputs": [],
   "source": []
  }
 ],
 "metadata": {
  "kernelspec": {
   "display_name": "astroconda",
   "language": "python",
   "name": "astroconda"
  },
  "language_info": {
   "codemirror_mode": {
    "name": "ipython",
    "version": 3
   },
   "file_extension": ".py",
   "mimetype": "text/x-python",
   "name": "python",
   "nbconvert_exporter": "python",
   "pygments_lexer": "ipython3",
   "version": "3.7.3"
  }
 },
 "nbformat": 4,
 "nbformat_minor": 2
}
