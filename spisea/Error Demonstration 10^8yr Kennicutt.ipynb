{
 "cells": [
  {
   "cell_type": "markdown",
   "metadata": {},
   "source": [
    "## Testing the BPASS cluster at 10^7 years age.\n",
    "Here, I try to create a 10000 solar mass BPASS cluster and ResolvedCluster. **This is to demonstrate the issue I have with the mass-matching inside of the Binary_Cluster implementation.**"
   ]
  },
  {
   "cell_type": "code",
   "execution_count": 1,
   "metadata": {},
   "outputs": [
    {
     "name": "stderr",
     "output_type": "stream",
     "text": [
      "/opt/anaconda3/envs/astroconda/lib/python3.7/site-packages/pysynphot/locations.py:346: UserWarning: Extinction files not found in /g/lu/models/cdbs/extinction\n",
      "  warnings.warn('Extinction files not found in %s' % (extdir, ))\n",
      "/opt/anaconda3/envs/astroconda/lib/python3.7/site-packages/pysynphot/refs.py:125: UserWarning: No thermal tables found, no thermal calculations can be performed. No files found for /g/lu/models/cdbs/mtab/*_tmt.fits\n",
      "  'no thermal calculations can be performed. ' + str(e))\n",
      "/opt/anaconda3/envs/astroconda/lib/python3.7/site-packages/astropy/units/quantity.py:477: RuntimeWarning: invalid value encountered in true_divide\n",
      "  result = super().__array_ufunc__(function, method, *arrays, **kwargs)\n",
      "/u/ryotainagaki/Desktop/PyPopStar/spisea/evolution.py:1771: RuntimeWarning: overflow encountered in power\n",
      "  (1 / cs.au) * un.m)\n",
      "/opt/anaconda3/envs/astroconda/lib/python3.7/site-packages/astropy/table/column.py:1020: RuntimeWarning: invalid value encountered in greater\n",
      "  result = getattr(super(), op)(other)\n",
      "/opt/anaconda3/envs/astroconda/lib/python3.7/site-packages/astropy/table/column.py:1020: RuntimeWarning: invalid value encountered in less_equal\n",
      "  result = getattr(super(), op)(other)\n",
      "/opt/anaconda3/envs/astroconda/lib/python3.7/site-packages/astropy/units/quantity.py:477: RuntimeWarning: divide by zero encountered in true_divide\n",
      "  result = super().__array_ufunc__(function, method, *arrays, **kwargs)\n"
     ]
    },
    {
     "name": "stdout",
     "output_type": "stream",
     "text": [
      "Changing to T= 50000 for T= 60160 logg=8.71\n",
      "Changing to logg=5.00 for T= 60160 logg=8.71\n",
      "Changing to T= 50000 for T= 50085 logg=8.82\n",
      "Changing to logg=5.00 for T= 50085 logg=8.82\n",
      "Changing to logg=5.00 for T= 49702 logg=9.10\n",
      "Changing to T= 50000 for T= 64620 logg=8.69\n",
      "Changing to logg=5.00 for T= 64620 logg=8.69\n",
      "Changing to T= 50000 for T= 53296 logg=8.79\n",
      "Changing to logg=5.00 for T= 53296 logg=8.79\n",
      "Changing to T= 50000 for T= 75621 logg=8.66\n",
      "Changing to logg=5.00 for T= 75621 logg=8.66\n",
      "Changing to T= 50000 for T= 53966 logg=9.24\n",
      "Changing to logg=5.00 for T= 53966 logg=9.24\n",
      "Changing to T= 50000 for T= 50718 logg=8.85\n",
      "Changing to logg=5.00 for T= 50718 logg=8.85\n",
      "Changing to T= 50000 for T=100000 logg=8.64\n",
      "Changing to logg=5.00 for T=100000 logg=8.64\n",
      "Changing to logg=5.00 for T= 47667 logg=8.88\n",
      "Changing to logg=5.00 for T= 47530 logg=9.02\n",
      "Changing to T= 50000 for T= 56329 logg=8.74\n",
      "Changing to logg=5.00 for T= 56329 logg=8.74\n",
      "Changing to T= 50000 for T= 51229 logg=9.29\n",
      "Changing to logg=5.00 for T= 51229 logg=9.29\n",
      "Changing to T= 50000 for T= 51372 logg=9.29\n",
      "Changing to logg=5.00 for T= 51372 logg=9.29\n",
      "Changing to logg=5.00 for T= 46425 logg=8.98\n",
      "Changing to logg=5.00 for T= 49887 logg=8.96\n",
      "Changing to logg=5.00 for T= 48720 logg=8.92\n",
      "Changing to logg=5.00 for T= 46489 logg=5.36\n",
      "Changing to T= 50000 for T= 50035 logg=8.97\n",
      "Changing to logg=5.00 for T= 50035 logg=8.97\n",
      "Changing to logg=5.00 for T= 33948 logg=8.42\n",
      "Changing to T= 50000 for T= 62444 logg=8.63\n",
      "Changing to logg=5.00 for T= 62444 logg=8.63\n",
      "Changing to T= 50000 for T= 60141 logg=5.53\n",
      "Changing to logg=5.00 for T= 60141 logg=5.53\n",
      "Changing to T= 50000 for T=100000 logg=8.63\n",
      "Changing to logg=5.00 for T=100000 logg=8.63\n",
      "Changing to T= 50000 for T=100000 logg=8.63\n",
      "Changing to logg=5.00 for T=100000 logg=8.63\n",
      "Changing to T= 50000 for T=100000 logg=8.63\n",
      "Changing to logg=5.00 for T=100000 logg=8.63\n",
      "Changing to T= 50000 for T= 54038 logg=8.81\n",
      "Changing to logg=5.00 for T= 54038 logg=8.81\n",
      "Changing to logg=5.00 for T= 37872 logg=8.29\n",
      "Changing to T= 50000 for T=100000 logg=8.63\n",
      "Changing to logg=5.00 for T=100000 logg=8.63\n",
      "Changing to T= 50000 for T= 50272 logg=8.97\n",
      "Changing to logg=5.00 for T= 50272 logg=8.97\n",
      "Changing to T= 50000 for T= 50817 logg=9.28\n",
      "Changing to logg=5.00 for T= 50817 logg=9.28\n",
      "Changing to T= 50000 for T= 50272 logg=8.97\n",
      "Changing to logg=5.00 for T= 50272 logg=8.97\n",
      "Changing to logg=5.00 for T= 34344 logg=8.42\n",
      "Changing to T= 50000 for T= 50272 logg=8.97\n",
      "Changing to logg=5.00 for T= 50272 logg=8.97\n",
      "Changing to T= 50000 for T=100000 logg=8.63\n",
      "Changing to logg=5.00 for T=100000 logg=8.63\n",
      "Changing to logg=5.00 for T= 43707 logg=5.10\n",
      "Changing to logg=5.00 for T= 40542 logg=5.46\n",
      "Changing to T= 50000 for T=100000 logg=8.63\n",
      "Changing to logg=5.00 for T=100000 logg=8.63\n",
      "Changing to T= 50000 for T=100000 logg=8.71\n",
      "Changing to logg=5.00 for T=100000 logg=8.71\n",
      "Changing to T= 50000 for T= 50831 logg=9.28\n",
      "Changing to logg=5.00 for T= 50831 logg=9.28\n",
      "Changing to T= 50000 for T=100000 logg=9.07\n",
      "Changing to logg=5.00 for T=100000 logg=9.07\n",
      "Changing to logg=5.00 for T= 33736 logg=8.42\n",
      "Changing to T= 50000 for T= 50336 logg=8.69\n",
      "Changing to logg=5.00 for T= 50336 logg=8.69\n",
      "Changing to T= 50000 for T=100000 logg=8.63\n",
      "Changing to logg=5.00 for T=100000 logg=8.63\n",
      "Changing to T= 50000 for T= 50962 logg=9.28\n",
      "Changing to logg=5.00 for T= 50962 logg=9.28\n",
      "Changing to T= 50000 for T=100000 logg=8.63\n",
      "Changing to logg=5.00 for T=100000 logg=8.63\n",
      "Changing to logg=5.00 for T= 46289 logg=5.27\n",
      "Changing to logg=4.50 for T= 39443 logg=4.38\n",
      "Changing to logg=5.00 for T= 46438 logg=5.35\n",
      "Changing to logg=5.00 for T= 46419 logg=5.34\n",
      "Changing to logg=5.00 for T= 46450 logg=5.35\n",
      "Changing to T= 50000 for T= 51079 logg=9.28\n",
      "Changing to logg=5.00 for T= 51079 logg=9.28\n",
      "Changing to T= 50000 for T= 50275 logg=8.97\n",
      "Changing to logg=5.00 for T= 50275 logg=8.97\n",
      "Changing to T= 50000 for T= 54051 logg=8.81\n",
      "Changing to logg=5.00 for T= 54051 logg=8.81\n",
      "Changing to T= 50000 for T=100000 logg=8.63\n",
      "Changing to logg=5.00 for T=100000 logg=8.63\n",
      "Changing to T= 50000 for T=100000 logg=8.63\n",
      "Changing to logg=5.00 for T=100000 logg=8.63\n",
      "Changing to T= 50000 for T= 51131 logg=9.29\n",
      "Changing to logg=5.00 for T= 51131 logg=9.29\n",
      "Changing to logg=5.00 for T= 38340 logg=5.50\n",
      "Changing to T= 50000 for T= 50817 logg=9.28\n",
      "Changing to logg=5.00 for T= 50817 logg=9.28\n",
      "Changing to T= 50000 for T= 54044 logg=8.81\n",
      "Changing to logg=5.00 for T= 54044 logg=8.81\n",
      "Changing to T= 50000 for T= 50272 logg=8.97\n",
      "Changing to logg=5.00 for T= 50272 logg=8.97\n",
      "Changing to T= 50000 for T= 94737 logg=4.90\n",
      "Changing to logg=5.00 for T= 94737 logg=4.90\n",
      "Changing to T= 50000 for T= 50817 logg=9.28\n",
      "Changing to logg=5.00 for T= 50817 logg=9.28\n",
      "Changing to T= 50000 for T= 50009 logg=8.96\n",
      "Changing to logg=5.00 for T= 50009 logg=8.96\n",
      "Changing to T= 50000 for T= 50817 logg=9.28\n",
      "Changing to logg=5.00 for T= 50817 logg=9.28\n",
      "Changing to T= 50000 for T= 50274 logg=8.97\n",
      "Changing to logg=5.00 for T= 50274 logg=8.97\n",
      "Changing to logg=5.00 for T= 46241 logg=5.32\n",
      "Changing to T= 50000 for T= 50085 logg=5.51\n",
      "Changing to logg=5.00 for T= 50085 logg=5.51\n",
      "Changing to logg=5.00 for T= 44905 logg=5.44\n",
      "Changing to T= 50000 for T= 50261 logg=8.97\n",
      "Changing to logg=5.00 for T= 50261 logg=8.97\n",
      "Changing to logg=5.00 for T= 33577 logg=8.41\n",
      "Changing to T= 50000 for T= 50272 logg=8.97\n",
      "Changing to logg=5.00 for T= 50272 logg=8.97\n",
      "Changing to T= 50000 for T=100000 logg=8.63\n",
      "Changing to logg=5.00 for T=100000 logg=8.63\n",
      "Changing to T= 50000 for T= 50288 logg=8.97\n",
      "Changing to logg=5.00 for T= 50288 logg=8.97\n",
      "Changing to logg=5.00 for T= 48805 logg=9.21\n",
      "Changing to logg=5.00 for T= 41801 logg=5.63\n",
      "Changing to T= 50000 for T= 50820 logg=9.28\n",
      "Changing to logg=5.00 for T= 50820 logg=9.28\n",
      "Changing to T= 50000 for T= 57436 logg=9.21\n",
      "Changing to logg=5.00 for T= 57436 logg=9.21\n",
      "Changing to T= 50000 for T=100000 logg=8.63\n",
      "Changing to logg=5.00 for T=100000 logg=8.63\n",
      "Changing to T= 50000 for T= 50272 logg=8.97\n",
      "Changing to logg=5.00 for T= 50272 logg=8.97\n",
      "Changing to T= 50000 for T= 50067 logg=8.97\n",
      "Changing to logg=5.00 for T= 50067 logg=8.97\n",
      "Changing to logg=5.00 for T= 36878 logg=5.65\n",
      "Changing to T= 50000 for T= 50817 logg=9.28\n",
      "Changing to logg=5.00 for T= 50817 logg=9.28\n",
      "Changing to T= 50000 for T= 50817 logg=9.28\n",
      "Changing to logg=5.00 for T= 50817 logg=9.28\n",
      "Changing to T= 50000 for T= 54015 logg=8.81\n",
      "Changing to logg=5.00 for T= 54015 logg=8.81\n",
      "Changing to logg=5.00 for T= 34200 logg=8.43\n",
      "Changing to logg=5.00 for T= 48904 logg=9.21\n",
      "Changing to T= 50000 for T= 50109 logg=8.97\n",
      "Changing to logg=5.00 for T= 50109 logg=8.97\n",
      "Changing to T= 50000 for T= 50272 logg=8.97\n",
      "Changing to logg=5.00 for T= 50272 logg=8.97\n",
      "Changing to T= 50000 for T= 50267 logg=8.97\n",
      "Changing to logg=5.00 for T= 50267 logg=8.97\n",
      "Changing to T= 50000 for T= 67478 logg=8.91\n",
      "Changing to logg=5.00 for T= 67478 logg=8.91\n",
      "Changing to logg=5.00 for T= 35069 logg=8.36\n",
      "Changing to T= 50000 for T=100000 logg=8.63\n",
      "Changing to logg=5.00 for T=100000 logg=8.63\n",
      "Changing to T= 50000 for T= 90784 logg=4.79\n",
      "Changing to logg=5.00 for T= 90784 logg=4.79\n",
      "Changing to logg=5.00 for T= 34323 logg=8.40\n",
      "Changing to T= 50000 for T= 50817 logg=9.28\n",
      "Changing to logg=5.00 for T= 50817 logg=9.28\n",
      "Changing to T= 50000 for T= 50817 logg=9.28\n",
      "Changing to logg=5.00 for T= 50817 logg=9.28\n",
      "Changing to T= 50000 for T= 53964 logg=8.81\n",
      "Changing to logg=5.00 for T= 53964 logg=8.81\n",
      "Changing to T= 50000 for T= 50100 logg=8.97\n",
      "Changing to logg=5.00 for T= 50100 logg=8.97\n",
      "Changing to logg=5.00 for T= 44669 logg=5.49\n",
      "Changing to T= 50000 for T= 50817 logg=9.28\n",
      "Changing to logg=5.00 for T= 50817 logg=9.28\n",
      "Changing to logg=5.00 for T= 46289 logg=5.33\n",
      "Changing to T= 50000 for T=100000 logg=8.63\n",
      "Changing to logg=5.00 for T=100000 logg=8.63\n",
      "Changing to T= 50000 for T= 50817 logg=9.28\n",
      "Changing to logg=5.00 for T= 50817 logg=9.28\n",
      "Changing to logg=5.00 for T= 35226 logg=8.32\n",
      "Changing to logg=5.00 for T= 44680 logg=5.49\n",
      "Changing to logg=5.00 for T= 46182 logg=5.30\n",
      "Changing to T= 50000 for T= 50817 logg=9.28\n",
      "Changing to logg=5.00 for T= 50817 logg=9.28\n",
      "Changing to T= 50000 for T= 57436 logg=9.21\n",
      "Changing to logg=5.00 for T= 57436 logg=9.21\n",
      "Changing to logg=5.00 for T= 34626 logg=8.40\n",
      "Changing to T= 50000 for T= 50817 logg=9.28\n",
      "Changing to logg=5.00 for T= 50817 logg=9.28\n"
     ]
    },
    {
     "name": "stdout",
     "output_type": "stream",
     "text": [
      "Changing to T= 50000 for T= 50817 logg=9.28\n",
      "Changing to logg=5.00 for T= 50817 logg=9.28\n",
      "Changing to T= 50000 for T= 50272 logg=8.97\n",
      "Changing to logg=5.00 for T= 50272 logg=8.97\n",
      "Changing to T= 50000 for T=100000 logg=8.63\n",
      "Changing to logg=5.00 for T=100000 logg=8.63\n",
      "Changing to T= 50000 for T= 50272 logg=8.97\n",
      "Changing to logg=5.00 for T= 50272 logg=8.97\n",
      "Changing to logg=5.00 for T= 46215 logg=5.34\n",
      "Changing to logg=5.00 for T= 41610 logg=5.64\n",
      "Changing to logg=5.00 for T= 46121 logg=5.35\n",
      "Changing to logg=5.00 for T= 46390 logg=5.34\n",
      "Changing to logg=5.00 for T= 33349 logg=8.41\n",
      "Changing to logg=5.00 for T= 34029 logg=8.40\n",
      "Changing to T= 50000 for T= 50272 logg=8.97\n",
      "Changing to logg=5.00 for T= 50272 logg=8.97\n",
      "Changing to T= 50000 for T=100000 logg=8.63\n",
      "Changing to logg=5.00 for T=100000 logg=8.63\n",
      "Changing to T= 50000 for T=100000 logg=8.63\n",
      "Changing to logg=5.00 for T=100000 logg=8.63\n",
      "Changing to T= 50000 for T= 99435 logg=9.29\n",
      "Changing to logg=5.00 for T= 99435 logg=9.29\n",
      "Changing to logg=5.00 for T= 49999 logg=8.96\n",
      "Changing to T= 50000 for T= 50817 logg=9.28\n",
      "Changing to logg=5.00 for T= 50817 logg=9.28\n",
      "Changing to T= 50000 for T= 54035 logg=8.81\n",
      "Changing to logg=5.00 for T= 54035 logg=8.81\n",
      "Changing to T= 50000 for T= 50817 logg=9.28\n",
      "Changing to logg=5.00 for T= 50817 logg=9.28\n",
      "Changing to logg=5.00 for T= 49509 logg=9.23\n",
      "Changing to logg=5.00 for T= 45794 logg=5.39\n",
      "Changing to logg=5.00 for T= 41311 logg=5.64\n",
      "Changing to T= 50000 for T= 97867 logg=8.64\n",
      "Changing to logg=5.00 for T= 97867 logg=8.64\n",
      "Changing to logg=5.00 for T= 45316 logg=5.33\n",
      "Changing to T= 50000 for T= 50272 logg=8.97\n",
      "Changing to logg=5.00 for T= 50272 logg=8.97\n",
      "Changing to T= 50000 for T= 54012 logg=8.81\n",
      "Changing to logg=5.00 for T= 54012 logg=8.81\n",
      "Changing to T= 50000 for T= 50817 logg=9.28\n",
      "Changing to logg=5.00 for T= 50817 logg=9.28\n",
      "Changing to logg=1.50 for T=  8915 logg=0.70\n",
      "Changing to T= 50000 for T=100000 logg=8.63\n",
      "Changing to logg=5.00 for T=100000 logg=8.63\n",
      "Changing to T= 50000 for T= 50272 logg=8.97\n",
      "Changing to logg=5.00 for T= 50272 logg=8.97\n",
      "Changing to logg=5.00 for T= 46247 logg=5.32\n",
      "Changing to T= 50000 for T=100000 logg=8.63\n",
      "Changing to logg=5.00 for T=100000 logg=8.63\n",
      "Changing to T= 50000 for T=100000 logg=8.63\n",
      "Changing to logg=5.00 for T=100000 logg=8.63\n",
      "Changing to T= 50000 for T= 50272 logg=8.97\n",
      "Changing to logg=5.00 for T= 50272 logg=8.97\n",
      "Changing to T= 50000 for T= 50817 logg=9.28\n",
      "Changing to logg=5.00 for T= 50817 logg=9.28\n",
      "Changing to T= 50000 for T=100000 logg=8.63\n",
      "Changing to logg=5.00 for T=100000 logg=8.63\n",
      "Changing to logg=5.00 for T= 45932 logg=5.41\n",
      "Changing to logg=5.00 for T= 45957 logg=5.33\n",
      "Changing to T= 50000 for T= 53918 logg=8.81\n",
      "Changing to logg=5.00 for T= 53918 logg=8.81\n",
      "Changing to T= 50000 for T= 54031 logg=8.81\n",
      "Changing to logg=5.00 for T= 54031 logg=8.81\n",
      "Changing to T= 50000 for T=100000 logg=8.63\n",
      "Changing to logg=5.00 for T=100000 logg=8.63\n",
      "Changing to logg=5.00 for T= 45803 logg=5.40\n",
      "Changing to T= 50000 for T= 50817 logg=9.28\n",
      "Changing to logg=5.00 for T= 50817 logg=9.28\n",
      "Changing to T= 50000 for T= 50817 logg=9.28\n",
      "Changing to logg=5.00 for T= 50817 logg=9.28\n",
      "Changing to T= 50000 for T= 67478 logg=8.91\n",
      "Changing to logg=5.00 for T= 67478 logg=8.91\n",
      "Changing to logg=5.00 for T= 46364 logg=5.34\n",
      "Changing to T= 50000 for T= 97847 logg=8.64\n",
      "Changing to logg=5.00 for T= 97847 logg=8.64\n",
      "Changing to T= 50000 for T=100000 logg=8.63\n",
      "Changing to logg=5.00 for T=100000 logg=8.63\n",
      "Changing to T= 50000 for T= 50272 logg=8.97\n",
      "Changing to logg=5.00 for T= 50272 logg=8.97\n",
      "Changing to T= 50000 for T=100000 logg=8.63\n",
      "Changing to logg=5.00 for T=100000 logg=8.63\n",
      "Changing to T= 50000 for T= 50272 logg=8.97\n",
      "Changing to logg=5.00 for T= 50272 logg=8.97\n",
      "Changing to T= 50000 for T=100000 logg=8.64\n",
      "Changing to logg=5.00 for T=100000 logg=8.64\n",
      "Changing to logg=5.00 for T= 44930 logg=5.43\n",
      "Changing to logg=5.00 for T= 44583 logg=5.49\n",
      "Changing to logg=5.00 for T= 46296 logg=5.32\n",
      "Changing to T= 50000 for T= 57436 logg=9.21\n",
      "Changing to logg=5.00 for T= 57436 logg=9.21\n",
      "Changing to T= 50000 for T= 50618 logg=9.27\n",
      "Changing to logg=5.00 for T= 50618 logg=9.27\n",
      "Changing to logg=5.00 for T= 43431 logg=5.62\n",
      "Changing to logg=5.00 for T= 44986 logg=5.45\n",
      "Changing to logg=5.00 for T= 45837 logg=5.33\n",
      "Changing to T= 50000 for T=100000 logg=8.63\n",
      "Changing to logg=5.00 for T=100000 logg=8.63\n",
      "Changing to T= 50000 for T=100000 logg=8.63\n",
      "Changing to logg=5.00 for T=100000 logg=8.63\n",
      "Changing to T= 50000 for T= 50937 logg=9.28\n",
      "Changing to logg=5.00 for T= 50937 logg=9.28\n",
      "Changing to T= 50000 for T= 50272 logg=8.97\n",
      "Changing to logg=5.00 for T= 50272 logg=8.97\n",
      "Changing to logg=5.00 for T= 42381 logg=5.58\n",
      "Changing to T= 50000 for T= 50857 logg=9.28\n",
      "Changing to logg=5.00 for T= 50857 logg=9.28\n",
      "Changing to logg=5.00 for T= 46128 logg=5.37\n",
      "Changing to logg=5.00 for T= 44287 logg=5.53\n",
      "Changing to T= 50000 for T= 50294 logg=8.97\n",
      "Changing to logg=5.00 for T= 50294 logg=8.97\n",
      "Changing to T= 50000 for T= 50069 logg=8.97\n",
      "Changing to logg=5.00 for T= 50069 logg=8.97\n",
      "Changing to logg=5.00 for T= 45220 logg=5.39\n",
      "Changing to T= 50000 for T=100000 logg=8.63\n",
      "Changing to logg=5.00 for T=100000 logg=8.63\n",
      "Changing to logg=5.00 for T= 46177 logg=5.28\n",
      "Changing to T= 50000 for T= 54028 logg=8.81\n",
      "Changing to logg=5.00 for T= 54028 logg=8.81\n",
      "Changing to logg=3.00 for T= 20102 logg=2.11\n",
      "Changing to logg=5.00 for T= 37296 logg=5.59\n",
      "Changing to T= 50000 for T= 50817 logg=9.28\n",
      "Changing to logg=5.00 for T= 50817 logg=9.28\n",
      "Changing to T= 50000 for T= 50272 logg=8.97\n",
      "Changing to logg=5.00 for T= 50272 logg=8.97\n",
      "Changing to T= 50000 for T= 50817 logg=9.28\n",
      "Changing to logg=5.00 for T= 50817 logg=9.28\n",
      "Changing to logg=5.00 for T= 45545 logg=5.34\n",
      "Changing to T= 50000 for T= 67478 logg=8.91\n",
      "Changing to logg=5.00 for T= 67478 logg=8.91\n",
      "Changing to logg=5.00 for T= 44791 logg=5.47\n",
      "Changing to logg=5.00 for T= 35070 logg=8.43\n",
      "Changing to logg=5.00 for T= 41195 logg=5.40\n",
      "Changing to logg=5.00 for T= 41813 logg=5.61\n",
      "Changing to T= 50000 for T= 50272 logg=8.97\n",
      "Changing to logg=5.00 for T= 50272 logg=8.97\n",
      "Changing to T= 50000 for T= 50272 logg=8.97\n",
      "Changing to logg=5.00 for T= 50272 logg=8.97\n",
      "Changing to T= 50000 for T= 50272 logg=8.97\n",
      "Changing to logg=5.00 for T= 50272 logg=8.97\n",
      "Changing to T= 50000 for T= 50272 logg=8.97\n",
      "Changing to logg=5.00 for T= 50272 logg=8.97\n",
      "Changing to T= 50000 for T= 50272 logg=8.97\n",
      "Changing to logg=5.00 for T= 50272 logg=8.97\n",
      "Changing to T= 50000 for T=100000 logg=8.63\n",
      "Changing to logg=5.00 for T=100000 logg=8.63\n",
      "Changing to T= 50000 for T=100000 logg=8.63\n",
      "Changing to logg=5.00 for T=100000 logg=8.63\n",
      "Changing to logg=5.00 for T= 37594 logg=5.60\n",
      "Changing to logg=5.00 for T= 33511 logg=8.41\n",
      "Changing to T= 50000 for T= 50817 logg=9.28\n",
      "Changing to logg=5.00 for T= 50817 logg=9.28\n",
      "Changing to logg=5.00 for T= 44527 logg=5.51\n",
      "Changing to logg=5.00 for T= 39220 logg=5.45\n",
      "Changing to T= 50000 for T= 90828 logg=4.79\n",
      "Changing to logg=5.00 for T= 90828 logg=4.79\n",
      "Changing to T= 50000 for T=146764 logg=5.69\n",
      "Changing to logg=5.00 for T=146764 logg=5.69\n",
      "Changing to T= 50000 for T= 97980 logg=8.64\n",
      "Changing to logg=5.00 for T= 97980 logg=8.64\n",
      "Changing to logg=5.00 for T= 48889 logg=9.21\n",
      "Changing to logg=5.00 for T= 35532 logg=8.39\n",
      "Changing to logg=5.00 for T= 33243 logg=8.37\n",
      "Changing to logg=5.00 for T= 48716 logg=9.20\n",
      "Changing to T= 50000 for T= 50272 logg=8.97\n",
      "Changing to logg=5.00 for T= 50272 logg=8.97\n",
      "Changing to T= 50000 for T= 50817 logg=9.28\n",
      "Changing to logg=5.00 for T= 50817 logg=9.28\n",
      "Changing to T= 50000 for T= 52512 logg=9.05\n",
      "Changing to logg=5.00 for T= 52512 logg=9.05\n",
      "Changing to T= 50000 for T= 50215 logg=8.97\n",
      "Changing to logg=5.00 for T= 50215 logg=8.97\n",
      "Changing to T= 50000 for T= 50817 logg=9.28\n",
      "Changing to logg=5.00 for T= 50817 logg=9.28\n",
      "Changing to logg=5.00 for T= 34746 logg=8.43\n",
      "Changing to T= 50000 for T= 50016 logg=8.96\n",
      "Changing to logg=5.00 for T= 50016 logg=8.96\n",
      "Changing to T= 50000 for T= 50272 logg=8.97\n",
      "Changing to logg=5.00 for T= 50272 logg=8.97\n",
      "Changing to logg=5.00 for T= 34881 logg=8.38\n",
      "Changing to T= 50000 for T= 50821 logg=9.28\n",
      "Changing to logg=5.00 for T= 50821 logg=9.28\n",
      "Changing to logg=5.00 for T= 46460 logg=5.35\n",
      "Changing to logg=5.00 for T= 34095 logg=8.38\n",
      "Changing to T= 50000 for T= 50693 logg=9.27\n",
      "Changing to logg=5.00 for T= 50693 logg=9.27\n"
     ]
    },
    {
     "name": "stdout",
     "output_type": "stream",
     "text": [
      "Changing to T= 50000 for T=100000 logg=8.64\n",
      "Changing to logg=5.00 for T=100000 logg=8.64\n",
      "Changing to logg=5.00 for T= 41182 logg=5.64\n",
      "Changing to T= 50000 for T= 50272 logg=8.97\n",
      "Changing to logg=5.00 for T= 50272 logg=8.97\n",
      "Changing to T= 50000 for T= 50818 logg=9.28\n",
      "Changing to logg=5.00 for T= 50818 logg=9.28\n",
      "Changing to T= 50000 for T=100000 logg=8.63\n",
      "Changing to logg=5.00 for T=100000 logg=8.63\n",
      "Changing to T= 50000 for T= 50272 logg=8.97\n",
      "Changing to logg=5.00 for T= 50272 logg=8.97\n",
      "Changing to T= 50000 for T= 50272 logg=8.97\n",
      "Changing to logg=5.00 for T= 50272 logg=8.97\n",
      "Changing to T= 50000 for T= 51161 logg=9.29\n",
      "Changing to logg=5.00 for T= 51161 logg=9.29\n",
      "Changing to logg=5.00 for T= 33413 logg=8.36\n",
      "Changing to T= 50000 for T= 50074 logg=8.97\n",
      "Changing to logg=5.00 for T= 50074 logg=8.97\n",
      "Changing to logg=5.00 for T= 45719 logg=5.35\n",
      "Changing to logg=5.00 for T= 44947 logg=5.36\n",
      "Changing to logg=5.00 for T= 35634 logg=8.44\n",
      "Changing to logg=5.00 for T= 37396 logg=5.62\n",
      "Changing to logg=5.00 for T= 46386 logg=5.34\n",
      "Changing to logg=5.00 for T= 37862 logg=5.54\n",
      "Changing to T= 50000 for T= 50817 logg=9.28\n",
      "Changing to logg=5.00 for T= 50817 logg=9.28\n",
      "Changing to T= 50000 for T= 57436 logg=9.21\n",
      "Changing to logg=5.00 for T= 57436 logg=9.21\n",
      "Changing to T= 50000 for T= 97609 logg=8.63\n",
      "Changing to logg=5.00 for T= 97609 logg=8.63\n",
      "Changing to T= 50000 for T=100000 logg=8.63\n",
      "Changing to logg=5.00 for T=100000 logg=8.63\n",
      "Changing to T= 50000 for T= 67478 logg=8.91\n",
      "Changing to logg=5.00 for T= 67478 logg=8.91\n",
      "Changing to T= 50000 for T= 50156 logg=8.97\n",
      "Changing to logg=5.00 for T= 50156 logg=8.97\n",
      "Changing to T= 50000 for T=100000 logg=8.63\n",
      "Changing to logg=5.00 for T=100000 logg=8.63\n",
      "Changing to logg=5.00 for T= 46106 logg=5.26\n",
      "Changing to logg=5.00 for T= 45236 logg=5.43\n",
      "Changing to T= 50000 for T= 50272 logg=8.97\n",
      "Changing to logg=5.00 for T= 50272 logg=8.97\n",
      "Changing to T= 50000 for T=100000 logg=8.63\n",
      "Changing to logg=5.00 for T=100000 logg=8.63\n",
      "Changing to logg=5.00 for T= 45395 logg=5.33\n",
      "Changing to logg=5.00 for T= 45422 logg=5.35\n",
      "Changing to logg=5.00 for T= 48813 logg=9.21\n",
      "Changing to T= 50000 for T= 50817 logg=9.28\n",
      "Changing to logg=5.00 for T= 50817 logg=9.28\n",
      "Changing to T= 50000 for T=101473 logg=5.03\n",
      "Changing to logg=5.00 for T=101473 logg=5.03\n",
      "Changing to logg=5.00 for T= 44746 logg=5.20\n",
      "Changing to logg=5.00 for T= 38714 logg=5.54\n",
      "Changing to logg=5.00 for T= 44789 logg=5.46\n",
      "Changing to logg=5.00 for T= 33930 logg=8.42\n",
      "Changing to logg=5.00 for T= 42311 logg=5.03\n",
      "Changing to logg=5.00 for T= 45555 logg=5.22\n",
      "Changing to logg=5.00 for T= 46200 logg=5.34\n",
      "Changing to T= 50000 for T=100000 logg=8.64\n",
      "Changing to logg=5.00 for T=100000 logg=8.64\n",
      "Changing to T= 50000 for T= 67478 logg=8.91\n",
      "Changing to logg=5.00 for T= 67478 logg=8.91\n",
      "Changing to logg=5.00 for T= 44163 logg=5.46\n",
      "Changing to T= 50000 for T= 50879 logg=9.28\n",
      "Changing to logg=5.00 for T= 50879 logg=9.28\n",
      "Changing to T= 50000 for T= 50272 logg=8.97\n",
      "Changing to logg=5.00 for T= 50272 logg=8.97\n",
      "Changing to T= 50000 for T= 50781 logg=9.27\n",
      "Changing to logg=5.00 for T= 50781 logg=9.27\n",
      "Changing to T= 50000 for T= 50817 logg=9.28\n",
      "Changing to logg=5.00 for T= 50817 logg=9.28\n",
      "Changing to logg=5.00 for T= 35388 logg=8.39\n",
      "Changing to T= 50000 for T= 50039 logg=8.97\n",
      "Changing to logg=5.00 for T= 50039 logg=8.97\n",
      "Changing to T= 50000 for T= 50817 logg=9.28\n",
      "Changing to logg=5.00 for T= 50817 logg=9.28\n",
      "Changing to T= 50000 for T=100000 logg=8.63\n",
      "Changing to logg=5.00 for T=100000 logg=8.63\n",
      "Changing to T= 50000 for T=100000 logg=8.63\n",
      "Changing to logg=5.00 for T=100000 logg=8.63\n",
      "Changing to T= 50000 for T= 50817 logg=9.28\n",
      "Changing to logg=5.00 for T= 50817 logg=9.28\n",
      "Changing to logg=5.00 for T= 44955 logg=5.44\n",
      "Changing to logg=5.00 for T= 46169 logg=5.32\n",
      "Changing to T= 50000 for T= 50981 logg=9.28\n",
      "Changing to logg=5.00 for T= 50981 logg=9.28\n",
      "Changing to T= 50000 for T= 50818 logg=9.28\n",
      "Changing to logg=5.00 for T= 50818 logg=9.28\n",
      "Changing to T= 50000 for T= 50272 logg=8.97\n",
      "Changing to logg=5.00 for T= 50272 logg=8.97\n",
      "Changing to logg=5.00 for T= 46279 logg=5.32\n",
      "Changing to T= 50000 for T= 50817 logg=9.28\n",
      "Changing to logg=5.00 for T= 50817 logg=9.28\n",
      "Changing to logg=5.00 for T= 34250 logg=8.42\n",
      "Changing to T= 50000 for T=100000 logg=8.63\n",
      "Changing to logg=5.00 for T=100000 logg=8.63\n",
      "Changing to logg=5.00 for T= 45266 logg=9.08\n",
      "Changing to T= 50000 for T=100000 logg=8.63\n",
      "Changing to logg=5.00 for T=100000 logg=8.63\n",
      "Changing to T= 50000 for T=100000 logg=8.71\n",
      "Changing to logg=5.00 for T=100000 logg=8.71\n",
      "Changing to T= 50000 for T= 50651 logg=9.27\n",
      "Changing to logg=5.00 for T= 50651 logg=9.27\n",
      "Changing to logg=5.00 for T= 44956 logg=5.41\n",
      "Changing to logg=5.00 for T= 49198 logg=5.50\n",
      "Changing to logg=5.00 for T= 45960 logg=5.38\n",
      "Changing to T= 50000 for T=100000 logg=8.63\n",
      "Changing to logg=5.00 for T=100000 logg=8.63\n",
      "Changing to T= 50000 for T=100000 logg=8.63\n",
      "Changing to logg=5.00 for T=100000 logg=8.63\n",
      "Changing to logg=5.00 for T= 38652 logg=5.47\n",
      "Changing to T= 50000 for T= 50272 logg=8.97\n",
      "Changing to logg=5.00 for T= 50272 logg=8.97\n",
      "Changing to T= 50000 for T= 50272 logg=8.97\n",
      "Changing to logg=5.00 for T= 50272 logg=8.97\n",
      "Changing to logg=5.00 for T= 46383 logg=5.34\n",
      "Changing to logg=5.00 for T= 41082 logg=5.65\n",
      "Changing to T= 50000 for T=100000 logg=8.63\n",
      "Changing to logg=5.00 for T=100000 logg=8.63\n",
      "Changing to T= 50000 for T= 50273 logg=8.97\n",
      "Changing to logg=5.00 for T= 50273 logg=8.97\n",
      "Changing to T= 50000 for T=100000 logg=8.71\n",
      "Changing to logg=5.00 for T=100000 logg=8.71\n",
      "Changing to logg=5.00 for T= 34455 logg=8.44\n",
      "Changing to T= 50000 for T= 51345 logg=8.33\n",
      "Changing to logg=5.00 for T= 51345 logg=8.33\n",
      "Changing to T= 50000 for T=100000 logg=8.63\n",
      "Changing to logg=5.00 for T=100000 logg=8.63\n",
      "Changing to T= 50000 for T= 50817 logg=9.28\n",
      "Changing to logg=5.00 for T= 50817 logg=9.28\n",
      "Changing to T= 50000 for T= 50878 logg=9.28\n",
      "Changing to logg=5.00 for T= 50878 logg=9.28\n",
      "Changing to T= 50000 for T=100000 logg=8.63\n",
      "Changing to logg=5.00 for T=100000 logg=8.63\n",
      "Changing to T= 50000 for T= 50888 logg=9.28\n",
      "Changing to logg=5.00 for T= 50888 logg=9.28\n",
      "Changing to T= 50000 for T=100000 logg=8.63\n",
      "Changing to logg=5.00 for T=100000 logg=8.63\n",
      "Changing to T= 50000 for T= 50272 logg=8.97\n",
      "Changing to logg=5.00 for T= 50272 logg=8.97\n",
      "Changing to T= 50000 for T= 50272 logg=8.97\n",
      "Changing to logg=5.00 for T= 50272 logg=8.97\n",
      "Changing to T= 50000 for T= 78127 logg=4.50\n",
      "Changing to logg=5.00 for T= 78127 logg=4.50\n",
      "Changing to T= 50000 for T=100000 logg=8.52\n",
      "Changing to logg=5.00 for T=100000 logg=8.52\n",
      "Changing to T= 50000 for T= 50294 logg=8.97\n",
      "Changing to logg=5.00 for T= 50294 logg=8.97\n",
      "Changing to T= 50000 for T=100000 logg=8.63\n",
      "Changing to logg=5.00 for T=100000 logg=8.63\n",
      "Changing to T= 50000 for T= 50817 logg=9.28\n",
      "Changing to logg=5.00 for T= 50817 logg=9.28\n",
      "Changing to logg=5.00 for T= 46299 logg=5.31\n",
      "Changing to T= 50000 for T=100000 logg=8.71\n",
      "Changing to logg=5.00 for T=100000 logg=8.71\n",
      "Changing to T= 50000 for T=100000 logg=8.63\n",
      "Changing to logg=5.00 for T=100000 logg=8.63\n",
      "Changing to T= 50000 for T= 50035 logg=8.97\n",
      "Changing to logg=5.00 for T= 50035 logg=8.97\n",
      "Changing to logg=5.00 for T= 34308 logg=8.41\n",
      "Changing to T= 50000 for T= 50818 logg=9.28\n",
      "Changing to logg=5.00 for T= 50818 logg=9.28\n",
      "Changing to T= 50000 for T= 50621 logg=8.70\n",
      "Changing to logg=5.00 for T= 50621 logg=8.70\n",
      "Changing to T= 50000 for T=100000 logg=8.63\n",
      "Changing to logg=5.00 for T=100000 logg=8.63\n",
      "Changing to logg=5.00 for T= 33589 logg=8.43\n",
      "Changing to T= 50000 for T=100000 logg=8.63\n",
      "Changing to logg=5.00 for T=100000 logg=8.63\n",
      "Changing to T= 50000 for T=100000 logg=8.71\n",
      "Changing to logg=5.00 for T=100000 logg=8.71\n",
      "Changing to logg=5.00 for T= 45731 logg=5.33\n",
      "Changing to logg=5.00 for T= 45989 logg=5.30\n",
      "Changing to T= 50000 for T= 50272 logg=8.97\n",
      "Changing to logg=5.00 for T= 50272 logg=8.97\n",
      "Changing to logg=5.00 for T= 46181 logg=5.31\n",
      "Changing to logg=5.00 for T= 44468 logg=5.46\n",
      "Changing to T= 50000 for T= 57436 logg=9.21\n",
      "Changing to logg=5.00 for T= 57436 logg=9.21\n",
      "Changing to T= 50000 for T= 50817 logg=9.28\n",
      "Changing to logg=5.00 for T= 50817 logg=9.28\n",
      "Changing to T= 50000 for T=100000 logg=8.63\n",
      "Changing to logg=5.00 for T=100000 logg=8.63\n",
      "Changing to T= 50000 for T= 50272 logg=8.97\n",
      "Changing to logg=5.00 for T= 50272 logg=8.97\n"
     ]
    },
    {
     "name": "stdout",
     "output_type": "stream",
     "text": [
      "Changing to logg=5.00 for T= 44452 logg=5.51\n",
      "Changing to logg=5.00 for T= 46197 logg=5.31\n",
      "Changing to T= 50000 for T= 69751 logg=9.26\n",
      "Changing to logg=5.00 for T= 69751 logg=9.26\n",
      "Changing to T= 50000 for T=100000 logg=8.63\n",
      "Changing to logg=5.00 for T=100000 logg=8.63\n",
      "Changing to logg=5.00 for T= 44364 logg=5.47\n",
      "Changing to T= 50000 for T=100000 logg=8.63\n",
      "Changing to logg=5.00 for T=100000 logg=8.63\n",
      "Changing to T= 50000 for T=100000 logg=8.63\n",
      "Changing to logg=5.00 for T=100000 logg=8.63\n",
      "Changing to T= 50000 for T= 50272 logg=8.97\n",
      "Changing to logg=5.00 for T= 50272 logg=8.97\n",
      "Changing to logg=5.00 for T= 46039 logg=5.29\n",
      "Changing to logg=5.00 for T= 41944 logg=5.61\n",
      "Changing to T= 50000 for T= 50074 logg=8.97\n",
      "Changing to logg=5.00 for T= 50074 logg=8.97\n",
      "Changing to logg=5.00 for T= 45242 logg=5.35\n",
      "Changing to T= 50000 for T=100000 logg=8.63\n",
      "Changing to logg=5.00 for T=100000 logg=8.63\n",
      "Changing to logg=5.00 for T= 45970 logg=5.45\n",
      "Changing to logg=5.00 for T= 34092 logg=8.39\n",
      "Changing to T= 50000 for T= 50817 logg=9.28\n",
      "Changing to logg=5.00 for T= 50817 logg=9.28\n",
      "Changing to logg=5.00 for T= 46111 logg=5.26\n",
      "Changing to T= 50000 for T= 50272 logg=8.97\n",
      "Changing to logg=5.00 for T= 50272 logg=8.97\n",
      "Changing to T= 50000 for T= 50122 logg=8.97\n",
      "Changing to logg=5.00 for T= 50122 logg=8.97\n",
      "Changing to T= 50000 for T= 95142 logg=4.91\n",
      "Changing to logg=5.00 for T= 95142 logg=4.91\n",
      "Changing to logg=5.00 for T= 46003 logg=5.29\n",
      "Changing to T= 50000 for T=100000 logg=8.63\n",
      "Changing to logg=5.00 for T=100000 logg=8.63\n",
      "Changing to logg=5.00 for T= 46108 logg=8.97\n",
      "Changing to logg=5.00 for T= 45116 logg=5.46\n",
      "Changing to logg=5.00 for T= 45221 logg=5.40\n",
      "Changing to T= 50000 for T=102785 logg=5.05\n",
      "Changing to logg=5.00 for T=102785 logg=5.05\n",
      "Changing to T= 50000 for T= 50879 logg=9.28\n",
      "Changing to logg=5.00 for T= 50879 logg=9.28\n",
      "Changing to logg=5.00 for T= 39361 logg=5.50\n",
      "Changing to T= 50000 for T= 50818 logg=9.28\n",
      "Changing to logg=5.00 for T= 50818 logg=9.28\n",
      "Changing to T= 50000 for T= 51156 logg=9.29\n",
      "Changing to logg=5.00 for T= 51156 logg=9.29\n",
      "Changing to T= 50000 for T=100000 logg=8.63\n",
      "Changing to logg=5.00 for T=100000 logg=8.63\n",
      "Changing to T= 50000 for T=100000 logg=8.63\n",
      "Changing to logg=5.00 for T=100000 logg=8.63\n",
      "Changing to logg=5.00 for T= 46354 logg=5.33\n",
      "Changing to logg=5.00 for T= 46123 logg=5.28\n",
      "Changing to logg=5.00 for T= 34433 logg=8.43\n",
      "Changing to T= 50000 for T= 50619 logg=9.27\n",
      "Changing to logg=5.00 for T= 50619 logg=9.27\n",
      "Changing to T= 50000 for T=100000 logg=8.64\n",
      "Changing to logg=5.00 for T=100000 logg=8.64\n",
      "Changing to T= 50000 for T= 50817 logg=9.28\n",
      "Changing to logg=5.00 for T= 50817 logg=9.28\n",
      "Changing to T= 50000 for T=100000 logg=8.63\n",
      "Changing to logg=5.00 for T=100000 logg=8.63\n",
      "Changing to T= 50000 for T=100000 logg=8.63\n",
      "Changing to logg=5.00 for T=100000 logg=8.63\n",
      "Changing to T= 50000 for T= 50040 logg=8.97\n",
      "Changing to logg=5.00 for T= 50040 logg=8.97\n",
      "Changing to logg=5.00 for T= 44728 logg=5.47\n",
      "Changing to T= 50000 for T= 50817 logg=9.28\n",
      "Changing to logg=5.00 for T= 50817 logg=9.28\n",
      "Changing to logg=5.00 for T= 34708 logg=8.37\n",
      "Changing to logg=3.00 for T= 21333 logg=2.21\n",
      "Changing to T= 50000 for T=100000 logg=8.63\n",
      "Changing to logg=5.00 for T=100000 logg=8.63\n",
      "Changing to T= 50000 for T= 65146 logg=9.14\n",
      "Changing to logg=5.00 for T= 65146 logg=9.14\n",
      "Changing to T= 50000 for T= 50819 logg=9.28\n",
      "Changing to logg=5.00 for T= 50819 logg=9.28\n",
      "Changing to logg=5.00 for T= 35423 logg=8.41\n",
      "Changing to logg=5.00 for T= 44968 logg=5.34\n",
      "Changing to T= 50000 for T= 50817 logg=9.28\n",
      "Changing to logg=5.00 for T= 50817 logg=9.28\n",
      "Changing to logg=5.00 for T= 33735 logg=8.33\n",
      "Changing to T= 50000 for T= 50817 logg=9.28\n",
      "Changing to logg=5.00 for T= 50817 logg=9.28\n",
      "Changing to T= 50000 for T= 95508 logg=8.59\n",
      "Changing to logg=5.00 for T= 95508 logg=8.59\n",
      "Changing to logg=5.00 for T= 34396 logg=8.44\n",
      "Changing to logg=5.00 for T= 45196 logg=5.37\n",
      "Changing to T= 50000 for T= 50817 logg=9.28\n",
      "Changing to logg=5.00 for T= 50817 logg=9.28\n",
      "Changing to T= 50000 for T= 50817 logg=9.28\n",
      "Changing to logg=5.00 for T= 50817 logg=9.28\n",
      "Changing to T= 50000 for T= 50170 logg=9.25\n",
      "Changing to logg=5.00 for T= 50170 logg=9.25\n",
      "Changing to logg=5.00 for T= 45442 logg=5.39\n",
      "Changing to logg=5.00 for T= 45171 logg=5.44\n",
      "Changing to logg=5.00 for T= 35825 logg=8.35\n",
      "Changing to logg=5.00 for T= 40498 logg=5.45\n",
      "Changing to logg=5.00 for T= 34820 logg=8.42\n",
      "Changing to T= 50000 for T= 50914 logg=9.28\n",
      "Changing to logg=5.00 for T= 50914 logg=9.28\n",
      "Changing to logg=5.00 for T= 45587 logg=5.36\n",
      "Changing to T=  1200 for T=   923 logg=4.44\n",
      "Changing to T= 50000 for T=100000 logg=8.64\n",
      "Changing to logg=5.00 for T=100000 logg=8.64\n",
      "Changing to T= 50000 for T= 50651 logg=9.27\n",
      "Changing to logg=5.00 for T= 50651 logg=9.27\n",
      "Changing to T=  1200 for T=   923 logg=4.44\n",
      "Changing to T= 50000 for T= 51026 logg=9.28\n",
      "Changing to logg=5.00 for T= 51026 logg=9.28\n",
      "Changing to T= 50000 for T= 50817 logg=9.28\n",
      "Changing to logg=5.00 for T= 50817 logg=9.28\n",
      "Changing to T= 50000 for T= 98035 logg=8.64\n",
      "Changing to logg=5.00 for T= 98035 logg=8.64\n",
      "Changing to T= 50000 for T= 50272 logg=8.69\n",
      "Changing to logg=5.00 for T= 50272 logg=8.69\n",
      "Changing to T= 50000 for T= 50170 logg=9.25\n",
      "Changing to logg=5.00 for T= 50170 logg=9.25\n",
      "Changing to logg=5.00 for T=  1847 logg=4.44\n",
      "Changing to logg=5.00 for T= 46844 logg=5.30\n",
      "Changing to T= 50000 for T= 50817 logg=9.28\n",
      "Changing to logg=5.00 for T= 50817 logg=9.28\n",
      "Changing to T= 50000 for T= 50832 logg=9.28\n",
      "Changing to logg=5.00 for T= 50832 logg=9.28\n",
      "Changing to T= 50000 for T= 50938 logg=9.28\n",
      "Changing to logg=5.00 for T= 50938 logg=9.28\n",
      "Changing to logg=5.00 for T=  1847 logg=4.44\n",
      "Changing to T= 50000 for T= 98296 logg=8.64\n",
      "Changing to logg=5.00 for T= 98296 logg=8.64\n",
      "Changing to logg=5.00 for T= 44821 logg=5.49\n",
      "Changing to T= 50000 for T= 50817 logg=9.28\n",
      "Changing to logg=5.00 for T= 50817 logg=9.28\n",
      "Changing to logg=5.00 for T= 45870 logg=5.36\n",
      "Changing to logg=5.00 for T= 33523 logg=8.36\n",
      "Changing to logg=5.00 for T= 45011 logg=5.30\n",
      "Changing to T=  1200 for T=   923 logg=4.44\n",
      "Changing to logg=2.00 for T= 11585 logg=1.28\n",
      "Changing to logg=5.00 for T= 45652 logg=5.39\n",
      "Changing to logg=5.00 for T= 34212 logg=8.39\n",
      "Changing to logg=5.00 for T= 46336 logg=5.34\n",
      "Changing to logg=5.00 for T= 45996 logg=5.34\n",
      "Changing to T= 50000 for T=100000 logg=8.64\n",
      "Changing to logg=5.00 for T=100000 logg=8.64\n",
      "Changing to logg=5.00 for T= 45754 logg=5.34\n",
      "Changing to T= 50000 for T= 50170 logg=9.25\n",
      "Changing to logg=5.00 for T= 50170 logg=9.25\n",
      "Changing to logg=5.00 for T= 37348 logg=5.53\n",
      "Changing to T= 50000 for T= 95509 logg=8.59\n",
      "Changing to logg=5.00 for T= 95509 logg=8.59\n",
      "Changing to logg=5.00 for T= 43513 logg=5.62\n",
      "Changing to T= 50000 for T= 50817 logg=9.28\n",
      "Changing to logg=5.00 for T= 50817 logg=9.28\n",
      "Changing to T= 50000 for T= 50938 logg=9.28\n",
      "Changing to logg=5.00 for T= 50938 logg=9.28\n",
      "Changing to T= 50000 for T=100000 logg=8.64\n",
      "Changing to logg=5.00 for T=100000 logg=8.64\n",
      "Changing to logg=5.00 for T= 46597 logg=5.32\n",
      "Changing to T= 50000 for T= 50938 logg=9.28\n",
      "Changing to logg=5.00 for T= 50938 logg=9.28\n",
      "Changing to logg=5.00 for T=  1847 logg=4.44\n",
      "Changing to T= 50000 for T=100000 logg=8.64\n",
      "Changing to logg=5.00 for T=100000 logg=8.64\n",
      "Changing to T= 50000 for T=100000 logg=8.64\n",
      "Changing to logg=5.00 for T=100000 logg=8.64\n",
      "Changing to logg=5.00 for T= 39031 logg=5.54\n",
      "Changing to T= 50000 for T=100000 logg=8.64\n",
      "Changing to logg=5.00 for T=100000 logg=8.64\n",
      "Changing to logg=5.00 for T= 27894 logg=6.22\n",
      "Changing to logg=5.00 for T= 44889 logg=5.49\n",
      "Changing to T= 50000 for T= 50170 logg=9.25\n",
      "Changing to logg=5.00 for T= 50170 logg=9.25\n",
      "Changing to T= 50000 for T= 50817 logg=9.28\n",
      "Changing to logg=5.00 for T= 50817 logg=9.28\n",
      "Changing to T= 50000 for T= 50817 logg=9.28\n",
      "Changing to logg=5.00 for T= 50817 logg=9.28\n",
      "Changing to T= 50000 for T= 50940 logg=9.28\n",
      "Changing to logg=5.00 for T= 50940 logg=9.28\n",
      "Changing to logg=5.00 for T= 34463 logg=8.34\n",
      "Changing to T=  1200 for T=   923 logg=4.44\n",
      "Changing to T= 50000 for T= 50817 logg=9.28\n",
      "Changing to logg=5.00 for T= 50817 logg=9.28\n",
      "Changing to T= 50000 for T=103122 logg=5.06\n",
      "Changing to logg=5.00 for T=103122 logg=5.06\n",
      "Changing to T= 50000 for T= 54404 logg=8.83\n",
      "Changing to logg=5.00 for T= 54404 logg=8.83\n"
     ]
    },
    {
     "name": "stdout",
     "output_type": "stream",
     "text": [
      "Changing to T= 50000 for T= 50170 logg=9.25\n",
      "Changing to logg=5.00 for T= 50170 logg=9.25\n",
      "Changing to T= 50000 for T= 50817 logg=9.28\n",
      "Changing to logg=5.00 for T= 50817 logg=9.28\n",
      "Changing to logg=5.00 for T= 47826 logg=5.33\n",
      "Changing to T= 50000 for T=100000 logg=8.64\n",
      "Changing to logg=5.00 for T=100000 logg=8.64\n",
      "Changing to T= 50000 for T= 50938 logg=9.28\n",
      "Changing to logg=5.00 for T= 50938 logg=9.28\n",
      "Changing to T= 50000 for T= 50817 logg=9.28\n",
      "Changing to logg=5.00 for T= 50817 logg=9.28\n",
      "Changing to logg=5.00 for T= 39616 logg=5.54\n",
      "Changing to logg=5.00 for T= 44852 logg=5.49\n",
      "Changing to T= 50000 for T=100000 logg=8.64\n",
      "Changing to logg=5.00 for T=100000 logg=8.64\n",
      "Changing to logg=5.00 for T=  1847 logg=4.44\n",
      "Changing to T= 50000 for T= 98284 logg=8.64\n",
      "Changing to logg=5.00 for T= 98284 logg=8.64\n",
      "Changing to T= 50000 for T= 50879 logg=9.28\n",
      "Changing to logg=5.00 for T= 50879 logg=9.28\n",
      "Changing to logg=5.00 for T= 44808 logg=5.51\n",
      "Changing to T=  1200 for T=   923 logg=4.44\n",
      "Changing to T= 50000 for T= 50834 logg=9.28\n",
      "Changing to logg=5.00 for T= 50834 logg=9.28\n",
      "Changing to T= 50000 for T= 50817 logg=9.28\n",
      "Changing to logg=5.00 for T= 50817 logg=9.28\n",
      "Changing to T= 50000 for T= 50817 logg=9.28\n",
      "Changing to logg=5.00 for T= 50817 logg=9.28\n",
      "Changing to logg=5.00 for T= 35994 logg=8.32\n",
      "Changing to logg=4.00 for T= 32584 logg=3.70\n",
      "Changing to T= 50000 for T=100000 logg=8.64\n",
      "Changing to logg=5.00 for T=100000 logg=8.64\n",
      "Changing to logg=5.00 for T= 43124 logg=5.50\n",
      "Changing to T= 50000 for T=100000 logg=8.64\n",
      "Changing to logg=5.00 for T=100000 logg=8.64\n",
      "Changing to T= 50000 for T= 50817 logg=9.28\n",
      "Changing to logg=5.00 for T= 50817 logg=9.28\n",
      "Changing to T= 50000 for T= 50170 logg=9.25\n",
      "Changing to logg=5.00 for T= 50170 logg=9.25\n",
      "Changing to T= 50000 for T=104150 logg=5.08\n",
      "Changing to logg=5.00 for T=104150 logg=5.08\n",
      "Changing to logg=5.00 for T=  1847 logg=4.44\n",
      "Changing to logg=5.00 for T= 38199 logg=5.48\n",
      "Changing to T= 50000 for T= 50938 logg=9.28\n",
      "Changing to logg=5.00 for T= 50938 logg=9.28\n",
      "Changing to T= 50000 for T= 86734 logg=8.59\n",
      "Changing to logg=5.00 for T= 86734 logg=8.59\n",
      "Changing to T= 50000 for T=100000 logg=8.64\n",
      "Changing to logg=5.00 for T=100000 logg=8.64\n",
      "Changing to logg=5.00 for T= 45540 logg=5.31\n",
      "Changing to T= 50000 for T= 50817 logg=9.28\n",
      "Changing to logg=5.00 for T= 50817 logg=9.28\n",
      "Changing to T= 50000 for T=100000 logg=8.64\n",
      "Changing to logg=5.00 for T=100000 logg=8.64\n",
      "Changing to logg=5.00 for T= 45373 logg=5.34\n",
      "Changing to T= 50000 for T= 86734 logg=8.59\n",
      "Changing to logg=5.00 for T= 86734 logg=8.59\n",
      "Changing to T= 50000 for T=100000 logg=8.64\n",
      "Changing to logg=5.00 for T=100000 logg=8.64\n",
      "Changing to logg=5.00 for T= 45500 logg=5.31\n",
      "Changing to logg=5.00 for T= 33945 logg=8.40\n",
      "Changing to T= 50000 for T= 54275 logg=8.82\n",
      "Changing to logg=5.00 for T= 54275 logg=8.82\n",
      "Changing to T= 50000 for T= 50170 logg=9.25\n",
      "Changing to logg=5.00 for T= 50170 logg=9.25\n",
      "Changing to logg=5.00 for T= 45101 logg=5.44\n",
      "Changing to logg=0.00 for T=  3333 logg=-0.85\n",
      "Changing to T= 50000 for T= 50817 logg=9.28\n",
      "Changing to logg=5.00 for T= 50817 logg=9.28\n",
      "Changing to logg=5.00 for T= 40105 logg=5.37\n",
      "Changing to T= 50000 for T= 50531 logg=9.27\n",
      "Changing to logg=5.00 for T= 50531 logg=9.27\n",
      "Changing to logg=5.00 for T= 33409 logg=8.42\n",
      "Changing to logg=5.00 for T= 46190 logg=5.32\n",
      "Changing to logg=5.00 for T=  1847 logg=4.44\n",
      "Changing to T= 50000 for T= 50818 logg=9.28\n",
      "Changing to logg=5.00 for T= 50818 logg=9.28\n",
      "Changing to logg=5.00 for T= 47284 logg=5.46\n",
      "Changing to logg=2.50 for T= 12658 logg=1.42\n",
      "Changing to logg=5.00 for T= 48790 logg=8.29\n",
      "Changing to logg=5.00 for T= 34647 logg=8.44\n",
      "Changing to T= 50000 for T= 50817 logg=9.28\n",
      "Changing to logg=5.00 for T= 50817 logg=9.28\n",
      "Changing to T= 50000 for T= 50632 logg=9.27\n",
      "Changing to logg=5.00 for T= 50632 logg=9.27\n",
      "Changing to T= 50000 for T= 50704 logg=9.27\n",
      "Changing to logg=5.00 for T= 50704 logg=9.27\n",
      "Changing to logg=5.00 for T= 28083 logg=6.22\n",
      "Changing to logg=5.00 for T= 46317 logg=5.45\n",
      "Changing to T= 50000 for T= 50817 logg=9.28\n",
      "Changing to logg=5.00 for T= 50817 logg=9.28\n",
      "Changing to T= 50000 for T= 50817 logg=9.28\n",
      "Changing to logg=5.00 for T= 50817 logg=9.28\n",
      "Changing to T= 50000 for T= 50817 logg=9.28\n",
      "Changing to logg=5.00 for T= 50817 logg=9.28\n",
      "Changing to T= 50000 for T= 50170 logg=9.25\n",
      "Changing to logg=5.00 for T= 50170 logg=9.25\n",
      "Changing to logg=5.00 for T= 40733 logg=5.47\n",
      "Changing to T=  1200 for T=   923 logg=4.44\n",
      "Changing to logg=5.00 for T= 49968 logg=9.25\n",
      "Changing to logg=5.00 for T= 44376 logg=5.41\n",
      "Changing to logg=5.00 for T= 34978 logg=8.34\n",
      "Changing to logg=5.00 for T= 39545 logg=5.55\n",
      "Changing to logg=5.00 for T= 47060 logg=5.31\n",
      "Changing to T= 50000 for T= 50817 logg=9.28\n",
      "Changing to logg=5.00 for T= 50817 logg=9.28\n",
      "Changing to T= 50000 for T=146825 logg=5.70\n",
      "Changing to logg=5.00 for T=146825 logg=5.70\n",
      "Changing to T= 50000 for T=102941 logg=5.05\n",
      "Changing to logg=5.00 for T=102941 logg=5.05\n",
      "Changing to logg=5.00 for T= 45604 logg=5.45\n",
      "Changing to T= 50000 for T=100000 logg=8.64\n",
      "Changing to logg=5.00 for T=100000 logg=8.64\n",
      "Changing to logg=5.00 for T= 45039 logg=5.45\n",
      "Changing to T= 50000 for T= 50170 logg=9.25\n",
      "Changing to logg=5.00 for T= 50170 logg=9.25\n",
      "Changing to T= 50000 for T= 50817 logg=9.28\n",
      "Changing to logg=5.00 for T= 50817 logg=9.28\n",
      "Changing to logg=5.00 for T= 33868 logg=8.46\n",
      "Changing to logg=5.00 for T= 34368 logg=8.37\n",
      "Changing to logg=5.00 for T= 34948 logg=8.46\n",
      "Changing to logg=5.00 for T=  1847 logg=4.44\n",
      "Changing to T= 50000 for T= 50170 logg=9.25\n",
      "Changing to logg=5.00 for T= 50170 logg=9.25\n",
      "Changing to logg=5.00 for T= 45721 logg=5.32\n",
      "Changing to T= 50000 for T=100000 logg=8.64\n",
      "Changing to logg=5.00 for T=100000 logg=8.64\n",
      "Changing to logg=2.00 for T= 11197 logg=1.24\n",
      "Changing to T= 50000 for T= 50817 logg=9.28\n",
      "Changing to logg=5.00 for T= 50817 logg=9.28\n",
      "Changing to T= 50000 for T= 50170 logg=9.25\n",
      "Changing to logg=5.00 for T= 50170 logg=9.25\n",
      "Changing to T= 50000 for T=100000 logg=8.64\n",
      "Changing to logg=5.00 for T=100000 logg=8.64\n",
      "Changing to T= 50000 for T= 50938 logg=9.28\n",
      "Changing to logg=5.00 for T= 50938 logg=9.28\n",
      "Changing to T= 50000 for T= 51043 logg=9.28\n",
      "Changing to logg=5.00 for T= 51043 logg=9.28\n",
      "Changing to logg=5.00 for T= 44261 logg=5.56\n",
      "Changing to logg=5.00 for T=  1847 logg=4.44\n",
      "Changing to T=  1200 for T=   923 logg=4.44\n",
      "Changing to T= 50000 for T=137243 logg=5.54\n",
      "Changing to logg=5.00 for T=137243 logg=5.54\n",
      "Changing to T= 50000 for T= 50817 logg=9.28\n",
      "Changing to logg=5.00 for T= 50817 logg=9.28\n",
      "Changing to T= 50000 for T=100000 logg=8.64\n",
      "Changing to logg=5.00 for T=100000 logg=8.64\n",
      "Changing to T= 50000 for T=112166 logg=5.20\n",
      "Changing to logg=5.00 for T=112166 logg=5.20\n",
      "Changing to T= 50000 for T=100000 logg=8.64\n",
      "Changing to logg=5.00 for T=100000 logg=8.64\n",
      "Changing to T= 50000 for T= 50170 logg=9.25\n",
      "Changing to logg=5.00 for T= 50170 logg=9.25\n",
      "Changing to logg=5.00 for T= 45359 logg=5.37\n",
      "Changing to T= 50000 for T= 99373 logg=4.98\n",
      "Changing to logg=5.00 for T= 99373 logg=4.98\n",
      "Changing to T= 50000 for T= 95508 logg=8.59\n",
      "Changing to logg=5.00 for T= 95508 logg=8.59\n",
      "Changing to T= 50000 for T= 50170 logg=9.25\n",
      "Changing to logg=5.00 for T= 50170 logg=9.25\n",
      "Changing to logg=5.00 for T= 39711 logg=5.48\n",
      "Changing to logg=5.00 for T= 38970 logg=5.58\n",
      "Changing to T= 50000 for T= 50170 logg=9.25\n",
      "Changing to logg=5.00 for T= 50170 logg=9.25\n",
      "Changing to T= 50000 for T=100000 logg=8.64\n",
      "Changing to logg=5.00 for T=100000 logg=8.64\n",
      "Changing to logg=5.00 for T= 47267 logg=5.31\n",
      "Changing to T= 50000 for T= 50817 logg=9.28\n",
      "Changing to logg=5.00 for T= 50817 logg=9.28\n",
      "Changing to logg=5.00 for T= 39208 logg=5.55\n",
      "Changing to T= 50000 for T= 50817 logg=9.28\n",
      "Changing to logg=5.00 for T= 50817 logg=9.28\n",
      "Changing to T=  1200 for T=   923 logg=4.44\n",
      "Making photometry for isochrone: log(t) = 8.00  AKs = 0.70  dist = 100\n",
      "     Starting at:  2020-12-20 17:31:31.335338   Usually takes ~5 minutes\n",
      "Starting filter: ubv,U   Elapsed time: 0.00 seconds\n",
      "Starting synthetic photometry\n",
      "Singles\n",
      "M =   1.800 Msun  T =  8104 K  m_ubv_U = 18.64\n",
      "Primaries\n",
      "M =   5.500 Msun  T = 46489 K  m_ubv_U = 16.90\n",
      "M =   4.500 Msun  T = 13927 K  m_ubv_U = 14.47\n",
      "M =   5.012 Msun  T =  2739 K  m_ubv_U =  nan\n",
      "M =   0.501 Msun  T =  2739 K  m_ubv_U =  nan\n"
     ]
    },
    {
     "name": "stdout",
     "output_type": "stream",
     "text": [
      "M =   0.501 Msun  T =  2739 K  m_ubv_U =  nan\n",
      "M =   1.600 Msun  T =  7355 K  m_ubv_U = 19.22\n",
      "M =   4.000 Msun  T = 13395 K  m_ubv_U = 15.07\n",
      "M =   1.000 Msun  T =   nan K  m_ubv_U =  nan\n",
      "M =   5.000 Msun  T = 12883 K  m_ubv_U = 13.61\n",
      "M =   3.200 Msun  T = 57436 K  m_ubv_U = 26.17\n",
      "M =   4.000 Msun  T = 13395 K  m_ubv_U = 15.07\n",
      "M =   3.981 Msun  T =  2739 K  m_ubv_U =  nan\n",
      "M =   3.200 Msun  T = 14192 K  m_ubv_U = 14.73\n",
      "M =   6.500 Msun  T = 50272 K  m_ubv_U = 25.67\n",
      "M =   3.500 Msun  T = 12520 K  m_ubv_U = 15.68\n",
      "M =   3.700 Msun  T = 13962 K  m_ubv_U = 14.71\n",
      "M =   1.600 Msun  T = 10745 K  m_ubv_U = 16.81\n",
      "M =   1.000 Msun  T =  2739 K  m_ubv_U =  nan\n",
      "M =   1.000 Msun  T =   nan K  m_ubv_U =  nan\n",
      "M =   9.000 Msun  T = 29469 K  m_ubv_U = 25.73\n",
      "M =   5.000 Msun  T = 12883 K  m_ubv_U = 13.61\n",
      "M =   6.500 Msun  T = 50074 K  m_ubv_U = 25.66\n",
      "M =   3.500 Msun  T = 12520 K  m_ubv_U = 15.68\n",
      "M =   4.500 Msun  T = 13927 K  m_ubv_U = 14.47\n",
      "Secondaries\n",
      "M =   0.550 Msun  T =  3837 K  m_ubv_U = 27.31\n",
      "M =   2.250 Msun  T =  9993 K  m_ubv_U = 17.58\n",
      "M =  12.000 Msun  T = 40498 K  m_ubv_U = 17.55\n",
      "M =   2.000 Msun  T =  8931 K  m_ubv_U = 18.10\n",
      "M =   2.000 Msun  T =  8931 K  m_ubv_U = 18.10\n",
      "M =   0.160 Msun  T =   923 K  m_ubv_U = 38.52\n",
      "M =   1.600 Msun  T =  7485 K  m_ubv_U = 19.22\n",
      "M =   3.700 Msun  T = 12759 K  m_ubv_U = 15.39\n",
      "M =   2.000 Msun  T =  9096 K  m_ubv_U = 18.11\n",
      "M =   1.920 Msun  T =   nan K  m_ubv_U =  nan\n",
      "M =   2.000 Msun  T =  9095 K  m_ubv_U = 18.11\n",
      "M =  12.000 Msun  T =  9156 K  m_ubv_U = 14.96\n",
      "M =   0.640 Msun  T =   nan K  m_ubv_U =  nan\n",
      "M =   1.950 Msun  T =  8903 K  m_ubv_U = 18.24\n",
      "M =   1.400 Msun  T =  6698 K  m_ubv_U = 19.98\n",
      "M =   0.370 Msun  T =   nan K  m_ubv_U =  nan\n",
      "M =   1.120 Msun  T =   nan K  m_ubv_U =  nan\n",
      "M =   4.000 Msun  T = 13456 K  m_ubv_U = 15.10\n",
      "M =   5.500 Msun  T = 100000 K  m_ubv_U = 25.02\n",
      "M =   2.700 Msun  T =  8978 K  m_ubv_U = 16.74\n",
      "M =   3.500 Msun  T = 13640 K  m_ubv_U = 15.75\n",
      "M =   5.850 Msun  T = 15697 K  m_ubv_U = 13.31\n",
      "M =   0.350 Msun  T =  3614 K  m_ubv_U = 28.66\n",
      "M =   0.450 Msun  T =  3703 K  m_ubv_U = 28.01\n",
      "Starting filter: ubv,V   Elapsed time: 7.28 seconds\n",
      "Starting synthetic photometry\n",
      "Singles\n",
      "M =   1.800 Msun  T =  8104 K  m_ubv_V = 17.53\n",
      "Primaries\n",
      "M =   5.500 Msun  T = 46489 K  m_ubv_V = 17.54\n",
      "M =   4.500 Msun  T = 13927 K  m_ubv_V = 14.27\n",
      "M =   5.012 Msun  T =  2739 K  m_ubv_V =  nan\n",
      "M =   0.501 Msun  T =  2739 K  m_ubv_V =  nan\n",
      "M =   0.501 Msun  T =  2739 K  m_ubv_V =  nan\n",
      "M =   1.600 Msun  T =  7355 K  m_ubv_V = 18.03\n",
      "M =   4.000 Msun  T = 13395 K  m_ubv_V = 14.82\n",
      "M =   1.000 Msun  T =   nan K  m_ubv_V =  nan\n",
      "M =   5.000 Msun  T = 12883 K  m_ubv_V = 13.34\n",
      "M =   3.200 Msun  T = 57436 K  m_ubv_V = 26.83\n",
      "M =   4.000 Msun  T = 13395 K  m_ubv_V = 14.82\n",
      "M =   3.981 Msun  T =  2739 K  m_ubv_V =  nan\n",
      "M =   3.200 Msun  T = 14192 K  m_ubv_V = 14.55\n",
      "M =   6.500 Msun  T = 50272 K  m_ubv_V = 26.33\n",
      "M =   3.500 Msun  T = 12520 K  m_ubv_V = 15.32\n",
      "M =   3.700 Msun  T = 13962 K  m_ubv_V = 14.51\n",
      "M =   1.600 Msun  T = 10745 K  m_ubv_V = 16.19\n",
      "M =   1.000 Msun  T =  2739 K  m_ubv_V =  nan\n",
      "M =   1.000 Msun  T =   nan K  m_ubv_V =  nan\n",
      "M =   9.000 Msun  T = 29469 K  m_ubv_V = 26.14\n",
      "M =   5.000 Msun  T = 12883 K  m_ubv_V = 13.34\n",
      "M =   6.500 Msun  T = 50074 K  m_ubv_V = 26.31\n",
      "M =   3.500 Msun  T = 12520 K  m_ubv_V = 15.32\n",
      "M =   4.500 Msun  T = 13927 K  m_ubv_V = 14.27\n",
      "Secondaries\n",
      "M =   0.550 Msun  T =  3837 K  m_ubv_V = 24.14\n",
      "M =   2.250 Msun  T =  9993 K  m_ubv_V = 16.82\n",
      "M =  12.000 Msun  T = 40498 K  m_ubv_V = 18.16\n",
      "M =   2.000 Msun  T =  8931 K  m_ubv_V = 17.13\n",
      "M =   2.000 Msun  T =  8931 K  m_ubv_V = 17.13\n",
      "M =   0.160 Msun  T =   923 K  m_ubv_V = 37.59\n",
      "M =   1.600 Msun  T =  7485 K  m_ubv_V = 18.05\n",
      "M =   3.700 Msun  T = 12759 K  m_ubv_V = 15.06\n",
      "M =   2.000 Msun  T =  9096 K  m_ubv_V = 17.17\n",
      "M =   1.920 Msun  T =   nan K  m_ubv_V =  nan\n",
      "M =   2.000 Msun  T =  9095 K  m_ubv_V = 17.17\n",
      "M =  12.000 Msun  T =  9156 K  m_ubv_V = 14.12\n",
      "M =   0.640 Msun  T =   nan K  m_ubv_V =  nan\n",
      "M =   1.950 Msun  T =  8903 K  m_ubv_V = 17.27\n",
      "M =   1.400 Msun  T =  6698 K  m_ubv_V = 18.68\n",
      "M =   0.370 Msun  T =   nan K  m_ubv_V =  nan\n",
      "M =   1.120 Msun  T =   nan K  m_ubv_V =  nan\n",
      "M =   4.000 Msun  T = 13456 K  m_ubv_V = 14.85\n",
      "M =   5.500 Msun  T = 100000 K  m_ubv_V = 25.67\n",
      "M =   2.700 Msun  T =  8978 K  m_ubv_V = 15.78\n",
      "M =   3.500 Msun  T = 13640 K  m_ubv_V = 15.51\n",
      "M =   5.850 Msun  T = 15697 K  m_ubv_V = 13.27\n",
      "M =   0.350 Msun  T =  3614 K  m_ubv_V = 25.57\n",
      "M =   0.450 Msun  T =  3703 K  m_ubv_V = 24.88\n",
      "Starting filter: ubv,B   Elapsed time: 14.17 seconds\n",
      "Starting synthetic photometry\n",
      "Singles\n",
      "M =   1.800 Msun  T =  8104 K  m_ubv_B = 18.61\n",
      "Primaries\n",
      "M =   5.500 Msun  T = 46489 K  m_ubv_B = 18.00\n",
      "M =   4.500 Msun  T = 13927 K  m_ubv_B = 14.97\n",
      "M =   5.012 Msun  T =  2739 K  m_ubv_B =  nan\n",
      "M =   0.501 Msun  T =  2739 K  m_ubv_B =  nan\n",
      "M =   0.501 Msun  T =  2739 K  m_ubv_B =  nan\n",
      "M =   1.600 Msun  T =  7355 K  m_ubv_B = 19.26\n",
      "M =   4.000 Msun  T = 13395 K  m_ubv_B = 15.53\n",
      "M =   1.000 Msun  T =   nan K  m_ubv_B =  nan\n",
      "M =   5.000 Msun  T = 12883 K  m_ubv_B = 14.04\n",
      "M =   3.200 Msun  T = 57436 K  m_ubv_B = 27.29\n",
      "M =   4.000 Msun  T = 13395 K  m_ubv_B = 15.53\n",
      "M =   3.981 Msun  T =  2739 K  m_ubv_B =  nan\n",
      "M =   3.200 Msun  T = 14192 K  m_ubv_B = 15.24\n",
      "M =   6.500 Msun  T = 50272 K  m_ubv_B = 26.79\n",
      "M =   3.500 Msun  T = 12520 K  m_ubv_B = 16.05\n",
      "M =   3.700 Msun  T = 13962 K  m_ubv_B = 15.20\n",
      "M =   1.600 Msun  T = 10745 K  m_ubv_B = 16.97\n",
      "M =   1.000 Msun  T =  2739 K  m_ubv_B =  nan\n",
      "M =   1.000 Msun  T =   nan K  m_ubv_B =  nan\n",
      "M =   9.000 Msun  T = 29469 K  m_ubv_B = 26.75\n",
      "M =   5.000 Msun  T = 12883 K  m_ubv_B = 14.04\n",
      "M =   6.500 Msun  T = 50074 K  m_ubv_B = 26.77\n",
      "M =   3.500 Msun  T = 12520 K  m_ubv_B = 16.05\n",
      "M =   4.500 Msun  T = 13927 K  m_ubv_B = 14.97\n",
      "Secondaries\n",
      "M =   0.550 Msun  T =  3837 K  m_ubv_B = 26.73\n",
      "M =   2.250 Msun  T =  9993 K  m_ubv_B = 17.65\n",
      "M =  12.000 Msun  T = 40498 K  m_ubv_B = 18.64\n",
      "M =   2.000 Msun  T =  8931 K  m_ubv_B = 18.06\n",
      "M =   2.000 Msun  T =  8931 K  m_ubv_B = 18.06\n",
      "M =   0.160 Msun  T =   923 K  m_ubv_B = 38.82\n",
      "M =   1.600 Msun  T =  7485 K  m_ubv_B = 19.25\n",
      "M =   3.700 Msun  T = 12759 K  m_ubv_B = 15.78\n",
      "M =   2.000 Msun  T =  9096 K  m_ubv_B = 18.09\n",
      "M =   1.920 Msun  T =   nan K  m_ubv_B =  nan\n",
      "M =   2.000 Msun  T =  9095 K  m_ubv_B = 18.09\n",
      "M =  12.000 Msun  T =  9156 K  m_ubv_B = 14.96\n",
      "M =   0.640 Msun  T =   nan K  m_ubv_B =  nan\n",
      "M =   1.950 Msun  T =  8903 K  m_ubv_B = 18.21\n",
      "M =   1.400 Msun  T =  6698 K  m_ubv_B = 20.07\n",
      "M =   0.370 Msun  T =   nan K  m_ubv_B =  nan\n",
      "M =   1.120 Msun  T =   nan K  m_ubv_B =  nan\n",
      "M =   4.000 Msun  T = 13456 K  m_ubv_B = 15.55\n",
      "M =   5.500 Msun  T = 100000 K  m_ubv_B = 26.13\n",
      "M =   2.700 Msun  T =  8978 K  m_ubv_B = 16.71\n",
      "M =   3.500 Msun  T = 13640 K  m_ubv_B = 16.21\n",
      "M =   5.850 Msun  T = 15697 K  m_ubv_B = 13.93\n",
      "M =   0.350 Msun  T =  3614 K  m_ubv_B = 28.13\n",
      "M =   0.450 Msun  T =  3703 K  m_ubv_B = 27.46\n",
      "Starting filter: ubv,R   Elapsed time: 21.02 seconds\n",
      "Starting synthetic photometry\n",
      "Singles\n",
      "M =   1.800 Msun  T =  8104 K  m_ubv_R = 14.82\n",
      "Primaries\n",
      "M =   5.500 Msun  T = 46489 K  m_ubv_R = 15.07\n",
      "M =   4.500 Msun  T = 13927 K  m_ubv_R = 11.71\n",
      "M =   5.012 Msun  T =  2739 K  m_ubv_R =  nan\n",
      "M =   0.501 Msun  T =  2739 K  m_ubv_R =  nan\n",
      "M =   0.501 Msun  T =  2739 K  m_ubv_R =  nan\n",
      "M =   1.600 Msun  T =  7355 K  m_ubv_R = 15.23\n",
      "M =   4.000 Msun  T = 13395 K  m_ubv_R = 12.25\n",
      "M =   1.000 Msun  T =   nan K  m_ubv_R =  nan\n",
      "M =   5.000 Msun  T = 12883 K  m_ubv_R = 10.76\n",
      "M =   3.200 Msun  T = 57436 K  m_ubv_R = 24.36\n",
      "M =   4.000 Msun  T = 13395 K  m_ubv_R = 12.25\n",
      "M =   3.981 Msun  T =  2739 K  m_ubv_R =  nan\n",
      "M =   3.200 Msun  T = 14192 K  m_ubv_R = 11.99\n",
      "M =   6.500 Msun  T = 50272 K  m_ubv_R = 23.86\n",
      "M =   3.500 Msun  T = 12520 K  m_ubv_R = 12.75\n",
      "M =   3.700 Msun  T = 13962 K  m_ubv_R = 11.95\n",
      "M =   1.600 Msun  T = 10745 K  m_ubv_R = 13.60\n",
      "M =   1.000 Msun  T =  2739 K  m_ubv_R =  nan\n",
      "M =   1.000 Msun  T =   nan K  m_ubv_R =  nan\n",
      "M =   9.000 Msun  T = 29469 K  m_ubv_R = 23.67\n",
      "M =   5.000 Msun  T = 12883 K  m_ubv_R = 10.76\n",
      "M =   6.500 Msun  T = 50074 K  m_ubv_R = 23.85\n",
      "M =   3.500 Msun  T = 12520 K  m_ubv_R = 12.75\n",
      "M =   4.500 Msun  T = 13927 K  m_ubv_R = 11.71\n",
      "Secondaries\n",
      "M =   0.550 Msun  T =  3837 K  m_ubv_R = 20.62\n"
     ]
    },
    {
     "name": "stdout",
     "output_type": "stream",
     "text": [
      "M =   2.250 Msun  T =  9993 K  m_ubv_R = 14.21\n",
      "M =  12.000 Msun  T = 40498 K  m_ubv_R = 15.69\n",
      "M =   2.000 Msun  T =  8931 K  m_ubv_R = 14.48\n",
      "M =   2.000 Msun  T =  8931 K  m_ubv_R = 14.48\n",
      "M =   0.160 Msun  T =   923 K  m_ubv_R = 30.65\n",
      "M =   1.600 Msun  T =  7485 K  m_ubv_R = 15.27\n",
      "M =   3.700 Msun  T = 12759 K  m_ubv_R = 12.49\n",
      "M =   2.000 Msun  T =  9096 K  m_ubv_R = 14.53\n",
      "M =   1.920 Msun  T =   nan K  m_ubv_R =  nan\n",
      "M =   2.000 Msun  T =  9095 K  m_ubv_R = 14.53\n",
      "M =  12.000 Msun  T =  9156 K  m_ubv_R = 11.50\n",
      "M =   0.640 Msun  T =   nan K  m_ubv_R =  nan\n",
      "M =   1.950 Msun  T =  8903 K  m_ubv_R = 14.62\n",
      "M =   1.400 Msun  T =  6698 K  m_ubv_R = 15.81\n",
      "M =   0.370 Msun  T =   nan K  m_ubv_R =  nan\n",
      "M =   1.120 Msun  T =   nan K  m_ubv_R =  nan\n",
      "M =   4.000 Msun  T = 13456 K  m_ubv_R = 12.28\n",
      "M =   5.500 Msun  T = 100000 K  m_ubv_R = 23.20\n",
      "M =   2.700 Msun  T =  8978 K  m_ubv_R = 13.14\n",
      "M =   3.500 Msun  T = 13640 K  m_ubv_R = 12.94\n",
      "M =   5.850 Msun  T = 15697 K  m_ubv_R = 10.72\n",
      "M =   0.350 Msun  T =  3614 K  m_ubv_R = 21.89\n",
      "M =   0.450 Msun  T =  3703 K  m_ubv_R = 21.28\n",
      "Starting filter: ubv,I   Elapsed time: 27.79 seconds\n",
      "Starting synthetic photometry\n",
      "Singles\n",
      "M =   1.800 Msun  T =  8104 K  m_ubv_I = 11.21\n",
      "Primaries\n",
      "M =   5.500 Msun  T = 46489 K  m_ubv_I = 11.83\n",
      "M =   4.500 Msun  T = 13927 K  m_ubv_I = 8.29\n",
      "M =   5.012 Msun  T =  2739 K  m_ubv_I =  nan\n",
      "M =   0.501 Msun  T =  2739 K  m_ubv_I =  nan\n",
      "M =   0.501 Msun  T =  2739 K  m_ubv_I =  nan\n",
      "M =   1.600 Msun  T =  7355 K  m_ubv_I = 11.57\n",
      "M =   4.000 Msun  T = 13395 K  m_ubv_I = 8.82\n",
      "M =   1.000 Msun  T =   nan K  m_ubv_I =  nan\n",
      "M =   5.000 Msun  T = 12883 K  m_ubv_I = 7.31\n",
      "M =   3.200 Msun  T = 57436 K  m_ubv_I = 21.13\n",
      "M =   4.000 Msun  T = 13395 K  m_ubv_I = 8.82\n",
      "M =   3.981 Msun  T =  2739 K  m_ubv_I =  nan\n",
      "M =   3.200 Msun  T = 14192 K  m_ubv_I = 8.57\n",
      "M =   6.500 Msun  T = 50272 K  m_ubv_I = 20.63\n",
      "M =   3.500 Msun  T = 12520 K  m_ubv_I = 9.30\n",
      "M =   3.700 Msun  T = 13962 K  m_ubv_I = 8.52\n",
      "M =   1.600 Msun  T = 10745 K  m_ubv_I = 10.09\n",
      "M =   1.000 Msun  T =  2739 K  m_ubv_I =  nan\n",
      "M =   1.000 Msun  T =   nan K  m_ubv_I =  nan\n",
      "M =   9.000 Msun  T = 29469 K  m_ubv_I = 20.40\n",
      "M =   5.000 Msun  T = 12883 K  m_ubv_I = 7.31\n",
      "M =   6.500 Msun  T = 50074 K  m_ubv_I = 20.62\n",
      "M =   3.500 Msun  T = 12520 K  m_ubv_I = 9.30\n",
      "M =   4.500 Msun  T = 13927 K  m_ubv_I = 8.29\n",
      "Secondaries\n",
      "M =   0.550 Msun  T =  3837 K  m_ubv_I = 16.21\n",
      "M =   2.250 Msun  T =  9993 K  m_ubv_I = 10.69\n",
      "M =  12.000 Msun  T = 40498 K  m_ubv_I = 12.45\n",
      "M =   2.000 Msun  T =  8931 K  m_ubv_I = 10.92\n",
      "M =   2.000 Msun  T =  8931 K  m_ubv_I = 10.92\n",
      "M =   0.160 Msun  T =   923 K  m_ubv_I = 22.74\n",
      "M =   1.600 Msun  T =  7485 K  m_ubv_I = 11.61\n",
      "M =   3.700 Msun  T = 12759 K  m_ubv_I = 9.04\n",
      "M =   2.000 Msun  T =  9096 K  m_ubv_I = 10.98\n",
      "M =   1.920 Msun  T =   nan K  m_ubv_I =  nan\n",
      "M =   2.000 Msun  T =  9095 K  m_ubv_I = 10.98\n",
      "M =  12.000 Msun  T =  9156 K  m_ubv_I = 7.92\n",
      "M =   0.640 Msun  T =   nan K  m_ubv_I =  nan\n",
      "M =   1.950 Msun  T =  8903 K  m_ubv_I = 11.05\n",
      "M =   1.400 Msun  T =  6698 K  m_ubv_I = 12.07\n",
      "M =   0.370 Msun  T =   nan K  m_ubv_I =  nan\n",
      "M =   1.120 Msun  T =   nan K  m_ubv_I =  nan\n",
      "M =   4.000 Msun  T = 13456 K  m_ubv_I = 8.85\n",
      "M =   5.500 Msun  T = 100000 K  m_ubv_I = 19.97\n",
      "M =   2.700 Msun  T =  8978 K  m_ubv_I = 9.57\n",
      "M =   3.500 Msun  T = 13640 K  m_ubv_I = 9.52\n",
      "M =   5.850 Msun  T = 15697 K  m_ubv_I = 7.32\n",
      "M =   0.350 Msun  T =  3614 K  m_ubv_I = 17.32\n",
      "M =   0.450 Msun  T =  3703 K  m_ubv_I = 16.78\n",
      "      Time taken: 34.55 seconds\n",
      "Isochrone generation took 302.155723 s.\n"
     ]
    }
   ],
   "source": [
    "import spisea\n",
    "from spisea import evolution, synthetic\n",
    "import math\n",
    "# Check if the evolution class works fine\n",
    "import time\n",
    "import numpy as np\n",
    "t1=time.time()\n",
    "bps=evolution.BPASS()\n",
    "iso1=synthetic.Isochrone_Binary(8.0, 0.7, 100,math.log10(1), mass_sampling=1, filepath='/g/lu/scratch/ryotainagaki/BPASS_iso_filesTimedIsolated/')"
   ]
  },
  {
   "cell_type": "code",
   "execution_count": 2,
   "metadata": {},
   "outputs": [
    {
     "data": {
      "text/html": [
       "<i>Table length=0</i>\n",
       "<table id=\"table140397557613624\" class=\"table-striped table-bordered table-condensed\">\n",
       "<thead><tr><th>mass</th><th>L</th><th>Teff</th><th>R</th><th>logg</th><th>isWR</th><th>mass_current</th><th>phase</th><th>source</th><th>m_ubv_U</th><th>m_ubv_V</th><th>m_ubv_B</th><th>m_ubv_R</th><th>m_ubv_I</th></tr></thead>\n",
       "<thead><tr><th>solMass</th><th>W</th><th>K</th><th>m</th><th></th><th></th><th>solMass</th><th></th><th></th><th></th><th></th><th></th><th></th><th></th></tr></thead>\n",
       "<thead><tr><th>float64</th><th>float64</th><th>float64</th><th>float64</th><th>float64</th><th>bool</th><th>float64</th><th>float64</th><th>int64</th><th>float64</th><th>float64</th><th>float64</th><th>float64</th><th>float64</th></tr></thead>\n",
       "</table>"
      ],
      "text/plain": [
       "<Table length=0>\n",
       "  mass     L      Teff     R      logg  ... m_ubv_V m_ubv_B m_ubv_R m_ubv_I\n",
       "solMass    W       K       m            ...                                \n",
       "float64 float64 float64 float64 float64 ... float64 float64 float64 float64\n",
       "------- ------- ------- ------- ------- ... ------- ------- ------- -------"
      ]
     },
     "execution_count": 2,
     "metadata": {},
     "output_type": "execute_result"
    }
   ],
   "source": [
    "iso1.primaries[np.where(iso1.primaries['mass']< 0)]"
   ]
  },
  {
   "cell_type": "code",
   "execution_count": 3,
   "metadata": {},
   "outputs": [
    {
     "data": {
      "text/html": [
       "<i>Table length=0</i>\n",
       "<table id=\"table140397539768976\" class=\"table-striped table-bordered table-condensed\">\n",
       "<thead><tr><th>mass</th><th>log_a</th><th>L</th><th>Teff</th><th>R</th><th>logg</th><th>isWR</th><th>mass_current</th><th>phase</th><th>merged</th><th>source</th><th>m_ubv_U</th><th>m_ubv_V</th><th>m_ubv_B</th><th>m_ubv_R</th><th>m_ubv_I</th></tr></thead>\n",
       "<thead><tr><th>solMass</th><th></th><th>W</th><th>K</th><th>m</th><th></th><th></th><th>solMass</th><th></th><th></th><th></th><th></th><th></th><th></th><th></th><th></th></tr></thead>\n",
       "<thead><tr><th>float64</th><th>float64</th><th>float64</th><th>float64</th><th>float64</th><th>float64</th><th>bool</th><th>float64</th><th>float64</th><th>bool</th><th>int64</th><th>float64</th><th>float64</th><th>float64</th><th>float64</th><th>float64</th></tr></thead>\n",
       "</table>"
      ],
      "text/plain": [
       "<Table length=0>\n",
       "  mass   log_a     L      Teff     R    ... m_ubv_V m_ubv_B m_ubv_R m_ubv_I\n",
       "solMass            W       K       m    ...                                \n",
       "float64 float64 float64 float64 float64 ... float64 float64 float64 float64\n",
       "------- ------- ------- ------- ------- ... ------- ------- ------- -------"
      ]
     },
     "execution_count": 3,
     "metadata": {},
     "output_type": "execute_result"
    }
   ],
   "source": [
    "iso1.secondaries[np.where(iso1.secondaries['mass'] < 0)]"
   ]
  },
  {
   "cell_type": "code",
   "execution_count": 4,
   "metadata": {},
   "outputs": [
    {
     "data": {
      "text/html": [
       "<i>Table length=0</i>\n",
       "<table id=\"table140397790666032\" class=\"table-striped table-bordered table-condensed\">\n",
       "<thead><tr><th>mass</th><th>log_a</th><th>L</th><th>Teff</th><th>R</th><th>logg</th><th>isWR</th><th>mass_current</th><th>phase</th><th>merged</th><th>source</th><th>m_ubv_U</th><th>m_ubv_V</th><th>m_ubv_B</th><th>m_ubv_R</th><th>m_ubv_I</th></tr></thead>\n",
       "<thead><tr><th>solMass</th><th></th><th>W</th><th>K</th><th>m</th><th></th><th></th><th>solMass</th><th></th><th></th><th></th><th></th><th></th><th></th><th></th><th></th></tr></thead>\n",
       "<thead><tr><th>float64</th><th>float64</th><th>float64</th><th>float64</th><th>float64</th><th>float64</th><th>bool</th><th>float64</th><th>float64</th><th>bool</th><th>int64</th><th>float64</th><th>float64</th><th>float64</th><th>float64</th><th>float64</th></tr></thead>\n",
       "</table>"
      ],
      "text/plain": [
       "<Table length=0>\n",
       "  mass   log_a     L      Teff     R    ... m_ubv_V m_ubv_B m_ubv_R m_ubv_I\n",
       "solMass            W       K       m    ...                                \n",
       "float64 float64 float64 float64 float64 ... float64 float64 float64 float64\n",
       "------- ------- ------- ------- ------- ... ------- ------- ------- -------"
      ]
     },
     "execution_count": 4,
     "metadata": {},
     "output_type": "execute_result"
    }
   ],
   "source": [
    "iso1.secondaries[np.where(iso1.singles['mass'] < 0)]"
   ]
  },
  {
   "cell_type": "markdown",
   "metadata": {},
   "source": [
    "For a sanity check, we can see that the primaries, secondaries, and single stars have phasees of 5 or of 101. Note that we will have a phase of 110 in order to indicate a mystery compact remnant that BPASS provides for NEWSECMODS (secondary star models with compact primaries). This is since we haven't added neutron stars or black holes yet. Stars with phase of -99 exist, and those are the secondary stars that have already merged."
   ]
  },
  {
   "cell_type": "code",
   "execution_count": 5,
   "metadata": {},
   "outputs": [
    {
     "name": "stdout",
     "output_type": "stream",
     "text": [
      "Isochrone generation took 73.528777 s.\n",
      "Making photometry for isochrone: log(t) = 9.00  AKs = 0.70  dist = 100\n",
      "     Starting at:  2020-12-20 17:33:19.518684   Usually takes ~5 minutes\n",
      "Starting filter: ubv,U   Elapsed time: 0.00 seconds\n",
      "Starting synthetic photometry\n",
      "M =   0.106 Msun  T =  2909 K  m_ubv_U = 33.40\n",
      "M =   1.215 Msun  T =  6415 K  m_ubv_U = 20.55\n",
      "M =   2.038 Msun  T =  7816 K  m_ubv_U = 17.29\n",
      "M =   2.055 Msun  T =  4955 K  m_ubv_U = 19.05\n",
      "M =   2.071 Msun  T =  4749 K  m_ubv_U = 18.64\n",
      "M =   2.275 Msun  T =  4576 K  m_ubv_U = 18.06\n",
      "M =   2.287 Msun  T =  3677 K  m_ubv_U = 17.25\n",
      "M =   2.287 Msun  T =  3493 K  m_ubv_U = 17.19\n",
      "M =   2.287 Msun  T =  3478 K  m_ubv_U = 17.19\n",
      "M =   2.288 Msun  T =  3244 K  m_ubv_U = 17.39\n",
      "M =   2.288 Msun  T =  3188 K  m_ubv_U = 17.69\n",
      "M =   2.288 Msun  T = 29326 K  m_ubv_U = 12.80\n",
      "M =   2.288 Msun  T = 134813 K  m_ubv_U = 17.53\n",
      "Starting filter: ubv,B   Elapsed time: 3.15 seconds\n",
      "Starting synthetic photometry\n",
      "M =   0.106 Msun  T =  2909 K  m_ubv_B = 33.52\n",
      "M =   1.215 Msun  T =  6415 K  m_ubv_B = 20.63\n",
      "M =   2.038 Msun  T =  7816 K  m_ubv_B = 17.21\n",
      "M =   2.055 Msun  T =  4955 K  m_ubv_B = 18.57\n",
      "M =   2.071 Msun  T =  4749 K  m_ubv_B = 17.98\n",
      "M =   2.275 Msun  T =  4576 K  m_ubv_B = 17.26\n",
      "M =   2.287 Msun  T =  3677 K  m_ubv_B = 16.33\n",
      "M =   2.287 Msun  T =  3493 K  m_ubv_B = 16.54\n",
      "M =   2.287 Msun  T =  3478 K  m_ubv_B = 16.56\n",
      "M =   2.288 Msun  T =  3244 K  m_ubv_B = 17.33\n",
      "M =   2.288 Msun  T =  3188 K  m_ubv_B = 17.85\n",
      "M =   2.288 Msun  T = 29326 K  m_ubv_B = 13.88\n",
      "M =   2.288 Msun  T = 134813 K  m_ubv_B = 18.72\n",
      "Starting filter: ubv,V   Elapsed time: 6.38 seconds\n",
      "Starting synthetic photometry\n",
      "M =   0.106 Msun  T =  2909 K  m_ubv_V = 30.94\n",
      "M =   1.215 Msun  T =  6415 K  m_ubv_V = 19.16\n",
      "M =   2.038 Msun  T =  7816 K  m_ubv_V = 16.12\n",
      "M =   2.055 Msun  T =  4955 K  m_ubv_V = 16.52\n",
      "M =   2.071 Msun  T =  4749 K  m_ubv_V = 15.80\n",
      "M =   2.275 Msun  T =  4576 K  m_ubv_V = 14.98\n",
      "M =   2.287 Msun  T =  3677 K  m_ubv_V = 13.46\n",
      "M =   2.287 Msun  T =  3493 K  m_ubv_V = 13.68\n",
      "M =   2.287 Msun  T =  3478 K  m_ubv_V = 13.71\n",
      "M =   2.288 Msun  T =  3244 K  m_ubv_V = 14.82\n",
      "M =   2.288 Msun  T =  3188 K  m_ubv_V = 15.44\n",
      "M =   2.288 Msun  T = 29326 K  m_ubv_V = 13.30\n",
      "M =   2.288 Msun  T = 134813 K  m_ubv_V = 18.29\n",
      "Starting filter: ubv,R   Elapsed time: 9.50 seconds\n",
      "Starting synthetic photometry\n",
      "M =   0.106 Msun  T =  2909 K  m_ubv_R = 25.82\n",
      "M =   1.215 Msun  T =  6415 K  m_ubv_R = 16.25\n",
      "M =   2.038 Msun  T =  7816 K  m_ubv_R = 13.39\n",
      "M =   2.055 Msun  T =  4955 K  m_ubv_R = 13.40\n",
      "M =   2.071 Msun  T =  4749 K  m_ubv_R = 12.64\n",
      "M =   2.275 Msun  T =  4576 K  m_ubv_R = 11.77\n",
      "M =   2.287 Msun  T =  3677 K  m_ubv_R = 9.85\n",
      "M =   2.287 Msun  T =  3493 K  m_ubv_R = 9.72\n",
      "M =   2.287 Msun  T =  3478 K  m_ubv_R = 9.72\n",
      "M =   2.288 Msun  T =  3244 K  m_ubv_R = 9.98\n",
      "M =   2.288 Msun  T =  3188 K  m_ubv_R = 10.31\n",
      "M =   2.288 Msun  T = 29326 K  m_ubv_R = 10.78\n",
      "M =   2.288 Msun  T = 134813 K  m_ubv_R = 15.84\n",
      "Starting filter: ubv,I   Elapsed time: 12.52 seconds\n",
      "Starting synthetic photometry\n",
      "M =   0.106 Msun  T =  2909 K  m_ubv_I = 20.31\n",
      "M =   1.215 Msun  T =  6415 K  m_ubv_I = 12.48\n",
      "M =   2.038 Msun  T =  7816 K  m_ubv_I = 9.75\n",
      "M =   2.055 Msun  T =  4955 K  m_ubv_I = 9.42\n",
      "M =   2.071 Msun  T =  4749 K  m_ubv_I = 8.61\n",
      "M =   2.275 Msun  T =  4576 K  m_ubv_I = 7.70\n",
      "M =   2.287 Msun  T =  3677 K  m_ubv_I = 5.31\n",
      "M =   2.287 Msun  T =  3493 K  m_ubv_I = 4.87\n",
      "M =   2.287 Msun  T =  3478 K  m_ubv_I = 4.84\n",
      "M =   2.288 Msun  T =  3244 K  m_ubv_I = 4.46\n",
      "M =   2.288 Msun  T =  3188 K  m_ubv_I = 4.56\n",
      "M =   2.288 Msun  T = 29326 K  m_ubv_I = 7.48\n",
      "M =   2.288 Msun  T = 134813 K  m_ubv_I = 12.62\n",
      "      Time taken: 15.56 seconds\n"
     ]
    }
   ],
   "source": [
    "iso2=synthetic.IsochronePhot(9.0, 0.7, 100, math.log10(1), mass_sampling =1 , recomp=True) # New MIST v.1 isochrone for same metallicity"
   ]
  },
  {
   "cell_type": "code",
   "execution_count": 6,
   "metadata": {},
   "outputs": [],
   "source": [
    "from spisea import imf\n",
    "from spisea.imf import imf, multiplicity\n",
    "from spisea import ifmr"
   ]
  },
  {
   "cell_type": "markdown",
   "metadata": {},
   "source": [
    "Make the clusters corresponding to the binary star isochrone and the MISTv.1 isochrone"
   ]
  },
  {
   "cell_type": "code",
   "execution_count": 7,
   "metadata": {},
   "outputs": [
    {
     "name": "stdout",
     "output_type": "stream",
     "text": [
      "3532.199569999933\n"
     ]
    },
    {
     "name": "stderr",
     "output_type": "stream",
     "text": [
      "/opt/anaconda3/envs/astroconda/lib/python3.7/site-packages/astropy/table/column.py:1020: RuntimeWarning: invalid value encountered in greater_equal\n",
      "  result = getattr(super(), op)(other)\n"
     ]
    },
    {
     "name": "stdout",
     "output_type": "stream",
     "text": [
      "Found 186 companions out of stellar mass range\n"
     ]
    }
   ],
   "source": [
    "clus_1=synthetic.Binary_Cluster(iso1, imf.Kennicutt_1983(multiplicity=multiplicity.MultiplicityResolvedDK()), 10000, ifmr=ifmr.IFMR_Spera15())\n",
    "clus_2=synthetic.ResolvedCluster(iso2, imf.IMFSalpeter1955(multiplicity=multiplicity.MultiplicityUnresolved()), 10000, ifmr=ifmr.IFMR_Spera15())"
   ]
  },
  {
   "cell_type": "code",
   "execution_count": null,
   "metadata": {},
   "outputs": [],
   "source": []
  },
  {
   "cell_type": "code",
   "execution_count": 8,
   "metadata": {},
   "outputs": [],
   "source": [
    "from scipy.spatial import cKDTree as KDTree\n",
    "primary_mass = 3.907104476879689\n",
    "secondary_mass = 2.0712811580188424\n",
    "loga=0.028763045199171167\n",
    "iso = iso1"
   ]
  },
  {
   "cell_type": "code",
   "execution_count": 9,
   "metadata": {},
   "outputs": [],
   "source": [
    "kd = KDTree(np.transpose(np.array([iso.primaries['mass']/primary_mass, iso.secondaries['mass']/secondary_mass, iso.secondaries['log_a']/loga])))"
   ]
  },
  {
   "cell_type": "code",
   "execution_count": 10,
   "metadata": {},
   "outputs": [],
   "source": [
    "q_results = kd.query(np.array([[1, 1, 1]]))"
   ]
  },
  {
   "cell_type": "code",
   "execution_count": 11,
   "metadata": {},
   "outputs": [
    {
     "data": {
      "text/plain": [
       "(array([0.16954209]), array([108]))"
      ]
     },
     "execution_count": 11,
     "metadata": {},
     "output_type": "execute_result"
    }
   ],
   "source": [
    "q_results"
   ]
  },
  {
   "cell_type": "code",
   "execution_count": 12,
   "metadata": {},
   "outputs": [
    {
     "ename": "IndexError",
     "evalue": "index 3870 out of range for table with length 2315",
     "output_type": "error",
     "traceback": [
      "\u001b[0;31m---------------------------------------------------------------------------\u001b[0m",
      "\u001b[0;31mIndexError\u001b[0m                                Traceback (most recent call last)",
      "\u001b[0;32m<ipython-input-12-64dbae8f7fc4>\u001b[0m in \u001b[0;36m<module>\u001b[0;34m\u001b[0m\n\u001b[0;32m----> 1\u001b[0;31m \u001b[0miso1\u001b[0m\u001b[0;34m.\u001b[0m\u001b[0mprimaries\u001b[0m\u001b[0;34m[\u001b[0m\u001b[0;36m3870\u001b[0m\u001b[0;34m]\u001b[0m\u001b[0;34m\u001b[0m\u001b[0;34m\u001b[0m\u001b[0m\n\u001b[0m",
      "\u001b[0;32m/opt/anaconda3/envs/astroconda/lib/python3.7/site-packages/astropy/table/table.py\u001b[0m in \u001b[0;36m__getitem__\u001b[0;34m(self, item)\u001b[0m\n\u001b[1;32m   1602\u001b[0m             \u001b[0;32mreturn\u001b[0m \u001b[0mself\u001b[0m\u001b[0;34m.\u001b[0m\u001b[0mcolumns\u001b[0m\u001b[0;34m[\u001b[0m\u001b[0mitem\u001b[0m\u001b[0;34m]\u001b[0m\u001b[0;34m\u001b[0m\u001b[0;34m\u001b[0m\u001b[0m\n\u001b[1;32m   1603\u001b[0m         \u001b[0;32melif\u001b[0m \u001b[0misinstance\u001b[0m\u001b[0;34m(\u001b[0m\u001b[0mitem\u001b[0m\u001b[0;34m,\u001b[0m \u001b[0;34m(\u001b[0m\u001b[0mint\u001b[0m\u001b[0;34m,\u001b[0m \u001b[0mnp\u001b[0m\u001b[0;34m.\u001b[0m\u001b[0minteger\u001b[0m\u001b[0;34m)\u001b[0m\u001b[0;34m)\u001b[0m\u001b[0;34m:\u001b[0m\u001b[0;34m\u001b[0m\u001b[0;34m\u001b[0m\u001b[0m\n\u001b[0;32m-> 1604\u001b[0;31m             \u001b[0;32mreturn\u001b[0m \u001b[0mself\u001b[0m\u001b[0;34m.\u001b[0m\u001b[0mRow\u001b[0m\u001b[0;34m(\u001b[0m\u001b[0mself\u001b[0m\u001b[0;34m,\u001b[0m \u001b[0mitem\u001b[0m\u001b[0;34m)\u001b[0m\u001b[0;34m\u001b[0m\u001b[0;34m\u001b[0m\u001b[0m\n\u001b[0m\u001b[1;32m   1605\u001b[0m         \u001b[0;32melif\u001b[0m \u001b[0;34m(\u001b[0m\u001b[0misinstance\u001b[0m\u001b[0;34m(\u001b[0m\u001b[0mitem\u001b[0m\u001b[0;34m,\u001b[0m \u001b[0mnp\u001b[0m\u001b[0;34m.\u001b[0m\u001b[0mndarray\u001b[0m\u001b[0;34m)\u001b[0m \u001b[0;32mand\u001b[0m \u001b[0mitem\u001b[0m\u001b[0;34m.\u001b[0m\u001b[0mshape\u001b[0m \u001b[0;34m==\u001b[0m \u001b[0;34m(\u001b[0m\u001b[0;34m)\u001b[0m \u001b[0;32mand\u001b[0m \u001b[0mitem\u001b[0m\u001b[0;34m.\u001b[0m\u001b[0mdtype\u001b[0m\u001b[0;34m.\u001b[0m\u001b[0mkind\u001b[0m \u001b[0;34m==\u001b[0m \u001b[0;34m'i'\u001b[0m\u001b[0;34m)\u001b[0m\u001b[0;34m:\u001b[0m\u001b[0;34m\u001b[0m\u001b[0;34m\u001b[0m\u001b[0m\n\u001b[1;32m   1606\u001b[0m             \u001b[0;32mreturn\u001b[0m \u001b[0mself\u001b[0m\u001b[0;34m.\u001b[0m\u001b[0mRow\u001b[0m\u001b[0;34m(\u001b[0m\u001b[0mself\u001b[0m\u001b[0;34m,\u001b[0m \u001b[0mitem\u001b[0m\u001b[0;34m.\u001b[0m\u001b[0mitem\u001b[0m\u001b[0;34m(\u001b[0m\u001b[0;34m)\u001b[0m\u001b[0;34m)\u001b[0m\u001b[0;34m\u001b[0m\u001b[0;34m\u001b[0m\u001b[0m\n",
      "\u001b[0;32m/opt/anaconda3/envs/astroconda/lib/python3.7/site-packages/astropy/table/row.py\u001b[0m in \u001b[0;36m__init__\u001b[0;34m(self, table, index)\u001b[0m\n\u001b[1;32m     38\u001b[0m         \u001b[0;32mif\u001b[0m \u001b[0mindex\u001b[0m \u001b[0;34m<\u001b[0m \u001b[0;34m-\u001b[0m\u001b[0mn\u001b[0m \u001b[0;32mor\u001b[0m \u001b[0mindex\u001b[0m \u001b[0;34m>=\u001b[0m \u001b[0mn\u001b[0m\u001b[0;34m:\u001b[0m\u001b[0;34m\u001b[0m\u001b[0;34m\u001b[0m\u001b[0m\n\u001b[1;32m     39\u001b[0m             raise IndexError('index {} out of range for table with length {}'\n\u001b[0;32m---> 40\u001b[0;31m                              .format(index, len(table)))\n\u001b[0m\u001b[1;32m     41\u001b[0m \u001b[0;34m\u001b[0m\u001b[0m\n\u001b[1;32m     42\u001b[0m         \u001b[0;31m# Finally, ensure the index is positive [#8422] and set Row attributes\u001b[0m\u001b[0;34m\u001b[0m\u001b[0;34m\u001b[0m\u001b[0;34m\u001b[0m\u001b[0m\n",
      "\u001b[0;31mIndexError\u001b[0m: index 3870 out of range for table with length 2315"
     ]
    }
   ],
   "source": [
    "iso1.primaries[3870]"
   ]
  },
  {
   "cell_type": "markdown",
   "metadata": {},
   "source": [
    "Let's make sure that I am getting just about enough star mass for my cluster. (It was a bug before I used an adjustment factor.)"
   ]
  },
  {
   "cell_type": "code",
   "execution_count": 13,
   "metadata": {},
   "outputs": [
    {
     "data": {
      "text/plain": [
       "9969.966358292115"
      ]
     },
     "execution_count": 13,
     "metadata": {},
     "output_type": "execute_result"
    }
   ],
   "source": [
    "clus_1.star_systems['systemMass'].sum()"
   ]
  },
  {
   "cell_type": "code",
   "execution_count": 14,
   "metadata": {},
   "outputs": [
    {
     "name": "stdout",
     "output_type": "stream",
     "text": [
      "3821.063279999932\n",
      "3920.5474299999355\n",
      "3559.5589299999297\n",
      "3887.829999999921\n",
      "3664.5299999999306\n",
      "3584.50999999994\n",
      "3566.508929999935\n",
      "3546.358929999936\n",
      "3600.3789299999385\n",
      "3806.426359999936\n",
      "327.03000000000003\n",
      "3327.883279999937\n",
      "3955.1299999999273\n",
      "3336.129999999942\n",
      "3869.38327999993\n",
      "3784.173279999939\n",
      "3718.311069999929\n",
      "3681.93284999993\n",
      "3768.0851499999344\n",
      "3846.941069999921\n",
      "3898.5599999999336\n",
      "3864.4432799999327\n",
      "3673.0007999999248\n",
      "3736.772209999933\n",
      "4054.591069999925\n",
      "3613.529999999937\n",
      "3787.872509999937\n",
      "3356.899999999936\n",
      "3768.1699999999305\n",
      "3641.2132799999317\n",
      "3272.4199999999446\n",
      "3615.1191399999325\n",
      "3795.7899999999313\n",
      "3163.0784999999446\n",
      "3490.0289299999354\n",
      "3458.217629999945\n",
      "3568.2599999999347\n",
      "3653.098929999935\n",
      "3546.1832799999383\n",
      "3578.1332799999377\n",
      "3679.6595699999234\n",
      "3550.9199999999387\n",
      "3552.5484999999353\n",
      "3773.411069999928\n",
      "3453.6106399999426\n",
      "3789.013279999923\n",
      "3575.7651499999374\n",
      "3483.6099999999365\n",
      "3605.4099999999416\n",
      "3848.0328499999255\n",
      "3653.7199999999325\n",
      "3620.0132799999365\n",
      "3551.6599999999303\n",
      "2971.873279999954\n",
      "3890.9299999999266\n",
      "3677.5399999999313\n",
      "3651.449999999925\n",
      "3632.5811399999375\n",
      "3549.5189299999365\n",
      "3851.749999999933\n",
      "3653.8495699999326\n",
      "3634.972939999936\n",
      "4049.3889299999273\n",
      "3511.589999999937\n",
      "3977.398929999929\n",
      "3552.7299999999314\n",
      "4123.719569999927\n",
      "3426.649999999935\n",
      "3844.2799999999274\n",
      "3835.9821399999305\n",
      "4015.229999999928\n",
      "3719.8495699999407\n",
      "3520.7028499999296\n",
      "3473.768929999935\n",
      "3498.6732799999336\n",
      "3788.6499999999282\n",
      "3367.088929999942\n",
      "2837.358929999956\n",
      "3791.4299999999294\n",
      "3786.0332799999283\n",
      "3846.678929999925\n",
      "3580.4989299999334\n",
      "2861.1510699999617\n",
      "4030.812209999925\n",
      "3495.1332799999336\n",
      "3634.7065599999305\n",
      "3585.209999999933\n",
      "3564.2110699999466\n",
      "3826.863279999934\n",
      "3573.396559999931\n",
      "3839.309999999926\n",
      "3874.5399999999286\n",
      "2711.159999999968\n",
      "4015.531439999922\n",
      "4023.569999999924\n",
      "2742.87892999996\n",
      "3806.1399999999253\n",
      "3590.0003699999424\n",
      "3263.419999999941\n",
      "3645.909999999932\n"
     ]
    }
   ],
   "source": [
    "arr =[]\n",
    "for x in range(100):\n",
    "    clus_1=synthetic.Binary_Cluster(iso1, imf.Kennicutt_1983(multiplicity=multiplicity.MultiplicityResolvedDK()), 10000, ifmr=ifmr.IFMR_Spera15())\n",
    "    arr.append(clus_1.star_systems['systemMass'].sum())"
   ]
  },
  {
   "cell_type": "code",
   "execution_count": 15,
   "metadata": {},
   "outputs": [
    {
     "name": "stdout",
     "output_type": "stream",
     "text": [
      "10482.484818999255\n"
     ]
    },
    {
     "data": {
      "text/plain": [
       "<matplotlib.legend.Legend at 0x7fb0db9cc898>"
      ]
     },
     "execution_count": 15,
     "metadata": {},
     "output_type": "execute_result"
    },
    {
     "data": {
      "image/png": "[encoded data removed]",
      "text/plain": [
       "<Figure size 432x288 with 1 Axes>"
      ]
     },
     "metadata": {
      "needs_background": "light"
     },
     "output_type": "display_data"
    }
   ],
   "source": [
    "import matplotlib.pyplot as plt\n",
    "hist, bins, patch = plt.hist(np.array(arr), bins=30, histtype='step', label='BPASS clusters with x mass')\n",
    "plt.title(\"BPASS cluster mass distribution (# of models within mass bin over mass)\")\n",
    "print(np.median(np.array(arr)))\n",
    "plt.legend()"
   ]
  },
  {
   "cell_type": "code",
   "execution_count": 16,
   "metadata": {},
   "outputs": [
    {
     "data": {
      "text/html": [
       "&lt;Column name=&apos;mass&apos; dtype=&apos;float64&apos; length=1649&gt;\n",
       "<table>\n",
       "<tr><td>0.35000000000000003</td></tr>\n",
       "<tr><td>0.4</td></tr>\n",
       "<tr><td>0.35</td></tr>\n",
       "<tr><td>0.35</td></tr>\n",
       "<tr><td>0.32000000000000006</td></tr>\n",
       "<tr><td>0.6400000000000001</td></tr>\n",
       "<tr><td>0.35</td></tr>\n",
       "<tr><td>0.35</td></tr>\n",
       "<tr><td>0.21000000000000002</td></tr>\n",
       "<tr><td>0.3</td></tr>\n",
       "<tr><td>0.35</td></tr>\n",
       "<tr><td>0.35</td></tr>\n",
       "<tr><td>...</td></tr>\n",
       "<tr><td>0.35</td></tr>\n",
       "<tr><td>0.32000000000000006</td></tr>\n",
       "<tr><td>0.96</td></tr>\n",
       "<tr><td>0.35</td></tr>\n",
       "<tr><td>0.35</td></tr>\n",
       "<tr><td>0.35</td></tr>\n",
       "<tr><td>0.35</td></tr>\n",
       "<tr><td>0.35</td></tr>\n",
       "<tr><td>1.75</td></tr>\n",
       "<tr><td>0.35</td></tr>\n",
       "<tr><td>0.35</td></tr>\n",
       "<tr><td>0.35</td></tr>\n",
       "</table>"
      ],
      "text/plain": [
       "<Column name='mass' dtype='float64' length=1649>\n",
       "0.35000000000000003\n",
       "                0.4\n",
       "               0.35\n",
       "               0.35\n",
       "0.32000000000000006\n",
       " 0.6400000000000001\n",
       "               0.35\n",
       "               0.35\n",
       "0.21000000000000002\n",
       "                0.3\n",
       "               0.35\n",
       "               0.35\n",
       "                ...\n",
       "               0.35\n",
       "0.32000000000000006\n",
       "               0.96\n",
       "               0.35\n",
       "               0.35\n",
       "               0.35\n",
       "               0.35\n",
       "               0.35\n",
       "               1.75\n",
       "               0.35\n",
       "               0.35\n",
       "               0.35"
      ]
     },
     "execution_count": 16,
     "metadata": {},
     "output_type": "execute_result"
    }
   ],
   "source": [
    "clus_1.companions['mass']"
   ]
  },
  {
   "cell_type": "code",
   "execution_count": 17,
   "metadata": {},
   "outputs": [
    {
     "ename": "IndexError",
     "evalue": "index 3870 out of range for table with length 2315",
     "output_type": "error",
     "traceback": [
      "\u001b[0;31m---------------------------------------------------------------------------\u001b[0m",
      "\u001b[0;31mIndexError\u001b[0m                                Traceback (most recent call last)",
      "\u001b[0;32m<ipython-input-17-1498d5cf84ad>\u001b[0m in \u001b[0;36m<module>\u001b[0;34m\u001b[0m\n\u001b[0;32m----> 1\u001b[0;31m \u001b[0miso1\u001b[0m\u001b[0;34m.\u001b[0m\u001b[0msecondaries\u001b[0m\u001b[0;34m[\u001b[0m\u001b[0;36m3870\u001b[0m\u001b[0;34m]\u001b[0m\u001b[0;34m\u001b[0m\u001b[0;34m\u001b[0m\u001b[0m\n\u001b[0m",
      "\u001b[0;32m/opt/anaconda3/envs/astroconda/lib/python3.7/site-packages/astropy/table/table.py\u001b[0m in \u001b[0;36m__getitem__\u001b[0;34m(self, item)\u001b[0m\n\u001b[1;32m   1602\u001b[0m             \u001b[0;32mreturn\u001b[0m \u001b[0mself\u001b[0m\u001b[0;34m.\u001b[0m\u001b[0mcolumns\u001b[0m\u001b[0;34m[\u001b[0m\u001b[0mitem\u001b[0m\u001b[0;34m]\u001b[0m\u001b[0;34m\u001b[0m\u001b[0;34m\u001b[0m\u001b[0m\n\u001b[1;32m   1603\u001b[0m         \u001b[0;32melif\u001b[0m \u001b[0misinstance\u001b[0m\u001b[0;34m(\u001b[0m\u001b[0mitem\u001b[0m\u001b[0;34m,\u001b[0m \u001b[0;34m(\u001b[0m\u001b[0mint\u001b[0m\u001b[0;34m,\u001b[0m \u001b[0mnp\u001b[0m\u001b[0;34m.\u001b[0m\u001b[0minteger\u001b[0m\u001b[0;34m)\u001b[0m\u001b[0;34m)\u001b[0m\u001b[0;34m:\u001b[0m\u001b[0;34m\u001b[0m\u001b[0;34m\u001b[0m\u001b[0m\n\u001b[0;32m-> 1604\u001b[0;31m             \u001b[0;32mreturn\u001b[0m \u001b[0mself\u001b[0m\u001b[0;34m.\u001b[0m\u001b[0mRow\u001b[0m\u001b[0;34m(\u001b[0m\u001b[0mself\u001b[0m\u001b[0;34m,\u001b[0m \u001b[0mitem\u001b[0m\u001b[0;34m)\u001b[0m\u001b[0;34m\u001b[0m\u001b[0;34m\u001b[0m\u001b[0m\n\u001b[0m\u001b[1;32m   1605\u001b[0m         \u001b[0;32melif\u001b[0m \u001b[0;34m(\u001b[0m\u001b[0misinstance\u001b[0m\u001b[0;34m(\u001b[0m\u001b[0mitem\u001b[0m\u001b[0;34m,\u001b[0m \u001b[0mnp\u001b[0m\u001b[0;34m.\u001b[0m\u001b[0mndarray\u001b[0m\u001b[0;34m)\u001b[0m \u001b[0;32mand\u001b[0m \u001b[0mitem\u001b[0m\u001b[0;34m.\u001b[0m\u001b[0mshape\u001b[0m \u001b[0;34m==\u001b[0m \u001b[0;34m(\u001b[0m\u001b[0;34m)\u001b[0m \u001b[0;32mand\u001b[0m \u001b[0mitem\u001b[0m\u001b[0;34m.\u001b[0m\u001b[0mdtype\u001b[0m\u001b[0;34m.\u001b[0m\u001b[0mkind\u001b[0m \u001b[0;34m==\u001b[0m \u001b[0;34m'i'\u001b[0m\u001b[0;34m)\u001b[0m\u001b[0;34m:\u001b[0m\u001b[0;34m\u001b[0m\u001b[0;34m\u001b[0m\u001b[0m\n\u001b[1;32m   1606\u001b[0m             \u001b[0;32mreturn\u001b[0m \u001b[0mself\u001b[0m\u001b[0;34m.\u001b[0m\u001b[0mRow\u001b[0m\u001b[0;34m(\u001b[0m\u001b[0mself\u001b[0m\u001b[0;34m,\u001b[0m \u001b[0mitem\u001b[0m\u001b[0;34m.\u001b[0m\u001b[0mitem\u001b[0m\u001b[0;34m(\u001b[0m\u001b[0;34m)\u001b[0m\u001b[0;34m)\u001b[0m\u001b[0;34m\u001b[0m\u001b[0;34m\u001b[0m\u001b[0m\n",
      "\u001b[0;32m/opt/anaconda3/envs/astroconda/lib/python3.7/site-packages/astropy/table/row.py\u001b[0m in \u001b[0;36m__init__\u001b[0;34m(self, table, index)\u001b[0m\n\u001b[1;32m     38\u001b[0m         \u001b[0;32mif\u001b[0m \u001b[0mindex\u001b[0m \u001b[0;34m<\u001b[0m \u001b[0;34m-\u001b[0m\u001b[0mn\u001b[0m \u001b[0;32mor\u001b[0m \u001b[0mindex\u001b[0m \u001b[0;34m>=\u001b[0m \u001b[0mn\u001b[0m\u001b[0;34m:\u001b[0m\u001b[0;34m\u001b[0m\u001b[0;34m\u001b[0m\u001b[0m\n\u001b[1;32m     39\u001b[0m             raise IndexError('index {} out of range for table with length {}'\n\u001b[0;32m---> 40\u001b[0;31m                              .format(index, len(table)))\n\u001b[0m\u001b[1;32m     41\u001b[0m \u001b[0;34m\u001b[0m\u001b[0m\n\u001b[1;32m     42\u001b[0m         \u001b[0;31m# Finally, ensure the index is positive [#8422] and set Row attributes\u001b[0m\u001b[0;34m\u001b[0m\u001b[0;34m\u001b[0m\u001b[0;34m\u001b[0m\u001b[0m\n",
      "\u001b[0;31mIndexError\u001b[0m: index 3870 out of range for table with length 2315"
     ]
    }
   ],
   "source": [
    "iso1.secondaries[3870]"
   ]
  },
  {
   "cell_type": "code",
   "execution_count": 18,
   "metadata": {},
   "outputs": [
    {
     "data": {
      "image/png": "[encoded data removed]",
      "text/plain": [
       "<Figure size 432x288 with 1 Axes>"
      ]
     },
     "metadata": {
      "needs_background": "light"
     },
     "output_type": "display_data"
    }
   ],
   "source": [
    "import matplotlib.pyplot as plt\n",
    "plt.hist(iso1.primaries['mass'], bins=30)\n",
    "plt.yscale('log')"
   ]
  },
  {
   "cell_type": "code",
   "execution_count": 19,
   "metadata": {},
   "outputs": [
    {
     "data": {
      "image/png": "[encoded data removed]",
      "text/plain": [
       "<Figure size 432x288 with 1 Axes>"
      ]
     },
     "metadata": {
      "needs_background": "light"
     },
     "output_type": "display_data"
    }
   ],
   "source": [
    "import matplotlib.pyplot as plt\n",
    "plt.hist(iso1.secondaries['mass'], bins=30)\n",
    "plt.yscale('log')"
   ]
  },
  {
   "cell_type": "code",
   "execution_count": 20,
   "metadata": {},
   "outputs": [
    {
     "data": {
      "image/png": "[encoded data removed]",
      "text/plain": [
       "<Figure size 432x288 with 1 Axes>"
      ]
     },
     "metadata": {
      "needs_background": "light"
     },
     "output_type": "display_data"
    }
   ],
   "source": [
    "import matplotlib.pyplot as plt\n",
    "plt.hist(iso1.singles['mass'], bins=30)\n",
    "plt.yscale('log')"
   ]
  },
  {
   "cell_type": "code",
   "execution_count": 21,
   "metadata": {},
   "outputs": [
    {
     "data": {
      "image/png": "[encoded data removed]",
      "text/plain": [
       "<Figure size 432x288 with 1 Axes>"
      ]
     },
     "metadata": {
      "needs_background": "light"
     },
     "output_type": "display_data"
    }
   ],
   "source": [
    "import matplotlib.pyplot as plt\n",
    "plt.hist(clus_1.star_systems['systemMass'], bins=30)\n",
    "plt.yscale('log')"
   ]
  },
  {
   "cell_type": "code",
   "execution_count": 22,
   "metadata": {},
   "outputs": [
    {
     "data": {
      "image/png": "[encoded data removed]",
      "text/plain": [
       "<Figure size 432x288 with 1 Axes>"
      ]
     },
     "metadata": {
      "needs_background": "light"
     },
     "output_type": "display_data"
    }
   ],
   "source": [
    "import matplotlib.pyplot as plt\n",
    "plt.hist(clus_2.star_systems['systemMass'], bins=30)\n",
    "plt.yscale('log')"
   ]
  },
  {
   "cell_type": "code",
   "execution_count": 23,
   "metadata": {},
   "outputs": [
    {
     "data": {
      "text/plain": [
       "<matplotlib.legend.Legend at 0x7fb0eaba0eb8>"
      ]
     },
     "execution_count": 23,
     "metadata": {},
     "output_type": "execute_result"
    },
    {
     "data": {
      "image/png": "[encoded data removed]",
      "text/plain": [
       "<Figure size 432x288 with 1 Axes>"
      ]
     },
     "metadata": {
      "needs_background": "light"
     },
     "output_type": "display_data"
    }
   ],
   "source": [
    "hist, bins, patch = plt.hist(clus_1.star_systems['systemMass'], bins=30, histtype='step', label='BPASS')\n",
    "plt.hist(clus_2.star_systems['systemMass'], bins=bins, histtype='step', label='MISTv.1')\n",
    "plt.yscale('log')\n",
    "plt.legend()"
   ]
  },
  {
   "cell_type": "code",
   "execution_count": 24,
   "metadata": {},
   "outputs": [
    {
     "data": {
      "text/plain": [
       "<matplotlib.legend.Legend at 0x7fb0eaf1d080>"
      ]
     },
     "execution_count": 24,
     "metadata": {},
     "output_type": "execute_result"
    },
    {
     "data": {
      "image/png": "[encoded data removed]",
      "text/plain": [
       "<Figure size 432x288 with 1 Axes>"
      ]
     },
     "metadata": {
      "needs_background": "light"
     },
     "output_type": "display_data"
    }
   ],
   "source": [
    "hist, bins, patch = plt.hist(clus_1.star_systems['systemMass'], bins=30, histtype='step', label='BPASS')\n",
    "plt.hist(clus_2.star_systems['systemMass'], bins=bins, histtype='step', label='MISTv.1')\n",
    "plt.yscale('log')\n",
    "plt.legend()"
   ]
  },
  {
   "cell_type": "code",
   "execution_count": 25,
   "metadata": {},
   "outputs": [
    {
     "data": {
      "text/plain": [
       "<matplotlib.legend.Legend at 0x7fb0eaf7cdd8>"
      ]
     },
     "execution_count": 25,
     "metadata": {},
     "output_type": "execute_result"
    },
    {
     "data": {
      "image/png": "[encoded data removed]",
      "text/plain": [
       "<Figure size 432x288 with 1 Axes>"
      ]
     },
     "metadata": {
      "needs_background": "light"
     },
     "output_type": "display_data"
    }
   ],
   "source": [
    "hist, bins, patch = plt.hist(clus_1.star_systems['mass'], bins=30, histtype='step', label='BPASS')\n",
    "plt.hist(clus_2.star_systems['mass'], bins=bins, histtype='step', label='MISTv.1')\n",
    "plt.yscale('log')\n",
    "plt.legend()"
   ]
  },
  {
   "cell_type": "code",
   "execution_count": 26,
   "metadata": {},
   "outputs": [
    {
     "data": {
      "text/plain": [
       "<matplotlib.legend.Legend at 0x7fb0dae70438>"
      ]
     },
     "execution_count": 26,
     "metadata": {},
     "output_type": "execute_result"
    },
    {
     "data": {
      "image/png": "[encoded data removed]",
      "text/plain": [
       "<Figure size 432x288 with 1 Axes>"
      ]
     },
     "metadata": {
      "needs_background": "light"
     },
     "output_type": "display_data"
    }
   ],
   "source": [
    "hist, bins, patch = plt.hist(clus_1.companions['mass'], bins=30, histtype='step', label='BPASS')\n",
    "plt.hist(clus_2.companions['mass'], bins=30, histtype='step', label='MISTv.1')\n",
    "\n",
    "plt.yscale('log')\n",
    "plt.legend()"
   ]
  },
  {
   "cell_type": "code",
   "execution_count": null,
   "metadata": {},
   "outputs": [],
   "source": []
  },
  {
   "cell_type": "code",
   "execution_count": 27,
   "metadata": {},
   "outputs": [
    {
     "data": {
      "text/plain": [
       "9999.150186453753"
      ]
     },
     "execution_count": 27,
     "metadata": {},
     "output_type": "execute_result"
    }
   ],
   "source": [
    "# Comparison with the MIST v1 cluster\n",
    "clus_2.star_systems['systemMass'].sum()"
   ]
  },
  {
   "cell_type": "code",
   "execution_count": 28,
   "metadata": {},
   "outputs": [
    {
     "data": {
      "image/png": "[encoded data removed]",
      "text/plain": [
       "<Figure size 432x288 with 1 Axes>"
      ]
     },
     "metadata": {
      "needs_background": "light"
     },
     "output_type": "display_data"
    }
   ],
   "source": [
    "import matplotlib.pyplot as plt\n",
    "plt.hist(iso1.primaries['mass'], bins=30)\n",
    "plt.yscale('log')"
   ]
  },
  {
   "cell_type": "code",
   "execution_count": 29,
   "metadata": {},
   "outputs": [
    {
     "data": {
      "image/png": "[encoded data removed]",
      "text/plain": [
       "<Figure size 432x288 with 1 Axes>"
      ]
     },
     "metadata": {
      "needs_background": "light"
     },
     "output_type": "display_data"
    }
   ],
   "source": [
    "import matplotlib.pyplot as plt\n",
    "plt.hist(iso1.singles['mass'], bins=30)\n",
    "plt.yscale('log')"
   ]
  },
  {
   "cell_type": "code",
   "execution_count": 30,
   "metadata": {},
   "outputs": [
    {
     "data": {
      "image/png": "[encoded data removed]",
      "text/plain": [
       "<Figure size 432x288 with 1 Axes>"
      ]
     },
     "metadata": {
      "needs_background": "light"
     },
     "output_type": "display_data"
    }
   ],
   "source": [
    "import matplotlib.pyplot as plt\n",
    "plt.hist(iso1.secondaries['mass'], bins=30)\n",
    "plt.yscale('log')"
   ]
  },
  {
   "cell_type": "code",
   "execution_count": 31,
   "metadata": {},
   "outputs": [
    {
     "data": {
      "text/plain": [
       "(array([   7,   14,   18,   26,   30,   31,   37,   43,   45,   51,   52,\n",
       "          65,   73,   74,   78,   85,   92,   93,   94,   95,   96,   97,\n",
       "         103,  112,  113,  122,  124,  125,  130,  133,  135,  140,  141,\n",
       "         143,  146,  147,  149,  150,  152,  154,  157,  161,  164,  169,\n",
       "         170,  171,  173,  174,  175,  177,  183,  184,  190,  191,  192,\n",
       "         193,  196,  200,  207,  210,  223,  224,  225,  228,  231,  234,\n",
       "         237,  240,  241,  244,  246,  248,  256,  258,  260,  261,  262,\n",
       "         267,  270,  271,  274,  275,  277,  278,  280,  284,  291,  294,\n",
       "         300,  302,  306,  311,  313,  316,  317,  321,  323,  326,  327,\n",
       "         330,  337,  339,  341,  343,  347,  349,  351,  352,  353,  357,\n",
       "         365,  367,  377,  394,  395,  400,  402,  403,  404,  405,  406,\n",
       "         409,  410,  411,  412,  417,  419,  420,  422,  425,  430,  431,\n",
       "         438,  439,  442,  445,  447,  451,  452,  457,  460,  461,  462,\n",
       "         464,  465,  466,  467,  469,  478,  480,  486,  487,  488,  491,\n",
       "         492,  494,  503,  504,  507,  508,  509,  510,  512,  518,  521,\n",
       "         522,  525,  527,  531,  534,  541,  542,  544,  545,  546,  547,\n",
       "         548,  560,  561,  564,  565,  568,  570,  573,  578,  579,  580,\n",
       "         586,  589,  591,  592,  597,  607,  612,  613,  615,  616,  620,\n",
       "         633,  634,  635,  639,  642,  644,  645,  651,  659,  663,  667,\n",
       "         673,  684,  686,  693,  700,  703,  708,  714,  715,  718,  726,\n",
       "         729,  731,  733,  734,  741,  746,  747,  748,  751,  752,  753,\n",
       "         754,  757,  763,  764,  765,  766,  767,  771,  778,  779,  787,\n",
       "         789,  790,  792,  793,  795,  801,  803,  808,  812,  816,  820,\n",
       "         821,  822,  824,  826,  838,  839,  842,  843,  849,  854,  856,\n",
       "         857,  862,  863,  868,  870,  877,  879,  880,  884,  885,  886,\n",
       "         887,  889,  891,  894,  896,  899,  905,  909,  916,  922,  927,\n",
       "         929,  934,  935,  936,  937,  938,  946,  947,  948,  949,  950,\n",
       "         952,  955,  956,  958,  962,  964,  969,  970,  979,  980,  984,\n",
       "         986,  992,  993,  995,  996, 1001, 1004, 1008, 1014, 1016, 1017,\n",
       "        1018, 1019, 1021, 1024, 1026, 1032, 1043, 1050, 1055, 1057, 1058,\n",
       "        1060, 1061, 1065, 1071, 1073, 1075, 1076, 1078, 1083, 1084, 1085,\n",
       "        1087, 1095, 1099, 1100, 1101, 1103, 1107, 1109, 1110, 1113, 1115,\n",
       "        1117, 1123, 1127, 1128, 1130, 1131, 1134, 1135, 1140, 1149, 1153,\n",
       "        1156, 1157, 1162, 1168, 1169, 1172, 1174, 1176, 1177, 1184, 1186,\n",
       "        1189, 1195, 1196, 1199, 1204, 1205, 1208, 1209, 1216, 1219, 1220,\n",
       "        1222, 1224, 1225, 1228, 1229, 1233, 1237, 1239, 1242, 1243, 1244,\n",
       "        1248, 1250, 1251, 1258, 1261, 1262, 1266, 1268, 1269, 1272, 1276,\n",
       "        1281, 1282, 1292, 1304, 1305, 1309, 1310, 1311, 1318, 1320, 1324,\n",
       "        1327, 1334, 1335, 1336, 1341, 1342, 1343, 1345, 1350, 1352, 1353,\n",
       "        1356, 1357, 1360, 1362, 1366, 1372, 1380, 1383, 1384, 1385, 1387,\n",
       "        1390, 1392, 1397, 1399, 1406, 1413, 1419, 1421, 1424, 1429, 1432,\n",
       "        1433, 1434, 1435, 1442, 1443, 1455, 1456, 1458, 1459, 1463, 1466,\n",
       "        1467, 1470, 1472, 1476, 1478, 1479, 1486, 1487, 1492, 1494, 1496,\n",
       "        1499, 1503, 1505, 1507, 1508, 1509, 1516, 1520, 1521, 1523, 1524,\n",
       "        1527, 1528, 1534, 1535, 1540, 1541, 1544, 1549, 1554, 1556, 1557,\n",
       "        1558, 1569, 1572, 1573, 1575, 1576, 1580, 1583, 1586, 1591, 1592,\n",
       "        1594, 1595, 1599, 1606, 1609, 1611, 1612, 1614, 1616, 1619, 1623,\n",
       "        1624, 1627, 1628, 1629, 1634, 1635, 1636, 1642, 1643, 1644, 1646,\n",
       "        1648, 1649, 1650, 1652, 1654, 1659, 1662, 1663, 1665, 1667, 1669,\n",
       "        1674, 1677, 1685, 1688, 1690, 1691, 1696, 1698, 1700, 1701, 1703,\n",
       "        1707, 1709, 1714, 1719, 1727, 1730, 1731, 1732, 1733, 1734, 1735,\n",
       "        1736, 1738, 1740, 1742, 1743, 1744, 1745, 1750, 1752, 1757, 1758,\n",
       "        1760, 1763, 1765, 1768, 1774, 1778, 1779, 1780, 1782, 1787, 1790,\n",
       "        1793, 1799, 1800, 1802, 1803, 1808, 1812, 1814, 1824, 1826, 1828,\n",
       "        1831, 1832, 1833, 1834, 1837, 1838, 1841, 1844, 1848, 1849, 1851,\n",
       "        1855, 1861, 1862, 1863, 1864, 1867, 1873, 1876, 1877, 1878, 1881,\n",
       "        1884, 1885, 1888, 1889, 1891, 1893, 1894, 1904, 1908, 1909, 1914,\n",
       "        1915, 1918, 1920, 1922, 1925, 1927, 1936, 1937, 1938, 1950, 1954,\n",
       "        1956, 1964, 1967, 1976, 1977, 1980, 1981, 1983, 1986, 1987, 1988,\n",
       "        1989, 1990, 1996, 1997, 2001, 2005, 2006, 2011, 2012, 2018, 2019,\n",
       "        2029, 2030, 2031, 2036, 2037, 2046, 2056, 2057, 2060, 2063, 2065,\n",
       "        2067, 2068, 2072, 2073, 2074, 2076, 2079, 2084, 2085, 2086, 2088,\n",
       "        2102, 2108, 2109, 2113, 2119, 2120, 2122, 2126, 2128, 2136, 2141,\n",
       "        2143, 2144, 2148, 2154, 2160, 2161, 2163, 2166, 2170, 2176, 2177,\n",
       "        2178, 2179, 2180, 2183, 2190, 2194, 2195, 2198, 2199, 2205, 2207,\n",
       "        2211, 2216, 2219, 2221, 2222, 2225, 2232, 2239, 2245, 2249, 2251,\n",
       "        2254, 2255, 2260, 2261, 2264, 2266, 2270, 2276, 2280, 2281, 2283,\n",
       "        2284, 2285, 2289, 2295, 2296, 2297, 2299, 2304, 2305, 2309, 2310]),)"
      ]
     },
     "execution_count": 31,
     "metadata": {},
     "output_type": "execute_result"
    }
   ],
   "source": [
    "import numpy as np\n",
    "np.where(iso1.secondaries['mass']>iso1.primaries['mass'])"
   ]
  },
  {
   "cell_type": "code",
   "execution_count": 32,
   "metadata": {},
   "outputs": [
    {
     "data": {
      "text/html": [
       "&lt;Column name=&apos;source&apos; dtype=&apos;int64&apos; length=3&gt;\n",
       "<table>\n",
       "<tr><td>2</td></tr>\n",
       "<tr><td>3</td></tr>\n",
       "<tr><td>4</td></tr>\n",
       "</table>"
      ],
      "text/plain": [
       "<Column name='source' dtype='int64' length=3>\n",
       "2\n",
       "3\n",
       "4"
      ]
     },
     "execution_count": 32,
     "metadata": {},
     "output_type": "execute_result"
    }
   ],
   "source": [
    "np.unique(iso1.primaries[np.where(iso1.secondaries['mass']>iso1.primaries['mass'])]['source'])"
   ]
  },
  {
   "cell_type": "code",
   "execution_count": 33,
   "metadata": {},
   "outputs": [
    {
     "data": {
      "text/plain": [
       "9999.150186453753"
      ]
     },
     "execution_count": 33,
     "metadata": {},
     "output_type": "execute_result"
    }
   ],
   "source": [
    "clus_2.star_systems['systemMass'].sum()"
   ]
  },
  {
   "cell_type": "code",
   "execution_count": 34,
   "metadata": {},
   "outputs": [
    {
     "name": "stderr",
     "output_type": "stream",
     "text": [
      "/opt/anaconda3/envs/astroconda/lib/python3.7/site-packages/numpy/lib/histograms.py:829: RuntimeWarning: invalid value encountered in greater_equal\n",
      "  keep = (tmp_a >= first_edge)\n",
      "/opt/anaconda3/envs/astroconda/lib/python3.7/site-packages/numpy/lib/histograms.py:830: RuntimeWarning: invalid value encountered in less_equal\n",
      "  keep &= (tmp_a <= last_edge)\n"
     ]
    },
    {
     "ename": "KeyError",
     "evalue": "'log_a'",
     "output_type": "error",
     "traceback": [
      "\u001b[0;31m---------------------------------------------------------------------------\u001b[0m",
      "\u001b[0;31mKeyError\u001b[0m                                  Traceback (most recent call last)",
      "\u001b[0;32m<ipython-input-34-a6943e167586>\u001b[0m in \u001b[0;36m<module>\u001b[0;34m\u001b[0m\n\u001b[1;32m      1\u001b[0m \u001b[0mhist\u001b[0m\u001b[0;34m,\u001b[0m \u001b[0mbins\u001b[0m\u001b[0;34m,\u001b[0m \u001b[0mpatch\u001b[0m \u001b[0;34m=\u001b[0m \u001b[0mplt\u001b[0m\u001b[0;34m.\u001b[0m\u001b[0mhist\u001b[0m\u001b[0;34m(\u001b[0m\u001b[0mclus_1\u001b[0m\u001b[0;34m.\u001b[0m\u001b[0mcompanions\u001b[0m\u001b[0;34m[\u001b[0m\u001b[0;34m'log_a'\u001b[0m\u001b[0;34m]\u001b[0m\u001b[0;34m,\u001b[0m \u001b[0mbins\u001b[0m\u001b[0;34m=\u001b[0m\u001b[0;36m30\u001b[0m\u001b[0;34m,\u001b[0m \u001b[0mhisttype\u001b[0m\u001b[0;34m=\u001b[0m\u001b[0;34m'step'\u001b[0m\u001b[0;34m,\u001b[0m \u001b[0mlabel\u001b[0m\u001b[0;34m=\u001b[0m\u001b[0;34m'BPASS'\u001b[0m\u001b[0;34m)\u001b[0m\u001b[0;34m\u001b[0m\u001b[0;34m\u001b[0m\u001b[0m\n\u001b[0;32m----> 2\u001b[0;31m \u001b[0mplt\u001b[0m\u001b[0;34m.\u001b[0m\u001b[0mhist\u001b[0m\u001b[0;34m(\u001b[0m\u001b[0mclus_2\u001b[0m\u001b[0;34m.\u001b[0m\u001b[0mcompanions\u001b[0m\u001b[0;34m[\u001b[0m\u001b[0;34m'log_a'\u001b[0m\u001b[0;34m]\u001b[0m\u001b[0;34m,\u001b[0m \u001b[0mbins\u001b[0m\u001b[0;34m=\u001b[0m\u001b[0;36m30\u001b[0m\u001b[0;34m,\u001b[0m \u001b[0mhisttype\u001b[0m\u001b[0;34m=\u001b[0m\u001b[0;34m'step'\u001b[0m\u001b[0;34m,\u001b[0m \u001b[0mlabel\u001b[0m\u001b[0;34m=\u001b[0m\u001b[0;34m'MISTv.1'\u001b[0m\u001b[0;34m)\u001b[0m\u001b[0;34m\u001b[0m\u001b[0;34m\u001b[0m\u001b[0m\n\u001b[0m\u001b[1;32m      3\u001b[0m \u001b[0mplt\u001b[0m\u001b[0;34m.\u001b[0m\u001b[0mlegend\u001b[0m\u001b[0;34m(\u001b[0m\u001b[0;34m)\u001b[0m\u001b[0;34m\u001b[0m\u001b[0;34m\u001b[0m\u001b[0m\n",
      "\u001b[0;32m/opt/anaconda3/envs/astroconda/lib/python3.7/site-packages/astropy/table/table.py\u001b[0m in \u001b[0;36m__getitem__\u001b[0;34m(self, item)\u001b[0m\n\u001b[1;32m   1600\u001b[0m     \u001b[0;32mdef\u001b[0m \u001b[0m__getitem__\u001b[0m\u001b[0;34m(\u001b[0m\u001b[0mself\u001b[0m\u001b[0;34m,\u001b[0m \u001b[0mitem\u001b[0m\u001b[0;34m)\u001b[0m\u001b[0;34m:\u001b[0m\u001b[0;34m\u001b[0m\u001b[0;34m\u001b[0m\u001b[0m\n\u001b[1;32m   1601\u001b[0m         \u001b[0;32mif\u001b[0m \u001b[0misinstance\u001b[0m\u001b[0;34m(\u001b[0m\u001b[0mitem\u001b[0m\u001b[0;34m,\u001b[0m \u001b[0mstr\u001b[0m\u001b[0;34m)\u001b[0m\u001b[0;34m:\u001b[0m\u001b[0;34m\u001b[0m\u001b[0;34m\u001b[0m\u001b[0m\n\u001b[0;32m-> 1602\u001b[0;31m             \u001b[0;32mreturn\u001b[0m \u001b[0mself\u001b[0m\u001b[0;34m.\u001b[0m\u001b[0mcolumns\u001b[0m\u001b[0;34m[\u001b[0m\u001b[0mitem\u001b[0m\u001b[0;34m]\u001b[0m\u001b[0;34m\u001b[0m\u001b[0;34m\u001b[0m\u001b[0m\n\u001b[0m\u001b[1;32m   1603\u001b[0m         \u001b[0;32melif\u001b[0m \u001b[0misinstance\u001b[0m\u001b[0;34m(\u001b[0m\u001b[0mitem\u001b[0m\u001b[0;34m,\u001b[0m \u001b[0;34m(\u001b[0m\u001b[0mint\u001b[0m\u001b[0;34m,\u001b[0m \u001b[0mnp\u001b[0m\u001b[0;34m.\u001b[0m\u001b[0minteger\u001b[0m\u001b[0;34m)\u001b[0m\u001b[0;34m)\u001b[0m\u001b[0;34m:\u001b[0m\u001b[0;34m\u001b[0m\u001b[0;34m\u001b[0m\u001b[0m\n\u001b[1;32m   1604\u001b[0m             \u001b[0;32mreturn\u001b[0m \u001b[0mself\u001b[0m\u001b[0;34m.\u001b[0m\u001b[0mRow\u001b[0m\u001b[0;34m(\u001b[0m\u001b[0mself\u001b[0m\u001b[0;34m,\u001b[0m \u001b[0mitem\u001b[0m\u001b[0;34m)\u001b[0m\u001b[0;34m\u001b[0m\u001b[0;34m\u001b[0m\u001b[0m\n",
      "\u001b[0;32m/opt/anaconda3/envs/astroconda/lib/python3.7/site-packages/astropy/table/table.py\u001b[0m in \u001b[0;36m__getitem__\u001b[0;34m(self, item)\u001b[0m\n\u001b[1;32m    237\u001b[0m         \"\"\"\n\u001b[1;32m    238\u001b[0m         \u001b[0;32mif\u001b[0m \u001b[0misinstance\u001b[0m\u001b[0;34m(\u001b[0m\u001b[0mitem\u001b[0m\u001b[0;34m,\u001b[0m \u001b[0mstr\u001b[0m\u001b[0;34m)\u001b[0m\u001b[0;34m:\u001b[0m\u001b[0;34m\u001b[0m\u001b[0;34m\u001b[0m\u001b[0m\n\u001b[0;32m--> 239\u001b[0;31m             \u001b[0;32mreturn\u001b[0m \u001b[0mOrderedDict\u001b[0m\u001b[0;34m.\u001b[0m\u001b[0m__getitem__\u001b[0m\u001b[0;34m(\u001b[0m\u001b[0mself\u001b[0m\u001b[0;34m,\u001b[0m \u001b[0mitem\u001b[0m\u001b[0;34m)\u001b[0m\u001b[0;34m\u001b[0m\u001b[0;34m\u001b[0m\u001b[0m\n\u001b[0m\u001b[1;32m    240\u001b[0m         \u001b[0;32melif\u001b[0m \u001b[0misinstance\u001b[0m\u001b[0;34m(\u001b[0m\u001b[0mitem\u001b[0m\u001b[0;34m,\u001b[0m \u001b[0;34m(\u001b[0m\u001b[0mint\u001b[0m\u001b[0;34m,\u001b[0m \u001b[0mnp\u001b[0m\u001b[0;34m.\u001b[0m\u001b[0minteger\u001b[0m\u001b[0;34m)\u001b[0m\u001b[0;34m)\u001b[0m\u001b[0;34m:\u001b[0m\u001b[0;34m\u001b[0m\u001b[0;34m\u001b[0m\u001b[0m\n\u001b[1;32m    241\u001b[0m             \u001b[0;32mreturn\u001b[0m \u001b[0mself\u001b[0m\u001b[0;34m.\u001b[0m\u001b[0mvalues\u001b[0m\u001b[0;34m(\u001b[0m\u001b[0;34m)\u001b[0m\u001b[0;34m[\u001b[0m\u001b[0mitem\u001b[0m\u001b[0;34m]\u001b[0m\u001b[0;34m\u001b[0m\u001b[0;34m\u001b[0m\u001b[0m\n",
      "\u001b[0;31mKeyError\u001b[0m: 'log_a'"
     ]
    },
    {
     "data": {
      "image/png": "[encoded data removed]",
      "text/plain": [
       "<Figure size 432x288 with 1 Axes>"
      ]
     },
     "metadata": {
      "needs_background": "light"
     },
     "output_type": "display_data"
    }
   ],
   "source": [
    "hist, bins, patch = plt.hist(clus_1.companions['log_a'], bins=30, histtype='step', label='BPASS')\n",
    "plt.hist(clus_2.companions['log_a'], bins=30, histtype='step', label='MISTv.1')\n",
    "plt.legend()"
   ]
  },
  {
   "cell_type": "code",
   "execution_count": null,
   "metadata": {},
   "outputs": [],
   "source": []
  },
  {
   "cell_type": "code",
   "execution_count": null,
   "metadata": {},
   "outputs": [],
   "source": []
  },
  {
   "cell_type": "code",
   "execution_count": null,
   "metadata": {},
   "outputs": [],
   "source": []
  },
  {
   "cell_type": "code",
   "execution_count": null,
   "metadata": {},
   "outputs": [],
   "source": []
  },
  {
   "cell_type": "code",
   "execution_count": null,
   "metadata": {},
   "outputs": [],
   "source": []
  }
 ],
 "metadata": {
  "kernelspec": {
   "display_name": "astroconda",
   "language": "python",
   "name": "astroconda"
  },
  "language_info": {
   "codemirror_mode": {
    "name": "ipython",
    "version": 3
   },
   "file_extension": ".py",
   "mimetype": "text/x-python",
   "name": "python",
   "nbconvert_exporter": "python",
   "pygments_lexer": "ipython3",
   "version": "3.7.3"
  }
 },
 "nbformat": 4,
 "nbformat_minor": 2
}
