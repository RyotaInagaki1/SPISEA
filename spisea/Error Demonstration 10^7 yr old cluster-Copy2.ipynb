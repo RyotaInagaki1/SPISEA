{
 "cells": [
  {
   "cell_type": "markdown",
   "metadata": {},
   "source": [
    "## Testing the BPASS cluster at 10^7 years age.\n",
    "Here, I try to create a 10000 solar mass BPASS cluster and ResolvedCluster. **This is to demonstrate the issue I have with the mass-matching inside of the Binary_Cluster implementation.**"
   ]
  },
  {
   "cell_type": "code",
   "execution_count": null,
   "metadata": {},
   "outputs": [
    {
     "name": "stderr",
     "output_type": "stream",
     "text": [
      "/opt/anaconda3/envs/astroconda/lib/python3.7/site-packages/pysynphot/locations.py:346: UserWarning: Extinction files not found in /g/lu/models/cdbs/extinction\n",
      "  warnings.warn('Extinction files not found in %s' % (extdir, ))\n",
      "/opt/anaconda3/envs/astroconda/lib/python3.7/site-packages/pysynphot/refs.py:125: UserWarning: No thermal tables found, no thermal calculations can be performed. No files found for /g/lu/models/cdbs/mtab/*_tmt.fits\n",
      "  'no thermal calculations can be performed. ' + str(e))\n",
      "/opt/anaconda3/envs/astroconda/lib/python3.7/site-packages/astropy/units/quantity.py:477: RuntimeWarning: invalid value encountered in true_divide\n",
      "  result = super().__array_ufunc__(function, method, *arrays, **kwargs)\n",
      "/u/ryotainagaki/Desktop/PyPopStar/spisea/evolution.py:1771: RuntimeWarning: overflow encountered in power\n",
      "  (1 / cs.au) * un.m)\n",
      "/opt/anaconda3/envs/astroconda/lib/python3.7/site-packages/astropy/table/column.py:1020: RuntimeWarning: invalid value encountered in greater\n",
      "  result = getattr(super(), op)(other)\n",
      "/opt/anaconda3/envs/astroconda/lib/python3.7/site-packages/astropy/table/column.py:1020: RuntimeWarning: invalid value encountered in less_equal\n",
      "  result = getattr(super(), op)(other)\n",
      "/opt/anaconda3/envs/astroconda/lib/python3.7/site-packages/astropy/units/quantity.py:477: RuntimeWarning: divide by zero encountered in true_divide\n",
      "  result = super().__array_ufunc__(function, method, *arrays, **kwargs)\n"
     ]
    },
    {
     "name": "stdout",
     "output_type": "stream",
     "text": [
      "Changing to T= 50000 for T= 60160 logg=8.71\n",
      "Changing to logg=5.00 for T= 60160 logg=8.71\n",
      "Changing to T= 50000 for T= 50085 logg=8.82\n",
      "Changing to logg=5.00 for T= 50085 logg=8.82\n",
      "Changing to logg=5.00 for T= 49702 logg=9.10\n",
      "Changing to T= 50000 for T= 64620 logg=8.69\n",
      "Changing to logg=5.00 for T= 64620 logg=8.69\n",
      "Changing to T= 50000 for T= 53296 logg=8.79\n",
      "Changing to logg=5.00 for T= 53296 logg=8.79\n",
      "Changing to T= 50000 for T= 75621 logg=8.66\n",
      "Changing to logg=5.00 for T= 75621 logg=8.66\n",
      "Changing to T= 50000 for T= 53966 logg=9.24\n",
      "Changing to logg=5.00 for T= 53966 logg=9.24\n",
      "Changing to T= 50000 for T= 50718 logg=8.85\n",
      "Changing to logg=5.00 for T= 50718 logg=8.85\n",
      "Changing to T= 50000 for T=100000 logg=8.64\n",
      "Changing to logg=5.00 for T=100000 logg=8.64\n",
      "Changing to logg=5.00 for T= 47667 logg=8.88\n",
      "Changing to logg=5.00 for T= 47530 logg=9.02\n",
      "Changing to T= 50000 for T= 56329 logg=8.74\n",
      "Changing to logg=5.00 for T= 56329 logg=8.74\n",
      "Changing to T= 50000 for T= 51229 logg=9.29\n",
      "Changing to logg=5.00 for T= 51229 logg=9.29\n",
      "Changing to T= 50000 for T= 51372 logg=9.29\n",
      "Changing to logg=5.00 for T= 51372 logg=9.29\n",
      "Changing to logg=5.00 for T= 46425 logg=8.98\n",
      "Changing to logg=5.00 for T= 49887 logg=8.96\n",
      "Changing to logg=5.00 for T= 48720 logg=8.92\n",
      "Changing to logg=5.00 for T= 46489 logg=5.36\n",
      "Changing to T= 50000 for T= 50035 logg=8.97\n",
      "Changing to logg=5.00 for T= 50035 logg=8.97\n",
      "Changing to logg=5.00 for T= 33948 logg=8.42\n",
      "Changing to T= 50000 for T= 62444 logg=8.63\n",
      "Changing to logg=5.00 for T= 62444 logg=8.63\n",
      "Changing to T= 50000 for T= 60141 logg=5.53\n",
      "Changing to logg=5.00 for T= 60141 logg=5.53\n",
      "Changing to T= 50000 for T=100000 logg=8.63\n",
      "Changing to logg=5.00 for T=100000 logg=8.63\n",
      "Changing to T= 50000 for T=100000 logg=8.63\n",
      "Changing to logg=5.00 for T=100000 logg=8.63\n",
      "Changing to T= 50000 for T=100000 logg=8.63\n",
      "Changing to logg=5.00 for T=100000 logg=8.63\n",
      "Changing to T= 50000 for T= 54038 logg=8.81\n",
      "Changing to logg=5.00 for T= 54038 logg=8.81\n",
      "Changing to logg=5.00 for T= 37872 logg=8.29\n",
      "Changing to T= 50000 for T=100000 logg=8.63\n",
      "Changing to logg=5.00 for T=100000 logg=8.63\n",
      "Changing to T= 50000 for T= 50272 logg=8.97\n",
      "Changing to logg=5.00 for T= 50272 logg=8.97\n",
      "Changing to T= 50000 for T= 50817 logg=9.28\n",
      "Changing to logg=5.00 for T= 50817 logg=9.28\n",
      "Changing to T= 50000 for T= 50272 logg=8.97\n",
      "Changing to logg=5.00 for T= 50272 logg=8.97\n",
      "Changing to logg=5.00 for T= 34344 logg=8.42\n",
      "Changing to T= 50000 for T= 50272 logg=8.97\n",
      "Changing to logg=5.00 for T= 50272 logg=8.97\n",
      "Changing to T= 50000 for T=100000 logg=8.63\n",
      "Changing to logg=5.00 for T=100000 logg=8.63\n",
      "Changing to logg=5.00 for T= 43707 logg=5.10\n",
      "Changing to logg=5.00 for T= 40542 logg=5.46\n",
      "Changing to T= 50000 for T=100000 logg=8.63\n",
      "Changing to logg=5.00 for T=100000 logg=8.63\n",
      "Changing to T= 50000 for T=100000 logg=8.71\n",
      "Changing to logg=5.00 for T=100000 logg=8.71\n",
      "Changing to T= 50000 for T= 50831 logg=9.28\n",
      "Changing to logg=5.00 for T= 50831 logg=9.28\n",
      "Changing to T= 50000 for T=100000 logg=9.07\n",
      "Changing to logg=5.00 for T=100000 logg=9.07\n",
      "Changing to logg=5.00 for T= 33736 logg=8.42\n",
      "Changing to T= 50000 for T= 50336 logg=8.69\n",
      "Changing to logg=5.00 for T= 50336 logg=8.69\n",
      "Changing to T= 50000 for T=100000 logg=8.63\n",
      "Changing to logg=5.00 for T=100000 logg=8.63\n",
      "Changing to T= 50000 for T= 50962 logg=9.28\n",
      "Changing to logg=5.00 for T= 50962 logg=9.28\n",
      "Changing to T= 50000 for T=100000 logg=8.63\n",
      "Changing to logg=5.00 for T=100000 logg=8.63\n",
      "Changing to logg=5.00 for T= 46289 logg=5.27\n",
      "Changing to logg=4.50 for T= 39443 logg=4.38\n",
      "Changing to logg=5.00 for T= 46438 logg=5.35\n",
      "Changing to logg=5.00 for T= 46419 logg=5.34\n",
      "Changing to logg=5.00 for T= 46450 logg=5.35\n",
      "Changing to T= 50000 for T= 51079 logg=9.28\n",
      "Changing to logg=5.00 for T= 51079 logg=9.28\n",
      "Changing to T= 50000 for T= 50275 logg=8.97\n",
      "Changing to logg=5.00 for T= 50275 logg=8.97\n",
      "Changing to T= 50000 for T= 54051 logg=8.81\n",
      "Changing to logg=5.00 for T= 54051 logg=8.81\n",
      "Changing to T= 50000 for T=100000 logg=8.63\n",
      "Changing to logg=5.00 for T=100000 logg=8.63\n",
      "Changing to T= 50000 for T=100000 logg=8.63\n",
      "Changing to logg=5.00 for T=100000 logg=8.63\n",
      "Changing to T= 50000 for T= 51131 logg=9.29\n",
      "Changing to logg=5.00 for T= 51131 logg=9.29\n",
      "Changing to logg=5.00 for T= 38340 logg=5.50\n",
      "Changing to T= 50000 for T= 50817 logg=9.28\n",
      "Changing to logg=5.00 for T= 50817 logg=9.28\n",
      "Changing to T= 50000 for T= 54044 logg=8.81\n",
      "Changing to logg=5.00 for T= 54044 logg=8.81\n",
      "Changing to T= 50000 for T= 50272 logg=8.97\n",
      "Changing to logg=5.00 for T= 50272 logg=8.97\n",
      "Changing to T= 50000 for T= 94737 logg=4.90\n",
      "Changing to logg=5.00 for T= 94737 logg=4.90\n",
      "Changing to T= 50000 for T= 50817 logg=9.28\n",
      "Changing to logg=5.00 for T= 50817 logg=9.28\n",
      "Changing to T= 50000 for T= 50009 logg=8.96\n",
      "Changing to logg=5.00 for T= 50009 logg=8.96\n",
      "Changing to T= 50000 for T= 50817 logg=9.28\n",
      "Changing to logg=5.00 for T= 50817 logg=9.28\n",
      "Changing to T= 50000 for T= 50274 logg=8.97\n",
      "Changing to logg=5.00 for T= 50274 logg=8.97\n",
      "Changing to logg=5.00 for T= 46241 logg=5.32\n",
      "Changing to T= 50000 for T= 50085 logg=5.51\n",
      "Changing to logg=5.00 for T= 50085 logg=5.51\n",
      "Changing to logg=5.00 for T= 44905 logg=5.44\n",
      "Changing to T= 50000 for T= 50261 logg=8.97\n",
      "Changing to logg=5.00 for T= 50261 logg=8.97\n",
      "Changing to logg=5.00 for T= 33577 logg=8.41\n",
      "Changing to T= 50000 for T= 50272 logg=8.97\n",
      "Changing to logg=5.00 for T= 50272 logg=8.97\n",
      "Changing to T= 50000 for T=100000 logg=8.63\n",
      "Changing to logg=5.00 for T=100000 logg=8.63\n",
      "Changing to T= 50000 for T= 50288 logg=8.97\n",
      "Changing to logg=5.00 for T= 50288 logg=8.97\n",
      "Changing to logg=5.00 for T= 48805 logg=9.21\n",
      "Changing to logg=5.00 for T= 41801 logg=5.63\n",
      "Changing to T= 50000 for T= 50820 logg=9.28\n",
      "Changing to logg=5.00 for T= 50820 logg=9.28\n",
      "Changing to T= 50000 for T= 57436 logg=9.21\n",
      "Changing to logg=5.00 for T= 57436 logg=9.21\n",
      "Changing to T= 50000 for T=100000 logg=8.63\n",
      "Changing to logg=5.00 for T=100000 logg=8.63\n",
      "Changing to T= 50000 for T= 50272 logg=8.97\n",
      "Changing to logg=5.00 for T= 50272 logg=8.97\n",
      "Changing to T= 50000 for T= 50067 logg=8.97\n",
      "Changing to logg=5.00 for T= 50067 logg=8.97\n",
      "Changing to logg=5.00 for T= 36878 logg=5.65\n",
      "Changing to T= 50000 for T= 50817 logg=9.28\n",
      "Changing to logg=5.00 for T= 50817 logg=9.28\n",
      "Changing to T= 50000 for T= 50817 logg=9.28\n",
      "Changing to logg=5.00 for T= 50817 logg=9.28\n",
      "Changing to T= 50000 for T= 54015 logg=8.81\n",
      "Changing to logg=5.00 for T= 54015 logg=8.81\n",
      "Changing to logg=5.00 for T= 34200 logg=8.43\n",
      "Changing to logg=5.00 for T= 48904 logg=9.21\n",
      "Changing to T= 50000 for T= 50109 logg=8.97\n",
      "Changing to logg=5.00 for T= 50109 logg=8.97\n",
      "Changing to T= 50000 for T= 50272 logg=8.97\n",
      "Changing to logg=5.00 for T= 50272 logg=8.97\n",
      "Changing to T= 50000 for T= 50267 logg=8.97\n",
      "Changing to logg=5.00 for T= 50267 logg=8.97\n",
      "Changing to T= 50000 for T= 67478 logg=8.91\n",
      "Changing to logg=5.00 for T= 67478 logg=8.91\n",
      "Changing to logg=5.00 for T= 35069 logg=8.36\n",
      "Changing to T= 50000 for T=100000 logg=8.63\n",
      "Changing to logg=5.00 for T=100000 logg=8.63\n",
      "Changing to T= 50000 for T= 90784 logg=4.79\n",
      "Changing to logg=5.00 for T= 90784 logg=4.79\n",
      "Changing to logg=5.00 for T= 34323 logg=8.40\n",
      "Changing to T= 50000 for T= 50817 logg=9.28\n",
      "Changing to logg=5.00 for T= 50817 logg=9.28\n",
      "Changing to T= 50000 for T= 50817 logg=9.28\n",
      "Changing to logg=5.00 for T= 50817 logg=9.28\n",
      "Changing to T= 50000 for T= 53964 logg=8.81\n",
      "Changing to logg=5.00 for T= 53964 logg=8.81\n",
      "Changing to T= 50000 for T= 50100 logg=8.97\n",
      "Changing to logg=5.00 for T= 50100 logg=8.97\n",
      "Changing to logg=5.00 for T= 44669 logg=5.49\n"
     ]
    }
   ],
   "source": [
    "import spisea\n",
    "from spisea import evolution, synthetic\n",
    "import math\n",
    "# Check if the evolution class works fine\n",
    "import time\n",
    "import numpy as np\n",
    "t1=time.time()\n",
    "bps=evolution.BPASS()\n",
    "iso1=synthetic.Isochrone_Binary(8.0, 0.7, 100,math.log10(1), mass_sampling=1, filepath='/g/lu/scratch/ryotainagaki/BPASS_iso_filesTimedIsolated/')"
   ]
  },
  {
   "cell_type": "code",
   "execution_count": null,
   "metadata": {},
   "outputs": [],
   "source": [
    "iso1.primaries[np.where(iso1.primaries['mass']< 0)]"
   ]
  },
  {
   "cell_type": "code",
   "execution_count": null,
   "metadata": {},
   "outputs": [],
   "source": [
    "iso1.secondaries[np.where(iso1.secondaries['mass'] < 0)]"
   ]
  },
  {
   "cell_type": "code",
   "execution_count": null,
   "metadata": {},
   "outputs": [],
   "source": [
    "iso1.secondaries[np.where(iso1.singles['mass'] < 0)]"
   ]
  },
  {
   "cell_type": "markdown",
   "metadata": {},
   "source": [
    "For a sanity check, we can see that the primaries, secondaries, and single stars have phasees of 5 or of 101. Note that we will have a phase of 110 in order to indicate a mystery compact remnant that BPASS provides for NEWSECMODS (secondary star models with compact primaries). This is since we haven't added neutron stars or black holes yet. Stars with phase of -99 exist, and those are the secondary stars that have already merged."
   ]
  },
  {
   "cell_type": "code",
   "execution_count": null,
   "metadata": {},
   "outputs": [],
   "source": [
    "iso2=synthetic.IsochronePhot(7.0, 0.7, 100, math.log10(1), mass_sampling =1 , recomp=True) # New MIST v.1 isochrone for same metallicity"
   ]
  },
  {
   "cell_type": "code",
   "execution_count": null,
   "metadata": {},
   "outputs": [],
   "source": [
    "from spisea import imf\n",
    "from spisea.imf import imf, multiplicity\n",
    "from spisea import ifmr"
   ]
  },
  {
   "cell_type": "markdown",
   "metadata": {},
   "source": [
    "Make the clusters corresponding to the binary star isochrone and the MISTv.1 isochrone"
   ]
  },
  {
   "cell_type": "code",
   "execution_count": null,
   "metadata": {},
   "outputs": [],
   "source": [
    "clus_1=synthetic.Binary_Cluster(iso1, imf.IMFSalpeter1955(multiplicity=multiplicity.MultiplicityResolvedDK()), 10000, ifmr=ifmr.IFMR_Spera15())\n",
    "clus_2=synthetic.ResolvedCluster(iso2, imf.IMFSalpeter1955(multiplicity=multiplicity.MultiplicityResolvedDK()), 10000, ifmr=ifmr.IFMR_Spera15())"
   ]
  },
  {
   "cell_type": "code",
   "execution_count": null,
   "metadata": {},
   "outputs": [],
   "source": []
  },
  {
   "cell_type": "code",
   "execution_count": null,
   "metadata": {},
   "outputs": [],
   "source": [
    "from scipy.spatial import cKDTree as KDTree\n",
    "primary_mass = 3.907104476879689\n",
    "secondary_mass = 2.0712811580188424\n",
    "loga=0.028763045199171167\n",
    "iso = iso1"
   ]
  },
  {
   "cell_type": "code",
   "execution_count": null,
   "metadata": {},
   "outputs": [],
   "source": [
    "kd = KDTree(np.transpose(np.array([iso.primaries['mass']/primary_mass, iso.secondaries['mass']/secondary_mass, iso.secondaries['log_a']/loga])))"
   ]
  },
  {
   "cell_type": "code",
   "execution_count": null,
   "metadata": {},
   "outputs": [],
   "source": [
    "q_results = kd.query(np.array([[1, 1, 1]]))"
   ]
  },
  {
   "cell_type": "code",
   "execution_count": null,
   "metadata": {},
   "outputs": [],
   "source": [
    "q_results"
   ]
  },
  {
   "cell_type": "code",
   "execution_count": null,
   "metadata": {},
   "outputs": [],
   "source": [
    "iso1.primaries[3870]"
   ]
  },
  {
   "cell_type": "code",
   "execution_count": null,
   "metadata": {},
   "outputs": [],
   "source": [
    "iso1.secondaries[3870]"
   ]
  },
  {
   "cell_type": "markdown",
   "metadata": {},
   "source": [
    "Let's make sure that I am getting just about enough star mass for my cluster. (It was a bug before I used an adjustment factor.)"
   ]
  },
  {
   "cell_type": "code",
   "execution_count": null,
   "metadata": {},
   "outputs": [],
   "source": [
    "clus_1.star_systems['systemMass'].sum()"
   ]
  },
  {
   "cell_type": "code",
   "execution_count": null,
   "metadata": {},
   "outputs": [],
   "source": [
    "clus_1.companions['mass']"
   ]
  },
  {
   "cell_type": "code",
   "execution_count": null,
   "metadata": {},
   "outputs": [],
   "source": [
    "import matplotlib.pyplot as plt\n",
    "plt.hist(iso1.primaries['mass'], bins=30)\n",
    "plt.yscale('log')"
   ]
  },
  {
   "cell_type": "code",
   "execution_count": null,
   "metadata": {},
   "outputs": [],
   "source": [
    "import matplotlib.pyplot as plt\n",
    "plt.hist(iso1.secondaries['mass'], bins=30)\n",
    "plt.yscale('log')"
   ]
  },
  {
   "cell_type": "code",
   "execution_count": null,
   "metadata": {},
   "outputs": [],
   "source": [
    "import matplotlib.pyplot as plt\n",
    "plt.hist(iso1.singles['mass'], bins=30)\n",
    "plt.yscale('log')"
   ]
  },
  {
   "cell_type": "code",
   "execution_count": null,
   "metadata": {},
   "outputs": [],
   "source": [
    "import matplotlib.pyplot as plt\n",
    "plt.hist(clus_1.star_systems['systemMass'], bins=30)\n",
    "plt.yscale('log')"
   ]
  },
  {
   "cell_type": "code",
   "execution_count": null,
   "metadata": {},
   "outputs": [],
   "source": [
    "import matplotlib.pyplot as plt\n",
    "plt.hist(clus_2.star_systems['systemMass'], bins=30)\n",
    "plt.yscale('log')"
   ]
  },
  {
   "cell_type": "code",
   "execution_count": null,
   "metadata": {},
   "outputs": [],
   "source": [
    "hist, bins, patch = plt.hist(clus_1.star_systems['systemMass'], bins=30, histtype='step', label='BPASS')\n",
    "plt.hist(clus_2.star_systems['systemMass'], bins=bins, histtype='step', label='MISTv.1')\n",
    "plt.yscale('log')\n",
    "plt.legend()"
   ]
  },
  {
   "cell_type": "code",
   "execution_count": null,
   "metadata": {},
   "outputs": [],
   "source": [
    "hist, bins, patch = plt.hist(clus_1.star_systems['systemMass'], bins=30, histtype='step', label='BPASS')\n",
    "plt.hist(clus_2.star_systems['systemMass'], bins=bins, histtype='step', label='MISTv.1')\n",
    "plt.yscale('log')\n",
    "plt.legend()"
   ]
  },
  {
   "cell_type": "code",
   "execution_count": null,
   "metadata": {},
   "outputs": [],
   "source": [
    "hist, bins, patch = plt.hist(clus_1.star_systems['mass'], bins=30, histtype='step', label='BPASS')\n",
    "plt.hist(clus_2.star_systems['mass'], bins=bins, histtype='step', label='MISTv.1')\n",
    "plt.yscale('log')\n",
    "plt.legend()"
   ]
  },
  {
   "cell_type": "code",
   "execution_count": null,
   "metadata": {},
   "outputs": [],
   "source": [
    "hist, bins, patch = plt.hist(clus_1.companions['mass'], bins=30, histtype='step', label='BPASS')\n",
    "plt.hist(clus_2.companions['mass'], bins=30, histtype='step', label='MISTv.1')\n",
    "\n",
    "plt.yscale('log')\n",
    "plt.legend()"
   ]
  },
  {
   "cell_type": "code",
   "execution_count": null,
   "metadata": {},
   "outputs": [],
   "source": []
  },
  {
   "cell_type": "code",
   "execution_count": null,
   "metadata": {},
   "outputs": [],
   "source": [
    "# Comparison with the MIST v1 cluster\n",
    "clus_2.star_systems['systemMass'].sum()"
   ]
  },
  {
   "cell_type": "code",
   "execution_count": null,
   "metadata": {},
   "outputs": [],
   "source": [
    "import matplotlib.pyplot as plt\n",
    "plt.hist(iso1.primaries['mass'], bins=30)\n",
    "plt.yscale('log')"
   ]
  },
  {
   "cell_type": "code",
   "execution_count": null,
   "metadata": {},
   "outputs": [],
   "source": [
    "import matplotlib.pyplot as plt\n",
    "plt.hist(iso1.singles['mass'], bins=30)\n",
    "plt.yscale('log')"
   ]
  },
  {
   "cell_type": "code",
   "execution_count": null,
   "metadata": {},
   "outputs": [],
   "source": [
    "import matplotlib.pyplot as plt\n",
    "plt.hist(iso1.secondaries['mass'], bins=30)\n",
    "plt.yscale('log')"
   ]
  },
  {
   "cell_type": "code",
   "execution_count": null,
   "metadata": {},
   "outputs": [],
   "source": [
    "import numpy as np\n",
    "np.where(iso1.secondaries['mass']>iso1.primaries['mass'])"
   ]
  },
  {
   "cell_type": "code",
   "execution_count": null,
   "metadata": {},
   "outputs": [],
   "source": [
    "np.unique(iso1.primaries[np.where(iso1.secondaries['mass']>iso1.primaries['mass'])]['source'])"
   ]
  },
  {
   "cell_type": "code",
   "execution_count": null,
   "metadata": {},
   "outputs": [],
   "source": [
    "clus_2.star_systems['systemMass'].sum()"
   ]
  },
  {
   "cell_type": "code",
   "execution_count": null,
   "metadata": {},
   "outputs": [],
   "source": [
    "hist, bins, patch = plt.hist(clus_1.companions['log_a'], bins=30, histtype='step', label='BPASS')\n",
    "plt.hist(clus_2.companions['log_a'], bins=30, histtype='step', label='MISTv.1')\n",
    "plt.legend()"
   ]
  },
  {
   "cell_type": "code",
   "execution_count": null,
   "metadata": {},
   "outputs": [],
   "source": []
  },
  {
   "cell_type": "code",
   "execution_count": null,
   "metadata": {},
   "outputs": [],
   "source": []
  },
  {
   "cell_type": "code",
   "execution_count": null,
   "metadata": {},
   "outputs": [],
   "source": []
  },
  {
   "cell_type": "code",
   "execution_count": null,
   "metadata": {},
   "outputs": [],
   "source": []
  },
  {
   "cell_type": "code",
   "execution_count": null,
   "metadata": {},
   "outputs": [],
   "source": []
  }
 ],
 "metadata": {
  "kernelspec": {
   "display_name": "astroconda",
   "language": "python",
   "name": "astroconda"
  },
  "language_info": {
   "codemirror_mode": {
    "name": "ipython",
    "version": 3
   },
   "file_extension": ".py",
   "mimetype": "text/x-python",
   "name": "python",
   "nbconvert_exporter": "python",
   "pygments_lexer": "ipython3",
   "version": "3.7.3"
  }
 },
 "nbformat": 4,
 "nbformat_minor": 2
}
